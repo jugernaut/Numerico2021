{
  "nbformat": 4,
  "nbformat_minor": 0,
  "metadata": {
    "kernelspec": {
      "display_name": "Python 3.7 (tensorflow)",
      "language": "python",
      "name": "tensorflow"
    },
    "language_info": {
      "codemirror_mode": {
        "name": "ipython",
        "version": 3
      },
      "file_extension": ".py",
      "mimetype": "text/x-python",
      "name": "python",
      "nbconvert_exporter": "python",
      "pygments_lexer": "ipython3",
      "version": "3.7.7"
    },
    "colab": {
      "name": "Complejidad_y_Convergencia.ipynb",
      "provenance": [],
      "toc_visible": true,
      "include_colab_link": true
    },
    "widgets": {
      "application/vnd.jupyter.widget-state+json": {
        "e1ae26d5cbaf45a393f19dba86bd17eb": {
          "model_module": "@jupyter-widgets/controls",
          "model_name": "VBoxModel",
          "state": {
            "_view_name": "VBoxView",
            "_dom_classes": [
              "widget-interact"
            ],
            "_model_name": "VBoxModel",
            "_view_module": "@jupyter-widgets/controls",
            "_model_module_version": "1.5.0",
            "_view_count": null,
            "_view_module_version": "1.5.0",
            "box_style": "",
            "layout": "IPY_MODEL_170323b874a9454ca2e84dc06cd9cef8",
            "_model_module": "@jupyter-widgets/controls",
            "children": [
              "IPY_MODEL_80300b82856349638e30a34597f9d6b0",
              "IPY_MODEL_b3f661499fca43929adf80ae51153a33"
            ]
          }
        },
        "170323b874a9454ca2e84dc06cd9cef8": {
          "model_module": "@jupyter-widgets/base",
          "model_name": "LayoutModel",
          "state": {
            "_view_name": "LayoutView",
            "grid_template_rows": null,
            "right": null,
            "justify_content": null,
            "_view_module": "@jupyter-widgets/base",
            "overflow": null,
            "_model_module_version": "1.2.0",
            "_view_count": null,
            "flex_flow": null,
            "width": null,
            "min_width": null,
            "border": null,
            "align_items": null,
            "bottom": null,
            "_model_module": "@jupyter-widgets/base",
            "top": null,
            "grid_column": null,
            "overflow_y": null,
            "overflow_x": null,
            "grid_auto_flow": null,
            "grid_area": null,
            "grid_template_columns": null,
            "flex": null,
            "_model_name": "LayoutModel",
            "justify_items": null,
            "grid_row": null,
            "max_height": null,
            "align_content": null,
            "visibility": null,
            "align_self": null,
            "height": null,
            "min_height": null,
            "padding": null,
            "grid_auto_rows": null,
            "grid_gap": null,
            "max_width": null,
            "order": null,
            "_view_module_version": "1.2.0",
            "grid_template_areas": null,
            "object_position": null,
            "object_fit": null,
            "grid_auto_columns": null,
            "margin": null,
            "display": null,
            "left": null
          }
        },
        "80300b82856349638e30a34597f9d6b0": {
          "model_module": "@jupyter-widgets/controls",
          "model_name": "IntSliderModel",
          "state": {
            "_view_name": "IntSliderView",
            "style": "IPY_MODEL_918a836d08dd458a99e276485b7a1e83",
            "_dom_classes": [],
            "description": "grado",
            "step": 1,
            "_model_name": "IntSliderModel",
            "orientation": "horizontal",
            "max": 10,
            "_view_module": "@jupyter-widgets/controls",
            "_model_module_version": "1.5.0",
            "value": 10,
            "_view_count": null,
            "disabled": false,
            "_view_module_version": "1.5.0",
            "min": 0,
            "continuous_update": true,
            "readout_format": "d",
            "description_tooltip": null,
            "readout": true,
            "_model_module": "@jupyter-widgets/controls",
            "layout": "IPY_MODEL_4f9829e35b4f44809c6e56a96580d8cb"
          }
        },
        "b3f661499fca43929adf80ae51153a33": {
          "model_module": "@jupyter-widgets/output",
          "model_name": "OutputModel",
          "state": {
            "_view_name": "OutputView",
            "msg_id": "",
            "_dom_classes": [],
            "_model_name": "OutputModel",
            "outputs": [
              {
                "output_type": "display_data",
                "metadata": {
                  "tags": [],
                  "needs_background": "light"
                },
                "image/png": "iVBORw0KGgoAAAANSUhEUgAAAZ4AAAEWCAYAAABWn/G6AAAABHNCSVQICAgIfAhkiAAAAAlwSFlzAAALEgAACxIB0t1+/AAAADh0RVh0U29mdHdhcmUAbWF0cGxvdGxpYiB2ZXJzaW9uMy4yLjIsIGh0dHA6Ly9tYXRwbG90bGliLm9yZy+WH4yJAAAgAElEQVR4nO3dd3xUVf7/8dcnhQQIRnqRlqyEFhJ6EZQEBKwoiogCUlZZRBTc1ZUVVHTdXd2fLotdEMUKqEjZr1hAExEEKdKRTlAggNQkQCDl/P6Ym3ESJmECk7kzmc/z8ZhHZu49c+97bibzyT33zrlijEEppZTylRC7AyillAouWniUUkr5lBYepZRSPqWFRymllE9p4VFKKeVTWniUUkr5lBYeFdRE5GoR2ebjdTYUkSwRCS0yvaKILBOR67y4rlQRuddby7uEHI1FxIhImN1ZlP208ChbWR+Mx0Ukwo71G2O+N8Y09fE6fzHGRBlj8orMehN40RjzpS/zFGUV4yzrdsoqGFkut4Z25lOBT//7ULYRkcbA1cBJoC/wyUUuJ8wYk+u9ZPYwxtxjdwZwFGMgCpy/oz3A5XZt4/Ly+1W/0z0eZad7gBXADGCo6wwRmSEib4jIIhHJFJHvRKSRy3wjIg+IyA5ghzXtPhHZKSLHRGSBiNSzpr8uInNcnvu8iHwjDkkiss9lXpqIPCoiG6z/9qeLSG0R+cLKsVhEqrq0/0REDorISRFZIiItXeZVFJEXRWSvNX+pNa1Qt5OI1LPyHrPy3+eyjEki8rGIvGetf7OItC9ug4pILxHZaq3vFUCKzB8hIj9be5lfuW5TT4jIcOv5mSKyW0T+5DJvk4jc7PI4XESOiEgbN8u50Gv+VEQ+EJEMYFhpMqoAYIzRm95suQE7gdFAOyAHqO0ybwaQCVwDRABTgKUu8w2wCKgGVAR6AEeAtlb7l4ElVttKwHYcH2BXW+3qW/OSgH0uy03DUQxrA1cAh4GfgDZAJPAt8JRL+xFAFWud/wXWucx7FUi1lhMKXGW1a2zlD7PaLQFes5bfGvgN6GHNmwRkAzdYy/gXsKKY7VnD2mb9gXDgYSAXuNeaf4u1zZvj6O2YCPxwgd9R0aw3An/AUdC6A6eBtta8vwKzXZ57C7CxmOVc6DXnALfi+Oe4ot3vVb1592Z7AL0F5w3oZn241LAebwUedpk/A5jl8jgKyAMaWI9NwQeV9Xg68O8i7XOAxtbjTsAxYC9wl0u7JM4vPINcHs8BXnd5/CAwr5jXdLmVK9r6wDwDJLpp5/wQBhpYr6uKy/x/ATOs+5OAxS7zWgBniln/Pa5FySoO+1wKzxfAH13mh1iFo1EJv6dCBcPN/HnAWOt+PRyF7zLr8afAXy/yNS+x+z2qt7K7aVebsstQ4GtjzBHr8UcU6W4Dfi24Y4zJwlE46rmbb03fW6T9URx7GxhjfgR24/gw/vgC2Q653D/j5nHB8Y9QEXlORHZZXUJpVpsa1i0S2HWBddUDjhljMl2m7S3IbTnocv80EFnM2WH1KLzNDIW3USNgioicEJETOLanFFlXiUTkehFZYXWRncCxJ1bDWt8BYBlwu4hcDlwPfFhMzgu95l9R5ZaeXKB8TkQqAgOAUBEp+FCNAC4XkURjzHprWgOX50Th6FY74LIo16HVD+D4YC1oXxmoDuy3Hj9greMAji6hf3nhpdyNozvpWhxFJxo4juPD/AiOLrI/AOuLeX5B7moiUsXlg7hhQe5SSqfwNhPXxzg+zP9hjHFXDC7IOvNwDo49q/nGmBwRmUfh40jvAvfi+GxZboxx9zo8ec06bH45pns8yg634uhqaYGjf781juMO3+P4UCtwg4h0E5EKwN9xdCMV95/wTGC4iLS2PiD/CfxojEkTkTjgWWAwMAT4q4i09sLrqAKcxbFnVclaJwDGmHzgbeA/1oH0UBHpIkVOG7dezw/Av0QkUkQSgD8CH1xEns+BliJym7VH9BBQx2X+G8DfCk6AEJFoEbmjFMuvgKN4/wbkisj1QO8ibebhOM42FnjP3UK8/JpVANLCo+wwFHjHOL7PcrDgBrwCDHLpRvoIeApHl1A7HIXDLWPMYuAJHP+Rp+PY0xhoLesD4HljzHpjzA7gceD9okXgIryHo4toP7AFx0kJrh4BNgKrrNfwPO7/5u7CcQzkADAXx8kLi0sbxuq2vAN4DkcxbIKj66tg/lwrwyyra3ATju4wT5efiaOYfYxjz+5uYEGRNmdw/A5igM9KWJxXXrMKTOLoBlbKv4jIDBwH/SfanUWVjog8CcQZY4r9R0EFNz3Go5TyGhGphqPbbIjdWZT/8puuNhF5W0QOi8gml2nVxPEFwh3Wz6rFPHeo1WaHiBQ9M0op5QPWl0B/Bb4wxiyxO4/yX37T1SYi1wBZwHvGmHhr2r9xnHb5nIiMB6oaYx4r8rxqwGqgPY4zYdYA7Ywxx336ApRSSnnEb/Z4rP+QjhWZfAuO0zOxft7q5ql9gEXGmGNWsVkEeG10X6WUUt7l78d4ahtj0q37B3EMY1LUFRT+stk+ivlCnIiMBEYCREZGtmvY0P8H2c3PzyckxDv/H+zcuZPLLruMWrVqeWV5BbyZsSxpzouXlZXDgQN7iI6+gtq1KwP+mdMdzeld27dvP2KMqXlJC7F76ATXG47TKze5PD5RZP5xN895BJjo8vgJ4JELrSsuLs4EgpSUFK8tq1mzZqZ///5eW14Bb2YsS5rz4j300CwDmNmz1zmn+WNOdzSndwGrTTkfMueQiNQFsH4edtNmP4W/nV2fi/vWd7lXt25d0tPTL9xQqSLWrdsChNC7t08vXaTKKX8vPAv4ffyuocB8N22+AnqLSFXrrLfe1jRVRJ06dTh48OCFGypVxK5dmwkP/wOXXx5pdxRVDvhN4RGRmcByoKmI7BORP+L4BnYvcVxz5VrrMSLSXkTeAjDGHMMxnMoq6/aMNU0VUbDHY/zkTEYVOH77bTM1arS8cEOlPOA3JxcYY+4qZlZPN21X4xiIsODx2zjGxVIlqFOnDqdPnyYrK4sqVarYHUcFiKysc5w7t4PY2NvtjqLKCb/Z41Flr27dugB6nEeVyqJF24E8EhNb2B1FlRNaeIJInTqOgYr1OI8qjdTUzQB0765dbco7tPAEEd3jURdDz2hT3qaFJ4joHo+6GHpGm/I2LTxBpFq1aoSHh+sejyoVPaNNeZsWniAiIvpdHlUqBWe0xcToiQXKe7TwBBkdvUCVRsEZba1b6x6P8h4tPEFG93hUaegZbaosaOEJMrrHo0pDz2hTZUELT5CpU6cOR44cIScnx+4oKgDoGW2qLGjhCTJ169bFGMPhw+4G+laqMD2jTZUFLTxBRr/LozylZ7SpsqKFJ8jo6AXKUwsX/gzk0bZtvN1RVDmjhSfI6B6P8tQXX6wB4Kab2tmcRJU3WniCTO3atQHd41EXtnLlKuAyeva80u4oqpzRwhNkIiIiqFatmu7xqAtKS1vN5Ze3IyxMPyaUd+k7Kgjpd3nUhWRknOX06fXExXWwO4oqh7TwBKGGDRuyd+9eu2MoP7ZgwSYgh65d29sdRZVDfl94RKSpiKxzuWWIyLgibZJE5KRLmyftyhsIYmNj2b17t90xlB/74ovVANx6qxYe5X1hdge4EGPMNqA1gIiEAvuBuW6afm+MucmX2QJVTEwMJ06c4Pjx41StWtXuOMoPrVmzGpHqdOvW2O4oqhzy+z2eInoCu4wx2k90CWJjYwHYs2ePzUmUv9q7dxXVqrUnJETsjqLKoUArPAOBmcXM6yIi60XkCxHRMT5KEBMTA2jhUe4dO3aG7OxNNGum3WyqbPh9V1sBEakA9AX+5mb2T0AjY0yWiNwAzAOauFnGSGAkQM2aNUlNTS27wF6SlZXl9ZxZWVkALFq0iOrVq3tlecG6LcuC3Tk//3wvkEfDhiX/jdid01Oa0w8ZYwLiBtwCfO1h2zSgRklt4uLiTCBISUkpk+VWq1bNjBo1yivLKquM3qY5PdO//8sGMCtX/lpiO7tzekpzehew2lzi53kgdbXdRTHdbCJSR0TEut8RRxfiUR9mCzixsbHa1abcWrt2NSEhdWjX7gq7o6hyKiC62kSkMtAL+JPLtFEAxpg3gP7A/SKSC5wBBlqVWRUjJiaGdevW2R1D+aF9+1ZRo4aeWKDKTkAUHmPMKaB6kWlvuNx/BXjF17kCWWxsLPPnzycvL4/Q0FC74yg/cfBgFmfP/kyLFgPsjqLKsUDqalNeFBMTw7lz5zhw4IDdUZQf+fTTtYChe3c9o02VHS08Qarguzw6goFytXixY8SC/v218Kiyo4UnSOmXSJU7q1YtJSysMfHxte2OosoxLTxBqmHDhoSEhOgej3LKzc0nPf07YmKS7Y6iyjktPEEqPDycBg0a6B6Pcpo/fzPGHKV79+52R1HlnBaeIBYTE6N7PMpp5sxUAIYO1cKjypYWniCml0dQrpYvTyUsrLGOSK3KnBaeIBYTE8PBgwc5ffq03VGUzQqO7zRunGR3FBUEtPAEsYIz29LS0uwNomxXcHwnKSnJ7igqCGjhCWJ6eQRVQI/vKF/SwhPE9EukqsCKFd8RGtpIj+8on9DCE8Rq1apFpUqVtPAEudzcfA4c0OM7yne08AQxESEmJka72oLc//63BWOO6PEd5TNaeIKcnlKtPvooFYBhw5LsjKGCiBaeIFewx6OXLwpey5enEhraUI/vKJ/RwhPkYmNjycrK4vDhw3ZHUTY4dy6PAwdSadQoye4oKoho4Qly8fHxAGzcuNHmJMoOb721HGOO0rfvjXZHUUFEC0+QS0hIAGD9+vU2J1F2eOed+UA4Dz/cx+4oKoho4QlyNWvWpG7dumzYsMHuKMoG69cvoFq1JBo2jLY7igoiAVF4RCRNRDaKyDoRWe1mvojISyKyU0Q2iEhbO3IGqoSEBN3jCUJffLGNnJzt9Ox5i91RVJAJiMJjSTbGtDbGuLsm7/VAE+s2Enjdp8kCXGJiIlu2bCEnJ8fuKMqHXnllAQAPP3yzzUlUsAmkwlOSW4D3jMMK4HIRqWt3qECRmJhITk4OW7dutTuK8qGlSxdQsWJrunRpaHcUFWTC7A7gIQN8LSIGeNMYM7XI/CuAX10e77Ompbs2EpGROPaIqFmzJqmpqWUW2FuysrLKPOfZs2cBmDVrFkePHi31832R0Rs05+/27s0iI+MHEhLGXPS6dHt6V6Dk9ApjjN/fgCusn7WA9cA1Reb/H9DN5fE3QPuSlhkXF2cCQUpKSpmv49y5c6ZChQrm0Ucfvajn+yKjN2jO39177wwDmPffX33Ry9Dt6V2BkhNYbS7xMz0gutqMMfutn4eBuUDHIk32Aw1cHte3pikPhIeH06JFCz3BIIgsXLiAkJAruPtuPQ9H+Z7fFx4RqSwiVQruA72BTUWaLQDusc5u6wycNMakozyWmJiop1QHiRMnsjlw4CuaN+9LSIjYHUcFIb8vPEBtYKmIrAdWAp8bY74UkVEiMspqsxDYDewEpgGj7YkauBISEjh48KAOnRMEXnxxEXCKgQP72h1FBSm/P7nAGLMbSHQz/Q2X+wZ4wJe5ypvERMcm3rBhA9dee63NaVRZeueddxGpyZ//3NPuKCpIBcIej/IBHTonOOzYcZT9+xfQuvUgKlUKtzuOClJaeBSgQ+cEiwkTZgE5jB8/zO4oKohp4VFOiYmJusdTzn3++QwqVmzNgAHn9V4r5TNaeJRTQkKCDp1Tjs2du4nTp1fTp89Qu6OoIKeFRznp0Dnl2z//+S4QxrPP3m13FBXktPAoJz3BoPzKzs7lp58+oE6dG2nZspbdcVSQ08KjnJo2bUqlSpX48ccf7Y6ivOz5578mP/8gw4YNszuKUlp41O/Cw8Pp1q0bKSkpdkdRXvbmm28hUp0JE26wO4pSWnhUYT169GDz5s0cOnTI7ijKSxYt2kF6+jw6dx5JVFQFu+MopYVHFZacnAwQPMOzB4Fx4/4DhPPaaw/aHUUpQAuPKqJt27ZUqVJFu9vKic2bD7Nlywzi4obQurVeG1H5By08qpCwsDC6d++uhaecGD36VSCbF1/8i91RlHLSwqPOk5yczPbt29m/Xy9pFMiOHDnN99+/Su3aN3PTTc3tjqOUkxYedZ6C4zy61xPYRo9+B2OOMnHio3ZHUaoQLTzqPImJiVStWlULTwDLzs5l7tz/ULlyJ0aP7mZ3HKUK0cKjzhMSEkJSUpIWngA2fPg0cnN3M3bs43qVUeV3tPAot5KTk9mzZw9paWl2R1Gl9MsvJ5k9+0mio7vz97/fbHccpc6jhUe51aNHD0CP8wSiAQP+hTFHeOWVF3VvR/klvy48ItJARFJEZIuIbBaRsW7aJInISRFZZ92etCNredOiRQtq1aqlhSfALF2axo8/TiY29h4GD25ndxyl3AqzO8AF5AJ/Mcb8JCJVgDUissgYs6VIu++NMTfZkK/cEhF69OjBV199RW5uLmFh/v5WUQCDBv0NCGXWrH/YHUWpYvn1Ho8xJt0Y85N1PxP4GbjC3lTBY8CAARw+fJjFixfbHUV5YOrU5fzyyyy6dfsLHTrUtzuOUsUSY4zdGTwiIo2BJUC8MSbDZXoSMAfYBxwAHjHGbC5mGSOBkQA1a9Zs9/HHH5dtaC/IysoiKirKlnWfO3eO/v3707FjRyZOnFhsOzszlkZ5zpmRkcPtt48hP/8Us2dPp0aNiDJK97vyvD3tECg5k5OT1xhj2l/SQowxfn8DooA1wG1u5l0GRFn3bwB2eLLMuLg4EwhSUlJsXf+oUaNMxYoVTUZGRrFt7M7oqfKcs23bhw1g/vWvr70fqBjleXvaIVByAqvNJX6m+3VXG4CIhOPYo/nQGPNZ0fnGmAxjTJZ1fyEQLiI1fByz3Bo8eDBnzpxh7ty5dkdRxfjvf1P56afJtGr1AOPH97I7jlIX5NeFR0QEmA78bIz5TzFt6ljtEJGOOF7TUd+lLN+uuuoqYmNjef/99+2OotzYty+DRx4ZRnj4lSxe/LzdcZTyiF8XHqArMATo4XK69A0iMkpERllt+gObRGQ98BIw0NodVF4gIgwePJhvvvlGBw31M/n5hqSkh8jL+5VXXnmPWrUq2x1JKY/4deExxiw1xogxJsEY09q6LTTGvGGMecNq84oxpqUxJtEY09kY84PducubwYMHY4xh5syZdkdRLm6/fQq7dr3LNddMZOTILnbHUcpjfl14lH9o0qQJnTp10u42P/L00wuZN+8v1Kt3G99885TdcZQqFS08yiNDhgxhw4YNrF692u4oQW/u3E1MmjSQihVbs3bte4SF6Z+xCiz6jlUeGTx4MFWrVuWpp/S/azutXr2fAQNuJiQkiu++m6/HdVRA0sKjPBIdHc1jjz3GwoULWbZsmd1xgtLy5b/QpUt3cnOP8Pbb83V0AhWwtPAoj40ZM4Y6derw+OOPoycO+taSJXu45hpH0Zk2bRFDh3awO5JSF00Lj/JY5cqVmTBhAkuWLGHRokV2xwkaixbtoEeP7uTlneT997/h3ns72x1JqUuihUeVyn333UejRo2YMGGC7vX4wLPPfkmfPh3Jzz/DrFkpeqkDVS5o4VGlEhERwaRJk1i9erUOo1OG8vMNvXv/kyeeuIGIiIZ8++2PDBiQaHcspbxCC48qtcGDB9OyZUtGjx5Nenq63XHKnT17sqhf/zYWLZpAo0YD2bv3B5KSYu2OpZTXaOFRpRYWFsasWbPIyMjgrrvuIi8vz+5I5UJ+vmH06A/54x+HkZ6+kL59X2T37g/1lGlV7mjhURclPj6eN954g++++463337b7jgB75tvdlK37s28/vpgIiNjmT9/LfPn/5mQELE7mlJep4VHXbR77rmHe++9l48++ojPP//c7jgBad26dOLjR3Pttc05fDiFfv3+y7x5/6Jv3xZ2R1OqzGjhUZfkpZde4sorr2TQoEF89913dscJGMuW7aVDh0dp0+ZKNm+eRnz8SNau3clnn42lQoVQu+MpVaa08KhLUrFiRZ599lnq1atH7969mT17tt2R/FZ+vuHll5dQv35/unWLZfXqyTRu3I9vvtnKxo2v0rp1XbsjKuUTpS48IlJZRPRfMuVUu3Ztli5dSqdOnRg4cCAvvPCCfsfHxYIFW+jadQIREbE89FB3Dhz4lk6dHmXFij3s2fMBPXr8we6ISvnUBQuPiISIyN0i8rmIHAa2AukiskVE/p+IXFn2MZW/q1atGl9//TUDBgzg0Ucf5aabbmL79u12x7JFRsZZ/v3vxbRr92ciIppxyy0t+eGH54iOjuO++97l8OF9rFjxHJ06NbA7qlK2CPOgTQqwGPgbsMkYkw8gItWAZOB5EZlrjPmg7GKqQBAZGcnMmTPp1KkTkyZNIj4+nrFjxzJx4kSio6Ptjldmduw4yqefrmHhwu/ZtGkpJ078CJwBIqhePYnk5DE89dQdxMfXtjuqUn7Bk8JzrTEmp+hEY8wxYA4wR0TCvZ5MBaSQkBD+/Oc/M2jQIB5//HFefPFFXn/9dfr378/QoUPp3r07ISGBeWjx8OFTfPPNdn74YSvr1//Mzp0bOXz4J/LyfrFahFCpUhvatPkT11+fzNixPfU7OEq5ccHCU1B0RGQKMM646bx3V5i8SUSuA6YAocBbxpjnisyPAN4D2gFHgTuNMWllmUmVrHbt2kyfPp0xY8bw2muvMXv2bN59910aNGhAcnIy3bp1o1u3bsTFxREaau8hw/x8w759GWzbdpidOw+zc2c6e/bsZ9++/Rw69CtHj+7h9Ok9GHPY5VkhVKjQhCuuuIr4+DEkJbVl0KCO1KtXxbbXoVSg8GSPp0AmsEBEBhpjTolIH+BJY0zXMsoGgHUiw6tAL2AfsEpEFhhjtrg0+yNw3BhzpYgMBJ4H7izLXMozbdq0Ydq0aUyZMoV58+bx6aef8sUXX/Dee+8BUKFCBWJiYrjyyitp1KgRNWvWpEaNGlSvXp3KlStTqVIlKlasSHh4BfLzQ8jPDyU/P4QzZ/I4dy6f7Ox8zpzJ4dSpc5w6dY6srLNkZWWTmXmGU6fOkJFxiszMLE6dOsWhQ+nANE6fziA7+wRnzx4jJ+cY+fnHgHNu0kcQFnYFVarEUL9+Xxo2jKFVqzi6dWtGz55NuOyyCF9uSqXKDY8LjzFmoojcDaSKyDkgCxhfZsl+1xHYaYzZDSAis4BbANfCcwswybr/KfCKiIi7vbMCBw5UpH//sgnsKU9O/Prtt5bUqHFxy3Cd5+5+0Z/FzSvpBnD8eCLR0ZCf75jm7md+fiXy8+8mP/9uatUyVKmyg9Onl5GdvY1ff93J7t07yc39AWOOX3ijXJQIRKoQGhpNePhlREREU6NGc6pUqcZll1WlVq1aXHFFLRo0qEWTJnVo06Y+f/hDNR05QKkyIJ6e9ioiPYGJgAB1gb7GmG1lmK1gvf2B64wx91qPhwCdjDFjXNpsstrssx7vstocKbKskcBIgNDQhHYNGvxQ1vEvSKTk7Z+fn09ISAhykZ9/rs9zXVfR5blrV3iaY3rBNNfHeXl5hIaGEhJirOkQEvL7MkJCzHnzCh6HhBhCQw0hIVjTcsjPP0Fu7jHgNMacwZjTiOQgkktISB4hIXmEhYUQHi6EhUFERCgREaFERoYSGRlGVFQYlSuHExUVTtWqFbj88nAiI0PJysoiKirq4jakD2lO79Kc3pWcnLzGGNP+UpZRmq62CcATxpilItIKmC0ifzbGfHspAXzJGDMVmArQtGlTs22b/x/4TU1NJSkpye4YJfJ+xoZeXNbvAmFbgub0Ns3pf0rT1dbD5f5GEbkex1ltV5VFMBf7AdcvPNS3prlrs09EwoBoHCcZKKWU8jOefIHUbSePMSYd6FlSGy9ZBTQRkRgRqQAMBBYUabMAGGrd7w98W9LxHaWUUvbx5AsV34rIgyJSqP/DKgJdRORdfv/Q9zpjTC4wBvgK+Bn42BizWUSeEZG+VrPpQHUR2Qn8Gd+c9KCUUuoieNLVtgPIA+aKSF3gBBCJ4zs1XwP/NcasLbuIYIxZCCwsMu1Jl/vZwB1lmUEppZR3eFJ4OhhjRorIvTiO+tYEzhhjTpRtNKWUUuWRJ11t34jIcqA2cA9QD8dAVEoppVSpeTJkziMi8gccg4XGAH2BltaXSDcZY3SEAKWUUh7z6HRqY8wuEbnWGOMc515EooD4MkumlFKqXCrN93i2F3mcBazweiKllFLlWmCOT6+UUipgaeFRSinlU1p4lFJK+ZQWHqWUUj6lhUcppZRPaeFRSinlU1p4lFJK+ZQWHqWUUj6lhUcppZRPaeFRSinlU1p4lFJK+ZQWHqWUUj6lhUcppZRPeTw6ta+JyP8DbgbOAbuA4e6ueioiaUAmjstz5xpj2vsyp1JKqdLx5z2eRUC8MSYB2A78rYS2ycaY1lp0lFLK//lt4THGfG2MybUergDq25lHKaWUd4gxxu4MFyQi/wNmG2M+cDNvD3AcMMCbxpipJSxnJDASoGbNmu0+/vjjMkrsPVlZWURFRdkdo0SBkBE0p7dpTu8KlJzJyclrLrl3yRhj2w1YDGxyc7vFpc0EYC5WkXSzjCusn7WA9cA1nqw7Li7OBIKUlBS7I1xQIGQ0RnN6m+b0rkDJCaw2l/jZb+vJBcaYa0uaLyLDgJuAntYLdreM/dbPwyIyF+gILPFyVKWUUl7it8d4ROQ64K9AX2PM6WLaVBaRKgX3gd449piUUkr5Kb8tPMArQBVgkYisE5E3AESknogstNrUBpaKyHpgJfC5MeZLe+IqpZTyhN9+j8cYc2Ux0w8AN1j3dwOJvsyllFLq0vjzHo9SSqlySAuPUkopn9LCo5RSyqe08CillPIpLTxKKaV8SguPUkopn9LCo5RSyqe08CillPIpLTxKKaV8SguPUkopn9LCo5RSyqe08CillPIpLTxKKaV8SguPUkopn9LCo5RSyqe08CillPIpLTxKKaV8SguPUkopn/LrwiMik0Rkv4iss243FNPuOhHZJiI7RWS8r3MqpZTyXJjdATww2RjzQnEzRSQUeBXoBewDVonIAmPMFl8FVEop5Tm/3uPxUF0XSBUAABsdSURBVEdgpzFmtzHmHDALuMXmTEoppYohxhi7MxRLRCYBw4AMYDXwF2PM8SJt+gPXGWPutR4PAToZY8a4Wd5IYCRAzZo123388cdlmt8bsrKyiIqKsjtGiQIhI2hOb9Oc3hUoOZOTk9cYY9pfyjJs72oTkcVAHTezJgCvA38HjPXzRWDExa7LGDMVmArQtGlTk5SUdLGL8pnU1FT8PWcgZATN6W2a07sCJac32F54jDHXetJORKYB/+dm1n6ggcvj+tY0pZRSfsivj/GISF2Xh/2ATW6arQKaiEiMiFQABgILfJFPKaVU6dm+x3MB/xaR1ji62tKAPwGISD3gLWPMDcaYXBEZA3wFhAJvG2M22xVYKaVUyfy68BhjhhQz/QBwg8vjhcBCX+VSSil18fy6q00ppVT5o4VHKaWUT2nhUUop5VNaeJRSSvmUFh6llFI+pYVHKaWUT2nhUUop5VNaeJRSSvmUFh6llFI+pYVHKaWUT/n1kDm+lpOTw759+8jOzrY7ilN0dDQ///yz3TFKFAgZQXN6m6c5IyMjqV+/PuHh4T5IpQKBFh4X+/bto0qVKjRu3BgRsTsOAJmZmVSpUsXuGCUKhIygOb3Nk5zGGI4ePcq+ffuIiYnxUTLl77SrzUV2djbVq1f3m6KjVKATEapXr+5XvQjKflp4itCio5R36d+UKkoLTxB76623OHbsmN0xlFJBRguPn3nppZdo3rw5gwYN8toyDxw4QP/+/QtNe/7556lYsSLVqlXz2noCwerVq3nooYdKbJOamspNN93ko0RKBR89ucDPvPbaayxevJj69et7bZn16tXj008/LTTtscce89ryA0n79u1p37693TGUCmq6x+NHRo0axe7du7n++uuZPHkykyZN4qWXXnLOj4+PJy0tjbS0NJo3b859991Hy5Yt6d27N2fOnAFg586dXHvttSQmJtK2bVt27dpFWloa8fHxgOMEiuHDh9OqVSvatGlDSkoKADNmzOC2227juuuuo0mTJvz1r391m3HNmjV0796ddu3a0adPH9LT0zl58iRNmzZl27ZtANx1111MmzYNgKioKB5++GFatmxJz549+e233wBYt24dnTt3JiEhgX79+nH8+HEAkpKSeOyxx+jYsSNxcXF8//33AOTl5fHoo4/SoUMHEhISePPNNwHH3klSUhL9+/enWbNmDBo0CGMMAKtWreKqq64iMTGRjh07kpmZWWhvZuXKlXTp0oU2bdpw1VVXOfMrpcqW3+7xiMhsoKn18HLghDGmtZt2aUAmkAfkGmO88u/suHGwbp03lvS71q3hv/8tfv4bb7zBl19+SUpKCjVq1GDSpEnFtt2xYwczZ85k2rRpDBgwgDlz5jB48GAGDRrE+PHj6devH9nZ2eTn53P48GHn81599VVEhI0bN7J161Z69+7N9u3bAUcxWLt2LRERETRt2pQHH3yQBg0aOJ+bk5PDgw8+yPz586lZsyazZ89mwoQJTJkyhVdeeYVhw4YxduxYjh8/zn333QfAqVOnaN++PZMnT+aZZ57h6aef5pVXXuGee+7h5Zdfpnv37jz55JM8/fTT/NfaOLm5uaxcuZKFCxfy9NNPs3jxYqZPn050dDSrVq3i7NmzdO3ald69ewOwdu1aNm/eTL169ejatSvLli2jY8eO3HnnncyePZsOHTqQkZFBXl5eoW3YrFkzvv/+e8LCwli8eDGPP/44c+bMKdXvVClVen5beIwxdxbcF5EXgZMlNE82xhwp+1T+IyYmhtatHXW4Xbt2pKWlkZmZyf79++nXrx/g+OJeUUuXLuXBBx8EHB+8jRo1chaenj17Eh0dDUCLFi3Yu3dvocKzbds2Nm3aRK9evQDHXkjdunUB6NWrF5988gkPPPAA69evdz4nJCSEO+90/CoHDx7MbbfdxsmTJzlx4gTdu3cHYOjQodxxxx3O59x2222FXhfA119/zYYNG5xdhidPnmTHjh1UqFCBjh07OrsmW7duTVpaGtHR0dStW5cOHToAcNlll5GZmVloW5w8eZKhQ4eyY8cORIScnBxPN79S6hL4beEpII5zMQcAPXy53pL2THwlLCyM/Px852PX70JEREQ474eGhjq72i5F0WXm5uYWmm+MoWXLlixfvrzQ9MzMTPLz8/n555+pVKkSx48fL/YYlSen1hbkcM1gjOHll1+mT58+hdqmpqZeMHdxnnjiCZKTk5k7dy5paWkkJSV59Dyl1KUJhGM8VwOHjDE7iplvgK9FZI2IjPRhrjLXuHFj1ln9fT/99BN79uwpsX2VKlWoX78+8+bNA+Ds2bOcPn26UJurr76aDz/8EIDt27fzyy+/0LRp0/OW5U7Tpk357bffnIUnJyeHzZs3AzB58mSaN2/ORx99xPDhw517D/n5+c69lI8++ohu3boRHR1N1apVncdv3n//fefeT3H69OnD66+/7lzu9u3bOXXqVIlZ09PTWbVqFeAojkUL0smTJ7niiisAxzEupZRv2LrHIyKLgTpuZk0wxsy37t8FzCxhMd2MMftFpBawSES2GmOWFLO+kcBIgJo1a5KamlpofnR09HndMb5mjCErK4uIiAh69+7N22+/TfPmzWnfvj1XXnklWVlZgOMDvSDr2bNnOXv2LJmZmbz++uuMGzeOiRMnEh4ezrvvvktISIiz/ZAhQ5wH+8PCwnjttdc4d+4c2dnZnDt3zrnM3NxcTp8+fd72ePfdd3nkkUfIyMggNzeX0aNH07lzZ6ZOnUpKSgpVqlShc+fOPPHEE0yYMIHKlSuzdOlSnnnmGWrWrMmMGTPIzMzktddeY9y4cZw5c4bGjRvz2muvkZmZSV5eHqdOnSIzM5OsrCyMMWRmZnLnnXeyfft2WrdujTGGGjVq8NFHH3H69Glyc3OdOQtey9mzZ3n77bcZPXo02dnZREZGMnfu3ELtH3jgAUaNGsUzzzxD7969nesqukxfy8vLs/196InS5MzOzj7v781XsrKybFt3aQRKTm+QgjOA/JGIhAH7gXbGmH0etJ8EZBljXrhQ26ZNm5qiZzH9/PPPNG/e/CLTlo1AGLerpIxRUVHOYmm3QNiWUD5z2vm3VXDmo78LlJwisuZST+Ly9662a4GtxRUdEaksIlUK7gO9gU0+zKeUUqqU/L3wDKRIN5uI1BORhdbD2sBSEVkPrAQ+N8Z86eOMqgT+srejlPIffn1WmzFmmJtpB4AbrPu7gUQfx1JKKXUJ/H2PRymlVDmjhUcppZRPaeFRSinlU1p4lM/l5eXx6quv6lUplQpSWnj80Lx58xARtm7dWubrWrBgAc8991yZLd/d9W8eeeQRmjdv7nYsOU/NmDGDMWPGeNT2q6++onXr1nTt2pWoqCiaNm1K69atueeee0q1zsaNG3PkiHeGBPSHa/5ERUWVqv2IESOoVauWc6TzAseOHaNXr140adKEXr16OUcaV6o4Wnj80MyZM+nWrRszZ5Y0YIN7RUdgvpC+ffsyfvz4Uq/HU+3bty90aQdwDK/To4fvht7r06cP69atY9myZbRv354PP/yQdevW8d5775XZOo0xhcbZ85XS/v5LY9iwYXz55fnfVnjuuefo2bMnO3bsoGfPnmX6j4wqH7TwFGPcuHEkJSV59TZu3LgLrjcrK4ulS5cyffp0Zs2a5ZyemprKNddcw4033kjTpk0ZNWqU84MtKiqKv/zlLyQmJrJ8+XL+85//EB8fT3x8vPNSA5MnT2bEiBEAbNy4kfj4eE6fPl1oz2HYsGHcf//9dO7cmdjYWFJTUxkxYgTNmzdn2LBhziz3338/7du3p2XLljz11FPO6Re6/s2xY8e49dZbSUhIoHPnzmzYsAGASZMmMWLECJKSkoiNjT2vUBV45513iIuLo2PHjixbtsw5/bfffuP222+nQ4cOdOjQodC8krh7Hd9++y233nqrs82iRYuco327creN09LSaNq0Kffccw/x8fH8+uuvhZ7z5Zdf0qxZM9q2bctnn33mnH7q1ClGjBhBx44dadOmDZ9//vl568vPz2f06NE0a9aMXr16ccMNNzjHwGvcuDGPPfYYbdu25ZNPPmHatGl06NCBxMREbr/9dud4fXv27KFLly60atWKiRMnOpdtjOHRRx8lPj6eVq1aMXv2bLfb65prrnF7xdr58+czdOhQwDHSeMFYgUoVRwuPn5k/fz7XXXcdcXFxVK9enbVr1zrnrVy5kpdffpktW7awa9cu54fXqVOn6NSpE+vXr6dixYq88847/Pjjj6xYsYJp06axdu1axo4dy86dO5k7dy7Dhw/nzTffpFKlSuet//jx4yxfvpzJkyfTt29fHn74YTZv3szGjRudA5b+4x//YPXq1WzYsIHvvvuOTZs2ce7cOe68806mTJnC+vXrWbx4MRUrViy07Keeeoo2bdqwYcMG/vnPfxbq6tq6dStfffUVK1eu5Omnnz7vEgXp6ek89dRTLFu2jKVLl7JlyxbnvLFjx/Lwww+zatUq5syZw7333uvRti76OjZs2EBycjJbt251XrDunXfecRbsAmvWrHG7jcFxnaTRo0ezefNmGjVq5HxOdnY29913H//73/9Ys2YNBw8eLJSjR48erFy5kpSUFCZOnHjeAKifffYZaWlpbNmyhffff/+8EcKrV6/OTz/9xMCBA7nttttYtWoV69evp3nz5kyfPt25ne6//342btzovJxFwbLXrVvn/L09+uijpKene7QNAQ4dOuRcXp06dTh06JDHz1XBya+/QGqn/9p0XYSZM2cyduxYAAYOHMinn37KNddcA0DHjh2JjY0FHFf5XLp0Kf379yc0NJTbb78dcFxvp1+/flSuXBlwXNvm+++/p02bNsyYMYOEhAT+9Kc/0bVrV7frv/nmmxERWrVqRe3atWnVqhUALVu2JC0tjdatW/Pxxx8zdepUcnNzSU9PZ+vWrURFRZ13/Zuili5d6rzQWo8ePTh69CgZGRkA3HjjjURERBAREUGtWrU4dOhQoUsr/PjjjyQlJVGzZk0A56ChAIsXLy5UiDIyMsjKyrrgMYyir2PLli0kJCQwZMgQPvjgA4YPH87y5cvP65Irbhv37duXRo0a0blz5/PWtXXrVmJiYmjSpAnguDbR1KlTAce1hhYsWMALLziGGDx79iy//PJLobHNli5dyh133EFISAh16tQhOTm50PILrnkEsGnTJiZOnMiJEyfIyspyXkpi2bJlzu0/ZMgQ5+XPly5dyl133UVoaCi1a9eme/furFq1ir59+5a4/dwREY8ufaGCmxYeP3Ls2DG+/fZbNm7ciIg4++unTJkCnH8tm4LHkZGRhIaGXnD5O3bsICoqigMHDhTbpuDaNiEhIYWucxMSEkJubi579uzhhRdeYNWqVVStWpVhw4Zx9uzZ0r3QEtYLpbumDji6oVasWFGqkxXcvY6Cs+yGDx/OzTffTGRkJHfccQdhYZ7/mRQUo9IwxjBnzhzn5SkuZpBQ1/UOGzaMefPmkZiYyIwZMwqNeFwWRaF27dqkp6dTt25d0tPTqVWrltfXocoX7WrzI59++ilDhgxh7969pKWl8euvv9KoUSPndWtWrlzJnj17yM/PZ/bs2XTr1u28ZVx99dXMmzeP06dPc+rUKebOncvVV1/NyZMneeihh1iyZAlHjx51Hh8orYyMDCpXrkx0dDSHDh3iiy++ADy7/o3rtYBSU1OpUaOG2z0jdzp16sR3333H0aNHycnJ4ZNPPnHO6927Ny+//LLz8ToPrlle3OsAqFevHvXq1ePZZ59l+PDh5z23uG1ckmbNmpGWlsauXbsACp040qdPH15++WUKRop3vYJrga5duzJnzhzy8/M5dOhQicPnZ2ZmUrduXXJycpzbu2AZBccNXadfffXVzJ49m7y8PH777TeWLFlCx44dS3w9rvr27cu7774LOC6bccstt3j8XBWctPD4kZkzZ553ILtv377OD6kOHTowZswYmjdvTkxMjNuD3m3btmXYsGF07NiRTp06ce+999KmTRsefvhhHnjgAeLi4pg+fTrjx4/n8OHDpc6YmJhImzZtaNasGXfffbezy65ChQrMnj2bBx98kMTERHr16nXe93QmTZrEmjVrSEhIYPz48c4PK0/UrVuXSZMm0aVLF7p27VqoG+qll15i9erVJCQk0KJFC954442Lfh0FBg0aRIMGDdwO5V/cNi5JZGQkU6dO5cYbb6Rt27aF9gqeeOIJcnJySEhIoGXLljz77LPnPf/222+nfv36tGjRgsGDB9O2bVvnZcqL+vvf/06nTp3o2rUrzZo1c06fMmUKr776Kq1atWL//v3O6f369SMhIYHExER69OjBv//9b+rUOf8yWXfddRddunRh27Zt1K9f39kFOX78eBYtWkSTJk1YvHhxmZ4lqcoJY0xQ3uLi4kxRW7ZsOW+a3TIyMowxxqSkpJgbb7zR5jTuFWT0d6XJ+cADD5i33nqrDNMUr7icmZmZxhhjjhw5YmJjY016erovY52nNNvTzr+tlJQU29ZdGoGSE1htLvHzV4/xKFVEu3btqFy5Mi+++KLdUQq56aabOHHiBOfOneOJJ55wu1eiVCDQwhMgCr4LpMremjVr7I7gVrBcFlmVf3qMpwjjx5cCVyoQ6d+UKkoLj4vIyEiOHj2qfyhKeYkxhqNHj17SuHyq/NGuNhf169dn3759zm+t+4Ps7Gy//6MNhIygOb3N05yRkZGFvgyslBYeF+Hh4cTExNgdo5DU1NQLnqprt0DICJrT2wIlp/I/tne1icgdIrJZRPJFpH2ReX8TkZ0isk1E+hTz/BgR+dFqN1tEKvgmuVJKqYthe+EBNgG3AUtcJ4pIC2Ag0BK4DnhNRNyNC/M8MNkYcyVwHPhj2cZVSil1KWwvPMaYn40x29zMugWYZYw5a4zZA+wECo3jIY6Bp3oABeO/vAvcilJKKb/lz8d4rgBWuDzeZ01zVR04YYzJLaGNk4iMBEZaD8+KyCYvZS1LNQDvXPay7ARCRtCc3qY5vStQcja91AX4pPCIyGLA3desJxhj5vsiA4AxZiow1cq02hjT/gJPsV0g5AyEjKA5vU1zelcg5bzUZfik8Bhjrr2Ip+0HGrg8rm9Nc3UUuFxEwqy9HndtlFJK+RHbj/GUYAEwUEQiRCQGaAKsdG1gDViXAvS3Jg0FfLYHpZRSqvRsLzwi0k9E9gFdgM9F5CsAY8xm4GNgC/Al8IAxJs96zkIRqWct4jHgzyKyE8cxn+kernqqF19GWQqEnIGQETSnt2lO7wqanKLDwyillPIl2/d4lFJKBRctPEoppXyqXBeeQBuOx1rHOuuWJiLrimmXJiIbrXaXfGrjReScJCL7XbLeUEy766ztu1NEfH49ZBH5fyKyVUQ2iMhcEbm8mHa2bM8LbR/rxJrZ1vwfRaSxr7K5ZGggIikissX6Wxrrpk2SiJx0eT886eucVo4Sf4/i8JK1PTeISFsf52vqso3WiUiGiIwr0sa2bSkib4vIYdfvN4pINRFZJCI7rJ9Vi3nuUKvNDhEZesGVXeolTP35BjTH8WWnVKC9y/QWwHogAogBdgGhbp7/MTDQuv8GcL8Ps78IPFnMvDSgho3bdRLwyAXahFrbNRaoYG3vFj7O2RsIs+4/DzzvL9vTk+0DjAbesO4PBGbb8LuuC7S17lcBtrvJmQT8n6+zlfb3CNwAfAEI0Bn40casocBBoJG/bEvgGqAtsMll2r+B8db98e7+hoBqwG7rZ1XrftWS1lWu93hMgA7HY617ADDTF+srIx2BncaY3caYc8AsHNvdZ4wxX5vfR7VYgeN7Xv7Ck+1zC473HTjehz2t94bPGGPSjTE/WfczgZ8pYXQQP3cL8J5xWIHjO4B1bcrSE9hljNlr0/rPY4xZAhwrMtn1PVjcZ2AfYJEx5pgx5jiwCMf4msUq14WnBFcAv7o8vuTheLzsauCQMWZHMfMN8LWIrLGGAbLDGKu74u1idr892ca+NALHf7vu2LE9Pdk+zjbW+/AkjvelLayuvjbAj25mdxGR9SLyhYi09Gmw313o9+hP78mBFP+PpT9sywK1jTHp1v2DQG03bUq9Xf15rDaPiJ8Mx+MpD/PeRcl7O92MMftFpBawSES2Wv+t+CQn8Drwdxx/6H/H0S04wpvr95Qn21NEJgC5wIfFLKbMt2egE5EoYA4wzhiTUWT2Tzi6jLKs433zcHzh29cC4vdoHSvuC/zNzWx/2ZbnMcYYEfHK928CvvCYABuO50J5RSQMx2Ui2pWwjP3Wz8MiMhdHt41X/8A83a4iMg34PzezPNnGl8yD7TkMuAnoaawOaTfLKPPt6YYn26egzT7rfRGN433pUyISjqPofGiM+azofNdCZIxZKCKviUgNY4xPB7z04Pfok/ekB64HfjLGHCo6w1+2pYtDIlLXGJNudUsedtNmP45jUwXq4ziuXqxg7Wrz5+F4rgW2GmP2uZspIpVFpErBfRwH0H06ynaRfvF+xax/FdBEHGcGVsDRtbDAF/kKiMh1wF+BvsaY08W0sWt7erJ9FuB434HjffhtccWzrFjHlKYDPxtj/lNMmzoFx55EpCOOzxWfFkgPf48LgHuss9s6AyddupF8qdgeDX/YlkW4vgeL+wz8CugtIlWtbvfe1rTi2XH2hK9uOD4U9wFngUPAVy7zJuA4q2gbcL3L9IVAPet+LI6CtBP4BIjwQeYZwKgi0+oBC10yrbdum3F0Kfl6u74PbAQ2WG/MukVzWo9vwHEW1C6bcu7E0fe8zrq9UTSnndvT3fYBnsFRKAEirffdTut9GGvDNuyGo0t1g8t2vAEYVfA+BcZY2249jpM4rrIhp9vfY5GcArxqbe+NuJzp6sOclXEUkmiXaX6xLXEUw3Qgx/rc/COOY4rfADuAxUA1q2174C2X546w3qc7geEXWpcOmaOUUsqngrWrTSmllE208CillPIpLTxKKaV8SguPUkopn9LCo5RSyqe08CillPIpLTxKKaV8SguPUn5CHNe96WXdf1ZEXrY7k1JlIeDHalOqHHkKeMYa5LINjoEklSp3dOQCpfyIiHwHRAFJxnH9G6XKHe1qU8pPiEgrHFf8PKdFR5VnWniU8gPWiN8f4rjiY5Y1srZS5ZIWHqVsJiKVgM+AvxhjfsZxcb2n7E2lVNnRYzxKKaV8Svd4lFJK+ZQWHqWUUj6lhUcppZRPaeFRSinlU1p4lFJK+ZQWHqWUUj6lhUcppZRP/X+k/VEDrCAEIAAAAABJRU5ErkJggg==\n",
                "text/plain": "<Figure size 432x288 with 1 Axes>"
              }
            ],
            "_view_module": "@jupyter-widgets/output",
            "_model_module_version": "1.0.0",
            "_view_count": null,
            "_view_module_version": "1.0.0",
            "layout": "IPY_MODEL_1b6a492a7c2841ecb4e18150a9ca0c87",
            "_model_module": "@jupyter-widgets/output"
          }
        },
        "918a836d08dd458a99e276485b7a1e83": {
          "model_module": "@jupyter-widgets/controls",
          "model_name": "SliderStyleModel",
          "state": {
            "_view_name": "StyleView",
            "handle_color": null,
            "_model_name": "SliderStyleModel",
            "description_width": "",
            "_view_module": "@jupyter-widgets/base",
            "_model_module_version": "1.5.0",
            "_view_count": null,
            "_view_module_version": "1.2.0",
            "_model_module": "@jupyter-widgets/controls"
          }
        },
        "4f9829e35b4f44809c6e56a96580d8cb": {
          "model_module": "@jupyter-widgets/base",
          "model_name": "LayoutModel",
          "state": {
            "_view_name": "LayoutView",
            "grid_template_rows": null,
            "right": null,
            "justify_content": null,
            "_view_module": "@jupyter-widgets/base",
            "overflow": null,
            "_model_module_version": "1.2.0",
            "_view_count": null,
            "flex_flow": null,
            "width": null,
            "min_width": null,
            "border": null,
            "align_items": null,
            "bottom": null,
            "_model_module": "@jupyter-widgets/base",
            "top": null,
            "grid_column": null,
            "overflow_y": null,
            "overflow_x": null,
            "grid_auto_flow": null,
            "grid_area": null,
            "grid_template_columns": null,
            "flex": null,
            "_model_name": "LayoutModel",
            "justify_items": null,
            "grid_row": null,
            "max_height": null,
            "align_content": null,
            "visibility": null,
            "align_self": null,
            "height": null,
            "min_height": null,
            "padding": null,
            "grid_auto_rows": null,
            "grid_gap": null,
            "max_width": null,
            "order": null,
            "_view_module_version": "1.2.0",
            "grid_template_areas": null,
            "object_position": null,
            "object_fit": null,
            "grid_auto_columns": null,
            "margin": null,
            "display": null,
            "left": null
          }
        },
        "1b6a492a7c2841ecb4e18150a9ca0c87": {
          "model_module": "@jupyter-widgets/base",
          "model_name": "LayoutModel",
          "state": {
            "_view_name": "LayoutView",
            "grid_template_rows": null,
            "right": null,
            "justify_content": null,
            "_view_module": "@jupyter-widgets/base",
            "overflow": null,
            "_model_module_version": "1.2.0",
            "_view_count": null,
            "flex_flow": null,
            "width": null,
            "min_width": null,
            "border": null,
            "align_items": null,
            "bottom": null,
            "_model_module": "@jupyter-widgets/base",
            "top": null,
            "grid_column": null,
            "overflow_y": null,
            "overflow_x": null,
            "grid_auto_flow": null,
            "grid_area": null,
            "grid_template_columns": null,
            "flex": null,
            "_model_name": "LayoutModel",
            "justify_items": null,
            "grid_row": null,
            "max_height": null,
            "align_content": null,
            "visibility": null,
            "align_self": null,
            "height": null,
            "min_height": null,
            "padding": null,
            "grid_auto_rows": null,
            "grid_gap": null,
            "max_width": null,
            "order": null,
            "_view_module_version": "1.2.0",
            "grid_template_areas": null,
            "object_position": null,
            "object_fit": null,
            "grid_auto_columns": null,
            "margin": null,
            "display": null,
            "left": null
          }
        }
      }
    }
  },
  "cells": [
    {
      "cell_type": "markdown",
      "metadata": {
        "id": "view-in-github",
        "colab_type": "text"
      },
      "source": [
        "<a href=\"https://colab.research.google.com/github/jugernaut/Numerico2021/blob/master/00_Introduccion/02_ComplejidadConvergencia.ipynb\" target=\"_parent\"><img src=\"https://colab.research.google.com/assets/colab-badge.svg\" alt=\"Open In Colab\"/></a>"
      ]
    },
    {
      "cell_type": "markdown",
      "metadata": {
        "id": "ao1k_j_2sMY0",
        "colab_type": "text"
      },
      "source": [
        "# Complejidad y Convergencia \n",
        "Profesor: M.en.C. Miguel Angel Pérez León.\n",
        "\n",
        "Ayudante: Jesús Iván Coss Calderón.\n",
        "\n",
        "Materia: Análisis Numérico."
      ]
    },
    {
      "cell_type": "markdown",
      "metadata": {
        "id": "gJ73MmHesMY1",
        "colab_type": "text"
      },
      "source": [
        "##  Introducción\n",
        "\n",
        "Un **algoritmo** es un procedimiento que describe, sin ambiguedad, una serie finita de pasos a realizar en un orden especifico.\n",
        "\n",
        "La finalidad de un algoritmmo es poner en prática algún procedimiento para resolver un problema o **aproximarse a una solución** del problema.\n",
        "\n",
        "**Pseudocódigo** es la forma de representar un algoritmo, sin tener que emplear algún lenguaje de programación en especifico, pero lo suficientemente cercano a este, para que pueda escribirse en un lenguaje de programación con un par de cambios (como el pseudocódigo del algoritmo de Horner).\n",
        "\n",
        "Este pseudocódigo especifica la forma de la entrada por proporcionar y la forma de salida deseada."
      ]
    },
    {
      "cell_type": "markdown",
      "metadata": {
        "id": "qujunr8cVaUB",
        "colab_type": "text"
      },
      "source": [
        "### Suma de los N primeros naturales\n",
        "\n",
        "No todos los algoritmos numéricos devuelven un resultado\n",
        "satisfactorio, para una entrada elegida.\n",
        "\n",
        "Como consecuencia, en cada algoritmo se incorpora alguna técnica\n",
        "(condición) para saber cuando es que debe detenerse,\n",
        "independientemente del método numérico empleado, esto con la\n",
        "finalidad de **evitar ciclos infinitos**."
      ]
    },
    {
      "cell_type": "markdown",
      "metadata": {
        "id": "16trTQb0sauO",
        "colab_type": "text"
      },
      "source": [
        "#### Ejemplo\n",
        "\n",
        "Escriba el algoritmo para sumar los primeros n numeros naturales.\n",
        "\n",
        "$$\\sum_{i=1}^{n}i$$"
      ]
    },
    {
      "cell_type": "code",
      "metadata": {
        "id": "so4XKXmSsMY5",
        "colab_type": "code",
        "colab": {
          "base_uri": "https://localhost:8080/",
          "height": 67
        },
        "outputId": "f86be84d-1b30-40f0-9372-5d675ca08625"
      },
      "source": [
        "n=int(input(\"Ingrese el numero hasta el cual se quiere sumar\\n\"))\n",
        "suma=0\n",
        "# la funcion range toma hasta un numero antes de n\n",
        "for i in range(n+1):\n",
        "    suma+=i\n",
        "\n",
        "print(\"La suma es: {}\".format(suma))"
      ],
      "execution_count": null,
      "outputs": [
        {
          "output_type": "stream",
          "text": [
            "Ingrese el numero hasta el cual se quiere sumar\n",
            "5\n",
            "La suma es: 15\n"
          ],
          "name": "stdout"
        }
      ]
    },
    {
      "cell_type": "markdown",
      "metadata": {
        "id": "DBRphS9qsMY9",
        "colab_type": "text"
      },
      "source": [
        "Otra tipo de algoritmos son los que describen un procedimiento en\n",
        "términos matemáticos, como lo son las **series de Taylor**.\n",
        "\n",
        "### Serie de Taylor\n",
        "\n",
        "Es una serie finita de potencias que representa de manera exacta una función $f (x)$ al rededor de un punto $x = c$, siempre y cuando $n$ sea suficientemente \"grande\".\n",
        "\n",
        "$$ f(x) = f(c) + f^{'}(c)(x-c) + \\frac{f^{''}(c)(x-c)^{2}}{2!} + \\dots + \\frac{f^{n}(c)(x-c)^{n}}{n!} $$\n",
        "\n",
        "Si $c = 0$ se trata de la serie de Maclurin.\n",
        "\n",
        "Esta aproximación de $f (x)$ se conoce como la aproximación de $f (x)$\n",
        "en series de Taylor y dependiendo la derivada sera el grado del\n",
        "polinomio de Taylor. Cabe recalcar, que a mayor grado del polinomio\n",
        "de Taylor sera mayor la exactitud de la aproximación."
      ]
    },
    {
      "cell_type": "markdown",
      "metadata": {
        "id": "Uj3y7lBesmMR",
        "colab_type": "text"
      },
      "source": [
        "#### Ejemplo\n",
        "\n",
        "Obtenga los seis primeros términos de la serie de Taylor para $f(x)= e^{x}$ alrededor del cero.\n",
        "\n",
        "**Solución**:\n",
        "    \n",
        "Al obtener las primeras 5 derivadas de la función se tiene \n",
        "\n",
        "$$f(x)= f^{1}(x)=f^{2}(x)=f^{3}(x)=f^{4}(x)=f^{5}(x)= e^{x}$$\n",
        "\n",
        "Posteriormente se evalua en el punto cero ($x=c=0$ )\n",
        "\n",
        "$$f(0)= f^{1}(0)=f^{2}(0)=f^{3}(0)=f^{4}(0)=f^{5}(0)= e^{0}=1$$\n",
        "\n",
        "Lo que da como resultado la siguiente expresión, que representa el\n",
        "polinomio de Taylor de $e^{x}$ al rededor del punto 0.\n",
        "\n",
        "$$ f(x) \\approx 1 + x + \\frac{x^{2}}{2!}+ \\frac{x^{3}}{3!}+ \\frac{x^{4}}{4!}+ \\frac{x^{5}}{5!} + \\dots  $$\n",
        "\n",
        "**Solución en python**:"
      ]
    },
    {
      "cell_type": "code",
      "metadata": {
        "id": "eKtMrvK5sMZH",
        "colab_type": "code",
        "colab": {
          "base_uri": "https://localhost:8080/",
          "height": 344,
          "referenced_widgets": [
            "e1ae26d5cbaf45a393f19dba86bd17eb",
            "170323b874a9454ca2e84dc06cd9cef8",
            "80300b82856349638e30a34597f9d6b0",
            "b3f661499fca43929adf80ae51153a33",
            "918a836d08dd458a99e276485b7a1e83",
            "4f9829e35b4f44809c6e56a96580d8cb",
            "1b6a492a7c2841ecb4e18150a9ca0c87"
          ]
        },
        "outputId": "b787c27e-cb8a-460b-929e-a70c7d177333"
      },
      "source": [
        "import matplotlib.pyplot as plt\n",
        "import numpy as np \n",
        "from scipy.interpolate import approximate_taylor_polynomial\n",
        "from IPython.html.widgets import interact\n",
        "import ipywidgets as widgets\n",
        "\n",
        "#@interact(grado=(0,10))\n",
        "def Taylor(grado):\n",
        "    x = np.linspace(-10.0, 10.0, num=100)\n",
        "    plt.plot(x, np.exp(x), label=\"función exponencial\",color='blue')\n",
        "    aprox_taylor = approximate_taylor_polynomial(np.exp, 0, grado, 1\\\n",
        "                                               ,order=grado+2)\n",
        "    plt.plot(x, aprox_taylor(x), label=\"Aproximación de Taylor de grado \" +str(grado),color='black')\n",
        "    plt.axis([-10, 10, -10, 10])\n",
        "    plt.legend()\n",
        "    plt.xlabel(r\"$x$\")\n",
        "    plt.ylabel(r\"$f(x)$\")\n",
        "    plt.title(\"Aproximación de Taylor \")\n",
        "    plt.grid()\n",
        "\n",
        "interact(Taylor,grado=widgets.IntSlider(min=0,max=10,step=1,value=0))"
      ],
      "execution_count": null,
      "outputs": [
        {
          "output_type": "display_data",
          "data": {
            "application/vnd.jupyter.widget-view+json": {
              "model_id": "e1ae26d5cbaf45a393f19dba86bd17eb",
              "version_minor": 0,
              "version_major": 2
            },
            "text/plain": [
              "interactive(children=(IntSlider(value=0, description='grado', max=10), Output()), _dom_classes=('widget-intera…"
            ]
          },
          "metadata": {
            "tags": []
          }
        },
        {
          "output_type": "execute_result",
          "data": {
            "text/plain": [
              "<function __main__.Taylor>"
            ]
          },
          "metadata": {
            "tags": []
          },
          "execution_count": 5
        }
      ]
    },
    {
      "cell_type": "markdown",
      "metadata": {
        "id": "auIipbwcsMZK",
        "colab_type": "text"
      },
      "source": [
        "De tal manera que la siguiente expresión, se aproxima con 6\n",
        "terminos a $e^{x}$ al rededor del punto 0.\n",
        "\n",
        "$$ f(x) \\approx 1 + x + \\frac{x^{2}}{2!}+ \\frac{x^{3}}{3!}+ \\frac{x^{4}}{4!}+ \\frac{x^{5}}{5!} + \\dots  $$\n",
        "\n",
        "**Ejercicio**:\n",
        "\n",
        "Si se sabe que el valor exacto de $e^{0.5} = 1.6487212707$. Calcula\n",
        "el error relativo porcentual que se comete si se trunca la serie en\n",
        "seis términos. Emplea 6 decimales.\n",
        "\n",
        "**Solución en python**:"
      ]
    },
    {
      "cell_type": "code",
      "metadata": {
        "id": "m24HWhvpsMZM",
        "colab_type": "code",
        "colab": {}
      },
      "source": [
        "import pandas as pd \n",
        "\n",
        "def ErrorTaylor(x):\n",
        "    ordenes=np.arange(6)\n",
        "    aprox_taylor=np.array([0.0]*6)\n",
        "    func_eval=np.zeros(6)\n",
        "    error=np.zeros_like(aprox_taylor)\n",
        "    for degree in ordenes:\n",
        "        PolTaylor = approximate_taylor_polynomial(np.exp, 0, degree, 1,order=degree+2)\n",
        "        aprox_taylor[degree]=PolTaylor(x)\n",
        "        func_eval[degree]=np.exp(x)\n",
        "        error[degree]=np.abs((aprox_taylor[degree]-func_eval[degree])/func_eval[degree])\n",
        "        \n",
        "    data={\"Termino\":[1,2,3,4,5,6],\"aproximacion\":aprox_taylor,\n",
        "          \"valor real\":func_eval,\"error\":error    \n",
        "    }\n",
        "    tabla=pd.DataFrame(data)\n",
        "    return tabla"
      ],
      "execution_count": null,
      "outputs": []
    },
    {
      "cell_type": "code",
      "metadata": {
        "id": "rIQrztllsMZQ",
        "colab_type": "code",
        "colab": {},
        "outputId": "baeb981d-561f-4121-ade7-db68a83e8fb0"
      },
      "source": [
        "ErrorTaylor(0.5)"
      ],
      "execution_count": null,
      "outputs": [
        {
          "output_type": "execute_result",
          "data": {
            "text/html": [
              "<div>\n",
              "<style scoped>\n",
              "    .dataframe tbody tr th:only-of-type {\n",
              "        vertical-align: middle;\n",
              "    }\n",
              "\n",
              "    .dataframe tbody tr th {\n",
              "        vertical-align: top;\n",
              "    }\n",
              "\n",
              "    .dataframe thead th {\n",
              "        text-align: right;\n",
              "    }\n",
              "</style>\n",
              "<table border=\"1\" class=\"dataframe\">\n",
              "  <thead>\n",
              "    <tr style=\"text-align: right;\">\n",
              "      <th></th>\n",
              "      <th>Termino</th>\n",
              "      <th>aproximacion</th>\n",
              "      <th>valor real</th>\n",
              "      <th>error</th>\n",
              "    </tr>\n",
              "  </thead>\n",
              "  <tbody>\n",
              "    <tr>\n",
              "      <th>0</th>\n",
              "      <td>1</td>\n",
              "      <td>0.944804</td>\n",
              "      <td>1.648721</td>\n",
              "      <td>0.426947</td>\n",
              "    </tr>\n",
              "    <tr>\n",
              "      <th>1</th>\n",
              "      <td>2</td>\n",
              "      <td>1.486893</td>\n",
              "      <td>1.648721</td>\n",
              "      <td>0.098154</td>\n",
              "    </tr>\n",
              "    <tr>\n",
              "      <th>2</th>\n",
              "      <td>3</td>\n",
              "      <td>1.623448</td>\n",
              "      <td>1.648721</td>\n",
              "      <td>0.015329</td>\n",
              "    </tr>\n",
              "    <tr>\n",
              "      <th>3</th>\n",
              "      <td>4</td>\n",
              "      <td>1.645711</td>\n",
              "      <td>1.648721</td>\n",
              "      <td>0.001826</td>\n",
              "    </tr>\n",
              "    <tr>\n",
              "      <th>4</th>\n",
              "      <td>5</td>\n",
              "      <td>1.648429</td>\n",
              "      <td>1.648721</td>\n",
              "      <td>0.000177</td>\n",
              "    </tr>\n",
              "    <tr>\n",
              "      <th>5</th>\n",
              "      <td>6</td>\n",
              "      <td>1.648697</td>\n",
              "      <td>1.648721</td>\n",
              "      <td>0.000015</td>\n",
              "    </tr>\n",
              "  </tbody>\n",
              "</table>\n",
              "</div>"
            ],
            "text/plain": [
              "   Termino  aproximacion  valor real     error\n",
              "0        1      0.944804    1.648721  0.426947\n",
              "1        2      1.486893    1.648721  0.098154\n",
              "2        3      1.623448    1.648721  0.015329\n",
              "3        4      1.645711    1.648721  0.001826\n",
              "4        5      1.648429    1.648721  0.000177\n",
              "5        6      1.648697    1.648721  0.000015"
            ]
          },
          "metadata": {
            "tags": []
          },
          "execution_count": 72
        }
      ]
    },
    {
      "cell_type": "markdown",
      "metadata": {
        "id": "M4GnymVqsMZV",
        "colab_type": "text"
      },
      "source": [
        "##  Complejidad Computacional\n",
        "\n",
        "Para poder desarrollar algoritmos eficientes y que den resultados\n",
        "útiles es necesario emplear algunas herramientas para su análisis.\n",
        "\n",
        "**Definición de Complejidad Computacional**:\n",
        "\n",
        "Es la rama de las ciencias de la computación que estudia de manera teórica, la optimización de los recursos requeridos durante la ejecución de un algoritmo.\n",
        "\n",
        "El análisis se basa en 2 aspectos: el tiempo y el espacio.\n",
        "\n",
        "El tiempo es el periodo transcurrido entre el inicio y la\n",
        "finalización del algoritmo.\n",
        "\n",
        "El espacio es la cantidad de memoria (la medida varia según la\n",
        "máquina) que necesita el algoritmo para su ejecución.\n",
        "\n",
        "**Complejidad Computacional $T(n)$**\n",
        "\n",
        "Es el número de operaciones elementales (*en el caso de análisis\n",
        "numérico las FLOP’s*) en función de la medida n (tamaño de los\n",
        "datos).\n",
        "\n",
        "¿Como se mide?. Una vez que se tiene el algoritmo en forma de\n",
        "pseudocódigo, se puede dar una estimación de cuantas operaciones\n",
        "elementales se realizan en función de la entrada n.\n",
        "\n",
        "Sea cual sea el algoritmo, para llevar a cabo el análisis de la\n",
        "complejidad de dicho algoritmo, normalmente se toma en cuenta dos\n",
        "posibles casos: el peor caso y el caso promedio.\n",
        "\n",
        "**Peor Caso**: se calcula $T(n)$ asumiendo que n es la ”peor” de todas o\n",
        "que de los posibles casos al ejecutar el algoritmo, se cae en el peor de\n",
        "ellos.\n",
        "\n",
        "**Caso Promedio**: se calcula promediando el tiempo (o espacio)\n",
        "empleado para cada una de las entradas posibles.\n",
        "\n"
      ]
    },
    {
      "cell_type": "markdown",
      "metadata": {
        "id": "7utRUnLCWv1Y",
        "colab_type": "text"
      },
      "source": [
        "## Cota Superior Asintótica\n",
        "\n",
        "Cota superior asintótica: En el análisis de algoritmos una cota superior asintótica es una\n",
        "función que sirve de cota superior de otra función cuando el\n",
        "argumento tiende a infinito.\n",
        "\n",
        "Usualmente se utiliza la notación Landau $O(g(x))$, orden de\n",
        "$g(x)$, o coloquialmente se llama ”Notación O Grande”, para\n",
        "referirse a las funciones acotadas superiormente por la función\n",
        "$g(x)$"
      ]
    },
    {
      "cell_type": "markdown",
      "metadata": {
        "id": "YdEJnOfAXewC",
        "colab_type": "text"
      },
      "source": [
        "### Definición.\n",
        "Cota superior asintótica: sea $g\\left(x\\right)$ una función continua y $f\\left(x\\right)$ la función que describe el comportamiento de nuestro algoritmo, diremos que $f$ pertenece al orden $g$ si.\n",
        "\n",
        "$$O\\left(g\\left(x\\right)\\right)=\\left\\{ f\\left(x\\right)\\colon\\exists\\,x_{0},c>0\\mid\\forall x\\geq x_{0}>0\\colon0\\leq\\left|f\\left(x\\right)\\right|\\leq c\\left|g\\left(x\\right)\\right|\\right\\} $$\n",
        "\n",
        "En el análisis de algoritmos una cota superior asintótica es una función que sirve de cota superior de otra función cuando el argumento tiende a infinito.\n",
        "\n",
        "Normalmente se utiliza la notación Landau $O(g(x))$, orden de $g(x)$, o coloquialmente se llama ”Notación O Grande”, para referirse a las funciones acotadas superiormente por la función $g(x)$\n",
        "\n",
        "![Asintotica](https://docs.google.com/uc?export=download&id=1XaFRdeBPTpkjAVhCLXvxmByo8Rx4pt8t)"
      ]
    },
    {
      "cell_type": "markdown",
      "metadata": {
        "id": "PBW8PVyGsMZW",
        "colab_type": "text"
      },
      "source": [
        "Como te podrás dar cuenta, la cota superior asintótica nos sirve\n",
        "para definir categorías (orden de complejidad) dentro del\n",
        "desempeño de los mucho algoritmos existentes. Y esto sirve\n",
        "para poder identificar cuales algoritmos son mas eficientes que\n",
        "otros.\n",
        "\n",
        "\n",
        "\n",
        "\n",
        "| orden de Complejidad        | Nombre            | \n",
        "| :-:           |    :-:        | \n",
        "| $O(1) $       | Orden constante | \n",
        "| $O(log n) $   | Orden logarítmico     |\n",
        "| $O(n) $       | Orden lineal      |\n",
        "| $O(n log n) $ | Orden n log n      | \n",
        "| $O( n^{2}) $  | Orden cuadrático      | \n",
        "| $O( n^{a}) $  | Orden polinomial ($a>2$)     | \n",
        "| $O( a^{n}) $  | Orden exponencial ($a>2$)     | \n",
        "| $O( n!)    $  | Orden factorial      | \n",
        "\n",
        "A continuación se muestra las cotas (categorias) mas comúnes.\n"
      ]
    },
    {
      "cell_type": "markdown",
      "metadata": {
        "id": "898ALIjpsMZX",
        "colab_type": "text"
      },
      "source": [
        "![Complejidad](https://docs.google.com/uc?export=download&id=1hF0sx5SPkF1wf6fwhqfr_KNFXxSooXHu)"
      ]
    },
    {
      "cell_type": "markdown",
      "metadata": {
        "id": "DFbSSCXnsMZZ",
        "colab_type": "text"
      },
      "source": [
        "##  Estabilidad de algoritmos\n",
        "\n",
        "Los algoritmos de interés para el análisis numérico, son aquellos\n",
        "que produzcan resultados precisos.\n",
        "\n",
        "Uno de los criterios que siempre se tratan de imponer sobre un\n",
        "algoritmo, es que los cambios pequeños en los datos iniciales,\n",
        "produzcan otros correspondientes en los resultados finales. Un\n",
        "algoritmo que satisfaga esta propiedad es **estable**, en caso\n",
        "contrario es **inestable**.\n",
        "\n",
        "Algunos algoritmos solo son estables para ciertas elecciones de\n",
        "datos iniciales; a estos se les llama condicionalmente estables.\n",
        "\n",
        "A lo largo del curso analizaremos algoritmos tanto estables,\n",
        "como inestables y condicionalmente estables."
      ]
    },
    {
      "cell_type": "markdown",
      "metadata": {
        "id": "yJuAwl9-sMZa",
        "colab_type": "text"
      },
      "source": [
        "Los algoritmos de interés para el análisis numérico, son aquellos\n",
        "que produzcan resultados precisos.\n",
        "\n",
        "Uno de los criterios que siempre se tratan de imponer sobre un\n",
        "algoritmo, es que los cambios pequeños en los datos iniciales,\n",
        "produzcan otros correspondientes en los resultados finales. Un\n",
        "algoritmo que satisfaga esta propiedad es estable, en caso\n",
        "contrario es **inestable**.\n",
        "\n",
        "Algunos algoritmos solo son estables para ciertas elecciones de\n",
        "datos iniciales; a estos se les llama condicionalmente estables.\n",
        "\n",
        "A lo largo del curso analizaremos algoritmos tanto estables,\n",
        "como inestables y condicionalmente estables.\n"
      ]
    },
    {
      "cell_type": "markdown",
      "metadata": {
        "id": "BrFHF9yVsMZa",
        "colab_type": "text"
      },
      "source": [
        "##  Crecimiento del error\n",
        "\n",
        "Supongamos que al momento de ejecutar un algoritmo se genera un error inicial $E_{0} > 0$ en cierta\n",
        "etapa de los cálculos y $E_{n}$ repesenta la magnitud del error\n",
        "después de $n$ operaciones sucesivas. Los 2 casos que surgen con mas\n",
        "frecuencia en la práctica se definen como sigue:"
      ]
    },
    {
      "cell_type": "markdown",
      "metadata": {
        "id": "ZHss2SiysMZb",
        "colab_type": "text"
      },
      "source": [
        "\n",
        "### Definición\n",
        "\n",
        "Crecimiento del error: Si $E_{n} \\approx C_{n} E_{0} $ donde $C$ es una constante independiente de $n$, entonces se dice que el crecimiento del error es lineal. Si $E_{n} \\approx C^{n} E_{0} $ para alguna $C>1$, entonces el crecimiento del error se denomina exponencial.\n",
        "\n",
        "Normalmente el crecimiento lineal es inevitable y, cuando $C$ y $E_{0}$ son pequeños, por lo general los resultados son aceptables. Por otro lado hay que evitar el crecimiento exponencial del error, ya que el termino $C^{n}$ crece incluso para valores de n relativamente pequeños.\n",
        "\n",
        "En consecuencia un algoritmo con un crecimiento lineal del error es estable, pero no un algoritmo con crecimiento exponencial del error ya que se considera inestable.\n",
        "\n"
      ]
    },
    {
      "cell_type": "markdown",
      "metadata": {
        "id": "c9dxiAsQsMZc",
        "colab_type": "text"
      },
      "source": [
        "![Crecimiento](https://docs.google.com/uc?export=download&id=1ikGd8jMYQaiZkDlFNV5x7oGBr79Rddvw)"
      ]
    },
    {
      "cell_type": "markdown",
      "metadata": {
        "id": "tIRgcBRfsMZc",
        "colab_type": "text"
      },
      "source": [
        "## Convergencia\n",
        "\n",
        "Una de las maneras de determinar que tan bueno es un algoritmo en\n",
        "comparación con otro es mediante la rapidez de convergencia, la cual nos\n",
        "indica cuál de los 2 algoritmos comparados encontrara una solución de\n",
        "manera mas rápida."
      ]
    },
    {
      "cell_type": "markdown",
      "metadata": {
        "id": "nq5xXHl9sMZd",
        "colab_type": "text"
      },
      "source": [
        "### Definición\n",
        "\n",
        "Convergencia de suceciones: decimos que la sucesión $\\{a_n\\}$ converge a número real $a$ si y sólo si para toda $ \\epsilon > 0$ existe un número natural $N$ tal que si $n > N$ entonces $|a_n - a| < \\epsilon$. Si la sucesión $\\{a_n\\}$ converge a $a$, decimos que el límite de la sucesión $\\{a_n\\}$ es $a$ y escribimos $\\underset{n\\rightarrow\\infty}{lim}a_{n}=a$. De\n",
        "otro modo, la sucesión se denomina divergente."
      ]
    },
    {
      "cell_type": "markdown",
      "metadata": {
        "id": "OGnc4hTvmu1k",
        "colab_type": "text"
      },
      "source": [
        "### Ejemplo\n",
        "La sucesión $\\frac{1}{n}$ converge a cero, esto es, $\\underset{n\\rightarrow\\infty}{lim} \\frac{1}{n} = 0$\n",
        "\n",
        "En la siguiente gráfica podemos observar que efectivamente ocurre esto:"
      ]
    },
    {
      "cell_type": "code",
      "metadata": {
        "id": "I_nBE9SCoMbb",
        "colab_type": "code",
        "colab": {
          "base_uri": "https://localhost:8080/",
          "height": 456
        },
        "outputId": "6e7aa8bb-c52c-4e1b-c854-4398fce85f86"
      },
      "source": [
        "# importamos bibliotecas necesarias para graficar\n",
        "!git clone https://github.com/joiortega1/Prueba_lectura.git\n",
        "import os\n",
        "os.listdir('Prueba_lectura')\n",
        "import Prueba_lectura.gutils\n",
        "import Prueba_lectura.gutils as vis\n",
        "\n",
        "# se genera la sucesion de valores\n",
        "num_suc = np.arange(1,100)\n",
        "sucesion2 = [1/i for i in num_suc]\n",
        "\n",
        "# parametros para graficar\n",
        "par = [{'xlabel':'$n$',\n",
        "        'ylabel':'$a_n$',\n",
        "       'xlim':(0.5,99.5)},\n",
        "       ]\n",
        "# se genera la grafica\n",
        "graf = vis.planoCartesiano(par=par)\n",
        "graf.scatter(x = num_suc, y = sucesion2, \n",
        "             par={'s':20,'color':'blue', 'label':r'Sucesión $a_n=\\frac{1}{n}$'})\n",
        "graf.plot(x=[0,100],y=[0,0], par={'c':'green','linestyle':'--', 'lw':2,'label':'Función constante 0'})\n",
        "graf.legend()\n",
        "graf.show()"
      ],
      "execution_count": null,
      "outputs": [
        {
          "output_type": "stream",
          "text": [
            "Cloning into 'Prueba_lectura'...\n",
            "remote: Enumerating objects: 18, done.\u001b[K\n",
            "remote: Counting objects: 100% (18/18), done.\u001b[K\n",
            "remote: Compressing objects: 100% (14/14), done.\u001b[K\n",
            "remote: Total 18 (delta 0), reused 0 (delta 0), pack-reused 0\u001b[K\n",
            "Unpacking objects: 100% (18/18), done.\n"
          ],
          "name": "stdout"
        },
        {
          "output_type": "display_data",
          "data": {
            "image/png": "[encoded data removed]",
            "text/plain": [
              "<Figure size 720x360 with 1 Axes>"
            ]
          },
          "metadata": {
            "tags": []
          }
        }
      ]
    },
    {
      "cell_type": "markdown",
      "metadata": {
        "id": "pasgyAewcL-J",
        "colab_type": "text"
      },
      "source": [
        "## Rapidez de convergencia\n",
        "\n",
        "Otra de las medidas importantes en el análisis de algoritmos y en el análisis numérico es la rapidez de convergencia. Esta metrica nos da un parámetro para determinar que tan rápido es un algortimo comparado con otro."
      ]
    },
    {
      "cell_type": "markdown",
      "metadata": {
        "id": "KP3suZUXcQrA",
        "colab_type": "text"
      },
      "source": [
        "### Definición\n",
        "\n",
        "Rapidez de Convergencia: Supongamos que $\\{ \\beta_{n} \\}_{n=1}^{\\infty}$ es una sucesión cuyo valor de convergencia es cero y que $\\{ \\alpha_{n} \\}_{n=1}^{\\infty}$ converge a un número $\\alpha$. Si existe una constante positiva K tal que \n",
        "\n",
        "$$ | \\alpha_{n} -\\alpha | \\leq K | \\beta_{n}  |$$\n",
        "\n",
        "para n suficientemente grande, entonces decimos que $\\{ \\alpha_{n} \\}_{n=1}^{\\infty}$ converge a $\\alpha$ con rapidez de convergencia $ O(\\beta_{n})$.\n",
        "\n",
        "Esta expresión se lee ”O mayúscula de $\\beta_{n}$”. Se indica escribiendo $ \\alpha_{n} = \\alpha + O(\\beta_{n})$.\n",
        "\n",
        "Aunque esta definición permite comparar $\\{ \\alpha_{n} \\}_{n=1}^{\\infty}$ con cualquier sucesión en casi todas las situaciones emplearemos\n",
        "\n",
        "$$\\beta_{n} = \\frac{1}{n^{p}} $$\n",
        "\n",
        "para algún $p > 0$. Por lo general, buscaremos el mayor valor de $p$ tal que $ \\alpha_{n} = \\alpha + O( 1/n^{p})$."
      ]
    },
    {
      "cell_type": "markdown",
      "metadata": {
        "id": "Pd4u-M6UsMZd",
        "colab_type": "text"
      },
      "source": [
        "### Ejemplo\n",
        "\n",
        "Suponga que para $n \\geq 1$,\n",
        "\n",
        "$$ \\alpha_{n} = \\frac{n+1}{n^{2}} \\hspace{1.5mm}\\text{y} \\hspace{2mm}\\tilde{\\alpha_{n}}=\\frac{n+3}{n^{3}}$$\n",
        "\n",
        "Encontrar cual de las dos sucesiones converge mas rápido a cero.\n",
        "\n",
        "**Solución**.\n",
        "\n",
        "Aunque $\\underset{n\\rightarrow\\infty}{lim}\\alpha_{n}=0$   , la sucesión $\\{\\tilde{\\alpha_{n}}\\}_{n=1}^{\\infty}$ converge en este límite mucho más rápido que la suceción  $\\{ \\alpha_{n} \\}_{n=1}^{\\infty}$, usando aritmética de redondeo a cinco cifras, se puede apreciar en la siguiente tabla este comportamiento.\n",
        "\n",
        "| n        | 1            |  2 | 3|4 |5 |6 |7 |\n",
        "| :-:  | :-: | :-: |  :-: | :-:  |   :-: |   :-: |  :-: | \n",
        "| $\\alpha_{n} $  | 2.00000 |0.75000 |0.44444 |0.31250 |0.24000 |0.19444 |0.16237|\n",
        "| $\\tilde{\\alpha_{n}} $ | 4.00000 |0.65500    |0.22222 | 0.10938|0.64000 |0.04166 |0.0915|\n",
        "\n",
        "\n",
        "Si $\\{ \\beta_{n} \\}_{n=1}^{\\infty}=1/n \\quad$    y     $\\quad\\{\\tilde{\\beta_{n}}\\}_{n=1}^{\\infty}=1/n^{2}$ , vemos que \n",
        "\n",
        "$$ | \\alpha_{n} -0 |= \\frac{n+1}{n^{2}} \\leq \\frac{n+n}{n^{2}}= 2 \\frac{1}{n} = 2 \\beta_{n}$$\n",
        "\n",
        "y\n",
        "\n",
        "$$ | \\tilde{\\alpha_{n}} -0 |= \\frac{n+3}{n^{3}} \\leq \\frac{n+3n}{n^{3}}= 4 \\frac{1}{n^{2}} = 4 \\tilde{\\beta_{n}}\\$$\n",
        "\n",
        "de modo que \n",
        "\n",
        "$$ \\alpha_{n} = 0+ O( \\frac{1}{n} ) \\hspace{1.5mm}\\text{y} \\hspace{2mm} \\tilde{\\alpha_{n}}= 0+ O( \\frac{1}{n^{2}} ) $$\n",
        "\n",
        "La rapidez de convergencia de $\\{ \\alpha_{n} \\}_{n=1}^{\\infty}$ a cero es similar a la convergencia de $\\{ 1/n \\}$ a cero, mientras que la rapidez de convergencia de $\\{\\tilde{\\alpha_{n}}\\}_{n=1}^{\\infty}$ a cero es similar a la convergencia de $\\{ 1/n^{2} \\}$, la cual converge más rápido.\n",
        "\n",
        "También se emplea la notación ”O mayúscula” para describir la\n",
        "rapidez de convergencia de funciones.\n"
      ]
    },
    {
      "cell_type": "markdown",
      "metadata": {
        "id": "c3jjc6bvsMZe",
        "colab_type": "text"
      },
      "source": [
        "## Referencias\n",
        "1. Riswan Butt: Numerical Analysis Using Matlab, Jones and Barlett.\n",
        "2. Ward Cheney, David Kincaid: Métodos Numéricos y Computación, Cenage Learning.\n",
        "3. Richard L. Burden, J, Douglas Faires: Análisis Numérico, Math Learning.\n",
        "4. Proyecto PAPIME PE101019: notebook Sucesiones\n",
        "\n",
        "\n"
      ]
    }
  ]
}