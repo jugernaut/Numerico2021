{
  "nbformat": 4,
  "nbformat_minor": 0,
  "metadata": {
    "kernelspec": {
      "display_name": "Python 3.7 (tensorflow)",
      "language": "python",
      "name": "tensorflow"
    },
    "language_info": {
      "codemirror_mode": {
        "name": "ipython",
        "version": 3
      },
      "file_extension": ".py",
      "mimetype": "text/x-python",
      "name": "python",
      "nbconvert_exporter": "python",
      "pygments_lexer": "ipython3",
      "version": "3.7.7"
    },
    "colab": {
      "name": "Complejidad_y_Convergencia.ipynb",
      "provenance": [],
      "include_colab_link": true
    },
    "widgets": {
      "application/vnd.jupyter.widget-state+json": {
        "ce688fbd7400469b83385e626a868036": {
          "model_module": "@jupyter-widgets/controls",
          "model_name": "VBoxModel",
          "state": {
            "_view_name": "VBoxView",
            "_dom_classes": [
              "widget-interact"
            ],
            "_model_name": "VBoxModel",
            "_view_module": "@jupyter-widgets/controls",
            "_model_module_version": "1.5.0",
            "_view_count": null,
            "_view_module_version": "1.5.0",
            "box_style": "",
            "layout": "IPY_MODEL_7044d4fd3d76447fa060629b3e3ffa9c",
            "_model_module": "@jupyter-widgets/controls",
            "children": [
              "IPY_MODEL_3a3c14cf9d3c49d99c0e59396734b27a",
              "IPY_MODEL_aeb1ef3d52b04ae9bbc53e96564aa252"
            ]
          }
        },
        "7044d4fd3d76447fa060629b3e3ffa9c": {
          "model_module": "@jupyter-widgets/base",
          "model_name": "LayoutModel",
          "state": {
            "_view_name": "LayoutView",
            "grid_template_rows": null,
            "right": null,
            "justify_content": null,
            "_view_module": "@jupyter-widgets/base",
            "overflow": null,
            "_model_module_version": "1.2.0",
            "_view_count": null,
            "flex_flow": null,
            "width": null,
            "min_width": null,
            "border": null,
            "align_items": null,
            "bottom": null,
            "_model_module": "@jupyter-widgets/base",
            "top": null,
            "grid_column": null,
            "overflow_y": null,
            "overflow_x": null,
            "grid_auto_flow": null,
            "grid_area": null,
            "grid_template_columns": null,
            "flex": null,
            "_model_name": "LayoutModel",
            "justify_items": null,
            "grid_row": null,
            "max_height": null,
            "align_content": null,
            "visibility": null,
            "align_self": null,
            "height": null,
            "min_height": null,
            "padding": null,
            "grid_auto_rows": null,
            "grid_gap": null,
            "max_width": null,
            "order": null,
            "_view_module_version": "1.2.0",
            "grid_template_areas": null,
            "object_position": null,
            "object_fit": null,
            "grid_auto_columns": null,
            "margin": null,
            "display": null,
            "left": null
          }
        },
        "3a3c14cf9d3c49d99c0e59396734b27a": {
          "model_module": "@jupyter-widgets/controls",
          "model_name": "IntSliderModel",
          "state": {
            "_view_name": "IntSliderView",
            "style": "IPY_MODEL_241686516cf84605beeb8635b146b8bd",
            "_dom_classes": [],
            "description": "degree",
            "step": 1,
            "_model_name": "IntSliderModel",
            "orientation": "horizontal",
            "max": 10,
            "_view_module": "@jupyter-widgets/controls",
            "_model_module_version": "1.5.0",
            "value": 7,
            "_view_count": null,
            "disabled": false,
            "_view_module_version": "1.5.0",
            "min": 0,
            "continuous_update": true,
            "readout_format": "d",
            "description_tooltip": null,
            "readout": true,
            "_model_module": "@jupyter-widgets/controls",
            "layout": "IPY_MODEL_51bef94d3bc444a6ab7b19390d980064"
          }
        },
        "aeb1ef3d52b04ae9bbc53e96564aa252": {
          "model_module": "@jupyter-widgets/output",
          "model_name": "OutputModel",
          "state": {
            "_view_name": "OutputView",
            "msg_id": "",
            "_dom_classes": [],
            "_model_name": "OutputModel",
            "outputs": [
              {
                "output_type": "display_data",
                "metadata": {
                  "tags": [],
                  "needs_background": "light"
                },
                "image/png": "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\n",
                "text/plain": "<Figure size 432x288 with 1 Axes>"
              }
            ],
            "_view_module": "@jupyter-widgets/output",
            "_model_module_version": "1.0.0",
            "_view_count": null,
            "_view_module_version": "1.0.0",
            "layout": "IPY_MODEL_bf1e46eec11442a5ab8d3b45550881f0",
            "_model_module": "@jupyter-widgets/output"
          }
        },
        "241686516cf84605beeb8635b146b8bd": {
          "model_module": "@jupyter-widgets/controls",
          "model_name": "SliderStyleModel",
          "state": {
            "_view_name": "StyleView",
            "handle_color": null,
            "_model_name": "SliderStyleModel",
            "description_width": "",
            "_view_module": "@jupyter-widgets/base",
            "_model_module_version": "1.5.0",
            "_view_count": null,
            "_view_module_version": "1.2.0",
            "_model_module": "@jupyter-widgets/controls"
          }
        },
        "51bef94d3bc444a6ab7b19390d980064": {
          "model_module": "@jupyter-widgets/base",
          "model_name": "LayoutModel",
          "state": {
            "_view_name": "LayoutView",
            "grid_template_rows": null,
            "right": null,
            "justify_content": null,
            "_view_module": "@jupyter-widgets/base",
            "overflow": null,
            "_model_module_version": "1.2.0",
            "_view_count": null,
            "flex_flow": null,
            "width": null,
            "min_width": null,
            "border": null,
            "align_items": null,
            "bottom": null,
            "_model_module": "@jupyter-widgets/base",
            "top": null,
            "grid_column": null,
            "overflow_y": null,
            "overflow_x": null,
            "grid_auto_flow": null,
            "grid_area": null,
            "grid_template_columns": null,
            "flex": null,
            "_model_name": "LayoutModel",
            "justify_items": null,
            "grid_row": null,
            "max_height": null,
            "align_content": null,
            "visibility": null,
            "align_self": null,
            "height": null,
            "min_height": null,
            "padding": null,
            "grid_auto_rows": null,
            "grid_gap": null,
            "max_width": null,
            "order": null,
            "_view_module_version": "1.2.0",
            "grid_template_areas": null,
            "object_position": null,
            "object_fit": null,
            "grid_auto_columns": null,
            "margin": null,
            "display": null,
            "left": null
          }
        },
        "bf1e46eec11442a5ab8d3b45550881f0": {
          "model_module": "@jupyter-widgets/base",
          "model_name": "LayoutModel",
          "state": {
            "_view_name": "LayoutView",
            "grid_template_rows": null,
            "right": null,
            "justify_content": null,
            "_view_module": "@jupyter-widgets/base",
            "overflow": null,
            "_model_module_version": "1.2.0",
            "_view_count": null,
            "flex_flow": null,
            "width": null,
            "min_width": null,
            "border": null,
            "align_items": null,
            "bottom": null,
            "_model_module": "@jupyter-widgets/base",
            "top": null,
            "grid_column": null,
            "overflow_y": null,
            "overflow_x": null,
            "grid_auto_flow": null,
            "grid_area": null,
            "grid_template_columns": null,
            "flex": null,
            "_model_name": "LayoutModel",
            "justify_items": null,
            "grid_row": null,
            "max_height": null,
            "align_content": null,
            "visibility": null,
            "align_self": null,
            "height": null,
            "min_height": null,
            "padding": null,
            "grid_auto_rows": null,
            "grid_gap": null,
            "max_width": null,
            "order": null,
            "_view_module_version": "1.2.0",
            "grid_template_areas": null,
            "object_position": null,
            "object_fit": null,
            "grid_auto_columns": null,
            "margin": null,
            "display": null,
            "left": null
          }
        }
      }
    }
  },
  "cells": [
    {
      "cell_type": "markdown",
      "metadata": {
        "id": "view-in-github",
        "colab_type": "text"
      },
      "source": [
        "<a href=\"https://colab.research.google.com/github/jugernaut/Numerico2021/blob/master/Complejidad_y_Convergencia.ipynb\" target=\"_parent\"><img src=\"https://colab.research.google.com/assets/colab-badge.svg\" alt=\"Open In Colab\"/></a>"
      ]
    },
    {
      "cell_type": "markdown",
      "metadata": {
        "id": "ao1k_j_2sMY0",
        "colab_type": "text"
      },
      "source": [
        "# Complejidad y Convergencia \n",
        "Profesor: M.en.C. Miguel Angel Pérez León.\n",
        "\n",
        "Ayudante: Jesús Iván Coss Calderón.\n",
        "\n",
        "Materia: Análisis Numérico."
      ]
    },
    {
      "cell_type": "markdown",
      "metadata": {
        "id": "gJ73MmHesMY1",
        "colab_type": "text"
      },
      "source": [
        "##  1. Introducción"
      ]
    },
    {
      "cell_type": "markdown",
      "metadata": {
        "id": "gz4zN-o7sMY2",
        "colab_type": "text"
      },
      "source": [
        "Un **algoritmo** es un procedimiento que describe, sin ambiguedad, una serie finita de pasos a realizar en un orden especifico.\n",
        "\n",
        "La finalidad de un algoritmmo es poner en prática algún procedimiento para resolver un problema o **aproximarse a una solución** del problema.\n",
        "\n",
        "**Pseudocódigo** es la forma de representar un algoritmo, sin tener que emplear algún lenguaje de programación en especifico, pero lo suficientemente cercano a este, para que pueda escribirse en un lenguaje de programación con un par de cambios (como el pseudocódigo del algoritmo de Horner).\n",
        "\n",
        "Este pseudocódigo especifica la forma de la entrada por proporcionar y la forma de salida deseada."
      ]
    },
    {
      "cell_type": "markdown",
      "metadata": {
        "id": "EtHhYOvHsMY3",
        "colab_type": "text"
      },
      "source": [
        "### Suma de los N primeros naturales"
      ]
    },
    {
      "cell_type": "markdown",
      "metadata": {
        "id": "5T4wHs0PsMY3",
        "colab_type": "text"
      },
      "source": [
        "No todos los algoritmos numéricos devuelven un resultado\n",
        "satisfactorio, para una entrada elegida.\n",
        "\n",
        "Como consecuencia, en cada algoritmo se incorpora alguna técnica\n",
        "(condición) para saber cuando es que debe detenerse,\n",
        "independientemente del método numérico empleado, esto con la\n",
        "finalidad de **evitar ciclos infinitos**."
      ]
    },
    {
      "cell_type": "markdown",
      "metadata": {
        "id": "Frejj4zDsMY4",
        "colab_type": "text"
      },
      "source": [
        "Escriba el algoritmo para sumar los primeros n numeros naturales"
      ]
    },
    {
      "cell_type": "code",
      "metadata": {
        "id": "so4XKXmSsMY5",
        "colab_type": "code",
        "colab": {
          "base_uri": "https://localhost:8080/",
          "height": 67
        },
        "outputId": "f86be84d-1b30-40f0-9372-5d675ca08625"
      },
      "source": [
        "n=int(input(\"Ingrese el numero hasta el cual se quiere sumar\\n\"))\n",
        "suma=0\n",
        "# la funcion range toma hasta un numero antes de n\n",
        "for i in range(n+1):\n",
        "    suma+=i\n",
        "\n",
        "print(\"La suma es: {}\".format(suma))"
      ],
      "execution_count": 2,
      "outputs": [
        {
          "output_type": "stream",
          "text": [
            "Ingrese el numero hasta el cual se quiere sumar\n",
            "5\n",
            "La suma es: 15\n"
          ],
          "name": "stdout"
        }
      ]
    },
    {
      "cell_type": "markdown",
      "metadata": {
        "id": "DBRphS9qsMY9",
        "colab_type": "text"
      },
      "source": [
        "Otra tipo de algoritmos son los que describen un procedimiento en\n",
        "términos matemáticos, como lo son las **series de Taylor**."
      ]
    },
    {
      "cell_type": "markdown",
      "metadata": {
        "id": "iCC4mkb5sMY-",
        "colab_type": "text"
      },
      "source": [
        "### Serie de Taylor"
      ]
    },
    {
      "cell_type": "markdown",
      "metadata": {
        "id": "EcEefSw6sMY_",
        "colab_type": "text"
      },
      "source": [
        "Es una serie finita de potencias que representa de manera exacta una función $f (x)$ al rededor de un punto $x = c$."
      ]
    },
    {
      "cell_type": "markdown",
      "metadata": {
        "id": "u4c0n2OxsMZA",
        "colab_type": "text"
      },
      "source": [
        "$$ f(x) = f(c) + f^{'}(c)(x-c) + \\frac{f^{''}(c)(x-c)^{2}}{2!} + \\dots + \\frac{f^{n}(c)(x-c)^{n}}{n!} $$"
      ]
    },
    {
      "cell_type": "markdown",
      "metadata": {
        "id": "pg3a1wcrsMZA",
        "colab_type": "text"
      },
      "source": [
        "Si $c = 0$ se trata de la serie de Maclurin."
      ]
    },
    {
      "cell_type": "markdown",
      "metadata": {
        "id": "KOE_AjnrsMZB",
        "colab_type": "text"
      },
      "source": [
        "Esta aproximación de $f (x)$ se conoce como la aproximación de $f (x)$\n",
        "en series de Taylor y dependiendo la derivada sera el grado del\n",
        "polinomio de Taylor. Cabe recalcar, que a mayor grado del polinomio\n",
        "de Taylor sera mayor la exactitud de la aproximación."
      ]
    },
    {
      "cell_type": "markdown",
      "metadata": {
        "id": "bYAf5LYxsMZC",
        "colab_type": "text"
      },
      "source": [
        "### Ejemplo"
      ]
    },
    {
      "cell_type": "markdown",
      "metadata": {
        "id": "FejkWtyxsMZE",
        "colab_type": "text"
      },
      "source": [
        "Obtenga los seis primeros términos de la serie de Taylor para $f(x)= e^{x}$ alrededor del cero."
      ]
    },
    {
      "cell_type": "markdown",
      "metadata": {
        "id": "e8Sv7RlmsMZF",
        "colab_type": "text"
      },
      "source": [
        "**Solución**:\n",
        "    \n",
        "Al obtener las primeras 5 derivadas de la función se tiene \n",
        "\n",
        "$$f(x)= f^{1}(x)=f^{2}(x)=f^{3}(x)=f^{4}(x)=f^{5}(x)= e^{x}$$\n",
        "\n",
        "Posteriormente se evalua en el punto cero ($x=c=0$ )\n",
        "\n",
        "$$f(0)= f^{1}(0)=f^{2}(0)=f^{3}(0)=f^{4}(0)=f^{5}(0)= e^{0}=1$$\n",
        "\n",
        "Lo que da como resultado la siguiente expresión, que representa el\n",
        "polinomio de Taylor de $e^{x}$ al rededor del punto 0.\n",
        "\n",
        "$$ f(x) = 1 + x + \\frac{x^{2}}{2!}+ \\frac{x^{3}}{3!}+ \\frac{x^{4}}{4!}+ \\frac{x^{5}}{5!} + \\dots  $$"
      ]
    },
    {
      "cell_type": "markdown",
      "metadata": {
        "id": "u0bmY0UbsMZG",
        "colab_type": "text"
      },
      "source": [
        "**Solución en python**:"
      ]
    },
    {
      "cell_type": "code",
      "metadata": {
        "id": "eKtMrvK5sMZH",
        "colab_type": "code",
        "colab": {
          "base_uri": "https://localhost:8080/",
          "height": 398,
          "referenced_widgets": [
            "ce688fbd7400469b83385e626a868036",
            "7044d4fd3d76447fa060629b3e3ffa9c",
            "3a3c14cf9d3c49d99c0e59396734b27a",
            "aeb1ef3d52b04ae9bbc53e96564aa252",
            "241686516cf84605beeb8635b146b8bd",
            "51bef94d3bc444a6ab7b19390d980064",
            "bf1e46eec11442a5ab8d3b45550881f0"
          ]
        },
        "outputId": "c0687143-fd9a-4140-eb72-d8878ed3df94"
      },
      "source": [
        "import matplotlib.pyplot as plt\n",
        "import numpy as np \n",
        "from scipy.interpolate import approximate_taylor_polynomial\n",
        "from IPython.html.widgets import interact\n",
        "import ipywidgets as widgets\n",
        "\n",
        "#@interact(degree=(0,10))\n",
        "def Taylor(degree):\n",
        "    x = np.linspace(-10.0, 10.0, num=100)\n",
        "    plt.plot(x, np.exp(x), label=\"función exponencial\",color='blue')\n",
        "    aprox_taylor = approximate_taylor_polynomial(np.exp, 0, degree, 1\\\n",
        "                                               ,order=degree+2)\n",
        "    plt.plot(x, aprox_taylor(x), label=\"Aproximación de Taylor de grado \" +str(degree),color='black')\n",
        "    plt.axis([-10, 10, -10, 10])\n",
        "    plt.legend()\n",
        "    plt.xlabel(r\"$x$\")\n",
        "    plt.ylabel(r\"$f(x)$\")\n",
        "    plt.title(\"Aproximación de Taylor \")\n",
        "    plt.grid()\n",
        "\n",
        "interact(Taylor,degree=widgets.IntSlider(min=0,max=10,step=1,value=0))"
      ],
      "execution_count": 3,
      "outputs": [
        {
          "output_type": "stream",
          "text": [
            "/usr/local/lib/python3.6/dist-packages/IPython/html.py:14: ShimWarning: The `IPython.html` package has been deprecated since IPython 4.0. You should import from `notebook` instead. `IPython.html.widgets` has moved to `ipywidgets`.\n",
            "  \"`IPython.html.widgets` has moved to `ipywidgets`.\", ShimWarning)\n"
          ],
          "name": "stderr"
        },
        {
          "output_type": "display_data",
          "data": {
            "application/vnd.jupyter.widget-view+json": {
              "model_id": "ce688fbd7400469b83385e626a868036",
              "version_minor": 0,
              "version_major": 2
            },
            "text/plain": [
              "interactive(children=(IntSlider(value=0, description='degree', max=10), Output()), _dom_classes=('widget-inter…"
            ]
          },
          "metadata": {
            "tags": []
          }
        },
        {
          "output_type": "execute_result",
          "data": {
            "text/plain": [
              "<function __main__.Taylor>"
            ]
          },
          "metadata": {
            "tags": []
          },
          "execution_count": 3
        }
      ]
    },
    {
      "cell_type": "markdown",
      "metadata": {
        "id": "auIipbwcsMZK",
        "colab_type": "text"
      },
      "source": [
        "De tal manera que la siguiente expresión, se aproxima con 6\n",
        "terminos a $e^{x}$ al rededor del punto 0.\n",
        "\n",
        "$$ f(x) \\approx 1 + x + \\frac{x^{2}}{2!}+ \\frac{x^{3}}{3!}+ \\frac{x^{4}}{4!}+ \\frac{x^{5}}{5!} + \\dots  $$\n",
        "\n",
        "**Ejercicio**:\n",
        "\n",
        "Si se sabe que el valor exacto de $e^{0.5} = 1.6487212707$. Calcula\n",
        "el error relativo porcentual que se comete si se trunca la serie en\n",
        "seis términos. Emplea 6 decimales."
      ]
    },
    {
      "cell_type": "markdown",
      "metadata": {
        "id": "b1PAHIBhsMZL",
        "colab_type": "text"
      },
      "source": [
        "**Solución en python**:"
      ]
    },
    {
      "cell_type": "code",
      "metadata": {
        "id": "m24HWhvpsMZM",
        "colab_type": "code",
        "colab": {}
      },
      "source": [
        "import pandas as pd \n",
        "\n",
        "def ErrorTaylor(x):\n",
        "    ordenes=np.arange(6)\n",
        "    aprox_taylor=np.array([0.0]*6)\n",
        "    func_eval=np.zeros(6)\n",
        "    error=np.zeros_like(aprox_taylor)\n",
        "    for degree in ordenes:\n",
        "        PolTaylor = approximate_taylor_polynomial(np.exp, 0, degree, 1,order=degree+2)\n",
        "        aprox_taylor[degree]=PolTaylor(x)\n",
        "        func_eval[degree]=np.exp(x)\n",
        "        error[degree]=np.abs((aprox_taylor[degree]-func_eval[degree])/func_eval[degree])\n",
        "        \n",
        "    data={\"Termino\":[1,2,3,4,5,6],\"aproximacion\":aprox_taylor,\n",
        "          \"valor real\":func_eval,\"error\":error    \n",
        "    }\n",
        "    tabla=pd.DataFrame(data)\n",
        "    return tabla"
      ],
      "execution_count": null,
      "outputs": []
    },
    {
      "cell_type": "code",
      "metadata": {
        "id": "rIQrztllsMZQ",
        "colab_type": "code",
        "colab": {},
        "outputId": "baeb981d-561f-4121-ade7-db68a83e8fb0"
      },
      "source": [
        "ErrorTaylor(0.5)"
      ],
      "execution_count": null,
      "outputs": [
        {
          "output_type": "execute_result",
          "data": {
            "text/html": [
              "<div>\n",
              "<style scoped>\n",
              "    .dataframe tbody tr th:only-of-type {\n",
              "        vertical-align: middle;\n",
              "    }\n",
              "\n",
              "    .dataframe tbody tr th {\n",
              "        vertical-align: top;\n",
              "    }\n",
              "\n",
              "    .dataframe thead th {\n",
              "        text-align: right;\n",
              "    }\n",
              "</style>\n",
              "<table border=\"1\" class=\"dataframe\">\n",
              "  <thead>\n",
              "    <tr style=\"text-align: right;\">\n",
              "      <th></th>\n",
              "      <th>Termino</th>\n",
              "      <th>aproximacion</th>\n",
              "      <th>valor real</th>\n",
              "      <th>error</th>\n",
              "    </tr>\n",
              "  </thead>\n",
              "  <tbody>\n",
              "    <tr>\n",
              "      <th>0</th>\n",
              "      <td>1</td>\n",
              "      <td>0.944804</td>\n",
              "      <td>1.648721</td>\n",
              "      <td>0.426947</td>\n",
              "    </tr>\n",
              "    <tr>\n",
              "      <th>1</th>\n",
              "      <td>2</td>\n",
              "      <td>1.486893</td>\n",
              "      <td>1.648721</td>\n",
              "      <td>0.098154</td>\n",
              "    </tr>\n",
              "    <tr>\n",
              "      <th>2</th>\n",
              "      <td>3</td>\n",
              "      <td>1.623448</td>\n",
              "      <td>1.648721</td>\n",
              "      <td>0.015329</td>\n",
              "    </tr>\n",
              "    <tr>\n",
              "      <th>3</th>\n",
              "      <td>4</td>\n",
              "      <td>1.645711</td>\n",
              "      <td>1.648721</td>\n",
              "      <td>0.001826</td>\n",
              "    </tr>\n",
              "    <tr>\n",
              "      <th>4</th>\n",
              "      <td>5</td>\n",
              "      <td>1.648429</td>\n",
              "      <td>1.648721</td>\n",
              "      <td>0.000177</td>\n",
              "    </tr>\n",
              "    <tr>\n",
              "      <th>5</th>\n",
              "      <td>6</td>\n",
              "      <td>1.648697</td>\n",
              "      <td>1.648721</td>\n",
              "      <td>0.000015</td>\n",
              "    </tr>\n",
              "  </tbody>\n",
              "</table>\n",
              "</div>"
            ],
            "text/plain": [
              "   Termino  aproximacion  valor real     error\n",
              "0        1      0.944804    1.648721  0.426947\n",
              "1        2      1.486893    1.648721  0.098154\n",
              "2        3      1.623448    1.648721  0.015329\n",
              "3        4      1.645711    1.648721  0.001826\n",
              "4        5      1.648429    1.648721  0.000177\n",
              "5        6      1.648697    1.648721  0.000015"
            ]
          },
          "metadata": {
            "tags": []
          },
          "execution_count": 72
        }
      ]
    },
    {
      "cell_type": "markdown",
      "metadata": {
        "id": "J7F7w4WssMZU",
        "colab_type": "text"
      },
      "source": [
        "##  2. Complejidad."
      ]
    },
    {
      "cell_type": "markdown",
      "metadata": {
        "id": "M4GnymVqsMZV",
        "colab_type": "text"
      },
      "source": [
        "Para poder emplear algoritmos eficientes y que den resultados\n",
        "útiles es necesario emplear algunas herramientas para su análisis.\n",
        "\n",
        "**Definición de Complejidad Computacional**:\n",
        "\n",
        "Es la rama de las ciencias de la computación que estudia de manera teórica, la optimización de los recursos requeridos durante la ejecución de un algoritmo.\n",
        "\n",
        "El análisis se basa en 2 aspectos: el tiempo y el espacio.\n",
        "\n",
        "El tiempo es el periodo transcurrido entre el inicio y la\n",
        "finalización del algoritmo.\n",
        "\n",
        "El espacio es la cantidad de memoria (la medida varia según la\n",
        "máquina) que necesita el algoritmo para su ejecución.\n",
        "\n",
        "**Complejidad Computacional $T(n)$**\n",
        "\n",
        "Es el número de operaciones elementales (*en el caso de análisis\n",
        "numérico las FLOP’s*) en función de la medida n (tamaño de los\n",
        "datos).\n",
        "\n",
        "¿Como se mide?. Una vez que se tiene el algoritmo en forma de\n",
        "pseudocódigo, se puede dar una estimación de cuantas operaciones\n",
        "elementales se realizan en función de la entrada n.\n",
        "\n",
        "Sea cual sea el algoritmo, para llevar a cabo el análisis de la\n",
        "complejidad de dicho algoritmo, normalmente se toma en cuenta dos\n",
        "posibles casos: el peor caso y el caso promedio.\n",
        "\n",
        "**Peor Caso**: se calcula $T(n)$ asumiendo que n es la ”peor” de todas o\n",
        "que de los posibles casos al ejecutar el algoritmo, se cae en el peor de\n",
        "ellos.\n",
        "\n",
        "Caso Promedio: se calcula promediando el tiempo (o espacio)\n",
        "empleado para cada una de las entradas posibles.\n",
        "\n",
        "**Cota superior asintótica**\n",
        "\n",
        "En el análisis de algoritmos una cota superior asintótica es una\n",
        "función que sirve de cota superior de otra función cuando el\n",
        "argumento tiende a infinito.\n",
        "\n",
        "Usualmente se utiliza la notación Landau $O(g(x))$, orden de\n",
        "$g(x)$, o coloquialmente se llama ”Notación O Grande”, para\n",
        "referirse a las funciones acotadas superiormente por la función\n",
        "$g(x)$\n",
        "\n",
        "**Definición de Cota superior asintótica**:\n",
        "\n",
        "$$O\\left(g\\left(x\\right)\\right)=\\left\\{ f\\left(x\\right)\\colon\\exists\\,x_{0},c>0\\mid\\forall x\\geq x_{0}>0\\Rightarrow0\\leq\\left|f\\left(x\\right)\\right|\\leq c\\left|g\\left(x\\right)\\right|\\right\\} $$\n",
        "\n",
        "En el análisis de algoritmos una cota superior asintótica es una función que sirve de cota superior de otra función cuando el argumento tiende a infinito.\n",
        "\n",
        "Normalmente se utiliza la notación Landau $O(g(x))$, orden de $g(x)$, o coloquialmente se llama ”Notación O Grande”, para referirse a las funciones acotadas superiormente por la función $g(x)$\n"
      ]
    },
    {
      "cell_type": "markdown",
      "metadata": {
        "id": "CWAxCFFvsMZW",
        "colab_type": "text"
      },
      "source": [
        "![Asintotica](https://docs.google.com/uc?export=download&id=1XaFRdeBPTpkjAVhCLXvxmByo8Rx4pt8t)"
      ]
    },
    {
      "cell_type": "markdown",
      "metadata": {
        "id": "PBW8PVyGsMZW",
        "colab_type": "text"
      },
      "source": [
        "Como te podrás dar cuenta, la cota superior asintótica nos sirve\n",
        "para definir categorías (orden de complejidad) dentro del\n",
        "desempeño de los mucho algoritmos existentes. Y esto sirve\n",
        "para poder identificar cuales algoritmos son mas eficientes que\n",
        "otros.\n",
        "\n",
        "\n",
        "\n",
        "\n",
        "| orden de Complejidad        | Nombre            | \n",
        "| :-:           |    :-:        | \n",
        "| $O(1) $       | Orden constante | \n",
        "| $O(log n) $   | Orden logarítmico     |\n",
        "| $O(n) $       | Orden lineal      |\n",
        "| $O(n log n) $ | Orden n log n      | \n",
        "| $O( n^{2}) $  | Orden cuadrático      | \n",
        "| $O( n^{a}) $  | Orden polinomial ($a>2$)     | \n",
        "| $O( a^{n}) $  | Orden exponencial ($a>2$)     | \n",
        "| $O( n!)    $  | Orden factorial      | \n",
        "\n",
        "A continuación se muestra las cotas (categorias) mas comúnes.\n"
      ]
    },
    {
      "cell_type": "markdown",
      "metadata": {
        "id": "898ALIjpsMZX",
        "colab_type": "text"
      },
      "source": [
        "![Complejidad](https://docs.google.com/uc?export=download&id=1hF0sx5SPkF1wf6fwhqfr_KNFXxSooXHu)"
      ]
    },
    {
      "cell_type": "markdown",
      "metadata": {
        "id": "DFbSSCXnsMZZ",
        "colab_type": "text"
      },
      "source": [
        "##  3. Estabilidad de algoritmos."
      ]
    },
    {
      "cell_type": "markdown",
      "metadata": {
        "id": "yJuAwl9-sMZa",
        "colab_type": "text"
      },
      "source": [
        "Los algoritmos de interés para el análisis numérico, son aquellos\n",
        "que produzcan resultados precisos.\n",
        "\n",
        "Uno de los criterios que siempre se tratan de imponer sobre un\n",
        "algoritmo, es que los cambios pequeños en los datos iniciales,\n",
        "produzcan otros correspondientes en los resultados finales. Un\n",
        "algoritmo que satisfaga esta propiedad es estable, en caso\n",
        "contrario es **inestable**.\n",
        "\n",
        "Algunos algoritmos solo son estables para ciertas elecciones de\n",
        "datos iniciales; a estos se les llama condicionalmente estables.\n",
        "\n",
        "A lo largo del curso analizaremos algoritmos tanto estables,\n",
        "como inestables y condicionalmente estables.\n"
      ]
    },
    {
      "cell_type": "markdown",
      "metadata": {
        "id": "BrFHF9yVsMZa",
        "colab_type": "text"
      },
      "source": [
        "##  4. Crecimiento del error."
      ]
    },
    {
      "cell_type": "markdown",
      "metadata": {
        "id": "ZHss2SiysMZb",
        "colab_type": "text"
      },
      "source": [
        "Supongamos que se genera un error de magnitud $E_{0} > 0$ en cierta\n",
        "etapa de los cálculos y se denota por $E_{n}$ la magnitud del error\n",
        "después de $n$ operaciones sucesivas. Los 2 casos que surgen con mas\n",
        "frecuencia en la práctica se definen como sigue:\n",
        "\n",
        "**Definición de Crecimiento del error.**\n",
        "\n",
        "Si $E_{n} \\approx C_{n} E_{0} $ es una constante independiente de $n$, entonces se dice que el crecimiento del error es lineal. Si $E_{n} \\approx C^{n} E_{0} $ para alguna $C>1$, entonces el crecimiento del error se denomina exponencial.\n",
        "\n",
        "Normalmente el crecimiento lineal es inevitable y, cuando $C$ y $E_{0}$ son pequeños, por lo general los resultados son aceptables. Por otro lado hay que evitar el crecimiento exponencial del error, ya que el termino $C^{n}$ crece incluso para valores de n relativamente pequeños.\n",
        "\n",
        "En consecuencia un algoritmo con un crecimiento lineal del error es estable, pero no un algoritmo con crecimiento exponencial del error ya que se considera inestable.\n",
        "\n"
      ]
    },
    {
      "cell_type": "markdown",
      "metadata": {
        "id": "c9dxiAsQsMZc",
        "colab_type": "text"
      },
      "source": [
        "![Crecimiento](https://docs.google.com/uc?export=download&id=1ikGd8jMYQaiZkDlFNV5x7oGBr79Rddvw)"
      ]
    },
    {
      "cell_type": "markdown",
      "metadata": {
        "id": "tIRgcBRfsMZc",
        "colab_type": "text"
      },
      "source": [
        "##  5. Rapidez de Convergencia."
      ]
    },
    {
      "cell_type": "markdown",
      "metadata": {
        "id": "nq5xXHl9sMZd",
        "colab_type": "text"
      },
      "source": [
        "Una de las maneras de determinar que tan bueno es un algoritmo en\n",
        "comparación con otro es mediante la rapidez de convergencia, la cual nos\n",
        "indica cuál de los 2 algoritmos comparados encontrara una solución de\n",
        "manera mas rápida.\n",
        "\n",
        "**Definición de Convergencia.**\n",
        "\n",
        "En matemáticas, una serie (suma de los términos de una\n",
        "secuencia de números), resulta convergente si la sucesión de\n",
        "sumas parciales tiene un límite en el espacio considerado. De\n",
        "otro modo, constituiría lo que se denomina serie divergente.\n",
        "\n",
        "**Definición de Rapidez de convergencia.**\n",
        "\n",
        "Supongamos que $\\{ \\beta_{n} \\}_{n=1}^{\\infty}$ es una sucesión cuyo valor de convergencia es cero y que $\\{ \\alpha_{n} \\}_{n=1}^{\\infty}$ converge a un número $\\alpha$. Si existe una constante positiva K tal que \n",
        "\n",
        "$$ | \\alpha_{n} -\\alpha | \\leq K | \\beta_{n}  |$$\n",
        "\n",
        "para n suficientemente grande, entonces decimos que $\\{ \\alpha_{n} \\}_{n=1}^{\\infty}$ converge a $\\alpha$ con rapidez de convergencia $ O(\\beta_{n})$.\n",
        "\n",
        "Esta expresión se lee ”O mayúscula de $\\beta_{n}$”. Se indica escribiendo $ \\alpha_{n} = \\alpha + O(\\beta_{n})$.\n",
        "\n",
        "Aunque esta definición permite comparar $\\{ \\alpha_{n} \\}_{n=1}^{\\infty}$ con cualquier sucesión en casi todas las situaciones emplearemos\n",
        "\n",
        "$$\\beta_{n} = \\frac{1}{n^{p}} $$\n",
        "\n",
        "para algún $p > 0$. Por lo general, buscaremos el mayor valor de p tal que $ \\alpha_{n} = \\alpha + O( 1/n^{p})$."
      ]
    },
    {
      "cell_type": "markdown",
      "metadata": {
        "id": "Pd4u-M6UsMZd",
        "colab_type": "text"
      },
      "source": [
        "**Ejemplo**\n",
        "\n",
        "Suponga que para $n \\geq 1$,\n",
        "\n",
        "$$ \\alpha_{n} = \\frac{n+1}{n^{2}} \\hspace{1.5mm}\\text{y} \\hspace{2mm}\\tilde{\\alpha_{n}}=\\frac{n+3}{n^{3}}$$\n",
        "\n",
        "Encontrar cual de las dos sucesiones converge mas rápido a cero.\n",
        "\n",
        "**Solución**.\n",
        "\n",
        "Aunque $\\lim_{n \\to \\infty} \\alpha_{n}=0$   , la sucesión $\\{\\tilde{\\alpha_{n}}\\}_{n=1}^{\\infty}$ converge en este límite mucho más rápido que la suceción  $\\{ \\alpha_{n} \\}_{n=1}^{\\infty}$, usando aritmética de redondeo a cinco cifras, se puede apreciar en la siguiente tabla este comportamiento.\n",
        "\n",
        "| n        | 1            |  2 | 3|4 |5 |6 |7 |\n",
        "| :-:  | :-: | :-: |  :-: | :-:  |   :-: |   :-: |  :-: | \n",
        "| $\\alpha_{n} $  | 2.00000 |0.75000 |0.44444 |0.31250 |0.24000 |0.19444 |0.16237|\n",
        "| $\\tilde{\\alpha_{n}} $ | 4.00000 |0.65500    |0.22222 | 0.10938|0.64000 |0.04166 |0.0915|\n",
        "\n",
        "\n",
        "Si $\\{\\tilde{\\beta_{n}}\\}_{n=1}^{\\infty}=1/n \\quad$    y     $\\quad\\{ \\beta_{n} \\}_{n=1}^{\\infty}=1/n^{2}$ , vemos que \n",
        "\n",
        "$$ | \\alpha_{n} -0 |= \\frac{n+1}{n^{2}} \\leq \\frac{n+n}{n^{2}}= 2 \\frac{1}{n} = 2 \\beta_{n}$$\n",
        "\n",
        "y\n",
        "\n",
        "$$ | \\tilde{\\alpha_{n}} -0 |= \\frac{n+3}{n^{3}} \\leq \\frac{n+3n}{n^{3}}= 4 \\frac{1}{n^{2}} = 4 \\beta_{n}$$\n",
        "\n",
        "de modo que \n",
        "\n",
        "$$ \\alpha_{n} = 0+ O( \\frac{1}{n} ) \\hspace{1.5mm}\\text{y} \\hspace{2mm} \\tilde{\\alpha_{n}}= 0+ O( \\frac{1}{n^{2}} ) $$\n",
        "\n",
        "La rapidez de convergencia de $\\{ \\alpha_{n} \\}_{n=1}^{\\infty}$ a cero es similar a la convergencia de $\\{ 1/n \\}$ a cero, mientras que la rapidez de convergencia de $\\{\\tilde{\\alpha_{n}}\\}_{n=1}^{\\infty}$ a cero es similar a la convergencia de $\\{ 1/n^{2} \\}$, la cual converge más rápido.\n",
        "\n",
        "También se emplea la notación ”O mayúscula” para describir la\n",
        "rapidez de convergencia de funciones.\n"
      ]
    },
    {
      "cell_type": "markdown",
      "metadata": {
        "id": "c3jjc6bvsMZe",
        "colab_type": "text"
      },
      "source": [
        "## Referencias."
      ]
    },
    {
      "cell_type": "markdown",
      "metadata": {
        "id": "187DZqd6sMZf",
        "colab_type": "text"
      },
      "source": [
        "1. Riswan Butt: Numerical Analysis Using Matlab, Jones and Barlett.\n",
        "2. Ward Cheney, David Kincaid: Métodos Numéricos y Computación, Cenage Learning.\n",
        "3. Richard L. Burden, J, Douglas Faires: Análisis Numérico, Math Learning."
      ]
    }
  ]
}
