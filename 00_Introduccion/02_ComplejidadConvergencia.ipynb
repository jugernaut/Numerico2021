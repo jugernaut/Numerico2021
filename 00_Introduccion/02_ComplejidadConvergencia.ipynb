{
  "nbformat": 4,
  "nbformat_minor": 0,
  "metadata": {
    "kernelspec": {
      "display_name": "Python 3.7 (tensorflow)",
      "language": "python",
      "name": "tensorflow"
    },
    "language_info": {
      "codemirror_mode": {
        "name": "ipython",
        "version": 3
      },
      "file_extension": ".py",
      "mimetype": "text/x-python",
      "name": "python",
      "nbconvert_exporter": "python",
      "pygments_lexer": "ipython3",
      "version": "3.7.7"
    },
    "colab": {
      "name": "Complejidad_y_Convergencia.ipynb",
      "provenance": [],
      "toc_visible": true,
      "include_colab_link": true
    },
    "widgets": {
      "application/vnd.jupyter.widget-state+json": {
        "b83ad83a78a24db9b172d59027a007fd": {
          "model_module": "@jupyter-widgets/controls",
          "model_name": "VBoxModel",
          "state": {
            "_view_name": "VBoxView",
            "_dom_classes": [
              "widget-interact"
            ],
            "_model_name": "VBoxModel",
            "_view_module": "@jupyter-widgets/controls",
            "_model_module_version": "1.5.0",
            "_view_count": null,
            "_view_module_version": "1.5.0",
            "box_style": "",
            "layout": "IPY_MODEL_d5823130b2454262b827136a0044825d",
            "_model_module": "@jupyter-widgets/controls",
            "children": [
              "IPY_MODEL_cd8aa474371148bb94fcd11083d3de7c",
              "IPY_MODEL_ab377e5e00e04b06a526973561a7e77e"
            ]
          }
        },
        "d5823130b2454262b827136a0044825d": {
          "model_module": "@jupyter-widgets/base",
          "model_name": "LayoutModel",
          "state": {
            "_view_name": "LayoutView",
            "grid_template_rows": null,
            "right": null,
            "justify_content": null,
            "_view_module": "@jupyter-widgets/base",
            "overflow": null,
            "_model_module_version": "1.2.0",
            "_view_count": null,
            "flex_flow": null,
            "width": null,
            "min_width": null,
            "border": null,
            "align_items": null,
            "bottom": null,
            "_model_module": "@jupyter-widgets/base",
            "top": null,
            "grid_column": null,
            "overflow_y": null,
            "overflow_x": null,
            "grid_auto_flow": null,
            "grid_area": null,
            "grid_template_columns": null,
            "flex": null,
            "_model_name": "LayoutModel",
            "justify_items": null,
            "grid_row": null,
            "max_height": null,
            "align_content": null,
            "visibility": null,
            "align_self": null,
            "height": null,
            "min_height": null,
            "padding": null,
            "grid_auto_rows": null,
            "grid_gap": null,
            "max_width": null,
            "order": null,
            "_view_module_version": "1.2.0",
            "grid_template_areas": null,
            "object_position": null,
            "object_fit": null,
            "grid_auto_columns": null,
            "margin": null,
            "display": null,
            "left": null
          }
        },
        "cd8aa474371148bb94fcd11083d3de7c": {
          "model_module": "@jupyter-widgets/controls",
          "model_name": "IntSliderModel",
          "state": {
            "_view_name": "IntSliderView",
            "style": "IPY_MODEL_19f92e979c754db289767154b5147656",
            "_dom_classes": [],
            "description": "grado",
            "step": 1,
            "_model_name": "IntSliderModel",
            "orientation": "horizontal",
            "max": 10,
            "_view_module": "@jupyter-widgets/controls",
            "_model_module_version": "1.5.0",
            "value": 9,
            "_view_count": null,
            "disabled": false,
            "_view_module_version": "1.5.0",
            "min": 0,
            "continuous_update": true,
            "readout_format": "d",
            "description_tooltip": null,
            "readout": true,
            "_model_module": "@jupyter-widgets/controls",
            "layout": "IPY_MODEL_240d3787fa6741d489f98f55aa4ef7cd"
          }
        },
        "ab377e5e00e04b06a526973561a7e77e": {
          "model_module": "@jupyter-widgets/output",
          "model_name": "OutputModel",
          "state": {
            "_view_name": "OutputView",
            "msg_id": "",
            "_dom_classes": [],
            "_model_name": "OutputModel",
            "outputs": [
              {
                "output_type": "display_data",
                "metadata": {
                  "tags": [],
                  "needs_background": "light"
                },
                "image/png": "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\n",
                "text/plain": "<Figure size 432x288 with 1 Axes>"
              }
            ],
            "_view_module": "@jupyter-widgets/output",
            "_model_module_version": "1.0.0",
            "_view_count": null,
            "_view_module_version": "1.0.0",
            "layout": "IPY_MODEL_5e11d68200904ada841c1d5d656c3899",
            "_model_module": "@jupyter-widgets/output"
          }
        },
        "19f92e979c754db289767154b5147656": {
          "model_module": "@jupyter-widgets/controls",
          "model_name": "SliderStyleModel",
          "state": {
            "_view_name": "StyleView",
            "handle_color": null,
            "_model_name": "SliderStyleModel",
            "description_width": "",
            "_view_module": "@jupyter-widgets/base",
            "_model_module_version": "1.5.0",
            "_view_count": null,
            "_view_module_version": "1.2.0",
            "_model_module": "@jupyter-widgets/controls"
          }
        },
        "240d3787fa6741d489f98f55aa4ef7cd": {
          "model_module": "@jupyter-widgets/base",
          "model_name": "LayoutModel",
          "state": {
            "_view_name": "LayoutView",
            "grid_template_rows": null,
            "right": null,
            "justify_content": null,
            "_view_module": "@jupyter-widgets/base",
            "overflow": null,
            "_model_module_version": "1.2.0",
            "_view_count": null,
            "flex_flow": null,
            "width": null,
            "min_width": null,
            "border": null,
            "align_items": null,
            "bottom": null,
            "_model_module": "@jupyter-widgets/base",
            "top": null,
            "grid_column": null,
            "overflow_y": null,
            "overflow_x": null,
            "grid_auto_flow": null,
            "grid_area": null,
            "grid_template_columns": null,
            "flex": null,
            "_model_name": "LayoutModel",
            "justify_items": null,
            "grid_row": null,
            "max_height": null,
            "align_content": null,
            "visibility": null,
            "align_self": null,
            "height": null,
            "min_height": null,
            "padding": null,
            "grid_auto_rows": null,
            "grid_gap": null,
            "max_width": null,
            "order": null,
            "_view_module_version": "1.2.0",
            "grid_template_areas": null,
            "object_position": null,
            "object_fit": null,
            "grid_auto_columns": null,
            "margin": null,
            "display": null,
            "left": null
          }
        },
        "5e11d68200904ada841c1d5d656c3899": {
          "model_module": "@jupyter-widgets/base",
          "model_name": "LayoutModel",
          "state": {
            "_view_name": "LayoutView",
            "grid_template_rows": null,
            "right": null,
            "justify_content": null,
            "_view_module": "@jupyter-widgets/base",
            "overflow": null,
            "_model_module_version": "1.2.0",
            "_view_count": null,
            "flex_flow": null,
            "width": null,
            "min_width": null,
            "border": null,
            "align_items": null,
            "bottom": null,
            "_model_module": "@jupyter-widgets/base",
            "top": null,
            "grid_column": null,
            "overflow_y": null,
            "overflow_x": null,
            "grid_auto_flow": null,
            "grid_area": null,
            "grid_template_columns": null,
            "flex": null,
            "_model_name": "LayoutModel",
            "justify_items": null,
            "grid_row": null,
            "max_height": null,
            "align_content": null,
            "visibility": null,
            "align_self": null,
            "height": null,
            "min_height": null,
            "padding": null,
            "grid_auto_rows": null,
            "grid_gap": null,
            "max_width": null,
            "order": null,
            "_view_module_version": "1.2.0",
            "grid_template_areas": null,
            "object_position": null,
            "object_fit": null,
            "grid_auto_columns": null,
            "margin": null,
            "display": null,
            "left": null
          }
        }
      }
    }
  },
  "cells": [
    {
      "cell_type": "markdown",
      "metadata": {
        "id": "view-in-github",
        "colab_type": "text"
      },
      "source": [
        "<a href=\"https://colab.research.google.com/github/jugernaut/Numerico2021/blob/master/00_Introduccion/02_ComplejidadConvergencia.ipynb\" target=\"_parent\"><img src=\"https://colab.research.google.com/assets/colab-badge.svg\" alt=\"Open In Colab\"/></a>"
      ]
    },
    {
      "cell_type": "markdown",
      "metadata": {
        "id": "ao1k_j_2sMY0",
        "colab_type": "text"
      },
      "source": [
        "# Complejidad y Convergencia \n",
        "Profesor: M.en.C. Miguel Angel Pérez León.\n",
        "\n",
        "Ayudante: Jesús Iván Coss Calderón.\n",
        "\n",
        "Materia: Análisis Numérico."
      ]
    },
    {
      "cell_type": "markdown",
      "metadata": {
        "id": "gJ73MmHesMY1",
        "colab_type": "text"
      },
      "source": [
        "##  Introducción\n",
        "\n",
        "Un **algoritmo** es un procedimiento que describe, sin ambiguedad, una serie finita de pasos a realizar en un orden especifico.\n",
        "\n",
        "La finalidad de un algoritmmo es poner en prática algún procedimiento para resolver un problema o **aproximarse a una solución** del problema.\n",
        "\n",
        "**Pseudocódigo** es la forma de representar un algoritmo, sin tener que emplear algún lenguaje de programación en especifico, pero lo suficientemente cercano a este, para que pueda escribirse en un lenguaje de programación con un par de cambios (como el pseudocódigo del algoritmo de Horner).\n",
        "\n",
        "Este pseudocódigo especifica la forma de la entrada por proporcionar y la forma de salida deseada."
      ]
    },
    {
      "cell_type": "markdown",
      "metadata": {
        "id": "qujunr8cVaUB",
        "colab_type": "text"
      },
      "source": [
        "### Suma de los N primeros naturales\n",
        "\n",
        "No todos los algoritmos numéricos devuelven un resultado\n",
        "satisfactorio, para una entrada elegida.\n",
        "\n",
        "Como consecuencia, en cada algoritmo se incorpora alguna técnica\n",
        "(condición) para saber cuando es que debe detenerse,\n",
        "independientemente del método numérico empleado, esto con la\n",
        "finalidad de **evitar ciclos infinitos**."
      ]
    },
    {
      "cell_type": "markdown",
      "metadata": {
        "id": "16trTQb0sauO",
        "colab_type": "text"
      },
      "source": [
        "#### Ejemplo\n",
        "\n",
        "Escriba el algoritmo para sumar los primeros n numeros naturales.\n",
        "\n",
        "$$\\sum_{i=1}^{n}i$$"
      ]
    },
    {
      "cell_type": "code",
      "metadata": {
        "id": "so4XKXmSsMY5",
        "colab_type": "code",
        "colab": {
          "base_uri": "https://localhost:8080/",
          "height": 67
        },
        "outputId": "f86be84d-1b30-40f0-9372-5d675ca08625"
      },
      "source": [
        "n=int(input(\"Ingrese el numero hasta el cual se quiere sumar\\n\"))\n",
        "suma=0\n",
        "# la funcion range toma hasta un numero antes de n\n",
        "for i in range(n+1):\n",
        "    suma+=i\n",
        "\n",
        "print(\"La suma es: {}\".format(suma))"
      ],
      "execution_count": null,
      "outputs": [
        {
          "output_type": "stream",
          "text": [
            "Ingrese el numero hasta el cual se quiere sumar\n",
            "5\n",
            "La suma es: 15\n"
          ],
          "name": "stdout"
        }
      ]
    },
    {
      "cell_type": "markdown",
      "metadata": {
        "id": "DBRphS9qsMY9",
        "colab_type": "text"
      },
      "source": [
        "Otra tipo de algoritmos son los que describen un procedimiento en\n",
        "términos matemáticos más complejos, como lo son las **series de Taylor**.\n",
        "\n",
        "### Serie de Taylor\n",
        "\n",
        "Es una serie finita de potencias que representa de manera exacta una función $f (x)$ al rededor de un punto $x = c$, siempre y cuando $n$ sea suficientemente \"grande\".\n",
        "\n",
        "$$ f(x) = f(c) + f^{'}(c)(x-c) + \\frac{f^{''}(c)(x-c)^{2}}{2!} + \\dots + \\frac{f^{n}(c)(x-c)^{n}}{n!} $$\n",
        "\n",
        "Si $c = 0$ se trata de la serie de Maclurin.\n",
        "\n",
        "Esta aproximación de $f (x)$ se conoce como la aproximación de $f (x)$\n",
        "en series de Taylor y dependiendo la derivada sera el grado del\n",
        "polinomio de Taylor. Cabe recalcar, que a mayor grado del polinomio\n",
        "de Taylor sera mayor la exactitud de la aproximación."
      ]
    },
    {
      "cell_type": "markdown",
      "metadata": {
        "id": "Uj3y7lBesmMR",
        "colab_type": "text"
      },
      "source": [
        "#### Ejemplo\n",
        "\n",
        "Obtenga los seis primeros términos de la serie de Taylor para $f(x)= e^{x}$ alrededor del cero.\n",
        "\n",
        "**Solución**:\n",
        "    \n",
        "Al obtener las primeras 5 derivadas de la función se tiene \n",
        "\n",
        "$$f(x)= f^{1}(x)=f^{2}(x)=f^{3}(x)=f^{4}(x)=f^{5}(x)= e^{x}$$\n",
        "\n",
        "Posteriormente se evalua en el punto cero ($x=c=0$ )\n",
        "\n",
        "$$f(0)= f^{1}(0)=f^{2}(0)=f^{3}(0)=f^{4}(0)=f^{5}(0)= e^{0}=1$$\n",
        "\n",
        "Lo que da como resultado la siguiente expresión, que representa el\n",
        "polinomio de Taylor de $e^{x}$ al rededor del punto 0.\n",
        "\n",
        "$$ f(x) \\approx 1 + x + \\frac{x^{2}}{2!}+ \\frac{x^{3}}{3!}+ \\frac{x^{4}}{4!}+ \\frac{x^{5}}{5!} + \\dots  $$\n",
        "\n",
        "**Solución en python**:"
      ]
    },
    {
      "cell_type": "code",
      "metadata": {
        "id": "eKtMrvK5sMZH",
        "colab_type": "code",
        "colab": {
          "base_uri": "https://localhost:8080/",
          "height": 398,
          "referenced_widgets": [
            "b83ad83a78a24db9b172d59027a007fd",
            "d5823130b2454262b827136a0044825d",
            "cd8aa474371148bb94fcd11083d3de7c",
            "ab377e5e00e04b06a526973561a7e77e",
            "19f92e979c754db289767154b5147656",
            "240d3787fa6741d489f98f55aa4ef7cd",
            "5e11d68200904ada841c1d5d656c3899"
          ]
        },
        "outputId": "b11d3859-d350-4d1c-f3ac-4ade73cf58ba"
      },
      "source": [
        "import matplotlib.pyplot as plt\n",
        "import numpy as np \n",
        "from scipy.interpolate import approximate_taylor_polynomial\n",
        "from IPython.html.widgets import interact\n",
        "import ipywidgets as widgets\n",
        "\n",
        "#@interact(grado=(0,10))\n",
        "def Taylor(grado):\n",
        "    x = np.linspace(-10.0, 10.0, num=100)\n",
        "    plt.plot(x, np.exp(x), label=\"función exponencial\",color='blue')\n",
        "    aprox_taylor = approximate_taylor_polynomial(np.exp, 0, grado, 1\\\n",
        "                                               ,order=grado+2)\n",
        "    plt.plot(x, aprox_taylor(x), label=\"Aproximación de Taylor de grado \" +str(grado),color='black')\n",
        "    plt.axis([-10, 10, -10, 10])\n",
        "    plt.legend()\n",
        "    plt.xlabel(r\"$x$\")\n",
        "    plt.ylabel(r\"$f(x)$\")\n",
        "    plt.title(\"Aproximación de Taylor \")\n",
        "    plt.grid()\n",
        "\n",
        "interact(Taylor,grado=widgets.IntSlider(min=0,max=10,step=1,value=0))"
      ],
      "execution_count": 1,
      "outputs": [
        {
          "output_type": "stream",
          "text": [
            "/usr/local/lib/python3.6/dist-packages/IPython/html.py:14: ShimWarning: The `IPython.html` package has been deprecated since IPython 4.0. You should import from `notebook` instead. `IPython.html.widgets` has moved to `ipywidgets`.\n",
            "  \"`IPython.html.widgets` has moved to `ipywidgets`.\", ShimWarning)\n"
          ],
          "name": "stderr"
        },
        {
          "output_type": "display_data",
          "data": {
            "application/vnd.jupyter.widget-view+json": {
              "model_id": "b83ad83a78a24db9b172d59027a007fd",
              "version_minor": 0,
              "version_major": 2
            },
            "text/plain": [
              "interactive(children=(IntSlider(value=0, description='grado', max=10), Output()), _dom_classes=('widget-intera…"
            ]
          },
          "metadata": {
            "tags": []
          }
        },
        {
          "output_type": "execute_result",
          "data": {
            "text/plain": [
              "<function __main__.Taylor>"
            ]
          },
          "metadata": {
            "tags": []
          },
          "execution_count": 1
        }
      ]
    },
    {
      "cell_type": "markdown",
      "metadata": {
        "id": "auIipbwcsMZK",
        "colab_type": "text"
      },
      "source": [
        "De tal manera que la siguiente expresión, se aproxima con 6\n",
        "terminos a $e^{x}$ al rededor del punto 0.\n",
        "\n",
        "$$ f(x) \\approx 1 + x + \\frac{x^{2}}{2!}+ \\frac{x^{3}}{3!}+ \\frac{x^{4}}{4!}+ \\frac{x^{5}}{5!} + \\dots  $$\n",
        "\n",
        "**Ejercicio**:\n",
        "\n",
        "Si se sabe que el valor exacto de $e^{0.5} = 1.6487212707$. Calcula\n",
        "el error relativo porcentual que se comete si se trunca la serie en\n",
        "seis términos. Emplea 6 decimales.\n",
        "\n",
        "**Solución en python**:"
      ]
    },
    {
      "cell_type": "code",
      "metadata": {
        "id": "m24HWhvpsMZM",
        "colab_type": "code",
        "colab": {
          "base_uri": "https://localhost:8080/",
          "height": 225
        },
        "outputId": "b9996bf0-ccaf-4729-e0fd-a19360466255"
      },
      "source": [
        "import pandas as pd \n",
        "\n",
        "def ErrorTaylor(x):\n",
        "    ordenes=np.arange(6)\n",
        "    aprox_taylor=np.array([0.0]*6)\n",
        "    func_eval=np.zeros(6)\n",
        "    error=np.zeros_like(aprox_taylor)\n",
        "    for degree in ordenes:\n",
        "        PolTaylor = approximate_taylor_polynomial(np.exp, 0, degree, 1,order=degree+2)\n",
        "        aprox_taylor[degree]=PolTaylor(x)\n",
        "        func_eval[degree]=np.exp(x)\n",
        "        error[degree]=np.abs((aprox_taylor[degree]-func_eval[degree])/func_eval[degree])\n",
        "        \n",
        "    data={\"Termino\":[1,2,3,4,5,6],\"aproximacion\":aprox_taylor,\n",
        "          \"valor real\":func_eval,\"error\":error    \n",
        "    }\n",
        "    tabla=pd.DataFrame(data)\n",
        "    return tabla\n",
        "\n",
        "ErrorTaylor(0.5)"
      ],
      "execution_count": 6,
      "outputs": [
        {
          "output_type": "execute_result",
          "data": {
            "text/html": [
              "<div>\n",
              "<style scoped>\n",
              "    .dataframe tbody tr th:only-of-type {\n",
              "        vertical-align: middle;\n",
              "    }\n",
              "\n",
              "    .dataframe tbody tr th {\n",
              "        vertical-align: top;\n",
              "    }\n",
              "\n",
              "    .dataframe thead th {\n",
              "        text-align: right;\n",
              "    }\n",
              "</style>\n",
              "<table border=\"1\" class=\"dataframe\">\n",
              "  <thead>\n",
              "    <tr style=\"text-align: right;\">\n",
              "      <th></th>\n",
              "      <th>Termino</th>\n",
              "      <th>aproximacion</th>\n",
              "      <th>valor real</th>\n",
              "      <th>error</th>\n",
              "    </tr>\n",
              "  </thead>\n",
              "  <tbody>\n",
              "    <tr>\n",
              "      <th>0</th>\n",
              "      <td>1</td>\n",
              "      <td>0.944804</td>\n",
              "      <td>1.648721</td>\n",
              "      <td>0.426947</td>\n",
              "    </tr>\n",
              "    <tr>\n",
              "      <th>1</th>\n",
              "      <td>2</td>\n",
              "      <td>1.486893</td>\n",
              "      <td>1.648721</td>\n",
              "      <td>0.098154</td>\n",
              "    </tr>\n",
              "    <tr>\n",
              "      <th>2</th>\n",
              "      <td>3</td>\n",
              "      <td>1.623448</td>\n",
              "      <td>1.648721</td>\n",
              "      <td>0.015329</td>\n",
              "    </tr>\n",
              "    <tr>\n",
              "      <th>3</th>\n",
              "      <td>4</td>\n",
              "      <td>1.645711</td>\n",
              "      <td>1.648721</td>\n",
              "      <td>0.001826</td>\n",
              "    </tr>\n",
              "    <tr>\n",
              "      <th>4</th>\n",
              "      <td>5</td>\n",
              "      <td>1.648429</td>\n",
              "      <td>1.648721</td>\n",
              "      <td>0.000177</td>\n",
              "    </tr>\n",
              "    <tr>\n",
              "      <th>5</th>\n",
              "      <td>6</td>\n",
              "      <td>1.648697</td>\n",
              "      <td>1.648721</td>\n",
              "      <td>0.000015</td>\n",
              "    </tr>\n",
              "  </tbody>\n",
              "</table>\n",
              "</div>"
            ],
            "text/plain": [
              "   Termino  aproximacion  valor real     error\n",
              "0        1      0.944804    1.648721  0.426947\n",
              "1        2      1.486893    1.648721  0.098154\n",
              "2        3      1.623448    1.648721  0.015329\n",
              "3        4      1.645711    1.648721  0.001826\n",
              "4        5      1.648429    1.648721  0.000177\n",
              "5        6      1.648697    1.648721  0.000015"
            ]
          },
          "metadata": {
            "tags": []
          },
          "execution_count": 6
        }
      ]
    },
    {
      "cell_type": "markdown",
      "metadata": {
        "id": "M4GnymVqsMZV",
        "colab_type": "text"
      },
      "source": [
        "## Complejidad Computacional\n",
        "\n",
        "Para poder desarrollar algoritmos eficientes y que den resultados\n",
        "útiles es necesario emplear algunas herramientas para su análisis."
      ]
    },
    {
      "cell_type": "markdown",
      "metadata": {
        "id": "ZJXvacXRLXWf",
        "colab_type": "text"
      },
      "source": [
        "### Definición\n",
        "\n",
        "Complejidad Computacional: Es la rama de las ciencias de la computación que estudia de manera teórica, la optimización de los recursos requeridos durante la ejecución de un algoritmo.\n",
        "\n",
        "El análisis se basa en 2 aspectos: el tiempo y el espacio.\n",
        "\n",
        "El tiempo es el periodo transcurrido entre el inicio y la\n",
        "finalización del algoritmo.\n",
        "\n",
        "El espacio es la cantidad de memoria (la medida varia según la\n",
        "máquina) que necesita el algoritmo para su ejecución.\n",
        "\n",
        "**Complejidad Computacional $T(n)$**\n",
        "\n",
        "Es el número de operaciones elementales (*en el caso de análisis\n",
        "numérico las FLOP’s*) en función de la medida n (tamaño de los\n",
        "datos).\n",
        "\n",
        "¿Como se mide?. Una vez que se tiene el algoritmo en forma de\n",
        "pseudocódigo, se puede dar una estimación de cuantas operaciones\n",
        "elementales se realizan en función de la entrada n.\n",
        "\n",
        "Sea cual sea el algoritmo, para llevar a cabo el análisis de la\n",
        "complejidad de dicho algoritmo, normalmente se toma en cuenta dos\n",
        "posibles casos: el peor caso y el caso promedio.\n",
        "\n",
        "**Peor Caso**: se calcula $T(n)$ asumiendo que n es la ”peor” de todas o\n",
        "que de los posibles casos al ejecutar el algoritmo, se cae en el peor de\n",
        "ellos.\n",
        "\n",
        "**Caso Promedio**: se calcula promediando el tiempo (o espacio)\n",
        "empleado para cada una de las entradas posibles."
      ]
    },
    {
      "cell_type": "markdown",
      "metadata": {
        "id": "7utRUnLCWv1Y",
        "colab_type": "text"
      },
      "source": [
        "## Cota Superior Asintótica\n",
        "\n",
        "Cota superior asintótica: En el análisis de algoritmos una cota superior asintótica es una\n",
        "función que sirve de cota superior de otra función cuando el\n",
        "argumento tiende a infinito.\n",
        "\n",
        "Usualmente se utiliza la notación Landau $O(g(x))$, orden de\n",
        "$g(x)$, o coloquialmente se llama ”Notación O Grande”, para\n",
        "referirse a las funciones acotadas superiormente por la función\n",
        "$g(x)$"
      ]
    },
    {
      "cell_type": "markdown",
      "metadata": {
        "id": "YdEJnOfAXewC",
        "colab_type": "text"
      },
      "source": [
        "### Definición.\n",
        "Cota superior asintótica: sea $g\\left(x\\right)$ una función continua y $f\\left(x\\right)$ la función que describe el comportamiento de nuestro algoritmo, diremos que $f$ pertenece al orden $g$ si.\n",
        "\n",
        "$$O\\left(g\\left(x\\right)\\right)=\\left\\{ f\\left(x\\right)\\colon\\exists\\,x_{0},c>0\\mid\\forall x\\geq x_{0}>0\\colon0\\leq\\left|f\\left(x\\right)\\right|\\leq c\\left|g\\left(x\\right)\\right|\\right\\} $$\n",
        "\n",
        "En el análisis de algoritmos una cota superior asintótica es una función que sirve de cota superior de otra función cuando el argumento tiende a infinito.\n",
        "\n",
        "Normalmente se utiliza la notación Landau $O(g(x))$, orden de $g(x)$, o coloquialmente se llama ”Notación O Grande”, para referirse a las funciones acotadas superiormente por la función $g(x)$\n",
        "\n",
        "![Asintotica](https://docs.google.com/uc?export=download&id=1XaFRdeBPTpkjAVhCLXvxmByo8Rx4pt8t)"
      ]
    },
    {
      "cell_type": "markdown",
      "metadata": {
        "id": "PBW8PVyGsMZW",
        "colab_type": "text"
      },
      "source": [
        "Como te podrás dar cuenta, la cota superior asintótica nos sirve\n",
        "para definir categorías (orden de complejidad) dentro del\n",
        "desempeño de los mucho algoritmos existentes. Y esto sirve\n",
        "para poder identificar cuales algoritmos son mas eficientes que\n",
        "otros.\n",
        "\n",
        "\n",
        "\n",
        "\n",
        "| orden de Complejidad        | Nombre            | \n",
        "| :-:           |    :-:        | \n",
        "| $O(1) $       | Orden constante | \n",
        "| $O(log n) $   | Orden logarítmico     |\n",
        "| $O(n) $       | Orden lineal      |\n",
        "| $O(n log n) $ | Orden n log n      | \n",
        "| $O( n^{2}) $  | Orden cuadrático      | \n",
        "| $O( n^{a}) $  | Orden polinomial ($a>2$)     | \n",
        "| $O( a^{n}) $  | Orden exponencial ($a>2$)     | \n",
        "| $O( n!)    $  | Orden factorial      | \n",
        "\n",
        "A continuación se muestra las cotas (categorias) mas comúnes.\n"
      ]
    },
    {
      "cell_type": "markdown",
      "metadata": {
        "id": "898ALIjpsMZX",
        "colab_type": "text"
      },
      "source": [
        "![Complejidad](https://docs.google.com/uc?export=download&id=1hF0sx5SPkF1wf6fwhqfr_KNFXxSooXHu)"
      ]
    },
    {
      "cell_type": "markdown",
      "metadata": {
        "id": "DFbSSCXnsMZZ",
        "colab_type": "text"
      },
      "source": [
        "##  Estabilidad de algoritmos\n",
        "\n",
        "Los algoritmos de interés para el análisis numérico, son aquellos\n",
        "que produzcan resultados precisos.\n",
        "\n",
        "Uno de los criterios que siempre se tratan de imponer sobre un\n",
        "algoritmo, es que los cambios pequeños en los datos iniciales,\n",
        "produzcan otros correspondientes en los resultados finales. Un\n",
        "algoritmo que satisfaga esta propiedad es **estable**, en caso\n",
        "contrario es **inestable**.\n",
        "\n",
        "Algunos algoritmos solo son estables para ciertas elecciones de\n",
        "datos iniciales; a estos se les llama condicionalmente estables.\n",
        "\n",
        "A lo largo del curso analizaremos algoritmos tanto estables,\n",
        "como inestables y condicionalmente estables."
      ]
    },
    {
      "cell_type": "markdown",
      "metadata": {
        "id": "yJuAwl9-sMZa",
        "colab_type": "text"
      },
      "source": [
        "Los algoritmos de interés para el análisis numérico, son aquellos\n",
        "que produzcan resultados precisos.\n",
        "\n",
        "Uno de los criterios que siempre se tratan de imponer sobre un\n",
        "algoritmo, es que los cambios pequeños en los datos iniciales,\n",
        "produzcan otros correspondientes en los resultados finales. Un\n",
        "algoritmo que satisfaga esta propiedad es estable, en caso\n",
        "contrario es **inestable**.\n",
        "\n",
        "Algunos algoritmos solo son estables para ciertas elecciones de\n",
        "datos iniciales; a estos se les llama condicionalmente estables.\n",
        "\n",
        "A lo largo del curso analizaremos algoritmos tanto estables,\n",
        "como inestables y condicionalmente estables.\n"
      ]
    },
    {
      "cell_type": "markdown",
      "metadata": {
        "id": "BrFHF9yVsMZa",
        "colab_type": "text"
      },
      "source": [
        "##  Crecimiento del error\n",
        "\n",
        "Supongamos que al momento de ejecutar un algoritmo se genera un error inicial $E_{0} > 0$ en cierta\n",
        "etapa de los cálculos y $E_{n}$ repesenta la magnitud del error\n",
        "después de $n$ operaciones sucesivas. Los 2 casos que surgen con más\n",
        "frecuencia en la práctica se definen como sigue:"
      ]
    },
    {
      "cell_type": "markdown",
      "metadata": {
        "id": "ZHss2SiysMZb",
        "colab_type": "text"
      },
      "source": [
        "\n",
        "### Definición\n",
        "\n",
        "Crecimiento del error: Si $E_{n} \\approx C_{n} E_{0} $ donde $C$ es una constante independiente de $n$, entonces se dice que el crecimiento del error es lineal. Si $E_{n} \\approx C^{n} E_{0} $ para alguna $C>1$, entonces el crecimiento del error se denomina exponencial.\n",
        "\n",
        "Normalmente el crecimiento lineal es inevitable y, cuando $C$ y $E_{0}$ son pequeños, por lo general los resultados son aceptables. Por otro lado hay que evitar el crecimiento exponencial del error, ya que el termino $C^{n}$ crece incluso para valores de n relativamente pequeños.\n",
        "\n",
        "En consecuencia un algoritmo con un crecimiento lineal del error es **estable**, pero no un algoritmo con crecimiento exponencial del error ya que se considera **inestable**.\n",
        "\n"
      ]
    },
    {
      "cell_type": "markdown",
      "metadata": {
        "id": "c9dxiAsQsMZc",
        "colab_type": "text"
      },
      "source": [
        "![Crecimiento](https://docs.google.com/uc?export=download&id=1ikGd8jMYQaiZkDlFNV5x7oGBr79Rddvw)"
      ]
    },
    {
      "cell_type": "markdown",
      "metadata": {
        "id": "tIRgcBRfsMZc",
        "colab_type": "text"
      },
      "source": [
        "## Convergencia\n",
        "\n",
        "Muchos de los algoritmos que veremos en el curso, se pueden ver en forma de sucesiones y de estas sucesiones las que nos interesan son aquellas que cumplan con la definición de convergencia.  "
      ]
    },
    {
      "cell_type": "markdown",
      "metadata": {
        "id": "nq5xXHl9sMZd",
        "colab_type": "text"
      },
      "source": [
        "### Definición\n",
        "\n",
        "Convergencia de suceciones: decimos que la sucesión $\\{a_n\\}$ converge a número real $a$ si y sólo si para toda $ \\epsilon > 0$ existe un número natural $N$ tal que si $n > N$ entonces $|a_n - a| < \\epsilon$. Si la sucesión $\\{a_n\\}$ converge a $a$, decimos que el límite de la sucesión $\\{a_n\\}$ es $a$ y escribimos $\\underset{n\\rightarrow\\infty}{lim}a_{n}=a$. De\n",
        "otro modo, la sucesión se denomina divergente."
      ]
    },
    {
      "cell_type": "markdown",
      "metadata": {
        "id": "OGnc4hTvmu1k",
        "colab_type": "text"
      },
      "source": [
        "### Ejemplo\n",
        "La sucesión $\\frac{1}{n}$ converge a cero, esto es, $\\underset{n\\rightarrow\\infty}{lim} \\frac{1}{n} = 0$\n",
        "\n",
        "En la siguiente gráfica podemos observar que efectivamente ocurre esto:"
      ]
    },
    {
      "cell_type": "code",
      "metadata": {
        "id": "I_nBE9SCoMbb",
        "colab_type": "code",
        "colab": {
          "base_uri": "https://localhost:8080/",
          "height": 456
        },
        "outputId": "6e7aa8bb-c52c-4e1b-c854-4398fce85f86"
      },
      "source": [
        "# importamos bibliotecas necesarias para graficar\n",
        "!git clone https://github.com/joiortega1/Prueba_lectura.git\n",
        "import os\n",
        "os.listdir('Prueba_lectura')\n",
        "import Prueba_lectura.gutils\n",
        "import Prueba_lectura.gutils as vis\n",
        "\n",
        "# se genera la sucesion de valores\n",
        "num_suc = np.arange(1,100)\n",
        "sucesion2 = [1/i for i in num_suc]\n",
        "\n",
        "# parametros para graficar\n",
        "par = [{'xlabel':'$n$',\n",
        "        'ylabel':'$a_n$',\n",
        "       'xlim':(0.5,99.5)},\n",
        "       ]\n",
        "# se genera la grafica\n",
        "graf = vis.planoCartesiano(par=par)\n",
        "graf.scatter(x = num_suc, y = sucesion2, \n",
        "             par={'s':20,'color':'blue', 'label':r'Sucesión $a_n=\\frac{1}{n}$'})\n",
        "graf.plot(x=[0,100],y=[0,0], par={'c':'green','linestyle':'--', 'lw':2,'label':'Función constante 0'})\n",
        "graf.legend()\n",
        "graf.show()"
      ],
      "execution_count": null,
      "outputs": [
        {
          "output_type": "stream",
          "text": [
            "Cloning into 'Prueba_lectura'...\n",
            "remote: Enumerating objects: 18, done.\u001b[K\n",
            "remote: Counting objects: 100% (18/18), done.\u001b[K\n",
            "remote: Compressing objects: 100% (14/14), done.\u001b[K\n",
            "remote: Total 18 (delta 0), reused 0 (delta 0), pack-reused 0\u001b[K\n",
            "Unpacking objects: 100% (18/18), done.\n"
          ],
          "name": "stdout"
        },
        {
          "output_type": "display_data",
          "data": {
            "image/png": "[encoded data removed]",
            "text/plain": [
              "<Figure size 720x360 with 1 Axes>"
            ]
          },
          "metadata": {
            "tags": []
          }
        }
      ]
    },
    {
      "cell_type": "markdown",
      "metadata": {
        "id": "pasgyAewcL-J",
        "colab_type": "text"
      },
      "source": [
        "## Rapidez de convergencia\n",
        "\n",
        "Otra de las medidas importantes en el análisis de algoritmos y en el análisis numérico es la rapidez de convergencia. Esta metrica nos da un parámetro para determinar que tan rápido es un algortimo comparado con otro."
      ]
    },
    {
      "cell_type": "markdown",
      "metadata": {
        "id": "KP3suZUXcQrA",
        "colab_type": "text"
      },
      "source": [
        "### Definición\n",
        "\n",
        "Rapidez de Convergencia: Supongamos que $\\{ \\beta_{n} \\}_{n=1}^{\\infty}$ es una sucesión cuyo valor de convergencia es cero y que $\\{ \\alpha_{n} \\}_{n=1}^{\\infty}$ converge a un número $\\alpha$. Si existe una constante positiva K tal que \n",
        "\n",
        "$$ | \\alpha_{n} -\\alpha | \\leq K | \\beta_{n}  |$$\n",
        "\n",
        "para n suficientemente grande, entonces decimos que $\\{ \\alpha_{n} \\}_{n=1}^{\\infty}$ converge a $\\alpha$ con rapidez de convergencia $ O(\\beta_{n})$.\n",
        "\n",
        "Esta expresión se lee ”O mayúscula de $\\beta_{n}$”. Se indica escribiendo $ \\alpha_{n} = \\alpha + O(\\beta_{n})$.\n",
        "\n",
        "Aunque esta definición permite comparar $\\{ \\alpha_{n} \\}_{n=1}^{\\infty}$ con cualquier sucesión en casi todas las situaciones emplearemos\n",
        "\n",
        "$$\\beta_{n} = \\frac{1}{n^{p}} $$\n",
        "\n",
        "para algún $p > 0$. Por lo general, buscaremos el mayor valor de $p$ tal que $ \\alpha_{n} = \\alpha + O( 1/n^{p})$."
      ]
    },
    {
      "cell_type": "markdown",
      "metadata": {
        "id": "Pd4u-M6UsMZd",
        "colab_type": "text"
      },
      "source": [
        "### Ejemplo\n",
        "\n",
        "Suponga que para $n \\geq 1$,\n",
        "\n",
        "$$ \\alpha_{n} = \\frac{n+1}{n^{2}} \\hspace{1.5mm}\\text{y} \\hspace{2mm}\\tilde{\\alpha_{n}}=\\frac{n+3}{n^{3}}$$\n",
        "\n",
        "Encontrar cual de las dos sucesiones converge mas rápido a cero.\n",
        "\n",
        "**Solución**.\n",
        "\n",
        "Aunque $\\underset{n\\rightarrow\\infty}{lim}\\alpha_{n}=0$   , la sucesión $\\{\\tilde{\\alpha_{n}}\\}_{n=1}^{\\infty}$ converge en este límite mucho más rápido que la suceción  $\\{ \\alpha_{n} \\}_{n=1}^{\\infty}$, usando aritmética de redondeo a cinco cifras, se puede apreciar en la siguiente tabla este comportamiento. Intenta generar esta tabla empleando **python**.\n",
        "\n",
        "| n        | 1            |  2 | 3|4 |5 |6 |7 |\n",
        "| :-:  | :-: | :-: |  :-: | :-:  |   :-: |   :-: |  :-: | \n",
        "| $\\alpha_{n} $  | 2.00000 |0.75000 |0.44444 |0.31250 |0.24000 |0.19444 |0.16237|\n",
        "| $\\tilde{\\alpha_{n}} $ | 4.00000 |0.65500    |0.22222 | 0.10938|0.64000 |0.04166 |0.0915|\n",
        "\n",
        "\n",
        "Si $\\{ \\beta_{n} \\}_{n=1}^{\\infty}=1/n \\quad$    y     $\\quad\\{\\tilde{\\beta_{n}}\\}_{n=1}^{\\infty}=1/n^{2}$ , vemos que \n",
        "\n",
        "$$ | \\alpha_{n} -0 |= \\frac{n+1}{n^{2}} \\leq \\frac{n+n}{n^{2}}= 2 \\frac{1}{n} = 2 \\beta_{n}$$\n",
        "\n",
        "y\n",
        "\n",
        "$$ | \\tilde{\\alpha_{n}} -0 |= \\frac{n+3}{n^{3}} \\leq \\frac{n+3n}{n^{3}}= 4 \\frac{1}{n^{2}} = 4 \\tilde{\\beta_{n}}\\$$\n",
        "\n",
        "de modo que \n",
        "\n",
        "$$ \\alpha_{n} = 0+ O( \\frac{1}{n} ) \\hspace{1.5mm}\\text{y} \\hspace{2mm} \\tilde{\\alpha_{n}}= 0+ O( \\frac{1}{n^{2}} ) $$\n",
        "\n",
        "La rapidez de convergencia de $\\{ \\alpha_{n} \\}_{n=1}^{\\infty}$ a cero es similar a la convergencia de $\\{ 1/n \\}$ a cero, mientras que la rapidez de convergencia de $\\{\\tilde{\\alpha_{n}}\\}_{n=1}^{\\infty}$ a cero es similar a la convergencia de $\\{ 1/n^{2} \\}$, la cual converge más rápido.\n",
        "\n",
        "También se emplea la notación ”O mayúscula” para describir la\n",
        "rapidez de convergencia de funciones.\n"
      ]
    },
    {
      "cell_type": "markdown",
      "metadata": {
        "id": "c3jjc6bvsMZe",
        "colab_type": "text"
      },
      "source": [
        "## Referencias\n",
        "1. Richard L. Burden, J, Douglas Faires: Análisis Numérico, Math Learning.\n",
        "2. Ward Cheney, David Kincaid: Métodos Numéricos y Computación, Cenage Learning.\n",
        "3. Riswan Butt: Numerical Analysis Using Matlab, Jones and Barlett.\n",
        "4. Proyecto PAPIME PE101019: notebook Sucesiones\n",
        "\n",
        "\n"
      ]
    }
  ]
}