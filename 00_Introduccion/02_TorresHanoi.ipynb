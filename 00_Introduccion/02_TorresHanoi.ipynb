{
  "nbformat": 4,
  "nbformat_minor": 0,
  "metadata": {
    "colab": {
      "name": "TorresHanoi2_SCP.ipynb",
      "provenance": [],
      "toc_visible": true,
      "include_colab_link": true
    },
    "kernelspec": {
      "name": "python3",
      "display_name": "Python 3"
    },
    "widgets": {
      "application/vnd.jupyter.widget-state+json": {
        "98f884a82ba44c218d5fcbbd88b0a574": {
          "model_module": "@jupyter-widgets/controls",
          "model_name": "VBoxModel",
          "model_module_version": "1.5.0",
          "state": {
            "_view_name": "VBoxView",
            "_dom_classes": [
              "widget-interact"
            ],
            "_model_name": "VBoxModel",
            "_view_module": "@jupyter-widgets/controls",
            "_model_module_version": "1.5.0",
            "_view_count": null,
            "_view_module_version": "1.5.0",
            "box_style": "",
            "layout": "IPY_MODEL_191fe7294ffb4cdcbc0acead5dc0615c",
            "_model_module": "@jupyter-widgets/controls",
            "children": [
              "IPY_MODEL_7c75e3a1e759481cb05755dd20c06fa5",
              "IPY_MODEL_894b50f3f2324ebbb6005884e7be8abe"
            ]
          }
        },
        "191fe7294ffb4cdcbc0acead5dc0615c": {
          "model_module": "@jupyter-widgets/base",
          "model_name": "LayoutModel",
          "model_module_version": "1.2.0",
          "state": {
            "_view_name": "LayoutView",
            "grid_template_rows": null,
            "right": null,
            "justify_content": null,
            "_view_module": "@jupyter-widgets/base",
            "overflow": null,
            "_model_module_version": "1.2.0",
            "_view_count": null,
            "flex_flow": null,
            "width": null,
            "min_width": null,
            "border": null,
            "align_items": null,
            "bottom": null,
            "_model_module": "@jupyter-widgets/base",
            "top": null,
            "grid_column": null,
            "overflow_y": null,
            "overflow_x": null,
            "grid_auto_flow": null,
            "grid_area": null,
            "grid_template_columns": null,
            "flex": null,
            "_model_name": "LayoutModel",
            "justify_items": null,
            "grid_row": null,
            "max_height": null,
            "align_content": null,
            "visibility": null,
            "align_self": null,
            "height": null,
            "min_height": null,
            "padding": null,
            "grid_auto_rows": null,
            "grid_gap": null,
            "max_width": null,
            "order": null,
            "_view_module_version": "1.2.0",
            "grid_template_areas": null,
            "object_position": null,
            "object_fit": null,
            "grid_auto_columns": null,
            "margin": null,
            "display": null,
            "left": null
          }
        },
        "7c75e3a1e759481cb05755dd20c06fa5": {
          "model_module": "@jupyter-widgets/controls",
          "model_name": "IntSliderModel",
          "model_module_version": "1.5.0",
          "state": {
            "_view_name": "IntSliderView",
            "style": "IPY_MODEL_f5bb2035fea04e6ea6b94e081bbf7fce",
            "_dom_classes": [],
            "description": "c",
            "step": 1,
            "_model_name": "IntSliderModel",
            "orientation": "horizontal",
            "max": 3,
            "_view_module": "@jupyter-widgets/controls",
            "_model_module_version": "1.5.0",
            "value": 0,
            "_view_count": null,
            "disabled": false,
            "_view_module_version": "1.5.0",
            "min": -1,
            "continuous_update": true,
            "readout_format": "d",
            "description_tooltip": null,
            "readout": true,
            "_model_module": "@jupyter-widgets/controls",
            "layout": "IPY_MODEL_f69abd030f2544138a6408a1c1a08888"
          }
        },
        "894b50f3f2324ebbb6005884e7be8abe": {
          "model_module": "@jupyter-widgets/output",
          "model_name": "OutputModel",
          "model_module_version": "1.0.0",
          "state": {
            "_view_name": "OutputView",
            "msg_id": "",
            "_dom_classes": [],
            "_model_name": "OutputModel",
            "outputs": [
              {
                "output_type": "display_data",
                "data": {
                  "image/png": "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\n",
                  "text/plain": "<Figure size 432x288 with 1 Axes>"
                },
                "metadata": {
                  "needs_background": "light"
                }
              }
            ],
            "_view_module": "@jupyter-widgets/output",
            "_model_module_version": "1.0.0",
            "_view_count": null,
            "_view_module_version": "1.0.0",
            "layout": "IPY_MODEL_15c892f28af64a9eb55f290b0e2e3bd3",
            "_model_module": "@jupyter-widgets/output"
          }
        },
        "f5bb2035fea04e6ea6b94e081bbf7fce": {
          "model_module": "@jupyter-widgets/controls",
          "model_name": "SliderStyleModel",
          "model_module_version": "1.5.0",
          "state": {
            "_view_name": "StyleView",
            "handle_color": null,
            "_model_name": "SliderStyleModel",
            "description_width": "",
            "_view_module": "@jupyter-widgets/base",
            "_model_module_version": "1.5.0",
            "_view_count": null,
            "_view_module_version": "1.2.0",
            "_model_module": "@jupyter-widgets/controls"
          }
        },
        "f69abd030f2544138a6408a1c1a08888": {
          "model_module": "@jupyter-widgets/base",
          "model_name": "LayoutModel",
          "model_module_version": "1.2.0",
          "state": {
            "_view_name": "LayoutView",
            "grid_template_rows": null,
            "right": null,
            "justify_content": null,
            "_view_module": "@jupyter-widgets/base",
            "overflow": null,
            "_model_module_version": "1.2.0",
            "_view_count": null,
            "flex_flow": null,
            "width": null,
            "min_width": null,
            "border": null,
            "align_items": null,
            "bottom": null,
            "_model_module": "@jupyter-widgets/base",
            "top": null,
            "grid_column": null,
            "overflow_y": null,
            "overflow_x": null,
            "grid_auto_flow": null,
            "grid_area": null,
            "grid_template_columns": null,
            "flex": null,
            "_model_name": "LayoutModel",
            "justify_items": null,
            "grid_row": null,
            "max_height": null,
            "align_content": null,
            "visibility": null,
            "align_self": null,
            "height": null,
            "min_height": null,
            "padding": null,
            "grid_auto_rows": null,
            "grid_gap": null,
            "max_width": null,
            "order": null,
            "_view_module_version": "1.2.0",
            "grid_template_areas": null,
            "object_position": null,
            "object_fit": null,
            "grid_auto_columns": null,
            "margin": null,
            "display": null,
            "left": null
          }
        },
        "15c892f28af64a9eb55f290b0e2e3bd3": {
          "model_module": "@jupyter-widgets/base",
          "model_name": "LayoutModel",
          "model_module_version": "1.2.0",
          "state": {
            "_view_name": "LayoutView",
            "grid_template_rows": null,
            "right": null,
            "justify_content": null,
            "_view_module": "@jupyter-widgets/base",
            "overflow": null,
            "_model_module_version": "1.2.0",
            "_view_count": null,
            "flex_flow": null,
            "width": null,
            "min_width": null,
            "border": null,
            "align_items": null,
            "bottom": null,
            "_model_module": "@jupyter-widgets/base",
            "top": null,
            "grid_column": null,
            "overflow_y": null,
            "overflow_x": null,
            "grid_auto_flow": null,
            "grid_area": null,
            "grid_template_columns": null,
            "flex": null,
            "_model_name": "LayoutModel",
            "justify_items": null,
            "grid_row": null,
            "max_height": null,
            "align_content": null,
            "visibility": null,
            "align_self": null,
            "height": null,
            "min_height": null,
            "padding": null,
            "grid_auto_rows": null,
            "grid_gap": null,
            "max_width": null,
            "order": null,
            "_view_module_version": "1.2.0",
            "grid_template_areas": null,
            "object_position": null,
            "object_fit": null,
            "grid_auto_columns": null,
            "margin": null,
            "display": null,
            "left": null
          }
        }
      }
    }
  },
  "cells": [
    {
      "cell_type": "markdown",
      "metadata": {
        "id": "view-in-github",
        "colab_type": "text"
      },
      "source": [
        "<a href=\"https://colab.research.google.com/github/jugernaut/Numerico2021/blob/desarrollo/00_Introduccion/02_TorresHanoi.ipynb\" target=\"_parent\"><img src=\"https://colab.research.google.com/assets/colab-badge.svg\" alt=\"Open In Colab\"/></a>"
      ]
    },
    {
      "cell_type": "markdown",
      "metadata": {
        "id": "Q26tjzsyYiot"
      },
      "source": [
        "<font color=\"Teal\" face=\"Comic Sans MS,arial\">\n",
        "  <h1 align=\"center\"><i>Torres de Hanoi</i></h1>\n",
        "  </font>\n",
        "  <font color=\"Black\" face=\"Comic Sans MS,arial\">\n",
        "  <h5 align=\"center\"><i>Profesor: M. en C. Miguel Angel Pérez León</i></h5>\n",
        "    <h5 align=\"center\"><i>Ayudante: Jonathan Ramírez Montes</i></h5>\n",
        "    <h5 align=\"center\"><i>Ayudante: Jesús Iván Coss Calderón</i></h5>\n",
        "  <h5 align=\"center\"><i>Materia: Manejo de Datos</i></h5>\n",
        "  </font>"
      ]
    },
    {
      "cell_type": "markdown",
      "metadata": {
        "id": "oDiIM4pIaWOe"
      },
      "source": [
        "# Torres de Hanoi\n",
        "\n",
        "El algoritmo para resolver las torres de Hanoi es un ejemplo ampliamente conocido en el contexto computacional.\n",
        "\n",
        "Es por este motivo que en este documento se parte del hecho que el lector conoce tanto el planteamiento, como el algoritmo iterativo y recursivo.\n",
        "\n",
        "Dado estos antecedentes procedemos a definir la función de recurrencia, para poder identificar a que orden de complejidad pertenece este algoritmo recursivo."
      ]
    },
    {
      "cell_type": "markdown",
      "metadata": {
        "id": "DBFJ7LfrarLa"
      },
      "source": [
        "## Algoritmo recursivo\n",
        "\n",
        "Para el caso cuando solo se tiene un disco, basta con pasar el disco en cuestión a la pila final. Lo que toma un solo movimiento.\n",
        "\n",
        "Para el caso de 2 discos, basta con mover el disco 1 (disco de diámetro mas pequeño, D1), a la pila auxiliar y D2 a la pila final. Finalmente D1 a la pila final (sobre D2). Con lo que ya se logro el objetivo y todos los discos están en la pila final. Esto tomo 3 movimientos.\n",
        "\n",
        "Cuando se tiene 3 discos, caemos en el caso de mover 2 discos a la pila auxiliar, mover un disco a la pila final y por ultimo mover 2 discos de la pila auxiliar a la pila final. Es decir **7 movimientos**, un caso de 2 discos (3 movimientos) más mover un disco, más un caso de 2 discos (3 movimientos).\n",
        "\n",
        "<center>\n",
        "<img src=\"https://github.com/jugernaut/ProgramacionEnParalelo/blob/desarrollo/Imagenes/Introduccion/3discos.gif?raw=1\" width=\"550\">\n",
        "</center> \n",
        "\n",
        "Para el caso de 4 discos se tiene, un caso de 3 discos (7 movimientos) más un movimiento, mas un caso de 3 discos (7 movimientos), en **total 15 movimientos**.\n",
        "\n",
        "<center>\n",
        "<img src=\"https://github.com/jugernaut/ProgramacionEnParalelo/blob/desarrollo/Imagenes/Introduccion/4discos.gif?raw=1\" width=\"550\">\n",
        "</center> \n",
        "\n",
        "Podemos ver que se comienza a formar un patrón, o dicho de otra forma podemos pensar que **es posible medir el desempeño** de este algoritmo medíante un polinomio o función.\n",
        "\n",
        "Veamoslo así, el caso de 3 discos se descompone en 2 casos de 2 discos más un caso de un solo disco. El caso de 4 discos se descompone en 2 casos de 3 discos más un caso de un disco. Podemos imaginar que el caso de 5 discos se descompone en 2 casos de 4 discos más un caso de un disco.\n",
        "\n",
        "Completa la siguiente tabla y de ser posible define la función $T(n)$ que dado un número de discos $n$, nos devuelva el número de movimientos necesarios para completar la tarea.\n",
        "\n",
        "| Número de discos | Número de movimientos de discos para cada caso | \n",
        "| :-:           |           :-:              | \n",
        "| 1       | $T(1)=1$ | \n",
        "| 2       | $T(2)=T(1)+T(1)+1=1+1+1=3$ |\n",
        "| 3       | $T(3)=T(2)+T(2)+1=3+3+1=7$ |\n",
        "| 4       | $T(4)=T(3)+T(3)+1=7+7+1=15$ |\n",
        "| 5       | $T(5)=?$ |\n",
        "| ..      | ........ |\n",
        "| n       | $T(n)=?$ |\n",
        "\n",
        "\n",
        "## Código del algoritmo recursivo\n",
        "\n",
        "Si se programa de manera recursiva, este algoritmo usando un lenguaje de programación, el código se vería de la siguiente manera."
      ]
    },
    {
      "cell_type": "code",
      "metadata": {
        "id": "HHVBXkHadoVq",
        "colab": {
          "base_uri": "https://localhost:8080/"
        },
        "outputId": "6ddd515e-ad9d-49e8-aab0-9c7076c9084a"
      },
      "source": [
        "# Algoritmo recursivo que resuelve el problema de las torres de Hanoi\n",
        "def torre_Hanoi(discos, torre_Inicial, torre_Auxiliar, torre_Final):\n",
        "  # caso base\n",
        "  if(discos <=  1):\n",
        "    print('Disco ' , str(discos) , \" de \" , torre_Inicial , \" a \" , torre_Final)\n",
        "  # llamadas recursivas\n",
        "  else:\n",
        "    torre_Hanoi(discos-1, torre_Inicial, torre_Final, torre_Auxiliar)\n",
        "    print ('Disco ' , str(discos) , \" de \" , torre_Inicial , \" a \" , torre_Final)\n",
        "    torre_Hanoi(discos-1, torre_Auxiliar, torre_Inicial, torre_Final)\n",
        "# pruebas\n",
        "discos = 4\n",
        "torre_Hanoi(discos, 'torre Inicial', 'torre Auxiliar', 'torre Final')"
      ],
      "execution_count": null,
      "outputs": [
        {
          "output_type": "stream",
          "name": "stdout",
          "text": [
            "Disco  1  de  torre Inicial  a  torre Auxiliar\n",
            "Disco  2  de  torre Inicial  a  torre Final\n",
            "Disco  1  de  torre Auxiliar  a  torre Final\n",
            "Disco  3  de  torre Inicial  a  torre Auxiliar\n",
            "Disco  1  de  torre Final  a  torre Inicial\n",
            "Disco  2  de  torre Final  a  torre Auxiliar\n",
            "Disco  1  de  torre Inicial  a  torre Auxiliar\n",
            "Disco  4  de  torre Inicial  a  torre Final\n",
            "Disco  1  de  torre Auxiliar  a  torre Final\n",
            "Disco  2  de  torre Auxiliar  a  torre Inicial\n",
            "Disco  1  de  torre Final  a  torre Inicial\n",
            "Disco  3  de  torre Auxiliar  a  torre Final\n",
            "Disco  1  de  torre Inicial  a  torre Auxiliar\n",
            "Disco  2  de  torre Inicial  a  torre Final\n",
            "Disco  1  de  torre Auxiliar  a  torre Final\n"
          ]
        }
      ]
    },
    {
      "cell_type": "markdown",
      "metadata": {
        "id": "1k8TQMzxj2U4"
      },
      "source": [
        "## Algoritmo iterativo\n",
        "\n",
        "La versión iterativa de este algoritmo lo podemos ver en la siguiente imagen, tiene ventajas y desventajas pero eso lo comentaremos más adelante.\n",
        "\n",
        "Una de sus principales desventajas es que por lo general es necesario escribir más código que en la versión recursiva.\n",
        "\n",
        "<center>\n",
        "<img src=\"https://github.com/jugernaut/ManejoDatos/blob/main/Imagenes/Introduccion/hanoiiterativo.png?raw=1\" width=\"1050\">\n",
        "</center> "
      ]
    },
    {
      "cell_type": "markdown",
      "metadata": {
        "id": "XspmW-zTXMoT"
      },
      "source": [
        "# Análisis\n",
        "\n",
        "Dada la descripción básica (y el código del algoritmo) podemos concluir que para $n-discos$ tomará **$T(n-1)$ movimientos**, más **un movimiento**, más **$T(n-1)$ movimientos**.\n",
        "\n",
        "Lo cual nos lleva a definir la función de recurrencia de la siguiente forma.\n",
        "\n",
        "Función de recurrencia para el algoritmo de las torres de Hanoi:\n",
        "\n",
        "$$T(n)=\\begin{cases}\n",
        "1 & n=1\\\\\n",
        "2T(n-1)+1 & n\\geq2\n",
        "\\end{cases}$$\n",
        "\n",
        "Con lo que podemos concluir que..."
      ]
    },
    {
      "cell_type": "markdown",
      "metadata": {
        "id": "XkAP9DWqYoDR"
      },
      "source": [
        "## Demostración\n",
        "\n",
        "Sea $T(n)$ el número de movimientos que le toma al algoritmo anterior cumplir con su objetivo y dada la función de recurrencia P.D. $T(n)=2^{n}-1$.\n",
        "\n",
        "$$\\begin{eqnarray*}\n",
        "T(n)\t& = &\t2T(n-1)+1 \\\\\n",
        "\t& = &\t2(2T(n-2)+1)+1.....Funci\\acute{o}n\\,de\\,recurrencia \\\\\n",
        "\t& = &\t2^{2}T(n-2)+2+1.......Algebra\\,elemental \\\\\n",
        "\t& = &\t2^{2}(2T(n-3)+1)+2+1.....Funci\\acute{o}n\\,de\\,recurrencia \\\\\n",
        "\t& = &\t2^{3}T(n-3)+2^{2}+2+1.......Algebra\\,elemental \\\\\n",
        "k-veces & \\vdots & \\\\\n",
        "\t& = &\t2^{k}T(n-k)+2^{k-1}+\\cdots+2+1 \\\\\n",
        "k=n-1\t\t& \\vdots & \\\\\n",
        "\t& = &\t2^{n-1}T(n-(n-1))+2^{n-1-1}+\\cdots+2+1 \\\\\n",
        "\t& = &\t2^{n-1}T(1)+2^{n-2}+\\cdots+2+1........T(1)=1 \\\\\n",
        "\t& = &\t2^{n-1}+2^{n-2}+\\cdots+2^{2}+2+1......(suma\\,potencias\\,de\\,2) \\\\\n",
        "\t& = &\t2^{n}-1......\\square \\\\\n",
        "\\end{eqnarray*}$$"
      ]
    },
    {
      "cell_type": "markdown",
      "metadata": {
        "id": "ZUHmNPcNf79c"
      },
      "source": [
        "# Cota superior asintótica\n",
        "\n",
        "La cota superior asintótica (O grande) es una forma de clasificar a los algoritmos de acuerdo a su comportamiento y desempeño.\n",
        "\n",
        "Se usa en todas las ramas de las ciencias de computación ya que con base en esta medida (y algunas otras) podemos identificar que tan bueno o malo es nuestro algoritmo comparado con otros.\n"
      ]
    },
    {
      "cell_type": "markdown",
      "metadata": {
        "id": "emWRB_vys8cR"
      },
      "source": [
        "## Definición\n",
        "\n",
        "Cota superior asintótica: sea $g\\left(x\\right)$ una función continua y $f\\left(x\\right)$ la función que describe el comportamiento de nuestro algoritmo, diremos que $f$ pertenece al orden $g$ si.\n",
        "\n",
        "$$O\\left(g\\left(x\\right)\\right)=\\left\\{ f\\left(x\\right)\\colon\\exists\\,x_{0},c>0\\mid\\forall x\\geq x_{0}>0\\colon0\\leq\\left|f\\left(x\\right)\\right|\\leq c\\left|g\\left(x\\right)\\right|\\right\\} $$\n",
        "\n",
        "<center>\n",
        "<img src=\"https://github.com/jugernaut/ProgramacionEnParalelo/blob/desarrollo/Imagenes/Introduccion/cota.png?raw=1\" width=\"550\">\n",
        "</center> \n",
        "\n",
        "Como te podrás dar cuenta, la cota superior asintótica nos sirve\n",
        "para definir categorías (orden de complejidad) dentro del\n",
        "desempeño de los mucho algoritmos existentes. Y esto sirve\n",
        "para poder identificar cuales algoritmos son más eficientes que\n",
        "otros.\n",
        "\n",
        "| orden de Complejidad        | Nombre            | \n",
        "| :-:           |    :-:        | \n",
        "| $O(1) $       | Orden constante | \n",
        "| $O(log n) $   | Orden logarítmico     |\n",
        "| $O(n) $       | Orden lineal      |\n",
        "| $O(n log n) $ | Orden n log n      | \n",
        "| $O( n^{2}) $  | Orden cuadrático      | \n",
        "| $O( n^{a}) $  | Orden polinomial ($a>2$)     | \n",
        "| $O( a^{n}) $  | Orden exponencial ($a>2$)     | \n",
        "| $O( n!)    $  | Orden factorial      | "
      ]
    },
    {
      "cell_type": "markdown",
      "metadata": {
        "id": "_-I6WPXGtOMt"
      },
      "source": [
        "## Orden de complejidad computacional\n",
        "\n",
        "Dada la demostración anterior podemos concluir que el orden complejidad al que pertenece este algoritmo es exponencial.\n",
        "\n",
        "Es decir $T(n)\\in O(2^{n})$ con respecto al tiempo, el número de movimientos u operaciones que le toma a este algoritmo devolver un resultado.\n",
        "\n",
        "Estos son los ordenes de complejidad computacional más comúnes.\n",
        "\n",
        "<center>\n",
        "<img src=\"https://github.com/jugernaut/ProgramacionEnParalelo/blob/desarrollo/Imagenes/Introduccion/complejidad.png?raw=1\" width=\"550\">\n",
        "</center> "
      ]
    },
    {
      "cell_type": "markdown",
      "metadata": {
        "id": "J3CprzhiSUUo"
      },
      "source": [
        "## Gráfica discos v.s. movimientos\n",
        "\n",
        "Ya que conocemos el orden de complejidad al que pertenece este algorimo y hemos probado que el número de movimientos que le toma a este algoritmo mover n-discos, $T(n)=2^{n}-1$, veamos que sucede con ambas graficas en python."
      ]
    },
    {
      "cell_type": "code",
      "metadata": {
        "id": "PxWbuJYTS9nY",
        "colab": {
          "base_uri": "https://localhost:8080/",
          "height": 401,
          "referenced_widgets": [
            "98f884a82ba44c218d5fcbbd88b0a574",
            "191fe7294ffb4cdcbc0acead5dc0615c",
            "7c75e3a1e759481cb05755dd20c06fa5",
            "894b50f3f2324ebbb6005884e7be8abe",
            "f5bb2035fea04e6ea6b94e081bbf7fce",
            "f69abd030f2544138a6408a1c1a08888",
            "15c892f28af64a9eb55f290b0e2e3bd3"
          ]
        },
        "outputId": "959c9935-42e4-4a8f-c31f-51453846bb59"
      },
      "source": [
        "import numpy as np\n",
        "import matplotlib.pyplot as plt\n",
        "from IPython.html.widgets import interact\n",
        "import ipywidgets as widgets\n",
        "\n",
        "def cotaSuperior(c):\n",
        "  # dominio en el cual se genera la grafica\n",
        "  x = np.linspace(0,5,10)\n",
        "  # constante para acotar\n",
        "  # c\n",
        "  # cota superior asintotica\n",
        "  g = (2**x)*c\n",
        "  # funcion que define el comportamiento del algoritmo de Hanoi\n",
        "  f = (2**x) - 1\n",
        "  # se grafican ambas rectas\n",
        "  plt.plot(x,f,label = '$2**x - 1-Algoritmo$', color='crimson')\n",
        "  plt.plot(x,g,label = '$c * 2**x-CotaSuperior$', color='b' )\n",
        "  plt.xlabel('$numero-discos$')\n",
        "  plt.ylabel('$movimientos$')\n",
        "  plt.title('Discos v.s. Movimeintos')\n",
        "  plt.grid()\n",
        "  plt.legend()\n",
        "\n",
        "interact(cotaSuperior, c=widgets.IntSlider(min=-1,max=3,step=1,value=1))"
      ],
      "execution_count": null,
      "outputs": [
        {
          "output_type": "stream",
          "name": "stderr",
          "text": [
            "/usr/local/lib/python3.7/dist-packages/IPython/html.py:14: ShimWarning: The `IPython.html` package has been deprecated since IPython 4.0. You should import from `notebook` instead. `IPython.html.widgets` has moved to `ipywidgets`.\n",
            "  \"`IPython.html.widgets` has moved to `ipywidgets`.\", ShimWarning)\n"
          ]
        },
        {
          "output_type": "display_data",
          "data": {
            "application/vnd.jupyter.widget-view+json": {
              "model_id": "98f884a82ba44c218d5fcbbd88b0a574",
              "version_minor": 0,
              "version_major": 2
            },
            "text/plain": [
              "interactive(children=(IntSlider(value=1, description='c', max=3, min=-1), Output()), _dom_classes=('widget-int…"
            ]
          },
          "metadata": {}
        },
        {
          "output_type": "execute_result",
          "data": {
            "text/plain": [
              "<function __main__.cotaSuperior>"
            ]
          },
          "metadata": {},
          "execution_count": 1
        }
      ]
    },
    {
      "cell_type": "markdown",
      "metadata": {
        "id": "0RT9kNygjsIS"
      },
      "source": [
        "## Interpretación\n",
        "Ya con ambas graficas es evidente que como lo indica la definición, la cota superior asintótica es una función que siempre sera mayor o igual que la función que describe el comportamiento del algoritmo analizado. Además podemos notar que la $c$ que se da en la definición es un \"comodín\" que sirve para desplazar $g(x)$ de tal manera que sea la función que acote de manera justa la función asociada al algoritmo $f(x)$.\n",
        "\n",
        "# ¿Para qué me sirve conocer a que orden de complejidad al que pertenece un algoritmo?\n",
        "\n",
        "Ya que conocemos la cota superior asintótica, es decir el orden de complejidad al que pertenece este algoritmo podemos resolver las dudas planteadas inicialmente. Por ejemplo, ¿tiene sentido intentar resolver este problema para **25 discos**?. Supongamos que tenemos una computadora que realiza **un movimiento de disco por segundo** (en realidad las computadoras actuales realizan millones de operaciones por segundo) entonces ya que conocemos la cota podemos asumir que para 25 discos. \n",
        "\n",
        "$$\\begin{array}{ccc}\n",
        "T\\left(n\\right)=T\\left(25\\right)=2^{25}-1 & = & 3.3554431\\times10{{}^7}\\qquad segundos\\\\\n",
        "3.3554431\\times10{{}^7}\\qquad segundos & = & 9.320675278\\times10{{}^3}\\qquad horas\\\\\n",
        "9.320675278\\times10{{}^3}\\qquad horas & = & 3.883614699\\times10{{}^2}\\qquad d\\acute{\\imath}as\\\\\n",
        "3.883614699\\times10{{}^2}\\qquad d\\acute{\\imath}as & = & 1\\qquad a\\tilde{n}o!!!\n",
        "\\end{array}$$\n",
        "\n",
        "Pero.....¿Qué se puede decir con respecto a la cota superior asintótica respecto a la memoria?.\n",
        "\n",
        "¿La versión recursiva e iterativa de este algoritmo pertenecen a los mismos ordenes de complejidad tanto en **tiempo (operaciones)**, como en **espacio (memoria)**?.\n",
        "\n",
        "# Conclusiones del análisis\n",
        "\n",
        "Reuniendo todo lo visto en las 2 primeras clases podemos responder casi todas las preguntas planteadas inicialmente.\n",
        "\n",
        "Por ejemplo, **¿tiene sentido emplear este algoritmo para resolver este problema con 25 discos?.**\n",
        "\n",
        "De tal manera que es evidente que la respuesta es **¡no!**, a pesar de ser el mejor algoritmo para el problema de las torres de Hanoi, intentar usar este algoritmo para una cantidad mayor o igual a 25 discos, tomará mas de un año para que devuelva un resultado. Así que de hoy en adelante sabemos que antes de emplear algún algoritmo es buena idea tomarse un poco de tiempo para analizarlo y poder determinar si es una buena solución al problema inicial."
      ]
    },
    {
      "cell_type": "markdown",
      "metadata": {
        "id": "znYoAx6chSMj"
      },
      "source": [
        "# Referencias  \n",
        "\n",
        "*   Thomas H. Cormen, Introduction to Algorithms.\n",
        "*   Libro Web, Introduccion a Python.\n",
        "*   Daniel T. Joyce, Object-Oriented Data Structures.\n",
        "*   John C. Mitchell, Concepts in programing Languages.\n",
        "*   [Hanoi en linea](https://www.mathplayground.com/logic_tower_of_hanoi.html)."
      ]
    }
  ]
}