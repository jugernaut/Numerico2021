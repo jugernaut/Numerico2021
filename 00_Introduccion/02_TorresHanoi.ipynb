{
  "nbformat": 4,
  "nbformat_minor": 0,
  "metadata": {
    "colab": {
      "name": "TorresHanoi2_SCP.ipynb",
      "provenance": [],
      "toc_visible": true,
      "include_colab_link": true
    },
    "kernelspec": {
      "name": "python3",
      "display_name": "Python 3"
    },
    "widgets": {
      "application/vnd.jupyter.widget-state+json": {
        "993cec9a75f64371a53df7b7f874d93f": {
          "model_module": "@jupyter-widgets/controls",
          "model_name": "VBoxModel",
          "model_module_version": "1.5.0",
          "state": {
            "_dom_classes": [
              "widget-interact"
            ],
            "_model_module": "@jupyter-widgets/controls",
            "_model_module_version": "1.5.0",
            "_model_name": "VBoxModel",
            "_view_count": null,
            "_view_module": "@jupyter-widgets/controls",
            "_view_module_version": "1.5.0",
            "_view_name": "VBoxView",
            "box_style": "",
            "children": [
              "IPY_MODEL_c2c37ab4ffa043cd8a4fd3c16e8a1e03",
              "IPY_MODEL_257adbfd38f548b3818c492bad325094"
            ],
            "layout": "IPY_MODEL_04c87d27fd3d439aaec15b75aad137cf"
          }
        },
        "c2c37ab4ffa043cd8a4fd3c16e8a1e03": {
          "model_module": "@jupyter-widgets/controls",
          "model_name": "IntSliderModel",
          "model_module_version": "1.5.0",
          "state": {
            "_dom_classes": [],
            "_model_module": "@jupyter-widgets/controls",
            "_model_module_version": "1.5.0",
            "_model_name": "IntSliderModel",
            "_view_count": null,
            "_view_module": "@jupyter-widgets/controls",
            "_view_module_version": "1.5.0",
            "_view_name": "IntSliderView",
            "continuous_update": true,
            "description": "c",
            "description_tooltip": null,
            "disabled": false,
            "layout": "IPY_MODEL_7e9c16f16fa645649fc5eec4e80e6930",
            "max": 3,
            "min": -1,
            "orientation": "horizontal",
            "readout": true,
            "readout_format": "d",
            "step": 1,
            "style": "IPY_MODEL_631fb07006244d2babc9f0d6cc4a4c28",
            "value": 1
          }
        },
        "257adbfd38f548b3818c492bad325094": {
          "model_module": "@jupyter-widgets/output",
          "model_name": "OutputModel",
          "model_module_version": "1.0.0",
          "state": {
            "_dom_classes": [],
            "_model_module": "@jupyter-widgets/output",
            "_model_module_version": "1.0.0",
            "_model_name": "OutputModel",
            "_view_count": null,
            "_view_module": "@jupyter-widgets/output",
            "_view_module_version": "1.0.0",
            "_view_name": "OutputView",
            "layout": "IPY_MODEL_54e92ae24ec44137ab731ab2bbc63b95",
            "msg_id": "",
            "outputs": [
              {
                "output_type": "display_data",
                "data": {
                  "text/plain": "<Figure size 432x288 with 1 Axes>",
                  "image/png": "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\n"
                },
                "metadata": {
                  "needs_background": "light"
                }
              }
            ]
          }
        },
        "04c87d27fd3d439aaec15b75aad137cf": {
          "model_module": "@jupyter-widgets/base",
          "model_name": "LayoutModel",
          "model_module_version": "1.2.0",
          "state": {
            "_model_module": "@jupyter-widgets/base",
            "_model_module_version": "1.2.0",
            "_model_name": "LayoutModel",
            "_view_count": null,
            "_view_module": "@jupyter-widgets/base",
            "_view_module_version": "1.2.0",
            "_view_name": "LayoutView",
            "align_content": null,
            "align_items": null,
            "align_self": null,
            "border": null,
            "bottom": null,
            "display": null,
            "flex": null,
            "flex_flow": null,
            "grid_area": null,
            "grid_auto_columns": null,
            "grid_auto_flow": null,
            "grid_auto_rows": null,
            "grid_column": null,
            "grid_gap": null,
            "grid_row": null,
            "grid_template_areas": null,
            "grid_template_columns": null,
            "grid_template_rows": null,
            "height": null,
            "justify_content": null,
            "justify_items": null,
            "left": null,
            "margin": null,
            "max_height": null,
            "max_width": null,
            "min_height": null,
            "min_width": null,
            "object_fit": null,
            "object_position": null,
            "order": null,
            "overflow": null,
            "overflow_x": null,
            "overflow_y": null,
            "padding": null,
            "right": null,
            "top": null,
            "visibility": null,
            "width": null
          }
        },
        "7e9c16f16fa645649fc5eec4e80e6930": {
          "model_module": "@jupyter-widgets/base",
          "model_name": "LayoutModel",
          "model_module_version": "1.2.0",
          "state": {
            "_model_module": "@jupyter-widgets/base",
            "_model_module_version": "1.2.0",
            "_model_name": "LayoutModel",
            "_view_count": null,
            "_view_module": "@jupyter-widgets/base",
            "_view_module_version": "1.2.0",
            "_view_name": "LayoutView",
            "align_content": null,
            "align_items": null,
            "align_self": null,
            "border": null,
            "bottom": null,
            "display": null,
            "flex": null,
            "flex_flow": null,
            "grid_area": null,
            "grid_auto_columns": null,
            "grid_auto_flow": null,
            "grid_auto_rows": null,
            "grid_column": null,
            "grid_gap": null,
            "grid_row": null,
            "grid_template_areas": null,
            "grid_template_columns": null,
            "grid_template_rows": null,
            "height": null,
            "justify_content": null,
            "justify_items": null,
            "left": null,
            "margin": null,
            "max_height": null,
            "max_width": null,
            "min_height": null,
            "min_width": null,
            "object_fit": null,
            "object_position": null,
            "order": null,
            "overflow": null,
            "overflow_x": null,
            "overflow_y": null,
            "padding": null,
            "right": null,
            "top": null,
            "visibility": null,
            "width": null
          }
        },
        "631fb07006244d2babc9f0d6cc4a4c28": {
          "model_module": "@jupyter-widgets/controls",
          "model_name": "SliderStyleModel",
          "model_module_version": "1.5.0",
          "state": {
            "_model_module": "@jupyter-widgets/controls",
            "_model_module_version": "1.5.0",
            "_model_name": "SliderStyleModel",
            "_view_count": null,
            "_view_module": "@jupyter-widgets/base",
            "_view_module_version": "1.2.0",
            "_view_name": "StyleView",
            "description_width": "",
            "handle_color": null
          }
        },
        "54e92ae24ec44137ab731ab2bbc63b95": {
          "model_module": "@jupyter-widgets/base",
          "model_name": "LayoutModel",
          "model_module_version": "1.2.0",
          "state": {
            "_model_module": "@jupyter-widgets/base",
            "_model_module_version": "1.2.0",
            "_model_name": "LayoutModel",
            "_view_count": null,
            "_view_module": "@jupyter-widgets/base",
            "_view_module_version": "1.2.0",
            "_view_name": "LayoutView",
            "align_content": null,
            "align_items": null,
            "align_self": null,
            "border": null,
            "bottom": null,
            "display": null,
            "flex": null,
            "flex_flow": null,
            "grid_area": null,
            "grid_auto_columns": null,
            "grid_auto_flow": null,
            "grid_auto_rows": null,
            "grid_column": null,
            "grid_gap": null,
            "grid_row": null,
            "grid_template_areas": null,
            "grid_template_columns": null,
            "grid_template_rows": null,
            "height": null,
            "justify_content": null,
            "justify_items": null,
            "left": null,
            "margin": null,
            "max_height": null,
            "max_width": null,
            "min_height": null,
            "min_width": null,
            "object_fit": null,
            "object_position": null,
            "order": null,
            "overflow": null,
            "overflow_x": null,
            "overflow_y": null,
            "padding": null,
            "right": null,
            "top": null,
            "visibility": null,
            "width": null
          }
        }
      }
    }
  },
  "cells": [
    {
      "cell_type": "markdown",
      "metadata": {
        "id": "view-in-github",
        "colab_type": "text"
      },
      "source": [
        "<a href=\"https://colab.research.google.com/github/jugernaut/Numerico2021/blob/desarrollo/00_Introduccion/02_TorresHanoi.ipynb\" target=\"_parent\"><img src=\"https://colab.research.google.com/assets/colab-badge.svg\" alt=\"Open In Colab\"/></a>"
      ]
    },
    {
      "cell_type": "markdown",
      "metadata": {
        "id": "Q26tjzsyYiot"
      },
      "source": [
        "<font color=\"Teal\" face=\"Comic Sans MS,arial\">\n",
        "  <h1 align=\"center\"><i>Torres de Hanoi</i></h1>\n",
        "  </font>\n",
        "  <font color=\"Black\" face=\"Comic Sans MS,arial\">\n",
        "  <h5 align=\"center\"><i>Profesor: M. en C. Miguel Angel Pérez León</i></h5>\n",
        "    <h5 align=\"center\"><i>Ayudante: Jesús Iván Coss Calderón</i></h5>\n",
        "  <h5 align=\"center\"><i>Materia: Análisis Numérico</i></h5>\n",
        "  </font>"
      ]
    },
    {
      "cell_type": "markdown",
      "metadata": {
        "id": "oDiIM4pIaWOe"
      },
      "source": [
        "# Torres de Hanoi\n",
        "\n",
        "El algoritmo para resolver las torres de Hanoi es un ejemplo ampliamente conocido en el contexto computacional.\n",
        "\n",
        "Es por este motivo que en este documento se parte del hecho que el lector conoce tanto el planteamiento, como el algoritmo iterativo y recursivo.\n",
        "\n",
        "Dado estos antecedentes procedemos a definir la función de recurrencia, para poder identificar a que orden de complejidad pertenece este algoritmo recursivo."
      ]
    },
    {
      "cell_type": "markdown",
      "metadata": {
        "id": "DBFJ7LfrarLa"
      },
      "source": [
        "## Algoritmo recursivo\n",
        "\n",
        "Para el caso cuando solo se tiene un disco, basta con pasar el disco en cuestión a la pila final. Lo que toma un solo movimiento.\n",
        "\n",
        "Para el caso de 2 discos, basta con mover el disco 1 (disco de diámetro mas pequeño, D1), a la pila auxiliar y D2 a la pila final. Finalmente D1 a la pila final (sobre D2). Con lo que ya se logro el objetivo y todos los discos están en la pila final. Esto tomo 3 movimientos.\n",
        "\n",
        "Cuando se tiene 3 discos, caemos en el caso de mover 2 discos a la pila auxiliar, mover un disco a la pila final y por ultimo mover 2 discos de la pila auxiliar a la pila final. Es decir **7 movimientos**, un caso de 2 discos (3 movimientos) más mover un disco, más un caso de 2 discos (3 movimientos).\n",
        "\n",
        "<center>\n",
        "<img src=\"https://github.com/jugernaut/ProgramacionEnParalelo/blob/desarrollo/Imagenes/Introduccion/3discos.gif?raw=1\" width=\"550\">\n",
        "</center> \n",
        "\n",
        "Para el caso de 4 discos se tiene, un caso de 3 discos (7 movimientos) más un movimiento, mas un caso de 3 discos (7 movimientos), en **total 15 movimientos**.\n",
        "\n",
        "<center>\n",
        "<img src=\"https://github.com/jugernaut/ProgramacionEnParalelo/blob/desarrollo/Imagenes/Introduccion/4discos.gif?raw=1\" width=\"550\">\n",
        "</center> \n",
        "\n",
        "Podemos ver que se comienza a formar un patrón, o dicho de otra forma podemos pensar que **es posible medir el desempeño** de este algoritmo medíante un polinomio o función.\n",
        "\n",
        "Veamoslo así, el caso de 3 discos se descompone en 2 casos de 2 discos más un caso de un solo disco. El caso de 4 discos se descompone en 2 casos de 3 discos más un caso de un disco. Podemos imaginar que el caso de 5 discos se descompone en 2 casos de 4 discos más un caso de un disco.\n",
        "\n",
        "Completa la siguiente tabla y de ser posible define la función $T(n)$ que dado un número de discos $n$, nos devuelva el número de movimientos necesarios para completar la tarea.\n",
        "\n",
        "| Número de discos | Número de movimientos de discos para cada caso | \n",
        "| :-:           |           :-:              | \n",
        "| 1       | $T(1)=1$ | \n",
        "| 2       | $T(2)=T(1)+T(1)+1=1+1+1=3$ |\n",
        "| 3       | $T(3)=T(2)+T(2)+1=3+3+1=7$ |\n",
        "| 4       | $T(4)=T(3)+T(3)+1=7+7+1=15$ |\n",
        "| 5       | $T(5)=?$ |\n",
        "| ..      | ........ |\n",
        "| n       | $T(n)=?$ |\n",
        "\n",
        "\n",
        "## Código del algoritmo recursivo\n",
        "\n",
        "Si se programa de manera recursiva, este algoritmo usando un lenguaje de programación, el código se vería de la siguiente manera."
      ]
    },
    {
      "cell_type": "code",
      "metadata": {
        "id": "HHVBXkHadoVq",
        "colab": {
          "base_uri": "https://localhost:8080/"
        },
        "outputId": "6ddd515e-ad9d-49e8-aab0-9c7076c9084a"
      },
      "source": [
        "# Algoritmo recursivo que resuelve el problema de las torres de Hanoi\n",
        "def torre_Hanoi(discos, torre_Inicial, torre_Auxiliar, torre_Final):\n",
        "  # caso base\n",
        "  if(discos <=  1):\n",
        "    print('Disco ' , str(discos) , \" de \" , torre_Inicial , \" a \" , torre_Final)\n",
        "  # llamadas recursivas\n",
        "  else:\n",
        "    torre_Hanoi(discos-1, torre_Inicial, torre_Final, torre_Auxiliar)\n",
        "    print ('Disco ' , str(discos) , \" de \" , torre_Inicial , \" a \" , torre_Final)\n",
        "    torre_Hanoi(discos-1, torre_Auxiliar, torre_Inicial, torre_Final)\n",
        "# pruebas\n",
        "discos = 4\n",
        "torre_Hanoi(discos, 'torre Inicial', 'torre Auxiliar', 'torre Final')"
      ],
      "execution_count": null,
      "outputs": [
        {
          "output_type": "stream",
          "name": "stdout",
          "text": [
            "Disco  1  de  torre Inicial  a  torre Auxiliar\n",
            "Disco  2  de  torre Inicial  a  torre Final\n",
            "Disco  1  de  torre Auxiliar  a  torre Final\n",
            "Disco  3  de  torre Inicial  a  torre Auxiliar\n",
            "Disco  1  de  torre Final  a  torre Inicial\n",
            "Disco  2  de  torre Final  a  torre Auxiliar\n",
            "Disco  1  de  torre Inicial  a  torre Auxiliar\n",
            "Disco  4  de  torre Inicial  a  torre Final\n",
            "Disco  1  de  torre Auxiliar  a  torre Final\n",
            "Disco  2  de  torre Auxiliar  a  torre Inicial\n",
            "Disco  1  de  torre Final  a  torre Inicial\n",
            "Disco  3  de  torre Auxiliar  a  torre Final\n",
            "Disco  1  de  torre Inicial  a  torre Auxiliar\n",
            "Disco  2  de  torre Inicial  a  torre Final\n",
            "Disco  1  de  torre Auxiliar  a  torre Final\n"
          ]
        }
      ]
    },
    {
      "cell_type": "markdown",
      "metadata": {
        "id": "1k8TQMzxj2U4"
      },
      "source": [
        "## Algoritmo iterativo\n",
        "\n",
        "La versión iterativa de este algoritmo lo podemos ver en la siguiente imagen, tiene ventajas y desventajas pero eso lo comentaremos más adelante.\n",
        "\n",
        "Una de sus principales desventajas es que por lo general es necesario escribir más código que en la versión recursiva.\n",
        "\n",
        "<center>\n",
        "<img src=\"https://github.com/jugernaut/ManejoDatos/blob/main/Imagenes/Introduccion/hanoiiterativo.png?raw=1\" width=\"1050\">\n",
        "</center> "
      ]
    },
    {
      "cell_type": "markdown",
      "metadata": {
        "id": "XspmW-zTXMoT"
      },
      "source": [
        "# Análisis\n",
        "\n",
        "Dada la descripción básica (y el código del algoritmo) podemos concluir que para $n-discos$ tomará **$T(n-1)$ movimientos**, más **un movimiento**, más **$T(n-1)$ movimientos**.\n",
        "\n",
        "Lo cual nos lleva a definir la función de recurrencia de la siguiente forma.\n",
        "\n",
        "Función de recurrencia para el algoritmo de las torres de Hanoi:\n",
        "\n",
        "$$T(n)=\\begin{cases}\n",
        "1 & n=1\\\\\n",
        "2T(n-1)+1 & n\\geq2\n",
        "\\end{cases}$$\n",
        "\n",
        "Con lo que podemos concluir que..."
      ]
    },
    {
      "cell_type": "markdown",
      "metadata": {
        "id": "XkAP9DWqYoDR"
      },
      "source": [
        "## Demostración\n",
        "\n",
        "Sea $T(n)$ el número de movimientos que le toma al algoritmo anterior cumplir con su objetivo y dada la función de recurrencia P.D. $T(n)=2^{n}-1$.\n",
        "\n",
        "$$\\begin{eqnarray*}\n",
        "T(n)\t& = &\t2T(n-1)+1 \\\\\n",
        "\t& = &\t2(2T(n-2)+1)+1.....Funci\\acute{o}n\\,de\\,recurrencia \\\\\n",
        "\t& = &\t2^{2}T(n-2)+2+1.......Algebra\\,elemental \\\\\n",
        "\t& = &\t2^{2}(2T(n-3)+1)+2+1.....Funci\\acute{o}n\\,de\\,recurrencia \\\\\n",
        "\t& = &\t2^{3}T(n-3)+2^{2}+2+1.......Algebra\\,elemental \\\\\n",
        "k-veces & \\vdots & \\\\\n",
        "\t& = &\t2^{k}T(n-k)+2^{k-1}+\\cdots+2+1 \\\\\n",
        "k=n-1\t\t& \\vdots & \\\\\n",
        "\t& = &\t2^{n-1}T(n-(n-1))+2^{n-1-1}+\\cdots+2+1 \\\\\n",
        "\t& = &\t2^{n-1}T(1)+2^{n-2}+\\cdots+2+1........T(1)=1 \\\\\n",
        "\t& = &\t2^{n-1}+2^{n-2}+\\cdots+2^{2}+2+1......(suma\\,potencias\\,de\\,2) \\\\\n",
        "\t& = &\t2^{n}-1......\\square \\\\\n",
        "\\end{eqnarray*}$$"
      ]
    },
    {
      "cell_type": "markdown",
      "metadata": {
        "id": "ZUHmNPcNf79c"
      },
      "source": [
        "# Cota superior asintótica\n",
        "\n",
        "La cota superior asintótica (O grande) es una forma de clasificar a los algoritmos de acuerdo a su comportamiento y desempeño.\n",
        "\n",
        "Se usa en todas las ramas de las ciencias de computación ya que con base en esta medida (y algunas otras) podemos identificar que tan bueno o malo es nuestro algoritmo comparado con otros.\n"
      ]
    },
    {
      "cell_type": "markdown",
      "metadata": {
        "id": "emWRB_vys8cR"
      },
      "source": [
        "## Definición\n",
        "\n",
        "Cota superior asintótica: sea $g\\left(x\\right)$ una función continua y $f\\left(x\\right)$ la función que describe el comportamiento de nuestro algoritmo, diremos que $f$ pertenece al orden $g$ si.\n",
        "\n",
        "$$O\\left(g\\left(x\\right)\\right)=\\left\\{ f\\left(x\\right)\\colon\\exists\\,x_{0},c>0\\mid\\forall x\\geq x_{0}>0\\colon0\\leq\\left|f\\left(x\\right)\\right|\\leq c\\left|g\\left(x\\right)\\right|\\right\\} $$\n",
        "\n",
        "<center>\n",
        "<img src=\"https://github.com/jugernaut/ProgramacionEnParalelo/blob/desarrollo/Imagenes/Introduccion/cota.png?raw=1\" width=\"550\">\n",
        "</center> \n",
        "\n",
        "Como te podrás dar cuenta, la cota superior asintótica nos sirve\n",
        "para definir categorías (orden de complejidad) dentro del\n",
        "desempeño de los mucho algoritmos existentes. Y esto sirve\n",
        "para poder identificar cuales algoritmos son más eficientes que\n",
        "otros.\n",
        "\n",
        "| orden de Complejidad        | Nombre            | \n",
        "| :-:           |    :-:        | \n",
        "| $O(1) $       | Orden constante | \n",
        "| $O(log n) $   | Orden logarítmico     |\n",
        "| $O(n) $       | Orden lineal      |\n",
        "| $O(n log n) $ | Orden n log n      | \n",
        "| $O( n^{2}) $  | Orden cuadrático      | \n",
        "| $O( n^{a}) $  | Orden polinomial ($a>2$)     | \n",
        "| $O( a^{n}) $  | Orden exponencial ($a>2$)     | \n",
        "| $O( n!)    $  | Orden factorial      | "
      ]
    },
    {
      "cell_type": "markdown",
      "metadata": {
        "id": "_-I6WPXGtOMt"
      },
      "source": [
        "## Orden de complejidad computacional\n",
        "\n",
        "Dada la demostración anterior podemos concluir que el orden complejidad al que pertenece este algoritmo es exponencial.\n",
        "\n",
        "Es decir $T(n)\\in O(2^{n})$ con respecto al tiempo, el número de movimientos u operaciones que le toma a este algoritmo devolver un resultado.\n",
        "\n",
        "Estos son los ordenes de complejidad computacional más comúnes.\n",
        "\n",
        "<center>\n",
        "<img src=\"https://github.com/jugernaut/ProgramacionEnParalelo/blob/desarrollo/Imagenes/Introduccion/complejidad.png?raw=1\" width=\"550\">\n",
        "</center> "
      ]
    },
    {
      "cell_type": "markdown",
      "metadata": {
        "id": "J3CprzhiSUUo"
      },
      "source": [
        "## Gráfica discos v.s. movimientos\n",
        "\n",
        "Ya que conocemos el orden de complejidad al que pertenece este algorimo y hemos probado que el número de movimientos que le toma a este algoritmo mover n-discos, $T(n)=2^{n}-1$, veamos que sucede con ambas graficas en python."
      ]
    },
    {
      "cell_type": "code",
      "metadata": {
        "id": "PxWbuJYTS9nY",
        "colab": {
          "base_uri": "https://localhost:8080/",
          "height": 402,
          "referenced_widgets": [
            "993cec9a75f64371a53df7b7f874d93f",
            "c2c37ab4ffa043cd8a4fd3c16e8a1e03",
            "257adbfd38f548b3818c492bad325094",
            "04c87d27fd3d439aaec15b75aad137cf",
            "7e9c16f16fa645649fc5eec4e80e6930",
            "631fb07006244d2babc9f0d6cc4a4c28",
            "54e92ae24ec44137ab731ab2bbc63b95"
          ]
        },
        "outputId": "fdc93cf5-63f7-41a1-9e4c-595b2ed3ec3e"
      },
      "source": [
        "import numpy as np\n",
        "import matplotlib.pyplot as plt\n",
        "from IPython.html.widgets import interact\n",
        "import ipywidgets as widgets\n",
        "\n",
        "def cotaSuperior(c):\n",
        "  # dominio en el cual se genera la grafica\n",
        "  x = np.linspace(0,5,10)\n",
        "  # constante para acotar\n",
        "  # c\n",
        "  # cota superior asintotica\n",
        "  g = (2**x)*c\n",
        "  # funcion que define el comportamiento del algoritmo de Hanoi\n",
        "  f = (2**x) - 1\n",
        "  # se grafican ambas rectas\n",
        "  plt.plot(x,f,label = '$2**x - 1-Algoritmo$', color='crimson')\n",
        "  plt.plot(x,g,label = '$c * 2**x-CotaSuperior$', color='b' )\n",
        "  plt.xlabel('$numero-discos$')\n",
        "  plt.ylabel('$movimientos$')\n",
        "  plt.title('Discos v.s. Movimeintos')\n",
        "  plt.grid()\n",
        "  plt.legend()\n",
        "\n",
        "interact(cotaSuperior, c=widgets.IntSlider(min=-1,max=3,step=1,value=1))"
      ],
      "execution_count": 1,
      "outputs": [
        {
          "output_type": "stream",
          "name": "stderr",
          "text": [
            "/usr/local/lib/python3.8/dist-packages/IPython/html.py:12: ShimWarning: The `IPython.html` package has been deprecated since IPython 4.0. You should import from `notebook` instead. `IPython.html.widgets` has moved to `ipywidgets`.\n",
            "  warn(\"The `IPython.html` package has been deprecated since IPython 4.0. \"\n"
          ]
        },
        {
          "output_type": "display_data",
          "data": {
            "text/plain": [
              "interactive(children=(IntSlider(value=1, description='c', max=3, min=-1), Output()), _dom_classes=('widget-int…"
            ],
            "application/vnd.jupyter.widget-view+json": {
              "version_major": 2,
              "version_minor": 0,
              "model_id": "993cec9a75f64371a53df7b7f874d93f"
            }
          },
          "metadata": {}
        },
        {
          "output_type": "execute_result",
          "data": {
            "text/plain": [
              "<function __main__.cotaSuperior(c)>"
            ]
          },
          "metadata": {},
          "execution_count": 1
        }
      ]
    },
    {
      "cell_type": "markdown",
      "metadata": {
        "id": "0RT9kNygjsIS"
      },
      "source": [
        "## Interpretación\n",
        "Ya con ambas graficas es evidente que como lo indica la definición, la cota superior asintótica es una función que siempre sera mayor o igual que la función que describe el comportamiento del algoritmo analizado. Además podemos notar que la $c$ que se da en la definición es un \"comodín\" que sirve para desplazar $g(x)$ de tal manera que sea la función que acote de manera justa la función asociada al algoritmo $f(x)$.\n",
        "\n",
        "# ¿Para qué me sirve conocer a que orden de complejidad al que pertenece un algoritmo?\n",
        "\n",
        "Ya que conocemos la cota superior asintótica, es decir el orden de complejidad al que pertenece este algoritmo podemos resolver las dudas planteadas inicialmente. Por ejemplo, ¿tiene sentido intentar resolver este problema para **25 discos**?. Supongamos que tenemos una computadora que realiza **un movimiento de disco por segundo** (en realidad las computadoras actuales realizan millones de operaciones por segundo) entonces ya que conocemos la cota podemos asumir que para 25 discos. \n",
        "\n",
        "$$\\begin{array}{ccc}\n",
        "T\\left(n\\right)=T\\left(25\\right)=2^{25}-1 & = & 3.3554431\\times10{{}^7}\\qquad segundos\\\\\n",
        "3.3554431\\times10{{}^7}\\qquad segundos & = & 9.320675278\\times10{{}^3}\\qquad horas\\\\\n",
        "9.320675278\\times10{{}^3}\\qquad horas & = & 3.883614699\\times10{{}^2}\\qquad d\\acute{\\imath}as\\\\\n",
        "3.883614699\\times10{{}^2}\\qquad d\\acute{\\imath}as & = & 1\\qquad a\\tilde{n}o!!!\n",
        "\\end{array}$$\n",
        "\n",
        "Pero.....¿Qué se puede decir con respecto a la cota superior asintótica respecto a la memoria?.\n",
        "\n",
        "¿La versión recursiva e iterativa de este algoritmo pertenecen a los mismos ordenes de complejidad tanto en **tiempo (operaciones)**, como en **espacio (memoria)**?.\n",
        "\n",
        "# Conclusiones del análisis\n",
        "\n",
        "Reuniendo todo lo visto en las 2 primeras clases podemos responder casi todas las preguntas planteadas inicialmente.\n",
        "\n",
        "Por ejemplo, **¿tiene sentido emplear este algoritmo para resolver este problema con 25 discos?.**\n",
        "\n",
        "De tal manera que es evidente que la respuesta es **¡no!**, a pesar de ser el mejor algoritmo para el problema de las torres de Hanoi, intentar usar este algoritmo para una cantidad mayor o igual a 25 discos, tomará mas de un año para que devuelva un resultado. Así que de hoy en adelante sabemos que antes de emplear algún algoritmo es buena idea tomarse un poco de tiempo para analizarlo y poder determinar si es una buena solución al problema inicial."
      ]
    },
    {
      "cell_type": "markdown",
      "metadata": {
        "id": "znYoAx6chSMj"
      },
      "source": [
        "# Referencias  \n",
        "\n",
        "*   Thomas H. Cormen, Introduction to Algorithms.\n",
        "*   Libro Web, Introduccion a Python.\n",
        "*   Daniel T. Joyce, Object-Oriented Data Structures.\n",
        "*   John C. Mitchell, Concepts in programing Languages.\n",
        "*   [Hanoi en linea](https://www.mathplayground.com/logic_tower_of_hanoi.html)."
      ]
    }
  ]
}