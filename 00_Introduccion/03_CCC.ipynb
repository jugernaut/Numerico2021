{
  "nbformat": 4,
  "nbformat_minor": 0,
  "metadata": {
    "colab": {
      "name": "CCC.ipynb",
      "provenance": [],
      "toc_visible": true,
      "authorship_tag": "ABX9TyMcjsAO1CXxSJOCltB5U8HV",
      "include_colab_link": true
    },
    "kernelspec": {
      "name": "python3",
      "display_name": "Python 3"
    }
  },
  "cells": [
    {
      "cell_type": "markdown",
      "metadata": {
        "id": "view-in-github",
        "colab_type": "text"
      },
      "source": [
        "<a href=\"https://colab.research.google.com/github/jugernaut/Numerico2021/blob/master/00_Introduccion/03_CCC.ipynb\" target=\"_parent\"><img src=\"https://colab.research.google.com/assets/colab-badge.svg\" alt=\"Open In Colab\"/></a>"
      ]
    },
    {
      "cell_type": "markdown",
      "metadata": {
        "id": "biJ1e4ZgoVNi"
      },
      "source": [
        "<font color=\"Teal\" face=\"Comic Sans MS,arial\">\n",
        "  <h1 align=\"center\"><i>Complejidad, Convergencia y Crecimiento del error.</i></h1>\n",
        "  </font>\n",
        "  <font color=\"Black\" face=\"Comic Sans MS,arial\">\n",
        "  <h5 align=\"center\"><i>Profesor: M.en.C. Miguel Angel Pérez León.</i></h5>\n",
        "    <h5 align=\"center\"><i>Ayudante: Jesús Iván Coss Calderón.</i></h5>\n",
        "  <h5 align=\"center\"><i>Materia: Análisis Numérico.</i></h5>\n",
        "  </font>"
      ]
    },
    {
      "cell_type": "markdown",
      "metadata": {
        "id": "woqW3t0FoVNk"
      },
      "source": [
        "## Introducción \n",
        "\n",
        "En presentaciones pasadas sentamos las bases de lo que es el análisis numérico. Y se mostraron algunas definiciones que sirven para realizar el análisis de un algoritmo.\n",
        "\n",
        "Podemos pensar en estas definiciones como las herramientas de un médico que quiere examinar a un paciente, en este caso un algoritmo.\n",
        "\n",
        "Dichas herramientas son:\n",
        "\n",
        "1.   Complejidad Computacional (cota superior asintótica).\n",
        "2.   Crecimiento del Error.\n",
        "3.   Rapidez de Convergencia.\n",
        "\n",
        "Para mostrar de manera práctica como emplear estas herramientas vamos a ver un par de ejemplos y de como llevar a cabo el análisis de dichos algoritmos."
      ]
    },
    {
      "cell_type": "markdown",
      "metadata": {
        "id": "nze1j26qoVNl"
      },
      "source": [
        "## Matrices\n",
        "\n",
        "Es bien conocido que las matrices son un elemento fundamental en el contexto matemático y por lo tanto es de vital importancia analizar los algoritmos que modelan el funcionamiento teórico de estos elementos.\n",
        "\n",
        "Por otra parte los algoritmos asociados a las operaciones en el subespacio de las matrices son candidatos ideales para realizar su análisis.\n",
        "\n",
        "Para simplificar un poco los ejemplos, vamos a restringir un poco el alcance de estos algoritmos al subespacio de las matrices cuadradas sobre el campo de los reales, es decir $A\\in M_{n\\times n}$ sobre $\\mathbb{R}$. Sin embargo muchos de estos algoritmos se pueden extender al subespacio de las matrices de $m \\times n$ incluso en el campo de los números complejos.\n"
      ]
    },
    {
      "cell_type": "markdown",
      "metadata": {
        "id": "nU76_2OJ-fUd"
      },
      "source": [
        "### Creación de una matriz\n",
        "\n",
        "Para facilitar la definición de nuestros algoritmos vamos a usar la paquetería *numpy* de python, esta paquetería es la encargada de facilitar muchos de los cálculos que realizaremos en el curso.\n",
        "\n",
        "Sin embargo, podemos pensar que una matriz es una lista de listas (viéndolo desde el punto de vista de la computación) o incluso un vector de vectores."
      ]
    },
    {
      "cell_type": "code",
      "metadata": {
        "id": "9yLXbk7_CflH",
        "outputId": "74112c9c-7b82-4778-9611-efb336fea322",
        "colab": {
          "base_uri": "https://localhost:8080/",
          "height": 202
        }
      },
      "source": [
        "import numpy as np\n",
        "\n",
        "#crea una matriz de tam x tam con unos y la imprime    \n",
        "def creaMatriz(tam):\n",
        "    #crea una matriz de tam x tam\n",
        "    a = np.ones((tam,tam))\n",
        "    #se devuelve la matriz \n",
        "    return a\n",
        "\n",
        "# se imprime la matriz\n",
        "print(creaMatriz(4))\n"
      ],
      "execution_count": 5,
      "outputs": [
        {
          "output_type": "stream",
          "text": [
            "[[1. 1. 1. 1.]\n",
            " [1. 1. 1. 1.]\n",
            " [1. 1. 1. 1.]\n",
            " [1. 1. 1. 1.]]\n",
            "[[0, 1], [2, 3]]\n",
            "[[0 1]\n",
            " [2 3]]\n",
            "[0 1]\n",
            "[2 3]\n",
            "0\n",
            "3\n"
          ],
          "name": "stdout"
        }
      ]
    },
    {
      "cell_type": "markdown",
      "metadata": {
        "id": "n6FvLaz4-pdJ"
      },
      "source": [
        "Este algoritmo unicamente sirve para generar una matriz de tamaño $n \\times n$ en la que todas sus entradas tienen el valor 1, es decir.\n",
        "\n",
        "$$A=\\left(\\begin{array}{ccc}\n",
        "1 & 1 & 1 & 1\\\\\n",
        "1 & 1 & 1 & 1\\\\\n",
        "1 & 1 & 1 & 1\\\\\n",
        "1 & 1 & 1 & 1\n",
        "\\end{array}\\right)$$\n",
        "\n",
        "A partir de este punto podemos acceder a los elementos de la matriz mediante la notación *a[i][j]* donde i,j pertenecen a los indices de los renglones y las columnas respectivamente $a_{i,j}\\;\\forall\\,i,j=0,\\ldots,n-1$"
      ]
    },
    {
      "cell_type": "markdown",
      "metadata": {
        "id": "RL0Ood54FUm7"
      },
      "source": [
        "### Traza de una matriz\n",
        "\n",
        "El cálculo de la traza de una matriz es una de las operaciones mas sencillas de realizar, siempre y cuando se realice de manera correcta y se define como la suma de los elementos en la diagonal de la matriz.\n",
        "\n",
        "Sea $A\\in M_{n\\times n}$ sobre $\\mathbb{R}$ la traza de A se define como sigue.\n",
        "\n",
        "$$traza(A)=a_{0,0}+a_{1,1}+\\cdots a_{n-1,n-1}=\\sum_{i=0}^{n-1}a_{i,i}$$"
      ]
    },
    {
      "cell_type": "code",
      "metadata": {
        "id": "SrDNSrKKG_Ry",
        "outputId": "4b3d9c34-6461-47fc-aa3b-f38285c23155",
        "colab": {
          "base_uri": "https://localhost:8080/",
          "height": 50
        }
      },
      "source": [
        "def trazaIngenua(matriz):\n",
        "    traza = 0\n",
        "    #recorremos renglones\n",
        "    for i in range (len(matriz)):\n",
        "      #recorremos columnas\n",
        "      for j in range (len(matriz[0])):\n",
        "        if i == j:\n",
        "          traza += matriz[i][j]\n",
        "    return traza\n",
        "\n",
        "def trazaMatriz(matriz):\n",
        "    traza = 0\n",
        "    #dado que los indices en la diagonal son iguales\n",
        "    for i in range (len(matriz)):\n",
        "      traza += matriz[i][i]\n",
        "    return traza\n",
        "\n",
        "a = creaMatriz(3)\n",
        "\n",
        "print(trazaIngenua(a))\n",
        "print(trazaMatriz(a))"
      ],
      "execution_count": 6,
      "outputs": [
        {
          "output_type": "stream",
          "text": [
            "3.0\n",
            "3.0\n"
          ],
          "name": "stdout"
        }
      ]
    },
    {
      "cell_type": "markdown",
      "metadata": {
        "id": "KTuYuI_RI93j"
      },
      "source": [
        "#### Orden de Complejidad\n",
        "\n",
        "Siendo estrictos podemos afirmar que el orden de complejidad al que pertenece la función *trazaIngenua* es al orden cuadrático $O(n^{2})$ ya que se recorren todos los indices de la matriz (no solo los elementos en la diagonal).\n",
        "\n",
        "Sin embargo el orden de complejidad al que pertenece la función *trazaMatriz* es al orden lineal $O(n)$ ya que no realiza operaciones que no son necesarias y solo toma en cuenta los elementos en la diagonal principal de la matriz.\n",
        "\n",
        "Por lo tanto podemos afirmar que **la función *trazaMatriz* tiene un menor costo en términos computacionales por lo tanto es mejor en cuanto a desempeño** que *trazaIngenua*."
      ]
    },
    {
      "cell_type": "markdown",
      "metadata": {
        "id": "Ip-vHF-9LpPI"
      },
      "source": [
        "### Suma de matrices\n",
        "\n",
        "Sea $A,B\\in M_{n\\times n}$ sobre $\\mathbb{R}$ la suma de $A$ y $B$ se define como sigue.\n",
        "\n",
        "$$\\begin{equation} C=A+B =\n",
        "\\begin{pmatrix}\n",
        "a_{0,0}+b_{0,0} & a_{0,1}+b_{0,1} & \\cdots & a_{0,n-1}+b_{0,n-1}\\\\\n",
        "a_{1,0}+b_{1,0} & a_{1,1}+b_{1,1} & \\cdots & a_{1,n-1}+ b_{1,n-1}\\\\\n",
        "\\vdots & \\vdots & \\ddots & \\vdots\\\\\n",
        "a_{n-1,0}+b_{n-1,0} & a_{n-1,1}+b_{n-1,1} & \\cdots & a_{n-1,n-1}+b_{n-1,n-1}\n",
        "\\end{pmatrix}\n",
        "\\end{equation}$$"
      ]
    },
    {
      "cell_type": "code",
      "metadata": {
        "id": "h2aNHQimMcO8",
        "outputId": "4035dd86-a796-4eb9-eafa-aaeba7f793c1",
        "colab": {
          "base_uri": "https://localhost:8080/",
          "height": 67
        }
      },
      "source": [
        "def sumaMatriz(m1, m2):\n",
        "    #se crea la matriz resultante\n",
        "    res = np.zeros_like(m1)\n",
        "    #par de for's que sirven para recorrer ambas matrices\n",
        "    for i in range(len(m1)):\n",
        "      for j in range(len(m1[0])):\n",
        "        #se asigna a res en la entrada adecuada el valor de la suma\n",
        "        res[i][j] = m1[i][j] + m2[i][j]\n",
        "    return res\n",
        "\n",
        "#creamos 2 matriz de 3x3 con unos en sus entradas\n",
        "a = creaMatriz(3)\n",
        "b = creaMatriz(3)\n",
        "\n",
        "#sumamos e imprimimos ambas matrices\n",
        "print(sumaMatriz(a,b))"
      ],
      "execution_count": 7,
      "outputs": [
        {
          "output_type": "stream",
          "text": [
            "[[2. 2. 2.]\n",
            " [2. 2. 2.]\n",
            " [2. 2. 2.]]\n"
          ],
          "name": "stdout"
        }
      ]
    },
    {
      "cell_type": "markdown",
      "metadata": {
        "id": "XUC3PEUmNY5L"
      },
      "source": [
        "#### Orden de Complejidad\n",
        "\n",
        "Para realizar la suma de ambas matrices es necesario recorrer cada entrada de ambas matrices.\n",
        "\n",
        "Es decir que por cada renglón (de tamaño $n$), se tiene que recorrer cada columna (también de tamaño $n$), de tal manera que después de realizar la suma de $A$ y $B$ se habrán realizado $n \\times n = n^{2}$ operaciones. Por lo que este algoritmo pertenece al orden cuadrático es decir $sumaMatriz \\in O(n^{2})$.\n",
        "\n",
        "En realidad por cada suma que realizamos para las entradas de la matriz $C$ se realiza más de una operación, **se realiza una asignación (=), una suma (+) y 3 accesos a las localidad de las matrices, es decir 5 operaciones por cada entrada de $C$**. Por lo que en realidad se realizan más de $n \\times n = 5n^{2}$ operaciones, pero dada la definición de cota superior asintótica podemos desplazar la función cuadrática para acotar superiormente este algoritmo, es decir que dada la definición de cota superior, podemos ver que $c=5$ y $g(x)=n^{2}$."
      ]
    },
    {
      "cell_type": "markdown",
      "metadata": {
        "id": "fSTpVh5P_ntO"
      },
      "source": [
        "### Multiplicación de matrices\n",
        "\n",
        "Sea $A,B\\in M_{n\\times n}$ sobre $\\mathbb{R}$ la multiplicación de $A$ y $B$ se define como sigue.\n",
        "\n",
        "$$A*B=\\left(\\begin{array}{cccc}\n",
        "a_{0,0} & a_{0,1} & \\cdots & a_{0,n-1}\\\\\n",
        "a_{1,0} & a_{1,1} & \\cdots & a_{1,n-1}\\\\\n",
        "\\vdots & \\ddots & \\ddots & \\vdots\\\\\n",
        "a_{n-1,0} & \\cdots & \\cdots & a_{n-1,n-1}\n",
        "\\end{array}\\right)*\\left(\\begin{array}{cccc}\n",
        "b_{0,0} & b_{0,1} & \\cdots & b_{0,n-1}\\\\\n",
        "b_{1,0} & b_{1,1} & \\cdots & b_{1,n-1}\\\\\n",
        "\\vdots & \\ddots & \\ddots & \\vdots\\\\\n",
        "b_{n-1,0} & \\cdots & \\cdots & b_{n-1,n-1}\n",
        "\\end{array}\\right)=\\left(\\begin{array}{cccc}\n",
        "a_{0,0}b_{0,0}+\\cdots+a_{0,n-1}b_{n-1,0} & \\cdots & \\cdots & a_{0,0}b_{0,n-1}+\\cdots+a_{0,n-1}b_{n-1,n-1}\\\\\n",
        "\\vdots & \\ddots & \\ddots & \\vdots\\\\\n",
        "\\vdots & \\ddots & \\ddots & \\vdots\\\\\n",
        "a_{n-1,0}b_{0,0}+\\cdots+a_{n-1,n-1}b_{n-1,0} & \\cdots & \\cdots & a_{n-1,0}b_{0,n-1}+\\cdots+a_{n-1,n-1}b_{n-1,n-1}\n",
        "\\end{array}\\right)$$\n",
        "\n",
        "De manera compacta podemos describir a las entradas de $C$ asi.\n",
        "\n",
        "$$\\begin{equation}\n",
        "C_{i,j} = \\sum_{k=0}^{n-1} (a_{i,k}*b_{k,j})\\;\\;\\forall\\,i,j=0,\\ldots,n-1\n",
        "\\end{equation}$$ "
      ]
    },
    {
      "cell_type": "code",
      "metadata": {
        "id": "b-HtHK8EVkIK",
        "outputId": "9603d0a6-80cc-48b4-d720-54a385ae071c",
        "colab": {
          "base_uri": "https://localhost:8080/",
          "height": 118
        }
      },
      "source": [
        "#Multiplicacion de matrices\n",
        "#se debe devolver m1*m2 con\n",
        "#m1 y m2 matrices de dimensiones adecuadas\n",
        "def multMatriz(m1,m2):\n",
        "    resultado = np.zeros((len(m1), len(m2[0])))\n",
        "    for i in range(len(m1)):\n",
        "      for j in range(len(m2[0])):\n",
        "        for k in range(len(m1)):\n",
        "          resultado[i][j] += m1[i][k]*m2[k][j]\n",
        "    return resultado\n",
        "\n",
        "#se definen ambas matrices\n",
        "a = np.array([[1,2],[3,4]])\n",
        "b = np.array([[2,2],[2,2]])\n",
        "#se muestran ambas matrices\n",
        "print(a)\n",
        "print(b)\n",
        "#se imprime la multiplicacion\n",
        "print(multMatriz(a,b))"
      ],
      "execution_count": 8,
      "outputs": [
        {
          "output_type": "stream",
          "text": [
            "[[1 2]\n",
            " [3 4]]\n",
            "[[2 2]\n",
            " [2 2]]\n",
            "[[ 6.  6.]\n",
            " [14. 14.]]\n"
          ],
          "name": "stdout"
        }
      ]
    },
    {
      "cell_type": "markdown",
      "metadata": {
        "id": "ekTOz5eQXajM"
      },
      "source": [
        "#### Orden de Complejidad\n",
        "\n",
        "Para realizar la multiplicación de ambas matrices es necesario recorrer cada entrada de ambas matrices y por cada entrada realizar una serie de sumas.\n",
        "\n",
        "Este algoritmo requiere de 3 ciclos for anidados (uno dentro del otro) por lo que el numero de operaciones realizado es $n \\times n \\times n = n^{3}$ operaciones. Por lo que este algoritmo pertenece al orden cúbico es decir $multMatriz \\in O(n^{3})$.\n",
        "\n",
        "Para conocer con mayor exactitud el tiempo que le tomaría a este o cualquier algoritmo devolver un resultado sería necesario conocer el **set de instrucciones del microprocesador** donde se ejecute el algoritmo, ya que es la única manera certera de saber cuanto toma cada instrucción o FLOP."
      ]
    },
    {
      "cell_type": "markdown",
      "metadata": {
        "id": "LxoVE2XddoyR"
      },
      "source": [
        "### Determinante de una matriz\n",
        "\n",
        "Sea $A \\in M_{n\\times n}$ sobre $\\mathbb{R}$ el determinante de $A$ se define como sigue.\n",
        "\n",
        "$$det(A)=\\begin{cases}\n",
        "a_{0,0}*a_{1,1}-a_{0,1}*a_{1,0} & n=2\\\\\n",
        "\\sum_{i=0}^{n-1}\\left(-1\\right)^{i}*a_{0,i}*det\\left(subMatriz_{0,i}\\left(A\\right)\\right) & n\\geq2\n",
        "\\end{cases}$$\n",
        "\n",
        "Donde la función $subMatriz_{0,i}\\left(A\\right)$ elimina el renglón cero y la columna $i$ de la matriz $A$.\n",
        "\n",
        "#### Ejemplo de 3x3\n",
        "\n",
        "$$A=\\left(\\begin{array}{ccc}\n",
        "4 & 3 & 1\\\\\n",
        "7 & 5 & -1\\\\\n",
        "4 & 9 & 5\n",
        "\\end{array}\\right)$$\n",
        "\n",
        "$det(A)=\\left(-1\\right)^{0}\\left(4\\right)\\left(det\\left(\\left(\\begin{array}{cc}\n",
        "5 & -1\\\\\n",
        "9 & 5\n",
        "\\end{array}\\right)\\right)\\right)\\left(-1\\right)^{1}\\left(3\\right)\\left(det\\left(\\left(\\begin{array}{cc}\n",
        "7 & -1\\\\\n",
        "4 & 5\n",
        "\\end{array}\\right)\\right)\\right)\\left(-1\\right)^{2}\\left(1\\right)\\left(det\\left(\\left(\\begin{array}{cc}\n",
        "7 & 5\\\\\n",
        "4 & 9\n",
        "\\end{array}\\right)\\right)\\right)$\n"
      ]
    },
    {
      "cell_type": "code",
      "metadata": {
        "id": "JJvlnH1ydoyY",
        "outputId": "c376e18c-8f09-4f79-9361-a7813ebb9cdf",
        "colab": {
          "base_uri": "https://localhost:8080/",
          "height": 84
        }
      },
      "source": [
        "#Funcion auxiliar para eliminar un renglon y una columna\n",
        "def subMatriz(mat, ren, col):\n",
        "    copia = np.copy(mat)\n",
        "    copia = np.delete(copia, (ren), axis=0)\n",
        "    copia = np.delete(copia, (col), axis=1)\n",
        "    return copia\n",
        "\n",
        "# Determinante\n",
        "# devuelve el determinante de la matriz m1\n",
        "# se asume que m1 es cuadrada\n",
        "def det(m1):\n",
        "    if len(m1) == 2:\n",
        "      return m1[0][0]*m1[1][1]-(m1[0][1]*m1[1][0])\n",
        "    else:\n",
        "      determinante = 0.0\n",
        "      for i in range(len(m1[0])):\n",
        "        determinante += ((-1)**i)*(m1[0][i])*det(subMatriz(m1,0,i))\n",
        "    return determinante\n",
        "\n",
        "a = np.array([[4,3,1],[7,5,-1],[4,9,5]])\n",
        "#se muestran ambas matrices\n",
        "print(a)\n",
        "#se imprime la multiplicacion\n",
        "print(det(a))"
      ],
      "execution_count": null,
      "outputs": [
        {
          "output_type": "stream",
          "text": [
            "[[ 4  3  1]\n",
            " [ 7  5 -1]\n",
            " [ 4  9  5]]\n",
            "62.0\n"
          ],
          "name": "stdout"
        }
      ]
    },
    {
      "cell_type": "markdown",
      "metadata": {
        "id": "Ga1YD2e0doyg"
      },
      "source": [
        "#### Orden de Complejidad\n",
        "\n",
        "Como se puede notar la definición de este algoritmo es **recursivo**, lo cual nos ayuda a **escribir menos código, a un gran costo de memoria**, sin embargo esta definición compacta nos ayuda a determinar de manera más sencilla el orden de complejidad al que pertenece este algoritmo y por qué el cálculo del determinante es algo muy costoso en cuanto a recursos se refiere.\n",
        "\n",
        "Para calcular el determinante de una matriz de $n \\times n$ necesitamos calcular $n$ determinantes de $n-1 \\times n-1$ y por cada determinante de $n-1 \\times n-1$ necesitamos calcular $n-1$ determinante de $n-2 \\times n-2$, así hasta llegar al cálculo del determinante de una matriz de $2 \\times 2$. De tal manera que al final se calcularon $n \\times n-1\\times n-2 \\cdots 2 = !n$ determinantes. Por lo que podemos concluir que $det(A) \\in O(n!)$.\n",
        "\n",
        "Dado que ya conocemos los ordenes de complejidad computacional más comunes, poder afirmar que esta forma de calcular **el determinante de una matriz es extremadamente costo** y eso que solo hemos considerado el tiempo (número de operaciones o FLOP's) aun nos **falta considerar el espacio (memoria) en lo que también es extremadamente costoso**."
      ]
    },
    {
      "cell_type": "markdown",
      "metadata": {
        "id": "Fgr8H0qmAXlM"
      },
      "source": [
        "## Algoritmo de Horner\n",
        "\n",
        "Cuando expresamos un valor numérico en el sistema decimal, de manera implícita estamos empleando potencias de base 10 para expresar dicho valor.\n",
        "\n",
        "Para expresar un valor en el sistema decimal usamos una cadena de dígitos $(0,1,2,3,4,5,6,7,8,9)$, es decir.\n",
        "\n",
        "$$valor-num\\acute{e}rico=d_{n}d_{n-1}\\ldots d_{1}d_{0}=d_{n}\\times10^{n}+d_{n-1}\\times10^{n-1}+\\cdots d_{1}\\times10^{1}+d_{0}\\times10^{0}$$\n",
        "\n",
        "Donde cada $d_{i} \\in (0,1,2,3,4,5,6,7,8,9)$ y cada $d_{i}$ se multiplica por la base 10 elevada a la potencia positiva de la posición de $d_{i}$ y despueś del punto decimal el exponente ya es negativo. Vale la pena notar que esta forma de representar un valor numérico es muy parecido a la evaluación de un **polinomio de grado $n$**.\n",
        "\n",
        "### Ejemplo\n",
        "\n",
        "$$123=1\\times10^{2}+2\\times10^{1}+3\\times10^{0}=100+20+3$$\n",
        "$$P(x)=1\\times x^{2}+2\\times x^{1}+3\\times x^{0}\\quad P(10)=100+20+3$$"
      ]
    },
    {
      "cell_type": "markdown",
      "metadata": {
        "id": "9aeM39NkAc9C"
      },
      "source": [
        "### Crecimiento del error \n",
        "\n",
        "De momento asumiremos que en cada operación aritmética que se realice vamos a **acarrear un error** (posteriormente veremos a que se debe), por lo tanto es de suma importancia realizar el menor número de operaciones posibles.\n",
        "\n",
        "En el ejemplo anterior se realizan 3 sumas, 3 multiplicaciones y 3 potencias de base 10. En el caso de un valor con $n-digitos$ se realizarían $n$ sumas, $n$ multiplicaciones y $n$ potencias de base 10. Pero la pregunta sería, **¿existe una forma de llegar al mismo resultado con un número menor de operaciones?**.\n",
        "\n",
        "¿Qué sucede si reescribimos este valor de la siguiente manera?.\n",
        "\n",
        "$$1\\times10^{2}+2\\times10^{1}+3\\times10^{0}=3+10\\left(2+10\\left(1\\right)\\right)=123$$\n",
        "\n",
        "Resulta que obtenemos el mismo resultado pero se realizaron únicamente 2 sumas y 2 multiplicaciones. Es decir que logramos **reducir el numero total de operaciones**, por lo que también se **disminuye el error asociado a este algoritmo**."
      ]
    },
    {
      "cell_type": "markdown",
      "metadata": {
        "id": "R9AQN_Z8oVNm"
      },
      "source": [
        "### Generalización\n",
        "\n",
        "De manera general podemos pensar en el algoritmo de Horner para un valor con $n-dígitos$ de la siguiente manera.\n",
        "\n",
        "$$d_{n}b^{n}+d_{n-1}b^{n-1}+\\cdots d_{1}b^{1}+d_{0}b^{0}=d_{0}+b(d_{1}+b(d_{2}+\\cdots+b\\underset{c_{n-2}}{\\underbrace{(d_{n-2}+b\\overset{c_{n-1}}{\\overbrace{(d_{n-1}+bd_{n}})}})}\\cdots))$$\n",
        "\n",
        "Donde $d_i$ es el dígito en la posición $i$ y $b$ es la base del sistema numérico en el que se quiera expresar el valor numérico. Y el cálculo de los coeficientes $c_i$ se realiza de la siguiente manera.\n",
        "\n",
        "$$c_{n}=d_{n},\\quad c_{i}=bc_{i+1}+d_{i},\\quad i=n-1,n-2,\\ldots,0$$\n",
        "\n",
        "Y así como esta expresión sirve para realizar menos operaciones para obtener el valor numérico de alguna expresión matemática, también sirve para la **evaluación de cualquier polinomio de grado $n$**."
      ]
    },
    {
      "cell_type": "markdown",
      "metadata": {
        "id": "Vd2NuXEuyuul"
      },
      "source": [
        "### Análisis del algoritmo de Horner\n",
        "\n",
        "Empleando el agoritmo de Horner para obtener el valor numérico de alguna expresión matemática o para evaluar un polinomio en un punto dado, se realizan menos operaciones.\n",
        "\n",
        "Para un valor numérico con $n-dígitos$ o un polinomio de grado $n$ al emplear al algoritmo de Horner se realizan a lo más **$n-1$ sumas y $n-1$ multiplicaciones** es decir, $n-1+n-1=2(n-1)$.\n",
        "\n",
        "Con lo que se **reduce en gran medida el crecimiento del error** y la **complejidad del algoritmo se mantiene en el orden lineal**, es decir $algoritmoHorner \\in O(n)$."
      ]
    },
    {
      "cell_type": "markdown",
      "metadata": {
        "id": "hQ5DCZrHoVNm"
      },
      "source": [
        "### Ejemplo con un polinomio\n",
        "\n",
        "Supongamos que tenemos el siguiente polinomio.\n",
        "\n",
        "$$P\\left(x\\right)=d_{4}x^{4}+d_{3}x^{3}+d_{2}x^{2}+d_{1}x^{1}+d_{0}x^{0}=\\left(1\\right)x^{4}+\\left(-4\\right)x^{3}+\\left(7\\right)x^{2}+\\left(-5\\right)x^{1}+\\left(-2\\right)x^{0}$$\n",
        "\n",
        "Y queremos evaluar este polinomio en $x=2$, es decir.\n",
        "\n",
        "$$P\\left(x\\right)=\\left(1\\right)2^{4}+\\left(-4\\right)2^{3}+\\left(7\\right)2^{2}+\\left(-5\\right)2^{1}+\\left(-2\\right)2^{0}$$\n",
        "\n",
        "Empleando el algoritmo de Horner reescribimos $P(x)$ como sigue.\n",
        "\n",
        "$$P\\left(2\\right)=\\left(-2\\right)+2\\left(\\left(-5\\right)+2\\left(\\left(7\\right)+2\\left(\\left(-4\\right)+2\\left(1\\right)\\right)\\right)\\right)=0$$\n",
        "\n",
        "Con lo que podemos afirmar que $x=2$ es una raíz de $P(x)$.\n",
        "\n"
      ]
    },
    {
      "cell_type": "code",
      "metadata": {
        "id": "ADCehYR8CVs5",
        "outputId": "703a7484-81aa-4f28-e65b-2d087efdca16",
        "colab": {
          "base_uri": "https://localhost:8080/",
          "height": 34
        }
      },
      "source": [
        "'''Algoritmo de Horner para evaluar polinomios\n",
        "coef: lista de coeficientes comenzando de izquierda\n",
        "a derecha por el de mayor grado\n",
        "x: valor en el cual se quiere evaluar el polinomio\n",
        "'''\n",
        "def horner(coef, x):\n",
        "    # el primer valor es igual al coeficiente mas grande\n",
        "    p = coef[0]\n",
        "    # comenzamos en 1 ya que el primer coeficiente se asigna antes\n",
        "    # de ingresar al ciclo for\n",
        "    for i in range(1,len(coef)):\n",
        "        # se calcula el resto de los valores como se describe en\n",
        "        # en algoritmo\n",
        "        p = coef[i]+x*p\n",
        "    print(p)\n",
        "\n",
        "#se evalua el polinio (en forma de lista de coeficientes) en x=2\n",
        "horner([1,-4,7,-5,-2], 2)"
      ],
      "execution_count": 11,
      "outputs": [
        {
          "output_type": "stream",
          "text": [
            "0\n"
          ],
          "name": "stdout"
        }
      ]
    },
    {
      "cell_type": "markdown",
      "metadata": {
        "id": "7taS-H1Phbwo"
      },
      "source": [
        "## Algoritmo Babilónico\n",
        "\n",
        "Otro algoritmo usado desde hace mucho tiempo, es el algoritmo conocido como el método babilónico para la aproximación de la raíz cuadrada de un número.\n",
        "\n",
        "Como lo indica su nombre este algoritmo era empleado desde los tiempos babilónicos.\n",
        "\n",
        "La interpretación geométrica de este algoritmo es que dados dos valores iniciales $b$ y $a$ (base y altura) tratemos de construir un rectángulo cuya área sea el valor al cuadrado de la raíz cuadrada que estamos buscando."
      ]
    },
    {
      "cell_type": "markdown",
      "metadata": {
        "id": "UjA3_w-alMcC"
      },
      "source": [
        "### Pseudocódigo\n",
        "\n",
        "En forma de pseudocódigo, este algoritmo luce de la siguiente forma:\n",
        "\n",
        "1.   Tomemos dos valores $b$ y $a$ tales que $ba\\approx x$ \n",
        "2.   Si $a\\approx b$ vaya al paso 6, si no, vaya al paso 3\n",
        "3.   Asigne $b\\leftarrow\\frac{a+b}{2}$\n",
        "4.   Asigne $a\\leftarrow\\frac{x}{b}$\n",
        "5.   Volver al paso 2\n",
        "6.   Escribir $\\sqrt{x}\\approx b$\n",
        "\n",
        "De manera más elegante podemos expresar este algoritmo como una función recursiva.\n",
        "\n",
        "$$f_{n}\\left(x\\right)=\\begin{cases}\n",
        "x & n=0\\\\\n",
        "\\frac{1}{2}\\left(\\frac{x}{f_{n-1}\\left(x\\right)}+f_{n-1}\\left(x\\right)\\right) & n\\geq1\n",
        "\\end{cases}$$\n",
        "\n",
        "Esta función genera una sucesión de aproximaciones de la raíz cuadrada de $x$, y podemos pensar que si $f_{\\infty}\\left(x\\right)=\\sqrt{x}$, es decir que realizamos suficientes iteraciones o **si la sucesión $\\left\\{ f\\left(x\\right)\\right\\} $ tiene suficientes elementos entonces la aproximación toma el valor exacto de la raíz cuadrada de $x$**."
      ]
    },
    {
      "cell_type": "code",
      "metadata": {
        "id": "WHKFB95zooTB",
        "outputId": "68ee1669-a2ac-4135-cff7-b660c4723933",
        "colab": {
          "base_uri": "https://localhost:8080/",
          "height": 134
        }
      },
      "source": [
        "# Algoritmo para aproximar la raiz cuadrada de x\n",
        "def babilonia(x):\n",
        "    b = x\n",
        "    a = 1\n",
        "    # tolerancia del error en la aproximacion\n",
        "    e = 0.00001\n",
        "    while(b-a >= e):\n",
        "        # se muestran los valores de la sucesion\n",
        "        print(b)\n",
        "        b = (a+b)/2\n",
        "        a = x/b\n",
        "    return b\n",
        "\n",
        "# calculamos la raiz cuadrada de 16\n",
        "print(babilonia(64))"
      ],
      "execution_count": null,
      "outputs": [
        {
          "output_type": "stream",
          "text": [
            "64\n",
            "32.5\n",
            "17.234615384615385\n",
            "10.474036101145005\n",
            "8.292191785986859\n",
            "8.005147977880979\n",
            "8.000001655289593\n"
          ],
          "name": "stdout"
        }
      ]
    },
    {
      "cell_type": "markdown",
      "metadata": {
        "id": "-BopRm2OJcdE"
      },
      "source": [
        "### Convergencia\n",
        "\n",
        "Dado que la finalidad del expresión $f_{n}\\left(x\\right)$ lo que busca es encontrar la aproximación de $\\sqrt{x}$ en el intervalo $(a,b)$, podemos asumir que la raíz exacta $f_{\\infty}\\left(x\\right)$ se encontrara en el intervalo $b_{n}-a_{n}=\\frac{\\left(b-a\\right)}{2^{n-1}}$ es decir que después de haber dividido el intervalo inicial suficientes veces, nos aproximaremos tanto como deseamos a $\\sqrt{x}$.\n",
        "\n"
      ]
    },
    {
      "cell_type": "markdown",
      "metadata": {
        "id": "YVrv00jvoVNn"
      },
      "source": [
        "## Referencias\n",
        "\n",
        "1. Riswan Butt: Numerical Analysys Using Matlab, Jones and Bartlett.\n",
        "2. Ward Cheney, David Kincaid:  Métodos Numéricos y Computación, Cenage Learning.\n",
        "3. Material de apoyo moodle\n",
        "4. http://www.lcc.uma.es/~villa/tn/tema02.pdf\n",
        "5. https://www.researchgate.net/profile/Thomas_Osler/publication/237415858_EXTENDING_THE_BABYLONIAN_ALGORITHM/links/5662a1c708ae4931cd5e5673/EXTENDING-THE-BABYLONIAN-ALGORITHM.pdf\n",
        "\n"
      ]
    }
  ]
}