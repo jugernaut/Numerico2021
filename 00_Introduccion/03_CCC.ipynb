{
  "nbformat": 4,
  "nbformat_minor": 0,
  "metadata": {
    "colab": {
      "name": "CCC.ipynb",
      "provenance": [],
      "toc_visible": true,
      "authorship_tag": "ABX9TyOyiziaHroa7a+810XPVGXF",
      "include_colab_link": true
    },
    "kernelspec": {
      "name": "python3",
      "display_name": "Python 3"
    }
  },
  "cells": [
    {
      "cell_type": "markdown",
      "metadata": {
        "id": "view-in-github",
        "colab_type": "text"
      },
      "source": [
        "<a href=\"https://colab.research.google.com/github/jugernaut/Numerico2021/blob/master/00_Introduccion/03_CCC.ipynb\" target=\"_parent\"><img src=\"https://colab.research.google.com/assets/colab-badge.svg\" alt=\"Open In Colab\"/></a>"
      ]
    },
    {
      "cell_type": "markdown",
      "metadata": {
        "id": "biJ1e4ZgoVNi"
      },
      "source": [
        "<font color=\"Teal\" face=\"Comic Sans MS,arial\">\n",
        "  <h1 align=\"center\"><i>Complejidad, Convergencia y Crecimiento del error.</i></h1>\n",
        "  </font>\n",
        "  <font color=\"Black\" face=\"Comic Sans MS,arial\">\n",
        "  <h5 align=\"center\"><i>Profesor: M.en.C. Miguel Angel Pérez León.</i></h5>\n",
        "    <h5 align=\"center\"><i>Ayudante: Jesús Iván Coss Calderón.</i></h5>\n",
        "  <h5 align=\"center\"><i>Materia: Análisis Numérico.</i></h5>\n",
        "  </font>"
      ]
    },
    {
      "cell_type": "markdown",
      "metadata": {
        "id": "woqW3t0FoVNk"
      },
      "source": [
        "## Introducción \n",
        "\n",
        "En presentaciones pasadas sentamos las bases de lo que es el análisis numérico. Y se mostráron algunas definiciones que sirven para realizar el análisis de un algoritmo.\n",
        "\n",
        "Podemos pensar en estas definiciones como las herramientas de un médico que quiere examinar a un pasciente, en este caso un algoritmo.\n",
        "\n",
        "Dichas herramientas son:\n",
        "\n",
        "1.   Complejidad Computacional (cota superior asintótica).\n",
        "2.   Convergencia.\n",
        "3.   Crecimiento del error.\n",
        "\n",
        "Para mostrar de manera práctia como emplear estas herramientas vamos a ver un par de ejemplos y de como llevar a cabo el análisis de dichos algoritmos."
      ]
    },
    {
      "cell_type": "markdown",
      "metadata": {
        "id": "nze1j26qoVNl"
      },
      "source": [
        "## Matrices\n",
        "\n",
        "Es bien conocido que las matrices son un elemento fundamental en el contexto matemático y por lo tanto es de vital importancia analizar los algoritmos que modelan el funcionamiento teórico de estos elementos.\n",
        "\n",
        "Por otra parte los algoritmos asociados a las operaciones en el subespacio de las matrices son candidatos ideales para realizar su analisis.\n",
        "\n",
        "Para simplificar un poco los ejemplos, vamos a restringir un poco el alcance de estos algoritmos al subespacio de las matrices cuadradas sobre el campo de los reales, es decir $A\\in M_{n\\times n}$ sobre $\\mathbb{R}$. Sin embargo muchos de estos algoritmos se pueden extender al subespacio de las matrices de $m \\times n$ incluso en campo de los números complejos.\n"
      ]
    },
    {
      "cell_type": "markdown",
      "metadata": {
        "id": "nU76_2OJ-fUd"
      },
      "source": [
        "### Creación de una matriz\n",
        "\n",
        "Para facilitar la definición de nuestros algoritmos vamos a usar la paqueteria numpy de python, esta paqueteria es la encargada de facilitar muchos de los cálculos que realizaremos en el semestre.\n",
        "\n",
        "Sin embargo, podemos pensar que una matriz es una lista de listas (viendolo desde el punto de vista de la computación) o incluso un vector de vectores."
      ]
    },
    {
      "cell_type": "code",
      "metadata": {
        "id": "9yLXbk7_CflH",
        "outputId": "f76183cd-bba1-4853-e2e7-ad341c875d05",
        "colab": {
          "base_uri": "https://localhost:8080/",
          "height": 84
        }
      },
      "source": [
        "import numpy as np\n",
        "\n",
        "#crea una matriz de tam x tam con unos y la imprime    \n",
        "def creaMatriz(tam):\n",
        "    #crea una matriz de tam x tam\n",
        "    a = np.ones((tam,tam))\n",
        "    #se devuelve la matriz \n",
        "    return a\n",
        "\n",
        "# se imprime la matriz\n",
        "print(creaMatriz(4))\n"
      ],
      "execution_count": 6,
      "outputs": [
        {
          "output_type": "stream",
          "text": [
            "[[1. 1. 1. 1.]\n",
            " [1. 1. 1. 1.]\n",
            " [1. 1. 1. 1.]\n",
            " [1. 1. 1. 1.]]\n"
          ],
          "name": "stdout"
        }
      ]
    },
    {
      "cell_type": "markdown",
      "metadata": {
        "id": "n6FvLaz4-pdJ"
      },
      "source": [
        "Este algoritmo unicamente sirve para generar una matriz de tamaño $n \\times n$ en la que todas sus entradas tienen el valor 1, es decir.\n",
        "\n",
        "$$A=\\left(\\begin{array}{ccc}\n",
        "1 & 1 & 1 & 1\\\\\n",
        "1 & 1 & 1 & 1\\\\\n",
        "1 & 1 & 1 & 1\\\\\n",
        "1 & 1 & 1 & 1\n",
        "\\end{array}\\right)$$\n",
        "\n",
        "A partir de este punto podemos acceder a los elementos de la matriz mediante la notacion *a[i][j]* donde i,j pertenecen a los indices de los renglones y las columnas respectivamente $a_{i,j}\\;\\forall\\,i,j=0,\\ldots,n-1$"
      ]
    },
    {
      "cell_type": "markdown",
      "metadata": {
        "id": "RL0Ood54FUm7"
      },
      "source": [
        "### Traza de una matriz\n",
        "\n",
        "El cálculo de la traza de una matriz es una de las operaciones mas sencillas de realizar, siempre y cuando se realice de manera correcta y se define como la suma de los elementos en la diagonal de la matriz.\n",
        "\n",
        "Sea $A\\in M_{n\\times n}$ sobre $\\mathbb{R}$ la traza de A se define como sigue.\n",
        "\n",
        "$$traza(A)=a_{0,0}+a_{1,1}+\\cdots a_{n-1,n-1}=\\sum_{i=0}^{n-1}a_{i,i}$$"
      ]
    },
    {
      "cell_type": "code",
      "metadata": {
        "id": "SrDNSrKKG_Ry",
        "outputId": "9f99fbae-8f02-4c8a-e8db-c3e461a52383",
        "colab": {
          "base_uri": "https://localhost:8080/",
          "height": 50
        }
      },
      "source": [
        "def trazaIngenua(matriz):\n",
        "    traza = 0\n",
        "    #recorremos renglones\n",
        "    for i in range (len(matriz)):\n",
        "      #recorremos columnas\n",
        "      for j in range (len(matriz[0])):\n",
        "        if i == j:\n",
        "          traza += matriz[i][j]\n",
        "    return traza\n",
        "\n",
        "def trazaMatriz(matriz):\n",
        "    traza = 0\n",
        "    #dado que los indices en la diagonal son iguales\n",
        "    for i in range (len(matriz)):\n",
        "      traza += matriz[i][i]\n",
        "    return traza\n",
        "\n",
        "a = creaMatriz(3)\n",
        "\n",
        "print(trazaIngenua(a))\n",
        "print(trazaMatriz(a))"
      ],
      "execution_count": 9,
      "outputs": [
        {
          "output_type": "stream",
          "text": [
            "3.0\n",
            "3.0\n"
          ],
          "name": "stdout"
        }
      ]
    },
    {
      "cell_type": "markdown",
      "metadata": {
        "id": "KTuYuI_RI93j"
      },
      "source": [
        "#### Orden de Complejidad\n",
        "\n",
        "Siendo estrictos podemos afirmar que el orden de complejidad al que pertenece la función *trazaIngenua* es al orden cuadratico $O(n^{2})$ ya que se recorren todos los indices de la matriz (no solo los elementos en la diagonal).\n",
        "\n",
        "Sin embargo el orden de complejidad al que pertenece la función *trazaMatriz* es al orden lineal $O(n)$ ya que no realiza operaciones que no son necesarias y solo toma en cuenta los elementos en la diagonal principal de la matriz.\n",
        "\n",
        "Por lo tanto podemos afirmar que **la función *trazaMatriz* tiene un menor costo en terminos computacionales por lo tanto es mejor en cuanto a desempeño** que *trazaIngenua*."
      ]
    },
    {
      "cell_type": "markdown",
      "metadata": {
        "id": "Ip-vHF-9LpPI"
      },
      "source": [
        "### Suma de matrices\n",
        "\n",
        "Sea $A,B\\in M_{n\\times n}$ sobre $\\mathbb{R}$ la suma de $A$ y $B$ se define como sigue.\n",
        "\n",
        "$$\\begin{equation} C=A+B =\n",
        "\\begin{pmatrix}\n",
        "a_{00}+b_{00} & a_{01}+b_{01} & \\cdots & a_{0n-1}+b_{0n-1}\\\\\n",
        "a_{10}+b_{10} & a_{11}+b_{11} & \\cdots & a_{1n-1}+ b_{1n-1}\\\\\n",
        "\\vdots & \\vdots & \\ddots & \\vdots\\\\\n",
        "a_{n-10}+b_{n-10} & a_{n-11}+b_{n-11} & \\cdots & a_{n-1n-1}+b_{n-1n-1}\n",
        "\\end{pmatrix}\n",
        "\\end{equation}$$"
      ]
    },
    {
      "cell_type": "code",
      "metadata": {
        "id": "h2aNHQimMcO8",
        "outputId": "8e79e622-c2bd-475f-9fd6-ebcb8d4b5ce8",
        "colab": {
          "base_uri": "https://localhost:8080/",
          "height": 67
        }
      },
      "source": [
        "def sumaMatriz(m1, m2):\n",
        "    #se crea la matriz resultante\n",
        "    res = np.zeros_like(m1)\n",
        "    #par de for's que sirven para recorrer ambas matrices\n",
        "    for i in range(len(m1)):\n",
        "      for j in range(len(m1[0])):\n",
        "        #se asigna a res en la entrada adecuada el valor de la suma\n",
        "        res[i][j] = m1[i][j] + m2[i][j]\n",
        "    return res\n",
        "\n",
        "#creamos 2 matriz de 3x3 con unos en sus entradas\n",
        "a = creaMatriz(3)\n",
        "b = creaMatriz(3)\n",
        "\n",
        "#sumamos e imprimimos ambas matrices\n",
        "print(sumaMatriz(a,b))"
      ],
      "execution_count": 10,
      "outputs": [
        {
          "output_type": "stream",
          "text": [
            "[[2. 2. 2.]\n",
            " [2. 2. 2.]\n",
            " [2. 2. 2.]]\n"
          ],
          "name": "stdout"
        }
      ]
    },
    {
      "cell_type": "markdown",
      "metadata": {
        "id": "XUC3PEUmNY5L"
      },
      "source": [
        "#### Orden de Complejidad\n",
        "\n",
        "Para realizar la suma de ambas matrices es necesario recorrer cada entrada de ambas matrices.\n",
        "\n",
        "Es decir que por cada renglón (de tamaño $n$), se tiene que recorrer cada columna (también de tamaño $n$), de tal manera que despues de realizar la suma de $A$ y $B$ se habrán realizado $n \\times n = n^{2}$ operaciones. Por lo que este algoritmo pertenece al orden cuadratico es decir $sumaMatriz \\in O(n^{2})$.\n",
        "\n",
        "En realidad por cada suma que realizamos para las entradas de la matriz $C$ se realiza mas de una operación, **se realiza una asignación (=), una suma (+) y 3 accesos a las localidad de las matrices**. Por lo que en realidad se realizan más de $n \\times n = n^{2}$ operaciones, pero dada la definición de cota superior asintótica podemos desplazar la función cuadratica para acotar superiormente este algoritmo."
      ]
    },
    {
      "cell_type": "markdown",
      "metadata": {
        "id": "fSTpVh5P_ntO"
      },
      "source": [
        "### Multiplicación de matrices.\n",
        "\n",
        "Sea $A,B\\in M_{n\\times n}$ sobre $\\mathbb{R}$ la multiplicación de $A$ y $B$ se define como sigue.\n",
        "\n",
        "$$Marco A*B=\\left(\\begin{array}{cccc}\n",
        "a_{00} & a_{01} & \\cdots & a_{0n-1}\\\\\n",
        "a_{10} & a_{11} & \\cdots & a_{1n-1}\\\\\n",
        "\\vdots & \\ddots & \\ddots & \\vdots\\\\\n",
        "a_{n-10} & \\cdots & \\cdots & a_{n-1n-1}\n",
        "\\end{array}\\right)*\\left(\\begin{array}{cccc}\n",
        "b_{00} & b_{01} & \\cdots & b_{0n-1}\\\\\n",
        "b_{10} & b_{11} & \\cdots & b_{1n-1}\\\\\n",
        "\\vdots & \\ddots & \\ddots & \\vdots\\\\\n",
        "b_{n-10} & \\cdots & \\cdots & b_{n-1n-1}\n",
        "\\end{array}\\right)=\\left(\\begin{array}{cccc}\n",
        "a_{00}b_{00}+\\cdots+a_{0n-1}b_{n-10} & \\cdots & \\cdots & a_{00}b_{0n-1}+\\cdots+a_{0n-1}b_{n-1n-1}\\\\\n",
        "\\vdots & \\cdots & \\cdots & \\vdots\\\\\n",
        "\\vdots & \\ddots & \\ddots & \\vdots\\\\\n",
        "a_{n-10}b_{00}+\\cdots+a_{n-1n-1}b_{n-10} & \\cdots & \\cdots & a_{n-10}b_{0n-1}+\\cdots+a_{n-1n-1}b_{n-1n-1}\n",
        "\\end{array}\\right)$$\n",
        "\n",
        "De manera mas compacta podemos describir a las entradas de $C$ asi.\n",
        "\n",
        "$$\\begin{equation}\n",
        "C_{ij} = \\sum_{k=0}^{n-1} (a_{ik}*b_{kj})\\;\\;\\forall\\,i,j=0,\\ldots,n-1\n",
        "\\end{equation}$$ "
      ]
    },
    {
      "cell_type": "markdown",
      "metadata": {
        "id": "Fgr8H0qmAXlM"
      },
      "source": [
        "## Punto flotante normalizado sistema decimal.\n",
        "\n",
        "Dicho de otra forma, el numero real $x$, si es diferente de cero, se puede representar en la forma decimal de punto flotante normalizada como.\n",
        "\n",
        "$$x=\\pm r\\times10^{n}\\,\\,\\,\\,\\,\\,(\\frac{1}{10}\\leq r<1)$$\n",
        "\n",
        "Esta representación consta de tres partes:\n",
        "\n",
        "• Un signo, ya sea $+$ ó $-$.\n",
        "\n",
        "• Un número $r$ en el intervalo $[\\frac{1}{10},1)$. A este valor se le conoce como **mantisa normalizada**.\n",
        "\n",
        "• Una potencia entera de 10, es decir el exponente $n$."
      ]
    },
    {
      "cell_type": "markdown",
      "metadata": {
        "id": "9aeM39NkAc9C"
      },
      "source": [
        "## Punto flotante normalizado sistema binario. \n",
        "\n",
        "La representación de punto flotante en el sistema binario es similar a la del sistema decimal en diferentes aspectos.\n",
        "\n",
        " <font color=\"Teal\" face=\"Comic Sans MS,arial\">\n",
        "  <h5 align=\"Left\"><i>Hecho. Representación punto flotante normalizada base 2.</i></h5>\n",
        "  </font>\n",
        "  \n",
        "Si $x\\neq0$ se puede escribir como\n",
        "\n",
        "$$x=\\pm q\\times2^{m}\\,\\,\\,\\,\\,\\,\\,(\\frac{1}{2}\\leq q<1)$$\n",
        "\n",
        "La mantisa $q$ se podría expresar como una sucesión de ceros o unos en el formato $q=(0.b_{1}b_{2}b_{3}....)_{2}$. Donde $b_{1}\\neq0$. Por lo tanto $b_{1}=1$ y entonces necesariamente $q\\geq\\frac{1}{2}$. Por lo que $q$ al igual que $r$ esta acotado por el intervalo $[\\frac{1}{2},1)$."
      ]
    },
    {
      "cell_type": "markdown",
      "metadata": {
        "id": "R9AQN_Z8oVNm"
      },
      "source": [
        "## Aspectos a considerar\n",
        "\n",
        "Como todos sabemos, los valores reales son ilimitados (tanto en magnitudes grandes como en pequeñas), es por eso que al emplear una computadora para ejecutar algoritmos numéricos debemos tomar en cuenta ciertas consideraciones.\n"
      ]
    },
    {
      "cell_type": "markdown",
      "metadata": {
        "id": "Vd2NuXEuyuul"
      },
      "source": [
        "### Memoria limitada\n",
        "\n",
        "Consideremos el siguiente ejemplo:\n",
        "\n",
        "$\\color{green}{Ejemplo}$. \n",
        "\n",
        "$$0.1_{10}=0.000110011..._{2}$$\n",
        "\n",
        "La memoria de las computadoras es limitada y por lo tanto no se puede representar valores numéricos con precisión infinita.\n",
        "\n",
        "No importa si se usan fracciones binarias o decimales, puede suceder que el numero no tenga una representación exacta, por lo tanto el valor a representar se tiene que truncar, pero:\n",
        "\n",
        "• ¿Cuánta precisión se necesita?.\n",
        "\n",
        "• ¿Dónde se necesita?.\n",
        "\n",
        "• ¿Cuántos dígitos enteros y cuántos fraccionarios?."
      ]
    },
    {
      "cell_type": "markdown",
      "metadata": {
        "id": "hQ5DCZrHoVNm"
      },
      "source": [
        "## Tarea\n",
        "\n",
        "<font color=\"Teal\" face=\"Comic Sans MS,arial\">\n",
        "  <h3 align=\"Left\"><i>Ejercicios.</i></h3>\n",
        "  </font>\n",
        "  \n",
        "*  Estándar 1: Supongamos que se cuenta con una Longitud de Palabra de 5 bits en el sistema decimal. Los valores que se pueden representar no están normalizados y la totalidad de los bits se emplea para representar la parte entera.\n",
        "\n",
        "– ¿Cuantos valores se pueden representar?.\n",
        "\n",
        "– ¿Cuál es el valor más cercano a cero, diferente de cero (tanto positivo como negativo, para el estándar 1 solo positivo)?. \n",
        "\n",
        "– ¿Cuál es el valor más lejano del cero (tanto positivo como negativo, para el estándar 1 solo positivo)?.\n",
        "\n",
        "– ¿Cuál es la diferencia (distancia numérica) entre un valor y el siguiente que puede ser representado mediante este estándar?.\n",
        "\n",
        "\n",
        "* Estándar 2: Modifica el estándar 1, de manera que ahora el bit mas significativo se use para representar el signo. Responde las mismas preguntas.\n",
        "\n",
        "\n",
        "* Estándar 3: Modifica el estándar 2 y ahora emplea el segundo bit mas significativo para el exponente, ademas los valores deben estar normalizados. Responde las mismas preguntas.\n",
        "\n",
        "\n",
        "* Estándar 4: Considerando la necesidad de representar valores muy pequeños o muy grandes, modifica el estándar 3, de tal manera que ahora un valor de cero a 3 representa un exponente negativo. Y valores de 5 en adelante representan exponentes positivos. A esto se le conoce como **DESPLAZAMIENTO**. Responde las mismas preguntas."
      ]
    },
    {
      "cell_type": "markdown",
      "metadata": {
        "id": "YVrv00jvoVNn"
      },
      "source": [
        "## Referencias\n",
        "\n",
        "1. Riswan Butt: Numerical Analysys Using Matlab, Jones and Bartlett.\n",
        "2. Ward Cheney, David Kincaid:  Métodos Numéricos y Computación, Cenage Learning.\n",
        "3. http://www.lcc.uma.es/~villa/tn/tema02.pdf\n",
        "4. material de apoyo moodle\n",
        "\n"
      ]
    }
  ]
}