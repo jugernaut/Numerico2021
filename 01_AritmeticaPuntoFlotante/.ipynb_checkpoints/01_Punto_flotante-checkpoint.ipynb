{
 "cells": [
  {
   "cell_type": "markdown",
   "metadata": {
    "colab_type": "text",
    "id": "view-in-github"
   },
   "source": [
    "<a href=\"https://colab.research.google.com/github/jugernaut/Numerico2021/blob/master/01_AritmeticaPuntoFlotante/01_Punto_flotante.ipynb\" target=\"_parent\"><img src=\"https://colab.research.google.com/assets/colab-badge.svg\" alt=\"Open In Colab\"/></a>"
   ]
  },
  {
   "cell_type": "markdown",
   "metadata": {
    "id": "biJ1e4ZgoVNi"
   },
   "source": [
    "<font color=\"Teal\" face=\"Comic Sans MS,arial\">\n",
    "  <h1 align=\"center\"><i>Punto Flotante.</i></h1>\n",
    "  </font>\n",
    "  <font color=\"Black\" face=\"Comic Sans MS,arial\">\n",
    "  <h5 align=\"center\"><i>Profesor: M.en.C. Miguel Angel Pérez León.</i></h5>\n",
    "    <h5 align=\"center\"><i>Ayudante: Jesús Iván Coss Calderón.</i></h5>\n",
    "  <h5 align=\"center\"><i>Materia: Análisis Numérico.</i></h5>\n",
    "  </font>"
   ]
  },
  {
   "cell_type": "markdown",
   "metadata": {
    "id": "woqW3t0FoVNk"
   },
   "source": [
    "## Introducción\n",
    "\n",
    "### Punto Flotante en el contexto del análisis numérico. \n",
    "\n",
    "• En el área de la ciencia, la mayor parte de los resultados son calculados empleando algún **método numérico**.\n",
    "\n",
    "• Y para poder implementar algún método numérico, es necesario escribir dicho algoritmo mediante un **lenguaje de programación**.\n",
    "\n",
    "• Para poderlo escribirlo de manera correcta y conocer sus limitaciones, es necesario conocer más a fondo la representación de los valores empleados en estos cálculos.\n",
    "\n",
    "• Las limitaciones en la exactitud de los cálculos en gran medida están dadas por el **sistema de punto flotante** empleado al realizar dichos cálculos."
   ]
  },
  {
   "cell_type": "markdown",
   "metadata": {
    "id": "nze1j26qoVNl"
   },
   "source": [
    "## Notación Científica\n",
    "\n",
    "Dado que en los cálculos llevados a cabo por una computadora es necesario representar valores tanto de magnitudes muy grandes, como de magnitudes muy pequeñas, es necesario encontrar una forma de representar estos valores con la misma cantidad de bits (unidad computacional que respresenta a un 1 ó un 0).\n",
    "\n",
    "Es por este motivo que se decidió emplear la notación científica como base para los sistemas de punto flotante.\n",
    "\n",
    "La notación científica empleada para el sistema de punto flotante es la misma que se emplea en ciencias como la física para representar el numero de estrellas en una galaxia o en la química para representar el tamaño de una molécula.\n"
   ]
  },
  {
   "cell_type": "markdown",
   "metadata": {
    "id": "nU76_2OJ-fUd"
   },
   "source": [
    "### Primera aproximación Punto Fijo\n",
    "\n",
    "• La notación de punto fijo, como su nombre lo indica considera una cantidad fija de bits tanto para la parte entera, como para la parte decimal. \n",
    "\n",
    "## Definición\n",
    "**Palabra del microprocesador** (contexto numérico): cadena finita de bits que es empleada por el microprocesador en cada ciclo de reloj para realizar operaciones dentro del CPU. Esta cadena puede ser de diferentes tamaños según la arquitectura del microprocesador (16, 32, 64, etc.).\n",
    "\n",
    "![palabramicro.png](data:image/png;base64,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)\n",
    "\n",
    "Supongamos una longitud de palabra de N-bits en una cierta base $\\beta$. Una forma de disponer las posiciones consiste en utilizar el **bit mas significativo** para el signo, las $N-k-1$ posiciones para la parte entera y las $k$ posiciones restantes para la parte fraccionaria, es decir.\n",
    "\n",
    "### Estructura de punto fijo con N-bits.\n",
    "\n",
    "$$\\underset{Signo}{\\underbrace{d_{N-1}}}\\hspace{1mm} \\underset{Parte\\,Entera}{\\underbrace{d_{N-2}d_{N-3}...d_{k}}} \\underset{Parte\\,Fraccionaria}{\\underbrace{d_{k-1}...d_{0}}}$$\n",
    "\n",
    "Considerando la estructura del bloque superior, ¿Cuál es el rango en el cual podemos representar valores numéricos?. \n",
    "\n",
    "$$(-\\beta^{N-k-1},\\beta^{N-k-1}) \\tag 1$$\n",
    "\n",
    "Por ejemplo si tomaramos un sistema de punto fijo en la base $\\beta=10$ con 4 bits, el más significativo para el signo un bit para la parte entera y $k=2$ bits para la parte fraccionaria, el rango de valores que podríamos representar con este sistema sería.\n",
    "\n",
    "$$\\left(-10=-10^{4-2-1}=-\\beta^{N-k-1},\\beta^{N-k-1}=10^{4-2-1}=10\\right)=\\left(-10,10\\right)$$\n",
    "\n",
    "Y esto es claro ya que el valor más pequeño que se puede representar con este esquema es.\n",
    "\n",
    "$$-9.99$$\n",
    "\n",
    "Y el mas grande es.\n",
    "\n",
    "$$9.99$$\n",
    "\n",
    "Sin importar la forma en la que se distribuyan los k-bits que tomemos para un sistema de punto fijo, el rango de valores que se podrían representar esta acotado por la expresión (1).\n",
    "\n",
    "¿Qué desventaja tiene esta notación?.\n",
    "\n",
    "Este rango es **muy restrictivo y no permite representar magnitudes muy grandes o muy pequeñas**, es por este motivo que el punto fijo no se emplea para representar valores numéricos dentro de una computadora."
   ]
  },
  {
   "cell_type": "markdown",
   "metadata": {
    "id": "n6FvLaz4-pdJ"
   },
   "source": [
    "### Elementos de la notación científica\n",
    "\n",
    "La notación científica nos pide que el valor que vayamos a expresar este conformado por 4 elementos básicos:\n",
    "\n",
    "• $\\color{blue}{Signo}$: determina si el valor a representar es positivo o negativo.\n",
    "\n",
    "• $\\color{blue}{Mantisa}$: es el valor a representar.\n",
    "\n",
    "• $\\color{blue}{Base}$: base del sistema numérico.\n",
    "\n",
    "• $\\color{blue}{Exponente}$: determina la magnitud del valor a representar\n",
    "\n",
    "$$ \\begin{array}{cccc}\n",
    "\\overbrace{+}^{Signo} & \\underbrace{6.02}_{Mantisa}\\times & \\underbrace{10}_{Base} & ^{\\overbrace{-23}^{Exponente}}\\end{array}$$\n",
    "\n",
    "### Notación científica\n",
    "\n",
    "Es importante notar que este tipo de notación no esta restringida a los valores del sistema decimal. \n",
    "\n",
    "Cualquier base sirve para representar valores numéricos con la notación científica empleando la siguiente expresión.\n",
    "\n",
    "<font color=\"Teal\" face=\"Comic Sans MS,arial\">\n",
    "  <h5 align=\"Left\"><i>Notación Científica Genérica.</i></h5>\n",
    "  </font>\n",
    "  \n",
    "$$\\pm M\\times\\beta^{e}$$\n",
    "\n",
    "• $\\color{blue}{M:}$ Mantisa.\n",
    "\n",
    "• $\\color{blue}{\\beta:}$ Base.\n",
    "\n",
    "• $\\color{blue}{e: }$ Exponente."
   ]
  },
  {
   "cell_type": "markdown",
   "metadata": {
    "id": "fSTpVh5P_ntO"
   },
   "source": [
    "### Representación de punto flotante notación normalizada.\n",
    "\n",
    "En el contexto computacional, la notación científica normalizada también se llama **representación de punto flotante en notación normalizada**. En la cual, e**l primer dígito a la derecha del punto no puede tomar el valor cero**.\n",
    "\n",
    " <font color=\"Teal\" face=\"Comic Sans MS,arial\">\n",
    "  <h5 align=\"Left\"><i>Representación punto flotante normalizada base 10.</i></h5>\n",
    "  </font>\n",
    "\n",
    "\n",
    "$$x=\\pm0.d_{1}d_{2}......\\times10^{n}$$\n",
    "\n",
    "Donde $d_{1}\\neq0$ y $n$ es un entero (positivo, negativo o cero). Los valores $d_{2},d_{3},....$ son los dígitos 0, 1, 2, 3, 4, 5, 6, 7, 8, y 9."
   ]
  },
  {
   "cell_type": "markdown",
   "metadata": {
    "id": "Fgr8H0qmAXlM"
   },
   "source": [
    "## Punto flotante normalizado sistema decimal\n",
    "\n",
    "Dicho de otra forma, el numero real $x$, si es diferente de cero, se puede representar en la forma decimal de punto flotante normalizada como.\n",
    "\n",
    "$$x=\\pm r\\times10^{n}\\,\\,\\,\\,\\,\\,(\\frac{1}{10}\\leq r<1) \\tag 2$$\n",
    "\n",
    "Esta representación consta de tres partes:\n",
    "\n",
    "• Un signo, ya sea $+$ ó $-$.\n",
    "\n",
    "• Un número $r=(0.d_{1}d_{2}...d_{k})_{10}$ en el intervalo $[\\frac{1}{10},1)$. A este valor se le conoce como **mantisa normalizada**.\n",
    "\n",
    "• Una potencia entera de 10, es decir el exponente $n$.\n",
    "\n",
    "### ¿Por qué $r$ está acotado por ese rango?\n",
    "\n",
    "Dado que $r$ esta en notación normalizada entonces $d_{1}\\neq0$ por lo tanto el valor más pequeño (cota inferior) que podemos asignarle a $r$ es $r=0.1000...0=0.1=1 \\times 10^{-1}=\\frac{1}{10}$.\n",
    "\n",
    "Y el valor más grande (cota superior) que podría tomar $r$ sería $r=0.9999...9=\\frac{9}{10}+\\frac{9}{100}+\\frac{9}{1000}+...+\\frac{9}{10^{k}}<1$\n",
    "\n",
    "Por lo tanto $r$ se encuentra en el rango (2)."
   ]
  },
  {
   "cell_type": "markdown",
   "metadata": {
    "id": "9aeM39NkAc9C"
   },
   "source": [
    "## Punto flotante normalizado sistema binario\n",
    "\n",
    "La representación de punto flotante en el sistema binario es similar a la del sistema decimal en diferentes aspectos.\n",
    "\n",
    " <font color=\"Teal\" face=\"Comic Sans MS,arial\">\n",
    "  <h5 align=\"Left\"><i>Representación punto flotante normalizado base 2.</i></h5>\n",
    "  </font>\n",
    "  \n",
    "Si $x\\neq0$ se puede escribir como\n",
    "\n",
    "$$x=\\pm q\\times2^{m}\\,\\,\\,\\,\\,\\,\\,(\\frac{1}{2}\\leq q<1) \\tag 3$$\n",
    "\n",
    "La mantisa $q$ se podría expresar como una sucesión de ceros o unos en el formato $q=(0.b_{1}b_{2}b_{3}...b_{k})_{2}$. Donde $b_{1}\\neq0$. Por lo tanto $b_{1}=1$ y entonces necesariamente $q\\geq\\frac{1}{2}$. Por lo que $q$ (al igual que $r$ con su rspectiva cota) esta acotado por el intervalo $[\\frac{1}{2},1)$.\n",
    "\n",
    "### ¿Por qué $q$ está acotado por ese rango?\n",
    "\n",
    "Dado que $q$ esta en notación normalizada entonces $b_{1}\\neq0$ por lo tanto el valor más pequeño (cota inferior) que podemos asignarle a $q$ es $q=0.1000...0=0.1=1 \\times 2^{-1}=\\frac{1}{2}$.\n",
    "\n",
    "Y el valor más grande (cota superior) que podría tomar $q$ sería $q=0.1111...1=\\frac{1}{2}+\\frac{1}{4}+\\frac{1}{8}+...+\\frac{1}{2^{k}}<1$\n",
    "\n",
    "Por lo tanto $q$ se encuentra en el rango (3)."
   ]
  },
  {
   "cell_type": "markdown",
   "metadata": {
    "id": "R9AQN_Z8oVNm"
   },
   "source": [
    "## Aspectos a considerar\n",
    "\n",
    "Como todos sabemos, los valores reales son ilimitados (tanto en magnitudes grandes como en pequeñas), es por eso que al emplear una computadora para ejecutar algoritmos numéricos debemos tomar en cuenta ciertas consideraciones.\n"
   ]
  },
  {
   "cell_type": "markdown",
   "metadata": {
    "id": "Vd2NuXEuyuul"
   },
   "source": [
    "### Memoria limitada\n",
    "\n",
    "Consideremos el siguiente ejemplo:\n",
    "\n",
    "$\\color{green}{Ejemplo}$. \n",
    "\n",
    "$$0.1_{10}=0.000110011..._{2}$$\n",
    "\n",
    "La memoria de las computadoras es limitada y por lo tanto no se puede representar valores numéricos con precisión infinita.\n",
    "\n",
    "No importa si se usan fracciones binarias o decimales, puede suceder que el valor no tenga una representación exacta, por lo tanto el valor a representar se tiene que truncar, pero:\n",
    "\n",
    "• ¿Cuánta precisión se necesita?.\n",
    "\n",
    "• ¿Dónde se necesita?.\n",
    "\n",
    "• ¿Cuántos dígitos enteros y cuántos fraccionarios?."
   ]
  },
  {
   "cell_type": "markdown",
   "metadata": {
    "id": "hQ5DCZrHoVNm"
   },
   "source": [
    "## Tarea\n",
    "\n",
    "<font color=\"Teal\" face=\"Comic Sans MS,arial\">\n",
    "  <h3 align=\"Left\"><i>Ejercicios.</i></h3>\n",
    "  </font>\n",
    "  \n",
    "*  Estándar 1 (NATURALES): Supongamos que se cuenta con una Longitud de Palabra de 5 bits en el sistema decimal. Los valores que se pueden representar no están normalizados y la totalidad de los bits se emplea para representar la parte entera.\n",
    "\n",
    "– ¿Cuantos valores se pueden representar?.\n",
    "\n",
    "– ¿Cuál es el valor más cercano a cero, diferente de cero (tanto positivo como negativo, para el estándar 1 solo positivo)?. \n",
    "\n",
    "– ¿Cuál es el valor más lejano del cero (tanto positivo como negativo, para el estándar 1 solo positivo)?.\n",
    "\n",
    "– ¿Cuál es la diferencia (distancia numérica) entre un valor y el siguiente que puede ser representado mediante este estándar?.\n",
    "\n",
    "\n",
    "* Estándar 2 (ENTEROS): Modifica el estándar 1, de manera que ahora el bit mas significativo se use para representar el signo. Responde las mismas preguntas.\n",
    "\n",
    "\n",
    "* Estándar 3 (NORMALIZADOS): Modifica el estándar 2 y ahora emplea el segundo bit mas significativo para el exponente, ademas los valores deben estar normalizados. Responde las mismas preguntas.\n",
    "\n",
    "\n",
    "* Estándar 4 (RACIONALES): Considerando la necesidad de representar valores muy pequeños o muy grandes, modifica el estándar 3, de tal manera que ahora un valor de cero a 3 representa un exponente negativo. Y valores de 5 en adelante representan exponentes positivos. A esto se le conoce como **DESPLAZAMIENTO**. Responde las mismas preguntas."
   ]
  },
  {
   "cell_type": "markdown",
   "metadata": {
    "id": "YVrv00jvoVNn"
   },
   "source": [
    "## Referencias\n",
    "\n",
    "1. Riswan Butt: Numerical Analysys Using Matlab, Jones and Bartlett.\n",
    "2. Ward Cheney, David Kincaid:  Métodos Numéricos y Computación, Cenage Learning.\n",
    "3. http://www.lcc.uma.es/~villa/tn/tema02.pdf\n",
    "4. Material de apoyo moodle\n",
    "\n"
   ]
  }
 ],
 "metadata": {
  "colab": {
   "include_colab_link": true,
   "name": "Punto_flotante.ipynb",
   "provenance": [],
   "toc_visible": true
  },
  "kernelspec": {
   "display_name": "Python 3 (ipykernel)",
   "language": "python",
   "name": "python3"
  },
  "language_info": {
   "codemirror_mode": {
    "name": "ipython",
    "version": 3
   },
   "file_extension": ".py",
   "mimetype": "text/x-python",
   "name": "python",
   "nbconvert_exporter": "python",
   "pygments_lexer": "ipython3",
   "version": "3.9.12"
  }
 },
 "nbformat": 4,
 "nbformat_minor": 1
}
