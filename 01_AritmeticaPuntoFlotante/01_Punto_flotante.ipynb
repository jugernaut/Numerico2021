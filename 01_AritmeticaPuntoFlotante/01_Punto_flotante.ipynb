{
  "nbformat": 4,
  "nbformat_minor": 0,
  "metadata": {
    "kernelspec": {
      "display_name": "Python 3.7 (tensorflow)",
      "language": "python",
      "name": "tensorflow"
    },
    "language_info": {
      "codemirror_mode": {
        "name": "ipython",
        "version": 3
      },
      "file_extension": ".py",
      "mimetype": "text/x-python",
      "name": "python",
      "nbconvert_exporter": "python",
      "pygments_lexer": "ipython3",
      "version": "3.7.7"
    },
    "colab": {
      "name": "Punto_flotante.ipynb",
      "provenance": [],
      "toc_visible": true,
      "include_colab_link": true
    }
  },
  "cells": [
    {
      "cell_type": "markdown",
      "metadata": {
        "id": "view-in-github",
        "colab_type": "text"
      },
      "source": [
        "<a href=\"https://colab.research.google.com/github/jugernaut/Numerico2021/blob/master/01_AritmeticaPuntoFlotante/01_Punto_flotante.ipynb\" target=\"_parent\"><img src=\"https://colab.research.google.com/assets/colab-badge.svg\" alt=\"Open In Colab\"/></a>"
      ]
    },
    {
      "cell_type": "markdown",
      "metadata": {
        "id": "biJ1e4ZgoVNi"
      },
      "source": [
        "<font color=\"Teal\" face=\"Comic Sans MS,arial\">\n",
        "  <h1 align=\"center\"><i>Punto Flotante.</i></h1>\n",
        "  </font>\n",
        "  <font color=\"Black\" face=\"Comic Sans MS,arial\">\n",
        "  <h5 align=\"center\"><i>Profesor: M.en.C. Miguel Angel Pérez León.</i></h5>\n",
        "    <h5 align=\"center\"><i>Ayudante: Jesús Iván Coss Calderón.</i></h5>\n",
        "  <h5 align=\"center\"><i>Materia: Análisis Numérico.</i></h5>\n",
        "  </font>"
      ]
    },
    {
      "cell_type": "markdown",
      "metadata": {
        "id": "woqW3t0FoVNk"
      },
      "source": [
        "## Introducción\n",
        "\n",
        "### Punto Flotante en el contexto del análisis numérico. \n",
        "\n",
        "• En el área de la ciencia, la mayor parte de los resultados son calculados empleando algún **método numérico**.\n",
        "\n",
        "• Y para poder implementar algún método numérico, es necesario escribir dicho algoritmo mediante un **lenguaje de programación**.\n",
        "\n",
        "• Para poderlo escribirlo de manera correcta y conocer sus limitaciones, es necesario conocer más a fondo la representación de los valores empleados en estos cálculos.\n",
        "\n",
        "• Las limitaciones en la exactitud de los cálculos en gran medida están dadas por el **sistema de punto flotante** empleado al realizar dichos cálculos."
      ]
    },
    {
      "cell_type": "markdown",
      "metadata": {
        "id": "nze1j26qoVNl"
      },
      "source": [
        "## Notación Científica.\n",
        "\n",
        "Dado que en los cálculos llevados a cabo por una computadora es necesario representar valores tanto de magnitudes muy grandes, como de magnitudes muy pequeñas, es necesario encontrar una forma de representar estos valores con la misma cantidad de bits (unidad computacional que respresenta a un 1 ó un 0).\n",
        "\n",
        "Es por este motivo que se decidió emplear la notación científica como base para los sistemas de punto flotante.\n",
        "\n",
        "La notación científica empleada para el sistema de punto flotante es la misma que se emplean en ciencias como la física para representar el numero de estrellas en una galaxia o en la química para representar el tamaño de una molécula.\n"
      ]
    },
    {
      "cell_type": "markdown",
      "metadata": {
        "id": "nU76_2OJ-fUd"
      },
      "source": [
        "### Primera aproximación Punto Fijo\n",
        "\n",
        "• La notación de punto fijo, como su nombre lo indica considera una cantidad fija de bits tanto para la parte entera, como para la parte decimal. \n",
        "\n",
        "## Definición\n",
        "**Palabra del microprocesador** (contexto numérico): cadena finita de bits que es empleada por el microprocesador en cada ciclo de reloj para realizar operaciones dentro del CPU. Esta cadena puede ser de diferentes tamaños según la arquitectura del microprocesador (16, 32, 64, etc.).\n",
        "\n",
        "Supongamos una longitud de palabra de N-bits en una cierta base $\\beta$. Una forma de disponer las posiciones consiste en utilizar el **bit mas significativo** para el signo, las N-k-1 posiciones para la parte entera y las k posiciones restantes para la parte fraccionaria, es decir.\n",
        "\n",
        "### Estructura de punto fijo con N-bits.\n",
        "\n",
        "$$\\underset{Signo}{\\underbrace{d_{N-1}}}\\hspace{1mm} \\underset{Parte\\,Eentera}{\\underbrace{d_{N-2}d_{N-3}...d_{k}}} \\underset{Parte\\,Fraccionaria}{\\underbrace{d_{k-1}...d_{0}}}$$\n",
        "\n",
        "• Considerando la estructura del bloque superior, ¿Cuál es el rango en el cual podemos representar valores numéricos?. \n",
        "\n",
        "$$(-\\beta^{N-k-1},\\beta^{N-k-1}).$$\n",
        "\n",
        "• ¿Qué desventaja tiene esta notación?.\n",
        "\n",
        "• Este rango es **muy restrictivo y no permite representar magnitudes muy grandes o muy pequeñas**, es por este motivo que el punto fijo no se emplea para representar valores numéricos dentro de una computadora."
      ]
    },
    {
      "cell_type": "markdown",
      "metadata": {
        "id": "n6FvLaz4-pdJ"
      },
      "source": [
        "### Elementos de la notación científica\n",
        "\n",
        "La notación científica nos pide que el valor que vayamos a expresar este conformado por 4 elementos básicos:\n",
        "\n",
        "• $\\color{blue}{Signo}$: determina si el valor a representar es positivo o negativo.\n",
        "\n",
        "• $\\color{blue}{Mantisa}$: es el valor a representar.\n",
        "\n",
        "• $\\color{blue}{Base}$: base del sistema numérico.\n",
        "\n",
        "• $\\color{blue}{Exponente}$: determina la magnitud del valor a representar\n",
        "\n",
        "$$ \\begin{array}{cccc}\n",
        "\\overbrace{+}^{Signo} & \\underbrace{6.02}_{Mantisa}\\times & \\underbrace{10}_{Base} & ^{\\overbrace{-23}^{Exponente}}\\end{array}$$\n",
        "\n",
        "### Notación científica\n",
        "\n",
        "Es importante notar que este tipo de notación no esta restringida a los números del sistema decimal. \n",
        "\n",
        "Cualquier base sirve para representar valores numéricos con la notación científica empleando la siguiente expresión.\n",
        "\n",
        "<font color=\"Teal\" face=\"Comic Sans MS,arial\">\n",
        "  <h5 align=\"Left\"><i>Notación Científica Genérica.</i></h5>\n",
        "  </font>\n",
        "  \n",
        "$$\\pm M\\times\\beta^{e}$$\n",
        "\n",
        "• $\\color{blue}{M:}$ Mantisa.\n",
        "\n",
        "• $\\color{blue}{\\beta:}$ Base.\n",
        "\n",
        "• $\\color{blue}{e: }$ Exponente."
      ]
    },
    {
      "cell_type": "markdown",
      "metadata": {
        "id": "fSTpVh5P_ntO"
      },
      "source": [
        "### Representación de punto flotante notación normalizada.\n",
        "\n",
        "En el contexto computacional, la notación científica normalizada también se llama **representación de punto flotante en notación normalizada**. En la cual, el primer dígito a la derecha del punto no puede ser el valor cero.\n",
        "\n",
        " <font color=\"Teal\" face=\"Comic Sans MS,arial\">\n",
        "  <h5 align=\"Left\"><i>Representación punto flotante normalizada base 10.</i></h5>\n",
        "  </font>\n",
        "\n",
        "\n",
        "$$x=\\pm0.d_{1}d_{2}......\\times10^{n}$$\n",
        "\n",
        "Donde $d_{1}\\neq0$ y $n$ es un entero (positivo, negativo o cero). Los valores $d_{2},d_{3},....$ son los dígitos decimales 0, 1, 2, 3, 4, 5, 6, 7, 8, y 9."
      ]
    },
    {
      "cell_type": "markdown",
      "metadata": {
        "id": "Fgr8H0qmAXlM"
      },
      "source": [
        "## Punto flotante normalizado sistema decimal.\n",
        "\n",
        "Dicho de otra forma, el numero real $x$, si es diferente de cero, se puede representar en la forma decimal de punto flotante normalizada como.\n",
        "\n",
        "$$x=\\pm r\\times10^{n}\\,\\,\\,\\,\\,\\,(\\frac{1}{10}\\leq r<1)$$\n",
        "\n",
        "Esta representación consta de tres partes:\n",
        "\n",
        "• Un signo, ya sea $+$ ó $-$.\n",
        "\n",
        "• Un número $r$ en el intervalo $[\\frac{1}{10},1)$. A este valor se le conoce como **mantisa normalizada**.\n",
        "\n",
        "• Una potencia entera de 10, es decir el exponente $n$."
      ]
    },
    {
      "cell_type": "markdown",
      "metadata": {
        "id": "9aeM39NkAc9C"
      },
      "source": [
        "## Punto flotante normalizado sistema binario. \n",
        "\n",
        "La representación de punto flotante en el sistema binario es similar a la del sistema decimal en diferentes aspectos.\n",
        "\n",
        " <font color=\"Teal\" face=\"Comic Sans MS,arial\">\n",
        "  <h5 align=\"Left\"><i>Hecho. Representación punto flotante normalizada base 2.</i></h5>\n",
        "  </font>\n",
        "  \n",
        "Si $x\\neq0$ se puede escribir como\n",
        "\n",
        "$$x=\\pm q\\times2^{m}\\,\\,\\,\\,\\,\\,\\,(\\frac{1}{2}\\leq q<1)$$\n",
        "\n",
        "La mantisa $q$ se podría expresar como una sucesión de ceros o unos en el formato $q=(0.b_{1}b_{2}b_{3}....)_{2}$. Donde $b_{1}\\neq0$. Por lo tanto $b_{1}=1$ y entonces necesariamente $q\\geq\\frac{1}{2}$. Por lo que $q$ al igual que $r$ esta acotado por el intervalo $[\\frac{1}{2},1)$."
      ]
    },
    {
      "cell_type": "markdown",
      "metadata": {
        "id": "R9AQN_Z8oVNm"
      },
      "source": [
        "## Aspectos a considerar\n",
        "\n",
        "Como todos sabemos, los valores reales son ilimitados (tanto en magnitudes grandes como en pequeñas), es por eso que al emplear una computadora para ejecutar algoritmos numéricos debemos tomar en cuenta ciertas consideraciones.\n"
      ]
    },
    {
      "cell_type": "markdown",
      "metadata": {
        "id": "Vd2NuXEuyuul"
      },
      "source": [
        "### Memoria limitada\n",
        "\n",
        "Consideremos el siguiente ejemplo:\n",
        "\n",
        "$\\color{green}{Ejemplo}$. \n",
        "\n",
        "$$0.1_{10}=0.000110011..._{2}$$\n",
        "\n",
        "La memoria de las computadoras es limitada y por lo tanto no se puede representar valores numéricos con precisión infinita.\n",
        "\n",
        "No importa si se usan fracciones binarias o decimales, puede suceder que el numero no tenga una representación exacta, por lo tanto el valor a representar se tiene que truncar, pero:\n",
        "\n",
        "• ¿Cuánta precisión se necesita?.\n",
        "\n",
        "• ¿Dónde se necesita?.\n",
        "\n",
        "• ¿Cuántos dígitos enteros y cuántos fraccionarios?."
      ]
    },
    {
      "cell_type": "markdown",
      "metadata": {
        "id": "hQ5DCZrHoVNm"
      },
      "source": [
        "## Tarea\n",
        "\n",
        "<font color=\"Teal\" face=\"Comic Sans MS,arial\">\n",
        "  <h3 align=\"Left\"><i>Ejercicios.</i></h3>\n",
        "  </font>\n",
        "  \n",
        "*  Estándar 1: Supongamos que se cuenta con una Longitud de Palabra de 5 bits en el sistema decimal. Los valores que se pueden representar no están normalizados y la totalidad de los bits se emplea para representar la parte entera.\n",
        "\n",
        "– ¿Cuantos valores se pueden representar?.\n",
        "\n",
        "– ¿Cuál es el valor más cercano a cero, diferente de cero (tanto positivo como negativo, para el estándar 1 solo positivo)?. \n",
        "\n",
        "– ¿Cuál es el valor más lejano del cero (tanto positivo como negativo, para el estándar 1 solo positivo)?.\n",
        "\n",
        "– ¿Cuál es la diferencia (distancia numérica) entre un valor y el siguiente que puede ser representado mediante este estándar?.\n",
        "\n",
        "\n",
        "* Estándar 2: Modifica el estándar 1, de manera que ahora el bit mas significativo se use para representar el signo. Responde las mismas preguntas.\n",
        "\n",
        "\n",
        "* Estándar 3: Modifica el estándar 2 y ahora emplea el segundo bit mas significativo para el exponente, ademas los valores deben estar normalizados. Responde las mismas preguntas.\n",
        "\n",
        "\n",
        "* Estándar 4: Considerando la necesidad de representar valores muy pequeños o muy grandes, modifica el estándar 3, de tal manera que ahora un valor de cero a 3 representa un exponente negativo. Y valores de 5 en adelante representan exponentes positivos. A esto se le conoce como **DESPLAZAMIENTO**. Responde las mismas preguntas."
      ]
    },
    {
      "cell_type": "markdown",
      "metadata": {
        "id": "YVrv00jvoVNn"
      },
      "source": [
        "## Referencias\n",
        "\n",
        "1. Riswan Butt: Numerical Analysys Using Matlab, Jones and Bartlett.\n",
        "2. Ward Cheney, David Kincaid:  Métodos Numéricos y Computación, Cenage Learning.\n",
        "3. http://www.lcc.uma.es/~villa/tn/tema02.pdf\n",
        "4. material de apoyo moodle\n",
        "\n"
      ]
    }
  ]
}