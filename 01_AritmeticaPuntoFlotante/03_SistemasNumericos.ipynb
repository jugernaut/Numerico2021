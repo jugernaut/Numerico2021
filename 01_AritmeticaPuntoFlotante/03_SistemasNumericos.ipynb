{
  "nbformat": 4,
  "nbformat_minor": 0,
  "metadata": {
    "kernelspec": {
      "display_name": "Python 3.7 (tensorflow)",
      "language": "python",
      "name": "tensorflow"
    },
    "language_info": {
      "codemirror_mode": {
        "name": "ipython",
        "version": 3
      },
      "file_extension": ".py",
      "mimetype": "text/x-python",
      "name": "python",
      "nbconvert_exporter": "python",
      "pygments_lexer": "ipython3",
      "version": "3.7.7"
    },
    "colab": {
      "name": "Sistemas_numericos.ipynb",
      "provenance": [],
      "toc_visible": true,
      "include_colab_link": true
    }
  },
  "cells": [
    {
      "cell_type": "markdown",
      "metadata": {
        "id": "view-in-github",
        "colab_type": "text"
      },
      "source": [
        "<a href=\"https://colab.research.google.com/github/jugernaut/Numerico2021/blob/master/01_AritmeticaPuntoFlotante/03_SistemasNumericos.ipynb\" target=\"_parent\"><img src=\"https://colab.research.google.com/assets/colab-badge.svg\" alt=\"Open In Colab\"/></a>"
      ]
    },
    {
      "cell_type": "markdown",
      "metadata": {
        "id": "XVVzCRDIvLYe"
      },
      "source": [
        "<font color=\"Teal\" face=\"Comic Sans MS,arial\">\n",
        "  <h1 align=\"center\"><i>Sistemas Numéricos.</i></h1>\n",
        "  </font>\n",
        "  <font color=\"Black\" face=\"Comic Sans MS,arial\">\n",
        "  <h5 align=\"center\"><i>Profesor: M.en.C. Miguel Angel Pérez León.</i></h5>\n",
        "    <h5 align=\"center\"><i>Ayudante: Jesús Iván Coss Calderón.</i></h5>\n",
        "  <h5 align=\"center\"><i>Materia: Análisis Numérico.</i></h5>\n",
        "  </font>"
      ]
    },
    {
      "cell_type": "markdown",
      "metadata": {
        "id": "dfsQxeWKvLYg"
      },
      "source": [
        "## Sistemas Numéricos\n",
        "\n",
        "Ya hemos mencionado previamente que los lenguajes de programación (incluso el lenguaje matemático) se sustentan en al menos un sistema numérico es por eso que dar una definición formal y analizar su funcionamiento es de importancia para el análisis numérico.\n",
        "\n"
      ]
    },
    {
      "cell_type": "markdown",
      "metadata": {
        "id": "1B5IIdULP-j_"
      },
      "source": [
        "### ¿Que es un sistema numérico?\n",
        "\n",
        "Un sistema numérico es un conjunto de símbolos (normalmente dígitos) y reglas que se emplean para representar datos **numéricos**.\n",
        "\n",
        "Se caracterizan por la **base**, que indica el numero de posibles símbolos diferentes dentro del sistema que ademas es el coeficiente que determina cuál es el valor de cada símbolo dependiendo de su posición."
      ]
    },
    {
      "cell_type": "markdown",
      "metadata": {
        "id": "6uAelfb4Uj_2"
      },
      "source": [
        "### Ejemplo\n",
        "\n",
        "Podemos tomar como ejemplo el sistema decimal y analizar la cifra 10.05. Como sabemos que es el sistema decimal por lo tanto la base ($\\beta$) sera 10.\n",
        "\n",
        "Por otra parte tenemos 1 decena, 0 unidades, 0 décimas y 5 centésimas. O lo que es lo mismo.\n",
        "\n",
        " $$1\\times10^{1}+0\\times10^{0}+0\\times10^{-1}+5\\times10^{-2}=10+0+0.0+0.05=10.05$$"
      ]
    },
    {
      "cell_type": "markdown",
      "metadata": {
        "id": "rnc7UmZuQNzC"
      },
      "source": [
        "## Sistema Binario (bin)\n",
        "\n",
        "Es el sistema básico, ya que como lo indica su nombre unicamente se tienen 2 posibles valores para cada bit (0 ó 1).\n",
        "\n",
        "La importancia de este sistema numérico radica en que el hardware de una computadora funciona mediante corriente eléctrica, lo que se mapea de inmediato a los valores de este sistema: 0 (sin corriente), 1 (con corriente).\n",
        "\n",
        "Todo valor numérico generado por cualquier computadora actual tiene su base en este sistema y después de algunos cambios de base es traducido al sistema necesario. "
      ]
    },
    {
      "cell_type": "markdown",
      "metadata": {
        "id": "Xb5gBWZbQc-v"
      },
      "source": [
        "### Estructura de un byte\n",
        "\n",
        "Son **8 bits juntos**, el bit más a la izquierda se conoce como el **bit más significativo** y el más a la derecha como el **bit menos significativo**.\n",
        "\n",
        "$$\\overset{Byte}{\\overbrace{\\begin{array}{cccccccc}\n",
        "\\underset{Bit+}{\\underbrace{1}} & 0 & 1 & 1 & 0 & 0 & 1 & \\underset{Bit-}{\\underbrace{1}}\\end{array}}}$$\n",
        "\n",
        "## Ejemplo:\n",
        "\n",
        "$$10110101_2$$"
      ]
    },
    {
      "cell_type": "markdown",
      "metadata": {
        "id": "gDDJ7DZAQtxw"
      },
      "source": [
        "## Sistema Octal (oct)\n",
        "\n",
        "La base de este sistema es el número 8, por lo que los dígitos que componen este sistema son: $0, 1,..., 7$.\n",
        "\n",
        "Este es un sistema intermedio entre el sistema binario y el sistema hexadecimal.\n",
        "\n",
        "<font color=\"Teal\" face=\"Comic Sans MS,arial\">\n",
        "  <h5 align=\"Left\"><i>Números octales con 2 bits.</i></h5>\n",
        "  </font>\n",
        "  \n",
        "| Decimal | Octal | \n",
        "| :-:  | :-: |\n",
        "| 0  | 0 0 |\n",
        "| 1  | 0 1 |\n",
        "| 2  | 0 2 |\n",
        "| ... | ... |\n",
        "| 7  | 0 7 |\n",
        "| 8  | 1 0 |\n",
        "| ?  | 2 0 |\n",
        "\n",
        "## Ejemplo\n",
        "\n",
        "$$45346_8$$"
      ]
    },
    {
      "cell_type": "markdown",
      "metadata": {
        "id": "xyNQTTGtQ5c4"
      },
      "source": [
        "## Sistema Hexadecimal (hex)\n",
        "\n",
        "Como su nombre lo indica, este sistema tiene como base el numero 16, ya que el sistema decimal unicamente tiene 10 dígitos, se emplean letras para poder representar los dígitos restantes de este sistema. \n",
        "\n",
        "Dada una cantidad fija de bits, este es el sistema que tiene una mayor capacidad para almacenar valores numéricos.\n",
        "\n",
        "Es por eso que todo valor numérico dentro de una computadora se representa inicialmente como un valor hexadecimal y finalmente se traduce a un valor binario.\n",
        "\n",
        "<font color=\"Teal\" face=\"Comic Sans MS,arial\">\n",
        "  <h5 align=\"Left\"><i>Elementos del sistema hexadecimal.</i></h5>\n",
        "  </font>\n",
        "  \n",
        "| Decimal | 0 |1 |2|3|...|9|10|11|12|13|14|15| \n",
        "| :-:  | :-: |:-: |:-: |:-: |:-: |:-: |:-: |:-: |:-: |:-: |:-: |:-: | \n",
        "| Hexagesimal  | 0 |1 |2|3|..|9|A|B|C|D|E|F|\n",
        "\n",
        "## Ejemplo:\n",
        "\n",
        "$$0\\times34ADF45$$"
      ]
    },
    {
      "cell_type": "markdown",
      "metadata": {
        "id": "JD8DTx_2vLYh"
      },
      "source": [
        "## Cambio de base (potencias de 2)\n",
        "\n",
        "Los cambios de base, de sistemas basados en potencias de 2 son muy sencillos solo hay que seguir estos pasos.\n",
        "\n",
        "* Identificar la base del número que queremos convertir.\n",
        "* Una vez identificada la base tenemos 6 posibles tipos de cambio:\n",
        "    * Oct a Bin (y viceversa): por cada dígito en oct, necesitaremos 3 bits en binario.\n",
        "    * Hex a Bin (y viceversa): por cada dígito en hex, necesitaremos 4 bits en binario.\n",
        "    * Hex a Oct (y viceversa): primero pasar a binario y después a octal.\n",
        "* Si hacen falta dígitos a la parte entera del numero a convertir se llenan con ceros.\n",
        "* Si hacen falta dígitos a la parte fraccionaria del número a convertir se llenan con ceros.\n",
        "* Finalmente, substituir cada dígito del valor a convertir, por su equivalente en la nueva base.\n",
        "\n",
        "## Tabla de equivalencias\n",
        "\n",
        "| Decimal | Binario | Octal | Hexadecimal |\n",
        "| :-:  | :-: |:-: | :-: | \n",
        "| 00  | 0000 |00 |0 |\n",
        "| 01  | 0001 |01 |1 |\n",
        "| 02  | 0010 |02 |2 |\n",
        "| 03  | 0011 |03 |3 |\n",
        "| 04  | 0100 |04 |4 |\n",
        "| 05  | 0101 |05 |5 |\n",
        "| 06  | 0110 |06 |6 |\n",
        "| 07  | 0111 | 07 |7 |\n",
        "| 08  | 1000 | 10 |8 |\n",
        "| 09  | 1001 | 11 |9 |\n",
        "| 10  | 1010 | 12 |A |\n",
        "| 11  | 1011 | 13 |B |\n",
        "| 12  | 1100 | 14 |C |\n",
        "| 13  | 1101 | 15 |D |\n",
        "| 14  | 1110 | 16 |E |\n",
        "| 15  | 1111 | 17 |F |"
      ]
    },
    {
      "cell_type": "markdown",
      "metadata": {
        "id": "TxtdcDUfRLRr"
      },
      "source": [
        "### Ejemplos\n",
        "\n",
        "Hex a Bin\n",
        "\n",
        "$$1A.5B_{16}=00011010.01011011_{2}=11010.01011011_{2}$$\n",
        "\n",
        "Oct a Bin\n",
        "\n",
        "$$32.266_{8}=011010.010110110_{2}=11010.01011011_{2}$$\n",
        "\n",
        "Hex a Oct\n",
        "\n",
        "$$1A.5B_{16}=32.266_{8}$$"
      ]
    },
    {
      "cell_type": "markdown",
      "metadata": {
        "id": "Z8cRzm_2vLYi"
      },
      "source": [
        "## Cambio de base $\\beta$ a base 10\n",
        "\n",
        "Para realizar este cambio se emplea el principio del valor relativo y que cada elemento representa una potencia de la base.\n",
        "\n",
        "Es decir dada la base $\\beta$ y el numero $d_{n},.......,d_{0}.d_{-1},.......,d_{-m}$ en la misma base, el valor de este numero en base 10 se puede calcular mediante la formula\n",
        "\n",
        "$$num_{10}=d_{n},d_{n-1},...,d_{0}.d_{-1},d_{-2},...,d_{-m}=d_{n}\\times\\beta^{n}+...+d_{0}\\times\\beta^{0}+d_{-1}\\times\\beta^{-1}+...+d_{-m}\\times\\beta^{-m}$$\n",
        "\n",
        "O en forma de suma\n",
        "\n",
        "$$num_{10}=\\sum_{i=0}^{n+m}d_{n-i}\\times\\beta^{n-i}$$"
      ]
    },
    {
      "cell_type": "markdown",
      "metadata": {
        "id": "n3jHyJ7_R9Wh"
      },
      "source": [
        "### Ejemplo\n",
        "\n",
        "Convertir $1010.011_{2}$ a base 10\n",
        "\n",
        "$$1\\times2^{3}+0\\times2^{2}+1\\times2^{1}+0\\times2^{0}+0\\times2^{-1}+1\\times2^{-2}+1\\times2^{-3}=8+0+2+0+0+\\frac{1}{2^{2}}+\\frac{1}{2^{3}}=10+0.25+0.125=10.375_{10}$$"
      ]
    },
    {
      "cell_type": "markdown",
      "metadata": {
        "id": "Aguh9Pt4Rhjf"
      },
      "source": [
        "## Cambio de base 10 a base $\\beta$\n",
        "\n",
        "La forma en la que se realiza este cambio de base, se muestra en forma de algoritmo mediante pseudocódigo:\n",
        "* Paso 1: Una vez dado el número decimal y la base a la que se quiere convertir ($\\beta$).\n",
        "* Paso 2: Se divide el número decimal entre la base $\\beta$.\n",
        "* Paso 3: Mientras el cociente sea diferente de cero, se vuelve a dividir el cociente anterior entre la base.\n",
        "* Paso 4: Agrupa los residuos de todas las divisiones realizadas en el paso 3.\n",
        "* Paso 5: Escribir los residuos en orden inverso de como se obtuvieron.\n",
        "* Fin del algoritmo."
      ]
    },
    {
      "cell_type": "markdown",
      "metadata": {
        "id": "ooTDCQieRoFB"
      },
      "source": [
        "### Ejemplo\n",
        "\n",
        "$$\\begin{array}{ccccc}\n",
        "10 & 2\\\\\n",
        "{\\color{blue}0} & 5 & 2\\\\\n",
        " & {\\color{blue}1} & 2 & 2\\\\\n",
        " &  & {\\color{blue}0} & 1 & 2\\\\\n",
        " &  &  & {\\color{blue}1} & {0}\n",
        "\\end{array}$$\n",
        "\n",
        "**Resultado**\n",
        "$$10_{10}=\\color{blue}{1010}_{2}$$"
      ]
    },
    {
      "cell_type": "markdown",
      "metadata": {
        "id": "dcrjC80HvLYi"
      },
      "source": [
        "## Referencias\n",
        "\n",
        "1. Eliza Viso Gurovich, Canek Pelaez V.:Introducción a las ciencias de la computación, Facultad de Ciencias.\n",
        "\n",
        "2. Ward Cheney, David Kincaid: Métodos Numéricos y Computación, Cenage Learning"
      ]
    }
  ]
}