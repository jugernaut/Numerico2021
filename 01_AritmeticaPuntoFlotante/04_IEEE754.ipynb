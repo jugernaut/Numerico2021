{
  "nbformat": 4,
  "nbformat_minor": 0,
  "metadata": {
    "kernelspec": {
      "display_name": "Python 3.7 (tensorflow)",
      "language": "python",
      "name": "tensorflow"
    },
    "language_info": {
      "codemirror_mode": {
        "name": "ipython",
        "version": 3
      },
      "file_extension": ".py",
      "mimetype": "text/x-python",
      "name": "python",
      "nbconvert_exporter": "python",
      "pygments_lexer": "ipython3",
      "version": "3.7.7"
    },
    "colab": {
      "name": "04_IEEE754.ipynb",
      "provenance": [],
      "toc_visible": true,
      "include_colab_link": true
    }
  },
  "cells": [
    {
      "cell_type": "markdown",
      "metadata": {
        "id": "view-in-github",
        "colab_type": "text"
      },
      "source": [
        "<a href=\"https://colab.research.google.com/github/jugernaut/Numerico2021/blob/master/01_AritmeticaPuntoFlotante/04_IEEE754.ipynb\" target=\"_parent\"><img src=\"https://colab.research.google.com/assets/colab-badge.svg\" alt=\"Open In Colab\"/></a>"
      ]
    },
    {
      "cell_type": "markdown",
      "metadata": {
        "id": "KZM8xPpxbt4h"
      },
      "source": [
        "<font color=\"Teal\" face=\"Comic Sans MS,arial\">\n",
        "  <h1 align=\"center\"><i>Estándar precisión simple (I.E.E.E. 754)</i></h1>\n",
        "  </font>\n",
        "  <font color=\"Black\" face=\"Comic Sans MS,arial\">\n",
        "  <h5 align=\"center\"><i>Profesor: M.en.C. Miguel Angel Pérez León.</i></h5>\n",
        "    <h5 align=\"center\"><i>Ayudante: Jesús Iván Coss Calderón.</i></h5>\n",
        "  <h5 align=\"center\"><i>Materia: Análisis Numérico.</i></h5>\n",
        "  </font>"
      ]
    },
    {
      "cell_type": "markdown",
      "metadata": {
        "id": "ImrEK4QEbt4i"
      },
      "source": [
        "## Introducción\n",
        "\n",
        "La **precisión p** de un sistema numérico de punto flotante en una computadora estará limitada por la **longitud de palabra N** disponible para representar un número.\n",
        "\n",
        "Con el fin de evitar la proliferación de diversos sistemas de puntos flotantes incompatibles entre sí, a fines de la década de 1980, la I.E.E.E. (Instituto de ingenieros eléctrico-electricistas) desarrolló la norma o estándar **IEEE754**, la cual es implementada en todas las computadoras personales actuales y aplicada en casi todos los otros sistemas computacionales. \n",
        "\n",
        "Esta norma define tres formatos de punto flotante con $\\beta=2$:\n",
        "\n"
      ]
    },
    {
      "cell_type": "markdown",
      "metadata": {
        "id": "rmZL_1dkcD4O"
      },
      "source": [
        "## Estándares\n",
        "\n",
        "<font color=\"Teal\" face=\"Comic Sans MS,arial\">\n",
        "  <h3 align=\"Left\"><i>Precisión Simple.</i></h3>\n",
        "  </font>\n",
        "  \n",
        "* $\\mathcal{F}(2,24,-125,128)$ implementado en una longitud de palabra $N=32\\,bits$.\n",
        "\n",
        "\n",
        "* $8\\,bits$ para el exponente y una precisión o mantisa de $24\\,bits$.\n",
        "\n",
        "\n",
        "<font color=\"Teal\" face=\"Comic Sans MS,arial\">\n",
        "  <h3 align=\"Left\"><i>Precisión Doble.</i></h3>\n",
        "  </font>\n",
        "  \n",
        "* $\\mathcal{F}(2,53,-1021,1024)$ implementado en una longitud de palabra $N=64\\,bits$.\n",
        "\n",
        "\n",
        "* $11\\,bits$ para el exponente y una precisión o mantisa de $53\\,bits$.\n",
        "  \n",
        "<font color=\"Teal\" face=\"Comic Sans MS,arial\">\n",
        "  <h3 align=\"Left\"><i>Precisión Extendida.</i></h3>\n",
        "  </font>\n",
        "  \n",
        "* $15\\,bits$ para el exponente.\n",
        "\n",
        "\n",
        "* Precisión de $64\\,bits$."
      ]
    },
    {
      "cell_type": "markdown",
      "metadata": {
        "id": "xsDC7i5Kbt4j"
      },
      "source": [
        "##   Precisión Simple\n",
        "\n",
        "\n",
        "* Por números de precisión simple de punto flotante entenderemos todos los números aceptables en una computadora que usan el formato aritmético de punto flotante de precisión simple.\n",
        "\n",
        "\n",
        "* Este conjunto es un subconjunto finito de los números reales, consta de:\n",
        "\n",
        "    * $\\pm0$.\n",
        "\n",
        "    * $\\pm\\infty$.\n",
        "    \n",
        "    * números de punto flotante de precisión simple normal y subnormal.\n",
        "\n",
        "    * NaN (not a number), por ejemplo una división por cero.   \n",
        "\n",
        "\n",
        "Por otro lado recuerda que que la mayoría de los números reales, no se pueden representar exactamente como números de punto flotante, ya que tienen una expansión decimal o binaria infinita, por ejemplo algunos de los racionales y todos los irracionales $(\\pi,\\,e,\\,\\frac{1}{3},\\,0.1)$."
      ]
    },
    {
      "cell_type": "markdown",
      "metadata": {
        "id": "RKoffZJvcl6f"
      },
      "source": [
        "### Anatomía de precisión simple\n",
        "\n",
        "<font color=\"Teal\" face=\"Comic Sans MS,arial\">\n",
        "  <h3 align=\"Left\"><i>Precisión Simple.</i></h3>\n",
        "  </font>\n",
        "  \n",
        "Debido a la longitud de palabra de 32 bits tanto como sea posible el número de máquina normalizado\n",
        "\n",
        "$$\\pm q\\times2^{m}$$\n",
        "\n",
        "Debe caber en 32 bits, una forma de asignar este espacio es:\n",
        "\n",
        "* $\\color{blue}{signo}$ de $q$: bit mas significativo.\n",
        "\n",
        "* $\\color{blue}{exponente}$ $m$: del bit 30 al bit 23 (8 bits).\n",
        "\n",
        "* $\\color{blue}{mantisa}$ $q$: del bit 22 al bit menos significativo (23 bits) \n",
        "\n",
        "\n",
        "<font color=\"Teal\" face=\"Comic Sans MS,arial\">\n",
        "  <h3 align=\"Left\"><i>Exponente con desplazamiento (sesgado).</i></h3>\n",
        "  </font>\n",
        "  \n",
        "$m$ puede representar $2^{8}$ posibles valores, mediante el corrimiento, en estos 8 bits podremos representar valores en el rango de $[-127,128]$."
      ]
    },
    {
      "cell_type": "markdown",
      "metadata": {
        "id": "mhV6lD5acsmd"
      },
      "source": [
        "### En forma de conjunto\n",
        "\n",
        "El estándar de precisión simple en forma de conjunto se ve así.\n",
        "\n",
        "$$\\mathcal{F}(2,24,-125,128)$$\n",
        "\n",
        "es decir:\n",
        "\n",
        "![underflow](https://docs.google.com/uc?export=download&id=13XGhOgxnttBa3RvS9rIvY_HiL8NjBAIx)\n",
        "\n",
        "* $x_{min}=\\beta^{L-1}2^{-125-1}=2^{-126}\\approx10^{-38}$.\n",
        "\n",
        "\n",
        "* $x_{max}=\\beta^{U}(1-\\beta^{-p})=2^{128}(1-2^{-24})\\approx10^{38}$.\n",
        "\n",
        "\n",
        "* $\\epsilon_{M}=2^{-23}=10^{-7}$(7 dígitos decimales significativos).\n",
        "\n",
        "\n",
        "* Unidad de redondeo $u=\\frac{1}{2}\\epsilon_{M}=2^{-24}\\approx6\\times10^{-8}$.\n",
        "\n",
        "\n",
        "* ¿Cuántos decimales significativos se tendrán en precisión doble y extendida?."
      ]
    },
    {
      "cell_type": "markdown",
      "metadata": {
        "id": "nHNSGAZAbt4k"
      },
      "source": [
        "## Peculiaridades\n",
        "\n",
        "Considerando que la cantidad de bits es fija y la notación normalizada, tendremos algunas peculiaridades tanto para el estandar de precisión simple como para cualquier otro."
      ]
    },
    {
      "cell_type": "markdown",
      "metadata": {
        "id": "CAxjkYl_egx9"
      },
      "source": [
        "### Corrimiento y Bit implícito\n",
        "\n",
        "Con 8 bits se tienen $2^{8}=256$ posibles valores (combinaciones) para el exponente, es decir se pueden generar valores en el rango $[0, 255]$.\n",
        "\n",
        "Un exponente cero es aquel en el que todos los bits del exponente tienen valor cero. Y el exponente 255 es en el que todos los bits son 1.\n",
        "\n",
        "\n",
        "Y para poder tener exponentes negativos, es necesario restar un corrimiento (desplazamiento) al valor del exponente es decir $E=e-127$. Donde E es el valor real del exponente que se quiere representar. \n",
        "\n",
        "Para $\\beta=2$ en notación normalizada, el primer bit siempre sera 1, por lo que resulta redundante almacenar este valor, y esto permite tener una mantisa efectiva de 24 bits.\n",
        "\n",
        "\n"
      ]
    },
    {
      "cell_type": "markdown",
      "metadata": {
        "id": "aQJGBaS9ekhA"
      },
      "source": [
        "### ¡Valores especiales!\n",
        "\n",
        "Anteriormente se dejo en claro que debido a la normalización de los valores, no es posible representar el valor cero, es por esto que hay que considerar la manera de representarlo.\n",
        "\n",
        "Por otra parte en la aritmética de punto flotante pueden presentarse las 3 condiciones siguientes:\n",
        "\n",
        "* Operación, cuyo resultado este fuera del rango representable en el sistema.\n",
        "\n",
        "\n",
        "* Operación matemática indefinida (división por cero).\n",
        "\n",
        "\n",
        "* Operación matemática ilegal, por ejemplo; $5-\\frac{0}{0}\\,,\\,\\sqrt[2]{-1}.$\n",
        "\n",
        "\n",
        "* Antes de la introducción de la norma IEE754 cuando se daba uno de estos casos, el calculo (algoritmo) se detenía."
      ]
    },
    {
      "cell_type": "markdown",
      "metadata": {
        "id": "9A1u90Wgendp"
      },
      "source": [
        "### Aritmética cerrada en $\\mathcal{F}$\n",
        "\n",
        "La norma IEEE754 define una aritmética cerrada en $\\mathcal{F}$, introduciendo ciertos valores especiales.\n",
        "\n",
        "\n",
        "De manera tal que la norma IEEE745 implementa una aritmética de no detención.\n",
        "\n",
        "* $\\color{blue}{Cero}$: Mantisa nula y exponente nulo es decir $\\underset{31-bits}{\\underbrace{00...0000}}$, notar que existe $-0\\,y\\,+0$.\n",
        "\n",
        "\n",
        "* $\\color{blue}{Infinitos}$: Se dan cuando un cálculo produce un desbordamiento, o por la división de un numero no nulo por cero. Se representan mediante   \n",
        "\n",
        "$$\\underset{\\overbrace{8-bits}}{\\overset{\\underbrace{exp}}{1....1}} \\hspace{1mm} \\underset{\\overbrace{23-bits}}{\\overset{\\underbrace{mantisa}}{0.....0}}$$\n",
        "\n",
        "* $\\color{blue}{NaN}$: Son operaciones ilegales como $\\sqrt[2]{-1}$, se representa mediante \n",
        "\n",
        "$$\\underset{\\overbrace{8-bits}}{\\overset{\\underbrace{exp}}{1....1}} \\hspace{1mm} \\underset{\\overbrace{23-bits}}{\\overset{\\underbrace{mantisa}}{1..01..1}}$$"
      ]
    },
    {
      "cell_type": "markdown",
      "metadata": {
        "id": "9ByAZQWqbt4l"
      },
      "source": [
        "### Valores Denormalizados (subnormales)\n",
        "\n",
        "Ya hemos visto el por que las expresiones numéricas en un sistema de punto flotante deben estar en notación normalizada, sin embargo con el fin de lograr representar valores más cercanos al cero, es necesario hacer uso de valores denormalizados.\n"
      ]
    },
    {
      "cell_type": "markdown",
      "metadata": {
        "id": "Eju87UUZiiPa"
      },
      "source": [
        "#### Números denormalizados\n",
        "\n",
        "La distancia entre 0 y $x_{min}$ es mucho mayor que la distancia entre $x_{min}$ y el valor que le sigue, por lo que la asignación a 0 de una condición de **underflow** produce errores de redondeo excepcionalmente grandes.\n",
        "\n",
        "\n",
        "Para cubrir esta distancia se crearon los números denormalizados. Estos se obtienen de eliminar la condición de que $d_{1}\\neq0$.\n",
        "\n",
        "Se aplica unicamente para los números que corresponden al mínimo exponente y mantisa diferente de cero, es decir \n",
        "\n",
        "\n",
        "$$\\underset{\\overbrace{8-bits}}{\\overset{\\underbrace{exp}}{0....0}} \\hspace{1mm} \\underset{\\overbrace{23-bits}}{\\overset{\\underbrace{mantisa}}{1.01.1}}$$\n"
      ]
    },
    {
      "cell_type": "markdown",
      "metadata": {
        "id": "y1vBxC1zixNt"
      },
      "source": [
        "#### Rango de valores denormalizados\n",
        "\n",
        "De esta manera la unicidad de la representación se mantiene y ahora es posible representar números de punto flotante en intervalo.\n",
        "\n",
        "$$(-\\beta^{L-1},\\beta^{L-1})$$\n",
        "\n",
        "\n",
        "Siendo el numero denormalizado de magnitud mas pequeña.\n",
        "\n",
        "$$\\beta^{L-p}$$\n",
        "\n",
        "![precisionSimple.PNG](data:image/png;base64,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)\n",
        "\n",
        "![ejemplospre.PNG](data:image/png;base64,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)"
      ]
    },
    {
      "cell_type": "markdown",
      "metadata": {
        "id": "lYkn1Moxiq23"
      },
      "source": [
        "## Ejercicios\n",
        "\n",
        "Determina la representación de máquina en precisión simple del valor decimal -52.234375.\n",
        "\n",
        "* Primer paso: Convertir la parte entera a binario. $(52)_{10}=(64)_{8}=(110\\,100)_{2}$\n",
        "\n",
        "<font color=\"RED\" face=\"Comic Sans MS,arial\">\n",
        "  <h3 align=\"Left\"><i>TIP</i></h3>\n",
        "  </font>\n",
        "  \n",
        "**Si conviertes el decimal primero a base octal te ahorras algunas divisiones**.\n",
        "\n",
        "* Ahora se convierte la parte fraccionaria $(.234375)_{10}=(.17)_{8}=(001\\,111)_{2}$\n",
        "\n",
        "\n",
        "* Se tiene que $(52.234375)_{10}=(110\\,100.001\\,111)_{2}=(1.101000011110)_{2}\\times2^{5}$ es la forma normalizada del valor a convertir en base binaria y $(.101000011110)_{2}$ es la mantisa.\n",
        "\n",
        "\n",
        "* Después, sabemos que el exponente es $(5)_{10}$ y puesto que $e-127=5$ podemos ver que $e=5+127=(132)_{10}=(204)_{8}=(10\\,000\\,100)_{2}$ es el exponente almacenado.\n",
        "\n",
        "\n",
        "* Por lo que la representación de máquina en precisión simple de -52.234375 es:\n",
        "\n",
        "$$\\underset{signo}{\\underbrace{1}}\\underset{exponente}{\\underbrace{10000100}}\\underset{mantisa}{\\underbrace{10100001111000000000000}}_{2}=0\\times C250F000_{16}$$\n",
        "\n",
        "Determina el número decimal correspondiente a este número de máquina $0\\times45DE4000_{16}$\n",
        "\n",
        "\n",
        "* En binario $(0100\\,0101\\,1101\\,1110\\,0100\\,0000\\,0000\\,0000)_{2}$\n",
        "\n",
        "\n",
        "* El exponente corresponde a $(10\\,001\\,011)_{2}=(213)_{8}=(139)_{10}$, así que $139-127=12.$\n",
        "\n",
        "\n",
        "* La mantisa es positiva y representa al número:\n",
        "\n",
        "$$(1.101\\,111\\,001)_{2}\\times2^{12}=(1\\,101\\,111\\,001\\,000.)_{2}\\\\=(15710.)_{8}\\\\=1\\times8^{4}+5\\times8^{3}+7\\times8^{2}+1\\times8\\\\=8(1+8(7+8(5+8(1))))\\\\=7112$$"
      ]
    },
    {
      "cell_type": "markdown",
      "metadata": {
        "id": "qff7pOrmbt4m"
      },
      "source": [
        "## Referencias\n",
        "\n",
        "1. Riswan Butt: Numerical Analysys Using Matlab, Jones and Bartlett.\n",
        "\n",
        "2. Ward Cheney, David Kincaid: Métodos Numéricos y Computación, Cenage Learning."
      ]
    }
  ]
}