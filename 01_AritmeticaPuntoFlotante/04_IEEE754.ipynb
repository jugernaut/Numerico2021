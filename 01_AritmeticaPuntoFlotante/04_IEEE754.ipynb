{
  "nbformat": 4,
  "nbformat_minor": 0,
  "metadata": {
    "kernelspec": {
      "display_name": "Python 3.7 (tensorflow)",
      "language": "python",
      "name": "tensorflow"
    },
    "language_info": {
      "codemirror_mode": {
        "name": "ipython",
        "version": 3
      },
      "file_extension": ".py",
      "mimetype": "text/x-python",
      "name": "python",
      "nbconvert_exporter": "python",
      "pygments_lexer": "ipython3",
      "version": "3.7.7"
    },
    "colab": {
      "name": "04_IEEE754.ipynb",
      "provenance": [],
      "toc_visible": true
    }
  },
  "cells": [
    {
      "cell_type": "markdown",
      "metadata": {
        "id": "KZM8xPpxbt4h"
      },
      "source": [
        "<font color=\"Teal\" face=\"Comic Sans MS,arial\">\n",
        "  <h1 align=\"center\"><i>Estándar precisión simple (I.E.E.E. 754)</i></h1>\n",
        "  </font>\n",
        "  <font color=\"Black\" face=\"Comic Sans MS,arial\">\n",
        "  <h5 align=\"center\"><i>Profesor: M.en.C. Miguel Angel Pérez León.</i></h5>\n",
        "    <h5 align=\"center\"><i>Ayudante: Jesús Iván Coss Calderón.</i></h5>\n",
        "  <h5 align=\"center\"><i>Materia: Análisis Numérico.</i></h5>\n",
        "  </font>"
      ]
    },
    {
      "cell_type": "markdown",
      "metadata": {
        "id": "ImrEK4QEbt4i"
      },
      "source": [
        "## Introducción\n",
        "\n",
        "La **precisión p** de un sistema numérico de punto flotante en una computadora estará limitada por la **longitud de palabra N** disponible para representar un número.\n",
        "\n",
        "Con el fin de evitar la proliferación de diversos sistemas de puntos flotantes incompatibles entre sí, a fines de la década de 1980, la I.E.E.E. (Instituto de ingenieros eléctrico-electricistas) desarrolló la norma o estándar **IEEE754**, la cual es implementada en todas las computadoras personales actuales y aplicada en casi todos los otros sistemas computacionales. \n",
        "\n",
        "Esta norma define tres formatos de punto flotante con $\\beta=2$:\n",
        "\n"
      ]
    },
    {
      "cell_type": "markdown",
      "metadata": {
        "id": "rmZL_1dkcD4O"
      },
      "source": [
        "## Estándares\n",
        "\n",
        "<font color=\"Teal\" face=\"Comic Sans MS,arial\">\n",
        "  <h3 align=\"Left\"><i>Precisión Simple.</i></h3>\n",
        "  </font>\n",
        "  \n",
        "* $\\mathcal{F}(2,24,-125,128)$ implementado en una longitud de palabra $N=32\\,bits$.\n",
        "\n",
        "\n",
        "* $8\\,bits$ para el exponente y una precisión o mantisa de $24\\,bits$.\n",
        "\n",
        "\n",
        "<font color=\"Teal\" face=\"Comic Sans MS,arial\">\n",
        "  <h3 align=\"Left\"><i>Precisión Doble.</i></h3>\n",
        "  </font>\n",
        "  \n",
        "* $\\mathcal{F}(2,53,-1021,1024)$ implementado en una longitud de palabra $N=64\\,bits$.\n",
        "\n",
        "\n",
        "* $11\\,bits$ para el exponente y una precisión o mantisa de $53\\,bits$.\n",
        "  \n",
        "<font color=\"Teal\" face=\"Comic Sans MS,arial\">\n",
        "  <h3 align=\"Left\"><i>Precisión Extendida.</i></h3>\n",
        "  </font>\n",
        "  \n",
        "* $15\\,bits$ para el exponente.\n",
        "\n",
        "\n",
        "* Precisión de $64\\,bits$."
      ]
    },
    {
      "cell_type": "markdown",
      "metadata": {
        "id": "xsDC7i5Kbt4j"
      },
      "source": [
        "##   Precisión Simple\n",
        "\n",
        "\n",
        "* Por números de precisión simple de punto flotante entenderemos todos los números aceptables en una computadora que usan el formato aritmético de punto flotante de precisión simple.\n",
        "\n",
        "\n",
        "* Este conjunto es un subconjunto finito de los números reales, consta de:\n",
        "\n",
        "    * $\\pm0$.\n",
        "\n",
        "    * $\\pm\\infty$.\n",
        "    \n",
        "    * números de punto flotante de precisión simple normal y subnormal.\n",
        "\n",
        "    * NaN (not a number),por ejemplo una división por cero.   \n",
        "\n",
        "\n",
        "Por otro lado recuerda que que la mayoría de los números reales, no se pueden representar exactamente como números de punto flotante, ya que tienen una expansión decimal o binaria infinita, por ejemplo algunos de los racionales y todos los irracionales $(\\pi,\\,e,\\,\\frac{1}{3},\\,0.1)$."
      ]
    },
    {
      "cell_type": "markdown",
      "metadata": {
        "id": "RKoffZJvcl6f"
      },
      "source": [
        "### Anatomía de precisión simple\n",
        "\n",
        "<font color=\"Teal\" face=\"Comic Sans MS,arial\">\n",
        "  <h3 align=\"Left\"><i>Precisión Simple.</i></h3>\n",
        "  </font>\n",
        "  \n",
        "Debido a la longitud de palabra de 32 bits tanto como sea posible el número de máquina normalizado\n",
        "\n",
        "$$\\pm q\\times2^{m}$$\n",
        "\n",
        "Debe caber en 32 bits, una forma de asignar este espacio es:\n",
        "\n",
        "* $\\color{blue}{signo}$ de $q$: bit mas significativo.\n",
        "\n",
        "* $\\color{blue}{exponente}$ $m$: del bit 30 al bit 23 (8 bits).\n",
        "\n",
        "* $\\color{blue}{mantisa}$ $q$: del bit 22 al bit menos significativo (23 bits) \n",
        "\n",
        "\n",
        "<font color=\"Teal\" face=\"Comic Sans MS,arial\">\n",
        "  <h3 align=\"Left\"><i>Exponente con desplazamiento (sesgado).</i></h3>\n",
        "  </font>\n",
        "  \n",
        "$m$ puede representar $2^{8}$ posibles valores, mediante el corrimiento, en estos 8 bits podremos representar valores en el rango de $[-127,128]$."
      ]
    },
    {
      "cell_type": "markdown",
      "metadata": {
        "id": "mhV6lD5acsmd"
      },
      "source": [
        "### En forma de conjunto\n",
        "\n",
        "El estándar de precisión simple en forma de conjunto se ve así.\n",
        "\n",
        "$$\\mathcal{F}(2,24,-125,128)$$\n",
        "\n",
        "es decir:\n",
        "\n",
        "![underflow](https://docs.google.com/uc?export=download&id=13XGhOgxnttBa3RvS9rIvY_HiL8NjBAIx)\n",
        "\n",
        "* $x_{min}=\\beta^{L-1}2^{-125-1}=2^{-126}\\approx10^{-38}$.\n",
        "\n",
        "\n",
        "* $x_{max}=\\beta^{U}(1-\\beta^{-p})=2^{128}(1-2^{-24})\\approx10^{38}$.\n",
        "\n",
        "\n",
        "* $\\epsilon_{M}=2^{-23}=10^{-7}$(7 dígitos decimales significativos).\n",
        "\n",
        "\n",
        "* Unidad de redondeo $u=\\frac{1}{2}\\epsilon_{M}=2^{-24}\\approx6\\times10^{-8}$.\n",
        "\n",
        "\n",
        "* ¿Cuántos decimales significativos se tendrán en precisión doble y extendida?."
      ]
    },
    {
      "cell_type": "markdown",
      "metadata": {
        "id": "nHNSGAZAbt4k"
      },
      "source": [
        "## Peculiaridades\n",
        "\n",
        "Considerando que la cantidad de bits es fija y la notación normalizada, tendremos algunas peculiaridades tanto para el estandar de precisión simple como para cualquier otro."
      ]
    },
    {
      "cell_type": "markdown",
      "metadata": {
        "id": "CAxjkYl_egx9"
      },
      "source": [
        "### Corrimiento y Bit implícito\n",
        "\n",
        "Con 8 bits se tienen $2^{8}=256$ posibles valores (combinaciones) para el exponente, es decir se pueden generar valores en el rango $[0, 255]$.\n",
        "\n",
        "Un exponente cero es aquel en el que todos los bits del exponente tienen valor cero. Y el exponente 255 es en el que todos los bits son 1.\n",
        "\n",
        "\n",
        "Y para poder tener exponentes negativos, es necesario restar un corrimiento (desplazamiento) al valor del exponente es decir $E=e-127$. Donde E es el valor real del exponente que se quiere representar. \n",
        "\n",
        "Para $\\beta=2$ en notación normalizada, el primer bit siempre sera 1, por lo que resulta redundante almacenar este valor, y esto permite tener una mantisa efectiva de 24 bits.\n",
        "\n",
        "\n"
      ]
    },
    {
      "cell_type": "markdown",
      "metadata": {
        "id": "aQJGBaS9ekhA"
      },
      "source": [
        "### ¡Valores especiales!\n",
        "\n",
        "Anteriormente se dejo en claro que debido a la normalización de los valores, no es posible representar el valor cero, es por esto que hay que considerar la manera de representarlo.\n",
        "\n",
        "Por otra parte en la aritmética de punto flotante pueden presentarse las 3 condiciones siguientes:\n",
        "\n",
        "* Operación, cuyo resultado este fuera del rango representable en el sistema.\n",
        "\n",
        "\n",
        "* Operación matemática indefinida (división por cero).\n",
        "\n",
        "\n",
        "* Operación matemática ilegal, por ejemplo; $5-\\frac{0}{0}\\,,\\,\\sqrt[2]{-1}.$\n",
        "\n",
        "\n",
        "* Antes de la introducción de la norma IEE754 cuando se daba uno de estos casos, el calculo (algoritmo) se detenía."
      ]
    },
    {
      "cell_type": "markdown",
      "metadata": {
        "id": "9A1u90Wgendp"
      },
      "source": [
        "### Aritmética cerrada en $\\mathcal{F}$\n",
        "\n",
        "La norma IEEE754 define una aritmética cerrada en $\\mathcal{F}$, introduciendo ciertos valores especiales.\n",
        "\n",
        "\n",
        "De manera tal que la norma IEEE745 implementa una aritmética de no detención.\n",
        "\n",
        "* $\\color{blue}{Cero}$: Mantisa nula y exponente nulo es decir $\\underset{31-bits}{\\underbrace{00...0000}}$, notar que existe $-0\\,y\\,+0$.\n",
        "\n",
        "\n",
        "* $\\color{blue}{Infinitos}$: Se dan cuando un cálculo produce un desbordamiento, o por la división de un numero no nulo por cero. Se representan mediante   \n",
        "\n",
        "$$\\underset{\\overbrace{8-bits}}{\\overset{\\underbrace{exp}}{1....1}} \\hspace{1mm} \\underset{\\overbrace{23-bits}}{\\overset{\\underbrace{mantisa}}{0.....0}}$$\n",
        "\n",
        "* $\\color{blue}{NaN}$: Son operaciones ilegales como $\\sqrt[2]{-1}$, se representa mediante \n",
        "\n",
        "$$\\underset{\\overbrace{8-bits}}{\\overset{\\underbrace{exp}}{1....1}} \\hspace{1mm} \\underset{\\overbrace{23-bits}}{\\overset{\\underbrace{mantisa}}{1..01..1}}$$"
      ]
    },
    {
      "cell_type": "markdown",
      "metadata": {
        "id": "9ByAZQWqbt4l"
      },
      "source": [
        "## Valores Denormalizados (subnormales). \n",
        "\n",
        "\n",
        "### Números denormalizados.\n",
        "\n",
        "La distancia entre 0 y $x_{min}$ es mucho mayor que la distancia entre $x_{min}$ y el valor que le sigue, por lo que la asignación a 0 de una condición de **underflow** produce errores de redondeo excepcionalmente grandes.\n",
        "\n",
        "\n",
        "Para cubrir esta distancia se crearon los números denormalizados. Estos son se obtienen de eliminar la condición de que $d_{1}\\neq0$.\n",
        "\n",
        "Se aplica unicamente para los números que corresponden al mínimo exponente y mantisa diferente de cero, es decir \n",
        "\n",
        "\n",
        "$$\\underset{\\overbrace{8-bits}}{\\overset{\\underbrace{exp}}{0....0}} \\hspace{1mm} \\underset{\\overbrace{23-bits}}{\\overset{\\underbrace{mantisa}}{1.01.1}}$$\n",
        "\n",
        "### Rango de valores denormalizados.\n",
        "\n",
        "De esta manera la unicidad de la representación se mantiene y ahora es posible representar números de punto flotante en intervalo.\n",
        "\n",
        "$$(-\\beta^{L-1},\\beta^{L-1})$$\n",
        "\n",
        "\n",
        "Siendo el numero denormalizado de magnitud mas pequeña.\n",
        "\n",
        "$$\\beta^{L-p}$$\n",
        "\n",
        "![Resumen](https://docs.google.com/uc?export=download&id=1cMy-tdRxx1Q6UJ9PWTlFcYwRIbgkRcer)\n",
        "\n",
        "![ejemplos](https://docs.google.com/uc?export=download&id=1pxQzmCtLoJMzAefa9H38U_P8NzaJ9NG2)\n",
        "\n",
        "### Ejercicios.\n",
        "\n",
        "* Determina la representación de maquina en precisión simple del valor decimal -52.234375.\n",
        "\n",
        "    * Primer paso: Convertir la parte entera a binario. $(52.)_{10}=(64)_{8}=(110\\,100)_{2}$\n",
        "    \n",
        "<font color=\"RED\" face=\"Comic Sans MS,arial\">\n",
        "  <h3 align=\"Left\"><i>TIP.</i></h3>\n",
        "  </font>\n",
        "  \n",
        "Si conviertes el decimal primero a base octal te ahorras algunas divisiones.\n",
        "\n",
        "\n",
        "* Ahora se convierte la parte fraccionaria $(.234375)_{10}=(.17)_{8}=(001\\,111)_{2}$\n",
        "\n",
        "\n",
        "* Se tiene que $(52.234375)_{10}=(110\\,100.001\\,111)_{2}=(1.101000011110)_{2}\\times2^{5}$ es la forma normalizada del valor a convertir en base binaria y $(.101000011110)_{2}$ es la mantisa.\n",
        "\n",
        "\n",
        "* Después, sabemos que el exponente $(5)_{10}$ y puesto que $e-127=5$ podemos ver que $e=5+127=(132)_{10}=(204)_{8}=(10\\,000\\,100)_{2}$ es el exponente almacenado.\n",
        "\n",
        "\n",
        "* Por lo que la representación de máquina en precisión simple de -52.234375 es:\n",
        "\n",
        "$$\\underset{signo}{\\underbrace{1}}\\underset{exponente}{\\underbrace{10000100}}\\underset{mantisa}{\\underbrace{10100001111000000000000}}_{2}=0\\times C250F000_{16}$$\n",
        "\n",
        "\n",
        "* Determina el número decimal correspondiente a este numero de maquina $0\\times45DE4000_{16}$\n",
        "\n",
        "\n",
        "* En binario $(0100\\,0101\\,1101\\,1110\\,0100\\,0000\\,0000\\,0000)_{2}$\n",
        "\n",
        "\n",
        "* El exponente corresponde a $(10\\,001\\,011)_{2}=(213)_{8}=(139)_{10}$, así que $139-127=12.$\n",
        "\n",
        "\n",
        "* La mantisa es positiva y representa al número:\n",
        "\n",
        "$$(1.101\\,111\\,001)_{2}\\times2^{12}=(1\\,101\\,111\\,001\\,000.)_{2}\\\\=(15710.)_{8}\\\\=1\\times8^{4}+5\\times8^{3}+7\\times8^{2}+1\\times8\\\\=8(1+8(7+8(5+8(1))))\\\\=7112$$"
      ]
    },
    {
      "cell_type": "markdown",
      "metadata": {
        "id": "qff7pOrmbt4m"
      },
      "source": [
        "## Referencias.\n",
        "\n",
        "1. Riswan Butt: Numerical Analysys Using Matlab, Jones and Bartlett.\n",
        "\n",
        "2. Ward Cheney, David Kincaid: Métodos Numéricos y Computación, Cenage Learning."
      ]
    }
  ]
}