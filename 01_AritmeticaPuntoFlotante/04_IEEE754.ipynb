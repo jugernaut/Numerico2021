{
  "nbformat": 4,
  "nbformat_minor": 0,
  "metadata": {
    "kernelspec": {
      "display_name": "Python 3.7 (tensorflow)",
      "language": "python",
      "name": "tensorflow"
    },
    "language_info": {
      "codemirror_mode": {
        "name": "ipython",
        "version": 3
      },
      "file_extension": ".py",
      "mimetype": "text/x-python",
      "name": "python",
      "nbconvert_exporter": "python",
      "pygments_lexer": "ipython3",
      "version": "3.7.7"
    },
    "colab": {
      "name": "04_IEEE754.ipynb",
      "provenance": [],
      "toc_visible": true,
      "include_colab_link": true
    }
  },
  "cells": [
    {
      "cell_type": "markdown",
      "metadata": {
        "id": "view-in-github",
        "colab_type": "text"
      },
      "source": [
        "<a href=\"https://colab.research.google.com/github/jugernaut/Numerico2021/blob/master/01_AritmeticaPuntoFlotante/04_IEEE754.ipynb\" target=\"_parent\"><img src=\"https://colab.research.google.com/assets/colab-badge.svg\" alt=\"Open In Colab\"/></a>"
      ]
    },
    {
      "cell_type": "markdown",
      "metadata": {
        "id": "KZM8xPpxbt4h"
      },
      "source": [
        "<font color=\"Teal\" face=\"Comic Sans MS,arial\">\n",
        "  <h1 align=\"center\"><i>Estándar precisión simple (I.E.E.E. 754)</i></h1>\n",
        "  </font>\n",
        "  <font color=\"Black\" face=\"Comic Sans MS,arial\">\n",
        "  <h5 align=\"center\"><i>Profesor: M.en.C. Miguel Angel Pérez León.</i></h5>\n",
        "    <h5 align=\"center\"><i>Ayudante: Jesús Iván Coss Calderón.</i></h5>\n",
        "  <h5 align=\"center\"><i>Materia: Análisis Numérico.</i></h5>\n",
        "  </font>"
      ]
    },
    {
      "cell_type": "markdown",
      "metadata": {
        "id": "ImrEK4QEbt4i"
      },
      "source": [
        "## Introducción\n",
        "\n",
        "La **precisión p** de un sistema numérico de punto flotante en una computadora estará limitada por la **longitud N de la palabra del microprocesador** disponible para representar un número.\n",
        "\n",
        "Con el fin de evitar la proliferación de diversos sistemas de punto flotante incompatibles entre sí, a fines de la década de 1980, la I.E.E.E. (Instituto de ingenieros eléctrico-electricistas) desarrolló la norma o estándar **IEEE754**, la cual es implementada en todas las computadoras personales actuales y aplicada en casi todos los otros sistemas computacionales. \n",
        "\n",
        "Esta norma define tres formatos de punto flotante con $\\beta=2$:\n",
        "\n"
      ]
    },
    {
      "cell_type": "markdown",
      "metadata": {
        "id": "rmZL_1dkcD4O"
      },
      "source": [
        "## Estándares\n",
        "\n",
        "<font color=\"Teal\" face=\"Comic Sans MS,arial\">\n",
        "  <h3 align=\"Left\"><i>Precisión Simple.</i></h3>\n",
        "  </font>\n",
        "  \n",
        "* $\\mathcal{F}(2,24,-125,128)$ implementado en una longitud de palabra $N=32\\,bits$.\n",
        "\n",
        "\n",
        "* $8\\,bits$ para el exponente y una precisión o mantisa de $24\\,bits$.\n",
        "\n",
        "\n",
        "<font color=\"Teal\" face=\"Comic Sans MS,arial\">\n",
        "  <h3 align=\"Left\"><i>Precisión Doble.</i></h3>\n",
        "  </font>\n",
        "  \n",
        "* $\\mathcal{F}(2,53,-1021,1024)$ implementado en una longitud de palabra $N=64\\,bits$.\n",
        "\n",
        "\n",
        "* $11\\,bits$ para el exponente y una precisión o mantisa de $53\\,bits$.\n",
        "  \n",
        "<font color=\"Teal\" face=\"Comic Sans MS,arial\">\n",
        "  <h3 align=\"Left\"><i>Precisión Extendida.</i></h3>\n",
        "  </font>\n",
        "  \n",
        "* $15\\,bits$ para el exponente.\n",
        "\n",
        "\n",
        "* Precisión de $64\\,bits$."
      ]
    },
    {
      "cell_type": "markdown",
      "metadata": {
        "id": "xsDC7i5Kbt4j"
      },
      "source": [
        "##   Precisión Simple\n",
        "\n",
        "\n",
        "* Por números de precisión simple de punto flotante entenderemos todos los números aceptables en una computadora que usan el formato aritmético de punto flotante de precisión simple.\n",
        "\n",
        "\n",
        "* Este conjunto es un subconjunto finito de los números reales, consta de:\n",
        "\n",
        "    * $\\pm0$.\n",
        "\n",
        "    * $\\pm\\infty$.\n",
        "    \n",
        "    * números de punto flotante de precisión simple normal y subnormal.\n",
        "\n",
        "    * NaN (not a number), por ejemplo una división por cero.   \n",
        "\n",
        "\n",
        "Por otro lado recuerda que que la mayoría de los números reales, no se pueden representar exactamente como números de punto flotante, ya que tienen una expansión decimal o binaria infinita, por ejemplo algunos de los racionales $(0.1)$ y todos los irracionales $(\\pi,\\,e,\\,\\frac{1}{3})$."
      ]
    },
    {
      "cell_type": "markdown",
      "metadata": {
        "id": "RKoffZJvcl6f"
      },
      "source": [
        "### Anatomía de precisión simple\n",
        "\n",
        "<font color=\"Teal\" face=\"Comic Sans MS,arial\">\n",
        "  <h3 align=\"Left\"><i>Precisión Simple</i></h3>\n",
        "  </font>\n",
        "  \n",
        "Debido a la longitud de palabra de 32 bits tanto como sea posible el número de máquina normalizado\n",
        "\n",
        "$$\\pm p\\times2^{e}$$\n",
        "\n",
        "debe caber en 32 bits, una forma de asignar este espacio es:\n",
        "\n",
        "* $\\color{blue}{signo}$ de $p$: bit mas significativo.\n",
        "\n",
        "* $\\color{blue}{exponente}$ $e$: del bit 30 al bit 23 (8 bits).\n",
        "\n",
        "* $\\color{blue}{mantisa}$ $p$: del bit 22 al bit menos significativo (23 bits) .\n",
        "\n",
        "\n",
        "<font color=\"Teal\" face=\"Comic Sans MS,arial\">\n",
        "  <h3 align=\"Left\"><i>Exponente con desplazamiento (corrimiento)</i></h3>\n",
        "  </font>\n",
        "  \n",
        "$e$ puede representar $2^{8}=256$ posibles valores, mediante el corrimiento, en estos 8 bits podremos representar valores en el rango de $[-125,128]$."
      ]
    },
    {
      "cell_type": "markdown",
      "metadata": {
        "id": "mhV6lD5acsmd"
      },
      "source": [
        "### En forma de conjunto\n",
        "\n",
        "El estándar de precisión simple en forma de conjunto se ve así.\n",
        "\n",
        "$$\\mathcal{F}(2,24,-125,128)$$\n",
        "\n",
        "es decir:\n",
        "\n",
        "<img src=\"https://github.com/jugernaut/Numerico2021/blob/master/Figuras/puntoflotante/puntoflotante/under.PNG?raw=1\" width=\"700\">\n",
        "\n",
        "* $x_{min}=\\beta^{L-1}=2^{-125-1}=2^{-126}\\approx10^{-38}$\n",
        "\n",
        "\n",
        "* $x_{max}=\\beta^{U}(1-\\beta^{-p})=2^{128}(1-2^{-24})\\approx10^{38}$\n",
        "\n",
        "\n",
        "* $\\epsilon_{M}=\\beta^{1-p}=2^{-23}=10^{-7}$(7 dígitos decimales significativos)\n",
        "\n",
        "\n",
        "* Unidad de redondeo $u=\\frac{1}{2}\\epsilon_{M}=2^{-24}\\approx6\\times10^{-8}$\n",
        "\n",
        "\n",
        "* ¿Cuántos decimales significativos se tendrán en precisión doble y extendida?"
      ]
    },
    {
      "cell_type": "markdown",
      "metadata": {
        "id": "nHNSGAZAbt4k"
      },
      "source": [
        "## Peculiaridades\n",
        "\n",
        "Considerando que la cantidad de bits es fija y la notación normalizada, tendremos algunas peculiaridades tanto para el estándar de precisión simple como para cualquier otro."
      ]
    },
    {
      "cell_type": "markdown",
      "metadata": {
        "id": "CAxjkYl_egx9"
      },
      "source": [
        "### Corrimiento y Bit implícito\n",
        "\n",
        "Con 8 bits se tienen $2^{8}=256$ posibles valores (combinaciones de 1's y 0's) para el exponente, es decir se pueden generar valores en el rango $[0, 255]$.\n",
        "\n",
        "Y para poder tener exponentes negativos, es necesario restar un corrimiento (desplazamiento) al valor del exponente es decir $e=E-126$. Donde $e$ es el valor real del exponente que se quiere representar (ejemplo $e=(-125)_{10}$) y $E$ es el exponente almacenado en la representación (siguiendo con el ejemplo $E=(00000001)_2$). \n",
        "\n",
        "Sin embargo la representación binaria del exponente varía en el rango $L = −125 ≤ e ≤ U = 128$ como lo indica el estándar, esto se debe a que un exponente cero es aquel en el que todos los bits del exponente tienen valor cero y el exponente 255 es en el que todos los bits son 1, **estos valores del exponente (0 y 255) estan reservados para valores especiales** en este estándar.\n",
        "\n",
        "Así que podemos pensar que el exponente $E$ en este estándar varia en el rango $1 ≤ E ≤ 254$ y el exponente $e$ varía en el rango $ −125 ≤ e ≤ 128$\n",
        "\n",
        "| Exponente        | 0           |  1 | 2|. |. |254 |255 |\n",
        "| :-:  | :-: | :-: |  :-: | :-:  |   :-: |   :-: |  :-: | \n",
        "| $E$  | reservado |00000001 |00000010 |. |.|11111110 |reservado|\n",
        "| $e$ | cero-sub |-125    |-124 | .|. |128 |inf-Nan|\n",
        "\n",
        "Para $\\beta=2$ en notación normalizada, el primer bit siempre sera 1, por lo que resulta redundante almacenar este valor, y esto permite tener una **mantisa efectiva de 24 bits**.\n",
        "\n",
        "\n"
      ]
    },
    {
      "cell_type": "markdown",
      "metadata": {
        "id": "aQJGBaS9ekhA"
      },
      "source": [
        "### ¡Valores especiales!\n",
        "\n",
        "Anteriormente se dejo en claro que debido a la normalización de los valores, **no es posible representar el valor cero**, es por esto que hay que considerar la manera de representarlo.\n",
        "\n",
        "Por otra parte en la aritmética de punto flotante pueden presentarse las 3 condiciones siguientes:\n",
        "\n",
        "* Operación, cuyo resultado este fuera del rango representable en el sistema.\n",
        "\n",
        "* Operación matemática indefinida (división por cero).\n",
        "\n",
        "* Operación matemática ilegal, por ejemplo; $5-\\frac{0}{0}\\,,\\,\\sqrt[2]{-1}.$\n",
        "\n",
        "* Antes de la introducción de la norma IEE754 cuando se daba uno de estos casos, **el cálculo (algoritmo) se detenía**."
      ]
    },
    {
      "cell_type": "markdown",
      "metadata": {
        "id": "9A1u90Wgendp"
      },
      "source": [
        "### Aritmética cerrada en $\\mathcal{F}$\n",
        "\n",
        "La norma IEEE754 define una aritmética cerrada en $\\mathcal{F}$, introduciendo ciertos valores especiales.\n",
        "\n",
        "\n",
        "De manera tal que la norma IEEE745 implementa una aritmética de no detención.\n",
        "\n",
        "* $\\color{blue}{Cero}$: Mantisa nula y exponente nulo es decir $\\underset{31-bits}{\\underbrace{00...0000}}$, notar que existe $-0\\,y\\,+0$.\n",
        "\n",
        "\n",
        "* $\\color{blue}{Infinitos}$: Se dan cuando un cálculo produce un desbordamiento, o por la división de un numero no nulo por cero. Se representan mediante   \n",
        "\n",
        "$$\\underset{\\overbrace{8-bits}}{\\overset{\\underbrace{exp}}{1....1}} \\hspace{1mm} \\underset{\\overbrace{23-bits}}{\\overset{\\underbrace{mantisa}}{0.....0}}$$\n",
        "\n",
        "* $\\color{blue}{NaN}$: Son operaciones ilegales como $\\sqrt[2]{-1}$, se representa mediante \n",
        "\n",
        "$$\\underset{\\overbrace{8-bits}}{\\overset{\\underbrace{exp}}{1....1}} \\hspace{1mm} \\underset{\\overbrace{23-bits}}{\\overset{\\underbrace{mantisa}}{1..01..1}}$$"
      ]
    },
    {
      "cell_type": "markdown",
      "metadata": {
        "id": "9ByAZQWqbt4l"
      },
      "source": [
        "### Valores Denormalizados (subnormales)\n",
        "\n",
        "Ya hemos visto el por que las expresiones numéricas en un sistema de punto flotante deben estar en notación normalizada, sin embargo con el fin de poder representar valores más cercanos al cero, es necesario hacer uso de valores **denormalizados**.\n"
      ]
    },
    {
      "cell_type": "markdown",
      "metadata": {
        "id": "Eju87UUZiiPa"
      },
      "source": [
        "#### Números denormalizados\n",
        "\n",
        "La distancia entre 0 y $x_{min}$ es mucho mayor que la distancia entre $x_{min}$ y el valor que le sigue, por lo que la asignación a 0 de una condición de **underflow** produce errores de redondeo excepcionalmente grandes.\n",
        "\n",
        "![normalizados.png](data:image/png;base64,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)\n",
        "\n",
        "Para cubrir esta distancia se crearon los números denormalizados. Estos se obtienen de eliminar la condición de que $d_{1}\\neq0$.\n",
        "\n",
        "![denormalizados.png](data:image/png;base64,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)\n",
        "\n",
        "Se aplica unicamente para las expresiones que corresponden al mínimo exponente y mantisa diferente de cero, es decir \n",
        "\n",
        "$$\\underset{\\overbrace{8-bits}}{\\overset{\\underbrace{exp}}{0....0}} \\hspace{1mm} \\underset{\\overbrace{23-bits}}{\\overset{\\underbrace{mantisa}}{01..01}}$$\n",
        "\n",
        "En caso de encontrar una expresión con estas caracteristicas, **el exponente correspondiente a este valor seria -126**.\n"
      ]
    },
    {
      "cell_type": "markdown",
      "metadata": {
        "id": "y1vBxC1zixNt"
      },
      "source": [
        "#### Rango de valores denormalizados\n",
        "\n",
        "De esta manera la unicidad de la representación se mantiene y ahora es posible representar números de punto flotante en intervalo.\n",
        "\n",
        "$$(-\\beta^{L-1},\\beta^{L-1})$$\n",
        "\n",
        "\n",
        "Siendo el numero denormalizado de magnitud mas pequeña.\n",
        "\n",
        "$$\\beta^{L-p}$$\n",
        "\n",
        "<img src=\"https://github.com/jugernaut/Numerico2021/blob/master/Figuras/puntoflotante/puntoflotante/ejemplos.png?raw=1\" width=\"700\">"
      ]
    },
    {
      "cell_type": "markdown",
      "metadata": {
        "id": "lYkn1Moxiq23"
      },
      "source": [
        "## Ejercicios\n",
        "\n",
        "Determina la representación de máquina en precisión simple del valor decimal -52.234375.\n",
        "\n",
        "* Primer paso: Convertir la parte entera a binario. $(52)_{10}=(64)_{8}=(110\\,100)_{2}$\n",
        "\n",
        "<font color=\"RED\" face=\"Comic Sans MS,arial\">\n",
        "  <h3 align=\"Left\"><i>TIP</i></h3>\n",
        "  </font>\n",
        "  \n",
        "**Si conviertes el decimal primero a base octal te ahorras algunas divisiones**.\n",
        "\n",
        "* Ahora se convierte la parte fraccionaria $(.234375)_{10}=(.17)_{8}=(.001\\,111)_{2}$\n",
        "\n",
        "* Se tiene que $(52.234375)_{10}=(110\\,100.001\\,111)_{2}=(.1101000011110)_{2}\\times2^{6}$ es la forma normalizada del valor a convertir en base binaria y $(.1101000011110)_{2}$ es la mantisa. En caso de considerar el bit implícito del lado izquierdo del punto decimal, como se vio en las ayudantias esta es la forma normalizada de la mantisa $(1.101000011110)_{2}\\times2^{5}$\n",
        "\n",
        "* Después, como ya identificamos al exponente con corrimiento, es decir $e=(6)_{10}$ y puesto que $E-126=6$, ahora necesitamos despejar a $E$, ya que $E$ es el exponente sin corrimiento que necesitamos codificar en el estadar IEE 754, por lo tanto podemos ver que $E=6+126=(132)_{10}=(204)_{8}=(10\\,000\\,100)_{2}$ es el exponente $E$ que debemos almacenar en los 8 bits correspondientes al exponente en la representación final. En caso de considerar el bit implícito como se vio en las ayudantias, $E=5+127=(132)_{10}=(204)_{8}=(10\\,000\\,100)_{2}$\n",
        "\n",
        "* Por lo que la representación de máquina en precisión simple de -52.234375 es:\n",
        "\n",
        "$$\\underset{signo}{\\underbrace{1}}\\underset{exponente}{\\underbrace{10000100}}\\underset{mantisa}{\\underbrace{10100001111000000000000}}_{2}=0\\times C250F000$$\n",
        "\n",
        "Determina el número decimal correspondiente a este número de máquina $0\\times45DE4000$\n",
        "\n",
        "* En binario $(0100\\,0101\\,1101\\,1110\\,0100\\,0000\\,0000\\,0000)_{2}$\n",
        "\n",
        ">    $$\\underset{signo}{\\underbrace{0}}\\underset{exponente}{\\underbrace{10001011}}\\underset{mantisa}{\\underbrace{10111100100000000000000}}_{2}$$\n",
        "\n",
        "* En este caso ya conocemos a $E$, es decir $E=(10\\,001\\,011)_{2}=(213)_{8}=(139)_{10}$. Y necesitamos despejar a $e$ de la expresión $E - 126 = e$ así que $139-126=13=e$. Si se considera el corrimiento de $-127$, entonces $139-127=12=e$\n",
        "\n",
        "* La mantisa es positiva, además considerando el bit implícito, esta expresión representa al número:\n",
        "\n",
        "$$(.1101\\,111\\,001)_{2}\\times2^{13}=(1.101\\,111\\,001)_{2}\\times2^{12}=(1\\,101\\,111\\,001\\,000.)_{2}\\\\=(15710.)_{8}\\\\=1\\times8^{4}+5\\times8^{3}+7\\times8^{2}+1\\times8\\\\=8(1+8(7+8(5+8(1))))\\\\=7112_{10}$$\n",
        "\n",
        "* Por lo que el número decimal correspondiente a este número de máquina $0\\times45DE4000$ es  $7112_{10}$\n",
        "\n",
        "Determina el número decimal correspondiente a este número de máquina $0\\times00000001$\n",
        "\n",
        "* En binario $(0000\\,0000\\,0000\\,0000\\,000\\,0000\\,0000\\,0001)_{2}$\n",
        "\n",
        ">    $$\\underset{signo}{\\underbrace{0}}\\underset{exponente}{\\underbrace{00000000}}\\underset{mantisa}{\\underbrace{00000000000000000000001}}_{2}$$\n",
        "\n",
        "* El exponente corresponde a $(00\\,000\\,000)_{2}=(0)_{10}$, así que el exponente es el mínimo y dado que la mantisa es diferente de cero, por lo tanto es un **¡valor denormalizado!**. Por lo que el exponente fijo corresponde al valor es $-126$. Esto viene del estandar IEEE754.\n",
        "\n",
        "* La mantisa es positiva, **además como es un valor subnormal no existe el bit implícito**, esta expresión representa al número:\n",
        "\n",
        "$$(0.00000000000000000000001)_{2}\\times2^{-126}=\\underset{149 \\,ceros}{0.\\underbrace{0...0000000000}1_2}={2_{10}^{-149}}$$\n",
        "\n",
        "Que corresponde al valor subnormal de magnitud más pequeña que podemos genera con el estandar I.E.E.E. 754 en precisión simple. \n",
        "\n",
        "* Por lo que el número decimal correspondiente a este número de máquina $0\\times00000001$ es  $2_{10}^{-149}$\n",
        "\n",
        "Determina el número decimal correspondiente a este número de máquina $0\\times FF800001$\n",
        "\n",
        "* En binario $(1111\\,1111\\,1000\\,0000\\,000\\,0000\\,0000\\,0001)_{2}$\n",
        "\n",
        ">    $$\\underset{signo}{\\underbrace{1}}\\underset{exponente}{\\underbrace{11111111}}\\underset{mantisa}{\\underbrace{00000000000000000000001}}_{2}$$\n",
        "\n",
        "* El exponente corresponde a $(11\\,111\\,111)_{2}=(255)_{10}$, así que el exponente es el máximo y dado que la mantisa es diferente de cero, por lo tanto es un **Nan (not a number)!**. No hay más que hacer, simplemente podemos decir que esta expresión en precisión simple del estándar I.E.E.E. 754 corresponde a un **Nan o lo que es lo mismo a una operación indefinida** (ilegal).\n"
      ]
    },
    {
      "cell_type": "markdown",
      "metadata": {
        "id": "HoRy6g_0Sptn"
      },
      "source": [
        "### Limitantes de python\n",
        "\n",
        "Empleando la versión de python que usa google colab por default, responde las siguientes preguntas y actividades:\n",
        "\n",
        "*   ¿Qué tipo de precisión se emplea en python?.\n",
        "*   ¿Cuál es el $\\epsilon_m$ en python?.\n",
        "*   Realiza una suma de 2 valores que produzca un overflow.\n",
        "*   Realiza una resta de 2 valores que produzca un undeflow.\n",
        "*   ¿Por qué la operación de la celda inferior devuelve *False*, aunque claramente deberia devolver *True*?.\n",
        "*   La función *round()* se emplea para redondear un valor a un cierto número de cifras significativas. Modifica el segundo *prtint* de la celda inferior para que el resultado sea *True*. \n",
        "\n"
      ]
    },
    {
      "cell_type": "code",
      "metadata": {
        "id": "p1W8znxHSF6k",
        "colab": {
          "base_uri": "https://localhost:8080/",
          "height": 50
        },
        "outputId": "78a223ae-c48e-499b-ee88-f25079110d9d"
      },
      "source": [
        "print(.1 + .1 + .1 == .3)\n",
        "\n",
        "print(round(.1, 1) + round(.1, 1) + round(.1, 1) == round(.3, 1))"
      ],
      "execution_count": null,
      "outputs": [
        {
          "output_type": "stream",
          "text": [
            "False\n",
            "False\n"
          ],
          "name": "stdout"
        }
      ]
    },
    {
      "cell_type": "markdown",
      "metadata": {
        "id": "qff7pOrmbt4m"
      },
      "source": [
        "## Referencias\n",
        "\n",
        "1. Riswan Butt: Numerical Analysys Using Matlab, Jones and Bartlett.\n",
        "\n",
        "2. Ward Cheney, David Kincaid: Métodos Numéricos y Computación, Cenage Learning.\n",
        "\n",
        "3. https://docs.python.org/es/3/tutorial/floatingpoint.html"
      ]
    }
  ]
}