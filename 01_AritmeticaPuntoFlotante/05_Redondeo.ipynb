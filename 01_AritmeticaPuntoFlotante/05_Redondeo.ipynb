{
  "nbformat": 4,
  "nbformat_minor": 0,
  "metadata": {
    "kernelspec": {
      "display_name": "Python 3.7 (tensorflow)",
      "language": "python",
      "name": "tensorflow"
    },
    "language_info": {
      "codemirror_mode": {
        "name": "ipython",
        "version": 3
      },
      "file_extension": ".py",
      "mimetype": "text/x-python",
      "name": "python",
      "nbconvert_exporter": "python",
      "pygments_lexer": "ipython3",
      "version": "3.7.7"
    },
    "colab": {
      "name": "05_Redondeo.ipynb",
      "provenance": [],
      "toc_visible": true,
      "include_colab_link": true
    }
  },
  "cells": [
    {
      "cell_type": "markdown",
      "metadata": {
        "id": "view-in-github",
        "colab_type": "text"
      },
      "source": [
        "<a href=\"https://colab.research.google.com/github/jugernaut/Numerico2021/blob/master/01_AritmeticaPuntoFlotante/05_Redondeo.ipynb\" target=\"_parent\"><img src=\"https://colab.research.google.com/assets/colab-badge.svg\" alt=\"Open In Colab\"/></a>"
      ]
    },
    {
      "cell_type": "markdown",
      "metadata": {
        "id": "OLeg-JemS7z6"
      },
      "source": [
        "<font color=\"Teal\" face=\"Comic Sans MS,arial\">\n",
        "  <h1 align=\"center\"><i>Redondeo</i></h1>\n",
        "  </font>\n",
        "  <font color=\"Black\" face=\"Comic Sans MS,arial\">\n",
        "  <h5 align=\"center\"><i>Profesor: M. en C. Miguel Angel Pérez León.</i></h5>\n",
        "    <h5 align=\"center\"><i>Ayudante: Jesús Iván Coss Calderón.</i></h5>\n",
        "  <h5 align=\"center\"><i>Materia: Análisis Numérico.</i></h5>\n",
        "  </font>"
      ]
    },
    {
      "cell_type": "markdown",
      "metadata": {
        "id": "eu9DMUR_S7z8"
      },
      "source": [
        "## Introducción\n",
        "\n",
        "El hecho de que en una computadora sólo un subconjunto $\\mathcal{F}$ de los números reales es representable implica que, dado un número real $x$, éste debe ser aproximado por un número de punto flotante al que designaremos por $fl(x)$.\n"
      ]
    },
    {
      "cell_type": "markdown",
      "metadata": {
        "id": "_SwOG71LUeFs"
      },
      "source": [
        "## Redondeo\n",
        "\n",
        "El hecho de que la palabra del microprocesador sea una cadena de bits finita implica que hay valores reales que no pueden ser representados de manera exacta en un sistema de punto flotante, es por eso que una técnica para intentar dar una representación de estos valores es mediante redondeo.\n",
        "\n",
        "La manera usual de proceder consiste en considerar el redondeo al más próximo, esto es, **$fl(x)$ es el número de punto flotante más próximo a $x$**. Tal número de punto flotante resulta del redondeado a $p$ dígitos de la mantisa correspondiente a la representación de punto flotante normalizada (infinita) de $x$. \n",
        "\n",
        "En caso de \"empate\" se redondea al número de punto flotante con el bit menos significativo igual a cero. A este tipo de redondeo se le conoce como **redondeo al par más cercano**.\n"
      ]
    },
    {
      "cell_type": "markdown",
      "metadata": {
        "id": "CjvQQZFWVncH"
      },
      "source": [
        "### Redondeo al más cercano\n",
        "\n",
        "Sea $x$ de la siguiente manera:\n",
        "\n",
        "$$x=(-1)^{s}0.d_{1}d_{2}...d_{p}d_{p+1}d_{p+2}...\\times\\beta^{e}$$\n",
        "\n",
        "$fl(x)$ está dada por:\n",
        "\n",
        "$$fl(x)=(-1)^{s}0.d_{1}d_{2}...\\tilde{d_{p}}\\times\\beta^{e},\\,\\,\\,\\,\\,\\,\\,\\,\\tilde{d_{p}}=\\begin{cases}\n",
        "\\begin{array}{c}\n",
        "d_{p}\\,\\,\\,\\,si\\,d_{p+1}<\\beta/2\\\\\n",
        "d_{p}+1\\,\\,\\,\\,si\\,d_{p+1}\\geq\\beta/2\n",
        "\\end{array}\\end{cases}$$\n",
        "\n",
        "\n",
        "Esto aplica siempre y cuando $L\\leq e\\leq U$ y por otra parte es claro que $fl(x)=x$, si $x\\in\\mathcal{F}$.\n",
        "\n",
        "\n",
        "Finalmente es importante notar que en un sistema de punto flotante en el cual se haga uso de alguna forma de redondeo, una misma expresión puede representar distintos valores."
      ]
    },
    {
      "cell_type": "markdown",
      "metadata": {
        "id": "7HgxI_RsgRQ8"
      },
      "source": [
        "### Ejemplo\n",
        "\n",
        "Por ejemplo en el sistema $\\mathcal{F}(2,3-1,2)$ estos son los valores para los cuales se tiene una representación en este sistema.\n",
        "\n",
        "![numeros.PNG](data:image/png;base64,iVBORw0KGgoAAAANSUhEUgAAAwEAAABKCAYAAADjaFgnAAAAAXNSR0IArs4c6QAAAARnQU1BAACxjwv8YQUAAAAJcEhZcwAAEnQAABJ0Ad5mH3gAAC0ySURBVHhe7Z2HX1Nn+8Z/f0fbd3TZ1u5l27e12tat1WqrVsVq1bqtq+6tuKh774kCyt6ooCiKIijI3ntDWBkkJLl+5z6cg4GiJJFoAvf387laD4EkZzzPc1/3s/7vYelDsFgsFovFYrFYrO4j0QQwDMMwDGM/GFntyiD8l8UyV3pWu2ITwDAMwzB2SnsBMItNAMsytRcAs9gEMAzDMAzDMEy3g00AwzAMwzAMw3Qz2AQwDMMwDMMwTDeDTQDDMAzDMAzDdDPYBDAMwzAMwzBMN4NNAMMwDMMwDMN0M9gEMAzDMAzDMEw3g00AwzAMwzAMw3Qz2ATYmOrqasTHx8NgMEg/eTpqtRr5+fnSkXkUFhZK/zIPlUqFgoIC6ahjGhoakJuba/Y5WAOdd01NjXTU+Wi1WigUChiNtM2MbWhqahI/x1bQd7fl92cYhmEYpvvAJsDGBAcHo1evXmhsbJR+8nQyMzOxdOlS6cg8LP39e/fuYfz48dJRx4SEhODzzz83+xysgT5jzZo10lHnExYWhv/973/QaDTSTzqfiIgIuLi4SEedT1RUFFxdXaUjx8XLywupqanSkWNy/fp10Rg7MgkJCSgtLZWOHBNKgNTW1kpHDMMwjCWwCbAxQUFB+OKLL8wOoDMyMiwK6ikzbKkJuHv3rkUmwFIjYw30GWvXrpWOOp+uYGRCQ0Oxb98+6chx2bx5s2hoHJktW7bg1q1b0pFjsnXr1i5xDjdv3pSOmBfJ3LlzRWPJvHiojk1LS5OOmBdJQECA9C/7hE2AjSET8OWXX5o9TCQ9Pd2ioJ6G6FhjAiZMmCAddYylRsYayASsW7dOOup8uoqR2b9/v3TkuDg7O+P27dvSkWNCjayjnwMZGUc3Y13ByHQVxowZg/v370tHzItk7NixiImJkY6YF4ml8dnzhk2AjQkMDLQ7ExAdHQ0nJyfpqGMsNTLWQAH0+vXrpaPOh97f0Y1MVzIBd+7ckY4cEzYB9kFX6JHpKowePZpNgJ3AJsB+YBPQzaGuoK+++srsAJrGSlvy0Oj1eqtMwMSJE6WjjrHUyFgDGQ1bmgC5N8PWRsaWJoDO4cCBA9KR47Jp0yaHNwFsZOyDrjC0rKvwyy+/sAmwE6hXhk2AfcAmoJvj7+8vTkjV6XTST56OpSaAVqSxxgT89ttv0lHHyEbG3HOwBgpwN2zYIB11Pl3FyBw8eFA6clw2btwoDklzZMjIUDlyZNjIMJ0JmYDY2FjpiHmRcK+M/cAmoJvj5+eHr7/+2uwAOiUlxaKHht7X0oeMGn5LTIClRsYaKEin4NBWWNojYw3Pw8gcOnRIOnJc6Bo5ugmgZ9XRTQD3yDCdyahRo9gE2AncK2M/sAno5pAJ+Oabb8SMvTkkJyc/FxMwadIk6ahjyARYYmSsgQJcCkpsRVcxMocPH5aOHBcyAbRMrSPTVYwM98gwnQWZgLi4OOmIeZFwr4z9wCagm+Pr62uRCUhKSrLooaHMtjUmYPLkydJRx8i9GeaegzXY2gRY2iNjDc/DyHQFE0BDphx9vCobGfugK/TIdBVGjhzJJsBO4F4Z+4FNQDeHTEDv3r1tZgJotRtbmwBLjYw1UABNXfu2wtIeGWuw9TmQCThy5Ih05LjQ5GlHNwFsZOyDrtCb0VX46aef2ATYCdwrYz+wCejmWGoCEhMTsWzZMumoY2gHXEsfMppIZ6kJsOQcrIGGutgygO4qRubo0aPSkePSFUwAGxn7oCsYma4CmYAHDx5IR8yLhHtl7Ac2Ad0cHx8fMYCmpTzN4XmZgN9//1066hj5HGxtAmilD1vRVYxMVzABtKGao09aYyNjH5CRYRNgH4wYMYJNgJ3AvTL2g0OZADc3N1Hu7u7w8PDApUuXRF2+fBmenp7w8vKCt7e3KAoMKSiRRVlKGq5AgRBlREm0WgqtnU6bHJFCQ0MRFhYm6sqVK6KuXr2Ka9euiYqIiBB1/fp13LhxA5GRkaJoW3gSbQpDa0KTKJClYS0kGhNKXcLUGFCjJosCDRoXR4WBKifSw4cPER8fL4q2OH/06JEYeJNoKA6JJufSKj0k2nqbRJt4ZWRkiMrMzERWVpao7Oxs5OTkiMrNzUVeXp6o/Px8FBQU4MSJE+KEVPp3cXGxqJKSElFlZWWiysvLUVFRIYrOc8GCBaiuroZCoWhRTU0NamtrRdXX14tqaGhAVVUVFi5cCJVKBbVaLZoCWTRUiOYM0Dh4EgXAZEboOpIJMBqN0mPwdOhef/vtt2YbGWug54Y2/rEVz8sE2NrIHDt2TDpyXMgEOPp4VTYy9kFXOIeuApsA+4F7ZewHhzIB586dE3X27FlRZ86cwenTp0WdOnUKJ0+eFIPa48ePi6KAhETZSRqrTKKJi7SMIa1nTqLNjWiX03379mHv3r2i9uzZI2r37t2idu3ahZ07d2LHjh34+++/Rbm4uGD79u2itm3bJm4PT6JAkQItEmVdaSImjQulbmESZYaoYSBRQ01as2YNVq9ejVWrVolauXIlVqxYgeXLl4tZd1l0szpbtF7v22+/jSVLlrT7eltNnToVffv2bfe19rRo0SIxQG/vtSeJlgft1atXu6+1J0vPwRrRDof9+/dv97XO0PM6h379+rX7WmeINoD58ccf233NkfTdd99hypQp7b7mKPr+++/Fskr1BtUjVJ9QvSLXMVTfUL1DkushqpOofpLrKqq3qP4iUV1GdRrVb3JdR/UeiepAqg/lupHqSaovSVR3Uh0q16lyHUv1LdW7VP/KdTHVy1Q/k6iupiED9D2pDpfrdKrfqZ4nUZ1PdT+1A3KbILcRss6fP98iV1dXURcuXBB18eLFFskJJtNEkyxKOLVNOrUVJaHkRJQsSkZNmDBBvB6UqJDVNjklJ6hkkVk3TVaZJq1kUfLKNIElJ7FMJSe02ia1TBNbpPDw8FaSk11ywktOepkmvkxlmgSTZZoMM02ImYqSY3KCTBYlytomy0hkaGWRQZeTZ7LkJJosSqaZJtRIP/zwg3j/KLEmS06wtZdokyUn3GiPHFPJCTg5CWeaiJOTcaYJOdPEnCw5QWeaqDNN1pkm7eTEnazCwkJRRUVFrSQn80wTeqWlpS0yTe6ZSk70kSorK1tEiTwSJf5MZZoAlCUnAkl1dXWi5KSgaXJw2LBh4nOhVCpFUZJQFiULZbVNGsqi5KFpAlFOIsqihKAsg8HQIkosmptc7C5Qe2HPtDIBTOdDDRcF9VRAzIF6JyigMBcq1JY+ZNR4TJs2TTrqGGpw+/TpY/Y5WAM1zhT42AoKGGzdm0HnYMveDApwKFCzR6jip+dDbhjkhoMaErlhkRsbCpopSKFnlxooarTkBowaNWrgqMEz7QmjRlFuLKnhpIaUGla5waXGlxpj0waaGmxqxOVGnRp5avApCJCDAgoU5OBBDioowKCAQw5AKCChIIUCFjmImT17thjwUGBDwQ6VWwqEKDCSAyUKnuSAyjTgkgMxCsooSKNrQQ22HNhRkCcHfnIgSAGiHDBS8EjBJAWYFHDKAahpUEpBKgWuFMjKgS0FuhT8ysEwBdBkIChYlgNoKidU3qneouBbDswpSJeDdjmQp+BeDvgp+CcjICeRyDjISSQyE7LaSySZJpHIqJgmkZ6WSKLvTqb4r7/+ajFF7SWS2ksikemS9aRE0pOSSKaJJJJpEomSDPR9SIsXLxaTNCTqrSVRL+/8+fNF/fnnn5g3bx7mzp2LOXPmiM8UadasWaJmzpyJGTNmiJo+fTr++OMPUVR3kwElI009ujS/SxYt/UyiHeFJTk5O4n0mjR8/HuPGjcOvv/4qJixkUXKBkiQkWlry559/FieWkkkkUVaZsvyy6JqTKNAcOnSoqCFDhuCNN94Q69iBAweKGjBggChK7pDIJJDIQFMigERtI7Ut9HfUUyuL5m/Ram4k6kmnPV5os0fa9Z1ESazPP/8cn332WYs+/fRTfPLJJ/j4449FffTRR/jwww9b9P7774t677338O6777bonXfeEUVJorfeektUjx498Oabb4rn9Prrr4t67bXXRL366qui/vvf/+I///kP/v3vf+Nf//qXqFdeeQUvv/wyXnrppSeKXqffI9Hf0N/T+9D7kei95c+SP5u+B30f+l4k+o70fel79+zZU5TpOdF70msffPCBeO50LUh0Xega0bUyvXZ0LUl0Xen60rWma07XnkT3ge4JSb5HdM/o3pHoPtL9pHtL95iSYSS67/JzID8XgwYNwuDBg0XRc0PPDz1L9EwNHz5clOnzRs8fPYf0TNKzSaLnlJ5XenZJ8rNMzzY94yR63um5pzIglwdKgFL5MC0zVIaoLFGZIlH5onJGZU4uf1QW5XJJonJKZZbKLpVhEpVnKtdUxklU3qns07WiuoBE9QLVESS53jBNIj0tkSQnt+VEkpxEMq3L2kskycl0OZFEdSTV7TJsAmwMNaZUOMwNoCmQoAfBXKwxARRkWGoCLDEy1kBBCT2wtkI2MrY2AbY2MhRAOTpUuVGQ7MjQOVCQ78hQ4+Lo50CNo6MPLesqUBBHJvhpyJliOWEgZ5blzLNpsoBE2Wo5WWCaMJCz4E9LGMiZdjn7LicN5Iy9adJAzvLLSQO5Z0DuOZATBm2TBnKvhJw0kHsxTJMGpj0hcsKgbdJA7nGhZ1nukTFNGsgJg7ZJA7lnSE4akChhQG0dtRVywqBt0qBtwqBt0kBOGMhJA7lHTe5hkxMG7SUN5J69tgkDOWkg9xi2TRqYjjppL2nQduSJ3KvZNmHQNmlgOvJEHnXSNmlAAXLbpAEF0x0lDSggN00ayEG7adKAYic5aUABP4liNtOkgWwSTJMGspmQEwbtJQ1MjYmcNCDzIicNKM4jtU0a0DnLsAmwMVQwyASY20VGlYIlJoAqRmtMAD0g5mJpb4Y1UAVjSxPQFc6BKtuuYAKoYuwoWLB36BzYyLx4qMFlE2AfUDbX0ct1V4EMmaPXT10FS+Oz5w2bABtDzpi6yCwxARRgmAtlRqwxAeQUzcVSI2MNFECTE7cVlvbIWAOdA2USbAWZAMqMODpkcikL5sh0BSPDPTJMZ0LDOhy9XHcVzOmVYZ4PbAK6OdQtRmPkzA2gqUGjhs1cqGvU0oeMugwtMQGWGhlroC5GW5qA52VkbGkCyMhQF6mjQ92ijh4ssJGxD7qCkekq0PhuNgH2AffK2A9sAro5ZAJogoy5kAmgLm5zoXGR1pgAGj9mLrKRsSVkAkzHqXU2XcXI0JhJR4fGRNLYWEeGjAyN63Vk2MgwnQmZAEcvE10F7pWxH9gEdHNoUowlJoDGt9IEE3OhiVGWPmS02oglJoAm+FhyDtZAE41oko6tsLRHxhqeh5GhCVSODq2I4OgmgIyMowc83CPDdCa02gubAPuAe2XsBzYB3RwyAbQ8lrnQqgDPwwTQbHJzIRNAS33ZEjIBNFvfVljaI2MNz8PI0EoKjg6ZAFopw5HpCr0Z3CPDdCa09CPfC/uAe2XsBzYB3RxrTAAtN2UutDyarU0AnYOjm4Dn1ZthayPDJsA+YCNjH7AJsB9oDXhHf566CtwrYz+wCejm0Nq4lpgAWhfYEhNA6yI/DxNgyTlYg60D6K5iZLqCCaDnlU3Ai4eNDNOZUBvB98I+4F4Z+4FNQDeHTABlSMyFTABtPmEu1pgA2kyENpowl+dhAmjTEdrIw1Z0FSNDm6s4OvS80iY6jkxXOAc2MkxnQvUr3wv7gHtl7Ac2Ad0c2ubfktV+aNdB2knPXGiJUNpBzxJoNQ1LAm7aVZB2rbMltJuhJedtKbTzIe2UZ0tox0Xa0dBW0BKh1Bvg6FClSLtpOjJdxciwCWA6CzYB9gP3ytgPbAIYhukUdDqdKEeHtufXaDTSkWNCRpom5TsyV69eRXl5uXTkmFBPa2FhoXTEvEhGjBjh8Oa+q8CGzH5gE8AwDMMwTJeGeqX1er10xLxIUlJSoFKppCPmRULLvtsrtGA6mwCGYRiGYRiG6UawCWAYhmEYhmGYbgabAIZhGIZhGIbpZrAJYBiGYRiGYZhuBpsAhmEYhmEYhulmsAlgGIZhGIZhmG4GmwCGYRiGYRiG6WawCWAYhmEYhmGYbgabAIZhGIZhGIbpZrAJeAL6xjoUpd3HlQBf+AWGIjQkEJd9gxAcFom0YgWajHTpzMEIQ5MaqupiJMdGIcjXExfOnMThU+fh4R+OhNxK1GiaxBvRjBF6ZSWir/rikl8Yrt26iwfxCUhMjMfdO7cQfjUKyXmV0BnM/fy20N8Z0VBZiEd3wuEfEIRr4WEI9A9GeHQCHuVVQ60zd8dH4bvWl+Be5FX4hNxAbGIacnPzkJebhbTEh7gbFYOM0lrUN1n7XZl/YoS2Ng8hF24iPqMcGqufA+ZpaOoqkJucjAqVNbufCveooRpZ+aUoV9RDI5Ynoaw0aaGuV6CirBINeiOMZtchTHvodRrUVZWjqDBfqHcKUFqhgLKxCVQk+NI+O/R8GvVN0Gk10KjVUAtq1OqgFy6wZc+u8PsGA5r0ehha/rb5/0ajQfiZQfo33zSGed5QqWMT0Aq6JAYUP4rA3tXOOB+ZKQTFQiWlb0R9cRxuHpyPLQf9kFWjEX+zI4wGHRQ5cYj2uQD3oFhUqXVo0ilRkRqOtbMmYuziQzhzIxPKJoP8F2hSZGH/4l/w5ssv45WXXsJLgl5+7W181PtHzNrhg8xqtVmf3R5Gox7GpnqEux6G805v5NQ2iu+lKk+F76GNGD11N6Lza4SG1Kyzg64sHpumDcbbwnel7yl+11f+jVd7fonfNnsiR6ERribTGRiaNKjKi8W5jbPQ6+u1OBCUilo2WJ0Kldf68iwEnvwbc2asxc18a7bdN6D8UQimT52HRSvWYdvfu3HgwH7s3bMDW3YcwEX/OyjXGc0sY0xbKHA06tUoSotD6OXT2OOyEUuXrIXL7pPwvZ6I7EoldHqudZ4VSl7VZN5E0OmdWLNsMebMWogdZ/yRUlwLrUXJByPqChJwwS8SSbllUDU2m2Kdug6l2Ym4FxmDXA2Xh86hCVplFdLv34Bf8BWEBAXCN+QmUguq0MhlohOgZ1SPusoiZKalICklHanJycjILUatStv8K+Yi1GPQN6CqrBK1So1YZwlWWDTeGlU9FJUVqNc0Sb9sO+iM2ASYQhWRvgKXd67Fr0t9UdT4uOBQw2Osj8XmOYuw2TcZSn3HlZauNhdXvVyx89g1lKrlrCLdaA3Swo5g5NffoteoFbiSUY3mt2s2AaePbsGKpSuwdvFiLFy8FKv3uiI8LgMKdXOvQcef3B7Ce6urUPPgJJbP34bgjFqx4hXfz9CIqrRw+G+YgAU7AlGkMufhazYBe4Rr5TR9AeZOm4rfp0zD8u1HEHAzAcU1KjRR5kf6bcY6qDFWpFyFj5cnvAUzuWXyMLz+wTLsDEhBDZuATsGoKkF+YhS83Nxx2ccdK6aMQq+Bf+FGnnUmoOiuK77+3zf44q230OP11/FGzw/Rb8xMbDjig/vZFaIx5jtnBULDqVOVoyzmEjy8w5BUXAedwQC9phJRHvswefBoDJ+7H7dzFUJTzViHEXpVGe5HBOFMSBwSs4tRVl6KouxHCDy2CVOnLsaxwDix/TMve29AyX0P9P+6N7758n/4pndvfNv3ewwZ+St+X7QNl24kQ21x7wLTGoop1CiOj0REgB+uxyQgOT0LGakJiAp2xdq1G3EmIgVZVWo2W8+AXluPsrgghIXfQFT0HUTduYeoGyFwPbAVe84FIkvRKMRxZl5fgw5oiMXBpYvFZNFWlx3YvXs3dv29Hdu27MWJS9eE+6WRftl20LdlE9ACVUR6NBWGYaGTEyafegiV6f00CjfNWI79C37HL4tckV3fcaBcnR6OTYv+wNAlR3E/v9akYTJAXRSD9U790POtAXD2iIdKdAHNJsAtyB/xRUIDp22ERqNtCdafCaMWDcX3EPLXAEyccxzJDabNpBGNFclI8ViKIWNX40qWYBCkV54MmYAEnPAPw/G7xWhUq9Cg0giBP2ccbIa2GN4rnPDWR8uxM5B7AjoLCkAMBj10Oi10TVU4v24Keg1aYrUJKEkIwIRTcXiUkYXM9DSkZxehsrYBGi0NV+F7Zi3GJiWq0q5h18I9uJNV2aqOUlek4vLGSfjyPx9i1vYQlGi4HrIKoZ0ovR+IM+5XoBDapMdDXw1QFd/H5vE/oP/oZbhSoEKTmL3sCKE8xF3GkOl/YdZvv2HcuPFwmjobzse8EZdTIfa0M8+KYNwUaTiyejuWrXJDJvXAi/dNaNcrU7Ft5hC8OWAVnL0TUW9G8pJpDyMU2bfx19h1CHtUJA3JJvOlQWHEAYwdNQZOLhEoE3u6zIBMQH0UVg7pg3d7/Kt5JMV/P0fvEVOw6ZAX4vMVz6X3hs6CTUALZAJ0aHh4Ck6/TMRS/ywIt8kEurn1OLVqGn6Y6IK4ko6H5ZQm+GHBT1/jre+ccPxmHhpb/qC50B6YMQJfvPINlhy6hTot3fBmE3AxUDABxcoO398SjHoVqlN9saf/25iw5CLyTHo5xM+tyUZ+2Gb0GzQVZ+4VQ9fhhz82ASfulXXqd2WeQCOZgInNJoCHA9kAup41uLB+Kr4YLJgAK4cDlTwKwm9umchTqKDVaqHV6VsFrIx16NWVSA/dhxF9FuHyrXQpcdKMQVOBBx6bMPmdNzD09z2Ir2ge6shYhlFfi5iz+3HyQhhqNHpxDkALunJc2TwJ/foOx9KAXKia9EKbKb32RAwoSwzCRLcMlFUrUFWlgKJewz01nYoRqoJoLHcahPc+G4t9oenSfDEjDA0FOL9kPN55dSxmu4ShyKp5TgzFf3m3z+Ornj9g3albqG5pew3QZAVg5uCB+OxHod6papR+3gEGrWgCDi7fhr0Hd2Hr5q1w2XsObgE3kZJfKZhv4e51WLaeHfoINgEtGGDQ1yPXbzWGjZwE54iiNg03HWlwYfNUfPTTIoRl1LR5/Z8oy1Lgd3wHNmw/jOvplSaBtUEwAak4OH0Evvp3H6w4fgf1piYgwA8PC+vEzKRWp2vOUOqapIlVze9gKYbGGuRf34vf33gF4zf6oaLNlzcqi1Bx5xAGfTESW/yT0WBa+bdL83Cg42wCnh+iCXBCDzYBNoKuZw1c1zWbgMhnMAGTRBNg3twhxjx09YW4e2oePnrtffy29DwyTXszDUqhkT6LnQPfw1ejluBKRi1feyswqgrhuXwShnw/AQdiKlGp0j2+jkYNcoI2Y0C/79F3QzhyG/VisPJ0DCiVTEA1vZfQgImSXmU6AyFuqCtA0HEXbFq/FxFpFS2ZakruHVvwC3q8MxkLD9xAGfeQWYkB5YkhmDd8GLa63kZNSwLCAG1uCOYOGoAPv9uM++VmDuERTcAtXDp5C+VCbNeoaRTnBTzvnmL6NDYBLegFE1COuCNT0H/YBGy+XizcXlPoSDABzhPx2oDJcHtY1ub1tlBlJwT7TRTENzWvqiC9Qu9VmxWBhSP74P1vJ+FcdEFLodVVCybAzw1BoX7wP30Uhw4dxumDO3DkQjASi+vMqHTbR68sQ9Kl5YLpeAVjnmICBvQciJWnYkyc7pNoNgHHfLyx2zcSYR4X4epxCRddXXHe9yZyKlXSPAem0xBMgJdoAlZgV3Aam4BOh66nbAKWWm8CEgIx6WIKMosrUVUpqLoKlZVVqGlongDGWIeR5sfk3oX/scMIjs5oPS+LTEDUKcEEvIs+Y1YjMrfBpL5lzMXYVIvEoNNw2bwPQZl1qNPoTa6jFgVhLhjY/wd8tzHCQhOQKc5pY54ftNBBTdZNLB4/CH1mCXHE7Vxx/gXTedDokfLbhzFy8AD0XR6AYrOHA0km4EQUKl9gk0BPA5uAFgQT0FSG2MNPNwGuZpuAJ2DUQ6csRfDBVRg5dj4W7AtCXq1WyvALzr02H56X3BBwNw05xeWoVlSjproSSZHecFm3GW4306GmbljxzcyHTECi21/47F8vY8ym9k1A+e2DGPD2ACw/cRdV5piAyhScOOMKl4uRSM8tRHFpGYoLMvEg/DJcth7A1aQSVKhNMknMs9FYBK/lTnhTMAG7Q9gEdD50PQUTsHYKvhyyzGoTUPTAB8M3esL/WgSuBIfgSvhVBPl7wfWsG67HZYpd9TwR0nLEuRtNjVDX10PdSFll6QUBrSIHYfsW4Mf3P8WM7QEoVJouvcyYjdEArbJGMK0KoZ0xXbVH+HdjKa66TMeQIZOwJbxAMGGUuZRefiJkiv0x7lgUoiKvIzQoFFciriE4KBgRd5NQVNUgfgaXh85D7GkRykl1YSICTzlj9rJdCBPa4ko2YZ2G0aCHXqeGIj8OJzYtwNzVB3Ezv15cDMUsJBPgfuQaMksKkJWVidzcLGSkZ6KgpBpa/fMpE/QJbAJaIBNQhcTTszBg+ERseaIJmIS3hsyEd2LzKh+W0qSqQOr1M5j/50ocDktEVo1gAKTXCKNeC6VSCW3LsqHNNJYn4ehfkzBs+j5x4k+jhQ9Ic0/ACvQWTMDYTf7/cJ9kAsqiBBPQcxBWnTGnJ0D4myYNauuVqGtVuRigEb7r1unjMHKFO3wSyk0mlzHPhGACPEUTsBJ7QtPZBHQ6dD0VzSZg6DIrlwg1orYoCaf8HyC1pFaa3CUEUNpaJLg7Y+6CzfBNUTRX8s1/wDwTdBWbkHnLAwtHjcb3YzfhWnoVjznvVCgg0aEqKRAz+veF08qzKNaZG6QYUBDjiS/G7sTNzArpvhihb8jF5XWzsX6/NyqFeoxNQCdh1KAwMRrBvt44c2gnVi7dAPdb6WhotDxxyLSD8Jyqa8uQ8SAGMbcj4H5oK+avP4QriUXi9TX7Gksm4MSGkwi+EYGQsDBEXA9DkJ8PPNwv4fLNNFTzEqHPG4NgAupRELIBw0ZOxPqwPKFpMYWOVDizbjK+GLMKN3LqLCpUojvX1yMxwgObdxyFX0w26rWtCyZ13ykV5Sgpr4GuzVgaQ30+/Jz/wKcfT4ZnahUqWk3s7RhDowJ513Zh4qsvY9x6H5S1CiCFIKU+D8U39uCHL0ZhW1Bqh3MCjIYmKGurUVWrhLqVYaH3KsC5JePx9sdzsezUXVSJ8x2YZ4ZMwLIJeINNgI2g66nA+TVT8NWw5bhZYLkJoBXGGtVK1AuNrr7VSlkGqNK8MHPEaAxfG4pUpe4ZNv1jZKjObMi/hYMr12PdXn/cyGg2WEznYRQClrqCOJzesgQLt57D3exKC7L3RmhVCmQV14ob5zX/hfC3wnuWR5/EH+NmYKnbI9S1SXoxViLUP+o6BcpLS1GUn434W/5wXrUKW85EIDqjAo1cNp4N4ZlvbKhGQVY60tNSER9zC/6nd2Lj7rOITK+C1tzVEY1CPKnNR8y1GOTXqB8vLWrQICnsJMYPmoxT1zOhsvHwUfpUNgEtUJCuhSbVDZNHjsUs92S0nudNJkCBgwsmYviMo0ipap3B7wijthqxl4/jnNdVZFU0SGODdVBVl6GotEoM+pVlyXBznoKfFu5BQklDKxNiVBYicMtMfN5jNE7FCUZBbdnDQasDVSR5YVe/Hhi3yBW5rSYI0VyEdGT5rUXfwdNwIbakg7GeQqBTVwC3HX9hlos7PBPKW2XeqFfBbZkTer46HvN2XUOxhd+VeQKiCXASTcDesAw2AZ0OXU/ZBKzALYtNAGU4S/DofixSFY3QCGXc9A4ZiiOwaOAgfNpvG7zzNOJwC+ZZaEJNdhScV+7ApZAHqFRqxXlIZsWmjBnQhTRCkRcP30O7cNA1CBkVSvOHPAjQPI7qiirUamnokOnfGdFUcAXzhw7DZ2OPI62+9Vp8TOdg1JQjdPtMfNJjGJzWeyKj2szVaxizoHmfjcWRWDN6BL4esQ33StTSKx1AZYHmjOr/2UNTlRGOTd99jNFzTyJDYdtyQZ/NJqAFyk7oYaiNg/PsP/DbwWjUtYqThcJjKMCOedMwY+dVlFmQiae1ZPPjbsDbMwAxGSXiKkFifWioQVHcPUTHpAsBgxH1hbE4NG84+s3ej6RylYkJoLkCWXBfOwmffT0DwVkKKCxdX9moQ31xDK6tGgKnOceRVGdqMQzQlCYg/twiDJu4CTfzOppUp4emOhVbpg3DgIXHcCamtNV31dfm4uTCsej52RysPM09AZ1GS0/AKjYBNoGu52MTEGWxCdCi6NYpTB0/GuNPPUJWmx2zm03AYHzaXzIBnJWzHmMTlKUpCPFyxznfaORUUJ3VnMipqSqHwnRVG8YKhGtJ++YIpvZuqDdOHHJDfHG9aLKadBrU0vK3QiP2dMNlgLosEUFeXghOozkGrdsBQ/F1LB40GB//sBVxlVrpp4zFiPehWW0xGpRI9NqC3u++g/d+XoWQ1ArpFaazMDbm4YQQ77z24QgciMgxWQr+yeh1SlRkJKOk5p9LwdfkRmHX0I/w3a+bcLdQZdN6jN6bTYApgjODoR7XTu/CtHlHEVeqFLtpqDKkybzViRexZr4zLsVSIC/dGnKCNQXIu+uDk+f8kFBIK/jQa8LfCaZCU1uIrPvBOLRzD9yCb+D+w3g8evQIiYmJSIwNgdcpVwTcyECjwQhtbT4ivY/giPd9VAmNWPNn0/voUJp0FRv+mIipzpdQ3KB9/PlmIxgJVQVq4s9g2fyN8IovF4cjiN+0SYnCOG9xCM+yIxEo10h5feEzdMpyPIoMhrdXKFJLG6RuKwN0QuPgc3o/jgUmCMHO450IqZu3OvMmljuNgdNmX4Sk0NKoln5Xpl0aC+G5dAJeF0zAPjYBNoCupwLnVv+Or35c+WQTIJR5TV0FcnKKUV6rNsmM6lASfQZzZ6/AccEY0/KKLWGPELRWx57B5OGj8evWa8hQNvFcGWugayZc/5qCJIQHeiPkThIqaNWlpiboBQPQWFeKO9dDkFTOy7M+C5S4UpXEIszTC4FX76Oo/rGpqshPxEXfZNQIz/3TOwW0yI84iLHDf8EMj7ZjnA3Q5gRhzpAh+NLpBNLruCfAWoz6RuTFBGPvtkM47h2NcpXJpHijBtlX9+G7T97Ay59PwambOdILjCUYdbVIjgzF8YvXkSsY4FaPvbEGvtun4KXXPsLMfTfNWlmxMjkMswYMwppj11HZZlMmMgE7BRPQe+xaRHWYkH026L3ZBLRDfdFDuO3biL3ed1FYXo3qyhJkxQbDbeVkHAp82HrXPaGQlcT74Oz03njjox+x1TuxOTgTGqum+hJEXdiI+T993rwjXDt6fcDv8IiXVhoSAoX64ke4fNENt1JLUFGvhkYjqC4fZ7evxB+rziK53Fpn2GxmjML3vXJyN1ZsuIRMRfOGOsqSBFzcuQajZhzFI3p/OTgR/l/y0Ad/Dv4Ir77bF8tP3UOteO7NxqQy/TbOX/SGZ1SWtM+BcO2KE+DmsgQzVp9GkmAaqIfDuu/LtMWozsOFhePw2rtLsDMoDTUd7+jGWIIYYFbhzIpJ+HLYMkTmtb9hn1GrQIzHPkyevBhbLkULAZKcxaRhdckICQ3Hg7wqMRstJxHUimz47liE6Qt3Ilyo2MUx1dJfMWZC10wI9PWNFfA/vR/7Lt9EWk4e8vKalZ+fifSESLgdu4iMWtOAk7EMA6pzYrDf+RDOB8cgo6AU1dVCOyhIoahETIQHVvhkNfcESL+vrkiH/3k33E4pNhkaqkd9Rhj2HvFAUrVg1Ewdg1GN7MCt+PXn6XAOzbL52OeujFFbi8jDS9Hnk6EYu/wMUqseb5RH8xAfum/E1+9+gA9GrELAozLpFcYSDJWx2DpuKF5952ecv1vYqu426qtwefNkvPx6L8w7Ft2yhwANFTJoVairrYOq1fxPI0of+GDoG33x9+VYNJjGk8JrZY8CseiLjzF2sSuybGyO6ZPZBLQDTXrV1JYi/tYVBISEITQkGD6ht3AvtRT1jYLLpmBBhnoCaguRf9cfJ0/4SGv5C68LqsmLxfkdKzH/z7mYM2eOqNmzZ4uaNWuWoAVYscsVj0pVkgkQKlUhuK6vyENcZBgCfTzh4e4Bdw9f3IhJQmFVQ0v23jroL41QKUqQEnMDAQFBCI8QPicgFDfj0pBRWgetaWUsfB91dTZCT+3D1o0HEZlW+bgiF17T61SoKEhFUkwk/L0uw93dHZe9/HElKhaZJTXie1n/XRmClkTU5N+Bj9cluF88jd0bVmLuvI3YfuAkXN084OV3BVnm7lLItI+uGiWpMQj0cBfK2xmsX/AHxvy2ALtPXMClS5fgee0+ChSPx3oaNWW4sn8Jen05ClP3hiBTCHBaMArmODcBoWFXcTUsFIH+/vDz9YW3x3nsO+yOW0lFYpDE5cJyDNo6FMZ64sCSCfiqZw+89kYPvP3223jnnXce671emLYlGKU8BNEqjHo1ih6EYPvs0Xj/3U/wZe+++KFfP/Tv379Fw3/5E4djq8V2UHyOjSqkBh/A8D59MNfFH6UtyQlaVrQKidHh8AyPE5eRLikpQXFRAdLjrmDHmnXY6xqOYmVTm/kCjCVQ73vxg2Ds+PswDvnEoLROJW4yqm1UoionGi4znfDj+PXY4RmDMiX3uFiDQVOM0CPOGL/SFQlCjCfXLkZDIyqT/LB0zGgMmuSCyJzalmeZFprJCd2PZYvXYH9QKpQtJtgITU0+wg6exo24TNRpmjfRoyRwY10hwo5tw+gxy+ATVwjt07vanhl6dzYBDMN0b4RGVFOvQGlREQoLC0UVFBQgPz+/WSVVUGpNMstGPZSCkU5OzUNxtfIfq9FQEoFWkKgoykN2ZiYyMrKQk18MhbLRokmVTGuaNDXIvuuN3S4u2L59O7Zt24atW7eK2rJlCzZv3gzn7bvhGZ0HDV9mqzCqSxC6exUm/jgUQ4YMETV48GAMGjQIAwcOFDVh6g5ElZmO4W+CIvMWts1eiovhyf+49jT+uSo9EheP7oGzszM2bdqKvScu425WOVQ60yUlGOsQzJZei7qyLKTcC8XJPduxfu1arFq1EstXbceJy+FIK1aICUw2W9ZiQENlHmJiohEe4gePixdx8eIFnD19Csf378beo564l1kpDuuWMTTVIsVjDSaM+h2rL8RJoyiaoWSvpiodtyPCERYUAD9vb/j4eMHb0w1nT7rjamIJ1M+hd4y+EZsAhmEYhmGsRuwVaJH0Q4nmnxmEQFUvroYiSxwS1/aXGSsRrqVeB626AYqqSpSXlaG0tBSlZZWobdCIyQe+0s+GOFFeU4eS/GykJicjOTkJCQmJSM3KR2Vd82gO02tMv9+oKEBKQiryq2nepPSCSPOzr66rQG56Ch7FxyM+PgGJadkoraa5l/T30q/aEPoINgEMwzAMwzAM041gE8AwDMMwDMMw3Qw2AQzDMAzDMAzTzWATwDAMwzAMwzDdDDYBDMMwDMMwDNPNYBPAMAzDMAzDMN0MNgEMwzAMwzAM081gE8AwDMMwDMMw3YzHJuAh/h8eo8qAasoaGQAAAABJRU5ErkJggg==)\n",
        "\n",
        "En este ejemplo y en todos los sistemas de punto flotante, sin importar la precisión, son muy pocos los valores exactos que se pueden representar en comparación con la totalidad de los valores reales. Por lo tanto todas las expresiones que no tengan asociado un valor (considerando las limitantes del sistema) **serán mapeadas a algún valor representable** (considerando las caracteristicas del redondeo)."
      ]
    },
    {
      "cell_type": "markdown",
      "metadata": {
        "id": "uqMDBObiS7z9"
      },
      "source": [
        "## Errores\n",
        "\n",
        "Para este momento es claro que los errores son un factor frecuente en todo cálculo realizado mediante un dispositivo de cómputo.\n",
        "\n",
        "Además consideremos que el error que resulta de aproximar un número real por su forma de punto flotante se denomina **error de redondeo**.\n",
        "\n",
        "Es por este motivo que es importante conocer las diferentes formas de medir la magnitud de un error.\n",
        "\n",
        "Sea $fl(x)$ el número de máquina generado en el sistema $\\mathcal F$ asociado al valor real $x$, tendremos 2 formas de evaluar la magnitud del error."
      ]
    },
    {
      "cell_type": "markdown",
      "metadata": {
        "id": "8FxJmPqAhoPc"
      },
      "source": [
        "### Error Relativo\n",
        "\n",
        "Esta forma de medir el error de un valor real con respeto de su aproximación considera la magnitud del valor real, y esta dada por la expresión.\n",
        "\n",
        "$$\\left|\\frac{x-fl(x)}{x}\\right|$$\n",
        "\n",
        "El error relativo pone en \"contexto\" la magnitud del error. Una forma de pensarlo es la siguiente, sopngamos que la cantidad de ciudadanos con obesidad en un país es de $2.35\\times10^{4}$ y en otro país es de $4.35\\times10^{6}$, podríamos pensar que el segundo país tiene un grave problema de obesidad dadas estas cifras, sin embargo si consideramos la extensión territorial de ambos paises o la densidad poblacional podríamos llegar a conclusiones muy diferentes. \n",
        "\n",
        "Una estimación de cuál podría llegar a ser la magnitud del error relativo en un sistema de punto flotante, esta dada por el siguiente resultado.\n"
      ]
    },
    {
      "cell_type": "markdown",
      "metadata": {
        "id": "F3K9stMLpCLh"
      },
      "source": [
        "#### Unidad de redondeo\n",
        "\n",
        "Todo número real $x$ puede ser representado dentro del rango de los números de punto flotante considerando un error relativo que no excede la unidad de redondeo $u$:\n",
        "\n",
        "$$\\left|\\frac{x-fl(x)}{x}\\right|\\leq u\\equiv\\frac{1}{2}\\epsilon_{M}=\\frac{1}{2}\\beta^{1-p} \\tag1$$\n",
        "\n",
        "Este resultado es muy importante e ilustrativo ya que dados los elementos de un sistema $ \\mathcal F$, (1) establece una **cota para cualquier error relativo** que se de en este sistema **si se usa redondeo** como técnica para representar valores que no puedan ser representados de manera exacta y más aun esta cota está definida en términos del $\\epsilon_{M}$."
      ]
    },
    {
      "cell_type": "markdown",
      "metadata": {
        "id": "xpxiBg-bhsJK"
      },
      "source": [
        "### Error Absoluto\n",
        "\n",
        "El error absoluto únicamente considera la magnitud de la diferencia entre $x$ y su aproximaicón $fl(x)$ es decir.\n",
        "\n",
        "$$\\left|x-fl(x)\\right|$$\n",
        "\n",
        "Como consecuencia de $(1)$ podemos afirmar que toda aproximación $fl(x)$ difiere de $x$ un cierto valor menor o igual que la unidad de redondeo. En otras palabras, existe un número real $\\delta$ que depende de $x$, tal que\n",
        "\n",
        "$$fl(x)=x(1+\\delta)\\quad siendo\\,\\left|\\delta\\right|\\leq u$$\n",
        "\n",
        "Por otra parte, debido a que los números de punto flotante no están igualmente espaciados, es necesario tratar de encontrar una cota para el error absoluto.\n",
        "\n",
        "El error absoluto está acotado por la siguiente expresión.\n",
        "\n",
        "$$\\left|x-fl(x)\\right|\\leq\\frac{1}{2}\\beta^{-p+e}\\tag{2}$$"
      ]
    },
    {
      "cell_type": "markdown",
      "metadata": {
        "id": "YoqPIm5XS7z9"
      },
      "source": [
        "## Truncamiento v.s. Redondeo\n",
        "\n",
        "Dependiendo del tipo de redondeo o truncamiento que sea empleado en un sistema $\\mathcal F$ serán las cotas tanto del error relativo como del error absoluto.\n",
        "\n",
        "En esta sección veremos como es que esas cotas cambian en función de las caracteristicas del sistema y de las técnicas empleadas para aproximar valores que no tengan una representación exacta.\n"
      ]
    },
    {
      "cell_type": "markdown",
      "metadata": {
        "id": "xJH14rY3vGKT"
      },
      "source": [
        "### Truncamiento con p-cifras significativas base 2\n",
        "\n",
        "Si se usan **p-cifras** significativas y **truncamiento** para la representación en número de máquina, veamos cuál es la cota del error relativo. Sea $x \\in \\mathbb{R}$ expresado en notación normalizada y en base $ \\beta = 2$.\n",
        "\n",
        "$$x=(0.d_{1}d_{2}...d_{p}d_{p+1}...)_{2}\\times2^{e}$$\n",
        "\n",
        "entonces:\n",
        "\n",
        "$$\\left|\\frac{x-fl(x)}{x}\\right|=\\left|\\frac{(0.d_{1}d_{2}...d_{p}d_{p+1}...)_{2}\\times2^{e}-(0.d_{1}d_{2}...d_{p})_{2}\\times2^{e}}{0.d_{1}d_{2}...\\times2^{e}}\\right|\\\\=\\left|\\frac{(0.{\\overset{\\underbrace{p-ceros}}{0.....0}}d_{p+1}...)_{2}\\times2^{e}}{0.d_{1}d_{2}...\\times2^{e}}\\right|\\\\=\\left|\\frac{(0.d_{p+1}d_{p+2}...)_{2}\\times2^{e-p}}{(0.d_{1}d_{2}...)_{2}\\times2^{e}}\\right|=\\left|\\frac{(0.d_{p+1}d_{p+2}...)_{2}}{(0.d_{1}d_{2}...)_{2}}\\right|\\times2^{-p}$$\n",
        "\n",
        "Forzosamente $d_{1}=1$ así que el valor mínimo del denominador es 0.1 y dado que la serie $\\frac{1}{2}+\\frac{1}{4}+...+\\frac{1}{2^{e}}=1$ cuando $e$ tiende a $\\infty$. Por lo tanto.\n",
        "\n",
        "$$\\left|\\frac{x-fl(x)}{x}\\right|\\leq\\frac{1}{(0.1)_{2}}\\times2^{-p}=\\frac{1}{2^{-1}}\\times2^{-p}=2\\times2^{-p}=2^{1-p}$$\n",
        "\n",
        "$$\\therefore\\left|\\frac{x-fl(x)}{x}\\right|\\leq2^{1-p}=\\epsilon_{M}$$"
      ]
    },
    {
      "cell_type": "markdown",
      "metadata": {
        "id": "ABcSptwp2UbK"
      },
      "source": [
        "### Redondeo con p-cifras significativas base 2\n",
        "\n",
        "De igual manera que sucedió con el truncamiento es importante medir que tan grande puede ser el error de redondeo. Así que considera el numero real $x$.\n",
        "\n",
        "$$x=(0.d_{1}d_{2}...d_{p}d_{p+1}...)_{2}\\times2^{e}$$\n",
        "\n",
        "\n",
        "Como es frecuente, este número real puede no tener una representación exacta, así que hay que redondear al valor representable más cercano, así que considera los siguientes valores.\n",
        "\n",
        "$$fl(x_{-})=(0.d_{1}d_{2}...d_{p})_{2}\\times2^{e} \\quad y \\quad fl(x_{+})=([(0.d_{1}d_{2}...d_{p})+2^{-p}])_{2}\\times2^{e}$$\n",
        "\n",
        "Graficamente esto es:\n",
        "\n",
        "\n",
        "![graficamente.PNG](data:image/png;base64,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)\n",
        "\n",
        "Cualquiera de los 2 casos puede darse, sin perdida de generalidad, supongamos que $x$ se ubica más cerca de $x_{-}$ que de $x_{+}$, esto es:\n",
        "\n",
        "$$\\left|x-fl(x_{-})\\right|\\leq\\frac{1}{2}\\left|fl(x_{+})-fl(x_{-})\\right|$$\n",
        "\n",
        "\n",
        "$$\\frac{1}{2}\\left|fl(x_{+})-fl(x_{-})\\right|=2^{-1}\\left|[(0.d_{1}..d_{p})_{2}+2^{-p}]\\times2^{e}-(0.d_{1}..d_{p})_{2}\\times2^{e}\\right|\\\\ \n",
        "= 2^{-1}\\left|[(0.d_{1}..d_{p})_{2}-(0.d_{1}..d_{p})_{2}+2^{-p}]\\times2^{e}\\right|\\\\ \n",
        "= 2^{-1}\\left|2^{-p}\\times2^{e}\\right|\\\\ = 2^{e-p-1}$$\n",
        "\n",
        "$$\\therefore\\left|x-fl(x_{-})\\right|\\leq\\frac{1}{2} 2^{e-p}=2^{e-p-1} \\tag{2}$$\n",
        "\n",
        "Además de que (2) nos muestra el valor que acota al numerador, **tambíen da una cota para el error absoluto** si consideramos *redondeo o truncamiento con p-cifras significativas base 2*.\n",
        "\n",
        "Continuando con la búsqueda de la cota para el error relativo cuando se emplea redondeo a p-cifras significativas, podemos notar que el numerador está acotado por (2) y el denominador esta acotado por $0.1_{2}$ (revisa los resultados previos), por lo tanto:\n",
        "\n",
        "$$\\left|\\frac{x-fl(x_{-})}{x}\\right|\\leq\\frac{2^{e-p-1}}{(0.1)_{2}\\times2^{e}}\\leq\\frac{2^{-p-1}}{2^{-1}}=2^{-p-1+1}=\\frac{1}{2}2^{1-p}=u=\\frac{1}{2}\\epsilon_{M}$$\n",
        "\n",
        "¿Recuerdas quien es $\\beta^{1-p}$?.\n",
        "\n",
        "$$\\therefore\\left|\\frac{x-fl(x)}{x}\\right|\\leq 2^{-p-1+1} =u=\\frac{1}{2}\\epsilon_{M}$$"
      ]
    },
    {
      "cell_type": "markdown",
      "metadata": {
        "id": "9D_duk0hu78j"
      },
      "source": [
        "### Truncamiento con p-cifras significativas base 10\n",
        "\n",
        "Regresando a la representación de los números de máquina, vemos que $fl(x)$ como representación en punto flotante de x, tiene el error relativo\n",
        "\n",
        "$$\\left|\\frac{x-fl(x)}{x}\\right|$$\n",
        "\n",
        "Si se usan **k-cifras** decimales significativas y **truncamiento** para la representación en número de máquina de\n",
        "\n",
        "$$x=0.d_{1}d_{2}...d_{p}d_{p+1}...\\times10^{e}$$\n",
        "\n",
        "entonces\n",
        "\n",
        "$$\\left|\\frac{x-fl(x)}{x}\\right|=\\left|\\frac{0.d_{1}d_{2}...d_{p}d_{p+1}...\\times10^{e}-0.d_{1}d_{2}...d_{p}\\times10^{e}}{0.d_{1}d_{2}...d_{p}d_{p+1}\\times10^{e}}\\right|\\\\=\\left|\\frac{0.{\\overset{\\underbrace{p-ceros}}{0.....0}}d_{p+1}...\\times10^{e}}{0.d_{1}d_{2}...d_{p}d_{p+1}\\times10^{e}}\\right|\\\\=\\left|\\frac{0.d_{p+1}d_{p+2}...\\times10^{e-p}}{0.d_{1}d_{2}...\\times10^{e}}\\right|=\\left|\\frac{0.d_{p+1}d_{p+2}...}{0.d_{1}d_{2}...}\\right|\\times10^{-p}$$\n",
        "\n",
        "Pero como $d_{1}\\neq0$, entonces el valor mínimo del denominador es 0.1 y 1 es la cota superior del numerador, ya que $d_{p+1}=d_{p+2}=...=9$. Por lo tanto.\n",
        "\n",
        "$$\\left|\\frac{x-fl(x)}{x}\\right|=\\left|\\frac{0.99...9}{0.10...0}\\right|\\times10^{-p}\\\\\n",
        "\\leq \\frac{1}{0.1}\\times10^{-p}=\\frac{1}{10^{-1}}\\times10^{-p}=10\\times10^{-p}=10^{1-p}$$\n",
        "\n",
        "¿Recuerdas quien es $\\beta^{1-p}$?.\n",
        "\n",
        "$$\\therefore\\left|\\frac{x-fl(x)}{x}\\right|\\leq10^{1-p}=\\epsilon_{M}$$"
      ]
    },
    {
      "cell_type": "markdown",
      "metadata": {
        "id": "oCSmrTqVv5YG"
      },
      "source": [
        "## Resúmen\n",
        "\n",
        "* La precisión de los cálculos realizados en una computadora están relacionados con múltiples factores, tamaño de palabra, bits para la mantisa (precisión), cifras significativas.\n",
        "\n",
        "\n",
        "* Al tratar de representar valores reales en un sistema de punto flotante, tenemos 2 opciones:\n",
        "    * Truncamiento.\n",
        "    * Redondeo.\n",
        "    \n",
        "* Existen 2 formas de medir el error relacionado a un valor real $x$ y su aproximaxión $fl(x)$ en un sistema de punto flotante:\n",
        "    * Error absoluto $|x-fl(x)|$\n",
        "\n",
        "    * Error relativo $\\left|\\frac{x-fl(x)}{x}\\right|$\n",
        "\n",
        "* El épsilon de la máquina determina en gran medida que tan grande o pequeño sera el error al realizar un cálculo en un sistema de punto flotante.\n",
        "\n",
        "\n",
        "* Si se emplea truncamiento o redondeo el error absoluto asociado a un número esta acotado por (2), es decir:\n",
        "\n",
        "$$\\left|x-fl(x)\\right|\\leq\\frac{1}{2}\\beta^{-p+e}\\tag{2}$$\n",
        "\n",
        "\n",
        "* Si se emplea truncamiento el error relativo asociado a un número esta acotado por el épsilon de la maquina, es decir: \n",
        "\n",
        "$$\\left|\\frac{x-fl(x)}{x}\\right|\\leq\\epsilon_{M}$$\n",
        "\n",
        "*  Por otra parte si se emplea redondeo al mas cercano, el error relativo asociado a la representación de un valor en un sistema de punto flotante, es la mitad de la cota del error relativo empleando truncamiento, es decir:\n",
        "\n",
        "$$\\left|\\frac{x-fl(x)}{x}\\right|\\leq\\frac{1}{2}\\epsilon_{M}=u \\tag{1}$$"
      ]
    },
    {
      "cell_type": "markdown",
      "metadata": {
        "id": "kDCixQUcvXdl"
      },
      "source": [
        "## Sección Especial\n",
        "\n",
        "\n",
        "* Intenta encontrar la cota del error relativo de un sistema en base 10 y que emplea redondeo con k-cifras significativas.\n",
        "\n",
        "\n",
        "* Identifica cual es la cota del error relativo para un sistema que este basado en precisión simple.\n",
        "\n",
        "<font color=\"red\" face=\"Comic Sans MS,arial\">\n",
        "  <h1 align=\"left\"><i>Te conviene averiguarlo antes del examen</i></h1>\n",
        "  </font>"
      ]
    },
    {
      "cell_type": "markdown",
      "metadata": {
        "id": "Ek-Qi5DTS7z-"
      },
      "source": [
        "## Referencias\n",
        "\n",
        "1. Riswan Butt: Numerical Analysys Using Matlab, Jones and Bartlett.\n",
        "2. Ward Cheney, David Kincaid: Métodos Numéricos y Computación, Cenage Learning.\n",
        "3. Richard L. Burden, J. Douglas Faires: Análisis Numérico, Math Learning.\n",
        "4.   https://www.famaf.unc.edu.ar/~vmarconi/fiscomp/representacion-numeros.pdf\n",
        "5.   http://numerico.fcaglp.unlp.edu.ar/textos/tp1/numerico1-01b.pdf"
      ]
    }
  ]
}