{
  "nbformat": 4,
  "nbformat_minor": 0,
  "metadata": {
    "kernelspec": {
      "display_name": "Python 3.7 (tensorflow)",
      "language": "python",
      "name": "tensorflow"
    },
    "language_info": {
      "codemirror_mode": {
        "name": "ipython",
        "version": 3
      },
      "file_extension": ".py",
      "mimetype": "text/x-python",
      "name": "python",
      "nbconvert_exporter": "python",
      "pygments_lexer": "ipython3",
      "version": "3.7.7"
    },
    "colab": {
      "name": "05_Redondeo.ipynb",
      "provenance": [],
      "toc_visible": true,
      "include_colab_link": true
    }
  },
  "cells": [
    {
      "cell_type": "markdown",
      "metadata": {
        "id": "view-in-github",
        "colab_type": "text"
      },
      "source": [
        "<a href=\"https://colab.research.google.com/github/jugernaut/Numerico2021/blob/master/01_AritmeticaPuntoFlotante/05_Redondeo.ipynb\" target=\"_parent\"><img src=\"https://colab.research.google.com/assets/colab-badge.svg\" alt=\"Open In Colab\"/></a>"
      ]
    },
    {
      "cell_type": "markdown",
      "metadata": {
        "id": "OLeg-JemS7z6"
      },
      "source": [
        "<font color=\"Teal\" face=\"Comic Sans MS,arial\">\n",
        "  <h1 align=\"center\"><i>Redondeo</i></h1>\n",
        "  </font>\n",
        "  <font color=\"Black\" face=\"Comic Sans MS,arial\">\n",
        "  <h5 align=\"center\"><i>Profesor: M.en.C. Miguel Angel Pérez León.</i></h5>\n",
        "    <h5 align=\"center\"><i>Ayudante: Jesús Iván Coss Calderón.</i></h5>\n",
        "  <h5 align=\"center\"><i>Materia: Análisis Numérico.</i></h5>\n",
        "  </font>"
      ]
    },
    {
      "cell_type": "markdown",
      "metadata": {
        "id": "eu9DMUR_S7z8"
      },
      "source": [
        "## Introducción\n",
        "\n",
        "El hecho de que en una computadora sólo un subconjunto $\\mathcal{F}$ de los números reales es representable implica que, dado un número real $x$, éste debe ser aproximado por un número de punto flotante al que designaremos por $fl(x)$.\n"
      ]
    },
    {
      "cell_type": "markdown",
      "metadata": {
        "id": "_SwOG71LUeFs"
      },
      "source": [
        "## Redondeo\n",
        "\n",
        "El hecho de que la palabra del microprocesador sea una cadena de bits finita implica que hay valores reales que no pueden ser representados de manera exacta en un sistema de punto flotante, es por eso que una técnica para intentar dar una representación de estos valores es mediante redondeo.\n",
        "\n",
        "La manera usual de proceder consiste en considerar el redondeo al más próximo, esto es, **$fl(x)$ es el número de punto flotante más próximo a $x$**. Tal número de punto flotante resulta del redondeado a $p$ dígitos de la mantisa correspondiente a la representación de punto flotante normalizada (infinita) de $x$. \n",
        "\n",
        "En caso de \"empate\" se redondea al número de punto flotante con el bit menos significativo igual a cero. A este tipo de redondeo se le conoce como **redondeo al par más cercano**.\n"
      ]
    },
    {
      "cell_type": "markdown",
      "metadata": {
        "id": "CjvQQZFWVncH"
      },
      "source": [
        "### Redondeo al más cercano\n",
        "\n",
        "Sea $x$ de la siguiente manera:\n",
        "\n",
        "$$x=(-1)^{s}0.d_{1}d_{2}...d_{p}d_{p+1}d_{p+2}...\\times\\beta^{e}$$\n",
        "\n",
        "$fl(x)$ está dada por:\n",
        "\n",
        "$$fl(x)=(-1)^{s}0.d_{1}d_{2}...\\tilde{d_{p}}\\times\\beta^{e},\\,\\,\\,\\,\\,\\,\\,\\,\\tilde{d_{p}}=\\begin{cases}\n",
        "\\begin{array}{c}\n",
        "d_{p}\\,\\,\\,\\,si\\,d_{p+1}<\\beta/2\\\\\n",
        "d_{p}+1\\,\\,\\,\\,si\\,d_{p+1}\\geq\\beta/2\n",
        "\\end{array}\\end{cases}$$\n",
        "\n",
        "\n",
        "Esto aplica siempre y cuando $L\\leq e\\leq U$ y por otra parte es claro que $fl(x)=x$, si $x\\in\\mathcal{F}$.\n",
        "\n",
        "\n",
        "Finalmente es importante notar que en un sistema de punto flotante en el cual se haga uso de alguna forma de redondeo, una misma expresión puede representar distintos valores."
      ]
    },
    {
      "cell_type": "markdown",
      "metadata": {
        "id": "7HgxI_RsgRQ8"
      },
      "source": [
        "### Ejemplo\n",
        "\n",
        "Por ejemplo en el sistema $\\mathcal{F}(2,3-1,2)$ estos son los valores para los cuales se tiene una representación en este sistema.\n",
        "\n",
        "![sistema](https://docs.google.com/uc?export=download&id=1LuWaKQqUNekbickkPXk9cpH5yBJGsSDq)\n",
        "\n",
        "En este ejemplo y en todos los sistemas de punto flotante, sin importar la precisión, son muy pocos los valores exactos que se pueden representar en comparación con la totalidad de los valores reales. Por lo tanto todas las expresiones que no tengan asociado un valor (considerando las limitantes del sistema) **seran mapeadas a algún valor representable** (considerando las caracteristicas del redondeo)."
      ]
    },
    {
      "cell_type": "markdown",
      "metadata": {
        "id": "uqMDBObiS7z9"
      },
      "source": [
        "## Errores\n",
        "\n",
        "Para este momento es claro que los errores son un factor frecuente en todo cálculo realizado mediante un dispositivo de cómputo.\n",
        "\n",
        "Además consideremos que el error que resulta de aproximar un número real por su forma de punto flotante se denomina **error de redondeo**.\n",
        "\n",
        "Es por este motivo que es importante conocer las diferentes formas de medir la magnitud de un error.\n",
        "\n",
        "Sea $fl(x)$ el número de máquina generado en el sistema $\\mathcal F$ asociado al valor real $x$, tendremos 2 formas de evaluar la magnitud del error."
      ]
    },
    {
      "cell_type": "markdown",
      "metadata": {
        "id": "8FxJmPqAhoPc"
      },
      "source": [
        "### Error Relativo\n",
        "\n",
        "Esta forma de medir el error de un valor real con respeto de su aproximación considera la magnitud del valor real, y esta dada por la expresión.\n",
        "\n",
        "$$\\left|\\frac{x-fl(x)}{x}\\right|$$\n",
        "\n",
        "El error relativo pone en \"contexto\" la magnitud del error. Una forma de pensarlo es la siguiente, sopngamos que la cantidad de ciudadanos con obesidad en un país es de $2.35\\times10^{4}$ y en otro país es de $4.35\\times10^{6}$, podríamos pensar que el segundo país tiene un grave problema de obesidad dadas estas cifras, sin embargo si consideramos la extensión territorial de ambos paises o la densidad poblacional podríamos llegar a conclusiones muy diferentes. \n",
        "\n",
        "Una estimación de cuál podría llegar a ser la magnitud del error relativo en un sistema de punto flotante, esta dada por el siguiente resultado.\n"
      ]
    },
    {
      "cell_type": "markdown",
      "metadata": {
        "id": "F3K9stMLpCLh"
      },
      "source": [
        "#### Unidad de redondeo\n",
        "\n",
        "Todo número real $x$ puede ser representado dentro del rango de los números de punto flotante considerando un error relativo que no excede la unidad de redondeo $u$:\n",
        "\n",
        "$$\\left|\\frac{x-fl(x)}{x}\\right|\\leq u\\equiv\\frac{1}{2}\\epsilon_{M}=\\frac{1}{2}\\beta^{1-p} \\tag1$$\n",
        "\n",
        "Este resultado es muy importante e ilustrativo ya que dados los elementos de un sistema $ \\mathcal F$, (1) establece una **cota para cualquier error relativo** que se de en este sistema y más aun esta cota está definida en términos del $\\epsilon_{M}$."
      ]
    },
    {
      "cell_type": "markdown",
      "metadata": {
        "id": "xpxiBg-bhsJK"
      },
      "source": [
        "### Error Absoluto\n",
        "\n",
        "El error absoluto únicamente considera la magnitud de la diferencia entre $x$ y su aproximaicón $fl(x)$ es decir.\n",
        "\n",
        "$$\\left|x-fl(x)\\right|$$\n",
        "\n",
        "Como consecuencia de $(1)$ podemos afirmar que toda aproximación $fl(x)$ difiere de $x$ un cierto valor menor o igual que la unidad de redondeo. En otras palabras, existe un número real $\\delta$ que depende de $x$, tal que\n",
        "\n",
        "$$fl(x)=x(1+\\delta)\\quad siendo\\,\\left|\\delta\\right|\\leq u$$\n",
        "\n",
        "Por otra parte, debido a que los números de punto flotante no están igualmente espaciados, es necesario tratar de encontrar una cota para el error absoluto.\n",
        "\n",
        "El error absoluto está acotado por la siguiente expresión.\n",
        "\n",
        "$$\\left|x-fl(x)\\right|\\leq\\frac{1}{2}\\beta^{-p+e}$$"
      ]
    },
    {
      "cell_type": "markdown",
      "metadata": {
        "id": "YoqPIm5XS7z9"
      },
      "source": [
        "## Truncamiento v.s. Redondeo\n",
        "\n",
        "Dependiendo del tipo de redondeo o truncamiento que sea empleado en un sistema $\\mathcal F$ seran las cotas tanto del error relativo como del error absoluto.\n",
        "\n",
        "En esta sección veremos como es que esas cotas cambian en función de las caracteristicas del sistema y de las técnicas empleadas para aproximar valores que no tengan una representación exacta.\n"
      ]
    },
    {
      "cell_type": "markdown",
      "metadata": {
        "id": "xJH14rY3vGKT"
      },
      "source": [
        "### Truncamiento con k-cifras significativas base 2\n",
        "\n",
        "Si se usan **k-cifras** significativas y **truncamiento** para la representación en número de máquina\n",
        "\n",
        "$$x=(0.d_{1}d_{2}...d_{k}d_{k+1}...)_{2}\\times2^{n}$$\n",
        "\n",
        "entonces:\n",
        "\n",
        "$$\\left|\\frac{x-fl(x)}{x}\\right|=\\left|\\frac{(0.d_{1}d_{2}...d_{k}d_{k+1}...)_{2}\\times2^{n}-(0.d_{1}d_{2}...d_{k})_{2}\\times2^{n}}{0.d_{1}d_{2}...\\times2^{n}}\\right|\\\\=\\left|\\frac{(0.d_{k+1}d_{k+2}...)_{2}\\times2^{n-k}}{(0.d_{1}d_{2}...)_{2}\\times2^{n}}\\right|=\\left|\\frac{(0.d_{k+1}d_{k+2}...)_{2}}{(0.d_{1}d_{2}...)_{2}}\\right|\\times2^{-k}$$\n",
        "\n",
        "Forzosamente $d_{1}=1$ así que el valor mínimo del denominador es 0.1 y dado que la serie $\\frac{1}{2}+\\frac{1}{4}+...+\\frac{1}{2^{n}}=1$ cuando n tiende a $\\infty$. Por lo tanto.\n",
        "\n",
        "$$\\left|\\frac{x-fl(x)}{x}\\right|\\leq\\frac{1}{(0.1)_{2}}\\times2^{-k}=\\frac{1}{2^{-1}}\\times2^{-k}=2\\times2^{-k}=2^{1-k}$$\n",
        "\n",
        "$$\\therefore\\left|\\frac{x-fl(x)}{x}\\right|\\leq2^{1-k}=\\epsilon_{M}$$"
      ]
    },
    {
      "cell_type": "markdown",
      "metadata": {
        "id": "ABcSptwp2UbK"
      },
      "source": [
        "### Redondeo con k-cifras significativas base 2\n",
        "\n",
        "De igual manera que sucedió con el truncamiento es importante medir que tan grande puede ser el error de redondeo. Así que considera el numero real $x$.\n",
        "\n",
        "$$x=(0.d_{1}d_{2}...d_{k}d_{k+1}...)_{2}\\times2^{n}$$\n",
        "\n",
        "\n",
        "Como es frecuente, este número real puede no tener una representación exacta, así que hay que redondear al valor mas cercano, así que considera los siguientes valores.\n",
        "\n",
        "$$fl(x_{-})=(0.d_{1}d_{2}...d_{k})_{2}\\times2^{n} \\quad y \\quad fl(x_{+})=([(0.d_{1}d_{2}...d_{k})+2^{-k}])_{2}\\times2^{n}$$\n",
        "\n",
        "Graficamente esto es:\n",
        "![sistema](https://docs.google.com/uc?export=download&id=1wAZrcblmTAR5zee-9x4lvoRo9iSLLUki)\n",
        "\n",
        "Cualquiera de los 2 casos puede darse, sin perdida de generalidad, supongamos que $x$ se ubica mas cerca de $x_{-}$ que de $x_{+}$, esto es:\n",
        "\n",
        "$$\\left|x-fl(x_{-})\\right|\\leq\\frac{1}{2}\\left|fl(x_{+})-fl(x_{-})\\right|$$\n",
        "\n",
        "\n",
        "$$\\frac{1}{2}\\left|fl(x_{+})-fl(x_{-})\\right|=2^{-1}\\left|[(0.d_{1}..d_{k})_{2}+2^{-k}]\\times2^{n}-(0.d_{1}..d_{k})_{2}\\times2^{n}\\right|\\\\ \n",
        "= 2^{-1}\\left|[(0.d_{1}..d_{k})_{2}-(0.d_{1}..d_{k})_{2}+2^{-k}]\\times2^{n}\\right|\\\\ \n",
        "= 2^{-1}\\left|2^{-k}\\times2^{n}\\right|\\\\ = 2^{n-k-1} \\tag{2}$$\n",
        "\n",
        "En este caso el error relativo esta acotado por:\n",
        "\n",
        "El numerador esta acotado por (2) y el denominador esta acotado por $0.1_{2}$ (revisa los resultados previos), por lo tanto:\n",
        "\n",
        "$$\\left|\\frac{x-fl(x_{-})}{x}\\right|\\leq\\frac{2^{n-k-1}}{(0.1d_{2}...)_{2}\\times2^{n}}\\leq\\frac{2^{-k-1}}{2^{-1}}=2^{-k}=u=\\frac{1}{2}\\epsilon_{M}$$\n",
        "\n",
        "¿Recuerdas quien es $\\beta^{1-p}$ ó en este caso $2^{1-k}$?.\n",
        "\n",
        "$$\\therefore\\left|\\frac{x-fl(x)}{x}\\right|\\leq2^{-k}=u=\\frac{1}{2}\\epsilon_{M}$$"
      ]
    },
    {
      "cell_type": "markdown",
      "metadata": {
        "id": "9D_duk0hu78j"
      },
      "source": [
        "### Truncamiento con k-cifras significativas base 10\n",
        "\n",
        "Regresando a la representación de los números de máquina, vemos que $fl(x)$ como representación en punto flotante de x, tiene el error relativo\n",
        "\n",
        "$$\\left|\\frac{x-fl(x)}{x}\\right|$$\n",
        "\n",
        "Si se usan **k-cifras** decimales significativas y **truncamiento** para la representación en número de máquina de\n",
        "\n",
        "$$x=0.d_{1}d_{2}...d_{k}d_{k+1}...\\times10^{n}$$\n",
        "\n",
        "entonces\n",
        "\n",
        "$$\\left|\\frac{x-fl(x)}{x}\\right|=\\left|\\frac{0.d_{1}d_{2}...d_{k}d_{k+1}...\\times10^{n}-0.d_{1}d_{2}...d_{k}\\times10^{n}}{0.d_{1}d_{2}...d_{k}d_{k+1}\\times10^{n}}\\right|\\\\=\\left|\\frac{0.d_{k+1}d_{k+2}...\\times10^{n-k}}{0.d_{1}d_{2}...\\times10^{n}}\\right|=\\left|\\frac{0.d_{k+1}d_{k+2}...}{0.d_{1}d_{2}...}\\right|\\times10^{-k}$$\n",
        "\n",
        "Pero como $d_{1}\\neq0$, entonces el valor mínimo del denominador es 0.1 y 1 es la cota superior del numerador, ya que $d_{k+1}=d_{k+2}=..=9$. Por lo tanto.\n",
        "\n",
        "$$\\left|\\frac{x-fl(x)}{x}\\right|=\\left|\\frac{0.99...9}{0.10...0}\\right|\\times10^{-k}\\\\\n",
        "\\leq \\frac{1}{0.1}\\times10^{-k}=\\frac{1}{10^{-1}}\\times10^{-k}=10\\times10^{-k}=10^{1-k}$$\n",
        "\n",
        "¿Recuerdas quien es $\\beta^{1-p}$ ó en este caso $10^{1-k}$?.\n",
        "\n",
        "$$\\therefore\\left|\\frac{x-fl(x)}{x}\\right|\\leq10^{1-k}=\\epsilon_{M}$$"
      ]
    },
    {
      "cell_type": "markdown",
      "metadata": {
        "id": "oCSmrTqVv5YG"
      },
      "source": [
        "## Resúmen\n",
        "\n",
        "* La precisión de los cálculos realizados en una computadora están relacionados con múltiples factores, tamaño de palabra, bits para la mantisa (precisión), cifras significativas.\n",
        "\n",
        "\n",
        "* Al tratar de representar valores reales en un sistema de punto flotante, tenemos 2 opciones:\n",
        "    * Truncamiento.\n",
        "    * Redondeo.\n",
        "    \n",
        "\n",
        "* El épsilon de la máquina determina en gran medida que tan grande o pequeño sera el error al realizar un calculo en un sistema de punto flotante.\n",
        "\n",
        "\n",
        "* Si se emplea truncamiento el error relativo asociado a un número esta acotado por el épsilon de la maquina, es decir: \n",
        "\n",
        "$$\\left|\\frac{x-fl(x)}{x}\\right|\\leq\\epsilon_{M}$$\n",
        "\n",
        "*  Por otra parte si se emplea redondeo al mas cercano, el error relativo asociado a la representación de un valor en un sistema de punto flotante, es la mitad de la cota del error relativo empleando truncamiento, es decir:\n",
        "\n",
        "$$\\left|\\frac{x-fl(x)}{x}\\right|\\leq\\frac{1}{2}\\epsilon_{M}=u $$"
      ]
    },
    {
      "cell_type": "markdown",
      "metadata": {
        "id": "kDCixQUcvXdl"
      },
      "source": [
        "## Sección Especial\n",
        "\n",
        "\n",
        "* Intenta encontrar la cota del error relativo de un sistema en base 10 y que emplea redondeo con k-cifras significativas.\n",
        "\n",
        "\n",
        "* Identifica cual es la cota del error relativo para un sistema que este basado en precisión simple.\n",
        "\n",
        "<font color=\"red\" face=\"Comic Sans MS,arial\">\n",
        "  <h1 align=\"left\"><i>Te conviene averiguarlo antes del examen</i></h1>\n",
        "  </font>"
      ]
    },
    {
      "cell_type": "markdown",
      "metadata": {
        "id": "Ek-Qi5DTS7z-"
      },
      "source": [
        "## Referencias\n",
        "\n",
        "1. Riswan Butt: Numerical Analysys Using Matlab, Jones and Bartlett.\n",
        "\n",
        "2. Ward Cheney, David Kincaid: Métodos Numéricos y Computación, Cenage Learning.\n",
        "\n",
        "3. Richard L. Burden, J. Douglas Faires: Análisis Numérico, Math Learning."
      ]
    }
  ]
}