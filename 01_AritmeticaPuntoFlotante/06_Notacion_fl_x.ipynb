{
  "nbformat": 4,
  "nbformat_minor": 0,
  "metadata": {
    "kernelspec": {
      "display_name": "Python 3.7 (tensorflow)",
      "language": "python",
      "name": "tensorflow"
    },
    "language_info": {
      "codemirror_mode": {
        "name": "ipython",
        "version": 3
      },
      "file_extension": ".py",
      "mimetype": "text/x-python",
      "name": "python",
      "nbconvert_exporter": "python",
      "pygments_lexer": "ipython3",
      "version": "3.7.7"
    },
    "colab": {
      "name": "06_Notacion_fl_x.ipynb",
      "provenance": [],
      "toc_visible": true,
      "include_colab_link": true
    }
  },
  "cells": [
    {
      "cell_type": "markdown",
      "metadata": {
        "id": "view-in-github",
        "colab_type": "text"
      },
      "source": [
        "<a href=\"https://colab.research.google.com/github/jugernaut/Numerico2021/blob/master/01_AritmeticaPuntoFlotante/06_Notacion_fl_x.ipynb\" target=\"_parent\"><img src=\"https://colab.research.google.com/assets/colab-badge.svg\" alt=\"Open In Colab\"/></a>"
      ]
    },
    {
      "cell_type": "markdown",
      "metadata": {
        "id": "zennniMXQrVJ"
      },
      "source": [
        "<font color=\"Teal\" face=\"Comic Sans MS,arial\">\n",
        "  <h1 align=\"center\"><i>Notación $fl(x)$ y análisis del Error hacia atrás</i></h1>\n",
        "  </font>\n",
        "  <font color=\"Black\" face=\"Comic Sans MS,arial\">\n",
        "  <h5 align=\"center\"><i>Profesor: M.en.C. Miguel Angel Pérez León.</i></h5>\n",
        "    <h5 align=\"center\"><i>Ayudante: Jesús Iván Coss Calderón.</i></h5>\n",
        "  <h5 align=\"center\"><i>Materia: Análisis Numérico.</i></h5>\n",
        "  </font>"
      ]
    },
    {
      "cell_type": "markdown",
      "metadata": {
        "id": "W0ukoTl9QrVM"
      },
      "source": [
        "## Introducción\n",
        "\n",
        "Dado que gran parte de los errores al utilizar una computadora para realizar algún calculo se encuentran en las operaciones aritméticas empleadas en el mismo, pongamos especial atención en estas.\n",
        "\n",
        "Para ilustrar esto supongamos que trabajamos con una computadora que emplea $\\color{red}{5}$ $\\color{red}{cifras}$ $\\color{red}{ significativas}$ y deseamos sumar 2 números. Estos 2 números de máquina en notación de punto flotante normalizada serian:\n",
        "\n",
        "$$a=0.37218\\times10^{4} \\quad b=0.71422\\times10^{-1}$$\n",
        "\n",
        "Muchas computadoras realizan sus operaciones en un área del doble del tamaño, supongamos que se tiene un acumulador de tamaño 10, así que la suma se vería de la siguiente manera.\n",
        "\n",
        "$$\\frac{\\begin{array}{c}\n",
        "\\,\\,\\,\\,\\,\\,\\,\\,\\,\\,\\,a=0.3721800000\\times10^{4}\\\\\n",
        "\\,\\,\\,\\,\\,\\,\\,\\,\\,\\,\\,b=0.0000071422\\times10^{4}\n",
        "\\end{array}}{a+b=0.3721871422\\times10^{4}}$$\n",
        "\n",
        "El número de máquina más cercano es $c=0.37219\\times10^{4}$ (empleando redondeo al más cercano) y el error relativo involucrado en esta operación aritmética seria.\n",
        "\n",
        "$$a+b=0.3721871422\\times10^{4}-0.37219\\times10^{4}=0.0000028578\\times10^{4}$$\n",
        "\n",
        "$$\\left|\\frac{x-fl(x)}{x}\\right|=\\left|\\frac{a+b-c}{a+b}\\right|=\\frac{0.0000028578\\times10^{4}}{0.3721871422\\times10^{4}}=\\frac{0.0000028578}{0.3721871422}=0.000007678 \\thickapprox 0.77\\times10^{-5}$$\n",
        "\n",
        "Este error seria aceptable en una máquina de tan poca precisión, **pero no en para una computadora empleada para realizar cálculos que tengan que ver con ciencias exactas**.\n",
        "\n",
        "Para facilitar el análisis de tales errores es conveniente continuar utilizando $fl(x)$ para denotar el número de máquina de punto flotante correspondiente al numero $x$.\n",
        "\n",
        "Por supuesto que la función $fl$ depende completamente de la computadora implicada.\n",
        "\n",
        "De acuerdo al redondeo el resultado de esta operación aritmética seria.\n",
        "\n",
        "$$fl(a+b)=fl(0.3721871422\\times10^{4})=0.37219\\times10^{4}$$\n",
        "\n",
        "Es decir que para el ejemplo mostrado, el error relativo cumple con que $0.77\\times10^{-5} \\leq u$\n",
        "\n",
        "Para una computadora de longitud de palabra de 32 bits (precisión simple), previamente se mostró que si $x\\in\\mathbb{R},\\,x\\neq0$ y $x$ se encuentra en el rango de números de máquina entonces.\n",
        "\n",
        "$$\\left|\\frac{x-fl(x)}{x}\\right|\\leq u \\quad (u=2^{-24}) \\tag{1}$$\n",
        "\n",
        "En pocas palabras este resultado establece que el valor real $x$ y su representación $fl(x)$ en número de máquina difieren a lo más en $u$ unidad de redondeo, si es que se emplea redondeo al más cercano.\n"
      ]
    },
    {
      "cell_type": "markdown",
      "metadata": {
        "id": "DPXjclYmQrVN"
      },
      "source": [
        "##  Notación $fl(x)$ y análisis de sus concecuencias\n",
        "\n",
        "De aquí en adelante asumimos que se emplea redondeo al más cercano y por lo tanto la desigualdad anterior (1) se puede expresar en forma más útil.\n",
        "\n",
        "$$fl(x)=x(1+\\delta) \\quad (\\left|\\delta\\right|\\leq2^{-24}) \\tag{2}$$\n",
        "\n",
        "Para ver que estas dos expresiones matemáticas $(1)$ y $(2)$ son equivalentes, basta con tomar $\\frac{x-fl(x)}{x}=\\delta$ en (1), es decir.\n",
        "\n",
        "$$\\left|\\frac{x-fl(x)}{x}\\right|\\leq 2^{-24} \\quad $$\n",
        "\n",
        "Entonces por la desigualdad (1), se tiene que $\\left|\\delta\\right|\\leq2^{-24}$ y despejando $fl(x)$ se obtiene (2).\n",
        "\n",
        "$$\\left|\\frac{x-fl(x)}{x}\\right|\\leq 2^{-24}\\Longrightarrow \\frac{fl(x)-x}{x} \\leq 2^{-24} \\Longrightarrow fl(x)-x=\\delta x\\Longrightarrow fl(x)=x+\\delta x\\Longrightarrow fl\\left(x\\right)=x\\left(1+\\delta\\right)$$\n",
        "\n",
        "Sin embargo por (2), $\\delta$ está acotada por la unidad de redondeo, así que lo que establecen (1) y en consecuencia (2) es que el error asociado a la aproximación de un valor real $x$ no puede exceder la unidad de redondeo $u$ ya que si lo excede, en particular podría tomar el valor del $\\epsilon_m$ lo que significa que la aproximación **$fl(x)$ en realidad sería el siguiente valor** representable en este sistema."
      ]
    },
    {
      "cell_type": "markdown",
      "metadata": {
        "id": "DRJmfWbjIMol"
      },
      "source": [
        "## Arimética de punto flotante\n",
        "\n",
        "Ya que se tiene una idea clara de cómo funcionan los sistemas de punto flotante y el redondeo, es buena idea destinar un poco de tiempo para analizar que sucede con las operaciones aritméticas, dentro de un sistema de punto flotante."
      ]
    },
    {
      "cell_type": "markdown",
      "metadata": {
        "id": "6INZglumJAFG"
      },
      "source": [
        "### Operaciones aritméticas\n",
        "\n",
        "Se empleara el símbolo $\\odot$ para denotar cualquiera de las operaciones de la aritméticas tradicionales $(+,-,\\times,\\div)$.\n",
        "\n",
        "Supongamos una computadora de longitud de palabra de 32 bits que se ha diseñado para que siempre que 2 números de máquina $x$ y $y$ se combinen aritméticamente produzcan $fl(x\\odot y)$ en lugar de $x\\odot y$.\n",
        "\n",
        "\n",
        "Podemos imaginar que $x \\odot y$ se forma primero correctamente, después se normaliza y por último se redondea para convertirse en un número de máquina. Bajo esta suposición, el error relativo no excede $2^{-24}$, es decir. \n",
        "\n",
        "$$fl(x\\odot y)=(x\\odot y)(1+\\delta) \\quad \\left|\\delta\\right|\\leq2^{-24}$$"
      ]
    },
    {
      "cell_type": "markdown",
      "metadata": {
        "id": "PLMUw0otNbiD"
      },
      "source": [
        "#### Ejemplo\n",
        "\n",
        "Empleando aritmética de 7 cifras significativas y redondeo en base 10, realice los siguientes cálculos. \n",
        "\n",
        "*   Sean $a= 1234.567, b= 45.67844, c = 0.0004$\n",
        "\n",
        "> $$(a + b) + c=(1234.567+45.67844)+0.0004=1280.245+0.0004=1280.245$$\n",
        "\n",
        "> $$a + (b + c)=1234.567+(45.67844+0.0004)=1234.567+45.67884=1280.246$$\n",
        "\n",
        "*   Sean $a= 1234.567, b= 1.234567, c = 3.333333$\n",
        "\n",
        "> $$(a + b) * c=(1234.567+1.234567)+3.333333=1235.801*3.333333=4119.336$$\n",
        "\n",
        "> $$(a * c)+(b * c)=(1234.567*3.333333)+(1.234567*3.333333)=4115.223+4.115223=4119.338$$\n",
        "\n",
        "De estos ejemplos podemos concluir que algúnos de **los axiómas elementales (en este caso asocitividad y distributividad) de las matemáticas no siempre se cúmplen** en un sistema de punto flotante.\n",
        "\n"
      ]
    },
    {
      "cell_type": "markdown",
      "metadata": {
        "id": "ETxXB2vhQrVP"
      },
      "source": [
        "## Cancelación numérica\n",
        "\n",
        "El termino de cancelación numérica se refiere a que sucede cuando 2 cifras muy similares se restan, en ese caso la mayoria de las cifras significativas se cancelan (en otras palabras se vuelven cero) y dadas las limitaciones del sistema, los valores cencuentes son cero.\n"
      ]
    },
    {
      "cell_type": "markdown",
      "metadata": {
        "id": "EzbktzGFwC5b"
      },
      "source": [
        "### Ejemplo\n",
        "\n",
        "Uno de los cálculos más comunes que producen errores tiene que ver con la cancelación de cifras significativas, debido a la resta de números casi iguales.\n",
        "\n",
        "Supongamos que tenemos 2 números de máquina casi iguales $x,\\,\\,y$ con $x>y$, y con una representación de *p-cifras* significativas. Es decir.\n",
        "\n",
        "\n",
        "$$fl(x)=0.d_{1}d_{2}...d_{k}a_{k+1}a_{k+2}...a_{p}\\times10^{n}\\\\\n",
        "fl(y)=0.d_{1}d_{2}...d_{k}b_{k+1}b_{k+2}...b_{p}\\times10^{n}$$ \n",
        "\n",
        "\n",
        "Al realizar la resta de $x-y$ se tienen a lo mas $p-k$ cifras significativas, sin embargo el resultado debe mostrarse con p-cifras, así que las ultimas k-cifras o se cancelan o serán asignadas al azar.\n",
        "\n",
        "\n",
        "En todos los cálculos posteriores que involucren a $x-y$, se arrastrará un error debido a la cancelación de cifras.\n",
        "\n",
        "$\\color{green}{Ejemplo.}$\n",
        "\n",
        "Sean $x=0.54617\\times10^{0}$ y $y=0.54601\\times10^{0}$ números reales, el valor exacto de la resta es \n",
        "\n",
        "\n",
        "$$r=x-y={\\color{red}{0.00016}}$$\n",
        "\n",
        "* Ahora, supongamos que la resta se realiza con una aritmética de 4-cifras, al redondear $x,\\,\\,y$ a 4-cifras se tiene.\n",
        "\n",
        "$$x=0.5462 \\quad y=0.5460\\\\x-y={\\color{red}{0.0002}} $$\n",
        "\n",
        "Dado que el resultado también debe estar normalizado entonces $fl(x-y)=0.2\\overset{{\\color{red}{c.can}}}{\\overbrace{000}}\\times10^{-3} $\n",
        "\n",
        "* ¿Que sucede con el error relativo?.\n",
        "\n",
        "* ¿Que sucede con el error relativo sin en lugar de redondear, se empleara truncamiento?."
      ]
    },
    {
      "cell_type": "markdown",
      "metadata": {
        "id": "ITAJTexEJIFM"
      },
      "source": [
        "\n",
        "## Nociones de estabilidad numérica\n",
        "\n",
        "Para el caso particular de la suma de 2 números reales $x,\\,\\,y$ tendríamos que.\n",
        "\n",
        "$$fl(x+y)=(x+y)(1+\\delta)=x(1+\\delta)+y(1+\\delta)$$\n",
        "\n",
        "Esta expresión nos dice que el resultado de sumar 2 números reales $x,\\,\\,y$, no es en general $x+y$ si no la suma verdadera de $x(1+\\delta)$ con $y(1+\\delta)$.\n",
        "\n",
        "Así, la versión de máquina de $x+y$, que es $fl(x+y)$, es la suma exacta de una $x,\\,\\,y$ ligeramente perturbadas.\n",
        "\n",
        "Esta interpretación es un ejemplo del **análisis de error hacia atrás**. Este trata de determinar que perturbación de los datos originales causaría que los resultados de la computadora fueran los resultados exactos de un problema dado.\n",
        "\n",
        "Dado que ya conocemos la importancia de los errores en el análisis de algoritmos, a partir de este punto se introducen 2 formas para analizar el error en un algoritmo:\n",
        "\n",
        "Sea $ \\hat{f}\\left(x\\right)$ el valor aproximado calculado de $f\\left(x\\right)$ con un dato de\n",
        "entrada $x$. Entonces tenemos lo siguiente:\n",
        "\n",
        "*   **Error hacı́a adelante** $= |f (x) − \\hat{f}(x)|$.\n",
        "Los errores atrasados relacionan los errores a los datos del\n",
        "problema en lugar de a la solución del problema.\n",
        "*   **Error hacı́a atrás** $= |y − x|$. Aquı́ nos preguntamos con qué valor de los\n",
        "datos de entrada y hace que $f(y) = \\hat{f}(x)$.\n",
        "\n"
      ]
    },
    {
      "cell_type": "markdown",
      "metadata": {
        "id": "RJzAgSN2ggRI"
      },
      "source": [
        "#### Ejemplo\n",
        "\n",
        "Supongamos que queremos estimar $f(x)=e^x$ en $x=1$. Utilizando la serie de Taylor como algoritmo de aproximaxición se tiene.\n",
        "\n",
        "$$\\hat{f}\\left(x\\right)=1+x+\\frac{x^{2}}{2}+\\frac{x^{3}}{3!}$$\n",
        "\n",
        "Entonces tenemos que $f(1)=2.718$ y $\\hat{f}(1)=2.666$, así que.\n",
        "\n",
        "*   **Error hacia adelante**: $|2.718 − 2.666| = 0.052$.\n",
        "*   Para encontrar el error hacia atrás tenemos que encontrar una $y$ tal que $f(y)=\\hat{f}(1)$. Para $e^x$, se tiene que $y=ln(\\hat{f}(x))$. Evaluando en $x=1$ tenemos que $y=ln(\\hat{f}(1))=0.9808$. De tal manera que el **error hacia atrás** es $|y-x|=|0.9808-1|=0.0192$. Y al verificar se tiene que $e^y = e^{0.9808}=2.666=\\hat{f}(1)=2.666$\n"
      ]
    },
    {
      "cell_type": "markdown",
      "metadata": {
        "id": "5mCjMPSrIhEw"
      },
      "source": [
        "## Algoritmo estable hacia atrás\n",
        "\n",
        "Definición: Un algoritmo es llamado estable hacıia atrás si para alguna $x$ se produce un valor $\\hat{f}(x)$ con un pequeño error hacı́a atrás. En otras palabras, un algoritmo es estable hacı́a atrás si se produce una solución exacta cercana al problema. Esto es, un algoritmo es estable hacia atrás si $\\hat{f}(x)=f(y)$, para alguna $y$ cerca a $x$."
      ]
    },
    {
      "cell_type": "markdown",
      "metadata": {
        "id": "vjCfSbsRJLTf"
      },
      "source": [
        "#### Ejemplo\n",
        "\n",
        "Si $x,\\,y,\\,z$ son números de máquina en una computadora de longitud de palabra de 32 bits. ¿Que cota superior tendrá el error de redondear $z(x+y)$?\n",
        "\n",
        "* Primero se evalúa $fl(x+y)=(x+y)(1+\\delta_{1})\\quad(\\left|\\delta_{1}\\right|\\leq2^{-24})$.\n",
        "\n",
        "\n",
        "* Ahora tenemos que multiplicar $z$ por el número de máquina $fl(x+y)$, es decir.\n",
        "\n",
        "$$fl[zfl(x+y)]=zfl(x+y)(1+\\delta_{2})\\quad(\\left|\\delta_{2}\\right|\\leq2^{-24})$$\n",
        "\n",
        "* En este cálculo, $\\left|\\delta_{1}\\delta_{2}\\right|\\leq2^{-48}$, por lo que lo ignoramos (ya que es un valor mucho muy pequeño). También hacemos \n",
        "\n",
        "$$\\delta=\\delta_{1}+\\delta_{2}$$\n",
        "\n",
        "* Juntando ambas ecuaciones se tiene\n",
        "\n",
        "$$fl[zfl(x+y)]\t=\tz(x+y)(1+\\delta_{1})(1+\\delta_{2})\n",
        "\t=\tz(x+y)(1+\\delta_{1}+\\delta_{2}+\\delta_{1}\\delta_{2})\n",
        "\t\\thickapprox z(x+y)(1+\\delta_{1}+\\delta_{2})\n",
        "\t=\tz(x+y)(1+\\delta) \\quad (\\left|\\delta_{1}\\right|\\leq2^{-23})$$\n",
        "    \n",
        "y entonces se puede concluir que \n",
        "\n",
        "$$\\left|\\delta\\right|=\\left|\\delta_{1}+\\delta_{2}\\right|\\leq\\left|\\delta_{1}\\right|+\\left|\\delta_{2}\\right|\\leq2^{-24}+2^{-24}=2^{-23} $$\n",
        "\n",
        "Ası́, que el cálculo de la multiplicación de $z$ por la suma de dos números de punto flotante $x, y$\n",
        "es la multiplicación exacta de $z'$ por la suma exacta de otros dos números de punto flotante $x'$ e $y'$.\n",
        "Como $|\\delta|\\leq \\epsilon_m$, por lo tanto $x'$, $y'$ y $z'$ son cercanos a $x$, $y$ y $z$ respectivamente. Ası́ concluimos que la operación de multiplicación de un número de punto flotante por la adición de dos números de punto flotante es estable hacı́a atrás."
      ]
    },
    {
      "cell_type": "markdown",
      "metadata": {
        "id": "1fT2EgD_QrVR"
      },
      "source": [
        "## Reducción de errores\n",
        "\n",
        "Para concluir este tema podemos decir que el objetivo general del curso será reducir los errores que se den en los cálculos, ya sea debido a las limitantes del sistema de punto flotante o a las caracteristicas de las técnicas empleadas para aproximar los valores reales.\n",
        "\n",
        "Así que ya podemos ver de manera más clara el por que el algoritmo de Horner es un ejemplo excelente para mostrar tales fines."
      ]
    },
    {
      "cell_type": "markdown",
      "metadata": {
        "id": "-FuFEfZGS4Rc"
      },
      "source": [
        "### Evaluación de polinomios\n",
        "\n",
        "Hasta este momento debe ser claro que una forma para reducir los errores es minimizar la cantidad de operaciones necesarias para realizar algún cálculo.\n",
        "\n",
        "* Evalúa el siguiente polinomio en 4.71.\n",
        "\n",
        "$$f(x)=1.5+3.2x-6.1x^{2}+x^{3}$$\n",
        "\n",
        "\n",
        "* Considera una aritmética de 3 cifras significativas y responde:\n",
        "\n",
        "    * ¿Cuál es el valor exacto?.\n",
        "\n",
        "    * Emplea truncamiento.\n",
        "\n",
        "    * Emplea redondeo.\n",
        "\n",
        "    * ¿Qué sucede con el error relativo en ambos casos?.\n",
        "\n",
        "    * Ahora reescribe el mismo polinomio pero en la forma \n",
        "$$f(x)=1.5+x(3.2+x(-6.1+x))$$\n",
        "\n",
        "    * Responde las mismas preguntas.\n",
        " \n",
        "$\\color{green}{Ejercicio}$\n",
        "\n",
        "![tabla1.PNG](data:image/png;base64,iVBORw0KGgoAAAANSUhEUgAAAw0AAAFOCAYAAADEsvELAAAAAXNSR0IArs4c6QAAAARnQU1BAACxjwv8YQUAAAAJcEhZcwAAEnQAABJ0Ad5mH3gAAHm9SURBVHhe7b3tU1RX+vfrH8AbX/oiVamyPJUXU/4YLVNxHFM6VVr+yt8k8b5jeXsfx9IzeICQBBIMiiNqjmASwURISpKfdjmgBvSm4wgaiINGcQgJIfiAYtAoQSNMwCeeJNjQ37PWfugndjfdvRt6d/P9VK0q2L17P1zXtda+vmuvtXoaCCGEEEIIISQAFA2EEEIIIYSQgFA0EEIIIYQQQgJC0UAIIYQQQggJCEUDIYQQQgghJCATLhqmzf4rCwsLCwsLCwsLC0uQxYpMimgghMQerLsqtEN0oN2nDvR17EMfRhar2pOigRBiCOuuCu0QHWj3qQN9HfvQh5HFqvakaCCEGMK6q0I7RAfafepAX8c+9GFksao9KRoIIYaw7qrQDtGBdp860NexD30YWaxqT4oGQoghrLsqtEN0oN2nDvR17EMfRhar2pOigRBiCOuuCu0QHWj3qQN9HfvQh5HFqvakaCCEGMK6q0I7RAfafepAX8c+9GFksao9KRoIIYaw7qrQDtGBdp860NexD30YWaxqT4oGQoghrLsqtEN0oN2nDvR17EMfRhar2pOigRBiCOuuCu0QHWj3qQN9HfvQh5HFqvakaCCEGMK6qxLbdhhF/40LyE/LRIK4D3kv0xZsQ9ahy+h0aLtYlKkZfyO4f+Us9m7fibmJmr9mp2H59pNo6BrW9ok/2NYY4OxHW/URrFuWrMVBEmauLoatsRtWrLr0YWSxqj0pGgghhrDuqsS0HYZ/ROF/bRD3IBKOV3ZgzeoMTTwkY37BJfRqu1mRqRp/zvtN2PZKGuau+Qg5hQfxzvq3FJ8l/PkYLsWpbmBbM5bhlmP4g1JX07BofS6WL9XEQ2I2cr97rO1lHejDyGJVe1I0EEIMYd1ViXU7ODrPY8teIRCc8r/fcKvsfVU4PP8ZzvSOKvtYEcafZBgd9j2YLv01ew/sXSPa9viCvjZiGL9UleIDIRCUquv4GaVJrym2mrG90XKCnz6MLFa1J0UDIcQQ1l2V+LLDKHrPf4YZ4p6snoRO7fh7gkulu7FoQZJih2mzU7BoVxN6lOwx/mBbEwyPcGZ7hhoPqWfRqW21CvRhZLGqPSkaCCGGsO6qxJMdnP03YEtLx7TEjUguu4F+bbsVmdrxN4imwizFBmrJRMrRm+inaJg0nAN3UFP8ERa7hFsmss4/0D4dj1H0372KKlsRFi08gibTkxDE8VpPYt3CJCQs24uSVuvV3EnzoXMAt89XYqs2bE8OtZy7fn/Qcz3G+DUxE+sKL6Ct31pvXa1YJyQUDYQQQ1h3VeLCDsqkylKsWvgGlm+vxNn2AXXIg4Vh/Amcg+ioP4ZVc2RylI6U6n9b3m/hYDVfu8X1ZqTbzqOu+TLOVJ6Erb57HPs/waXiLcr9uMoCc6LB2d+OqoJczJILGJQ24faANYcUTo4PHeis/hiz5Ju3zDKUn7uIumo70l9JEb7ajsIr44ippx0of136VQqFk6iw/wM7U9VFIhLWHMfVIevULqvVCR2KBkKIIay7KrFuB0fPVdgyN2L6sg9R/J01V14xYqrGn3OgD489nOTsbcSmF9QEdGZha8z4LxQs5WvnQ9Tt2iSuaRO21T8MUaQ50NPSAHtVA+r+eQTLxX2FLxqG0d1ciZRlr2He28fxjcVXz5osHzr7b+LYsat46HKMA3fsHwRVP5yPfsC2ZW9inf2uez/HPdgz3xTff0OI8l8tI8qt2v5RNBBCDIlW3X16uxqr56R5Nexqz18mFuddwK1J7mmzchs2rq0eX0fhUrl6kkfPp6twTsNkM35sD2sJUDLmrs7F2tRdWPlKmuqvhbtReuOJ9q34wkq+dt49jdWJf8X018/i3vAjtDU2okqIgG/vDoaWUHadxVrpNwPREEwb57hy1GPZXZ/COQ1unA9wZkemOH8wSf8o+q+34prXUKQRdFbuUa5fFx1WeAZFzZ7jQNFACDEkenV3EFdtO5Gw8GNUdTncjfWub6Py2wLWbsPGsZWjFfkLDJIOpVA0TD7jxfYwblcfxFpdKCglGfPSjqDqRr9lekEjjXV8PYLu6r1ImL0Bc1P2YK3rNxJESfwbtp37tyuJHJcAoiGYNs7RfAQz9XP7likvGtQ3OhVlFchRhhclYVZaNdrCGl7Uh4YCOX/IU3RE/xk0ufYMHooGQoghUa27QzdQvOY1PJd1BB9FUTBILN+GWchWkSRunx1x6i8zWMfXHhPQF36AwvN30a9MvD2GtQuTMO3F/TjzMEihHVA0COIsDibXh2MXCkj/oj2MhQLkBPMTWDVHiI7XT+PWU22zJMr+sU6d8IaigRBiSHTr7ih6Gw9h/uwNmLejPqoPU+u3YdaxVSSJ32dHfPrLDNbxtZ6MJmOJ7SbcOWQv6vLkEJgMZJ1/pG0bh/FEQ5zFQbR86Oi5jsPZ74jzp2Nd2S0MadvHZxid9eXK4hAvFfzLYMhRdP1j1faPooEQYkhU667j36jd9Tf1tfPGOnRGcVyG5dswC9kqksTtsyNO/WUG6/haH570GtZWdmnbJLqY8N0egPFEQ5zFQTR96Gz/Ei9LW8/5BDUPg5hv4OjGN59+gFkL85Bfe8f4DUWU/WPV9o+igRBiSNTqrtJYb8VzaSfRcuNrpC7MxFu14y11OHFYug2zmK0iSVw+O+LYX2awkq9HRQL6SuJfMSO7AQ90xzh/QfkG+WvMW1HYMqhtHIdAoiEO42ByfDiIG/WXx7wVGG45hj9IW/+pBA2Dga3o7P8J5dnZmLWmBCf9LT1tAf9Ytf2jaCCEGBKVuqs01n/DjKQTaFFWuBhCW2kuEkIZSxxhLNuGWdBWkSTunh1x7i8zWMrXzkf4pmArEmanYfn2CpRXfoUDeTuV3wZY/F4TuvXM8cmPKP7LG2PGwjvud6CpuRVNtdqSqy8UofR78X/zT7gjk904jYNJ8aGzC/a0NCHEspG8qwKlJ86iouxzpMjfaZidjvX2Dm1ImRODLV/g5QUZHtsEQ7dQKn9/Y/abWLm9BPmFR7zKJ+e7MGoR/1i1/aNoIIQYMul1V2usp684iFqPNcmdfZeRtzwF83b94LE29+RhyTbMoraKJHH17JgC/jKD5Xzt+BXni3djnr7kqfxhtUOXvce1P7mOwldTkPDqMVx6ojvPvXzn2JKF/O9/jts4kPc4GTgH7uJs6X6sXKqvbJWEmSs+QqHXMCMhGq4cw5LEFCwpvg7XuyH97Y+fMvOjepy2iH/k9VgRigZCiCGsuyq0Q3Sg3acO9HXsQx9GFqvak6KBEGII664K7RAdaPepA30d+9CHkcWq9qRoIIQYwrqrQjtEB9p96kBfxz70YWSxqj0pGgghhrDuqtAO0YF2nzrQ17EPfRhZrGpPigZCiCGsuyq0Q3Sg3acO9HXsQx9GFqvak6KBEGII664K7RAdaPepA30d+9CHkcWq9qRoIIQYwrqrQjtEB9p96kBfxz70YWSxqj0pGgghhrDuqtAO0YF2nzrQ17EPfRhZrGpPigZCiCGsuyq0Q3Sg3acO9HXsQx9GFqvak6KBEGII664K7RAdaPepA30d+9CHkcWq9qRoIIQYwrqrQjtEB9p96kBfxz70YWSxqj0nRTSwsLCwsLCwsLCwsARXrMiEiwZCCCGEEEJIbEPRQAghhBBCCAkIRQMhhBBCCCEkIBQNhBBCCCGEkIBQNBBCCCGEEEICMuGiwWhGOAsLCwsLCwsLCwuLcbEikyIaCCGxB+uuCu0QHWj3qQN9HfvQh5HFqvakaCCEGMK6q0I7RAfafepAX8c+9GFksao9KRoIIYaw7qrQDtGBdp860NexD30YWaxqT4oGQoghrLsqtEN0oN2nDvR17EMfRhar2pOigRBiCOuuCu0QHWj3qQN9HfvQh5HFqvakaCCEGMK6q0I7RAfafepAX8c+9GFksao9KRoIIYaw7qrQDtGBdp860NexD30YWaxqT4oGQoghrLsqtEN0oN2nDvR17EMfRhar2pOigRBiCOuuCu0QHWj3qQN9HfvQh5HFqvakaCCEGMK6q0I7RAfafepAX8c+9GFksao9KRoIIYaw7qrQDtGBdp860NexD30YWaxqT4oGQoghrLsqtEN0oN2nDvR17EMfRhar2pOigRBiCOuuCu0QHWj3qQN9HfvQh5HFqvakaCCEGMK6q0I7RAfafepAX8c+9GFksao9KRrila6zWCtsL+3vtyw4giaHtj8hPsgYiRqjXTjz30eQX+inFNXiUv+otrNkFP13r6LKVoRFCyMb15Gxg7i+9gYUZmZjplb/EpbtRn51O/qd2i4C58Ad1BR/hMULktQ6mpiJdYUX0OZ1rwFwDqKjsQ7FmzdjVmErxpjB0Y2GQ/uxcmmydvy3sDLvFBq6hrUdQsXqdtcYzy4YRmf9MaxbptlldhqW76jFtWDtHiEcXZdhy8vF3EQtRpbmYuuhy+jULzjUejHufUuC9GFQxwqPSPraOdCJb6vtSH9lC/KbB7WtOrIeNgW2MZ7gdn0d7JVnx5aaNvR41FcjnAN3cbZ0nDrmHMCt2mNIWZGm7jM7GfPSjqDqRj/chw/mWlUcXT+gMC0TCcqxkjBz9Wc4er3P41ga8eDDoV9QV2Xgm8qvcarl4dh79mE8W43ebcQnRnVLL/Y29Msdg/Jh+ETSnpGEoiFecYmGbGSV1hpUMFGCaADJ1CXiddfZhxbbLkyXcTmeYHW0In+BjF9/ZQ/sXSNixye4VLzF+7MIi2F5TLM8bT+N9QuTFKGwu6wW5SUHsVZJUFPxku0GhpSdOlD+eromFE6iwv4P7ExVH24Ja47j6lCAyjrShsIlmtDQykzfpMD5CN8UbEVC4makHziLM42XcaayQjyYU5Cw4jC+eSTt6YNfn8WG3YOyC0bw8LvDWJyYhFlJB1Fy4izKD4gEWv7/+mnceqrt5kkoseyDs78NnyapiYbntTgfXUTeCuGLV4qwr7IRDY2NsCvXkYLFBRfxULo/2HoR1H0H6cOgjmUOeUyzjLQcxe89rnHa7KwxCaezqw6psh6+8hH22r/FN/XnlQQ6YXYKlhRfh7p3F+ypr3kcx6OM52tnF6o2Zog6vAkp+06j9rsfVDEmkv6EV4/h0hPpxCHcsn+IWUqSWSri7SscyH8f86QwSNyJ4lb1KoK7VnfcTFuYi1zRttjtx5Q6PW3hhyhvV1qWuPJhoA7R8e4pGFs5mo+4OnYMS+pZdAbpQzPIc1kRioZ4xVWx9OTKImjXFekGi0SeyNZdB7rrS7B4TipmzhcPr7ASzFH0t57EuoUZWHfohtZD70BPSwPsVQ2o++cRLJcxb7nkVSSl9Qcxb84elN9x9zY6Or9GyvPieucUoap7RDzQfsC2ZW9inf2uu2447sGe+aa4hjeQUv2r/x4s50Ncqvkax2ubUF24Q7nmMXXsYQPS5/wVM7Y3olfbJK/tQe0+zJj9JtJr72vbdAL5LBbsLgjGLqMdKF2bimnP70PNQ72tfIJrNrl/FnIb+7RtOiZi2Xkf59/7G6YveA3Pel3LqPDDJ0KEZCDr/CNli4LYvyZbCMk5n4hr8/fWw6BeBHPfwfowqGOZIxK+dt5vw6nKc6ipr0P+apEIGiWcQuxdPX4G33oIZOfd01jlde+6aAjn2Sl9cR5HGh+566rzHsqTRHzp1yPsWbdrE6an/RMdLiMO45fKvaIe/hXTMy/gV8WHwVzrMG6V7RJCIh0Zov7q53x6/QssmZ2E3xVcVsVFPPlQz22U5D0UgrSVEdIXh/Ixa2E+bK19cAbrQxNEwp4TAUVDvBKsaHD1mGUio7rT1Yg4+1qQ/6rsgTyIWvladehnVBbscQ+bkK/11pTgZPuAVyLj7G9HVdGHHvsJJZ5aisqbt/z03rivz9HzI44W5Hm9is05eg3dkWzZSNBIH0QKx92zSFkoYmHXCexLEXEQcoKpJ0ap7l5XX/SYD/nYgYmIHUQ9u9b4s/pa24WenOgPRnGP11t9hsSMoLNyj3INwT3kA+zf14ycF5Mw/fWzuOeyny4aNiKn/rG2TSVon1nZ7i4C2KXnApJFmzN9cwMeaJskI9ft+KNo535f3Ca+7Sb8WB5GR2URZs3ehG1l5VjjdS2j6K234bnZaVhf2emRcGqi4UUb6vqMRMN49SLI+AnKh6HGYvBE1te+9SoQIv7P7xd290z0zIiGsTgfNmKTqHd654Cyrf9nfHvdR4yO6wOja+1G1dtpY0XlyE8o/vMGTFtyFJe8biEOfKjbKWTREKqtNHTBkLgVed+5xWB4PgyeyNozclA0xCt68PodnlSHuvYn6r6Of6N219+QkLhNVNBeOB2/wJ6ZgWkL96D0hlZhexuR9fybWJl3HOXi+xUlxVjs9cpVVqIbsKWJB9xsfb9alB7Yj7XLMpF1/lf03PwR35YV4RlxXc9s/hLfNrei6WIHekTlcvY0Ybt8bbggBxnFp1Bx4hQKs3Mwc7bHq3kyqUSq7rqGYyw7iLpH99SHQYiNqi5ipy0/hAbD5EkQwQbbkwlrwwYvI/dP3snEWPrQUJAlrmGcNw0uAiUFw+g8d1DU2zQs316h1ONyWzGWLxAJ565vvcZJh+SzmLC7f7voQyLG2Eu7r4S3L4h0QyX8WJbJ/QmsmrNBiI0f8FA7ttc59XZ4wTZk2b4SbfRXKN6+DTMT/4Zt5/5tmOCNXy8oGoxQerRPfIl9ee+pQ0o8n3Wu76fjP1e/pQwPVOe41KCpJ8i5P0rP/hnt+SeHIaZjXdktdRiiIU4MNpbgd+Jcvr3UAa9VH3Y0xm/aPSTuRVWPZ9sSR6JhSTaW63OQRJ3ZNF4HY8i2kggx31yOJYkbML/gMnoDNsD+fRgOkbVn5KBoiFf0iuW3vIa1lV3azgKXUNiFrdtyhIDwVtVwPkZ7h+cEn0c4s13s73qd/hQd9t2igU3Fy6W3xH8eOAbwaEB9oOnjBb0brH40FcqxtdnIa3zsdc6GgmyxfSsKW4wbfzJxyDgxjWscvSZI9QY6pARzCG2luSK2xkmcg0p8QicidvDF9YYvHevtHd71xYWeaAYYWz+GcZICRzfO7NqsfO4qyz7Fcc83hqH6LCbs7t8uxm2SQL8vvUfTRCy75iu8Wo7vZXKvHXvMtXQ3YtvyDR7+ESJj+znc0tpPb4KpFxQNRniPW0/Cc5tr8ZPLxvr35STZYhTba1FSkItZYt9x5xbp+M49efFjHL3t/VbeE5cY9ZyHoBHwWvXzjPGbfg++b0viSDRIISc7P06cRG6SHMLpMT/MiJBtJXh6C7a/pI7TsaMSyIfhEFl7Rg6KhnjFVbGCf8XqCnohBFIqf/HfoDgeoe1iM0o3S9Ggi4/7qNksK24eStv998YYPqD114PzS9Dwm7ZN4zeh3J+dnYylpe0ihSKTifm6qw/H8Oxl0xroUBJMbVjNtD+J+BgM8MAOKvEJnYi3YY5fcb4oD7MW7EBuTYfX6klu5Go+5Vi18A28VPAvP0mjEQGSAm08fcKcXOT/8yf0OEbQ396IwtR0j97LMHwWE3Y3KxpMxLLRm1vt2J7n1N+2Tl9/BNXXH8LhHMDt88ewduEGzEqrRptvshpUvaBoCIjjAS4d/QTzRDLutnEfLtmPIv/T8+6hgs5O2F+Xz8Zg3/jpDKP7Sg0ylonnm9fbDDeOribkJ6UbDvf1wuhap6JoEHlKedERFFX95Go7nZ1nsX6OsEOg5D5kW+lDBseZ7yAI2ochEFl7Rg6KhnhFfwiEIBocXfXYJBs3OSTovSZ0e0T+2LkKetFFgzZecPYHKL/rvykyFg3aa8PnP8OZXs/kyIkBUWnlcKZIN3BkfMzXXb0x9owX7zK+X/UJokn4j8Jr8NGU3sRA8urouoii1AzMSjqCGn8PF0c3vvn0A8xamIf82jt+RIU//CcF6hj9v+KZvGYMaNs865g6pj8Mn8WA3QMmS9r1ew5DkqgdFvr+JmLZ1Rb7KzIxeoBrtm3i70zk1LunqQO9qMvLFNt9J6oHWy8oGsbFeQelf5GTbo0WA9AZRFOhHCYYzr0P43ZZnvJd73kzw+j8rkKIwnSsKmwIrmNgzLVq9+o7tOa3K8idb+TPOPWh681OoP1DtZXeEbpZHNPdYnoThg+DJLL2jBwUDfGK60EVnGhQX5+nYtbrNbjYVIGXEtM9Vqh5LB5cG0VSvxvFF27gjlIx9IeZLhoCDE8S/z1+PKQkSLpoeLbgiseDTju+eGC+VdvtTqSc3ajZIs8xdpImmXjM112D9c6PH8FauWLQ8+8h/3gw62rrceazqowRlk5e5STn08h4JSPgmwNn/08oz87GrLB7rPwnBXLlldVywq/XeNsR/FpdpCSfzwkx0RuOzyxtd50AydJoO2wrk8X9yV5K/RN9yKQedyZi2WBd+f9T+J6yysqM1CP4P5UNuHT/idZ++vRkO39FVeYb4jp828Bg6wVFgxsnhn66jK9969Xwjyj8L9lZpq2UNdSO44d/8P4tBMfPKE2SxxznTcPQHdTV+Qr9QVwq3iq+67maUR+u2fdh0UJ/bxuDvFaRtLaVviv+fxOprutyYrD5c8yX8eW1UpokDnx44wIOnvee4+Nor8YqOd8j4DCiEG012IycF2T99u3M1BjXh+aIrD0jB0VDvOISDWlYtH4X1qa+N7aklaPukagMQ7dQKicwLzuAM3JWsqhc6qt4fZiSNhlTWXv6FCoqa1FSuFudlOUSDaIO9beiaE2q2C8Ta/P/gfLKr2Ar/jveWb8Ry7ThRU5xXevk95buQWHZcexM2wvbjd+0FUmSlO8qa9SfOIW9mZvEQzQJszLPeixrRiaLCam7/l4Rj/yM8nfex9p3TqPNs8139ay9C9tN42FvjvsdaJKT6mu1ZSNfKELp9+L/5p80gWsO83aQD7pqrJPxvfBdZI35waATOHNXrlCm1UPxUFu5vcRnnyP45HyXUoeMbTWsLDTQ1NyCGm1JRddiAy1d6gNNH5OvjwUWyas6EVpel/HQCQU/PrO+3SVB2EUkUvrvNLjGsCvtm+eQFQP82GXk5mm8nvo+Xrf/LI5sjNEbV9ca8r4ToWUb6Hsd49aLYO47WB8GdywzRMTXyrBZee3/0pbrzEB6WbNyf5fvDopa6FASZhn/i9+2YZ9cp9/zOaPMG3IPSZm5+mPxjPLZx8sPv6HNXiyepcUov6l2ganPN/HdFfnYduBL5VlZuu8j5Xca3GPdB9FWtkc8X8Xx1u/Dbp96nv/fjbgzGsy1KqccEzcVZaXqjxR61el48aHewSjasOxylJ44K+73c6TI31rwnWxu0E4GZysVZ/uXeFnWiZWVaBvTnAXjQ23XMImIPScAioZ4xSUaApU9sN+9571ykvZ1V4Khrdwx3PMDdq2Rw4/k90RDlnkY+/PfVRq15Gr3S31lGJNLUMiSjLmr87GjtlNNeFyJi/bZ+s9Q2qIuWzbur6GSSUX6IOL4Ew3jbff7xszdcza2BPlqexzkscwR6Bpl0a5znDrrSjANbaX3zI39ntd+jvtoOnrA/Wu1Sl0+5n+olMTwfLFgd0mQdlF+3bXc5xehx1ktx0/M+p0j4YG/fRw913DYow2ctiAbKcUNY99MjVsvgrnvYH0YpA1NII9lmgD1x2VnZZ5IJbau11dFEmWMjYfR3fxP5Go/rKjuI5LM0ibc9vKDPmTJ01ajY37FeWwdC2BPWXSbBnWtEnnOBuz1+ZXjw833PWIrjnwo2zB7ibYqlfxMFfu283e9xY9h/QzGVip6HTVe2jVIH5pAHseKUDQQQgxh3VWhHaID7T51oK9jH/owsljVnhQNhBBDWHdVaIfoQLtPHejr2Ic+jCxWtSdFAyHEENZdFdohOtDuUwf6OvahDyOLVe1J0UAIMYR1V4V2iA60+9SBvo596MPIYlV7UjQQQgxh3VWhHaID7T51oK9jH/owsljVnhQNhBBDWHdVaIfoQLtPHejr2Ic+jCxWtSdFAyHEENZdFdohOtDuUwf6OvahDyOLVe1J0UAIMYR1V4V2iA60+9SBvo596MPIYlV7UjQQQgxh3VWhHaID7T51oK9jH/owsljVnhQNhBBDWHdVaIfoQLtPHejr2Ic+jCxWtSdFAyHEENZdFdohOtDuUwf6OvahDyOLVe05KaKBhYWFhYWFhYWFhSW4YkX4poEQYgjrrgrtEB1o96kDfR370IeRxar2pGgghBjCuqtCO0QH2n3qQF/HPvRhZLGqPSkaCCGGsO6q0A7RgXafOtDXsQ99GFmsak+KBkKIIay7KrRDdKDdpw70dexDH0YWq9qTooEQYgjrrgrtEB1o96kDfR370IeRxar2pGgghBjCuqtCO0QH2n3qQF/HPvRhZLGqPSkaCCGGsO6q0A7RgXafOtDXsQ99GFmsak+KBkKIIay7KrRDdKDdpw70dexDH0YWq9qTooEQYgjrrgrtEB1o96kDfR370IeRxar2pGgghBjCuqtCO0QH2n3qQF/HPvRhZLGqPSkaCCGGsO6q0A7RgXafOtDXsQ99GFmsak+KBkKIIay7KrRDdKDdpw70dexDH0YWq9qTooEQYgjrrgrtEB1o96kDfR370IeRxar2pGgghBjCuqtCO0QH2n3qQF/HPvRhZLGqPSkaJoVBNBVmKbaYWdgKh7ZV4ui6hE83b8FM8dm02Un4fXEbRrTPooHzfguKUjOxeNe36PS80CmNf/9Fn1H0t57Euhe3Iqe6A/1ObXMEYN1VoR2iA+0+daCvYx/6MLJY1Z4xIBpG0Fm5RzlOcOU1rK3s0r5rFfwknU9vwfaXVCQs243dZbWwn6jG3893iTQwSjztQPnr6UhYcxxXhyKYfcY8VhYNEge6zx/AvMS/YXv9fUTKc/J+o8ZoF8789xHkF/opRbW41O9ZU4R4unsVVbYiLFp4BE0RdFJU7SDvq70BhZnZWsfCX5X2Ir+63VsgOgdwq/YYUlakKftMm52MeWlHUHWjP8h4mDj7hUt07W6WIOzp+BXni3eLeqs9uxZsw6Yvfoqo8I8VYsfX4/hV1MPb5yuxdf1bSNDq4dz1+2Fr7LbgcyOyTLoPnYPoaKxD8ebNmDXmuezEUPtFHK88C/uY0oBL98fzxjA6649h3bJktW7OTsPyHbW45vXMmVisWidiQDSIStpS65M0/B3pq19Tjj19dRE+8PrsKMpb+rTvWpuR63b8cXYKXi67E7FEL3yG8FPZB5g+ewvym/u1bSRmcHbC/rpIGF/cjzMPI/OuKuKNlrMPLbZdIsZkgjROYupoRf4CLZkyLHtg75L3+QSXird4fzbesUNEHjNaPG0/jfULk1wdC+UlB7FWeZCl4iXbDVFrJUO4Zf8QsxShUIqSE1/hQP77ajKauBPFrYPKXsZMvP3CJZp2D58g7el8hG8KtorE8k2sKjiJisqvsE8kPwmz07He3oGn2m5uxHOw9QRWzZHHzBJtdCCfxh7W93UwfnWgs/pjUQ9TsCizDOXnLqKu2o70V1JEPdyOwisGz9VQ2kSLM2k+HGlD4ZIkL1+M7cwL1Nk8Xv0ZwcPvDmNxYhJmJR0U7elZlB8QIlH+//pp3BpbOScEea1WJEaHJ1m95zc4HM1HMNMqb0b6mpHzokhO1n6JW75iuuss1sa4rS1NROzrxGBjCX4nksmXS28ZJB2hE9m660B3fQkWz0nFzPmiwQ/rASkTp5NYtzAD6w7d0HpkHehpaYC9qgF1/zyC5eKaI/3wjV7jLR5e9Qcxb84elN8Z1raJO+78GinPi/ucU4SqbiGcnA9Rt2sTpqf9Ex2u+x7GL5V7MUNc+/TMC/jVb6/ExNsvXKz60AxMcPYcbf8SrwhRNyO7AQ903zy9ieJXhSD8UwkaBr0d5uxpwvYVr2HmApGAUjREgeD86uy/iWPHruKhy30O3LF/oNzf2PY9Em2idZg0H4r27lLN1zhe24Tqwh1+bKuLhjDyq9EOlK5NxbTn96HG1QH3BNds8lxZyG2cnE5pq9aJ+BQNriTsW1ytKsGqpaIhTj2LTvmZoxvf2IqweIGqVBOW5iG3+o7WYyeSkuu1yHG9WhQl8S2sfK8ed8Z7K+XsR1t1mcfwADmM4H3kfvmzOPYIuqv3imOmIbm6W+xsrIKVe/F77YNo+/Iwkj2OP23BDuTWeIxjd/bh2hc2rJTf0fZJWJqL7bWd4s4CMYoHtZ9g+uxkLC1t99i3C/ZU9Y2Od9F7ebXPF5SgtvUccpOk3eRnw6778/SPKpLE93VfuI6/E7vLPne/CkzciJQyPSlUcfa3o6roQ5fflOEXqaWovCkfnk4M3axD3tvuIRzydeJLBf/CrQH9bnSbp+J/Fp5AYVqm5mPZO3sM525cw9G8XMzVhgrInt2i7/ShPr7+U/Gej5KMuUklqGp/on0a4HyZ1biqvOYcz77iHD0/4mhBnvu6hD9zjl5Dt9HDpbcRWTKZ/LMd1/S2zgTyfJHCcfcsUhaKe991AvtSZMyE+oDUBUMqFhdc9Hgoe6DVnUg/fCNph5CRdbrxZ3j3Uepx404enf0/49vrPg+zUO0xQfYLl6jaPRL4tafenryJ9Nr72jbJkEhMton73oLCFr0dETh+gT0zA9OW7Ufpgfe9/B4vxJSvQ6knzgc4syNT3N8bSKn+1WtEgfk20VpMvg/deVRERUPPBSSL5+30zULQa5sk6siQyZt3atU6EdeiQX6uJHNrPsK2ijaRhN7H+ff+piR/y7dXoLzyKxRv34aZidtEI9wL55NryF++AdPXl+JE/VV8X/8vHC7+GMs3VOO2UZKiIx7sVw/lY5YIqFnr9+OA/SwqyiqQk5qJZ7Y3otcggB33O/BdWRGeEdf4zOYv8W1zKy7fHYTT37XjEc5sf8t1fPuJ48ha4fna04nB5s8xX9zbyoKzqGu+irp/1qAwewdWjzv8qRd1ebJh2yhUtGd6Moyemz/iW5/rbLrYgR7F6N5Jb8LS7Xhj12lc6n9qWJn9iwaxbWEucstqhd0OYtVCKQy2igennhDdgC0tXWx7Eyvzjgu/1YqH536sXZaJrPOPxB6j6D3/GWYs3Imckq9gF58f2L5F+DkFS4qvi2iRuBsYeRxlSMCJk0LovKltS8GizceUY5cU5Apfim2u5Hus/9SeP2H/BduQZRPntFcga3UaEl4tx/d9UhAEOt8G/KH4R2HdwPZ1nyMHGcWnxPdPCX/mCBumGCfOznsoT0oVx89Dabu7Zzpc5LVHAmd/Gz5NEmJ32UHUPbqn+jzEB6SzrwX5rwpbLD+EBsW+BkxQ0hspO0SMwcvI/ZOoI/qbBkP0N0/jvWnwYILsFy6Ws3uo+LWnPtTFN/nX2wyPzgnX8JVN2FbfrX1O0RBVxq0n6lsJPQdIkHlBWjXaPOYJRqJNtBqT70P3M9a/aNiA3/+vLdq8oSTMXP0ZDjffH5szejDSchS/Nzqm5veEty/A3XU4cVi1TsS5aMhERnWn9rmeVG8Qyv4Hd8IlhERNdrqqKnWFqYiGVrTdDy7xct49jdXiewl/qUSb17iQp3j8eEiceWzSKdGTaK97MLx2iQP3f/63R++7liiLfWdowkTvDVdFg57YB8E4yabhdSroSX8Snsu+gHuuD40rs3/R8BpW23/RhE0/Ggo2KttUWz1Fh323uC+DYTeOATzS3iQ473ei3XOSkt7r/vxnONPrncQnbDiNDs2Ov4nE6ll5TZ5DAn67gtz50gd6j7+v//pF/MmHvnyQP3QJMufDBmQ8r/cejnM+lw382Vc/RzbyGh+7zgHnY2GfbLHdLarc6LbzFX/hEZG6q4/d1oW57vOQHpBDaCvNFTEwtrfOi3Ef5uERETtEClcS6W/su4orKVn4Icrb1feo4zJB9gsXS9k9HPzaU39++RMNejujj61OwZKiFvQ69c8pGqLKuPXEnZ+oJRPpX3gsXBCRNtF6TL4P3c/YsbmJ+zO9Y8/VITnOPC+/+Y7ud49n90Qy+fYMjvgWDStFEu/KI/VXv3pF9imywj7tQtXGDI/tQpmuseF4wBVI9KE9gSY0+z4MVAKKBq9r98W7h1oPYmdXHVKVXnr9+tPw0q5zaBtvxr9r0ql7WIwn44uGd2G76Sk2jCuzf9Hg+RDUfavbSoi6zbJ3Pvjec/kWp+n7L5H+guc9BXtNgjH28PHfyE8o/vMG5VhGRT1+8OcztK9+jvlCzPymbdNQhYfvUDKJr+3MIa/dHMPoqCzCLJHgriu7pQ0BDOMBqc23MRrr7cW4D/PwMG+HCCFX2ynKwyzfYYk+OLqakJ+ULtquEpxsHwjQdvkwQfYLF8vYPVz82jM40aAOX9ng0Uutf07REFVCqCeOnus4nP2OuD+9DYxQm2hBJt+Hxs9YFX0BHTuOX+/T2kAH7lV+qEw6D/T21W++o/udomFimZgbD1I0eDlXfyW8GTmVl9Ekh4F4lpYu9SHs6EZDWQneWJMB17yGF22o8zckQgSu2sOfilX2e5ETDb6BaTBnwlU8E9CuKygt2IuXXPMakvBcXjN6tc8NMS0afL8XbMIcjGjoRtXb8p4/QPndMZ7WEA3EjQvI91iW0l0mQjRoqzcs3w/7Dz5xJIoyzCyE8xnaVz+H602JjhMD9TZFLI71h9VEg+5f3Rdjy9h78EUX5Un4j8Jr8NFP3oTwMA8FeZ3RxtF1EUWpGZiVdAQ1foXAMDq/q8DahelYVdjgMZ8nSCbIfuFiBbubwq899bbBe46U+02hbA/7XO2H3xLjSaYn8n5ihhDribP9S7ws95/zCWoeakORdB8alPHbRGsir31yMX7GBsL1/A3kO82/vsOQ9FECk+WfybdncEwh0eBeXealT1uNe+mcj9He4fFWwdGDuoKt4jyBe3b8D08Sh3jchwHXa+VwRcMoekWi+NzsN7DO9h0uKUmpO3nU9/UdouPo+QF5K4R4GK9xcw1PMk7M9et8tuCKT9IWmmgYOzQnGNEQYHiS+E8Z/qX1RM9Is+NrXfwNim0viHNNhGhAn3i4i2tMfBdFV/ReDF+CP5+xfR+jLk8mEJl4q7bbfQ5nN2q2qPNPcuofaxt1rDY86Qlu19d5r5F9/AjWKsPG3kP+8a9xqsU9vMsYfb5NhjZ/JQAhPsyDxbwdzCAXZziNjFcyfCb2+yAnTNv3YdHCwG8hAjJB9guX6No9AgSw5+jNSiwVn83Y6NHjqc2pUzsKRgzWma9Bfuobwi5vYG1hDew1begJx88WJKZ87devg7hRf3lMHR1uOYY/yP2VN6WDEWgTrcnk+9D4GasyiLaqr3C2y3N0wm+4Vfa+0hkccJ7XaDtsK0Xe9LycM6YfVR8uHMRzKEJYtU5MIdEgcPwbtbu0idDZ5Sg9ISqs/QTyN+dgptxXmdMgPtt8GDY52dh+HDnr3xxnwqFAPLAvffquOK5c0ecgDtjPoLz0KHK37cTcVXKYkW/SqRK8aNAFj1z/+XPluivKSt2rDSn7am88FuQgvfAEykVjVF6yHysXJgUxEdLfRGgVOTl7nZxItHQPCsuOY2faXthuyPTWn2jQe4fFQ1Em8s3X0HCuxj3p2HVvwYgGcf7+VhStEaImMRNr8/+hTGC3Ff8d76zfiGVyiI42MTThlY+wV/mRvJPY7VqtaCJEg9il61ts85ykLO1dehjpq8U1KvsEfz5/9lWHJyQp972uUE6kPoW9mZvEfSVhVuZZj+U1NSw6EdoL3ba+D9yRn1H+zvtY+85ptHmGkvMOSv8i7DxmCJwbZTiafMtTqy2F+EIRSr+Xb31+wp1Qe9sNmBA7BIUTQzeqsU7GwMJ3keX1ezSynMCZu9Im4gFZtkdbiGEfdvvu99+N2upvv6HNXoy1qcUov+mWpxNtv3CJnt3NEZQ9Xb/ToC3K4WqzPIet+KK3jT6dWP7qTgwRC74e169O8TxLSxNtWzaSd1Voz+nPkSJ/pyHQHKRQ20SLMnk+VIdnNzW3oEZbctW1iIjeaagPaXU9n2tRuu8jLJLP2YV7UHpDrz9GbaL7dxpmri5Gsb0WJYXyRxjHTmifSKxaJ6aWaJA47qPp6AGfZUl3IqusDX2Pb8JeWOQxtEd8tmw3Cut/HXsOX5ThQ0c8fkFQHjcHG96Xy7WaFQ0C533U7dmhJpxyrsWKD5FfYsP/lG84lNdoI3jUek4IoO2u5TmV5T3TjuG8l9o2wt+SqxquB5x6zLnrP0Op8gN6/kSD/MpF5MmkWr/eV95HTuEnWO66XklwokGiLLmqVFz3vc1dnY8dynKycr3rI3hJX45VNNopRRXYuU4cO3Evqno8E//IiAaJo+caDnss0+ptmxDO59e+Yv+uy7B5LgW7NBdbD11Gp1FAWnjJVRf+HpDjbTeIMRW3nceWwG8Ig0UeKzoEujdZ9PvT65HRPqK4bGqUdE68/cJFXkPsEbw9nQN3ULPP5xeh/S2nrOBHNPirOzGEvH9rE5xfnQN3cbZ0v0d+IZ/VH6Gw9o7/t3+htokWRd7v5BCgvfOwlaOnFeUF2o9cKp9LgV6Js17DO/3UKeUX9st9fhG6Bk095jvjgkWe14rEqGggkcb5sBGb/P24G4kB9CFsqXilrGOs8AsD1l0V2iE60O5TB/o69qEPI4tV7UnRQDT0ZS23CMVtfjw8mWScnbC/rq/7HYHXDALWXRXaITrQ7lMH+jr2oQ8ji1XtSdFA3AzdQmlaOhLWHMfVSRq3RyKBA7/WFuO5xK3I++5RxCbRse6q0A7RgXafOtDXsQ99GFmsak+KBuKFo6cFn6ZlYvGub43HzROLMYr+1pNY9+JWbDv3b/fcmAjAuqtCO0QH2n3qQF/HPvRhZLGqPSkaCCGGsO6q0A7RgXafOtDXsQ99GFmsak+KBkKIIay7KrRDdKDdpw70dexDH0YWq9qTooEQYgjrrgrtEB1o96kDfR370IeRxar2pGgghBjCuqtCO0QH2n3qQF/HPvRhZLGqPSkaCCGGsO6q0A7RgXafOtDXsQ99GFmsak+KBkKIIay7KrRDdKDdpw70dexDH0YWq9qTooEQYgjrrgrtEB1o96kDfR370IeRxar2nBTRwMLCwsLCwsLCwsISXLEifNNACDGEdVeFdogOtPvUgb6OfejDyGJVe1I0EEIMYd1VoR2iA+0+daCvYx/6MLJY1Z4UDYQQQ1h3VWiH6EC7Tx3o69iHPowsVrUnRQMhxBDWXRXaITrQ7lMH+jr2oQ8ji1XtSdFACDGEdVeFdogOtPvUgb6OfejDyGJVe1I0EEIMYd1VoR2iA+0+daCvYx/6MLJY1Z4UDYQQQ1h3VWiH6EC7Tx3o69iHPowsVrUnRQMhxBDWXRXaITrQ7lMH+jr2oQ8ji1XtSdFACDGEdVeFdogOtPvUgb6OfejDyGJVe1I0EEIMYd1VoR2iA+0+daCvYx/6MLJY1Z4UDYQQQ1h3VWiH6EC7Tx3o69iHPowsVrUnRQMhxBDWXRXaITrQ7lMH+jr2oQ8ji1XtSdFACDGEdVeFdogOtPvUgb6OfejDyGJVe1I0EEIMYd1VoR2iA+0+daCvYx/6MLJY1Z4UDTGCo/kIZgpbTltwBE0ObaPE0Y1vbEVYvCBJsfW0JUdxaUT7LBo4H+D7zz7AcysOorZrWNsYYbrOYq2819Sz6NQ2TTgTdU5nH64eyhf2sqGqfQBObbMVYN1VoR2iA+0+daCvYx/6MLJY1Z5TQzToCV+wZTKT0SAxFg1DaCvNRUJiJtYVnkRFZS1KjzThzqj28aQzhFv2DzErcSeKWwe1bRNAPIkGibMHZ97NQsKKEpzv8VSE0UXWhagx2oUz/30E+YV+SlEtLvV7Bvoo+u9eRZUQ0IsW+ghrk0TVDvK+2htQmJmt1n9REpbtRn51O/o9FaZzALdqjyFlRZrWjiVjXtoRVN3oH1eIOgfuoKb4I3fHg9KeXECbl30nn+ja3SxBxKPjV5wv3o15iapfpy3Yhk1f/OTh1ye4XV8He+XZsaWmDT1W6mEwSez4ehy/inp4+3wltq5/CwlaPZy7fj9sjd1wP7Z/QV2VgU8rv8aploeW6jgKhUn3oXMQHY11KN68GbMKW932VXBiqP0ijo+xsSwNuHQ/mAfExD1TgsGqdWJqiIb+NpQXeScdH2zeiumyUs/ZivS93p/l29vQr33V0oz8hOI/b8C0v3yJ2xZoaZ7ersbqORswv/AaJlAyxJ9oEDg7z2L9nCQ8t6MRDyzy1Ih43XX2ocW2S613vm/MfHG0In+BfOj6K3tg75Kv1J7gUvEW78/GO3aIyGNGi6ftp7F+YZIiFHaX1aK85CDWLksW15SKl2w3hEyXaGJdEQqlKDnxFQ7kv68mo+MJ+KcdKH89XRMKJ1Fh/wd2pmYqCU/CmuO4OhS9YIym3cMnyHh0PsI3BVuFnd/EqgLZ4fMV9onkJ2F2OtbbO/BU2akL9tTXvI8V6JgxjLwnaxOMXx3orP5Y1MMULMosQ/m5i6irtiP9lRRRv7aj8IqWVQToxJw5JvmNHeT1TwojbShconVw+LXbCDor93jt4y5ZyG8OlKFM/DMlGOR5rciUHZ7kd7hPLKEnVpZ4M/IYdXkbReO4C6XtEzQsSScORQPQh4aCLGG/XNhuqKlgtIls3XWgu74Ei+ekYuZ80eCHVe9G0d96EusWZmDdoRtaj6wDPS0NsFc1oO6fR7B8Aup09NqwETysP4h5c/ag/I67Tjk6v0bK8+I+5xShqlsIJ+dD1O3ahOlp/0SH676H8UvlXswQ1z498wJ+9ZP7Ox/9gG3L3sQ6+133Q9dxD/bMN8V9v4GU6l+j1vNp1WdHYIKLx9H2L/GKEHUzshvcnQRPb6L4VSEI/1SChkG5URcNukCOX6zv6+D86uy/iWPHruKhq9I4cMf+gXJ/rsQ2Gs+vSWDSfCjau0s1X+N4bROqC3d429aFLhpew9rKLm1bsEz8MyUYrFonKBoMg0FrrBeUoLb1HHKT5KtGveEeRud3J5CuDwNIfAurCi7gltYj5+z/CUfzcjFXf+WsvJ4sQc3d8RJpkRDduIB8j2EIsvdvbUEd2uSxey4gWRwz4e0L6Ja7G/VWKPfi79odGLpZh7y3PY4/Ow0vFfwLtwb0YQjiGq7XIsf1alUUcX8r36sff8jTwwakzxH7r6xEm9e+euXNwu5zLThekCds467Ijq5L+HTzFu2ahK2SSlDV/kT5TMHnFX7C0lxsLdiLRXJ/z0bX8QCXvvg7Vi2VvbDadefVoKlHt7t+Han4n4UnUJim9qYqwzgyq3HVcyhG0Of0nk+SsDQPudV3tN5fyTC6r9RqPlDPNXf9ARxuvu/TwElG0Xv+M5HkbcAfbT+Jq40+8p4ihePuWaQsFLbedQL7UmR8htoI64IhFYsLLno8lD3Q60SEG/hI2iFknH241vizz5tPPZl095g5+3/Gt9f7lL9dBGUPWedbcc1rKJK7ly6aPZ9RtXsk8Gv/EXRX7xVtwptIr72vbZMM4Zptm7jvLShskW0gRYMlCaWdcT7AmR2Z4v48BLj+fYoGkwRqp8yIBg8m6JkSDFatExQNhsGgN9bic1ESlm7HG7tO41K/SAJlb2liEmauLkax/QzKbcVYviAVS4pa0OvsR1PhFkybsxN5p5rxfXMzqo+WI2P1nnF63/WESCSfC3cip+Qr2E98iX1572HeC5/hTK94oPs2NI5HaGv6EukviG0vFKH0+1Y0tXSh3+nv2h1qUqofv7IWB7ZvEQ+uFCwpvq4OJ3pyDfnLN2D6+lKcqL+K7+v/hcPFH2P5hupxhj85MVBvwzPifM8WXMFv2lYVd8VWSmIGXsr6O8pa+uDsacL2FSnCB9uQZRPXZK9A1uo0JLxaju/7ZBIzjA77HnU4i37dHsMnXLZw3sf59/4mtqVheXY5Sk/UolRet0jmE1YcxjeP5APX8zq0IQEnToqEXvaobsAfin8UZ5OEcc7tFSiv/ArF27dhZuI2kcj1CotoPetKrHyMwrJaVJTJWBBiM3Er8r57NKYH13n3NFbJc1hkuJm0VSRw9rfh0yRx38sOou7RPU3UhtYIO/takP+qiJXlh9CgxIYBE9TAR8oOEWPwMnL/JNoK/U2DIU4MNpbgd+LaA71pMEZ768U3DebwG4/68AffYRJ6G5WG5GrZNaS35en4z9V6x4Nob3Z4dobEBzHl63HbGbWnuqKsAjnKcyMJs9Kq1c4/if79JdlYrgw1lMfahk1Hr6E7gu3WZDP5PgxGNGzA7//XFq0DUD6LP/PTaeeHCXqmBINV6wRFg2Ew6I11Ep7LvoB7+udaUq0mP/rDegQPavdhxpxPUPOwC1Vvi+RIEw1NNx8FF5zOX1C+QZzPYGiK43EfBmRbowevV0+3NjzJ6x78XLvAeb8T7Z49ir2NyJLDHJ7XhIn2NkMVDa1oux/sg0l/BZuCl8vu+CQZHsn6i/tQ1akfUxNYszdhW7178pfzYQMyntd64PQ5Gz52cSXXii1EctT8OeaLxmF+wWUh3LSdZM994yFluyoI3NeRsOE0OrT9fhOJ1bOedg3xnPN2/eDu9RZCoiY7HdM3N+CBHis+Sa6z7zLy5Pb/OoZLvub97Qpy54tzzC9Bg7fyigoRqbv62G2XmNLiM6RGWJvwP14SO0ENvKXaMNe8EM+x72NxCbWFH6K8PZThbrID4wRWzRGJzuunccvfCSYBqz47gsZvPA6Ktk+KMn+iQe8ddbflaidVLUoKcjFLHDPa800iTUz5etx2Rvev2EcpmUj/wmPhAv37eoeTq/PKc55S7DH5PgxGNEg/qZ2SFWUHsUp2zIayUMsEPVOCYfLtGRwUDYbBoDfW78J2053ZjVy344/yO4ZFPgB6tYlQHtsX7MC2qtveK534og/tCdTDrAdv0KLB+9p9cdzvQNP32psK/fW3U4iejRnua5cPqzU2HB93BRa9kTR6FahX3mQsLW0XKYmGnpy7zuVdlEZAEzFj7OJlC/2V/kbkNvpMX9eTcGXIlHED44oD3a4hnVP8b1SEP75tUWNl7JuXfjQUbBT7GfjHNfnXGsMR5L2YYxgdlUWiPqRjXdkt7WEYhmjoa0bOi6Kxd4319sMENfDm7RAh5LC5ojzMEm1Kbk2H3zbF0dWE/KR0UXdLcDKkZXyH0VlfLh6sb/gMW4wOlrF7uPiNx2BFQx8u2Y8i/9Pz7uFjzk7YX5dDY6P7FijSxJSvQ2hnHD3XcTj7HXF/Hm2gtjBLUZV7pSx1IQxxzIBvD63N5PswkGgYRX9LLfIL7Th+vU+rJw7cq/xQGUUQ9NvXCXqmBINV6wRFg2Ew6Im3d/I20nIUv5c92nln0Njciiav8hPuKA9Z8eBtrEFu1naPeQ0bkVP/WD2IEXqimnQad/wFslfSqhFQNPgmnqIS+c6ZcBWPfR3daCgrwRtrMrTX4aK8aEOdvyEhCsGIBp/P9BUQlu+H/QdfW7bi8t1BOINK4PVX/RnIOv9I20FjUCSbL4j9FPtEUjTo59yMnMrLY65dDhN7fEXGyl8xY3sjerVDqPSiLk+OcfVNGARxJxr0WJT3ZFzGNva+jOJB7SeioU/CfxRe8xFgPkxQAy+vM9o4ui6iKDUDs5KOoMavEJDzrSqwdmE6VhU2hJb0y/k5n36AWQvzkF97J3AnxyRhBbubwm886m2RPgxJR+9QMGgbXLh7scevO7FDTPk6xHbG2f4lXpb7K6MR/NRJV9sfyPfWZvJ9GEg0GBM47zNggp4pwWDVOkHRYBgMfhJvbSxxwpoKnzXidRy4//O/PR64cg7EISwW5wkY1AGGJ8ExgEfy4e+VtGqEIhq03toZaXZ8rcx9ENv0pFrf1/kY7R0ebxUcPagr2Co+H68h04cnpWKV/Z5PQuNHNLhWC3oXRVf0ngAfRtthW5ksGlvv1WOeXv8CS1y2GEVvvQ3PyeFYW+o9eg8c+LW2WN2e1yxS9SBFQ1Dn1MeLp+KlT1uNEyy9d/zFYtR4DFR1dtfjLWW7gRCLu+FJBuvMHz+CtcqQuPeQfzyYdcl1kWUgCn2JS9EgJyqfRsYrGYF7/+WEafs+LFoY+C2EEXLxhvLsbMwK+c3ExGLVZ0fQBIjH0ZuVWCo+m7HRo8dTH9KoDxcdasfxwz+g0/O7jp9RmiTbd75piBp+/TqIG/WXx9TR4ZZj+IPcX3lTOoqhGxdw8Py/vfIBR3s1VsnOKr5pCIFAomEQbVVf4azXD8z+hltl7yudoXzTED4UDYbB4K+3fhid5w56TW61V34FW2ERli+Q+3ai6u03xGdFyC+Vk42/woG8nZg1bgMvEoMrFXhJNBoJy97HTmXybSUKCz7ByqVCSMhhLGZFgy54XvkIe+V1nziJ3a4VhLR9lV72NCzffBg2u0jw7MeRs/7NIBqyYCZCj30L4ej6FtuUidA5yCg+hQqRVJaXHkb66kxtX33da2EX7boryj5Hilz32tMWjl9gz5TDqvR16mtRuu8jLJKN8MIi2JWVq4IUDUGf89+o3eU5+Vra6wTyN+dgprKPPjRH+lRdY999nAykVP7i08gJK8bpRGgvDGNWMPIzyt95H2vfOY02z1Bz3kHpX6TN/A+3U4bayTc8tdryePrCAK63f+aIXhvmFAlGtbZAwrvI8vwtGaWcwBkltsUDsmyPiLUkzFq/D7t99/vvRm31s9/QZi/G2tRilN/UaunQLZSmpYt7fBMrt5d4f0+UT853idYpOkTP7uYIKh5dv9PgHteutsf6MBZ3Z4jrWXPiFPZmbhL7+Eys9Vd3YohY8PW4fpWLkKSlibYtG8m7KpRngrvN1+cgaUuTezw3PPdxD+MUxJhfJ8+Hw+i5+aOwewtqtCVXn9n8Jb7V3vIrHSZ6p50rt/DMCfag9IbeCWrQJgom+pkSDFatExQNIYkGyTC6m2vGLku6vQaX+h/hauXnSF/jMbRH/mhSsU9vkSHa8CFXIi+/m4Hl6YfU5VrNigaRonbXH8FL+q++ioYtpagCO9eJfRP3oqpnBM7HN2EXAuglfdlSUWTCW1j/65gEdwzjLrlqNHRJXFXPNRwes0TtZyht0ZaP9Fr+VD5AP0FxWQlWSoGlLz8rkcOqDu0XIstzydVTaHD1NAQrGgRBn/M+mo4ecJ9TlISlO5FVpv84oByqdirwr4O6iO8lV134Ew3jbTesixK3X8eWyLzql8eKDoHuTRb9/vQ6b7SPKC6bGoyl19sVP2VsD97kIc8fewQfj8ovce/z+UVorxV05LPmn8jVV27T9skqbcJtz8TFX92JIeS9WZvg/OocuIuzpR7PIfn8WPERCj2H/Mnnhr1E+5FGbZ/VxbCdv+v9hjDG/CrvZXII0N552MrR04ryAu1HLpXPpUCvxFmvt6lG84sm/pkSDPJ8VmTKigYSYfT1qCfjx93ikkn8cbwgYd1VoR2iA+0+daCvYx/6MLJY1Z4UDSRiPL1RiZcTN2B+4TWh30koqKtn+CzhGmVYd1Voh+hAu08d6OvYhz6MLFa1J0UDiSDa2OpQ1kEmQjF0o2ZLpscP0VkD1l0V2iE60O5TB/o69qEPI4tV7UnRQCKL4z6+t+3GcysOotZr5QJiiLMPVw/lW9JerLsqtEN0oN2nDvR17EMfRhar2pOigRBiCOuuCu0QHWj3qQN9HfvQh5HFqvakaCCEGMK6q0I7RAfafepAX8c+9GFksao9KRoIIYaw7qrQDtGBdp860NexD30YWaxqT4oGQoghrLsqtEN0oN2nDvR17EMfRhar2pOigRBiCOuuCu0QHWj3qQN9HfvQh5HFqvakaCCEGMK6q0I7RAfafepAX8c+9GFksao9KRoIIYaw7qrQDtGBdp860NexD30YWaxqz0kRDSwsLCwsLCwsLCwswRUrMuGigRBCCCGEEBLbUDQQQgghhBBCAkLRQAghhBBCCAkIRQMhhBBCCCEkIBQNhBBCCCGEkIBQNBBiEqNVD1hYWFhYWEIthFgZigZCTMKGnoQKYya+oX9JODBuiNWhaCDEJGzoSagwZuIb+peEA+OGWB2KBkJMwoaehApjJr6hf0k4MG6I1aFoIMQkbOhJqDBm4hv6l4QD44ZYHYoGQkzChp6ECmMmvqF/STgwbojVoWggxCRs6EmoMGbiG/qXhAPjhlgdigZCTMKGnoQKYya+oX9JODBuiNWhaCDEJGzoSagwZuIb+peEA+OGWB2KBkJMwoaehApjJr6hf0k4MG6I1aFoIMQkbOhJqDBm4hv6l4QD44ZYHYoGQkzChp6ECmMmvqF/STgwbojVoWggxCRs6EmoMGbiG/qXhAPjhlgdigZCTMKGnoQKYya+oX9JODBuiNWhaCDEJGzoSagwZuIb+peEA+OGWB2KBkJMwoaehIrVYsbR9QOKMrMxU1zXtNkbkdvYr30iGcIt+0eYn/YPfN8zrG2zBs7+G7ClZWJx3gXcGhjVtkafKd0mdJ3FWiWOxpaEpTuR9em/0NYfiq9G0Fm5R3z/Nayt7NK2mcPRfESN9QVH0OTQNloAaSNCrAxFAyEmYUNPQsVKMePsacL2FZlYZ2tGx8AQeq7fwG1XUjeK3uZyLHmxCPa7kREMo3cb8UnhEeT7K/Y2eEoW50Anvq22I/2VLchvHtS2unH2fIfNy17D4vea0O3UNkaZiPg3QPLtKhZLehVc170D+bUtaGpuVcr39f9CaUEuZonPElaU4HxPsBdO0UCIVaBoIMQkbOhJqFgnZobRVvoupr1gQ92gQcb99BZsf3kTL5fewlNtky/O/jZ8mpSm3NPMwlaMl4O5EjZ/JfUsOsV+Iy1H8Xuvz7IMRYM4Iu5VfojpszOx6fwDWEE3yOs1jSv5zkZWaS3slWfHlpo29FhEKLlwXfce2LtGtI06QyLecpEwewP+UPyjiL5giLxosCoRiRtCJhCKBkJMwoaehIplYsbZBXtaGhLevoBubZObUfTW2/Bc4m6U3/UjGZz3cf69v2H6gtfwrLinYESDIc4+XD2Uj1kL82Fr7VMSf+f9NpyqPIea+jrkr04RNvMnGgSDl5H7pyQk/KUSbf7UzSQSWdFglHxbmHGu2yUaNXE4PuGKBv17AeLGYvBZQqwORQMhJmFDT0LFCjEzct2OPyrJnV7SkFztKR16UZeXiWl/+RK3DXuzh9FRWYRZszdhW1k51ohjhCUadMGQuBV53z0yeFMghE3qa+L6AiV/j3Bme4bYZxuKrw9p26JHRPwbkmjQbLSgBLWt55Cb9BYSlO8NuxLn3edacLwgD3MT3cm3o+dHHFW2qTGQsDQXOUevoVt3onYNMwu/xdWqEqxamjx+sh/oup2P0VCQLT7zftPg6LqETzdv0d5AJWNuUgmq2p9onxqIhqGfUVmwB4sXJCnXPW12EmauKcHJ9gE1flzX4FP0a++5gGRxz6pY7hPXlCU+34rCFs/4Gsatsl3CjlnIbexTtoxrL5PIYxJiZSgaCDEJG3oSKlaJmdGblVg6+02k197Xtngw8hOK/7wBzxZcwW/aJjej6G89gVVzNmDerh/w0JVchioatDkTiRswv+Ayeg3FSTCiwYE79g/EPil4uexO1IcoRcS/rsTX3/CkOtS5EmvdRnoyux1v7DqNS/1PtYRbS5oTM/BS1t9R1tKnzWVJEUIjBxnFp1Bx4hQKs3NE4p6CxQUX8VAa0Sv5Fsn8mo+wrcJ7zskY/Fx3RVkFclIzRRIuru/Vcnzfp86bcV/HNmTZvoLdXoGs1Wke+xiIht5GZD3/JlbmHUe5PHZJMRZLEfDqMVx6Ii7c8QhtF5tRulkKyQyklzWrcytuPlLjU79GRUQ4Mdj8OeYL4fE7EYOuCHt6E8WvCpH0X+KYQt0EZS+TSDsTYmUoGggxCRt6EirWiJlRPKj9BNNnvwvbTYPR5YPNyHnBOAl3PrqIPJFAuRK7cEWDMmciFdPmFKGq219vejCiAfitsUQZImUsciaXiPjXK2E3Kp7DdXQbJeG57Au453KCnnCL/V/ch6pO3c/9aCrcIrZnI6/xsdu/rjcBWq+76xoykVHdGZxvA123FAalTbjtWulKv45N2Fb/0HUdzocNyBCiQBWzBqJBXGd7R79HXOpvmjKQdf6Rtm1QHFu+QTCIGy/RINAFwos21ClCRRcSyVhiu4mnwdrLJNJGhFgZigZCTMKGnoSKNWJmCNds2/xPglYSK8/EVMPxC+yZIkFbuAelN7RESUvCQhMN2pwJ3x7eMQQnGkIfKz9xRMS/ruQ7hOFJYwSgnnAnY2lpu7C4hvYWadr8EjT4KCxVfGn769ewshJtri+Pg8F1O/takP9qCqYl7kRxq4cP9etQ9h9b1HgyEA2eeL1V8NwnBNEgZEGHfTcSZr+BlOpfhSjQhizp83mCtZe2LVzkPRNiZSgaCDEJG3oSKtaImW5UvZ3mf86CklgZJGqupNBfCZzcu7mPms1viv03i/0HtG1GUDQELxp89/WTcI+0oXBJEqY9/xnO9Hqmuk4MCCH3jDivkrCPSa6DwPC69WFof0XCmuO4OqQFnH4dy/fD/oO6NKtnuXx3UFzR2Htw9rejquhDjzkNeglXNIhjdl9Aypy/YvrrZ3HvsRz+JP7OvIBf5aUGay9ta7hEJG4ImUAoGggxCRt6EiqWiBktEfI7nEcZN24wPGnoF9RVeY+v/z+F72GGuKcZqUfwfyobcOl+EOmTMvxJJG5jEjFfghMN8Ts8aQJEAx6jLm+j2J6Jt2q73f51dqNmS6bYvhE59Y8Nk+tx8Xvdg7hq24mE2al46dNW9Csn1Xv030XRFXXVrLH43oN27c/vRvGFG7ijDHXSJu0bigbfHysUGN6XdtzE9/DJgSIRz5oNPD8bz14m4bOEWB2KBkJMwoaehIoVYsZ59zRWjUkmPQg4EdobvZffu7fVicGWL/Dyggyst3eM+Z0HZ/uXeFkmbv6GvijDTmSP87+0JVfdE1rVHmhP4nkidBoWrd+FtanvjS1p5ah7JI0XqmgQFrt7FikLk0SSnIl1hSeVib17MzeJpD4JszLPokM6MqKiQTB0A8VrUsU5twkB2Kv4ydH1LbZ5TjAWIrS89DDSV2dq1+x7D7rQ2ISUfXL/WpQU7sY8ZUUjz/t0KN+Tvwkx9+0ylJYcxLqUk2iTl2R4XyJehfD8nXLtoiz/HE1yUrVGUPYyCZ8lxOpQNBBiEjb0JFSsEDNqz/wWFLboK/D4Mt6Sq278ioYrx7AkMQVLiq+PmbMw7nAiV/I5towdChLPS64GKnpiHrpokDi6LsOWl+u1hOjWQ5fRqRs30qJBxMRQ63G8pKx05F5BydFzDYc9rkNZqWn9ZyhtkUudjr0HZ88P2LVG/UFBKaoWZx7G/vx3RQLvvWywPmFf2S/xLazcXoNL8tfO/d2XPiHaNQHam3HtZRJ5TEKsDEUDISZhQ09CJTZiJogfd7MKfc3IeTEJCWu/xC2jtxaTDNsEEg6MG2J1KBoIMQkbehIqMRMzynCSN/Fy6a0xva7WwYF7lR9ius+yndGEbQIJB8YNsToUDYSYhA09CZXYiRlt1ZsXi2C/a/BbDhbA2V2Pt15MjdgPbEUCtgkkHBg3xOpQNBBiEjb0JFRiK2aG0Xnu73j59X/g+x5rCQdn/w3Y0jKxeNe3ERtXHgnYJpBwYNwQq0PRQIhJ2NCTUGHMxDf0LwkHxg2xOhQNhJiEDT0JFcZMfEP/knBg3BCrQ9FAiEnY0JNQYczEN/QvCQfGDbE6FA2EmIQNPQkVxkx8Q/+ScGDcEKtD0UCISdjQk1BhzMQ39C8JB8YNsToUDYSYhA09CRXGTHxD/5JwYNwQq0PRQIhJ2NCTUGHMxDf0LwkHxg2xOhQNhJhENvQsLCwsLCxmCyFWhqKBEEIIIYQQEhCKBkIIIYQQQkhAKBoIIYQQQgghAaFoIIQQQgghhASEooEQkxhNZmNhYWFhYQm1EGJlKBoIMQkbehIqjJn4hv4l4cC4IVaHooEQk7ChJ6HCmIlv6F8SDowbYnUoGggxCRt6EiqMmfiG/iXhwLghVoeigRCTsKEnocKYiW/oXxIOjBtidSgaCDEJG3oSKoyZ+Ib+JeHAuCFWh6KBEJOwoSehwpiJb+hfEg6MG2J1KBoIMQkbehIqjJn4xrr+HUX/zato6hrW/p9KWP/e2S4Qq0PRQIhJ2NCTUGHMxDfW9e8gmgq3Ym1ll/b/5OPoakTemjRho3dhu3EL5RvSscp+D07tc2AYnef+jleya/HTwKi2zR/D6P6uHKtfP4mr/ePtG/17Hw+2C8TqUDQQYhI29CRUGDPxDUWDH0bvovz/zcQ6+108HejD4weNyHp+I3Ib+7UdnBhqPY6X/rQfZx6OaNvGYwhtpbswf9cPeOhWHgZQNBBiFooGQkzChp6ECmMmvqFoMMbZ/iVenv0Byu86lP9Hrtvxx8S9qOrRBIKzE/bX07HEdhNP1S1B4XzYgIzntyC/WRcfRlA0EGIWigZCTMKGnoQKYya+iT/RMIqBxwNQU/1wcWKg3oZn5peg4Tf5vwN37B9g2p/tuKZrhrunsTrxXdhuBjPvwPOaHuHM9rfwu4LL4g79QdFAiFkoGggxCRt6EiqMmfgmdkXDMO5V78Nzyw6i7pHM5EfR33oS65bvga21z2PeQagMo630XcUuaknDusofcT4vEzO2N6JX2WcUD2o/wXSXqNAJ5prGCpCxUDQQYhaKBkJMwoaehApjJr6xrn+DSJydPTjz7mbM21WPlq8PYsmrB1EbkRWH7qNmczr+o/AaFE0w2g7byjS8XHZHS/w1YZF6Fp3K/x4EcU2/NZbg2ec/w5lefxOiKRoIMQtFAyEmYUNPQoUxE9/EtGgQOB/9gG3LkjErqRznfQXDaAdK16Yq9xi4bERO/WPtS4LfriB3/ptIr72v/v+wAelzPCdBy2vLMhYNgoDXJHA0H8HM2Xtg7/L3qoGigRCzUDQQYpKYbOi7zmKt1wPeoCw4giZzg5iJH6R9JwPnQCe+rbYj/RU5SdT/aO+QcQ7gVu0xpKyQS2fKeEnGvLQjqLrRP3YIy5h9kzBreyMeah/Lz2+fr8TW9W8hQTvW3PX7YWvs9hpD7+i6DFteLuYmqvGZsDQXWw9dRqdPjCr7bd8mEkj9WAdwuPm+93h8RzcaDhVj+YIk17Fyjl5Dd4TifbL8GzrBJM7qkqcvr3gHc9dU4NK4S5kGhzoJ2j1fYaTlKH7vOQk6oGgY/5oU0eB1PF8oGggxC0UDISaJyYbeJRqykVVaC3vl2bGlpg094Q9iJgGY6JhREjLFv3rJCiwanH1ose3CdLnvuGJxCLfsH2KWIhRKUXLiKxzIfx/zZDKfuBPFrR7nEce9eihf7JuCRZvtqKpvQcP5szhw6CK6lNhyoLP6Y/XzzDKUn7uIOkXkpIhjbUfhFbUX2vnoIvJWpCDhlSLsq2xEQ2Mj7AeKsCgxBYsLLrqW2nR01WPTsg3KfsXVP+CbcyeRJb43bc4HKL09pO+Emh0iOU3cjHTbedR99y1Ktm8RgiUNq8t+DmnVHn9Yt00YJ3GW/iorwhL5uwd93TizYxOWFLWg13Q7MIre859hxgs21A3KgxnNQRhBZ+UeTFtyFJc88/6grkmbDxEwdikaCDELRQMhJonJht4lGgK9zo8C2nXNLGz17hmOMyY6Zpz323Cq8hxq6uuQv1okzQFFgwPd9SVYPCcVM+cnjS8anA9Rt2sTpqf9Ex2u/YbxS+VezBD3NT3zAn5VEroRPKw/iHmzN2BegDX0nf03cezYVY/PtYTSFQdaQjg7A1nnH2n7CJz3UZOdLgTBJ6h5KHue+9BQIMTA7HRk1N53vfF4ev0LLJmdhOfymtErtg42luB34tgzshvwwLXTTRS/moxpL4qkts98z7p124QBfLNzE/5H2T3tfw8c9/G9LR/z09w/lObsrsdbf8pB3nePxr5BCoknuFQshNnbF9Ct/N+LOq9J0CrKEqxzilDVrbVJQV/TgBAEmzF9s/CptmUsAe7dIlA0EKtD0UCISeJaNLh6oDORUd3pSuSdfS3IfzUFCSu0CYlDP6OyYA8Wa8M95BCUmWtKcLJ9wCvZcPa3o6roQ4/9kjEvtRSVN2/Bnvqats2zeFyf4wEuffF3rFoqkjv5WeJbWJlXg6aeseObrY68/smhS7Orf9HguHsWKQuFH3adwL4UsW8Qw9Kc/T/j2+t92n8aekzp33f+gvIN4nhzPoS9cxA9N6/iTPV51DR2oj9QBup8gDM7MsU1v4GU6l9F/Iyit96G52anYX1lpzuedNGgJ/ojP6H4zxu8Y0aijKUX16X0YA/hmm2b2Oc1nx7nfiE4NortW1DY8kTbFj6T599QsXhv+/CPKPyvt7xEX1Aooi9Dixd/8E0DIWahaCDEJDHZ0I87PKkOde1a8uT4N2p3/Q0JidtE4tkLp+MX2DMzMG3hHpTe0BLRXvnLrm+KJP44ysX3K0qKsTjxr0h49RguPVEf487+G7CliSRvtr5fLUoP7MfaZZnIOv+rSCp/xLdlRXhGXNczm7/Et82taLrYgR4lAb2P8++JaxCJ4/LscpSeEN8t/lgZk56w4jC+UZZijB2sIhqc/W34NCkN05TlLO+p+wYhGsbi7sF3vWnouYBkOWRpaS7eSM3U5ivIkoLFu771mYvgQE9LAyrKKpCj7JuEWWnVaBvSUkA9BhdsQ5btKxGfX6FYzltI/Bu2nfu3KmYdrchfII/vIxr07cp49z6ROMq3Eb6iQSaUcnsakqvVvnAzUDSEizpc7bm/VKIt6HFiI3hwfj9+59HWGEPRQIhZKBoIMUlsiwZ/xSepcgmFXdi6LUcIiK3ewwOcj9He4TkJVv7YktjfNaTkKTrsu0UymIqXS295jxt3DODRgDr0QF0BxXd4kkhImz/H/NkbML/gssdY5lGhVQ4p2/9Q/CNi6X2DtPHkEEA0OB/hm4KtbjGo7xuGaHCJj4UforxdnTug+1IOF1pb3IjbAw70tzeiMFUKx0xsOv/AI170pF2Pv0ykf9Hu9UbC0d2IbcvlmwR9nw2Yt/0cbmmxoy7p+abyXfexR9HfXI7Fyv5STAxrQ52S8NyORtfwJGf/VeSvkG+wfMVEeEyef0PF+omzKhDz8P/YO4KaX6LMd/nLR0H8jgRFAyFmoWggxCQx2dAHOzzJA1diKIRASuUvHkm9D45HaLvYjNLNUjToSZie0OWhtN1/em8sGvQhJZ7LM2roQ09WVqJNzx1jANMx4xzEnZZWNMm3Ma7yE+64Emgdf6JhGB2VRZglEvp1ZbeEhSXhiQZHVxPyk9LHDEdziYZXv8A1V/an/Sqw2O47nl3H0XMdh7PfEdfsvjZnTxO2r0jB9PVHUH39IRzKikvHsHbhBo83EvocCnHOhbnILatFecl+rFyYpNh7mraGv7p0pxQfb2JVwUlU2I8jZ72MTVkffOZNhIl124QYEA0SRzeaahpx7fF4bdNvuNNYj7M3DVbtGgNFAyFmoWggxCQx2dCHIRr0lWmU4SXvNaHb4yk9dq6CXnTR0I2qt6Xg+ADld/1npMaiQZ1EaZjQDTYj5wVxnrCG1EQP0zHjGorjWYyGIPkTDfp232O4y/iT0YfR+V2FSNzTsaqwwaPHX0MfnuSzhKZLTPhZj1+iLs8p9lEmOQ9qojETOfWeMkOdTCuTf9fa/8pKO3vVlZzkvJrVxThQdhAvyaFyaeJ8SszKXxSuRsoybW6MHPJUcgK5a1IxLVHWB/OBJI9rTQInzp7+j/UyFooGQsxC0UCISWKyoQ9RNKhLXqZi1us1uNhUIZKwdKw7dEMbPvJYJG8bMe353Si+cEPr7dYTOl00BBieJP57/HhI6SnUE8pnC66ovxqroE+ETcJzW+q1lXkkDvxaW6xuV1bGiR0mL2b8iYYnuF1f5z2P5fgRrH1exMTz7yH/+Nc41fLQf++tSM6v2fdh0cIdyK3pMJ7YrP8I2PP7ROKvx5geB/qQskHcqL88RnAMtxzDH2R8/qkEDYPD2nf0idEazl9RlfmGuDefHxHzRFznpU/fFd/1HQ7liRARV2RMew9ZMoN124QYedMwIVA0EGIWigZCTBLboiENi9bvwtrU98aWtHLUPRLJ3NAtlMoJzMsO4IwyK1kf2qIPU9KWukzchJR9p1BRWYuSwt1ab697jLizvxVFSm9uJtbm/wPllV/BVvx3vLN+I5aVtovUTewjrmudMnl2DwrLjmNn2l7Ybgj5oM+pcP02QC1K932ERXLfhUWw342tFZQmPGaUIWJyyNK/tCVXM5Be1qwMY7p8d9A4edbfXvi8tRm5eRqvp76P1+0/Q039B9FWtkf4Pwmz1u/D7sIjyPcs/92IO4oGGMHD7w5jsUjGZY9/sf2Ma7hQwooSnJex5BSiJi1NnDMbybsqUHriLCrKPkeK/J2G2elYr41r13+nQXkr4DkRWl6D54TpJz+ieOMnyC8V+5w4hcLsHLGP75uxflyyfYKMwhPqZHzXhHrtmiIARYMVoWggxCwUDYSYJLZFQ6CyRyTj97xXTtK+LrI4bRKtunrNcM8P2LVGDj+S30vD4szD2J8ve3i9V6NRhjG5BIUsyZi7Oh87ajsV0eA6rv7Z+s9Q2qIt7an8iq9IOr2WXD2FBrnka4whr39CCeBfv8OO/IiGsUPGxhna5PX9YXTWH8M6fSiQXP1q+0kvnzkH7uJsqYdf5bCiFR+hsPaO90Tonms47PGL0FJopBR7D4t6evc7FGRmq8OflH22YZPvLz0/7UTtx55D6cQ17Yjs0r3yuNaEooGigZDwoWggxCRs6EmoMGbiG+v6tx912zZieekd7f9oMoqBxwPjzJuJJFa6d2PYLhCrQ9FAiEnY0JNQYczEN9b17wN8viYZ/9f/d037fzIYxr3qfXhO+S0QOcBNTkQ/iXXL9wSxTGokica9hwbbBWJ1KBoIMQkbehIqjJn4xrr+jdIQHWcPzry7GfN21aPl64NY8qr2S/KTCocnEWIWigZCTMKGnoQKYya+oWgYi/r7GMmYlVSO81GZh0TRQIhZKBoIMQkbehIqjJn4hqLBl2F0nvs7Xl7xDuauqcClfvfk9cmDooEQs1A0EGISNvQkVBgz8Q1FgwfKD+4VYcnrJ3G1rxtndmzCkqIW9E7eZAYNigZCzELRQIhJ2NCTUGHMxDcUDRqO+/jelo/5aUIwaG8XnN31eOtPOcj77tEkToKWUDQQYhaKBkJMwoaehApjJr6haLAiFA2EmIWigRCTsKEnocKYiW8oGqwIRQMhZqFoIMQkbOhJqDBm4huKBitC0UCIWSgaCDEJG3oSKoyZ+Ma6/n2CS8XvIrm6W/t/KmH9e2e7QKwORQMhJpENPQsLCwsLi9lCiJWhaCDEJGzoSagwZuIb+peEA+OGWB2KBkJMwoaehApjJr6hf0k4MG6I1aFoIMQkbOhJqDBm4hv6l4QD44ZYHYoGQkzChp6ECmMmvqF/STgwbojVoWggxCRs6EmoMGbiG/qXhAPjhlgdigZCTMKGnoQKYya+oX9JODBuiNWhaCDEJGzoSagwZuIb+peEA+OGWB2KBkJMwoaehApjJr6hf0k4MG6I1aFoIMQkbOhJqDBm4hv6l4QD44ZYHYoGQkzChp6ECmMmvqF/STgwbojVoWggxCRs6EmoMGbim/jyrxPovgjkpwIzE8TNibRh2gxg5Vag4Z62T7CEcqynQNVb2j5+yjIbMKLtHgewXSBWR9Q6QogZ2NCTUGHMxDdx5d+HF4DFz4ibkon6LJHgrwbmikRf+X8uYL+t7RgEIR2rX4iLRdpnfsofiykaCJlERK0jhJiBDT0JFcZMfBM//n0sEvdl4oZkkv4cUP6TunnoMvDSs+r26anAvafq9oCEeixP0SCERv4poKnJo1wEen7T9o0P2C4QqyNqIyHEDGzoSagwZuKbuPHvQB3wjEzaRZmRDfSOah+IZL30/1a3T5spBEAQbxtCPpanaBDb7Xe07fEL2wVidURtJISYgQ39xOFoPoKZwr7TFhxBk0PbGAcwZuKbuPHvtWJxM1qiv9QG6Hm+nJvQkOf+LL1G2x6AkI9F0UCI1RC1kRBiBvMN/Qg6K/coxwmuvIa1lV3ad+MbigYrM4r+u1dRZSvCooUG/nEO4Pb5Smxd/xYSlLhNxtz1+2Fr7EZgVz7B7fo62CvPji01begROabViRf/4ky2uBktmV9r17ZrNOW7P/MSAUaEcyyKBkKshqiNhBAzmG/oRfLVUov8wiMe5e9IX/2acuzpq4vwgddnR1He0qd9l8QisZ0cPMGl4i3KPbjKGFHnQGf1x5g1OwWLMstQfu4i6qrtSH8lBdMSt6PwikgI/dIFe6oa+2NKjIhHea2xjzC0PVncjJbMB0r0Z4q/A/olnGN5igafMvNlwPa12CWOZkEL4iNuSDwjah8hxAwT09APoqkwSzn2zMLWwM9jEiZachqFRDS2kwMHeloaYK9qQN0/j2C5uBcjGzr7b+LYsat46Hoz4MAd+wdBxLQuGvbA3hWbSWF8JH/CQ5YSDTOA5auBRbO0/xOAFHEcRwy8egqS+IgbEs+ImkcIMcPENPSBRIM+nCkLu8+14HhBHuYm6kOW9IQrC/nNg+rurmN5DGvqOou14tjT1pWgpHg35iWqPbkJy/aitLVPjjLWGEX/jQvIz8xWhwnJkpiJtQV1aBsSew39jMqCPVi8IEn9bHYSZq4pwcn2Afcx/J5rNwov3MSlL2xYuTTZdex1n15Ct/7lngtIFvsnvH0B3domYBid351A+oo07TtvYVXBBdyS1yMZ9978DQfzHPY1jO4rtchN8hxacwCHm+8Hzo2CRJ4vLtBtHYzwcj7AmR2Z4t7fQEr1rx4x5gtFgzUIJ9H3RzjHGgAKtdWWZm0Arj5WdsXTFmCJvkzrH4G6++r2OCBu2gUSt4haRwgxw8Q09MGIBi3ZTczAS1l/R5kyZClE0SCS/FlJB1FyohYlBbmYJbf91zFcGpY7CcHQehLrFgpBsHAnckq+gv3El9iX9x7mvfAZzsjVT3obkfX8m1iZdxzllWdRUVKMxTLJf1Uc44lPEm90LlESXinCPrv4btlBrJLnmr0NxdeHvL+behadygYHuutLxDmEOFldjGL7GZTbirF8QSqWFLWgV55y3HtzwnG/A03ff4n0F8S2F4pQ+n0rmpp/RNt9eeOe5/gYhWW14trKkbFaiJTErcj77lGAhDc4JiZmosC4okF9K1FRVoGc1EwhwIRP0qpVwekXPYbT8Z+rddGWhuU7atDUowSm5YkP/4aT6PsjnGOJGOlsEt87AbRpgkFB/J0rxIK+f26Dtj32iZt2gcQtosYRQswwMQ19kKLhxX2o6vRMpEIUDYm7UX5XWxf9tyvInS8TNK2H1/kLyjeIYyXmwnZDS+I1HI/7MCDzPudjtHf0eyTRj3Bme4Y4Rgayzj9SNwU8VxZyG/X5Gf1oKNhofJ26aHhyDfnLN2DasoOoe6T3Qo/gQe0+zJjzCWoeCiETzL1JHK3IXyC2+Sa8+jmWH0JDn3t2p7PvMvLkdpeoCp+4SQ7GFQ3uOFZLJtK/aEd/QNWlx7AuDN2iL2HNcVwNKDisQXz4N5zJy/6I5LF8hi35HiuGiZt2gcQtosYRQswwMQ19MKIhGUtL232eryGKBs9kT0+i9cT6YQPS54j///IlbgeTpzkeoe1iM0o3S9EQ4rkUAlynJhpGrtvxR/m/YdHuOdjz+REN+jmeLbgiV5D3QBc178J205xqkNdrWZyDuNMi37x4lp9wZ8AgkxtXNLhx9FzH4ex3xL2nY13ZLXjLUE/6cMl+FPmfnse1fu2czk7YX5fD0cYb2mQNLO3fULhUKG5GS85/L/7Wq6r8o+oN92fJVdr2AETsWD6iIZhzxwhxEzckbhE1jhBiholp6IMRDR7JtYsIigZtPsG0pNO44ydLc/a3o6roQ485DXqZINHQchS/n70B8/POoNErqfVIbM2KBuUcf8WM7Y3o1bap9KIuT47J97RteExMzEQIl608i597DkE0SJztX+Jlub/+VihoAtUH62Fp/4ZC7xlghpacT88EHuh1VUg+20p1u5ygbLuubQ9AqMf6tRr43SohNrQ3ljrODmCdPhl6OlDcon0Q+8RN3JC4RdQ6QogZJqahj6RoCDDsJ1BiHWB4EhwDeDTwQCTR4rjP70bxhRtaT7SeWE+MaMDgZeT+KQkJaypwSe+F9iVU0TC/BA2erxT6mpHzYhKmvViMmm635Z3d9XhL2W5DncewpXCIm+TAr2gYxI36y7jl83ZiuOUY/iD3/5Ow+aAfJTrUjuOHf0Cn5/EcP6M0ScY13zRMLveBHH3+wHNA+U/q5t5vgPkiYVcEQBLQoVcgUbdqhCBQ9k8ACi9p2yWhHMvjV6Jn/g+xbx3QI7b1/wyUZQMJ8hiiJPxvoM2cgLcSFA3E6ohaRwgxg7VEw33UbH5TfPYG1tm+xffNl1Fb8XdtgnGoifwo+q9U4CU5sXnZ+9gpJ0LbK1FY8AlWLhVC4maPECPiGhM3IWXfKVRU1qKkUF+taIJEg1w56dxBr0nK9sqvYCsswvIF2rGCPZ9TCKw0OeQlE8nFJ3EgPx9rDt0W1h1GR2WROoZ+2W7sViZCf44U+RsDszOQUvmL6Z7uWE8OlInk8u1Orbbkqmsyufa2R7ftgmwk76pA6Qk50V23YTrW2zugzjb5DW32YqxNLUb5TZksjqK33obnlPkMmn9PnMLezE1BTqK2BnGV/HV/DSx+RtyUTNRnAStXA3P11Yt+L5L7a9qOElEzPCc85zdp2zVCOVb/ZWCd2KYfa0wRn9nEPtYPh6ChaCBWR9Q8QogZrCUaRvDwu8PKCkbyu3LVmUWpn2H39hyRdKUhuVpbuDToRF5bcjVNrnyjHTMxA8vTD6Hm7jCcPT9g1xpt6VNx/MWZh7E//90wzxWMaJAMo7u5BjmuXxoWJfEtrNxeo759CPp83rZKWLoTWWVtcsS0QIiTxlNh/JpxcMjzxS56/Kl28y7uN1zOgbs4W7rfvZyuFAIrPkJh7R2PidC6zz3fjEn//hO5ympL2nEXbENWaRNuG82rsCDymuMH4azOb4CtIsHXe/jlW4TFqUDVdZ+kXdQt1/wE3zcNklCOJXD8KkRIgfhcH44ki/g7OQ9ouKftFD/EV9yQeETUQEKIGdjQk1BhzMQ39C8JB8YNsToUDYSYhA09CRXGTHxD/5JwYNwQq0PRQIhJ2NCTUGHMxDf0LwkHxg2xOhQNhJiEDT0JFcZMfEP/knBg3BCrQ9FAiEnY0JNQYczEN/QvCQfGDbE6FA2EmIQNPQkVxkx8Q/+ScGDcEKtD0UCISdjQk1BhzMQ39C8JB8YNsToUDYSYhA09CRXGTHxD/5JwYNwQq0PRQIhJ2NCTUGHMxDf0LwkHxg2xOhQNhJiEDT0JFcZMfEP/knBg3BCrQ9FAiEnY0JNQYczEN/QvCQfGDbE6FA2EmEQ29CwsLCwsLGYLIVaGooEQk7ChJ6HCmIlv6F8SDowbYnUoGggxCRt6EiqMmfiG/iXhwLghVoeigRCTsKEnocKYiW/oXxIOjBtidSgaCDEJG3oSKoyZ+Ib+JeHAuCFWh6KBEJOwoSehwpiJb+hfEg6MG2J1KBoIMQkbehIqjJn4hv4l4cC4IVaHooEQk7ChJ6HCmIlv6F8SDowbYnUoGggxCRt6EiqMmfiG/iXhwLghVoeigRCTsKEnocKYiW/oXxIOjBtidSgaCDEJG3oSKoyZ+Ib+JeHAuCFWh6KBEJOwoSehwpiJb+LLv06g+yKQnwrMTBA3J9KGaTOAlVuBhnvaPsESzrHEdzobgNxkj++IMi8T6PhN2yc+YLtArA5FAyEmYUNPQoUxE9/ElX8fXgAWPyNuSibrs0SCvxqYKxJ95f+5gP22tmMQhHysEeDq34FZHmLBVRYBTf3afvEB2wVidUTNI4SYgQ09CRXGTHwTP/59DOQvEzckk/TngPKf1M1Dl4GXnlW3T08F7j1Vtwck1GM5gQ67WzAk/CdQdUPZDPwGXPoG6HEoe8YLbBeI1RE1kRBiBjb0JFQYM/FN3Ph3oA54Rib5oszIBnpHtQ9E0l76f6vbp80UAiCItw0hH+sRkLtI2z4DKG7RtscvbBeI1RG1kRBiBms09F2wp76mXMuYkvgWVm6vwMkb/WonnRm6zmKtPGbqWXRqmyacaJxzgpF+IfFL3Pj3WrG4GS3RX2oD9DxftiQNee7P0mu07QEI9VieImOaEBW342v+ghFsF4jVEbWREGIGazT0umhIwfLCf6GpuVUrzaguO4hVC5OEePgbttffNyccKBoiQnwkB6Pov3sVVbYiLFp4BE2+I0WcA7h9vhJb17+FBOm/2cmYu34/bI3diK9BJWOJF//iTLa4GS1xX2vXtms05bs/8xIBRoRxLE+R8WwucKcZKN4BrFsHZIn9z/6kDVWKHygaiNURtZEQYgZriYbXsLayS9vm5umNSrycKBK3/zqGS8PaxnCgaIgIsZ0cPMGl4i3KPbjKAl/R4EBn9ceYJUTsoswylJ+7iLpqO9JfSRHidTsKrwQ7gVUIk9YTWDVHnicL+c2D2nZrE9v+1REOtSeLm9ES90CJ/kzxd0AlGOqxhBqo2+7eNn0+8Ed9ArVexP/bv44r4RAfcUPiGVHzCCFmsEZDH1g0wNGK/AUy8doDe9eItjEMKBoiQmwnBw70tDTAXtWAun8ewXLpmzGiQeRy/Tdx7NhVPHQldQ7csX+g3PvMwtbAOaaGs6cJ21e8hpkLhNigaJhkoikafPaflgCs+2+gW/j/1nFg3nRt+x+AM79qB4l9KBqI1RG1jhBiBuuLhlH0Nh7CfJnceb5pcHTjG1sRFi9IUu4hYWkecqvvYEj7GI5fcb54N+bJNxTK57nYWrAXi+RxvBL4YXRfqUVukucwlAM43HzfnUfoif+6EpR4HnPZXpS29rk7C4M953jXLnD0/IijBXmY63GsnKPX0B0wuZkc5PXEBbpfDUTDGJwPcGZHprj3N5BS/ev4HcSOX2DPzMC0ZftReuB98T2Khskl1ERf225IqMfy2X/a/wCuDWg7i1puW+n+LOuMtj32iZt2gcQtosYRQsxgjYZeFw3JWLT9H7BXnlXLiS+xL+89NQlP3CaSrl41WXPex/n3/iaS/DQs316B8sqvULx9G2a69hlGh30PpsuEcOFO5JR8Bbv9H9iZmqkKA1cC70B3fQkWJyZh5uqPUVhWi4qycmSsThPn24q87x6p59OTy9lJmJV0ECUnalFSkItZcptLyAR5znGvXe+hThHJbA4yik+h4sQpFGbnYObsFCwuuOjR+x0dpo5oUN9KVJRVIEfxo/B/WjXahsZxgLMPLbZdIhY2YVt9Nzor9wibUTRMLtEUDSNA1Rvubc/mAb/pMeNzrD8WKz/nEA9QNBCrI2ocIcQM1hINMjH3LTK5rsTZ9gGtd9eJwebPMX/2Bszb9YM7gRbJeE12OqZvbsCDkZ9Q/OcNIvHPhe2Gu//eefc0Vslj6gn8k2vIXy72W34IDX3umZDOvsvIk9t1QaAnl4m7UX5XW4f9tyvInS+vTxsyFdQ5g7h29KOpUI65z0Ze42PtngXOx2goyBbbt6KwJbrJp/RLXDCuaBgUvshS7lctmUj/oh39LqcYMYKH3x0WQjQFS4pa0OscoWiIClGeCO1XlPiIhnEFS+wQN+0CiVtEjSOEmMEaDb3B8CRnL74v2oaE2al4yXbDY+jOEK7ZtinXbVhkAth1Acny7cRfvsRtzwRPTxI10TBy3Y4/iv+fLbgiV1v3oF8k6BvF8d6F7aZQDUbJpe88i55gzhnEtQ9r4mN+CRp8Vmn8rbEEz85OxtLS9sA5zgQjr9WyOAdxp0VffUsvP+HOgIHFxhUNbhw913E4+x1x7+lYV3bLayiZJ467Z5GycIPHGwmKhqhxqVDcjJac/1787erR93kTkFylbQ9AqMe6Xere5vW7Dj6igW8aCJk0RI0jhJjBGg298ZwGZ18L8l+VK9bsRHGrnnDpq99sRk7lZZ/kUJSWLvR3BykaWo7i9+L/Gdsb0avuodGLujw5fl1L9CImGoK4dkcbCpckYdrzn+GMK9GQODFQb8Mz4ljBTsSdKCydHLj84ln8JOwhiAaJs/1LvCz3n/MJah4ayTZdIHie26cEea5oIq8zLug9IxJ2LTmfngk80LNzz3kFM8Tf17XtAQj1WMMXgT/oE57F5226zPT8MThRgvmNiBghbuKGxC2ixhFCzGCNht7fRGgnhlqP4yWRjCesqcClfpmoOTHYWILfyTcQn7YaDxUZbRfP8WSR3O1B+R33Gq1Pr3+BJTJx00QD+pqR86JI0F8sRo3HDGNndz3eUrbbUCeHLQUjGoI6ZxDXjsdCsMi3HJl4q7bbY3hSN2q2SCGzETn1j7WN0SFukgO/omEQN+ov45bP24nhlmP4g9z/TyVoGDRynojX9os4rs/JUUoN8lPfEDZ7A2sLa2CvaUOPod+tQ/wkf/eBnD+KG5IJ+nNA+U/q5t5vgPlaQj89CejQX+mJelwjBIGyfwJQeEnbLgn1WEKk2v63tr/4POs40P/UZ/UkcRx7h7Z/7EPRQKyOqHWEEDNYWzRIBnHVthMJs/Ux4mKT49+o3aVNJs4uR+kJkZzZTyB/cw5mKsm5vs6+EBuvfIS9ygTnz5Ei19mXSZ8uGuTk5coidb9lu7Hba78MpFT+ovboByMagj3nuNcudlGGuAjRkpiJdYUnlYnQezM3qRNxM8+iwyvBnXxiPTlw3O9Q3+zUakuuvlCE0u/l2x5tGJNTxGNamvB3NpJ3VSg+cvsyHetFoqfObPkNbfZirE0tRvlNn7FkLvR5ERyeFBW6vwYW67+RMAtYuRqYO0P7//dA6TVtR4moWJ5Dh/KbtO0aIR1L0H8ZWCe268fzKuI4206LU1pcQYZAXMUNiUtEzSOEmMEaDX0g0SAYuoHiNakiifZYQclxH01HD2Dl0mTlHmRJWLoTWWVtUH56y2v5U7k60icoLivBSvnW4u0L6Jb7KAyjs/FU4F/+DUo0yG1BnnO8a5e7dF2GLS/Xa8nVrYcuozPKgkEiryd2CTSEyJ3YOwfu4mzpfg8fCX+u+AiFtXc83hAFIwgoGqKLcFbnN8BWkeAn6Al7gkj+U4Gq68rHbkQ9ds1P8H3TIAnlWBr9Ynu++Hym2M9zf/tFUcmNvhC7xFfckHhE1EBCiBnY0JNQYczEN/QvCQfGDbE6FA2EmIQNPQkVxkx8Q/+ScGDcEKtD0UCISdjQk1BhzMQ39C8JB8YNsToUDYSYhA09CRXGTHxD/5JwYNwQq0PRQIhJ2NCTUGHMxDf0LwkHxg2xOhQNhJiEDT0JFcZMfEP/knBg3BCrQ9FAiEnY0JNQYczEN/QvCQfGDbE6FA2EmIQNPQkVxkx8Q/+ScGDcEKtD0UCISdjQk1BhzMQ39C8JB8YNsToUDYSYhA09CRXGTHxD/5JwYNwQq0PRQIhJ2NCTUGHMxDf0LwkHxg2xOhQNhJhENvQsLCwsLCxmCyFWhqKBEEIIIYQQEhCKBkIIIYQQQkhAKBoIIYQQQgghAaFoIIQQQgghhASEooEQQgghhBASEIoGQgghhBBCSEAoGgghhBBCCCEBoWgghBBCCCGEBISigRBCCCGEEBIQigZCCCGEEEJIAID/H5EqKMp/LjioAAAAAElFTkSuQmCC)\n",
        "    \n",
        "Ahora reescribimos $f (x)$ en forma de multiplicaciones anidadas y volvemos a evaluar\n",
        "\n",
        "![tabla2.PNG](data:image/png;base64,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)\n",
        "\n",
        "El **anidamiento** redujo el error relativo por truncamiento a menos de 10% del original. Para la aproximación por redondeo la mejora fue más drástica, el error se redujo en un 95%."
      ]
    },
    {
      "cell_type": "markdown",
      "metadata": {
        "id": "Vzn07zycS8I7"
      },
      "source": [
        "### Multiplicación Anidada\n",
        "\n",
        "Como podrás notar por el ejemplo anterior al escribir el polinomio en forma de multiplicación anidada, se redujo el error debido a la reducción de operaciones, que paso de ser 5 multiplicaciones y 3 sumas a 2 multiplicaciones y 3 sumas.\n",
        "\n",
        "Ahora, veamos algunas observaciones relevantes sobre la evaluación de polinomios eficientemente, así como del redondeo y truncamiento de números reales, para evaluar el polinomio\n",
        "\n",
        "$$p(x)=a_{0}+a_{1}x+a_{2}x+\\cdots+a_{n-1}x^{n-1}+a_{n}x^{n}$$\n",
        "\n",
        "Agrupemos los termino en una multiplicaciones anidadas de la siguiente forma\n",
        "\n",
        "$$p(x)=a_{0}+x(a_{1}+x(a_{2}+\\cdots+x(a_{n-1}+xa_{n}))\\cdots))$$\n",
        "\n",
        "A este procedimiento se le conoce con el nombre de algoritmo de Horner o división sintética."
      ]
    },
    {
      "cell_type": "markdown",
      "metadata": {
        "id": "M1wLKazdQrVS"
      },
      "source": [
        "## Algoritmo de Horner\n",
        "\n",
        "### FLOP's\n",
        "\n",
        "De acuerdo en la sección pasada y al algoritmo de Horner, el polinomio $p(x)$ se puede reescribir de varias formas, con la finalidad de realizar menos operaciones, que dicho sea de paso, cuando estas operaciones se realizan en una computadora, se le conocen como **operaciones de punto flotante o FLOP's**, por sus siglas en inglés. Estas pueden ser **operaciones aritméticas**, de asignación o incluso sentencias tipo if else.\n",
        "\n",
        " \n",
        "De manera mas clara, el algoritmo de Horner dice que la evaluación de p(x) es mas eficiente si se realiza de la siguiente manera. \n",
        "\n",
        "$$p(x)=a_{0}+a_{1}x+\\cdots+a_{n}x^{n}=\\sum_{i=0}^{n}a_{i}x^{i}=\\sum_{i=0}^{n}(a_{i}\\prod_{j=1}^{i}x)$$\n",
        "\n",
        "Y recordemos que si $n\\leq m$, entonces.\n",
        "\n",
        "$$\\sum_{k=n}^{m}x_{k}=x_{n}+x_{n+1}+\\cdots+x_{m}\\,\\,\\,y\\,\\,\\,\\prod_{k=n}^{m}x_{k}=x_{n}x_{n+1}\\cdots x_{m}$$\n",
        "\n",
        "Por otro lado, $si m<n$, se define\n",
        "\n",
        "$$\\sum_{k=n}^{m}x_{k}=0\\,\\,\\,y\\,\\,\\,\\prod_{k=n}^{m}x_{k}=1$$\n",
        "\n",
        "Ahora seria interesante responder un par de preguntas:\n",
        "\n",
        "¿De que depende el número de FLOP's al evaluar un polinomio?.\n",
        "\n",
        "Si se evalúa el polinomio $p(x)$ de manera tradicional, ¿cuántas FLOP's se tienen que realizar?.\n",
        "\n",
        "Al emplear el algoritmo de Horner, ¿cuántas FLOP's se realizan?.\n",
        "\n",
        "### Como se hacia en Mesopotamia.\n",
        "\n",
        "$\\color{green}{Ejemplo.}$\n",
        "\n",
        "\n",
        "Use el algoritmo de Horner para evaluar $p(3)$\n",
        "\n",
        "$$p(x)=x^{4}-4x^{3}+7x^{2}-5x-2$$\n",
        "\n",
        "Acomodemos los coeficientes de $p(x)$ y el valor de x en la siguiente tabla\n",
        "\n",
        "![divSin1.PNG](data:image/png;base64,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)\n",
        "\n",
        "Por lo que obtenemos que $p(3)=19$ y se puede reescribir el polinomio así\n",
        "\n",
        "$$p(x)=(x-3)(x^{3}-x^{2}+4x+7)+19$$\n",
        "\n",
        "Si el numero evaluado resulta ser raíz entonces $(x-r)$ es un factor de p.\n",
        "\n",
        "$\\color{green}{Ejemplo.}$\n",
        "\n",
        "\n",
        "Use el algoritmo de Horner para evaluar $p(2)$\n",
        "\n",
        "$$p(x)=x^{4}-4x^{3}+7x^{2}-5x-2$$\n",
        "\n",
        "Acomodemos los coeficientes de $p(x)$ y el valor de x en la siguiente tabla\n",
        "\n",
        "![divSin2.PNG](data:image/png;base64,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)\n",
        "\n",
        "Dado que la evaluación da como resultado 0, entonces 2 es raíz de p y \n",
        "\n",
        "$$p(x)=(x-2)(x^{3}-2x^{2}+3x+1)$$\n",
        "\n",
        "<font color=\"blue\" face=\"Comic Sans MS,arial\">\n",
        "  <h1 align=\"center\"><i>Ahora veamos como lo haría un alumno de la Facultad de Ciencias, en el año 2019</i></h1>\n",
        "  </font>"
      ]
    },
    {
      "cell_type": "markdown",
      "metadata": {
        "id": "hQhdQ45sQrVT"
      },
      "source": [
        "### Pseudocódigo\n",
        "\n",
        "A continuación, se muestra el pseudocódigo para poder realizar la evaluación del polinomio $p(x)$.\n",
        "\n",
        "![Horner](https://docs.google.com/uc?export=download&id=1cSLWd7EKGS9bx1XyUqru805eQHu3AWM0)\n",
        "\n",
        "Para este algoritmo, suponemos que se los valores de los coeficientes $a_{0}a_{1}\\ldots a_{n}$ han sido almacenados en un arreglo lineal (lista) y por lo tanto es fácil acceder a cada uno de ellos para realizar las evaluaciones.\n",
        "\n",
        "En forma de pseudocódigo resulta mas sencillo saber cuantas FLOP's se realizaron.\n",
        "\n",
        "Programalo en $\\color{green}{Python!}$"
      ]
    },
    {
      "cell_type": "code",
      "metadata": {
        "id": "iYZvhjIjQrVV",
        "outputId": "080d1c48-7587-44c0-e194-8b1109c91a16"
      },
      "source": [
        "def horner(n,lista,x):\n",
        "    p=lista[n]\n",
        "    pol=[]\n",
        "    for i in range(n-1,0,-1):\n",
        "        pol.append(p)\n",
        "        p=lista[i]+x*p\n",
        "    pol.append(p)\n",
        "    return pol\n",
        "\n",
        "lista=[-2,-5,7,-4,1]\n",
        "coef=horner(4,lista,3)\n",
        "print(\"los coeficientes resultantes son: {}\".format(coef))"
      ],
      "execution_count": null,
      "outputs": [
        {
          "output_type": "stream",
          "text": [
            "los coeficientes resultantes son: [1, -1, 4, 7]\n"
          ],
          "name": "stdout"
        }
      ]
    },
    {
      "cell_type": "markdown",
      "metadata": {
        "id": "5xUL3NGaQrVa"
      },
      "source": [
        "## Referencias\n",
        "\n",
        "1. Riswan Butt: Numerical Analysys Using Matlab, Jones and Bartlett.\n",
        "\n",
        "2. Ward Cheney, David Kincaid: Métodos Numéricos y Computación, Cenage Learning.\n",
        "\n",
        "3. Richard L. Burden, J. Douglas Faires: Análisis Numérico, Math Learning."
      ]
    }
  ]
}