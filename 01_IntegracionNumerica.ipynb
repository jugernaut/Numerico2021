{
  "nbformat": 4,
  "nbformat_minor": 0,
  "metadata": {
    "kernelspec": {
      "display_name": "Python 3.7 (tensorflow)",
      "language": "python",
      "name": "tensorflow"
    },
    "language_info": {
      "codemirror_mode": {
        "name": "ipython",
        "version": 3
      },
      "file_extension": ".py",
      "mimetype": "text/x-python",
      "name": "python",
      "nbconvert_exporter": "python",
      "pygments_lexer": "ipython3",
      "version": "3.7.7"
    },
    "colab": {
      "name": "Integracion_numerica.ipynb",
      "provenance": [],
      "toc_visible": true
    },
    "widgets": {
      "application/vnd.jupyter.widget-state+json": {
        "5a6b211a572347a980330014cdc25f45": {
          "model_module": "@jupyter-widgets/controls",
          "model_name": "VBoxModel",
          "state": {
            "_view_name": "VBoxView",
            "_dom_classes": [
              "widget-interact"
            ],
            "_model_name": "VBoxModel",
            "_view_module": "@jupyter-widgets/controls",
            "_model_module_version": "1.5.0",
            "_view_count": null,
            "_view_module_version": "1.5.0",
            "box_style": "",
            "layout": "IPY_MODEL_315f9a2464fd4179bf5472663fd23e7e",
            "_model_module": "@jupyter-widgets/controls",
            "children": [
              "IPY_MODEL_6593c683908443589ac8d1e3a916096e",
              "IPY_MODEL_c45116aa9a7a4a8bb7ce87b284984ae6"
            ]
          }
        },
        "315f9a2464fd4179bf5472663fd23e7e": {
          "model_module": "@jupyter-widgets/base",
          "model_name": "LayoutModel",
          "state": {
            "_view_name": "LayoutView",
            "grid_template_rows": null,
            "right": null,
            "justify_content": null,
            "_view_module": "@jupyter-widgets/base",
            "overflow": null,
            "_model_module_version": "1.2.0",
            "_view_count": null,
            "flex_flow": null,
            "width": null,
            "min_width": null,
            "border": null,
            "align_items": null,
            "bottom": null,
            "_model_module": "@jupyter-widgets/base",
            "top": null,
            "grid_column": null,
            "overflow_y": null,
            "overflow_x": null,
            "grid_auto_flow": null,
            "grid_area": null,
            "grid_template_columns": null,
            "flex": null,
            "_model_name": "LayoutModel",
            "justify_items": null,
            "grid_row": null,
            "max_height": null,
            "align_content": null,
            "visibility": null,
            "align_self": null,
            "height": null,
            "min_height": null,
            "padding": null,
            "grid_auto_rows": null,
            "grid_gap": null,
            "max_width": null,
            "order": null,
            "_view_module_version": "1.2.0",
            "grid_template_areas": null,
            "object_position": null,
            "object_fit": null,
            "grid_auto_columns": null,
            "margin": null,
            "display": null,
            "left": null
          }
        },
        "6593c683908443589ac8d1e3a916096e": {
          "model_module": "@jupyter-widgets/controls",
          "model_name": "IntSliderModel",
          "state": {
            "_view_name": "IntSliderView",
            "style": "IPY_MODEL_b5d6a5d9c9b94d649faa891fe0902bae",
            "_dom_classes": [],
            "description": "n",
            "step": 1,
            "_model_name": "IntSliderModel",
            "orientation": "horizontal",
            "max": 30,
            "_view_module": "@jupyter-widgets/controls",
            "_model_module_version": "1.5.0",
            "value": 15,
            "_view_count": null,
            "disabled": false,
            "_view_module_version": "1.5.0",
            "min": 2,
            "continuous_update": true,
            "readout_format": "d",
            "description_tooltip": null,
            "readout": true,
            "_model_module": "@jupyter-widgets/controls",
            "layout": "IPY_MODEL_f4be5efec6534d3e9ab7d0de03744e98"
          }
        },
        "c45116aa9a7a4a8bb7ce87b284984ae6": {
          "model_module": "@jupyter-widgets/output",
          "model_name": "OutputModel",
          "state": {
            "_view_name": "OutputView",
            "msg_id": "",
            "_dom_classes": [],
            "_model_name": "OutputModel",
            "outputs": [
              {
                "output_type": "display_data",
                "metadata": {
                  "tags": [],
                  "needs_background": "light"
                },
                "image/png": "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\n",
                "text/plain": "<Figure size 432x288 with 1 Axes>"
              },
              {
                "output_type": "stream",
                "metadata": {
                  "tags": []
                },
                "text": "el valor de la integral mediante el metodo de cuadratura del rectangulo es: 0.3452380952380952\n",
                "stream": "stdout"
              }
            ],
            "_view_module": "@jupyter-widgets/output",
            "_model_module_version": "1.0.0",
            "_view_count": null,
            "_view_module_version": "1.0.0",
            "layout": "IPY_MODEL_f89ccef600ad4c14adc1e793847eb65a",
            "_model_module": "@jupyter-widgets/output"
          }
        },
        "b5d6a5d9c9b94d649faa891fe0902bae": {
          "model_module": "@jupyter-widgets/controls",
          "model_name": "SliderStyleModel",
          "state": {
            "_view_name": "StyleView",
            "handle_color": null,
            "_model_name": "SliderStyleModel",
            "description_width": "",
            "_view_module": "@jupyter-widgets/base",
            "_model_module_version": "1.5.0",
            "_view_count": null,
            "_view_module_version": "1.2.0",
            "_model_module": "@jupyter-widgets/controls"
          }
        },
        "f4be5efec6534d3e9ab7d0de03744e98": {
          "model_module": "@jupyter-widgets/base",
          "model_name": "LayoutModel",
          "state": {
            "_view_name": "LayoutView",
            "grid_template_rows": null,
            "right": null,
            "justify_content": null,
            "_view_module": "@jupyter-widgets/base",
            "overflow": null,
            "_model_module_version": "1.2.0",
            "_view_count": null,
            "flex_flow": null,
            "width": null,
            "min_width": null,
            "border": null,
            "align_items": null,
            "bottom": null,
            "_model_module": "@jupyter-widgets/base",
            "top": null,
            "grid_column": null,
            "overflow_y": null,
            "overflow_x": null,
            "grid_auto_flow": null,
            "grid_area": null,
            "grid_template_columns": null,
            "flex": null,
            "_model_name": "LayoutModel",
            "justify_items": null,
            "grid_row": null,
            "max_height": null,
            "align_content": null,
            "visibility": null,
            "align_self": null,
            "height": null,
            "min_height": null,
            "padding": null,
            "grid_auto_rows": null,
            "grid_gap": null,
            "max_width": null,
            "order": null,
            "_view_module_version": "1.2.0",
            "grid_template_areas": null,
            "object_position": null,
            "object_fit": null,
            "grid_auto_columns": null,
            "margin": null,
            "display": null,
            "left": null
          }
        },
        "f89ccef600ad4c14adc1e793847eb65a": {
          "model_module": "@jupyter-widgets/base",
          "model_name": "LayoutModel",
          "state": {
            "_view_name": "LayoutView",
            "grid_template_rows": null,
            "right": null,
            "justify_content": null,
            "_view_module": "@jupyter-widgets/base",
            "overflow": null,
            "_model_module_version": "1.2.0",
            "_view_count": null,
            "flex_flow": null,
            "width": null,
            "min_width": null,
            "border": null,
            "align_items": null,
            "bottom": null,
            "_model_module": "@jupyter-widgets/base",
            "top": null,
            "grid_column": null,
            "overflow_y": null,
            "overflow_x": null,
            "grid_auto_flow": null,
            "grid_area": null,
            "grid_template_columns": null,
            "flex": null,
            "_model_name": "LayoutModel",
            "justify_items": null,
            "grid_row": null,
            "max_height": null,
            "align_content": null,
            "visibility": null,
            "align_self": null,
            "height": null,
            "min_height": null,
            "padding": null,
            "grid_auto_rows": null,
            "grid_gap": null,
            "max_width": null,
            "order": null,
            "_view_module_version": "1.2.0",
            "grid_template_areas": null,
            "object_position": null,
            "object_fit": null,
            "grid_auto_columns": null,
            "margin": null,
            "display": null,
            "left": null
          }
        },
        "1ac2c7e82cbb43ce8c2833b03ea4a05a": {
          "model_module": "@jupyter-widgets/controls",
          "model_name": "VBoxModel",
          "state": {
            "_view_name": "VBoxView",
            "_dom_classes": [
              "widget-interact"
            ],
            "_model_name": "VBoxModel",
            "_view_module": "@jupyter-widgets/controls",
            "_model_module_version": "1.5.0",
            "_view_count": null,
            "_view_module_version": "1.5.0",
            "box_style": "",
            "layout": "IPY_MODEL_20b7204590f74f0e872177bba2132c60",
            "_model_module": "@jupyter-widgets/controls",
            "children": [
              "IPY_MODEL_8130a68bf8384675a4a970544eede6af",
              "IPY_MODEL_c39e5175e0db4e958f039d061dbce017"
            ]
          }
        },
        "20b7204590f74f0e872177bba2132c60": {
          "model_module": "@jupyter-widgets/base",
          "model_name": "LayoutModel",
          "state": {
            "_view_name": "LayoutView",
            "grid_template_rows": null,
            "right": null,
            "justify_content": null,
            "_view_module": "@jupyter-widgets/base",
            "overflow": null,
            "_model_module_version": "1.2.0",
            "_view_count": null,
            "flex_flow": null,
            "width": null,
            "min_width": null,
            "border": null,
            "align_items": null,
            "bottom": null,
            "_model_module": "@jupyter-widgets/base",
            "top": null,
            "grid_column": null,
            "overflow_y": null,
            "overflow_x": null,
            "grid_auto_flow": null,
            "grid_area": null,
            "grid_template_columns": null,
            "flex": null,
            "_model_name": "LayoutModel",
            "justify_items": null,
            "grid_row": null,
            "max_height": null,
            "align_content": null,
            "visibility": null,
            "align_self": null,
            "height": null,
            "min_height": null,
            "padding": null,
            "grid_auto_rows": null,
            "grid_gap": null,
            "max_width": null,
            "order": null,
            "_view_module_version": "1.2.0",
            "grid_template_areas": null,
            "object_position": null,
            "object_fit": null,
            "grid_auto_columns": null,
            "margin": null,
            "display": null,
            "left": null
          }
        },
        "8130a68bf8384675a4a970544eede6af": {
          "model_module": "@jupyter-widgets/controls",
          "model_name": "IntSliderModel",
          "state": {
            "_view_name": "IntSliderView",
            "style": "IPY_MODEL_5b6b58c7a6234a5895a3b585835d935a",
            "_dom_classes": [],
            "description": "n",
            "step": 1,
            "_model_name": "IntSliderModel",
            "orientation": "horizontal",
            "max": 30,
            "_view_module": "@jupyter-widgets/controls",
            "_model_module_version": "1.5.0",
            "value": 15,
            "_view_count": null,
            "disabled": false,
            "_view_module_version": "1.5.0",
            "min": 2,
            "continuous_update": true,
            "readout_format": "d",
            "description_tooltip": null,
            "readout": true,
            "_model_module": "@jupyter-widgets/controls",
            "layout": "IPY_MODEL_ed6285a2870445b697603f784377ff33"
          }
        },
        "c39e5175e0db4e958f039d061dbce017": {
          "model_module": "@jupyter-widgets/output",
          "model_name": "OutputModel",
          "state": {
            "_view_name": "OutputView",
            "msg_id": "",
            "_dom_classes": [],
            "_model_name": "OutputModel",
            "outputs": [
              {
                "output_type": "display_data",
                "metadata": {
                  "tags": [],
                  "needs_background": "light"
                },
                "image/png": "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\n",
                "text/plain": "<Figure size 432x288 with 1 Axes>"
              },
              {
                "output_type": "stream",
                "metadata": {
                  "tags": []
                },
                "text": "el valor de la integral mediante el metodo de cuadratura del punto medio es: 0.31071428571428567\n",
                "stream": "stdout"
              }
            ],
            "_view_module": "@jupyter-widgets/output",
            "_model_module_version": "1.0.0",
            "_view_count": null,
            "_view_module_version": "1.0.0",
            "layout": "IPY_MODEL_4bc0a93f3fc14984820894376547eaea",
            "_model_module": "@jupyter-widgets/output"
          }
        },
        "5b6b58c7a6234a5895a3b585835d935a": {
          "model_module": "@jupyter-widgets/controls",
          "model_name": "SliderStyleModel",
          "state": {
            "_view_name": "StyleView",
            "handle_color": null,
            "_model_name": "SliderStyleModel",
            "description_width": "",
            "_view_module": "@jupyter-widgets/base",
            "_model_module_version": "1.5.0",
            "_view_count": null,
            "_view_module_version": "1.2.0",
            "_model_module": "@jupyter-widgets/controls"
          }
        },
        "ed6285a2870445b697603f784377ff33": {
          "model_module": "@jupyter-widgets/base",
          "model_name": "LayoutModel",
          "state": {
            "_view_name": "LayoutView",
            "grid_template_rows": null,
            "right": null,
            "justify_content": null,
            "_view_module": "@jupyter-widgets/base",
            "overflow": null,
            "_model_module_version": "1.2.0",
            "_view_count": null,
            "flex_flow": null,
            "width": null,
            "min_width": null,
            "border": null,
            "align_items": null,
            "bottom": null,
            "_model_module": "@jupyter-widgets/base",
            "top": null,
            "grid_column": null,
            "overflow_y": null,
            "overflow_x": null,
            "grid_auto_flow": null,
            "grid_area": null,
            "grid_template_columns": null,
            "flex": null,
            "_model_name": "LayoutModel",
            "justify_items": null,
            "grid_row": null,
            "max_height": null,
            "align_content": null,
            "visibility": null,
            "align_self": null,
            "height": null,
            "min_height": null,
            "padding": null,
            "grid_auto_rows": null,
            "grid_gap": null,
            "max_width": null,
            "order": null,
            "_view_module_version": "1.2.0",
            "grid_template_areas": null,
            "object_position": null,
            "object_fit": null,
            "grid_auto_columns": null,
            "margin": null,
            "display": null,
            "left": null
          }
        },
        "4bc0a93f3fc14984820894376547eaea": {
          "model_module": "@jupyter-widgets/base",
          "model_name": "LayoutModel",
          "state": {
            "_view_name": "LayoutView",
            "grid_template_rows": null,
            "right": null,
            "justify_content": null,
            "_view_module": "@jupyter-widgets/base",
            "overflow": null,
            "_model_module_version": "1.2.0",
            "_view_count": null,
            "flex_flow": null,
            "width": null,
            "min_width": null,
            "border": null,
            "align_items": null,
            "bottom": null,
            "_model_module": "@jupyter-widgets/base",
            "top": null,
            "grid_column": null,
            "overflow_y": null,
            "overflow_x": null,
            "grid_auto_flow": null,
            "grid_area": null,
            "grid_template_columns": null,
            "flex": null,
            "_model_name": "LayoutModel",
            "justify_items": null,
            "grid_row": null,
            "max_height": null,
            "align_content": null,
            "visibility": null,
            "align_self": null,
            "height": null,
            "min_height": null,
            "padding": null,
            "grid_auto_rows": null,
            "grid_gap": null,
            "max_width": null,
            "order": null,
            "_view_module_version": "1.2.0",
            "grid_template_areas": null,
            "object_position": null,
            "object_fit": null,
            "grid_auto_columns": null,
            "margin": null,
            "display": null,
            "left": null
          }
        },
        "00223a68404f42a489c8fa6363aaa1e8": {
          "model_module": "@jupyter-widgets/controls",
          "model_name": "VBoxModel",
          "state": {
            "_view_name": "VBoxView",
            "_dom_classes": [
              "widget-interact"
            ],
            "_model_name": "VBoxModel",
            "_view_module": "@jupyter-widgets/controls",
            "_model_module_version": "1.5.0",
            "_view_count": null,
            "_view_module_version": "1.5.0",
            "box_style": "",
            "layout": "IPY_MODEL_f371d7bc2c4b4416b2c08cd5a650dec7",
            "_model_module": "@jupyter-widgets/controls",
            "children": [
              "IPY_MODEL_de618fb97bb94c0bac7d3c4cc69f8703",
              "IPY_MODEL_96ddbcf7181846be97ca8b51d72b94e0"
            ]
          }
        },
        "f371d7bc2c4b4416b2c08cd5a650dec7": {
          "model_module": "@jupyter-widgets/base",
          "model_name": "LayoutModel",
          "state": {
            "_view_name": "LayoutView",
            "grid_template_rows": null,
            "right": null,
            "justify_content": null,
            "_view_module": "@jupyter-widgets/base",
            "overflow": null,
            "_model_module_version": "1.2.0",
            "_view_count": null,
            "flex_flow": null,
            "width": null,
            "min_width": null,
            "border": null,
            "align_items": null,
            "bottom": null,
            "_model_module": "@jupyter-widgets/base",
            "top": null,
            "grid_column": null,
            "overflow_y": null,
            "overflow_x": null,
            "grid_auto_flow": null,
            "grid_area": null,
            "grid_template_columns": null,
            "flex": null,
            "_model_name": "LayoutModel",
            "justify_items": null,
            "grid_row": null,
            "max_height": null,
            "align_content": null,
            "visibility": null,
            "align_self": null,
            "height": null,
            "min_height": null,
            "padding": null,
            "grid_auto_rows": null,
            "grid_gap": null,
            "max_width": null,
            "order": null,
            "_view_module_version": "1.2.0",
            "grid_template_areas": null,
            "object_position": null,
            "object_fit": null,
            "grid_auto_columns": null,
            "margin": null,
            "display": null,
            "left": null
          }
        },
        "de618fb97bb94c0bac7d3c4cc69f8703": {
          "model_module": "@jupyter-widgets/controls",
          "model_name": "IntSliderModel",
          "state": {
            "_view_name": "IntSliderView",
            "style": "IPY_MODEL_433a8fde0f4144d28de59bf8f6d59212",
            "_dom_classes": [],
            "description": "n",
            "step": 1,
            "_model_name": "IntSliderModel",
            "orientation": "horizontal",
            "max": 30,
            "_view_module": "@jupyter-widgets/controls",
            "_model_module_version": "1.5.0",
            "value": 19,
            "_view_count": null,
            "disabled": false,
            "_view_module_version": "1.5.0",
            "min": 4,
            "continuous_update": true,
            "readout_format": "d",
            "description_tooltip": null,
            "readout": true,
            "_model_module": "@jupyter-widgets/controls",
            "layout": "IPY_MODEL_2583ec17f3954ce4bdefc6858517c1f0"
          }
        },
        "96ddbcf7181846be97ca8b51d72b94e0": {
          "model_module": "@jupyter-widgets/output",
          "model_name": "OutputModel",
          "state": {
            "_view_name": "OutputView",
            "msg_id": "",
            "_dom_classes": [],
            "_model_name": "OutputModel",
            "outputs": [
              {
                "output_type": "display_data",
                "metadata": {
                  "tags": [],
                  "needs_background": "light"
                },
                "image/png": "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\n",
                "text/plain": "<Figure size 432x288 with 1 Axes>"
              },
              {
                "output_type": "stream",
                "metadata": {
                  "tags": []
                },
                "text": "el valor de la integral mediante el metodo de cuadratura del  Trapecio Compuesto es: 0.3162768031189083\n",
                "stream": "stdout"
              }
            ],
            "_view_module": "@jupyter-widgets/output",
            "_model_module_version": "1.0.0",
            "_view_count": null,
            "_view_module_version": "1.0.0",
            "layout": "IPY_MODEL_364b27b9cf5d4496a3edc25b2d54630b",
            "_model_module": "@jupyter-widgets/output"
          }
        },
        "433a8fde0f4144d28de59bf8f6d59212": {
          "model_module": "@jupyter-widgets/controls",
          "model_name": "SliderStyleModel",
          "state": {
            "_view_name": "StyleView",
            "handle_color": null,
            "_model_name": "SliderStyleModel",
            "description_width": "",
            "_view_module": "@jupyter-widgets/base",
            "_model_module_version": "1.5.0",
            "_view_count": null,
            "_view_module_version": "1.2.0",
            "_model_module": "@jupyter-widgets/controls"
          }
        },
        "2583ec17f3954ce4bdefc6858517c1f0": {
          "model_module": "@jupyter-widgets/base",
          "model_name": "LayoutModel",
          "state": {
            "_view_name": "LayoutView",
            "grid_template_rows": null,
            "right": null,
            "justify_content": null,
            "_view_module": "@jupyter-widgets/base",
            "overflow": null,
            "_model_module_version": "1.2.0",
            "_view_count": null,
            "flex_flow": null,
            "width": null,
            "min_width": null,
            "border": null,
            "align_items": null,
            "bottom": null,
            "_model_module": "@jupyter-widgets/base",
            "top": null,
            "grid_column": null,
            "overflow_y": null,
            "overflow_x": null,
            "grid_auto_flow": null,
            "grid_area": null,
            "grid_template_columns": null,
            "flex": null,
            "_model_name": "LayoutModel",
            "justify_items": null,
            "grid_row": null,
            "max_height": null,
            "align_content": null,
            "visibility": null,
            "align_self": null,
            "height": null,
            "min_height": null,
            "padding": null,
            "grid_auto_rows": null,
            "grid_gap": null,
            "max_width": null,
            "order": null,
            "_view_module_version": "1.2.0",
            "grid_template_areas": null,
            "object_position": null,
            "object_fit": null,
            "grid_auto_columns": null,
            "margin": null,
            "display": null,
            "left": null
          }
        },
        "364b27b9cf5d4496a3edc25b2d54630b": {
          "model_module": "@jupyter-widgets/base",
          "model_name": "LayoutModel",
          "state": {
            "_view_name": "LayoutView",
            "grid_template_rows": null,
            "right": null,
            "justify_content": null,
            "_view_module": "@jupyter-widgets/base",
            "overflow": null,
            "_model_module_version": "1.2.0",
            "_view_count": null,
            "flex_flow": null,
            "width": null,
            "min_width": null,
            "border": null,
            "align_items": null,
            "bottom": null,
            "_model_module": "@jupyter-widgets/base",
            "top": null,
            "grid_column": null,
            "overflow_y": null,
            "overflow_x": null,
            "grid_auto_flow": null,
            "grid_area": null,
            "grid_template_columns": null,
            "flex": null,
            "_model_name": "LayoutModel",
            "justify_items": null,
            "grid_row": null,
            "max_height": null,
            "align_content": null,
            "visibility": null,
            "align_self": null,
            "height": null,
            "min_height": null,
            "padding": null,
            "grid_auto_rows": null,
            "grid_gap": null,
            "max_width": null,
            "order": null,
            "_view_module_version": "1.2.0",
            "grid_template_areas": null,
            "object_position": null,
            "object_fit": null,
            "grid_auto_columns": null,
            "margin": null,
            "display": null,
            "left": null
          }
        },
        "70b38f9dda22411aa04084a01aaea782": {
          "model_module": "@jupyter-widgets/controls",
          "model_name": "VBoxModel",
          "state": {
            "_view_name": "VBoxView",
            "_dom_classes": [
              "widget-interact"
            ],
            "_model_name": "VBoxModel",
            "_view_module": "@jupyter-widgets/controls",
            "_model_module_version": "1.5.0",
            "_view_count": null,
            "_view_module_version": "1.5.0",
            "box_style": "",
            "layout": "IPY_MODEL_fb45ec6ea3b047dba9d3ed7e568a925c",
            "_model_module": "@jupyter-widgets/controls",
            "children": [
              "IPY_MODEL_88d536153b6a4c1696f9c67af3ec90ef",
              "IPY_MODEL_bbc751bc2ea94315b8fc911450f1cf5f"
            ]
          }
        },
        "fb45ec6ea3b047dba9d3ed7e568a925c": {
          "model_module": "@jupyter-widgets/base",
          "model_name": "LayoutModel",
          "state": {
            "_view_name": "LayoutView",
            "grid_template_rows": null,
            "right": null,
            "justify_content": null,
            "_view_module": "@jupyter-widgets/base",
            "overflow": null,
            "_model_module_version": "1.2.0",
            "_view_count": null,
            "flex_flow": null,
            "width": null,
            "min_width": null,
            "border": null,
            "align_items": null,
            "bottom": null,
            "_model_module": "@jupyter-widgets/base",
            "top": null,
            "grid_column": null,
            "overflow_y": null,
            "overflow_x": null,
            "grid_auto_flow": null,
            "grid_area": null,
            "grid_template_columns": null,
            "flex": null,
            "_model_name": "LayoutModel",
            "justify_items": null,
            "grid_row": null,
            "max_height": null,
            "align_content": null,
            "visibility": null,
            "align_self": null,
            "height": null,
            "min_height": null,
            "padding": null,
            "grid_auto_rows": null,
            "grid_gap": null,
            "max_width": null,
            "order": null,
            "_view_module_version": "1.2.0",
            "grid_template_areas": null,
            "object_position": null,
            "object_fit": null,
            "grid_auto_columns": null,
            "margin": null,
            "display": null,
            "left": null
          }
        },
        "88d536153b6a4c1696f9c67af3ec90ef": {
          "model_module": "@jupyter-widgets/controls",
          "model_name": "IntSliderModel",
          "state": {
            "_view_name": "IntSliderView",
            "style": "IPY_MODEL_25b627567cf14cb0a19aefd641c68096",
            "_dom_classes": [],
            "description": "n",
            "step": 1,
            "_model_name": "IntSliderModel",
            "orientation": "horizontal",
            "max": 30,
            "_view_module": "@jupyter-widgets/controls",
            "_model_module_version": "1.5.0",
            "value": 4,
            "_view_count": null,
            "disabled": false,
            "_view_module_version": "1.5.0",
            "min": 4,
            "continuous_update": true,
            "readout_format": "d",
            "description_tooltip": null,
            "readout": true,
            "_model_module": "@jupyter-widgets/controls",
            "layout": "IPY_MODEL_fca8be1584d7429880d1d9dec4b0f09b"
          }
        },
        "bbc751bc2ea94315b8fc911450f1cf5f": {
          "model_module": "@jupyter-widgets/output",
          "model_name": "OutputModel",
          "state": {
            "_view_name": "OutputView",
            "msg_id": "",
            "_dom_classes": [],
            "_model_name": "OutputModel",
            "outputs": [
              {
                "output_type": "display_data",
                "metadata": {
                  "tags": [],
                  "needs_background": "light"
                },
                "image/png": "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\n",
                "text/plain": "<Figure size 432x288 with 1 Axes>"
              }
            ],
            "_view_module": "@jupyter-widgets/output",
            "_model_module_version": "1.0.0",
            "_view_count": null,
            "_view_module_version": "1.0.0",
            "layout": "IPY_MODEL_066a7fc7885e4a02a7e9c93d29a747ad",
            "_model_module": "@jupyter-widgets/output"
          }
        },
        "25b627567cf14cb0a19aefd641c68096": {
          "model_module": "@jupyter-widgets/controls",
          "model_name": "SliderStyleModel",
          "state": {
            "_view_name": "StyleView",
            "handle_color": null,
            "_model_name": "SliderStyleModel",
            "description_width": "",
            "_view_module": "@jupyter-widgets/base",
            "_model_module_version": "1.5.0",
            "_view_count": null,
            "_view_module_version": "1.2.0",
            "_model_module": "@jupyter-widgets/controls"
          }
        },
        "fca8be1584d7429880d1d9dec4b0f09b": {
          "model_module": "@jupyter-widgets/base",
          "model_name": "LayoutModel",
          "state": {
            "_view_name": "LayoutView",
            "grid_template_rows": null,
            "right": null,
            "justify_content": null,
            "_view_module": "@jupyter-widgets/base",
            "overflow": null,
            "_model_module_version": "1.2.0",
            "_view_count": null,
            "flex_flow": null,
            "width": null,
            "min_width": null,
            "border": null,
            "align_items": null,
            "bottom": null,
            "_model_module": "@jupyter-widgets/base",
            "top": null,
            "grid_column": null,
            "overflow_y": null,
            "overflow_x": null,
            "grid_auto_flow": null,
            "grid_area": null,
            "grid_template_columns": null,
            "flex": null,
            "_model_name": "LayoutModel",
            "justify_items": null,
            "grid_row": null,
            "max_height": null,
            "align_content": null,
            "visibility": null,
            "align_self": null,
            "height": null,
            "min_height": null,
            "padding": null,
            "grid_auto_rows": null,
            "grid_gap": null,
            "max_width": null,
            "order": null,
            "_view_module_version": "1.2.0",
            "grid_template_areas": null,
            "object_position": null,
            "object_fit": null,
            "grid_auto_columns": null,
            "margin": null,
            "display": null,
            "left": null
          }
        },
        "066a7fc7885e4a02a7e9c93d29a747ad": {
          "model_module": "@jupyter-widgets/base",
          "model_name": "LayoutModel",
          "state": {
            "_view_name": "LayoutView",
            "grid_template_rows": null,
            "right": null,
            "justify_content": null,
            "_view_module": "@jupyter-widgets/base",
            "overflow": null,
            "_model_module_version": "1.2.0",
            "_view_count": null,
            "flex_flow": null,
            "width": null,
            "min_width": null,
            "border": null,
            "align_items": null,
            "bottom": null,
            "_model_module": "@jupyter-widgets/base",
            "top": null,
            "grid_column": null,
            "overflow_y": null,
            "overflow_x": null,
            "grid_auto_flow": null,
            "grid_area": null,
            "grid_template_columns": null,
            "flex": null,
            "_model_name": "LayoutModel",
            "justify_items": null,
            "grid_row": null,
            "max_height": null,
            "align_content": null,
            "visibility": null,
            "align_self": null,
            "height": null,
            "min_height": null,
            "padding": null,
            "grid_auto_rows": null,
            "grid_gap": null,
            "max_width": null,
            "order": null,
            "_view_module_version": "1.2.0",
            "grid_template_areas": null,
            "object_position": null,
            "object_fit": null,
            "grid_auto_columns": null,
            "margin": null,
            "display": null,
            "left": null
          }
        }
      }
    }
  },
  "cells": [
    {
      "cell_type": "markdown",
      "metadata": {
        "id": "ScSKHDcow79x"
      },
      "source": [
        "# Integración numérica.\n",
        "Profesor: M.en.C. Miguel Ángel Pérez León.\n",
        "\n",
        "Ayudante: Jesús Iván Coss Calderón.\n",
        "\n",
        "Materia: Análisis Numérico."
      ]
    },
    {
      "cell_type": "markdown",
      "metadata": {
        "id": "cbG3g1S0w79y"
      },
      "source": [
        "## 1. Introducción.\n",
        "\n",
        "Muy frecuentemente es necesario evaluar la integral definida de una función $f\\left(x\\right)$ en un intervalo $\\left[a,b\\right]$. El objetivo de esta sección es encontrar métodos para aproximar la integral\n",
        "\n",
        "$$\\int_{a}^{b}f\\left(x\\right)dx$$\n",
        "\n",
        "Si se conoce a priori la $\\color{blue}{antiderivada}$ $F\\left(x\\right)$ entonces es evidente que podemos encontrar el valor exacto de la integral, aplicando el siguiente teorema\n",
        "\n",
        "\n",
        "$\\color{blue}{Teorema}$.  Teorema Fundamental de Cálculo.\n",
        "\n",
        "Sea $f\\left(x\\right)$ integrable en el intervalo $\\left[a,b\\right]$ y $F'\\left(x\\right)=f\\left(x\\right)$ entonces,$\\int_{a}^{b}f\\left(x\\right)dx=F\\left(a\\right)-F\\left(b\\right)$\n",
        "\n",
        "\n",
        "Sin embargo como en otras partes del curso, a veces encontrar a $F$ es muy complicado, de tal manera que la mejor opción es encontrar una aproximación.\n",
        "\n",
        "$$\\int_{a}^{b}f\\left(x\\right)dx$$\n",
        "\n",
        "La forma básica para encontrar una aproximación de $\\int_{a}^{b}f\\left(x\\right)dx$, se conoce como $\\color{blue}{cuadratura\\hspace{1mm} numérica}$ y emplea una sumatoria del tipo\n",
        "\n",
        "$$\\sum_{i=0}^{n}a_{i}f\\left(x_{i}\\right)$$\n",
        "\n",
        "Existen diferentes aproximaciones de la integral de $f\\left(x\\right)$ mediante cuadratura numérica, en esta sección revisaremos algunas de las mas comunes."
      ]
    },
    {
      "cell_type": "markdown",
      "metadata": {
        "id": "QNpXtFzFw79z"
      },
      "source": [
        "## 2. Cuadratura Numérica.\n",
        "\n",
        "Los métodos de integración numérica se basan en los polinomios de Lagrange visto en secciones previas. La idea básica es que seleccionamos un conjunto de nodos distintos $x_{0},\\ldots,x_{n}$ del intervalo $ \\left[a,b\\right]$. Después se integra el polinomio de Lagrange\n",
        "\n",
        "$$P_{n}\\left(x\\right)=\\sum_{i=0}^{n}f\\left(x_{i}\\right)L_{i}\\left(x\\right)$$\n",
        "\n",
        "Y también se integra el termino de error de truncamiento en $\\left[a,b\\right]$\n",
        "\n",
        "$$\\prod_{i=0}^{n}\\left(x-x_{i}\\right)\\frac{f^{\\left(n+1\\right)}\\left(\\xi\\left(x\\right)\\right)}{\\left(n+1\\right)!}dx$$\n",
        "\n",
        "De tal manera que obtenemos\n",
        "\n",
        "$$ \\int_{a}^{b}f\\left(x\\right)dx=\\int_{a}^{b}\\sum_{i=0}^{n}f\\left(x_{i}\\right)L_{i}\\left(x\\right)dx+\\int_{a}^{b}\\prod_{i=0}^{n}\\left(x-x_{i}\\right)\\frac{f^{\\left(n+1\\right)}\\left(\\xi\\left(x\\right)\\right)}{\\left(n+1\\right)!}dx\\\\=\\sum_{i=0}^{n}a_{i}f\\left(x_{i}\\right)+\\frac{1}{\\left(n+1\\right)!}\\int_{a}^{b}\\prod_{i=0}^{n}\\left(x-x_{i}\\right)f^{\\left(n+1\\right)}\\left(\\xi\\left(x\\right)\\right)dx $$\n",
        "\n",
        "Donde $\\xi\\left(x\\right)$ se encuentra en $\\left[a,b\\right]$ para cada $x$ y\n",
        "\n",
        "$$a_{i}=\\int_{a}^{b}L_{i}\\left(x\\right)dx,\\quad para\\,cada\\,i=0,1,\\ldots,n$$\n",
        "\n",
        "Por lo tanto, la formula de la cuadratura es\n",
        "\n",
        "$$\\int_{a}^{b}f\\left(x\\right)dx=\\sum_{i=0}^{n}a_{i}f\\left(x_{i}\\right) \\tag{1}$$\n",
        "\n",
        "Con un error dado por\n",
        "\n",
        "$$E\\left(f\\right)=\\frac{1}{\\left(n+1\\right)!}\\int_{a}^{b}\\prod_{i=0}^{n}\\left(x-x_{i}\\right)f^{\\left(n+1\\right)}\\left(\\xi\\left(x\\right)\\right)dx$$\n",
        "\n",
        "De la misma manera que en otros temas vistos en el curso, la aproximación sera mas exacta si subdividimos el intervalo $\\left[a,b\\right]$ en tantos subintervalos como sea necesario, es decir\n",
        "\n",
        "Sea\n",
        "\n",
        "$$\\left[a,b\\right]=\\left[a,x_{1}\\right]\\cup\\left[x_{1},x_{2}\\right]\\cup\\cdots\\cup\\left[x_{n-2},x_{n-1}\\right]\\cup\\left[x_{n-1},b\\right]$$\n",
        "\n",
        "Donde\n",
        "\n",
        "$$x_{k}=a+\\frac{b-a}{n}k,\\quad n=0,1,2,\\ldots,n,\\quad x_{0}=a,\\,x_{n}=b$$\n",
        "\n",
        "\n",
        "Tendremos\n",
        "\n",
        "$$\\int_{a}^{b}f\\left(x\\right)dx=\\int_{a}^{x_{1}}f\\left(x\\right)dx+\\cdots+\\int_{x_{k}}^{x_{k+1}}f\\left(x\\right)dx+\\cdots+\\int_{x_{n-1}}^{b}f\\left(x\\right)dx \\tag{2} $$\n",
        "\n",
        "Observación, todos los nodos son igualmente espaciados.\n",
        "\n",
        "### 2.1. Cuadratura del rectángulo.\n",
        "\n",
        "La forma de cuadratura mas simple es la que emplea rectángulos de base $\\left(b-a\\right)$ y altura $f\\left(a\\right)$\n",
        "\n",
        "$$\\int_{a}^{b}f\\left(x\\right)dx=\\left(b-a\\right)f\\left(a\\right)+E\\left(f\\right) \\tag{3}$$\n",
        "\n",
        "Combinando 1) y 3), se obtiene la forma general de la cuadratura mediante rectángulos\n",
        "\n",
        "$$\\int_{a}^{b}f\\left(x\\right)dx=\\frac{b-a}{n}\\sum_{i=0}^{n-1}f\\left(x_{i}\\right)+E\\left(f\\right)$$\n",
        "\n",
        "### codigo en python"
      ]
    },
    {
      "cell_type": "code",
      "metadata": {
        "id": "xoCX7k-_w790",
        "colab": {
          "base_uri": "https://localhost:8080/",
          "height": 419,
          "referenced_widgets": [
            "5a6b211a572347a980330014cdc25f45",
            "315f9a2464fd4179bf5472663fd23e7e",
            "6593c683908443589ac8d1e3a916096e",
            "c45116aa9a7a4a8bb7ce87b284984ae6",
            "b5d6a5d9c9b94d649faa891fe0902bae",
            "f4be5efec6534d3e9ab7d0de03744e98",
            "f89ccef600ad4c14adc1e793847eb65a"
          ]
        },
        "outputId": "5d1904ad-e25a-4d6b-bb99-d69adf66e164"
      },
      "source": [
        "import numpy as np\n",
        "from IPython.html.widgets import interact\n",
        "import ipywidgets as widgets\n",
        "import matplotlib.pyplot as plt\n",
        "%matplotlib inline\n",
        "\n",
        "def rectangulos(n):\n",
        "    # a punto inicial del intervalo \n",
        "    # b punto final del intervalo \n",
        "    # f funcion a integrar\n",
        "    # n los puntos que se usaran para integrar \n",
        "    a=0\n",
        "    b=1\n",
        "    \n",
        "    def f(x):\n",
        "        return x*x\n",
        "    \n",
        "    xp=np.linspace(a,b,30)\n",
        "    fp=f(xp)\n",
        "    \n",
        "    x=np.linspace(a,b,n) # se crea la particion\n",
        "    fx=[ f(x[i]) for i in range(len (x))]\n",
        "    plt.bar(x,fx,width=((b-a)/n),color='orange')\n",
        "    plt.plot(xp,fp,color='black')\n",
        "    plt.title(\"Aproximacion de la integral con el metodo de la cuadratura del rectangulo\")\n",
        "    plt.xlabel(\"x\")\n",
        "    plt.ylabel(r\"$f \\left(x\\right) = x^{2}$\")\n",
        "    plt.grid()\n",
        "    plt.show()\n",
        "    cuadratura=0.0\n",
        "    for i in range (len(x)):\n",
        "        cuadratura+=f(x[i])\n",
        "        \n",
        "    integral=((b-a)/n)*cuadratura\n",
        "\n",
        "    print(\"el valor de la integral mediante el metodo de cuadratura del rectangulo es: {}\".format(integral)) \n",
        "\n",
        "interact(rectangulos,n=widgets.IntSlider(min=2,max=30,step=1,value=2))"
      ],
      "execution_count": null,
      "outputs": [
        {
          "output_type": "stream",
          "text": [
            "/usr/local/lib/python3.6/dist-packages/IPython/html.py:14: ShimWarning: The `IPython.html` package has been deprecated since IPython 4.0. You should import from `notebook` instead. `IPython.html.widgets` has moved to `ipywidgets`.\n",
            "  \"`IPython.html.widgets` has moved to `ipywidgets`.\", ShimWarning)\n"
          ],
          "name": "stderr"
        },
        {
          "output_type": "display_data",
          "data": {
            "application/vnd.jupyter.widget-view+json": {
              "model_id": "5a6b211a572347a980330014cdc25f45",
              "version_minor": 0,
              "version_major": 2
            },
            "text/plain": [
              "interactive(children=(IntSlider(value=2, description='n', max=30, min=2), Output()), _dom_classes=('widget-int…"
            ]
          },
          "metadata": {
            "tags": []
          }
        },
        {
          "output_type": "execute_result",
          "data": {
            "text/plain": [
              "<function __main__.rectangulos>"
            ]
          },
          "metadata": {
            "tags": []
          },
          "execution_count": 3
        }
      ]
    },
    {
      "cell_type": "markdown",
      "metadata": {
        "id": "NM8gZ8Dqw794"
      },
      "source": [
        "### 2.2.  Cuadratura del punto medio.\n",
        "\n",
        "Una aproximación de la integral $\\int_{a}^{b}f\\left(x\\right)dx$ consiste en aproximar el área bajo la curva $y=f\\left(x\\right)$ por un rectángulo de base $b-a$ y altura $f\\left(\\frac{a+b}{2}\\right)$, entonces\n",
        "\n",
        "$$\\int_{a}^{b}f\\left(x\\right)dx=\\left(b-a\\right)f\\left(\\frac{a+b}{2}\\right)+E\\left(f\\right) \\tag{4} $$\n",
        "\n",
        "Donde $E\\left(f\\right)$, si $f$ tiene primera y segunda derivada continuas en $\\left[a,b\\right]$, se expresa así\n",
        "\n",
        "$$E\\left(f\\right)=\\frac{\\left(b-a\\right)^{2}}{24}f''\\left(\\xi\\right)\\quad\\xi\\in\\left[a,b\\right]$$\n",
        "\n",
        "Combinando 1) y 4), se obtiene la forma general de la cuadratura del punto medio\n",
        "\n",
        "$$\\int_{a}^{b}f\\left(x\\right)dx=\\frac{b-a}{n}\\sum_{i=0}^{n-1}f\\left(\\frac{x_{i}+x_{i+1}}{2}\\right)+E\\left(f\\right)$$\n",
        "\n",
        "### codigo en python"
      ]
    },
    {
      "cell_type": "code",
      "metadata": {
        "id": "OZOU5EaVw796",
        "colab": {
          "base_uri": "https://localhost:8080/",
          "height": 363,
          "referenced_widgets": [
            "1ac2c7e82cbb43ce8c2833b03ea4a05a",
            "20b7204590f74f0e872177bba2132c60",
            "8130a68bf8384675a4a970544eede6af",
            "c39e5175e0db4e958f039d061dbce017",
            "5b6b58c7a6234a5895a3b585835d935a",
            "ed6285a2870445b697603f784377ff33",
            "4bc0a93f3fc14984820894376547eaea"
          ]
        },
        "outputId": "a152a65a-0991-40f9-d4c7-574c1d18d814"
      },
      "source": [
        "def PuntoMedio(n):\n",
        "    # a punto inicial del intervalo \n",
        "    # b punto final del intervalo \n",
        "    # f funcion a integrar\n",
        "    # n los puntos que se usaran para integrar \n",
        "    a=0\n",
        "    b=1\n",
        "    def f(x):\n",
        "        return x*x\n",
        "    \n",
        "    xp=np.linspace(a,b,30)\n",
        "    fp=f(xp)\n",
        "    \n",
        "    x=np.linspace(a,b,n) # se crea la particion\n",
        "    fx=[ f(x[i]) for i in range(len (x))]\n",
        "    plt.bar(x,fx,width=((b-a)/n),color='orange')\n",
        "    plt.plot(xp,fp,color='black')\n",
        "    plt.title(\"Aproximacion de la integral con el metodo del Punto medio\")\n",
        "    plt.xlabel(\"x\")\n",
        "    plt.ylabel(r\"$f \\left(x\\right) = x^{2}$\")\n",
        "    plt.grid()\n",
        "    plt.show()\n",
        "    cuadratura=0.0\n",
        "    for i in range (len(x)-1):\n",
        "        cuadratura+=f( (x[i]+x[i+1])/2 )\n",
        "    integral=((b-a)/n)*cuadratura\n",
        "    \n",
        "    print(\"el valor de la integral mediante el metodo de cuadratura del punto medio es: {}\".format(integral)) \n",
        "\n",
        "interact(PuntoMedio,n=widgets.IntSlider(min=2,max=30,step=1,value=2))"
      ],
      "execution_count": null,
      "outputs": [
        {
          "output_type": "display_data",
          "data": {
            "application/vnd.jupyter.widget-view+json": {
              "model_id": "1ac2c7e82cbb43ce8c2833b03ea4a05a",
              "version_minor": 0,
              "version_major": 2
            },
            "text/plain": [
              "interactive(children=(IntSlider(value=2, description='n', max=30, min=2), Output()), _dom_classes=('widget-int…"
            ]
          },
          "metadata": {
            "tags": []
          }
        },
        {
          "output_type": "execute_result",
          "data": {
            "text/plain": [
              "<function __main__.PuntoMedio>"
            ]
          },
          "metadata": {
            "tags": []
          },
          "execution_count": 18
        }
      ]
    },
    {
      "cell_type": "markdown",
      "metadata": {
        "id": "nE9yuzw9w79_"
      },
      "source": [
        "### 2.3.  Cuadratura del trapecio.\n",
        "\n",
        "Para derivar la regla del trapecio para aproximar $\\int_{a}^{b}f\\left(x\\right)dx$, tomemos $x_{0}=a,\\,x_{1}=b,\\,h=b-a$ y calculando el polinomio lineal de Lagrange\n",
        "\n",
        "$$P\\left(x\\right)=\\left(\\frac{x-x_{1}}{x_{0}-x_{1}}\\right)f(x_{0})+\\left(\\frac{x-x_{0}}{x_{1}-x_{0}}\\right)f(x_{1})$$\n",
        "\n",
        "Al integrar este polinomio se tiene\n",
        "\n",
        "$$\\int_{a}^{b}f\\left(x\\right)dx=\\int_{x_{0}}^{x_{1}}\\left[\\left(\\frac{x-x_{1}}{x_{0}-x_{1}}\\right)f(x_{0})+\\left(\\frac{x-x_{0}}{x_{1}-x_{0}}\\right)f(x_{1})\\right]dx\\\\+\\frac{1}{2}\\int_{x_{0}}^{x_{1}}f''\\left(\\xi\\left(x\\right)\\right)\\left(x-x_{0}\\right)\\left(x-x_{1}\\right)dx$$\n",
        "\n",
        "Donde la integral del error es $-\\frac{h^{3}}{6}f''\\left(\\xi\\right)$, lo que nos lleva a la forma general de la cuadratura del trapecio\n",
        "\n",
        "$$\\int_{a}^{b}f\\left(x\\right)dx=\\left[\\frac{x-x_{1}}{2\\left(x_{0}-x_{1}\\right)}f(x_{0})+\\frac{x-x_{0}}{2\\left(x_{1}-x_{0}\\right)}f(x_{1})\\right]_{x_{0}}^{x_{1}}-\\frac{h^{3}}{12}f''\\left(\\xi\\right)\\\\=\\frac{\\left(x_{1}-x_{0}\\right)}{2}\\left[f\\left(x_{0}\\right)+f\\left(x_{1}\\right)\\right]-\\frac{h^{3}}{12}f''\\left(\\xi\\right) $$\n",
        "\n",
        "Tomando en cuenta que $h=x_{1}-x_{0}$, obtenemos la forma general de la cuadratura del trapecio\n",
        "\n",
        "$$\\int_{a}^{b}f\\left(x\\right)dx=\\frac{h}{2}\\left[f\\left(x_{0}\\right)+f\\left(x_{1}\\right)\\right]-\\frac{h^{3}}{12}f''\\left(\\xi\\right)$$\n",
        "\n",
        "### codigo en python"
      ]
    },
    {
      "cell_type": "code",
      "metadata": {
        "id": "sFvxeX94w79_",
        "outputId": "4e9cd493-59ed-46c5-d513-1593395ed839"
      },
      "source": [
        "def Trapecio():\n",
        "    # a punto inicial del intervalo \n",
        "    # b punto final del intervalo \n",
        "    # f funcion a integrar\n",
        "    a=0\n",
        "    b=1\n",
        "    def f(x):\n",
        "        return x*x\n",
        "    \n",
        "    integral=((b-a)/2)*(f(a)+f(b))\n",
        "    print(\"el valor de la integral mediante el metodo de cuadratura del Trapecio: {}\".format(integral))\n",
        "\n",
        "Trapecio()"
      ],
      "execution_count": null,
      "outputs": [
        {
          "output_type": "stream",
          "text": [
            "el valor de la integral mediante el metodo de cuadratura del Trapecio: 0.5\n"
          ],
          "name": "stdout"
        }
      ]
    },
    {
      "cell_type": "markdown",
      "metadata": {
        "id": "f1IO7V-qw7-D"
      },
      "source": [
        "### 2.3.  Cuadratura del trapecio compuesto.\n",
        "\n",
        "Sean los nodos $a=x_{0}<x_{1}<\\cdots<x_{n}=b$ con $h_{i}=x_{i+1}-x_{i}$ y lo que se busca es aproximar el valor de $\\int_{a}^{b}f\\left(x\\right)dx$. Ademas aprovechamos el hecho de que \n",
        "\n",
        "$$\\int_{a}^{b}f\\left(x\\right)dx\t=\t\\int_{a}^{c}f\\left(x\\right)dx+\\int_{c}^{b}f\\left(x\\right)dx$$\n",
        "\n",
        "Integrando sobre los subintervalos $\\left[x_{i},x_{i+1}\\right]$, para $i=0,\\ldots,n-1$ y aplicando la regla del trapecio simple, se obtiene\n",
        "\n",
        "$$\\int_{a}^{b}f\\left(x\\right)dx=\\sum_{i=0}^{n-1}\\int_{x_{i}}^{x_{i+1}}f\\left(x\\right)=\\sum_{i=0}^{n-1}\\frac{h_{i}}{2}\\left[f\\left(x_{i}\\right)+f\\left(x_{i+1}\\right)\\right]-\\sum_{i=0}^{n-1}\\frac{h_{i}^{3}}{12}f''\\left(\\xi_{i}\\right),\\quad\\xi_{i}\\in\\left(x_{i+1},x_{i}\\right) $$\n",
        "\n",
        "Si consideramos $h=h_{i}$ para $i=0,\\ldots,n-1$ y $f''\\left(x\\right)$ continua, entonces obtenemos el error total\n",
        "\n",
        "$$E_{T}=-\\frac{h^{3}}{12}\\sum_{i=0}^{n-1}f''\\left(\\xi_{i}\\right)=-\\frac{h^{3}}{12}nf''\\left(\\xi\\right)=-\\frac{h^{2}}{12}nhf''\\left(\\xi\\right)$$\n",
        "\n",
        "Donde $\\xi\\in\\left(x_{0},x_{n}\\right)$ y $h=\\frac{x_{n}-x_{0}}{n}$ entonces $E_{T}=-\\frac{h^{2}}{12}\\left(x_{n}-x_{0}\\right)f''\\left(\\xi\\right)$, es decir\n",
        "\n",
        "$$ \\int_{a}^{b}f\\left(x\\right)dx=\\frac{h}{2}\\left[f\\left(x_{0}\\right)+2f\\left(x_{1}\\right)+\\cdots+2f\\left(x_{n-1}\\right)+f\\left(x_{n}\\right)\\right]-\\frac{h^{2}}{12}\\left(x_{n}-x_{0}\\right)f''\\left(\\xi\\right)$$\n",
        "\n",
        "Así que\n",
        "\n",
        "$$\\int_{a}^{b}f\\left(x\\right)dx=\\frac{h}{2}\\left[f\\left(a\\right)+2\\sum_{i=1}^{n-1}f\\left(x_{i}\\right)+f\\left(b\\right)\\right]-\\frac{b-a}{12}h^{2}f''\\left(\\xi\\right)$$\n",
        "\n",
        "Es la forma general de la cuadratura del trapecio compuesto.\n",
        "\n",
        "### codigo en python"
      ]
    },
    {
      "cell_type": "code",
      "metadata": {
        "id": "LWgI2-zkw7-E",
        "colab": {
          "base_uri": "https://localhost:8080/",
          "height": 363,
          "referenced_widgets": [
            "00223a68404f42a489c8fa6363aaa1e8",
            "f371d7bc2c4b4416b2c08cd5a650dec7",
            "de618fb97bb94c0bac7d3c4cc69f8703",
            "96ddbcf7181846be97ca8b51d72b94e0",
            "433a8fde0f4144d28de59bf8f6d59212",
            "2583ec17f3954ce4bdefc6858517c1f0",
            "364b27b9cf5d4496a3edc25b2d54630b"
          ]
        },
        "outputId": "d1854f9f-7a7f-4959-8219-ed8c57648217"
      },
      "source": [
        "def TrapComp(n):\n",
        "    # a punto inicial del intervalo \n",
        "    # b punto final del intervalo \n",
        "    # f funcion a integrar\n",
        "    # n los puntos que se usaran para integrar \n",
        "    a=0\n",
        "    b=1\n",
        "    def f(x):\n",
        "        return x*x\n",
        "    \n",
        "    xp=np.linspace(a,b,30)\n",
        "    fp=f(xp)\n",
        "    \n",
        "    x=np.linspace(a,b,n) # se crea la particion\n",
        "    fx=[ f(x[i]) for i in range(len (x))]\n",
        "    plt.bar(x,fx,width=((b-a)/n),color='orange')\n",
        "    plt.plot(xp,fp,color='black')\n",
        "    plt.title(\"Aproximacion de la integral con el metodo del Trapecio compuesto\")\n",
        "    plt.xlabel(\"x\")\n",
        "    plt.ylabel(r\"$f \\left(x\\right) = x^{2}$\")\n",
        "    plt.grid()\n",
        "    plt.show()\n",
        "    cuadratura=0.0\n",
        "    for i in range (1,len(x)-1):\n",
        "        cuadratura+=f( x[i])\n",
        "\n",
        "    integral=((b-a)/(2*n))*(2*cuadratura+f(a)+f(b))\n",
        "    \n",
        "    print(\"el valor de la integral mediante el metodo de cuadratura del  Trapecio Compuesto es: {}\".format(integral)) \n",
        "\n",
        "interact(TrapComp,n=widgets.IntSlider(min=4,max=30,step=1,value=4))"
      ],
      "execution_count": null,
      "outputs": [
        {
          "output_type": "display_data",
          "data": {
            "application/vnd.jupyter.widget-view+json": {
              "model_id": "00223a68404f42a489c8fa6363aaa1e8",
              "version_minor": 0,
              "version_major": 2
            },
            "text/plain": [
              "interactive(children=(IntSlider(value=4, description='n', max=30, min=4), Output()), _dom_classes=('widget-int…"
            ]
          },
          "metadata": {
            "tags": []
          }
        },
        {
          "output_type": "execute_result",
          "data": {
            "text/plain": [
              "<function __main__.TrapComp>"
            ]
          },
          "metadata": {
            "tags": []
          },
          "execution_count": 19
        }
      ]
    },
    {
      "cell_type": "markdown",
      "metadata": {
        "id": "sjL0EQ79w7-J"
      },
      "source": [
        "### 2.4.  Cuadratura de Simpson $\\frac{1}{3}$\n",
        "\n",
        "Se obtiene al integrar en $\\left[a,b\\right]$ el segundo polinomio de Lagrange con los nodos $x_{0}=a,\\,x_{1}=a+h\\,y\\,x_{2}=b$ donde $h=\\frac{b-a}{2}$\n",
        "\n",
        "$$\\int_{a}^{b}f\\left(x\\right)dx=\\int_{x_{0}}^{x_{2}}\\left[\\frac{\\left(x-x_{1}\\right)\\left(x-x_{2}\\right)}{\\left(x_{0}-x_{1}\\right)\\left(x_{0}-x_{2}\\right)}f(x_{0})+\\frac{\\left(x-x_{0}\\right)\\left(x-x_{2}\\right)}{\\left(x_{1}-x_{0}\\right)\\left(x_{1}-x_{2}\\right)}f(x_{1})\\right]\\\\+\\int_{x_{0}}^{x_{2}}\\left[\\frac{\\left(x-x_{0}\\right)\\left(x-x_{1}\\right)}{\\left(x_{2}-x_{0}\\right)\\left(x_{2}-x_{1}\\right)}f(x_{2})\\right]\\\\+\\frac{1}{6}\\int_{x_{0}}^{x_{2}}f'''\\left(\\xi\\left(x\\right)\\right)\\left(x-x_{0}\\right)\\left(x-x_{1}\\right)\\left(x-x_{2}\\right)dx $$\n",
        "\n",
        "Sin embargo, al deducir la regla de Simpson de esta manera, unicamente se obtiene un término de error $O\\left(h^{4}\\right)$ que contiene a $f^{\\left(3\\right)}$. Pero si construimos la regla de otra forma, podemos deducir un termino de orden superior que incluya a $f^{\\left(4\\right)}$\n",
        "\n",
        "Supongamos que $f$ se expande mediante el tercer polinomio de Taylor alrededor de $x_{1}$. Entonces, para cada $x$ en $\\left[x_{0},x_{2}\\right]$, existe un número $\\xi\\left(x\\right)\\in\\left(x_{0},x_{2}\\right)$ con\n",
        "\n",
        "$$f\\left(x\\right)=f\\left(x_{1}\\right)+f'\\left(x_{1}\\right)\\left(x-x_{1}\\right)+\\frac{f''\\left(x_{1}\\right)\\left(x-x_{1}\\right)^{2}}{2!}\\\\+\\frac{f'''\\left(x_{1}\\right)\\left(x-x_{1}\\right)^{3}}{3!}+\\frac{f^{\\left(4\\right)}\\left(\\xi\\left(x\\right)\\right)\\left(x-x_{1}\\right)^{4}}{4!}$$\n",
        "\n",
        "Si $h=\\left(x-x_{1}\\right)$ y \n",
        "\n",
        "$$\\int_{x_{0}}^{x_{2}}f\\left(x\\right)dx=\\left[f\\left(x_{1}\\right)h+\\frac{f'\\left(x_{1}\\right)h^{2}}{2!}+\\frac{f''\\left(x_{1}\\right)h^{3}}{3!}+\\frac{f^{\\left(3\\right)}\\left(x_{1}\\right)h^{4}}{4!}\\right]_{x_{0}}^{x_{2}}+\\frac{1}{24}\\int_{x_{0}}^{x_{2}}f^{\\left(4\\right)}\\left(\\xi\\left(x\\right)\\right)h^{4}dx \\tag{5}$$\n",
        "\n",
        "Puesto que $\\left(x-x_{1}\\right)^{4}$ nunca es negativo en $\\left[x_{0},x_{2}\\right]$ y por el Teorema del Valor Medio ponderado, entonces\n",
        "\n",
        "$$\\frac{1}{24}\\int_{x_{0}}^{x_{2}}f^{\\left(4\\right)}\\left(\\xi\\left(x\\right)\\right)h^{4}dx=\\frac{f^{\\left(4\\right)}\\left(\\xi_{1}\\right)h^{4}}{24}\\int_{x_{0}}^{x_{2}}h^{4}dx=\\frac{f^{\\left(4\\right)}\\left(\\xi_{1}\\right)}{120}h^{5}\\mid_{x_{0}}^{x2}$$\n",
        "\n",
        "Para algún número $\\xi_{1}\\in\\left(x_{0},x_{2}\\right)$. Pero por otro lado $h=x_{2}-x_{1}=x_{1}-x_{0}$, así que\n",
        "\n",
        "$$\\left(x_{2}-x_{1}\\right)^{2}-\\left(x_{1}-x_{0}\\right)^{2}=\\left(x_{2}-x_{1}\\right)^{4}-\\left(x_{1}-x_{0}\\right)^{4}=0 $$\n",
        "\n",
        "Mientras que\n",
        "\n",
        "$$\\left(x_{2}-x_{1}\\right)^{3}-\\left(x_{1}-x_{0}\\right)^{3}=2h^{3}\\,y\\,\\left(x_{2}-x_{1}\\right)^{5}-\\left(x_{1}-x_{0}\\right)^{5}=2h^{5}$$\n",
        "\n",
        "Así que (5), se puede reescribir así\n",
        "\n",
        "Pero si ahora reemplazamos $f''\\left(x_{1}\\right)$ por su aproximación en diferencias finitas, se tiene\n",
        "\n",
        "$$\\int_{x_{0}}^{x_{2}}f\\left(x\\right)dx=2hf\\left(x_{1}\\right)+\\frac{h^{3}}{3}\\left\\{ \\frac{1}{h^{2}}\\left[f\\left(x_{0}\\right)-2f\\left(x_{1}\\right)+f\\left(x_{2}\\right)\\right]-\\frac{h^{2}}{12}f^{\\left(4\\right)}\\left(\\xi_{2}\\right)\\right\\} \\\\+\\frac{f^{\\left(4\\right)}\\left(\\xi_{1}\\right)h^{5}}{60}\\\\=\\frac{h}{3}\\left[f\\left(x_{0}\\right)+4f\\left(x_{1}\\right)+f\\left(x_{2}\\right)\\right]-\\frac{h^{5}}{12}\\left[\\frac{1}{3}f^{\\left(4\\right)}\\left(\\xi_{2}\\right)-\\frac{1}{5}f^{\\left(4\\right)}\\left(\\xi_{1}\\right)\\right] $$\n",
        "\n",
        "Así tenemos que\n",
        "\n",
        "$$\\int_{x_{0}}^{x_{2}}f\\left(x\\right)dx=\\frac{h}{3}\\left[f\\left(x_{0}\\right)+4f\\left(x_{1}\\right)+f\\left(x_{2}\\right)\\right]-\\frac{h^{5}}{90}f^{\\left(4\\right)}\\left(\\xi_{1}\\right)$$\n",
        "\n",
        "Es la forma general de la regla de Simpson $\\frac{1}{3}$\n",
        "\n",
        "$\\color{green}{Ejemplo}$. La regla del trapecio para una función f en el intervalo $\\left[0,2\\right]$ es \n",
        "\n",
        "$$\\int_{0}^{2}f\\left(x\\right)dx\\approx f\\left(0\\right)+f\\left(2\\right)$$\n",
        "\n",
        "y la regla de Simpson para $f$ en $\\left[0,2\\right]$ es\n",
        "\n",
        "$$\\int_{0}^{2}f\\left(x\\right)dx\\approx\\frac{1}{3}\\left[f\\left(0\\right)+4f\\left(1\\right)+f\\left(2\\right)\\right] $$\n",
        "\n",
        "Calcular las correspondientes aproximaciones para\n",
        "\n",
        "$$x^{2},x^{4},\\frac{1}{\\left(x+1\\right)},\\,\\sqrt{1+x^{2}},\\,sen\\,x,\\,e^{x}$$\n",
        "\n",
        "Notar como en todos los casos, la regla de Simpson, proporciona una mejor aproximación.\n",
        "\n",
        "| $f\\left(x\\right)$        | $x^{2}$ |  $x^{4}$ | $\\frac{1}{x+1}$|$\\sqrt{1+x^{2}}$ |sin x |$e^{x}$ |\n",
        "| :-:  | :-: | :-: |  :-: | :-:  |   :-: |   :-: | \n",
        "| Valores exactos  | 2.667 |6.400 |1.099 |2.958 |1.416 |6.389 |\n",
        "| Trapecio | 4.00\t|16.00\t|1.333|\t3.326|\t0.909|\t8.389|\n",
        "| Simpson\t|2.667|\t6.667|\t1.111|\t2.964|\t1.425|\t6.421|\n",
        "\n",
        "### codigo en python"
      ]
    },
    {
      "cell_type": "code",
      "metadata": {
        "id": "VPf_wwHmw7-K",
        "outputId": "298b1787-fe94-4360-81fe-a2e366ffcb7a"
      },
      "source": [
        "def Simpson1_3():\n",
        "    # x0 punto inicial del intervalo \n",
        "    # x2 punto final del intervalo \n",
        "    # f funcion a integrar\n",
        "    x0=0\n",
        "    x2=1\n",
        "    h=(x2-x0)/2\n",
        "    x1=x0+h\n",
        "    def f(x):\n",
        "        return x*x\n",
        "        \n",
        "    integral=(h/3)*(f(x0)+4*f(x1)+f(x2))\n",
        "    \n",
        "    print(\"el valor de la integral mediante el metodo de cuadratura del  Trapecio Compuesto es: {}\".format(integral)) \n",
        "\n",
        "Simpson1_3()"
      ],
      "execution_count": null,
      "outputs": [
        {
          "output_type": "stream",
          "text": [
            "el valor de la integral mediante el metodo de cuadratura del  Trapecio Compuesto es: 0.3333333333333333\n"
          ],
          "name": "stdout"
        }
      ]
    },
    {
      "cell_type": "markdown",
      "metadata": {
        "id": "nWIDZP_Yw7-P"
      },
      "source": [
        "### 2.5.  Cuadratura de Simpson $\\frac{3}{8}$\n",
        "\n",
        "Esta regla se obtiene al integra el tercer polinomio de Lagrange en $\\left[a,b\\right]$ tomando los nodos $x_{0}=a,\\,x_{1}=a+h,\\,x_{2}=a+2h,\\,y\\,x_{3}=b$ donde $h=\\frac{b-a}{3}$\n",
        "\n",
        "es decir\n",
        "\n",
        "$$\\int_{a}^{b}f\\left(x\\right)dx\\approx\\int_{a}^{b}P_{3}\\left(x\\right)dx=\\frac{3h}{8} \\left[f\\left(x_{0}\\right)+3f\\left(x_{1}\\right)+3f\\left(x_{2}\\right)+f\\left(x_{3}\\right)\\right]$$\n",
        "\n",
        "Es importante notar que esta regla es una suma ponderada de los valores de $f\\left(x\\right)$ en los dos puntos finales $x_{0}=a$ y $x_{3}=b$, y los dos puntos $x_{1},x_{2}$ divide el intervalo en tres partes iguales.\n",
        "\n",
        "### codigo en python"
      ]
    },
    {
      "cell_type": "code",
      "metadata": {
        "id": "bbLbHny9w7-Q",
        "outputId": "520d7c21-e6b7-49d2-878c-9e3ff7765e1f"
      },
      "source": [
        "def Simpson3_8():\n",
        "    # x0 punto inicial del intervalo \n",
        "    # x3 punto final del intervalo \n",
        "    # f funcion a integrar\n",
        "    x0=0\n",
        "    x3=1\n",
        "    h=(x3-x0)/3\n",
        "    x1=x0+h\n",
        "    x2=x0+2*h\n",
        "    def f(x):\n",
        "        return x*x\n",
        "        \n",
        "    integral=(3/8)*h*(f(x0)+3*f(x1)+3*f(x2)+f(x3))\n",
        "    \n",
        "    print(\"el valor de la integral mediante el metodo de cuadratura del  Trapecio Compuesto es: {}\".format(integral)) \n",
        "\n",
        "Simpson3_8()"
      ],
      "execution_count": null,
      "outputs": [
        {
          "output_type": "stream",
          "text": [
            "el valor de la integral mediante el metodo de cuadratura del  Trapecio Compuesto es: 0.3333333333333333\n"
          ],
          "name": "stdout"
        }
      ]
    },
    {
      "cell_type": "markdown",
      "metadata": {
        "id": "N6J_kbU0w7-U"
      },
      "source": [
        "## 3. Cuadratura Gaussiana\n",
        "\n",
        "### Introducción.\n",
        "\n",
        "Las reglas vista en la sección anterior, también son conocidas como reglas de Newton-Cotes, se dedujeron integrando los polinomios de interpolación. El termino de error en el polinomio de interpolación de grado n contiene la $\\left(n+1\\right)-esima$ derivada.\n",
        "\n",
        "En todas las formulas de Newton-Cotes se emplean valores de la función equidistantes. Este procedimiento es adecuado cuando las reglas son combinadas para crear nuevas reglas compuestas, como las vistas con anterioridad.\n",
        "\n",
        "Sin embargo la restricción que pide a los nodo ser equidistantes, puede afectar considerablemente la exactitud de la aproximación.\n",
        "\n",
        "La cuadratura Gaussiana optimiza la forma de seleccionar los puntos a ser evaluados y no los toma en forma igualmente espaciada como se había visto en las reglas de Newton-Cotes.\n",
        "\n",
        "Se escogen los nodos $x_{1},x_{2},\\ldots,x_{n}$ en el intervalo $\\left[a,b\\right]$ y los coeficientes $c_{1},c_{2},\\ldots c_{n}$ para reducir en lo posible el error esperado que se obtiene al efectuar la aproximación\n",
        "\n",
        "$$ \\int_{a}^{b}f\\left(x\\right)dx\\approx\\sum_{i=1}^{n}c_{i}f\\left(x_{i}\\right)$$\n",
        "\n",
        "Los coeficientes (pesos) $c_{1},c_{2},\\ldots c_{n}$ son arbitrarios y los nodos (puntos de Gauss) $x_{1},x_{2},\\ldots,x_{n}$ están restringidos a pertenecer al intervalo $\\left[a,b\\right]$.\n",
        "\n",
        "Esto nos da $2n$ parámetros de donde elegir. Considerando la clase de polinomios de grado máximo $2n-1$ también contiene $2n$ parámetros, si es que los coeficientes de un polinomio se consideran parámetros.\n",
        "\n",
        "Esta clase de polinomios es la más amplia para la cual es razonable esperar que la regla devuelva un resultado exacto.\n",
        "\n",
        "Se mostrará cómo seleccionar los coeficientes y los nodos cuando $n=2$ y cuando el intervalo de integración es $\\left[-1,1\\right]$\n",
        "\n",
        "Después se explicara el caso mas general de una elección arbitraria de puntos y pesos, indicando como modificar el método cuando se integra en un intervalo arbitrario.\n",
        "\n",
        "### Cuadratura Gaussiana con n=2 puntos.\n",
        "\n",
        "Supongamos que se requiere determinar $c_{1},c_{2},x_{1},x_{2}$ de modo que la regla de integración\n",
        "\n",
        "$$\\int_{-1}^{1}f\\left(x\\right)dx\\approx c_{1}f\\left(x_{1}\\right)+c_{2}f\\left(x_{2}\\right)$$\n",
        "\n",
        "proporcione el resultado exacto siempre que $f\\left(x\\right)$ sea un polinomio de grado $2\\left(2\\right)-1=3$ o menor, es decir que sea un polinomio de la forma\n",
        "\n",
        "$$ f\\left(x\\right)=a_{0}+a_{1}x+a_{2}x^{2}+a_{3}x^{3} $$\n",
        "\n",
        "\n",
        "Dado que\n",
        "\n",
        "$$\\int f\\left(x\\right)dx=a_{0}\\int1dx+a_{1}\\int xdx+a_{2}\\int x^{2}dx+a_{3}\\int x^{3}d $$\n",
        "\n",
        "esto equivale a demostrar que la regla produce resultados exactos cuando $f\\left(x\\right)$ es $1,x,x^{2},x^{3}$\n",
        "\n",
        "Necesitamos $c_{1},c_{2},x_{1},x_{2}$ de manera tal que\n",
        "\n",
        "$$\\begin{array}{cc}\n",
        "{\\color{blue}{(a)}}\\,c_{1}*1+c_{2}*1=\\int_{-1}^{1}1dx=2\\quad & {\\color{blue}{(b)}}\\,c_{1}x_{1}+c_{2}x_{2}=\\int_{-1}^{1}xdx=0\\\\\n",
        "{\\color{blue}{(c)}}\\,c_{1}x_{1}^{2}+c_{2}x_{2}^{2}=\\int_{-1}^{1}x^{2}dx=\\frac{2}{3} & {\\color{blue}{(d)}}\\,c_{1}x_{1}^{3}+c_{2}x_{2}^{3}=\\int_{-1}^{1}x^{3}dx=0\n",
        "\\end{array}$$\n",
        "\n",
        "Las 4 incógnitas se puede determinar comenzando con (b)\n",
        "\n",
        "$$c_{2}=-\\frac{c_{1}x_{1}}{x_{2}} \\tag{6}$$\n",
        "\n",
        "Ahora substituyendo en (d) se tiene\n",
        "\n",
        "$$c_{1}x_{1}^{3}-c_{1}x_{1}x_{2}^{2}=0\\,\\Rightarrow\\,x_{1}^{2}=x_{2}^{2}$$\n",
        "\n",
        "Pero $x_{1}\\neq x_{2}$ por lo tanto se tiene que\n",
        "\n",
        "$$x_{1}=-x_{2} \\tag{7}$$\n",
        "\n",
        "Ahora substituyendo x_{1} en (6), tenemos que $c_{1}=c_{2}$ y usando (a)\n",
        "\n",
        "$$ c_{1}=c_{2}=1 \\tag{8}$$\n",
        "\n",
        "Si se substituye (7) y (8) en (c) se tiene\n",
        "\n",
        "$$x_{1}^{2}+x_{2}^{2}=\\frac{2}{3}\\,\\Rightarrow\\,x_{1}=\\frac{1}{\\sqrt{3}}$$\n",
        "\n",
        "Así tenemos que\n",
        "\n",
        "$$ c_{1}=1,\\quad c_{2}=1,\\quad x_{1}=\\frac{1}{\\sqrt{3}}\\;y\\;x_{2}=\\frac{-1}{\\sqrt{3}}$$\n",
        "\n",
        "Así que la regla para 2 puntos es\n",
        "\n",
        "$$\\int_{-1}^{1}f\\left(x\\right)dx\\approx f\\left(\\frac{1}{\\sqrt{3}}\\right)+f\\left(\\frac{-1}{\\sqrt{3}}\\right) $$ \n",
        "\n",
        "\n",
        "\n",
        "| n  puntos      | Coeficientes $C_{i}$ |  Puntos Gauss $x_{i}$ | \n",
        "| :-:  | :-: | :-: |  \n",
        "| 2  | $c_{1}=c_{2}=1$ | $x_{1}=0.578\\\\x_{2}=-0.578$ |\n",
        "| 3 | $c_{1}=0.556\\\\c_{2}=0.889\\\\c_{3}=0.556$ | $x_{1}=0.774\\\\x_{2}=0\\\\x_{3}=-0.774$ |\n",
        "\n",
        "### Cuadratura Gaussiana general.\n",
        "\n",
        "Una integral $\\int_{a}^{b}f\\left(x\\right)dx$ en un intervalo arbitrario $\\left[a,b\\right]$ se puede transformar en otra integral $\\int_{-1}^{1}f\\left(t\\right)dt$ en $\\left[-1,1\\right]$ usando el cambio de variable\n",
        "\n",
        "$$t=\\frac{2x-a-b}{b-a}\\Leftrightarrow x=\\frac{1}{2}\\left[\\left(b-a\\right)t+a+b\\right] $$\n",
        "\n",
        "Donde el diferencial de $x$ es $dx=\\frac{1}{2}\\left(b-a\\right)dt$. Esto nos permite aplicar la cuadratura Gaussiana a cualquier intervalo $\\left[a,b\\right]$, ya que\n",
        "\n",
        "$$ \\int_{a}^{b}f\\left(x\\right)dx=\\int_{-1}^{1}f\\left(\\frac{\\left(b-a\\right)t+\\left(b+a\\right)}{2}\\right)\\frac{\\left(b-a\\right)}{2}dt $$\n",
        "\n",
        "### Ejemplo\n",
        "\n",
        "Evalúe $\\int_{0}^{3}e^{-x^{2}}dx$. Usando $n=3$ puntos. Encuentre el error, empleando el valor analítico.\n",
        "\n",
        "El valor de la integral resolviendo de manera analíticamente es 0.886207.\n",
        "\n",
        "### codigo en python"
      ]
    },
    {
      "cell_type": "code",
      "metadata": {
        "id": "TRtZ_9obw7-V",
        "outputId": "0ebb6964-5586-4d95-b4e5-4b7967e32371"
      },
      "source": [
        "def CuaGauss():\n",
        "    # a punto inicial del intervalo \n",
        "    # b punto final del intervalo \n",
        "    # f funcion a integrar\n",
        "    a=0\n",
        "    b=1 \n",
        "    r=np.array([0.774,0.0,-0.774])\n",
        "    c=np.array([0.556,0.889,0.556])\n",
        "    def f(x):\n",
        "        return x*x\n",
        "    \n",
        "    cuadratura=0.0\n",
        "    jacobiano=(b-a)/2\n",
        "    for i in range(len(r)):\n",
        "        changeVar=0.0;changeVar=(( (b-a)*r[i])+b+a)/2\n",
        "        cuadratura+=c[i]*f(changeVar)\n",
        "        \n",
        "    integral=jacobiano*cuadratura\n",
        "    \n",
        "    print(\"el resultad de la integral con una cuadratura de 3 puntos es :{}\".format(integral))\n",
        "    \n",
        "CuaGauss()"
      ],
      "execution_count": null,
      "outputs": [
        {
          "output_type": "stream",
          "text": [
            "el resultad de la integral con una cuadratura de 3 puntos es :0.33339656400000006\n"
          ],
          "name": "stdout"
        }
      ]
    },
    {
      "cell_type": "code",
      "metadata": {
        "id": "lIYmADhoyS1o",
        "colab": {
          "base_uri": "https://localhost:8080/",
          "height": 331,
          "referenced_widgets": [
            "70b38f9dda22411aa04084a01aaea782",
            "fb45ec6ea3b047dba9d3ed7e568a925c",
            "88d536153b6a4c1696f9c67af3ec90ef",
            "bbc751bc2ea94315b8fc911450f1cf5f",
            "25b627567cf14cb0a19aefd641c68096",
            "fca8be1584d7429880d1d9dec4b0f09b",
            "066a7fc7885e4a02a7e9c93d29a747ad"
          ]
        },
        "outputId": "ef5a7242-ff4f-42b9-a3d7-1b5b8ebacdec"
      },
      "source": [
        "def grafica(n):\n",
        "  f = lambda x : 1/(1 + x**2)\n",
        "  a = 0; b = 5; N = n\n",
        "\n",
        "  # x and y values for the trapezoid rule\n",
        "  x = np.linspace(a,b,N+1)\n",
        "  y = f(x)\n",
        "\n",
        "  # X and Y values for plotting y=f(x)\n",
        "  X = np.linspace(a,b,100)\n",
        "  Y = f(X)\n",
        "  plt.plot(X,Y)\n",
        "\n",
        "  for i in range(N):\n",
        "      xs = [x[i],x[i],x[i+1],x[i+1]]\n",
        "      ys = [0,f(x[i]),f(x[i+1]),0]\n",
        "      plt.fill(xs,ys,'b',edgecolor='b',alpha=0.2)\n",
        "\n",
        "  plt.title('Trapezoid Rule, N = {}'.format(N))\n",
        "  plt.show()\n",
        "\n",
        "interact(grafica,n=widgets.IntSlider(min=4,max=30,step=1,value=2))"
      ],
      "execution_count": null,
      "outputs": [
        {
          "output_type": "display_data",
          "data": {
            "application/vnd.jupyter.widget-view+json": {
              "model_id": "70b38f9dda22411aa04084a01aaea782",
              "version_minor": 0,
              "version_major": 2
            },
            "text/plain": [
              "interactive(children=(IntSlider(value=4, description='n', max=30, min=4), Output()), _dom_classes=('widget-int…"
            ]
          },
          "metadata": {
            "tags": []
          }
        },
        {
          "output_type": "execute_result",
          "data": {
            "text/plain": [
              "<function __main__.grafica>"
            ]
          },
          "metadata": {
            "tags": []
          },
          "execution_count": 4
        }
      ]
    },
    {
      "cell_type": "markdown",
      "metadata": {
        "id": "Jz-VcnxDw7-a"
      },
      "source": [
        "## Referencias.\n",
        "\n",
        "1. Yuri N. Skiba: Introducción a los métodos numéricos, Dirección General de Publicaciones U.N.A.M.\n",
        "\n",
        "2. Ward Cheney, David Kincaid: Métodos Numéricos y Computación, Cenage Learning.\n",
        "\n",
        "3. Richard L. Burden, J. Douglas Faires:\\newblock Análisis Numérico, Math Learning.\n",
        "\n",
        "4. Riswan Butt: Numerical Analysys Using Matlab, Jones and Bartlett.\n",
        "\n",
        "5. Quarteroni, A, Sacco R.: Numerical mathematics, Springer. 2007."
      ]
    }
  ]
}