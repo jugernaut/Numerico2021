{
  "nbformat": 4,
  "nbformat_minor": 0,
  "metadata": {
    "kernelspec": {
      "display_name": "Python 3.7 (tensorflow)",
      "language": "python",
      "name": "tensorflow"
    },
    "language_info": {
      "codemirror_mode": {
        "name": "ipython",
        "version": 3
      },
      "file_extension": ".py",
      "mimetype": "text/x-python",
      "name": "python",
      "nbconvert_exporter": "python",
      "pygments_lexer": "ipython3",
      "version": "3.7.7"
    },
    "colab": {
      "name": "01_SolucionEcuacionesNoLineales.ipynb",
      "provenance": [],
      "toc_visible": true,
      "include_colab_link": true
    }
  },
  "cells": [
    {
      "cell_type": "markdown",
      "metadata": {
        "id": "view-in-github",
        "colab_type": "text"
      },
      "source": [
        "<a href=\"https://colab.research.google.com/github/jugernaut/Numerico2021/blob/desarrollo/02_EcuacionesNoLineales/01_SolucionEcuacionesNoLineales.ipynb\" target=\"_parent\"><img src=\"https://colab.research.google.com/assets/colab-badge.svg\" alt=\"Open In Colab\"/></a>"
      ]
    },
    {
      "cell_type": "markdown",
      "metadata": {
        "id": "mUjCEqICmjLt"
      },
      "source": [
        "<font color=\"Teal\" face=\"Comic Sans MS,arial\">\n",
        "  <h1 align=\"center\"><i>Ecuaciones no lineales</i></h1>\n",
        "  </font>\n",
        "  <font color=\"Black\" face=\"Comic Sans MS,arial\">\n",
        "  <h5 align=\"center\"><i>Profesor: M.en.C. Miguel Angel Pérez León.</i></h5>\n",
        "    <h5 align=\"center\"><i>Ayudante: Jesús Iván Coss Calderón.</i></h5>\n",
        "  <h5 align=\"center\"><i>Materia: Análisis Numérico.</i></h5>\n",
        "  </font>"
      ]
    },
    {
      "cell_type": "markdown",
      "metadata": {
        "id": "G_USq1PJmjLu"
      },
      "source": [
        "## Introducción\n",
        "\n",
        "Las ecuaciones no lineales se presentan en muchos fenómenos de la ciencia y la sociedad, como lo son:\n",
        "\n",
        "* Economia.\n",
        "* Demografía.\n",
        "* Clima.\n",
        "* Biología, entre otros.\n",
        "\n",
        "Una ecuación no lineal es toda aquella en la que cualquiera de las variables que forman parte de la ecuación no son de primer grado. Por tanto en este tipo de ecuaciones nos podemos encontrar polinomios de segundo grado, raíces, logaritmos, exponenciales, funciones trigonométricas, etc.\n",
        "\n",
        "Los métodos numéricos que se tratan en esta sección sirven para generar aproximaciones a las soluciones de este tipo de ecuaciones (no lineales), cuando no es posible obtener soluciones exactas o que es muy complicado encontrarlas con métodos algebraicos.\n",
        "\n",
        "El objetivo principal de este capítulo será aplicar algunos métodos numéricos para hallar raíces reales de ecuaciones no lineales de una variable, que satisfacen a una ecuación del tipo: $f(x)=0$\n",
        "\n",
        "• Los valores que hacen que una función $f(x)=0$ , se conocen con el nombre de raíces o ceros de $f$.\n",
        "\n",
        "• Se analizarán los siguientes métodos, por medio de los cuales se obtendrá un valor $x_{n}$ tal que:\n",
        "\n",
        "$$ x_{n} \\approx x \\hspace{2mm}\\left( x_{n} \\hspace{1mm} \\text{es la aproximación en la iteración n} \\right) $$\n",
        "\n",
        "$$ f(x_{n}) \\approx 0 \\hspace{2mm} \\left( f(x_{n}) \\hspace{1mm} \\text{es el valor de f evaluado en} \\hspace{1mm} x_{n} \\right)$$"
      ]
    },
    {
      "cell_type": "markdown",
      "metadata": {
        "id": "tp69gyUWm7eU"
      },
      "source": [
        "## Categorías de métodos\n",
        "\n",
        "Los métodos para encontrar solución a ecuaciones no lineales los podemos clasificar en 2 categorías.\n",
        "\n",
        "\n",
        "*   **Métodos cerrados**: requieren dos valores iniciales $x_{0}$ y $x_{1}$, que deben encerrar a la raíz.\n",
        "\n",
        "    *   Método de la bisección.\n",
        "\n",
        "    *  Método de la falsa posición.\n",
        "\n",
        "\n",
        "* **Métodos abiertos**: requieren un sólo valor de inicio $x_{0}$ o dos de ellos $x_{0}$ y $x_{1}$ , pero que no necesariamente deben encerrar a la raíz.\n",
        "\n",
        "    * Método de la secante.\n",
        "\n",
        "    * Método de Newton.\n",
        "    \n",
        "    \n",
        "Los métodos numéricos se basan en **iteraciones que generan sucesiones**, lo que significa que dado una aproximación inicial $x_{0}$ se emplea esta para encontrar el siguiente valor de $x_{1}$ de tal manera que para encontrar el valor de la solución final $x_{n}$ es necesario emplear $x_{n-1}$ para calcular dicho valor.\n",
        "\n",
        "Cabe mencionar que no existe un método universal para encontrar solución a ecuaciones no lineales. Algunos de ellos funcionarán sobre ciertos critérios y no servirán para resolver todo tipo de ecuación. Los métodos que presenten un buen comportamiento sobre alguna ecuación pueden no ser los mejores para resolver otro tipo de ecuaciones.\n",
        "\n",
        "De cada uno de los métodos vistos en esta sección (y de todos los métodos numéricos en general), es importante conocer sus ventajas y desventajas, así como su **complejidad computacional, crecimiento del error y rapidez de convergencia**.\n",
        "\n",
        "Ya se que se tenga una idea de las cualidades específicas de cada método, es más sencillo determinar cual de ellos aplicar y bajo que circunstancias."
      ]
    },
    {
      "cell_type": "markdown",
      "metadata": {
        "id": "FfQIZfj1mjLv"
      },
      "source": [
        "## Método de la bisección\n",
        "\n",
        "El problema de encontrar una aproximación a la raíz de una ecuación data del año 1700 a.C. Una tabla cuneiforme encontrada en Babilonia muestra el número sexagesimal (base 60) equivalente a 1.414222 como aproximación de $\\sqrt{2}$, resultado con una precisión de $10^{-5}$. Esta aproximación se puede encontrar empleando el algoritmo visto al inicio del curso.\n",
        "\n",
        "El primer método numérico que analizaremos y que se basa en el teorema del valor medio, se conoce como el método de la bisección o búsqueda binaria."
      ]
    },
    {
      "cell_type": "markdown",
      "metadata": {
        "id": "pSF5TTj5oslA"
      },
      "source": [
        "### Teorema del valor Intermedio\n",
        "\n",
        "Sea $f$ una función continua en un intervalo $[a,b]$. Entonces para cada $u$ tal que $f(a) < u < f(b) $ , existe al menos un $c \\in ( a, b) $ tal que $f(c)=u$.\n",
        "\n",
        "El teorea de valor intermdio, origina un resultado que nos ayudará a entender el método de la bisección, el resultado es el siguiente."
      ]
    },
    {
      "cell_type": "markdown",
      "metadata": {
        "id": "AhmbKxf-o4Uo"
      },
      "source": [
        "### Teorema de Bolzano\n",
        "\n",
        "Sea $f$ una función continua en un intervalo $[a,b]$ con $f(a)$ y $ f(b) $  de signos contrarios, es decir, $f(a)*f(b)<0 $ . Entonces existe al menos un $c \\in ( a, b) $ tal que $f(c)=0$."
      ]
    },
    {
      "cell_type": "markdown",
      "metadata": {
        "id": "_bNiTtmDpBlK"
      },
      "source": [
        "### Descripción del método\n",
        "\n",
        "* Para simplificar, asumimos que $[a,b]$ contiene exactamente una raíz $x$, (aunque el método también se puede aplicar cuando hay mas de una raíz en $[a,b]$; pero cuando esto sucede no se garantiza que el método sea convergente a la solución buscada. \n",
        "\n",
        "* El método consiste en dividir sucesivamente el intervalo $[a,b]$ por la mitad y evaluar ese punto para saber si se tiene una raíz o en su defecto hasta que la longitud del intervalo tienda a cero.\n",
        "\n",
        "* Un prerequisito para garantizar la convergencia de este método es garantizar que $f$ es continua en $[a,b]$ y que en este intervalo se encuentra exactamente una raíz; si se cumplen ambos se garantiza convergencia, pero no significa que si uno de ellos no se cumple, el método vaya sea divergente.\n"
      ]
    },
    {
      "cell_type": "markdown",
      "metadata": {
        "id": "dNcGXm5UojTZ"
      },
      "source": [
        "### Algoritmo\n",
        "\n",
        "1. Se calcula la primera iteración $(n=1)$ el punto medio del intervalo, que sera la primera aproximación de la raíz, este valor esta dado por:\n",
        "\n",
        "$$x_{1}=a+\\frac{b-a}{2}=\\frac{2a+b-a}{2}=\\frac{a+b}{2}$$\n",
        "\n",
        "* Para obtener el n-esimo punto medio, la ecuación seria:\n",
        "\n",
        "$$x_{n}=\\frac{a+b}{2} \\tag{1}$$\n",
        "\n",
        "A la ecuación (1) se le denomina método iterativo del punto medio, actualizando iterativamente los valores de $a$ y $b$.\n",
        "\n",
        "2. Se verifican los signos de $f(a)*f(x_{n})$ y $f(x_{n})*f(b)$, para saber en que subintervalo se encuentra la raíz:\n",
        "\n",
        "    *  Si $f(a)*f(x_{n})<0$, entonces en el subintervalo $[a,x_{n}]$ se encuentra la raíz, renombrando $a=a$ y $b=x_{n}$.\n",
        "\n",
        "    * Si $f(a)*f(x_{n})>0$, entonces en el subintervalo $[x_{n},b]$ se encuentra la raíz, renombrando $a=x_{n}$ y $b=b$.\n",
        "    * Si $f(a)*f(x_{n})=0$, entonces $x_{n}$ es la raíz. Debido a los errores de redondeo, es poco probable que $f(x_{n})=0$ , por lo que se deben de utilizar otros criterios para saber cuando detener el algoritmo.\n",
        "    \n",
        "**Tolerancia**\n",
        "\n",
        "Si ocurre alguno de los dos primeros casos $(f(a)*f(x_{n})<0$,$ \\hspace{1mm} f(a)*f(x_{n})>0 )$ se calcula para la segunda iteración el punto medio del nuevo intervalo mediante la ecuación (1), siendo esta la aproximación mas actualizada de la raíz.\n",
        "\n",
        "Se repite el proceso hasta que se cumplan los siguientes criterios de convergencia.\n",
        "\n",
        "$$ \\left|\\frac{x_{n}-x_{n-1}}{x_{n}}\\right|\\leq Tol \\tag{2} $$\n",
        "\n",
        "$$ \\left|f(x_{n})\\right|\\leq Tol \\tag{3} $$\n",
        "\n",
        "$$ N<n \\tag{4} $$\n",
        "\n",
        "Donde Tol es alguna tolerancia definida $>0$ y $N$ es un número máximo de iteraciones.\n",
        "\n",
        "Se deben cumplir simultáneamente los criterios (2) y (3) para asegurar que se ha encontrado una aproximación de la raíz. En su defecto se debe cumplir el criterio (4) el cual indica que no se ha logrado la convergencia.\n",
        "\n",
        "**Pseudocódigo**"
      ]
    },
    {
      "cell_type": "markdown",
      "metadata": {
        "id": "L1OQNQObmjLw"
      },
      "source": [
        "![AlgoritmoBiseccion](https://docs.google.com/uc?export=download&id=1UNilzJIvFcMjdEsqkgixZORhbn42Kg7S)"
      ]
    },
    {
      "cell_type": "markdown",
      "metadata": {
        "id": "FlJk5wW_mjLx"
      },
      "source": [
        "![EsquemaBiseccion](https://docs.google.com/uc?export=download&id=1UT66cZo_KY2-MWJAMJTLEwWVVfITMJ0L)"
      ]
    },
    {
      "cell_type": "code",
      "metadata": {
        "id": "8zuMKOkGmjLy",
        "outputId": "64d661bd-2c88-49e6-c3ff-922a08013da5",
        "colab": {
          "base_uri": "https://localhost:8080/",
          "height": 50
        }
      },
      "source": [
        "!git clone https://github.com/jugernaut/Numerico2021.git\n",
        "import os\n",
        "import numpy as np\n",
        "import matplotlib.pyplot as plt\n",
        "import Numerico2021.Utils.gutils as vis\n",
        "%matplotlib inline\n",
        "\n",
        "'''Esta funcion implementa el metodo de la biseccion\n",
        "para encontrar la raiz de una funcion.\n",
        "f:   funcion de la cual se busca la raiz\n",
        "Tol: tolerancia del error numerico\n",
        "N:   numero maximo de iteraciones\n",
        "a:   limite inferior del rango inicial\n",
        "b:   limite superior del rango inicial\n",
        "'''\n",
        "def biseccion(f,Tol,N,a,b):\n",
        "    fa=f(a)\n",
        "    fb=f(b)\n",
        "    #no hay un cambio de signo (teorema del valor medio)\n",
        "    #no existe raiz en el intervalo [a,b]\n",
        "    if fa*fb>0:\n",
        "        print (\"no hay raiz en [a,b]\")\n",
        "        return\n",
        "    #contador de iteraciones    \n",
        "    n=1\n",
        "    x0=0.0\n",
        "    #mientras no se exceda el numero de iteraciones\n",
        "    while n<=N:\n",
        "        #se busca la raiz en el punto medio\n",
        "        x1=(a+b)/2.0\n",
        "        fx=f(x1)\n",
        "        #en caso de que la iteracion siguiente y la diferencia\n",
        "        #entre la iteracion anterior no excedan Tol, entonces\n",
        "        #la iteracion actual se aproxima a la solucion buscada\n",
        "        if abs(f(x1)) <= Tol and abs(x1-x0) <= Tol:\n",
        "            return x1\n",
        "        #en caso de no cumplir el criterio de tolerancia\n",
        "        #se actualiza el rango de busqueda\n",
        "        if (fa*fx <0.0):\n",
        "            b=x1 \n",
        "        if (fx*fa >0.0):      \n",
        "            a=x1\n",
        "        x0=x1\n",
        "        #se incrementa el contador de iteraciones\n",
        "        n=n+1\n",
        "\n",
        "def f(x):\n",
        "  return (x**2)-1\n",
        "\n",
        "raiz = biseccion(f,0.001,1000,-0.75,1)\n",
        "print(\"La raíz es:\", raiz)"
      ],
      "execution_count": 4,
      "outputs": [
        {
          "output_type": "stream",
          "text": [
            "fatal: destination path 'Numerico2021' already exists and is not an empty directory.\n",
            "La raíz es: 0.99957275390625\n"
          ],
          "name": "stdout"
        }
      ]
    },
    {
      "cell_type": "markdown",
      "metadata": {
        "id": "wj9BDjNR6ZU4"
      },
      "source": [
        "En el siguiente interactivo se muestra la gráfica correspondiente a $f(x)$"
      ]
    },
    {
      "cell_type": "code",
      "metadata": {
        "id": "DUeRg-teySPV",
        "outputId": "0d4682d9-2ff7-4358-9860-6de07a301de9",
        "colab": {
          "base_uri": "https://localhost:8080/",
          "height": 386
        }
      },
      "source": [
        "# LINUX y MACOS\n",
        "#%run \"./02_Continuidad_interactive.ipynb\"\n",
        "\n",
        "# WINDOWS\n",
        "#%run \"D:\\\\GitSites\\\\PAPIME_PE101019_Materiales\\\\01_Calculo\\\\07_SeriesDeTaylor_interactive.ipynb\"\n",
        "\n",
        "# Google Coolab\n",
        "%run \"/content/Numerico2021/02_EcuacionesNoLineales/Biseccion_interactive.ipynb\""
      ],
      "execution_count": 2,
      "outputs": [
        {
          "output_type": "stream",
          "text": [
            "fatal: destination path 'Numerico2021' already exists and is not an empty directory.\n"
          ],
          "name": "stdout"
        },
        {
          "output_type": "display_data",
          "data": {
            "image/png": "[encoded data removed]",
            "text/plain": [
              "<Figure size 720x360 with 1 Axes>"
            ]
          },
          "metadata": {
            "tags": [],
            "needs_background": "light"
          }
        }
      ]
    },
    {
      "cell_type": "markdown",
      "metadata": {
        "id": "tAwOJsrjmjL3"
      },
      "source": [
        "### Análisis de Convergencia\n",
        "\n",
        "**Teorema:**\n",
        "\n",
        "Si $f$ es una función continua definida en el intervalo $[a,b]$, y se satisface $f(a)*f(b)<0$. El método de bisección genera una sucesión $\\left\\{ x_{n}\\right\\} _{n=1}^{\\infty}$ que aproxima una raíz $x$ de $f$, tal que:  \n",
        "$$\\left|x-x_{n}\\right|\\leq\\frac{b-a}{2^{n}}\\leq Tol,\\quad para\\,n \\geq 1 $$\n",
        "\n",
        "*Demostración:*\n",
        "\n",
        " Para cada $n \\geq 1$, tenemos \n",
        " \n",
        " $$b_{n}-a_{n}=\\frac{1}{2^{n-1}}(b-a)\\quad y\\quad x\\in(a_{n},b_{n})$$.\n",
        " \n",
        " Y como $x_{n}=\\frac{1}{2}(a_{n}+b_{n})$ para toda $n \\geq 1$, se deduce que\n",
        " \n",
        " $$\\left|x-x_{n}\\right|\\leq\\frac{1}{2}(b_{n}-a_{n})=\\frac{1}{2}\\left(\\frac{1}{2^{n-1}}(b-a)\\right)=\\frac{b-a}{2^{n}}$$\n",
        " \n",
        "Por lo tanto\n",
        "\n",
        "$$\\left|x-x_{n}\\right|\\leq\\frac{b-a}{2^{n}} $$\n",
        " \n",
        "**¿Cuantas iteraciones?**.\n",
        "\n",
        "Para conocer cuantas iteraciones son necesarias considerando que *Tol* ya fue preestablecido, basta con resolver la desigualdad para n del teorema anterior. Lo que nos da como resultado.\n",
        "\n",
        "$$\\Longrightarrow \\frac{b-a}{2^{n}} \\leq Tol$$\n",
        "\n",
        "$$ b-a \\leq 2^{n}Tol $$\n",
        "\n",
        "$$ \\frac{b-a}{Tol} \\leq 2^{n} $$\n",
        "\n",
        "$$ log\\left(\\frac{b-a}{Tol}\\right) \\leq \\log2^{n}$$\n",
        "\n",
        "$$ log\\left(\\frac{b-a}{Tol}\\right) \\leq n\\log2 $$\n",
        "\n",
        "$$ \\frac{\\log\\left(\\frac{b-a}{Tol}\\right)}{\\log2} \\leq n $$\n",
        "\n",
        "$$ \\therefore N > \\frac{\\log\\left(\\frac{b-a}{Tol}\\right)}{\\log2}$$\n",
        "\n",
        "Es importante recalcar que a pesar de que este resultado nos da una idea de la cota para el número de iteraciones, en realidad se tienen que realizar más iteraciones, debido a que para que el algoritmo termine es necesario cumplir ambos criterios señalados previamente.\n",
        "\n",
        "**Ventajas**.\n",
        "\n",
        "* Encuentra una raíz aún cuando la función no sea analítica.\n",
        "\n",
        "* Si existe una raíz, este método siempre converge.\n",
        "\n",
        "* Es de los métodos mas sencillos de programar.\n",
        "\n",
        "**Desventajas**.\n",
        "\n",
        "* Su convergencia es muy lenta comparada con la convergencia de otros métodos, por lo que se sugiere escoger un intervalo inicial $[a,b]$, tan pequeño como sea posible.\n",
        "\n",
        "* Es mandatario, encontrar un intervalo donde exista al menos una raíz.\n"
      ]
    },
    {
      "cell_type": "markdown",
      "metadata": {
        "id": "dQrq-VVomjL4"
      },
      "source": [
        "## Método de la falsa posición\n",
        "\n",
        "El método de la falsa posición debe su nombre a que búsca una raíz de la funcion $f(x)$ a partir de una falsa posición."
      ]
    },
    {
      "cell_type": "markdown",
      "metadata": {
        "id": "8mFQwD4uuSq9"
      },
      "source": [
        "### Descripción del método\n",
        "\n",
        "* Comienza con un intervalo $[a,b]$, que encierra a la raíz, es decir $f(a)$ y $f(b)$ son de signos opuestos, (teorema del valor medio).\n",
        "\n",
        "* Es similar al método de bisección ya que consiste en generar subintervalos que encierren a la raíz; pero la aproximación de la raíz $x_{n}$ no se obtiene con el punto medio, sino con la intersección de la recta secante a la curva que une a los puntos $(a,f(a))$ y $(b,f(b))$, con el eje $x$; proporcionando una mejor estimación de la raíz.\n",
        "\n",
        "* El reemplazamiento de la curva por una línea recta da una \"falsa posición\" de la raíz, de aquí el nombre del método.\n",
        "\n",
        "* Se repite este proceso substituyendo uno de los extremos del intervalo por el valor de la nueva iteración y de la función evaluada en ese punto, es decir $(x_{n},f(x_{n}))$."
      ]
    },
    {
      "cell_type": "markdown",
      "metadata": {
        "id": "-9htmsgNoaRQ"
      },
      "source": [
        "### Algoritmo\n",
        "\n",
        "El primer paso para aplicar el método de la falsa posición y garantizar que sea converjente a la solución, es comprobar que $f$ es continua en el intervalo $[a,b]$, y que en éste intervalo se encuentre una raíz $f(a)*f(b)<0$, si se cumplen estos dos requisitos se garantiza la convergencia del método.\n",
        "\n",
        "*Repaso de Kinder*\n",
        "\n",
        "Dado que ambos puntos $(a,f(a))$ y $(b,f(b))$ pertenecen a la misma recta, ambos deben tener la misma pendiente. Así, la ecuación de la recta que pasa por los puntos $(a,f(a))$ y $(b,f(b))$ esta dada por \n",
        "\n",
        "$$ m=\\frac{f(b)-f(a)}{b-a}\t\\quad y \\quad\tm=\\frac{f(x)-f(a)}{x-a}$$\n",
        "\n",
        "$$ \\frac{f(b)-f(a)}{b-a}\t=\t\\frac{f(x)-f(a)}{x-a}$$\n",
        "\n",
        "A continuación, se calcula la intersección con el eje $x$ (el valor $f(x)$ se iguala a cero) de la recta secante a la curva que pasa por los puntos $(a,f(a))$  y $(b,f(b))$ , que será la primera aproximación de la raíz. Este valor esta dado por:\n",
        "\n",
        "$$ (x-a)(f(b)-f(a)) = (b-a)(-f(a))$$\n",
        "\n",
        "$$xf(b)-xf(a)-af(b)+af(a) = -bf(a)+af(a)$$\n",
        "\n",
        "$$ xf(b)-xf(a)-af(b) = -bf(a)$$\n",
        "\n",
        "$$ x(f(b)-f(a)) = af(b)-bf(a) $$\n",
        "\n",
        "$$ x = \\frac{af(b)-bf(a)}{f(b)-f(a)} $$\n",
        "\n",
        "*Método iterativo de la falsa posición*\n",
        "\n",
        "$$ x_{n}=\\frac{af(b)-bf(a)}{f(b)-f(a)} \\tag{5} $$ \n",
        "\n",
        "* A continuación se verifican los signos de $f(a)*f(x_{n})$  y $f(x_{n})*f(b)$ , para saber en que subintervalo se encuentra la raíz (como en el método de bisección):\n",
        "\n",
        "    * Si $f(a)*f(x_{n})<0$, entonces en el subintervalo $[a,x_{n}]$, se encuentra la raíz, renombrando $b=x_{n}$.\n",
        "    \n",
        "    * Si $f(a)*f(x_{n})>0$, entonces en el subintervalo $[x_{n},b]$ se encuentra la raíz, renombrando $a=x_{n}$.\n",
        "\n",
        "    * Si $f(a)*f(x_{n})=0$, entonces $x_{n}$ es la raíz. \n",
        "\n",
        "* Si ocurre alguno de los dos primeros casos se calcúla la intersección con el eje $x$ de la recta secante a la curva con la ecuación (5), siendo ésta la aproximación más actualizada de la raíz.\n",
        "\n",
        "* Al igual que en el método de bisección se repite el proceso hasta que se cumplan los criterios de convergencia de las ecuaciones (2), (3) y (4)\n",
        "\n",
        "**Pseudocódigo**"
      ]
    },
    {
      "cell_type": "markdown",
      "metadata": {
        "id": "tN8BfuapmjL4"
      },
      "source": [
        "![AlgFalsa](https://docs.google.com/uc?export=download&id=1dAucIGajmnDIvFF4rsWE4gsFo50rvYMn)"
      ]
    },
    {
      "cell_type": "markdown",
      "metadata": {
        "id": "fRY1h4jQmjL5"
      },
      "source": [
        "![EsqFalsa](https://docs.google.com/uc?export=download&id=15pgdqb2mmAffSch7fjdwKFdTJl258UN1)"
      ]
    },
    {
      "cell_type": "code",
      "metadata": {
        "id": "pmbYbkT4mjL6",
        "outputId": "67984812-b6b4-4c6c-dcd4-2c806927e9b9",
        "colab": {
          "base_uri": "https://localhost:8080/",
          "height": 296
        }
      },
      "source": [
        "'''Esta funcion implementa el metodo de la falsa posicion\n",
        "para encontrar la raiz de una funcion.\n",
        "f:   funcion de la cual se busca la raiz\n",
        "Tol: tolerancia del error numerico\n",
        "N:   numero maximo de iteraciones\n",
        "a:   limite inferior del rango inicial\n",
        "b:   limite superior del rango inicial\n",
        "'''\n",
        "def falsaPosicion(f,Tol,N,a,b):\n",
        "    fa=f(a)\n",
        "    fb=f(b)\n",
        "    #en caso de que no haya cambio de signo, no existe raiz\n",
        "    if fa*fb>0:\n",
        "      print(\"no hay raiz en [a,b]\")\n",
        "      return\n",
        "    #contador de iteraciones\n",
        "    n=1\n",
        "    #mientras el contador no exceda el numero de iteraciones\n",
        "    while n<=N:\n",
        "        #se actualiza el rango de busqueda\n",
        "        fa=f(a)\n",
        "        fb=f(b)\n",
        "        #se calcula la nueva iteracion\n",
        "        x0= (a*fb-b*fa)/(fb-fa)\n",
        "        fx=f(x0)\n",
        "        #si se cumple el criterio de busqueda terminamos\n",
        "        if abs(fx)<=Tol:\n",
        "            print (\"la raiz e \",x0)\n",
        "            return\n",
        "        #en caso contrario se actualizan los criterios de busqueda\n",
        "        if fa*fx>0:\n",
        "            a=x0         \n",
        "        if fx*fa<0:      \n",
        "            b=x0     \n",
        "        x1= (a*fb-b*fa)/(fb-fa)\n",
        "        #si se cumplen ambos criterios, el algoritmo termina\n",
        "        if abs( f(x1)) <= Tol and abs((x1-x0)/x1) <= Tol:\n",
        "            print (\" la raiz en falsa posicion es \",x1)\n",
        "            return \n",
        "        #en caso contrario se incrementa el contador de iteraciones\n",
        "        n=n+1\n",
        "\n",
        "grafica(f)\n",
        "\n",
        "falsaPosicion(f,0.001,1000,-1,1)"
      ],
      "execution_count": null,
      "outputs": [
        {
          "output_type": "stream",
          "text": [
            "la raiz e  0.0\n"
          ],
          "name": "stdout"
        },
        {
          "output_type": "display_data",
          "data": {
            "image/png": "[encoded data removed]",
            "text/plain": [
              "<Figure size 432x288 with 1 Axes>"
            ]
          },
          "metadata": {
            "tags": [],
            "needs_background": "light"
          }
        }
      ]
    },
    {
      "cell_type": "markdown",
      "metadata": {
        "id": "pcAvkL7emjL-"
      },
      "source": [
        "## Método de la secante\n",
        "\n",
        "El método de la secante debe su nombre a que emplea una recta secante a $f(x)$ para dar una aproximación de la raíz."
      ]
    },
    {
      "cell_type": "markdown",
      "metadata": {
        "id": "ZBPOdYtXpBb_"
      },
      "source": [
        "### **Descripción del método**\n",
        "\n",
        "*  El método de la secante es un paso previo al método de Newton, este método aproxima la derivada $f'(x_{n})$ mediante la recta secante. Este método es parecido al método de la falsa posición, ya que ambos comienzan con un intervalo y se basan en la formula de la interpolación lineal.\n",
        "\n",
        "\n",
        "*  Al igual que el método de la falsa posición la aproximación a la raíz $x_{n}$, se obtiene con la intersección de la recta secante a la curva que une los puntos $(x_{0},f(x_{0}))$ y $(x_{1},f(x_{1}))$ con el eje $x$ y se denota $x_{2}$, siendo esta ultima una mejor aproximación de la raíz.\n",
        "\n",
        "\n",
        "*  Este proceso se repite de tal manera que para encontrar la aproximación de la raíz $x_{n}$, se emplean las aproximaciones $x_{n-1}$ y $x_{n-2}$.\n",
        "\n",
        "\n",
        "*  El algoritmo termina cuando se cumplen los criterios de convergencia (2), (3) y (4)."
      ]
    },
    {
      "cell_type": "markdown",
      "metadata": {
        "id": "bvd2dvz6pE1v"
      },
      "source": [
        "### Algoritmo\n",
        "\n",
        "Para poder encontrar la intersección de la recta secante con la curva que une los puntos $(x_{0},f(x_{0}))$ y $(x_{1},f(x_{1}))$, se emplea la siguiente igualdad trigonométrica\n",
        "\n",
        "$$\\cot\\theta=\\frac{cateto\\hspace{1mm} adyacente}{cateto \\hspace{1mm}opuesto}$$\n",
        "\n",
        "Posteriormente se substituyen los puntos antes mencionados en la identidad trigonométrica\n",
        "\n",
        "$$\\cot\\theta=\\frac{x_{1}-x_{2}}{f(x_{1})} \\quad cot\\theta=\\frac{x_{1}-x_{0}}{f(x_{1})-f(x_{0})}$$\n",
        "\n",
        "El resto del desarrollo consiste en igualar ambas ecuaciones y despejar $x_{2}$, ya que es el valor buscado\n",
        "\n",
        "$$ \\Longrightarrow \\frac{x_{1}-x_{2}}{f(x_{1})}\t=\t\\frac{x_{1}-x_{0}}{f(x_{1})-f(x_{0})}$$\n",
        "\n",
        "$$x_{2}\t=\tx_{1}-f(x_{1})\\frac{x_{1}-x_{0}}{f(x_{1})-f(x_{0})}$$\n",
        "\n",
        "De manera que para obtener la n-esima intersección con el eje x de la recta secante a la curva, la ecuación seria:\n",
        "\n",
        "$$ x_{n}=x_{n-1}-f(x_{n-1})\\frac{x_{n-1}-x_{n-2}}{f(x_{n-1})-f(x_{n-2})} \\tag{6}$$\n",
        "\n",
        "A la ecuación (6) se le conoce como el método iterativo del método de la secante.\n",
        "\n",
        "**Pseudocódigo**"
      ]
    },
    {
      "cell_type": "markdown",
      "metadata": {
        "id": "FbKqtqUomjL_"
      },
      "source": [
        "![AlgSec](https://docs.google.com/uc?export=download&id=15xpQkuhRpmZ3AKpkj7yUeZ8387JmhdWB)"
      ]
    },
    {
      "cell_type": "markdown",
      "metadata": {
        "id": "rcvDSN4emjMA"
      },
      "source": [
        "![EsqSec](https://docs.google.com/uc?export=download&id=1yi0gX8EDQyetz0yfl6DN77RWa1xAgGLG)"
      ]
    },
    {
      "cell_type": "code",
      "metadata": {
        "id": "sb1rODtKmjMB"
      },
      "source": [
        "def secante(f,Tol,N,x0,x1):\n",
        "    fx0=f(x0)\n",
        "\n",
        "    fx1=f(x1)\n",
        "    n=1\n",
        "\n",
        "    while n<=N:\n",
        "\n",
        "        xn= x1- ( fx1*( (x1-x0)/(fx1-fx0)) )\n",
        "\n",
        "        if abs( f(xn)) <= Tol and abs((xn-x1)/x1) <= Tol:\n",
        "           #if ma.abs( f(xn)) <= Tol and ma.abs((xn-x1)/x1) <= Tol:\n",
        "            print (\" la raiz secante es \",xn)\n",
        "            return \n",
        "        n=n+1\n",
        "\n",
        "        x0=x1\n",
        "        x1=xn\n",
        "        fx0=f(x0)\n",
        "        fx1=f(x1)"
      ],
      "execution_count": null,
      "outputs": []
    },
    {
      "cell_type": "markdown",
      "metadata": {
        "id": "UeMPtgf_mjME"
      },
      "source": [
        "**Ventajas**\n",
        "\n",
        "* No hay que calcular la derivada de $f$.\n",
        "\n",
        "* La convergencia del método es superlineal.\n",
        "\n",
        "**Desventajas**\n",
        "\n",
        "* El método puede converger a una raíz no deseada o puede no converger del todo si la estimación inicial no es buena.\n",
        "\n",
        "* Si dos aproximaciones sucesivas están demasiado cercanas, entonces también $f(x_{n+1})$ y $f(x_{n})$ están muy cercanas, por lo que aparece un error de redondeo significativo en la ecuación."
      ]
    },
    {
      "cell_type": "markdown",
      "metadata": {
        "id": "2u2PPQpOmjMF"
      },
      "source": [
        "## Método de Newton\n",
        "\n",
        "**Descripción del método**\n",
        "\n",
        "* El método de Newton comienza con una aproximación inicial $x_{0}$ a la raíz, a continuación se traza una recta tangente a la curva en el punto $\\left(x_{0},\\,f\\left(x_{0}\\right)\\right)$. La intersección de la recta tangente con el eje x, se denota como $x_{1}$ y se considera una mejor aproximación de la raíz.\n",
        "\n",
        "\n",
        "* Después se traza otra recta tangente a la curva en el punto $\\left(x_{1},\\,f\\left(x_{1}\\right)\\right)$. La nueva intersección de la recta tangente con el eje $x$, se denota como $x_{2}$ y se considera una mejor aproximación de la raíz.\n",
        "\n",
        "\n",
        "* El proceso se repite hasta que se cumplan los criterios de convergencia de las ecuaciones.\n",
        "\n",
        "\n",
        "* El método de Newton, se puede aplicar para hallar raíces complejas, siempre y cuando el valor inicial $x_{0}$ sea un número complejo.\n",
        "\n",
        "**Algoritmo**\n",
        "\n",
        "La intersección de la recta tangente con el eje $x$ se puede calcular de la siguiente manera:\n",
        "\n",
        "\n",
        "$$tan\\theta\t=\t\\frac{cateto \\hspace{1mm}opuesto}{cateto\\hspace{1mm}adyacente}$$\n",
        "\n",
        "$$tan\\theta=\\frac{f\\left(x_{0}\\right)}{x_{0}-x_{1}}=f^{'}(x_{0})$$\n",
        "\n",
        "Se iguala a la primera derivada de $x_{0}$, ya que ésta es equivalente a la pendiente :\n",
        "\n",
        "$$f^{'}\\left(x_{0}\\right) = \\frac{f\\left(x_{0}\\right)-0}{x_{0}-x_{1}}$$\n",
        "\n",
        "$$ \\Rightarrow \\frac{f\\left(x_{0}\\right)}{x_{0}-x_{1}} = f^{'}(x_{0})$$\n",
        "\n",
        "$$ \\left(x_{0}-x_{1}\\right)f^{'}\\left(x_{0}\\right) = f(x_{0})$$\n",
        "\n",
        "$$ f\\left(x_{0}\\right) = x_{0}f^{'}\\left(x_{0}\\right)-x_{1}f^{'}\\left(x_{0}\\right)$$\n",
        "\n",
        "$$ x_{1}f^{'}\\left(x_{0}\\right) = x_{0}f^{'}\\left(x_{0}\\right)-f\\left(x_{0}\\right)$$\n",
        "\n",
        "$$ x_{1} = x_{0}-\\frac{f\\left(x_{0}\\right)}{f^{'}\\left(x_{0}\\right)}$$\n",
        "\n",
        "**Método iterativo de Newton**\n",
        "\n",
        "Para obtener la n-esima intersección con el eje $x$ de la recta tangente a la curva, la ecuación sería:\n",
        "\n",
        "$$ x_{n+1}=x_{n}-\\frac{f\\left(x_{n}\\right)}{f^{'}\\left(x_{n}\\right)}$$\n",
        "\n",
        "**Pseudocódigo**"
      ]
    },
    {
      "cell_type": "markdown",
      "metadata": {
        "id": "tW9LMWrWmjMG"
      },
      "source": [
        "![AlgNew](https://docs.google.com/uc?export=download&id=11ruYBGfJYDaN3f5hXSVzda6L_GIPtfzc)"
      ]
    },
    {
      "cell_type": "markdown",
      "metadata": {
        "id": "gEzzgezumjMH"
      },
      "source": [
        "![EsqNew](https://docs.google.com/uc?export=download&id=1d4jgJZ9jjtz9KHfHZUuCNEMmclODDyaH)"
      ]
    },
    {
      "cell_type": "code",
      "metadata": {
        "id": "9OnGKC6tmjMH"
      },
      "source": [
        "def Newton(f,df,Tol,N,x0):\n",
        "\n",
        "    n=1\n",
        "\n",
        "    while n<=N:\n",
        "\n",
        "        fx0=f(x0)\n",
        "        dfx0=df(x0)\n",
        "        xn= x0-(fx0/dfx0)\n",
        "\n",
        "        if abs( f(xn)) <= Tol and abs((xn-x0)/x0) <= Tol:\n",
        "        #if ma.abs( f(xn)) <= Tol and ma.abs((xn-x0)/x0) <= Tol:\n",
        "            print (\" la raiz es \",xn)\n",
        "            return \n",
        "        n=n+1\n",
        "        if n==N and abs( f(xn)) > Tol and abs((xn-x0)/x0) > Tol:\n",
        "            print (\" no hay buena aproximacion, pero la raiz en Newton es\", xn)"
      ],
      "execution_count": null,
      "outputs": []
    },
    {
      "cell_type": "markdown",
      "metadata": {
        "id": "yW4lrjqMmjML"
      },
      "source": [
        "## Referencias\n",
        "\n",
        "1.Riswan Butt:Numerical Analysys Using Matlab, Jones and Bartlett.\n",
        "\n",
        "2.Ward Cheney, David Kincaid: Métodos Numéricos y Computación, Cenage Learning.\n",
        "\n",
        "3.Richard L. Burden, J. Douglas Faires: Análisis Numérico, Math Learning."
      ]
    }
  ]
}