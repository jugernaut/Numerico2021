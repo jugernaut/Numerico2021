{
  "nbformat": 4,
  "nbformat_minor": 0,
  "metadata": {
    "colab": {
      "name": "Biseccion_interactive.ipynb",
      "provenance": [],
      "authorship_tag": "ABX9TyP9NkC2PqOM/wzqdpzuWeHZ",
      "include_colab_link": true
    },
    "kernelspec": {
      "name": "python3",
      "display_name": "Python 3"
    }
  },
  "cells": [
    {
      "cell_type": "markdown",
      "metadata": {
        "id": "view-in-github",
        "colab_type": "text"
      },
      "source": [
        "<a href=\"https://colab.research.google.com/github/jugernaut/Numerico2021/blob/desarrollo/02_EcuacionesNoLineales/Biseccion_interactive.ipynb\" target=\"_parent\"><img src=\"https://colab.research.google.com/assets/colab-badge.svg\" alt=\"Open In Colab\"/></a>"
      ]
    },
    {
      "cell_type": "code",
      "metadata": {
        "id": "abvBbl0d5eXH"
      },
      "source": [
        "!git clone https://github.com/jugernaut/Numerico2021.git\n",
        "import os\n",
        "import numpy as np\n",
        "import matplotlib.pyplot as plt\n",
        "import Numerico2021.Utils.gutils as vis\n",
        "%matplotlib inline\n",
        "\n",
        "x4 = np.arange(-1, 1, 0.1)\n",
        "y4 = [f(i) for i in x4]\n",
        "raiz = biseccion(f,0.001,1000,-1,1)\n",
        "\n",
        "par = [{'title':'$f(x) = x^3$', \n",
        "        'xlabel':'$x$',\n",
        "        'ylabel':'$f(x)$'}]\n",
        "graf = vis.planoCartesiano(par=par)\n",
        "#funcion a grficar\n",
        "graf.plot(x=x4,y=y4)\n",
        "#ejes\n",
        "graf.plot(x = [-1, 1], y = [0, 0], par={'ls':'-', 'lw':1, 'color':'black'})\n",
        "graf.plot(x = [0, 0], y = [-1, 1], par={'ls':'-', 'lw':1, 'color':'black'})\n",
        "\n",
        "graf.scatter(x=[raiz],y=[0.],par={'c':'red','marker':'o','s':75, 'zorder':5})\n",
        "graf.annotate(par={'s':'La raíz de f es en x = '+str(raiz), 'xy':(raiz, 0), 'xytext':(-50,50), 'fontsize':15,\n",
        "            'textcoords':'offset points', 'ha':'center', 'va':'bottom',\n",
        "            'bbox':{'boxstyle':'round','pad':0.2, 'fc':'yellow', 'alpha':0.3},\n",
        "            'arrowprops':{'arrowstyle':'->', 'connectionstyle':'arc3,rad=0.5', \n",
        "                           'color':'black'}})\n",
        "\n",
        "graf.show()"
      ],
      "execution_count": null,
      "outputs": []
    }
  ]
}