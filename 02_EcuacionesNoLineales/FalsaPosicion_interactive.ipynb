{
  "nbformat": 4,
  "nbformat_minor": 0,
  "metadata": {
    "colab": {
      "name": "FalsaPosicion_interactive.ipynb",
      "provenance": [],
      "authorship_tag": "ABX9TyNYRs5wL4tKf/QGyJyymVUT",
      "include_colab_link": true
    },
    "kernelspec": {
      "name": "python3",
      "display_name": "Python 3"
    }
  },
  "cells": [
    {
      "cell_type": "markdown",
      "metadata": {
        "id": "view-in-github",
        "colab_type": "text"
      },
      "source": [
        "<a href=\"https://colab.research.google.com/github/jugernaut/Numerico2021/blob/master/02_EcuacionesNoLineales/FalsaPosicion_interactive.ipynb\" target=\"_parent\"><img src=\"https://colab.research.google.com/assets/colab-badge.svg\" alt=\"Open In Colab\"/></a>"
      ]
    },
    {
      "cell_type": "code",
      "metadata": {
        "id": "abvBbl0d5eXH",
        "outputId": "96e58de2-d9c0-4181-f02f-ee5eb4c69533",
        "colab": {
          "base_uri": "https://localhost:8080/",
          "height": 266
        }
      },
      "source": [
        "!git clone https://github.com/jugernaut/Numerico2021.git\n",
        "import os\n",
        "import numpy as np\n",
        "import matplotlib.pyplot as plt\n",
        "import Numerico2021.Utils.gutils as vis\n",
        "%matplotlib inline\n",
        "\n",
        "# funcion a graficar y de la cual se busca la raiz\n",
        "def f(x):\n",
        "  return (x**2)-1\n",
        "\n",
        "x4 = np.arange(-1, 1, 0.1)\n",
        "y4 = [f(i) for i in x4]\n",
        "raiz = falsaPosicion(f,0.001,1000,-1,1)\n",
        "\n",
        "par = [{'title':'$f(x) = x^3$', \n",
        "        'xlabel':'$x$',\n",
        "        'ylabel':'$f(x)$'}]\n",
        "graf = vis.planoCartesiano(par=par)\n",
        "#funcion a grficar\n",
        "graf.plot(x=x4,y=y4)\n",
        "#ejes\n",
        "graf.plot(x = [-1, 1], y = [0, 0], par={'ls':'-', 'lw':1, 'color':'black'})\n",
        "graf.plot(x = [0, 0], y = [-1, 1], par={'ls':'-', 'lw':1, 'color':'black'})\n",
        "\n",
        "graf.scatter(x=[raiz],y=[0.],par={'c':'red','marker':'o','s':75, 'zorder':5})\n",
        "graf.annotate(par={'s':'La raíz de f es en x = '+str(raiz), 'xy':(raiz, 0), 'xytext':(-50,50), 'fontsize':15,\n",
        "            'textcoords':'offset points', 'ha':'center', 'va':'bottom',\n",
        "            'bbox':{'boxstyle':'round','pad':0.2, 'fc':'yellow', 'alpha':0.3},\n",
        "            'arrowprops':{'arrowstyle':'->', 'connectionstyle':'arc3,rad=0.5', \n",
        "                           'color':'black'}})\n",
        "\n",
        "graf.show()"
      ],
      "execution_count": 19,
      "outputs": [
        {
          "output_type": "stream",
          "text": [
            "fatal: destination path 'Numerico2021' already exists and is not an empty directory.\n"
          ],
          "name": "stdout"
        },
        {
          "output_type": "error",
          "ename": "NameError",
          "evalue": "ignored",
          "traceback": [
            "\u001b[0;31m---------------------------------------------------------------------------\u001b[0m",
            "\u001b[0;31mNameError\u001b[0m                                 Traceback (most recent call last)",
            "\u001b[0;32m<ipython-input-19-4f7afe950b94>\u001b[0m in \u001b[0;36m<module>\u001b[0;34m()\u001b[0m\n\u001b[1;32m     12\u001b[0m \u001b[0mx4\u001b[0m \u001b[0;34m=\u001b[0m \u001b[0mnp\u001b[0m\u001b[0;34m.\u001b[0m\u001b[0marange\u001b[0m\u001b[0;34m(\u001b[0m\u001b[0;34m-\u001b[0m\u001b[0;36m1\u001b[0m\u001b[0;34m,\u001b[0m \u001b[0;36m1\u001b[0m\u001b[0;34m,\u001b[0m \u001b[0;36m0.1\u001b[0m\u001b[0;34m)\u001b[0m\u001b[0;34m\u001b[0m\u001b[0;34m\u001b[0m\u001b[0m\n\u001b[1;32m     13\u001b[0m \u001b[0my4\u001b[0m \u001b[0;34m=\u001b[0m \u001b[0;34m[\u001b[0m\u001b[0mf\u001b[0m\u001b[0;34m(\u001b[0m\u001b[0mi\u001b[0m\u001b[0;34m)\u001b[0m \u001b[0;32mfor\u001b[0m \u001b[0mi\u001b[0m \u001b[0;32min\u001b[0m \u001b[0mx4\u001b[0m\u001b[0;34m]\u001b[0m\u001b[0;34m\u001b[0m\u001b[0;34m\u001b[0m\u001b[0m\n\u001b[0;32m---> 14\u001b[0;31m \u001b[0mraiz\u001b[0m \u001b[0;34m=\u001b[0m \u001b[0mfalsaPosicion\u001b[0m\u001b[0;34m(\u001b[0m\u001b[0mf\u001b[0m\u001b[0;34m,\u001b[0m\u001b[0;36m0.001\u001b[0m\u001b[0;34m,\u001b[0m\u001b[0;36m1000\u001b[0m\u001b[0;34m,\u001b[0m\u001b[0;34m-\u001b[0m\u001b[0;36m1\u001b[0m\u001b[0;34m,\u001b[0m\u001b[0;36m1\u001b[0m\u001b[0;34m)\u001b[0m\u001b[0;34m\u001b[0m\u001b[0;34m\u001b[0m\u001b[0m\n\u001b[0m\u001b[1;32m     15\u001b[0m \u001b[0;34m\u001b[0m\u001b[0m\n\u001b[1;32m     16\u001b[0m par = [{'title':'$f(x) = x^3$', \n",
            "\u001b[0;31mNameError\u001b[0m: name 'falsaPosicion' is not defined"
          ]
        }
      ]
    },
    {
      "cell_type": "code",
      "metadata": {
        "id": "JNhgNTBcSrPS"
      },
      "source": [
        "!rm -r Numerico2021/"
      ],
      "execution_count": 16,
      "outputs": []
    },
    {
      "cell_type": "code",
      "metadata": {
        "id": "yrIr4M5RSCF2",
        "outputId": "663a4a2e-7bb3-4dc0-f081-010b3c3ec521",
        "colab": {
          "resources": {
            "http://localhost:8080/nbextensions/google.colab/files.js": {
              "data": "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",
              "ok": true,
              "headers": [
                [
                  "content-type",
                  "application/javascript"
                ]
              ],
              "status": 200,
              "status_text": ""
            }
          },
          "base_uri": "https://localhost:8080/",
          "height": 110
        }
      },
      "source": [
        "from google.colab import files\n",
        "files.upload()"
      ],
      "execution_count": 18,
      "outputs": [
        {
          "output_type": "display_data",
          "data": {
            "text/html": [
              "\n",
              "     <input type=\"file\" id=\"files-35803778-5b2e-4bbe-8b2e-a852910e4f27\" name=\"files[]\" multiple disabled\n",
              "        style=\"border:none\" />\n",
              "     <output id=\"result-35803778-5b2e-4bbe-8b2e-a852910e4f27\">\n",
              "      Upload widget is only available when the cell has been executed in the\n",
              "      current browser session. Please rerun this cell to enable.\n",
              "      </output>\n",
              "      <script src=\"/nbextensions/google.colab/files.js\"></script> "
            ],
            "text/plain": [
              "<IPython.core.display.HTML object>"
            ]
          },
          "metadata": {
            "tags": []
          }
        },
        {
          "output_type": "stream",
          "text": [
            "Saving gutils.py to gutils.py\n"
          ],
          "name": "stdout"
        },
        {
          "output_type": "execute_result",
          "data": {
            "text/plain": [
              "{'gutils.py': b'#!/usr/bin/env python3\\n# -*- coding: utf-8 -*-\\n\"\"\"\\nCreated on Thu Aug  6 17:35:09 2020\\n@author: luiggi\\n\"\"\"\\nimport numpy as np\\n#from mpl_toolkits.mplot3d import Axes3D\\nimport matplotlib.pyplot as plt\\nplt.style.use(\\'fivethirtyeight\\')\\n#plt.style.use(\\'seaborn\\')\\n\\nclass planoCartesiano():\\n    \\n    def __init__(self, rows = 1, cols = 1, par = None, par_fig={\\'figsize\\':(10,5)}, title=\\'\\'):\\n        \"\"\"\\n        Crea e inicializa una figura de matplotlib.\\n        Parameters\\n        ----------\\n        rows : int, opcional\\n            N\\xc3\\xbamero de renglones del arreglo de subplots. The default is 1.\\n        cols : int, opcional\\n            N\\xc3\\xbamero de columnas del arreglo de subplots. The default is 1.\\n        par : list of dicts, opcional\\n            Lista de diccionarios; cada diccionario define los par\\xc3\\xa1metros que \\n            se usar\\xc3\\xa1n decorar los `Axes` de cada subplot. The default is None.\\n        par_fig : dict, opcional\\n            Diccionario con los par\\xc3\\xa1metros para decorar la figura. \\n            The default is {}.\\n        \"\"\"\\n        self.__fig = plt.figure(**par_fig)\\n        self.__fig.suptitle(title, fontweight=\\'light\\', fontsize=\\'12\\', color=\\'blue\\')\\n        self.__nfigs =  rows *  cols\\n\\n        if par != None:\\n            Nfill = self.__nfigs - len(par)\\n        else:\\n            Nfill = self.__nfigs\\n            par = [ ]\\n            \\n        [par.append({}) for n in range(Nfill)]\\n            \\n        self.__ax = [plt.subplot(rows, cols, n, **par[n-1]) for n in range(1,self.__nfigs + 1)]\\n        plt.tight_layout()\\n\\n\\n    def plot(self, n = 1, x = None, y = None, par=None):        \\n        assert (n >= 1 and n <= self.__nfigs), \\\\\\n        \"Plotter.plot(%d) out of bounds. Valid bounds : [1,%d]\" % (n,self.__nfigs)        \\n\\n        if par != None:\\n            out = self.__ax[n-1].plot(x, y, **par)\\n        else:\\n            out = self.__ax[n-1].plot(x, y)\\n                    \\n        return out        \\n \\n    def scatter(self, n = 1, x = None, y = None, par=None):   \\n        \\n        assert (n >= 1 and n <= self.__nfigs), \\\\\\n        \"Plotter.plot(%d) out of bounds. Valid bounds : [1,%d]\" % (n,self.__nfigs)        \\n\\n        if par != None:\\n            out = self.__ax[n-1].scatter(x, y, **par)\\n        else:\\n            out = self.__ax[n-1].scatter(x, y)         \\n        return out      \\n\\n    def bar(self, n = 1, x = None, y = None, par=None):        \\n        assert (n >= 1 and n <= self.__nfigs), \\\\\\n        \"Plotter.plot(%d) out of bounds. Valid bounds : [1,%d]\" % (n,self.__nfigs)        \\n\\n        if par != None:\\n            out = self.__ax[n-1].bar(x, y, **par)\\n        else:\\n            out = self.__ax[n-1].bar(x, y)\\n                    \\n        return out     \\n\\n    def format_func(value, tick_number):\\n        # find number of multiples of pi/2\\n        N = int(np.round(2 * value / np.pi))\\n        if N == 0:\\n            return \"0\"\\n        elif N == 1:\\n            return r\"$\\\\pi/2$\"\\n        elif N == 2:\\n            return r\"$\\\\pi$\"\\n        elif N % 2 > 0:\\n            return r\"${0}\\\\pi/2$\".format(N)\\n        else:\\n            return r\"${0}\\\\pi$\".format(N // 2)\\n\\n    def ticks(self, n = 1, xticks = [], yticks = [], trig = False):           \\n        assert (n >= 1 and n <= self.__nfigs), \\\\\\n        \"Plotter.plot(%d) out of bounds. Valid bounds : [1,%d]\" % (n,self.__nfigs)        \\n\\n        if trig:\\n            self.__ax[n-1].xaxis.set_major_locator(plt.MultipleLocator(np.pi / 2))\\n            self.__ax[n-1].xaxis.set_minor_locator(plt.MultipleLocator(np.pi / 4))\\n            self.__ax[n-1].xaxis.set_major_formatter(plt.FuncFormatter(planoCartesiano.format_func))\\n        else:        \\n            if len(xticks) != 0:\\n                self.__ax[n-1].set_xticks(xticks)\\n            if len(yticks) != 0:\\n                self.__ax[n-1].set_yticks(yticks)\\n\\n    def label_ticks(self, n = 1, xlabel = [], ylabel = []):\\n        assert (n >= 1 and n <= self.__nfigs), \\\\\\n        \"Plotter.plot(%d) out of bounds. Valid bounds : [1,%d]\" % (n,self.__nfigs)   \\n        \\n        if len(xlabel):\\n            self.__ax[n-1].set_xticklabels(xlabel)\\n        if len(ylabel):\\n            self.__ax[n-1].set_yticklabels(ylabel)\\n            \\n    def limits(self, n = 1, x = (), y = ()):\\n        assert (n >= 1 and n <= self.__nfigs), \\\\\\n        \"Plotter.plot(%d) out of bounds. Valid bounds : [1,%d]\" % (n,self.__nfigs)\\n\\n        if len(x):\\n            offset = np.fabs(x[1] - x[0]) * 0.2\\n            self.__ax[n-1].set_xlim((x[0]-offset,x[1]+offset))\\n        if len(y):\\n            offset = np.fabs(y[1] - y[0]) * 0.2\\n            self.__ax[n-1].set_ylim((y[0]-offset,y[1]+offset))\\n\\n    def colorbar(self, n=1, m=None, par=None):\\n        assert (n >= 1 and n <= self.__nfigs), \\\\\\n        \"Plotter.plot(%d) out of bounds. Valid bounds : [1,%d]\" % (n,self.__nfigs)\\n\\n        if par != None:\\n            self.__fig.colorbar(m, ax = self.__ax[n-1], **par)\\n        else:\\n            self.__fig.colorbar(m, ax = self.__ax[n-1])\\n\\n    def legend(self, par=None):\\n        \"\"\"\\n        Muestra las leyendas de todos los subplots, si est\\xc3\\xa1n definidos.\\n        Parameters\\n        ----------\\n        par : dict, opcional\\n            Diccionario con los par\\xc3\\xa1metros para decorar las leyendas. \\n            The default is None.\\n        Returns\\n        -------\\n        None.\\n        \\n        See Also\\n        --------\\n        matplotlib.axes.Axes.legend().\\n        \"\"\"\\n        if par != None:   \\n            [self.__ax[n].legend(**par) for n in range(0,self.__nfigs)]        \\n        else:\\n            [self.__ax[n].legend() for n in range(0,self.__nfigs)]    \\n            \\n\\n    def show(self):\\n        \"\"\"\\n        Muestra las gr\\xc3\\xa1ficas de cada subplot.\\n        \\n        See Also\\n        --------\\n        matplotlib.pyplot.show().\\n        \\n        \"\"\"\\n        plt.show()\\n        \\n    def annotate(self, n = 1, par=None):   \\n        \\n        assert (n >= 1 and n <= self.__nfigs), \\\\\\n        \"Plotter.plot(%d) out of bounds. Valid bounds : [1,%d]\" % (n,self.__nfigs)        \\n\\n        return self.__ax[n-1].annotate(**par)\\n\\ndef RMS(ua, u):\\n    \"\"\"\\n    Calcula el error cuadr\\xc3\\xa1tico medio entre u y ua.\\n    \\n    Parameters\\n    ----------\\n    ua: np.array\\n    Arreglo de valores aproximados.\\n    \\n    u: np.array\\n    Arreglo de valores exactos.\\n    \\n    Returns\\n    -------\\n    float\\n    El error cuadr\\xc3\\xa1tico medio entre u y ua.\\n    \"\"\"\\n    return np.sqrt(np.sum((ua - u)**2) / len(ua))\\n\\ndef RMS1(ua, u):\\n    \"\"\"\\n    Calcula el error cuadr\\xc3\\xa1tico medio entre u y ua.\\n    \\n    Parameters\\n    ----------\\n    ua: np.array\\n    Arreglo de valores aproximados.\\n    \\n    u: np.array\\n    Arreglo de valores exactos.\\n    \\n    Returns\\n    -------\\n    float\\n    El error cuadr\\xc3\\xa1tico medio entre u y ua.\\n    \"\"\"\\n    return np.sqrt(np.sum((ua - u)**2) / len(ua))\\n\\ndef biseccion(f,Tol,N,a,b):\\n    \"\"\"\\n    implementa el metodo de la biseccion\\n    para encontrar la raiz de una funcion.\\n    \\n    Parameters\\n    ----------\\n    f: function\\n    funcion para calcular raiz.\\n    \\n    Tol: float\\n    Tolerancia.\\n    \\n    N: integer\\n    Numero de iteraciones maximo.\\n    \\n    a: float\\n    limite izquierdo.\\n    \\n    b: float\\n    limite derecho.\\n    \\n    Returns\\n    -------\\n    float\\n    La raiz de la funcion f.\\n    list\\n    Valores en la sucesion del algoritmo.\\n    \"\"\"\\n    sucesion=[]\\n    fa=f(a)\\n    fb=f(b)\\n    #no hay un cambio de signo (teorema del valor medio)\\n    #no existe raiz en el intervalo [a,b]\\n    if fa*fb>0:\\n        print (\"no hay raiz en [a,b]\")\\n        return\\n    #contador de iteraciones    \\n    n=1\\n    x0=0.0\\n    #mientras no se exceda el numero de iteraciones\\n    while n<=N:\\n        #se busca la raiz en el punto medio\\n        x1=(a+b)/2.0\\n        fx=f(x1)\\n        sucesion.append(x1)\\n        #en caso de que la iteracion siguiente y la diferencia\\n        #entre la iteracion anterior no excedan Tol, entonces\\n        #la iteracion actual se aproxima a la solucion buscada\\n        if abs(f(x1)) <= Tol and abs(x1-x0) <= Tol:\\n            return x1, sucesion\\n        #en caso de no cumplir el criterio de tolerancia\\n        #se actualiza el rango de busqueda\\n        if (fa*fx <0.0):\\n            b=x1  \\n        if (fx*fa >0.0):      \\n            a=x1\\n        x0=x1\\n        #se incrementa el contador de iteraciones\\n        n=n+1\\n        \\n\\'\\'\\'Esta funcion implementa el metodo de la falsa posicion\\npara encontrar la raiz de una funcion.\\nf:   funcion de la cual se busca la raiz\\nTol: tolerancia del error numerico\\nN:   numero maximo de iteraciones\\na:   limite inferior del rango inicial\\nb:   limite superior del rango inicial\\n\\'\\'\\'\\ndef falsaPosicion(f,Tol,N,a,b):\\n    fa=f(a)\\n    fb=f(b)\\n    #en caso de que no haya cambio de signo, no existe raiz\\n    if fa*fb>0:\\n        print(\"No existe raiz en [a,b]\")\\n        return\\n    #contador de iteraciones\\n    n=1\\n    #se toma una raiz inicial arbitraria   \\n    x0=0.0\\n    sucesion = []\\n    #mientras no se exceda el numero de iteraciones\\n    while n<=N:\\n        #se actualiza el rango de busqueda\\n        fa,fb =f(a),f(b)\\n        #se calcula la nueva iteracion\\n        x1= (a*fb-b*fa)/(fb-fa)\\n        fx=f(x1)\\n        sucesion.append(x1)\\n        #en caso de que la diferencia entre la iteracion actual\\n        #y la iteracion anterior no excedan Tol, y que la raiz\\n        #evaluada no exceda la tolerancia, se devuelve la raiz\\n        if abs(f(x1)) <= Tol and abs(x1-x0) <= Tol:\\n            return x1, sucesion\\n        #en caso de no cumplir el criterio de tolerancia\\n        #se actualiza el rango de busqueda\\n        if (fa*fx <0.0):\\n            b=x1 \\n        if (fx*fa >0.0):      \\n            a=x1\\n        #se actualiza x0\\n        x0=x1\\n        #se incrementa el contador de iteraciones\\n        n=n+1\\n        \\n#----------------------- TEST OF THE MODULE ----------------------------------   \\nif __name__ == \\'__main__\\':\\n\\n'}"
            ]
          },
          "metadata": {
            "tags": []
          },
          "execution_count": 18
        }
      ]
    }
  ]
}
