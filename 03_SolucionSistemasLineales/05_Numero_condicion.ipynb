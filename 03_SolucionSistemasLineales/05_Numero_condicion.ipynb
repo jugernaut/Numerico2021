{
  "nbformat": 4,
  "nbformat_minor": 0,
  "metadata": {
    "kernelspec": {
      "display_name": "Python 3.7 (tensorflow)",
      "language": "python",
      "name": "tensorflow"
    },
    "language_info": {
      "codemirror_mode": {
        "name": "ipython",
        "version": 3
      },
      "file_extension": ".py",
      "mimetype": "text/x-python",
      "name": "python",
      "nbconvert_exporter": "python",
      "pygments_lexer": "ipython3",
      "version": "3.7.7"
    },
    "colab": {
      "name": "05_Numero_condicion.ipynb",
      "provenance": [],
      "toc_visible": true,
      "include_colab_link": true
    }
  },
  "cells": [
    {
      "cell_type": "markdown",
      "metadata": {
        "id": "view-in-github",
        "colab_type": "text"
      },
      "source": [
        "<a href=\"https://colab.research.google.com/github/jugernaut/Numerico2021/blob/desarrollo/03_SolucionSistemasLineales/05_Numero_condicion.ipynb\" target=\"_parent\"><img src=\"https://colab.research.google.com/assets/colab-badge.svg\" alt=\"Open In Colab\"/></a>"
      ]
    },
    {
      "cell_type": "markdown",
      "metadata": {
        "id": "M618aCs2XLvO"
      },
      "source": [
        "<font color=\"Teal\" face=\"Comic Sans MS,arial\">\n",
        "  <h1 align=\"center\"><i>Número de condición.</i></h1>\n",
        "  </font>\n",
        "  <font color=\"Black\" face=\"Comic Sans MS,arial\">\n",
        "  <h5 align=\"center\"><i>Profesor: M.en.C. Miguel Ángel Pérez León.</i></h5>\n",
        "    <h5 align=\"center\"><i>Ayudante: Jesús Iván Coss Calderón.</i></h5>\n",
        "  <h5 align=\"center\"><i>Materia: Análisis Numérico.</i></h5>\n",
        "  </font>"
      ]
    },
    {
      "cell_type": "markdown",
      "metadata": {
        "id": "-bqM41e4XLvT"
      },
      "source": [
        "# Introducción\n",
        "\n",
        "Para este punto del curso ya debe ser claro que una de las principales características de cualquier solución (algoritmo) $\\widehat{f}$ es la estabilidad\n",
        "\n",
        "De tal manera que determinar que tan estable es esta solución es importante para el análisis numérico.\n",
        "\n",
        "Recordando un poco la definición de estabilidad para matrices, tenemos. \n",
        "\n"
      ]
    },
    {
      "cell_type": "markdown",
      "metadata": {
        "id": "2xCqZcd3Znq4"
      },
      "source": [
        "# Definición\n",
        "\n",
        "Un algoritmo es estable para una clase de matrices $C$ si $\\forall A\\in C$, la solución computacional $\\widehat{x}$ generada por el algoritmo es la solución exacta cercana a la solución del problema. Así que para el sistema lineal $Ax=b$, un algoritmo es estable si $\\forall A\\in C$ y para cada $b$, se produce una solución computacional $\\widehat{x}$ que satisface $\\left(A+E\\right)\\widehat{x}=b+\\delta b$\n",
        "\n",
        "Para alguna $E$ y $\\delta b$, donde $\\left(A+E\\right)$ es cercana a $A$ y $b+\\delta b$ es cercano a $b$."
      ]
    },
    {
      "cell_type": "markdown",
      "metadata": {
        "id": "CvMOESPvZ7D9"
      },
      "source": [
        "# Condicionamiento\n",
        "\n",
        "Un problema (con respecto a un conjunto de datos) es llamado 'mal condicionado', si una pequeña perturbación relativa en los datos iniciales, produce un error relativo grande en la solución computacional, sin importar el método de solución. Por otro lado, es llamado 'bien condicionado', si toda pequeña perturbación en los datos iniciales, produce pequeños errores relativos en la solución.\n",
        "\n",
        "Sea $x$ e $y$ el dato original y el dato perturbado ligeramente y sea $f(x)$ y $f(y)$ sus respectivas soluciones. Se tiene lo siguiente\n",
        "\n",
        "**Problema bien condicionado**: si $y$ es cercano a $x$ entonces $f(y)$ es cercano a $f(x)$.\n",
        "\n",
        "**Problema mal condicionado**: aunque $y$ sea cercano a $x$ entonces $f(y)$ puede alejarse en gran medida de $f(x)$.\n"
      ]
    },
    {
      "cell_type": "markdown",
      "metadata": {
        "id": "FUGsj4qha1oq"
      },
      "source": [
        "## Número de Condición\n",
        "\n",
        "El numero de condición del problema $f$ con respecto al dato $x$ es definido como\n",
        "\n",
        "$$\\frac{Error\\,relativo\\,en\\,la\\,soluci\\acute{o}n}{Perturbaci\\acute{o}n\\,relativa\\,en\\,el\\,dato}=\\frac{\\frac{\\left||f(x)-f(y)\\right|}{\\left||f(x)\\right||}}{\\frac{\\left||x-y\\right||}{\\left||x\\right||}}$$\n",
        "\n",
        "Si $f:\\mathbb{R}^{n}\\longrightarrow\\mathbb{R}^{m}$ y $x,y\\in\\mathbb{R}^{n}$, entonces el número de condición se define formalmente como\n",
        "\n",
        "$$\\underset{\\epsilon_{M}\\rightarrow0}{\\limsup}\\left\\{ \\frac{\\frac{\\left\\Vert f(x)-f(y)\\right\\Vert }{\\left\\Vert f(x)\\right\\Vert }}{\\frac{\\left\\Vert x-y\\right\\Vert }{\\left\\Vert x\\right\\Vert }}\\quad tal\\,que\\quad\\left\\Vert x-y\\right\\Vert \\leq\\epsilon_{M}\\right\\} $$\n",
        "\n",
        "Observación: Un problema es mal condicionado si el numero de condición es $\\gg1$ (mucho mayor que 1)."
      ]
    },
    {
      "cell_type": "markdown",
      "metadata": {
        "id": "Em9NqX70aSjR"
      },
      "source": [
        "## Ejemplo\n",
        "\n",
        "El problema de encontrar raíces de un polinomio puede ser altamente mal condicionado. Considere resolver la ecuación \n",
        "\n",
        "$$f(x)=x^{2}-2x+1$$\n",
        "\n",
        "Ahora perturbe el coeficiente 2 por 0.00001, es decir $$\\widehat{f}(x)=x^{2}+2.00001x+1$$\n",
        "\n",
        "y analice que sucede con las soluciones y sus respectivos errores relativos.\n",
        "\n",
        "En general, si un algoritmo **estable hacia atrás** es aplicado a un problema con numero de condición $\\kappa$, entonces la precisión de la solución dependerá de $\\kappa$.\n",
        "\n",
        "Si $\\kappa$ es muy pequeño, el resultado sera preciso; en caso contrario la precisión no tiene garantía. Por lo que podemos decir que **la precisión depende del numero de condicionamiento** $\\kappa$."
      ]
    },
    {
      "cell_type": "code",
      "metadata": {
        "id": "v5tE8x_XQdbT",
        "colab": {
          "base_uri": "https://localhost:8080/"
        },
        "outputId": "871b28f1-d51a-4d27-d3e5-c21ac81f01f5"
      },
      "source": [
        "# se clona el proyecto y se agrega a la sesion\n",
        "!git clone https://github.com/jugernaut/Numerico2021.git\n",
        "# importamos la biblioteca correspondiente gutils\n",
        "import Numerico2021.Utils.gutils as vis\n",
        "\n",
        "# f sin la perturbacion\n",
        "def fsingorro(x):\n",
        "  return (x*x)-2*x+1\n",
        "\n",
        "# f con una diminuta perturbacion\n",
        "def fcongorro(x):\n",
        "  return (x*x)-2.00001*x+1\n",
        "\n",
        "# evaluaciones de las respectivas funciones\n",
        "fngorro = vis.newton(fsingorro, 0.0001, 100, -2)\n",
        "fgorro = vis.newton(fcongorro, 0.0001, 100, -2)\n",
        "# error relativo entre las f's\n",
        "errorrel = abs(fgorro-fngorro)/abs(fngorro)\n",
        "\n",
        "# se imprimen los resultados\n",
        "print(fngorro)\n",
        "print(fgorro)\n",
        "\n",
        "# error relativo 'grande' aunque la perturbacion fue diminuta\n",
        "print(errorrel)"
      ],
      "execution_count": null,
      "outputs": [
        {
          "output_type": "stream",
          "text": [
            "fatal: destination path 'Numerico2021' already exists and is not an empty directory.\n",
            "0.9999686826426051\n",
            "0.9968430501939348\n",
            "0.003125730338284381\n"
          ],
          "name": "stdout"
        }
      ]
    },
    {
      "cell_type": "markdown",
      "metadata": {
        "id": "DbbcgymQbVH-"
      },
      "source": [
        "# Análisis de la Perturbación sobre $x$ y $b$\n",
        "\n",
        "Cuando un analista numérico se propone resolver un problema, normalmente los datos con los que trabaja no son los datos originales, si no con datos que han sido perturbados. La pregunta que surge naturalmente es:\n",
        "\n",
        "¿De que manera afectaran estas perturbaciones a la solución?.\n",
        "\n",
        "Una técnica teórica del análisis numérico que investiga estos cambios, la cual es independiente del algoritmo usado para resolver el problema, se llama **análisis de la perturbación**."
      ]
    },
    {
      "cell_type": "markdown",
      "metadata": {
        "id": "S58NUe1PYs6B"
      },
      "source": [
        "## Nomenclatura y efectos de las perturbaciones\n",
        "\n",
        "Sea $A\\in M_{n\\times n}$ y $\\vec{x}, \\vec{b} \\in  \\mathbb{R}^{n}$. Supongamos que $\\vec{x}$ y $\\vec{b}$ han sido perturbados y que la matriz $A$ es exacta.\n",
        "\n",
        "$$\\begin{array}{c}\n",
        "A\\longrightarrow A\\quad(sin\\,cambios)\\\\\n",
        "\\vec{b}\\longrightarrow \\vec{b}+\\vec{\\delta b}\\quad(\\vec{\\delta b}=perturbaci\\acute{o}n\\,en\\,el\\,vector\\,b)\\\\\n",
        "\\vec{x}\\longrightarrow \\vec{x}+\\vec{\\delta x}\\quad(\\vec{\\delta x}=cambio\\,en\\,la\\,soluci\\acute{o}n)\n",
        "\\end{array}$$\n",
        "\n",
        "Nota: En lo subsiguiente, para mayor claridad se omite el simbolo $( \\vec{} )$, en los respectivos vectores $\\vec{x}, \\vec{b}, \\vec{\\delta x}, \\vec{\\delta b}$, sin embargo siguen siendo vectores."
      ]
    },
    {
      "cell_type": "markdown",
      "metadata": {
        "id": "dab-rd4ZbsiO"
      },
      "source": [
        "## Teorema (Cota del condicionamiento)\n",
        "\n",
        "Si $\\delta x$  y $\\delta b$ son, respectivamente las perturbaciones de $x$ y $b$ en el sistema lineal $Ax=b$, con $A$ no singular y $b\\neq \\vec{0}$ , entonces \n",
        "\n",
        "$$\\left\\Vert A\\right\\Vert \\left\\Vert A^{-1}\\right\\Vert \\frac{\\left\\Vert \\delta b\\right\\Vert }{\\left\\Vert b\\right\\Vert }\\geq\\frac{\\left\\Vert \\delta x\\right\\Vert }{\\left\\Vert x\\right\\Vert }\\geq \\frac{\\left\\Vert \\delta b\\right\\Vert }{\\left\\Vert A\\right\\Vert \\left\\Vert A^{-1}\\right\\Vert \\left\\Vert b\\right\\Vert }$$\n",
        "\n",
        "Como $Ax=b$ y $A\\left(x+\\delta x\\right)=b+\\delta b$, tenemos que \n",
        "\n",
        "$$\n",
        "\\begin{eqnarray*}\n",
        "A\\left(x+\\delta x\\right)&\t=\t& b+\\delta b \\\\\n",
        "Ax+A\\delta x &=&\tb+\\delta b \\\\\n",
        "b+A\\delta x\t&=&\tb+\\delta b\\quad(ya\\,que\\,Ax=b) \\\\\n",
        "A\\delta x\t&=&\t\\delta b \\\\\n",
        "\\Rightarrow\t\\delta x\t&=& A^{-1}\\delta b\n",
        "\\end{eqnarray*}\n",
        "$$\n",
        "\n",
        "Tomando cualquier norma matricial subordinada tenemos\n",
        "\n",
        "$$\\left\\Vert \\delta x\\right\\Vert \\overset{\\underbrace{prop\\,5\\,nor.}}{\\leq} \\left\\Vert A^{-1}\\right\\Vert \\left\\Vert \\delta b\\right\\Vert \\tag{1}$$\n",
        "\n",
        "De nuevo, tomando la misma norma y aplicando en ambos lados de $Ax=b$, se tiene $\\left\\Vert Ax\\right\\Vert =\\left\\Vert b\\right\\Vert$ ó\n",
        "\n",
        "$$\\left\\Vert b\\right\\Vert =\\left\\Vert Ax\\right\\Vert \\leq\\left\\Vert A\\right\\Vert \\left\\Vert x\\right\\Vert \\Rightarrow\\left\\Vert b\\right\\Vert \\leq\\left\\Vert A\\right\\Vert \\left\\Vert x\\right\\Vert \\tag{2} $$\n",
        "\n",
        "Ahora si combinamos (1) y (2), se obtiene\n",
        "\n",
        "$$\n",
        "\\begin{eqnarray*}\n",
        "\\left\\Vert \\delta x\\right\\Vert \\left\\Vert b\\right\\Vert \t&\\leq&\\left\\Vert A\\right\\Vert \\left\\Vert A^{-1}\\right\\Vert \\left\\Vert x\\right\\Vert \\left\\Vert \\delta b\\right\\Vert \\\\\n",
        "\\Rightarrow\t\\frac{\\left\\Vert \\delta x\\right\\Vert }{\\left\\Vert x\\right\\Vert } &\\leq&\t\\left\\Vert A\\right\\Vert \\left\\Vert A^{-1}\\right\\Vert \\frac{\\left\\Vert \\delta b\\right\\Vert }{\\left\\Vert b\\right\\Vert }\n",
        "\\end{eqnarray*} \\tag{3}\n",
        "$$\n",
        "\n",
        "Por otra parte $A\\delta x=\\delta b\\Longrightarrow\\left\\Vert A\\right\\Vert \\left\\Vert \\delta x\\right\\Vert \\geq\\left\\Vert \\delta b\\right\\Vert $ por lo tanto \n",
        "\n",
        "$$\\left\\Vert \\delta x\\right\\Vert \\geq\\frac{\\left\\Vert \\delta b\\right\\Vert }{\\left\\Vert A\\right\\Vert } \\tag{4}$$\n",
        "\n",
        "De igual manera de $Ax=b$, se tiene que \n",
        "\n",
        "$$ \n",
        "\\begin{eqnarray*}\n",
        "Ax &=& b\\\\\n",
        "x &=& A^{-1}b\\\\\n",
        "\\left\\Vert x\\right\\Vert &\\leq &\\left\\Vert A^{-1}\\right\\Vert\n",
        "\\left\\Vert b \\right\\Vert \\\\\n",
        "\\Rightarrow\\frac{1}{\\left\\Vert x\\right\\Vert } &\\geq&\\frac{1}{\\left\\Vert A^{-1}\\right\\Vert \\left\\Vert b\\right\\Vert } \\tag{5}\n",
        "\\end{eqnarray*}\n",
        "$$\n",
        "\n",
        "Combinando (4) y (5), tenemos\n",
        "\n",
        "$$\\frac{\\left\\Vert \\delta x\\right\\Vert }{\\left\\Vert x\\right\\Vert }\\geq\\frac{\\left\\Vert \\delta b\\right\\Vert }{\\left\\Vert A\\right\\Vert \\left\\Vert A^{-1}\\right\\Vert \\left\\Vert b\\right\\Vert }$$\n",
        "\n",
        "Finalmente, si combinamos (3) y (5) podemos concluir que.\n",
        "\n",
        "$$\\left\\Vert A\\right\\Vert \\left\\Vert A^{-1}\\right\\Vert \\frac{\\left\\Vert \\delta b\\right\\Vert }{\\left\\Vert b\\right\\Vert }\\geq\\frac{\\left\\Vert \\delta x\\right\\Vert }{\\left\\Vert x\\right\\Vert }\\geq \\frac{\\left\\Vert \\delta b\\right\\Vert }{\\left\\Vert A\\right\\Vert \\left\\Vert A^{-1}\\right\\Vert \\left\\Vert b\\right\\Vert }$$"
      ]
    },
    {
      "cell_type": "markdown",
      "metadata": {
        "id": "Y8v1ihCdcPM0"
      },
      "source": [
        "# Número de Condición\n",
        "\n",
        "El número de condición nos proporciona información valiosa sobre la estabilidad de un algoritmo que en este caso es representado por una matriz.\n"
      ]
    },
    {
      "cell_type": "markdown",
      "metadata": {
        "id": "9-O2SL1jf4tL"
      },
      "source": [
        "## Definición\n",
        "\n",
        "El número $\\left\\Vert A\\right\\Vert \\left\\Vert A^{-1}\\right\\Vert$  es llamado el número de condición de $A$ y es denotado por $\\kappa\\left(A\\right)$ ó $ Cond\\left(A\\right) $\n",
        "\n",
        "El teorema sobre la cota de condicionamiento muestra que un cambio relativo en la solución puede ser tan grande como $\\kappa\\left(A\\right)$ multiplicado por el cambio relativo en el vector $b$. \n",
        "\n",
        "Lo que significa que **si $\\kappa\\left(A\\right)$ no es demasiado grande**, entonces una pequeña perturbación en el vector $b$ **tendrá muy poco efecto sobre la solución**. \n",
        "\n",
        "Por otro lado **si $\\kappa\\left(A\\right)$ es grande**, entonces incluso una pequeña perturbación en el vector $b$ **cambia drásticamente la solución**. "
      ]
    },
    {
      "cell_type": "markdown",
      "metadata": {
        "id": "EisAYkZ4gNSQ"
      },
      "source": [
        "## Ejemplo\n",
        "\n",
        "Sean\n",
        "\n",
        "$$A=\\left(\\begin{array}{ccc}\n",
        "1 & 2 & 1\\\\\n",
        "2 & 4.0001 & 2.002\\\\\n",
        "1 & 2.002 & 2.004\n",
        "\\end{array}\\right) \\quad b=\\left(\\begin{array}{c}\n",
        "4\\\\\n",
        "8.0021\\\\\n",
        "5.006\n",
        "\\end{array}\\right)$$\n",
        "\n",
        "Encuentre $x$ y después cambie $b$ por $b'=\\left(\\begin{array}{c}\n",
        "4\\\\\n",
        "8.0020\\\\\n",
        "5.0061\n",
        "\\end{array}\\right)$\n",
        "\n",
        "La solución exacta es $x=\\left(1,1,1\\right)^{T}$. Veamos la perturbación relativa:\n",
        "\n",
        "$$\\frac{\\left\\Vert b'-b\\right\\Vert }{\\left\\Vert b\\right\\Vert }=\\frac{\\left\\Vert \\delta b\\right\\Vert }{\\left\\Vert b\\right\\Vert }=1.3795\\times10^{-5}\\qquad(muy\\,peque\\tilde{n}o)$$\n",
        "\n",
        "Ahora, si resolvemos el sistema $Ax'=b'$, tenemos que \n",
        "\n",
        "$$x'=x+\\delta x=\\left(\\begin{array}{c}\n",
        "3.0850\\\\\n",
        "-0.0436\\\\\n",
        "1.0022\n",
        "\\end{array}\\right)$$\n",
        "\n",
        "$x'$ es completamente diferente a $x$. Ademas $\\kappa\\left(A\\right)=322099.88$, lo cual corrobora el teorema.\n",
        "\n",
        "Por otra parte el error relativo en la solución es $\\frac{\\left\\Vert \\delta x\\right\\Vert }{\\left\\Vert x\\right\\Vert }=1.3461$ y se comprueba que la desigualdad de la cota de condicionamiento se cumple \n",
        "\n",
        "$$\\kappa\\left(A\\right)\\frac{\\left\\Vert \\delta b\\right\\Vert }{\\left\\Vert b\\right\\Vert }=4.4433>1.3461=\\frac{\\left\\Vert \\delta x\\right\\Vert }{\\left\\Vert x\\right\\Vert }$$"
      ]
    },
    {
      "cell_type": "code",
      "metadata": {
        "colab": {
          "base_uri": "https://localhost:8080/"
        },
        "id": "eRMdNTGOuCaS",
        "outputId": "06d35c40-44d1-400a-dd89-c725c94b9e0a"
      },
      "source": [
        "# se define la matriz A\n",
        "A = np.array([[1,2,1],[2,4.0001,2.002],[1,2.002,2.004]])\n",
        "# vector b\n",
        "b = np.array([4,8.0021,5.006])\n",
        "# solucion del sistema\n",
        "x = np.linalg.solve(A,b)\n",
        "# veamos la solucion\n",
        "print(x)\n",
        "\n",
        "# ahora perturbemos un poco el vector b\n",
        "b = np.array([4,8.0020,5.0061])\n",
        "# nueva solucion del sistema\n",
        "xprima = np.linalg.solve(A,b)\n",
        "# veamos la solucion\n",
        "print(xprima)\n",
        "\n",
        "# numero de condicion de la matriz A\n",
        "print(np.linalg.cond(A))"
      ],
      "execution_count": null,
      "outputs": [
        {
          "output_type": "stream",
          "text": [
            "[1. 1. 1.]\n",
            "[ 3.08495851 -0.04356846  1.00217842]\n",
            "322099.88408211124\n"
          ],
          "name": "stdout"
        }
      ]
    },
    {
      "cell_type": "markdown",
      "metadata": {
        "id": "_f44ROdLciFZ"
      },
      "source": [
        "# Análsis de la perturbación en la matriz A\n",
        "\n",
        "Supongamos que $A$ ha sido perturbada y que el vector $b$ es exacto \n",
        "\n",
        "$$\\begin{array}{c}\n",
        "A\\longrightarrow A+\\triangle A\\quad(\\triangle A=perturbaci\\acute{o}\\,en\\,matriz\\,A)\\\\\n",
        "b\\longrightarrow b\\quad(sin\\,cambios)\\\\\n",
        "x\\longrightarrow x+\\delta x\\quad(\\delta x=cambio\\,en\\,la\\,soluci\\acute{o}n)\n",
        "\\end{array} $$\n",
        "\n",
        "Suponga que $A$ es no singular y $b\\neq0$. Si $\\triangle A$  y $\\delta x$ son respectivamente, las perturbaciones de $A$ y $x$ en el sistema lineal $Ax=b$. Suponer que $\\triangle A$  es tal que $\\left\\Vert \\triangle A\\right\\Vert <\\frac{1}{\\left\\Vert A^{-1}\\right\\Vert }$. Entonces \n",
        "\n",
        "$$\\frac{\\left\\Vert \\delta x\\right\\Vert }{\\left\\Vert x\\right\\Vert }\\leq\\frac{\\kappa\\left(A\\right)\\frac{\\left\\Vert \\triangle A\\right\\Vert }{\\left\\Vert A\\right\\Vert }}{1-\\kappa\\left(A\\right)\\frac{\\left\\Vert \\triangle A\\right\\Vert }{\\left\\Vert A\\right\\Vert }}$$"
      ]
    },
    {
      "cell_type": "markdown",
      "metadata": {
        "id": "0syQnzjThAxk"
      },
      "source": [
        "## Ejemplo\n",
        "\n",
        "Sean\n",
        "\n",
        "$$A=\\left(\\begin{array}{ccc}\n",
        "1 & 2 & 1\\\\\n",
        "2 & 4.0001 & 2.002\\\\\n",
        "1 & 2.002 & 2.004\n",
        "\\end{array}\\right) \\quad b=\\left(\\begin{array}{c}\n",
        "4\\\\\n",
        "8.0021\\\\\n",
        "5.006\n",
        "\\end{array}\\right)$$\n",
        "\n",
        "\n",
        "Encuentre $x$ y después cambie $a_{23}=2.002$ por $2.0021$\n",
        "\n",
        "La solución exacta es $x=(1,1,1)^{T}$. Veamos la perturbación relativa:\n",
        "\n",
        "$$\\triangle A=+10^{-4}\\left(\\begin{array}{ccc}\n",
        "0 & 0 & 0\\\\\n",
        "0 & 0 & 0.1000\\\\\n",
        "0 & 0 & 0\n",
        "\\end{array}\\right)\\quad(muy\\,peque\\tilde{n}o)$$\n",
        "\n",
        "Sin embargo, al resolver el sistema $\\left(A+\\triangle A\\right)x'=b$, tenemos que: \n",
        "\n",
        "$$x'=\\left(\\begin{array}{c}\n",
        "3.0852\\\\\n",
        "-0.0437\\\\\n",
        "1.0021\n",
        "\\end{array}\\right),\\quad\\delta x=x'-x=\\left(\\begin{array}{c}\n",
        "2.0852\\\\\n",
        "-1.0437\\\\\n",
        "0.0021\n",
        "\\end{array}\\right)$$\n",
        "\n",
        "Error relativo $=\\frac{\\left\\Vert \\delta x\\right\\Vert }{\\left\\Vert x\\right\\Vert }=1.3463$, lo cual es bastante grande.\n",
        "\n",
        "Ademas \n",
        "\n",
        "$$\\kappa\\left(A\\right)=\\left\\Vert A\\right\\Vert \\left\\Vert A^{-1}\\right\\Vert =322758.59$$"
      ]
    },
    {
      "cell_type": "code",
      "metadata": {
        "colab": {
          "base_uri": "https://localhost:8080/"
        },
        "id": "03w1ddh4vwUU",
        "outputId": "8fc21386-d990-4d60-da10-476d96c581e8"
      },
      "source": [
        "# solucion del sistema\n",
        "x = np.linalg.solve(A,b)\n",
        "# veamos la solucion\n",
        "print(x)\n",
        "\n",
        "# cambiamos la entrada 2,3 perturbacion en la matriz\n",
        "deltaA = np.array([[1,2,1],[2,4.0001,2.0021],[1,2.002,2.004]])\n",
        "# solucion del sistema\n",
        "nuevaSol = np.linalg.solve(deltaA,b)\n",
        "# veamos la solucion\n",
        "print(nuevaSol)\n",
        "\n",
        "# deltax\n",
        "print(nuevaSol-x)\n",
        "\n",
        "# numero de condicion de la matriz perturbada\n",
        "print(np.linalg.cond(deltaA))"
      ],
      "execution_count": null,
      "outputs": [
        {
          "output_type": "stream",
          "text": [
            "[1. 1. 1.]\n",
            "[ 3.08523909 -0.04365904  1.002079  ]\n",
            "[ 2.08523909e+00 -1.04365904e+00  2.07900208e-03]\n",
            "322758.5924078853\n"
          ],
          "name": "stdout"
        }
      ]
    },
    {
      "cell_type": "markdown",
      "metadata": {
        "id": "mrbRizKvugLX"
      },
      "source": [
        "# Análisis de la perturbación en $A$ y $b$\n",
        "\n",
        "Supongamos que $A$ ha sido perturbada y el vector $b$ también.\n",
        "\n",
        "$$\\begin{array}{c}\n",
        "A\\longrightarrow A+\\triangle A\\quad(\\triangle A=perturbaci\\acute{o}\\,en\\,matriz\\,A)\\\\\n",
        "b\\longrightarrow b+\\delta b\\quad(\\delta b=cambio\\,en\\,el\\,vector\\,b)\\\\\n",
        "x\\longrightarrow x+\\delta x\\quad(\\delta x=cambio\\,en\\,la\\,soluci\\acute{o}n)\n",
        "\\end{array}$$\n",
        "\n",
        "Suponga que $A$ es no singular y $b\\neq0$, y $\\left\\Vert \\triangle A\\right\\Vert <\\frac{1}{\\left\\Vert A^{-1}\\right\\Vert }$. Entonces\n",
        "\n",
        "$$\\frac{\\left\\Vert \\delta x\\right\\Vert }{\\left\\Vert x\\right\\Vert }\\leq\\left(\\frac{\\kappa\\left(A\\right)\\frac{\\left\\Vert \\triangle A\\right\\Vert }{\\left\\Vert A\\right\\Vert }}{1-\\kappa\\left(A\\right)\\frac{\\left\\Vert \\triangle A\\right\\Vert }{\\left\\Vert A\\right\\Vert }}\\right)\\left(\\frac{\\left\\Vert \\triangle A\\right\\Vert }{\\left\\Vert A\\right\\Vert }+\\frac{\\left\\Vert \\delta b\\right\\Vert }{\\left\\Vert b\\right\\Vert }\\right)$$"
      ]
    },
    {
      "cell_type": "markdown",
      "metadata": {
        "id": "ENJ_tkZJ2ew2"
      },
      "source": [
        "# Resumen\n",
        "\n",
        "El numero de condición de una matriz $A\\in M_{n\\times n}$.\n",
        "\n",
        "*   El numero de condición de una matriz $A\\in M_{n\\times n}$.\n",
        "$$\\kappa\\left(A\\right)=\\left\\Vert A\\right\\Vert \\left\\Vert A^{-1}\\right\\Vert$$\n",
        "\n",
        "    Nos proporciona información importante sobre las caracteristicas de la matriz $A$.\n",
        "\n",
        "*   Una vez que conocemos este valor, podemos determinar si nuestro problema está bien condicionado ó si por el contrario está mal condicionado.\n",
        "\n"
      ]
    },
    {
      "cell_type": "markdown",
      "metadata": {
        "id": "j2Y-8p6vXLvU"
      },
      "source": [
        "#  Referencias\n",
        "\n",
        "*   Riswan Butt, Numerical Analysys Using Matlab, Jones and Bartlett.\n",
        "*   Ward Cheney, David Kincaid, Métodos Numéricos y Computación, Cenage Learning.\n",
        "*   Richard L. Burden, J. Douglas Faires, Análisis Numérico, Math Learning.\n",
        "*   Yuri N. Skiba, Introducción a los Métodos Numéricos.\n",
        "*   Quarteroni, A, Sacco R., Numerical mathematics, Springer. 2007.\n",
        "\n"
      ]
    }
  ]
}