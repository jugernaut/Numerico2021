{
  "nbformat": 4,
  "nbformat_minor": 0,
  "metadata": {
    "colab": {
      "name": "FactorizacionQR.ipynb",
      "provenance": [],
      "toc_visible": true,
      "authorship_tag": "ABX9TyP0bToF97gXmO8Ad/RqVskA",
      "include_colab_link": true
    },
    "kernelspec": {
      "name": "python3",
      "display_name": "Python 3"
    }
  },
  "cells": [
    {
      "cell_type": "markdown",
      "metadata": {
        "id": "view-in-github",
        "colab_type": "text"
      },
      "source": [
        "<a href=\"https://colab.research.google.com/github/jugernaut/Numerico2021/blob/desarrollo/03_SolucionSistemasLineales/07_FactorizacionQR.ipynb\" target=\"_parent\"><img src=\"https://colab.research.google.com/assets/colab-badge.svg\" alt=\"Open In Colab\"/></a>"
      ]
    },
    {
      "cell_type": "markdown",
      "metadata": {
        "id": "1gGtPTa5yOe7"
      },
      "source": [
        "# Factorización QR\n",
        "### Proyecto PAPIME PE101019\n",
        "- Autor: Miguel Angel Pérez León\n",
        "- Rev: dom nov 22 17:08:27 CDT 2020"
      ]
    },
    {
      "cell_type": "markdown",
      "metadata": {
        "id": "QOp9MKbLyVdE"
      },
      "source": [
        "## Introducción\n",
        "\n",
        "Como ya se ha visto a lo largo de este curso, es recurrente tratar de resolver un sistema del tipo $A\\vec{x}=\\vec{b}$ y dado que el cálculo de la matriz inversa de $A$ es un proceso costoso, se buscan alternativas.\n",
        "\n",
        "La matriz asociada al **sistema de ecuaciones normales** $\\left(A^{T}A\\right)$, tiene peculiares características (**Simétrica y Positiva Definida**) que la convierte en candidato a diferentes tipos de factorizaciones, en este caso la factorización $QR$.\n",
        "\n",
        "Hecho. Una matriz $A\\in M_{n\\times n}$ sobre $\\mathbb{R}$\n",
        "1.   Es simétrica si: $A=A^{T}$\n",
        "2.   Es positiva definida si: Todos sus determinantes superiores izquierdos de $i\\times i\\quad i=1,\\ldots,n$ son positivos."
      ]
    },
    {
      "cell_type": "markdown",
      "metadata": {
        "id": "M1O_hnX8zyUc"
      },
      "source": [
        "## Teorema\n",
        "\n",
        "Sea $A\\in M_{m\\times n}$ sobre $\\mathbb{R}$, $(m\\geq n)$ y rango$\\left(A\\right)=n$ existe una única factorización $QR$ tal que\n",
        "$$A=QR\\quad con\\,r_{ii}>0\\quad i=0,\\ldots,n-1$$"
      ]
    },
    {
      "cell_type": "markdown",
      "metadata": {
        "id": "iZaK4Lfh0ZKY"
      },
      "source": [
        "## Método de Gram-Schmidt para la factorización $A=QR$\n",
        "\n",
        "La idea detrás de la factorización $QR$ es construir una base ortonormal $\\left(q_{1},q_{2},\\ldots,q_{n}\\in \\mathbb{R}^{n}\\right)$ para el subespacio generado por los vectores columna de $A$. El que 2 vectores sean ortogonales, significa que el **producto punto entre ellos es igual a cero** (el ángulo entre ellos es 90 grados) y si además un vector esta dividido entre la norma de si mismo, **ese vector esta normalizado**.\n",
        "\n",
        "*   Se comienza utilizando el primer vector columna de $A\\,(a_{1})$. Es decir $q_{1}=\\frac{a_{1}}{\\left\\Vert a_{1}\\right\\Vert _{2}}$.\n",
        "*   A continuación se substrae del vector $a_{2}$ su coeficiente en la dirección de $q_{1}$, es decir $\\left(q_{1}^{T}\\cdot a_{1}\\right)\\cdot q_{1}$. Dando como resultado un vector $q_{2}$, que es ortogonal a $q_{1}$. Finalmente se normaliza el vector $q_{2}$ para volverlo ortonormal.\n",
        "*   El proceso se repite con el resto de los vectores columna de \n",
        "$$A=\\left[a_{1},a_{2},\\ldots,a_{n}\\right]$$\n",
        "\n",
        "Un par de vectores ortonormales se verían de la siguiente forma."
      ]
    },
    {
      "cell_type": "markdown",
      "metadata": {
        "id": "Mew65LdD1fCm"
      },
      "source": [
        "### Algoritmo\n",
        "\n",
        "En términos matemáticos, el proceso se vería de la siguiente manera.\n",
        "\n",
        "1.   $q_{1}=\\frac{v_{1}}{\\left\\Vert v_{1}\\right\\Vert _{2}}\\quad con\\quad v_{1}=a_{1}$\n",
        "2.   $q_{2}=\\frac{v_{2}}{\\left\\Vert v_{2}\\right\\Vert _{2}}\\quad con\\quad v_{2}=a_{2}-\\left(q_{1}^{T}\\cdot a_{2}\\right)\\cdot q_{1}$\n",
        "3.   $q_{3}=\\frac{v_{3}}{\\left\\Vert v_{3}\\right\\Vert _{2}}\\quad con\\quad v_{3}=a_{3}-\\left(q_{1}^{T}\\cdot a_{3}\\right)\\cdot q_{1}-\\left(q_{2}^{T}\\cdot a_{3}\\right)\\cdot q_{2}$\n",
        "4.   En general el j-esimo paso, suponiendo conocidos $q_{1},\\ldots,q_{j-1}$, es un vector $q_{j}$ ortonormal a todos los vectores ya conocidos, es decir\n",
        "$$q_{j}\t=\t\\frac{v_{j}}{\\left\\Vert v_{j}\\right\\Vert _{2}}\\quad con\\quad v_{j}=a_{j}-\\left(q_{1}^{T}\\cdot a_{j}\\right)\\cdot q_{1}-\\cdots-\\left(q_{j-1}^{T}\\cdot a_{j}\\right)\\cdot q_{j-1}$$\n",
        "5.   En forma de sumatoria, el vector $v_{j}$ se ve de la siguiente manera\n",
        "$$v_{j}=a_{j}-\\sum_{i=1}^{j-1}\\left(q_{i}^{T}\\cdot a_{j}\\right)\\cdot q_{i}$$\n",
        "\n",
        "\n",
        "\n"
      ]
    },
    {
      "cell_type": "markdown",
      "metadata": {
        "id": "heES_MVJ2q0G"
      },
      "source": [
        "### Ejemplo\n",
        "\n",
        "Sea $A=\\left(\\begin{array}{ccc}\n",
        "-1 & -1 & 1\\\\\n",
        "1 & 3 & 3\\\\\n",
        "-1 & -1 & 5\\\\\n",
        "1 & 3 & 7\n",
        "\\end{array}\\right)$ encuentre su factorización $A=QR$\n",
        "\n",
        "$q_{1}=\\frac{v_{1}}{\\left\\Vert v_{1}\\right\\Vert _{2}}\\quad v_{1}=a_{1}=\\left(\\begin{array}{c}\n",
        "-1\\\\\n",
        "1\\\\\n",
        "-1\\\\\n",
        "1\n",
        "\\end{array}\\right)\\quad{\\color{red}r}_{\\color{red}{11}}=\\left\\Vert v_{1}\\right\\Vert _{2}=2\\Longrightarrow{\\color{red}q_{\\color{red}{1}}=\\frac{v_{1}}{r_{11}}=\\left(\\begin{array}{c}\n",
        "-\\frac{1}{2}\\\\\n",
        "\\frac{1}{2}\\\\\n",
        "-\\frac{1}{2}\\\\\n",
        "\\frac{1}{2}\n",
        "\\end{array}\\right)}\\quad{\\color{red}r}_{\\color{red}{12}}=q_{1}^{T}a_{2}=4$\n",
        "\n",
        "$$v_{2}=a_{2}-r_{12}q_{1}=\\left(\\begin{array}{c}\n",
        "-1\\\\\n",
        "3\\\\\n",
        "-1\\\\\n",
        "3\n",
        "\\end{array}\\right)-4\\left(\\begin{array}{c}\n",
        "-\\frac{1}{2}\\\\\n",
        "\\frac{1}{2}\\\\\n",
        "-\\frac{1}{2}\\\\\n",
        "\\frac{1}{2}\n",
        "\\end{array}\\right)=\\left(\\begin{array}{c}\n",
        "1\\\\\n",
        "1\\\\\n",
        "1\\\\\n",
        "1\n",
        "\\end{array}\\right)$$\n",
        "\n",
        "$${\\color{red}r}_{\\color{red}{22}}=\\left\\Vert v_{2}\\right\\Vert _{2}=2\\Longrightarrow{\\color{red}q_{\\color{red}{2}}=\\frac{v_{2}}{r_{22}}=\\left(\\begin{array}{c}\n",
        "\\frac{1}{2}\\\\\n",
        "\\frac{1}{2}\\\\\n",
        "\\frac{1}{2}\\\\\n",
        "\\frac{1}{2}\n",
        "\\end{array}\\right)}$$\n",
        "\n",
        "$${\\color{red}r}_{\\color{red}{13}}=q_{1}^{T}a_{3}=2\\  \\ {\\color{red}r}_{\\color{red}{23}}=q_{2}^{T}a_{3}=8$$\n",
        "\n",
        "$$v_{3}=a_{3}-r_{13}q_{1}-r_{23}q_{2}=\\left(\\begin{array}{c}\n",
        "1\\\\\n",
        "3\\\\\n",
        "5\\\\\n",
        "7\n",
        "\\end{array}\\right)-2\\left(\\begin{array}{c}\n",
        "-\\frac{1}{2}\\\\\n",
        "\\frac{1}{2}\\\\\n",
        "-\\frac{1}{2}\\\\\n",
        "\\frac{1}{2}\n",
        "\\end{array}\\right)-8\\left(\\begin{array}{c}\n",
        "\\frac{1}{2}\\\\\n",
        "\\frac{1}{2}\\\\\n",
        "\\frac{1}{2}\\\\\n",
        "\\frac{1}{2}\n",
        "\\end{array}\\right)=\\left(\\begin{array}{c}\n",
        "-2\\\\\n",
        "-2\\\\\n",
        "2\\\\\n",
        "2\n",
        "\\end{array}\\right)$$\n",
        "\n",
        "$${\\color{red}r}_{\\color{red}{33}}=\\left\\Vert v_{3}\\right\\Vert _{2}=4\\Longrightarrow{\\color{red}q_{\\color{red}{3}}=\\frac{v_{2}}{r_{33}}=\\left(\\begin{array}{c}\n",
        "-\\frac{1}{2}\\\\\n",
        "-\\frac{1}{2}\\\\\n",
        "\\frac{1}{2}\\\\\n",
        "\\frac{1}{2}\n",
        "\\end{array}\\right)}$$\n",
        "\n",
        "$$A=\\left(\\begin{array}{ccc}\n",
        "-1 & -1 & 1\\\\\n",
        "1 & 3 & 3\\\\\n",
        "-1 & -1 & 5\\\\\n",
        "1 & 3 & 7\n",
        "\\end{array}\\right)=\\left(\\begin{array}{ccc}\n",
        "q_{1} & q_{2} & q_{3}\\end{array}\\right)\\left(\\begin{array}{ccc}\n",
        "r_{11} & r_{12} & r_{13}\\\\\n",
        "0 & r_{22} & r_{23}\\\\\n",
        "0 & 0 & r_{33}\n",
        "\\end{array}\\right)$$\n",
        "\n",
        "$$\\left(\\begin{array}{ccc}\n",
        "-1 & -1 & 1\\\\\n",
        "1 & 3 & 3\\\\\n",
        "-1 & -1 & 5\\\\\n",
        "1 & 3 & 7\n",
        "\\end{array}\\right)=\\left(\\begin{array}{ccc}\n",
        "-\\frac{1}{2} & \\frac{1}{2} & -\\frac{1}{2}\\\\\n",
        "\\frac{1}{2} & \\frac{1}{2} & -\\frac{1}{2}\\\\\n",
        "-\\frac{1}{2} & \\frac{1}{2} & \\frac{1}{2}\\\\\n",
        "\\frac{1}{2} & \\frac{1}{2} & \\frac{1}{2}\n",
        "\\end{array}\\right)\\left(\\begin{array}{ccc}\n",
        "2 & 4 & 2\\\\\n",
        "0 & 2 & 8\\\\\n",
        "0 & 0 & 4\n",
        "\\end{array}\\right)$$"
      ]
    },
    {
      "cell_type": "code",
      "metadata": {
        "id": "75BrCRCAI4Dj",
        "colab": {
          "base_uri": "https://localhost:8080/"
        },
        "outputId": "d83187c2-b459-464d-995a-424343491b81"
      },
      "source": [
        "import numpy as np\n",
        "\n",
        "# matriz a que se quiere aplicar factorizacion QR\n",
        "A = np.array([[-1,-1,1],[1,3,3],[-1,-1,5],[1,3,7]])\n",
        "\n",
        "# funcion de numpy encargada de la factorizacion QR\n",
        "Q,R = np.linalg.qr(A)\n",
        "\n",
        "# mostrar ambas matrices\n",
        "print(Q)\n",
        "print(R)\n",
        "\n",
        "# comprobacion\n",
        "print(np.matmul(Q,R))"
      ],
      "execution_count": null,
      "outputs": [
        {
          "output_type": "stream",
          "text": [
            "[[-0.5 -0.5  0.5]\n",
            " [ 0.5 -0.5  0.5]\n",
            " [-0.5 -0.5 -0.5]\n",
            " [ 0.5 -0.5 -0.5]]\n",
            "[[ 2.  4.  2.]\n",
            " [ 0. -2. -8.]\n",
            " [ 0.  0. -4.]]\n",
            "[[-1. -1.  1.]\n",
            " [ 1.  3.  3.]\n",
            " [-1. -1.  5.]\n",
            " [ 1.  3.  7.]]\n"
          ],
          "name": "stdout"
        }
      ]
    },
    {
      "cell_type": "markdown",
      "metadata": {
        "id": "7LfW1By1J5RW"
      },
      "source": [
        "## Propiedades de la factorización QR\n",
        "\n",
        "La factorización $QR$ implica que la matriz $Q$ es una matriz ortonormal y la matriz $R$ es una matriz triangular superior. Estos factores tiene muchas ventajas, sea $A\\in M_{n\\times n}$ sobre $\\mathbb{R}$.\n",
        "\n",
        "1.  Si $Q$ es ortogonal entonces $Q^{T}Q=Id.$\n",
        "2.  $QR=A\\Longrightarrow R=Q^{T}A.$\n",
        "3.  Dado que de las ecuaciones normales definidas por $A^{T}A\\vec{x}=A^{T}\\vec{b}$, garantizan que $A^{T}A$ es una matriz positiva definida, entonces $A^{T}A$ se pude factorizar en $QR$.\n",
        "4.  Sea $A'=A^{T}A\\;y\\;b'=A^{T}\\vec{b}.$ Entonces $A'\\vec{x}=b'\\Longrightarrow QR\\vec{x}=b'\\Longrightarrow Q^{T}QR\\vec{x}=Q^{T}b'\\Longrightarrow$\n",
        "$$R\\vec{x}=Q^{T}b'$$\n",
        "Resulta que $R\\vec{x}=Q^{T}b'$ es un sistema triangular que puede ser resuelto fácilmente mediante su buen amigo, **substitución hacia atrás**. \n",
        "\n",
        "\n"
      ]
    },
    {
      "cell_type": "markdown",
      "metadata": {
        "id": "42ORJ0QJL59a"
      },
      "source": [
        "## Referencias\n",
        "\n",
        "*   Riswan Butt, Numerical Analysys Using Matlab, Jones and Bartlett.\n",
        "*   Ward Cheney, David Kincaid, Métodos Numéricos y Computación, Cenage Learning.\n",
        "*   Justin Solomon, Numerical Algorithms.\n",
        "*   Jaan Kiusalaas, Numerical Methods in Engineering with Python.\n",
        "*   Richard L. Burden, J. Douglas Faires, Análisis Numérico, Math Learning.\n",
        "*   Yuri N. Skiba: Introducción a los Métodos Numéricos. "
      ]
    }
  ]
}