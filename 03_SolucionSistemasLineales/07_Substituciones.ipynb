{
  "nbformat": 4,
  "nbformat_minor": 0,
  "metadata": {
    "colab": {
      "name": "Substituciones.ipynb",
      "provenance": [],
      "collapsed_sections": [],
      "authorship_tag": "ABX9TyN3RqbF2q8ylzfO/nomoCZK",
      "include_colab_link": true
    },
    "kernelspec": {
      "name": "python3",
      "display_name": "Python 3"
    }
  },
  "cells": [
    {
      "cell_type": "markdown",
      "metadata": {
        "id": "view-in-github",
        "colab_type": "text"
      },
      "source": [
        "<a href=\"https://colab.research.google.com/github/jugernaut/Numerico2021/blob/master/03_SolucionSistemasLineales/07_Substituciones.ipynb\" target=\"_parent\"><img src=\"https://colab.research.google.com/assets/colab-badge.svg\" alt=\"Open In Colab\"/></a>"
      ]
    },
    {
      "cell_type": "markdown",
      "metadata": {
        "id": "09GNFtNsMWEu",
        "colab_type": "text"
      },
      "source": [
        "# Substituciones (hacia adelante, hacia atras)\n",
        "\n",
        "Una vez que ya se tiene una matriz triangular (superior o inferior) es muy sencillo resolver un sistema de ecuaciones empleando alguna de estas substituciones.\n",
        "\n",
        "La idea general es que dado un sistema del tipo $A\\vec{x}=\\vec{b}$, la matriz $A\\in M_{n\\times n}$ puede ser factorizada empleando alguno de los metodos previamente mencionados (LU, QR, Cholesky) y una vez que se tenga alguna de estas factorizaciones es posible emplear algun tipo de subtitución para resolver el sistema original."
      ]
    },
    {
      "cell_type": "markdown",
      "metadata": {
        "id": "ydYY5dOGYoU-",
        "colab_type": "text"
      },
      "source": [
        "## Substitución hacia adelante\n",
        "\n",
        "Supongamos que se tiene una matríz triangular inferior $L\\in M_{n\\times n}$ sobre $\\mathbb{R}$ y los correspondientes vectores, $\\vec{y},\\vec{b}\\in\\mathbb{R}^{n}$ podemos pensar en resolver el sistema. \n",
        "\n",
        "$$L\\vec{y}=\\vec{b}$$\n",
        "\n",
        "Para resolver dicho sistema empleamos el siguiente algoritmo de substitución.\n",
        "\n",
        "$$y_{i}=\\frac{b_{i}-\\displaystyle\\sum_{j=0}^{i-1}l_{ij}y_{j}}{l_{ii}}\\quad i=0,\\ldots,(n-1)$$\n",
        "\n",
        "## Ejemplo\n",
        "\n",
        "$$\\left(\\begin{array}{ccc}\n",
        "1 & 0 & 0\\\\\n",
        "-2 & 1 & 0\\\\\n",
        "-1 & 3 & 1\n",
        "\\end{array}\\right)\\left(\\begin{array}{c}\n",
        "y_{0}\\\\\n",
        "y_{1}\\\\\n",
        "y_{2}\n",
        "\\end{array}\\right)=\\left(\\begin{array}{c}\n",
        "5\\\\\n",
        "6\\\\\n",
        "1\n",
        "\\end{array}\\right)$$\n",
        "\n",
        "Encontrar la primera entada del vector $\\vec{y}$ es trivial\n",
        "\n",
        "$$y_{0}=5$$\n",
        "\n",
        "La siguiente entrada involucra a $y_{0}$ es decir.\n",
        "\n",
        "$$y_{1}=\\frac{6-\\left(\\left(-2\\right)\\left(y_{0}\\right)\\right)}{l_{11}}=\\frac{6-\\left(\\left(-2\\right)\\left(5\\right)\\right)}{1}=16$$\n",
        "\n",
        "Finalmente la ultima entrada de $y$ se se calcula emplenado $y_{1}$ y $y_{0}$.\n",
        "\n",
        "$$y_{2}=\\frac{1-\\left(\\left(-1\\right)\\left(y_{0}\\right)+\\left(3\\right)\\left(y_{1}\\right)\\right)}{l_{22}}=\\frac{1-\\left(\\left(-1\\right)\\left(5\\right)+\\left(3\\right)\\left(16\\right)\\right)}{1}=-42$$\n",
        "\n",
        "Empleando **substitución hacia adelante** se tiene que. \n",
        "\n",
        "$$\\vec{y}=\\left(\\begin{array}{c}\n",
        "5\\\\\n",
        "16\\\\\n",
        "-42\n",
        "\\end{array}\\right)$$"
      ]
    },
    {
      "cell_type": "markdown",
      "metadata": {
        "id": "yEXaRqlETprP",
        "colab_type": "text"
      },
      "source": [
        "## Substitución hacia atras\n",
        "\n",
        "Supongamos que se tiene una matríz triangular superior y los correspondientes vectores, $U\\in\\mathbb{R}_{n\\times n}\\,\\vec{x},\\vec{y}\\in\\mathbb{R}^{n}$ podemos pensar en resolver el sistema. \n",
        "\n",
        "$$U\\vec{x}=\\vec{y}$$\n",
        "\n",
        "Para resolver dicho sistema empleamos el siguiente algoritmo de substitución.\n",
        "\n",
        "$$x_{i}=\\frac{y_{i}-\\displaystyle\\sum_{j=i+1}^{n-1}u_{ij}x_{j}}{u_{ii}}\\quad i=(n-1),\\ldots,0$$\n",
        "\n",
        "## Ejemplo\n",
        "\n",
        "$$\n",
        "\\left(\\begin{array}{ccc}\n",
        "-4 & -3 & 1\\\\\n",
        "0 & 5 & 1\\\\\n",
        "0 & 0 & 3\n",
        "\\end{array}\\right)\\left(\\begin{array}{c}\n",
        "x_{0}\\\\\n",
        "x_{1}\\\\\n",
        "x_{2}\n",
        "\\end{array}\\right)=\\left(\\begin{array}{c}\n",
        "5\\\\\n",
        "16\\\\\n",
        "-42\n",
        "\\end{array}\\right)\n",
        "$$\n",
        "\n",
        "Encontrar la última entada del vector $\\vec{x}$ es trivial\n",
        "\n",
        "$$x_{2}=\\frac{-42}{u_{22}}=\\frac{-42}{3}=-14$$\n",
        "\n",
        "La siguiente entrada involucra a $x_{2}$ es decir.\n",
        "\n",
        "$$x_{1}=\\frac{16-\\left(\\left(1\\right)\\left(x_{2}\\right)\\right)}{u_{11}}=\\frac{16-\\left(\\left(1\\right)\\left(-14\\right)\\right)}{5}=6$$\n",
        "\n",
        "Finalmente la primer entrada de $x$ se se calcula emplenado $x_{2}$ y $x_{1}$.\n",
        "\n",
        "$$x_{0}=\\frac{5-\\left(\\left(1\\right)\\left(x_{2}\\right)+\\left(-3\\right)\\left(x_{1}\\right)\\right)}{u_{00}}=\\frac{5-\\left(\\left(1\\right)\\left(-14\\right)+\\left(-3\\right)\\left(6\\right)\\right)}{-4}=-9.25$$\n",
        "\n",
        "Finalmente, mediante **substitución hacia atras** se tiene que.\n",
        "\n",
        "$$\\vec{x}=\\left(\\begin{array}{c}\n",
        "-9.25\\\\\n",
        "6\\\\\n",
        "-14\n",
        "\\end{array}\\right)$$\n",
        "\n",
        "#En python ambos algoritmos lucen asi"
      ]
    },
    {
      "cell_type": "code",
      "metadata": {
        "id": "Ln6srzOGQBiC",
        "colab_type": "code",
        "colab": {}
      },
      "source": [
        "import numpy as np\n",
        "\n",
        "# algoritmo para sustitucion hacia delante\n",
        "# n es el tamano de la dimension del problema\n",
        "# matriz L, vector b ya estan dados como parametros\n",
        "# guardar los resultados en el vector y\n",
        "# Ly=b\n",
        "def sustDelante(n, L, b, y):\n",
        "  y[0] = b[0]\n",
        "  for i in range(1,n):\n",
        "    y[i] = b[i]\n",
        "    for j in range(0,i):\n",
        "      y[i] -= L[i][j]*y[j]\n",
        "  return\n",
        "\n",
        "# algoritmo para sustitucion hacia atras\n",
        "# n es el tamano de la dimension del problema\n",
        "# matriz U, vector y ya estan dados como parametros\n",
        "# guardar los resultados en el vector x\n",
        "# Ux=y\n",
        "def sustAtras(n, U, y, x):\n",
        "    x[n-1] = y[n-1]/U[n-1][n-1]\n",
        "    for i in range(n-2,-1,-1):\n",
        "      x[i] = y[i]\n",
        "      for j in range(i+1,n):\n",
        "        x[i] -= U[i][j]*x[j]\n",
        "      x[i] /= U[i][i]\n",
        "    return"
      ],
      "execution_count": null,
      "outputs": []
    },
    {
      "cell_type": "markdown",
      "metadata": {
        "id": "0v6F2b98RVQR",
        "colab_type": "text"
      },
      "source": [
        "#Ejemplo con un sistema de ecuaciones\n",
        "\n",
        "Supongamos que tenemos el sistema $A\\vec{x}=\\vec{b}$.\n",
        "\n",
        "$$\\left(\\begin{array}{ccc}\n",
        "-4 & -3 & 1\\\\\n",
        "8 & 11 & -1\\\\\n",
        "4 & 18 & 5\n",
        "\\end{array}\\right)\\left(\\begin{array}{c}\n",
        "x_{0}\\\\\n",
        "x_{1}\\\\\n",
        "x_{2}\n",
        "\\end{array}\\right)=\\left(\\begin{array}{c}\n",
        "5\\\\\n",
        "6\\\\\n",
        "1\n",
        "\\end{array}\\right)$$\n",
        "\n",
        "Y su respectiva factorización $A=LU$.\n",
        "\n",
        "$$U=\\left(\\begin{array}{ccc}\n",
        "-4 & -3 & 1\\\\\n",
        "0 & 5 & 1\\\\\n",
        "0 & 0 & 3\n",
        "\\end{array}\\right)\\quad L=\\left(\\begin{array}{ccc}\n",
        "1 & 0 & 0\\\\\n",
        "-2 & 1 & 0\\\\\n",
        "-1 &{3} & 1\n",
        "\\end{array}\\right)$$"
      ]
    },
    {
      "cell_type": "code",
      "metadata": {
        "id": "InAwWrSRT9B_",
        "colab_type": "code",
        "colab": {
          "base_uri": "https://localhost:8080/",
          "height": 71
        },
        "outputId": "dedab22c-79ed-4e6c-9898-302d238975b1"
      },
      "source": [
        "U = np.array([[-4,-3,1],[0,5,1],[0,0,3]])\n",
        "L = np.array([[1,0,0],[-2,1,0],[-1,3,1]])\n",
        "\n",
        "print(np.matmul(L,U))"
      ],
      "execution_count": null,
      "outputs": [
        {
          "output_type": "stream",
          "text": [
            "[[-4 -3  1]\n",
            " [ 8 11 -1]\n",
            " [ 4 18  5]]\n"
          ],
          "name": "stdout"
        }
      ]
    },
    {
      "cell_type": "markdown",
      "metadata": {
        "id": "nf7TjQ6-VVyU",
        "colab_type": "text"
      },
      "source": [
        "Primero encontramos la solución del sistema $L\\vec{y}=\\vec{b}$ empleando sistitución hacia atras."
      ]
    },
    {
      "cell_type": "code",
      "metadata": {
        "id": "L3o4ZsCYVcNs",
        "colab_type": "code",
        "colab": {
          "base_uri": "https://localhost:8080/",
          "height": 35
        },
        "outputId": "7446caa2-d6a5-460b-ad86-90bb34af0336"
      },
      "source": [
        "b = np.array([5,6,1])\n",
        "y = np.zeros(3)\n",
        "sustDelante(y.size, L, b, y)\n",
        "\n",
        "print(y)"
      ],
      "execution_count": null,
      "outputs": [
        {
          "output_type": "stream",
          "text": [
            "[  5.  16. -42.]\n"
          ],
          "name": "stdout"
        }
      ]
    },
    {
      "cell_type": "markdown",
      "metadata": {
        "id": "zqSey-W3XsXo",
        "colab_type": "text"
      },
      "source": [
        "Ya que se conoce el valor del vector $\\vec{y}$ ahora podemos resolver el sistema $U\\vec{x}=\\vec{y}$"
      ]
    },
    {
      "cell_type": "code",
      "metadata": {
        "colab_type": "code",
        "id": "JSAjOTm2YKEJ",
        "colab": {
          "base_uri": "https://localhost:8080/",
          "height": 35
        },
        "outputId": "4d0e98a8-aafd-4fa1-f8b6-946059160f6e"
      },
      "source": [
        "x = np.zeros(3)\n",
        "sustAtras(x.size, U, y, x)\n",
        "\n",
        "print(x)"
      ],
      "execution_count": null,
      "outputs": [
        {
          "output_type": "stream",
          "text": [
            "[ -9.25   6.   -14.  ]\n"
          ],
          "name": "stdout"
        }
      ]
    },
    {
      "cell_type": "markdown",
      "metadata": {
        "id": "YjwDihYZYWu4",
        "colab_type": "text"
      },
      "source": [
        "Por lo tanto la solución al sistema original $A\\vec{x}=\\vec{b}$, es.\n",
        "\n",
        "$$\\vec{x}=\\left(\\begin{array}{c}\n",
        "-9.25\\\\\n",
        "6\\\\\n",
        "-14\n",
        "\\end{array}\\right)$$"
      ]
    },
    {
      "cell_type": "markdown",
      "metadata": {
        "id": "P15Oh28GZKHm",
        "colab_type": "text"
      },
      "source": [
        "#Resúmen\n",
        "\n",
        "Los algoritmos de substitución hacia atras y hacia adelante son de los algoritmos mas elementales para resolver un sistema de ecuaciones, sin embargo vale la pena notar algunas cosas.\n",
        "\n",
        "*   ¿Por que es buena idea emplear estos algoritmos en lugar de buscar la inversa de la matriz $A$?.\n",
        "*   En terminos de elementales (+, -, *, /), ¿cuantas operaciones se realizan al emplear el algoritmo de sustitución hacia adelante?.\n",
        "*   En terminos de operaciones (+, -, *, /), ¿cuantas operaciones se realizan al emplear el algoritmo de sustitución hacia atras?.\n",
        "*   En total, ¿cuantas operaciones se realizan cuando se resuelve un sistema $LU\\vec{x}=\\vec{b}$ empleando sustitución hacia adelante y despues hacia atras?.\n",
        "\n",
        "\n",
        "\n"
      ]
    },
    {
      "cell_type": "markdown",
      "metadata": {
        "id": "oDop6nTliDFd",
        "colab_type": "text"
      },
      "source": [
        "##Referencias\n",
        "\n",
        "Justin Solomon: Numerical Algorithms.\n",
        "\n",
        "Jaan Kiusalaas: Numerical Methods in Engineering with Python.\n",
        "\n",
        "Richard L. Burden, J. Douglas Faires: Análisis Numérico, Math Learning.\n",
        "\n",
        "Riswan Butt: Numerical Analysys Using Matlab, Jones and Bartlett.\n",
        "\n",
        "Ward Cheney, David Kincaid: Métodos Numéricos y Computación, Cenage Learning."
      ]
    }
  ]
}