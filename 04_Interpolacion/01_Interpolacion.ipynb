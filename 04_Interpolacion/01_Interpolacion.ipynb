{
  "nbformat": 4,
  "nbformat_minor": 0,
  "metadata": {
    "kernelspec": {
      "display_name": "Python 3.7 (tensorflow)",
      "language": "python",
      "name": "tensorflow"
    },
    "language_info": {
      "codemirror_mode": {
        "name": "ipython",
        "version": 3
      },
      "file_extension": ".py",
      "mimetype": "text/x-python",
      "name": "python",
      "nbconvert_exporter": "python",
      "pygments_lexer": "ipython3",
      "version": "3.7.7"
    },
    "colab": {
      "name": "01_Interpolacion.ipynb",
      "provenance": [],
      "toc_visible": true,
      "include_colab_link": true
    },
    "widgets": {
      "application/vnd.jupyter.widget-state+json": {
        "4661f110c61f44c8b9e536ac86f29c59": {
          "model_module": "@jupyter-widgets/controls",
          "model_name": "VBoxModel",
          "state": {
            "_view_name": "VBoxView",
            "_dom_classes": [
              "widget-interact"
            ],
            "_model_name": "VBoxModel",
            "_view_module": "@jupyter-widgets/controls",
            "_model_module_version": "1.5.0",
            "_view_count": null,
            "_view_module_version": "1.5.0",
            "box_style": "",
            "layout": "IPY_MODEL_e19b486d5be0421387781202e97bfa5b",
            "_model_module": "@jupyter-widgets/controls",
            "children": [
              "IPY_MODEL_02dace4646e0415884ba1bad7b766b26",
              "IPY_MODEL_b65238f86c31420687dea01b95a44efc",
              "IPY_MODEL_695b7de2565d4d199d984392802ed501",
              "IPY_MODEL_ac4e3494f7874edea3d3be9e070b9fc6"
            ]
          }
        },
        "e19b486d5be0421387781202e97bfa5b": {
          "model_module": "@jupyter-widgets/base",
          "model_name": "LayoutModel",
          "state": {
            "_view_name": "LayoutView",
            "grid_template_rows": null,
            "right": null,
            "justify_content": null,
            "_view_module": "@jupyter-widgets/base",
            "overflow": null,
            "_model_module_version": "1.2.0",
            "_view_count": null,
            "flex_flow": null,
            "width": null,
            "min_width": null,
            "border": null,
            "align_items": null,
            "bottom": null,
            "_model_module": "@jupyter-widgets/base",
            "top": null,
            "grid_column": null,
            "overflow_y": null,
            "overflow_x": null,
            "grid_auto_flow": null,
            "grid_area": null,
            "grid_template_columns": null,
            "flex": null,
            "_model_name": "LayoutModel",
            "justify_items": null,
            "grid_row": null,
            "max_height": null,
            "align_content": null,
            "visibility": null,
            "align_self": null,
            "height": null,
            "min_height": null,
            "padding": null,
            "grid_auto_rows": null,
            "grid_gap": null,
            "max_width": null,
            "order": null,
            "_view_module_version": "1.2.0",
            "grid_template_areas": null,
            "object_position": null,
            "object_fit": null,
            "grid_auto_columns": null,
            "margin": null,
            "display": null,
            "left": null
          }
        },
        "02dace4646e0415884ba1bad7b766b26": {
          "model_module": "@jupyter-widgets/controls",
          "model_name": "DropdownModel",
          "state": {
            "_options_labels": [
              "cos(x)",
              "sin(x)",
              "tan(x)",
              "exp(x)",
              "exp(-x**2)",
              "exp(x)*cos(3*x)",
              "log(x)",
              "3.14159265358979**x",
              "x**3 + x**2 + x"
            ],
            "_view_name": "DropdownView",
            "style": "IPY_MODEL_59fd0e42111a4469878ea907abcca116",
            "_dom_classes": [],
            "description": "función",
            "_model_name": "DropdownModel",
            "index": 0,
            "_view_module": "@jupyter-widgets/controls",
            "_model_module_version": "1.5.0",
            "_view_count": null,
            "disabled": false,
            "_view_module_version": "1.5.0",
            "description_tooltip": null,
            "_model_module": "@jupyter-widgets/controls",
            "layout": "IPY_MODEL_8b7cba30ee1b49c8a8200d3dbb514005"
          }
        },
        "b65238f86c31420687dea01b95a44efc": {
          "model_module": "@jupyter-widgets/controls",
          "model_name": "IntSliderModel",
          "state": {
            "_view_name": "IntSliderView",
            "style": "IPY_MODEL_e4e60821dca84baaa1d72833c4b1b058",
            "_dom_classes": [],
            "description": "grado",
            "step": 1,
            "_model_name": "IntSliderModel",
            "orientation": "horizontal",
            "max": 16,
            "_view_module": "@jupyter-widgets/controls",
            "_model_module_version": "1.5.0",
            "value": 2,
            "_view_count": null,
            "disabled": false,
            "_view_module_version": "1.5.0",
            "min": 0,
            "continuous_update": true,
            "readout_format": "d",
            "description_tooltip": null,
            "readout": true,
            "_model_module": "@jupyter-widgets/controls",
            "layout": "IPY_MODEL_da275c214d08444bb139fab26a0d2f3c"
          }
        },
        "695b7de2565d4d199d984392802ed501": {
          "model_module": "@jupyter-widgets/controls",
          "model_name": "FloatSliderModel",
          "state": {
            "_view_name": "FloatSliderView",
            "style": "IPY_MODEL_f6d4e4fc11b540ae85b479b5c7b3c73e",
            "_dom_classes": [],
            "description": "x0",
            "step": 0.2,
            "_model_name": "FloatSliderModel",
            "orientation": "horizontal",
            "max": 3,
            "_view_module": "@jupyter-widgets/controls",
            "_model_module_version": "1.5.0",
            "value": 1,
            "_view_count": null,
            "disabled": false,
            "_view_module_version": "1.5.0",
            "min": -3,
            "continuous_update": true,
            "readout_format": ".2f",
            "description_tooltip": null,
            "readout": true,
            "_model_module": "@jupyter-widgets/controls",
            "layout": "IPY_MODEL_4ca90b4d3b7f4752951187ff4209362b"
          }
        },
        "ac4e3494f7874edea3d3be9e070b9fc6": {
          "model_module": "@jupyter-widgets/output",
          "model_name": "OutputModel",
          "state": {
            "_view_name": "OutputView",
            "msg_id": "",
            "_dom_classes": [],
            "_model_name": "OutputModel",
            "outputs": [
              {
                "output_type": "pyerr",
                "metadata": {
                  "tags": []
                },
                "ename": "TypeError",
                "evalue": "ignored",
                "traceback": [
                  "\u001b[0;31m---------------------------------------------------------------------------\u001b[0m",
                  "\u001b[0;31mTypeError\u001b[0m                                 Traceback (most recent call last)",
                  "\u001b[0;32m/usr/local/lib/python3.6/dist-packages/IPython/core/formatters.py\u001b[0m in \u001b[0;36m__call__\u001b[0;34m(self, obj)\u001b[0m\n\u001b[1;32m    332\u001b[0m                 \u001b[0;32mpass\u001b[0m\u001b[0;34m\u001b[0m\u001b[0;34m\u001b[0m\u001b[0m\n\u001b[1;32m    333\u001b[0m             \u001b[0;32melse\u001b[0m\u001b[0;34m:\u001b[0m\u001b[0;34m\u001b[0m\u001b[0;34m\u001b[0m\u001b[0m\n\u001b[0;32m--> 334\u001b[0;31m                 \u001b[0;32mreturn\u001b[0m \u001b[0mprinter\u001b[0m\u001b[0;34m(\u001b[0m\u001b[0mobj\u001b[0m\u001b[0;34m)\u001b[0m\u001b[0;34m\u001b[0m\u001b[0;34m\u001b[0m\u001b[0m\n\u001b[0m\u001b[1;32m    335\u001b[0m             \u001b[0;31m# Finally look for special method names\u001b[0m\u001b[0;34m\u001b[0m\u001b[0;34m\u001b[0m\u001b[0;34m\u001b[0m\u001b[0m\n\u001b[1;32m    336\u001b[0m             \u001b[0mmethod\u001b[0m \u001b[0;34m=\u001b[0m \u001b[0mget_real_method\u001b[0m\u001b[0;34m(\u001b[0m\u001b[0mobj\u001b[0m\u001b[0;34m,\u001b[0m \u001b[0mself\u001b[0m\u001b[0;34m.\u001b[0m\u001b[0mprint_method\u001b[0m\u001b[0;34m)\u001b[0m\u001b[0;34m\u001b[0m\u001b[0;34m\u001b[0m\u001b[0m\n",
                  "\u001b[0;32m/usr/local/lib/python3.6/dist-packages/IPython/core/pylabtools.py\u001b[0m in \u001b[0;36m<lambda>\u001b[0;34m(fig)\u001b[0m\n\u001b[1;32m    239\u001b[0m \u001b[0;34m\u001b[0m\u001b[0m\n\u001b[1;32m    240\u001b[0m     \u001b[0;32mif\u001b[0m \u001b[0;34m'png'\u001b[0m \u001b[0;32min\u001b[0m \u001b[0mformats\u001b[0m\u001b[0;34m:\u001b[0m\u001b[0;34m\u001b[0m\u001b[0;34m\u001b[0m\u001b[0m\n\u001b[0;32m--> 241\u001b[0;31m         \u001b[0mpng_formatter\u001b[0m\u001b[0;34m.\u001b[0m\u001b[0mfor_type\u001b[0m\u001b[0;34m(\u001b[0m\u001b[0mFigure\u001b[0m\u001b[0;34m,\u001b[0m \u001b[0;32mlambda\u001b[0m \u001b[0mfig\u001b[0m\u001b[0;34m:\u001b[0m \u001b[0mprint_figure\u001b[0m\u001b[0;34m(\u001b[0m\u001b[0mfig\u001b[0m\u001b[0;34m,\u001b[0m \u001b[0;34m'png'\u001b[0m\u001b[0;34m,\u001b[0m \u001b[0;34m**\u001b[0m\u001b[0mkwargs\u001b[0m\u001b[0;34m)\u001b[0m\u001b[0;34m)\u001b[0m\u001b[0;34m\u001b[0m\u001b[0;34m\u001b[0m\u001b[0m\n\u001b[0m\u001b[1;32m    242\u001b[0m     \u001b[0;32mif\u001b[0m \u001b[0;34m'retina'\u001b[0m \u001b[0;32min\u001b[0m \u001b[0mformats\u001b[0m \u001b[0;32mor\u001b[0m \u001b[0;34m'png2x'\u001b[0m \u001b[0;32min\u001b[0m \u001b[0mformats\u001b[0m\u001b[0;34m:\u001b[0m\u001b[0;34m\u001b[0m\u001b[0;34m\u001b[0m\u001b[0m\n\u001b[1;32m    243\u001b[0m         \u001b[0mpng_formatter\u001b[0m\u001b[0;34m.\u001b[0m\u001b[0mfor_type\u001b[0m\u001b[0;34m(\u001b[0m\u001b[0mFigure\u001b[0m\u001b[0;34m,\u001b[0m \u001b[0;32mlambda\u001b[0m \u001b[0mfig\u001b[0m\u001b[0;34m:\u001b[0m \u001b[0mretina_figure\u001b[0m\u001b[0;34m(\u001b[0m\u001b[0mfig\u001b[0m\u001b[0;34m,\u001b[0m \u001b[0;34m**\u001b[0m\u001b[0mkwargs\u001b[0m\u001b[0;34m)\u001b[0m\u001b[0;34m)\u001b[0m\u001b[0;34m\u001b[0m\u001b[0;34m\u001b[0m\u001b[0m\n",
                  "\u001b[0;32m/usr/local/lib/python3.6/dist-packages/IPython/core/pylabtools.py\u001b[0m in \u001b[0;36mprint_figure\u001b[0;34m(fig, fmt, bbox_inches, **kwargs)\u001b[0m\n\u001b[1;32m    123\u001b[0m \u001b[0;34m\u001b[0m\u001b[0m\n\u001b[1;32m    124\u001b[0m     \u001b[0mbytes_io\u001b[0m \u001b[0;34m=\u001b[0m \u001b[0mBytesIO\u001b[0m\u001b[0;34m(\u001b[0m\u001b[0;34m)\u001b[0m\u001b[0;34m\u001b[0m\u001b[0;34m\u001b[0m\u001b[0m\n\u001b[0;32m--> 125\u001b[0;31m     \u001b[0mfig\u001b[0m\u001b[0;34m.\u001b[0m\u001b[0mcanvas\u001b[0m\u001b[0;34m.\u001b[0m\u001b[0mprint_figure\u001b[0m\u001b[0;34m(\u001b[0m\u001b[0mbytes_io\u001b[0m\u001b[0;34m,\u001b[0m \u001b[0;34m**\u001b[0m\u001b[0mkw\u001b[0m\u001b[0;34m)\u001b[0m\u001b[0;34m\u001b[0m\u001b[0;34m\u001b[0m\u001b[0m\n\u001b[0m\u001b[1;32m    126\u001b[0m     \u001b[0mdata\u001b[0m \u001b[0;34m=\u001b[0m \u001b[0mbytes_io\u001b[0m\u001b[0;34m.\u001b[0m\u001b[0mgetvalue\u001b[0m\u001b[0;34m(\u001b[0m\u001b[0;34m)\u001b[0m\u001b[0;34m\u001b[0m\u001b[0;34m\u001b[0m\u001b[0m\n\u001b[1;32m    127\u001b[0m     \u001b[0;32mif\u001b[0m \u001b[0mfmt\u001b[0m \u001b[0;34m==\u001b[0m \u001b[0;34m'svg'\u001b[0m\u001b[0;34m:\u001b[0m\u001b[0;34m\u001b[0m\u001b[0;34m\u001b[0m\u001b[0m\n",
                  "\u001b[0;32m/usr/local/lib/python3.6/dist-packages/matplotlib/backend_bases.py\u001b[0m in \u001b[0;36mprint_figure\u001b[0;34m(self, filename, dpi, facecolor, edgecolor, orientation, format, bbox_inches, **kwargs)\u001b[0m\n\u001b[1;32m   2098\u001b[0m                            else suppress())\n\u001b[1;32m   2099\u001b[0m                     \u001b[0;32mwith\u001b[0m \u001b[0mctx\u001b[0m\u001b[0;34m:\u001b[0m\u001b[0;34m\u001b[0m\u001b[0;34m\u001b[0m\u001b[0m\n\u001b[0;32m-> 2100\u001b[0;31m                         \u001b[0mself\u001b[0m\u001b[0;34m.\u001b[0m\u001b[0mfigure\u001b[0m\u001b[0;34m.\u001b[0m\u001b[0mdraw\u001b[0m\u001b[0;34m(\u001b[0m\u001b[0mrenderer\u001b[0m\u001b[0;34m)\u001b[0m\u001b[0;34m\u001b[0m\u001b[0;34m\u001b[0m\u001b[0m\n\u001b[0m\u001b[1;32m   2101\u001b[0m                     \u001b[0mbbox_artists\u001b[0m \u001b[0;34m=\u001b[0m \u001b[0mkwargs\u001b[0m\u001b[0;34m.\u001b[0m\u001b[0mpop\u001b[0m\u001b[0;34m(\u001b[0m\u001b[0;34m\"bbox_extra_artists\"\u001b[0m\u001b[0;34m,\u001b[0m \u001b[0;32mNone\u001b[0m\u001b[0;34m)\u001b[0m\u001b[0;34m\u001b[0m\u001b[0;34m\u001b[0m\u001b[0m\n\u001b[1;32m   2102\u001b[0m                     bbox_inches = self.figure.get_tightbbox(renderer,\n",
                  "\u001b[0;32m/usr/local/lib/python3.6/dist-packages/matplotlib/artist.py\u001b[0m in \u001b[0;36mdraw_wrapper\u001b[0;34m(artist, renderer, *args, **kwargs)\u001b[0m\n\u001b[1;32m     36\u001b[0m                 \u001b[0mrenderer\u001b[0m\u001b[0;34m.\u001b[0m\u001b[0mstart_filter\u001b[0m\u001b[0;34m(\u001b[0m\u001b[0;34m)\u001b[0m\u001b[0;34m\u001b[0m\u001b[0;34m\u001b[0m\u001b[0m\n\u001b[1;32m     37\u001b[0m \u001b[0;34m\u001b[0m\u001b[0m\n\u001b[0;32m---> 38\u001b[0;31m             \u001b[0;32mreturn\u001b[0m \u001b[0mdraw\u001b[0m\u001b[0;34m(\u001b[0m\u001b[0martist\u001b[0m\u001b[0;34m,\u001b[0m \u001b[0mrenderer\u001b[0m\u001b[0;34m,\u001b[0m \u001b[0;34m*\u001b[0m\u001b[0margs\u001b[0m\u001b[0;34m,\u001b[0m \u001b[0;34m**\u001b[0m\u001b[0mkwargs\u001b[0m\u001b[0;34m)\u001b[0m\u001b[0;34m\u001b[0m\u001b[0;34m\u001b[0m\u001b[0m\n\u001b[0m\u001b[1;32m     39\u001b[0m         \u001b[0;32mfinally\u001b[0m\u001b[0;34m:\u001b[0m\u001b[0;34m\u001b[0m\u001b[0;34m\u001b[0m\u001b[0m\n\u001b[1;32m     40\u001b[0m             \u001b[0;32mif\u001b[0m \u001b[0martist\u001b[0m\u001b[0;34m.\u001b[0m\u001b[0mget_agg_filter\u001b[0m\u001b[0;34m(\u001b[0m\u001b[0;34m)\u001b[0m \u001b[0;32mis\u001b[0m \u001b[0;32mnot\u001b[0m \u001b[0;32mNone\u001b[0m\u001b[0;34m:\u001b[0m\u001b[0;34m\u001b[0m\u001b[0;34m\u001b[0m\u001b[0m\n",
                  "\u001b[0;32m/usr/local/lib/python3.6/dist-packages/matplotlib/figure.py\u001b[0m in \u001b[0;36mdraw\u001b[0;34m(self, renderer)\u001b[0m\n\u001b[1;32m   1734\u001b[0m             \u001b[0mself\u001b[0m\u001b[0;34m.\u001b[0m\u001b[0mpatch\u001b[0m\u001b[0;34m.\u001b[0m\u001b[0mdraw\u001b[0m\u001b[0;34m(\u001b[0m\u001b[0mrenderer\u001b[0m\u001b[0;34m)\u001b[0m\u001b[0;34m\u001b[0m\u001b[0;34m\u001b[0m\u001b[0m\n\u001b[1;32m   1735\u001b[0m             mimage._draw_list_compositing_images(\n\u001b[0;32m-> 1736\u001b[0;31m                 renderer, self, artists, self.suppressComposite)\n\u001b[0m\u001b[1;32m   1737\u001b[0m \u001b[0;34m\u001b[0m\u001b[0m\n\u001b[1;32m   1738\u001b[0m             \u001b[0mrenderer\u001b[0m\u001b[0;34m.\u001b[0m\u001b[0mclose_group\u001b[0m\u001b[0;34m(\u001b[0m\u001b[0;34m'figure'\u001b[0m\u001b[0;34m)\u001b[0m\u001b[0;34m\u001b[0m\u001b[0;34m\u001b[0m\u001b[0m\n",
                  "\u001b[0;32m/usr/local/lib/python3.6/dist-packages/matplotlib/image.py\u001b[0m in \u001b[0;36m_draw_list_compositing_images\u001b[0;34m(renderer, parent, artists, suppress_composite)\u001b[0m\n\u001b[1;32m    135\u001b[0m     \u001b[0;32mif\u001b[0m \u001b[0mnot_composite\u001b[0m \u001b[0;32mor\u001b[0m \u001b[0;32mnot\u001b[0m \u001b[0mhas_images\u001b[0m\u001b[0;34m:\u001b[0m\u001b[0;34m\u001b[0m\u001b[0;34m\u001b[0m\u001b[0m\n\u001b[1;32m    136\u001b[0m         \u001b[0;32mfor\u001b[0m \u001b[0ma\u001b[0m \u001b[0;32min\u001b[0m \u001b[0martists\u001b[0m\u001b[0;34m:\u001b[0m\u001b[0;34m\u001b[0m\u001b[0;34m\u001b[0m\u001b[0m\n\u001b[0;32m--> 137\u001b[0;31m             \u001b[0ma\u001b[0m\u001b[0;34m.\u001b[0m\u001b[0mdraw\u001b[0m\u001b[0;34m(\u001b[0m\u001b[0mrenderer\u001b[0m\u001b[0;34m)\u001b[0m\u001b[0;34m\u001b[0m\u001b[0;34m\u001b[0m\u001b[0m\n\u001b[0m\u001b[1;32m    138\u001b[0m     \u001b[0;32melse\u001b[0m\u001b[0;34m:\u001b[0m\u001b[0;34m\u001b[0m\u001b[0;34m\u001b[0m\u001b[0m\n\u001b[1;32m    139\u001b[0m         \u001b[0;31m# Composite any adjacent images together\u001b[0m\u001b[0;34m\u001b[0m\u001b[0;34m\u001b[0m\u001b[0;34m\u001b[0m\u001b[0m\n",
                  "\u001b[0;32m/usr/local/lib/python3.6/dist-packages/matplotlib/artist.py\u001b[0m in \u001b[0;36mdraw_wrapper\u001b[0;34m(artist, renderer, *args, **kwargs)\u001b[0m\n\u001b[1;32m     36\u001b[0m                 \u001b[0mrenderer\u001b[0m\u001b[0;34m.\u001b[0m\u001b[0mstart_filter\u001b[0m\u001b[0;34m(\u001b[0m\u001b[0;34m)\u001b[0m\u001b[0;34m\u001b[0m\u001b[0;34m\u001b[0m\u001b[0m\n\u001b[1;32m     37\u001b[0m \u001b[0;34m\u001b[0m\u001b[0m\n\u001b[0;32m---> 38\u001b[0;31m             \u001b[0;32mreturn\u001b[0m \u001b[0mdraw\u001b[0m\u001b[0;34m(\u001b[0m\u001b[0martist\u001b[0m\u001b[0;34m,\u001b[0m \u001b[0mrenderer\u001b[0m\u001b[0;34m,\u001b[0m \u001b[0;34m*\u001b[0m\u001b[0margs\u001b[0m\u001b[0;34m,\u001b[0m \u001b[0;34m**\u001b[0m\u001b[0mkwargs\u001b[0m\u001b[0;34m)\u001b[0m\u001b[0;34m\u001b[0m\u001b[0;34m\u001b[0m\u001b[0m\n\u001b[0m\u001b[1;32m     39\u001b[0m         \u001b[0;32mfinally\u001b[0m\u001b[0;34m:\u001b[0m\u001b[0;34m\u001b[0m\u001b[0;34m\u001b[0m\u001b[0m\n\u001b[1;32m     40\u001b[0m             \u001b[0;32mif\u001b[0m \u001b[0martist\u001b[0m\u001b[0;34m.\u001b[0m\u001b[0mget_agg_filter\u001b[0m\u001b[0;34m(\u001b[0m\u001b[0;34m)\u001b[0m \u001b[0;32mis\u001b[0m \u001b[0;32mnot\u001b[0m \u001b[0;32mNone\u001b[0m\u001b[0;34m:\u001b[0m\u001b[0;34m\u001b[0m\u001b[0;34m\u001b[0m\u001b[0m\n",
                  "\u001b[0;32m/usr/local/lib/python3.6/dist-packages/matplotlib/axes/_base.py\u001b[0m in \u001b[0;36mdraw\u001b[0;34m(self, renderer, inframe)\u001b[0m\n\u001b[1;32m   2628\u001b[0m             \u001b[0mrenderer\u001b[0m\u001b[0;34m.\u001b[0m\u001b[0mstop_rasterizing\u001b[0m\u001b[0;34m(\u001b[0m\u001b[0;34m)\u001b[0m\u001b[0;34m\u001b[0m\u001b[0;34m\u001b[0m\u001b[0m\n\u001b[1;32m   2629\u001b[0m \u001b[0;34m\u001b[0m\u001b[0m\n\u001b[0;32m-> 2630\u001b[0;31m         \u001b[0mmimage\u001b[0m\u001b[0;34m.\u001b[0m\u001b[0m_draw_list_compositing_images\u001b[0m\u001b[0;34m(\u001b[0m\u001b[0mrenderer\u001b[0m\u001b[0;34m,\u001b[0m \u001b[0mself\u001b[0m\u001b[0;34m,\u001b[0m \u001b[0martists\u001b[0m\u001b[0;34m)\u001b[0m\u001b[0;34m\u001b[0m\u001b[0;34m\u001b[0m\u001b[0m\n\u001b[0m\u001b[1;32m   2631\u001b[0m \u001b[0;34m\u001b[0m\u001b[0m\n\u001b[1;32m   2632\u001b[0m         \u001b[0mrenderer\u001b[0m\u001b[0;34m.\u001b[0m\u001b[0mclose_group\u001b[0m\u001b[0;34m(\u001b[0m\u001b[0;34m'axes'\u001b[0m\u001b[0;34m)\u001b[0m\u001b[0;34m\u001b[0m\u001b[0;34m\u001b[0m\u001b[0m\n",
                  "\u001b[0;32m/usr/local/lib/python3.6/dist-packages/matplotlib/image.py\u001b[0m in \u001b[0;36m_draw_list_compositing_images\u001b[0;34m(renderer, parent, artists, suppress_composite)\u001b[0m\n\u001b[1;32m    135\u001b[0m     \u001b[0;32mif\u001b[0m \u001b[0mnot_composite\u001b[0m \u001b[0;32mor\u001b[0m \u001b[0;32mnot\u001b[0m \u001b[0mhas_images\u001b[0m\u001b[0;34m:\u001b[0m\u001b[0;34m\u001b[0m\u001b[0;34m\u001b[0m\u001b[0m\n\u001b[1;32m    136\u001b[0m         \u001b[0;32mfor\u001b[0m \u001b[0ma\u001b[0m \u001b[0;32min\u001b[0m \u001b[0martists\u001b[0m\u001b[0;34m:\u001b[0m\u001b[0;34m\u001b[0m\u001b[0;34m\u001b[0m\u001b[0m\n\u001b[0;32m--> 137\u001b[0;31m             \u001b[0ma\u001b[0m\u001b[0;34m.\u001b[0m\u001b[0mdraw\u001b[0m\u001b[0;34m(\u001b[0m\u001b[0mrenderer\u001b[0m\u001b[0;34m)\u001b[0m\u001b[0;34m\u001b[0m\u001b[0;34m\u001b[0m\u001b[0m\n\u001b[0m\u001b[1;32m    138\u001b[0m     \u001b[0;32melse\u001b[0m\u001b[0;34m:\u001b[0m\u001b[0;34m\u001b[0m\u001b[0;34m\u001b[0m\u001b[0m\n\u001b[1;32m    139\u001b[0m         \u001b[0;31m# Composite any adjacent images together\u001b[0m\u001b[0;34m\u001b[0m\u001b[0;34m\u001b[0m\u001b[0;34m\u001b[0m\u001b[0m\n",
                  "\u001b[0;32m/usr/local/lib/python3.6/dist-packages/matplotlib/artist.py\u001b[0m in \u001b[0;36mdraw_wrapper\u001b[0;34m(artist, renderer, *args, **kwargs)\u001b[0m\n\u001b[1;32m     36\u001b[0m                 \u001b[0mrenderer\u001b[0m\u001b[0;34m.\u001b[0m\u001b[0mstart_filter\u001b[0m\u001b[0;34m(\u001b[0m\u001b[0;34m)\u001b[0m\u001b[0;34m\u001b[0m\u001b[0;34m\u001b[0m\u001b[0m\n\u001b[1;32m     37\u001b[0m \u001b[0;34m\u001b[0m\u001b[0m\n\u001b[0;32m---> 38\u001b[0;31m             \u001b[0;32mreturn\u001b[0m \u001b[0mdraw\u001b[0m\u001b[0;34m(\u001b[0m\u001b[0martist\u001b[0m\u001b[0;34m,\u001b[0m \u001b[0mrenderer\u001b[0m\u001b[0;34m,\u001b[0m \u001b[0;34m*\u001b[0m\u001b[0margs\u001b[0m\u001b[0;34m,\u001b[0m \u001b[0;34m**\u001b[0m\u001b[0mkwargs\u001b[0m\u001b[0;34m)\u001b[0m\u001b[0;34m\u001b[0m\u001b[0;34m\u001b[0m\u001b[0m\n\u001b[0m\u001b[1;32m     39\u001b[0m         \u001b[0;32mfinally\u001b[0m\u001b[0;34m:\u001b[0m\u001b[0;34m\u001b[0m\u001b[0;34m\u001b[0m\u001b[0m\n\u001b[1;32m     40\u001b[0m             \u001b[0;32mif\u001b[0m \u001b[0martist\u001b[0m\u001b[0;34m.\u001b[0m\u001b[0mget_agg_filter\u001b[0m\u001b[0;34m(\u001b[0m\u001b[0;34m)\u001b[0m \u001b[0;32mis\u001b[0m \u001b[0;32mnot\u001b[0m \u001b[0;32mNone\u001b[0m\u001b[0;34m:\u001b[0m\u001b[0;34m\u001b[0m\u001b[0;34m\u001b[0m\u001b[0m\n",
                  "\u001b[0;32m/usr/local/lib/python3.6/dist-packages/matplotlib/axis.py\u001b[0m in \u001b[0;36mdraw\u001b[0;34m(self, renderer, *args, **kwargs)\u001b[0m\n\u001b[1;32m   1225\u001b[0m         \u001b[0mrenderer\u001b[0m\u001b[0;34m.\u001b[0m\u001b[0mopen_group\u001b[0m\u001b[0;34m(\u001b[0m\u001b[0m__name__\u001b[0m\u001b[0;34m,\u001b[0m \u001b[0mgid\u001b[0m\u001b[0;34m=\u001b[0m\u001b[0mself\u001b[0m\u001b[0;34m.\u001b[0m\u001b[0mget_gid\u001b[0m\u001b[0;34m(\u001b[0m\u001b[0;34m)\u001b[0m\u001b[0;34m)\u001b[0m\u001b[0;34m\u001b[0m\u001b[0;34m\u001b[0m\u001b[0m\n\u001b[1;32m   1226\u001b[0m \u001b[0;34m\u001b[0m\u001b[0m\n\u001b[0;32m-> 1227\u001b[0;31m         \u001b[0mticks_to_draw\u001b[0m \u001b[0;34m=\u001b[0m \u001b[0mself\u001b[0m\u001b[0;34m.\u001b[0m\u001b[0m_update_ticks\u001b[0m\u001b[0;34m(\u001b[0m\u001b[0;34m)\u001b[0m\u001b[0;34m\u001b[0m\u001b[0;34m\u001b[0m\u001b[0m\n\u001b[0m\u001b[1;32m   1228\u001b[0m         ticklabelBoxes, ticklabelBoxes2 = self._get_tick_bboxes(ticks_to_draw,\n\u001b[1;32m   1229\u001b[0m                                                                 renderer)\n",
                  "\u001b[0;32m/usr/local/lib/python3.6/dist-packages/matplotlib/axis.py\u001b[0m in \u001b[0;36m_update_ticks\u001b[0;34m(self)\u001b[0m\n\u001b[1;32m   1102\u001b[0m         \"\"\"\n\u001b[1;32m   1103\u001b[0m         \u001b[0mmajor_locs\u001b[0m \u001b[0;34m=\u001b[0m \u001b[0mself\u001b[0m\u001b[0;34m.\u001b[0m\u001b[0mget_majorticklocs\u001b[0m\u001b[0;34m(\u001b[0m\u001b[0;34m)\u001b[0m\u001b[0;34m\u001b[0m\u001b[0;34m\u001b[0m\u001b[0m\n\u001b[0;32m-> 1104\u001b[0;31m         \u001b[0mmajor_labels\u001b[0m \u001b[0;34m=\u001b[0m \u001b[0mself\u001b[0m\u001b[0;34m.\u001b[0m\u001b[0mmajor\u001b[0m\u001b[0;34m.\u001b[0m\u001b[0mformatter\u001b[0m\u001b[0;34m.\u001b[0m\u001b[0mformat_ticks\u001b[0m\u001b[0;34m(\u001b[0m\u001b[0mmajor_locs\u001b[0m\u001b[0;34m)\u001b[0m\u001b[0;34m\u001b[0m\u001b[0;34m\u001b[0m\u001b[0m\n\u001b[0m\u001b[1;32m   1105\u001b[0m         \u001b[0mmajor_ticks\u001b[0m \u001b[0;34m=\u001b[0m \u001b[0mself\u001b[0m\u001b[0;34m.\u001b[0m\u001b[0mget_major_ticks\u001b[0m\u001b[0;34m(\u001b[0m\u001b[0mlen\u001b[0m\u001b[0;34m(\u001b[0m\u001b[0mmajor_locs\u001b[0m\u001b[0;34m)\u001b[0m\u001b[0;34m)\u001b[0m\u001b[0;34m\u001b[0m\u001b[0;34m\u001b[0m\u001b[0m\n\u001b[1;32m   1106\u001b[0m         \u001b[0mself\u001b[0m\u001b[0;34m.\u001b[0m\u001b[0mmajor\u001b[0m\u001b[0;34m.\u001b[0m\u001b[0mformatter\u001b[0m\u001b[0;34m.\u001b[0m\u001b[0mset_locs\u001b[0m\u001b[0;34m(\u001b[0m\u001b[0mmajor_locs\u001b[0m\u001b[0;34m)\u001b[0m\u001b[0;34m\u001b[0m\u001b[0;34m\u001b[0m\u001b[0m\n",
                  "\u001b[0;32m/usr/local/lib/python3.6/dist-packages/matplotlib/ticker.py\u001b[0m in \u001b[0;36mformat_ticks\u001b[0;34m(self, values)\u001b[0m\n\u001b[1;32m    254\u001b[0m         \u001b[0;34m\"\"\"Return the tick labels for all the ticks at once.\"\"\"\u001b[0m\u001b[0;34m\u001b[0m\u001b[0;34m\u001b[0m\u001b[0m\n\u001b[1;32m    255\u001b[0m         \u001b[0mself\u001b[0m\u001b[0;34m.\u001b[0m\u001b[0mset_locs\u001b[0m\u001b[0;34m(\u001b[0m\u001b[0mvalues\u001b[0m\u001b[0;34m)\u001b[0m\u001b[0;34m\u001b[0m\u001b[0;34m\u001b[0m\u001b[0m\n\u001b[0;32m--> 256\u001b[0;31m         \u001b[0;32mreturn\u001b[0m \u001b[0;34m[\u001b[0m\u001b[0mself\u001b[0m\u001b[0;34m(\u001b[0m\u001b[0mvalue\u001b[0m\u001b[0;34m,\u001b[0m \u001b[0mi\u001b[0m\u001b[0;34m)\u001b[0m \u001b[0;32mfor\u001b[0m \u001b[0mi\u001b[0m\u001b[0;34m,\u001b[0m \u001b[0mvalue\u001b[0m \u001b[0;32min\u001b[0m \u001b[0menumerate\u001b[0m\u001b[0;34m(\u001b[0m\u001b[0mvalues\u001b[0m\u001b[0;34m)\u001b[0m\u001b[0;34m]\u001b[0m\u001b[0;34m\u001b[0m\u001b[0;34m\u001b[0m\u001b[0m\n\u001b[0m\u001b[1;32m    257\u001b[0m \u001b[0;34m\u001b[0m\u001b[0m\n\u001b[1;32m    258\u001b[0m     \u001b[0;32mdef\u001b[0m \u001b[0mformat_data\u001b[0m\u001b[0;34m(\u001b[0m\u001b[0mself\u001b[0m\u001b[0;34m,\u001b[0m \u001b[0mvalue\u001b[0m\u001b[0;34m)\u001b[0m\u001b[0;34m:\u001b[0m\u001b[0;34m\u001b[0m\u001b[0;34m\u001b[0m\u001b[0m\n",
                  "\u001b[0;32m/usr/local/lib/python3.6/dist-packages/matplotlib/ticker.py\u001b[0m in \u001b[0;36m<listcomp>\u001b[0;34m(.0)\u001b[0m\n\u001b[1;32m    254\u001b[0m         \u001b[0;34m\"\"\"Return the tick labels for all the ticks at once.\"\"\"\u001b[0m\u001b[0;34m\u001b[0m\u001b[0;34m\u001b[0m\u001b[0m\n\u001b[1;32m    255\u001b[0m         \u001b[0mself\u001b[0m\u001b[0;34m.\u001b[0m\u001b[0mset_locs\u001b[0m\u001b[0;34m(\u001b[0m\u001b[0mvalues\u001b[0m\u001b[0;34m)\u001b[0m\u001b[0;34m\u001b[0m\u001b[0;34m\u001b[0m\u001b[0m\n\u001b[0;32m--> 256\u001b[0;31m         \u001b[0;32mreturn\u001b[0m \u001b[0;34m[\u001b[0m\u001b[0mself\u001b[0m\u001b[0;34m(\u001b[0m\u001b[0mvalue\u001b[0m\u001b[0;34m,\u001b[0m \u001b[0mi\u001b[0m\u001b[0;34m)\u001b[0m \u001b[0;32mfor\u001b[0m \u001b[0mi\u001b[0m\u001b[0;34m,\u001b[0m \u001b[0mvalue\u001b[0m \u001b[0;32min\u001b[0m \u001b[0menumerate\u001b[0m\u001b[0;34m(\u001b[0m\u001b[0mvalues\u001b[0m\u001b[0;34m)\u001b[0m\u001b[0;34m]\u001b[0m\u001b[0;34m\u001b[0m\u001b[0;34m\u001b[0m\u001b[0m\n\u001b[0m\u001b[1;32m    257\u001b[0m \u001b[0;34m\u001b[0m\u001b[0m\n\u001b[1;32m    258\u001b[0m     \u001b[0;32mdef\u001b[0m \u001b[0mformat_data\u001b[0m\u001b[0;34m(\u001b[0m\u001b[0mself\u001b[0m\u001b[0;34m,\u001b[0m \u001b[0mvalue\u001b[0m\u001b[0;34m)\u001b[0m\u001b[0;34m:\u001b[0m\u001b[0;34m\u001b[0m\u001b[0;34m\u001b[0m\u001b[0m\n",
                  "\u001b[0;32m/usr/local/lib/python3.6/dist-packages/matplotlib/ticker.py\u001b[0m in \u001b[0;36m__call__\u001b[0;34m(self, x, pos)\u001b[0m\n\u001b[1;32m    386\u001b[0m         \u001b[0;34m*\u001b[0m\u001b[0mx\u001b[0m\u001b[0;34m*\u001b[0m \u001b[0;32mand\u001b[0m \u001b[0;34m*\u001b[0m\u001b[0mpos\u001b[0m\u001b[0;34m*\u001b[0m \u001b[0mare\u001b[0m \u001b[0mpassed\u001b[0m \u001b[0mthrough\u001b[0m \u001b[0;32mas\u001b[0m\u001b[0;34m-\u001b[0m\u001b[0;32mis\u001b[0m\u001b[0;34m.\u001b[0m\u001b[0;34m\u001b[0m\u001b[0;34m\u001b[0m\u001b[0m\n\u001b[1;32m    387\u001b[0m         \"\"\"\n\u001b[0;32m--> 388\u001b[0;31m         \u001b[0;32mreturn\u001b[0m \u001b[0mself\u001b[0m\u001b[0;34m.\u001b[0m\u001b[0mfunc\u001b[0m\u001b[0;34m(\u001b[0m\u001b[0mx\u001b[0m\u001b[0;34m,\u001b[0m \u001b[0mpos\u001b[0m\u001b[0;34m)\u001b[0m\u001b[0;34m\u001b[0m\u001b[0;34m\u001b[0m\u001b[0m\n\u001b[0m\u001b[1;32m    389\u001b[0m \u001b[0;34m\u001b[0m\u001b[0m\n\u001b[1;32m    390\u001b[0m \u001b[0;34m\u001b[0m\u001b[0m\n",
                  "\u001b[0;31mTypeError\u001b[0m: format_func() missing 1 required positional argument: 'tick_number'"
                ]
              },
              {
                "output_type": "display_data",
                "metadata": {
                  "tags": []
                },
                "text/plain": "<Figure size 720x360 with 1 Axes>"
              },
              {
                "output_type": "display_data",
                "metadata": {
                  "tags": []
                },
                "text/plain": "-0.841470984807897*x - 0.27015115293407*(x - 1.0)**2 + 1.38177329067604"
              }
            ],
            "_view_module": "@jupyter-widgets/output",
            "_model_module_version": "1.0.0",
            "_view_count": null,
            "_view_module_version": "1.0.0",
            "layout": "IPY_MODEL_8dce2d6450144292b8e240527edfc29b",
            "_model_module": "@jupyter-widgets/output"
          }
        },
        "59fd0e42111a4469878ea907abcca116": {
          "model_module": "@jupyter-widgets/controls",
          "model_name": "DescriptionStyleModel",
          "state": {
            "_view_name": "StyleView",
            "_model_name": "DescriptionStyleModel",
            "description_width": "",
            "_view_module": "@jupyter-widgets/base",
            "_model_module_version": "1.5.0",
            "_view_count": null,
            "_view_module_version": "1.2.0",
            "_model_module": "@jupyter-widgets/controls"
          }
        },
        "8b7cba30ee1b49c8a8200d3dbb514005": {
          "model_module": "@jupyter-widgets/base",
          "model_name": "LayoutModel",
          "state": {
            "_view_name": "LayoutView",
            "grid_template_rows": null,
            "right": null,
            "justify_content": null,
            "_view_module": "@jupyter-widgets/base",
            "overflow": null,
            "_model_module_version": "1.2.0",
            "_view_count": null,
            "flex_flow": null,
            "width": null,
            "min_width": null,
            "border": null,
            "align_items": null,
            "bottom": null,
            "_model_module": "@jupyter-widgets/base",
            "top": null,
            "grid_column": null,
            "overflow_y": null,
            "overflow_x": null,
            "grid_auto_flow": null,
            "grid_area": null,
            "grid_template_columns": null,
            "flex": null,
            "_model_name": "LayoutModel",
            "justify_items": null,
            "grid_row": null,
            "max_height": null,
            "align_content": null,
            "visibility": null,
            "align_self": null,
            "height": null,
            "min_height": null,
            "padding": null,
            "grid_auto_rows": null,
            "grid_gap": null,
            "max_width": null,
            "order": null,
            "_view_module_version": "1.2.0",
            "grid_template_areas": null,
            "object_position": null,
            "object_fit": null,
            "grid_auto_columns": null,
            "margin": null,
            "display": null,
            "left": null
          }
        },
        "e4e60821dca84baaa1d72833c4b1b058": {
          "model_module": "@jupyter-widgets/controls",
          "model_name": "SliderStyleModel",
          "state": {
            "_view_name": "StyleView",
            "handle_color": null,
            "_model_name": "SliderStyleModel",
            "description_width": "",
            "_view_module": "@jupyter-widgets/base",
            "_model_module_version": "1.5.0",
            "_view_count": null,
            "_view_module_version": "1.2.0",
            "_model_module": "@jupyter-widgets/controls"
          }
        },
        "da275c214d08444bb139fab26a0d2f3c": {
          "model_module": "@jupyter-widgets/base",
          "model_name": "LayoutModel",
          "state": {
            "_view_name": "LayoutView",
            "grid_template_rows": null,
            "right": null,
            "justify_content": null,
            "_view_module": "@jupyter-widgets/base",
            "overflow": null,
            "_model_module_version": "1.2.0",
            "_view_count": null,
            "flex_flow": null,
            "width": null,
            "min_width": null,
            "border": null,
            "align_items": null,
            "bottom": null,
            "_model_module": "@jupyter-widgets/base",
            "top": null,
            "grid_column": null,
            "overflow_y": null,
            "overflow_x": null,
            "grid_auto_flow": null,
            "grid_area": null,
            "grid_template_columns": null,
            "flex": null,
            "_model_name": "LayoutModel",
            "justify_items": null,
            "grid_row": null,
            "max_height": null,
            "align_content": null,
            "visibility": null,
            "align_self": null,
            "height": null,
            "min_height": null,
            "padding": null,
            "grid_auto_rows": null,
            "grid_gap": null,
            "max_width": null,
            "order": null,
            "_view_module_version": "1.2.0",
            "grid_template_areas": null,
            "object_position": null,
            "object_fit": null,
            "grid_auto_columns": null,
            "margin": null,
            "display": null,
            "left": null
          }
        },
        "f6d4e4fc11b540ae85b479b5c7b3c73e": {
          "model_module": "@jupyter-widgets/controls",
          "model_name": "SliderStyleModel",
          "state": {
            "_view_name": "StyleView",
            "handle_color": null,
            "_model_name": "SliderStyleModel",
            "description_width": "",
            "_view_module": "@jupyter-widgets/base",
            "_model_module_version": "1.5.0",
            "_view_count": null,
            "_view_module_version": "1.2.0",
            "_model_module": "@jupyter-widgets/controls"
          }
        },
        "4ca90b4d3b7f4752951187ff4209362b": {
          "model_module": "@jupyter-widgets/base",
          "model_name": "LayoutModel",
          "state": {
            "_view_name": "LayoutView",
            "grid_template_rows": null,
            "right": null,
            "justify_content": null,
            "_view_module": "@jupyter-widgets/base",
            "overflow": null,
            "_model_module_version": "1.2.0",
            "_view_count": null,
            "flex_flow": null,
            "width": null,
            "min_width": null,
            "border": null,
            "align_items": null,
            "bottom": null,
            "_model_module": "@jupyter-widgets/base",
            "top": null,
            "grid_column": null,
            "overflow_y": null,
            "overflow_x": null,
            "grid_auto_flow": null,
            "grid_area": null,
            "grid_template_columns": null,
            "flex": null,
            "_model_name": "LayoutModel",
            "justify_items": null,
            "grid_row": null,
            "max_height": null,
            "align_content": null,
            "visibility": null,
            "align_self": null,
            "height": null,
            "min_height": null,
            "padding": null,
            "grid_auto_rows": null,
            "grid_gap": null,
            "max_width": null,
            "order": null,
            "_view_module_version": "1.2.0",
            "grid_template_areas": null,
            "object_position": null,
            "object_fit": null,
            "grid_auto_columns": null,
            "margin": null,
            "display": null,
            "left": null
          }
        },
        "8dce2d6450144292b8e240527edfc29b": {
          "model_module": "@jupyter-widgets/base",
          "model_name": "LayoutModel",
          "state": {
            "_view_name": "LayoutView",
            "grid_template_rows": null,
            "right": null,
            "justify_content": null,
            "_view_module": "@jupyter-widgets/base",
            "overflow": null,
            "_model_module_version": "1.2.0",
            "_view_count": null,
            "flex_flow": null,
            "width": null,
            "min_width": null,
            "border": null,
            "align_items": null,
            "bottom": null,
            "_model_module": "@jupyter-widgets/base",
            "top": null,
            "grid_column": null,
            "overflow_y": null,
            "overflow_x": null,
            "grid_auto_flow": null,
            "grid_area": null,
            "grid_template_columns": null,
            "flex": null,
            "_model_name": "LayoutModel",
            "justify_items": null,
            "grid_row": null,
            "max_height": null,
            "align_content": null,
            "visibility": null,
            "align_self": null,
            "height": null,
            "min_height": null,
            "padding": null,
            "grid_auto_rows": null,
            "grid_gap": null,
            "max_width": null,
            "order": null,
            "_view_module_version": "1.2.0",
            "grid_template_areas": null,
            "object_position": null,
            "object_fit": null,
            "grid_auto_columns": null,
            "margin": null,
            "display": null,
            "left": null
          }
        }
      }
    }
  },
  "cells": [
    {
      "cell_type": "markdown",
      "metadata": {
        "id": "view-in-github",
        "colab_type": "text"
      },
      "source": [
        "<a href=\"https://colab.research.google.com/github/jugernaut/Numerico2021/blob/desarrollo/04_Interpolacion/01_Interpolacion.ipynb\" target=\"_parent\"><img src=\"https://colab.research.google.com/assets/colab-badge.svg\" alt=\"Open In Colab\"/></a>"
      ]
    },
    {
      "cell_type": "markdown",
      "metadata": {
        "id": "1PROF-KoN-1e"
      },
      "source": [
        "<font color=\"Teal\" face=\"Comic Sans MS,arial\">\n",
        "  <h1 align=\"center\"><i>Interpolación</i></h1>\n",
        "  </font>\n",
        "  <font color=\"Black\" face=\"Comic Sans MS,arial\">\n",
        "  <h5 align=\"center\"><i>Profesor: M.en.C. Miguel Ángel Pérez León.</i></h5>\n",
        "    <h5 align=\"center\"><i>Ayudante: Jesús Iván Coss Calderón.</i></h5>\n",
        "  <h5 align=\"center\"><i>Materia: Análisis Numérico.</i></h5>\n",
        "  </font>"
      ]
    },
    {
      "cell_type": "markdown",
      "metadata": {
        "id": "pX1XlohEN-1e"
      },
      "source": [
        "##  Introducción\n",
        "\n",
        "La interpolación es una de las técnicas más comunes para que, a partir de un conjunto de datos conocidos, se pueda identificar uno o más valores desconocidos dentro de este rango de datos. Y para esta labor se emplea una de las clases de funciones más útiles y mejor conocidas que mapea el conjunto de los números reales sobre si mismo, los **polinomios algebraicos**.\n",
        "\n",
        "Supongamos que se tiene un punto $\\left(x_{0},f(x_{0})\\right)$ en el plano, y se quiere encontrar una función $f(x)$ que al ser evaluada en $x_{0}$ pase por el punto $\\left(x_{0},f(x_{0})\\right)$, llamaremos a esa aproximación\n",
        "\n",
        "$$P_{0}(x)$$\n",
        "\n",
        "Entonces se tiene que $P_{0}(x)=f(x)=f(x_{0})$\n",
        "\n",
        "Es decir que $P_{0}(x)$, el polinomio de grado cero, es una constante $f(x_{0})$ que pasa por el punto $\\left(x_{0},f(x_{0})\\right)$.\n",
        "\n",
        "Recordemos un poco como es que las series de Taylor, nos ayudaban a generar una aproximación de una función dada."
      ]
    },
    {
      "cell_type": "code",
      "metadata": {
        "id": "NZ-3N4M_a0qJ",
        "colab": {
          "base_uri": "https://localhost:8080/",
          "height": 534,
          "referenced_widgets": [
            "4661f110c61f44c8b9e536ac86f29c59",
            "e19b486d5be0421387781202e97bfa5b",
            "02dace4646e0415884ba1bad7b766b26",
            "b65238f86c31420687dea01b95a44efc",
            "695b7de2565d4d199d984392802ed501",
            "ac4e3494f7874edea3d3be9e070b9fc6",
            "59fd0e42111a4469878ea907abcca116",
            "8b7cba30ee1b49c8a8200d3dbb514005",
            "e4e60821dca84baaa1d72833c4b1b058",
            "da275c214d08444bb139fab26a0d2f3c",
            "f6d4e4fc11b540ae85b479b5c7b3c73e",
            "4ca90b4d3b7f4752951187ff4209362b",
            "8dce2d6450144292b8e240527edfc29b"
          ]
        },
        "outputId": "e409c175-b6e4-400b-e678-04fc17ead51b"
      },
      "source": [
        "# COLAB\n",
        "!git clone https://github.com/jugernaut/Numerico2021.git\n",
        "import Numerico2021.Utils.gutils as vis\n",
        "import numpy as np\n",
        "\n",
        "%run \"/content/Numerico2021/04_Interpolacion/zSeriesDeTaylor_interactive.ipynb\""
      ],
      "execution_count": null,
      "outputs": [
        {
          "output_type": "stream",
          "text": [
            "fatal: destination path 'Numerico2021' already exists and is not an empty directory.\n"
          ],
          "name": "stdout"
        },
        {
          "output_type": "display_data",
          "data": {
            "application/vnd.jupyter.widget-view+json": {
              "model_id": "4661f110c61f44c8b9e536ac86f29c59",
              "version_minor": 0,
              "version_major": 2
            },
            "text/plain": [
              "interactive(children=(Dropdown(description='función', options=(cos(x), sin(x), tan(x), exp(x), exp(-x**2), exp…"
            ]
          },
          "metadata": {
            "tags": []
          }
        },
        {
          "output_type": "display_data",
          "data": {
            "text/plain": [
              "<function __main__.calcTaylor>"
            ]
          },
          "metadata": {
            "tags": []
          }
        }
      ]
    },
    {
      "cell_type": "markdown",
      "metadata": {
        "id": "9Z9-SJ7fN-1e"
      },
      "source": [
        "##  Polinomio de Lagrange\n",
        "\n",
        "Ahora supongamos que se conocen 2 puntos $\\left(x_{0},f(x_{0})\\right)\\,y\\,\\left(x_{1},f(x_{1})\\right)$ y se busca encontrar la interpolación lineal que conecta a ambos puntos.\n",
        "\n",
        "Una linea recta es usada para conectar estos 2 valores (datos) $f(x_{0})$ y $f(x_{1})$ en $x_{0}$ y $x_{1}$ respectivamente. La linea recta es representada por una función lineal de la forma $f(x)=ax+b$, donde $a,b$ son constantes y pueden ser determinadas usando el valor en los puntos $x_{0}$ y $x_{1}$ así.\n",
        "\n",
        "$$ x=x_{0}:f(x_{0})=ax_{0}+b \\tag{1}$$\n",
        "\n",
        "$$ x=x_{1}:f(x_{1})=ax_{1}+b \\tag{2}$$\n",
        "\n",
        "\n",
        "Para encontrar la pendiente de la recta que conecta a estos puntos, es necesario restar $f(x_{1})-f(x_{0})$, es decir\n",
        "\n",
        "$$f(x_{1})-f(x_{0})=ax_{1}+b-ax_{0}-b=ax_{1}-ax_{0}\\Longrightarrow{a=\\frac{f(x_{1})-f(x_{0})}{x_{1}-x_{0}}}$$\n",
        "\n",
        "Substituyendo $a$ en (1) se tiene que\n",
        "\n",
        "$$f(x_{0})=\\frac{f(x_{1})-f(x_{0})}{x_{1}-x_{0}}x_{0}+b\\Longrightarrow{b=f(x_{0})-\\frac{f(x_{1})-f(x_{0})}{x_{1}-x_{0}}x_{0}}$$\n",
        "\n",
        "De tal manera que si substituimos $a$ y $b$ en la ecuación paramétrica de la recta $f(x)=ax+b$, obtenemos\n",
        "\n",
        "\n",
        "$$f(x)=\\frac{f(x_{1})-f(x_{0})}{x_{1}-x_{0}}x+f(x_{0})-\\frac{f(x_{1})-f(x_{0})}{x_{1}-x_{0}}x_{0} \\tag{3}$$\n",
        "\n",
        "\n",
        "Y ahora (3) se puede reescribir como\n",
        "\n",
        "$$f(x)\t=\t\\frac{xf(x_{1})-xf(x_{0})-x_{0}f(x_{1})+x_{0}f(x_{0})}{x_{1}-x_{0}}+\\frac{x_{1}-x_{0}}{x_{1}-x_{0}}f(x_{0})\n",
        "\t=\t\\frac{xf(x_{1})-xf(x_{0})-x_{0}f(x_{1})+x_{0}f(x_{0})+x_{1}f(x_{0})-x_{0}f(x_{0})}{x_{1}-x_{0}}\n",
        "\t=\t\\frac{\\left(x_{1}-x\\right)f(x_{0})+\\left(x-x_{0}\\right)f(x_{1})}{x_{1}-x_{0}}$$\n",
        "    \n",
        "\n",
        "$$f(x)=\\left(\\frac{x-x_{1}}{x_{0}-x_{1}}\\right)f(x_{0})+\\left(\\frac{x_{0}-x}{x_{0}-x_{1}}\\right)f(x_{1})$$\n",
        "\n",
        "Que en forma de polinomio se define así\n",
        "\n",
        "$$P_{1}(x) := L_{0}(x)f(x_{0})+L_{1}(x)f(x_{1})\\ldots Polinomio\\,de\\,Lagrange\\,de\\,grado\\,1$$\n",
        "\n",
        "Si se evalúa $x_{0}$ en el Polinomio de Lagrange de grado 1 se obtiene\n",
        "\n",
        "$${\\color{blue}{P(x_{0})}}=\\left(\\frac{x_{0}-x_{1}}{x_{0}-x_{1}}\\right)f(x_{0})+\\left(\\frac{x_{0}-x_{0}}{x_{0}-x_{1}}\\right)f(x_{1})={\\color{blue}{f(x_{0})}} $$\n",
        "\n",
        "De igual manera, al evaluar $x_{1}$ \n",
        "\n",
        "$${\\color{blue}{P(x_{1})}}=\\left(\\frac{x_{1}-x_{1}}{x_{0}-x_{1}}\\right)f(x_{0})+\\left(\\frac{x_{0}-x_{1}}{x_{0}-x_{1}}\\right)f(x_{1})={\\color{blue}{f(x_{1})}} $$\n",
        "\n",
        "Para calcular el polinomio de Lagrange de grado 2 es necesario conocer 3 puntos (datos) y se tendría\n",
        "\n",
        "$$f(x)=ax^{2}+bx+c\\\\\n",
        "f(x) \\thickapprox L_{0}(x)f(x_{0})+L_{1}(x)f(x_{1})+L_{2}(x)f(x_{2})$$\n",
        "\n",
        "Donde\n",
        "\n",
        "$$L_{0}(x)\t=\t\\frac{\\left(x-x_{1}\\right)\\left(x-x_{2}\\right)}{\\left(x_{0}-x_{1}\\right)\\left(x_{0}-x_{2}\\right)},\\quad L_{1}(x)=\\frac{\\left(x-x_{0}\\right)\\left(x-x_{2}\\right)}{\\left(x_{1}-x_{0}\\right)\\left(x_{1}-x_{2}\\right)}, \\quad L_{2}=\\frac{\\left(x-x_{0}\\right)\\left(x-x_{1}\\right)}{\\left(x_{2}-x_{0}\\right)\\left(x_{2}-x_{1}\\right)} $$"
      ]
    },
    {
      "cell_type": "markdown",
      "metadata": {
        "id": "uAZ2hQY1TAJ8"
      },
      "source": [
        "### Teorema\n",
        "\n",
        "Si $x_{0},x_{1},\\ldots x_{n}$ son $n+1$ números distintos y si $f$ es una función cuyos valores están dados en estos números, entonces existe un polinomio $P(x)$ de grado máximo $n$. Dicho polinomio se define así\n",
        "\n",
        "$$P(x):= L_{0}(x)f(x_{0})+\\cdots+L_{n}(x)f(x_{n})=\\sum_{i=0}^{n}L_{i}(x)f(x_{i})$$,\n",
        "\n",
        "Donde para cada $i=0,1,\\ldots,n,$\n",
        "\n",
        "$$L_{i}(x) := \\frac{\\left(x-x_{0}\\right)\\left(x-x_{1}\\right)\\cdots\\left(x-x_{i-1}\\right)\\left(x-x_{i+1}\\right)\\cdots\\left(x-x_{n}\\right)}{\\left(x_{i}-x_{0}\\right)\\left(x_{i}-x_{1}\\right)\\cdots\\left(x_{i}-x_{i-1}\\right)\\left(x_{i}-x_{i+1}\\right)\\cdots\\left(x_{i}-x_{n}\\right)}=\\prod_{\\begin{array}{c}\n",
        "i=0\\\\\n",
        "i\\neq k\n",
        "\\end{array}}^{n}\\frac{\\left(x-x_{i}\\right)}{\\left(x_{k}-x_{i}\\right)}$$"
      ]
    },
    {
      "cell_type": "markdown",
      "metadata": {
        "id": "gPbbX1TZTeSD"
      },
      "source": [
        "#### Ejemplo\n",
        "\n",
        "Sea el siguiente conjunto de datos\n",
        "\n",
        "| X | 1 |  4 | 7|\n",
        "| :-:  | :-: | :-: |  :-: |\n",
        "| Y  | 52 |-5 |10|\n",
        "\n",
        "\n",
        "1. Determine el polinomio de Lagrange de segundo orden que pasa por cada uno de los puntos.\n",
        "\n",
        "2. Use el polinomio calculado en (1) para encontrar el valor interpolado en $x=3$.\n",
        "\n",
        "Solución: $f\\left(x\\right)=4x^{2}-39x+87\\qquad f(3)=6$\n",
        "\n",
        "![algLagrange](https://docs.google.com/uc?export=download&id=1GO-KO19B609P26a0_4DzeuoE9yjNfbEd)"
      ]
    },
    {
      "cell_type": "markdown",
      "metadata": {
        "id": "kuoFQm7sT37H"
      },
      "source": [
        "### Estimación del error\n",
        "\n",
        "Es importante notar que si se conoce la función $\\left(f(x)\\right)$ que se quiere aproximar, basta con evaluarla en los puntos necesarios para poder construir el polinomio interpolador.\n",
        "\n",
        "Incluso, si se conoce la solución analítica $\\left(f(x)\\right)$ podemos dar una estimación del error y una cota para el error de la solución numérica."
      ]
    },
    {
      "cell_type": "markdown",
      "metadata": {
        "id": "o-Zrg8ZdUKXV"
      },
      "source": [
        "### Teorema\n",
        "\n",
        "Formula del error de la interpolación polinomial:\n",
        "\n",
        "Sean $x_{0},\\ldots,x_{n}\\in\\left[a,b\\right]$, $n+1$ nodos de interpolación y sea $f\\in C^{n+1}\\left[a,b\\right]$. Si $x\\in\\left[a,b\\right]$, entonces \n",
        "\n",
        "$$f(x)=P_{n}(x)+E_{n}(x)$$\n",
        "\n",
        "donde $P_{n}(x)$ es el polinomio que interpola $f(x)$ en los $n+1$ nodos y que podemos usar para aproximar \n",
        "\n",
        "$$f(x)\\approx P_{n}(x)=\\sum_{i=0}^{n}L_{i}(x)f(x_{i})$$\n",
        "\n",
        "Podemos afirmar que el termino de error $E_{n}(x)$ se puede calcular así\n",
        "\n",
        "$$E_{n}(x)=\\left|f(x)-P_{n}(x)\\right|=\\frac{\\left(x-x_{0}\\right)\\left(x-x_{1}\\right)\\cdots\\left(x-x_{n}\\right)f^{(n+1)}(\\xi)}{\\left(n+1\\right)!}$$\n",
        "\n",
        "\n",
        "Este teorema afirma la existencia de un numero $\\xi=\\xi(x)\\in\\left[a,b\\right]$, sin embargo no se proporciona ningún procedimiento cómodo para calcularlo.\n",
        "\n",
        "En la práctica se calcula de la siguiente manera\n",
        "\n",
        "$$\\xi=\\sup_{x\\in\\left[a,b\\right]}\\left|f^{n+1}(x)\\right|$$\n",
        "\n",
        " \n",
        "Dado que ya conocemos una forma de calcular el polinomio interpolador dada una función y ademas podemos dar una estimación del error, procedamos a aplicar lo conocido a la función \n",
        "\n",
        "$$f(x)=2xe^{-\\left(4x+2\\right)}$$"
      ]
    },
    {
      "cell_type": "markdown",
      "metadata": {
        "id": "Vv5kF4jcUYES"
      },
      "source": [
        "#### Ejemplo\n",
        "\n",
        "Sea la función $f(x)=2xe^{-\\left(4x+2\\right)} $definida en el intervalo $[0.2,1]$\n",
        "\n",
        "1. Determine el polinomio de Lagrange que interpola $f(x)$ en los punto de interpolación $\\{0.2,1.0\\}.$\n",
        "\n",
        "2. Obtener la expresión del error de interpolación"
      ]
    },
    {
      "cell_type": "markdown",
      "metadata": {
        "id": "T-ePHlCAUiYQ"
      },
      "source": [
        "#### Solución\n",
        "\n",
        "$$L_{0}(x)=\\frac{x-x_{1}}{x_{0}-x_{1}}=\\frac{1-x}{0.8},\\quad L_{1}(x)=\\frac{x-x_{0}}{x_{1}-x_{0}}=\\frac{x-0.2}{0.8}$$\n",
        "\n",
        "Por lo tanto \n",
        "\n",
        "$$P_{1}(x)=L_{0}(x)f(x_{0})+L_{1}(x)f(x_{1})=\\frac{1-x}{0.8}\\left(0.4\\right)e^{-2.8}+\\frac{x-0.2}{0.8}2e^{-6}$$\n",
        "\n",
        "\n",
        "Por otra parte aplicando el teorema para la estimación del error se tiene\n",
        "\n",
        "$$E_{n}(x)=\\left|f(x)-P_{n}(x)\\right|=\\frac{\\left(x-x_{0}\\right)\\left(x-x_{1}\\right)\\cdots\\left(x-x_{n}\\right)f^{(n+1)}(\\xi)}{\\left(n+1\\right)!}$$\n",
        "\n",
        "Como se tienen 2 puntos de interpolación, es necesario calcular la segunda derivada de f \n",
        "\n",
        "$$f'(x)=\\left(2-8x\\right)e^{-(4x+2)}\\quad f''(x)=\\left(-16+32x\\right)e^{-(4x+2)}$$\n",
        "\n",
        "Por lo tanto podemos concluir que\n",
        "\n",
        "$$E_{n}(x)=\\left|f(x)-P_{n}(x)\\right|=\\frac{\\left(x^{2}-1.2x+0.2\\right)\\left(-16+32\\xi\\right)e^{-(4\\xi+2)}}{2}$$"
      ]
    },
    {
      "cell_type": "code",
      "metadata": {
        "id": "XCChpanVN-1e",
        "outputId": "7a73d9b0-3007-4ae0-e696-8644c36422ad"
      },
      "source": [
        "import numpy as np\n",
        "from math import *\n",
        "\n",
        "def lagrange_interpolation(x, y, xi):\n",
        "    resultado=0.0\n",
        "    n=len(y)\n",
        "    for i in range(n):\n",
        "        term=y[i]\n",
        "        for j in range(n):\n",
        "            if(j!=i):\n",
        "                term*=(xi-x[j])/(x[i]-x[j])\n",
        "        resultado+=term\n",
        "    return resultado\n",
        "\n",
        "\n",
        "x = [1.0, 4.0, 7.0]\n",
        "y = [52.0,-5.0,10.0]\n",
        "u = 3\n",
        "estim = lagrange_interpolation(x, y, u)\n",
        "print(\"resultado es: {}\".format(estim))"
      ],
      "execution_count": null,
      "outputs": [
        {
          "output_type": "stream",
          "text": [
            "resultado es: 5.999999999999999\n"
          ],
          "name": "stdout"
        }
      ]
    },
    {
      "cell_type": "markdown",
      "metadata": {
        "id": "kfW0qGMxN-1e"
      },
      "source": [
        "##  Polinomio de Newton\n",
        "\n",
        "Supongamos que $P_{n}\\left(x\\right)$ es el $n-esimo$ polinomio de Lagrange que concuerda con la función f en los números distintos $x_{0},x_{1},\\ldots,x_{n}$. \n",
        "\n",
        "\n",
        "Las **diferencias divididas** de $f$ respecto a $x_{0},x_{1},\\ldots,x_{n}$ se usan para expresar $P_{n}\\left(x\\right)$ en la forma \n",
        "\n",
        "$$P_{n}\\left(x\\right)=a_{0}+a_{1}\\left(x-x_{0}\\right)+a_{2}\\left(x-x_{0}\\right)\\left(x-x_{1}\\right)+\\cdots+a_{n}\\left(x-x_{0}\\right)\\cdots\\left(x-x_{n-1}\\right) \\tag{4}$$\n",
        "\n",
        "para las constantes apropiadas $a_{0},a_{1},\\ldots,a_{n}$. Para determinar la primera de las constantes $a_{0}$ note que si $P_{n}\\left(x\\right)$ esta escrito en la forma de la ecuación (4), entonces al evaluar en $x_{0}$ obtenemos \n",
        "\n",
        "$$P_{n}\\left(x_{0}\\right)=a_{0}=f\\left(x_{0}\\right)$$\n",
        "\n",
        "De manera similar , cuando $P_{n}\\left(x\\right)$ en $x=x_{1}$ \n",
        "\n",
        "$$P_{n}\\left(x_{1}\\right)=f\\left(x_{0}\\right)+a_{1}\\left(x_{1}-x_{0}\\right)=f\\left(x_{1}\\right);\\quad as\\acute{\\imath}\\,que \\quad a_{1}=\\frac{f\\left(x_{1}\\right)-f\\left(x_{0}\\right)}{x_{1}-x_{0}} $$\n",
        "\n",
        "La diferencia dividida cero de la función $f$ respecto a $x_{i}$ , que se denota como $f\\left[x_{i}\\right]$, es simplemente el valor de f en $x_{i}$ , es decir, $f\\left[x_{i}\\right]=f\\left(x_{i}\\right)$.\n",
        "\n",
        "El resto de las diferencias divididas se definen en forma recursiva. La primera diferencia dividida de $f$ respecto a $x_{i}$ y $x_{i+1}$ se denota $f\\left[x_{i},x_{i+1}\\right]$ se define así.\n",
        "\n",
        "$$f\\left[x_{i},x_{i+1}\\right]=\\frac{f\\left[x_{i+1}\\right]-f\\left[x_{i}\\right]}{x_{i+1}-x_{i}}$$\n",
        "\n",
        "La segunda diferencia dividida, $f\\left[x_{i},x_{i+1},x_{i+2}\\right]$, se define como \n",
        "\n",
        "$$f\\left[x_{i},x_{i+1},x_{i+2}\\right]=\\frac{f\\left[x_{i+1},x_{i+2}\\right]-f\\left[x_{i},x_{i+1}\\right]}{x_{i+2}-x_{i}}$$\n",
        "\n",
        "La $k-esima$ diferencia dividida respecto a $x_{i},x_{i+1},\\ldots,x_{i+k}$ es \n",
        "\n",
        "$$f\\left[x_{i},x_{i+1},\\cdots,x_{i+k}\\right]=\\frac{f\\left[x_{i+1},x_{i+2},\\cdots x_{i+k}\\right]-f\\left[x_{i},x_{i+1},\\cdots,x_{i+k-1}\\right]}{x_{i+k}-x_{i}}$$\n",
        "\n",
        "El proceso termina con la única $n-\\acute{e}sima$ diferencia dividida, $$f\\left[x_{0},x_{1},\\cdots,x_{n}\\right]=\\frac{f\\left[x_{1},x_{2},\\cdots x_{n}\\right]-f\\left[x_{0},x_{1},\\cdots,x_{n-1}\\right]}{x_{n}-x_{0}}$$\n",
        "\n",
        "Por lo tanto, podemos reescribir $P_{n}\\left(x\\right)$ como. \n",
        "\n",
        "\n",
        "$$P_{n}\\left(x\\right)=f\\left[x_{0}\\right]+\\sum_{k=1}^{n}\\left[x_{0},x_{1},\\cdots x_{k}\\right]\\left(x-x_{0}\\right)\\left(x-x_{1}\\right)\\cdots\\left(x-x_{k-1}\\right)$$"
      ]
    },
    {
      "cell_type": "markdown",
      "metadata": {
        "id": "J0g4e-kZYQ9A"
      },
      "source": [
        "###  Ejemplo\n",
        "\n",
        "Sea el siguiente conjunto de datos\n",
        "\n",
        "| X | 1 |2|  4 |5| 7|\n",
        "| :-:  | :-: | :-: |  :-: | :-: | :-: |\n",
        "| Y  | 52 |5|-5|-40 |10|\n",
        "\n",
        "1. Determine el polinomio de Newton de cuarto orden que pasa por cada uno de los puntos. Calcule los coeficientes usando una tabla de diferencias divididas.\n",
        "\n",
        "2. Use el polinomio calculado en (1) para encontrar el valor interpolado en $x=3$."
      ]
    },
    {
      "cell_type": "markdown",
      "metadata": {
        "id": "NKWai2UoYaIY"
      },
      "source": [
        "###  Solución \n",
        "\n",
        "$$P_{4}\\left(x\\right)={\\color{blue}{\\color{red}{52}}}-{\\color{red}{47}}\\left(x-1\\right)+{\\color{blue}{\\color{red}{14}}}\\left(x-1\\right)\\left(x-2\\right)-{\\color{blue}{\\color{red}{6}}}\\left(x-1\\right)\\left(x-2\\right)\\left(x-4\\right)+{\\color{red}{2}}\\left(x-1\\right)\\left(x-2\\right)\\left(x-4\\right)\\left(x-5\\right).$$\n",
        "\n",
        "![DiferenciasDivididas](https://docs.google.com/uc?export=download&id=1CAr23QzAKbU4lt3pMXmIlQHwwgt3EYNc)\n",
        "\n",
        "![coeficientes](https://docs.google.com/uc?export=download&id=1nv1Pc2Wp6V4mpkbbxhc3fyhD3adwIy_U)\n",
        "\n",
        "![algNewton](https://docs.google.com/uc?export=download&id=1EiYKy-tCXiSEoW4CBVhJdL03dQJ6FZQ0)"
      ]
    },
    {
      "cell_type": "code",
      "metadata": {
        "id": "fB80YhR-N-1f",
        "outputId": "2aa3be7d-3030-412c-b8da-8b3f0423596f"
      },
      "source": [
        "import numpy as np\n",
        "def Newton_poly(a,xData,x):\n",
        "    n = len(xData) -1 \n",
        "    p = a[n]\n",
        "    for k in range(1,n+1):\n",
        "        p = a[n-k] + (x - xData[n-k])*p\n",
        "    return p\n",
        "\n",
        "def Newton_coeficientes(xData,yData):\n",
        "    m = len(xData) #Numero de puntos\n",
        "    a = yData.copy()\n",
        "    for k in range(1,m):\n",
        "        a[k:m] = (a[k:m]- a[k-1])/(xData[k:m]- xData[k-1])\n",
        "    return a\n",
        "\n",
        "A = np.array([1,2,4,5,7])\n",
        "B = np.array([52,5,-5,-40,10])\n",
        "\n",
        "coeficientes = Newton_coeficientes(A,B)\n",
        "print (coeficientes)\n",
        "\n",
        "evalua_pol = Newton_poly(coeficientes,A, 3)\n",
        "print (evalua_pol)"
      ],
      "execution_count": null,
      "outputs": [
        {
          "output_type": "stream",
          "text": [
            "[ 52 -47  14  -6   2]\n",
            "6\n"
          ],
          "name": "stdout"
        }
      ]
    },
    {
      "cell_type": "markdown",
      "metadata": {
        "id": "P876OYnlN-1f"
      },
      "source": [
        "##  Fenómeno de Runge\n",
        "\n",
        "En la mayor parte del tema de interpolación se asume que\n",
        "\n",
        "$$\\lim_{n\\rightarrow\\infty}\\left\\Vert f\\left(x\\right)-P_{n}\\left(x\\right)\\right\\Vert =0$$\n",
        "\n",
        "Es decir que si el grado del polinomio interpolador tiende a infinito, entonces el error entre la solución real y la aproximación será igual a cero.\n",
        "\n",
        "Sin embargo, esto no es siempre cierto, ya que la cota del error depende de que las derivadas de $f\\left(x\\right)$ no crezcan demasiado rápido.\n",
        "\n",
        "Este hecho se expresa en la existencia de funciones para las cuales, la sucesión $\\left\\{ P_{n}\\left(x\\right)\\right\\}$  diverge conforme $n$ crece. Carl David Runge, demostró en 1901 que para la función de Runge\n",
        "\n",
        "$$f\\left(x\\right)=\\frac{1}{1+x^{2}}$$\n",
        "\n",
        "La sucesión $\\left\\{ P_{n}\\left(x\\right)\\right\\}$ , de polinomios que la interpola con $n+1$ puntos distribuidos uniformemente en el intervalo $\\left[-5,5\\right]$, diverge conforme $n$ crece indefinidamente. \n",
        "\n",
        "Es debido a este fenómeno, que técnicas como los splines surgen para contraponerse a estas dificultades."
      ]
    },
    {
      "cell_type": "markdown",
      "metadata": {
        "id": "UPf8PGikN-1f"
      },
      "source": [
        "#  Referencias\n",
        "\n",
        "*   Riswan Butt, Numerical Analysys Using Matlab, Jones and Bartlett.\n",
        "*   Ward Cheney, David Kincaid, Métodos Numéricos y Computación, Cenage Learning.\n",
        "*   Richard L. Burden, J. Douglas Faires, Análisis Numérico, Math Learning.\n",
        "*   Yuri N. Skiba, Introducción a los Métodos Numéricos."
      ]
    }
  ]
}