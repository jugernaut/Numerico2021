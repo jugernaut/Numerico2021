{
  "nbformat": 4,
  "nbformat_minor": 0,
  "metadata": {
    "kernelspec": {
      "display_name": "Python 3.7 (tensorflow)",
      "language": "python",
      "name": "tensorflow"
    },
    "language_info": {
      "codemirror_mode": {
        "name": "ipython",
        "version": 3
      },
      "file_extension": ".py",
      "mimetype": "text/x-python",
      "name": "python",
      "nbconvert_exporter": "python",
      "pygments_lexer": "ipython3",
      "version": "3.7.7"
    },
    "colab": {
      "name": "01_Interpolacion.ipynb",
      "provenance": [],
      "toc_visible": true,
      "include_colab_link": true
    },
    "widgets": {
      "application/vnd.jupyter.widget-state+json": {
        "aa5837de3e3041778fcb708ff16bd849": {
          "model_module": "@jupyter-widgets/controls",
          "model_name": "VBoxModel",
          "state": {
            "_view_name": "VBoxView",
            "_dom_classes": [
              "widget-interact"
            ],
            "_model_name": "VBoxModel",
            "_view_module": "@jupyter-widgets/controls",
            "_model_module_version": "1.5.0",
            "_view_count": null,
            "_view_module_version": "1.5.0",
            "box_style": "",
            "layout": "IPY_MODEL_d20644f97f004883850307e32a93fbcf",
            "_model_module": "@jupyter-widgets/controls",
            "children": [
              "IPY_MODEL_865bc07ad0174978b1424f80161458fe",
              "IPY_MODEL_401a1647b9bc4286979f89a612592474",
              "IPY_MODEL_ba1fbc79d8d940e0981030ffb985ea93",
              "IPY_MODEL_563d5a1021e34947af2ce4785cf00ce1"
            ]
          }
        },
        "d20644f97f004883850307e32a93fbcf": {
          "model_module": "@jupyter-widgets/base",
          "model_name": "LayoutModel",
          "state": {
            "_view_name": "LayoutView",
            "grid_template_rows": null,
            "right": null,
            "justify_content": null,
            "_view_module": "@jupyter-widgets/base",
            "overflow": null,
            "_model_module_version": "1.2.0",
            "_view_count": null,
            "flex_flow": null,
            "width": null,
            "min_width": null,
            "border": null,
            "align_items": null,
            "bottom": null,
            "_model_module": "@jupyter-widgets/base",
            "top": null,
            "grid_column": null,
            "overflow_y": null,
            "overflow_x": null,
            "grid_auto_flow": null,
            "grid_area": null,
            "grid_template_columns": null,
            "flex": null,
            "_model_name": "LayoutModel",
            "justify_items": null,
            "grid_row": null,
            "max_height": null,
            "align_content": null,
            "visibility": null,
            "align_self": null,
            "height": null,
            "min_height": null,
            "padding": null,
            "grid_auto_rows": null,
            "grid_gap": null,
            "max_width": null,
            "order": null,
            "_view_module_version": "1.2.0",
            "grid_template_areas": null,
            "object_position": null,
            "object_fit": null,
            "grid_auto_columns": null,
            "margin": null,
            "display": null,
            "left": null
          }
        },
        "865bc07ad0174978b1424f80161458fe": {
          "model_module": "@jupyter-widgets/controls",
          "model_name": "DropdownModel",
          "state": {
            "_options_labels": [
              "cos(x)",
              "sin(x)",
              "tan(x)",
              "exp(x)",
              "exp(-x**2)",
              "exp(x)*cos(3*x)",
              "log(x)",
              "3.14159265358979**x",
              "x**3 + x**2 + x"
            ],
            "_view_name": "DropdownView",
            "style": "IPY_MODEL_bd46447452434edab06f09d7f08b8989",
            "_dom_classes": [],
            "description": "función",
            "_model_name": "DropdownModel",
            "index": 4,
            "_view_module": "@jupyter-widgets/controls",
            "_model_module_version": "1.5.0",
            "_view_count": null,
            "disabled": false,
            "_view_module_version": "1.5.0",
            "description_tooltip": null,
            "_model_module": "@jupyter-widgets/controls",
            "layout": "IPY_MODEL_269893dfd34d481793dd7728176f6f45"
          }
        },
        "401a1647b9bc4286979f89a612592474": {
          "model_module": "@jupyter-widgets/controls",
          "model_name": "IntSliderModel",
          "state": {
            "_view_name": "IntSliderView",
            "style": "IPY_MODEL_aeaf0d3576674cc5bfab97cf32a45b1f",
            "_dom_classes": [],
            "description": "grado",
            "step": 1,
            "_model_name": "IntSliderModel",
            "orientation": "horizontal",
            "max": 16,
            "_view_module": "@jupyter-widgets/controls",
            "_model_module_version": "1.5.0",
            "value": 9,
            "_view_count": null,
            "disabled": false,
            "_view_module_version": "1.5.0",
            "min": 0,
            "continuous_update": true,
            "readout_format": "d",
            "description_tooltip": null,
            "readout": true,
            "_model_module": "@jupyter-widgets/controls",
            "layout": "IPY_MODEL_d60be42fe9f245899721e693320851fd"
          }
        },
        "ba1fbc79d8d940e0981030ffb985ea93": {
          "model_module": "@jupyter-widgets/controls",
          "model_name": "FloatSliderModel",
          "state": {
            "_view_name": "FloatSliderView",
            "style": "IPY_MODEL_de1e6c272d0b41259791c7411ddbd9ae",
            "_dom_classes": [],
            "description": "x0",
            "step": 0.2,
            "_model_name": "FloatSliderModel",
            "orientation": "horizontal",
            "max": 3,
            "_view_module": "@jupyter-widgets/controls",
            "_model_module_version": "1.5.0",
            "value": -0.8,
            "_view_count": null,
            "disabled": false,
            "_view_module_version": "1.5.0",
            "min": -3,
            "continuous_update": true,
            "readout_format": ".2f",
            "description_tooltip": null,
            "readout": true,
            "_model_module": "@jupyter-widgets/controls",
            "layout": "IPY_MODEL_fd78e4c2c9544aaeac80eeb97c2a70d8"
          }
        },
        "563d5a1021e34947af2ce4785cf00ce1": {
          "model_module": "@jupyter-widgets/output",
          "model_name": "OutputModel",
          "state": {
            "_view_name": "OutputView",
            "msg_id": "",
            "_dom_classes": [],
            "_model_name": "OutputModel",
            "outputs": [
              {
                "output_type": "display_data",
                "metadata": {
                  "tags": []
                },
                "image/png": "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\n",
                "text/plain": "<Figure size 720x360 with 1 Axes>"
              }
            ],
            "_view_module": "@jupyter-widgets/output",
            "_model_module_version": "1.0.0",
            "_view_count": null,
            "_view_module_version": "1.0.0",
            "layout": "IPY_MODEL_5c0c79a3f37349c8aaf032c6f6075f7a",
            "_model_module": "@jupyter-widgets/output"
          }
        },
        "bd46447452434edab06f09d7f08b8989": {
          "model_module": "@jupyter-widgets/controls",
          "model_name": "DescriptionStyleModel",
          "state": {
            "_view_name": "StyleView",
            "_model_name": "DescriptionStyleModel",
            "description_width": "",
            "_view_module": "@jupyter-widgets/base",
            "_model_module_version": "1.5.0",
            "_view_count": null,
            "_view_module_version": "1.2.0",
            "_model_module": "@jupyter-widgets/controls"
          }
        },
        "269893dfd34d481793dd7728176f6f45": {
          "model_module": "@jupyter-widgets/base",
          "model_name": "LayoutModel",
          "state": {
            "_view_name": "LayoutView",
            "grid_template_rows": null,
            "right": null,
            "justify_content": null,
            "_view_module": "@jupyter-widgets/base",
            "overflow": null,
            "_model_module_version": "1.2.0",
            "_view_count": null,
            "flex_flow": null,
            "width": null,
            "min_width": null,
            "border": null,
            "align_items": null,
            "bottom": null,
            "_model_module": "@jupyter-widgets/base",
            "top": null,
            "grid_column": null,
            "overflow_y": null,
            "overflow_x": null,
            "grid_auto_flow": null,
            "grid_area": null,
            "grid_template_columns": null,
            "flex": null,
            "_model_name": "LayoutModel",
            "justify_items": null,
            "grid_row": null,
            "max_height": null,
            "align_content": null,
            "visibility": null,
            "align_self": null,
            "height": null,
            "min_height": null,
            "padding": null,
            "grid_auto_rows": null,
            "grid_gap": null,
            "max_width": null,
            "order": null,
            "_view_module_version": "1.2.0",
            "grid_template_areas": null,
            "object_position": null,
            "object_fit": null,
            "grid_auto_columns": null,
            "margin": null,
            "display": null,
            "left": null
          }
        },
        "aeaf0d3576674cc5bfab97cf32a45b1f": {
          "model_module": "@jupyter-widgets/controls",
          "model_name": "SliderStyleModel",
          "state": {
            "_view_name": "StyleView",
            "handle_color": null,
            "_model_name": "SliderStyleModel",
            "description_width": "",
            "_view_module": "@jupyter-widgets/base",
            "_model_module_version": "1.5.0",
            "_view_count": null,
            "_view_module_version": "1.2.0",
            "_model_module": "@jupyter-widgets/controls"
          }
        },
        "d60be42fe9f245899721e693320851fd": {
          "model_module": "@jupyter-widgets/base",
          "model_name": "LayoutModel",
          "state": {
            "_view_name": "LayoutView",
            "grid_template_rows": null,
            "right": null,
            "justify_content": null,
            "_view_module": "@jupyter-widgets/base",
            "overflow": null,
            "_model_module_version": "1.2.0",
            "_view_count": null,
            "flex_flow": null,
            "width": null,
            "min_width": null,
            "border": null,
            "align_items": null,
            "bottom": null,
            "_model_module": "@jupyter-widgets/base",
            "top": null,
            "grid_column": null,
            "overflow_y": null,
            "overflow_x": null,
            "grid_auto_flow": null,
            "grid_area": null,
            "grid_template_columns": null,
            "flex": null,
            "_model_name": "LayoutModel",
            "justify_items": null,
            "grid_row": null,
            "max_height": null,
            "align_content": null,
            "visibility": null,
            "align_self": null,
            "height": null,
            "min_height": null,
            "padding": null,
            "grid_auto_rows": null,
            "grid_gap": null,
            "max_width": null,
            "order": null,
            "_view_module_version": "1.2.0",
            "grid_template_areas": null,
            "object_position": null,
            "object_fit": null,
            "grid_auto_columns": null,
            "margin": null,
            "display": null,
            "left": null
          }
        },
        "de1e6c272d0b41259791c7411ddbd9ae": {
          "model_module": "@jupyter-widgets/controls",
          "model_name": "SliderStyleModel",
          "state": {
            "_view_name": "StyleView",
            "handle_color": null,
            "_model_name": "SliderStyleModel",
            "description_width": "",
            "_view_module": "@jupyter-widgets/base",
            "_model_module_version": "1.5.0",
            "_view_count": null,
            "_view_module_version": "1.2.0",
            "_model_module": "@jupyter-widgets/controls"
          }
        },
        "fd78e4c2c9544aaeac80eeb97c2a70d8": {
          "model_module": "@jupyter-widgets/base",
          "model_name": "LayoutModel",
          "state": {
            "_view_name": "LayoutView",
            "grid_template_rows": null,
            "right": null,
            "justify_content": null,
            "_view_module": "@jupyter-widgets/base",
            "overflow": null,
            "_model_module_version": "1.2.0",
            "_view_count": null,
            "flex_flow": null,
            "width": null,
            "min_width": null,
            "border": null,
            "align_items": null,
            "bottom": null,
            "_model_module": "@jupyter-widgets/base",
            "top": null,
            "grid_column": null,
            "overflow_y": null,
            "overflow_x": null,
            "grid_auto_flow": null,
            "grid_area": null,
            "grid_template_columns": null,
            "flex": null,
            "_model_name": "LayoutModel",
            "justify_items": null,
            "grid_row": null,
            "max_height": null,
            "align_content": null,
            "visibility": null,
            "align_self": null,
            "height": null,
            "min_height": null,
            "padding": null,
            "grid_auto_rows": null,
            "grid_gap": null,
            "max_width": null,
            "order": null,
            "_view_module_version": "1.2.0",
            "grid_template_areas": null,
            "object_position": null,
            "object_fit": null,
            "grid_auto_columns": null,
            "margin": null,
            "display": null,
            "left": null
          }
        },
        "5c0c79a3f37349c8aaf032c6f6075f7a": {
          "model_module": "@jupyter-widgets/base",
          "model_name": "LayoutModel",
          "state": {
            "_view_name": "LayoutView",
            "grid_template_rows": null,
            "right": null,
            "justify_content": null,
            "_view_module": "@jupyter-widgets/base",
            "overflow": null,
            "_model_module_version": "1.2.0",
            "_view_count": null,
            "flex_flow": null,
            "width": null,
            "min_width": null,
            "border": null,
            "align_items": null,
            "bottom": null,
            "_model_module": "@jupyter-widgets/base",
            "top": null,
            "grid_column": null,
            "overflow_y": null,
            "overflow_x": null,
            "grid_auto_flow": null,
            "grid_area": null,
            "grid_template_columns": null,
            "flex": null,
            "_model_name": "LayoutModel",
            "justify_items": null,
            "grid_row": null,
            "max_height": null,
            "align_content": null,
            "visibility": null,
            "align_self": null,
            "height": null,
            "min_height": null,
            "padding": null,
            "grid_auto_rows": null,
            "grid_gap": null,
            "max_width": null,
            "order": null,
            "_view_module_version": "1.2.0",
            "grid_template_areas": null,
            "object_position": null,
            "object_fit": null,
            "grid_auto_columns": null,
            "margin": null,
            "display": null,
            "left": null
          }
        }
      }
    }
  },
  "cells": [
    {
      "cell_type": "markdown",
      "metadata": {
        "id": "view-in-github",
        "colab_type": "text"
      },
      "source": [
        "<a href=\"https://colab.research.google.com/github/jugernaut/Numerico2021/blob/desarrollo/04_Interpolacion/01_Interpolacion.ipynb\" target=\"_parent\"><img src=\"https://colab.research.google.com/assets/colab-badge.svg\" alt=\"Open In Colab\"/></a>"
      ]
    },
    {
      "cell_type": "markdown",
      "metadata": {
        "id": "1PROF-KoN-1e"
      },
      "source": [
        "<font color=\"Teal\" face=\"Comic Sans MS,arial\">\n",
        "  <h1 align=\"center\"><i>Interpolación</i></h1>\n",
        "  </font>\n",
        "  <font color=\"Black\" face=\"Comic Sans MS,arial\">\n",
        "  <h5 align=\"center\"><i>Profesor: M.en.C. Miguel Ángel Pérez León.</i></h5>\n",
        "    <h5 align=\"center\"><i>Ayudante: Jesús Iván Coss Calderón.</i></h5>\n",
        "  <h5 align=\"center\"><i>Materia: Análisis Numérico.</i></h5>\n",
        "  </font>"
      ]
    },
    {
      "cell_type": "markdown",
      "metadata": {
        "id": "pX1XlohEN-1e"
      },
      "source": [
        "##  Introducción\n",
        "\n",
        "La interpolación es una de las técnicas más comunes para que, a partir de un conjunto de datos conocidos, se pueda identificar uno o más valores desconocidos dentro de este rango de datos. Y para esta labor se emplea una de las clases de funciones más útiles y mejor conocidas que mapea el conjunto de los números reales sobre si mismo, los **polinomios algebraicos**.\n",
        "\n",
        "Supongamos que se tiene un punto $\\left(x_{0},f(x_{0})\\right)$ en el plano, y se quiere encontrar una función $f(x)$ que al ser evaluada en $x_{0}$ pase por el punto $\\left(x_{0},f(x_{0})\\right)$, llamaremos a esa aproximación\n",
        "\n",
        "$$P_{0}(x)$$\n",
        "\n",
        "Entonces se tiene que $P_{0}(x)=f(x)=f(x_{0})$\n",
        "\n",
        "Es decir que $P_{0}(x)$, el polinomio de grado cero, es una constante $f(x_{0})$ que pasa por el punto $\\left(x_{0},f(x_{0})\\right)$.\n",
        "\n",
        "Recordemos un poco como es que las series de Taylor, nos ayudaban a generar una aproximación de una función dada."
      ]
    },
    {
      "cell_type": "code",
      "metadata": {
        "id": "NZ-3N4M_a0qJ",
        "colab": {
          "base_uri": "https://localhost:8080/",
          "height": 1000,
          "referenced_widgets": [
            "aa5837de3e3041778fcb708ff16bd849",
            "d20644f97f004883850307e32a93fbcf",
            "865bc07ad0174978b1424f80161458fe",
            "401a1647b9bc4286979f89a612592474",
            "ba1fbc79d8d940e0981030ffb985ea93",
            "563d5a1021e34947af2ce4785cf00ce1",
            "bd46447452434edab06f09d7f08b8989",
            "269893dfd34d481793dd7728176f6f45",
            "aeaf0d3576674cc5bfab97cf32a45b1f",
            "d60be42fe9f245899721e693320851fd",
            "de1e6c272d0b41259791c7411ddbd9ae",
            "fd78e4c2c9544aaeac80eeb97c2a70d8",
            "5c0c79a3f37349c8aaf032c6f6075f7a"
          ]
        },
        "outputId": "cc548aa5-8e10-4bde-b39e-92d036fdd964"
      },
      "source": [
        "# COLAB\n",
        "!git clone https://github.com/jugernaut/Numerico2021.git\n",
        "import Prometeo.Utils.gutils as vis\n",
        "import numpy as np\n",
        "\n",
        "%run \"/content/Numerico2021/04_Interpolacion/zSeriesDeTaylor_interactive.ipynb\""
      ],
      "execution_count": 31,
      "outputs": [
        {
          "output_type": "stream",
          "text": [
            "fatal: destination path 'Numerico2021' already exists and is not an empty directory.\n"
          ],
          "name": "stdout"
        },
        {
          "output_type": "display_data",
          "data": {
            "application/vnd.jupyter.widget-view+json": {
              "model_id": "aa5837de3e3041778fcb708ff16bd849",
              "version_minor": 0,
              "version_major": 2
            },
            "text/plain": [
              "interactive(children=(Dropdown(description='función', options=(cos(x), sin(x), tan(x), exp(x), exp(-x**2), exp…"
            ]
          },
          "metadata": {
            "tags": []
          }
        },
        {
          "output_type": "display_data",
          "data": {
            "image/png": "[encoded data removed]",
            "text/plain": [
              "<Figure size 720x360 with 1 Axes>"
            ]
          },
          "metadata": {
            "tags": []
          }
        },
        {
          "output_type": "display_data",
          "data": {
            "text/plain": [
              "-0.841470984807897*x + 0.0225125960778392*(x - 1.0)**4 + 0.140245164134649*(x - 1.0)**3 - 0.27015115293407*(x - 1.0)**2 + 1.38177329067604"
            ]
          },
          "metadata": {
            "tags": []
          }
        },
        {
          "output_type": "display_data",
          "data": {
            "image/png": "[encoded data removed]",
            "text/plain": [
              "<Figure size 720x360 with 1 Axes>"
            ]
          },
          "metadata": {
            "tags": []
          }
        },
        {
          "output_type": "display_data",
          "data": {
            "text/plain": [
              "-0.717356090899523*x + 0.0290294462227986*(x - 0.8)**4 + 0.119559348483254*(x - 0.8)**3 - 0.348353354673583*(x - 0.8)**2 + 1.27059158206678"
            ]
          },
          "metadata": {
            "tags": []
          }
        },
        {
          "output_type": "display_data",
          "data": {
            "text/plain": [
              "-0.384315775660929*x + 0.404556406512405*(x - 0.2)**4 + 0.374067354976638*(x - 0.2)**3 - 0.883926284020137*(x - 0.2)**2 + 1.03765259428451"
            ]
          },
          "metadata": {
            "tags": []
          }
        },
        {
          "output_type": "display_data",
          "data": {
            "text/plain": [
              "-0.384315775660929*x - 0.181991454511648*(x - 0.2)**5 + 0.404556406512405*(x - 0.2)**4 + 0.374067354976638*(x - 0.2)**3 - 0.883926284020137*(x - 0.2)**2 + 1.03765259428451"
            ]
          },
          "metadata": {
            "tags": []
          }
        },
        {
          "output_type": "display_data",
          "data": {
            "text/plain": [
              "0.843667878468878*x - 0.00451213212827593*(x + 0.8)**9 - 0.030250662047147*(x + 0.8)**8 - 0.00389593506047588*(x + 0.8)**7 + 0.117885900140207*(x + 0.8)**6 + 0.107944492823831*(x + 0.8)**5 - 0.267302106161556*(x + 0.8)**4 - 0.483702916988823*(x + 0.8)**3 + 0.147641878732054*(x + 0.8)**2 + 1.20222672681815"
            ]
          },
          "metadata": {
            "tags": []
          }
        }
      ]
    },
    {
      "cell_type": "markdown",
      "metadata": {
        "id": "9Z9-SJ7fN-1e"
      },
      "source": [
        "##  Polinomio de Lagrange\n",
        "\n",
        "Ahora supongamos que se conocen 2 puntos $\\left(x_{0},f(x_{0})\\right)\\,y\\,\\left(x_{1},f(x_{1})\\right)$ y se busca encontrar la interpolación lineal que conecta a ambos puntos.\n",
        "\n",
        "Una linea recta es usada para conectar estos 2 valores (datos) $f(x_{0})$ y $f(x_{1})$ en $x_{0}$ y $x_{1}$ respectivamente. La linea recta es representada por una función lineal de la forma $f(x)=ax+b$, donde $a,b$ son constantes y pueden ser determinadas usando el valor en los puntos $x_{0}$ y $x_{1}$ así.\n",
        "\n",
        "$$ x=x_{0}:f(x_{0})=ax_{0}+b \\tag{1}$$\n",
        "\n",
        "$$ x=x_{1}:f(x_{1})=ax_{1}+b \\tag{2}$$\n",
        "\n",
        "\n",
        "Para encontrar la pendiente de la recta que conecta a estos puntos, es necesario restar $f(x_{1})-f(x_{0})$, es decir\n",
        "\n",
        "$$f(x_{1})-f(x_{0})=ax_{1}+b-ax_{0}-b=ax_{1}-ax_{0}\\Longrightarrow{a=\\frac{f(x_{1})-f(x_{0})}{x_{1}-x_{0}}}$$\n",
        "\n",
        "Substituyendo $a$ en (1) se tiene que\n",
        "\n",
        "$$f(x_{0})=\\frac{f(x_{1})-f(x_{0})}{x_{1}-x_{0}}x_{0}+b\\Longrightarrow{b=f(x_{0})-\\frac{f(x_{1})-f(x_{0})}{x_{1}-x_{0}}x_{0}}$$\n",
        "\n",
        "De tal manera que si substituimos $a$ y $b$ en la ecuación paramétrica de la recta $f(x)=ax+b$, obtenemos\n",
        "\n",
        "\n",
        "$$f(x)=\\frac{f(x_{1})-f(x_{0})}{x_{1}-x_{0}}x+f(x_{0})-\\frac{f(x_{1})-f(x_{0})}{x_{1}-x_{0}}x_{0} \\tag{3}$$\n",
        "\n",
        "\n",
        "Y ahora (3) se puede reescribir como\n",
        "\n",
        "$$f(x)\t=\t\\frac{xf(x_{1})-xf(x_{0})-x_{0}f(x_{1})+x_{0}f(x_{0})}{x_{1}-x_{0}}+\\frac{x_{1}-x_{0}}{x_{1}-x_{0}}f(x_{0})\n",
        "\t=\t\\frac{xf(x_{1})-xf(x_{0})-x_{0}f(x_{1})+x_{0}f(x_{0})+x_{1}f(x_{0})-x_{0}f(x_{0})}{x_{1}-x_{0}}\n",
        "\t=\t\\frac{\\left(x_{1}-x\\right)f(x_{0})+\\left(x-x_{0}\\right)f(x_{1})}{x_{1}-x_{0}}$$\n",
        "    \n",
        "\n",
        "$$f(x)=\\left(\\frac{x-x_{1}}{x_{0}-x_{1}}\\right)f(x_{0})+\\left(\\frac{x_{0}-x}{x_{0}-x_{1}}\\right)f(x_{1})$$\n",
        "\n",
        "Que en forma de polinomio se define así\n",
        "\n",
        "$$P_{1}(x) := L_{0}(x)f(x_{0})+L_{1}(x)f(x_{1})\\ldots Polinomio\\,de\\,Lagrange\\,de\\,grado\\,1$$\n",
        "\n",
        "Si se evalúa $x_{0}$ en el Polinomio de Lagrange de grado 1 se obtiene\n",
        "\n",
        "$${\\color{blue}{P(x_{0})}}=\\left(\\frac{x_{0}-x_{1}}{x_{0}-x_{1}}\\right)f(x_{0})+\\left(\\frac{x_{0}-x_{0}}{x_{0}-x_{1}}\\right)f(x_{1})={\\color{blue}{f(x_{0})}} $$\n",
        "\n",
        "De igual manera, al evaluar $x_{1}$ \n",
        "\n",
        "$${\\color{blue}{P(x_{1})}}=\\left(\\frac{x_{1}-x_{1}}{x_{0}-x_{1}}\\right)f(x_{0})+\\left(\\frac{x_{0}-x_{1}}{x_{0}-x_{1}}\\right)f(x_{1})={\\color{blue}{f(x_{1})}} $$\n",
        "\n",
        "Para calcular el polinomio de Lagrange de grado 2 es necesario conocer 3 puntos (datos) y se tendría\n",
        "\n",
        "$$f(x)=ax^{2}+bx+c\\\\\n",
        "f(x) \\thickapprox L_{0}(x)f(x_{0})+L_{1}(x)f(x_{1})+L_{2}(x)f(x_{2})$$\n",
        "\n",
        "Donde\n",
        "\n",
        "$$L_{0}(x)\t=\t\\frac{\\left(x-x_{1}\\right)\\left(x-x_{2}\\right)}{\\left(x_{0}-x_{1}\\right)\\left(x_{0}-x_{2}\\right)},\\quad L_{1}(x)=\\frac{\\left(x-x_{0}\\right)\\left(x-x_{2}\\right)}{\\left(x_{1}-x_{0}\\right)\\left(x_{1}-x_{2}\\right)}, \\quad L_{2}=\\frac{\\left(x-x_{0}\\right)\\left(x-x_{1}\\right)}{\\left(x_{2}-x_{0}\\right)\\left(x_{2}-x_{1}\\right)} $$"
      ]
    },
    {
      "cell_type": "markdown",
      "metadata": {
        "id": "uAZ2hQY1TAJ8"
      },
      "source": [
        "### Teorema\n",
        "\n",
        "Si $x_{0},x_{1},\\ldots x_{n}$ son $n+1$ números distintos y si $f$ es una función cuyos valores están dados en estos números, entonces existe un polinomio $P(x)$ de grado máximo $n$. Dicho polinomio se define así\n",
        "\n",
        "$$P(x):= L_{0}(x)f(x_{0})+\\cdots+L_{n}(x)f(x_{n})=\\sum_{i=0}^{n}L_{i}(x)f(x_{i})$$,\n",
        "\n",
        "Donde para cada $i=0,1,\\ldots,n,$\n",
        "\n",
        "$$L_{i}(x) := \\frac{\\left(x-x_{0}\\right)\\left(x-x_{1}\\right)\\cdots\\left(x-x_{i-1}\\right)\\left(x-x_{i+1}\\right)\\cdots\\left(x-x_{n}\\right)}{\\left(x_{i}-x_{0}\\right)\\left(x_{i}-x_{1}\\right)\\cdots\\left(x_{i}-x_{i-1}\\right)\\left(x_{i}-x_{i+1}\\right)\\cdots\\left(x_{i}-x_{n}\\right)}=\\prod_{\\begin{array}{c}\n",
        "i=0\\\\\n",
        "i\\neq k\n",
        "\\end{array}}^{n}\\frac{\\left(x-x_{i}\\right)}{\\left(x_{k}-x_{i}\\right)}$$"
      ]
    },
    {
      "cell_type": "markdown",
      "metadata": {
        "id": "gPbbX1TZTeSD"
      },
      "source": [
        "#### Ejemplo\n",
        "\n",
        "Sea el siguiente conjunto de datos\n",
        "\n",
        "| X | 1 |  4 | 7|\n",
        "| :-:  | :-: | :-: |  :-: |\n",
        "| Y  | 52 |-5 |10|\n",
        "\n",
        "\n",
        "1. Determine el polinomio de Lagrange de segundo orden que pasa por cada uno de los puntos.\n",
        "\n",
        "2. Use el polinomio calculado en (1) para encontrar el valor interpolado en $x=3$.\n",
        "\n",
        "Solución: $f\\left(x\\right)=4x^{2}-39x+87\\qquad f(3)=6$\n",
        "\n",
        "![algLagrange](https://docs.google.com/uc?export=download&id=1GO-KO19B609P26a0_4DzeuoE9yjNfbEd)"
      ]
    },
    {
      "cell_type": "markdown",
      "metadata": {
        "id": "kuoFQm7sT37H"
      },
      "source": [
        "### Estimación del error\n",
        "\n",
        "Es importante notar que si se conoce la función $\\left(f(x)\\right)$ que se quiere aproximar, basta con evaluarla en los puntos necesarios para poder construir el polinomio interpolador.\n",
        "\n",
        "Incluso, si se conoce la solución analítica $\\left(f(x)\\right)$ podemos dar una estimación del error y una cota para el error de la solución numérica."
      ]
    },
    {
      "cell_type": "markdown",
      "metadata": {
        "id": "o-Zrg8ZdUKXV"
      },
      "source": [
        "### Teorema\n",
        "\n",
        "Formula del error de la interpolación polinomial:\n",
        "\n",
        "Sean $x_{0},\\ldots,x_{n}\\in\\left[a,b\\right]$, $n+1$ nodos de interpolación y sea $f\\in C^{n+1}\\left[a,b\\right]$. Si $x\\in\\left[a,b\\right]$, entonces \n",
        "\n",
        "$$f(x)=P_{n}(x)+E_{n}(x)$$\n",
        "\n",
        "donde $P_{n}(x)$ es el polinomio que interpola $f(x)$ en los $n+1$ nodos y que podemos usar para aproximar \n",
        "\n",
        "$$f(x)\\approx P_{n}(x)=\\sum_{i=0}^{n}L_{i}(x)f(x_{i})$$\n",
        "\n",
        "Podemos afirmar que el termino de error $E_{n}(x)$ se puede calcular así\n",
        "\n",
        "$$E_{n}(x)=\\left|f(x)-P_{n}(x)\\right|=\\frac{\\left(x-x_{0}\\right)\\left(x-x_{1}\\right)\\cdots\\left(x-x_{n}\\right)f^{(n+1)}(\\xi)}{\\left(n+1\\right)!}$$\n",
        "\n",
        "\n",
        "Este teorema afirma la existencia de un numero $\\xi=\\xi(x)\\in\\left[a,b\\right]$, sin embargo no se proporciona ningún procedimiento cómodo para calcularlo.\n",
        "\n",
        "En la práctica se calcula de la siguiente manera\n",
        "\n",
        "$$\\xi=\\sup_{x\\in\\left[a,b\\right]}\\left|f^{n+1}(x)\\right|$$\n",
        "\n",
        " \n",
        "Dado que ya conocemos una forma de calcular el polinomio interpolador dada una función y ademas podemos dar una estimación del error, procedamos a aplicar lo conocido a la función \n",
        "\n",
        "$$f(x)=2xe^{-\\left(4x+2\\right)}$$"
      ]
    },
    {
      "cell_type": "markdown",
      "metadata": {
        "id": "Vv5kF4jcUYES"
      },
      "source": [
        "#### Ejemplo\n",
        "\n",
        "Sea la función $f(x)=2xe^{-\\left(4x+2\\right)} $definida en el intervalo $[0.2,1]$\n",
        "\n",
        "1. Determine el polinomio de Lagrange que interpola $f(x)$ en los punto de interpolación $\\{0.2,1.0\\}.$\n",
        "\n",
        "2. Obtener la expresión del error de interpolación"
      ]
    },
    {
      "cell_type": "markdown",
      "metadata": {
        "id": "T-ePHlCAUiYQ"
      },
      "source": [
        "#### Solución\n",
        "\n",
        "$$L_{0}(x)=\\frac{x-x_{1}}{x_{0}-x_{1}}=\\frac{1-x}{0.8},\\quad L_{1}(x)=\\frac{x-x_{0}}{x_{1}-x_{0}}=\\frac{x-0.2}{0.8}$$\n",
        "\n",
        "Por lo tanto \n",
        "\n",
        "$$P_{1}(x)=L_{0}(x)f(x_{0})+L_{1}(x)f(x_{1})=\\frac{1-x}{0.8}\\left(0.4\\right)e^{-2.8}+\\frac{x-0.2}{0.8}2e^{-6}$$\n",
        "\n",
        "\n",
        "Por otra parte aplicando el teorema para la estimación del error se tiene\n",
        "\n",
        "$$E_{n}(x)=\\left|f(x)-P_{n}(x)\\right|=\\frac{\\left(x-x_{0}\\right)\\left(x-x_{1}\\right)\\cdots\\left(x-x_{n}\\right)f^{(n+1)}(\\xi)}{\\left(n+1\\right)!}$$\n",
        "\n",
        "Como se tienen 2 puntos de interpolación, es necesario calcular la segunda derivada de f \n",
        "\n",
        "$$f'(x)=\\left(2-8x\\right)e^{-(4x+2)}\\quad f''(x)=\\left(-16+32x\\right)e^{-(4x+2)}$$\n",
        "\n",
        "Por lo tanto podemos concluir que\n",
        "\n",
        "$$E_{n}(x)=\\left|f(x)-P_{n}(x)\\right|=\\frac{\\left(x^{2}-1.2x+0.2\\right)\\left(-16+32\\xi\\right)e^{-(4\\xi+2)}}{2}$$"
      ]
    },
    {
      "cell_type": "code",
      "metadata": {
        "id": "XCChpanVN-1e",
        "outputId": "7a73d9b0-3007-4ae0-e696-8644c36422ad"
      },
      "source": [
        "import numpy as np\n",
        "from math import *\n",
        "\n",
        "def lagrange_interpolation(x, y, xi):\n",
        "    resultado=0.0\n",
        "    n=len(y)\n",
        "    for i in range(n):\n",
        "        term=y[i]\n",
        "        for j in range(n):\n",
        "            if(j!=i):\n",
        "                term*=(xi-x[j])/(x[i]-x[j])\n",
        "        resultado+=term\n",
        "    return resultado\n",
        "\n",
        "\n",
        "x = [1.0, 4.0, 7.0]\n",
        "y = [52.0,-5.0,10.0]\n",
        "u = 3\n",
        "estim = lagrange_interpolation(x, y, u)\n",
        "print(\"resultado es: {}\".format(estim))"
      ],
      "execution_count": null,
      "outputs": [
        {
          "output_type": "stream",
          "text": [
            "resultado es: 5.999999999999999\n"
          ],
          "name": "stdout"
        }
      ]
    },
    {
      "cell_type": "markdown",
      "metadata": {
        "id": "kfW0qGMxN-1e"
      },
      "source": [
        "##  Polinomio de Newton\n",
        "\n",
        "Supongamos que $P_{n}\\left(x\\right)$ es el $n-esimo$ polinomio de Lagrange que concuerda con la función f en los números distintos $x_{0},x_{1},\\ldots,x_{n}$. \n",
        "\n",
        "\n",
        "Las **diferencias divididas** de $f$ respecto a $x_{0},x_{1},\\ldots,x_{n}$ se usan para expresar $P_{n}\\left(x\\right)$ en la forma \n",
        "\n",
        "$$P_{n}\\left(x\\right)=a_{0}+a_{1}\\left(x-x_{0}\\right)+a_{2}\\left(x-x_{0}\\right)\\left(x-x_{1}\\right)+\\cdots+a_{n}\\left(x-x_{0}\\right)\\cdots\\left(x-x_{n-1}\\right) \\tag{4}$$\n",
        "\n",
        "para las constantes apropiadas $a_{0},a_{1},\\ldots,a_{n}$. Para determinar la primera de las constantes $a_{0}$ note que si $P_{n}\\left(x\\right)$ esta escrito en la forma de la ecuación (4), entonces al evaluar en $x_{0}$ obtenemos \n",
        "\n",
        "$$P_{n}\\left(x_{0}\\right)=a_{0}=f\\left(x_{0}\\right)$$\n",
        "\n",
        "De manera similar , cuando $P_{n}\\left(x\\right)$ en $x=x_{1}$ \n",
        "\n",
        "$$P_{n}\\left(x_{1}\\right)=f\\left(x_{0}\\right)+a_{1}\\left(x_{1}-x_{0}\\right)=f\\left(x_{1}\\right);\\quad as\\acute{\\imath}\\,que \\quad a_{1}=\\frac{f\\left(x_{1}\\right)-f\\left(x_{0}\\right)}{x_{1}-x_{0}} $$\n",
        "\n",
        "La diferencia dividida cero de la función $f$ respecto a $x_{i}$ , que se denota como $f\\left[x_{i}\\right]$, es simplemente el valor de f en $x_{i}$ , es decir, $f\\left[x_{i}\\right]=f\\left(x_{i}\\right)$.\n",
        "\n",
        "El resto de las diferencias divididas se definen en forma recursiva. La primera diferencia dividida de $f$ respecto a $x_{i}$ y $x_{i+1}$ se denota $f\\left[x_{i},x_{i+1}\\right]$ se define así.\n",
        "\n",
        "$$f\\left[x_{i},x_{i+1}\\right]=\\frac{f\\left[x_{i+1}\\right]-f\\left[x_{i}\\right]}{x_{i+1}-x_{i}}$$\n",
        "\n",
        "La segunda diferencia dividida, $f\\left[x_{i},x_{i+1},x_{i+2}\\right]$, se define como \n",
        "\n",
        "$$f\\left[x_{i},x_{i+1},x_{i+2}\\right]=\\frac{f\\left[x_{i+1},x_{i+2}\\right]-f\\left[x_{i},x_{i+1}\\right]}{x_{i+2}-x_{i}}$$\n",
        "\n",
        "La $k-esima$ diferencia dividida respecto a $x_{i},x_{i+1},\\ldots,x_{i+k}$ es \n",
        "\n",
        "$$f\\left[x_{i},x_{i+1},\\cdots,x_{i+k}\\right]=\\frac{f\\left[x_{i+1},x_{i+2},\\cdots x_{i+k}\\right]-f\\left[x_{i},x_{i+1},\\cdots,x_{i+k-1}\\right]}{x_{i+k}-x_{i}}$$\n",
        "\n",
        "El proceso termina con la única $n-\\acute{e}sima$ diferencia dividida, $$f\\left[x_{0},x_{1},\\cdots,x_{n}\\right]=\\frac{f\\left[x_{1},x_{2},\\cdots x_{n}\\right]-f\\left[x_{0},x_{1},\\cdots,x_{n-1}\\right]}{x_{n}-x_{0}}$$\n",
        "\n",
        "Por lo tanto, podemos reescribir $P_{n}\\left(x\\right)$ como. \n",
        "\n",
        "\n",
        "$$P_{n}\\left(x\\right)=f\\left[x_{0}\\right]+\\sum_{k=1}^{n}\\left[x_{0},x_{1},\\cdots x_{k}\\right]\\left(x-x_{0}\\right)\\left(x-x_{1}\\right)\\cdots\\left(x-x_{k-1}\\right)$$"
      ]
    },
    {
      "cell_type": "markdown",
      "metadata": {
        "id": "J0g4e-kZYQ9A"
      },
      "source": [
        "###  Ejemplo\n",
        "\n",
        "Sea el siguiente conjunto de datos\n",
        "\n",
        "| X | 1 |2|  4 |5| 7|\n",
        "| :-:  | :-: | :-: |  :-: | :-: | :-: |\n",
        "| Y  | 52 |5|-5|-40 |10|\n",
        "\n",
        "1. Determine el polinomio de Newton de cuarto orden que pasa por cada uno de los puntos. Calcule los coeficientes usando una tabla de diferencias divididas.\n",
        "\n",
        "2. Use el polinomio calculado en (1) para encontrar el valor interpolado en $x=3$."
      ]
    },
    {
      "cell_type": "markdown",
      "metadata": {
        "id": "NKWai2UoYaIY"
      },
      "source": [
        "###  Solución \n",
        "\n",
        "$$P_{4}\\left(x\\right)={\\color{blue}{\\color{red}{52}}}-{\\color{red}{47}}\\left(x-1\\right)+{\\color{blue}{\\color{red}{14}}}\\left(x-1\\right)\\left(x-2\\right)-{\\color{blue}{\\color{red}{6}}}\\left(x-1\\right)\\left(x-2\\right)\\left(x-4\\right)+{\\color{red}{2}}\\left(x-1\\right)\\left(x-2\\right)\\left(x-4\\right)\\left(x-5\\right).$$\n",
        "\n",
        "![DiferenciasDivididas](https://docs.google.com/uc?export=download&id=1CAr23QzAKbU4lt3pMXmIlQHwwgt3EYNc)\n",
        "\n",
        "![coeficientes](https://docs.google.com/uc?export=download&id=1nv1Pc2Wp6V4mpkbbxhc3fyhD3adwIy_U)\n",
        "\n",
        "![algNewton](https://docs.google.com/uc?export=download&id=1EiYKy-tCXiSEoW4CBVhJdL03dQJ6FZQ0)"
      ]
    },
    {
      "cell_type": "code",
      "metadata": {
        "id": "fB80YhR-N-1f",
        "outputId": "2aa3be7d-3030-412c-b8da-8b3f0423596f"
      },
      "source": [
        "import numpy as np\n",
        "def Newton_poly(a,xData,x):\n",
        "    n = len(xData) -1 \n",
        "    p = a[n]\n",
        "    for k in range(1,n+1):\n",
        "        p = a[n-k] + (x - xData[n-k])*p\n",
        "    return p\n",
        "\n",
        "def Newton_coeficientes(xData,yData):\n",
        "    m = len(xData) #Numero de puntos\n",
        "    a = yData.copy()\n",
        "    for k in range(1,m):\n",
        "        a[k:m] = (a[k:m]- a[k-1])/(xData[k:m]- xData[k-1])\n",
        "    return a\n",
        "\n",
        "A = np.array([1,2,4,5,7])\n",
        "B = np.array([52,5,-5,-40,10])\n",
        "\n",
        "coeficientes = Newton_coeficientes(A,B)\n",
        "print (coeficientes)\n",
        "\n",
        "evalua_pol = Newton_poly(coeficientes,A, 3)\n",
        "print (evalua_pol)"
      ],
      "execution_count": null,
      "outputs": [
        {
          "output_type": "stream",
          "text": [
            "[ 52 -47  14  -6   2]\n",
            "6\n"
          ],
          "name": "stdout"
        }
      ]
    },
    {
      "cell_type": "markdown",
      "metadata": {
        "id": "P876OYnlN-1f"
      },
      "source": [
        "##  Fenómeno de Runge\n",
        "\n",
        "En la mayor parte del tema de interpolación se asume que\n",
        "\n",
        "$$\\lim_{n\\rightarrow\\infty}\\left\\Vert f\\left(x\\right)-P_{n}\\left(x\\right)\\right\\Vert =0$$\n",
        "\n",
        "Es decir que si el grado del polinomio interpolador tiende a infinito, entonces el error entre la solución real y la aproximación sera igual a cero.\n",
        "\n",
        "Sin embargo, esto no es siempre cierto, ya que la cota del error depende de que las derivadas de $f\\left(x\\right)$ no crezcan demasiado rápido.\n",
        "\n",
        "Este hecho se expresa en la existencia de funciones para las cuales, la sucesión $\\left\\{ P_{n}\\left(x\\right)\\right\\}$  diverge conforme n crece. Carl David Runge, demostró en 1901 que para la función de Runge\n",
        "\n",
        "$$f\\left(x\\right)=\\frac{1}{1+x^{2}}$$\n",
        "\n",
        "La sucesión $\\left\\{ P_{n}\\left(x\\right)\\right\\}$ , de polinomios que la interpola con $n+1$ puntos distribuidos uniformemente en el intervalo $\\left[-5,5\\right]$, diverge conforme $n$ crece indefinidamente. \n",
        "\n",
        "Es debido a este fenómeno, que técnicas como los splines surgen para contraponerse a estas dificultades."
      ]
    },
    {
      "cell_type": "markdown",
      "metadata": {
        "id": "OZB1RDJQN-1f"
      },
      "source": [
        "##  Interpolación por partes (Splines)\n",
        "\n",
        "### Interpolación lineal por partes (Splines).\n",
        "\n",
        "En secciones previas, se mostró como era posible construir polinomios tan 'precisos' como se necesitara. Estos polinomios funcionan bien en la mayoría de los casos. \n",
        "\n",
        "Sin embargo hay situaciones en las cuales un polinomio no es suficiente, es por este motivo que surgen los 'splines' como alternativa a este problema.\n",
        "\n",
        "En su forma más sencilla, son conocidos como $\\color{blue}{splines \\hspace{1mm} lineales}$, son funciones continuas, que restringidas a cada intervalo de la partición A, son rectas.\n",
        "\n",
        "Por ejemplo, gráficamente el spline $S\\left(x\\right)$ que interpola linealmente a la función f en los puntos $x_{0},x_{1},\\ldots,x_{n}$ es la poligonal que une los puntos $\\left(x_{i},f\\left(x_{i}\\right)\\right)\\quad i=0,\\ldots,n.$\n",
        "\n",
        "La idea es encontrar $S_{i}\\left(x\\right)$ (splines) con $i=0,\\ldots,n-1$ que interpolan a la función $f\\left(x\\right)$ en el intervalo $\\left[x_{i},x_{i+1}\\right]$.\n",
        "\n",
        "Esta serie de funciones van a ser lineales, es decir de grado 1, con forma $$S_{i}\\left(x\\right)=ax+b$$\n",
        "\n",
        "Entonces (considerando la ecuación de la recta que pasa por 2 puntos) tenemos que la **forma general del Spline Lineal** $S\\left(x\\right)$ se define de la siguiente manera\n",
        "\n",
        "$$S_{i}\\left(x\\right)=f\\left(x_{i}\\right)+\\frac{f\\left(x_{i+1}\\right)-f\\left(x_{i}\\right)}{x_{i+1}-x_{i}}\\left(x-x_{i}\\right)\\quad x\\in\\left[x_{i},x_{i+1}\\right]$$\n",
        "\n",
        "Esta forma de spline es útil, sin embargo la idea es que $S\\left(x\\right)$ sea mas 'suave' en todos los puntos que un polinomio.\n",
        "\n",
        "Se definirá una de estas funciones $S_{i}\\left(x\\right)$ por cada par de puntos adyacentes, hasta que se tenga un total de n-1 funciones. Y forzando a cada una de estas a pasar obligatoriamente por los puntos que van a determinarlas.\n",
        "\n",
        "Es decir que la función $S\\left(x\\right)$ sera el conjunto de funciones $S_{i}\\left(x\\right)\\,i=0,\\ldots,n-1$ que une puntos consecutivos; es por ello que $S\\left(x\\right)$ sera continua en dichos puntos, pero no derivable en general.\n",
        "\n",
        "$\\color{green}{Ejemplo}$ Interpolar f\\left(x\\right)=\\frac{1}{x} en los valores de x = 1, 2 y 4.\n",
        "\n",
        "**Solución**: \n",
        "\n",
        "lo primero es encontrar los valores de f evaluada en los puntos necesarios.\n",
        "\n",
        "$$f\\left(1\\right)=1,\\quad f\\left(2\\right)=0.5,\\quad f\\left(4\\right)=0.25$$\n",
        "\n",
        "El primer spline $S_{0}\\left(x\\right)=ax+b$ deberá unir los 2 primeros pares de coordenadas $\\left(1,1\\right),\\left(2,0.5\\right)$. De manera tal que surge un sistema lineal de 2 ecuaciones con 2 incógnitas.\n",
        "\n",
        "$$\\begin{array}{cc}\n",
        "a) & a+b=1\\\\\n",
        "b) & 2a+b=0.5\n",
        "\\end{array}$$\n",
        "\n",
        "Empleando cualquier método de los vistos para resolver este tipos de sistemas $(Ax=b)$ podemos ver que los valores que satisfacen dicho sistema son \n",
        "\n",
        "$$a=-0.5\\quad y\\quad b=1.5$$\n",
        "\n",
        "Por lo que podemos concluir que el primer spline es el siguiente\n",
        "\n",
        "$$S_{0}\\left(x\\right)=-0.5x+1.5$$\n",
        "\n",
        "De manera análoga podemos calcular $S_{1}\\left(x\\right)=ax+b$ para el siguiente par de puntos $\\left(2,0.5\\right),\\left(4,0.25\\right)$. De lo cual se puede concluir que \n",
        "\n",
        "$$a=-0.125\\quad y\\quad b=0.75$$ \n",
        "\n",
        "Por lo que el segundo spline tiene la forma \n",
        "\n",
        "$$S_{1}\\left(x\\right)=-0.125x+0.75$$\n",
        "\n",
        "De manera general, el spline lineal asociado a este ejemplo es\n",
        "\n",
        "$$S\\left(x\\right)=\\begin{cases}\n",
        "S_{0}\\left(x\\right)=-0.5x+1.5 & x\\in\\left[1,2\\right]\\\\\n",
        "S_{1}\\left(x\\right)=-0.125x+0.75 & x\\in\\left[2,4\\right]\n",
        "\\end{cases}$$\n",
        "\n",
        "¡Valida el resultado empleando la forma general del spline lineal!\n",
        "\n",
        "### Splines Cuadráticos. \n",
        "\n",
        "En este caso los polinomios $S_{i}\\left(x\\right)$ se construyen a través del polinomio de grado 2, es decir \n",
        "\n",
        "$$S_{i}\\left(x\\right)=a_{i}x^{2}+b_{i}x+c_{i}\\quad i=0,\\ldots,n-1$$\n",
        "\n",
        "De igual manera que en la interpolación lineal se tendrá un total de n-1 ecuaciones, donde n es el numero de puntos sobre los cuales se define el spline.\n",
        "\n",
        "La interpolación cuadrática nos va a asegurar que la función que nosotros generemos por partes con los distintos $S_{i}\\left(x\\right)$ va a ser continua, ya que para obtener las condiciones que ajusten el polinomio, vamos a definir como condiciones:       \n",
        "\n",
        "$$1)S_{i}\\left(x_{i}\\right)=S_{i+1}\\left(x_{i}\\right)\\quad i=1,\\ldots,n-1 $$      \n",
        "\n",
        "$$2)S_{i}'\\left(x_{i}\\right)=S'_{i+1}\\left(x_{i}\\right)\\quad i=1,\\ldots,n-1$$\n",
        "\n",
        "Esto sin embargo no es suficiente, y necesitamos una condición más, ya que por cada $S_{i}\\left(x\\right)$ tenemos 3 incógnitas (a, b y c) y por ejemplo para el caso sencillo de tener unicamente 3 puntos, se tendrían 6 incógnitas y solo 5 ecuaciones, tres que igualan $S_{i}\\left(x_{i}\\right)$ con el valor de $f\\left(x_{i}\\right)$ en ese punto (dos por cada intervalo), quinta y sexta de igualar $S'_{i}\\left(x_{i}\\right)\\,y\\,S'_{i+1}\\left(x_{i}\\right)$ en el punto común. E incluso aun así, no se garantiza la suavidad de $S\\left(x\\right)$.\n",
        "\n",
        "$\\color{green}{Ejemplo.}$\n",
        "\n",
        "Calcula el spline cuadrático natural, dados los siguientes datos.\n",
        "\n",
        "| X | 3 |4.5|  7 |9| \n",
        "| :-:  | :-: | :-: |  :-: | :-: | \n",
        "| Y  | 2.5 |1|2.5|0.5 |\n",
        "\n",
        "**Solución**: Hay que notar que se forman 3 intervalos y en cada uno de estos intervalos hay que definir un polinomio cuadrático que pase por cada uno de los puntos de la tabla de datos, es decir \n",
        "\n",
        "$$\\begin{array}{c}\n",
        "S_{1}\\left(3\\right)=2.5\\\\\n",
        "S_{2}\\left(4.5\\right)=1\\\\\n",
        "S_{3}\\left(7\\right)=2.5\\\\\n",
        "S_{4}\\left(9\\right)=0.5\n",
        "\\end{array}$$\n",
        "\n",
        "Por otro lado tomando en consideración la condición 1), tendríamos las siguientes ecuaciones \n",
        "\n",
        "$$\\begin{array}{c}\n",
        "S_{1}\\left(3\\right)=2.5\\Rightarrow9a_{1}+3b_{1}+c_{1}=2.5\\\\\n",
        "S_{2}\\left(4.5\\right)=1\\Rightarrow\\begin{cases}\n",
        "\\left(4.5\\right)^{2}a_{1}+4.5b_{1}+c_{1}=1\\\\\n",
        "\\left(4.5\\right)^{2}a_{2}+4.5b_{2}+c_{2}=1\n",
        "\\end{cases}\\\\\n",
        "S_{3}\\left(7\\right)=2.5\\Rightarrow\\begin{cases}\n",
        "49a_{2}+7b_{2}+c_{2}=2.5\\\\\n",
        "49a_{3}+7b_{3}+c_{3}=2.5\n",
        "\\end{cases}\\\\\n",
        "S_{4}\\left(9\\right)=0.5\\Rightarrow81a_{3}+9b_{3}+c_{3}=0.5\n",
        "\\end{array}$$\n",
        "\n",
        "Hasta este punto se tiene un total de 6 ecuaciones $\\left(S_{i}\\left(x\\right)\\;i=1,2,3,4\\right)$ con 9 incógnitas $\\left(a_{i},b_{i},c_{i}\\quad i=1,2,3\\right)$. En el caso de los spline cuadráticos, se pide que el spline tenga derivada continua de orden $k-1=1$, es decir primera derivada, es decir\n",
        "\n",
        "$$S'\\left(x\\right)=\\begin{cases}\n",
        "2a_{1}x+b_{1} & x\\in\\left[3,4.5\\right]\\\\\n",
        "2a_{2}x+b_{2} & x\\in\\left[4.5,7\\right]\\\\\n",
        "2a_{3}x+b_{3} & x\\in\\left[7,9\\right]\n",
        "\\end{cases}$$\n",
        "\n",
        "Hay que notar que dado que el spline esta formado por segmentos de curvas, se podrían presentar discontinuidades en los cambios de intervalo. Es decir, las posibles discontinuidades se podrían dar en $x=4.5\\:y\\:x=7$, así que para que $S'\\left(x\\right)$ sea continua se debe cumplir la condición 2)\n",
        "\n",
        "$$\\begin{array}{c}\n",
        "2a_{1}\\left(4.5\\right)+b_{1}=2a_{2}\\left(4.5\\right)+b_{2}\\Rightarrow2a_{1}+b_{1}=9a_{2}+b_{2}\\\\\n",
        "2a_{2}\\left(7\\right)+b_{2}=2a_{3}\\left(7\\right)+b_{3}\\Rightarrow14a_{2}+b_{2}=14a_{3}+b_{3}\n",
        "\\end{array}$$\n",
        "\n",
        "De tal manera que ahora tenemos un total de 8 ecuaciones con 9 incógnitas, esto nos permite elegir una de ellas igual a cero (spline cuadrático natural). Es decir que podemos elegir por simplicidad ${\\color{blue}{a_{1}=0}}$.\n",
        "\n",
        "Finalmente podemos decir que tenemos un total de 8 ecuaciones con 8 incógnitas\n",
        "\n",
        "$$\\begin{array}{cc}\n",
        "3b_{1}+c_{1}=2.5\\quad & 49a_{3}+7b_{3}+c_{3}=2.5\\\\\n",
        "4.5b_{1}+c_{1}=1\\quad & 81a_{3}+8b_{3}+c_{3}=0.5\\\\\n",
        "20.25a_{2}+4.5b_{2}+c_{2}=1\\quad & b_{1}=9a_{2}+b_{2}\\\\\n",
        "49a_{2}+7b_{2}+c_{2}=2.5 & 14a_{2}+b_{2}=14a_{3}+b_{3}\n",
        "\\end{array}$$\n",
        "\n",
        "Este conjunto de ecuaciones forman un sistema del tipo $A\\vec{x}=\\vec{b}$, que se ve de la siguiente manera\n",
        "\n",
        "$$\\left(\\begin{array}{cccccccc}\n",
        "3 & 1 & 0 & 0 & 0 & 0 & 0 & 0\\\\\n",
        "4.5 & 1 & 0 & 0 & 0 & 0 & 0 & 0\\\\\n",
        "0 & 0 & 20.25 & 4.5 & 1 & 0 & 0 & 0\\\\\n",
        "0 & 0 & 49 & 7 & 1 & 0 & 0 & 0\\\\\n",
        "0 & 0 & 0 & 0 & 0 & 49 & 7 & 1\\\\\n",
        "0 & 0 & 0 & 0 & 0 & 81 & 9 & 1\\\\\n",
        "1 & 0 & -9 & -1 & 0 & 0 & 0 & 0\\\\\n",
        "0 & 0 & 14 & 1 & 0 & -14 & -1 & 0\n",
        "\\end{array}\\right)\\left(\\begin{array}{c}\n",
        "b_{1}\\\\\n",
        "c_{1}\\\\\n",
        "a_{2}\\\\\n",
        "b_{2}\\\\\n",
        "c_{2}\\\\\n",
        "a_{3}\\\\\n",
        "b_{3}\\\\\n",
        "c_{3}\n",
        "\\end{array}\\right)=\\left(\\begin{array}{c}\n",
        "2.5\\\\\n",
        "1\\\\\n",
        "1\\\\\n",
        "2.5\\\\\n",
        "2.5\\\\\n",
        "0.5\\\\\n",
        "0\\\\\n",
        "0\n",
        "\\end{array}\\right)$$\n",
        "\n",
        "Después de resolver este sistema, encontramos los coeficientes de los $S\\left(x\\right)_{i}\\:i=1,2,3$ que se buscaban inicialmente.\n",
        "\n",
        "Dichos valores son\n",
        "\n",
        "$$\\begin{array}{ccc}\n",
        "a_{1}=0\\quad & a_{2}=0.64 & a_{3}=-1.6\\\\\n",
        "b_{1}=-1\\quad & b_{2}=-6.76 & b_{3}=24.6\\\\\n",
        "c_{1}=5.5\\quad & c_{2}=18.46 & c_{3}=-91.3\n",
        "\\end{array}$$\n",
        "\n",
        "Así que usando estos valores, el spline cuadrático natural que interpola los datos de este ejemplo es\n",
        "\n",
        "$$S\\left(x\\right)=\\begin{cases}\n",
        "-x+5.5 & si\\,x\\in\\left[3,4.5\\right]\\\\\n",
        "0.64x^{2}-6.76x+18.46 & si\\,x\\in\\left[4.5,7\\right]\\\\\n",
        "-1.6x^{2}+24.6x-91.3 & si\\,x\\in\\left[7,9\\right]\n",
        "\\end{cases}$$\n",
        "\n",
        "### Splines Cúbicos.\n",
        "\n",
        "Para que el spline sea mas 'suave' sera **necesario la existencia de la primera y segunda derivada** de dicho spline, por lo que ahora para realizar la interpolación por partes sera necesario tomar el polinomio general de grado 3, es decir\n",
        "\n",
        "$$S_{i}\\left(x\\right)=a_{i}x^{3}+b_{i}x^{2}+c_{i}x+d\\quad i=0,\\ldots,n-1$$\n",
        "\n",
        "En este caso vamos a tener cuatro variables por cada intervalo (a,b,c,d), y una nueva condición para cada punto común a dos intervalos, respecto a la derivada segunda.\n",
        "\n",
        "Para poder construir dichos polinomios, necesitamos pedir que se cumplan algunas de las condiciones previamente establecidas y un par mas. Las condiciones necesarias se enumeran a continuación.\n",
        "\n",
        "1. Condición de interpolación\n",
        "\n",
        " $$S_{i}\\left(x_{i}\\right)=f\\left(x_{i}\\right)\\quad i=0,\\ldots,n-1$$\n",
        "\n",
        "2. Condición de continuidad\n",
        "\n",
        "$$S_{i}\\left(x_{i+1}\\right)=f\\left(x_{i+1}\\right)\\quad i=0,\\ldots,n-1$$\n",
        "\n",
        "3. Condiciones de suavidad (nodos internos)\n",
        "\n",
        "$$a) S'_{i}\\left(x_{i}\\right)=S'_{i+1}\\left(x_{i}\\right)\\quad i=1,\\ldots,n-1$$\n",
        "\n",
        "$$b) S''_{i}\\left(x_{i}\\right)=S''_{i+1}\\left(x_{i}\\right)\\quad i=1,\\ldots,n-1$$\n",
        "\n",
        "De tal manera que con estas condiciones, tenemos un total de $4n-2$ ecuaciones.\n",
        "\n",
        "![pi](https://docs.google.com/uc?export=download&id=1A1ReOuru4wANZeJ6Fkys46aFwYBpfJ0T)\n",
        "\n",
        "Definimos un par de ecuaciones extras para que se complete el sistema de ecuaciones y se tenga un sistema de ecuaciones lineales de la forma $Ax=b$.\n",
        "\n",
        "$$S_{0}^{''}\\left(x_{0}\\right)=0\\,y\\,S_{n-1}^{''}\\left(x_{n}\\right)=0\\quad Spline\\,C\\acute{u}bico\\,Natural$$\n",
        "\n",
        "$$S_{0}^{'}\\left(x_{0}\\right)=f'\\left(x_{0}\\right)\\,y\\,S_{n-1}^{'}\\left(x_{n}\\right)=f'\\left(x_{n}\\right)\\quad Spline\\,C\\acute{u}bico\\,Sujeto$$\n",
        "\n",
        "### Construcción de Splines Cúbicos Naturales.\n",
        "\n",
        "Si tomamos $S\\left(x_{i}\\right)=z_{i}\\,para\\,0\\leq i\\leq n\\,sobre\\,\\left[x_{i},x_{i+1}\\right]$, tenemos que $S_{i}^{''}\\left(x\\right)$ es una interpolación lineal y considerando que por construcción $S_{i}^{''}\\left(x_{i+1}\\right)=z_{i+1}$. Podemos escribir $S_{i}^{''}\\left(x\\right)=\\frac{x-x_{i+1}}{x_{i}-x_{i+1}}z_{i}+\\frac{x-x_{i}}{x_{i+1}-x_{i}}z_{i+1}$\n",
        "\n",
        "Si integramos $S_{i}^{''}\\left(x\\right)$ dos veces, obtenemos $S_{i}\\left(x\\right)=\\frac{z_{i}}{6h_{i}}\\left(x_{i+1}-x\\right)^{3}+\\frac{z_{i+1}}{6h_{i}}\\left(x-x_{i}\\right)^{3}+cx+d$\n",
        "\n",
        "Donde $h_{i}=x_{i+1}-x_{i}$ y c, d son las constantes de integración. Ahora podemos emplear las condiciones de interpolación y continuidad para obtener las siguientes ecuaciones\n",
        "\n",
        "$$\\begin{cases}\n",
        "h_{i}^{3}\\frac{z_{i}}{6h_{i}}+cx_{i}+d=f\\left(x_{i}\\right)=y_{i} & c=\\frac{y_{i+1}-y_{i}}{h_{i}}-\\frac{\\left(z_{i+1}-z_{i}\\right)}{6}h_{i}\\\\\n",
        "h_{i}^{3}\\frac{z_{i}}{6h_{i}}+cx_{i+1}+d=f\\left(x_{i+1}\\right)=y_{i+1} & d=\\frac{y_{i}x_{i+1}-y_{i+1}x_{i}}{h_{i}}+\\frac{x_{i}z_{i+1}-x_{i+1}z_{i}}{6}h_{i}\n",
        "\\end{cases}$$\n",
        "\n",
        "Remplazando en la ecuación (5), tenemos \n",
        "\n",
        "$$S_{i}\\left(x\\right)=\\frac{z_{i}}{6h_{i}}\\left(x_{i+1}-x\\right)^{3}+\\frac{z_{i+1}}{6h_{i}}\\left(x-x_{i}\\right)^{3}+\\left(\\frac{\\left(y_{i+1}-y_{i}\\right)}{hi}-\\frac{\\left(z_{i+1}-z_{i}\\right)}{6}h_{i}\\right)x\\frac{y_{i}x_{i+1}-y_{i+1}x_{i}}{h_{i}}+\\frac{x_{i}z_{i+1}-x_{i+1}z_{i}}{6}h_{i} \\tag{6}$$\n",
        "\n",
        "La ecuación (6) también es conocida como, la **forma general del Spline Cúbico**\n",
        "\n",
        "$$S_{i}\\left(x\\right)=\\frac{z_{i}}{6h_{i}}\\left(x_{i+1}-x\\right)^{3}+\\frac{z_{i+1}}{6h_{i}}\\left(x-x_{i}\\right)^{3}+\\left(\\frac{y_{i}}{h_{i}}-\\frac{z_{i}h_{i}}{6}\\right)\\left(x_{i+1}-x\\right)+\\left(\\frac{y_{i+1}}{h_{i}}-\\frac{z_{i+1}h_{i}}{6}\\right)\\left(x-x_{i}\\right)$$\n",
        "\n",
        "Para encontrar $z_{i}\\,y\\,z_{i+1}$ empleamos la primer condición de suavidad, por lo que al derivar y reemplazar en (6) obtenemos \n",
        "\n",
        "$$S_{i}^{'}\\left(x_{i}\\right)=-\\frac{1}{3}h_{i}z_{i}-\\frac{1}{6}h_{i}z_{i+1}+d_{i}$$ \n",
        "y\n",
        "\n",
        "$$S_{i-1}^{'}\\left(x_{i}\\right)=\\frac{1}{6}h_{i-1}z_{i-1}+\\frac{1}{3}h_{i-1}z_{i}+d_{i-1}$$\n",
        "\n",
        "con \n",
        "\n",
        "$$d_{i}=\\frac{y_{i+1}-y_{i}}{h_{i}}\\quad y\\quad d_{i-1}=\\frac{y_{i}-y_{i-1}}{h_{i-1}}$$\n",
        "\n",
        "Finalmente, dado que $S_{i-1}^{'}\\left(x_{i}\\right)=S_{i}^{'}\\left(x_{i}\\right)$ tenemos la siguiente ecuación para $i=1,\\ldots,n-1$\n",
        "\n",
        "$$h_{i-1}z_{i-1}+2\\left(h_{i-1}+h_{i}\\right)z_{i}+h_{i}z_{i+1}=6\\left(d_{i}-d_{i-1}\\right) \\tag{7}$$\n",
        "\n",
        "La ecuación (7) se deriva de (6) y es con esta ecuación que se genera un sistema de ecuaciones mediante el cual podemos encontrar los coeficientes de los Splines.\n",
        "\n",
        "Para el caso del Spline Cúbico natural $z_{o}=z_{n}=0$ la ecuación (6) nos conduce a un sistema de ecuaciones, simétrico, tridiagonal, diagonal dominante, de la forma siguiente\n",
        "\n",
        "$$\\left(\\begin{array}{ccccccc}\n",
        "u_{1} & h_{1} & 0 & 0 & 0 & \\cdots & 0\\\\\n",
        "h_{1} & u_{2} & h_{3} & 0 & 0 & \\cdots & 0\\\\\n",
        "0 & h_{2} & u_{3} & h_{3} & 0 & \\cdots & \\vdots\\\\\n",
        "\\vdots & \\vdots & \\ddots & \\ddots & \\ddots & \\ddots & \\vdots\\\\\n",
        "0 & 0 & \\cdots & 0 & h_{n-3} & u_{n-2} & h_{n-2}\\\\\n",
        "0 & 0 & \\cdots & 0 & 0 & h_{n-2} & u_{n-1}\n",
        "\\end{array}\\right)\\left(\\begin{array}{c}\n",
        "z_{1}\\\\\n",
        "z_{2}\\\\\n",
        "\\vdots\\\\\n",
        "z_{n-2}\\\\\n",
        "z_{n-1}\n",
        "\\end{array}\\right)=\\left(\\begin{array}{c}\n",
        "v_{1}\\\\\n",
        "v_{2}\\\\\n",
        "\\vdots\\\\\n",
        "v_{n-2}\\\\\n",
        "v_{n-1}\n",
        "\\end{array}\\right) \\tag{8}$$\n",
        "\n",
        "Donde\n",
        "\n",
        "$$\\begin{cases}\n",
        "h_{i} & =x_{i+1}-x_{i}\\\\\n",
        "u_{i} & =\\frac{2}{6}\\left(h_{i}+h_{i-1}\\right)\\\\\n",
        "d_{i} & =\\frac{y_{i+1}-y_{i}}{h_{i}},\\,y_{i}=f\\left(x_{i}\\right)\\\\\n",
        "v_{i} & =6\\left(d_{i}-d_{i-1}\\right)\n",
        "\\end{cases}$$\n",
        "\n",
        "$\\color{green}{Ejemplo.}$\n",
        "Sea el siguiente conjunto de datos.\n",
        "\n",
        "| X | 8 |11| 15 |18|22| \n",
        "| :-:  | :-: | :-: |  :-: | :-: | :-: | \n",
        "| Y  | 5 | 9|10|8 |7|\n",
        "\n",
        "1. Determine el spline cúbico natural que ajusta los datos.\n",
        "\n",
        "2. Use el spline calculado en (1) para encontrar el valor interpolado en $x=12.7$.\n",
        "\n",
        "**Solución**: \n",
        "\n",
        "Tenemos que $n=5$, y son 4 splines $\\left(i=1,\\ldots,4\\right)$. La ecuación cúbica en el i-ésimo spline es \n",
        "\n",
        "$$S_{i}\\left(x\\right)=\\frac{z_{i}}{6h_{i}}\\left(x_{i+1}-x\\right)^{3}+\\frac{z_{i+1}}{6h_{i}}\\left(x-x_{i}\\right)^{3}+\\left(\\frac{y_{i}}{h_{i}}-\\frac{z_{i}h_{i}}{6}\\right)\\left(x_{i+1}-x\\right)+\\left(\\frac{y_{i+1}}{h_{i}}-\\frac{z_{i+1}h_{i}}{6}\\right)\\left(x-x_{i}\\right)$$\n",
        "\n",
        "Para $x_{i}\\leq x\\leq x_{i+1}$, con $i=1,\\ldots,n-1$ donde $h_{i}=x_{i+1}-x_{i}$ que es la distancia del i-ésimo intervalo. Para encontrar los coeficientes intermedios $z_{i}$ se emplea la ecuación (7)\n",
        "\n",
        "$$h_{i-1}z_{i-1}+2\\left(h_{i-1}+h_{i}\\right)z_{i}+h_{i}z_{i+1}=6\\left(d_{i}-d_{i-1}\\right)$$\n",
        "\n",
        "Como se pidió el spline cúbico natural, entonces $z_{1}=z_{5}=0$ y los valores de $h_{i}$ son\n",
        "\n",
        "$$\\begin{array}{cc}\n",
        "h_{1}=x_{2}-x_{1}=11-8=3 & h_{2}=x_{3}-x_{2}=15-11=4\\\\\n",
        "h_{3}=x_{4}-x_{3}=18-15=3 & h_{4}=x_{5}-x_{4}=22-18=4\n",
        "\\end{array}$$\n",
        "\n",
        "Substituyendo estos valores en (8), para $i=1,2,3$ se obtiene el siguiente sistema de ecuaciones\n",
        "\n",
        "$$\\begin{array}{c}\n",
        "14z_{2}+4z_{3}=-6.5\\\\\n",
        "4z_{2}+14z_{3}+3z_{4}=-5.5\\\\\n",
        "3z_{3}+14z_{4}=-5.5\n",
        "\\end{array}$$\n",
        "\n",
        "Resolviendo el sistema de ecuaciones con alguno de los métodos conocidos, se encuentran los coeficientes del spline \n",
        "\n",
        "$$z_{2}=-0.4067,\\,z_{3}=-0.2018,\\,z_{4}=-0.3497$$\n",
        "\n",
        "una vez encontrados dichos coeficientes, se substituyen en $S_{2}\\left(x\\right)$, ya que ese el intervalo que se requiere evaluar \n",
        "\n",
        "$$S_{2}\\left(x\\right)=\\left(-0.01694\\right)\\left(15-x\\right)^{3}+\\left(-0.00846\\right)\\left(x-11\\right)^{3}+2.3178\\left(15-x\\right)+2.5533\\left(x-11\\right)\\,11\\leq x\\leq15 $$\n",
        "\n",
        "Finalmente para responder b) se evaluá $x=12.7$ en $S_{2}\\left(x\\right)$ y se obtiene $S_{2}\\left(12.7\\right)=9.424$\n",
        "\n",
        "![pi](https://docs.google.com/uc?export=download&id=1sHJxqSU_IXNfcUIhJbPI4IOj_OWIey9g)\n",
        "\n",
        "![pi](https://docs.google.com/uc?export=download&id=1tccR4Jk3Rn9fUBkfB6y3mievOlX-kPXQ)\n",
        "\n",
        "![pi](https://docs.google.com/uc?export=download&id=1cr7r4hWTfhVc8Mt_osw80o7RlhTQSjCd)"
      ]
    },
    {
      "cell_type": "markdown",
      "metadata": {
        "id": "UPf8PGikN-1f"
      },
      "source": [
        "#  Referencias\n",
        "\n",
        "*   Riswan Butt, Numerical Analysys Using Matlab, Jones and Bartlett.\n",
        "*   Ward Cheney, David Kincaid, Métodos Numéricos y Computación, Cenage Learning.\n",
        "*   Richard L. Burden, J. Douglas Faires, Análisis Numérico, Math Learning.\n",
        "*   Yuri N. Skiba, Introducción a los Métodos Numéricos."
      ]
    }
  ]
}