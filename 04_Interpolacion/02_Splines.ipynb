{
  "nbformat": 4,
  "nbformat_minor": 0,
  "metadata": {
    "colab": {
      "name": "02_Splines.ipynb",
      "provenance": [],
      "toc_visible": true,
      "authorship_tag": "ABX9TyNKtJ8lYsZn1outMDgeI3ue",
      "include_colab_link": true
    },
    "kernelspec": {
      "name": "python3",
      "display_name": "Python 3"
    }
  },
  "cells": [
    {
      "cell_type": "markdown",
      "metadata": {
        "id": "view-in-github",
        "colab_type": "text"
      },
      "source": [
        "<a href=\"https://colab.research.google.com/github/jugernaut/Numerico2021/blob/desarrollo/04_Interpolacion/02_Splines.ipynb\" target=\"_parent\"><img src=\"https://colab.research.google.com/assets/colab-badge.svg\" alt=\"Open In Colab\"/></a>"
      ]
    },
    {
      "cell_type": "markdown",
      "metadata": {
        "id": "wXSdMY-R3hny"
      },
      "source": [
        "<font color=\"Teal\" face=\"Comic Sans MS,arial\">\n",
        "  <h1 align=\"center\"><i>Interpolación por partes (Splines)</i></h1>\n",
        "  </font>\n",
        "  <font color=\"Black\" face=\"Comic Sans MS,arial\">\n",
        "  <h5 align=\"center\"><i>Profesor: M.en.C. Miguel Ángel Pérez León.</i></h5>\n",
        "    <h5 align=\"center\"><i>Ayudante: Jesús Iván Coss Calderón.</i></h5>\n",
        "  <h5 align=\"center\"><i>Materia: Análisis Numérico.</i></h5>\n",
        "  </font>"
      ]
    },
    {
      "cell_type": "markdown",
      "metadata": {
        "id": "UdSUVg0fNCxN"
      },
      "source": [
        "# Introducción\n",
        "\n",
        "En secciones previas, se mostró como era posible construir polinomios tan 'precisos' como se necesitara. Estos polinomios funcionan bien en la mayoría de los casos. \n",
        "\n",
        "Sin embargo hay situaciones en las cuales un polinomio no es suficiente, es por este motivo que surgen los 'splines' como alternativa a este problema.\n",
        "\n",
        "En su forma más sencilla, son conocidos como **splines lineales**, son funciones continuas, que restringidas a cada intervalo de la partición $A$, son rectas."
      ]
    },
    {
      "cell_type": "markdown",
      "metadata": {
        "id": "pv34b5WB2PKL"
      },
      "source": [
        "#  Splines lineales\n",
        "\n",
        "Por ejemplo, gráficamente el spline $S\\left(x\\right)$ que interpola linealmente a la función $f$ en los puntos $x_{0},x_{1},\\ldots,x_{n}$ es la poligonal que une los puntos $\\left(x_{i},f\\left(x_{i}\\right)\\right)\\quad i=0,\\ldots,n.$\n",
        "\n",
        "La idea es encontrar $S_{i}\\left(x\\right)$ (splines) con $i=1,\\ldots,n-1$ que interpolan a la función $f\\left(x\\right)$ en el intervalo $\\left[x_{i},x_{i+1}\\right]$.\n",
        "\n",
        "Esta serie de funciones van a ser lineales, es decir de grado 1, con forma $$S_{i}\\left(x\\right)=ax+b$$\n",
        "\n",
        "Entonces (considerando la ecuación de la recta que pasa por 2 puntos) tenemos que la **forma general del Spline Lineal** $S\\left(x\\right)$ se define de la siguiente manera\n",
        "\n",
        "$$S_{i}\\left(x\\right)=f\\left(x_{i}\\right)+\\frac{f\\left(x_{i+1}\\right)-f\\left(x_{i}\\right)}{x_{i+1}-x_{i}}\\left(x-x_{i}\\right)\\quad x\\in\\left[x_{i},x_{i+1}\\right]$$\n",
        "\n",
        "Esta forma de spline es útil, sin embargo la idea es que $S\\left(x\\right)$ sea mas 'suave' en todos los puntos que un polinomio.\n",
        "\n",
        "Se definirá una de estas funciones $S_{i}\\left(x\\right)$ por cada par de puntos adyacentes, hasta que se tenga un total de $n-1$ funciones. Y forzando a cada una de estas a pasar obligatoriamente por los puntos que van a determinarlas.\n",
        "\n",
        "Es decir que la función $S\\left(x\\right)$ sera el conjunto de funciones $S_{i}\\left(x\\right)\\,i=1,\\ldots,n-1$ que une puntos consecutivos; es por ello que $S\\left(x\\right)$ sera continua en dichos puntos, pero no derivable en general."
      ]
    },
    {
      "cell_type": "markdown",
      "metadata": {
        "id": "i_9Fue_POL2I"
      },
      "source": [
        "## Ejemplo\n",
        "\n",
        "Interpolar $f\\left(x\\right)=\\frac{1}{x}$ en los valores de $x = 1, 2$ y $4$.\n",
        "\n",
        "**Solución**: \n",
        "\n",
        "Lo primero es encontrar los valores de $f$ evaluada en los puntos necesarios.\n",
        "\n",
        "$$f\\left(1\\right)=1,\\quad f\\left(2\\right)=0.5,\\quad f\\left(4\\right)=0.25$$\n",
        "\n",
        "El primer spline $S_{0}\\left(x\\right)=ax+b$ deberá unir los 2 primeros pares de coordenadas $\\left(1,1\\right),\\left(2,0.5\\right)$. De manera tal que surge un sistema lineal de 2 ecuaciones con 2 incógnitas.\n",
        "\n",
        "$$Sistema1 = \\begin{cases}\n",
        "& a+b=1\\\\\n",
        "& 2a+b=0.5\n",
        "\\end{cases}$$\n",
        "\n",
        "Empleando cualquier método de los vistos para resolver este tipos de sistemas $(A\\vec{x}=\\vec{b})$ podemos ver que los valores que satisfacen dicho sistema son \n",
        "\n",
        "$$a=-0.5\\quad y\\quad b=1.5$$\n",
        "\n",
        "Por lo que podemos concluir que el primer spline es el siguiente\n",
        "\n",
        "$$S_{0}\\left(x\\right)=-0.5x+1.5$$\n",
        "\n",
        "De manera análoga podemos calcular $S_{1}\\left(x\\right)=ax+b$ para el siguiente par de puntos $\\left(2,0.5\\right),\\left(4,0.25\\right)$, resolviendo el siguiente sistema $(A\\vec{x}=\\vec{b})$. \n",
        "\n",
        "$$Sistema2 = \\begin{cases}\n",
        "& 2a+b=0.5\\\\\\\n",
        "& 4a+b=0.25\n",
        "\\end{cases}$$\n",
        "\n",
        "De lo cual se puede concluir que \n",
        "\n",
        "$$a=-0.125\\quad y\\quad b=0.75$$ \n",
        "\n",
        "Por lo que el segundo spline tiene la forma \n",
        "\n",
        "$$S_{1}\\left(x\\right)=-0.125x+0.75$$\n",
        "\n",
        "De manera general, el spline lineal asociado a este ejemplo es\n",
        "\n",
        "$$S\\left(x\\right)=\\begin{cases}\n",
        "S_{0}\\left(x\\right)=-0.5x+1.5 & x\\in\\left[1,2\\right]\\\\\n",
        "S_{1}\\left(x\\right)=-0.125x+0.75 & x\\in\\left[2,4\\right]\n",
        "\\end{cases}$$\n",
        "\n",
        "¡Valida el resultado empleando la forma general del spline lineal!"
      ]
    },
    {
      "cell_type": "code",
      "metadata": {
        "id": "wwG1EIa_Unfo",
        "colab": {
          "base_uri": "https://localhost:8080/",
          "height": 497
        },
        "outputId": "ef6fc7b4-0abd-41b3-e013-f8b514b472f0"
      },
      "source": [
        "import numpy as np\n",
        "import matplotlib.pyplot as plt\n",
        "%matplotlib inline\n",
        "# definicion del sistema S1 de ecuaciones\n",
        "A = np.matrix([[1., 1.],[2.,1.]] )\n",
        "b = np.array([1.,0.5])\n",
        "print(\"Matriz A : \\n\",A)\n",
        "print(\"Vector b : \\n\", b)\n",
        "# solucion del sistema empleando numpy\n",
        "sol1 = np.linalg.solve(A,b)\n",
        "print(\"Solucion del primer sistema: \", sol1)\n",
        "# definicion del sistema S2 de ecuaciones\n",
        "A = np.matrix([[2., 1.],[4.,1.]] )\n",
        "b = np.array([0.5,0.25])\n",
        "print(\"Matriz A : \\n\",A)\n",
        "print(\"Vector b : \\n\", b)\n",
        "# solucion del sistema empleando numpy\n",
        "sol2 = np.linalg.solve(A,b)\n",
        "print(\"Solucion del segundo sistema: \", sol2)\n",
        "# dominio de S1\n",
        "x1 = np.linspace(1,2,10)\n",
        "# dominio de S2\n",
        "x2 = np.linspace(2,4,10)\n",
        "# definicion de las rectas\n",
        "y1 = sol1[0] * x1 + sol1[1]\n",
        "y2 = sol2[0] * x2 + sol2[1] \n",
        "# se grafican ambas rectas\n",
        "plt.plot(x1, y1, label = '$S_1$', color='crimson')\n",
        "plt.plot(x2, y2, label = '$S_2$', color='b' )\n",
        "#plt.plot(sol[0],sol[1],'ro')\n",
        "plt.xlabel('$x$')\n",
        "plt.ylabel('$y$')\n",
        "plt.title('Spline Lineal')\n",
        "plt.grid()\n",
        "plt.legend()\n",
        "plt.show()"
      ],
      "execution_count": 1,
      "outputs": [
        {
          "output_type": "stream",
          "text": [
            "Matriz A : \n",
            " [[1. 1.]\n",
            " [2. 1.]]\n",
            "Vector b : \n",
            " [1.  0.5]\n",
            "Solucion del primer sistema:  [-0.5  1.5]\n",
            "Matriz A : \n",
            " [[2. 1.]\n",
            " [4. 1.]]\n",
            "Vector b : \n",
            " [0.5  0.25]\n",
            "Solucion del segundo sistema:  [-0.125  0.75 ]\n"
          ],
          "name": "stdout"
        },
        {
          "output_type": "display_data",
          "data": {
            "image/png": "[encoded data removed]",
            "text/plain": [
              "<Figure size 432x288 with 1 Axes>"
            ]
          },
          "metadata": {
            "tags": [],
            "needs_background": "light"
          }
        }
      ]
    },
    {
      "cell_type": "markdown",
      "metadata": {
        "id": "o-Y0ImDdOhj3"
      },
      "source": [
        "# Splines Cuadráticos\n",
        "\n",
        "En este caso los splines $S_{i}\\left(x\\right)$ se construyen a través de los polinomios de grado 2, definidos sobre en los valores $x_{0},x_{1},\\ldots,x_{n}$ y los puntos $\\left(x_{0},f\\left(x_{0}\\right)\\right),\\ldots,\\left(x_{n},f\\left(x_{n}\\right)\\right)$, es decir \n",
        "\n",
        "$$S_{i}\\left(x\\right)=a_{i}x^{2}+b_{i}x+c_{i}\\quad i=0,\\ldots,n-1$$\n",
        "\n",
        "De igual manera que en la interpolación lineal se tendrá un total de $n-1$ ecuaciones, donde $n$ es el numero de puntos sobre los cuales se define el spline.\n",
        "\n",
        "La interpolación cuadrática nos va a asegurar que la función que nosotros generemos por partes con los distintos $S_{i}\\left(x\\right)$ va a ser continua, y para eso vamos a definir un conjunto de condiciones:\n",
        "      \n",
        "*   **1) Condición de interpolacion**: esta condición asegura que los splines pase por los puntos dados, es decir.\n",
        "\n",
        "$$S_{i}\\left(x_{i}\\right)=f\\left(x_{i}\\right),\\quad i=0,\\ldots,n-1,\\quad S_{n-1}\\left(x_{n}\\right)=f\\left(x_{n}\\right)$$\n",
        "*   **2) Condiciones de continuidad (en nodos internos)**: con esta cóndición nos aseguramos que los splines esten conectados.\n",
        "\n",
        "$$S_{i}\\left(x_{i+1}\\right)=S_{i+1}\\left(x_{i+1}\\right)\\quad i=0,\\ldots,n-2$$\n",
        "\n",
        "*   **3) Condiciones de suavidad (en nodos internos)**: mediante esta condición suavizamos los picos que se pudieran presentar en los splines.\n",
        "\n",
        "$$S_{i}'\\left(x_{i}\\right)=S'_{i+1}\\left(x_{i}\\right)\\quad i=1,\\ldots,n-1$$\n",
        "\n",
        "Esto sin embargo no es suficiente, y necesitamos una condición más, ya que por cada $S_{i}\\left(x\\right)$ tenemos 3 incógnitas $(a, b$ y $c)$ y por ejemplo para el caso sencillo de tener unicamente 3 puntos, se tendrían 6 incógnitas y solo 5 ecuaciones, tres que igualan $S_{i}\\left(x_{i}\\right)$ con el valor de $f\\left(x_{i}\\right)$ en ese punto (dos por cada intervalo), quinta y sexta de igualar $S'_{i}\\left(x_{i}\\right)$ y $S'_{i+1}\\left(x_{i}\\right)$ en el punto común. E incluso aun así, no se garantiza la suavidad de $S\\left(x\\right)$.\n",
        "\n"
      ]
    },
    {
      "cell_type": "markdown",
      "metadata": {
        "id": "coEriFCbPGRc"
      },
      "source": [
        "## Ejemplo\n",
        "\n",
        "Calcula el spline cuadrático natural, dados los siguientes datos.\n",
        "\n",
        "| X | 3 |4.5|  7 |9| \n",
        "| :-:  | :-: | :-: |  :-: | :-: | \n",
        "| Y  | 2.5 |1|2.5|0.5 |\n",
        "\n",
        "**Solución**: Hay que notar que se forman 3 intervalos y en cada uno de estos intervalos hay que definir un polinomio cuadrático que pase por cada uno de los puntos de la tabla de datos esto debido a la condición 1), es decir \n",
        "\n",
        "$$\\begin{array}{c}\n",
        "S_{0}\\left(3\\right)=2.5\\\\\n",
        "S_{1}\\left(4.5\\right)=1\\\\\n",
        "S_{2}\\left(7\\right)=2.5\\\\\n",
        "S_{3}\\left(9\\right)=0.5\n",
        "\\end{array}$$\n",
        "\n",
        "Por otro lado tomando en consideración la condición 2), tendríamos las siguientes ecuaciones \n",
        "\n",
        "$$\\begin{array}{ccccc}\n",
        "S_{0}\\left(3\\right) & \\overset{\\underbrace{cond.1)}}{=} & 2.5 & \\Rightarrow & \\left(3\\right)^{2}a_{1}+3b_{1}+c_{1}=2.5\\ldots..ec.1\\\\\n",
        "S_{1}\\left(4.5\\right) & \\overset{\\underbrace{cond.1)}}{=} & 1 & \\overset{\\underbrace{cond.2)}}{\\Rightarrow} & \\begin{cases}\n",
        "\\left(4.5\\right)^{2}a_{1}+4.5b_{1}+c_{1}=1\\ldots ec.2\\\\\n",
        "\\left(4.5\\right)^{2}a_{2}+4.5b_{2}+c_{2}=1\\ldots ec.3\n",
        "\\end{cases}\\\\\n",
        "S_{2}\\left(7\\right) & \\overset{\\underbrace{cond.1)}}{=} & 2.5 & \\overset{\\underbrace{cond.2)}}{\\Rightarrow} & \\begin{cases}\n",
        "\\left(7\\right)^{2}a_{2}+7b_{2}+c_{2}=2.5\\ldots\\ldots ec.4\\\\\n",
        "\\left(7\\right)^{2}a_{3}+7b_{3}+c_{3}=2.5\\ldots\\ldots ec.5\n",
        "\\end{cases}\\\\\n",
        "S_{3}\\left(9\\right) & \\overset{\\underbrace{cond.1)}}{=} & 0.5 & \\Rightarrow & \\left(9\\right)^{2}a_{3}+9b_{3}+c_{3}=0.5\\ldots ec.6\n",
        "\\end{array}$$\n",
        "\n",
        "Hasta este punto se tiene un total de 6 ecuaciones $\\left(S_{i}\\left(x\\right)\\;i=0,1,2,3\\right)$ con 9 incógnitas $\\left(a_{i},b_{i},c_{i}\\quad i=1,2,3\\right)$. En el caso de los splines cuadráticos, se pide que al spline se le pueda calcular la primer derivada.\n",
        "\n",
        "$$S'\\left(x\\right)=\\begin{cases}\n",
        "S'_{0}\\left(x\\right)=2a_{1}x+b_{1} & x\\in\\left[3,4.5\\right]\\\\\n",
        "S'_{1}\\left(x\\right)=2a_{2}x+b_{2} & x\\in\\left[4.5,7\\right]\\\\\n",
        "S'_{2}\\left(x\\right)=2a_{3}x+b_{3} & x\\in\\left[7,9\\right]\n",
        "\\end{cases}$$\n",
        "\n",
        "Hay que notar que dado que el spline esta formado por segmentos de curvas, se podrían presentar discontinuidades en los cambios de intervalo. Las posibles discontinuidades se podrían dar en $x_{1}=4.5$ y $x_{2}=7$, así que para que $S'\\left(x\\right)$ sea continua se debe cumplir la condición 3).\n",
        "\n",
        "$$\\begin{array}{ccccc}\n",
        "S'_{0}\\left(4.5\\right)=2a_{1}\\left(4.5\\right)+b_{1} & \\overset{\\underbrace{cond.3)}}{=} & 2a_{2}\\left(4.5\\right)+b_{2}=S'_{1}\\left(4.5\\right) & \\Rightarrow & 9a_{1}+b_{1}=9a_{2}+b_{2}\\ldots ec.7\\\\\n",
        "S'_{1}\\left(7\\right)=2a_{2}\\left(7\\right)+b_{2} & \\overset{\\underbrace{cond.3)}}{=} & 2a_{3}\\left(7\\right)+b_{3}=S'_{2}\\left(7\\right) & \\Rightarrow & 14a_{2}+b_{2}=14a_{3}+b_{3}\\ldots ec.8\n",
        "\\end{array}$$\n",
        "\n",
        "De tal manera que ahora tenemos un total de 8 ecuaciones con 9 incógnitas, esto nos permite elegir una de las variables igual a cero **(spline cuadrático natural)**, aunque si se tuviera más información sobre el problema se podría optar por otra estrategia. Podemos elegir por simplicidad ${\\color{blue}{a_{1}=0}}$.\n",
        "\n",
        "Finalmente podemos decir que tenemos un total de 8 ecuaciones con 8 incógnitas\n",
        "\n",
        "$$\\begin{array}{cc}\n",
        "3b_{1}+c_{1}=2.5\\quad & 49a_{3}+7b_{3}+c_{3}=2.5\\\\\n",
        "4.5b_{1}+c_{1}=1\\quad & 81a_{3}+8b_{3}+c_{3}=0.5\\\\\n",
        "20.25a_{2}+4.5b_{2}+c_{2}=1\\quad & b_{1}=9a_{2}+b_{2}\\\\\n",
        "49a_{2}+7b_{2}+c_{2}=2.5 & 14a_{2}+b_{2}=14a_{3}+b_{3}\n",
        "\\end{array}$$\n",
        "\n",
        "Este conjunto de ecuaciones forman un sistema del tipo $A\\vec{x}=\\vec{b}$, que se ve de la siguiente manera\n",
        "\n",
        "$$\\left(\\begin{array}{cccccccc}\n",
        "3 & 1 & 0 & 0 & 0 & 0 & 0 & 0\\\\\n",
        "4.5 & 1 & 0 & 0 & 0 & 0 & 0 & 0\\\\\n",
        "0 & 0 & 20.25 & 4.5 & 1 & 0 & 0 & 0\\\\\n",
        "0 & 0 & 49 & 7 & 1 & 0 & 0 & 0\\\\\n",
        "0 & 0 & 0 & 0 & 0 & 49 & 7 & 1\\\\\n",
        "0 & 0 & 0 & 0 & 0 & 81 & 9 & 1\\\\\n",
        "1 & 0 & -9 & -1 & 0 & 0 & 0 & 0\\\\\n",
        "0 & 0 & 14 & 1 & 0 & -14 & -1 & 0\n",
        "\\end{array}\\right)\\left(\\begin{array}{c}\n",
        "b_{1}\\\\\n",
        "c_{1}\\\\\n",
        "a_{2}\\\\\n",
        "b_{2}\\\\\n",
        "c_{2}\\\\\n",
        "a_{3}\\\\\n",
        "b_{3}\\\\\n",
        "c_{3}\n",
        "\\end{array}\\right)=\\left(\\begin{array}{c}\n",
        "2.5\\\\\n",
        "1\\\\\n",
        "1\\\\\n",
        "2.5\\\\\n",
        "2.5\\\\\n",
        "0.5\\\\\n",
        "0\\\\\n",
        "0\n",
        "\\end{array}\\right)$$\n",
        "\n",
        "Después de resolver este sistema, encontramos los coeficientes de los $S\\left(x\\right)_{i}\\:i=0,1,2$ que se buscaban inicialmente.\n",
        "\n",
        "Dichos valores son\n",
        "\n",
        "$$\\begin{array}{ccc}\n",
        "a_{1}=0\\quad & a_{2}=0.64 & a_{3}=-1.6\\\\\n",
        "b_{1}=-1\\quad & b_{2}=-6.76 & b_{3}=24.6\\\\\n",
        "c_{1}=5.5\\quad & c_{2}=18.46 & c_{3}=-91.3\n",
        "\\end{array}$$\n",
        "\n",
        "Así que usando estos valores, el spline cuadrático natural que interpola los datos de este ejemplo es\n",
        "\n",
        "$$S\\left(x\\right)=\\begin{cases}\n",
        "-x+5.5 & si\\,x\\in\\left[3,4.5\\right]\\\\\n",
        "0.64x^{2}-6.76x+18.46 & si\\,x\\in\\left[4.5,7\\right]\\\\\n",
        "-1.6x^{2}+24.6x-91.3 & si\\,x\\in\\left[7,9\\right]\n",
        "\\end{cases}$$\n"
      ]
    },
    {
      "cell_type": "code",
      "metadata": {
        "id": "rydpZ9rAPUVi",
        "colab": {
          "base_uri": "https://localhost:8080/",
          "height": 295
        },
        "outputId": "c85de693-0b0c-4fc9-ec06-5f468da18fe4"
      },
      "source": [
        "# dominio de S1\n",
        "x1 = np.linspace(3.,4.5,10)\n",
        "# dominio de S2\n",
        "x2 = np.linspace(4.5,7.,10)\n",
        "# dominio de S3\n",
        "x3 = np.linspace(7.,9.,10)\n",
        "# definicion de las curvas\n",
        "y1 = -x1 + 5.5\n",
        "y2 = 0.64*x2**(2)-6.76*x2+18.46\n",
        "y3 = -1.6*x3**(2)+24.6*x3-91.3\n",
        "# se grafican ambas rectas\n",
        "plt.plot(x1, y1, label = '$S_1$', color='crimson')\n",
        "plt.plot(x2, y2, label = '$S_2$', color='b' )\n",
        "plt.plot(x3, y3, label = '$S_2$', color='y' )\n",
        "#plt.plot(sol[0],sol[1],'ro')\n",
        "plt.xlabel('$x$')\n",
        "plt.ylabel('$y$')\n",
        "plt.title('Spline Cuadratico')\n",
        "plt.grid()\n",
        "plt.legend()\n",
        "plt.show()"
      ],
      "execution_count": null,
      "outputs": [
        {
          "output_type": "display_data",
          "data": {
            "image/png": "[encoded data removed]",
            "text/plain": [
              "<Figure size 432x288 with 1 Axes>"
            ]
          },
          "metadata": {
            "tags": [],
            "needs_background": "light"
          }
        }
      ]
    },
    {
      "cell_type": "markdown",
      "metadata": {
        "id": "2F4nh1heOnZU"
      },
      "source": [
        "# Splines Cúbicos\n",
        "\n",
        "Para que el spline sea mas 'suave' sera **necesario la existencia de la primera y segunda derivada** de dicho spline, por lo que ahora para realizar la interpolación por partes sera necesario tomar el polinomio general de grado 3, es decir\n",
        "\n",
        "$$S_{i}\\left(x\\right)=a_{i}x^{3}+b_{i}x^{2}+c_{i}x+d\\quad i=0,\\ldots,n-1$$\n",
        "\n",
        "En este caso vamos a tener cuatro variables por cada intervalo $(a,b,c,d)$, y una nueva condición para cada punto común a dos intervalos, respecto a la derivada segunda.\n",
        "\n",
        "Para poder construir dichos polinomios, necesitamos pedir que se cumplan algunas de las condiciones previamente establecidas y un par mas. Las condiciones necesarias se enumeran a continuación:\n",
        "\n",
        "*   1) Condición de interpolación:\n",
        "$$S_{i}\\left(x_{i}\\right)=f\\left(x_{i}\\right)\\quad i=0,\\ldots,n-1$$\n",
        "\n",
        "*   2) Condición de continuidad (nodos internos):\n",
        "\n",
        "$$S_{i}\\left(x_{i+1}\\right)=S_{i+1}\\left(x_{i+1}\\right)\\quad i=0,\\ldots,n-1$$\n",
        "\n",
        "*   3) Condiciones de suavidad (nodos internos)\n",
        "\n",
        "$$1) S'_{i}\\left(x_{i}\\right)=S'_{i+1}\\left(x_{i}\\right)\\quad i=1,\\ldots,n-1$$\n",
        "\n",
        "$$2) S''_{i}\\left(x_{i}\\right)=S''_{i+1}\\left(x_{i}\\right)\\quad i=1,\\ldots,n-1$$\n",
        "\n",
        "De tal manera que con estas condiciones, tenemos un total de $4n-2$ ecuaciones.\n",
        "\n",
        "<img src=\"https://github.com/jugernaut/Numerico2021/blob/desarrollo/Figuras/interpolacion/ecuaciones.PNG?raw=1\" width=\"600\">\n",
        "\n",
        "Definimos un par de ecuaciones extras para que se complete el sistema de ecuaciones y se tenga un sistema de ecuaciones lineales de la forma $Ax=b$.\n",
        "\n",
        "$S_{0}^{''}\\left(x_{0}\\right)=0\\,$ y $\\,S_{n-1}^{''}\\left(x_{n}\\right)=0\\quad Spline\\,C\\acute{u}bico\\,Natural$\n",
        "\n",
        "$S_{0}^{'}\\left(x_{0}\\right)=f'\\left(x_{0}\\right)\\,$ y $\\,S_{n-1}^{'}\\left(x_{n}\\right)=f'\\left(x_{n}\\right)\\quad Spline\\,C\\acute{u}bico\\,Sujeto$"
      ]
    },
    {
      "cell_type": "markdown",
      "metadata": {
        "id": "WvAgphBSRqvy"
      },
      "source": [
        "### Construcción de Splines Cúbicos Naturales\n",
        "\n",
        "Si tomamos $S\\left(x_{i}\\right)=z_{i}$ para $\\,0\\leq i\\leq n$ sobre $\\left[x_{i},x_{i+1}\\right]$, tenemos que $S_{i}^{''}\\left(x\\right)$ es una interpolación lineal y considerando que por construcción $S_{i}^{''}\\left(x_{i+1}\\right)=z_{i+1}$. Podemos escribir a $S_{i}^{''}$ así\n",
        "\n",
        "$$S_{i}^{''}\\left(x\\right)=\\frac{x-x_{i+1}}{x_{i}-x_{i+1}}z_{i}+\\frac{x-x_{i}}{x_{i+1}-x_{i}}z_{i+1}$$\n",
        "\n",
        "Si integramos $S_{i}^{''}\\left(x\\right)$ dos veces, obtenemos\n",
        "\n",
        "$$S_{i}\\left(x\\right)=\\frac{z_{i}}{6h_{i}}\\left(x_{i+1}-x\\right)^{3}+\\frac{z_{i+1}}{6h_{i}}\\left(x-x_{i}\\right)^{3}+cx+d \\tag{5}$$\n",
        "\n",
        "Donde $h_{i}=x_{i+1}-x_{i}$ y $c, d$ son las constantes de integración. Ahora podemos emplear las condiciones de interpolación y continuidad para obtener las siguientes ecuaciones\n",
        "\n",
        "$$interpol.\\ y \\ cont.=\\begin{cases}\n",
        "h_{i}^{3}\\frac{z_{i}}{6h_{i}}+cx_{i}+d=f\\left(x_{i}\\right)=y_{i} & c=\\frac{y_{i+1}-y_{i}}{h_{i}}-\\frac{\\left(z_{i+1}-z_{i}\\right)}{6}h_{i}\\\\\n",
        "h_{i}^{3}\\frac{z_{i}}{6h_{i}}+cx_{i+1}+d=f\\left(x_{i+1}\\right)=y_{i+1} & d=\\frac{y_{i}x_{i+1}-y_{i+1}x_{i}}{h_{i}}+\\frac{x_{i}z_{i+1}-x_{i+1}z_{i}}{6}h_{i}\n",
        "\\end{cases}$$\n",
        "\n",
        "Remplazando en la ecuación $(5)$, tenemos \n",
        "\n",
        "$$S_{i}\\left(x\\right)=\\frac{z_{i}}{6h_{i}}\\left(x_{i+1}-x\\right)^{3}+\\frac{z_{i+1}}{6h_{i}}\\left(x-x_{i}\\right)^{3}+\\left(\\frac{\\left(y_{i+1}-y_{i}\\right)}{hi}-\\frac{\\left(z_{i+1}-z_{i}\\right)}{6}h_{i}\\right)x\\frac{y_{i}x_{i+1}-y_{i+1}x_{i}}{h_{i}}+\\frac{x_{i}z_{i+1}-x_{i+1}z_{i}}{6}h_{i} \\tag{6}$$\n",
        "\n",
        "La ecuación $(6)$ también es conocida como, la **forma general del Spline Cúbico**\n",
        "\n",
        "$$S_{i}\\left(x\\right)=\\frac{z_{i}}{6h_{i}}\\left(x_{i+1}-x\\right)^{3}+\\frac{z_{i+1}}{6h_{i}}\\left(x-x_{i}\\right)^{3}+\\left(\\frac{y_{i}}{h_{i}}-\\frac{z_{i}h_{i}}{6}\\right)\\left(x_{i+1}-x\\right)+\\left(\\frac{y_{i+1}}{h_{i}}-\\frac{z_{i+1}h_{i}}{6}\\right)\\left(x-x_{i}\\right)$$\n",
        "\n",
        "Para encontrar $z_{i}$ y $z_{i+1}$ empleamos la primer condición de suavidad, por lo que al derivar y reemplazar en $(6)$ obtenemos \n",
        "\n",
        "$$S_{i}^{'}\\left(x_{i}\\right)=-\\frac{1}{3}h_{i}z_{i}-\\frac{1}{6}h_{i}z_{i+1}+d_{i}$$ \n",
        "y\n",
        "\n",
        "$$S_{i-1}^{'}\\left(x_{i}\\right)=\\frac{1}{6}h_{i-1}z_{i-1}+\\frac{1}{3}h_{i-1}z_{i}+d_{i-1}$$\n",
        "\n",
        "con \n",
        "\n",
        "$$d_{i}=\\frac{y_{i+1}-y_{i}}{h_{i}}\\quad y\\quad d_{i-1}=\\frac{y_{i}-y_{i-1}}{h_{i-1}}$$\n",
        "\n",
        "Finalmente, dado que $S_{i-1}^{'}\\left(x_{i}\\right)=S_{i}^{'}\\left(x_{i}\\right)$ tenemos la siguiente ecuación para $i=1,\\ldots,n-1$\n",
        "\n",
        "$$h_{i-1}z_{i-1}+2\\left(h_{i-1}+h_{i}\\right)z_{i}+h_{i}z_{i+1}=6\\left(d_{i}-d_{i-1}\\right) \\tag{7}$$\n",
        "\n",
        "La ecuación $(7)$ se deriva de $(6)$ y es con esta ecuación que se genera un sistema de ecuaciones mediante el cual podemos encontrar los coeficientes de los Splines.\n",
        "\n",
        "Para el caso del Spline Cúbico natural $z_{0}=z_{n}=0$ la ecuación $(6)$ nos conduce a un sistema de ecuaciones, simétrico, tridiagonal, diagonal dominante, de la forma siguiente\n",
        "\n",
        "$$\\left(\\begin{array}{cccccc}\n",
        "u_{1} & h_{1} & 0 & 0 & \\cdots & 0\\\\\n",
        "h_{1} & u_{2} & h_{2} & 0 & \\cdots & 0\\\\\n",
        "0 & h_{2} & u_{3} & h_{3} & \\ddots & 0\\\\\n",
        "\\vdots & \\vdots & \\ddots & \\ddots & \\ddots & \\vdots\\\\\n",
        "0 & 0 & \\cdots & h_{n-3} & u_{n-2} & h_{n-2}\\\\\n",
        "0 & 0 & \\cdots & 0 & h_{n-2} & u_{n-1}\n",
        "\\end{array}\\right)\\left(\\begin{array}{c}\n",
        "z_{1}\\\\\n",
        "z_{2}\\\\\n",
        "\\vdots\\\\\n",
        "z_{n-2}\\\\\n",
        "z_{n-1}\n",
        "\\end{array}\\right)=\\left(\\begin{array}{c}\n",
        "v_{1}\\\\\n",
        "v_{2}\\\\\n",
        "\\vdots\\\\\n",
        "v_{n-2}\\\\\n",
        "v_{n-1}\n",
        "\\end{array}\\right) \\tag{8}$$\n",
        "\n",
        "Donde\n",
        "\n",
        "$$\\begin{cases}\n",
        "h_{i} & =x_{i+1}-x_{i}\\\\\n",
        "u_{i} & =\\frac{2}{6}\\left(h_{i}+h_{i-1}\\right)\\\\\n",
        "d_{i} & =\\frac{y_{i+1}-y_{i}}{h_{i}},\\,y_{i}=f\\left(x_{i}\\right)\\\\\n",
        "v_{i} & =6\\left(d_{i}-d_{i-1}\\right)\n",
        "\\end{cases}$$"
      ]
    },
    {
      "cell_type": "markdown",
      "metadata": {
        "id": "o7nz9izaSGDl"
      },
      "source": [
        "#### Ejemplo\n",
        "\n",
        "Sea el siguiente conjunto de datos.\n",
        "\n",
        "| X | 8 |11| 15 |18|22| \n",
        "| :-:  | :-: | :-: |  :-: | :-: | :-: | \n",
        "| Y  | 5 | 9|10|8 |7|\n",
        "\n",
        "1. Determine el spline cúbico natural que ajusta los datos.\n",
        "\n",
        "2. Use el spline calculado en $(1)$ para encontrar el valor interpolado en $x=12.7$.\n",
        "\n",
        "**Solución**: \n",
        "\n",
        "Tenemos que $n=5$, y son 4 splines $\\left(i=0,\\ldots,3\\right)$. La ecuación cúbica en el i-ésimo spline es \n",
        "\n",
        "$$S_{i}\\left(x\\right)=\\frac{z_{i}}{6h_{i}}\\left(x_{i+1}-x\\right)^{3}+\\frac{z_{i+1}}{6h_{i}}\\left(x-x_{i}\\right)^{3}+\\left(\\frac{y_{i}}{h_{i}}-\\frac{z_{i}h_{i}}{6}\\right)\\left(x_{i+1}-x\\right)+\\left(\\frac{y_{i+1}}{h_{i}}-\\frac{z_{i+1}h_{i}}{6}\\right)\\left(x-x_{i}\\right)$$\n",
        "\n",
        "Para $x_{i}\\leq x\\leq x_{i+1}$, con $i=0,\\ldots,n$ donde $h_{i}=x_{i+1}-x_{i}$ que es la distancia del i-ésimo intervalo. Para encontrar los coeficientes intermedios $z_{i}$ se emplea la ecuación $(7)$\n",
        "\n",
        "$$h_{i-1}z_{i-1}+2\\left(h_{i-1}+h_{i}\\right)z_{i}+h_{i}z_{i+1}=6\\left(d_{i}-d_{i-1}\\right)$$\n",
        "\n",
        "Como se pidió el spline cúbico natural, entonces $z_{0}=z_{4}=0$ y los valores de $h_{i}$ son\n",
        "\n",
        "$$\\begin{array}{cc}\n",
        "h_{0}=x_{1}-x_{0}=11-8=3 & h_{1}=x_{2}-x_{1}=15-11=4\\\\\n",
        "h_{2}=x_{3}-x_{2}=18-15=3 & h_{3}=x_{4}-x_{3}=22-18=4\n",
        "\\end{array}$$\n",
        "\n",
        "Substituyendo estos valores en (8), para $i=1,2,3$ se obtiene el siguiente sistema de ecuaciones\n",
        "\n",
        "$$\\begin{array}{c}\n",
        "14z_{2}+4z_{3}=-6.5\\\\\n",
        "4z_{2}+14z_{3}+3z_{4}=-5.5\\\\\n",
        "3z_{3}+14z_{4}=-5.5\n",
        "\\end{array}$$\n",
        "\n",
        "Resolviendo el sistema de ecuaciones con alguno de los métodos conocidos, se encuentran los coeficientes del spline \n",
        "\n",
        "$$z_{2}=-0.4067,\\,z_{3}=-0.2018,\\,z_{4}=-0.3497$$\n",
        "\n",
        "una vez encontrados dichos coeficientes, se substituyen en $S_{2}\\left(x\\right)$, ya que ese el intervalo que se requiere evaluar \n",
        "\n",
        "$$S_{2}\\left(x\\right)=\\left(-0.01694\\right)\\left(15-x\\right)^{3}+\\left(-0.00846\\right)\\left(x-11\\right)^{3}+2.3178\\left(15-x\\right)+2.5533\\left(x-11\\right)\\,11\\leq x\\leq15 $$\n",
        "\n",
        "Finalmente para responder b) se evaluá $x=12.7$ en $S_{2}\\left(x\\right)$ y se obtiene $S_{2}\\left(12.7\\right)=9.424$"
      ]
    },
    {
      "cell_type": "code",
      "metadata": {
        "id": "R6Em3BObpooU",
        "colab": {
          "base_uri": "https://localhost:8080/"
        },
        "outputId": "f07dbd08-e98e-4d6c-dc6c-dcd27aa91653"
      },
      "source": [
        "# datos\n",
        "x = [8.,\t11.,\t15.,\t18.,\t22.]\n",
        "y = [5., 9., 10., 8., 7.]\n",
        "\n",
        "A = np.array([[14., 4., 0.],[4., 14., 3.],[0., 3.,14.]])\n",
        "v = np.array([-6.5, -5.5, -5.5])\n",
        "\n",
        "print(np.linalg.solve(A, v))\n",
        "\n",
        "# componentes del sistema asociado al spline (ecuacion 8)\n",
        "h = [x[i+1]-x[i] for i in range(len(x)-1)]\n",
        "u = [1./3.*(h[i]+h[i-1]) for i in range(1,len(h))]\n",
        "d = [((y[i+1]-y[i])/h[i]) for i in range(len(y)-1)]\n",
        "v = [6.*(d[i]-d[i-1]) for i in range(1,len(d))]\n",
        "\n",
        "#print(h)\n",
        "#print(v)\n",
        "#print(d)\n",
        "\n",
        "# se construye el sistema de ecuaciones de la ecuacion 8\n",
        "# matriz de ceros para el sistema\n",
        "mat = np.zeros((3,3))\n",
        "n = len(mat)\n",
        "\n",
        "# es necesario llenar la matriz\n",
        "# primer renglon solo tiene 2 componentes\n",
        "mat[0] = [u[0],h[0],0.]\n",
        "for i in range(1,n-1):\n",
        "        mat[i] = [h[i], v[i+1], h[i+1]]\n",
        "# ultimo renglon solo tiene 2 componentes\n",
        "mat[n-1] = [0., u[n-1],h[n-1]]\n",
        "\n",
        "print(mat)\n",
        "\n",
        "# se resuelve el sistema de la ecuación 8\n",
        "z = np.linalg.solve(mat,v)\n",
        "\n",
        "print(z)\n",
        "\n",
        "spline = lambda x: ((-0.01694)*(15-x)**(3))+((-0.00846)*(x-11)**(3))+((2.3178)*(15-x))+((2.5533)*(x-11))"
      ],
      "execution_count": 19,
      "outputs": [
        {
          "output_type": "stream",
          "text": [
            "[-0.4066416  -0.20175439 -0.34962406]\n",
            "[[2.33333333 3.         0.        ]\n",
            " [4.         2.5        3.        ]\n",
            " [0.         2.33333333 3.        ]]\n",
            "[-1.97368421 -0.63157895  1.3245614 ]\n"
          ],
          "name": "stdout"
        }
      ]
    },
    {
      "cell_type": "code",
      "metadata": {
        "id": "Q4vxEqDbz63n",
        "colab": {
          "base_uri": "https://localhost:8080/",
          "height": 267
        },
        "outputId": "523626c6-32fa-4911-ef8f-13c62477456f"
      },
      "source": [
        "x = np.linspace(11, 15, 10)\n",
        "\n",
        "spline = lambda x: ((-0.01694)*(15-x)**(3))+((-0.00846)*(x-11)**(3))+((2.3178)*(15-x))+((2.5533)*(x-11))\n",
        "\n",
        "y = spline(x)\n",
        "x1= 12.7\n",
        "y1=spline(x1)\n",
        "\n",
        "plt.grid()\n",
        "plt.plot(x,y, label='$S_2$')\n",
        "plt.scatter(x=x1, y=y1, color='red', label='$S_2(12.07)=9.424$')\n",
        "plt.legend()\n",
        "\n",
        "plt.show()"
      ],
      "execution_count": 15,
      "outputs": [
        {
          "output_type": "display_data",
          "data": {
            "image/png": "[encoded data removed]",
            "text/plain": [
              "<Figure size 432x288 with 1 Axes>"
            ]
          },
          "metadata": {
            "tags": [],
            "needs_background": "light"
          }
        }
      ]
    },
    {
      "cell_type": "markdown",
      "metadata": {
        "id": "oniRCJqcpkPf"
      },
      "source": [
        "<img src=\"https://github.com/jugernaut/Numerico2021/blob/desarrollo/Figuras/interpolacion/pato.PNG?raw=1\" width=\"450\">\n",
        "\n",
        "<img src=\"https://github.com/jugernaut/Numerico2021/blob/desarrollo/Figuras/interpolacion/polinomio.PNG?raw=1\" width=\"450\">\n",
        "\n",
        "<img src=\"https://github.com/jugernaut/Numerico2021/blob/desarrollo/Figuras/interpolacion/cubico.PNG?raw=1\" width=\"450\">"
      ]
    },
    {
      "cell_type": "markdown",
      "metadata": {
        "id": "_AQHpP046Z6_"
      },
      "source": [
        "#  Referencias\n",
        "\n",
        "*   http://vpena.pag.alumnos.inf.utfsm.cl/ramos/ili286/splines.pdf\n",
        "*   Riswan Butt, Numerical Analysys Using Matlab, Jones and Bartlett.\n",
        "*   Ward Cheney, David Kincaid, Métodos Numéricos y Computación, Cenage Learning.\n",
        "*   Richard L. Burden, J. Douglas Faires, Análisis Numérico, Math Learning.\n",
        "*   Yuri N. Skiba, Introducción a los Métodos Numéricos.\n",
        "*   http://www4.ujaen.es/~angelcid/Archivos/An_Met_Num_INFORMATICA/Splines.pdf"
      ]
    }
  ]
}