{
  "nbformat": 4,
  "nbformat_minor": 0,
  "metadata": {
    "colab": {
      "name": "03_SeriesDeTaylor_interactive.ipynb",
      "provenance": [],
      "collapsed_sections": [],
      "include_colab_link": true
    },
    "kernelspec": {
      "display_name": "Python 3",
      "language": "python",
      "name": "python3"
    },
    "language_info": {
      "codemirror_mode": {
        "name": "ipython",
        "version": 3
      },
      "file_extension": ".py",
      "mimetype": "text/x-python",
      "name": "python",
      "nbconvert_exporter": "python",
      "pygments_lexer": "ipython3",
      "version": "3.7.6"
    },
    "widgets": {
      "application/vnd.jupyter.widget-state+json": {
        "f65f6244bcca4eb897ecb3ba0cf15302": {
          "model_module": "@jupyter-widgets/controls",
          "model_name": "VBoxModel",
          "state": {
            "_dom_classes": [
              "widget-interact"
            ],
            "_model_module": "@jupyter-widgets/controls",
            "_model_module_version": "1.5.0",
            "_model_name": "VBoxModel",
            "_view_count": null,
            "_view_module": "@jupyter-widgets/controls",
            "_view_module_version": "1.5.0",
            "_view_name": "VBoxView",
            "box_style": "",
            "children": [
              "IPY_MODEL_c745da64c70a46be82d8eb039bbac239",
              "IPY_MODEL_f5b31d3f2c5f4da7be14b6a7356f6c40",
              "IPY_MODEL_8e61b4136a5344c7bc22247df53458a3",
              "IPY_MODEL_921dd3c971104e20a34513f993e91528"
            ],
            "layout": "IPY_MODEL_098bc8fdc4ce4f34b07dc953b4ef4e5a"
          }
        },
        "098bc8fdc4ce4f34b07dc953b4ef4e5a": {
          "model_module": "@jupyter-widgets/base",
          "model_name": "LayoutModel",
          "state": {
            "_model_module": "@jupyter-widgets/base",
            "_model_module_version": "1.2.0",
            "_model_name": "LayoutModel",
            "_view_count": null,
            "_view_module": "@jupyter-widgets/base",
            "_view_module_version": "1.2.0",
            "_view_name": "LayoutView",
            "align_content": null,
            "align_items": null,
            "align_self": null,
            "border": null,
            "bottom": null,
            "display": null,
            "flex": null,
            "flex_flow": null,
            "grid_area": null,
            "grid_auto_columns": null,
            "grid_auto_flow": null,
            "grid_auto_rows": null,
            "grid_column": null,
            "grid_gap": null,
            "grid_row": null,
            "grid_template_areas": null,
            "grid_template_columns": null,
            "grid_template_rows": null,
            "height": null,
            "justify_content": null,
            "justify_items": null,
            "left": null,
            "margin": null,
            "max_height": null,
            "max_width": null,
            "min_height": null,
            "min_width": null,
            "object_fit": null,
            "object_position": null,
            "order": null,
            "overflow": null,
            "overflow_x": null,
            "overflow_y": null,
            "padding": null,
            "right": null,
            "top": null,
            "visibility": null,
            "width": null
          }
        },
        "c745da64c70a46be82d8eb039bbac239": {
          "model_module": "@jupyter-widgets/controls",
          "model_name": "DropdownModel",
          "state": {
            "_dom_classes": [],
            "_model_module": "@jupyter-widgets/controls",
            "_model_module_version": "1.5.0",
            "_model_name": "DropdownModel",
            "_options_labels": [
              "cos(x)",
              "sin(x)",
              "tan(x)",
              "exp(x)",
              "exp(-x**2)",
              "exp(x)*cos(3*x)",
              "log(x)",
              "3.14159265358979**x",
              "x**3 + x**2 + x"
            ],
            "_view_count": null,
            "_view_module": "@jupyter-widgets/controls",
            "_view_module_version": "1.5.0",
            "_view_name": "DropdownView",
            "description": "función",
            "description_tooltip": null,
            "disabled": false,
            "index": 0,
            "layout": "IPY_MODEL_952de66f35c440de9c2605baaeb4f888",
            "style": "IPY_MODEL_4accc7601ee64dd7b33d12354e08f402"
          }
        },
        "f5b31d3f2c5f4da7be14b6a7356f6c40": {
          "model_module": "@jupyter-widgets/controls",
          "model_name": "IntSliderModel",
          "state": {
            "_dom_classes": [],
            "_model_module": "@jupyter-widgets/controls",
            "_model_module_version": "1.5.0",
            "_model_name": "IntSliderModel",
            "_view_count": null,
            "_view_module": "@jupyter-widgets/controls",
            "_view_module_version": "1.5.0",
            "_view_name": "IntSliderView",
            "continuous_update": true,
            "description": "grado",
            "description_tooltip": null,
            "disabled": false,
            "layout": "IPY_MODEL_7a680ff8c9134fa59c3684ed13947032",
            "max": 16,
            "min": 0,
            "orientation": "horizontal",
            "readout": true,
            "readout_format": "d",
            "step": 1,
            "style": "IPY_MODEL_7e74340f66554208af1a90614027446f",
            "value": 2
          }
        },
        "8e61b4136a5344c7bc22247df53458a3": {
          "model_module": "@jupyter-widgets/controls",
          "model_name": "FloatSliderModel",
          "state": {
            "_dom_classes": [],
            "_model_module": "@jupyter-widgets/controls",
            "_model_module_version": "1.5.0",
            "_model_name": "FloatSliderModel",
            "_view_count": null,
            "_view_module": "@jupyter-widgets/controls",
            "_view_module_version": "1.5.0",
            "_view_name": "FloatSliderView",
            "continuous_update": true,
            "description": "xo",
            "description_tooltip": null,
            "disabled": false,
            "layout": "IPY_MODEL_84463213d4574587985bbaa2e988b6d1",
            "max": 3,
            "min": -3,
            "orientation": "horizontal",
            "readout": true,
            "readout_format": ".2f",
            "step": 0.2,
            "style": "IPY_MODEL_e6be216229f4439dada37cceeb616db3",
            "value": 1
          }
        },
        "921dd3c971104e20a34513f993e91528": {
          "model_module": "@jupyter-widgets/output",
          "model_name": "OutputModel",
          "state": {
            "_dom_classes": [],
            "_model_module": "@jupyter-widgets/output",
            "_model_module_version": "1.0.0",
            "_model_name": "OutputModel",
            "_view_count": null,
            "_view_module": "@jupyter-widgets/output",
            "_view_module_version": "1.0.0",
            "_view_name": "OutputView",
            "layout": "IPY_MODEL_0662a8cdbbab4d748e707dd6f2d94b31",
            "msg_id": "",
            "outputs": [
              {
                "image/png": "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\n",
                "metadata": {
                  "tags": []
                },
                "output_type": "display_data",
                "text/plain": "<Figure size 720x360 with 1 Axes>"
              },
              {
                "metadata": {
                  "tags": []
                },
                "output_type": "display_data",
                "text/plain": "-0.841470984807897*x - 0.27015115293407*(x - 1.0)**2 + 1.38177329067604"
              }
            ]
          }
        },
        "4accc7601ee64dd7b33d12354e08f402": {
          "model_module": "@jupyter-widgets/controls",
          "model_name": "DescriptionStyleModel",
          "state": {
            "_model_module": "@jupyter-widgets/controls",
            "_model_module_version": "1.5.0",
            "_model_name": "DescriptionStyleModel",
            "_view_count": null,
            "_view_module": "@jupyter-widgets/base",
            "_view_module_version": "1.2.0",
            "_view_name": "StyleView",
            "description_width": ""
          }
        },
        "952de66f35c440de9c2605baaeb4f888": {
          "model_module": "@jupyter-widgets/base",
          "model_name": "LayoutModel",
          "state": {
            "_model_module": "@jupyter-widgets/base",
            "_model_module_version": "1.2.0",
            "_model_name": "LayoutModel",
            "_view_count": null,
            "_view_module": "@jupyter-widgets/base",
            "_view_module_version": "1.2.0",
            "_view_name": "LayoutView",
            "align_content": null,
            "align_items": null,
            "align_self": null,
            "border": null,
            "bottom": null,
            "display": null,
            "flex": null,
            "flex_flow": null,
            "grid_area": null,
            "grid_auto_columns": null,
            "grid_auto_flow": null,
            "grid_auto_rows": null,
            "grid_column": null,
            "grid_gap": null,
            "grid_row": null,
            "grid_template_areas": null,
            "grid_template_columns": null,
            "grid_template_rows": null,
            "height": null,
            "justify_content": null,
            "justify_items": null,
            "left": null,
            "margin": null,
            "max_height": null,
            "max_width": null,
            "min_height": null,
            "min_width": null,
            "object_fit": null,
            "object_position": null,
            "order": null,
            "overflow": null,
            "overflow_x": null,
            "overflow_y": null,
            "padding": null,
            "right": null,
            "top": null,
            "visibility": null,
            "width": null
          }
        },
        "7e74340f66554208af1a90614027446f": {
          "model_module": "@jupyter-widgets/controls",
          "model_name": "SliderStyleModel",
          "state": {
            "_model_module": "@jupyter-widgets/controls",
            "_model_module_version": "1.5.0",
            "_model_name": "SliderStyleModel",
            "_view_count": null,
            "_view_module": "@jupyter-widgets/base",
            "_view_module_version": "1.2.0",
            "_view_name": "StyleView",
            "description_width": "",
            "handle_color": null
          }
        },
        "7a680ff8c9134fa59c3684ed13947032": {
          "model_module": "@jupyter-widgets/base",
          "model_name": "LayoutModel",
          "state": {
            "_model_module": "@jupyter-widgets/base",
            "_model_module_version": "1.2.0",
            "_model_name": "LayoutModel",
            "_view_count": null,
            "_view_module": "@jupyter-widgets/base",
            "_view_module_version": "1.2.0",
            "_view_name": "LayoutView",
            "align_content": null,
            "align_items": null,
            "align_self": null,
            "border": null,
            "bottom": null,
            "display": null,
            "flex": null,
            "flex_flow": null,
            "grid_area": null,
            "grid_auto_columns": null,
            "grid_auto_flow": null,
            "grid_auto_rows": null,
            "grid_column": null,
            "grid_gap": null,
            "grid_row": null,
            "grid_template_areas": null,
            "grid_template_columns": null,
            "grid_template_rows": null,
            "height": null,
            "justify_content": null,
            "justify_items": null,
            "left": null,
            "margin": null,
            "max_height": null,
            "max_width": null,
            "min_height": null,
            "min_width": null,
            "object_fit": null,
            "object_position": null,
            "order": null,
            "overflow": null,
            "overflow_x": null,
            "overflow_y": null,
            "padding": null,
            "right": null,
            "top": null,
            "visibility": null,
            "width": null
          }
        },
        "e6be216229f4439dada37cceeb616db3": {
          "model_module": "@jupyter-widgets/controls",
          "model_name": "SliderStyleModel",
          "state": {
            "_model_module": "@jupyter-widgets/controls",
            "_model_module_version": "1.5.0",
            "_model_name": "SliderStyleModel",
            "_view_count": null,
            "_view_module": "@jupyter-widgets/base",
            "_view_module_version": "1.2.0",
            "_view_name": "StyleView",
            "description_width": "",
            "handle_color": null
          }
        },
        "84463213d4574587985bbaa2e988b6d1": {
          "model_module": "@jupyter-widgets/base",
          "model_name": "LayoutModel",
          "state": {
            "_model_module": "@jupyter-widgets/base",
            "_model_module_version": "1.2.0",
            "_model_name": "LayoutModel",
            "_view_count": null,
            "_view_module": "@jupyter-widgets/base",
            "_view_module_version": "1.2.0",
            "_view_name": "LayoutView",
            "align_content": null,
            "align_items": null,
            "align_self": null,
            "border": null,
            "bottom": null,
            "display": null,
            "flex": null,
            "flex_flow": null,
            "grid_area": null,
            "grid_auto_columns": null,
            "grid_auto_flow": null,
            "grid_auto_rows": null,
            "grid_column": null,
            "grid_gap": null,
            "grid_row": null,
            "grid_template_areas": null,
            "grid_template_columns": null,
            "grid_template_rows": null,
            "height": null,
            "justify_content": null,
            "justify_items": null,
            "left": null,
            "margin": null,
            "max_height": null,
            "max_width": null,
            "min_height": null,
            "min_width": null,
            "object_fit": null,
            "object_position": null,
            "order": null,
            "overflow": null,
            "overflow_x": null,
            "overflow_y": null,
            "padding": null,
            "right": null,
            "top": null,
            "visibility": null,
            "width": null
          }
        },
        "0662a8cdbbab4d748e707dd6f2d94b31": {
          "model_module": "@jupyter-widgets/base",
          "model_name": "LayoutModel",
          "state": {
            "_model_module": "@jupyter-widgets/base",
            "_model_module_version": "1.2.0",
            "_model_name": "LayoutModel",
            "_view_count": null,
            "_view_module": "@jupyter-widgets/base",
            "_view_module_version": "1.2.0",
            "_view_name": "LayoutView",
            "align_content": null,
            "align_items": null,
            "align_self": null,
            "border": null,
            "bottom": null,
            "display": null,
            "flex": null,
            "flex_flow": null,
            "grid_area": null,
            "grid_auto_columns": null,
            "grid_auto_flow": null,
            "grid_auto_rows": null,
            "grid_column": null,
            "grid_gap": null,
            "grid_row": null,
            "grid_template_areas": null,
            "grid_template_columns": null,
            "grid_template_rows": null,
            "height": null,
            "justify_content": null,
            "justify_items": null,
            "left": null,
            "margin": null,
            "max_height": null,
            "max_width": null,
            "min_height": null,
            "min_width": null,
            "object_fit": null,
            "object_position": null,
            "order": null,
            "overflow": null,
            "overflow_x": null,
            "overflow_y": null,
            "padding": null,
            "right": null,
            "top": null,
            "visibility": null,
            "width": null
          }
        }
      }
    }
  },
  "cells": [
    {
      "cell_type": "markdown",
      "metadata": {
        "id": "view-in-github",
        "colab_type": "text"
      },
      "source": [
        "<a href=\"https://colab.research.google.com/github/jugernaut/Numerico2021/blob/desarrollo/04_Interpolacion/zSeriesDeTaylor_interactive.ipynb\" target=\"_parent\"><img src=\"https://colab.research.google.com/assets/colab-badge.svg\" alt=\"Open In Colab\"/></a>"
      ]
    },
    {
      "cell_type": "code",
      "metadata": {
        "id": "vfIWHcMJaMzT"
      },
      "source": [
        "from sympy import Symbol, cos, sin, tan, exp, log, series\n",
        "from sympy.utilities.lambdify import lambdify\n",
        "from ipywidgets import interact, interactive, fixed\n",
        "import ipywidgets as widgets"
      ],
      "execution_count": null,
      "outputs": []
    },
    {
      "cell_type": "code",
      "metadata": {
        "id": "0ysupVQdG4U3"
      },
      "source": [
        "#\n",
        "# Este notebook solo puede ser ejecutado desde 01_SeriesDeTaylor.ipynb\n",
        "# No funciona de otra manera.\n",
        "#\n",
        "def calcTaylor(función, grado, xo = 0):\n",
        "    func = función\n",
        "    evalfunc = lambdify(t, func, modules=['numpy'])\n",
        "    taylor = series(func, x0 = xo, n=grado+1).removeO()\n",
        "\n",
        "    if grado == 0:\n",
        "        evaltaylor = lambda x: np.ones(len(x)) * evalfunc(xo)\n",
        "    elif grado == 1 and func == cos(t):\n",
        "        evaltaylor = lambda x: np.ones(len(x)) * evalfunc(xo)\n",
        "    else:\n",
        "        evaltaylor = lambdify(t, taylor, modules=['numpy'])\n",
        "\n",
        "    if func == log(t):\n",
        "        x = np.linspace(0.001,2*np.pi,200) # Intervalo en x\n",
        "    else:\n",
        "        x = np.linspace(-2*np.pi,2*np.pi,200) # Intervalo en x\n",
        "\n",
        "    xa = np.linspace(xo-np.pi*0.5+0.1,xo+np.pi*0.5-0.1,100)\n",
        "    error = np.linalg.norm(evaltaylor(xa) - evalfunc(xa),2)\n",
        "    \n",
        "    par = [{'title':'Error = {:15.14}'.format(error), \n",
        "            'xlabel':'x [m]',\n",
        "            'ylabel':'T [$^oC$]'}]\n",
        "        \n",
        "    graf = vis.planoCartesiano(par=par)\n",
        "    graf.plot(x = x, y = evalfunc(x), par={'label':'f(x) = ' + str(func)})\n",
        "    graf.plot(x = x, y = evaltaylor(x), par={'label':'$P_{}(x)$'.format(grado), 'lw':1.0})\n",
        "    graf.scatter(x = xo, y=evalfunc(xo), \n",
        "                 par = {'marker':'o', 'color':'black', 'zorder':10,\n",
        "                        'label':'Punto de aproximación'})\n",
        "    ymax = np.max(evalfunc(x))\n",
        "    ymin = np.min(evalfunc(x))\n",
        "    graf.limits(y=(ymin,ymax))\n",
        "    graf.ticks(trig=True)\n",
        "    graf.legend()\n",
        "    graf.show()\n",
        "    return taylor"
      ],
      "execution_count": null,
      "outputs": []
    },
    {
      "cell_type": "code",
      "metadata": {
        "colab": {
          "base_uri": "https://localhost:8080/",
          "height": 495,
          "referenced_widgets": [
            "f65f6244bcca4eb897ecb3ba0cf15302",
            "098bc8fdc4ce4f34b07dc953b4ef4e5a",
            "c745da64c70a46be82d8eb039bbac239",
            "f5b31d3f2c5f4da7be14b6a7356f6c40",
            "8e61b4136a5344c7bc22247df53458a3",
            "921dd3c971104e20a34513f993e91528",
            "4accc7601ee64dd7b33d12354e08f402",
            "952de66f35c440de9c2605baaeb4f888",
            "7e74340f66554208af1a90614027446f",
            "7a680ff8c9134fa59c3684ed13947032",
            "e6be216229f4439dada37cceeb616db3",
            "84463213d4574587985bbaa2e988b6d1",
            "0662a8cdbbab4d748e707dd6f2d94b31"
          ]
        },
        "id": "CRGu4Y7IG4U8",
        "outputId": "7382fd2f-8d7d-4a6e-fdea-30cd3a71a657"
      },
      "source": [
        "t = Symbol('x')\n",
        "lista_funciones = [cos(t), sin(t), tan(t),\n",
        "                   exp(t), exp(-t**2), exp(t)*cos(3*t),\n",
        "                   log(t), np.pi**t,\n",
        "                   t + t**2 + t**3]\n",
        "\n",
        "w = interact(calcTaylor,\n",
        "             función = lista_funciones,\n",
        "             grado = widgets.IntSlider(min=0, max=16, step=1, value=2),\n",
        "             xo = widgets.FloatSlider(min=-3.0, max=3.0, step=0.2, value=1.0, \n",
        "                                      description='x0'))\n",
        "\n",
        "display(w)"
      ],
      "execution_count": null,
      "outputs": [
        {
          "output_type": "error",
          "ename": "NameError",
          "evalue": "name 'np' is not defined",
          "traceback": [
            "\u001b[0;31m---------------------------------------------------------------------------\u001b[0m",
            "\u001b[0;31mNameError\u001b[0m                                 Traceback (most recent call last)",
            "\u001b[0;32m<ipython-input-3-53f6bc44fca3>\u001b[0m in \u001b[0;36m<module>\u001b[0;34m\u001b[0m\n\u001b[1;32m      2\u001b[0m lista_funciones = [cos(t), sin(t), tan(t),\n\u001b[1;32m      3\u001b[0m                    \u001b[0mexp\u001b[0m\u001b[0;34m(\u001b[0m\u001b[0mt\u001b[0m\u001b[0;34m)\u001b[0m\u001b[0;34m,\u001b[0m \u001b[0mexp\u001b[0m\u001b[0;34m(\u001b[0m\u001b[0;34m-\u001b[0m\u001b[0mt\u001b[0m\u001b[0;34m**\u001b[0m\u001b[0;36m2\u001b[0m\u001b[0;34m)\u001b[0m\u001b[0;34m,\u001b[0m \u001b[0mexp\u001b[0m\u001b[0;34m(\u001b[0m\u001b[0mt\u001b[0m\u001b[0;34m)\u001b[0m\u001b[0;34m*\u001b[0m\u001b[0mcos\u001b[0m\u001b[0;34m(\u001b[0m\u001b[0;36m3\u001b[0m\u001b[0;34m*\u001b[0m\u001b[0mt\u001b[0m\u001b[0;34m)\u001b[0m\u001b[0;34m,\u001b[0m\u001b[0;34m\u001b[0m\u001b[0;34m\u001b[0m\u001b[0m\n\u001b[0;32m----> 4\u001b[0;31m                    \u001b[0mlog\u001b[0m\u001b[0;34m(\u001b[0m\u001b[0mt\u001b[0m\u001b[0;34m)\u001b[0m\u001b[0;34m,\u001b[0m \u001b[0mnp\u001b[0m\u001b[0;34m.\u001b[0m\u001b[0mpi\u001b[0m\u001b[0;34m**\u001b[0m\u001b[0mt\u001b[0m\u001b[0;34m,\u001b[0m\u001b[0;34m\u001b[0m\u001b[0;34m\u001b[0m\u001b[0m\n\u001b[0m\u001b[1;32m      5\u001b[0m                    t + t**2 + t**3]\n\u001b[1;32m      6\u001b[0m \u001b[0;34m\u001b[0m\u001b[0m\n",
            "\u001b[0;31mNameError\u001b[0m: name 'np' is not defined"
          ]
        }
      ]
    },
    {
      "cell_type": "code",
      "metadata": {
        "id": "akOCbkvbC2PD"
      },
      "source": [
        ""
      ],
      "execution_count": null,
      "outputs": []
    }
  ]
}