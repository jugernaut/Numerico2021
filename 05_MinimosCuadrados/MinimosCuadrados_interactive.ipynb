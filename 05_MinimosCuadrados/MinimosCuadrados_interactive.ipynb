{
  "nbformat": 4,
  "nbformat_minor": 0,
  "metadata": {
    "colab": {
      "name": "MinimosCuadrados_interactive.ipynb",
      "provenance": [],
      "authorship_tag": "ABX9TyM8qJUKIn1QKRkr3Sjysv7j",
      "include_colab_link": true
    },
    "kernelspec": {
      "name": "python3",
      "display_name": "Python 3"
    },
    "widgets": {
      "application/vnd.jupyter.widget-state+json": {
        "d56a392125524888af03d45773ed5ac2": {
          "model_module": "@jupyter-widgets/controls",
          "model_name": "VBoxModel",
          "state": {
            "_view_name": "VBoxView",
            "_dom_classes": [
              "widget-interact"
            ],
            "_model_name": "VBoxModel",
            "_view_module": "@jupyter-widgets/controls",
            "_model_module_version": "1.5.0",
            "_view_count": null,
            "_view_module_version": "1.5.0",
            "box_style": "",
            "layout": "IPY_MODEL_ca626b1e68624e8b9d0378752c7c02e3",
            "_model_module": "@jupyter-widgets/controls",
            "children": [
              "IPY_MODEL_38ca340a493e472a8e1aeb8f6e70b8c8",
              "IPY_MODEL_6975dbd998bc42639e653198a99ec13f",
              "IPY_MODEL_483f691d83044daca7831b62515b1947"
            ]
          }
        },
        "ca626b1e68624e8b9d0378752c7c02e3": {
          "model_module": "@jupyter-widgets/base",
          "model_name": "LayoutModel",
          "state": {
            "_view_name": "LayoutView",
            "grid_template_rows": null,
            "right": null,
            "justify_content": null,
            "_view_module": "@jupyter-widgets/base",
            "overflow": null,
            "_model_module_version": "1.2.0",
            "_view_count": null,
            "flex_flow": null,
            "width": null,
            "min_width": null,
            "border": null,
            "align_items": null,
            "bottom": null,
            "_model_module": "@jupyter-widgets/base",
            "top": null,
            "grid_column": null,
            "overflow_y": null,
            "overflow_x": null,
            "grid_auto_flow": null,
            "grid_area": null,
            "grid_template_columns": null,
            "flex": null,
            "_model_name": "LayoutModel",
            "justify_items": null,
            "grid_row": null,
            "max_height": null,
            "align_content": null,
            "visibility": null,
            "align_self": null,
            "height": null,
            "min_height": null,
            "padding": null,
            "grid_auto_rows": null,
            "grid_gap": null,
            "max_width": null,
            "order": null,
            "_view_module_version": "1.2.0",
            "grid_template_areas": null,
            "object_position": null,
            "object_fit": null,
            "grid_auto_columns": null,
            "margin": null,
            "display": null,
            "left": null
          }
        },
        "38ca340a493e472a8e1aeb8f6e70b8c8": {
          "model_module": "@jupyter-widgets/controls",
          "model_name": "IntSliderModel",
          "state": {
            "_view_name": "IntSliderView",
            "style": "IPY_MODEL_30f69b57b6664b28b78dc3106abda7b2",
            "_dom_classes": [],
            "description": "alfa",
            "step": 1,
            "_model_name": "IntSliderModel",
            "orientation": "horizontal",
            "max": 15,
            "_view_module": "@jupyter-widgets/controls",
            "_model_module_version": "1.5.0",
            "value": 0,
            "_view_count": null,
            "disabled": false,
            "_view_module_version": "1.5.0",
            "min": -15,
            "continuous_update": true,
            "readout_format": "d",
            "description_tooltip": null,
            "readout": true,
            "_model_module": "@jupyter-widgets/controls",
            "layout": "IPY_MODEL_985f2f588f81448eb34c58a5defb0ccb"
          }
        },
        "6975dbd998bc42639e653198a99ec13f": {
          "model_module": "@jupyter-widgets/controls",
          "model_name": "IntSliderModel",
          "state": {
            "_view_name": "IntSliderView",
            "style": "IPY_MODEL_3f4172c84e2b4eb6b2bc3162545cc43c",
            "_dom_classes": [],
            "description": "beta",
            "step": 1,
            "_model_name": "IntSliderModel",
            "orientation": "horizontal",
            "max": 15,
            "_view_module": "@jupyter-widgets/controls",
            "_model_module_version": "1.5.0",
            "value": 1,
            "_view_count": null,
            "disabled": false,
            "_view_module_version": "1.5.0",
            "min": -15,
            "continuous_update": true,
            "readout_format": "d",
            "description_tooltip": null,
            "readout": true,
            "_model_module": "@jupyter-widgets/controls",
            "layout": "IPY_MODEL_36f8f5f6d2284c5e99bbcd42a2830a43"
          }
        },
        "483f691d83044daca7831b62515b1947": {
          "model_module": "@jupyter-widgets/output",
          "model_name": "OutputModel",
          "state": {
            "_view_name": "OutputView",
            "msg_id": "",
            "_dom_classes": [],
            "_model_name": "OutputModel",
            "outputs": [
              {
                "output_type": "stream",
                "metadata": {
                  "tags": []
                },
                "text": "Error cuadratico medio =1.8735735314574067\n",
                "stream": "stdout"
              },
              {
                "output_type": "display_data",
                "metadata": {
                  "tags": [],
                  "needs_background": "light"
                },
                "image/png": "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\n",
                "text/plain": "<Figure size 720x360 with 1 Axes>"
              }
            ],
            "_view_module": "@jupyter-widgets/output",
            "_model_module_version": "1.0.0",
            "_view_count": null,
            "_view_module_version": "1.0.0",
            "layout": "IPY_MODEL_fafad712c3d947bb88058169bd099d19",
            "_model_module": "@jupyter-widgets/output"
          }
        },
        "30f69b57b6664b28b78dc3106abda7b2": {
          "model_module": "@jupyter-widgets/controls",
          "model_name": "SliderStyleModel",
          "state": {
            "_view_name": "StyleView",
            "handle_color": null,
            "_model_name": "SliderStyleModel",
            "description_width": "",
            "_view_module": "@jupyter-widgets/base",
            "_model_module_version": "1.5.0",
            "_view_count": null,
            "_view_module_version": "1.2.0",
            "_model_module": "@jupyter-widgets/controls"
          }
        },
        "985f2f588f81448eb34c58a5defb0ccb": {
          "model_module": "@jupyter-widgets/base",
          "model_name": "LayoutModel",
          "state": {
            "_view_name": "LayoutView",
            "grid_template_rows": null,
            "right": null,
            "justify_content": null,
            "_view_module": "@jupyter-widgets/base",
            "overflow": null,
            "_model_module_version": "1.2.0",
            "_view_count": null,
            "flex_flow": null,
            "width": null,
            "min_width": null,
            "border": null,
            "align_items": null,
            "bottom": null,
            "_model_module": "@jupyter-widgets/base",
            "top": null,
            "grid_column": null,
            "overflow_y": null,
            "overflow_x": null,
            "grid_auto_flow": null,
            "grid_area": null,
            "grid_template_columns": null,
            "flex": null,
            "_model_name": "LayoutModel",
            "justify_items": null,
            "grid_row": null,
            "max_height": null,
            "align_content": null,
            "visibility": null,
            "align_self": null,
            "height": null,
            "min_height": null,
            "padding": null,
            "grid_auto_rows": null,
            "grid_gap": null,
            "max_width": null,
            "order": null,
            "_view_module_version": "1.2.0",
            "grid_template_areas": null,
            "object_position": null,
            "object_fit": null,
            "grid_auto_columns": null,
            "margin": null,
            "display": null,
            "left": null
          }
        },
        "3f4172c84e2b4eb6b2bc3162545cc43c": {
          "model_module": "@jupyter-widgets/controls",
          "model_name": "SliderStyleModel",
          "state": {
            "_view_name": "StyleView",
            "handle_color": null,
            "_model_name": "SliderStyleModel",
            "description_width": "",
            "_view_module": "@jupyter-widgets/base",
            "_model_module_version": "1.5.0",
            "_view_count": null,
            "_view_module_version": "1.2.0",
            "_model_module": "@jupyter-widgets/controls"
          }
        },
        "36f8f5f6d2284c5e99bbcd42a2830a43": {
          "model_module": "@jupyter-widgets/base",
          "model_name": "LayoutModel",
          "state": {
            "_view_name": "LayoutView",
            "grid_template_rows": null,
            "right": null,
            "justify_content": null,
            "_view_module": "@jupyter-widgets/base",
            "overflow": null,
            "_model_module_version": "1.2.0",
            "_view_count": null,
            "flex_flow": null,
            "width": null,
            "min_width": null,
            "border": null,
            "align_items": null,
            "bottom": null,
            "_model_module": "@jupyter-widgets/base",
            "top": null,
            "grid_column": null,
            "overflow_y": null,
            "overflow_x": null,
            "grid_auto_flow": null,
            "grid_area": null,
            "grid_template_columns": null,
            "flex": null,
            "_model_name": "LayoutModel",
            "justify_items": null,
            "grid_row": null,
            "max_height": null,
            "align_content": null,
            "visibility": null,
            "align_self": null,
            "height": null,
            "min_height": null,
            "padding": null,
            "grid_auto_rows": null,
            "grid_gap": null,
            "max_width": null,
            "order": null,
            "_view_module_version": "1.2.0",
            "grid_template_areas": null,
            "object_position": null,
            "object_fit": null,
            "grid_auto_columns": null,
            "margin": null,
            "display": null,
            "left": null
          }
        },
        "fafad712c3d947bb88058169bd099d19": {
          "model_module": "@jupyter-widgets/base",
          "model_name": "LayoutModel",
          "state": {
            "_view_name": "LayoutView",
            "grid_template_rows": null,
            "right": null,
            "justify_content": null,
            "_view_module": "@jupyter-widgets/base",
            "overflow": null,
            "_model_module_version": "1.2.0",
            "_view_count": null,
            "flex_flow": null,
            "width": null,
            "min_width": null,
            "border": null,
            "align_items": null,
            "bottom": null,
            "_model_module": "@jupyter-widgets/base",
            "top": null,
            "grid_column": null,
            "overflow_y": null,
            "overflow_x": null,
            "grid_auto_flow": null,
            "grid_area": null,
            "grid_template_columns": null,
            "flex": null,
            "_model_name": "LayoutModel",
            "justify_items": null,
            "grid_row": null,
            "max_height": null,
            "align_content": null,
            "visibility": null,
            "align_self": null,
            "height": null,
            "min_height": null,
            "padding": null,
            "grid_auto_rows": null,
            "grid_gap": null,
            "max_width": null,
            "order": null,
            "_view_module_version": "1.2.0",
            "grid_template_areas": null,
            "object_position": null,
            "object_fit": null,
            "grid_auto_columns": null,
            "margin": null,
            "display": null,
            "left": null
          }
        }
      }
    }
  },
  "cells": [
    {
      "cell_type": "markdown",
      "metadata": {
        "id": "view-in-github",
        "colab_type": "text"
      },
      "source": [
        "<a href=\"https://colab.research.google.com/github/jugernaut/Numerico2021/blob/desarrollo/05_MinimosCuadrados/MinimosCuadrados_interactive.ipynb\" target=\"_parent\"><img src=\"https://colab.research.google.com/assets/colab-badge.svg\" alt=\"Open In Colab\"/></a>"
      ]
    },
    {
      "cell_type": "code",
      "metadata": {
        "id": "fdESYp-P8diM",
        "colab": {
          "base_uri": "https://localhost:8080/",
          "height": 638,
          "referenced_widgets": [
            "d56a392125524888af03d45773ed5ac2",
            "ca626b1e68624e8b9d0378752c7c02e3",
            "38ca340a493e472a8e1aeb8f6e70b8c8",
            "6975dbd998bc42639e653198a99ec13f",
            "483f691d83044daca7831b62515b1947",
            "30f69b57b6664b28b78dc3106abda7b2",
            "985f2f588f81448eb34c58a5defb0ccb",
            "3f4172c84e2b4eb6b2bc3162545cc43c",
            "36f8f5f6d2284c5e99bbcd42a2830a43",
            "fafad712c3d947bb88058169bd099d19"
          ]
        },
        "outputId": "536c7528-75b2-403a-93be-cd08db11b2e5"
      },
      "source": [
        "!git clone https://github.com/jugernaut/Numerico2021.git\n",
        "import numpy as np\n",
        "import matplotlib.pyplot as plt\n",
        "import Numerico2021.Utils.gutils as vis\n",
        "import random\n",
        "from IPython.html.widgets import interact\n",
        "import ipywidgets as widgets\n",
        " \n",
        "# funcion para generar datos aleatorios\n",
        "def gen_data(n, bias, varianza):\n",
        "    x = []\n",
        "    y = []\n",
        "    for i in range(0, n):\n",
        "        x.append(i)\n",
        "        y.append((i + bias) + random.uniform(0, 1) * varianza)\n",
        "    return x, y\n",
        "\n",
        "# ecuacion parametrica de la recta\n",
        "def aprox(alfa, beta, n):\n",
        "    x = np.linspace(0, n, n)\n",
        "    y = alfa+beta*x\n",
        "    return x,y\n",
        "\n",
        "def tanteo(alfa, beta):\n",
        "    # conjunto de datos aletorios\n",
        "    # x,y = gen_data(n, 5, 15)\n",
        "    x = [0,1,2,3,4,5,6,7,8,9,10,11,12,13,14,15]\n",
        "    y = [0,1.3,5,6,4,5.4,7,7.7,3.3,10,14,11.7,12.1,13.9,14.3,15.9]\n",
        "    # recta que intenta ajustar los datos\n",
        "    xaprox,yaprox = aprox(alfa,beta,16)\n",
        "    error = vis.RMS(y,yaprox)\n",
        "\n",
        "    par = [{'title':'$y= a + b x$', \n",
        "            'xlabel':'$x$',\n",
        "            'ylabel':'$y$'}]\n",
        "    graf = vis.planoCartesiano(par=par)\n",
        "    graf.scatter(x=x,y=y)\n",
        "    graf.plot(x=xaprox, y=yaprox, par={'ls':'-', 'lw':1, 'color':'red'})\n",
        "    # se muestra el error cuadratico\n",
        "    print('Error cuadratico medio ='+str(error))\n",
        "\n",
        "interact(tanteo, alfa=widgets.IntSlider(min=-15,max=15,step=1,value=0), \n",
        "         beta=widgets.IntSlider(min=-15,max=15,step=1,value=0))\n",
        "\n"
      ],
      "execution_count": 1,
      "outputs": [
        {
          "output_type": "stream",
          "text": [
            "Cloning into 'Numerico2021'...\n",
            "remote: Enumerating objects: 71, done.\u001b[K\n",
            "remote: Counting objects: 100% (71/71), done.\u001b[K\n",
            "remote: Compressing objects: 100% (71/71), done.\u001b[K\n",
            "remote: Total 2205 (delta 33), reused 0 (delta 0), pack-reused 2134\u001b[K\n",
            "Receiving objects: 100% (2205/2205), 10.88 MiB | 12.91 MiB/s, done.\n",
            "Resolving deltas: 100% (1406/1406), done.\n"
          ],
          "name": "stdout"
        },
        {
          "output_type": "stream",
          "text": [
            "/usr/local/lib/python3.6/dist-packages/IPython/html.py:14: ShimWarning: The `IPython.html` package has been deprecated since IPython 4.0. You should import from `notebook` instead. `IPython.html.widgets` has moved to `ipywidgets`.\n",
            "  \"`IPython.html.widgets` has moved to `ipywidgets`.\", ShimWarning)\n"
          ],
          "name": "stderr"
        },
        {
          "output_type": "display_data",
          "data": {
            "application/vnd.jupyter.widget-view+json": {
              "model_id": "d56a392125524888af03d45773ed5ac2",
              "version_minor": 0,
              "version_major": 2
            },
            "text/plain": [
              "interactive(children=(IntSlider(value=0, description='alfa', max=15, min=-15), IntSlider(value=0, description=…"
            ]
          },
          "metadata": {
            "tags": []
          }
        },
        {
          "output_type": "execute_result",
          "data": {
            "text/plain": [
              "<function __main__.tanteo>"
            ]
          },
          "metadata": {
            "tags": []
          },
          "execution_count": 1
        }
      ]
    }
  ]
}