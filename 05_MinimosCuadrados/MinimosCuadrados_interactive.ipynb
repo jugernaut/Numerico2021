{
  "nbformat": 4,
  "nbformat_minor": 0,
  "metadata": {
    "colab": {
      "name": "MinimosCuadrados_interactive.ipynb",
      "provenance": [],
      "authorship_tag": "ABX9TyNfreo36znTtVoYZONC1Y6d",
      "include_colab_link": true
    },
    "kernelspec": {
      "name": "python3",
      "display_name": "Python 3"
    },
    "widgets": {
      "application/vnd.jupyter.widget-state+json": {
        "855deec96e654495bed831ddf9343035": {
          "model_module": "@jupyter-widgets/controls",
          "model_name": "VBoxModel",
          "state": {
            "_view_name": "VBoxView",
            "_dom_classes": [
              "widget-interact"
            ],
            "_model_name": "VBoxModel",
            "_view_module": "@jupyter-widgets/controls",
            "_model_module_version": "1.5.0",
            "_view_count": null,
            "_view_module_version": "1.5.0",
            "box_style": "",
            "layout": "IPY_MODEL_16d9c0f44f6641b9861a2880a9f649ab",
            "_model_module": "@jupyter-widgets/controls",
            "children": [
              "IPY_MODEL_5dcb1371b4e34691ac1e73812bc2d24c",
              "IPY_MODEL_ad7371ea6c744f1585ad7938fd564c33",
              "IPY_MODEL_e4b49d4ca49a41b38d9570ba23171f25"
            ]
          }
        },
        "16d9c0f44f6641b9861a2880a9f649ab": {
          "model_module": "@jupyter-widgets/base",
          "model_name": "LayoutModel",
          "state": {
            "_view_name": "LayoutView",
            "grid_template_rows": null,
            "right": null,
            "justify_content": null,
            "_view_module": "@jupyter-widgets/base",
            "overflow": null,
            "_model_module_version": "1.2.0",
            "_view_count": null,
            "flex_flow": null,
            "width": null,
            "min_width": null,
            "border": null,
            "align_items": null,
            "bottom": null,
            "_model_module": "@jupyter-widgets/base",
            "top": null,
            "grid_column": null,
            "overflow_y": null,
            "overflow_x": null,
            "grid_auto_flow": null,
            "grid_area": null,
            "grid_template_columns": null,
            "flex": null,
            "_model_name": "LayoutModel",
            "justify_items": null,
            "grid_row": null,
            "max_height": null,
            "align_content": null,
            "visibility": null,
            "align_self": null,
            "height": null,
            "min_height": null,
            "padding": null,
            "grid_auto_rows": null,
            "grid_gap": null,
            "max_width": null,
            "order": null,
            "_view_module_version": "1.2.0",
            "grid_template_areas": null,
            "object_position": null,
            "object_fit": null,
            "grid_auto_columns": null,
            "margin": null,
            "display": null,
            "left": null
          }
        },
        "5dcb1371b4e34691ac1e73812bc2d24c": {
          "model_module": "@jupyter-widgets/controls",
          "model_name": "IntSliderModel",
          "state": {
            "_view_name": "IntSliderView",
            "style": "IPY_MODEL_163c3057c1b64bb7aa0b705ddb78b1fa",
            "_dom_classes": [],
            "description": "alfa",
            "step": 1,
            "_model_name": "IntSliderModel",
            "orientation": "horizontal",
            "max": 15,
            "_view_module": "@jupyter-widgets/controls",
            "_model_module_version": "1.5.0",
            "value": 1,
            "_view_count": null,
            "disabled": false,
            "_view_module_version": "1.5.0",
            "min": -15,
            "continuous_update": true,
            "readout_format": "d",
            "description_tooltip": null,
            "readout": true,
            "_model_module": "@jupyter-widgets/controls",
            "layout": "IPY_MODEL_d4984c5bdeac4ae787629a6d4469bb47"
          }
        },
        "ad7371ea6c744f1585ad7938fd564c33": {
          "model_module": "@jupyter-widgets/controls",
          "model_name": "IntSliderModel",
          "state": {
            "_view_name": "IntSliderView",
            "style": "IPY_MODEL_29b6bc903b44491ea62e7752ea08d3ab",
            "_dom_classes": [],
            "description": "beta",
            "step": 1,
            "_model_name": "IntSliderModel",
            "orientation": "horizontal",
            "max": 15,
            "_view_module": "@jupyter-widgets/controls",
            "_model_module_version": "1.5.0",
            "value": 1,
            "_view_count": null,
            "disabled": false,
            "_view_module_version": "1.5.0",
            "min": -15,
            "continuous_update": true,
            "readout_format": "d",
            "description_tooltip": null,
            "readout": true,
            "_model_module": "@jupyter-widgets/controls",
            "layout": "IPY_MODEL_d3e1c3af5e384989829562064ce514bc"
          }
        },
        "e4b49d4ca49a41b38d9570ba23171f25": {
          "model_module": "@jupyter-widgets/output",
          "model_name": "OutputModel",
          "state": {
            "_view_name": "OutputView",
            "msg_id": "",
            "_dom_classes": [],
            "_model_name": "OutputModel",
            "outputs": [
              {
                "output_type": "stream",
                "metadata": {
                  "tags": []
                },
                "text": "Error cuadratico medio =2.015013096180215\n",
                "stream": "stdout"
              },
              {
                "output_type": "display_data",
                "metadata": {
                  "tags": [],
                  "needs_background": "light"
                },
                "image/png": "iVBORw0KGgoAAAANSUhEUgAAAscAAAFgCAYAAABXB9TlAAAABHNCSVQICAgIfAhkiAAAAAlwSFlzAAALEgAACxIB0t1+/AAAADh0RVh0U29mdHdhcmUAbWF0cGxvdGxpYiB2ZXJzaW9uMy4yLjIsIGh0dHA6Ly9tYXRwbG90bGliLm9yZy+WH4yJAAAgAElEQVR4nO3deXxU9b3/8fcnk5mUJUbBBdwQ2qitO27VVnEHqVtbbLW21St4621vb2/rbWtvuW1/Fqu31bb2aktNAsgiIIiIiiK44S4Q962xLCKCQJAwkJCZTD6/P84AISQ6QDJnJvN6Ph48mDlzkvnkCPjOyXmfr7m7AAAAAEhFYQ8AAAAA5ArCMQAAAJBGOAYAAADSCMcAAABAGuEYAAAASCMcAwAAAGmEYwAAACCNcAwAAACkEY4BABkxs5+a2dthzwEAnYlwDADI1HGSXgl7CADoTIRjAChgZjbOzH6T4e4DJb3cieMAQOgIxwDQCcysxsx+22rbXma22syu6uD3us7MFpnZBjNbb2YPmNmBHfwePSSVS6ozs5lmttHMFpvZN1vtN9TMms3s2BbbRphZ3MxO6siZAKAzEI4BoHM8J6l1GLxB0mJJd7XcaGb/nQ6bn/Trvz/hvXpIuk7S0ZLOl7S/pD913JciSTpWwf8zfiLpzvTzhyRNMLMBW3Zy99mSnpJ0Y/pru1jSXyR91d1f6uCZAKDDFYc9AAB0Uc9JusnMzN3dzI6W9D1JX3J3b7XvaEn3fMrnW9feC+5+Q4unS83srvR7daTjJLmkS939NUkys59IGi7pNAWhf4ufSnrJzH4m6VeSrnT3eR08DwB0CsIxAHSOZyXtpeBShH8oOHs6wd0XtN7R3dfpE8LvJzGzvgrO5p4n6QBJn5EUlfRkO/v/t6SWZ6FLJLmZ/VeLbb9z99+1+tCBkh7dEozTcyfNLK5WP4V094VmNkvS/0r6N3eftitfGwCEgXAMAJ3jTUl1kk4ys+MVXIbwjbZ2bCOwtmWHwGpme0paIOlVSb+U9L6kekn3S6pu5/O0Pkv9v5JWKAjvW7QV1I+T9HCr9x8gaV9Ji1ptP1HS2ZKaJK39pC8KAHIN4RgAOkH6UooXJJ2l4Kzu/3P31e3svquXVQyVtI+C63kTkmRmp0r6gqTftDPXdmep02d+17n7e+29sZnFJB0h6dFWL/1M0oKWZ5PN7HBJsyXdlJ7td2Y2092bPuXrA4CcQDgGgM7znIKQ+rak/2tvp924rGKtpJikb5jZcwqu/f2f9GvtnTneFUcquFTja2b2iILri6+V9G1JX96yk5kdpCBAT3T335nZPpJGSPpXSX/twHkAoNNwtwoA6DzVkkzSjzrjzKm7P6rgrhS3S1qo4Cz1HQou51j8CR+6s46T9KGk70uqkPSupJMlneTur0iSmfWWNEfBnSp+kp5vjaQ/S/q1mfXswHkAoNPYjqVpAEBHMLNpkorc/ethzwIAyAyXVQBABzKziKTeki6XdK6ko8KdCACwMwjHANCxBkmaJ+k9ScPcfXnI8wAAdgKXVQAAAABpXebMcV1dHSkfAAAAGSsrK7PW27hbBQAAAJBGOAYAAADSCMcdoKamJuwR8gLHKTMcp8xwnDLHscoMxykzHKfMcJwyk4vHKWvXHJvZGEkXSFrt7kemt02VdFh6lz0lrXf3Y9v42KWS4pJSkprc/YSsDA0AAICCks1C3jgFqziN37LB3b+55bGZ3apgVaf2nOnuazttOgAAABS8rIVjd59vZoe09ZqZmaRvKFj6FAAAAAhFVu9znA7HD265rKLF9tMl/bG9yyXMbImkjyW5pL+7+52t92l5K7dcvH4FAAAA4SsvL9/6uK1bueXKfY4vlzT5E17/sruvMLN9Jc01s3fcfX57O7f8orOhpqYm6++ZjzhOmeE4ZYbjlDmOVWY4TpnhOGWG45SZXDxOod+twsyKJX1N0tT29nH3FenfV0u6T9JJ2ZkOAAAAhST0cCzpHEnvuPsHbb1oZj3MrHTLY0nnSXoji/MBAACgQGQtHJvZZEnPSzrMzD4ws+Hply5Tq0sqzGx/M5udfrqfpGfM7FVJL0l6yN0fydbcAAAAKBzZvFvF5e1sv6qNbR9KGpp+vFjSMZ06HAAAAKDcuKwCAAAAyAmEYwAAAGRV0auvqtt//If2nTIl7FF2QDgGAABA52tsVHTqVPU47zz1uOIKNffrp3Xnnhv2VDvIlfscAwAAoAuy999XbNw4xSZMUOrII9X4ox+pafBgqbhYTTm4cBvhGAAAAB2ruVnFTzyhWGWlIi+8oORll2nTww+r+XOfC3uyT0U4BgAAQMdYv16xiRMVGzNG6tFDjddco/rKSqlHj7AnyxjhGAAAALul6JVXVFJVpeisWUoOHqyG0aOVOvFEySzs0XYa4RgAAAA7b/NmRe+/X7HKShWtXKnE1VcrvnChfJ99wp5stxCOAQAAkDFbtiwo2E2cqNRRR6nxxz8OCnaRSNijdQjCMQAAAD5Zc7OKH388KNi99FJeFex2FuEYAAAAbbKPP1Z00qSgYNezpxpHjFD9mDFS9+5hj9ZpCMcAAADYTtErr6ikslLRBx4ICnZ//7tSJ5yQlwW7nUU4BgAAQFCwmzkzKNh99FGXKdjtLMIxAABAAbNlyxQbOzYo2B1zjBqvu05N553XZQp2O4twDAAAUGi2FOwqKhRZsEDJyy/Xpjlz1PzZz4Y9WegIxwAAAAXCPv5Y0S0r2O2xR1CwGzu2SxfsdhbhGAAAoAtbFk/q7qnP6rQHJmjQwrnaPGSIUnfeWTAFu51FOAYAAOiKNm9W3eTpav7Lnbp2/Vr97Uvf1FXXP6TSvvto5uG91Y9g3CbCMQAAQBdiS5eqZOxYRSdN0uKDj9CvzvpXzf7C6WouCgp2a+MpjaqOq2JQr5AnzU2EYwAAgHzX3KziefMUq6oKCnbf+pY2Pfqo/uPdUj2zKrHD7qvqUyEMmR8IxwAAAHnK1q3bVrArK9uhYNd3+bo2P65P98K8TVsmCMcAAAB5JlJdrVhlpaIPPaTk+eerobJSqeOP36FgN3JgqRauSWhJfNuZ4v6lEY0cWJrtkfMG4RgAACAfNDQoOmOGYlVVKlq7Vo3Dh2vzb38r79273Q/pVxrVzMG9Nao6rlX1KfXpHgTjfqXRLA6eXwjHAAAAOcyWLlVJVZWid9+t1MCBavzZz9R07rkZr2DXrzRK+W4nEI4BAAByTSq1rWC3cGFQsJs3T839+4c9WZdHOAYAAMgRVlur6MSJKhkzRs177aXEiBGqv+suqVu3sEcrGIRjAACAkEUWLVKsokLR2bOV/MpXVD9mTFCwQ9YRjgEAAMLQ0KDovfcGBbva2qBgd+ONn1iwQ+cjHAMAAGRR0ZIlilVVKTp5slLHH6/G669X0znnZFywQ+cqytYbmdkYM1ttZm+02PYbM1thZq+kfw1t52OHmNm7ZvaemV2frZkBAAA6RCql4kceUfdhw9TjnHMkM22aN0/199yjpsGDCcY5JJtnjsdJul3S+Fbb/+Tut7T3QWYWkXSHpHMlfSBpgZnNcve3OmtQAACAjmC1tYpOmBAU7Hr3Dgp2EyZQsMthWQvH7j7fzA7ZhQ89SdJ77r5YksxsiqSLJRGOAQBA7nFXjzfeULdbblH04YeDgt24cUoNHBj2ZMiAuXv23iwIxw+6+5Hp57+RdJWkDZIWSrrO3T9u9THDJA1x9xHp59+RdLK7/3vL/erq6rZ+ITU1NZ32NQAAALSlaPNm7fXoo9p32jQVb9ig1cOGae2FFyq1555hj4YWysvLtz4uKyuz1q+HXcj7m6TfSvL077dKunp3P2nLLzobampqsv6e+YjjlBmOU2Y4TpnjWGWG45QZjtOOihYv3lawO/FEJW64Qa/366fyww7THmEPl+Ny8c9TqOHY3T/a8tjMKiQ92MZuKyQd1OL5geltAAAA4UilVPzoo4pVViryyitKXnGFNj7+uPyQQ4LX+Sl23go1HJtZX3dfmX76VUlvtLHbAknlZtZfQSi+TNK3sjQiAADAVrZ2rWITJig2Zoya99knKNhNnEjBrgvJWjg2s8mSzpC0t5l9IOnXks4ws2MVXFaxVNL30vvuL6nS3Ye6e5OZ/bukOZIiksa4+5vZmhsAABQ4d0UWLgxWsHvkESUvuED1d91Fwa6LyubdKi5vY3NVO/t+KGloi+ezJc3upNEAAAB2VF+v6PTpKqmslDZsUGL4cG2++WZ5r15hT4ZOFHYhDwAAIKcU/fOfQcFuyhSlTjxRm//nf9R09tlSUdbWTkOICMcAAACplIrnzAkKdq++quS3v719wQ4Fg3AMAAAKlq1dq9j48UHBrk8fJYYPV/3dd0uf+cwufb5l8aRGVce1eG2JBny4TiMHlqpfabSDp0ZnIhwDAIDC4q7IggWKVVYGBbsLL9SmiRPVfOyxu/Vpl8WTumROrZbEU5IiWrShQQvXJDRzcG8Cch7h4hkAAFAY6usVHT9ePQcNUrfvfU+po45S/NVX1XDHHbsdjCVpVHU8HYy3WRJPaVR1fLc/N7KHM8cAAKBLK3rvvW0Fu5NP1uZf/UpNZ53V4QW7lfWpNrevamc7chPhGAAAdD2plIofeSQo2L3+uhLf+Y42PvmkvF+/TnvLvt0jbW7v08525CbCMQCgoFGg6lpszZptK9j17RsU7CZP3uWC3c4YObBUC9cktru0on9pRCMHlnb6e6PjEI4BAAWLAlV+2/KNzcpNTRr0/qu67sWp2vPxuUpedFGHFOx2Vr/SqGYO7h18s1W7UQN69+SbrTxEOAYAFKxPKlBVDGIVtFy2LJ7U5bOW69SnZukXz05Rz8Z63XHWt/TVZ27SgQftE9pc/UqjqhjUSzU1tSovPzi0ObDrCMcAgIJFgSo/Fb33npb/v9s1/7H79MyAgbr+gh9r7qGnyouK9NriiCoOCntC5DPCMQCgYFGgyiNNTUHBrqpKkTfe0LpTv66B103X+7323243vrHB7iIcAwAKFgWq3GerVwcFu7Fj1bz//kqMGKH6iy/WAy9s0vuLG3bYn29ssLsIxwCAgkWBKke5K/Lii8G9iR99NCjYTZqk5mOO2brLyIFFfGODTkE4BgAUNApUOWTTJkWnTVNJZaXU0KDE8OFq+MMfpD333GHXlt/YrKpPqU/3CN/YoEMQjgEAQKiKamqCs8RTpyp1yina/NvfqmnQoE9dwW7LNzZARyIcAwCA7GtqUvHDDwcFu7feClawmz9ffhC3mkC4CMcAACBrbPVqxcaPV2zcODUfcEBQsLvoIqmkJOzRAEmEYwAA0Nm2FOwqKxWdO1fJSy7RprvvVvPRR4c9GbADwjEAAOgcGzcqOn26SioqpMbGoGB3yy1tFuyAXEE4BgAAHaroH/8ICnb33KPUqaeq4cYblTr99E8t2AG5gHAMAAB2X1OTimfPVklVlYrefluJ736Xgh3yEuEYAADsMvvoo20Fu4MOUmLECCUvvJCCHfIW4RgAAOwcd0VeeCEo2M2bp8RXv6pNU6ao+aijwp4M2G2EYwAAkJmNG7X3jBnqOWuWlEgEBbtbb6Vghy6FcAwAAD5R0T/+EZwlnjZNzcccExTsBg2SzMIeDehwhGMAALCjLQW7ykoVvftusILd00/rnw0NKi8vD3s6oNMQjgEAwFa2atW2gl2/ftsKdrFYsENNTbgDAp2McAwAQKFzV+T554NLJx57TImvfU2bpk6lYIeCRDgGAKBQxeOKTZumWGWllEwqMWKEGv70J6msLOzJgNBkLRyb2RhJF0ha7e5Hprf9QdKFkhKS/inpX9x9fRsfu1RSXFJKUpO7n5CtuQEA6GqK3nknWMFu2jSlTjtNDTfdFKxgR8EOUDbXcRwnaUirbXMlHenuR0v6h6RffMLHn+nuxxKMAQDYBcmkiu+/Xz0uvFA9Lr5Yvuee2vjss6qfMIE7TwAtZO3MsbvPN7NDWm17tMXTFyQNy9Y8AAAUAlu1SrG77lLsrrvaLtgB2I65e/beLAjHD265rKLVaw9ImuruE9t4bYmkjyW5pL+7+52t96mrq9v6hdTQpAUAFDJ39ayu1r7Tp2uPF1/UuvPO05qvf10N3IIN2O5WhGVlZTv8yCQnCnlm9ktJTZImtbPLl919hZntK2mumb3j7vPb+3zZvv9iTU0N93zMAMcpMxynzHCcMsexykyXOE7xuGJTpypWVSWlUkqMGKFNVVUqKSvTgR30Fl3iOGUBxykzuXicQg/HZnaVgqLe2d7OaWx3X5H+fbWZ3SfpJEnthmMAAApJ0dtvBwW76dOVOv10Ndx8MwU7YBeFGo7NbIikn0ka5O717ezTQ1KRu8fTj8+TdEMWxwQAIPckkyp+6KFgBbv33lPiu9/VxmeflR9wQKe83bJ4UqOq41q8tkQDPlynkQNL1a802invBYQpm7dymyzpDEl7m9kHkn6t4O4UJQoulZCkF9z9WjPbX1Kluw+VtJ+k+9KvF0u6290fydbcAADkElu5UrFx4xQbP17N/fsrcc01Sn7lK51asFsWT+qSObVaEk9JimjRhgYtXJPQzMG9CcjocrJ5t4rL29hc1c6+H0oamn68WNIxnTgaAAC5zV2RZ55RSWWlip98Uolhw7Rp+nQ1H3FEVt5+VHU8HYy3WRJPaVR1XBWDemVlBiBbQr/mGAAAtGPDhm0FO3clhg9X/f/9n7THHlkdY2V9qs3tq9rZDuQzwjEAADmm6K23goLdvfcqNWiQGn7/e6VOOy20gl3f7pE2t/dpZzuQzwjHAADkgmRS0QcfVKyiQkWLFytx5ZXa+Nxz8v33D3syjRxYqoVrEttdWtG/NKKRA0tDnAroHIRjAABCZB9+uK1g99nPKnHNNXpv0GCNen2zVr6aUt+a8O8M0a80qpmDewd3q6jdqAG9e4Y+E9BZCMcAAGSbuyJPP62SykpF5s9XctgwbZoxQ81f+EKrO0MEcuHOEP1Ko6oY1Es1NbUqLz84tDmAzkY4BgAgWzZsUGzKlKBgZxYU7G6/fbuCHXeGAMJFOAYAoJMVvfmmYlVVit17r5JnnqmGW25R6stfbrNgx50hgHARjgEA6AyJxLaC3ZIlSlx5peIvvCDv2/cTP4w7QwDhIhwDANCBbMWKbQW78nI1fu97avrKV6RoZtcLc2cIIFyEYwAAdpe7IvPnBwW7p59W8tJLtWnmTDV//vM7/ala3hliVX1KfbpHuDMEkEWEYwAAdlVd3baCXSQSFOz++lepdPfO8m65MwSA7CMcAwCwk4refFOxykrFZsxQ8qyz1PDHPyr1pS+FtoIdgI5DOAYAIBOJhKIPPKBYZaWKli5V4qqrMirYAcgvhGMAAD6BrVih2Nixik2YoOZDD1XjtdeqaejQjAt2APIL4RgAgNa2FOwqKhR55pmgYHf//Wo+/PCwJwPQyQjHAABsUVen2OTJQcEuGlVixAjV/+1vu12wA5A/CMcAgIJX9MYb6nfrrdrj8ceVPPtsNdx2m1KnnELBDihAhGMAQGFKJBSdNSso2L3/vjZceKHiL74o79Mn7MkAhIhwDAAoKPbBB9tWsDv8cDV+//tqGjpUK5csUU+CMVDwCMcAgK7PXZGnngoKds8+q+Q3vqFNDzyg5sMOC3syADmGcAwA6LrWr99WsIvFlLjmGtX//e9Sz55hTwYgRxGOAQBdTtHrr6ukslLRmTOVPOccNfzlLxTsAGSEcAwA6BoaG4OCXVWVipYvD1awe+kl+X77hT0ZgDxCOAYA5DVbvjwo2E2YoObPf16NP/iBms4/Xyrmf3EAdh7/cgAA8k9zs4qfekqxigpFnn8+KNg9+KCaDz007MkA5DnCMQAgf6xfr9jddys2ZoxUUqLGa65R/Z13UrAD0GEIxwCAnFf02msqqaoKCnbnnquG229X6uSTKdgB6HCEYwBAbmpsVPT++4OC3YoVQcFuwQL5vvuGPRmALoxwDADIKbZ8uWJjxyo2YYJSRxyhxh/+UE1DhlCwA5AVRdl8MzMbY2arzeyNFtt6mdlcM6tJ/75XOx97ZXqfGjO7MntTAwA6XXOzih9/XN2/9S31PP10WX29Ns2erfqZM9V0wQUEYwBZk+1/bcZJul3S+Bbbrpf0mLvfbGbXp5//vOUHmVkvSb+WdIIkl7TIzGa5+8dZmRoA0CGWxZMaVR3XyvqU+naP6NcDUhow656gYNetW1Cwq6iQevQIe1QABSqr4djd55vZIa02XyzpjPTjuyQ9qVbhWNJgSXPdfZ0kmdlcSUMkTe6kUQEAHWxZPKlL5tRqSTylYz94W+c+O1kHvjZXm887V6m//lWpk06iYAcgdLnwc6r93H1l+vEqSW0tZXSApOUtnn+Q3gYAyBM3v7hWpz5xvyY+O0UHrl+l0ad+U4de/4AGHXOQKk7uFfZ4ACBJMnfP7hsGZ44fdPcj08/Xu/ueLV7/2N33avUx/yXpM+4+Kv38fyQ1uPstW/apq6vb+oXU1NR06tcAAMhcbOVK7TNjhmIzZmlRn8N1x5cv10NfOF2pSHB+5viylEYf1RjylAAKRXl5+dbHZWVlO/y4KhfOHH9kZn3dfaWZ9ZW0uo19VmjbpReSdKCCyy/a1PKLzoaampqsv2c+4jhlhuOUGY5T5kI5Vs3NKn7iCcUqKxV54QUlL7tMP7v5Hv2lse8Ouw7o3VPl5Qdnd7428GcqMxynzHCcMpOLxymrd6toxyxJW+4+caWk+9vYZ46k88xsr/TdLM5LbwMA5JL16xW74w71POEEfebXv1ZyyBDF33hDm2+6ScMvPEb9SyPb7d6/NKKRA0tDGhYAdpTVM8dmNlnBGeC9zewDBXeguFnSPWY2XNIySd9I73uCpGvdfYS7rzOz30pakP5UN2wp5wEAwlf06qsqqaxUdNYsJQcPVsPf/rZDwa5faVQzB/fWqOq4VtWn1Kd7EIz7lUZDnBwAtpftu1Vc3s5LZ7ex70JJI1o8HyNpTCeNBgDYWZs3ByvYVVaqaOVKJa6+WvGFC+X77NPuh/QrjapiEOU7ALkrF645BgDkEVu2TLFx4xSbOFGpo45S449/rKbBg6VI5NM/GAByHOEYAPDpthTsKioUeeklJS+7TJsefljNn/tc2JMBQIciHAMA2mUff6zopEnBCnY9e6pxxAjVjxkjde8e9mgA0CkIxwCAHRS98kpQsHvggaBgN3q0UieeyAp2ALo8wjEAILB5s6L33adYVZWKVq1SYvjwTy3YAUBXQzgGgAJnS5duK9gdc4waf/ITCnYAChbhGAAKUXOzih97LFjBbsECJS+/XJvmzFHzZz8b9mQAECrCMQAUEPv4Y0UnTlSsqkoqKwsKdmPHUrADgDTCMQAUgMjLLytWUaHoQw8pOWSIGioqlDrhBAp2ANAK4RgAuqrNmxWdMUOH33GHum/YoMbhw7X5hhvke+8d9mQAkLMIxwDQxdjSpSoZM0bRSZOUOu44Lb36au171VUU7AAgA0VhDwAA6ADNzSp+9FF1/8Y31POss6TmZm2aO1f106er7vTTCcYAkCHOHANAHrN16xSdOFElVVXyPfcMCnbjxlGwA4BdRDgGgDwUqa7eVrAbOlT1VVVKHX88BTsA2E2EYwDIFw0Nis6YoVhlpYpqa4OC3ahR8t69w54MALqMTw3HZtbD3TdlYxgAwI5s6VKVVFUpevfdSg0cqMaf/1xN557LdcQA0AkyKeTVmNn3zYyzzACQLamUiufMUfdLLw0Kdu7aNG+e6qdNU9OQIQRjAOgkmQTe8yTdJOknZjbS3ad08kwAULCstjYo2I0Zo+a99lJixAjVjx8vdesW9mgAUBA+9cyxu7/h7hdKulrSj8ys2szO6/zRAKBwRBYtUrdrr1Xpcccp8vbbqh8zRpuefFLJb3+bYAwAWZTxpRLuPl/SKWb2NUmjzWyJpOvdfUGnTQcAXVlDg6L33qtYVdW2gt2NN1KwA4AQZVLI20/SwBa/jpfUR1KtpOlm9oykH7r7us4cFAC6iqIlSxSrqlJ08mSljj9ejddfr6ZzzuE6YgDIAZmcOV4h6W1JCyU9JulmSa+6e8LMopJ+I2mGpDM6aUYAyH+plIrnzlWsslKRl19W8oortGnePDX37x/2ZACAFjIJx2Xt3crN3ZOSfmlm6zt2LADoGqy2VtEJE4KC3d57KzF8uOonTOA6YgDIUZ8ajjO8x/GZHTALAHQN7oosWhSsYPfww0pecIHqx41TauDAsCcDAHyKDrl3sbu/3BGfBwDyWn29ovfeq5LKSqmuTonhw7X5ppvkvXqFPRkAIEMs7AEAu6lo8eJtBbsTT9TmkSPVdPbZUlEm6ywBAHIJ4RgAdkUqpeJHHw0Kdq++quQVV2jj44/LDzkk7MkAALuBcAwAO8HWrlVswgTFxoxR8777BivYTZqkZcmIRlXHtfLtNerbPaKRA0vVrzQa9rgAgJ1EOAaAT+OuyMKFQcFuzpygYDd+vFLHHSdJWhZP6pI5tVoST239kIVrEpo5uDcBGQDyDBfEAUB76usVHT9ePQcNUrd//VeljjpK8ZdfVsMdd2wNxpI0qjq+XTCWpCXxlEZVx7M9MQBgN4V+5tjMDpM0tcWmAZJ+5e5/brHPGZLul7QkvWmGu9+QtSEBFJSif/4zKNhNmRIU7H71KzWddVa7BbuV9ak2t69qZzsAIHeFHo7d/V1Jx0qSmUUUrMh3Xxu7Pu3uF2RzNgAFJJVS8Zw5QcHutdeU+Pa3tfGJJ+T9+n3qh/bt3vayz33a2Q4AyF2hh+NWzpb0T3dfFvYgAAqDrV2r2PjxQcGuT5+gYHf33dJnPpPx5xg5sFQL1yS2u7Sif2lQygMA5Bdz97Bn2MrMxkiqdvfbW20/Q9K9kj6Q9KGk/3L3N1vuU1dXt/ULqamp6fxhAeQvd/V4/XXtO22ayp59Vh+feabWDBum+s9/fpc/5YoG0+j3i7UmUaR9Ys269uAmHdAtd/59BQAEysvLtz4uKyuz1q/nTDg2s5iC4HuEu3/U6rU9JDW7+0YzGyrpNncvb7lPy3CcbTU1NdsdaLSN45QZjlNmduk41dcrOn16sILdxo1KXH21kldcId9rr84ZMkfwZyozHKfMcF4qjlYAABjtSURBVJwyw3HKTNjHqa1wnEuXVZyv4KzxR61fcPcNLR7PNrO/mtne7r42qxMCyEtF770XFOymTlXqpJO0+de/VtOZZ7KCHQBgB7kUji+XNLmtF8ysj6SP3N3N7CQFt6CrzeZwAPJMKqXiRx4JCnZvvLFTBTsAQOHKiXBsZj0knSvpey22XStJ7j5a0jBJ/2ZmTZIaJF3muXI9CICcYmvWBAW7sWPVvP/+SgwfrvpLLpFKSsIeDQCQB3IiHLv7Jkm9W20b3eLx7ZJub/1xAArPsnhSo6rjWry2RAM+XBcs09yzWJGXXlKsslLRRx9V8qKLtGniRDUfe2zY4wIA8kxOhGMAyMT2yzRH9PaaWn323on61aJ7FGuoV2L4cDX84Q/SnnuGPSoAIE8RjgHkjS3LNJevXqrvPztZ31n4gJ4ZMFC3XvpT/fA/LqRgBwDYbYRjAPmhqUmfe+oRzXlwoo758F1VffFrGnjddL3fa3+d1iemHxKMAQAdgHAMIKfZ6tVBwW7cOF3ZY1/dcNI3Nf2Y85Qojm3dh2WaAQAdhVMtAHKPuyIvvKBuI0ao9MQTVfT++9o0aZIa583R82dcvF0wZplmAEBH4swxgNyxaZOi06YFK9g1NAQFu1tu2Vqw6ydp5uDewd0qajdqQO+ewd0qSqPhzg0A6DIIxwBCV1RTs20Fu1NO0ebf/lZNgwa1WbDrVxpVxaBeqqmpVXn5wSFMCwDoygjHAMLR1KTihx9WrKpKkbfeUuI739HG+fPlBx0U9mQAgAJGOAaQVbZ6tWJ33aXYuHFqPvBAJUaMUP1FF7GCHQAgJxCOAXS+dMEuVlWl6Ny5Sl5yiTZNnqzmo48OezIAALZDOAbQeTZuVGzaNMUqK6XGxh0KdgAA5BrCMYAOV/SPfyhWWanotGlKnXqqGm68UanTT2cFOwBAziMcA+gYTU0qnj1bJZWVKnrnHSW++10KdgCAvEM4BrBb7KOPthXsDj5YieHDlaRgBwDIU4RjFKRl8aRGVce1sj6lvt0jLCSxs9wVef75oGA3b54SX/2qNk2ZQsEOAJD3CMcoOMviSV0yp1ZL4qmt2xauSWjm4N4E5E+zcaNi99wTFOwSiaBgd+utFOwAAF0G4RgFZ1R1fLtgLElL4imNqo6rYlCvkKbKbUXvvhucJZ42TakvfUkNv/udUoMGSWZhjwYAQIciHKPgrKxPtbl9VTvbC1ZTk4ofekglVVXbCnZPPy0/8MCwJwMAoNMQjlFw+naPtLm9TzvbC42tWhUU7O66S839+ikxYoSSF14oxWJhjwYAQKcjHKPgjBxYqoVrEttdWtG/NCjlFSx3RZ57Lrg38eOPK/G1r2nT1KlqPuqosCcDACCrCMcoOP1Ko5o5uLdGVce1qj6lPoV8t4p4PCjYVVVJyWRQsPvzn6WysrAnAwAgFIRjFKR+pdGCLt8VvfPOtoLdaaep4aabghXsKNgBAAoc4RgoFMlksIJdRYWKamqCgt2zz8oPOCDsyQAAyBmEY6CLs1WrFBs3LijYHXIIBTsAAD4B4RjoitwVefbZoGD3xBNKfP3r2jRtmpqPPHKnPg0rCQIACg3hGOhK4nHFpk4NCnaplBIjRqjhttt2qWDHSoIAgEJEOAa6gKK33w4KdtOnK3X66Wq4+ebdLtixkiAAoBARjoF8lUwGK9hVVKjovfc6vGDHSoIAgEJEOAbyjK1cua1gN2BAULC74IIOL9ixkiAAoBARjoF84K7IM8+opLJSxU8+GRTs7r1XzUcc0WlvyUqCAIBClDPh2MyWSopLSklqcvcTWr1ukm6TNFRSvaSr3L0623Ni522548HitSUa8OE67niwMzZs2Fawc1di+HDV/9//SXvs0elvzUqCAIBClDPhOO1Md1/bzmvnSypP/zpZ0t/SvyOHbX/Hg4gWbWjgjgcZKHrrraBgd++9Sg0apIbf/16p007L+gp2hb6SIACg8ORaOP4kF0sa7+4u6QUz29PM+rr7yrAHQ/u448FOSCYVffBBHfaXv6jHypVKXHmlNj73nHz//cOeDACAgmFB1gyfmS2R9LEkl/R3d7+z1esPSrrZ3Z9JP39M0s/dfaEk1dXVbf1CampqsjY3Ptm1r5Vo0YYdC1zHl6U0+qjGECbKPdHVq7XPffdp75kz1XjwwVo9bJjWn3mmvDifvncFACA/lJeXb31cVla2w49kc+n/vl929xVmtq+kuWb2jrvP35VP1PKLzoaampqsv2e+GPDhOi3a0LDj9t49VV5+cAgT5Qh3RZ5+WiWVlYrMn6/ksGFqnDVLzV/4gj7mz1NG+HuXOY5VZjhOmeE4ZYbjlJlcPE45E47dfUX699Vmdp+kkyS1DMcrJB3U4vmB6W3IYdzxoJUNGxSbMiUo2JkpMWKE6m+/PSsFOwAA8OmKwh5Aksysh5mVbnks6TxJb7TabZak71rgi5LquN44922548GlA7rp+LKULh3QrSDLeEVvvaXP/OQn2uOooxR57jk13HqrNj7/vBIjRhCMAQDIIbly5ng/SfcFd2tTsaS73f0RM7tWktx9tKTZCm7j9p6CW7n9S0izYidtueNBTU1tYV1KkUgo+uCDilVUqGjpUiWuvFLxF16Q9+0b9mQAAKAdORGO3X2xpGPa2D66xWOX9INszgXsCluxIljBbvx4NZeXq/Haa9U0dKgULayz5QAA5KOcCMdA3nNXZP78oGD39NNKXnqpNt1/v5oPPzzsyQAAwE4gHAO7o65uW8EuEgkKdn/9q1RaoIVDAADyHOEY2AVFb76pWGWlYjNmKHnWWWr405+UOvXUrK9gBwAAOhbhGMhUIqHoAw8oVlmpomXLgoLdiy/K+/QJezIAANBBCMfAp7AVKxQbO1axCRPUfOihFOwAAOjCCMdAW9oq2M2apebDDgt7MgAA0IkIx0BLdXWKTZ4cFOyi0aBg97e/ST17dvpbL4snNao6rsVrSzTgw3UaObC04BZLAQAgbIRjQFLRG28EBbv77lPy7LPVcNttSp1yStYKdsviSV0ypza9zHZEizY0aOGaREGuJggAQJgIxyhciYSis2YFBbv331fiqqsUf+kl+X77ZX2UUdXxdDDeZkk8pVHVcVUM6pX1eQAAKFSEYxQc++CDbSvYff7zavz+94OCXXF4fx1W1qfa3L6qne0AAKBzEI5RGNwVeeqpoGD37LNBwe7BB9V86KFhTyZJ6ts90ub2Pu1sBwAAnYNwjK5t/fqgYDdmTFCwu+Ya1Y8enZWC3c4YObBUC9cktru0on9pRCMHstIeAADZRDhGl1T0+usqqaxUdOZMJc85Rw1/+YtSX/xizq5g1680qpmDewd3q6jdqAG9e3K3CgAAQkA4RtfR2BgU7KqqVLR8eagFu13RrzSqikG9VFNTq/Lyg8MeBwCAgkQ4Rt6z5cuDgt2ECUHB7gc/UNP554dasAMAAPmJ9ID81Nys4qeeUqyiQpHnn1fyG9/IqYIdAADIT4Rj5Jf16xW7++6gYFdSosZrrlF9RYXUo0fYkwEAgC6AcIy8UPTaayqpqgoKdueeq4bbb1fq5JNztmAH5AKWJAeAnUc4Ru5qbFT0/vuDgt2KFUHBbsEC+b77hj0ZkPNYkhwAdg3hGDnHli9XbOxYxSZMUOqII9T4wx+qacgQCnbATmBJcgDYNaQN5IbmZhU/+aRilZVBwe6b39Sm2bPVXF4e9mRAXmJJcgDYNYRjhGv9esUmTQoKdt26UbADOghLkgPAriEcIxRFr74aFOzuv1/J885Tw1//qtRJJ1GwAzoIS5IDwK4hHCNrLJFQdOpUxSorVbRypRL/8i8U7IBOwpLkALBrCMfodPb++4qNHauj77pLOuYYNf7nf6pp8GAKdkAnY0lyANh5pBN0juZmFT/xRLCC3YsvKnnZZXrnzjt18DnnhD0ZAABAuwjH6Fjr1ys2cWJQsOvRIyjYVVUFj2tqwp4OAADgExGO0SGKXnklKNjNmqXk4MFqGD1aqRNPpGAHAADyCuEYu27zZkVnzgxWsFu5Uomrr1Z84UL5PvuEPRkAAMAuCT0cm9lBksZL2k+SS7rT3W9rtc8Zku6XtCS9aYa735DNObGNLVsWrGA3caJSRx+txh//OCjYRbh/KgAAyG+hh2NJTZKuc/dqMyuVtMjM5rr7W632e9rdLwhhPkhBwe7xx4OC3YIFSl52mTY98oiaP/e5sCcDAADoMKGHY3dfKWll+nHczN6WdICk1uEYIbCPP1Z0S8GutFSNI0aofuxYqXv3sEcDAADocKGH45bM7BBJx0l6sY2XTzGzVyV9KOm/3P3NLI5WcIpeeUUlFRWKPvhgULD7+98p2AEAgC7P3D3sGSRJZtZT0lOSbnT3Ga1e20NSs7tvNLOhkm5z9/KW+9TV1W39Qmq4ZdguscZG9Zo3T/tMm6Zoba3WfP3rWnvRRWrq1Svs0QAAADpEefm2CFlWVrbDWb+cCMdmFpX0oKQ57v7HDPZfKukEd1+7ZVvLcJxtNTU12x3ofGNLl6pk7FhFJ01S6phjlBg+vFMKdvl+nLKF45QZjlPmOFaZ4ThlhuOUGY5TZsI+Tm2F49AvqzAzk1Ql6e32grGZ9ZH0kbu7mZ0kqUhSbRbH7Hqam1X82GOKVVYGBbvLL9emOXPU/NnPhj0ZAABAaEIPx5K+JOk7kl43s1fS2/5b0sGS5O6jJQ2T9G9m1iSpQdJlngunvPOQrVun6KRJilVVSWVlFOwAAABaCD0cu/szkj6x5eXut0u6PTsTdU2Rl19WbEvB7vzz1VBRodQJJ1CwAwAAaCH0cIxO1NCg6H33KVZZqaI1a4IV7Kqr5XvvHfZkAAAAOYlw3AXZ0qUqGTMmKNgde6waf/pTNZ13HivYAQAAfArCcVeRSm0r2C1cqOS3vqVNc+eqecCAsCcDAADIG4TjPGfr1ik6caJKqqrke+4ZFOzGjaNgBwAAsAsIx3kqsmiRYpWVij70kJJDh6q+qkqp44+nYAcAALAbCMf5pKFB0RkzgoJdba0ahw/X5lGj5L17hz0ZAABAl0A4zgO2dKlKqqoUvftupQYOVOPPf66mc8+lYAcAANDBCMe5KpVS8bx5QcGuujoo2M2bp+b+/cOeDAAAoMsiHOcYq60NCnZjxqi5Vy8lRoxQ/fjxUrduYY8GAADQ5RGOc0Rk0aJgBbvZs5X8yldUP3asUgMHhj0WAABAQSEch6mhQdF771WsqkpF69YFBbsbb9ytgt2yeFKjquNaWZ9S3+4RjRxYqn6l0Q4cGgAAoOsiHIegaMkSxaqqFJ08Wanjj1fjL36hprPP3u2C3bJ4UpfMqdWSeGrrtoVrEpo5uDcBGQAAIANFYQ9QMFIpFT/yiLoPG6Ye55wjFRVp42OPqf6eezpsaedR1fHtgrEkLYmnNKo6vtufGwAAoBBw5riTWW2tohMmBAW7vfcOCnYTJnRKwW5lfarN7ava2Q4AAIDtEY47g/u2gt0jjwQFu3HjOr1g17d722ef+7SzHQAAANsjHHek+vqtBTtbv16J4cO1+aab5L16ZeXtRw4s1cI1ie0urehfGpTyAAAA8OkIxx2gZPlyfWbcuKBgd+KJavzlL4OCXVF2L+nuVxrVzMG9Nao6rlX1KfXhbhUAAAA7hXC8myLPPKPDhw9X83e/q42PPy4/5JBQ5+lXGlXFoOycqQYAAOhqCMe7KfXFL+q1Bx7Q5448MuxRAAAAsJu4ldvuKi6Wl5SEPQUAAAA6AOEYAAAASCMcAwAAAGmEYwAAACCNcAwAAACkEY4BAACANMIxAAAAkEY4BgAAANIIxwAAAEAa4RgAAABIIxwDAAAAaTkRjs1siJm9a2bvmdn1bbxeYmZT06+/aGaHZH/KHS2LJ3XNU+t07WsluuapdVoWT4Y9EgAAAHZDcdgDmFlE0h2SzpX0gaQFZjbL3d9qsdtwSR+7++fM7DJJ/yvpm9mfdptl8aQumVOrJfGUpIgWbWjQwjUJzRzcW/1Ko2GOBgAAgF2UC2eOT5L0nrsvdveEpCmSLm61z8WS7ko/ni7pbDOzLM64g1HV8XQw3mZJPKVR1fGQJgIAAMDuMncPdwCzYZKGuPuI9PPvSDrZ3f+9xT5vpPf5IP38n+l91m7Zp66ubusXUlNT0+lzX/taiRZtiOyw/fiylEYf1djp7w8AAICdV15evvVxWVnZDidbQ7+sojO0/KI7y4AP12nRhoYdt/fuqfLygzv9/fNRTU1NVv7b5DuOU2Y4TpnjWGWG45QZjlNmOE6ZycXjlAuXVayQdFCL5wemt7W5j5kVSyqTVJuV6doxcmCp+pduf+a4f2lEIweWhjQRAAAAdlcuhOMFksrNrL+ZxSRdJmlWq31mSboy/XiYpMc95OtB+pVGNXNwb106oJuOL0vp0gHdKOMBAADkudAvq3D3JjP7d0lzJEUkjXH3N83sBkkL3X2WpCpJE8zsPUnrFATo0PUrjapiUC/V1NRyKQUAAEAXEHo4liR3ny1pdqttv2rxeLOkS7M9FwAAAApLLlxWAQAAAOQEwjEAAACQRjgGAAAA0gjHAAAAQBrhGAAAAEgjHAMAAABpFvJaGh2mrq6ua3whAAAAyIqysjJrvY0zxwAAAEAa4RgAAABI6zKXVQAAAAC7izPHAAAAQBrhGAAAAEgjHO8GMxtiZu+a2Xtmdn3Y8+QqMzvIzJ4ws7fM7E0z+1HYM+UyM4uY2ctm9mDYs+QqM9vTzKab2Ttm9raZnRL2TLnIzH6c/jv3hplNNrPPhD1TrjCzMWa22szeaLGtl5nNNbOa9O97hTljLmjnOP0h/XfvNTO7z8z2DHPGXNDWcWrx2nVm5ma2dxiz5ZL2jpOZ/TD9Z+pNM/t9WPNtQTjeRWYWkXSHpPMlfUHS5Wb2hXCnyllNkq5z9y9I+qKkH3CsPtGPJL0d9hA57jZJj7j74ZKOEcdrB2Z2gKT/kHSCux8pKSLpsnCnyinjJA1pte16SY+5e7mkx9LPC9047Xic5ko60t2PlvQPSb/I9lA5aJx2PE4ys4MknSfp/WwPlKPGqdVxMrMzJV0s6Rh3P0LSLSHMtR3C8a47SdJ77r7Y3ROSpij4j4tW3H2lu1enH8cVBJkDwp0qN5nZgZK+Iqky7FlylZmVSTpdUpUkuXvC3deHO1XOKpbUzcyKJXWX9GHI8+QMd58vaV2rzRdLuiv9+C5Jl2R1qBzU1nFy90fdvSn99AVJB2Z9sBzTzp8nSfqTpJ9J4u4Havc4/Zukm929Mb3P6qwP1grheNcdIGl5i+cfiMD3qczsEEnHSXox3Ely1p8V/EPaHPYgOay/pDWSxqYvP6k0sx5hD5Vr3H2FgjMw70taKanO3R8Nd6qct5+7r0w/XiVpvzCHyRNXS3o47CFykZldLGmFu78a9iw57lBJp5nZi2b2lJmdGPZAhGNkjZn1lHSvpP909w1hz5NrzOwCSavdfVHYs+S4YkkDJf3N3Y+TtEn8+HsH6etlL1bwzcT+knqY2bfDnSp/eHCfU872fQIz+6WCy+YmhT1LrjGz7pL+W9Kvwp4lDxRL6qXgssufSrrHzHZYtS6bCMe7boWkg1o8PzC9DW0ws6iCYDzJ3WeEPU+O+pKki8xsqYLLdM4ys4nhjpSTPpD0gbtv+enDdAVhGds7R9ISd1/j7klJMySdGvJMue4jM+srSenfQ//xbq4ys6skXSDpCmfBhLZ8VsE3pq+m/00/UFK1mfUJdarc9IGkGR54ScFPTkMtLxKOd90CSeVm1t/MYgqKLrNCniknpb8DrJL0trv/Mex5cpW7/8LdD3T3QxT8eXrc3TnT14q7r5K03MwOS286W9JbIY6Uq96X9EUz657+O3i2KC5+mlmSrkw/vlLS/SHOkrPMbIiCy78ucvf6sOfJRe7+urvv6+6HpP9N/0DSwPS/X9jeTElnSpKZHSopJmltmAMRjndRuozw75LmKPgfzj3u/ma4U+WsL0n6joIzoa+kfw0NeyjktR9KmmRmr0k6VtLvQp4n56TPrE+XVC3pdQX/3t8Z6lA5xMwmS3pe0mFm9oGZDZd0s6RzzaxGwZn3m8OcMRe0c5xul1QqaW763/PRoQ6ZA9o5TmilneM0RtKA9O3dpki6MuyfRrB8NAAAAJDGmWMAAAAgjXAMAAAApBGOAQAAgDTCMQAAAJBGOAYAAADSCMcAAABAGuEYAAAASCMcAwAAAGmEYwDogszs92Y2s8XzP5jZY+nl7gEA7WCFPADogsyst6TFks6QdLKkH0j6srvXhTkXAOQ6wjEAdFFm9htJX5NUpiAYLw93IgDIfVxWAQBd18uSjpL0C4IxAGSGM8cA0AWZ2VGS5kh6VNKB7n5OyCMBQF7gzDEAdDFmdoCkByRdK+n7ko4yszNCHQoA8gThGAC6EDPbQ9JsSX9091nuXi/pD5JuDHcyAMgPXFYBAAAApHHmGAAAAEgjHAMAAABphGMAAAAgjXAMAAAApBGOAQAAgDTCMQAAAJBGOAYAAADSCMcAAABA2v8H5hOFK4SGoJAAAAAASUVORK5CYII=\n",
                "text/plain": "<Figure size 720x360 with 1 Axes>"
              }
            ],
            "_view_module": "@jupyter-widgets/output",
            "_model_module_version": "1.0.0",
            "_view_count": null,
            "_view_module_version": "1.0.0",
            "layout": "IPY_MODEL_eee0785b32a84284bd42809fb9255da7",
            "_model_module": "@jupyter-widgets/output"
          }
        },
        "163c3057c1b64bb7aa0b705ddb78b1fa": {
          "model_module": "@jupyter-widgets/controls",
          "model_name": "SliderStyleModel",
          "state": {
            "_view_name": "StyleView",
            "handle_color": null,
            "_model_name": "SliderStyleModel",
            "description_width": "",
            "_view_module": "@jupyter-widgets/base",
            "_model_module_version": "1.5.0",
            "_view_count": null,
            "_view_module_version": "1.2.0",
            "_model_module": "@jupyter-widgets/controls"
          }
        },
        "d4984c5bdeac4ae787629a6d4469bb47": {
          "model_module": "@jupyter-widgets/base",
          "model_name": "LayoutModel",
          "state": {
            "_view_name": "LayoutView",
            "grid_template_rows": null,
            "right": null,
            "justify_content": null,
            "_view_module": "@jupyter-widgets/base",
            "overflow": null,
            "_model_module_version": "1.2.0",
            "_view_count": null,
            "flex_flow": null,
            "width": null,
            "min_width": null,
            "border": null,
            "align_items": null,
            "bottom": null,
            "_model_module": "@jupyter-widgets/base",
            "top": null,
            "grid_column": null,
            "overflow_y": null,
            "overflow_x": null,
            "grid_auto_flow": null,
            "grid_area": null,
            "grid_template_columns": null,
            "flex": null,
            "_model_name": "LayoutModel",
            "justify_items": null,
            "grid_row": null,
            "max_height": null,
            "align_content": null,
            "visibility": null,
            "align_self": null,
            "height": null,
            "min_height": null,
            "padding": null,
            "grid_auto_rows": null,
            "grid_gap": null,
            "max_width": null,
            "order": null,
            "_view_module_version": "1.2.0",
            "grid_template_areas": null,
            "object_position": null,
            "object_fit": null,
            "grid_auto_columns": null,
            "margin": null,
            "display": null,
            "left": null
          }
        },
        "29b6bc903b44491ea62e7752ea08d3ab": {
          "model_module": "@jupyter-widgets/controls",
          "model_name": "SliderStyleModel",
          "state": {
            "_view_name": "StyleView",
            "handle_color": null,
            "_model_name": "SliderStyleModel",
            "description_width": "",
            "_view_module": "@jupyter-widgets/base",
            "_model_module_version": "1.5.0",
            "_view_count": null,
            "_view_module_version": "1.2.0",
            "_model_module": "@jupyter-widgets/controls"
          }
        },
        "d3e1c3af5e384989829562064ce514bc": {
          "model_module": "@jupyter-widgets/base",
          "model_name": "LayoutModel",
          "state": {
            "_view_name": "LayoutView",
            "grid_template_rows": null,
            "right": null,
            "justify_content": null,
            "_view_module": "@jupyter-widgets/base",
            "overflow": null,
            "_model_module_version": "1.2.0",
            "_view_count": null,
            "flex_flow": null,
            "width": null,
            "min_width": null,
            "border": null,
            "align_items": null,
            "bottom": null,
            "_model_module": "@jupyter-widgets/base",
            "top": null,
            "grid_column": null,
            "overflow_y": null,
            "overflow_x": null,
            "grid_auto_flow": null,
            "grid_area": null,
            "grid_template_columns": null,
            "flex": null,
            "_model_name": "LayoutModel",
            "justify_items": null,
            "grid_row": null,
            "max_height": null,
            "align_content": null,
            "visibility": null,
            "align_self": null,
            "height": null,
            "min_height": null,
            "padding": null,
            "grid_auto_rows": null,
            "grid_gap": null,
            "max_width": null,
            "order": null,
            "_view_module_version": "1.2.0",
            "grid_template_areas": null,
            "object_position": null,
            "object_fit": null,
            "grid_auto_columns": null,
            "margin": null,
            "display": null,
            "left": null
          }
        },
        "eee0785b32a84284bd42809fb9255da7": {
          "model_module": "@jupyter-widgets/base",
          "model_name": "LayoutModel",
          "state": {
            "_view_name": "LayoutView",
            "grid_template_rows": null,
            "right": null,
            "justify_content": null,
            "_view_module": "@jupyter-widgets/base",
            "overflow": null,
            "_model_module_version": "1.2.0",
            "_view_count": null,
            "flex_flow": null,
            "width": null,
            "min_width": null,
            "border": null,
            "align_items": null,
            "bottom": null,
            "_model_module": "@jupyter-widgets/base",
            "top": null,
            "grid_column": null,
            "overflow_y": null,
            "overflow_x": null,
            "grid_auto_flow": null,
            "grid_area": null,
            "grid_template_columns": null,
            "flex": null,
            "_model_name": "LayoutModel",
            "justify_items": null,
            "grid_row": null,
            "max_height": null,
            "align_content": null,
            "visibility": null,
            "align_self": null,
            "height": null,
            "min_height": null,
            "padding": null,
            "grid_auto_rows": null,
            "grid_gap": null,
            "max_width": null,
            "order": null,
            "_view_module_version": "1.2.0",
            "grid_template_areas": null,
            "object_position": null,
            "object_fit": null,
            "grid_auto_columns": null,
            "margin": null,
            "display": null,
            "left": null
          }
        }
      }
    }
  },
  "cells": [
    {
      "cell_type": "markdown",
      "metadata": {
        "id": "view-in-github",
        "colab_type": "text"
      },
      "source": [
        "<a href=\"https://colab.research.google.com/github/jugernaut/Numerico2021/blob/desarrollo/05_MinimosCuadrados/MinimosCuadrados_interactive.ipynb\" target=\"_parent\"><img src=\"https://colab.research.google.com/assets/colab-badge.svg\" alt=\"Open In Colab\"/></a>"
      ]
    },
    {
      "cell_type": "code",
      "metadata": {
        "id": "fdESYp-P8diM",
        "colab": {
          "base_uri": "https://localhost:8080/",
          "height": 638,
          "referenced_widgets": [
            "855deec96e654495bed831ddf9343035",
            "16d9c0f44f6641b9861a2880a9f649ab",
            "5dcb1371b4e34691ac1e73812bc2d24c",
            "ad7371ea6c744f1585ad7938fd564c33",
            "e4b49d4ca49a41b38d9570ba23171f25",
            "163c3057c1b64bb7aa0b705ddb78b1fa",
            "d4984c5bdeac4ae787629a6d4469bb47",
            "29b6bc903b44491ea62e7752ea08d3ab",
            "d3e1c3af5e384989829562064ce514bc",
            "eee0785b32a84284bd42809fb9255da7"
          ]
        },
        "outputId": "b4aa983b-2a97-4b9e-ebb1-20f2c9f89585"
      },
      "source": [
        "!git clone https://github.com/jugernaut/Numerico2021.git\n",
        "import numpy as np\n",
        "import matplotlib.pyplot as plt\n",
        "import Numerico2021.Utils.gutils as vis\n",
        "import random\n",
        "from IPython.html.widgets import interact\n",
        "import ipywidgets as widgets\n",
        "%matplotlib inline\n",
        " \n",
        "# funcion para generar datos aleatorios\n",
        "def gen_data(n, bias, varianza):\n",
        "    x = []\n",
        "    y = []\n",
        "    for i in range(0, n):\n",
        "        x.append(i)\n",
        "        y.append((i + bias) + random.uniform(0, 1) * varianza)\n",
        "    return x, y\n",
        "\n",
        "# ecuacion parametrica de la recta\n",
        "def aprox(alfa, beta, n):\n",
        "    x = np.linspace(0, n, n)\n",
        "    y = alfa+beta*x\n",
        "    return x,y\n",
        "\n",
        "def tanteo(alfa, beta):\n",
        "    # conjunto de datos aletorios\n",
        "    # x,y = gen_data(n, 5, 15)\n",
        "    x = [0,1,2,3,4,5,6,7,8,9,10,11,12,13,14,15]\n",
        "    y = [0,1.3,5,6,4,5.4,7,7.7,3.3,10,14,11.7,12.1,13.9,14.3,15.9]\n",
        "    # recta que intenta ajustar los datos\n",
        "    xaprox,yaprox = aprox(alfa,beta,16)\n",
        "    error = vis.RMS(y,yaprox)\n",
        "\n",
        "    par = [{'title':'$y= a + b x$', \n",
        "            'xlabel':'$x$',\n",
        "            'ylabel':'$y$'}]\n",
        "    graf = vis.planoCartesiano(par=par)\n",
        "    graf.scatter(x=x,y=y)\n",
        "    graf.plot(x=xaprox, y=yaprox, par={'ls':'-', 'lw':1, 'color':'red'})\n",
        "    # se muestra el error cuadratico\n",
        "    print('Error cuadratico medio ='+str(error))\n",
        "    graf.show()\n",
        "\n",
        "interact(tanteo, alfa=widgets.IntSlider(min=-15,max=15,step=1,value=0), \n",
        "         beta=widgets.IntSlider(min=-15,max=15,step=1,value=0))\n",
        "\n"
      ],
      "execution_count": 1,
      "outputs": [
        {
          "output_type": "stream",
          "text": [
            "Cloning into 'Numerico2021'...\n",
            "remote: Enumerating objects: 8, done.\u001b[K\n",
            "remote: Counting objects: 100% (8/8), done.\u001b[K\n",
            "remote: Compressing objects: 100% (8/8), done.\u001b[K\n",
            "remote: Total 2142 (delta 1), reused 0 (delta 0), pack-reused 2134\u001b[K\n",
            "Receiving objects: 100% (2142/2142), 10.80 MiB | 34.13 MiB/s, done.\n",
            "Resolving deltas: 100% (1374/1374), done.\n"
          ],
          "name": "stdout"
        },
        {
          "output_type": "stream",
          "text": [
            "/usr/local/lib/python3.6/dist-packages/IPython/html.py:14: ShimWarning: The `IPython.html` package has been deprecated since IPython 4.0. You should import from `notebook` instead. `IPython.html.widgets` has moved to `ipywidgets`.\n",
            "  \"`IPython.html.widgets` has moved to `ipywidgets`.\", ShimWarning)\n"
          ],
          "name": "stderr"
        },
        {
          "output_type": "display_data",
          "data": {
            "application/vnd.jupyter.widget-view+json": {
              "model_id": "855deec96e654495bed831ddf9343035",
              "version_minor": 0,
              "version_major": 2
            },
            "text/plain": [
              "interactive(children=(IntSlider(value=0, description='alfa', max=15, min=-15), IntSlider(value=0, description=…"
            ]
          },
          "metadata": {
            "tags": []
          }
        },
        {
          "output_type": "execute_result",
          "data": {
            "text/plain": [
              "<function __main__.tanteo>"
            ]
          },
          "metadata": {
            "tags": []
          },
          "execution_count": 1
        }
      ]
    }
  ]
}