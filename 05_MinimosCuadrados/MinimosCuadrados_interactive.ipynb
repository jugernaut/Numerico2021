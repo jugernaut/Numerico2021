{
  "nbformat": 4,
  "nbformat_minor": 0,
  "metadata": {
    "colab": {
      "name": "MinimosCuadrados_interactive.ipynb",
      "provenance": [],
      "authorship_tag": "ABX9TyPeGrQUMvxuE4Tktes/3epH",
      "include_colab_link": true
    },
    "kernelspec": {
      "name": "python3",
      "display_name": "Python 3"
    }
  },
  "cells": [
    {
      "cell_type": "markdown",
      "metadata": {
        "id": "view-in-github",
        "colab_type": "text"
      },
      "source": [
        "<a href=\"https://colab.research.google.com/github/jugernaut/Numerico2021/blob/desarrollo/05_MinimosCuadrados/MinimosCuadrados_interactive.ipynb\" target=\"_parent\"><img src=\"https://colab.research.google.com/assets/colab-badge.svg\" alt=\"Open In Colab\"/></a>"
      ]
    },
    {
      "cell_type": "code",
      "metadata": {
        "id": "fdESYp-P8diM"
      },
      "source": [
        "!git clone https://github.com/jugernaut/Numerico2021.git\n",
        "import numpy as np\n",
        "import matplotlib.pyplot as plt\n",
        "import Numerico2021.Utils.gutils as vis\n",
        "import random\n",
        "%matplotlib inline\n",
        " \n",
        "# funcion para generar datos aleatorios\n",
        "def gen_data(n, bias, varianza):\n",
        "    x = []\n",
        "    y = []\n",
        "    for i in range(0, n):\n",
        "        x.append(i)\n",
        "        y.append((i + bias) + random.uniform(0, 1) * varianza)\n",
        "    return x, y\n",
        "\n",
        "# ecuacion parametrica de la recta\n",
        "def aprox(alfa, beta, n):\n",
        "    x = np.linspace(0, n, n)\n",
        "    y = alfa*x+beta\n",
        "    return x,y\n",
        " \n",
        "# conjunto de datos aletorios\n",
        "x,y = gen_data(25, 5, 15)\n",
        "# recta que intenta ajustar los datos\n",
        "xaprox,yaprox = aprox(1.5,5,25)\n",
        "\n",
        "par = [{'title':'Ajuste por minimos cuadrados', \n",
        "        'xlabel':'$x$',\n",
        "        'ylabel':'$y$'}]\n",
        "graf = vis.planoCartesiano(par=par)\n",
        "graf.scatter(x=x,y=y)\n",
        "graf.plot(x=xaprox, y=yaprox, par={'ls':'-', 'lw':1, 'color':'red'})\n",
        "graf.show()"
      ],
      "execution_count": null,
      "outputs": []
    }
  ]
}