{
  "nbformat": 4,
  "nbformat_minor": 0,
  "metadata": {
    "colab": {
      "name": "MinimosCuadrados_interactive.ipynb",
      "provenance": [],
      "authorship_tag": "ABX9TyMfLe5JFKtH9aYsXcscPzxw",
      "include_colab_link": true
    },
    "kernelspec": {
      "name": "python3",
      "display_name": "Python 3"
    },
    "widgets": {
      "application/vnd.jupyter.widget-state+json": {
        "03aa29c7861149e395c1dcf965de791e": {
          "model_module": "@jupyter-widgets/controls",
          "model_name": "VBoxModel",
          "state": {
            "_view_name": "VBoxView",
            "_dom_classes": [
              "widget-interact"
            ],
            "_model_name": "VBoxModel",
            "_view_module": "@jupyter-widgets/controls",
            "_model_module_version": "1.5.0",
            "_view_count": null,
            "_view_module_version": "1.5.0",
            "box_style": "",
            "layout": "IPY_MODEL_be516ea2dcdc451b9fdcb9ee72c4eeb1",
            "_model_module": "@jupyter-widgets/controls",
            "children": [
              "IPY_MODEL_5bcab03d5546476d9af752b85c62e240",
              "IPY_MODEL_49fe2b009dfb4e59a8f967406517732f",
              "IPY_MODEL_4c7c38f2ae3140868e881d9c10dfe1c8"
            ]
          }
        },
        "be516ea2dcdc451b9fdcb9ee72c4eeb1": {
          "model_module": "@jupyter-widgets/base",
          "model_name": "LayoutModel",
          "state": {
            "_view_name": "LayoutView",
            "grid_template_rows": null,
            "right": null,
            "justify_content": null,
            "_view_module": "@jupyter-widgets/base",
            "overflow": null,
            "_model_module_version": "1.2.0",
            "_view_count": null,
            "flex_flow": null,
            "width": null,
            "min_width": null,
            "border": null,
            "align_items": null,
            "bottom": null,
            "_model_module": "@jupyter-widgets/base",
            "top": null,
            "grid_column": null,
            "overflow_y": null,
            "overflow_x": null,
            "grid_auto_flow": null,
            "grid_area": null,
            "grid_template_columns": null,
            "flex": null,
            "_model_name": "LayoutModel",
            "justify_items": null,
            "grid_row": null,
            "max_height": null,
            "align_content": null,
            "visibility": null,
            "align_self": null,
            "height": null,
            "min_height": null,
            "padding": null,
            "grid_auto_rows": null,
            "grid_gap": null,
            "max_width": null,
            "order": null,
            "_view_module_version": "1.2.0",
            "grid_template_areas": null,
            "object_position": null,
            "object_fit": null,
            "grid_auto_columns": null,
            "margin": null,
            "display": null,
            "left": null
          }
        },
        "5bcab03d5546476d9af752b85c62e240": {
          "model_module": "@jupyter-widgets/controls",
          "model_name": "IntSliderModel",
          "state": {
            "_view_name": "IntSliderView",
            "style": "IPY_MODEL_241c43da9c464d77932093b3b1ef6983",
            "_dom_classes": [],
            "description": "alfa",
            "step": 1,
            "_model_name": "IntSliderModel",
            "orientation": "horizontal",
            "max": 3,
            "_view_module": "@jupyter-widgets/controls",
            "_model_module_version": "1.5.0",
            "value": 0,
            "_view_count": null,
            "disabled": false,
            "_view_module_version": "1.5.0",
            "min": -1,
            "continuous_update": true,
            "readout_format": "d",
            "description_tooltip": null,
            "readout": true,
            "_model_module": "@jupyter-widgets/controls",
            "layout": "IPY_MODEL_350c8d48f57b4366af12b4553e9a2898"
          }
        },
        "49fe2b009dfb4e59a8f967406517732f": {
          "model_module": "@jupyter-widgets/controls",
          "model_name": "IntSliderModel",
          "state": {
            "_view_name": "IntSliderView",
            "style": "IPY_MODEL_894c373d6c194ca5bbd4c8b8255508f7",
            "_dom_classes": [],
            "description": "beta",
            "step": 1,
            "_model_name": "IntSliderModel",
            "orientation": "horizontal",
            "max": 3,
            "_view_module": "@jupyter-widgets/controls",
            "_model_module_version": "1.5.0",
            "value": 1,
            "_view_count": null,
            "disabled": false,
            "_view_module_version": "1.5.0",
            "min": -1,
            "continuous_update": true,
            "readout_format": "d",
            "description_tooltip": null,
            "readout": true,
            "_model_module": "@jupyter-widgets/controls",
            "layout": "IPY_MODEL_eff128cdc35a477ea505eaf81b255950"
          }
        },
        "4c7c38f2ae3140868e881d9c10dfe1c8": {
          "model_module": "@jupyter-widgets/output",
          "model_name": "OutputModel",
          "state": {
            "_view_name": "OutputView",
            "msg_id": "",
            "_dom_classes": [],
            "_model_name": "OutputModel",
            "outputs": [
              {
                "output_type": "stream",
                "metadata": {
                  "tags": []
                },
                "text": "Error cuadratico medio =1.8735735314574067\n",
                "stream": "stdout"
              },
              {
                "output_type": "display_data",
                "metadata": {
                  "tags": []
                },
                "image/png": "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\n",
                "text/plain": "<Figure size 720x360 with 1 Axes>"
              }
            ],
            "_view_module": "@jupyter-widgets/output",
            "_model_module_version": "1.0.0",
            "_view_count": null,
            "_view_module_version": "1.0.0",
            "layout": "IPY_MODEL_e19d861ce60f4b6a95a8529bf2f1591e",
            "_model_module": "@jupyter-widgets/output"
          }
        },
        "241c43da9c464d77932093b3b1ef6983": {
          "model_module": "@jupyter-widgets/controls",
          "model_name": "SliderStyleModel",
          "state": {
            "_view_name": "StyleView",
            "handle_color": null,
            "_model_name": "SliderStyleModel",
            "description_width": "",
            "_view_module": "@jupyter-widgets/base",
            "_model_module_version": "1.5.0",
            "_view_count": null,
            "_view_module_version": "1.2.0",
            "_model_module": "@jupyter-widgets/controls"
          }
        },
        "350c8d48f57b4366af12b4553e9a2898": {
          "model_module": "@jupyter-widgets/base",
          "model_name": "LayoutModel",
          "state": {
            "_view_name": "LayoutView",
            "grid_template_rows": null,
            "right": null,
            "justify_content": null,
            "_view_module": "@jupyter-widgets/base",
            "overflow": null,
            "_model_module_version": "1.2.0",
            "_view_count": null,
            "flex_flow": null,
            "width": null,
            "min_width": null,
            "border": null,
            "align_items": null,
            "bottom": null,
            "_model_module": "@jupyter-widgets/base",
            "top": null,
            "grid_column": null,
            "overflow_y": null,
            "overflow_x": null,
            "grid_auto_flow": null,
            "grid_area": null,
            "grid_template_columns": null,
            "flex": null,
            "_model_name": "LayoutModel",
            "justify_items": null,
            "grid_row": null,
            "max_height": null,
            "align_content": null,
            "visibility": null,
            "align_self": null,
            "height": null,
            "min_height": null,
            "padding": null,
            "grid_auto_rows": null,
            "grid_gap": null,
            "max_width": null,
            "order": null,
            "_view_module_version": "1.2.0",
            "grid_template_areas": null,
            "object_position": null,
            "object_fit": null,
            "grid_auto_columns": null,
            "margin": null,
            "display": null,
            "left": null
          }
        },
        "894c373d6c194ca5bbd4c8b8255508f7": {
          "model_module": "@jupyter-widgets/controls",
          "model_name": "SliderStyleModel",
          "state": {
            "_view_name": "StyleView",
            "handle_color": null,
            "_model_name": "SliderStyleModel",
            "description_width": "",
            "_view_module": "@jupyter-widgets/base",
            "_model_module_version": "1.5.0",
            "_view_count": null,
            "_view_module_version": "1.2.0",
            "_model_module": "@jupyter-widgets/controls"
          }
        },
        "eff128cdc35a477ea505eaf81b255950": {
          "model_module": "@jupyter-widgets/base",
          "model_name": "LayoutModel",
          "state": {
            "_view_name": "LayoutView",
            "grid_template_rows": null,
            "right": null,
            "justify_content": null,
            "_view_module": "@jupyter-widgets/base",
            "overflow": null,
            "_model_module_version": "1.2.0",
            "_view_count": null,
            "flex_flow": null,
            "width": null,
            "min_width": null,
            "border": null,
            "align_items": null,
            "bottom": null,
            "_model_module": "@jupyter-widgets/base",
            "top": null,
            "grid_column": null,
            "overflow_y": null,
            "overflow_x": null,
            "grid_auto_flow": null,
            "grid_area": null,
            "grid_template_columns": null,
            "flex": null,
            "_model_name": "LayoutModel",
            "justify_items": null,
            "grid_row": null,
            "max_height": null,
            "align_content": null,
            "visibility": null,
            "align_self": null,
            "height": null,
            "min_height": null,
            "padding": null,
            "grid_auto_rows": null,
            "grid_gap": null,
            "max_width": null,
            "order": null,
            "_view_module_version": "1.2.0",
            "grid_template_areas": null,
            "object_position": null,
            "object_fit": null,
            "grid_auto_columns": null,
            "margin": null,
            "display": null,
            "left": null
          }
        },
        "e19d861ce60f4b6a95a8529bf2f1591e": {
          "model_module": "@jupyter-widgets/base",
          "model_name": "LayoutModel",
          "state": {
            "_view_name": "LayoutView",
            "grid_template_rows": null,
            "right": null,
            "justify_content": null,
            "_view_module": "@jupyter-widgets/base",
            "overflow": null,
            "_model_module_version": "1.2.0",
            "_view_count": null,
            "flex_flow": null,
            "width": null,
            "min_width": null,
            "border": null,
            "align_items": null,
            "bottom": null,
            "_model_module": "@jupyter-widgets/base",
            "top": null,
            "grid_column": null,
            "overflow_y": null,
            "overflow_x": null,
            "grid_auto_flow": null,
            "grid_area": null,
            "grid_template_columns": null,
            "flex": null,
            "_model_name": "LayoutModel",
            "justify_items": null,
            "grid_row": null,
            "max_height": null,
            "align_content": null,
            "visibility": null,
            "align_self": null,
            "height": null,
            "min_height": null,
            "padding": null,
            "grid_auto_rows": null,
            "grid_gap": null,
            "max_width": null,
            "order": null,
            "_view_module_version": "1.2.0",
            "grid_template_areas": null,
            "object_position": null,
            "object_fit": null,
            "grid_auto_columns": null,
            "margin": null,
            "display": null,
            "left": null
          }
        }
      }
    }
  },
  "cells": [
    {
      "cell_type": "markdown",
      "metadata": {
        "id": "view-in-github",
        "colab_type": "text"
      },
      "source": [
        "<a href=\"https://colab.research.google.com/github/jugernaut/Numerico2021/blob/desarrollo/05_MinimosCuadrados/MinimosCuadrados_interactive.ipynb\" target=\"_parent\"><img src=\"https://colab.research.google.com/assets/colab-badge.svg\" alt=\"Open In Colab\"/></a>"
      ]
    },
    {
      "cell_type": "code",
      "metadata": {
        "id": "fdESYp-P8diM",
        "colab": {
          "base_uri": "https://localhost:8080/",
          "height": 475,
          "referenced_widgets": [
            "03aa29c7861149e395c1dcf965de791e",
            "be516ea2dcdc451b9fdcb9ee72c4eeb1",
            "5bcab03d5546476d9af752b85c62e240",
            "49fe2b009dfb4e59a8f967406517732f",
            "4c7c38f2ae3140868e881d9c10dfe1c8",
            "241c43da9c464d77932093b3b1ef6983",
            "350c8d48f57b4366af12b4553e9a2898",
            "894c373d6c194ca5bbd4c8b8255508f7",
            "eff128cdc35a477ea505eaf81b255950",
            "e19d861ce60f4b6a95a8529bf2f1591e"
          ]
        },
        "outputId": "5b2aa23b-c9ce-43c2-95d1-318b7166879f"
      },
      "source": [
        "# se clona todo el repositorio \n",
        "!git clone https://github.com/jugernaut/Numerico2021.git\n",
        "\n",
        "import numpy as np\n",
        "import matplotlib.pyplot as plt\n",
        "import Numerico2021.Utils.gutils as vis\n",
        "import random\n",
        "from IPython.html.widgets import interact\n",
        "import ipywidgets as widgets\n",
        " \n",
        "# funcion para generar datos aleatorios\n",
        "def gen_data(n, bias, varianza):\n",
        "    x = []\n",
        "    y = []\n",
        "    for i in range(0, n):\n",
        "        x.append(i)\n",
        "        y.append((i + bias) + random.uniform(0, 1) * varianza)\n",
        "    return x, y\n",
        "\n",
        "# ecuacion parametrica de la recta\n",
        "def aprox(alfa, beta, n):\n",
        "    x = np.linspace(0, n, n)\n",
        "    y = alfa+beta*x\n",
        "    return x,y\n",
        "\n",
        "def tanteo(alfa, beta):\n",
        "    # conjunto de datos aletorios\n",
        "    # x,y = gen_data(n, 5, 15)\n",
        "    x = [0,1,2,3,4,5,6,7,8,9,10,11,12,13,14,15]\n",
        "    y = [0,1.3,5,6,4,5.4,7,7.7,3.3,10,14,11.7,12.1,13.9,14.3,15.9]\n",
        "    # recta que intenta ajustar los datos\n",
        "    xaprox,yaprox = aprox(alfa,beta,16)\n",
        "    error = vis.RMS(y,yaprox)\n",
        "\n",
        "    par = [{'title':'$y= a + b x$', \n",
        "            'xlabel':'$x$',\n",
        "            'ylabel':'$y$'}]\n",
        "    graf = vis.planoCartesiano(par=par)\n",
        "    graf.scatter(x=x,y=y)\n",
        "    graf.plot(x=xaprox, y=yaprox, par={'ls':'-', 'lw':1, 'color':'red'})\n",
        "    # se muestra el error cuadratico\n",
        "    print('Error cuadratico medio ='+str(error))\n",
        "\n",
        "interact(tanteo, alfa=widgets.IntSlider(min=-1,max=3,step=1,value=0), \n",
        "         beta=widgets.IntSlider(min=-1,max=3,step=1,value=0))\n",
        "\n"
      ],
      "execution_count": 7,
      "outputs": [
        {
          "output_type": "stream",
          "text": [
            "fatal: destination path 'Numerico2021' already exists and is not an empty directory.\n"
          ],
          "name": "stdout"
        },
        {
          "output_type": "display_data",
          "data": {
            "application/vnd.jupyter.widget-view+json": {
              "model_id": "03aa29c7861149e395c1dcf965de791e",
              "version_minor": 0,
              "version_major": 2
            },
            "text/plain": [
              "interactive(children=(IntSlider(value=0, description='alfa', max=3, min=-1), IntSlider(value=0, description='b…"
            ]
          },
          "metadata": {
            "tags": []
          }
        },
        {
          "output_type": "execute_result",
          "data": {
            "text/plain": [
              "<function __main__.tanteo>"
            ]
          },
          "metadata": {
            "tags": []
          },
          "execution_count": 7
        }
      ]
    }
  ]
}