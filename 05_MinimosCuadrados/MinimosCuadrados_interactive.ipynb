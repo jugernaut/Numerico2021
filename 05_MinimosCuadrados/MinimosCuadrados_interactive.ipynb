{
  "nbformat": 4,
  "nbformat_minor": 0,
  "metadata": {
    "colab": {
      "name": "MinimosCuadrados_interactive.ipynb",
      "provenance": [],
      "authorship_tag": "ABX9TyPDPGbfwJZjz/l6sSwtQrwk",
      "include_colab_link": true
    },
    "kernelspec": {
      "name": "python3",
      "display_name": "Python 3"
    },
    "widgets": {
      "application/vnd.jupyter.widget-state+json": {
        "ed4f165b4cab42a08acd2e55b8789243": {
          "model_module": "@jupyter-widgets/controls",
          "model_name": "VBoxModel",
          "state": {
            "_view_name": "VBoxView",
            "_dom_classes": [
              "widget-interact"
            ],
            "_model_name": "VBoxModel",
            "_view_module": "@jupyter-widgets/controls",
            "_model_module_version": "1.5.0",
            "_view_count": null,
            "_view_module_version": "1.5.0",
            "box_style": "",
            "layout": "IPY_MODEL_5f3dcd3e9e234dc1948b70871a08e347",
            "_model_module": "@jupyter-widgets/controls",
            "children": [
              "IPY_MODEL_36f0a5487aa64651b186e32d296f1c51",
              "IPY_MODEL_8da9d9da68104886aa38e40574f26f95",
              "IPY_MODEL_543b313ec1524a7f88e637a5c6381a56"
            ]
          }
        },
        "5f3dcd3e9e234dc1948b70871a08e347": {
          "model_module": "@jupyter-widgets/base",
          "model_name": "LayoutModel",
          "state": {
            "_view_name": "LayoutView",
            "grid_template_rows": null,
            "right": null,
            "justify_content": null,
            "_view_module": "@jupyter-widgets/base",
            "overflow": null,
            "_model_module_version": "1.2.0",
            "_view_count": null,
            "flex_flow": null,
            "width": null,
            "min_width": null,
            "border": null,
            "align_items": null,
            "bottom": null,
            "_model_module": "@jupyter-widgets/base",
            "top": null,
            "grid_column": null,
            "overflow_y": null,
            "overflow_x": null,
            "grid_auto_flow": null,
            "grid_area": null,
            "grid_template_columns": null,
            "flex": null,
            "_model_name": "LayoutModel",
            "justify_items": null,
            "grid_row": null,
            "max_height": null,
            "align_content": null,
            "visibility": null,
            "align_self": null,
            "height": null,
            "min_height": null,
            "padding": null,
            "grid_auto_rows": null,
            "grid_gap": null,
            "max_width": null,
            "order": null,
            "_view_module_version": "1.2.0",
            "grid_template_areas": null,
            "object_position": null,
            "object_fit": null,
            "grid_auto_columns": null,
            "margin": null,
            "display": null,
            "left": null
          }
        },
        "36f0a5487aa64651b186e32d296f1c51": {
          "model_module": "@jupyter-widgets/controls",
          "model_name": "IntSliderModel",
          "state": {
            "_view_name": "IntSliderView",
            "style": "IPY_MODEL_2b28b20a26864caf94ffeda26849e98d",
            "_dom_classes": [],
            "description": "alfa",
            "step": 1,
            "_model_name": "IntSliderModel",
            "orientation": "horizontal",
            "max": 15,
            "_view_module": "@jupyter-widgets/controls",
            "_model_module_version": "1.5.0",
            "value": 1,
            "_view_count": null,
            "disabled": false,
            "_view_module_version": "1.5.0",
            "min": -15,
            "continuous_update": true,
            "readout_format": "d",
            "description_tooltip": null,
            "readout": true,
            "_model_module": "@jupyter-widgets/controls",
            "layout": "IPY_MODEL_2139d200058444738a39ada842d0219d"
          }
        },
        "8da9d9da68104886aa38e40574f26f95": {
          "model_module": "@jupyter-widgets/controls",
          "model_name": "IntSliderModel",
          "state": {
            "_view_name": "IntSliderView",
            "style": "IPY_MODEL_0a0c1e984c384837b7818d7ef51ca486",
            "_dom_classes": [],
            "description": "beta",
            "step": 1,
            "_model_name": "IntSliderModel",
            "orientation": "horizontal",
            "max": 15,
            "_view_module": "@jupyter-widgets/controls",
            "_model_module_version": "1.5.0",
            "value": 1,
            "_view_count": null,
            "disabled": false,
            "_view_module_version": "1.5.0",
            "min": -15,
            "continuous_update": true,
            "readout_format": "d",
            "description_tooltip": null,
            "readout": true,
            "_model_module": "@jupyter-widgets/controls",
            "layout": "IPY_MODEL_8ccc7abb5b464d4186bd7289e12233c3"
          }
        },
        "543b313ec1524a7f88e637a5c6381a56": {
          "model_module": "@jupyter-widgets/output",
          "model_name": "OutputModel",
          "state": {
            "_view_name": "OutputView",
            "msg_id": "",
            "_dom_classes": [],
            "_model_name": "OutputModel",
            "outputs": [
              {
                "output_type": "stream",
                "metadata": {
                  "tags": []
                },
                "text": "Error cuadratico medio =2.015013096180215\n",
                "stream": "stdout"
              },
              {
                "output_type": "display_data",
                "metadata": {
                  "tags": [],
                  "needs_background": "light"
                },
                "image/png": "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\n",
                "text/plain": "<Figure size 720x360 with 1 Axes>"
              }
            ],
            "_view_module": "@jupyter-widgets/output",
            "_model_module_version": "1.0.0",
            "_view_count": null,
            "_view_module_version": "1.0.0",
            "layout": "IPY_MODEL_e721e07746ea47dabed73d126dd5b4be",
            "_model_module": "@jupyter-widgets/output"
          }
        },
        "2b28b20a26864caf94ffeda26849e98d": {
          "model_module": "@jupyter-widgets/controls",
          "model_name": "SliderStyleModel",
          "state": {
            "_view_name": "StyleView",
            "handle_color": null,
            "_model_name": "SliderStyleModel",
            "description_width": "",
            "_view_module": "@jupyter-widgets/base",
            "_model_module_version": "1.5.0",
            "_view_count": null,
            "_view_module_version": "1.2.0",
            "_model_module": "@jupyter-widgets/controls"
          }
        },
        "2139d200058444738a39ada842d0219d": {
          "model_module": "@jupyter-widgets/base",
          "model_name": "LayoutModel",
          "state": {
            "_view_name": "LayoutView",
            "grid_template_rows": null,
            "right": null,
            "justify_content": null,
            "_view_module": "@jupyter-widgets/base",
            "overflow": null,
            "_model_module_version": "1.2.0",
            "_view_count": null,
            "flex_flow": null,
            "width": null,
            "min_width": null,
            "border": null,
            "align_items": null,
            "bottom": null,
            "_model_module": "@jupyter-widgets/base",
            "top": null,
            "grid_column": null,
            "overflow_y": null,
            "overflow_x": null,
            "grid_auto_flow": null,
            "grid_area": null,
            "grid_template_columns": null,
            "flex": null,
            "_model_name": "LayoutModel",
            "justify_items": null,
            "grid_row": null,
            "max_height": null,
            "align_content": null,
            "visibility": null,
            "align_self": null,
            "height": null,
            "min_height": null,
            "padding": null,
            "grid_auto_rows": null,
            "grid_gap": null,
            "max_width": null,
            "order": null,
            "_view_module_version": "1.2.0",
            "grid_template_areas": null,
            "object_position": null,
            "object_fit": null,
            "grid_auto_columns": null,
            "margin": null,
            "display": null,
            "left": null
          }
        },
        "0a0c1e984c384837b7818d7ef51ca486": {
          "model_module": "@jupyter-widgets/controls",
          "model_name": "SliderStyleModel",
          "state": {
            "_view_name": "StyleView",
            "handle_color": null,
            "_model_name": "SliderStyleModel",
            "description_width": "",
            "_view_module": "@jupyter-widgets/base",
            "_model_module_version": "1.5.0",
            "_view_count": null,
            "_view_module_version": "1.2.0",
            "_model_module": "@jupyter-widgets/controls"
          }
        },
        "8ccc7abb5b464d4186bd7289e12233c3": {
          "model_module": "@jupyter-widgets/base",
          "model_name": "LayoutModel",
          "state": {
            "_view_name": "LayoutView",
            "grid_template_rows": null,
            "right": null,
            "justify_content": null,
            "_view_module": "@jupyter-widgets/base",
            "overflow": null,
            "_model_module_version": "1.2.0",
            "_view_count": null,
            "flex_flow": null,
            "width": null,
            "min_width": null,
            "border": null,
            "align_items": null,
            "bottom": null,
            "_model_module": "@jupyter-widgets/base",
            "top": null,
            "grid_column": null,
            "overflow_y": null,
            "overflow_x": null,
            "grid_auto_flow": null,
            "grid_area": null,
            "grid_template_columns": null,
            "flex": null,
            "_model_name": "LayoutModel",
            "justify_items": null,
            "grid_row": null,
            "max_height": null,
            "align_content": null,
            "visibility": null,
            "align_self": null,
            "height": null,
            "min_height": null,
            "padding": null,
            "grid_auto_rows": null,
            "grid_gap": null,
            "max_width": null,
            "order": null,
            "_view_module_version": "1.2.0",
            "grid_template_areas": null,
            "object_position": null,
            "object_fit": null,
            "grid_auto_columns": null,
            "margin": null,
            "display": null,
            "left": null
          }
        },
        "e721e07746ea47dabed73d126dd5b4be": {
          "model_module": "@jupyter-widgets/base",
          "model_name": "LayoutModel",
          "state": {
            "_view_name": "LayoutView",
            "grid_template_rows": null,
            "right": null,
            "justify_content": null,
            "_view_module": "@jupyter-widgets/base",
            "overflow": null,
            "_model_module_version": "1.2.0",
            "_view_count": null,
            "flex_flow": null,
            "width": null,
            "min_width": null,
            "border": null,
            "align_items": null,
            "bottom": null,
            "_model_module": "@jupyter-widgets/base",
            "top": null,
            "grid_column": null,
            "overflow_y": null,
            "overflow_x": null,
            "grid_auto_flow": null,
            "grid_area": null,
            "grid_template_columns": null,
            "flex": null,
            "_model_name": "LayoutModel",
            "justify_items": null,
            "grid_row": null,
            "max_height": null,
            "align_content": null,
            "visibility": null,
            "align_self": null,
            "height": null,
            "min_height": null,
            "padding": null,
            "grid_auto_rows": null,
            "grid_gap": null,
            "max_width": null,
            "order": null,
            "_view_module_version": "1.2.0",
            "grid_template_areas": null,
            "object_position": null,
            "object_fit": null,
            "grid_auto_columns": null,
            "margin": null,
            "display": null,
            "left": null
          }
        }
      }
    }
  },
  "cells": [
    {
      "cell_type": "markdown",
      "metadata": {
        "id": "view-in-github",
        "colab_type": "text"
      },
      "source": [
        "<a href=\"https://colab.research.google.com/github/jugernaut/Numerico2021/blob/desarrollo/05_MinimosCuadrados/MinimosCuadrados_interactive.ipynb\" target=\"_parent\"><img src=\"https://colab.research.google.com/assets/colab-badge.svg\" alt=\"Open In Colab\"/></a>"
      ]
    },
    {
      "cell_type": "code",
      "metadata": {
        "id": "fdESYp-P8diM",
        "outputId": "e37c6458-6a98-448d-aba4-cb0c3cca7ec1",
        "colab": {
          "base_uri": "https://localhost:8080/",
          "height": 483,
          "referenced_widgets": [
            "ed4f165b4cab42a08acd2e55b8789243",
            "5f3dcd3e9e234dc1948b70871a08e347",
            "36f0a5487aa64651b186e32d296f1c51",
            "8da9d9da68104886aa38e40574f26f95",
            "543b313ec1524a7f88e637a5c6381a56",
            "2b28b20a26864caf94ffeda26849e98d",
            "2139d200058444738a39ada842d0219d",
            "0a0c1e984c384837b7818d7ef51ca486",
            "8ccc7abb5b464d4186bd7289e12233c3",
            "e721e07746ea47dabed73d126dd5b4be"
          ]
        }
      },
      "source": [
        "!git clone https://github.com/jugernaut/Numerico2021.git\n",
        "import numpy as np\n",
        "import matplotlib.pyplot as plt\n",
        "import Numerico2021.Utils.gutils as vis\n",
        "import random\n",
        "from IPython.html.widgets import interact\n",
        "import ipywidgets as widgets\n",
        "%matplotlib inline\n",
        " \n",
        "# funcion para generar datos aleatorios\n",
        "def gen_data(n, bias, varianza):\n",
        "    x = []\n",
        "    y = []\n",
        "    for i in range(0, n):\n",
        "        x.append(i)\n",
        "        y.append((i + bias) + random.uniform(0, 1) * varianza)\n",
        "    return x, y\n",
        "\n",
        "# ecuacion parametrica de la recta\n",
        "def aprox(alfa, beta, n):\n",
        "    x = np.linspace(0, n, n)\n",
        "    y = alfa*x+beta\n",
        "    return x,y\n",
        "\n",
        "def tanteo(alfa, beta):\n",
        "    # conjunto de datos aletorios\n",
        "    # x,y = gen_data(n, 5, 15)\n",
        "    x = [0,1,2,3,4,5,6,7,8,9,10,11,12,13,14,15]\n",
        "    y = [0,1.3,5,6,4,5.4,7,7.7,3.3,10,14,11.7,12.1,13.9,14.3,15.9]\n",
        "    # recta que intenta ajustar los datos\n",
        "    xaprox,yaprox = aprox(alfa,beta,16)\n",
        "    error = vis.RMS(y,yaprox)\n",
        "\n",
        "    par = [{'title':'Ajuste por minimos cuadrados', \n",
        "            'xlabel':'$x$',\n",
        "            'ylabel':'$y$'}]\n",
        "    graf = vis.planoCartesiano(par=par)\n",
        "    graf.scatter(x=x,y=y)\n",
        "    graf.plot(x=xaprox, y=yaprox, par={'ls':'-', 'lw':1, 'color':'red'})\n",
        "    # se muestra el error cuadratico\n",
        "    '''graf.annotate(par={'s':'Error cuadratico medio = '+str(error), 'xy':(4, 14), 'xytext':(-10,10), 'fontsize':15,\n",
        "            'textcoords':'offset points', 'ha':'center', 'va':'bottom',\n",
        "            'bbox':{'boxstyle':'round','pad':0.2, 'fc':'yellow', 'alpha':0.3}})'''\n",
        "    print('Error cuadratico medio ='+str(error))\n",
        "    graf.show()\n",
        "\n",
        "interact(tanteo, alfa=widgets.IntSlider(min=-15,max=15,step=1,value=0), \n",
        "         beta=widgets.IntSlider(min=-15,max=15,step=1,value=0))\n",
        "\n"
      ],
      "execution_count": 20,
      "outputs": [
        {
          "output_type": "stream",
          "text": [
            "fatal: destination path 'Numerico2021' already exists and is not an empty directory.\n"
          ],
          "name": "stdout"
        },
        {
          "output_type": "display_data",
          "data": {
            "application/vnd.jupyter.widget-view+json": {
              "model_id": "ed4f165b4cab42a08acd2e55b8789243",
              "version_minor": 0,
              "version_major": 2
            },
            "text/plain": [
              "interactive(children=(IntSlider(value=0, description='alfa', max=15, min=-15), IntSlider(value=0, description=…"
            ]
          },
          "metadata": {
            "tags": []
          }
        },
        {
          "output_type": "execute_result",
          "data": {
            "text/plain": [
              "<function __main__.tanteo>"
            ]
          },
          "metadata": {
            "tags": []
          },
          "execution_count": 20
        }
      ]
    }
  ]
}