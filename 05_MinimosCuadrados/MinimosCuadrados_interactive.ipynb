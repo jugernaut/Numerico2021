{
  "nbformat": 4,
  "nbformat_minor": 0,
  "metadata": {
    "colab": {
      "name": "MinimosCuadrados_interactive.ipynb",
      "provenance": [],
      "authorship_tag": "ABX9TyNNlIwNg3SvuO/+XimIUXNV",
      "include_colab_link": true
    },
    "kernelspec": {
      "name": "python3",
      "display_name": "Python 3"
    },
    "widgets": {
      "application/vnd.jupyter.widget-state+json": {
        "3cde46db1ef44317861ff28ef51e3bbd": {
          "model_module": "@jupyter-widgets/controls",
          "model_name": "VBoxModel",
          "state": {
            "_view_name": "VBoxView",
            "_dom_classes": [
              "widget-interact"
            ],
            "_model_name": "VBoxModel",
            "_view_module": "@jupyter-widgets/controls",
            "_model_module_version": "1.5.0",
            "_view_count": null,
            "_view_module_version": "1.5.0",
            "box_style": "",
            "layout": "IPY_MODEL_7037448292794e94ad787811117c9b88",
            "_model_module": "@jupyter-widgets/controls",
            "children": [
              "IPY_MODEL_1810203194b14c63b6d59f87fd33caf7",
              "IPY_MODEL_ebfaec5bafa14deabc615504647ad281",
              "IPY_MODEL_f8a48017175c4701ab9f4e800165141f"
            ]
          }
        },
        "7037448292794e94ad787811117c9b88": {
          "model_module": "@jupyter-widgets/base",
          "model_name": "LayoutModel",
          "state": {
            "_view_name": "LayoutView",
            "grid_template_rows": null,
            "right": null,
            "justify_content": null,
            "_view_module": "@jupyter-widgets/base",
            "overflow": null,
            "_model_module_version": "1.2.0",
            "_view_count": null,
            "flex_flow": null,
            "width": null,
            "min_width": null,
            "border": null,
            "align_items": null,
            "bottom": null,
            "_model_module": "@jupyter-widgets/base",
            "top": null,
            "grid_column": null,
            "overflow_y": null,
            "overflow_x": null,
            "grid_auto_flow": null,
            "grid_area": null,
            "grid_template_columns": null,
            "flex": null,
            "_model_name": "LayoutModel",
            "justify_items": null,
            "grid_row": null,
            "max_height": null,
            "align_content": null,
            "visibility": null,
            "align_self": null,
            "height": null,
            "min_height": null,
            "padding": null,
            "grid_auto_rows": null,
            "grid_gap": null,
            "max_width": null,
            "order": null,
            "_view_module_version": "1.2.0",
            "grid_template_areas": null,
            "object_position": null,
            "object_fit": null,
            "grid_auto_columns": null,
            "margin": null,
            "display": null,
            "left": null
          }
        },
        "1810203194b14c63b6d59f87fd33caf7": {
          "model_module": "@jupyter-widgets/controls",
          "model_name": "IntSliderModel",
          "state": {
            "_view_name": "IntSliderView",
            "style": "IPY_MODEL_62c1d37ed84c4e64b3cae01966ae6f8e",
            "_dom_classes": [],
            "description": "alfa",
            "step": 1,
            "_model_name": "IntSliderModel",
            "orientation": "horizontal",
            "max": 3,
            "_view_module": "@jupyter-widgets/controls",
            "_model_module_version": "1.5.0",
            "value": 1,
            "_view_count": null,
            "disabled": false,
            "_view_module_version": "1.5.0",
            "min": -1,
            "continuous_update": true,
            "readout_format": "d",
            "description_tooltip": null,
            "readout": true,
            "_model_module": "@jupyter-widgets/controls",
            "layout": "IPY_MODEL_11f68173a7d74acb9e0a40c242f1f950"
          }
        },
        "ebfaec5bafa14deabc615504647ad281": {
          "model_module": "@jupyter-widgets/controls",
          "model_name": "IntSliderModel",
          "state": {
            "_view_name": "IntSliderView",
            "style": "IPY_MODEL_6ca64f7f14c349f0af84cd015404f7d8",
            "_dom_classes": [],
            "description": "beta",
            "step": 1,
            "_model_name": "IntSliderModel",
            "orientation": "horizontal",
            "max": 3,
            "_view_module": "@jupyter-widgets/controls",
            "_model_module_version": "1.5.0",
            "value": 1,
            "_view_count": null,
            "disabled": false,
            "_view_module_version": "1.5.0",
            "min": -1,
            "continuous_update": true,
            "readout_format": "d",
            "description_tooltip": null,
            "readout": true,
            "_model_module": "@jupyter-widgets/controls",
            "layout": "IPY_MODEL_30b3b963f1de42d8bcd35f6576539dac"
          }
        },
        "f8a48017175c4701ab9f4e800165141f": {
          "model_module": "@jupyter-widgets/output",
          "model_name": "OutputModel",
          "state": {
            "_view_name": "OutputView",
            "msg_id": "",
            "_dom_classes": [],
            "_model_name": "OutputModel",
            "outputs": [
              {
                "output_type": "stream",
                "metadata": {
                  "tags": []
                },
                "text": "Error cuadratico medio =2.015013096180215\n",
                "stream": "stdout"
              },
              {
                "output_type": "display_data",
                "metadata": {
                  "tags": [],
                  "needs_background": "light"
                },
                "image/png": "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\n",
                "text/plain": "<Figure size 720x360 with 1 Axes>"
              },
              {
                "output_type": "display_data",
                "metadata": {
                  "tags": [],
                  "needs_background": "light"
                },
                "image/png": "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\n",
                "text/plain": "<Figure size 720x360 with 1 Axes>"
              }
            ],
            "_view_module": "@jupyter-widgets/output",
            "_model_module_version": "1.0.0",
            "_view_count": null,
            "_view_module_version": "1.0.0",
            "layout": "IPY_MODEL_d6f0c71064274917b90bda5c2edb6355",
            "_model_module": "@jupyter-widgets/output"
          }
        },
        "62c1d37ed84c4e64b3cae01966ae6f8e": {
          "model_module": "@jupyter-widgets/controls",
          "model_name": "SliderStyleModel",
          "state": {
            "_view_name": "StyleView",
            "handle_color": null,
            "_model_name": "SliderStyleModel",
            "description_width": "",
            "_view_module": "@jupyter-widgets/base",
            "_model_module_version": "1.5.0",
            "_view_count": null,
            "_view_module_version": "1.2.0",
            "_model_module": "@jupyter-widgets/controls"
          }
        },
        "11f68173a7d74acb9e0a40c242f1f950": {
          "model_module": "@jupyter-widgets/base",
          "model_name": "LayoutModel",
          "state": {
            "_view_name": "LayoutView",
            "grid_template_rows": null,
            "right": null,
            "justify_content": null,
            "_view_module": "@jupyter-widgets/base",
            "overflow": null,
            "_model_module_version": "1.2.0",
            "_view_count": null,
            "flex_flow": null,
            "width": null,
            "min_width": null,
            "border": null,
            "align_items": null,
            "bottom": null,
            "_model_module": "@jupyter-widgets/base",
            "top": null,
            "grid_column": null,
            "overflow_y": null,
            "overflow_x": null,
            "grid_auto_flow": null,
            "grid_area": null,
            "grid_template_columns": null,
            "flex": null,
            "_model_name": "LayoutModel",
            "justify_items": null,
            "grid_row": null,
            "max_height": null,
            "align_content": null,
            "visibility": null,
            "align_self": null,
            "height": null,
            "min_height": null,
            "padding": null,
            "grid_auto_rows": null,
            "grid_gap": null,
            "max_width": null,
            "order": null,
            "_view_module_version": "1.2.0",
            "grid_template_areas": null,
            "object_position": null,
            "object_fit": null,
            "grid_auto_columns": null,
            "margin": null,
            "display": null,
            "left": null
          }
        },
        "6ca64f7f14c349f0af84cd015404f7d8": {
          "model_module": "@jupyter-widgets/controls",
          "model_name": "SliderStyleModel",
          "state": {
            "_view_name": "StyleView",
            "handle_color": null,
            "_model_name": "SliderStyleModel",
            "description_width": "",
            "_view_module": "@jupyter-widgets/base",
            "_model_module_version": "1.5.0",
            "_view_count": null,
            "_view_module_version": "1.2.0",
            "_model_module": "@jupyter-widgets/controls"
          }
        },
        "30b3b963f1de42d8bcd35f6576539dac": {
          "model_module": "@jupyter-widgets/base",
          "model_name": "LayoutModel",
          "state": {
            "_view_name": "LayoutView",
            "grid_template_rows": null,
            "right": null,
            "justify_content": null,
            "_view_module": "@jupyter-widgets/base",
            "overflow": null,
            "_model_module_version": "1.2.0",
            "_view_count": null,
            "flex_flow": null,
            "width": null,
            "min_width": null,
            "border": null,
            "align_items": null,
            "bottom": null,
            "_model_module": "@jupyter-widgets/base",
            "top": null,
            "grid_column": null,
            "overflow_y": null,
            "overflow_x": null,
            "grid_auto_flow": null,
            "grid_area": null,
            "grid_template_columns": null,
            "flex": null,
            "_model_name": "LayoutModel",
            "justify_items": null,
            "grid_row": null,
            "max_height": null,
            "align_content": null,
            "visibility": null,
            "align_self": null,
            "height": null,
            "min_height": null,
            "padding": null,
            "grid_auto_rows": null,
            "grid_gap": null,
            "max_width": null,
            "order": null,
            "_view_module_version": "1.2.0",
            "grid_template_areas": null,
            "object_position": null,
            "object_fit": null,
            "grid_auto_columns": null,
            "margin": null,
            "display": null,
            "left": null
          }
        },
        "d6f0c71064274917b90bda5c2edb6355": {
          "model_module": "@jupyter-widgets/base",
          "model_name": "LayoutModel",
          "state": {
            "_view_name": "LayoutView",
            "grid_template_rows": null,
            "right": null,
            "justify_content": null,
            "_view_module": "@jupyter-widgets/base",
            "overflow": null,
            "_model_module_version": "1.2.0",
            "_view_count": null,
            "flex_flow": null,
            "width": null,
            "min_width": null,
            "border": null,
            "align_items": null,
            "bottom": null,
            "_model_module": "@jupyter-widgets/base",
            "top": null,
            "grid_column": null,
            "overflow_y": null,
            "overflow_x": null,
            "grid_auto_flow": null,
            "grid_area": null,
            "grid_template_columns": null,
            "flex": null,
            "_model_name": "LayoutModel",
            "justify_items": null,
            "grid_row": null,
            "max_height": null,
            "align_content": null,
            "visibility": null,
            "align_self": null,
            "height": null,
            "min_height": null,
            "padding": null,
            "grid_auto_rows": null,
            "grid_gap": null,
            "max_width": null,
            "order": null,
            "_view_module_version": "1.2.0",
            "grid_template_areas": null,
            "object_position": null,
            "object_fit": null,
            "grid_auto_columns": null,
            "margin": null,
            "display": null,
            "left": null
          }
        }
      }
    }
  },
  "cells": [
    {
      "cell_type": "markdown",
      "metadata": {
        "id": "view-in-github",
        "colab_type": "text"
      },
      "source": [
        "<a href=\"https://colab.research.google.com/github/jugernaut/Numerico2021/blob/desarrollo/05_MinimosCuadrados/MinimosCuadrados_interactive.ipynb\" target=\"_parent\"><img src=\"https://colab.research.google.com/assets/colab-badge.svg\" alt=\"Open In Colab\"/></a>"
      ]
    },
    {
      "cell_type": "code",
      "metadata": {
        "id": "fdESYp-P8diM",
        "colab": {
          "base_uri": "https://localhost:8080/",
          "height": 835,
          "referenced_widgets": [
            "3cde46db1ef44317861ff28ef51e3bbd",
            "7037448292794e94ad787811117c9b88",
            "1810203194b14c63b6d59f87fd33caf7",
            "ebfaec5bafa14deabc615504647ad281",
            "f8a48017175c4701ab9f4e800165141f",
            "62c1d37ed84c4e64b3cae01966ae6f8e",
            "11f68173a7d74acb9e0a40c242f1f950",
            "6ca64f7f14c349f0af84cd015404f7d8",
            "30b3b963f1de42d8bcd35f6576539dac",
            "d6f0c71064274917b90bda5c2edb6355"
          ]
        },
        "outputId": "2d9dad51-9128-49d4-8eff-27422dfaab74"
      },
      "source": [
        "# se clona todo el repositorio \n",
        "!git clone https://github.com/jugernaut/Numerico2021.git\n",
        "\n",
        "import numpy as np\n",
        "import matplotlib.pyplot as plt\n",
        "import Numerico2021.Utils.gutils as vis\n",
        "import random\n",
        "from IPython.html.widgets import interact\n",
        "import ipywidgets as widgets\n",
        " \n",
        "# datos aleatorios\n",
        "x = [0,1,2,3,4,5,6,7,8,9,10,11,12,13,14,15]\n",
        "y = [0,1.3,5,6,4,5.4,7,7.7,3.3,10,14,11.7,12.1,13.9,14.3,15.9]\n",
        "\n",
        "# ecuacion parametrica de la recta\n",
        "def aprox(alfa, beta, n):\n",
        "    x = np.linspace(0, n, n)\n",
        "    y = alfa+beta*x\n",
        "    return x,y\n",
        "\n",
        "def tanteo(alfa, beta):\n",
        "    # recta que intenta ajustar los datos\n",
        "    xaprox,yaprox = aprox(alfa,beta,16)\n",
        "    errorC = vis.RMS(y,yaprox)\n",
        "\n",
        "    par = [{'title':'$y= a + b x$', \n",
        "            'xlabel':'$x$',\n",
        "            'ylabel':'$y$'}]\n",
        "    graf = vis.planoCartesiano(par=par)\n",
        "    graf.scatter(x=x,y=y)\n",
        "    graf.plot(x=xaprox, y=yaprox, par={'ls':'-', 'lw':1, 'color':'red'})\n",
        "    # se muestra el error cuadratico\n",
        "    print('Error cuadratico medio ='+str(errorC))\n",
        "\n",
        "    # grfica de los errores\n",
        "    par1 = [{'title':'Error Cuadratico', \n",
        "            'xlabel':'$y_{p}$',\n",
        "            'ylabel':'$(y_{r}-y_{p})^{2}$'}]\n",
        "    # grfica de los errores\n",
        "    error = vis.planoCartesiano(par=par1)\n",
        "\n",
        "    alfas = [0.,1.,2.,3.,4.]\n",
        "    error0 = aprox(0.,1,16)[1]\n",
        "    error1 = aprox(1.,2,16)[1]\n",
        "    error2 = aprox(2.,3,16)[1]\n",
        "    error3 = aprox(3.,4,16)[1]\n",
        "    error4 = aprox(4.,5,16)[1]\n",
        "\n",
        "    suma0 = vis.RMS(y,error0)\n",
        "    suma1 = vis.RMS(y,error1[1])\n",
        "    suma2 = vis.RMS(y,error2[1])\n",
        "    suma3 = vis.RMS(y,error3[1])\n",
        "    suma4 = vis.RMS(y,error4[1])\n",
        "\n",
        "    yerrores = [suma0,suma1,suma2,suma3,suma4]\n",
        "    # error\n",
        "    #yerror = [(y[i]-yaprox[i])**2 for i in range(len(z))]\n",
        "\n",
        "    error.plot(x=alfas, y=yerrores, par={'ls':'-', 'lw':1, 'color':'red'})\n",
        "    \n",
        "\n",
        "interact(tanteo, alfa=widgets.IntSlider(min=-1,max=3,step=1,value=0), \n",
        "         beta=widgets.IntSlider(min=-1,max=3,step=1,value=0))\n",
        "\n"
      ],
      "execution_count": 20,
      "outputs": [
        {
          "output_type": "stream",
          "text": [
            "fatal: destination path 'Numerico2021' already exists and is not an empty directory.\n"
          ],
          "name": "stdout"
        },
        {
          "output_type": "display_data",
          "data": {
            "application/vnd.jupyter.widget-view+json": {
              "model_id": "3cde46db1ef44317861ff28ef51e3bbd",
              "version_minor": 0,
              "version_major": 2
            },
            "text/plain": [
              "interactive(children=(IntSlider(value=0, description='alfa', max=3, min=-1), IntSlider(value=0, description='b…"
            ]
          },
          "metadata": {
            "tags": []
          }
        },
        {
          "output_type": "execute_result",
          "data": {
            "text/plain": [
              "<function __main__.tanteo>"
            ]
          },
          "metadata": {
            "tags": []
          },
          "execution_count": 20
        }
      ]
    }
  ]
}