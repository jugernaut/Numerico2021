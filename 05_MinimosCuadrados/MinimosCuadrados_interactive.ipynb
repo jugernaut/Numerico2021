{
  "nbformat": 4,
  "nbformat_minor": 0,
  "metadata": {
    "colab": {
      "name": "MinimosCuadrados_interactive.ipynb",
      "provenance": [],
      "authorship_tag": "ABX9TyO7moYBHmC+ziVfSXdfW6Zz",
      "include_colab_link": true
    },
    "kernelspec": {
      "name": "python3",
      "display_name": "Python 3"
    },
    "widgets": {
      "application/vnd.jupyter.widget-state+json": {
        "eb859040eaef4c19b6e9fc254b6044d4": {
          "model_module": "@jupyter-widgets/controls",
          "model_name": "VBoxModel",
          "state": {
            "_view_name": "VBoxView",
            "_dom_classes": [
              "widget-interact"
            ],
            "_model_name": "VBoxModel",
            "_view_module": "@jupyter-widgets/controls",
            "_model_module_version": "1.5.0",
            "_view_count": null,
            "_view_module_version": "1.5.0",
            "box_style": "",
            "layout": "IPY_MODEL_e10caf7869d94e899c57c8d59fe22790",
            "_model_module": "@jupyter-widgets/controls",
            "children": [
              "IPY_MODEL_bcc4a0941f2c43ac892798857520af9a",
              "IPY_MODEL_1d6bbcc77ce94b9ba215bf5db1872c93",
              "IPY_MODEL_ca864e350b774ebb8e2ad4d7caa3e9c6"
            ]
          }
        },
        "e10caf7869d94e899c57c8d59fe22790": {
          "model_module": "@jupyter-widgets/base",
          "model_name": "LayoutModel",
          "state": {
            "_view_name": "LayoutView",
            "grid_template_rows": null,
            "right": null,
            "justify_content": null,
            "_view_module": "@jupyter-widgets/base",
            "overflow": null,
            "_model_module_version": "1.2.0",
            "_view_count": null,
            "flex_flow": null,
            "width": null,
            "min_width": null,
            "border": null,
            "align_items": null,
            "bottom": null,
            "_model_module": "@jupyter-widgets/base",
            "top": null,
            "grid_column": null,
            "overflow_y": null,
            "overflow_x": null,
            "grid_auto_flow": null,
            "grid_area": null,
            "grid_template_columns": null,
            "flex": null,
            "_model_name": "LayoutModel",
            "justify_items": null,
            "grid_row": null,
            "max_height": null,
            "align_content": null,
            "visibility": null,
            "align_self": null,
            "height": null,
            "min_height": null,
            "padding": null,
            "grid_auto_rows": null,
            "grid_gap": null,
            "max_width": null,
            "order": null,
            "_view_module_version": "1.2.0",
            "grid_template_areas": null,
            "object_position": null,
            "object_fit": null,
            "grid_auto_columns": null,
            "margin": null,
            "display": null,
            "left": null
          }
        },
        "bcc4a0941f2c43ac892798857520af9a": {
          "model_module": "@jupyter-widgets/controls",
          "model_name": "IntSliderModel",
          "state": {
            "_view_name": "IntSliderView",
            "style": "IPY_MODEL_4ac7551ccaa147db9fa6ad70a8fdadc6",
            "_dom_classes": [],
            "description": "alfa",
            "step": 1,
            "_model_name": "IntSliderModel",
            "orientation": "horizontal",
            "max": 15,
            "_view_module": "@jupyter-widgets/controls",
            "_model_module_version": "1.5.0",
            "value": 2,
            "_view_count": null,
            "disabled": false,
            "_view_module_version": "1.5.0",
            "min": -15,
            "continuous_update": true,
            "readout_format": "d",
            "description_tooltip": null,
            "readout": true,
            "_model_module": "@jupyter-widgets/controls",
            "layout": "IPY_MODEL_daa19284d9d14b5587d1153a938dd659"
          }
        },
        "1d6bbcc77ce94b9ba215bf5db1872c93": {
          "model_module": "@jupyter-widgets/controls",
          "model_name": "IntSliderModel",
          "state": {
            "_view_name": "IntSliderView",
            "style": "IPY_MODEL_2493f3c17e8d466f8fb4368379c7a695",
            "_dom_classes": [],
            "description": "beta",
            "step": 1,
            "_model_name": "IntSliderModel",
            "orientation": "horizontal",
            "max": 15,
            "_view_module": "@jupyter-widgets/controls",
            "_model_module_version": "1.5.0",
            "value": 1,
            "_view_count": null,
            "disabled": false,
            "_view_module_version": "1.5.0",
            "min": -15,
            "continuous_update": true,
            "readout_format": "d",
            "description_tooltip": null,
            "readout": true,
            "_model_module": "@jupyter-widgets/controls",
            "layout": "IPY_MODEL_57e84afa86e24142a3a9691de3044d55"
          }
        },
        "ca864e350b774ebb8e2ad4d7caa3e9c6": {
          "model_module": "@jupyter-widgets/output",
          "model_name": "OutputModel",
          "state": {
            "_view_name": "OutputView",
            "msg_id": "",
            "_dom_classes": [],
            "_model_name": "OutputModel",
            "outputs": [
              {
                "output_type": "stream",
                "metadata": {
                  "tags": []
                },
                "text": "Error cuadratico medio =2.5710460473857286\n",
                "stream": "stdout"
              },
              {
                "output_type": "display_data",
                "metadata": {
                  "tags": [],
                  "needs_background": "light"
                },
                "image/png": "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\n",
                "text/plain": "<Figure size 720x360 with 1 Axes>"
              }
            ],
            "_view_module": "@jupyter-widgets/output",
            "_model_module_version": "1.0.0",
            "_view_count": null,
            "_view_module_version": "1.0.0",
            "layout": "IPY_MODEL_ac2a0278767d42eab54489fa8a567733",
            "_model_module": "@jupyter-widgets/output"
          }
        },
        "4ac7551ccaa147db9fa6ad70a8fdadc6": {
          "model_module": "@jupyter-widgets/controls",
          "model_name": "SliderStyleModel",
          "state": {
            "_view_name": "StyleView",
            "handle_color": null,
            "_model_name": "SliderStyleModel",
            "description_width": "",
            "_view_module": "@jupyter-widgets/base",
            "_model_module_version": "1.5.0",
            "_view_count": null,
            "_view_module_version": "1.2.0",
            "_model_module": "@jupyter-widgets/controls"
          }
        },
        "daa19284d9d14b5587d1153a938dd659": {
          "model_module": "@jupyter-widgets/base",
          "model_name": "LayoutModel",
          "state": {
            "_view_name": "LayoutView",
            "grid_template_rows": null,
            "right": null,
            "justify_content": null,
            "_view_module": "@jupyter-widgets/base",
            "overflow": null,
            "_model_module_version": "1.2.0",
            "_view_count": null,
            "flex_flow": null,
            "width": null,
            "min_width": null,
            "border": null,
            "align_items": null,
            "bottom": null,
            "_model_module": "@jupyter-widgets/base",
            "top": null,
            "grid_column": null,
            "overflow_y": null,
            "overflow_x": null,
            "grid_auto_flow": null,
            "grid_area": null,
            "grid_template_columns": null,
            "flex": null,
            "_model_name": "LayoutModel",
            "justify_items": null,
            "grid_row": null,
            "max_height": null,
            "align_content": null,
            "visibility": null,
            "align_self": null,
            "height": null,
            "min_height": null,
            "padding": null,
            "grid_auto_rows": null,
            "grid_gap": null,
            "max_width": null,
            "order": null,
            "_view_module_version": "1.2.0",
            "grid_template_areas": null,
            "object_position": null,
            "object_fit": null,
            "grid_auto_columns": null,
            "margin": null,
            "display": null,
            "left": null
          }
        },
        "2493f3c17e8d466f8fb4368379c7a695": {
          "model_module": "@jupyter-widgets/controls",
          "model_name": "SliderStyleModel",
          "state": {
            "_view_name": "StyleView",
            "handle_color": null,
            "_model_name": "SliderStyleModel",
            "description_width": "",
            "_view_module": "@jupyter-widgets/base",
            "_model_module_version": "1.5.0",
            "_view_count": null,
            "_view_module_version": "1.2.0",
            "_model_module": "@jupyter-widgets/controls"
          }
        },
        "57e84afa86e24142a3a9691de3044d55": {
          "model_module": "@jupyter-widgets/base",
          "model_name": "LayoutModel",
          "state": {
            "_view_name": "LayoutView",
            "grid_template_rows": null,
            "right": null,
            "justify_content": null,
            "_view_module": "@jupyter-widgets/base",
            "overflow": null,
            "_model_module_version": "1.2.0",
            "_view_count": null,
            "flex_flow": null,
            "width": null,
            "min_width": null,
            "border": null,
            "align_items": null,
            "bottom": null,
            "_model_module": "@jupyter-widgets/base",
            "top": null,
            "grid_column": null,
            "overflow_y": null,
            "overflow_x": null,
            "grid_auto_flow": null,
            "grid_area": null,
            "grid_template_columns": null,
            "flex": null,
            "_model_name": "LayoutModel",
            "justify_items": null,
            "grid_row": null,
            "max_height": null,
            "align_content": null,
            "visibility": null,
            "align_self": null,
            "height": null,
            "min_height": null,
            "padding": null,
            "grid_auto_rows": null,
            "grid_gap": null,
            "max_width": null,
            "order": null,
            "_view_module_version": "1.2.0",
            "grid_template_areas": null,
            "object_position": null,
            "object_fit": null,
            "grid_auto_columns": null,
            "margin": null,
            "display": null,
            "left": null
          }
        },
        "ac2a0278767d42eab54489fa8a567733": {
          "model_module": "@jupyter-widgets/base",
          "model_name": "LayoutModel",
          "state": {
            "_view_name": "LayoutView",
            "grid_template_rows": null,
            "right": null,
            "justify_content": null,
            "_view_module": "@jupyter-widgets/base",
            "overflow": null,
            "_model_module_version": "1.2.0",
            "_view_count": null,
            "flex_flow": null,
            "width": null,
            "min_width": null,
            "border": null,
            "align_items": null,
            "bottom": null,
            "_model_module": "@jupyter-widgets/base",
            "top": null,
            "grid_column": null,
            "overflow_y": null,
            "overflow_x": null,
            "grid_auto_flow": null,
            "grid_area": null,
            "grid_template_columns": null,
            "flex": null,
            "_model_name": "LayoutModel",
            "justify_items": null,
            "grid_row": null,
            "max_height": null,
            "align_content": null,
            "visibility": null,
            "align_self": null,
            "height": null,
            "min_height": null,
            "padding": null,
            "grid_auto_rows": null,
            "grid_gap": null,
            "max_width": null,
            "order": null,
            "_view_module_version": "1.2.0",
            "grid_template_areas": null,
            "object_position": null,
            "object_fit": null,
            "grid_auto_columns": null,
            "margin": null,
            "display": null,
            "left": null
          }
        }
      }
    }
  },
  "cells": [
    {
      "cell_type": "markdown",
      "metadata": {
        "id": "view-in-github",
        "colab_type": "text"
      },
      "source": [
        "<a href=\"https://colab.research.google.com/github/jugernaut/Numerico2021/blob/desarrollo/05_MinimosCuadrados/MinimosCuadrados_interactive.ipynb\" target=\"_parent\"><img src=\"https://colab.research.google.com/assets/colab-badge.svg\" alt=\"Open In Colab\"/></a>"
      ]
    },
    {
      "cell_type": "code",
      "metadata": {
        "id": "fdESYp-P8diM",
        "colab": {
          "base_uri": "https://localhost:8080/",
          "height": 638,
          "referenced_widgets": [
            "eb859040eaef4c19b6e9fc254b6044d4",
            "e10caf7869d94e899c57c8d59fe22790",
            "bcc4a0941f2c43ac892798857520af9a",
            "1d6bbcc77ce94b9ba215bf5db1872c93",
            "ca864e350b774ebb8e2ad4d7caa3e9c6",
            "4ac7551ccaa147db9fa6ad70a8fdadc6",
            "daa19284d9d14b5587d1153a938dd659",
            "2493f3c17e8d466f8fb4368379c7a695",
            "57e84afa86e24142a3a9691de3044d55",
            "ac2a0278767d42eab54489fa8a567733"
          ]
        },
        "outputId": "cf4c78c0-0b84-4719-f9b1-026c78050dd8"
      },
      "source": [
        "!git clone https://github.com/jugernaut/Numerico2021.git\n",
        "import numpy as np\n",
        "import matplotlib.pyplot as plt\n",
        "import Numerico2021.Utils.gutils as vis\n",
        "import random\n",
        "from IPython.html.widgets import interact\n",
        "import ipywidgets as widgets\n",
        "%matplotlib inline\n",
        " \n",
        "# funcion para generar datos aleatorios\n",
        "def gen_data(n, bias, varianza):\n",
        "    x = []\n",
        "    y = []\n",
        "    for i in range(0, n):\n",
        "        x.append(i)\n",
        "        y.append((i + bias) + random.uniform(0, 1) * varianza)\n",
        "    return x, y\n",
        "\n",
        "# ecuacion parametrica de la recta\n",
        "def aprox(alfa, beta, n):\n",
        "    x = np.linspace(0, n, n)\n",
        "    y = alfa+beta*x\n",
        "    return x,y\n",
        "\n",
        "def tanteo(alfa, beta):\n",
        "    # conjunto de datos aletorios\n",
        "    # x,y = gen_data(n, 5, 15)\n",
        "    x = [0,1,2,3,4,5,6,7,8,9,10,11,12,13,14,15]\n",
        "    y = [0,1.3,5,6,4,5.4,7,7.7,3.3,10,14,11.7,12.1,13.9,14.3,15.9]\n",
        "    # recta que intenta ajustar los datos\n",
        "    xaprox,yaprox = aprox(alfa,beta,16)\n",
        "    error = vis.RMS(y,yaprox)\n",
        "\n",
        "    par = [{'title':'$y= a + b x$', \n",
        "            'xlabel':'$x$',\n",
        "            'ylabel':'$y$'}]\n",
        "    graf = vis.planoCartesiano(par=par)\n",
        "    graf.scatter(x=x,y=y)\n",
        "    graf.plot(x=xaprox, y=yaprox, par={'ls':'-', 'lw':1, 'color':'red'})\n",
        "    # se muestra el error cuadratico\n",
        "    print('Error cuadratico medio ='+str(error))\n",
        "\n",
        "interact(tanteo, alfa=widgets.IntSlider(min=-15,max=15,step=1,value=0), \n",
        "         beta=widgets.IntSlider(min=-15,max=15,step=1,value=0))\n",
        "\n"
      ],
      "execution_count": 1,
      "outputs": [
        {
          "output_type": "stream",
          "text": [
            "Cloning into 'Numerico2021'...\n",
            "remote: Enumerating objects: 32, done.\u001b[K\n",
            "remote: Counting objects: 100% (32/32), done.\u001b[K\n",
            "remote: Compressing objects: 100% (32/32), done.\u001b[K\n",
            "remote: Total 2166 (delta 13), reused 0 (delta 0), pack-reused 2134\u001b[K\n",
            "Receiving objects: 100% (2166/2166), 10.85 MiB | 21.32 MiB/s, done.\n",
            "Resolving deltas: 100% (1386/1386), done.\n"
          ],
          "name": "stdout"
        },
        {
          "output_type": "stream",
          "text": [
            "/usr/local/lib/python3.6/dist-packages/IPython/html.py:14: ShimWarning: The `IPython.html` package has been deprecated since IPython 4.0. You should import from `notebook` instead. `IPython.html.widgets` has moved to `ipywidgets`.\n",
            "  \"`IPython.html.widgets` has moved to `ipywidgets`.\", ShimWarning)\n"
          ],
          "name": "stderr"
        },
        {
          "output_type": "display_data",
          "data": {
            "application/vnd.jupyter.widget-view+json": {
              "model_id": "eb859040eaef4c19b6e9fc254b6044d4",
              "version_minor": 0,
              "version_major": 2
            },
            "text/plain": [
              "interactive(children=(IntSlider(value=0, description='alfa', max=15, min=-15), IntSlider(value=0, description=…"
            ]
          },
          "metadata": {
            "tags": []
          }
        },
        {
          "output_type": "execute_result",
          "data": {
            "text/plain": [
              "<function __main__.tanteo>"
            ]
          },
          "metadata": {
            "tags": []
          },
          "execution_count": 1
        }
      ]
    }
  ]
}