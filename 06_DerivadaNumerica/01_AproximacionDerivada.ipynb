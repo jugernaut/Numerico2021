{
  "nbformat": 4,
  "nbformat_minor": 0,
  "metadata": {
    "kernelspec": {
      "display_name": "Python 3.7 (tensorflow)",
      "language": "python",
      "name": "tensorflow"
    },
    "language_info": {
      "codemirror_mode": {
        "name": "ipython",
        "version": 3
      },
      "file_extension": ".py",
      "mimetype": "text/x-python",
      "name": "python",
      "nbconvert_exporter": "python",
      "pygments_lexer": "ipython3",
      "version": "3.7.7"
    },
    "colab": {
      "name": "01_AproximacionDerivada.ipynb",
      "provenance": [],
      "collapsed_sections": [],
      "toc_visible": true,
      "include_colab_link": true
    },
    "widgets": {
      "application/vnd.jupyter.widget-state+json": {
        "de77dd8c454a4bf3a55102b6f21338a2": {
          "model_module": "@jupyter-widgets/controls",
          "model_name": "VBoxModel",
          "state": {
            "_view_name": "VBoxView",
            "_dom_classes": [
              "widget-interact"
            ],
            "_model_name": "VBoxModel",
            "_view_module": "@jupyter-widgets/controls",
            "_model_module_version": "1.5.0",
            "_view_count": null,
            "_view_module_version": "1.5.0",
            "box_style": "",
            "layout": "IPY_MODEL_32acd24762a34356b5a221688443fe6a",
            "_model_module": "@jupyter-widgets/controls",
            "children": [
              "IPY_MODEL_2cce704bce2b4abbb14a5b17f3837165",
              "IPY_MODEL_1817e50a36e14343a2c6975dcc6e4937",
              "IPY_MODEL_9bbc5b4ccf164c05997d8f0bcf3e3218",
              "IPY_MODEL_ed324b3eabaa4a40a6f35f6f3423d180"
            ]
          }
        },
        "32acd24762a34356b5a221688443fe6a": {
          "model_module": "@jupyter-widgets/base",
          "model_name": "LayoutModel",
          "state": {
            "_view_name": "LayoutView",
            "grid_template_rows": null,
            "right": null,
            "justify_content": null,
            "_view_module": "@jupyter-widgets/base",
            "overflow": null,
            "_model_module_version": "1.2.0",
            "_view_count": null,
            "flex_flow": null,
            "width": null,
            "min_width": null,
            "border": null,
            "align_items": null,
            "bottom": null,
            "_model_module": "@jupyter-widgets/base",
            "top": null,
            "grid_column": null,
            "overflow_y": null,
            "overflow_x": null,
            "grid_auto_flow": null,
            "grid_area": null,
            "grid_template_columns": null,
            "flex": null,
            "_model_name": "LayoutModel",
            "justify_items": null,
            "grid_row": null,
            "max_height": null,
            "align_content": null,
            "visibility": null,
            "align_self": null,
            "height": null,
            "min_height": null,
            "padding": null,
            "grid_auto_rows": null,
            "grid_gap": null,
            "max_width": null,
            "order": null,
            "_view_module_version": "1.2.0",
            "grid_template_areas": null,
            "object_position": null,
            "object_fit": null,
            "grid_auto_columns": null,
            "margin": null,
            "display": null,
            "left": null
          }
        },
        "2cce704bce2b4abbb14a5b17f3837165": {
          "model_module": "@jupyter-widgets/controls",
          "model_name": "FloatSliderModel",
          "state": {
            "_view_name": "FloatSliderView",
            "style": "IPY_MODEL_8a9919987d114ce88e7bb39607a9bf2a",
            "_dom_classes": [],
            "description": "S",
            "step": 0.2,
            "_model_name": "FloatSliderModel",
            "orientation": "horizontal",
            "max": 0.9,
            "_view_module": "@jupyter-widgets/controls",
            "_model_module_version": "1.5.0",
            "value": 0.9,
            "_view_count": null,
            "disabled": false,
            "_view_module_version": "1.5.0",
            "min": 0.1,
            "continuous_update": true,
            "readout_format": ".2f",
            "description_tooltip": null,
            "readout": true,
            "_model_module": "@jupyter-widgets/controls",
            "layout": "IPY_MODEL_ced9805b7e714ef4849f6b161d5df79c"
          }
        },
        "1817e50a36e14343a2c6975dcc6e4937": {
          "model_module": "@jupyter-widgets/controls",
          "model_name": "FloatSliderModel",
          "state": {
            "_view_name": "FloatSliderView",
            "style": "IPY_MODEL_36d326eb6eaf4483a27391f2b3baa191",
            "_dom_classes": [],
            "description": "h",
            "step": 0.1,
            "_model_name": "FloatSliderModel",
            "orientation": "horizontal",
            "max": 1,
            "_view_module": "@jupyter-widgets/controls",
            "_model_module_version": "1.5.0",
            "value": 0.4,
            "_view_count": null,
            "disabled": false,
            "_view_module_version": "1.5.0",
            "min": 0.1,
            "continuous_update": true,
            "readout_format": ".2f",
            "description_tooltip": null,
            "readout": true,
            "_model_module": "@jupyter-widgets/controls",
            "layout": "IPY_MODEL_366479c898034c3fa72a99ad35accfcd"
          }
        },
        "9bbc5b4ccf164c05997d8f0bcf3e3218": {
          "model_module": "@jupyter-widgets/controls",
          "model_name": "IntSliderModel",
          "state": {
            "_view_name": "IntSliderView",
            "style": "IPY_MODEL_55af068fe370438bb3e347226fc5137c",
            "_dom_classes": [],
            "description": "t",
            "step": 1,
            "_model_name": "IntSliderModel",
            "orientation": "horizontal",
            "max": 7,
            "_view_module": "@jupyter-widgets/controls",
            "_model_module_version": "1.5.0",
            "value": 3,
            "_view_count": null,
            "disabled": false,
            "_view_module_version": "1.5.0",
            "min": 0,
            "continuous_update": true,
            "readout_format": "d",
            "description_tooltip": null,
            "readout": true,
            "_model_module": "@jupyter-widgets/controls",
            "layout": "IPY_MODEL_51264d0157ce4342a9882429bedf766f"
          }
        },
        "ed324b3eabaa4a40a6f35f6f3423d180": {
          "model_module": "@jupyter-widgets/output",
          "model_name": "OutputModel",
          "state": {
            "_view_name": "OutputView",
            "msg_id": "",
            "_dom_classes": [],
            "_model_name": "OutputModel",
            "outputs": [
              {
                "output_type": "display_data",
                "metadata": {
                  "tags": []
                },
                "image/png": "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\n",
                "text/plain": "<Figure size 1008x360 with 2 Axes>"
              }
            ],
            "_view_module": "@jupyter-widgets/output",
            "_model_module_version": "1.0.0",
            "_view_count": null,
            "_view_module_version": "1.0.0",
            "layout": "IPY_MODEL_167478bd9069420ebf5990fd16035299",
            "_model_module": "@jupyter-widgets/output"
          }
        },
        "8a9919987d114ce88e7bb39607a9bf2a": {
          "model_module": "@jupyter-widgets/controls",
          "model_name": "SliderStyleModel",
          "state": {
            "_view_name": "StyleView",
            "handle_color": null,
            "_model_name": "SliderStyleModel",
            "description_width": "",
            "_view_module": "@jupyter-widgets/base",
            "_model_module_version": "1.5.0",
            "_view_count": null,
            "_view_module_version": "1.2.0",
            "_model_module": "@jupyter-widgets/controls"
          }
        },
        "ced9805b7e714ef4849f6b161d5df79c": {
          "model_module": "@jupyter-widgets/base",
          "model_name": "LayoutModel",
          "state": {
            "_view_name": "LayoutView",
            "grid_template_rows": null,
            "right": null,
            "justify_content": null,
            "_view_module": "@jupyter-widgets/base",
            "overflow": null,
            "_model_module_version": "1.2.0",
            "_view_count": null,
            "flex_flow": null,
            "width": null,
            "min_width": null,
            "border": null,
            "align_items": null,
            "bottom": null,
            "_model_module": "@jupyter-widgets/base",
            "top": null,
            "grid_column": null,
            "overflow_y": null,
            "overflow_x": null,
            "grid_auto_flow": null,
            "grid_area": null,
            "grid_template_columns": null,
            "flex": null,
            "_model_name": "LayoutModel",
            "justify_items": null,
            "grid_row": null,
            "max_height": null,
            "align_content": null,
            "visibility": null,
            "align_self": null,
            "height": null,
            "min_height": null,
            "padding": null,
            "grid_auto_rows": null,
            "grid_gap": null,
            "max_width": null,
            "order": null,
            "_view_module_version": "1.2.0",
            "grid_template_areas": null,
            "object_position": null,
            "object_fit": null,
            "grid_auto_columns": null,
            "margin": null,
            "display": null,
            "left": null
          }
        },
        "36d326eb6eaf4483a27391f2b3baa191": {
          "model_module": "@jupyter-widgets/controls",
          "model_name": "SliderStyleModel",
          "state": {
            "_view_name": "StyleView",
            "handle_color": null,
            "_model_name": "SliderStyleModel",
            "description_width": "",
            "_view_module": "@jupyter-widgets/base",
            "_model_module_version": "1.5.0",
            "_view_count": null,
            "_view_module_version": "1.2.0",
            "_model_module": "@jupyter-widgets/controls"
          }
        },
        "366479c898034c3fa72a99ad35accfcd": {
          "model_module": "@jupyter-widgets/base",
          "model_name": "LayoutModel",
          "state": {
            "_view_name": "LayoutView",
            "grid_template_rows": null,
            "right": null,
            "justify_content": null,
            "_view_module": "@jupyter-widgets/base",
            "overflow": null,
            "_model_module_version": "1.2.0",
            "_view_count": null,
            "flex_flow": null,
            "width": null,
            "min_width": null,
            "border": null,
            "align_items": null,
            "bottom": null,
            "_model_module": "@jupyter-widgets/base",
            "top": null,
            "grid_column": null,
            "overflow_y": null,
            "overflow_x": null,
            "grid_auto_flow": null,
            "grid_area": null,
            "grid_template_columns": null,
            "flex": null,
            "_model_name": "LayoutModel",
            "justify_items": null,
            "grid_row": null,
            "max_height": null,
            "align_content": null,
            "visibility": null,
            "align_self": null,
            "height": null,
            "min_height": null,
            "padding": null,
            "grid_auto_rows": null,
            "grid_gap": null,
            "max_width": null,
            "order": null,
            "_view_module_version": "1.2.0",
            "grid_template_areas": null,
            "object_position": null,
            "object_fit": null,
            "grid_auto_columns": null,
            "margin": null,
            "display": null,
            "left": null
          }
        },
        "55af068fe370438bb3e347226fc5137c": {
          "model_module": "@jupyter-widgets/controls",
          "model_name": "SliderStyleModel",
          "state": {
            "_view_name": "StyleView",
            "handle_color": null,
            "_model_name": "SliderStyleModel",
            "description_width": "",
            "_view_module": "@jupyter-widgets/base",
            "_model_module_version": "1.5.0",
            "_view_count": null,
            "_view_module_version": "1.2.0",
            "_model_module": "@jupyter-widgets/controls"
          }
        },
        "51264d0157ce4342a9882429bedf766f": {
          "model_module": "@jupyter-widgets/base",
          "model_name": "LayoutModel",
          "state": {
            "_view_name": "LayoutView",
            "grid_template_rows": null,
            "right": null,
            "justify_content": null,
            "_view_module": "@jupyter-widgets/base",
            "overflow": null,
            "_model_module_version": "1.2.0",
            "_view_count": null,
            "flex_flow": null,
            "width": null,
            "min_width": null,
            "border": null,
            "align_items": null,
            "bottom": null,
            "_model_module": "@jupyter-widgets/base",
            "top": null,
            "grid_column": null,
            "overflow_y": null,
            "overflow_x": null,
            "grid_auto_flow": null,
            "grid_area": null,
            "grid_template_columns": null,
            "flex": null,
            "_model_name": "LayoutModel",
            "justify_items": null,
            "grid_row": null,
            "max_height": null,
            "align_content": null,
            "visibility": null,
            "align_self": null,
            "height": null,
            "min_height": null,
            "padding": null,
            "grid_auto_rows": null,
            "grid_gap": null,
            "max_width": null,
            "order": null,
            "_view_module_version": "1.2.0",
            "grid_template_areas": null,
            "object_position": null,
            "object_fit": null,
            "grid_auto_columns": null,
            "margin": null,
            "display": null,
            "left": null
          }
        },
        "167478bd9069420ebf5990fd16035299": {
          "model_module": "@jupyter-widgets/base",
          "model_name": "LayoutModel",
          "state": {
            "_view_name": "LayoutView",
            "grid_template_rows": null,
            "right": null,
            "justify_content": null,
            "_view_module": "@jupyter-widgets/base",
            "overflow": null,
            "_model_module_version": "1.2.0",
            "_view_count": null,
            "flex_flow": null,
            "width": null,
            "min_width": null,
            "border": null,
            "align_items": null,
            "bottom": null,
            "_model_module": "@jupyter-widgets/base",
            "top": null,
            "grid_column": null,
            "overflow_y": null,
            "overflow_x": null,
            "grid_auto_flow": null,
            "grid_area": null,
            "grid_template_columns": null,
            "flex": null,
            "_model_name": "LayoutModel",
            "justify_items": null,
            "grid_row": null,
            "max_height": null,
            "align_content": null,
            "visibility": null,
            "align_self": null,
            "height": null,
            "min_height": null,
            "padding": null,
            "grid_auto_rows": null,
            "grid_gap": null,
            "max_width": null,
            "order": null,
            "_view_module_version": "1.2.0",
            "grid_template_areas": null,
            "object_position": null,
            "object_fit": null,
            "grid_auto_columns": null,
            "margin": null,
            "display": null,
            "left": null
          }
        }
      }
    }
  },
  "cells": [
    {
      "cell_type": "markdown",
      "metadata": {
        "id": "view-in-github",
        "colab_type": "text"
      },
      "source": [
        "<a href=\"https://colab.research.google.com/github/jugernaut/Numerico2021/blob/desarrollo/06_DerivadaNumerica/01_AproximacionDerivada.ipynb\" target=\"_parent\"><img src=\"https://colab.research.google.com/assets/colab-badge.svg\" alt=\"Open In Colab\"/></a>"
      ]
    },
    {
      "cell_type": "markdown",
      "metadata": {
        "id": "sh8cvp-EpbXK"
      },
      "source": [
        "<font color=\"Teal\" face=\"Comic Sans MS,arial\">\n",
        "  <h1 align=\"center\"><i>Aproximación Derivada</i></h1>\n",
        "  </font>\n",
        "  <font color=\"Black\" face=\"Comic Sans MS,arial\">\n",
        "  <h5 align=\"center\"><i>Profesor: M.en.C. Miguel Angel Pérez León.</i></h5>\n",
        "    <h5 align=\"center\"><i>Ayudante: Jesús Iván Coss Calderón.</i></h5>\n",
        "  <h5 align=\"center\"><i>Materia: Análisis Numérico.</i></h5>\n",
        "  </font>"
      ]
    },
    {
      "cell_type": "markdown",
      "metadata": {
        "id": "wMqaYC44n7Dl"
      },
      "source": [
        "# Introducción\n",
        "\n",
        "Si revisamos con cuidado, algunas definiciones matemáticas utilizan un tipo de figura literaria conocida como <a href=https://es.wikipedia.org/wiki/Ox%C3%ADmoron>*oxímoron*</a>. En términos simples, un oxímoron consiste en usar dos conceptos de significado opuesto y con ello generar un tercer concepto. \n",
        "\n",
        "Por ejemplo: **La razón de cambio instantáneo**. \n",
        "- Cuando se habla de un *cambio*, se requiere de la comparación entre dos o más estados y con ello analizar las diferencias entre un estado y otro; \n",
        "- por otro lado, la palabra *instantáneo* tiene que ver con algo que dura un instante, es decir un tiempo puntal. \n",
        "\n",
        "Entonces el concepto \"**cambio instantáneo**\" representa un oxímoron. Pero ¿cuál es su significado?\n",
        "¿Será importante este concepto en nuestra vida diaria?\n",
        "\n",
        "En lo que sigue veremos que la razón de cambio instantáneo tiene que ver con un concepto muy importante en Cálculo: *la derivada*."
      ]
    },
    {
      "cell_type": "markdown",
      "metadata": {
        "id": "L5BbPVLfoPdl"
      },
      "source": [
        "## Ejemplo\n",
        "\n",
        "Un estudiante de lenguas participará en un concurso internacional cuyo principal reto es el conocimiento del vocabulario de un cierto idioma. Por ello, es importante que el estudiante utilice un método de estudio adecuado para recordar el significado del mayor número de palabras posible.\n",
        "\n",
        "La <a href=https://es.wikipedia.org/wiki/Curva_del_olvido>curva del olvido</a> puede ayudar al estudiante a generar un plan de estudio adecuado. La función que define esta curva es la siguiente:\n",
        "\n",
        "$$\n",
        "R(t) = e^{-t/S}\n",
        "$$\n",
        "\n",
        "donde $R$ es cuanto recordamos, $S$ es la intensidad del recuerdo y $t$ el tiempo. Podemos definir $S \\in (0,1]$, donde $1$ es la máxima intensidad de recuerdo y un valor cercano a $0$ corresponde a algo que no nos interesa nada.\n",
        "\n",
        "**Observación**: $S$ no puede ser exactamente $0$ por que en ese caso la función $R(t)$ no está definida.\n",
        "\n",
        "La siguiente gráfica muestra cómo decrecen nuestros recuerdos con el paso del tiempo."
      ]
    },
    {
      "cell_type": "code",
      "metadata": {
        "id": "gmbhpEw7oU2u",
        "colab": {
          "base_uri": "https://localhost:8080/",
          "height": 478
        },
        "outputId": "239f9370-8a5a-43b3-9589-72b16bbc2cb6"
      },
      "source": [
        "!git clone https://github.com/jugernaut/Numerico2021.git\n",
        "import Numerico2021.Utils.gutils as vis\n",
        "import numpy as np\n",
        "import pandas as pd\n",
        "\n",
        "t = np.linspace(0, 7, 100)    # Codominio de la función, de 0 a 7 con 100 puntos\n",
        "R = lambda t, S: np.exp(-t/S) # Definición de la función del olvido\n",
        "\n",
        "# Definimos algunos parámetros para la gráfica\n",
        "par = [{'title':'Función del olvido: $R(t) = e^{-t/S}$', \n",
        "        'xlabel':'$t$ [días]',\n",
        "        'ylabel':'$R$'}\n",
        "      ]\n",
        "\n",
        "# Inicializamos el plano Cartesiano\n",
        "graf = vis.planoCartesiano(par=par)\n",
        "\n",
        "# Realizamos tres gráficas para S=0.1, S=0.5 y S=0.9] de la curva del olvido\n",
        "for S in [0.1, 0.5, 0.9]:\n",
        "    graf.plot(x= t, y= R(t, S), par={'label':'S = {}'.format(S)})\n",
        "\n",
        "# Mostramos la leyenda de las gráficas\n",
        "graf.legend()\n",
        "graf.show()"
      ],
      "execution_count": null,
      "outputs": [
        {
          "output_type": "stream",
          "text": [
            "Cloning into 'Numerico2021'...\n",
            "remote: Enumerating objects: 74, done.\u001b[K\n",
            "remote: Counting objects: 100% (74/74), done.\u001b[K\n",
            "remote: Compressing objects: 100% (74/74), done.\u001b[K\n",
            "remote: Total 2945 (delta 32), reused 0 (delta 0), pack-reused 2871\u001b[K\n",
            "Receiving objects: 100% (2945/2945), 12.98 MiB | 1.44 MiB/s, done.\n",
            "Resolving deltas: 100% (1867/1867), done.\n"
          ],
          "name": "stdout"
        },
        {
          "output_type": "display_data",
          "data": {
            "image/png": "[encoded data removed]",
            "text/plain": [
              "<Figure size 720x360 with 1 Axes>"
            ]
          },
          "metadata": {
            "tags": []
          }
        }
      ]
    },
    {
      "cell_type": "markdown",
      "metadata": {
        "id": "Rq_bWsuBo_mI"
      },
      "source": [
        "¿Será posible determinar cada cuanto tiempo el estudiante debe repasar las palabras para que no las olvide y pueda ganar el concurso? ¿De qué depende esto?\n",
        "\n",
        "Tomemos por ejemplo el caso de $S=0.9$ (curva naranja). ¿En qué parte de la gráfica el descenso es más rápido?, en otras palabras, ¿en qué parte de la gráfica el olvido se incrementa?,Para conocer ese descenso, debemos calcular la pendiente y eso lo podemos hacer con la siguiente fórmula:\n",
        "\n",
        "$$\n",
        "m = \\frac{R(t_2) - R(t_1)}{t_2 - t_1}\n",
        "$$\n",
        "\n",
        "Como es obvio, este valor de la pendiente cambiará cuando $t_1$ y $t_2$ cambien. \n",
        "\n",
        "Definamos entonces $h = t_2 - t_1$ y $t = t_1$. \n",
        "\n",
        "Con ello podemos escribir:\n",
        "\n",
        "$$\n",
        "m(t) = \\frac{R(t + h) - R(t)}{h}\n",
        "$$\n",
        "\n",
        "En esta última fórmula vemos que la pendiente depende de $t$.\n",
        "\n",
        "Vamos a calcular $m$ para $h = 1$ y $t = [0,1,2,3,4,5,6]$:"
      ]
    },
    {
      "cell_type": "code",
      "metadata": {
        "id": "DG-DoAbppEqg",
        "colab": {
          "base_uri": "https://localhost:8080/",
          "height": 284
        },
        "outputId": "8917f232-9a84-4a53-cecb-38f978b0b2f9"
      },
      "source": [
        "# Vamos a trabajar con el siguiente valor de S\n",
        "S = 0.9\n",
        "h = 1.0\n",
        "td = np.arange(0,8,h) # Definición de las t = 0,1,2,...,6\n",
        "m = np.zeros(len(td)) # Arreglo para almacenar las pendientes\n",
        "\n",
        "# Calculamos la pendiente usando la fórmula antes descrita\n",
        "for i,x in enumerate(td):\n",
        "    m[i] = (R(x + h, S) - R(x, S)) / h\n",
        "\n",
        "# Ponemos la información en un DataFrame y la mostramos\n",
        "tabla = pd.DataFrame(np.array([td, m, ]).T, columns = ['t', 'm(t)'])\n",
        "tabla"
      ],
      "execution_count": null,
      "outputs": [
        {
          "output_type": "execute_result",
          "data": {
            "text/html": [
              "<div>\n",
              "<style scoped>\n",
              "    .dataframe tbody tr th:only-of-type {\n",
              "        vertical-align: middle;\n",
              "    }\n",
              "\n",
              "    .dataframe tbody tr th {\n",
              "        vertical-align: top;\n",
              "    }\n",
              "\n",
              "    .dataframe thead th {\n",
              "        text-align: right;\n",
              "    }\n",
              "</style>\n",
              "<table border=\"1\" class=\"dataframe\">\n",
              "  <thead>\n",
              "    <tr style=\"text-align: right;\">\n",
              "      <th></th>\n",
              "      <th>t</th>\n",
              "      <th>m(t)</th>\n",
              "    </tr>\n",
              "  </thead>\n",
              "  <tbody>\n",
              "    <tr>\n",
              "      <th>0</th>\n",
              "      <td>0.0</td>\n",
              "      <td>-0.670807</td>\n",
              "    </tr>\n",
              "    <tr>\n",
              "      <th>1</th>\n",
              "      <td>1.0</td>\n",
              "      <td>-0.220825</td>\n",
              "    </tr>\n",
              "    <tr>\n",
              "      <th>2</th>\n",
              "      <td>2.0</td>\n",
              "      <td>-0.072694</td>\n",
              "    </tr>\n",
              "    <tr>\n",
              "      <th>3</th>\n",
              "      <td>3.0</td>\n",
              "      <td>-0.023930</td>\n",
              "    </tr>\n",
              "    <tr>\n",
              "      <th>4</th>\n",
              "      <td>4.0</td>\n",
              "      <td>-0.007878</td>\n",
              "    </tr>\n",
              "    <tr>\n",
              "      <th>5</th>\n",
              "      <td>5.0</td>\n",
              "      <td>-0.002593</td>\n",
              "    </tr>\n",
              "    <tr>\n",
              "      <th>6</th>\n",
              "      <td>6.0</td>\n",
              "      <td>-0.000854</td>\n",
              "    </tr>\n",
              "    <tr>\n",
              "      <th>7</th>\n",
              "      <td>7.0</td>\n",
              "      <td>-0.000281</td>\n",
              "    </tr>\n",
              "  </tbody>\n",
              "</table>\n",
              "</div>"
            ],
            "text/plain": [
              "     t      m(t)\n",
              "0  0.0 -0.670807\n",
              "1  1.0 -0.220825\n",
              "2  2.0 -0.072694\n",
              "3  3.0 -0.023930\n",
              "4  4.0 -0.007878\n",
              "5  5.0 -0.002593\n",
              "6  6.0 -0.000854\n",
              "7  7.0 -0.000281"
            ]
          },
          "metadata": {
            "tags": []
          },
          "execution_count": 4
        }
      ]
    },
    {
      "cell_type": "markdown",
      "metadata": {
        "id": "4vAKJV6EpqJx"
      },
      "source": [
        "Observamos que la pendiente es negativa, lo cual indica un decrecimiento. También, la magnitud de la pendiente (su valor absoluto) disminuye conforme $t$ se incrementa.\n",
        "\n",
        "¿Será posible calcular **la razón de cambio instantáneo**? Para ello, esta razón debería calcularse en un solo instante de tiempo, lo cual implica que $t_1 = t_2 \\Longrightarrow h = 0$, y esto nos lleva a que la fórmula de $m(t)$ no está bien definida (división por cero!). Pero, ¿qué pasa si $h$ se hace muy pequeña? es decir:\n",
        "\n",
        "$$\n",
        "\\lim_{h \\to 0}  \\frac{R(t + h) - R(t)}{h}\n",
        "$$\n",
        "\n",
        "En la siguiente visualización puedes modificar $S$, $h$ y $t$. Observa lo que sucede cuando $h \\to 0$."
      ]
    },
    {
      "cell_type": "code",
      "metadata": {
        "id": "NkBxlRzlsF4e",
        "colab": {
          "base_uri": "https://localhost:8080/",
          "height": 474,
          "referenced_widgets": [
            "de77dd8c454a4bf3a55102b6f21338a2",
            "32acd24762a34356b5a221688443fe6a",
            "2cce704bce2b4abbb14a5b17f3837165",
            "1817e50a36e14343a2c6975dcc6e4937",
            "9bbc5b4ccf164c05997d8f0bcf3e3218",
            "ed324b3eabaa4a40a6f35f6f3423d180",
            "8a9919987d114ce88e7bb39607a9bf2a",
            "ced9805b7e714ef4849f6b161d5df79c",
            "36d326eb6eaf4483a27391f2b3baa191",
            "366479c898034c3fa72a99ad35accfcd",
            "55af068fe370438bb3e347226fc5137c",
            "51264d0157ce4342a9882429bedf766f",
            "167478bd9069420ebf5990fd16035299"
          ]
        },
        "outputId": "9971d874-7ac8-4ed3-ac0b-885cf2dc12fc"
      },
      "source": [
        "# Google Colab\n",
        "%run \"/content/Numerico2021/06_DerivadaNumerica/Derivadas_interactive.ipynb\""
      ],
      "execution_count": null,
      "outputs": [
        {
          "output_type": "display_data",
          "data": {
            "application/vnd.jupyter.widget-view+json": {
              "model_id": "de77dd8c454a4bf3a55102b6f21338a2",
              "version_minor": 0,
              "version_major": 2
            },
            "text/plain": [
              "interactive(children=(FloatSlider(value=0.9, description='S', max=0.9, min=0.1, step=0.2), FloatSlider(value=1…"
            ]
          },
          "metadata": {
            "tags": []
          }
        },
        {
          "output_type": "display_data",
          "data": {
            "text/plain": [
              "<function __main__.razonDeCambio>"
            ]
          },
          "metadata": {
            "tags": []
          }
        }
      ]
    },
    {
      "cell_type": "markdown",
      "metadata": {
        "id": "-Pi3MWC4pbXR"
      },
      "source": [
        "# Derivada\n",
        "\n",
        "Dado que ya se conoce la forma en la cual se pueden generar polinomios que interpolen un conjunto de datos, el siguiente paso es dar una aproximación a la derivada (o derivadas) en los mismo puntos\n",
        "\n",
        "Al igual que el resto de los temas vistos en el curso, encontrar una aproximación de la derivada de una función tiene muchos usos en áreas como, computo científico, física, economía e ingeniería. "
      ]
    },
    {
      "cell_type": "markdown",
      "metadata": {
        "id": "n29s4q6Ewyca"
      },
      "source": [
        "## Definición formal\n",
        "\n",
        "Recordemos la definición de derivada de $f\\left(x\\right)$ \n",
        "\n",
        "$$f'(x)=\\lim_{h\\rightarrow0}\\frac{f\\left(x+h\\right)-f\\left(x\\right)}{h}$$\n",
        "\n",
        "Ahora si nos tomamos un punto $x_{0}$ y evaluamos la derivada, tenemos \n",
        "\n",
        "$$f'(x_{0})=\\lim_{h\\rightarrow0}\\frac{f\\left(x_{0}+h\\right)-f\\left(x_{0}\\right)}{h}$$\n",
        "\n",
        "Esta definición indica una manera obvia de generar una aproximación de $f'\\left(x\\right)$; es decir basta calcular\n",
        "\n",
        "$$\\frac{f\\left(x_{0}+h\\right)-f\\left(x_{0}\\right)}{h}$$\n",
        "\n",
        "En algunas definiciones, se remplaza $h$ por $\\triangle$.\n",
        "\n",
        "$$f'\\left(x\\right)=\\lim_{\\triangle x\\rightarrow0}\\frac{f\\left(x+\\triangle x\\right)-f\\left(x\\right)}{\\triangle x}$$\n",
        "\n",
        "Veamos una primera aproximación numérica de la derivada basada en la definició formal."
      ]
    },
    {
      "cell_type": "code",
      "metadata": {
        "id": "WYJSvrwmt-Kn",
        "colab": {
          "base_uri": "https://localhost:8080/",
          "height": 361
        },
        "outputId": "33e024bd-7217-4ee7-f23e-82eeed846ff1"
      },
      "source": [
        "# funcion de la cual se dara una aproximacion\n",
        "def f(x):\n",
        "  return x*x\n",
        "\n",
        "# primera aproximacion de la derivada numerica\n",
        "# f: funcion a derivar\n",
        "# x: punto en el cual se aproxima la derivada\n",
        "# delta: incremento (o decremento) muy pequeño\n",
        "def derivada(f, x, delta):\n",
        "  return (f(x+delta)-f(x))/(delta)\n",
        "\n",
        "x = np.linspace(0, 10, 10)\n",
        "y0 = f(x)\n",
        "y1 = derivada(f, x, 0.0001)\n",
        "\n",
        "# Definimos algunos parámetros para la gráfica\n",
        "par = [{'title':'Función $f$ y su derivada $df/dx$', \n",
        "        'xlabel':'$x$',\n",
        "        'ylabel':'$f(x)$'}\n",
        "      ]\n",
        "\n",
        "# Inicializamos el plano Cartesiano\n",
        "graf = vis.planoCartesiano(par=par)\n",
        "\n",
        "# Grafica de ambas funciones\n",
        "graf.plot(x=x, y=y0, par={'label':'$f(x)$'})\n",
        "graf.plot(x=x, y=y1, par={'label':'$df/dx$'})\n",
        "\n",
        "# Mostramos la leyenda de las gráficas\n",
        "graf.legend()"
      ],
      "execution_count": null,
      "outputs": [
        {
          "output_type": "display_data",
          "data": {
            "image/png": "[encoded data removed]",
            "text/plain": [
              "<Figure size 720x360 with 1 Axes>"
            ]
          },
          "metadata": {
            "tags": []
          }
        }
      ]
    },
    {
      "cell_type": "markdown",
      "metadata": {
        "id": "emZ45Hv_w74C"
      },
      "source": [
        "## Limitantes\n",
        "\n",
        "La definición previa es útil cuando se toman valores de $h$ muy pequeños y aunque no parezca evidente, esta definición no es muy útil debido al ya bien conocido enemigo del curso, **el error de redondeo**.\n",
        "\n",
        "De tal manera que se tienen que encontrar mejores formas para calcular las derivadas de $f\\left(x\\right)$."
      ]
    },
    {
      "cell_type": "markdown",
      "metadata": {
        "id": "0p8AHXBvDBiU"
      },
      "source": [
        "# Derivadas parciales\n",
        "\n",
        "Ya que conocemos una primera aproximación de la derivada de una funcion de una sola variable, es fácil extender este concepto a funciones de varias variables (cálculo vectorial)."
      ]
    },
    {
      "cell_type": "markdown",
      "metadata": {
        "id": "z2VififOzDL-"
      },
      "source": [
        "## Definición formal\n",
        "\n",
        "Sea $F(X)$ una función de de dos variables $x_1,x_2$, se define la derivada parcial de $F$ respecto a la variable $x$ de la siguiente manera.\n",
        "\n",
        "$$\\frac{\\delta F}{\\delta x_1}=\\lim_{\\triangle x_1\\rightarrow0}\\frac{F\\left(x_1+\\triangle x_1,x_2\\right)-F\\left(x_1,x_2\\right)}{\\triangle x_1}$$\n",
        "\n",
        "Y de manera analoga, se define la derivada parcial de $F$ respecto a la variable $y$\n",
        "\n",
        "$$\\frac{\\delta F}{\\delta x_2}=\\lim_{\\triangle x_2\\rightarrow0}\\frac{F\\left(x_1,x_2+\\triangle x_2\\right)-F\\left(x_1,x_2\\right)}{\\triangle x_2}$$\n",
        "\n",
        "Ahora, supongamos que $F$ es una función de de $n$ variables, entonces la derivada parcial de $F$ respecto a la i-esima variable se define de la siguiente manera.\n",
        "\n",
        "$$\\frac{\\delta F}{\\delta x_{i}}=\\lim_{\\triangle x_{i}\\rightarrow0}\\frac{F\\left(x_{1},x_{2},x_{3},\\ldots,x_{i}+\\triangle x_{i},\\ldots,x_{n}\\right)-F\\left(x_{1},x_{2},x_{3},\\ldots x_{n}\\right)}{\\triangle x_{i}}$$\n",
        "\n",
        "La definición anterior, es la forma más general de la derivada parcial de una función $F$, gracias a las propiedades del lenguaje python, programar esta definición es sumamente sencillo.\n",
        "\n",
        "Veamos que sucede con la gráfica de la derivadas parciales de $F$ respecto a la variable $x$, donde\n",
        "\n",
        "$$F(x,y)=x^{2}+y-1$$"
      ]
    },
    {
      "cell_type": "code",
      "metadata": {
        "id": "RagCt6Lw6Hng",
        "colab": {
          "base_uri": "https://localhost:8080/",
          "height": 361
        },
        "outputId": "47a27eab-15dd-498a-8c7c-e14b98adc6b3"
      },
      "source": [
        "'''\n",
        "Devuelve la parcial de F en el\n",
        "punto X respecto a la variable \n",
        "var con una precision delta\n",
        "F:     funcion vectorial\n",
        "X:     punto en forma de lista\n",
        "var:   variable para la parcial\n",
        "delta: cambio en var\n",
        "'''\n",
        "def parcial(F, X, var, delta):\n",
        "    Xmas = X.copy()\n",
        "    Xmas[var] = X[var]+delta\n",
        "    return (F(Xmas)-F(X))/delta\n",
        "\n",
        "def F(X):\n",
        "    return (X[0]**2) + X[1]-1\n",
        "\n",
        "puntos = np.linspace(0, 10, 10)\n",
        "parx = parcial(F,[puntos,puntos], 0, 0.0001)\n",
        "pary = parcial(F,[puntos,puntos], 1, 0.0001)\n",
        "\n",
        "# Definimos algunos parámetros para la gráfica\n",
        "par = [{'title':'Parciales de la función $F$', \n",
        "        'xlabel':'$x$',\n",
        "        'ylabel':'$f(x)$'}\n",
        "      ]\n",
        "\n",
        "# Inicializamos el plano Cartesiano\n",
        "graf = vis.planoCartesiano(par=par)\n",
        "\n",
        "# Grafica de ambas funciones\n",
        "graf.plot(x=puntos, y=parx, par={'label':'Parcial respecto a $x$'})\n",
        "graf.plot(x=puntos, y=pary, par={'label':'Parcial respecto a $y$'})\n",
        "\n",
        "# Mostramos la leyenda de las gráficas\n",
        "graf.legend()"
      ],
      "execution_count": null,
      "outputs": [
        {
          "output_type": "display_data",
          "data": {
            "image/png": "[encoded data removed]",
            "text/plain": [
              "<Figure size 720x360 with 1 Axes>"
            ]
          },
          "metadata": {
            "tags": []
          }
        }
      ]
    },
    {
      "cell_type": "markdown",
      "metadata": {
        "id": "jtMMKNM4pbXY"
      },
      "source": [
        "# Referencias\n",
        "\n",
        "*   Repositorio prometeo proyecto PAPIME U.N.A.M, jupyter [Derivadas](https://colab.research.google.com/github/jugernaut/Prometeo/blob/master/01_Calculo/04_Derivadas/01_Derivadas.ipynb).\n",
        "*   Riswan Butt, Numerical Analysys Using Matlab, Jones and Bartlett.\n",
        "*   Ward Cheney, David Kincaid, Métodos Numéricos y Computación, Cenage Learning.\n",
        "*   Richard L. Burden, J. Douglas Faires, Análisis Numérico, Math Learning.\n",
        "*   Yuri N. Skiba, Introducción a los Métodos Numéricos."
      ]
    }
  ]
}