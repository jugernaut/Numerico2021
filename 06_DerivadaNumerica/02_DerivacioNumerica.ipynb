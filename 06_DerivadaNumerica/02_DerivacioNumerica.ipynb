{
  "nbformat": 4,
  "nbformat_minor": 0,
  "metadata": {
    "kernelspec": {
      "display_name": "Python 3.7 (tensorflow)",
      "language": "python",
      "name": "tensorflow"
    },
    "language_info": {
      "codemirror_mode": {
        "name": "ipython",
        "version": 3
      },
      "file_extension": ".py",
      "mimetype": "text/x-python",
      "name": "python",
      "nbconvert_exporter": "python",
      "pygments_lexer": "ipython3",
      "version": "3.7.7"
    },
    "colab": {
      "name": "01_DerivacioNumerica.ipynb",
      "provenance": [],
      "collapsed_sections": [],
      "include_colab_link": true
    }
  },
  "cells": [
    {
      "cell_type": "markdown",
      "metadata": {
        "id": "view-in-github",
        "colab_type": "text"
      },
      "source": [
        "<a href=\"https://colab.research.google.com/github/jugernaut/Numerico2021/blob/desarrollo/06_DerivadaNumerica/02_DerivacioNumerica.ipynb\" target=\"_parent\"><img src=\"https://colab.research.google.com/assets/colab-badge.svg\" alt=\"Open In Colab\"/></a>"
      ]
    },
    {
      "cell_type": "markdown",
      "metadata": {
        "id": "sh8cvp-EpbXK"
      },
      "source": [
        "<font color=\"Teal\" face=\"Comic Sans MS,arial\">\n",
        "  <h1 align=\"center\"><i>Derivación Numérica</i></h1>\n",
        "  </font>\n",
        "  <font color=\"Black\" face=\"Comic Sans MS,arial\">\n",
        "  <h5 align=\"center\"><i>Profesor: M.en.C. Miguel Angel Pérez León.</i></h5>\n",
        "    <h5 align=\"center\"><i>Ayudante: Jesús Iván Coss Calderón.</i></h5>\n",
        "  <h5 align=\"center\"><i>Materia: Análisis Numérico.</i></h5>\n",
        "  </font>"
      ]
    },
    {
      "cell_type": "markdown",
      "metadata": {
        "id": "0p8AHXBvDBiU"
      },
      "source": [
        "# Introducción\n",
        "\n",
        "Recordemos como se calcula el polinomio de Lagrange con $n+1$ nodos de interpolación, ya que para la construcción de la derivada numérica es muy ilustrativo.\n",
        "\n",
        "$$P\\left(x\\right)=\\sum_{i=0}^{n}L_{i}(x)f(x_{i})$$"
      ]
    },
    {
      "cell_type": "markdown",
      "metadata": {
        "id": "ZqsqRyYsC6gm"
      },
      "source": [
        "## Construcción de la aproximación mediante Lagrange\r\n",
        "\r\n",
        "Se define la Formula de Derivación Numérica para aproximar $f'\\left(x_{*}\\right)$ sobre los nodos de interpolación $\\left\\{ x_{0},x_{1},\\ldots,x_{n}\\right\\}$ \r\n",
        "\r\n",
        "$$f'\\left(x_{*}\\right)\\approx\\sum_{i=0}^{n}C_{i}f(x_{i})$$\r\n",
        "\r\n",
        "Donde $C_{i}$ son los coeficientes o pesos de la formula. Es decir $C_{i}=L_{i}^{'}\\left(x_{*}\\right)$, con $L_{i}$ los respectivos coeficientes del polinomio de Lagrange."
      ]
    },
    {
      "cell_type": "markdown",
      "metadata": {
        "id": "HAe_HcEL8Kyh"
      },
      "source": [
        "## Definición\n",
        "\n",
        "Sea $f\\left(x\\right)$ una función derivable en $x_{*}$ y dada la formula de derivación numérica para aproximar $f'\\left(x_{*}\\right)$ sobre los nodos $\\left\\{ x_{0},x_{1},\\ldots,x_{n}\\right\\}$  donde \n",
        "\n",
        "$$f'\\left(x_{*}\\right)\\approx f_{*}^{'}=\\sum_{i=0}^{n}C_{i}f(x_{i})$$\n",
        "\n",
        "El error de truncamiento de la aproximación de la derivada para la función $f\\left(x\\right)$ en el punto $x_{*}$ esta dado por\n",
        "\n",
        "$$E_{f}\\left(x_{*}\\right)=f'\\left(x_{*}\\right)-f_{*}^{'}$$"
      ]
    },
    {
      "cell_type": "markdown",
      "metadata": {
        "id": "eZvZgiRkDLhA"
      },
      "source": [
        "## Construcción de la aproximación mediante Newton\r\n",
        "\r\n",
        "Sean los puntos $\\left\\{ x_{0},x_{1}\\right\\}$ , el polinomio interpolador de Newton de $f\\left(x\\right)$ esta dado por \r\n",
        "\r\n",
        "$$f\\left(x\\right)\\approx P_{1}\\left(x\\right)=f\\left(x_{0}\\right)+\\frac{f\\left(x_{1}\\right)-f\\left(x_{0}\\right)}{x_{1}-x_{0}}\\left(x-x_{0}\\right)=f\\left(x_{0}\\right)+\\frac{x\\left(f\\left(x_{1}\\right)-f\\left(x_{0}\\right)\\right)}{x_{1}-x_{0}}-\\frac{x_{0}\\left(f\\left(x_{1}\\right)-f\\left(x_{0}\\right)\\right)}{x_{1}-x_{0}}$$\r\n",
        "\r\n",
        "Dado que ya calculamos $P_{1}\\left(x\\right)$ basta encontrar una aproximación de $f'\\left(x_{*}\\right)$ mediante la formula de derivación numérica\r\n",
        "\r\n",
        "$$f'\\left(x_{0}\\right)\\approx P_{1}^{'}\\left(x_{0}\\right)=\\frac{f\\left(x_{1}\\right)-f\\left(x_{0}\\right)}{x_{1}-x_{0}} \\tag{1}$$\r\n",
        "\r\n",
        "Si definimos $h=x_{1}-x_{0}$ y substituimos en (1) \r\n",
        "\r\n",
        "$$f'\\left(x_{0}\\right)\\approx P_{1}^{'}\\left(x_{0}\\right)=\\frac{f\\left(x_{0}+h\\right)-f\\left(x_{0}\\right)}{h} \\tag{2}$$\r\n",
        "\r\n",
        "A la ecuación (2) se le conoce como **diferencia hacia adelante**, ya que toma $x_{0}$ y el siguiente punto $x_{1}$ para aproximar la derivada. \r\n",
        "\r\n",
        "Por otro lado si se toman los puntos $x_{0}$ y su antecesor, la ecuación (1) se transforma en \r\n",
        "\r\n",
        "$$f'\\left(x_{0}\\right)\\approx P_{1}^{'}\\left(x_{0}\\right)=\\frac{f\\left(x_{0}\\right)-f\\left(x_{0}-h\\right)}{h} \\tag{3}$$\r\n",
        "\r\n",
        "A la ecuación (3) se le conoce como **diferencia hacia atrás**, ya que toma $x_{0}$ y el punto anterior para aproximar la derivada. \r\n",
        "\r\n",
        "Estas 2 formas de calcular la 1er. derivada en un punto empleando el polinomio de Newton son útiles, pero aun hace falta tener más precisión en los cálculos. "
      ]
    },
    {
      "cell_type": "markdown",
      "metadata": {
        "id": "0SCDQqM5BQR7"
      },
      "source": [
        "\r\n",
        "## Construcción de la aproximación mediante Taylor\r\n",
        "\r\n",
        "Recordando la expansión en series de Taylor alrededor del punto $x_{i}$, con $x_{i+1}=x_i+h$ tenemos\r\n",
        "\r\n",

        "$$f\\left(x_{i+1}\\right)=f\\left(x_{i}\\right)+f'\\left(x_{i}\\right)(x_{i+1}-x_{i})+\\frac{f''\\left(x_{i}\\right)(x_{i+1}-x_{i})^{2}}{2!}+\\cdots$$"
      ]
    },
    {
      "cell_type": "markdown",
      "metadata": {
        "id": "3Igeqdcgpur0"
      },
      "source": [
        "### Diferencias hacia adelante\n",
        "\n",
        "Como $h=x_{i+1}-x_{i}$ y usando los 2 primeros términos de la serie, se tiene\n",
        "\n",
        "$$f\\left(x_{i+1}\\right)=f\\left(x_i\\right)+hf'\\left(x_i\\right)+\\frac{h^{2}}{2}f''\\left(x_i\\right) \\tag{4}$$\n",
        "\n",
        "Al despejar $f'\\left(x\\right)$ \n",
        "\n",
        "$$hf'\\left(x_i\\right)=f\\left(x_{i+1}\\right)-f\\left(x_i\\right)-\\frac{h^{2}}{2}f''\\left(x_i\\right)$$\n",
        "$$\\Longrightarrow f'\\left(x_i\\right)=\\frac{f(x_{i+1})-f(x_i)}{h}-\\frac{h}{2}f''\\left(x_i\\right)$$\n",
        "\n",
        "Como el último termino de la ecuación anterior es proporcional a $h$, el error es del orden de $h$ \n",
        "\n",
        "$$\\therefore f'\\left(x_{i}\\right)=\\frac{f\\left(x_{i+1}\\right)-f\\left(x_{i}\\right)}{h}+O\\left(h\\right) \\tag{5}$$\n",
        "\n",
        "La ecuación (5) es otra forma de construir la **diferencias finitas hacia adelante**."
      ]
    },
    {
      "cell_type": "markdown",
      "metadata": {
        "id": "KSzLfxB8p1AU"
      },
      "source": [
        "### Diferencias hacia atrás\n",
        "\n",
        "Por otro lado, podemos aproximar la derivada empleando un punto hacia atrás, mediante el siguiente desarollo.\n",
        "\n",
        "$$f\\left(x_{i-1}\\right)=f\\left(x_i\\right)-hf'\\left(x_i\\right)+\\frac{h^{2}}{2}f''\\left(x_i\\right) \\tag{6}$$\n",
        "\n",
        "$$f'\\left(x_{i}\\right)=\\frac{f\\left(x_{i}\\right)-f\\left(x_{i-1}\\right)}{h}+O\\left(h\\right) \\tag{7}$$\n",
        "\n",
        "A la ecuación (7) se le conoce como **diferencias finitas hacia atrás**."
      ]
    },
    {
      "cell_type": "markdown",
      "metadata": {
        "id": "FVpz0EcBqAEt"
      },
      "source": [
        "### Diferencias centradas\n",
        "\n",
        "Ahora, si tomamos los primeros 4 terminosm de las ecuaciones (4) y (6) y los restamos, tenemos que.\n",
        "\n",
        "$$f\\left(x_{i+1}\\right)=f\\left(x_i\\right)+hf'\\left(x_i\\right)+\\frac{h^{2}}{2}f''\\left(x_i\\right) \\tag{4}$$\n",
        "\n",
        "$$f\\left(x_{i-1}\\right)=f\\left(x_i\\right)-hf'\\left(x_i\\right)+\\frac{h^{2}}{2}f''\\left(x_i\\right) \\tag{6}$$\n",
        "\n",
        "$$f\\left(x_{i+1}\\right)-f\\left(x_{i-1}\\right)=f(x_i)+hf'(x_i)+\\frac{h^{2}}{2}f''(x_i)+\\frac{h^{3}}{6}f'''(x_i)-f(x_i)+hf'(x_i)-\\frac{h^{2}}{2}f''(x_i)+\\frac{h^{3}}{6}f'''(x_i)$$\n",
        "\n",
        "$$ \\Longrightarrow f(x+h)-f(x-h)=2hf'(x)+2\\frac{h^{3}}{6}f'''(x)$$\n",
        "\n",
        "Al despejar $f'(x)$, tenemos que.\n",
        "\n",
        "$$2hf'(x)=f(x+h)-f(x-h)-2\\frac{h^{3}}{6}f'''(x)$$\n",
        "\n",
        "$$f'(x)=\\frac{f(x+h)-f(x-h)-2\\frac{h^{3}}{6}f'''(x)}{2h}$$\n",
        "\n",
        "$$f'\\left(x\\right)=\\frac{f(x_{i+h})-f(x)}{h}-\\frac{h}{2}f''\\left(x\\right)$$\n",
        "\n",
        "$$\\therefore f'\\left(x_{i}\\right)=\\frac{f\\left(x_{i+1}\\right)-f\\left(x_{i-1}\\right)}{2h}+O\\left(h^{2}\\right)$$"
      ]
    },
    {
      "cell_type": "markdown",
      "metadata": {
        "id": "c4o_2eg8Dcgp"
      },
      "source": [
        "### Ejemplo\r\n",
        "\r\n",
        "Sea la función $f(x)=\\ln x$ y $x_{0}=1.8$ aproxime la derivada de $f\\left(x_{0}\\right)$\r\n",
        "\r\n",
        "**Solución**: \r\n",
        "\r\n",
        "Empleando la diferencia hacia adelante.\r\n",
        "\r\n",
        "$$\\frac{f\\left(1.8+h\\right)-f\\left(1.8\\right)}{h}$$\r\n",
        "\r\n",
        "Esta definición, nos ayuda a aproximar $f'\\left(1.8\\right)$, los resultados de la siguiente tabla se dan con distintos tamaños de paso $h$.\r\n",
        "\r\n",
        "| h| $f\\left(1.8+h\\right)$ |  $\\frac{f\\left(1.8+h\\right)-f\\left(1.8\\right)}{h}$| error|\r\n",
        "| :-:  | :-: | :-: |  :-: | \r\n",
        "| 0.1  | 0.64185389\t|0.540672200000\t|0.0154321|\r\n",
        "| 0.01 | 0.59332685\t|0.55401800000\t|0.0015432|\r\n",
        "| 0.001\t|0.58834207\t|0.55540130000\t|0.0001543|"
      ]
    },
    {
      "cell_type": "markdown",
      "metadata": {
        "id": "AnORDSqVpbXV"
      },
      "source": [
        "# Diferencias Finitas\n",
        "\n",
        "Como se dijo desde el principio del curso, la idea del mismo es, que uds. como estudiantes tengan la capacidad de abstracción para poder modelar algún fenómeno de su interés y con base en este modelo, encontrar una solución numérica al mismo.\n",
        "\n",
        "Dicha solución numérica, representa la solución al problema que inicialmente se quería analizar y mediante esta solución se pueden tomar decisiones.\n",
        "\n",
        "Estos modelos matemáticos en ciencia e ingeniería generalmente toman la forma de ecuaciones diferenciales.\n",
        "\n",
        "Algunos de estos modelos se muestran a continuación.\n",
        "\n",
        "<img src=\"https://github.com/jugernaut/Numerico2021/blob/desarrollo/Figuras/derivacion/yacimiento.PNG?raw=1\" width=\"300\">\n",
        "\n",
        "$$\\frac{\\delta}{\\delta t}\\left(\\frac{\\Phi S_{w}}{B_{w}}\\right)=\\nabla\\cdot\\left(T_{w}\\left[\\nabla p_{w}-\\rho_{w}\\vec{g}\\right]\\right)+\\frac{qWs}{B_{w}}$$\n",
        "\n",
        "$$\\frac{\\delta}{\\delta t}\\left(\\frac{\\Phi S_{o}}{B_{o}}\\right)=\\nabla\\cdot\\left(T_{o}\\left[\\nabla p_{o}-\\rho_{o}\\vec{g}\\right]\\right)+\\frac{qOs}{B_{o}}$$\n",
        "\n",
        "<img src=\"https://github.com/jugernaut/Numerico2021/blob/desarrollo/Figuras/derivacion/dinamica.PNG?raw=1\" width=\"300\">\n",
        "\n",
        "$$\\frac{\\delta\\rho}{\\delta t}+\\frac{\\delta}{\\delta x_{j}}\\left[\\rho u_{j}\\right]=0$$\n",
        "\n",
        "$$\\frac{\\delta}{\\delta t}\\left(\\rho u_{i}\\right)+\\frac{\\delta}{\\delta x_{j}}\\left[\\rho u_{i}u_{j}+p\\delta_{ij}-\\tau_{ji}\\right]=0,\\quad i=1,2,3$$\n",
        "\n",
        "<img src=\"https://github.com/jugernaut/Numerico2021/blob/desarrollo/Figuras/derivacion/estru.PNG?raw=1\" width=\"300\">\n",
        "\n",
        "$$\\nabla\\cdot\\sigma+F=\\rho\\frac{\\delta^{2}u}{\\delta t^{2}}$$\n",
        "\n",
        "$$\\varepsilon=\\frac{1}{2}\\left[\\nabla u+\\left(\\nabla u\\right)\\right]$$\n",
        "\n",
        "$$\\sigma=C:\\varepsilon$$\n",
        "\n",
        "\n",
        "<img src=\"https://github.com/jugernaut/Numerico2021/blob/desarrollo/Figuras/derivacion/equi.PNG?raw=1\" width=\"300\">\n",
        "\n",
        "$$\\delta x=\\delta B-5x\\,\\delta t$$\n",
        "\n"
      ]
    },
    {
      "cell_type": "markdown",
      "metadata": {
        "id": "8-fpqcs7D4Yh"
      },
      "source": [
        "## Motivación\r\n",
        "\r\n",
        "En la mayoría de los modelos solo existen soluciones analíticas para casos sencillos.\r\n",
        "\r\n",
        "Pero el creciente poder de computo ha hecho posible que estos y otros modelos tengan una solución numérica y que puedan ser analizados mas a detalle.\r\n",
        "\r\n",
        "<img src=\"https://github.com/jugernaut/Numerico2021/blob/desarrollo/Figuras/derivacion/comp.PNG?raw=1\" width=\"300\">\r\n",
        "\r\n",
        "### Idea Básica.\r\n",
        "\r\n",
        "\r\n",
        "<img src=\"https://github.com/jugernaut/Numerico2021/blob/desarrollo/Figuras/derivacion/disc.PNG?raw=1\" width=\"300\">\r\n",
        "\r\n"
      ]
    },
    {
      "cell_type": "markdown",
      "metadata": {
        "id": "L0FuAMpYEChy"
      },
      "source": [
        "\r\n",
        "## Método de Diferencias Finitas\r\n",
        "\r\n",
        "Definición de derivada\r\n",
        "\r\n",
        "$$f'\\left(x\\right)=\\lim_{\\triangle x\\rightarrow0}\\frac{f\\left(x+\\triangle x\\right)-f\\left(x\\right)}{\\triangle x}$$\r\n",
        "\r\n",
        "Ya se mostró que de esta def. se deriva la formula para aproximar la primera derivada\r\n",
        "\r\n",
        "$$f'\\left(x\\right)\\approx\\frac{f\\left(x+\\triangle x\\right)-f\\left(x\\right)}{\\triangle x}$$\r\n",
        "\r\n",
        "Y también se pueden encontrar otras expresiones\r\n",
        "\r\n",
        "$$f'\\left(x\\right)\\approx\\frac{f\\left(x\\right)-f\\left(x-\\triangle x\\right)}{\\triangle x}\\quad f'\\left(x\\right)\\approx\\frac{f\\left(x+\\triangle x\\right)-f\\left(x-\\triangle x\\right)}{2\\triangle x}$$\r\n",
        "\r\n",
        "Segunda derivada (Diferencias Finitas Centradas)\r\n",
        "\r\n",
        "$$f''\\left(x\\right)\\approx\\frac{f\\left(x+2\\triangle x\\right)-2\\triangle f\\left(x\\right)+f\\left(x-2\\triangle x\\right)}{4\\triangle x^{2}}$$\r\n",
        "\r\n",
        "Funciones de múltiples variables\r\n",
        "\r\n",
        "<img src=\"https://github.com/jugernaut/Numerico2021/blob/master/Figuras/derivacion/ecuaciones.PNG?raw=1\" width=\"300\">\r\n",
        "\r\n",
        "\r\n"
      ]
    },
    {
      "cell_type": "markdown",
      "metadata": {
        "id": "uF6lQ5bWGJjA"
      },
      "source": [
        "### Ejemplo\r\n",
        "\r\n",
        "Aproximar la solución del problema:\r\n",
        "\r\n",
        "$$\\frac{\\delta y}{\\delta t}\\left(t\\right)=ay\\left(t\\right)\\quad y\\left(0\\right)=b\\quad t>0$$\r\n",
        "\r\n",
        "Donde a y b son constantes. Solución analítica $y\\left(t\\right)=be^{at}$\r\n",
        "\r\n",
        "<img src=\"https://github.com/jugernaut/Numerico2021/blob/desarrollo/Figuras/derivacion/dominio.PNG?raw=1\" width=\"300\">\r\n",
        "\r\n",
        "Aplicando diferencias finitas a la ecuación diferencial en $t_{i}$:\r\n",
        "\r\n",
        "$$\\frac{y\\left(t_{i}+\\triangle t\\right)-y\\left(t_{i}\\right)}{\\triangle t}=ay\\left(t_{i}\\right)$$\r\n",
        "\r\n",
        "Con la notación: $y\\left(t_{i}\\right)=y_{i},\\,y\\left(t_{i}+\\triangle t\\right)=y_{i+1}$\r\n",
        "\r\n",
        "$$\\frac{y_{i+1}-y_{i}}{\\triangle t}=ay_{i}$$\r\n",
        "\r\n",
        "Discretización: $t_{i}=i\\triangle t\\quad i=0,\\ldots N$\r\n",
        "\r\n",
        "<img src=\"https://github.com/jugernaut/Numerico2021/blob/master/Figuras/derivacion/esq.PNG?raw=1\" width=\"300\">\r\n",
        "\r\n",
        "Despejando $y_{i+1}$: \r\n",
        "\r\n",
        "$$y_{i+1}=y_{i}\\left(a\\triangle t+1\\right)$$\r\n",
        "\r\n",
        "¡Con esta expresión podemos **aproximar la solución**!\r\n",
        "\r\n",
        "### Pseudocódigo.\r\n",
        "\r\n",
        "<img src=\"https://github.com/jugernaut/Numerico2021/blob/master/Figuras/derivacion/algo.PNG?raw=1\" width=\"300\">"
      ]
    },
    {
      "cell_type": "markdown",
      "metadata": {
        "id": "1G_2-yv1EPPV"
      },
      "source": [
        "\r\n",
        "## Esquema Explícito del método de Diferencias Finitas\r\n",
        "\r\n",
        "Aproximar la solución del problema:\r\n",
        "\r\n",
        "$$\\frac{\\delta T}{\\delta t}=K\\frac{\\delta^{2}T}{\\delta x^{2}}\\quad0\\leq x\\leq x_{max}\\quad t\\geq0$$\r\n",
        "\r\n",
        "$$T\\left(x,0\\right)=a,\\quad T\\left(0,t\\right)=b,\\quad T\\left(x_{max},t\\right)=c$$\r\n",
        "\r\n",
        "Donde K,a,b y c son constantes\r\n",
        "\r\n",
        "$$Discretizaci\\acute{o}n:\\begin{cases}\r\n",
        "Espacial & \\triangle x=\\frac{x_{max}}{N_{x}},\\quad x_{i}=i\\triangle x,\\quad i=0,\\ldots,N_{x}\\\\\r\n",
        "Temporal & t^{n}=n\\triangle t\\quad n=0,\\ldots,N_{t}\r\n",
        "\\end{cases}$$\r\n",
        "\r\n",
        "Aplicando diferencias finitas centrales en el espacio y hacia adelante en el tiempo:\r\n",
        "\r\n",
        "$$\\frac{T\\left(x_{i},t^{n}+\\nabla t\\right)-T\\left(x_{i},t^{n}\\right)}{\\triangle t}=K\\frac{T\\left(x_{i+1},t^{n}\\right)-2T\\left(x,t^{n}\\right)+T\\left(x_{i-1},t^{n}\\right)}{\\triangle x^{2}}$$\r\n",
        "\r\n",
        "<img src=\"https://github.com/jugernaut/Numerico2021/blob/master/Figuras/derivacion/esq2.PNG?raw=1\" width=\"300\">\r\n",
        "\r\n",
        "\r\n",
        "Usando la notación $T\\left(x_{i},t^{n}\\right)=T_{i}^{n}$\r\n",
        "\r\n",
        "$$\\frac{T_{i}^{n+1}-T_{i}^{n}}{\\triangle t}=K\\frac{T_{i+1}^{n}-2T_{i}^{n}+T_{i-1}^{n}}{\\triangle x^{2}}$$\r\n",
        "\r\n",
        "Despejando $T_{i}^{n+1}$\r\n",
        "\r\n",
        "$$T_{i}^{n+1}=T_{i}^{n}+\\frac{\\triangle tK}{\\triangle x^{2}}\\left(T_{i+1}^{n}-2T_{i}^{n}+T_{i-1}^{n}\\right)$$\r\n",
        "\r\n",
        "\r\n",
        "$\\color{blue}{Esquema \\hspace{1mm}Explícito}$: La solución al tiempo n+1 solo depende de la solución al tiempo n.\r\n",
        "\r\n",
        "Dado que ya sabemos que la solución en el tiempo n+1 esta dada por\r\n",
        "\r\n",
        "$$T_{i}^{n+1}=T_{i}^{n}+\\frac{\\triangle tK}{\\triangle x^{2}}\\left(T_{i+1}^{n}-2T_{i}^{n}+T_{i-1}^{n}\\right)$$\r\n",
        "\r\n",
        "Tiempo 0 (condiciones iniciales): $T_{i}^{0}$\r\n",
        "\r\n",
        "$$T_{i}^{0}=a\\quad i=0,\\ldots,N_{x}$$\r\n",
        "\r\n",
        "Tiempo 1: $T_{i}^{1}\\quad n=0$\r\n",
        "\r\n",
        "$$T_{i}^{1}=T_{i}^{0}+\\frac{\\triangle tK}{\\triangle x^{2}}\\left(T_{i+1}^{0}-2T_{i}^{0}+T_{i-1}^{0}\\right)$$\r\n",
        "\r\n",
        "Tiempo 1: $T_{i}^{2}\\quad n=1$\r\n",
        "\r\n",
        "$$T_{i}^{2}=T_{i}^{1}+\\frac{\\triangle tK}{\\triangle x^{2}}\\left(T_{i+1}^{1}-T_{i}^{1}+T_{i-1}^{1}\\right)$$\r\n",
        "\r\n",
        "$$ \\vdots $$\r\n",
        "\r\n",
        "¿Y que sucede con las condiciones de frontera?\r\n",
        "\r\n",
        "$$T_{i}^{n+1}=T_{i}^{n}+\\frac{\\triangle tK}{\\triangle x^{2}}\\left(T_{i+1}^{n}-2T_{i}^{n}+T_{i-1}^{n}\\right)$$\r\n",
        "\r\n",
        "Se conoce la solución en los puntos $x_{0}=b,\\quad x_{N_{x}}=c$\r\n",
        "\r\n",
        "Tiempo 0 (condiciones iniciales): $T_{i}^{0}$\r\n",
        "\r\n",
        "$$T_{0}^{0}=b\\quad T_{i}^{0}=a\\quad i=0,\\ldots,N_{x}-1\\quad T_{N_{x}}^{0}=c$$\r\n",
        "\r\n",
        "Tiempo 1: $T_{i}^{1}\\quad n=0$\r\n",
        "\r\n",
        "$$T_{0}^{1}=b,\\quad T_{i}^{1}=T_{i}^{0}+\\frac{\\triangle tK}{\\triangle x^{2}}\\left(T_{i+1}^{0}-2T_{i}^{0}+T_{i-1}^{0}\\right)\\,i=0,\\ldots,N_{x}-1\\quad T_{N_{x}}^{1}=c$$\r\n",
        "\r\n",
        "$$ \\vdots $$\r\n",
        "\r\n",
        "<img src=\"https://github.com/jugernaut/Numerico2021/blob/master/Figuras/derivacion/dif.PNG?raw=1\" width=\"300\">\r\n",
        "\r\n"
      ]
    },
    {
      "cell_type": "markdown",
      "metadata": {
        "id": "kI097NPkEe_l"
      },
      "source": [
        "### Resultados del esquema explícito\r\n",
        "\r\n",
        "Tiempo cero.\r\n",
        "\r\n",
        "<img src=\"https://github.com/jugernaut/Numerico2021/blob/master/Figuras/derivacion/tiempocero.PNG?raw=1\" width=\"300\">\r\n",
        "\r\n",
        "Tiempo uno.\r\n",
        "\r\n",
        "<img src=\"https://github.com/jugernaut/Numerico2021/blob/master/Figuras/derivacion/tiempouno.PNG?raw=1\" width=\"300\">\r\n",
        "\r\n",
        "Tiempo 10.\r\n",
        "\r\n",
        "<img src=\"https://github.com/jugernaut/Numerico2021/blob/master/Figuras/derivacion/tiempo10.png?raw=1\" width=\"300\">\r\n",
        "\r\n",
        "Tiempo 30.\r\n",
        "\r\n",
        "<img src=\"https://github.com/jugernaut/Numerico2021/blob/master/Figuras/derivacion/tiempo30.png?raw=1\" width=\"300\">\r\n",
        "\r\n",
        "Tiempo 50.\r\n",
        "\r\n",
        "<img src=\"https://github.com/jugernaut/Numerico2021/blob/master/Figuras/derivacion/tiempo50.png?raw=1\" width=\"300\">\r\n",
        "\r\n",
        "Tiempo 70.\r\n",
        "\r\n",
        "<img src=\"https://github.com/jugernaut/Numerico2021/blob/master/Figuras/derivacion/tiempo70.png?raw=1\" width=\"300\">\r\n",
        "\r\n",
        "Tiempo 90.\r\n",
        "\r\n",
        "<img src=\"https://github.com/jugernaut/Numerico2021/blob/master/Figuras/derivacion/tiempo90.png?raw=1\" width=\"300\">\r\n",
        "\r\n",
        "Tiempo 100.\r\n",
        "\r\n",
        "<img src=\"https://github.com/jugernaut/Numerico2021/blob/master/Figuras/derivacion/tiempo100.png?raw=1\" width=\"300\">\r\n",
        "\r\n",
        "Sobre el eje x, se tiene los puntos sobre la barra que se quiere simular, sobre el eje y, la temperatura que alcanza cada uno de estos puntos. Estos resultados se obtuvieron con los siguientes parámetros:\r\n",
        "\r\n",
        "* $K=e^{-2}$\r\n",
        "\r\n",
        "* $a=323$\r\n",
        "\r\n",
        "* $b=273$\r\n",
        "\r\n",
        "* $c=373$\r\n",
        "\r\n",
        "* $N_{x}=25$\r\n",
        "\r\n",
        "* $\\triangle t=0.001$\r\n",
        "\r\n",
        "* $N_{t}=100$\r\n",
        "\r\n",
        "* $xmax=0.5$\r\n",
        "\r\n",
        "¿Que sucede si se incrementa el paso de tiempo, digamos a 0.01?.\r\n",
        "\r\n",
        "<img src=\"https://github.com/jugernaut/Numerico2021/blob/master/Figuras/derivacion/paso_0_01.png?raw=1\" width=\"300\">\r\n",
        "\r\n",
        "Se puede mostrar que este algoritmo es inestable siempre que\r\n",
        "\r\n",
        "$$K\\frac{\\triangle t}{\\triangle x^{2}}>0.5$$\r\n",
        "\r\n",
        "Por lo que el pseudocódigo puede ser modificado, para agregar una sentencia en la cual para poder realizar el proceso de diferencias finitas mediante el esquema explícito, sea necesario que\r\n",
        "\r\n",
        "$$K\\frac{\\triangle t}{\\triangle x^{2}}\\leq0.5$$\r\n",
        "\r\n",
        "Es decir,\r\n",
        "\r\n",
        "<img src=\"https://github.com/jugernaut/Numerico2021/blob/master/Figuras/derivacion/calor1D.PNG?raw=1\" width=\"300\">\r\n",
        "\r\n"
      ]
    },
    {
      "cell_type": "markdown",
      "metadata": {
        "id": "zEp8uAQKEuVR"
      },
      "source": [
        "## Esquema Implícito del método de Diferencias Finitas\r\n",
        "\r\n",
        "Aproximar la solución del problema:\r\n",
        "\r\n",
        "$$\\frac{\\delta T}{\\delta t}=K\\frac{\\delta^{2}T}{\\delta x^{2}}\\quad0\\leq x\\leq x_{max}\\quad t\\geq0$$\r\n",
        "\r\n",
        "$$T\\left(x,0\\right)=a,\\quad T\\left(0,t\\right)=b,\\quad T\\left(x_{max},t\\right)=c$$\r\n",
        "\r\n",
        "Donde K,a,b y c son constantes\r\n",
        "\r\n",
        "$$Discretizaci\\acute{o}n:\\begin{cases}\r\n",
        "Espacial & \\triangle x=\\frac{x_{max}}{N_{x}},\\quad x_{i}=i\\triangle x,\\quad i=0,\\ldots,N_{x}\\\\\r\n",
        "Temporal & t^{n}=n\\triangle t\\quad n=0,\\ldots,N_{t}\r\n",
        "\\end{cases}$$\r\n",
        "\r\n",
        "Aplicando diferencias finitas centrales en el espacio y hacia atrás en el tiempo:\r\n",
        "\r\n",
        "$$\\frac{T\\left(x_{i},t^{n}\\right)-T\\left(x_{i},t^{n}-\\triangle t\\right)}{\\triangle t}=K\\frac{T\\left(x_{i+1},t^{n}\\right)-2T\\left(x,t^{n}\\right)+T\\left(x_{i-1},t^{n}\\right)}{\\triangle x^{2}}$$\r\n",
        "\r\n",
        "<img src=\"https://github.com/jugernaut/Numerico2021/blob/desarrollo/Figuras/derivacion/expli.PNG?raw=1\" width=\"300\">\r\n",
        "\r\n",
        "Usando la notación $T\\left(x_{i},t^{n}\\right)=T_{i}^{n}$\r\n",
        "\r\n",
        "$$\\frac{T_{i}^{n}-T_{i}^{n-1}}{\\triangle t}=K\\frac{T_{i+1}^{n}-2T_{i}^{n}+T_{i-1}^{n}}{\\triangle x^{2}}$$\r\n",
        "\r\n",
        "Pasando del lado izquierdo de la igualdad los términos en el tiempo n\r\n",
        "\r\n",
        "$$-T_{i-1}^{n}+\\left(\\frac{\\triangle x^{2}}{K\\triangle t}+2\\right)T_{i}^{n}-T_{i+1}^{n}=\\frac{\\triangle x^{2}}{K\\triangle t}T_{i}^{n-1}$$\r\n",
        "\r\n",
        "$\\color{blue}{Esquema\\hspace{1mm} Implícito}$: La solución al tiempo n solo depende de la solución al tiempo n y n-1\r\n",
        "\r\n",
        "Esta ecuación en realidad representa un sistema lineal para encontrar T al tiempo n\r\n",
        "\r\n",
        "$$-T_{i-1}^{n}+\\left(\\frac{\\triangle x^{2}}{K\\triangle t}+2\\right)T_{i}^{n}-T_{i+1}^{n}=\\frac{\\triangle x^{2}}{K\\triangle t}T_{i}^{n-1}$$\r\n",
        "\r\n",
        "$$dT_{1}^{n}-T_{2}^{n}=rT_{1}^{n-1}+b$$\r\n",
        "\r\n",
        "$$-T_{1}^{n}+dT_{2}^{n}-T_{3}^{n}=rT_{2}^{n-1}$$\r\n",
        "\r\n",
        "$$-T_{2}^{n}+dT_{3}^{n}-T_{4}^{n}=rT_{3}^{n-1}$$\r\n",
        "\r\n",
        "$$\\vdots$$\r\n",
        "\r\n",
        "$$-T_{N_{x}-3}^{n}+dT_{N_{x}-2}^{n}-T_{N_{x}-1}^{n}=rT_{N_{x}-2}^{n-1}$$\r\n",
        "\r\n",
        "$$-T_{N_{x}-2}^{n}+dT_{N_{x}-1}^{n}=rT_{N_{x}-1}^{n-1}+c$$\r\n",
        "\r\n",
        "Es decir, este sistema es parecido al que se construye para encontrar los coeficientes de la interpolación mediante Splines Cúbicos.\r\n",
        "\r\n",
        "$$\\left(\\begin{array}{ccccccc}\r\n",
        "d & -1 & 0 & 0 & 0 & 0 & 0\\\\\r\n",
        "-1 & d & -1 & \\ddots &  &  & \\vdots\\\\\r\n",
        "0 & -1 & d & -1 & \\ddots &  & \\vdots\\\\\r\n",
        "0 &  & \\ddots & \\cdots &  & \\ddots & 0\\\\\r\n",
        "0 &  &  & \\ddots & -1 & d & -1\\\\\r\n",
        "0 & \\cdots & \\cdots & \\cdots & \\cdots & -1 & d\r\n",
        "\\end{array}\\right)\\left(\\begin{array}{c}\r\n",
        "T_{1}^{n}\\\\\r\n",
        "T_{2}^{n}\\\\\r\n",
        "\\vdots\\\\\r\n",
        "T_{N_{x}-1}^{n}\r\n",
        "\\end{array}\\right)=\\left(\\begin{array}{c}\r\n",
        "rT_{1}^{n-1}+b\\\\\r\n",
        "rT_{2}^{n-1}\\\\\r\n",
        "\\vdots\\\\\r\n",
        "rT_{N_{x}}^{n-1}+c\r\n",
        "\\end{array}\\right)$$\r\n",
        "\r\n",
        "$$r=\\frac{\\triangle x^{2}}{K\\triangle t},\\quad d=r+2$$\r\n",
        "\r\n"
      ]
    },
    {
      "cell_type": "markdown",
      "metadata": {
        "id": "UyDTa0xTE4_v"
      },
      "source": [
        "### Resultados del esquema implícito\r\n",
        "\r\n",
        "Tiempo cero.\r\n",
        "\r\n",
        "<img src=\"https://github.com/jugernaut/Numerico2021/blob/desarrollo/Figuras/derivacion/tiempocero.PNG?raw=1\" width=\"300\">\r\n",
        "\r\n",
        "Tiempo uno.\r\n",
        "\r\n",
        "<img src=\"https://github.com/jugernaut/Numerico2021/blob/desarrollo/Figuras/derivacion/tiempouno.PNG?raw=1\" width=\"300\">\r\n",
        "\r\n",
        "Tiempo dos.\r\n",
        "\r\n",
        "<img src=\"https://github.com/jugernaut/Numerico2021/blob/desarrollo/Figuras/derivacion/tiempodos.PNG?raw=1\" width=\"300\">\r\n",
        "\r\n",
        "Tiempo tres.\r\n",
        "\r\n",
        "<img src=\"https://github.com/jugernaut/Numerico2021/blob/desarrollo/Figuras/derivacion/tiempotres.PNG?raw=1\" width=\"300\">\r\n",
        "\r\n",
        "Estos resultados se obtuvieron con los mismos parámetros del esquema explícito, excepto el paso de tiempo:\r\n",
        "\r\n",
        "* $K=e^{-2}$\r\n",
        "\r\n",
        "* $a=323$\r\n",
        "\r\n",
        "* $b=273$\r\n",
        "\r\n",
        "* $c=373$\r\n",
        "\r\n",
        "* $N_{x}=25$\r\n",
        "\r\n",
        "* $\\triangle t=1$\r\n",
        "\r\n",
        "* $N_{t}=100$\r\n",
        "\r\n",
        "* $x_{max}=0.5$\r\n",
        "\r\n",
        "Es evidente que con un paso mayor de tiempo, se puede obtener una simulación mas amplia con menos cálculos.\r\n",
        "\r\n",
        "<img src=\"https://github.com/jugernaut/Numerico2021/blob/master/Figuras/derivacion/EvsI.PNG?raw=1\" width=\"300\">\r\n",
        "\r\n",
        "\r\n"
      ]
    },
    {
      "cell_type": "markdown",
      "metadata": {
        "id": "BXTIqxQPFEKc"
      },
      "source": [
        "## Ecuación de Calor 2D\r\n",
        "<img src=\"https://github.com/jugernaut/Numerico2021/blob/desarrollo/Figuras/derivacion/calor2D.PNG?raw=1\" width=\"300\">"
      ]
    },
    {
      "cell_type": "markdown",
      "metadata": {
        "id": "ztXB4-75pbXb"
      },
      "source": [
        "# Anexo\n",
        "\n",
        "A continuación, se resolverá la siguiente ecuación diferencial, por el método explícito de diferencias finitas."
      ]
    },
    {
      "cell_type": "markdown",
      "metadata": {
        "id": "qV_YkT5epbXe"
      },
      "source": [
        "$$ \\frac{\\partial G}{\\partial t} =\\gamma   \\frac{\\partial G}{\\partial x^{2}} \\quad , \\gamma \\in \\mathbb{R}  \\tag{A.1.}$$"
      ]
    },
    {
      "cell_type": "markdown",
      "metadata": {
        "id": "7hAueCNzpbXg"
      },
      "source": [
        "Aplicando el esquema de diferencias finitas hacia delante a $\\frac{\\partial G}{\\partial t}$ y diferencias centradas a $\\frac{\\partial G}{\\partial x^{2}}$, se tiene que \n",
        "\n",
        "$$ \\frac{G \\left(x, t + \\Delta t \\right)-G \\left(x,  t \\right)}{\\Delta t} = \\gamma \\frac{G \\left(x+\\Delta x,  t \\right) -2 G \\left(x,  t \\right)+ G \\left(x -\\Delta x,  t \\right)}{\\Delta x ^{2}}$$\n",
        "\n",
        "Despejando $G \\left(x, t + \\Delta t \\right)$ se obtiene\n",
        "\n",
        "$$ G \\left(x, t + \\Delta t \\right) = \\gamma \\frac{\\Delta t}{\\Delta x^{2}} \\{ G \\left(x+\\Delta x,  t \\right)+ G \\left(x -\\Delta x,  t \\right) \\}+  \\{ 1- 2 \\gamma \\frac{\\Delta t}{\\Delta x^{2}} \\} G \\left(x,  t \\right)  $$\n",
        "\n",
        "entonces \n",
        "\n",
        "$$ G \\left(x_{i}, t_{j+1} \\right) = \\gamma \\frac{\\Delta t}{\\Delta x^{2}} \\{ G \\left(x_{i+1},  t_{j} \\right)+ G \\left(x_{i-1},  t_{j} \\right) \\}+  \\{ 1- 2 \\gamma \\frac{\\Delta t}{\\Delta x^{2}} \\} G \\left(x_{i},  t_{j} \\right)  \\tag{A.2.}$$\n",
        "\n",
        "A la ec (A.2.) se le conoce como esquema explícito.\n",
        "\n",
        "$\\color{blue}{Observaciones}$: \n",
        "\n",
        "Si $j=0$ e $i=1$\n",
        "\n",
        "$$ G \\left(x_{1}, t_{1} \\right) = \\gamma \\frac{\\Delta t}{\\Delta x^{2}} \\{ G \\left(x_{2},  t_{0} \\right)+ G \\left(x_{0},  t_{0} \\right) \\}+  \\{ 1- 2 \\gamma \\frac{\\Delta t}{\\Delta x^{2}} \\} G \\left(x_{1},  t_{0} \\right)  $$\n",
        "\n",
        "Si $j=0$ e $i=n$\n",
        "\n",
        "$$ G \\left(x_{n}, t_{1} \\right) = \\gamma \\frac{\\Delta t}{\\Delta x^{2}} \\{ G \\left(x_{n+1},  t_{0} \\right)+ G \\left(x_{n-1},  t_{0} \\right) \\}+  \\{ 1- 2 \\gamma \\frac{\\Delta t}{\\Delta x^{2}} \\} G \\left(x_{n},  t_{0} \\right)  $$\n",
        "\n"
      ]
    },
    {
      "cell_type": "markdown",
      "metadata": {
        "id": "jtMMKNM4pbXY"
      },
      "source": [
        "# Referencias\n",
        "\n",
        "1. Yuri N. Skiba: Introducción a los métodos numéricos, Dirección General de Publicaciones U.N.A.M.\n",
        "2. Ward Cheney, David Kincaid: Métodos Numéricos y Computación, Cenage Learning.\n",
        "3. Richard L. Burden, J. Douglas Faires: Análisis Numérico, Math Learning.\n",
        "4. Riswan Butt: Numerical Analysys Using Matlab, Jones and Bartlett.\n",
        "5. Quarteroni, A, Sacco R.: Numerical mathematics, Springer. 2007."
      ]
    }
  ]
}
