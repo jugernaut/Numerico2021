{
  "nbformat": 4,
  "nbformat_minor": 0,
  "metadata": {
    "colab": {
      "name": "Derivadas_interactive.ipynb",
      "provenance": [],
      "collapsed_sections": [],
      "include_colab_link": true
    },
    "kernelspec": {
      "display_name": "Python 3",
      "language": "python",
      "name": "python3"
    },
    "language_info": {
      "codemirror_mode": {
        "name": "ipython",
        "version": 3
      },
      "file_extension": ".py",
      "mimetype": "text/x-python",
      "name": "python",
      "nbconvert_exporter": "python",
      "pygments_lexer": "ipython3",
      "version": "3.7.6"
    }
  },
  "cells": [
    {
      "cell_type": "markdown",
      "metadata": {
        "id": "view-in-github",
        "colab_type": "text"
      },
      "source": [
        "<a href=\"https://colab.research.google.com/github/jugernaut/Numerico2021/blob/desarrollo/06_DerivadaNumerica/Derivadas_interactive.ipynb\" target=\"_parent\"><img src=\"https://colab.research.google.com/assets/colab-badge.svg\" alt=\"Open In Colab\"/></a>"
      ]
    },
    {
      "cell_type": "code",
      "metadata": {
        "id": "gHXcwoE2RryJ"
      },
      "source": [
        "#\n",
        "# Este notebook solo puede ser ejecutado desde 01_Derivadas.ipynb\n",
        "# No funciona de otra manera.\n",
        "#\n",
        "from ipywidgets import interact, interactive, fixed\n",
        "import ipywidgets as widgets\n",
        "\n",
        "\n",
        "R = lambda t, S: np.exp(-t/S)\n",
        "\n",
        "def razonDeCambio(S, h, i0):\n",
        "    td = np.arange(0,8,h) \n",
        "    m = np.zeros(len(td))\n",
        "    \n",
        "    for i,x in enumerate(td):\n",
        "        m[i] = (R(x + h, S) - R(x, S)) / h\n",
        "\n",
        "    t = np.linspace(0, 7, 100)\n",
        "\n",
        "    par = [{'title':'Función del olvido: $R(t) = e^{-t/S}$', \n",
        "        'xlabel':'$t$ [días]',\n",
        "        'ylabel':'$R$', 'ylim':(-0.2,1.1)},\n",
        "       {'title':'Pendiente $m(t)$', \n",
        "        'xlabel':'$t$ [días]',\n",
        "        'ylabel':'$m$'},\n",
        "      ]\n",
        "    graf = vis.planoCartesiano(1,2, par=par, par_fig={'figsize':(14,5)})\n",
        "    graf.plot(1, x = t, y = R(t, S), par={'color':'C2'})\n",
        "    graf.plot(1, x = td, y = R(td,S), par={'lw':1,'color':'black', 'marker':'o','zorder':5})\n",
        "    graf.plot(2, x = td, y = m, par={'ls':'--', 'lw':1, 'color':'black', 'marker':'o','zorder':5})\n",
        "\n",
        "    ix = int(i0 * (len(m)-1) / 7)       \n",
        "    recta = m[ix]*(t-td[ix]) + R(td[ix], S) \n",
        "    graf.plot(1, x=t, y=recta, par={'color':'red', 'lw':2})\n",
        "    graf.scatter(1, x=td[ix], y=R(td[ix], S), \n",
        "                 par={'facecolor':'red', 'edgecolor':'black', 'alpha':0.95, 's':150, 'zorder':5})\n",
        "\n",
        "    graf.scatter(2, x=td[ix], y=m[ix], \n",
        "                 par={'facecolor':'red', 'edgecolor':'black', 'alpha':0.95, 's':150, 'zorder':5})\n",
        "\n",
        "    texto1 = ' = {:3.2}'.format(td[ix])\n",
        "    graf.annotate(1, par={'text':'$t$' + texto1, 'xy':(3, 0.5), 'xytext':(3,0.5), \n",
        "                          'xycoords':'data','textcoords':'data', 'fontsize':15, 'color':'red',\n",
        "                          'bbox':{'boxstyle':'round','pad':0.2, 'fc':'white', 'ec':'black', 'alpha':0.5}})\n",
        "    \n",
        "    texto2 = ' = {:5.3}'.format(m[ix])\n",
        "    graf.annotate(2, par={'text':'$m(t)$' + texto2, 'xy':(3, -0.4), 'xytext':(3,-0.4), \n",
        "                          'xycoords':'data','textcoords':'data', 'fontsize':15, 'color':'red',\n",
        "                          'bbox':{'boxstyle':'round','pad':0.2, 'fc':'white', 'ec':'black', 'alpha':0.5}})\n",
        "    graf.show()\n",
        "\n",
        "w = interact(razonDeCambio,\n",
        "             S = widgets.FloatSlider(min=0.1, max=0.9, step=0.2, value=0.9),\n",
        "             h = widgets.FloatSlider(min=0.1, max=1.0, step=0.1, value=1.0),\n",
        "             i0 = widgets.IntSlider(min=0, max=7, step=1, value=0, description='t'))\n",
        "display(w)"
      ],
      "execution_count": null,
      "outputs": []
    }
  ]
}