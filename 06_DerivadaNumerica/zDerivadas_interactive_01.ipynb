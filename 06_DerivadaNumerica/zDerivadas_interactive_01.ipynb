
#
# Este notebook solo puede ser ejecutado desde 01_Derivadas.ipynb
# No funciona de otra manera.
#
from ipywidgets import interact, interactive, fixed
import ipywidgets as widgets


R = lambda t, S: np.exp(-t/S)

def razonDeCambio(S, h, i0):
    td = np.arange(0,8,h) 
    m = np.zeros(len(td))
    
    for i,x in enumerate(td):
        m[i] = (R(x + h, S) - R(x, S)) / h

    t = np.linspace(0, 7, 100)

    par = [{'title':'Función del olvido: $R(t) = e^{-t/S}$ para $S = 0.9$', 
        'xlabel':'$t$ [días]',
        'ylabel':'$R$', 'ylim':(-0.2,1.1)},
       {'title':'Pendiente $m(t)$', 
        'xlabel':'$t$ [días]',
        'ylabel':'$m$'},
      ]
    graf = vis.planoCartesiano(1,2, par=par, par_fig={'figsize':(14,5)})
    graf.plot(1, x = t, y = R(t, S), par={'color':'C2'})
    graf.plot(1, x = td, y = R(td,S), par={'lw':1,'color':'black', 'marker':'o','zorder':5})
    graf.plot(2, x = td, y = m, par={'ls':'--', 'lw':1, 'color':'black', 'marker':'o','zorder':5})

    ix = int(i0 * (len(m)-1) / 7)       
    recta = m[ix]*(t-td[ix]) + R(td[ix], S) 
    graf.plot(1, x=t, y=recta, par={'color':'red', 'lw':2})
    graf.scatter(1, x=td[ix], y=R(td[ix], S), 
                 par={'facecolor':'red', 'edgecolor':'black', 'alpha':0.95, 's':150, 'zorder':5})

    graf.scatter(2, x=td[ix], y=m[ix], 
                 par={'facecolor':'red', 'edgecolor':'black', 'alpha':0.95, 's':150, 'zorder':5})

    texto1 = ' = {:3.2}'.format(td[ix])
    graf.annotate(1, par={'text':'$t$' + texto1, 'xy':(3, 0.5), 'xytext':(3,0.5), 
                          'xycoords':'data','textcoords':'data', 'fontsize':15, 'color':'red',
                          'bbox':{'boxstyle':'round','pad':0.2, 'fc':'white', 'ec':'black', 'alpha':0.5}})
    
    texto2 = ' = {:5.3}'.format(m[ix])
    graf.annotate(2, par={'text':'$m(t)$' + texto2, 'xy':(3, -0.4), 'xytext':(3,-0.4), 
                          'xycoords':'data','textcoords':'data', 'fontsize':15, 'color':'red',
                          'bbox':{'boxstyle':'round','pad':0.2, 'fc':'white', 'ec':'black', 'alpha':0.5}})
    graf.show()

w = interact(razonDeCambio,
             S = widgets.FloatSlider(min=0.1, max=0.9, step=0.2, value=0.9),
             h = widgets.FloatSlider(min=0.1, max=1.0, step=0.1, value=1.0),
             i0 = widgets.IntSlider(min=0, max=7, step=1, value=0, description='t'))
display(w)
