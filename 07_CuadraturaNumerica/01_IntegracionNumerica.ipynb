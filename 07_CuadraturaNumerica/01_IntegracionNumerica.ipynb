{
  "nbformat": 4,
  "nbformat_minor": 0,
  "metadata": {
    "kernelspec": {
      "display_name": "Python 3.7 (tensorflow)",
      "language": "python",
      "name": "tensorflow"
    },
    "language_info": {
      "codemirror_mode": {
        "name": "ipython",
        "version": 3
      },
      "file_extension": ".py",
      "mimetype": "text/x-python",
      "name": "python",
      "nbconvert_exporter": "python",
      "pygments_lexer": "ipython3",
      "version": "3.7.7"
    },
    "colab": {
      "name": "Integracion_numerica.ipynb",
      "provenance": [],
      "toc_visible": true,
      "include_colab_link": true
    },
    "widgets": {
      "application/vnd.jupyter.widget-state+json": {
        "8b9e322a6c1e4e1095bb14521d1e609d": {
          "model_module": "@jupyter-widgets/controls",
          "model_name": "VBoxModel",
          "state": {
            "_view_name": "VBoxView",
            "_dom_classes": [
              "widget-interact"
            ],
            "_model_name": "VBoxModel",
            "_view_module": "@jupyter-widgets/controls",
            "_model_module_version": "1.5.0",
            "_view_count": null,
            "_view_module_version": "1.5.0",
            "box_style": "",
            "layout": "IPY_MODEL_28ab3ad2d7bb49a990441c083df93abe",
            "_model_module": "@jupyter-widgets/controls",
            "children": [
              "IPY_MODEL_0f9f33bde5514628a1379607474aa1ad",
              "IPY_MODEL_f887ab316748476bada1ea3808067c45"
            ]
          }
        },
        "28ab3ad2d7bb49a990441c083df93abe": {
          "model_module": "@jupyter-widgets/base",
          "model_name": "LayoutModel",
          "state": {
            "_view_name": "LayoutView",
            "grid_template_rows": null,
            "right": null,
            "justify_content": null,
            "_view_module": "@jupyter-widgets/base",
            "overflow": null,
            "_model_module_version": "1.2.0",
            "_view_count": null,
            "flex_flow": null,
            "width": null,
            "min_width": null,
            "border": null,
            "align_items": null,
            "bottom": null,
            "_model_module": "@jupyter-widgets/base",
            "top": null,
            "grid_column": null,
            "overflow_y": null,
            "overflow_x": null,
            "grid_auto_flow": null,
            "grid_area": null,
            "grid_template_columns": null,
            "flex": null,
            "_model_name": "LayoutModel",
            "justify_items": null,
            "grid_row": null,
            "max_height": null,
            "align_content": null,
            "visibility": null,
            "align_self": null,
            "height": null,
            "min_height": null,
            "padding": null,
            "grid_auto_rows": null,
            "grid_gap": null,
            "max_width": null,
            "order": null,
            "_view_module_version": "1.2.0",
            "grid_template_areas": null,
            "object_position": null,
            "object_fit": null,
            "grid_auto_columns": null,
            "margin": null,
            "display": null,
            "left": null
          }
        },
        "0f9f33bde5514628a1379607474aa1ad": {
          "model_module": "@jupyter-widgets/controls",
          "model_name": "IntSliderModel",
          "state": {
            "_view_name": "IntSliderView",
            "style": "IPY_MODEL_67645b6bdeaa45748b4862ad307df9c5",
            "_dom_classes": [],
            "description": "n",
            "step": 1,
            "_model_name": "IntSliderModel",
            "orientation": "horizontal",
            "max": 30,
            "_view_module": "@jupyter-widgets/controls",
            "_model_module_version": "1.5.0",
            "value": 6,
            "_view_count": null,
            "disabled": false,
            "_view_module_version": "1.5.0",
            "min": 1,
            "continuous_update": true,
            "readout_format": "d",
            "description_tooltip": null,
            "readout": true,
            "_model_module": "@jupyter-widgets/controls",
            "layout": "IPY_MODEL_a8ab676b3e2d418d9d91e563912521ab"
          }
        },
        "f887ab316748476bada1ea3808067c45": {
          "model_module": "@jupyter-widgets/output",
          "model_name": "OutputModel",
          "state": {
            "_view_name": "OutputView",
            "msg_id": "",
            "_dom_classes": [],
            "_model_name": "OutputModel",
            "outputs": [
              {
                "output_type": "stream",
                "metadata": {
                  "tags": []
                },
                "text": "el valor de la integral mediante el metodo de cuadratura del rectangulo es: 0.4212962962962963\n",
                "stream": "stdout"
              },
              {
                "output_type": "display_data",
                "metadata": {
                  "tags": [],
                  "needs_background": "light"
                },
                "image/png": "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\n",
                "text/plain": "<Figure size 432x288 with 1 Axes>"
              }
            ],
            "_view_module": "@jupyter-widgets/output",
            "_model_module_version": "1.0.0",
            "_view_count": null,
            "_view_module_version": "1.0.0",
            "layout": "IPY_MODEL_5dbfd0558e0540adbe7bd1aa61e3c1c3",
            "_model_module": "@jupyter-widgets/output"
          }
        },
        "67645b6bdeaa45748b4862ad307df9c5": {
          "model_module": "@jupyter-widgets/controls",
          "model_name": "SliderStyleModel",
          "state": {
            "_view_name": "StyleView",
            "handle_color": null,
            "_model_name": "SliderStyleModel",
            "description_width": "",
            "_view_module": "@jupyter-widgets/base",
            "_model_module_version": "1.5.0",
            "_view_count": null,
            "_view_module_version": "1.2.0",
            "_model_module": "@jupyter-widgets/controls"
          }
        },
        "a8ab676b3e2d418d9d91e563912521ab": {
          "model_module": "@jupyter-widgets/base",
          "model_name": "LayoutModel",
          "state": {
            "_view_name": "LayoutView",
            "grid_template_rows": null,
            "right": null,
            "justify_content": null,
            "_view_module": "@jupyter-widgets/base",
            "overflow": null,
            "_model_module_version": "1.2.0",
            "_view_count": null,
            "flex_flow": null,
            "width": null,
            "min_width": null,
            "border": null,
            "align_items": null,
            "bottom": null,
            "_model_module": "@jupyter-widgets/base",
            "top": null,
            "grid_column": null,
            "overflow_y": null,
            "overflow_x": null,
            "grid_auto_flow": null,
            "grid_area": null,
            "grid_template_columns": null,
            "flex": null,
            "_model_name": "LayoutModel",
            "justify_items": null,
            "grid_row": null,
            "max_height": null,
            "align_content": null,
            "visibility": null,
            "align_self": null,
            "height": null,
            "min_height": null,
            "padding": null,
            "grid_auto_rows": null,
            "grid_gap": null,
            "max_width": null,
            "order": null,
            "_view_module_version": "1.2.0",
            "grid_template_areas": null,
            "object_position": null,
            "object_fit": null,
            "grid_auto_columns": null,
            "margin": null,
            "display": null,
            "left": null
          }
        },
        "5dbfd0558e0540adbe7bd1aa61e3c1c3": {
          "model_module": "@jupyter-widgets/base",
          "model_name": "LayoutModel",
          "state": {
            "_view_name": "LayoutView",
            "grid_template_rows": null,
            "right": null,
            "justify_content": null,
            "_view_module": "@jupyter-widgets/base",
            "overflow": null,
            "_model_module_version": "1.2.0",
            "_view_count": null,
            "flex_flow": null,
            "width": null,
            "min_width": null,
            "border": null,
            "align_items": null,
            "bottom": null,
            "_model_module": "@jupyter-widgets/base",
            "top": null,
            "grid_column": null,
            "overflow_y": null,
            "overflow_x": null,
            "grid_auto_flow": null,
            "grid_area": null,
            "grid_template_columns": null,
            "flex": null,
            "_model_name": "LayoutModel",
            "justify_items": null,
            "grid_row": null,
            "max_height": null,
            "align_content": null,
            "visibility": null,
            "align_self": null,
            "height": null,
            "min_height": null,
            "padding": null,
            "grid_auto_rows": null,
            "grid_gap": null,
            "max_width": null,
            "order": null,
            "_view_module_version": "1.2.0",
            "grid_template_areas": null,
            "object_position": null,
            "object_fit": null,
            "grid_auto_columns": null,
            "margin": null,
            "display": null,
            "left": null
          }
        },
        "ae0beee6172a46da803562500f9977c8": {
          "model_module": "@jupyter-widgets/controls",
          "model_name": "VBoxModel",
          "state": {
            "_view_name": "VBoxView",
            "_dom_classes": [
              "widget-interact"
            ],
            "_model_name": "VBoxModel",
            "_view_module": "@jupyter-widgets/controls",
            "_model_module_version": "1.5.0",
            "_view_count": null,
            "_view_module_version": "1.5.0",
            "box_style": "",
            "layout": "IPY_MODEL_e526b8762edf4f0ba9964da769dacc52",
            "_model_module": "@jupyter-widgets/controls",
            "children": [
              "IPY_MODEL_0070d6fe76594c72a856758bd277ca26",
              "IPY_MODEL_a6ac675ec0414b57bbdd9ace98e0917d"
            ]
          }
        },
        "e526b8762edf4f0ba9964da769dacc52": {
          "model_module": "@jupyter-widgets/base",
          "model_name": "LayoutModel",
          "state": {
            "_view_name": "LayoutView",
            "grid_template_rows": null,
            "right": null,
            "justify_content": null,
            "_view_module": "@jupyter-widgets/base",
            "overflow": null,
            "_model_module_version": "1.2.0",
            "_view_count": null,
            "flex_flow": null,
            "width": null,
            "min_width": null,
            "border": null,
            "align_items": null,
            "bottom": null,
            "_model_module": "@jupyter-widgets/base",
            "top": null,
            "grid_column": null,
            "overflow_y": null,
            "overflow_x": null,
            "grid_auto_flow": null,
            "grid_area": null,
            "grid_template_columns": null,
            "flex": null,
            "_model_name": "LayoutModel",
            "justify_items": null,
            "grid_row": null,
            "max_height": null,
            "align_content": null,
            "visibility": null,
            "align_self": null,
            "height": null,
            "min_height": null,
            "padding": null,
            "grid_auto_rows": null,
            "grid_gap": null,
            "max_width": null,
            "order": null,
            "_view_module_version": "1.2.0",
            "grid_template_areas": null,
            "object_position": null,
            "object_fit": null,
            "grid_auto_columns": null,
            "margin": null,
            "display": null,
            "left": null
          }
        },
        "0070d6fe76594c72a856758bd277ca26": {
          "model_module": "@jupyter-widgets/controls",
          "model_name": "IntSliderModel",
          "state": {
            "_view_name": "IntSliderView",
            "style": "IPY_MODEL_fe80db31a5c5475aaa8b5f04111c103e",
            "_dom_classes": [],
            "description": "n",
            "step": 1,
            "_model_name": "IntSliderModel",
            "orientation": "horizontal",
            "max": 30,
            "_view_module": "@jupyter-widgets/controls",
            "_model_module_version": "1.5.0",
            "value": 1,
            "_view_count": null,
            "disabled": false,
            "_view_module_version": "1.5.0",
            "min": 1,
            "continuous_update": true,
            "readout_format": "d",
            "description_tooltip": null,
            "readout": true,
            "_model_module": "@jupyter-widgets/controls",
            "layout": "IPY_MODEL_94ed85bccf664c45a7c2f803c6972e98"
          }
        },
        "a6ac675ec0414b57bbdd9ace98e0917d": {
          "model_module": "@jupyter-widgets/output",
          "model_name": "OutputModel",
          "state": {
            "_view_name": "OutputView",
            "msg_id": "",
            "_dom_classes": [],
            "_model_name": "OutputModel",
            "outputs": [
              {
                "output_type": "stream",
                "metadata": {
                  "tags": []
                },
                "text": "el valor de la integral mediante el metodo de cuadratura del punto medio es: 0.25\n",
                "stream": "stdout"
              },
              {
                "output_type": "display_data",
                "metadata": {
                  "tags": [],
                  "needs_background": "light"
                },
                "image/png": "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\n",
                "text/plain": "<Figure size 432x288 with 1 Axes>"
              }
            ],
            "_view_module": "@jupyter-widgets/output",
            "_model_module_version": "1.0.0",
            "_view_count": null,
            "_view_module_version": "1.0.0",
            "layout": "IPY_MODEL_2e8f44611e244002bf5a1e95279b1ea7",
            "_model_module": "@jupyter-widgets/output"
          }
        },
        "fe80db31a5c5475aaa8b5f04111c103e": {
          "model_module": "@jupyter-widgets/controls",
          "model_name": "SliderStyleModel",
          "state": {
            "_view_name": "StyleView",
            "handle_color": null,
            "_model_name": "SliderStyleModel",
            "description_width": "",
            "_view_module": "@jupyter-widgets/base",
            "_model_module_version": "1.5.0",
            "_view_count": null,
            "_view_module_version": "1.2.0",
            "_model_module": "@jupyter-widgets/controls"
          }
        },
        "94ed85bccf664c45a7c2f803c6972e98": {
          "model_module": "@jupyter-widgets/base",
          "model_name": "LayoutModel",
          "state": {
            "_view_name": "LayoutView",
            "grid_template_rows": null,
            "right": null,
            "justify_content": null,
            "_view_module": "@jupyter-widgets/base",
            "overflow": null,
            "_model_module_version": "1.2.0",
            "_view_count": null,
            "flex_flow": null,
            "width": null,
            "min_width": null,
            "border": null,
            "align_items": null,
            "bottom": null,
            "_model_module": "@jupyter-widgets/base",
            "top": null,
            "grid_column": null,
            "overflow_y": null,
            "overflow_x": null,
            "grid_auto_flow": null,
            "grid_area": null,
            "grid_template_columns": null,
            "flex": null,
            "_model_name": "LayoutModel",
            "justify_items": null,
            "grid_row": null,
            "max_height": null,
            "align_content": null,
            "visibility": null,
            "align_self": null,
            "height": null,
            "min_height": null,
            "padding": null,
            "grid_auto_rows": null,
            "grid_gap": null,
            "max_width": null,
            "order": null,
            "_view_module_version": "1.2.0",
            "grid_template_areas": null,
            "object_position": null,
            "object_fit": null,
            "grid_auto_columns": null,
            "margin": null,
            "display": null,
            "left": null
          }
        },
        "2e8f44611e244002bf5a1e95279b1ea7": {
          "model_module": "@jupyter-widgets/base",
          "model_name": "LayoutModel",
          "state": {
            "_view_name": "LayoutView",
            "grid_template_rows": null,
            "right": null,
            "justify_content": null,
            "_view_module": "@jupyter-widgets/base",
            "overflow": null,
            "_model_module_version": "1.2.0",
            "_view_count": null,
            "flex_flow": null,
            "width": null,
            "min_width": null,
            "border": null,
            "align_items": null,
            "bottom": null,
            "_model_module": "@jupyter-widgets/base",
            "top": null,
            "grid_column": null,
            "overflow_y": null,
            "overflow_x": null,
            "grid_auto_flow": null,
            "grid_area": null,
            "grid_template_columns": null,
            "flex": null,
            "_model_name": "LayoutModel",
            "justify_items": null,
            "grid_row": null,
            "max_height": null,
            "align_content": null,
            "visibility": null,
            "align_self": null,
            "height": null,
            "min_height": null,
            "padding": null,
            "grid_auto_rows": null,
            "grid_gap": null,
            "max_width": null,
            "order": null,
            "_view_module_version": "1.2.0",
            "grid_template_areas": null,
            "object_position": null,
            "object_fit": null,
            "grid_auto_columns": null,
            "margin": null,
            "display": null,
            "left": null
          }
        },
        "664fc4856efc40978ca8854e25489fcc": {
          "model_module": "@jupyter-widgets/controls",
          "model_name": "VBoxModel",
          "state": {
            "_view_name": "VBoxView",
            "_dom_classes": [
              "widget-interact"
            ],
            "_model_name": "VBoxModel",
            "_view_module": "@jupyter-widgets/controls",
            "_model_module_version": "1.5.0",
            "_view_count": null,
            "_view_module_version": "1.5.0",
            "box_style": "",
            "layout": "IPY_MODEL_9c4c6c1f65db4c8d93173ab6c5331ad4",
            "_model_module": "@jupyter-widgets/controls",
            "children": [
              "IPY_MODEL_245a38f082aa445bbd1fcb100c0c99e6",
              "IPY_MODEL_40f325f9582d48d1947ea36017bb203e"
            ]
          }
        },
        "9c4c6c1f65db4c8d93173ab6c5331ad4": {
          "model_module": "@jupyter-widgets/base",
          "model_name": "LayoutModel",
          "state": {
            "_view_name": "LayoutView",
            "grid_template_rows": null,
            "right": null,
            "justify_content": null,
            "_view_module": "@jupyter-widgets/base",
            "overflow": null,
            "_model_module_version": "1.2.0",
            "_view_count": null,
            "flex_flow": null,
            "width": null,
            "min_width": null,
            "border": null,
            "align_items": null,
            "bottom": null,
            "_model_module": "@jupyter-widgets/base",
            "top": null,
            "grid_column": null,
            "overflow_y": null,
            "overflow_x": null,
            "grid_auto_flow": null,
            "grid_area": null,
            "grid_template_columns": null,
            "flex": null,
            "_model_name": "LayoutModel",
            "justify_items": null,
            "grid_row": null,
            "max_height": null,
            "align_content": null,
            "visibility": null,
            "align_self": null,
            "height": null,
            "min_height": null,
            "padding": null,
            "grid_auto_rows": null,
            "grid_gap": null,
            "max_width": null,
            "order": null,
            "_view_module_version": "1.2.0",
            "grid_template_areas": null,
            "object_position": null,
            "object_fit": null,
            "grid_auto_columns": null,
            "margin": null,
            "display": null,
            "left": null
          }
        },
        "245a38f082aa445bbd1fcb100c0c99e6": {
          "model_module": "@jupyter-widgets/controls",
          "model_name": "IntSliderModel",
          "state": {
            "_view_name": "IntSliderView",
            "style": "IPY_MODEL_d0694d768b374205854ef0269278eec5",
            "_dom_classes": [],
            "description": "n",
            "step": 1,
            "_model_name": "IntSliderModel",
            "orientation": "horizontal",
            "max": 30,
            "_view_module": "@jupyter-widgets/controls",
            "_model_module_version": "1.5.0",
            "value": 30,
            "_view_count": null,
            "disabled": false,
            "_view_module_version": "1.5.0",
            "min": 1,
            "continuous_update": true,
            "readout_format": "d",
            "description_tooltip": null,
            "readout": true,
            "_model_module": "@jupyter-widgets/controls",
            "layout": "IPY_MODEL_4f75ba6da9914e0daa6c22db378b3280"
          }
        },
        "40f325f9582d48d1947ea36017bb203e": {
          "model_module": "@jupyter-widgets/output",
          "model_name": "OutputModel",
          "state": {
            "_view_name": "OutputView",
            "msg_id": "",
            "_dom_classes": [],
            "_model_name": "OutputModel",
            "outputs": [
              {
                "output_type": "stream",
                "metadata": {
                  "tags": []
                },
                "text": "el valor de la integral mediante el metodo de cuadratura del  Trapecio Compuesto es: 0.33351851851851855\n",
                "stream": "stdout"
              },
              {
                "output_type": "display_data",
                "metadata": {
                  "tags": [],
                  "needs_background": "light"
                },
                "image/png": "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\n",
                "text/plain": "<Figure size 432x288 with 1 Axes>"
              }
            ],
            "_view_module": "@jupyter-widgets/output",
            "_model_module_version": "1.0.0",
            "_view_count": null,
            "_view_module_version": "1.0.0",
            "layout": "IPY_MODEL_485a9f8e6ee147369025a2173c4208c3",
            "_model_module": "@jupyter-widgets/output"
          }
        },
        "d0694d768b374205854ef0269278eec5": {
          "model_module": "@jupyter-widgets/controls",
          "model_name": "SliderStyleModel",
          "state": {
            "_view_name": "StyleView",
            "handle_color": null,
            "_model_name": "SliderStyleModel",
            "description_width": "",
            "_view_module": "@jupyter-widgets/base",
            "_model_module_version": "1.5.0",
            "_view_count": null,
            "_view_module_version": "1.2.0",
            "_model_module": "@jupyter-widgets/controls"
          }
        },
        "4f75ba6da9914e0daa6c22db378b3280": {
          "model_module": "@jupyter-widgets/base",
          "model_name": "LayoutModel",
          "state": {
            "_view_name": "LayoutView",
            "grid_template_rows": null,
            "right": null,
            "justify_content": null,
            "_view_module": "@jupyter-widgets/base",
            "overflow": null,
            "_model_module_version": "1.2.0",
            "_view_count": null,
            "flex_flow": null,
            "width": null,
            "min_width": null,
            "border": null,
            "align_items": null,
            "bottom": null,
            "_model_module": "@jupyter-widgets/base",
            "top": null,
            "grid_column": null,
            "overflow_y": null,
            "overflow_x": null,
            "grid_auto_flow": null,
            "grid_area": null,
            "grid_template_columns": null,
            "flex": null,
            "_model_name": "LayoutModel",
            "justify_items": null,
            "grid_row": null,
            "max_height": null,
            "align_content": null,
            "visibility": null,
            "align_self": null,
            "height": null,
            "min_height": null,
            "padding": null,
            "grid_auto_rows": null,
            "grid_gap": null,
            "max_width": null,
            "order": null,
            "_view_module_version": "1.2.0",
            "grid_template_areas": null,
            "object_position": null,
            "object_fit": null,
            "grid_auto_columns": null,
            "margin": null,
            "display": null,
            "left": null
          }
        },
        "485a9f8e6ee147369025a2173c4208c3": {
          "model_module": "@jupyter-widgets/base",
          "model_name": "LayoutModel",
          "state": {
            "_view_name": "LayoutView",
            "grid_template_rows": null,
            "right": null,
            "justify_content": null,
            "_view_module": "@jupyter-widgets/base",
            "overflow": null,
            "_model_module_version": "1.2.0",
            "_view_count": null,
            "flex_flow": null,
            "width": null,
            "min_width": null,
            "border": null,
            "align_items": null,
            "bottom": null,
            "_model_module": "@jupyter-widgets/base",
            "top": null,
            "grid_column": null,
            "overflow_y": null,
            "overflow_x": null,
            "grid_auto_flow": null,
            "grid_area": null,
            "grid_template_columns": null,
            "flex": null,
            "_model_name": "LayoutModel",
            "justify_items": null,
            "grid_row": null,
            "max_height": null,
            "align_content": null,
            "visibility": null,
            "align_self": null,
            "height": null,
            "min_height": null,
            "padding": null,
            "grid_auto_rows": null,
            "grid_gap": null,
            "max_width": null,
            "order": null,
            "_view_module_version": "1.2.0",
            "grid_template_areas": null,
            "object_position": null,
            "object_fit": null,
            "grid_auto_columns": null,
            "margin": null,
            "display": null,
            "left": null
          }
        },
        "70b38f9dda22411aa04084a01aaea782": {
          "model_module": "@jupyter-widgets/controls",
          "model_name": "VBoxModel",
          "state": {
            "_view_name": "VBoxView",
            "_dom_classes": [
              "widget-interact"
            ],
            "_model_name": "VBoxModel",
            "_view_module": "@jupyter-widgets/controls",
            "_model_module_version": "1.5.0",
            "_view_count": null,
            "_view_module_version": "1.5.0",
            "box_style": "",
            "layout": "IPY_MODEL_fb45ec6ea3b047dba9d3ed7e568a925c",
            "_model_module": "@jupyter-widgets/controls",
            "children": [
              "IPY_MODEL_88d536153b6a4c1696f9c67af3ec90ef",
              "IPY_MODEL_bbc751bc2ea94315b8fc911450f1cf5f"
            ]
          }
        },
        "fb45ec6ea3b047dba9d3ed7e568a925c": {
          "model_module": "@jupyter-widgets/base",
          "model_name": "LayoutModel",
          "state": {
            "_view_name": "LayoutView",
            "grid_template_rows": null,
            "right": null,
            "justify_content": null,
            "_view_module": "@jupyter-widgets/base",
            "overflow": null,
            "_model_module_version": "1.2.0",
            "_view_count": null,
            "flex_flow": null,
            "width": null,
            "min_width": null,
            "border": null,
            "align_items": null,
            "bottom": null,
            "_model_module": "@jupyter-widgets/base",
            "top": null,
            "grid_column": null,
            "overflow_y": null,
            "overflow_x": null,
            "grid_auto_flow": null,
            "grid_area": null,
            "grid_template_columns": null,
            "flex": null,
            "_model_name": "LayoutModel",
            "justify_items": null,
            "grid_row": null,
            "max_height": null,
            "align_content": null,
            "visibility": null,
            "align_self": null,
            "height": null,
            "min_height": null,
            "padding": null,
            "grid_auto_rows": null,
            "grid_gap": null,
            "max_width": null,
            "order": null,
            "_view_module_version": "1.2.0",
            "grid_template_areas": null,
            "object_position": null,
            "object_fit": null,
            "grid_auto_columns": null,
            "margin": null,
            "display": null,
            "left": null
          }
        },
        "88d536153b6a4c1696f9c67af3ec90ef": {
          "model_module": "@jupyter-widgets/controls",
          "model_name": "IntSliderModel",
          "state": {
            "_view_name": "IntSliderView",
            "style": "IPY_MODEL_25b627567cf14cb0a19aefd641c68096",
            "_dom_classes": [],
            "description": "n",
            "step": 1,
            "_model_name": "IntSliderModel",
            "orientation": "horizontal",
            "max": 30,
            "_view_module": "@jupyter-widgets/controls",
            "_model_module_version": "1.5.0",
            "value": 4,
            "_view_count": null,
            "disabled": false,
            "_view_module_version": "1.5.0",
            "min": 4,
            "continuous_update": true,
            "readout_format": "d",
            "description_tooltip": null,
            "readout": true,
            "_model_module": "@jupyter-widgets/controls",
            "layout": "IPY_MODEL_fca8be1584d7429880d1d9dec4b0f09b"
          }
        },
        "bbc751bc2ea94315b8fc911450f1cf5f": {
          "model_module": "@jupyter-widgets/output",
          "model_name": "OutputModel",
          "state": {
            "_view_name": "OutputView",
            "msg_id": "",
            "_dom_classes": [],
            "_model_name": "OutputModel",
            "outputs": [
              {
                "output_type": "display_data",
                "metadata": {
                  "tags": [],
                  "needs_background": "light"
                },
                "image/png": "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\n",
                "text/plain": "<Figure size 432x288 with 1 Axes>"
              }
            ],
            "_view_module": "@jupyter-widgets/output",
            "_model_module_version": "1.0.0",
            "_view_count": null,
            "_view_module_version": "1.0.0",
            "layout": "IPY_MODEL_066a7fc7885e4a02a7e9c93d29a747ad",
            "_model_module": "@jupyter-widgets/output"
          }
        },
        "25b627567cf14cb0a19aefd641c68096": {
          "model_module": "@jupyter-widgets/controls",
          "model_name": "SliderStyleModel",
          "state": {
            "_view_name": "StyleView",
            "handle_color": null,
            "_model_name": "SliderStyleModel",
            "description_width": "",
            "_view_module": "@jupyter-widgets/base",
            "_model_module_version": "1.5.0",
            "_view_count": null,
            "_view_module_version": "1.2.0",
            "_model_module": "@jupyter-widgets/controls"
          }
        },
        "fca8be1584d7429880d1d9dec4b0f09b": {
          "model_module": "@jupyter-widgets/base",
          "model_name": "LayoutModel",
          "state": {
            "_view_name": "LayoutView",
            "grid_template_rows": null,
            "right": null,
            "justify_content": null,
            "_view_module": "@jupyter-widgets/base",
            "overflow": null,
            "_model_module_version": "1.2.0",
            "_view_count": null,
            "flex_flow": null,
            "width": null,
            "min_width": null,
            "border": null,
            "align_items": null,
            "bottom": null,
            "_model_module": "@jupyter-widgets/base",
            "top": null,
            "grid_column": null,
            "overflow_y": null,
            "overflow_x": null,
            "grid_auto_flow": null,
            "grid_area": null,
            "grid_template_columns": null,
            "flex": null,
            "_model_name": "LayoutModel",
            "justify_items": null,
            "grid_row": null,
            "max_height": null,
            "align_content": null,
            "visibility": null,
            "align_self": null,
            "height": null,
            "min_height": null,
            "padding": null,
            "grid_auto_rows": null,
            "grid_gap": null,
            "max_width": null,
            "order": null,
            "_view_module_version": "1.2.0",
            "grid_template_areas": null,
            "object_position": null,
            "object_fit": null,
            "grid_auto_columns": null,
            "margin": null,
            "display": null,
            "left": null
          }
        },
        "066a7fc7885e4a02a7e9c93d29a747ad": {
          "model_module": "@jupyter-widgets/base",
          "model_name": "LayoutModel",
          "state": {
            "_view_name": "LayoutView",
            "grid_template_rows": null,
            "right": null,
            "justify_content": null,
            "_view_module": "@jupyter-widgets/base",
            "overflow": null,
            "_model_module_version": "1.2.0",
            "_view_count": null,
            "flex_flow": null,
            "width": null,
            "min_width": null,
            "border": null,
            "align_items": null,
            "bottom": null,
            "_model_module": "@jupyter-widgets/base",
            "top": null,
            "grid_column": null,
            "overflow_y": null,
            "overflow_x": null,
            "grid_auto_flow": null,
            "grid_area": null,
            "grid_template_columns": null,
            "flex": null,
            "_model_name": "LayoutModel",
            "justify_items": null,
            "grid_row": null,
            "max_height": null,
            "align_content": null,
            "visibility": null,
            "align_self": null,
            "height": null,
            "min_height": null,
            "padding": null,
            "grid_auto_rows": null,
            "grid_gap": null,
            "max_width": null,
            "order": null,
            "_view_module_version": "1.2.0",
            "grid_template_areas": null,
            "object_position": null,
            "object_fit": null,
            "grid_auto_columns": null,
            "margin": null,
            "display": null,
            "left": null
          }
        }
      }
    }
  },
  "cells": [
    {
      "cell_type": "markdown",
      "metadata": {
        "id": "view-in-github",
        "colab_type": "text"
      },
      "source": [
        "<a href=\"https://colab.research.google.com/github/jugernaut/Numerico2021/blob/desarrollo/07_CuadraturaNumerica/01_IntegracionNumerica.ipynb\" target=\"_parent\"><img src=\"https://colab.research.google.com/assets/colab-badge.svg\" alt=\"Open In Colab\"/></a>"
      ]
    },
    {
      "cell_type": "markdown",
      "metadata": {
        "id": "ScSKHDcow79x"
      },
      "source": [
        "<font color=\"Teal\" face=\"Comic Sans MS,arial\">\n",
        "  <h1 align=\"center\"><i>Integral Numérica</i></h1>\n",
        "  </font>\n",
        "  <font color=\"Black\" face=\"Comic Sans MS,arial\">\n",
        "  <h5 align=\"center\"><i>Profesor: M.en.C. Miguel Angel Pérez León.</i></h5>\n",
        "    <h5 align=\"center\"><i>Ayudante: Jesús Iván Coss Calderón.</i></h5>\n",
        "  <h5 align=\"center\"><i>Materia: Análisis Numérico.</i></h5>\n",
        "  </font>"
      ]
    },
    {
      "cell_type": "markdown",
      "metadata": {
        "id": "cbG3g1S0w79y"
      },
      "source": [
        "# Introducción\n",
        "\n",
        "Muy frecuentemente es necesario evaluar la integral definida de una función $f\\left(x\\right)$ en un intervalo $\\left[a,b\\right]$. El objetivo de esta sección es encontrar métodos para aproximar la integral\n",
        "\n",
        "$$\\int_{a}^{b}f\\left(x\\right)dx$$\n",
        "\n",
        "Si se conoce a priori la **antiderivada** $F\\left(x\\right)$ entonces es evidente que podemos encontrar el valor exacto de la integral, aplicando el siguiente teorema\n"
      ]
    },
    {
      "cell_type": "markdown",
      "metadata": {
        "id": "LxClLbNDH-rL"
      },
      "source": [
        "## Teorema Fundamental de Cálculo\n",
        "\n",
        "Sea $f\\left(x\\right)$ integrable en el intervalo $\\left[a,b\\right]$ y $F'\\left(x\\right)=f\\left(x\\right)$ entonces,$\\int_{a}^{b}f\\left(x\\right)dx=F\\left(a\\right)-F\\left(b\\right)$\n",
        "\n",
        "\n",
        "Sin embargo como en otras partes del curso, a veces encontrar a $F$ es muy complicado, de tal manera que la mejor opción es encontrar una aproximación del valor exacto de.\n",
        "\n",
        "$$\\int_{a}^{b}f\\left(x\\right)dx$$\n",
        "\n",
        "La forma básica para encontrar una aproximación de $\\int_{a}^{b}f\\left(x\\right)dx$, se conoce como **cuadratura numérica** y emplea una suma del tipo.\n",
        "\n",
        "$$\\sum_{i=0}^{n}a_{i}f\\left(x_{i}\\right)$$\n",
        "\n",
        "Existen diferentes aproximaciones de la integral de $f\\left(x\\right)$ mediante cuadratura numérica, en esta sección revisaremos algunas de las mas comunes."
      ]
    },
    {
      "cell_type": "markdown",
      "metadata": {
        "id": "QNpXtFzFw79z"
      },
      "source": [
        "# Cuadratura Numérica\n",
        "\n",
        "Los métodos de integración numérica se basan en los polinomios de Lagrange visto en secciones previas. La idea básica es que seleccionamos un conjunto de nodos distintos $x_{0},\\ldots,x_{n}$ del intervalo $ \\left[a,b\\right]$. Después se integra el polinomio de Lagrange\n",
        "\n",
        "$$P_{n}\\left(x\\right)=\\sum_{i=0}^{n}f\\left(x_{i}\\right)L_{i}\\left(x\\right)$$\n",
        "\n",
        "Y también se integra el termino de error de truncamiento en $\\left[a,b\\right]$\n",
        "\n",
        "$$\\prod_{i=0}^{n}\\left(x-x_{i}\\right)\\frac{f^{\\left(n+1\\right)}\\left(\\xi\\left(x\\right)\\right)}{\\left(n+1\\right)!}dx$$\n",
        "\n",
        "De tal manera que obtenemos\n",
        "\n",
        "$$ \\int_{a}^{b}f\\left(x\\right)dx=\\int_{a}^{b}\\sum_{i=0}^{n}f\\left(x_{i}\\right)L_{i}\\left(x\\right)dx+\\int_{a}^{b}\\prod_{i=0}^{n}\\left(x-x_{i}\\right)\\frac{f^{\\left(n+1\\right)}\\left(\\xi\\left(x\\right)\\right)}{\\left(n+1\\right)!}dx\\\\=\\sum_{i=0}^{n}a_{i}f\\left(x_{i}\\right)+\\frac{1}{\\left(n+1\\right)!}\\int_{a}^{b}\\prod_{i=0}^{n}\\left(x-x_{i}\\right)f^{\\left(n+1\\right)}\\left(\\xi\\left(x\\right)\\right)dx $$\n",
        "\n",
        "Donde $\\xi\\left(x\\right)$ se encuentra en $\\left[a,b\\right]$ para cada $x$ y\n",
        "\n",
        "$$a_{i}=\\int_{a}^{b}L_{i}\\left(x\\right)dx,\\quad para\\,cada\\,i=0,1,\\ldots,n$$\n",
        "\n",
        "Por lo tanto, la formula de la cuadratura es\n",
        "\n",
        "$$\\int_{a}^{b}f\\left(x\\right)dx=\\sum_{i=0}^{n}a_{i}f\\left(x_{i}\\right) \\tag{1}$$\n",
        "\n",
        "Con un error dado por\n",
        "\n",
        "$$E\\left(f\\right)=\\frac{1}{\\left(n+1\\right)!}\\int_{a}^{b}\\prod_{i=0}^{n}\\left(x-x_{i}\\right)f^{\\left(n+1\\right)}\\left(\\xi\\left(x\\right)\\right)dx$$\n",
        "\n",
        "De la misma manera que en otros temas vistos en el curso, la aproximación sera mas exacta si subdividimos el intervalo $\\left[a,b\\right]$ en tantos subintervalos como sea necesario, es decir\n",
        "\n",
        "Sea\n",
        "\n",
        "$$\\left[a,b\\right]=\\left[a,x_{1}\\right]\\cup\\left[x_{1},x_{2}\\right]\\cup\\cdots\\cup\\left[x_{n-2},x_{n-1}\\right]\\cup\\left[x_{n-1},b\\right]$$\n",
        "\n",
        "Donde\n",
        "\n",
        "$$x_{k}=a+\\frac{b-a}{n}k,\\quad n=0,1,2,\\ldots,n,\\quad x_{0}=a,\\,x_{n}=b$$\n",
        "\n",
        "\n",
        "Tendremos\n",
        "\n",
        "$$\\int_{a}^{b}f\\left(x\\right)dx=\\int_{a}^{x_{1}}f\\left(x\\right)dx+\\cdots+\\int_{x_{k}}^{x_{k+1}}f\\left(x\\right)dx+\\cdots+\\int_{x_{n-1}}^{b}f\\left(x\\right)dx \\tag{2} $$\n",
        "\n",
        "Observación, todos los nodos son igualmente espaciados.\n",
        "\n"
      ]
    },
    {
      "cell_type": "markdown",
      "metadata": {
        "id": "xRjpaWQHTd9k"
      },
      "source": [
        "### Cuadratura del rectángulo\r\n",
        "\r\n",
        "La forma de cuadratura mas simple es la que emplea rectángulos de base $\\left(b-a\\right)$ y altura $f\\left(a\\right)$\r\n",
        "\r\n",
        "$$\\int_{a}^{b}f\\left(x\\right)dx=\\left(b-a\\right)f\\left(a\\right)+E\\left(f\\right) \\tag{3}$$\r\n",
        "\r\n",
        "Combinando $(1)$ y $(3)$, se obtiene la forma general de la cuadratura mediante rectángulos\r\n",
        "\r\n",
        "$$\\int_{a}^{b}f\\left(x\\right)dx=\\frac{b-a}{n}\\sum_{i=0}^{n-1}f\\left(x_{i}\\right)+E\\left(f\\right)$$\r\n",
        "\r\n"
      ]
    },
    {
      "cell_type": "code",
      "metadata": {
        "id": "xoCX7k-_w790",
        "colab": {
          "base_uri": "https://localhost:8080/",
          "height": 361,
          "referenced_widgets": [
            "8b9e322a6c1e4e1095bb14521d1e609d",
            "28ab3ad2d7bb49a990441c083df93abe",
            "0f9f33bde5514628a1379607474aa1ad",
            "f887ab316748476bada1ea3808067c45",
            "67645b6bdeaa45748b4862ad307df9c5",
            "a8ab676b3e2d418d9d91e563912521ab",
            "5dbfd0558e0540adbe7bd1aa61e3c1c3"
          ]
        },
        "outputId": "cd0654d3-79cd-45dd-8de3-bd44e43b72a9"
      },
      "source": [
        "# import de las bibliotecas necesarias\n",
        "import numpy as np\n",
        "from IPython.html.widgets import interact\n",
        "import ipywidgets as widgets\n",
        "import matplotlib.pyplot as plt\n",
        "\n",
        "# funcion que define la cuadratura mediante rectangulos\n",
        "# cantidad de puntos que usaran en la cuadratura\n",
        "def Rectangulo(n): \n",
        "    # a punto inicial del intervalo  \n",
        "    a=0\n",
        "    # b punto final del intervalo\n",
        "    b=1\n",
        "    # f funcion a integrar **\n",
        "    #def f(x):\n",
        "        #return x*x\n",
        "    # f funcion a integrar\n",
        "    f = lambda x: x*x\n",
        "    \n",
        "    # para grficar f(x)\n",
        "    xp=np.linspace(a,b,30)\n",
        "    fp=f(xp)\n",
        "    plt.plot(xp,fp,color='black')\n",
        "    \n",
        "    # discretizacion para la cuadratura\n",
        "    x=np.linspace(a,b,n+1)\n",
        "    fx=[ f(x[i]) for i in range(len(x))]\n",
        "    plt.bar(x,fx,width=(-(b-a)/n),color='orange', align='edge')\n",
        "    plt.title(\"Aproximacion de la integral con el metodo de la cuadratura del rectangulo\")\n",
        "    plt.xlabel(\"x\")\n",
        "    plt.ylabel(r\"$f \\left(x\\right) = x^{2}$\")\n",
        "    plt.grid()\n",
        "\n",
        "    # aproximacion mediante la cuadratura del rectangulo\n",
        "    cuadratura=0.0\n",
        "    for i in range (len(x)):\n",
        "        cuadratura+=f(x[i])\n",
        "    # valor aproximado    \n",
        "    integral=((b-a)/n)*cuadratura\n",
        "\n",
        "    print(\"el valor de la integral mediante el metodo de cuadratura del rectangulo es: {}\".format(integral)) \n",
        "\n",
        "interact(Rectangulo,n=widgets.IntSlider(min=1,max=30,step=1,value=1))"
      ],
      "execution_count": 2,
      "outputs": [
        {
          "output_type": "display_data",
          "data": {
            "application/vnd.jupyter.widget-view+json": {
              "model_id": "8b9e322a6c1e4e1095bb14521d1e609d",
              "version_minor": 0,
              "version_major": 2
            },
            "text/plain": [
              "interactive(children=(IntSlider(value=1, description='n', max=30, min=1), Output()), _dom_classes=('widget-int…"
            ]
          },
          "metadata": {
            "tags": []
          }
        },
        {
          "output_type": "execute_result",
          "data": {
            "text/plain": [
              "<function __main__.Rectangulo>"
            ]
          },
          "metadata": {
            "tags": []
          },
          "execution_count": 2
        }
      ]
    },
    {
      "cell_type": "markdown",
      "metadata": {
        "id": "NM8gZ8Dqw794"
      },
      "source": [
        "### Cuadratura del punto medio\n",
        "\n",
        "Una aproximación de la integral $\\int_{a}^{b}f\\left(x\\right)dx$ consiste en aproximar el área bajo la curva $y=f\\left(x\\right)$ por un rectángulo de base $b-a$ y altura $f\\left(\\frac{a+b}{2}\\right)$, entonces\n",
        "\n",
        "$$\\int_{a}^{b}f\\left(x\\right)dx=\\left(b-a\\right)f\\left(\\frac{a+b}{2}\\right)+E\\left(f\\right) \\tag{4} $$\n",
        "\n",
        "Donde $E\\left(f\\right)$, si $f$ tiene primera y segunda derivada continuas en $\\left[a,b\\right]$, se expresa así\n",
        "\n",
        "$$E\\left(f\\right)=\\frac{\\left(b-a\\right)^{2}}{24}f''\\left(\\xi\\right)\\quad\\xi\\in\\left[a,b\\right]$$\n",
        "\n",
        "Combinando $(1)$ y $(4)$, se obtiene la forma general de la cuadratura del punto medio\n",
        "\n",
        "$$\\int_{a}^{b}f\\left(x\\right)dx=\\frac{b-a}{n}\\sum_{i=0}^{n-1}f\\left(\\frac{x_{i}+x_{i+1}}{2}\\right)+E\\left(f\\right)$$\n",
        "\n"
      ]
    },
    {
      "cell_type": "code",
      "metadata": {
        "id": "OZOU5EaVw796",
        "colab": {
          "base_uri": "https://localhost:8080/",
          "height": 361,
          "referenced_widgets": [
            "ae0beee6172a46da803562500f9977c8",
            "e526b8762edf4f0ba9964da769dacc52",
            "0070d6fe76594c72a856758bd277ca26",
            "a6ac675ec0414b57bbdd9ace98e0917d",
            "fe80db31a5c5475aaa8b5f04111c103e",
            "94ed85bccf664c45a7c2f803c6972e98",
            "2e8f44611e244002bf5a1e95279b1ea7"
          ]
        },
        "outputId": "e826ad16-0261-479e-a97e-80e193ae575a"
      },
      "source": [
        "def PuntoMedio(n):\n",
        "    # a punto inicial del intervalo  \n",
        "    a=0\n",
        "    # b punto final del intervalo\n",
        "    b=1\n",
        "    # f funcion a integrar **\n",
        "    #def f(x):\n",
        "        #return x*x\n",
        "    # f funcion a integrar\n",
        "    f = lambda x: x*x\n",
        "    \n",
        "    # para grficar f(x)\n",
        "    xp=np.linspace(a,b,30)\n",
        "    fp=f(xp)\n",
        "    plt.plot(xp,fp,color='black')\n",
        "    \n",
        "    # discretizacion para la cuadratura\n",
        "    x=np.linspace(a,b,n+1)\n",
        "    fx=[]\n",
        "    '''for i in range (len(x)-1):\n",
        "         fx.append(f((x[i])/2 ))'''\n",
        "\n",
        "    fx=[ f(float(x[i])/2) for i in range(len(x))]\n",
        "\n",
        "    plt.bar(x,fx,width=(-(b-a)/n),color='orange', align='edge')\n",
        "    plt.title(\"Aproximacion de la integral con el metodo de la cuadratura del punto medio\")\n",
        "    plt.xlabel(\"x\")\n",
        "    plt.ylabel(r\"$f \\left(x\\right) = x^{2}$\")\n",
        "    plt.grid()\n",
        "\n",
        "    # aproximacion mediante la cuadratura del punto medio\n",
        "    cuadratura=0.0\n",
        "    for i in range (len(x)-1):\n",
        "        cuadratura+=f( (x[i]+x[i+1])/2 )\n",
        "    # valor aproximado     \n",
        "    integral=((b-a)/n)*cuadratura\n",
        "    \n",
        "    print(\"el valor de la integral mediante el metodo de cuadratura del punto medio es: {}\".format(integral)) \n",
        "\n",
        "interact(PuntoMedio,n=widgets.IntSlider(min=1,max=30,step=1,value=1))"
      ],
      "execution_count": 51,
      "outputs": [
        {
          "output_type": "display_data",
          "data": {
            "application/vnd.jupyter.widget-view+json": {
              "model_id": "ae0beee6172a46da803562500f9977c8",
              "version_minor": 0,
              "version_major": 2
            },
            "text/plain": [
              "interactive(children=(IntSlider(value=1, description='n', max=30, min=1), Output()), _dom_classes=('widget-int…"
            ]
          },
          "metadata": {
            "tags": []
          }
        },
        {
          "output_type": "execute_result",
          "data": {
            "text/plain": [
              "<function __main__.PuntoMedio>"
            ]
          },
          "metadata": {
            "tags": []
          },
          "execution_count": 51
        }
      ]
    },
    {
      "cell_type": "markdown",
      "metadata": {
        "id": "nE9yuzw9w79_"
      },
      "source": [
        "### 2.3.  Cuadratura del trapecio.\n",
        "\n",
        "Para derivar la regla del trapecio para aproximar $\\int_{a}^{b}f\\left(x\\right)dx$, tomemos $x_{0}=a,\\,x_{1}=b,\\,h=b-a$ y calculando el polinomio lineal de Lagrange\n",
        "\n",
        "$$P\\left(x\\right)=\\left(\\frac{x-x_{1}}{x_{0}-x_{1}}\\right)f(x_{0})+\\left(\\frac{x-x_{0}}{x_{1}-x_{0}}\\right)f(x_{1})$$\n",
        "\n",
        "Al integrar este polinomio se tiene\n",
        "\n",
        "$$\\int_{a}^{b}f\\left(x\\right)dx=\\int_{x_{0}}^{x_{1}}\\left[\\left(\\frac{x-x_{1}}{x_{0}-x_{1}}\\right)f(x_{0})+\\left(\\frac{x-x_{0}}{x_{1}-x_{0}}\\right)f(x_{1})\\right]dx\\\\+\\frac{1}{2}\\int_{x_{0}}^{x_{1}}f''\\left(\\xi\\left(x\\right)\\right)\\left(x-x_{0}\\right)\\left(x-x_{1}\\right)dx$$\n",
        "\n",
        "Donde la integral del error es $-\\frac{h^{3}}{6}f''\\left(\\xi\\right)$, lo que nos lleva a la forma general de la cuadratura del trapecio\n",
        "\n",
        "$$\\int_{a}^{b}f\\left(x\\right)dx=\\left[\\frac{x-x_{1}}{2\\left(x_{0}-x_{1}\\right)}f(x_{0})+\\frac{x-x_{0}}{2\\left(x_{1}-x_{0}\\right)}f(x_{1})\\right]_{x_{0}}^{x_{1}}-\\frac{h^{3}}{12}f''\\left(\\xi\\right)\\\\=\\frac{\\left(x_{1}-x_{0}\\right)}{2}\\left[f\\left(x_{0}\\right)+f\\left(x_{1}\\right)\\right]-\\frac{h^{3}}{12}f''\\left(\\xi\\right) $$\n",
        "\n",
        "Tomando en cuenta que $h=x_{1}-x_{0}$, obtenemos la forma general de la cuadratura del trapecio\n",
        "\n",
        "$$\\int_{a}^{b}f\\left(x\\right)dx=\\frac{h}{2}\\left[f\\left(x_{0}\\right)+f\\left(x_{1}\\right)\\right]-\\frac{h^{3}}{12}f''\\left(\\xi\\right)$$\n",
        "\n"
      ]
    },
    {
      "cell_type": "markdown",
      "metadata": {
        "id": "RzIphI3qT1fk"
      },
      "source": [
        "#### codigo en python"
      ]
    },
    {
      "cell_type": "code",
      "metadata": {
        "id": "sFvxeX94w79_",
        "colab": {
          "base_uri": "https://localhost:8080/"
        },
        "outputId": "b02bdbdc-b02d-48b9-f041-5ed137fab9b7"
      },
      "source": [
        "def Trapecio():\n",
        "    # a punto inicial del intervalo \n",
        "    # b punto final del intervalo \n",
        "    # f funcion a integrar\n",
        "    a=0\n",
        "    b=1\n",
        "    def f(x):\n",
        "        return x*x\n",
        "    \n",
        "    integral=((b-a)/2)*(f(a)+f(b))\n",
        "    print(\"el valor de la integral mediante el metodo de cuadratura del Trapecio: {}\".format(integral))\n",
        "\n",
        "Trapecio()"
      ],
      "execution_count": null,
      "outputs": [
        {
          "output_type": "stream",
          "text": [
            "el valor de la integral mediante el metodo de cuadratura del Trapecio: 0.5\n"
          ],
          "name": "stdout"
        }
      ]
    },
    {
      "cell_type": "markdown",
      "metadata": {
        "id": "f1IO7V-qw7-D"
      },
      "source": [
        "### 2.3.  Cuadratura del trapecio compuesto.\n",
        "\n",
        "Sean los nodos $a=x_{0}<x_{1}<\\cdots<x_{n}=b$ con $h_{i}=x_{i+1}-x_{i}$ y lo que se busca es aproximar el valor de $\\int_{a}^{b}f\\left(x\\right)dx$. Ademas aprovechamos el hecho de que \n",
        "\n",
        "$$\\int_{a}^{b}f\\left(x\\right)dx\t=\t\\int_{a}^{c}f\\left(x\\right)dx+\\int_{c}^{b}f\\left(x\\right)dx$$\n",
        "\n",
        "Integrando sobre los subintervalos $\\left[x_{i},x_{i+1}\\right]$, para $i=0,\\ldots,n-1$ y aplicando la regla del trapecio simple, se obtiene\n",
        "\n",
        "$$\\int_{a}^{b}f\\left(x\\right)dx=\\sum_{i=0}^{n-1}\\int_{x_{i}}^{x_{i+1}}f\\left(x\\right)=\\sum_{i=0}^{n-1}\\frac{h_{i}}{2}\\left[f\\left(x_{i}\\right)+f\\left(x_{i+1}\\right)\\right]-\\sum_{i=0}^{n-1}\\frac{h_{i}^{3}}{12}f''\\left(\\xi_{i}\\right),\\quad\\xi_{i}\\in\\left(x_{i+1},x_{i}\\right) $$\n",
        "\n",
        "Si consideramos $h=h_{i}$ para $i=0,\\ldots,n-1$ y $f''\\left(x\\right)$ continua, entonces obtenemos el error total\n",
        "\n",
        "$$E_{T}=-\\frac{h^{3}}{12}\\sum_{i=0}^{n-1}f''\\left(\\xi_{i}\\right)=-\\frac{h^{3}}{12}nf''\\left(\\xi\\right)=-\\frac{h^{2}}{12}nhf''\\left(\\xi\\right)$$\n",
        "\n",
        "Donde $\\xi\\in\\left(x_{0},x_{n}\\right)$ y $h=\\frac{x_{n}-x_{0}}{n}$ entonces $E_{T}=-\\frac{h^{2}}{12}\\left(x_{n}-x_{0}\\right)f''\\left(\\xi\\right)$, es decir\n",
        "\n",
        "$$ \\int_{a}^{b}f\\left(x\\right)dx=\\frac{h}{2}\\left[f\\left(x_{0}\\right)+2f\\left(x_{1}\\right)+\\cdots+2f\\left(x_{n-1}\\right)+f\\left(x_{n}\\right)\\right]-\\frac{h^{2}}{12}\\left(x_{n}-x_{0}\\right)f''\\left(\\xi\\right)$$\n",
        "\n",
        "Así que\n",
        "\n",
        "$$\\int_{a}^{b}f\\left(x\\right)dx=\\frac{h}{2}\\left[f\\left(a\\right)+2\\sum_{i=1}^{n-1}f\\left(x_{i}\\right)+f\\left(b\\right)\\right]-\\frac{b-a}{12}h^{2}f''\\left(\\xi\\right)$$\n",
        "\n",
        "Es la forma general de la cuadratura del trapecio compuesto.\n",
        "\n"
      ]
    },
    {
      "cell_type": "markdown",
      "metadata": {
        "id": "IH39JtCyT_Ur"
      },
      "source": [
        "#### codigo en python"
      ]
    },
    {
      "cell_type": "code",
      "metadata": {
        "id": "LWgI2-zkw7-E",
        "colab": {
          "base_uri": "https://localhost:8080/",
          "height": 361,
          "referenced_widgets": [
            "664fc4856efc40978ca8854e25489fcc",
            "9c4c6c1f65db4c8d93173ab6c5331ad4",
            "245a38f082aa445bbd1fcb100c0c99e6",
            "40f325f9582d48d1947ea36017bb203e",
            "d0694d768b374205854ef0269278eec5",
            "4f75ba6da9914e0daa6c22db378b3280",
            "485a9f8e6ee147369025a2173c4208c3"
          ]
        },
        "outputId": "15bcda30-719c-4a2a-951b-3e8b9591f39d"
      },
      "source": [
        "def TrapComp(n):\n",
        "    # a punto inicial del intervalo \n",
        "    # b punto final del intervalo \n",
        "    # f funcion a integrar\n",
        "    # n los puntos que se usaran para integrar \n",
        "    a=0\n",
        "    b=1\n",
        "    def f(x):\n",
        "        return x*x\n",
        "    \n",
        "    xp=np.linspace(a,b,30)\n",
        "    fp=f(xp)\n",
        "    \n",
        "    x=np.linspace(a,b,n+1) # se crea la particion\n",
        "    fx=[ f(x[i]) for i in range(len (x))]\n",
        "    plt.bar(x,fx,width=((b-a)/n),color='orange')\n",
        "    plt.plot(xp,fp,color='black')\n",
        "    plt.title(\"Aproximacion de la integral con el metodo del Trapecio compuesto\")\n",
        "    plt.xlabel(\"x\")\n",
        "    plt.ylabel(r\"$f \\left(x\\right) = x^{2}$\")\n",
        "    plt.grid()\n",
        "\n",
        "    cuadratura=0.0\n",
        "    for i in range (1,len(x)-1):\n",
        "        cuadratura+=f( x[i])\n",
        "\n",
        "    integral=((b-a)/(2*n))*(2*cuadratura+f(a)+f(b))\n",
        "    \n",
        "    print(\"el valor de la integral mediante el metodo de cuadratura del  Trapecio Compuesto es: {}\".format(integral)) \n",
        "\n",
        "interact(TrapComp,n=widgets.IntSlider(min=1,max=30,step=1,value=1))"
      ],
      "execution_count": null,
      "outputs": [
        {
          "output_type": "display_data",
          "data": {
            "application/vnd.jupyter.widget-view+json": {
              "model_id": "664fc4856efc40978ca8854e25489fcc",
              "version_minor": 0,
              "version_major": 2
            },
            "text/plain": [
              "interactive(children=(IntSlider(value=1, description='n', max=30, min=1), Output()), _dom_classes=('widget-int…"
            ]
          },
          "metadata": {
            "tags": []
          }
        },
        {
          "output_type": "execute_result",
          "data": {
            "text/plain": [
              "<function __main__.TrapComp>"
            ]
          },
          "metadata": {
            "tags": []
          },
          "execution_count": 70
        }
      ]
    },
    {
      "cell_type": "markdown",
      "metadata": {
        "id": "sjL0EQ79w7-J"
      },
      "source": [
        "### 2.4.  Cuadratura de Simpson $\\frac{1}{3}$\n",
        "\n",
        "Se obtiene al integrar en $\\left[a,b\\right]$ el segundo polinomio de Lagrange con los nodos $x_{0}=a,\\,x_{1}=a+h\\,y\\,x_{2}=b$ donde $h=\\frac{b-a}{2}$\n",
        "\n",
        "$$\\int_{a}^{b}f\\left(x\\right)dx=\\int_{x_{0}}^{x_{2}}\\left[\\frac{\\left(x-x_{1}\\right)\\left(x-x_{2}\\right)}{\\left(x_{0}-x_{1}\\right)\\left(x_{0}-x_{2}\\right)}f(x_{0})+\\frac{\\left(x-x_{0}\\right)\\left(x-x_{2}\\right)}{\\left(x_{1}-x_{0}\\right)\\left(x_{1}-x_{2}\\right)}f(x_{1})\\right]\\\\+\\int_{x_{0}}^{x_{2}}\\left[\\frac{\\left(x-x_{0}\\right)\\left(x-x_{1}\\right)}{\\left(x_{2}-x_{0}\\right)\\left(x_{2}-x_{1}\\right)}f(x_{2})\\right]\\\\+\\frac{1}{6}\\int_{x_{0}}^{x_{2}}f'''\\left(\\xi\\left(x\\right)\\right)\\left(x-x_{0}\\right)\\left(x-x_{1}\\right)\\left(x-x_{2}\\right)dx $$\n",
        "\n",
        "Sin embargo, al deducir la regla de Simpson de esta manera, unicamente se obtiene un término de error $O\\left(h^{4}\\right)$ que contiene a $f^{\\left(3\\right)}$. Pero si construimos la regla de otra forma, podemos deducir un termino de orden superior que incluya a $f^{\\left(4\\right)}$\n",
        "\n",
        "Supongamos que $f$ se expande mediante el tercer polinomio de Taylor alrededor de $x_{1}$. Entonces, para cada $x$ en $\\left[x_{0},x_{2}\\right]$, existe un número $\\xi\\left(x\\right)\\in\\left(x_{0},x_{2}\\right)$ con\n",
        "\n",
        "$$f\\left(x\\right)=f\\left(x_{1}\\right)+f'\\left(x_{1}\\right)\\left(x-x_{1}\\right)+\\frac{f''\\left(x_{1}\\right)\\left(x-x_{1}\\right)^{2}}{2!}\\\\+\\frac{f'''\\left(x_{1}\\right)\\left(x-x_{1}\\right)^{3}}{3!}+\\frac{f^{\\left(4\\right)}\\left(\\xi\\left(x\\right)\\right)\\left(x-x_{1}\\right)^{4}}{4!}$$\n",
        "\n",
        "Si $h=\\left(x-x_{1}\\right)$ y \n",
        "\n",
        "$$\\int_{x_{0}}^{x_{2}}f\\left(x\\right)dx=\\left[f\\left(x_{1}\\right)h+\\frac{f'\\left(x_{1}\\right)h^{2}}{2!}+\\frac{f''\\left(x_{1}\\right)h^{3}}{3!}+\\frac{f^{\\left(3\\right)}\\left(x_{1}\\right)h^{4}}{4!}\\right]_{x_{0}}^{x_{2}}+\\frac{1}{24}\\int_{x_{0}}^{x_{2}}f^{\\left(4\\right)}\\left(\\xi\\left(x\\right)\\right)h^{4}dx \\tag{5}$$\n",
        "\n",
        "Puesto que $\\left(x-x_{1}\\right)^{4}$ nunca es negativo en $\\left[x_{0},x_{2}\\right]$ y por el Teorema del Valor Medio ponderado, entonces\n",
        "\n",
        "$$\\frac{1}{24}\\int_{x_{0}}^{x_{2}}f^{\\left(4\\right)}\\left(\\xi\\left(x\\right)\\right)h^{4}dx=\\frac{f^{\\left(4\\right)}\\left(\\xi_{1}\\right)h^{4}}{24}\\int_{x_{0}}^{x_{2}}h^{4}dx=\\frac{f^{\\left(4\\right)}\\left(\\xi_{1}\\right)}{120}h^{5}\\mid_{x_{0}}^{x2}$$\n",
        "\n",
        "Para algún número $\\xi_{1}\\in\\left(x_{0},x_{2}\\right)$. Pero por otro lado $h=x_{2}-x_{1}=x_{1}-x_{0}$, así que\n",
        "\n",
        "$$\\left(x_{2}-x_{1}\\right)^{2}-\\left(x_{1}-x_{0}\\right)^{2}=\\left(x_{2}-x_{1}\\right)^{4}-\\left(x_{1}-x_{0}\\right)^{4}=0 $$\n",
        "\n",
        "Mientras que\n",
        "\n",
        "$$\\left(x_{2}-x_{1}\\right)^{3}-\\left(x_{1}-x_{0}\\right)^{3}=2h^{3}\\,y\\,\\left(x_{2}-x_{1}\\right)^{5}-\\left(x_{1}-x_{0}\\right)^{5}=2h^{5}$$\n",
        "\n",
        "Así que (5), se puede reescribir así\n",
        "\n",
        "Pero si ahora reemplazamos $f''\\left(x_{1}\\right)$ por su aproximación en diferencias finitas, se tiene\n",
        "\n",
        "$$\\int_{x_{0}}^{x_{2}}f\\left(x\\right)dx=2hf\\left(x_{1}\\right)+\\frac{h^{3}}{3}\\left\\{ \\frac{1}{h^{2}}\\left[f\\left(x_{0}\\right)-2f\\left(x_{1}\\right)+f\\left(x_{2}\\right)\\right]-\\frac{h^{2}}{12}f^{\\left(4\\right)}\\left(\\xi_{2}\\right)\\right\\} \\\\+\\frac{f^{\\left(4\\right)}\\left(\\xi_{1}\\right)h^{5}}{60}\\\\=\\frac{h}{3}\\left[f\\left(x_{0}\\right)+4f\\left(x_{1}\\right)+f\\left(x_{2}\\right)\\right]-\\frac{h^{5}}{12}\\left[\\frac{1}{3}f^{\\left(4\\right)}\\left(\\xi_{2}\\right)-\\frac{1}{5}f^{\\left(4\\right)}\\left(\\xi_{1}\\right)\\right] $$\n",
        "\n",
        "Así tenemos que\n",
        "\n",
        "$$\\int_{x_{0}}^{x_{2}}f\\left(x\\right)dx=\\frac{h}{3}\\left[f\\left(x_{0}\\right)+4f\\left(x_{1}\\right)+f\\left(x_{2}\\right)\\right]-\\frac{h^{5}}{90}f^{\\left(4\\right)}\\left(\\xi_{1}\\right)$$\n",
        "\n",
        "Es la forma general de la regla de Simpson $\\frac{1}{3}$\n",
        "\n",
        "$\\color{green}{Ejemplo}$. La regla del trapecio para una función f en el intervalo $\\left[0,2\\right]$ es \n",
        "\n",
        "$$\\int_{0}^{2}f\\left(x\\right)dx\\approx f\\left(0\\right)+f\\left(2\\right)$$\n",
        "\n",
        "y la regla de Simpson para $f$ en $\\left[0,2\\right]$ es\n",
        "\n",
        "$$\\int_{0}^{2}f\\left(x\\right)dx\\approx\\frac{1}{3}\\left[f\\left(0\\right)+4f\\left(1\\right)+f\\left(2\\right)\\right] $$\n",
        "\n",
        "Calcular las correspondientes aproximaciones para\n",
        "\n",
        "$$x^{2},x^{4},\\frac{1}{\\left(x+1\\right)},\\,\\sqrt{1+x^{2}},\\,sen\\,x,\\,e^{x}$$\n",
        "\n",
        "Notar como en todos los casos, la regla de Simpson, proporciona una mejor aproximación.\n",
        "\n",
        "| $f\\left(x\\right)$        | $x^{2}$ |  $x^{4}$ | $\\frac{1}{x+1}$|$\\sqrt{1+x^{2}}$ |sin x |$e^{x}$ |\n",
        "| :-:  | :-: | :-: |  :-: | :-:  |   :-: |   :-: | \n",
        "| Valores exactos  | 2.667 |6.400 |1.099 |2.958 |1.416 |6.389 |\n",
        "| Trapecio | 4.00\t|16.00\t|1.333|\t3.326|\t0.909|\t8.389|\n",
        "| Simpson\t|2.667|\t6.667|\t1.111|\t2.964|\t1.425|\t6.421|\n",
        "\n"
      ]
    },
    {
      "cell_type": "markdown",
      "metadata": {
        "id": "7C9JCjtkUGcO"
      },
      "source": [
        "#### codigo en python"
      ]
    },
    {
      "cell_type": "code",
      "metadata": {
        "id": "VPf_wwHmw7-K",
        "outputId": "298b1787-fe94-4360-81fe-a2e366ffcb7a"
      },
      "source": [
        "def Simpson1_3():\n",
        "    # x0 punto inicial del intervalo \n",
        "    # x2 punto final del intervalo \n",
        "    # f funcion a integrar\n",
        "    x0=0\n",
        "    x2=1\n",
        "    h=(x2-x0)/2\n",
        "    x1=x0+h\n",
        "    def f(x):\n",
        "        return x*x\n",
        "        \n",
        "    integral=(h/3)*(f(x0)+4*f(x1)+f(x2))\n",
        "    \n",
        "    print(\"el valor de la integral mediante el metodo de cuadratura del  Trapecio Compuesto es: {}\".format(integral)) \n",
        "\n",
        "Simpson1_3()"
      ],
      "execution_count": null,
      "outputs": [
        {
          "output_type": "stream",
          "text": [
            "el valor de la integral mediante el metodo de cuadratura del  Trapecio Compuesto es: 0.3333333333333333\n"
          ],
          "name": "stdout"
        }
      ]
    },
    {
      "cell_type": "markdown",
      "metadata": {
        "id": "nWIDZP_Yw7-P"
      },
      "source": [
        "### 2.5.  Cuadratura de Simpson $\\frac{3}{8}$\n",
        "\n",
        "Esta regla se obtiene al integra el tercer polinomio de Lagrange en $\\left[a,b\\right]$ tomando los nodos $x_{0}=a,\\,x_{1}=a+h,\\,x_{2}=a+2h,\\,y\\,x_{3}=b$ donde $h=\\frac{b-a}{3}$\n",
        "\n",
        "es decir\n",
        "\n",
        "$$\\int_{a}^{b}f\\left(x\\right)dx\\approx\\int_{a}^{b}P_{3}\\left(x\\right)dx=\\frac{3h}{8} \\left[f\\left(x_{0}\\right)+3f\\left(x_{1}\\right)+3f\\left(x_{2}\\right)+f\\left(x_{3}\\right)\\right]$$\n",
        "\n",
        "Es importante notar que esta regla es una suma ponderada de los valores de $f\\left(x\\right)$ en los dos puntos finales $x_{0}=a$ y $x_{3}=b$, y los dos puntos $x_{1},x_{2}$ divide el intervalo en tres partes iguales.\n",
        "\n"
      ]
    },
    {
      "cell_type": "markdown",
      "metadata": {
        "id": "pgA_9TBMUJWe"
      },
      "source": [
        "#### codigo en python"
      ]
    },
    {
      "cell_type": "code",
      "metadata": {
        "id": "bbLbHny9w7-Q",
        "outputId": "520d7c21-e6b7-49d2-878c-9e3ff7765e1f"
      },
      "source": [
        "def Simpson3_8():\n",
        "    # x0 punto inicial del intervalo \n",
        "    # x3 punto final del intervalo \n",
        "    # f funcion a integrar\n",
        "    x0=0\n",
        "    x3=1\n",
        "    h=(x3-x0)/3\n",
        "    x1=x0+h\n",
        "    x2=x0+2*h\n",
        "    def f(x):\n",
        "        return x*x\n",
        "        \n",
        "    integral=(3/8)*h*(f(x0)+3*f(x1)+3*f(x2)+f(x3))\n",
        "    \n",
        "    print(\"el valor de la integral mediante el metodo de cuadratura del  Trapecio Compuesto es: {}\".format(integral)) \n",
        "\n",
        "Simpson3_8()"
      ],
      "execution_count": null,
      "outputs": [
        {
          "output_type": "stream",
          "text": [
            "el valor de la integral mediante el metodo de cuadratura del  Trapecio Compuesto es: 0.3333333333333333\n"
          ],
          "name": "stdout"
        }
      ]
    },
    {
      "cell_type": "markdown",
      "metadata": {
        "id": "N6J_kbU0w7-U"
      },
      "source": [
        "# 3.Cuadratura Gaussiana\n",
        "\n",
        "### Introducción.\n",
        "\n",
        "Las reglas vista en la sección anterior, también son conocidas como reglas de Newton-Cotes, se dedujeron integrando los polinomios de interpolación. El termino de error en el polinomio de interpolación de grado n contiene la $\\left(n+1\\right)-esima$ derivada.\n",
        "\n",
        "En todas las formulas de Newton-Cotes se emplean valores de la función equidistantes. Este procedimiento es adecuado cuando las reglas son combinadas para crear nuevas reglas compuestas, como las vistas con anterioridad.\n",
        "\n",
        "Sin embargo la restricción que pide a los nodo ser equidistantes, puede afectar considerablemente la exactitud de la aproximación.\n",
        "\n",
        "La cuadratura Gaussiana optimiza la forma de seleccionar los puntos a ser evaluados y no los toma en forma igualmente espaciada como se había visto en las reglas de Newton-Cotes.\n",
        "\n",
        "Se escogen los nodos $x_{1},x_{2},\\ldots,x_{n}$ en el intervalo $\\left[a,b\\right]$ y los coeficientes $c_{1},c_{2},\\ldots c_{n}$ para reducir en lo posible el error esperado que se obtiene al efectuar la aproximación\n",
        "\n",
        "$$ \\int_{a}^{b}f\\left(x\\right)dx\\approx\\sum_{i=1}^{n}c_{i}f\\left(x_{i}\\right)$$\n",
        "\n",
        "Los coeficientes (pesos) $c_{1},c_{2},\\ldots c_{n}$ son arbitrarios y los nodos (puntos de Gauss) $x_{1},x_{2},\\ldots,x_{n}$ están restringidos a pertenecer al intervalo $\\left[a,b\\right]$.\n",
        "\n",
        "Esto nos da $2n$ parámetros de donde elegir. Considerando la clase de polinomios de grado máximo $2n-1$ también contiene $2n$ parámetros, si es que los coeficientes de un polinomio se consideran parámetros.\n",
        "\n",
        "Esta clase de polinomios es la más amplia para la cual es razonable esperar que la regla devuelva un resultado exacto.\n",
        "\n",
        "Se mostrará cómo seleccionar los coeficientes y los nodos cuando $n=2$ y cuando el intervalo de integración es $\\left[-1,1\\right]$\n",
        "\n",
        "Después se explicara el caso mas general de una elección arbitraria de puntos y pesos, indicando como modificar el método cuando se integra en un intervalo arbitrario.\n",
        "\n"
      ]
    },
    {
      "cell_type": "markdown",
      "metadata": {
        "id": "4UBd93v1SZyt"
      },
      "source": [
        "## 3.1.Cuadratura Gaussiana con n=2 puntos.\r\n",
        "\r\n",
        "Supongamos que se requiere determinar $c_{1},c_{2},x_{1},x_{2}$ de modo que la regla de integración\r\n",
        "\r\n",
        "$$\\int_{-1}^{1}f\\left(x\\right)dx\\approx c_{1}f\\left(x_{1}\\right)+c_{2}f\\left(x_{2}\\right)$$\r\n",
        "\r\n",
        "proporcione el resultado exacto siempre que $f\\left(x\\right)$ sea un polinomio de grado $2\\left(2\\right)-1=3$ o menor, es decir que sea un polinomio de la forma\r\n",
        "\r\n",
        "$$ f\\left(x\\right)=a_{0}+a_{1}x+a_{2}x^{2}+a_{3}x^{3} $$\r\n",
        "\r\n",
        "\r\n",
        "Dado que\r\n",
        "\r\n",
        "$$\\int f\\left(x\\right)dx=a_{0}\\int1dx+a_{1}\\int xdx+a_{2}\\int x^{2}dx+a_{3}\\int x^{3}d $$\r\n",
        "\r\n",
        "esto equivale a demostrar que la regla produce resultados exactos cuando $f\\left(x\\right)$ es $1,x,x^{2},x^{3}$\r\n",
        "\r\n",
        "Necesitamos $c_{1},c_{2},x_{1},x_{2}$ de manera tal que\r\n",
        "\r\n",
        "$$\\begin{array}{cc}\r\n",
        "{\\color{blue}{(a)}}\\,c_{1}*1+c_{2}*1=\\int_{-1}^{1}1dx=2\\quad & {\\color{blue}{(b)}}\\,c_{1}x_{1}+c_{2}x_{2}=\\int_{-1}^{1}xdx=0\\\\\r\n",
        "{\\color{blue}{(c)}}\\,c_{1}x_{1}^{2}+c_{2}x_{2}^{2}=\\int_{-1}^{1}x^{2}dx=\\frac{2}{3} & {\\color{blue}{(d)}}\\,c_{1}x_{1}^{3}+c_{2}x_{2}^{3}=\\int_{-1}^{1}x^{3}dx=0\r\n",
        "\\end{array}$$\r\n",
        "\r\n",
        "Las 4 incógnitas se puede determinar comenzando con (b)\r\n",
        "\r\n",
        "$$c_{2}=-\\frac{c_{1}x_{1}}{x_{2}} \\tag{6}$$\r\n",
        "\r\n",
        "Ahora substituyendo en (d) se tiene\r\n",
        "\r\n",
        "$$c_{1}x_{1}^{3}-c_{1}x_{1}x_{2}^{2}=0\\,\\Rightarrow\\,x_{1}^{2}=x_{2}^{2}$$\r\n",
        "\r\n",
        "Pero $x_{1}\\neq x_{2}$ por lo tanto se tiene que\r\n",
        "\r\n",
        "$$x_{1}=-x_{2} \\tag{7}$$\r\n",
        "\r\n",
        "Ahora substituyendo x_{1} en (6), tenemos que $c_{1}=c_{2}$ y usando (a)\r\n",
        "\r\n",
        "$$ c_{1}=c_{2}=1 \\tag{8}$$\r\n",
        "\r\n",
        "Si se substituye (7) y (8) en (c) se tiene\r\n",
        "\r\n",
        "$$x_{1}^{2}+x_{2}^{2}=\\frac{2}{3}\\,\\Rightarrow\\,x_{1}=\\frac{1}{\\sqrt{3}}$$\r\n",
        "\r\n",
        "Así tenemos que\r\n",
        "\r\n",
        "$$ c_{1}=1,\\quad c_{2}=1,\\quad x_{1}=\\frac{1}{\\sqrt{3}}\\;y\\;x_{2}=\\frac{-1}{\\sqrt{3}}$$\r\n",
        "\r\n",
        "Así que la regla para 2 puntos es\r\n",
        "\r\n",
        "$$\\int_{-1}^{1}f\\left(x\\right)dx\\approx f\\left(\\frac{1}{\\sqrt{3}}\\right)+f\\left(\\frac{-1}{\\sqrt{3}}\\right) $$ \r\n",
        "\r\n",
        "\r\n",
        "\r\n",
        "| n  puntos      | Coeficientes $C_{i}$ |  Puntos Gauss $x_{i}$ | \r\n",
        "| :-:  | :-: | :-: |  \r\n",
        "| 2  | $c_{1}=c_{2}=1$ | $x_{1}=0.578\\\\x_{2}=-0.578$ |\r\n",
        "| 3 | $c_{1}=0.556\\\\c_{2}=0.889\\\\c_{3}=0.556$ | $x_{1}=0.774\\\\x_{2}=0\\\\x_{3}=-0.774$ |\r\n",
        "\r\n"
      ]
    },
    {
      "cell_type": "markdown",
      "metadata": {
        "id": "Lp9t6jRDSd6A"
      },
      "source": [
        "## 3.2.Cuadratura Gaussiana general.\r\n",
        "\r\n",
        "Una integral $\\int_{a}^{b}f\\left(x\\right)dx$ en un intervalo arbitrario $\\left[a,b\\right]$ se puede transformar en otra integral $\\int_{-1}^{1}f\\left(t\\right)dt$ en $\\left[-1,1\\right]$ usando el cambio de variable\r\n",
        "\r\n",
        "$$t=\\frac{2x-a-b}{b-a}\\Leftrightarrow x=\\frac{1}{2}\\left[\\left(b-a\\right)t+a+b\\right] $$\r\n",
        "\r\n",
        "Donde el diferencial de $x$ es $dx=\\frac{1}{2}\\left(b-a\\right)dt$. Esto nos permite aplicar la cuadratura Gaussiana a cualquier intervalo $\\left[a,b\\right]$, ya que\r\n",
        "\r\n",
        "$$ \\int_{a}^{b}f\\left(x\\right)dx=\\int_{-1}^{1}f\\left(\\frac{\\left(b-a\\right)t+\\left(b+a\\right)}{2}\\right)\\frac{\\left(b-a\\right)}{2}dt $$\r\n",
        "\r\n"
      ]
    },
    {
      "cell_type": "markdown",
      "metadata": {
        "id": "QUnDN8cOSgz1"
      },
      "source": [
        "## $\\color{green}{Ejemplo}$.\r\n",
        "\r\n",
        "Evalúe $\\int_{0}^{3}e^{-x^{2}}dx$. Usando $n=3$ puntos. Encuentre el error, empleando el valor analítico.\r\n",
        "\r\n",
        "El valor de la integral resolviendo de manera analíticamente es 0.886207.\r\n",
        "\r\n"
      ]
    },
    {
      "cell_type": "markdown",
      "metadata": {
        "id": "iM3D9eUJTL3X"
      },
      "source": [
        "### codigo en python"
      ]
    },
    {
      "cell_type": "code",
      "metadata": {
        "id": "TRtZ_9obw7-V",
        "outputId": "0ebb6964-5586-4d95-b4e5-4b7967e32371"
      },
      "source": [
        "def CuaGauss():\n",
        "    # a punto inicial del intervalo \n",
        "    # b punto final del intervalo \n",
        "    # f funcion a integrar\n",
        "    a=0\n",
        "    b=1 \n",
        "    r=np.array([0.774,0.0,-0.774])\n",
        "    c=np.array([0.556,0.889,0.556])\n",
        "    def f(x):\n",
        "        return x*x\n",
        "    \n",
        "    cuadratura=0.0\n",
        "    jacobiano=(b-a)/2\n",
        "    for i in range(len(r)):\n",
        "        changeVar=0.0;changeVar=(( (b-a)*r[i])+b+a)/2\n",
        "        cuadratura+=c[i]*f(changeVar)\n",
        "        \n",
        "    integral=jacobiano*cuadratura\n",
        "    \n",
        "    print(\"el resultad de la integral con una cuadratura de 3 puntos es :{}\".format(integral))\n",
        "    \n",
        "CuaGauss()"
      ],
      "execution_count": null,
      "outputs": [
        {
          "output_type": "stream",
          "text": [
            "el resultad de la integral con una cuadratura de 3 puntos es :0.33339656400000006\n"
          ],
          "name": "stdout"
        }
      ]
    },
    {
      "cell_type": "code",
      "metadata": {
        "id": "lIYmADhoyS1o",
        "colab": {
          "base_uri": "https://localhost:8080/",
          "height": 331,
          "referenced_widgets": [
            "70b38f9dda22411aa04084a01aaea782",
            "fb45ec6ea3b047dba9d3ed7e568a925c",
            "88d536153b6a4c1696f9c67af3ec90ef",
            "bbc751bc2ea94315b8fc911450f1cf5f",
            "25b627567cf14cb0a19aefd641c68096",
            "fca8be1584d7429880d1d9dec4b0f09b",
            "066a7fc7885e4a02a7e9c93d29a747ad"
          ]
        },
        "outputId": "ef5a7242-ff4f-42b9-a3d7-1b5b8ebacdec"
      },
      "source": [
        "def grafica(n):\n",
        "  f = lambda x : 1/(1 + x**2)\n",
        "  a = 0; b = 5; N = n\n",
        "\n",
        "  # x and y values for the trapezoid rule\n",
        "  x = np.linspace(a,b,N+1)\n",
        "  y = f(x)\n",
        "\n",
        "  # X and Y values for plotting y=f(x)\n",
        "  X = np.linspace(a,b,100)\n",
        "  Y = f(X)\n",
        "  plt.plot(X,Y)\n",
        "\n",
        "  for i in range(N):\n",
        "      xs = [x[i],x[i],x[i+1],x[i+1]]\n",
        "      ys = [0,f(x[i]),f(x[i+1]),0]\n",
        "      plt.fill(xs,ys,'b',edgecolor='b',alpha=0.2)\n",
        "\n",
        "  plt.title('Trapezoid Rule, N = {}'.format(N))\n",
        "  plt.show()\n",
        "\n",
        "interact(grafica,n=widgets.IntSlider(min=4,max=30,step=1,value=2))"
      ],
      "execution_count": null,
      "outputs": [
        {
          "output_type": "display_data",
          "data": {
            "application/vnd.jupyter.widget-view+json": {
              "model_id": "70b38f9dda22411aa04084a01aaea782",
              "version_minor": 0,
              "version_major": 2
            },
            "text/plain": [
              "interactive(children=(IntSlider(value=4, description='n', max=30, min=4), Output()), _dom_classes=('widget-int…"
            ]
          },
          "metadata": {
            "tags": []
          }
        },
        {
          "output_type": "execute_result",
          "data": {
            "text/plain": [
              "<function __main__.grafica>"
            ]
          },
          "metadata": {
            "tags": []
          },
          "execution_count": 4
        }
      ]
    },
    {
      "cell_type": "markdown",
      "metadata": {
        "id": "Jz-VcnxDw7-a"
      },
      "source": [
        "# 4.Referencias.\n",
        "\n",
        "1. Yuri N. Skiba: Introducción a los métodos numéricos, Dirección General de Publicaciones U.N.A.M.\n",
        "\n",
        "2. Ward Cheney, David Kincaid: Métodos Numéricos y Computación, Cenage Learning.\n",
        "\n",
        "3. Richard L. Burden, J. Douglas Faires:\\newblock Análisis Numérico, Math Learning.\n",
        "\n",
        "4. Riswan Butt: Numerical Analysys Using Matlab, Jones and Bartlett.\n",
        "\n",
        "5. Quarteroni, A, Sacco R.: Numerical mathematics, Springer. 2007."
      ]
    }
  ]
}