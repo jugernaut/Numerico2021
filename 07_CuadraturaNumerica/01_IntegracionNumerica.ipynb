{
  "nbformat": 4,
  "nbformat_minor": 0,
  "metadata": {
    "kernelspec": {
      "display_name": "Python 3.7 (tensorflow)",
      "language": "python",
      "name": "tensorflow"
    },
    "language_info": {
      "codemirror_mode": {
        "name": "ipython",
        "version": 3
      },
      "file_extension": ".py",
      "mimetype": "text/x-python",
      "name": "python",
      "nbconvert_exporter": "python",
      "pygments_lexer": "ipython3",
      "version": "3.7.7"
    },
    "colab": {
      "name": "Integracion_numerica.ipynb",
      "provenance": [],
      "toc_visible": true,
      "include_colab_link": true
    },
    "widgets": {
      "application/vnd.jupyter.widget-state+json": {
        "d57984decb304df18ec2e8393670a04a": {
          "model_module": "@jupyter-widgets/controls",
          "model_name": "VBoxModel",
          "state": {
            "_view_name": "VBoxView",
            "_dom_classes": [
              "widget-interact"
            ],
            "_model_name": "VBoxModel",
            "_view_module": "@jupyter-widgets/controls",
            "_model_module_version": "1.5.0",
            "_view_count": null,
            "_view_module_version": "1.5.0",
            "box_style": "",
            "layout": "IPY_MODEL_663017c0cbb34b0cab328861ed019974",
            "_model_module": "@jupyter-widgets/controls",
            "children": [
              "IPY_MODEL_ccb0aab6ee884e8c946a3d7ed5faf788",
              "IPY_MODEL_814453986e60427b96a0694602162ac5"
            ]
          }
        },
        "663017c0cbb34b0cab328861ed019974": {
          "model_module": "@jupyter-widgets/base",
          "model_name": "LayoutModel",
          "state": {
            "_view_name": "LayoutView",
            "grid_template_rows": null,
            "right": null,
            "justify_content": null,
            "_view_module": "@jupyter-widgets/base",
            "overflow": null,
            "_model_module_version": "1.2.0",
            "_view_count": null,
            "flex_flow": null,
            "width": null,
            "min_width": null,
            "border": null,
            "align_items": null,
            "bottom": null,
            "_model_module": "@jupyter-widgets/base",
            "top": null,
            "grid_column": null,
            "overflow_y": null,
            "overflow_x": null,
            "grid_auto_flow": null,
            "grid_area": null,
            "grid_template_columns": null,
            "flex": null,
            "_model_name": "LayoutModel",
            "justify_items": null,
            "grid_row": null,
            "max_height": null,
            "align_content": null,
            "visibility": null,
            "align_self": null,
            "height": null,
            "min_height": null,
            "padding": null,
            "grid_auto_rows": null,
            "grid_gap": null,
            "max_width": null,
            "order": null,
            "_view_module_version": "1.2.0",
            "grid_template_areas": null,
            "object_position": null,
            "object_fit": null,
            "grid_auto_columns": null,
            "margin": null,
            "display": null,
            "left": null
          }
        },
        "ccb0aab6ee884e8c946a3d7ed5faf788": {
          "model_module": "@jupyter-widgets/controls",
          "model_name": "IntSliderModel",
          "state": {
            "_view_name": "IntSliderView",
            "style": "IPY_MODEL_42ddbb56f934405eafc22d9f74209065",
            "_dom_classes": [],
            "description": "n",
            "step": 1,
            "_model_name": "IntSliderModel",
            "orientation": "horizontal",
            "max": 30,
            "_view_module": "@jupyter-widgets/controls",
            "_model_module_version": "1.5.0",
            "value": 1,
            "_view_count": null,
            "disabled": false,
            "_view_module_version": "1.5.0",
            "min": 1,
            "continuous_update": true,
            "readout_format": "d",
            "description_tooltip": null,
            "readout": true,
            "_model_module": "@jupyter-widgets/controls",
            "layout": "IPY_MODEL_480ae60f46584111a7585547c146613d"
          }
        },
        "814453986e60427b96a0694602162ac5": {
          "model_module": "@jupyter-widgets/output",
          "model_name": "OutputModel",
          "state": {
            "_view_name": "OutputView",
            "msg_id": "",
            "_dom_classes": [],
            "_model_name": "OutputModel",
            "outputs": [
              {
                "output_type": "stream",
                "metadata": {
                  "tags": []
                },
                "text": "el valor de la integral mediante el metodo de cuadratura del rectangulo es: 1.0\n",
                "stream": "stdout"
              },
              {
                "output_type": "display_data",
                "metadata": {
                  "tags": [],
                  "needs_background": "light"
                },
                "image/png": "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\n",
                "text/plain": "<Figure size 432x288 with 1 Axes>"
              }
            ],
            "_view_module": "@jupyter-widgets/output",
            "_model_module_version": "1.0.0",
            "_view_count": null,
            "_view_module_version": "1.0.0",
            "layout": "IPY_MODEL_e0f9c2c48e6445939efcddc13fd30019",
            "_model_module": "@jupyter-widgets/output"
          }
        },
        "42ddbb56f934405eafc22d9f74209065": {
          "model_module": "@jupyter-widgets/controls",
          "model_name": "SliderStyleModel",
          "state": {
            "_view_name": "StyleView",
            "handle_color": null,
            "_model_name": "SliderStyleModel",
            "description_width": "",
            "_view_module": "@jupyter-widgets/base",
            "_model_module_version": "1.5.0",
            "_view_count": null,
            "_view_module_version": "1.2.0",
            "_model_module": "@jupyter-widgets/controls"
          }
        },
        "480ae60f46584111a7585547c146613d": {
          "model_module": "@jupyter-widgets/base",
          "model_name": "LayoutModel",
          "state": {
            "_view_name": "LayoutView",
            "grid_template_rows": null,
            "right": null,
            "justify_content": null,
            "_view_module": "@jupyter-widgets/base",
            "overflow": null,
            "_model_module_version": "1.2.0",
            "_view_count": null,
            "flex_flow": null,
            "width": null,
            "min_width": null,
            "border": null,
            "align_items": null,
            "bottom": null,
            "_model_module": "@jupyter-widgets/base",
            "top": null,
            "grid_column": null,
            "overflow_y": null,
            "overflow_x": null,
            "grid_auto_flow": null,
            "grid_area": null,
            "grid_template_columns": null,
            "flex": null,
            "_model_name": "LayoutModel",
            "justify_items": null,
            "grid_row": null,
            "max_height": null,
            "align_content": null,
            "visibility": null,
            "align_self": null,
            "height": null,
            "min_height": null,
            "padding": null,
            "grid_auto_rows": null,
            "grid_gap": null,
            "max_width": null,
            "order": null,
            "_view_module_version": "1.2.0",
            "grid_template_areas": null,
            "object_position": null,
            "object_fit": null,
            "grid_auto_columns": null,
            "margin": null,
            "display": null,
            "left": null
          }
        },
        "e0f9c2c48e6445939efcddc13fd30019": {
          "model_module": "@jupyter-widgets/base",
          "model_name": "LayoutModel",
          "state": {
            "_view_name": "LayoutView",
            "grid_template_rows": null,
            "right": null,
            "justify_content": null,
            "_view_module": "@jupyter-widgets/base",
            "overflow": null,
            "_model_module_version": "1.2.0",
            "_view_count": null,
            "flex_flow": null,
            "width": null,
            "min_width": null,
            "border": null,
            "align_items": null,
            "bottom": null,
            "_model_module": "@jupyter-widgets/base",
            "top": null,
            "grid_column": null,
            "overflow_y": null,
            "overflow_x": null,
            "grid_auto_flow": null,
            "grid_area": null,
            "grid_template_columns": null,
            "flex": null,
            "_model_name": "LayoutModel",
            "justify_items": null,
            "grid_row": null,
            "max_height": null,
            "align_content": null,
            "visibility": null,
            "align_self": null,
            "height": null,
            "min_height": null,
            "padding": null,
            "grid_auto_rows": null,
            "grid_gap": null,
            "max_width": null,
            "order": null,
            "_view_module_version": "1.2.0",
            "grid_template_areas": null,
            "object_position": null,
            "object_fit": null,
            "grid_auto_columns": null,
            "margin": null,
            "display": null,
            "left": null
          }
        },
        "1c2c4bf8a4be4eb6a34889c551ff912c": {
          "model_module": "@jupyter-widgets/controls",
          "model_name": "VBoxModel",
          "state": {
            "_view_name": "VBoxView",
            "_dom_classes": [
              "widget-interact"
            ],
            "_model_name": "VBoxModel",
            "_view_module": "@jupyter-widgets/controls",
            "_model_module_version": "1.5.0",
            "_view_count": null,
            "_view_module_version": "1.5.0",
            "box_style": "",
            "layout": "IPY_MODEL_9bde7ee8e1914d479721cf1c90f8f9ad",
            "_model_module": "@jupyter-widgets/controls",
            "children": [
              "IPY_MODEL_9194ef4d098047cc98b57cefdc25b677",
              "IPY_MODEL_4dd3f26cb7754390ae7736c69955e23f"
            ]
          }
        },
        "9bde7ee8e1914d479721cf1c90f8f9ad": {
          "model_module": "@jupyter-widgets/base",
          "model_name": "LayoutModel",
          "state": {
            "_view_name": "LayoutView",
            "grid_template_rows": null,
            "right": null,
            "justify_content": null,
            "_view_module": "@jupyter-widgets/base",
            "overflow": null,
            "_model_module_version": "1.2.0",
            "_view_count": null,
            "flex_flow": null,
            "width": null,
            "min_width": null,
            "border": null,
            "align_items": null,
            "bottom": null,
            "_model_module": "@jupyter-widgets/base",
            "top": null,
            "grid_column": null,
            "overflow_y": null,
            "overflow_x": null,
            "grid_auto_flow": null,
            "grid_area": null,
            "grid_template_columns": null,
            "flex": null,
            "_model_name": "LayoutModel",
            "justify_items": null,
            "grid_row": null,
            "max_height": null,
            "align_content": null,
            "visibility": null,
            "align_self": null,
            "height": null,
            "min_height": null,
            "padding": null,
            "grid_auto_rows": null,
            "grid_gap": null,
            "max_width": null,
            "order": null,
            "_view_module_version": "1.2.0",
            "grid_template_areas": null,
            "object_position": null,
            "object_fit": null,
            "grid_auto_columns": null,
            "margin": null,
            "display": null,
            "left": null
          }
        },
        "9194ef4d098047cc98b57cefdc25b677": {
          "model_module": "@jupyter-widgets/controls",
          "model_name": "IntSliderModel",
          "state": {
            "_view_name": "IntSliderView",
            "style": "IPY_MODEL_d08b0d2633e74787bd3457181e63aa04",
            "_dom_classes": [],
            "description": "n",
            "step": 1,
            "_model_name": "IntSliderModel",
            "orientation": "horizontal",
            "max": 30,
            "_view_module": "@jupyter-widgets/controls",
            "_model_module_version": "1.5.0",
            "value": 1,
            "_view_count": null,
            "disabled": false,
            "_view_module_version": "1.5.0",
            "min": 1,
            "continuous_update": true,
            "readout_format": "d",
            "description_tooltip": null,
            "readout": true,
            "_model_module": "@jupyter-widgets/controls",
            "layout": "IPY_MODEL_d13ece26fca549e292ee1d58704f2ad4"
          }
        },
        "4dd3f26cb7754390ae7736c69955e23f": {
          "model_module": "@jupyter-widgets/output",
          "model_name": "OutputModel",
          "state": {
            "_view_name": "OutputView",
            "msg_id": "",
            "_dom_classes": [],
            "_model_name": "OutputModel",
            "outputs": [
              {
                "output_type": "stream",
                "metadata": {
                  "tags": []
                },
                "text": "el valor de la integral mediante el metodo de cuadratura del punto medio es: 0.25\n",
                "stream": "stdout"
              },
              {
                "output_type": "display_data",
                "metadata": {
                  "tags": [],
                  "needs_background": "light"
                },
                "image/png": "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\n",
                "text/plain": "<Figure size 432x288 with 1 Axes>"
              }
            ],
            "_view_module": "@jupyter-widgets/output",
            "_model_module_version": "1.0.0",
            "_view_count": null,
            "_view_module_version": "1.0.0",
            "layout": "IPY_MODEL_c90d547ce83549e0b86d70fbf241e1bd",
            "_model_module": "@jupyter-widgets/output"
          }
        },
        "d08b0d2633e74787bd3457181e63aa04": {
          "model_module": "@jupyter-widgets/controls",
          "model_name": "SliderStyleModel",
          "state": {
            "_view_name": "StyleView",
            "handle_color": null,
            "_model_name": "SliderStyleModel",
            "description_width": "",
            "_view_module": "@jupyter-widgets/base",
            "_model_module_version": "1.5.0",
            "_view_count": null,
            "_view_module_version": "1.2.0",
            "_model_module": "@jupyter-widgets/controls"
          }
        },
        "d13ece26fca549e292ee1d58704f2ad4": {
          "model_module": "@jupyter-widgets/base",
          "model_name": "LayoutModel",
          "state": {
            "_view_name": "LayoutView",
            "grid_template_rows": null,
            "right": null,
            "justify_content": null,
            "_view_module": "@jupyter-widgets/base",
            "overflow": null,
            "_model_module_version": "1.2.0",
            "_view_count": null,
            "flex_flow": null,
            "width": null,
            "min_width": null,
            "border": null,
            "align_items": null,
            "bottom": null,
            "_model_module": "@jupyter-widgets/base",
            "top": null,
            "grid_column": null,
            "overflow_y": null,
            "overflow_x": null,
            "grid_auto_flow": null,
            "grid_area": null,
            "grid_template_columns": null,
            "flex": null,
            "_model_name": "LayoutModel",
            "justify_items": null,
            "grid_row": null,
            "max_height": null,
            "align_content": null,
            "visibility": null,
            "align_self": null,
            "height": null,
            "min_height": null,
            "padding": null,
            "grid_auto_rows": null,
            "grid_gap": null,
            "max_width": null,
            "order": null,
            "_view_module_version": "1.2.0",
            "grid_template_areas": null,
            "object_position": null,
            "object_fit": null,
            "grid_auto_columns": null,
            "margin": null,
            "display": null,
            "left": null
          }
        },
        "c90d547ce83549e0b86d70fbf241e1bd": {
          "model_module": "@jupyter-widgets/base",
          "model_name": "LayoutModel",
          "state": {
            "_view_name": "LayoutView",
            "grid_template_rows": null,
            "right": null,
            "justify_content": null,
            "_view_module": "@jupyter-widgets/base",
            "overflow": null,
            "_model_module_version": "1.2.0",
            "_view_count": null,
            "flex_flow": null,
            "width": null,
            "min_width": null,
            "border": null,
            "align_items": null,
            "bottom": null,
            "_model_module": "@jupyter-widgets/base",
            "top": null,
            "grid_column": null,
            "overflow_y": null,
            "overflow_x": null,
            "grid_auto_flow": null,
            "grid_area": null,
            "grid_template_columns": null,
            "flex": null,
            "_model_name": "LayoutModel",
            "justify_items": null,
            "grid_row": null,
            "max_height": null,
            "align_content": null,
            "visibility": null,
            "align_self": null,
            "height": null,
            "min_height": null,
            "padding": null,
            "grid_auto_rows": null,
            "grid_gap": null,
            "max_width": null,
            "order": null,
            "_view_module_version": "1.2.0",
            "grid_template_areas": null,
            "object_position": null,
            "object_fit": null,
            "grid_auto_columns": null,
            "margin": null,
            "display": null,
            "left": null
          }
        },
        "a45e09921c904f91aa778064cf2da533": {
          "model_module": "@jupyter-widgets/controls",
          "model_name": "VBoxModel",
          "state": {
            "_view_name": "VBoxView",
            "_dom_classes": [
              "widget-interact"
            ],
            "_model_name": "VBoxModel",
            "_view_module": "@jupyter-widgets/controls",
            "_model_module_version": "1.5.0",
            "_view_count": null,
            "_view_module_version": "1.5.0",
            "box_style": "",
            "layout": "IPY_MODEL_3195fc10f9b049cb922c41e7ee994327",
            "_model_module": "@jupyter-widgets/controls",
            "children": [
              "IPY_MODEL_4f51297764794405ab062892ca6f7a54",
              "IPY_MODEL_21cde2e6b0fe410fabaadde45d0fa81b"
            ]
          }
        },
        "3195fc10f9b049cb922c41e7ee994327": {
          "model_module": "@jupyter-widgets/base",
          "model_name": "LayoutModel",
          "state": {
            "_view_name": "LayoutView",
            "grid_template_rows": null,
            "right": null,
            "justify_content": null,
            "_view_module": "@jupyter-widgets/base",
            "overflow": null,
            "_model_module_version": "1.2.0",
            "_view_count": null,
            "flex_flow": null,
            "width": null,
            "min_width": null,
            "border": null,
            "align_items": null,
            "bottom": null,
            "_model_module": "@jupyter-widgets/base",
            "top": null,
            "grid_column": null,
            "overflow_y": null,
            "overflow_x": null,
            "grid_auto_flow": null,
            "grid_area": null,
            "grid_template_columns": null,
            "flex": null,
            "_model_name": "LayoutModel",
            "justify_items": null,
            "grid_row": null,
            "max_height": null,
            "align_content": null,
            "visibility": null,
            "align_self": null,
            "height": null,
            "min_height": null,
            "padding": null,
            "grid_auto_rows": null,
            "grid_gap": null,
            "max_width": null,
            "order": null,
            "_view_module_version": "1.2.0",
            "grid_template_areas": null,
            "object_position": null,
            "object_fit": null,
            "grid_auto_columns": null,
            "margin": null,
            "display": null,
            "left": null
          }
        },
        "4f51297764794405ab062892ca6f7a54": {
          "model_module": "@jupyter-widgets/controls",
          "model_name": "IntSliderModel",
          "state": {
            "_view_name": "IntSliderView",
            "style": "IPY_MODEL_d7ba6f41c2ff408da001abf858bd72e6",
            "_dom_classes": [],
            "description": "n",
            "step": 1,
            "_model_name": "IntSliderModel",
            "orientation": "horizontal",
            "max": 30,
            "_view_module": "@jupyter-widgets/controls",
            "_model_module_version": "1.5.0",
            "value": 1,
            "_view_count": null,
            "disabled": false,
            "_view_module_version": "1.5.0",
            "min": 1,
            "continuous_update": true,
            "readout_format": "d",
            "description_tooltip": null,
            "readout": true,
            "_model_module": "@jupyter-widgets/controls",
            "layout": "IPY_MODEL_e4d94f52fcf74f8ead4e7cedd27ce197"
          }
        },
        "21cde2e6b0fe410fabaadde45d0fa81b": {
          "model_module": "@jupyter-widgets/output",
          "model_name": "OutputModel",
          "state": {
            "_view_name": "OutputView",
            "msg_id": "",
            "_dom_classes": [],
            "_model_name": "OutputModel",
            "outputs": [
              {
                "output_type": "stream",
                "metadata": {
                  "tags": []
                },
                "text": "el valor de la integral mediante el metodo de cuadratura del  Trapecio Compuesto es: 0.5\n",
                "stream": "stdout"
              },
              {
                "output_type": "display_data",
                "metadata": {
                  "tags": [],
                  "needs_background": "light"
                },
                "image/png": "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\n",
                "text/plain": "<Figure size 432x288 with 1 Axes>"
              }
            ],
            "_view_module": "@jupyter-widgets/output",
            "_model_module_version": "1.0.0",
            "_view_count": null,
            "_view_module_version": "1.0.0",
            "layout": "IPY_MODEL_d5d27b4575594648a7fb1c56a58b6df5",
            "_model_module": "@jupyter-widgets/output"
          }
        },
        "d7ba6f41c2ff408da001abf858bd72e6": {
          "model_module": "@jupyter-widgets/controls",
          "model_name": "SliderStyleModel",
          "state": {
            "_view_name": "StyleView",
            "handle_color": null,
            "_model_name": "SliderStyleModel",
            "description_width": "",
            "_view_module": "@jupyter-widgets/base",
            "_model_module_version": "1.5.0",
            "_view_count": null,
            "_view_module_version": "1.2.0",
            "_model_module": "@jupyter-widgets/controls"
          }
        },
        "e4d94f52fcf74f8ead4e7cedd27ce197": {
          "model_module": "@jupyter-widgets/base",
          "model_name": "LayoutModel",
          "state": {
            "_view_name": "LayoutView",
            "grid_template_rows": null,
            "right": null,
            "justify_content": null,
            "_view_module": "@jupyter-widgets/base",
            "overflow": null,
            "_model_module_version": "1.2.0",
            "_view_count": null,
            "flex_flow": null,
            "width": null,
            "min_width": null,
            "border": null,
            "align_items": null,
            "bottom": null,
            "_model_module": "@jupyter-widgets/base",
            "top": null,
            "grid_column": null,
            "overflow_y": null,
            "overflow_x": null,
            "grid_auto_flow": null,
            "grid_area": null,
            "grid_template_columns": null,
            "flex": null,
            "_model_name": "LayoutModel",
            "justify_items": null,
            "grid_row": null,
            "max_height": null,
            "align_content": null,
            "visibility": null,
            "align_self": null,
            "height": null,
            "min_height": null,
            "padding": null,
            "grid_auto_rows": null,
            "grid_gap": null,
            "max_width": null,
            "order": null,
            "_view_module_version": "1.2.0",
            "grid_template_areas": null,
            "object_position": null,
            "object_fit": null,
            "grid_auto_columns": null,
            "margin": null,
            "display": null,
            "left": null
          }
        },
        "d5d27b4575594648a7fb1c56a58b6df5": {
          "model_module": "@jupyter-widgets/base",
          "model_name": "LayoutModel",
          "state": {
            "_view_name": "LayoutView",
            "grid_template_rows": null,
            "right": null,
            "justify_content": null,
            "_view_module": "@jupyter-widgets/base",
            "overflow": null,
            "_model_module_version": "1.2.0",
            "_view_count": null,
            "flex_flow": null,
            "width": null,
            "min_width": null,
            "border": null,
            "align_items": null,
            "bottom": null,
            "_model_module": "@jupyter-widgets/base",
            "top": null,
            "grid_column": null,
            "overflow_y": null,
            "overflow_x": null,
            "grid_auto_flow": null,
            "grid_area": null,
            "grid_template_columns": null,
            "flex": null,
            "_model_name": "LayoutModel",
            "justify_items": null,
            "grid_row": null,
            "max_height": null,
            "align_content": null,
            "visibility": null,
            "align_self": null,
            "height": null,
            "min_height": null,
            "padding": null,
            "grid_auto_rows": null,
            "grid_gap": null,
            "max_width": null,
            "order": null,
            "_view_module_version": "1.2.0",
            "grid_template_areas": null,
            "object_position": null,
            "object_fit": null,
            "grid_auto_columns": null,
            "margin": null,
            "display": null,
            "left": null
          }
        },
        "ca381cf1e772444fa2b71e8bafa3b4b5": {
          "model_module": "@jupyter-widgets/controls",
          "model_name": "VBoxModel",
          "state": {
            "_view_name": "VBoxView",
            "_dom_classes": [
              "widget-interact"
            ],
            "_model_name": "VBoxModel",
            "_view_module": "@jupyter-widgets/controls",
            "_model_module_version": "1.5.0",
            "_view_count": null,
            "_view_module_version": "1.5.0",
            "box_style": "",
            "layout": "IPY_MODEL_f5b5b55869114332b574060f340d7e3c",
            "_model_module": "@jupyter-widgets/controls",
            "children": [
              "IPY_MODEL_9a5a8b5d676242bd8826d2af089f99a5",
              "IPY_MODEL_ef541d5068f34c75a15393597bc7f002"
            ]
          }
        },
        "f5b5b55869114332b574060f340d7e3c": {
          "model_module": "@jupyter-widgets/base",
          "model_name": "LayoutModel",
          "state": {
            "_view_name": "LayoutView",
            "grid_template_rows": null,
            "right": null,
            "justify_content": null,
            "_view_module": "@jupyter-widgets/base",
            "overflow": null,
            "_model_module_version": "1.2.0",
            "_view_count": null,
            "flex_flow": null,
            "width": null,
            "min_width": null,
            "border": null,
            "align_items": null,
            "bottom": null,
            "_model_module": "@jupyter-widgets/base",
            "top": null,
            "grid_column": null,
            "overflow_y": null,
            "overflow_x": null,
            "grid_auto_flow": null,
            "grid_area": null,
            "grid_template_columns": null,
            "flex": null,
            "_model_name": "LayoutModel",
            "justify_items": null,
            "grid_row": null,
            "max_height": null,
            "align_content": null,
            "visibility": null,
            "align_self": null,
            "height": null,
            "min_height": null,
            "padding": null,
            "grid_auto_rows": null,
            "grid_gap": null,
            "max_width": null,
            "order": null,
            "_view_module_version": "1.2.0",
            "grid_template_areas": null,
            "object_position": null,
            "object_fit": null,
            "grid_auto_columns": null,
            "margin": null,
            "display": null,
            "left": null
          }
        },
        "9a5a8b5d676242bd8826d2af089f99a5": {
          "model_module": "@jupyter-widgets/controls",
          "model_name": "IntSliderModel",
          "state": {
            "_view_name": "IntSliderView",
            "style": "IPY_MODEL_3785c136f57c42e79708e335149b1869",
            "_dom_classes": [],
            "description": "n",
            "step": 1,
            "_model_name": "IntSliderModel",
            "orientation": "horizontal",
            "max": 30,
            "_view_module": "@jupyter-widgets/controls",
            "_model_module_version": "1.5.0",
            "value": 4,
            "_view_count": null,
            "disabled": false,
            "_view_module_version": "1.5.0",
            "min": 4,
            "continuous_update": true,
            "readout_format": "d",
            "description_tooltip": null,
            "readout": true,
            "_model_module": "@jupyter-widgets/controls",
            "layout": "IPY_MODEL_e0ac6498f1cb4ac4b0a992b970ef28a4"
          }
        },
        "ef541d5068f34c75a15393597bc7f002": {
          "model_module": "@jupyter-widgets/output",
          "model_name": "OutputModel",
          "state": {
            "_view_name": "OutputView",
            "msg_id": "",
            "_dom_classes": [],
            "_model_name": "OutputModel",
            "outputs": [
              {
                "output_type": "display_data",
                "metadata": {
                  "tags": [],
                  "needs_background": "light"
                },
                "image/png": "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\n",
                "text/plain": "<Figure size 432x288 with 1 Axes>"
              }
            ],
            "_view_module": "@jupyter-widgets/output",
            "_model_module_version": "1.0.0",
            "_view_count": null,
            "_view_module_version": "1.0.0",
            "layout": "IPY_MODEL_fd52215864b84d6c85874c866f54425e",
            "_model_module": "@jupyter-widgets/output"
          }
        },
        "3785c136f57c42e79708e335149b1869": {
          "model_module": "@jupyter-widgets/controls",
          "model_name": "SliderStyleModel",
          "state": {
            "_view_name": "StyleView",
            "handle_color": null,
            "_model_name": "SliderStyleModel",
            "description_width": "",
            "_view_module": "@jupyter-widgets/base",
            "_model_module_version": "1.5.0",
            "_view_count": null,
            "_view_module_version": "1.2.0",
            "_model_module": "@jupyter-widgets/controls"
          }
        },
        "e0ac6498f1cb4ac4b0a992b970ef28a4": {
          "model_module": "@jupyter-widgets/base",
          "model_name": "LayoutModel",
          "state": {
            "_view_name": "LayoutView",
            "grid_template_rows": null,
            "right": null,
            "justify_content": null,
            "_view_module": "@jupyter-widgets/base",
            "overflow": null,
            "_model_module_version": "1.2.0",
            "_view_count": null,
            "flex_flow": null,
            "width": null,
            "min_width": null,
            "border": null,
            "align_items": null,
            "bottom": null,
            "_model_module": "@jupyter-widgets/base",
            "top": null,
            "grid_column": null,
            "overflow_y": null,
            "overflow_x": null,
            "grid_auto_flow": null,
            "grid_area": null,
            "grid_template_columns": null,
            "flex": null,
            "_model_name": "LayoutModel",
            "justify_items": null,
            "grid_row": null,
            "max_height": null,
            "align_content": null,
            "visibility": null,
            "align_self": null,
            "height": null,
            "min_height": null,
            "padding": null,
            "grid_auto_rows": null,
            "grid_gap": null,
            "max_width": null,
            "order": null,
            "_view_module_version": "1.2.0",
            "grid_template_areas": null,
            "object_position": null,
            "object_fit": null,
            "grid_auto_columns": null,
            "margin": null,
            "display": null,
            "left": null
          }
        },
        "fd52215864b84d6c85874c866f54425e": {
          "model_module": "@jupyter-widgets/base",
          "model_name": "LayoutModel",
          "state": {
            "_view_name": "LayoutView",
            "grid_template_rows": null,
            "right": null,
            "justify_content": null,
            "_view_module": "@jupyter-widgets/base",
            "overflow": null,
            "_model_module_version": "1.2.0",
            "_view_count": null,
            "flex_flow": null,
            "width": null,
            "min_width": null,
            "border": null,
            "align_items": null,
            "bottom": null,
            "_model_module": "@jupyter-widgets/base",
            "top": null,
            "grid_column": null,
            "overflow_y": null,
            "overflow_x": null,
            "grid_auto_flow": null,
            "grid_area": null,
            "grid_template_columns": null,
            "flex": null,
            "_model_name": "LayoutModel",
            "justify_items": null,
            "grid_row": null,
            "max_height": null,
            "align_content": null,
            "visibility": null,
            "align_self": null,
            "height": null,
            "min_height": null,
            "padding": null,
            "grid_auto_rows": null,
            "grid_gap": null,
            "max_width": null,
            "order": null,
            "_view_module_version": "1.2.0",
            "grid_template_areas": null,
            "object_position": null,
            "object_fit": null,
            "grid_auto_columns": null,
            "margin": null,
            "display": null,
            "left": null
          }
        }
      }
    }
  },
  "cells": [
    {
      "cell_type": "markdown",
      "metadata": {
        "id": "view-in-github",
        "colab_type": "text"
      },
      "source": [
        "<a href=\"https://colab.research.google.com/github/jugernaut/Numerico2021/blob/desarrollo/07_CuadraturaNumerica/01_IntegracionNumerica.ipynb\" target=\"_parent\"><img src=\"https://colab.research.google.com/assets/colab-badge.svg\" alt=\"Open In Colab\"/></a>"
      ]
    },
    {
      "cell_type": "markdown",
      "metadata": {
        "id": "ScSKHDcow79x"
      },
      "source": [
        "<font color=\"Teal\" face=\"Comic Sans MS,arial\">\n",
        "  <h1 align=\"center\"><i>Integral Numérica</i></h1>\n",
        "  </font>\n",
        "  <font color=\"Black\" face=\"Comic Sans MS,arial\">\n",
        "  <h5 align=\"center\"><i>Profesor: M.en.C. Miguel Angel Pérez León.</i></h5>\n",
        "    <h5 align=\"center\"><i>Ayudante: Jesús Iván Coss Calderón.</i></h5>\n",
        "  <h5 align=\"center\"><i>Materia: Análisis Numérico.</i></h5>\n",
        "  </font>"
      ]
    },
    {
      "cell_type": "markdown",
      "metadata": {
        "id": "cbG3g1S0w79y"
      },
      "source": [
        "# Introducción\n",
        "\n",
        "Muy frecuentemente es necesario evaluar la integral definida de una función $f\\left(x\\right)$ en un intervalo $\\left[a,b\\right]$. El objetivo de esta sección es encontrar métodos para aproximar la integral\n",
        "\n",
        "$$\\int_{a}^{b}f\\left(x\\right)dx$$\n",
        "\n",
        "Si se conoce a priori la **antiderivada** $F\\left(x\\right)$ entonces es evidente que podemos encontrar el valor exacto de la integral, aplicando el siguiente teorema\n"
      ]
    },
    {
      "cell_type": "markdown",
      "metadata": {
        "id": "LxClLbNDH-rL"
      },
      "source": [
        "## Teorema Fundamental de Cálculo\n",
        "\n",
        "Sea $f\\left(x\\right)$ integrable en el intervalo $\\left[a,b\\right]$ y $F'\\left(x\\right)=f\\left(x\\right)$ entonces,$\\int_{a}^{b}f\\left(x\\right)dx=F\\left(a\\right)-F\\left(b\\right)$\n",
        "\n",
        "\n",
        "Sin embargo como en otras partes del curso, a veces encontrar a $F$ es muy complicado, de tal manera que la mejor opción es encontrar una aproximación del valor exacto de.\n",
        "\n",
        "$$\\int_{a}^{b}f\\left(x\\right)dx$$\n",
        "\n",
        "La forma básica para encontrar una aproximación de $\\int_{a}^{b}f\\left(x\\right)dx$, se conoce como **cuadratura numérica** y emplea una suma del tipo.\n",
        "\n",
        "$$\\sum_{i=0}^{n}a_{i}f\\left(x_{i}\\right)$$\n",
        "\n",
        "Existen diferentes aproximaciones de la integral de $f\\left(x\\right)$ mediante cuadratura numérica, en esta sección revisaremos algunas de las mas comunes."
      ]
    },
    {
      "cell_type": "markdown",
      "metadata": {
        "id": "QNpXtFzFw79z"
      },
      "source": [
        "# Cuadratura Numérica\n",
        "\n",
        "Los métodos de integración numérica se basan en los polinomios de Lagrange visto en secciones previas. La idea básica es que seleccionamos un conjunto de nodos distintos $x_{0},\\ldots,x_{n}$ del intervalo $ \\left[a,b\\right]$. Después se integra el polinomio de Lagrange\n",
        "\n",
        "$$P_{n}\\left(x\\right)=\\sum_{i=0}^{n}f\\left(x_{i}\\right)L_{i}\\left(x\\right)$$\n",
        "\n",
        "Y también se integra el termino de error de truncamiento en $\\left[a,b\\right]$\n",
        "\n",
        "$$\\prod_{i=0}^{n}\\left(x-x_{i}\\right)\\frac{f^{\\left(n+1\\right)}\\left(\\xi\\left(x\\right)\\right)}{\\left(n+1\\right)!}dx$$\n",
        "\n",
        "De tal manera que obtenemos\n",
        "\n",
        "$$ \\int_{a}^{b}f\\left(x\\right)dx=\\int_{a}^{b}\\sum_{i=0}^{n}f\\left(x_{i}\\right)L_{i}\\left(x\\right)dx+\\int_{a}^{b}\\prod_{i=0}^{n}\\left(x-x_{i}\\right)\\frac{f^{\\left(n+1\\right)}\\left(\\xi\\left(x\\right)\\right)}{\\left(n+1\\right)!}dx\\\\=\\sum_{i=0}^{n}a_{i}f\\left(x_{i}\\right)+\\frac{1}{\\left(n+1\\right)!}\\int_{a}^{b}\\prod_{i=0}^{n}\\left(x-x_{i}\\right)f^{\\left(n+1\\right)}\\left(\\xi\\left(x\\right)\\right)dx $$\n",
        "\n",
        "Donde $\\xi\\left(x\\right)$ se encuentra en $\\left[a,b\\right]$ para cada $x$ y\n",
        "\n",
        "$$a_{i}=\\int_{a}^{b}L_{i}\\left(x\\right)dx,\\quad para\\,cada\\,i=0,1,\\ldots,n$$\n",
        "\n",
        "Por lo tanto, la formula de la cuadratura es\n",
        "\n",
        "$$\\int_{a}^{b}f\\left(x\\right)dx=\\sum_{i=0}^{n}a_{i}f\\left(x_{i}\\right) \\tag{1}$$\n",
        "\n",
        "Con un error dado por\n",
        "\n",
        "$$E\\left(f\\right)=\\frac{1}{\\left(n+1\\right)!}\\int_{a}^{b}\\prod_{i=0}^{n}\\left(x-x_{i}\\right)f^{\\left(n+1\\right)}\\left(\\xi\\left(x\\right)\\right)dx$$\n",
        "\n",
        "De la misma manera que en otros temas vistos en el curso, la aproximación sera mas exacta si subdividimos el intervalo $\\left[a,b\\right]$ en tantos subintervalos como sea necesario, es decir\n",
        "\n",
        "Sea\n",
        "\n",
        "$$\\left[a,b\\right]=\\left[a,x_{1}\\right]\\cup\\left[x_{1},x_{2}\\right]\\cup\\cdots\\cup\\left[x_{n-2},x_{n-1}\\right]\\cup\\left[x_{n-1},b\\right]$$\n",
        "\n",
        "Donde\n",
        "\n",
        "$$x_{k}=a+\\frac{b-a}{n}k,\\quad n=0,1,2,\\ldots,n,\\quad x_{0}=a,\\,x_{n}=b$$\n",
        "\n",
        "\n",
        "Tendremos\n",
        "\n",
        "$$\\int_{a}^{b}f\\left(x\\right)dx=\\int_{a}^{x_{1}}f\\left(x\\right)dx+\\cdots+\\int_{x_{k}}^{x_{k+1}}f\\left(x\\right)dx+\\cdots+\\int_{x_{n-1}}^{b}f\\left(x\\right)dx \\tag{2} $$\n",
        "\n",
        "Observación, todos los nodos son igualmente espaciados.\n",
        "\n"
      ]
    },
    {
      "cell_type": "markdown",
      "metadata": {
        "id": "xRjpaWQHTd9k"
      },
      "source": [
        "### Cuadratura del rectángulo\r\n",
        "\r\n",
        "La forma de cuadratura mas simple es la que emplea rectángulos de base $\\left(b-a\\right)$ y altura $f\\left(a\\right)$\r\n",
        "\r\n",
        "$$\\int_{a}^{b}f\\left(x\\right)dx=\\left(b-a\\right)f\\left(a\\right)+E\\left(f\\right) \\tag{3}$$\r\n",
        "\r\n",
        "Combinando $(1)$ y $(3)$, se obtiene la forma general de la cuadratura mediante rectángulos\r\n",
        "\r\n",
        "$$\\int_{a}^{b}f\\left(x\\right)dx=\\frac{b-a}{n}\\sum_{i=0}^{n-1}f\\left(x_{i}\\right)+E\\left(f\\right)$$\r\n",
        "\r\n"
      ]
    },
    {
      "cell_type": "code",
      "metadata": {
        "id": "xoCX7k-_w790",
        "colab": {
          "base_uri": "https://localhost:8080/",
          "height": 414,
          "referenced_widgets": [
            "d57984decb304df18ec2e8393670a04a",
            "663017c0cbb34b0cab328861ed019974",
            "ccb0aab6ee884e8c946a3d7ed5faf788",
            "814453986e60427b96a0694602162ac5",
            "42ddbb56f934405eafc22d9f74209065",
            "480ae60f46584111a7585547c146613d",
            "e0f9c2c48e6445939efcddc13fd30019"
          ]
        },
        "outputId": "f7eea4bb-eef4-4df9-ef4a-fb16e49525ad"
      },
      "source": [
        "# import de las bibliotecas necesarias\n",
        "import numpy as np\n",
        "from IPython.html.widgets import interact\n",
        "import ipywidgets as widgets\n",
        "import matplotlib.pyplot as plt\n",
        "\n",
        "# funcion que define la cuadratura mediante rectangulos\n",
        "# cantidad de puntos que usaran en la cuadratura\n",
        "def Rectangulo(n): \n",
        "    # a punto inicial del intervalo  \n",
        "    a=0\n",
        "    # b punto final del intervalo\n",
        "    b=1\n",
        "    # f funcion a integrar **\n",
        "    #def f(x):\n",
        "        #return x*x\n",
        "    # f funcion a integrar\n",
        "    f = lambda x: x*x\n",
        "    \n",
        "    # para grficar f(x)\n",
        "    xp=np.linspace(a,b,30)\n",
        "    fp=f(xp)\n",
        "    plt.plot(xp,fp,color='black')\n",
        "    \n",
        "    # discretizacion para la cuadratura\n",
        "    x=np.linspace(a,b,n+1)\n",
        "    fx=[ f(x[i]) for i in range(len(x))]\n",
        "    plt.bar(x,fx,width=(-(b-a)/n),color='orange', align='edge')\n",
        "    plt.title(\"Aproximacion de la integral con el metodo de la cuadratura del rectangulo\")\n",
        "    plt.xlabel(\"x\")\n",
        "    plt.ylabel(r\"$f \\left(x\\right) = x^{2}$\")\n",
        "    plt.grid()\n",
        "\n",
        "    # aproximacion mediante la cuadratura del rectangulo\n",
        "    cuadratura=0.0\n",
        "    for i in range (len(x)):\n",
        "        cuadratura+=f(x[i])\n",
        "    # valor aproximado    \n",
        "    integral=((b-a)/n)*cuadratura\n",
        "\n",
        "    print(\"el valor de la integral mediante el metodo de cuadratura del rectangulo es: {}\".format(integral)) \n",
        "\n",
        "interact(Rectangulo,n=widgets.IntSlider(min=1,max=30,step=1,value=1))"
      ],
      "execution_count": 2,
      "outputs": [
        {
          "output_type": "stream",
          "text": [
            "/usr/local/lib/python3.6/dist-packages/IPython/html.py:14: ShimWarning: The `IPython.html` package has been deprecated since IPython 4.0. You should import from `notebook` instead. `IPython.html.widgets` has moved to `ipywidgets`.\n",
            "  \"`IPython.html.widgets` has moved to `ipywidgets`.\", ShimWarning)\n"
          ],
          "name": "stderr"
        },
        {
          "output_type": "display_data",
          "data": {
            "application/vnd.jupyter.widget-view+json": {
              "model_id": "d57984decb304df18ec2e8393670a04a",
              "version_minor": 0,
              "version_major": 2
            },
            "text/plain": [
              "interactive(children=(IntSlider(value=1, description='n', max=30, min=1), Output()), _dom_classes=('widget-int…"
            ]
          },
          "metadata": {
            "tags": []
          }
        },
        {
          "output_type": "execute_result",
          "data": {
            "text/plain": [
              "<function __main__.Rectangulo>"
            ]
          },
          "metadata": {
            "tags": []
          },
          "execution_count": 2
        }
      ]
    },
    {
      "cell_type": "markdown",
      "metadata": {
        "id": "NM8gZ8Dqw794"
      },
      "source": [
        "### Cuadratura del punto medio\n",
        "\n",
        "Una aproximación de la integral $\\int_{a}^{b}f\\left(x\\right)dx$ consiste en aproximar el área bajo la curva $y=f\\left(x\\right)$ por un rectángulo de base $b-a$ y altura $f\\left(\\frac{a+b}{2}\\right)$, entonces\n",
        "\n",
        "$$\\int_{a}^{b}f\\left(x\\right)dx=\\left(b-a\\right)f\\left(\\frac{a+b}{2}\\right)+E\\left(f\\right) \\tag{4} $$\n",
        "\n",
        "Donde $E\\left(f\\right)$, si $f$ tiene primera y segunda derivada continuas en $\\left[a,b\\right]$, se expresa así\n",
        "\n",
        "$$E\\left(f\\right)=\\frac{\\left(b-a\\right)^{2}}{24}f''\\left(\\xi\\right)\\quad\\xi\\in\\left[a,b\\right]$$\n",
        "\n",
        "Combinando $(1)$ y $(4)$, se obtiene la forma general de la cuadratura del punto medio\n",
        "\n",
        "$$\\int_{a}^{b}f\\left(x\\right)dx=\\frac{b-a}{n}\\sum_{i=0}^{n-1}f\\left(\\frac{x_{i}+x_{i+1}}{2}\\right)+E\\left(f\\right)$$\n",
        "\n"
      ]
    },
    {
      "cell_type": "code",
      "metadata": {
        "id": "OZOU5EaVw796",
        "colab": {
          "base_uri": "https://localhost:8080/",
          "height": 361,
          "referenced_widgets": [
            "1c2c4bf8a4be4eb6a34889c551ff912c",
            "9bde7ee8e1914d479721cf1c90f8f9ad",
            "9194ef4d098047cc98b57cefdc25b677",
            "4dd3f26cb7754390ae7736c69955e23f",
            "d08b0d2633e74787bd3457181e63aa04",
            "d13ece26fca549e292ee1d58704f2ad4",
            "c90d547ce83549e0b86d70fbf241e1bd"
          ]
        },
        "outputId": "36b8b7b2-f0c5-40c1-c86c-888ca8f0d10c"
      },
      "source": [
        "def PuntoMedio(n):\n",
        "    # a punto inicial del intervalo  \n",
        "    a=0\n",
        "    # b punto final del intervalo\n",
        "    b=1\n",
        "    # f funcion a integrar **\n",
        "    #def f(x):\n",
        "        #return x*x\n",
        "    # f funcion a integrar\n",
        "    f = lambda x: x*x\n",
        "    \n",
        "    # para grficar f(x)\n",
        "    xp=np.linspace(a,b,30)\n",
        "    fp=f(xp)\n",
        "    plt.plot(xp,fp,color='black')\n",
        "    \n",
        "    # discretizacion para la cuadratura\n",
        "    x=np.linspace(a,b,n+1)\n",
        "    am = a+(float(a)/2)\n",
        "    bm = b+(float(b)/2)\n",
        "    fx=[ f(x[i]) for i in range(len(x))]\n",
        "    plt.bar(x,fx,width=((bm-am)/n),color='orange')\n",
        "    plt.title(\"Aproximacion de la integral con el metodo de la cuadratura del punto medio\")\n",
        "    plt.xlabel(\"x\")\n",
        "    plt.ylabel(r\"$f \\left(x\\right) = x^{2}$\")\n",
        "    plt.grid()\n",
        "\n",
        "    # aproximacion mediante la cuadratura del punto medio\n",
        "    cuadratura=0.0\n",
        "    for i in range (len(x)-1):\n",
        "        cuadratura+=f( (x[i]+x[i+1])/2 )\n",
        "    # valor aproximado     \n",
        "    integral=((b-a)/n)*cuadratura\n",
        "    \n",
        "    print(\"el valor de la integral mediante el metodo de cuadratura del punto medio es: {}\".format(integral)) \n",
        "\n",
        "interact(PuntoMedio,n=widgets.IntSlider(min=1,max=30,step=1,value=1))"
      ],
      "execution_count": 3,
      "outputs": [
        {
          "output_type": "display_data",
          "data": {
            "application/vnd.jupyter.widget-view+json": {
              "model_id": "1c2c4bf8a4be4eb6a34889c551ff912c",
              "version_minor": 0,
              "version_major": 2
            },
            "text/plain": [
              "interactive(children=(IntSlider(value=1, description='n', max=30, min=1), Output()), _dom_classes=('widget-int…"
            ]
          },
          "metadata": {
            "tags": []
          }
        },
        {
          "output_type": "execute_result",
          "data": {
            "text/plain": [
              "<function __main__.PuntoMedio>"
            ]
          },
          "metadata": {
            "tags": []
          },
          "execution_count": 3
        }
      ]
    },
    {
      "cell_type": "markdown",
      "metadata": {
        "id": "nE9yuzw9w79_"
      },
      "source": [
        "### Cuadratura del trapecio\n",
        "\n",
        "Para derivar la regla del trapecio para aproximar $\\int_{a}^{b}f\\left(x\\right)dx$, tomemos $x_{0}=a,\\,x_{1}=b,\\,h=b-a$ y calculando el polinomio lineal de Lagrange\n",
        "\n",
        "$$P\\left(x\\right)=\\left(\\frac{x-x_{1}}{x_{0}-x_{1}}\\right)f(x_{0})+\\left(\\frac{x-x_{0}}{x_{1}-x_{0}}\\right)f(x_{1})$$\n",
        "\n",
        "Al integrar este polinomio se tiene\n",
        "\n",
        "$$\\int_{a}^{b}f\\left(x\\right)dx=\\int_{x_{0}}^{x_{1}}\\left[\\left(\\frac{x-x_{1}}{x_{0}-x_{1}}\\right)f(x_{0})+\\left(\\frac{x-x_{0}}{x_{1}-x_{0}}\\right)f(x_{1})\\right]dx\\\\+\\frac{1}{2}\\int_{x_{0}}^{x_{1}}f''\\left(\\xi\\left(x\\right)\\right)\\left(x-x_{0}\\right)\\left(x-x_{1}\\right)dx$$\n",
        "\n",
        "Donde la integral del error es $-\\frac{h^{3}}{6}f''\\left(\\xi\\right)$, lo que nos lleva a la forma general de la cuadratura del trapecio\n",
        "\n",
        "$$\\int_{a}^{b}f\\left(x\\right)dx=\\left[\\frac{x-x_{1}}{2\\left(x_{0}-x_{1}\\right)}f(x_{0})+\\frac{x-x_{0}}{2\\left(x_{1}-x_{0}\\right)}f(x_{1})\\right]_{x_{0}}^{x_{1}}-\\frac{h^{3}}{12}f''\\left(\\xi\\right)\\\\=\\frac{\\left(x_{1}-x_{0}\\right)}{2}\\left[f\\left(x_{0}\\right)+f\\left(x_{1}\\right)\\right]-\\frac{h^{3}}{12}f''\\left(\\xi\\right) $$\n",
        "\n",
        "Tomando en cuenta que $h=x_{1}-x_{0}$, obtenemos la forma general de la cuadratura del trapecio\n",
        "\n",
        "$$\\int_{a}^{b}f\\left(x\\right)dx=\\frac{h}{2}\\left[f\\left(x_{0}\\right)+f\\left(x_{1}\\right)\\right]-\\frac{h^{3}}{12}f''\\left(\\xi\\right)$$\n",
        "\n"
      ]
    },
    {
      "cell_type": "code",
      "metadata": {
        "id": "sFvxeX94w79_",
        "colab": {
          "base_uri": "https://localhost:8080/"
        },
        "outputId": "4c22468c-3850-4552-b817-a51c43b27c53"
      },
      "source": [
        "def Trapecio():\n",
        "    # a punto inicial del intervalo \n",
        "    # b punto final del intervalo \n",
        "    # f funcion a integrar\n",
        "    a=0\n",
        "    b=1\n",
        "    def f(x):\n",
        "        return x*x\n",
        "    \n",
        "    integral=((b-a)/2)*(f(a)+f(b))\n",
        "    print(\"el valor de la integral mediante el metodo de cuadratura del Trapecio: {}\".format(integral))\n",
        "\n",
        "Trapecio()"
      ],
      "execution_count": 4,
      "outputs": [
        {
          "output_type": "stream",
          "text": [
            "el valor de la integral mediante el metodo de cuadratura del Trapecio: 0.5\n"
          ],
          "name": "stdout"
        }
      ]
    },
    {
      "cell_type": "markdown",
      "metadata": {
        "id": "f1IO7V-qw7-D"
      },
      "source": [
        "### Cuadratura del trapecio compuesto\n",
        "\n",
        "Sean los nodos $a=x_{0}<x_{1}<\\cdots<x_{n}=b$ con $h_{i}=x_{i+1}-x_{i}$ y lo que se busca es aproximar el valor de $\\int_{a}^{b}f\\left(x\\right)dx$. Ademas aprovechamos el hecho de que \n",
        "\n",
        "$$\\int_{a}^{b}f\\left(x\\right)dx\t=\t\\int_{a}^{c}f\\left(x\\right)dx+\\int_{c}^{b}f\\left(x\\right)dx$$\n",
        "\n",
        "Integrando sobre los subintervalos $\\left[x_{i},x_{i+1}\\right]$, para $i=0,\\ldots,n-1$ y aplicando la regla del trapecio simple, se obtiene\n",
        "\n",
        "$$\\int_{a}^{b}f\\left(x\\right)dx=\\sum_{i=0}^{n-1}\\int_{x_{i}}^{x_{i+1}}f\\left(x\\right)=\\sum_{i=0}^{n-1}\\frac{h_{i}}{2}\\left[f\\left(x_{i}\\right)+f\\left(x_{i+1}\\right)\\right]-\\sum_{i=0}^{n-1}\\frac{h_{i}^{3}}{12}f''\\left(\\xi_{i}\\right),\\quad\\xi_{i}\\in\\left(x_{i+1},x_{i}\\right) $$\n",
        "\n",
        "Si consideramos $h=h_{i}$ para $i=0,\\ldots,n-1$ y $f''\\left(x\\right)$ continua, entonces obtenemos el error total\n",
        "\n",
        "$$E_{T}=-\\frac{h^{3}}{12}\\sum_{i=0}^{n-1}f''\\left(\\xi_{i}\\right)=-\\frac{h^{3}}{12}nf''\\left(\\xi\\right)=-\\frac{h^{2}}{12}nhf''\\left(\\xi\\right)$$\n",
        "\n",
        "Donde $\\xi\\in\\left(x_{0},x_{n}\\right)$ y $h=\\frac{x_{n}-x_{0}}{n}$ entonces $E_{T}=-\\frac{h^{2}}{12}\\left(x_{n}-x_{0}\\right)f''\\left(\\xi\\right)$, es decir\n",
        "\n",
        "$$ \\int_{a}^{b}f\\left(x\\right)dx=\\frac{h}{2}\\left[f\\left(x_{0}\\right)+2f\\left(x_{1}\\right)+\\cdots+2f\\left(x_{n-1}\\right)+f\\left(x_{n}\\right)\\right]-\\frac{h^{2}}{12}\\left(x_{n}-x_{0}\\right)f''\\left(\\xi\\right)$$\n",
        "\n",
        "Así que\n",
        "\n",
        "$$\\int_{a}^{b}f\\left(x\\right)dx=\\frac{h}{2}\\left[f\\left(a\\right)+2\\sum_{i=1}^{n-1}f\\left(x_{i}\\right)+f\\left(b\\right)\\right]-\\frac{b-a}{12}h^{2}f''\\left(\\xi\\right)$$\n",
        "\n",
        "Es la forma general de la cuadratura del trapecio compuesto.\n",
        "\n"
      ]
    },
    {
      "cell_type": "code",
      "metadata": {
        "id": "LWgI2-zkw7-E",
        "colab": {
          "base_uri": "https://localhost:8080/",
          "height": 361,
          "referenced_widgets": [
            "a45e09921c904f91aa778064cf2da533",
            "3195fc10f9b049cb922c41e7ee994327",
            "4f51297764794405ab062892ca6f7a54",
            "21cde2e6b0fe410fabaadde45d0fa81b",
            "d7ba6f41c2ff408da001abf858bd72e6",
            "e4d94f52fcf74f8ead4e7cedd27ce197",
            "d5d27b4575594648a7fb1c56a58b6df5"
          ]
        },
        "outputId": "33812dae-b1b0-4d8c-e607-6796ce1a401d"
      },
      "source": [
        "def TrapComp(n):\n",
        "    # a punto inicial del intervalo \n",
        "    # b punto final del intervalo \n",
        "    # f funcion a integrar\n",
        "    # n los puntos que se usaran para integrar \n",
        "    a=0\n",
        "    b=1\n",
        "    def f(x):\n",
        "        return x*x\n",
        "    \n",
        "    xp=np.linspace(a,b,30)\n",
        "    fp=f(xp)\n",
        "    \n",
        "    x=np.linspace(a,b,n+1) # se crea la particion\n",
        "    fx=[ f(x[i]) for i in range(len (x))]\n",
        "    plt.bar(x,fx,width=((b-a)/n),color='orange')\n",
        "    plt.plot(xp,fp,color='black')\n",
        "    plt.title(\"Aproximacion de la integral con el metodo del Trapecio compuesto\")\n",
        "    plt.xlabel(\"x\")\n",
        "    plt.ylabel(r\"$f \\left(x\\right) = x^{2}$\")\n",
        "    plt.grid()\n",
        "\n",
        "    cuadratura=0.0\n",
        "    for i in range (1,len(x)-1):\n",
        "        cuadratura+=f( x[i])\n",
        "\n",
        "    integral=((b-a)/(2*n))*(2*cuadratura+f(a)+f(b))\n",
        "    \n",
        "    print(\"el valor de la integral mediante el metodo de cuadratura del  Trapecio Compuesto es: {}\".format(integral)) \n",
        "\n",
        "interact(TrapComp,n=widgets.IntSlider(min=1,max=30,step=1,value=1))"
      ],
      "execution_count": 5,
      "outputs": [
        {
          "output_type": "display_data",
          "data": {
            "application/vnd.jupyter.widget-view+json": {
              "model_id": "a45e09921c904f91aa778064cf2da533",
              "version_minor": 0,
              "version_major": 2
            },
            "text/plain": [
              "interactive(children=(IntSlider(value=1, description='n', max=30, min=1), Output()), _dom_classes=('widget-int…"
            ]
          },
          "metadata": {
            "tags": []
          }
        },
        {
          "output_type": "execute_result",
          "data": {
            "text/plain": [
              "<function __main__.TrapComp>"
            ]
          },
          "metadata": {
            "tags": []
          },
          "execution_count": 5
        }
      ]
    },
    {
      "cell_type": "code",
      "metadata": {
        "id": "lIYmADhoyS1o",
        "colab": {
          "base_uri": "https://localhost:8080/",
          "height": 330,
          "referenced_widgets": [
            "ca381cf1e772444fa2b71e8bafa3b4b5",
            "f5b5b55869114332b574060f340d7e3c",
            "9a5a8b5d676242bd8826d2af089f99a5",
            "ef541d5068f34c75a15393597bc7f002",
            "3785c136f57c42e79708e335149b1869",
            "e0ac6498f1cb4ac4b0a992b970ef28a4",
            "fd52215864b84d6c85874c866f54425e"
          ]
        },
        "outputId": "4ac202dc-4a78-4832-a4ca-45bff9fc2c11"
      },
      "source": [
        "def grafica(n):\n",
        "  f = lambda x : x*x\n",
        "  a = 0; b = 5; N = n\n",
        "\n",
        "  # x and y values for the trapezoid rule\n",
        "  x = np.linspace(a,b,N+1)\n",
        "  y = f(x)\n",
        "\n",
        "  # X and Y values for plotting y=f(x)\n",
        "  X = np.linspace(a,b,100)\n",
        "  Y = f(X)\n",
        "  plt.plot(X,Y)\n",
        "\n",
        "  for i in range(N):\n",
        "      xs = [x[i],x[i],x[i+1],x[i+1]]\n",
        "      ys = [0,f(x[i]),f(x[i+1]),0]\n",
        "      plt.fill(xs,ys,'orange',edgecolor='b',alpha=0.2)\n",
        "\n",
        "  plt.title('Trapezoid Rule, N = {}'.format(N))\n",
        "\n",
        "interact(grafica,n=widgets.IntSlider(min=4,max=30,step=1,value=2))"
      ],
      "execution_count": 27,
      "outputs": [
        {
          "output_type": "display_data",
          "data": {
            "application/vnd.jupyter.widget-view+json": {
              "model_id": "ca381cf1e772444fa2b71e8bafa3b4b5",
              "version_minor": 0,
              "version_major": 2
            },
            "text/plain": [
              "interactive(children=(IntSlider(value=4, description='n', max=30, min=4), Output()), _dom_classes=('widget-int…"
            ]
          },
          "metadata": {
            "tags": []
          }
        },
        {
          "output_type": "execute_result",
          "data": {
            "text/plain": [
              "<function __main__.grafica>"
            ]
          },
          "metadata": {
            "tags": []
          },
          "execution_count": 27
        }
      ]
    },
    {
      "cell_type": "markdown",
      "metadata": {
        "id": "sjL0EQ79w7-J"
      },
      "source": [
        "### Cuadratura de Simpson $\\frac{1}{3}$\n",
        "\n",
        "Se obtiene al integrar en $\\left[a,b\\right]$ el segundo polinomio de Lagrange con los nodos $x_{0}=a,\\,x_{1}=a+h$ y $x_{2}=b$ donde $h=\\frac{b-a}{2}$\n",
        "\n",
        "$$\\int_{a}^{b}f\\left(x\\right)dx=\\int_{x_{0}}^{x_{2}}\\left[\\frac{\\left(x-x_{1}\\right)\\left(x-x_{2}\\right)}{\\left(x_{0}-x_{1}\\right)\\left(x_{0}-x_{2}\\right)}f(x_{0})+\\frac{\\left(x-x_{0}\\right)\\left(x-x_{2}\\right)}{\\left(x_{1}-x_{0}\\right)\\left(x_{1}-x_{2}\\right)}f(x_{1})\\right]\\\\+\\int_{x_{0}}^{x_{2}}\\left[\\frac{\\left(x-x_{0}\\right)\\left(x-x_{1}\\right)}{\\left(x_{2}-x_{0}\\right)\\left(x_{2}-x_{1}\\right)}f(x_{2})\\right]\\\\+\\frac{1}{6}\\int_{x_{0}}^{x_{2}}f'''\\left(\\xi\\left(x\\right)\\right)\\left(x-x_{0}\\right)\\left(x-x_{1}\\right)\\left(x-x_{2}\\right)dx $$\n",
        "\n",
        "Sin embargo, al deducir la regla de Simpson de esta manera, unicamente se obtiene un término de error $O\\left(h^{4}\\right)$ que contiene a $f^{\\left(3\\right)}$. Pero si construimos la regla de otra forma, podemos deducir un termino de orden superior que incluya a $f^{\\left(4\\right)}$\n",
        "\n",
        "Supongamos que $f$ se expande mediante el tercer polinomio de Taylor alrededor de $x_{1}$. Entonces, para cada $x$ en $\\left[x_{0},x_{2}\\right]$, existe un número $\\xi\\left(x\\right)\\in\\left(x_{0},x_{2}\\right)$ tal que\n",
        "\n",
        "$$f\\left(x\\right)=f\\left(x_{1}\\right)+f'\\left(x_{1}\\right)\\left(x-x_{1}\\right)+\\frac{f''\\left(x_{1}\\right)\\left(x-x_{1}\\right)^{2}}{2!}\\\\+\\frac{f'''\\left(x_{1}\\right)\\left(x-x_{1}\\right)^{3}}{3!}+\\frac{f^{\\left(4\\right)}\\left(\\xi\\left(x\\right)\\right)\\left(x-x_{1}\\right)^{4}}{4!}$$\n",
        "\n",
        "Si $h=\\left(x-x_{1}\\right)$ entonces\n",
        "\n",
        "$$\\int_{x_{0}}^{x_{2}}f\\left(x\\right)dx=\\left[f\\left(x_{1}\\right)h+\\frac{f'\\left(x_{1}\\right)h^{2}}{2!}+\\frac{f''\\left(x_{1}\\right)h^{3}}{3!}+\\frac{f^{\\left(3\\right)}\\left(x_{1}\\right)h^{4}}{4!}\\right]_{x_{0}}^{x_{2}}+\\frac{1}{24}\\int_{x_{0}}^{x_{2}}f^{\\left(4\\right)}\\left(\\xi\\left(x\\right)\\right)h^{4}dx \\tag{5}$$\n",
        "\n",
        "Puesto que $\\left(x-x_{1}\\right)^{4}$ nunca es negativo en $\\left[x_{0},x_{2}\\right]$ y por el Teorema del Valor Medio ponderado, entonces\n",
        "\n",
        "$$\\frac{1}{24}\\int_{x_{0}}^{x_{2}}f^{\\left(4\\right)}\\left(\\xi\\left(x\\right)\\right)h^{4}dx=\\frac{f^{\\left(4\\right)}\\left(\\xi_{1}\\right)h^{4}}{24}\\int_{x_{0}}^{x_{2}}h^{4}dx=\\frac{f^{\\left(4\\right)}\\left(\\xi_{1}\\right)}{120}h^{5}\\mid_{x_{0}}^{x2}$$\n",
        "\n",
        "Para algún número $\\xi_{1}\\in\\left(x_{0},x_{2}\\right)$. Pero por otro lado $h=x_{2}-x_{1}=x_{1}-x_{0}$, así que\n",
        "\n",
        "$$\\left(x_{2}-x_{1}\\right)^{2}-\\left(x_{1}-x_{0}\\right)^{2}=\\left(x_{2}-x_{1}\\right)^{4}-\\left(x_{1}-x_{0}\\right)^{4}=0 $$\n",
        "\n",
        "Mientras que\n",
        "\n",
        "$$\\left(x_{2}-x_{1}\\right)^{3}-\\left(x_{1}-x_{0}\\right)^{3}=2h^{3} \\quad y \\quad \\left(x_{2}-x_{1}\\right)^{5}-\\left(x_{1}-x_{0}\\right)^{5}=2h^{5}$$\n",
        "\n",
        "Así que (5), se puede reescribir así\n",
        "\n",
        "$$\\int_{x_{0}}^{x_{2}}f\\left(x\\right)dx=2hf\\left(x_{1}\\right)+\\frac{h^{3}f''\\left(x_{1}\\right)}{3}+\\frac{f^{\\left(4\\right)}\\left(\\xi_{1}\\right)h^{5}}{60}$$\n",
        "\n",
        "Pero si ahora reemplazamos $f''\\left(x_{1}\\right)$ por su aproximación en diferencias finitas, se tiene\n",
        "\n",
        "$$\\int_{x_{0}}^{x_{2}}f\\left(x\\right)dx=2hf\\left(x_{1}\\right)+\\frac{h^{3}}{3}\\left\\{ \\frac{1}{h^{2}}\\left[f\\left(x_{0}\\right)-2f\\left(x_{1}\\right)+f\\left(x_{2}\\right)\\right]-\\frac{h^{2}}{12}f^{\\left(4\\right)}\\left(\\xi_{2}\\right)\\right\\} \\\\+\\frac{f^{\\left(4\\right)}\\left(\\xi_{1}\\right)h^{5}}{60}\\\\=\\frac{h}{3}\\left[f\\left(x_{0}\\right)+4f\\left(x_{1}\\right)+f\\left(x_{2}\\right)\\right]-\\frac{h^{5}}{12}\\left[\\frac{1}{3}f^{\\left(4\\right)}\\left(\\xi_{2}\\right)-\\frac{1}{5}f^{\\left(4\\right)}\\left(\\xi_{1}\\right)\\right] $$\n",
        "\n",
        "Así tenemos que\n",
        "\n",
        "$$\\int_{x_{0}}^{x_{2}}f\\left(x\\right)dx=\\frac{h}{3}\\left[f\\left(x_{0}\\right)+4f\\left(x_{1}\\right)+f\\left(x_{2}\\right)\\right]-\\frac{h^{5}}{90}f^{\\left(4\\right)}\\left(\\xi_{1}\\right)$$\n",
        "\n",
        "Es la forma general de la regla de Simpson $\\frac{1}{3}$\n"
      ]
    },
    {
      "cell_type": "markdown",
      "metadata": {
        "id": "UroVPZEG8k8o"
      },
      "source": [
        "#### Ejemplo \n",
        "\n",
        "La regla del trapecio para una función $f$ en el intervalo $\\left[0,2\\right]$ es \n",
        "\n",
        "$$\\int_{0}^{2}f\\left(x\\right)dx\\approx f\\left(0\\right)+f\\left(2\\right)$$\n",
        "\n",
        "y la regla de Simpson para $f$ en $\\left[0,2\\right]$ es\n",
        "\n",
        "$$\\int_{0}^{2}f\\left(x\\right)dx\\approx\\frac{1}{3}\\left[f\\left(0\\right)+4f\\left(1\\right)+f\\left(2\\right)\\right] $$\n",
        "\n",
        "Calcular las correspondientes aproximaciones para\n",
        "\n",
        "$$x^{2},x^{4},\\frac{1}{\\left(x+1\\right)},\\,\\sqrt{1+x^{2}},\\,sen\\,x,\\,e^{x}$$\n",
        "\n",
        "Notar como en todos los casos, la regla de Simpson, proporciona una mejor aproximación.\n",
        "\n",
        "| $f\\left(x\\right)$        | $x^{2}$ |  $x^{4}$ | $\\frac{1}{x+1}$|$\\sqrt{1+x^{2}}$ |sen x |$e^{x}$ |\n",
        "| :-:  | :-: | :-: |  :-: | :-:  |   :-: |   :-: | \n",
        "| Valores exactos  | 2.667 |6.400 |1.099 |2.958 |1.416 |6.389 |\n",
        "| Trapecio | 4.00\t|16.00\t|1.333|\t3.326|\t0.909|\t8.389|\n",
        "| Simpson\t|2.667|\t6.667|\t1.111|\t2.964|\t1.425|\t6.421|"
      ]
    },
    {
      "cell_type": "code",
      "metadata": {
        "id": "VPf_wwHmw7-K",
        "cellView": "form",
        "outputId": "259d420c-f8f1-42f4-e08c-b75148a76bdc",
        "colab": {
          "base_uri": "https://localhost:8080/"
        }
      },
      "source": [
        "#@title\n",
        "def Simpson1_3():\n",
        "    # x0 punto inicial del intervalo \n",
        "    # x2 punto final del intervalo \n",
        "    # f funcion a integrar\n",
        "    x0=0\n",
        "    x2=1\n",
        "    h=(x2-x0)/2\n",
        "    x1=x0+h\n",
        "\n",
        "    def f(x):\n",
        "        return x*x\n",
        "        \n",
        "    integral=(h/3)*(f(x0)+4*f(x1)+f(x2))\n",
        "    \n",
        "    print(\"el valor de la integral mediante el metodo de cuadratura del  Simpson 1/3: {}\".format(integral)) \n",
        "\n",
        "Simpson1_3()"
      ],
      "execution_count": 1,
      "outputs": [
        {
          "output_type": "stream",
          "text": [
            "el valor de la integral mediante el metodo de cuadratura del  Trapecio Compuesto es: 0.3333333333333333\n"
          ],
          "name": "stdout"
        }
      ]
    },
    {
      "cell_type": "code",
      "metadata": {
        "id": "ZgHMfA9-_rDj",
        "outputId": "041b5854-0a55-4d3f-a6eb-69a11ff12b66",
        "colab": {
          "base_uri": "https://localhost:8080/"
        }
      },
      "source": [
        "import numpy as np\n",
        "\n",
        "def Simpson1_3():\n",
        "    # x0 punto inicial del intervalo \n",
        "    # x2 punto final del intervalo \n",
        "    # f funcion a integrar\n",
        "    x0=0\n",
        "    x2=2\n",
        "    h=(x2-x0)/2\n",
        "    x1=x0+h\n",
        "\n",
        "    f1 = lambda x: x*x\n",
        "    f2 = lambda x: x**(4)\n",
        "    f3 = lambda x: 1/(x+1)\n",
        "    f4 = lambda x: np.sqrt(1+x*x)\n",
        "    f5 = lambda x: np.sin(x)\n",
        "    f6 = lambda x: np.exp(x)\n",
        "        \n",
        "    integral1=(h/3)*(f1(x0)+4*f1(x1)+f1(x2))\n",
        "    integral2=(h/3)*(f2(x0)+4*f2(x1)+f2(x2))\n",
        "    integral3=(h/3)*(f3(x0)+4*f3(x1)+f3(x2))\n",
        "    integral4=(h/3)*(f4(x0)+4*f4(x1)+f4(x2))\n",
        "    integral5=(h/3)*(f5(x0)+4*f5(x1)+f5(x2))\n",
        "    integral6=(h/3)*(f6(x0)+4*f6(x1)+f6(x2))\n",
        "    \n",
        "    print(\"el valor de la integral mediante el metodo de cuadratura del  Trapecio Compuesto es: {}\".format(integral1)) \n",
        "    print(\"el valor de la integral mediante el metodo de cuadratura del  Trapecio Compuesto es: {}\".format(integral2))\n",
        "    print(\"el valor de la integral mediante el metodo de cuadratura del  Trapecio Compuesto es: {}\".format(integral3))\n",
        "    print(\"el valor de la integral mediante el metodo de cuadratura del  Trapecio Compuesto es: {}\".format(integral4))\n",
        "    print(\"el valor de la integral mediante el metodo de cuadratura del  Trapecio Compuesto es: {}\".format(integral5))\n",
        "    print(\"el valor de la integral mediante el metodo de cuadratura del  Trapecio Compuesto es: {}\".format(integral6)) \n",
        "\n",
        "\n",
        "Simpson1_3()"
      ],
      "execution_count": 8,
      "outputs": [
        {
          "output_type": "stream",
          "text": [
            "el valor de la integral mediante el metodo de cuadratura del  Trapecio Compuesto es: 2.6666666666666665\n",
            "el valor de la integral mediante el metodo de cuadratura del  Trapecio Compuesto es: 6.666666666666666\n",
            "el valor de la integral mediante el metodo de cuadratura del  Trapecio Compuesto es: 1.1111111111111112\n",
            "el valor de la integral mediante el metodo de cuadratura del  Trapecio Compuesto es: 2.9643074089973895\n",
            "el valor de la integral mediante el metodo de cuadratura del  Trapecio Compuesto es: 1.4250604553524227\n",
            "el valor de la integral mediante el metodo de cuadratura del  Trapecio Compuesto es: 6.42072780425561\n"
          ],
          "name": "stdout"
        }
      ]
    },
    {
      "cell_type": "markdown",
      "metadata": {
        "id": "nWIDZP_Yw7-P"
      },
      "source": [
        "### Cuadratura de Simpson $\\frac{3}{8}$\n",
        "\n",
        "Esta regla se obtiene al integra el tercer polinomio de Lagrange en $\\left[a,b\\right]$ tomando los nodos $x_{0}=a,\\,x_{1}=a+h,\\,x_{2}=a+2h$ y $x_{3}=b$ donde $h=\\frac{b-a}{3}$ es decir\n",
        "\n",
        "$$\\int_{a}^{b}f\\left(x\\right)dx\\approx\\int_{a}^{b}P_{3}\\left(x\\right)dx=\\frac{3h}{8} \\left[f\\left(x_{0}\\right)+3f\\left(x_{1}\\right)+3f\\left(x_{2}\\right)+f\\left(x_{3}\\right)\\right]$$\n",
        "\n",
        "Es importante notar que esta regla es una suma ponderada de los valores de $f\\left(x\\right)$ en los dos puntos finales $x_{0}=a$ y $x_{3}=b$, y los dos puntos $x_{1},x_{2}$ divide el intervalo en tres partes iguales.\n",
        "\n"
      ]
    },
    {
      "cell_type": "code",
      "metadata": {
        "id": "bbLbHny9w7-Q",
        "outputId": "520d7c21-e6b7-49d2-878c-9e3ff7765e1f"
      },
      "source": [
        "def Simpson3_8():\n",
        "    # x0 punto inicial del intervalo \n",
        "    # x3 punto final del intervalo \n",
        "    # f funcion a integrar\n",
        "    x0=0\n",
        "    x3=1\n",
        "    h=(x3-x0)/3\n",
        "    x1=x0+h\n",
        "    x2=x0+2*h\n",
        "    def f(x):\n",
        "        return x*x\n",
        "        \n",
        "    integral=(3/8)*h*(f(x0)+3*f(x1)+3*f(x2)+f(x3))\n",
        "    \n",
        "    print(\"el valor de la integral mediante el metodo de cuadratura del  Trapecio Compuesto es: {}\".format(integral)) \n",
        "\n",
        "Simpson3_8()"
      ],
      "execution_count": null,
      "outputs": [
        {
          "output_type": "stream",
          "text": [
            "el valor de la integral mediante el metodo de cuadratura del  Trapecio Compuesto es: 0.3333333333333333\n"
          ],
          "name": "stdout"
        }
      ]
    },
    {
      "cell_type": "markdown",
      "metadata": {
        "id": "N6J_kbU0w7-U"
      },
      "source": [
        "# Cuadratura Gaussiana\n",
        "\n",
        "Las reglas vista en la sección anterior, también son conocidas como reglas de Newton-Cotes, se dedujeron integrando los polinomios de interpolación.\n",
        "\n",
        "El termino de error en el polinomio de interpolación de grado n contiene la $\\left(n+1\\right)-esima$ derivada.\n",
        "\n",
        "En todas las formulas de Newton-Cotes se emplean valores de la función equidistantes. Este procedimiento es adecuado cuando las reglas son combinadas para crear nuevas reglas compuestas, como las vistas con anterioridad.\n",
        "\n",
        "Sin embargo la restricción que pide a los nodo ser equidistantes, puede afectar considerablemente la exactitud de la aproximación.\n",
        "\n",
        "La cuadratura Gaussiana optimiza la forma de seleccionar los puntos a ser evaluados y no los toma en forma igualmente espaciada como se había visto en las reglas de Newton-Cotes.\n",
        "\n",
        "Se escogen los nodos $x_{1},x_{2},\\ldots,x_{n}$ en el intervalo $\\left[a,b\\right]$ y los coeficientes $c_{1},c_{2},\\ldots c_{n}$ para reducir en lo posible el error esperado que se obtiene al efectuar la aproximación\n",
        "\n",
        "$$ \\int_{a}^{b}f\\left(x\\right)dx\\approx\\sum_{i=1}^{n}c_{i}f\\left(x_{i}\\right)$$\n",
        "\n",
        "Los coeficientes (pesos) $c_{1},c_{2},\\ldots c_{n}$ son arbitrarios y los nodos (puntos de Gauss) $x_{1},x_{2},\\ldots,x_{n}$ están restringidos a pertenecer al intervalo $\\left[a,b\\right]$.\n",
        "\n",
        "Esto nos da $2n$ parámetros de donde elegir. Considerando la clase de polinomios de grado máximo $2n-1$ también contiene $2n$ parámetros, si es que los coeficientes de un polinomio se consideran parámetros.\n",
        "\n",
        "Esta clase de polinomios es la más amplia para la cual es razonable esperar que la regla devuelva un resultado exacto.\n",
        "\n",
        "Se mostrará cómo seleccionar los coeficientes y los nodos cuando $n=2$ y cuando el intervalo de integración es $\\left[-1,1\\right]$\n",
        "\n",
        "Después se explicara el caso mas general de una elección arbitraria de puntos y pesos, indicando como modificar el método cuando se integra en un intervalo arbitrario.\n",
        "\n"
      ]
    },
    {
      "cell_type": "markdown",
      "metadata": {
        "id": "4UBd93v1SZyt"
      },
      "source": [
        "## Cuadratura Gaussiana con $n=2$ puntos\r\n",
        "\r\n",
        "Supongamos que se requiere determinar $c_{1},c_{2},x_{1},x_{2}$ de modo que la regla de integración\r\n",
        "\r\n",
        "$$\\int_{-1}^{1}f\\left(x\\right)dx\\approx c_{1}f\\left(x_{1}\\right)+c_{2}f\\left(x_{2}\\right)$$\r\n",
        "\r\n",
        "proporcione el resultado exacto siempre que $f\\left(x\\right)$ sea un polinomio de grado $2\\left(2\\right)-1=3$ o menor, es decir que sea un polinomio de la forma\r\n",
        "\r\n",
        "$$ f\\left(x\\right)=a_{0}+a_{1}x+a_{2}x^{2}+a_{3}x^{3} $$\r\n",
        "\r\n",
        "Dado que\r\n",
        "\r\n",
        "$$\\int f\\left(x\\right)dx=a_{0}\\int1dx+a_{1}\\int xdx+a_{2}\\int x^{2}dx+a_{3}\\int x^{3}d $$\r\n",
        "\r\n",
        "esto equivale a demostrar que la regla produce resultados exactos cuando $f\\left(x\\right)$ es $1,x,x^{2},x^{3}$\r\n",
        "\r\n",
        "Necesitamos $c_{1},c_{2},x_{1},x_{2}$ de manera tal que\r\n",
        "\r\n",
        "$$\\begin{array}{cc}\r\n",
        "{\\color{blue}{(a)}}\\,c_{1}*1+c_{2}*1=\\int_{-1}^{1}1dx=2\\quad & {\\color{blue}{(b)}}\\,c_{1}x_{1}+c_{2}x_{2}=\\int_{-1}^{1}xdx=0\\\\\r\n",
        "{\\color{blue}{(c)}}\\,c_{1}x_{1}^{2}+c_{2}x_{2}^{2}=\\int_{-1}^{1}x^{2}dx=\\frac{2}{3} & {\\color{blue}{(d)}}\\,c_{1}x_{1}^{3}+c_{2}x_{2}^{3}=\\int_{-1}^{1}x^{3}dx=0\r\n",
        "\\end{array}$$\r\n",
        "\r\n",
        "Las 4 incógnitas se puede determinar comenzando con $(b)$\r\n",
        "\r\n",
        "$$c_{2}=-\\frac{c_{1}x_{1}}{x_{2}} \\tag{6}$$\r\n",
        "\r\n",
        "Ahora substituyendo en $(d)$ se tiene\r\n",
        "\r\n",
        "$$c_{1}x_{1}^{3}-c_{1}x_{1}x_{2}^{2}=0\\,\\Rightarrow\\,x_{1}^{2}=x_{2}^{2}$$\r\n",
        "\r\n",
        "Pero $x_{1}\\neq x_{2}$ por lo tanto se tiene que\r\n",
        "\r\n",
        "$$x_{1}=-x_{2} \\tag{7}$$\r\n",
        "\r\n",
        "Ahora substituyendo $x_{1}$ en $(6)$, tenemos que $c_{1}=c_{2}$ y usando $(a)$\r\n",
        "\r\n",
        "$$ c_{1}=c_{2}=1 \\tag{8}$$\r\n",
        "\r\n",
        "Si se substituye $(7)$ y $(8)$ en $(c)$ se tiene\r\n",
        "\r\n",
        "$$x_{1}^{2}+x_{2}^{2}=\\frac{2}{3}\\,\\Rightarrow\\,x_{1}^{2}+x_{1}^{2}=\\frac{2}{3}\\,\\Rightarrow\\,2x_{1}^{2}=\\frac{2}{3}\\,\\Rightarrow\\,x_{1}^{2}=\\frac{1}{3}$$\r\n",
        "\r\n",
        "$$ \\therefore x_{1}=\\frac{1}{\\sqrt{3}}$$\r\n",
        "\r\n",
        "Así tenemos que\r\n",
        "\r\n",
        "$$ c_{1}=1,\\quad c_{2}=1,\\quad x_{1}=\\frac{1}{\\sqrt{3}}\\quad y \\quad x_{2}=\\frac{-1}{\\sqrt{3}}$$\r\n",
        "\r\n",
        "Así que la regla para 2 puntos es\r\n",
        "\r\n",
        "$$\\int_{-1}^{1}f\\left(x\\right)dx\\approx f\\left(\\frac{1}{\\sqrt{3}}\\right)+f\\left(\\frac{-1}{\\sqrt{3}}\\right) $$ \r\n",
        "\r\n",
        "\r\n",
        "\r\n",
        "|   n  puntos    | Coeficientes (pesos)  $C_{i}$  |   Puntos (integración) Gauss $x_{i}$ | \r\n",
        "|  :-:   |  :-:  |  :-:  |  \r\n",
        "| 2  | $c_{1}=c_{2}=1$      | $x_{1}=0.578\\\\x_{2}=-0.578$ |\r\n",
        "| 3  | $c_{1}=0.556\\\\c_{2}=0.889\\\\c_{3}=0.556$ | $x_{1}=0.774\\\\x_{2}=0\\\\x_{3}=-0.774$ |\r\n",
        "\r\n"
      ]
    },
    {
      "cell_type": "markdown",
      "metadata": {
        "id": "Lp9t6jRDSd6A"
      },
      "source": [
        "## Cuadratura Gaussiana general\r\n",
        "\r\n",
        "Una integral $\\int_{a}^{b}f\\left(x\\right)dx$ en un intervalo arbitrario $\\left[a,b\\right]$ se puede transformar en otra integral $\\int_{-1}^{1}f\\left(t\\right)dt$ en $\\left[-1,1\\right]$ usando el cambio de variable\r\n",
        "\r\n",
        "$$t=\\frac{2x-a-b}{b-a}\\Leftrightarrow x=\\frac{1}{2}\\left[\\left(b-a\\right)t+a+b\\right] $$\r\n",
        "\r\n",
        "Donde el diferencial de $x$ es $dx=\\frac{1}{2}\\left(b-a\\right)dt$. Esto nos permite aplicar la cuadratura Gaussiana a cualquier intervalo $\\left[a,b\\right]$, ya que\r\n",
        "\r\n",
        "$$ \\int_{a}^{b}f\\left(x\\right)dx=\\int_{-1}^{1}f\\left(\\frac{\\left(b-a\\right)t+\\left(b+a\\right)}{2}\\right)\\frac{\\left(b-a\\right)}{2}dt $$\r\n",
        "\r\n"
      ]
    },
    {
      "cell_type": "markdown",
      "metadata": {
        "id": "QUnDN8cOSgz1"
      },
      "source": [
        "### Ejemplo\r\n",
        "\r\n",
        "Evalúe $\\int_{0}^{3}e^{-x^{2}}dx$. Usando $n=3$ puntos. Encuentre el error, empleando el valor analítico.\r\n",
        "\r\n",
        "El valor de la integral resolviendo de manera analíticamente es 0.886207.\r\n",
        "\r\n"
      ]
    },
    {
      "cell_type": "code",
      "metadata": {
        "id": "TRtZ_9obw7-V",
        "colab": {
          "base_uri": "https://localhost:8080/"
        },
        "outputId": "6e185eaf-7a81-42f2-e363-562d1ecec931"
      },
      "source": [
        "def CuaGauss():\n",
        "    # a punto inicial del intervalo\n",
        "    a = 0  \n",
        "    #a=0\n",
        "    # b punto final del intervalo\n",
        "    b = 3\n",
        "    #b=1 \n",
        "    # puntos de Gauss\n",
        "    x=np.array([0.774,0.0,-0.774])\n",
        "    # pesos de Gauss\n",
        "    c=np.array([0.556,0.889,0.556])\n",
        "    # f funcion a integrar\n",
        "    #f = lambda x:x*x\n",
        "    f = lambda x: np.exp(-(x)**2)\n",
        "    # acumulador\n",
        "    cuadratura=0.0\n",
        "    # constante de \n",
        "    dx=(b-a)/2\n",
        "    # por cada punto de integracion\n",
        "    for i in range(len(x)):\n",
        "        # nuevo punto de integracion\n",
        "        changeVar=0.0\n",
        "        changeVar=(((b-a)*x[i])+b+a)/2\n",
        "        # se acumula la evualuacion de f en nuevo punto\n",
        "        cuadratura+=c[i]*f(changeVar)\n",
        "        \n",
        "    integral=cuadratura*dx\n",
        "    \n",
        "    print(\"el resultad de la integral con una cuadratura de 3 puntos es :{}\".format(integral))\n",
        "    \n",
        "CuaGauss()"
      ],
      "execution_count": 20,
      "outputs": [
        {
          "output_type": "stream",
          "text": [
            "el resultad de la integral con una cuadratura de 3 puntos es :0.8847093533668051\n"
          ],
          "name": "stdout"
        }
      ]
    },
    {
      "cell_type": "markdown",
      "metadata": {
        "id": "Jz-VcnxDw7-a"
      },
      "source": [
        "# Referencias\n",
        "\n",
        "*   Riswan Butt, Numerical Analysys Using Matlab, Jones and Bartlett.\n",
        "*   Ward Cheney, David Kincaid, Métodos Numéricos y Computación, Cenage Learning.\n",
        "*   Richard L. Burden, J. Douglas Faires, Análisis Numérico, Math Learning.\n",
        "*   Yuri N. Skiba, Introducción a los Métodos Numéricos.\n",
        "*   Quarteroni, A, Sacco R.: Numerical mathematics, Springer. 2007.\n",
        "\n"
      ]
    }
  ]
}