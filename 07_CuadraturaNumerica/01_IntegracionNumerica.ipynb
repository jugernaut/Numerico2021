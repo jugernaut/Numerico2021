{
  "nbformat": 4,
  "nbformat_minor": 0,
  "metadata": {
    "kernelspec": {
      "display_name": "Python 3.7 (tensorflow)",
      "language": "python",
      "name": "tensorflow"
    },
    "language_info": {
      "codemirror_mode": {
        "name": "ipython",
        "version": 3
      },
      "file_extension": ".py",
      "mimetype": "text/x-python",
      "name": "python",
      "nbconvert_exporter": "python",
      "pygments_lexer": "ipython3",
      "version": "3.7.7"
    },
    "colab": {
      "name": "Integracion_numerica.ipynb",
      "provenance": [],
      "toc_visible": true,
      "include_colab_link": true
    },
    "widgets": {
      "application/vnd.jupyter.widget-state+json": {
        "163e33799e5849d99322afd30cbbbffc": {
          "model_module": "@jupyter-widgets/controls",
          "model_name": "VBoxModel",
          "state": {
            "_view_name": "VBoxView",
            "_dom_classes": [
              "widget-interact"
            ],
            "_model_name": "VBoxModel",
            "_view_module": "@jupyter-widgets/controls",
            "_model_module_version": "1.5.0",
            "_view_count": null,
            "_view_module_version": "1.5.0",
            "box_style": "",
            "layout": "IPY_MODEL_6b4d5a77697c4c288382a483102b9a54",
            "_model_module": "@jupyter-widgets/controls",
            "children": [
              "IPY_MODEL_25109e4486bf4b75abec485eaab62582",
              "IPY_MODEL_7f2d99f85c2d4f41a5222c0aaa3c5947"
            ]
          }
        },
        "6b4d5a77697c4c288382a483102b9a54": {
          "model_module": "@jupyter-widgets/base",
          "model_name": "LayoutModel",
          "state": {
            "_view_name": "LayoutView",
            "grid_template_rows": null,
            "right": null,
            "justify_content": null,
            "_view_module": "@jupyter-widgets/base",
            "overflow": null,
            "_model_module_version": "1.2.0",
            "_view_count": null,
            "flex_flow": null,
            "width": null,
            "min_width": null,
            "border": null,
            "align_items": null,
            "bottom": null,
            "_model_module": "@jupyter-widgets/base",
            "top": null,
            "grid_column": null,
            "overflow_y": null,
            "overflow_x": null,
            "grid_auto_flow": null,
            "grid_area": null,
            "grid_template_columns": null,
            "flex": null,
            "_model_name": "LayoutModel",
            "justify_items": null,
            "grid_row": null,
            "max_height": null,
            "align_content": null,
            "visibility": null,
            "align_self": null,
            "height": null,
            "min_height": null,
            "padding": null,
            "grid_auto_rows": null,
            "grid_gap": null,
            "max_width": null,
            "order": null,
            "_view_module_version": "1.2.0",
            "grid_template_areas": null,
            "object_position": null,
            "object_fit": null,
            "grid_auto_columns": null,
            "margin": null,
            "display": null,
            "left": null
          }
        },
        "25109e4486bf4b75abec485eaab62582": {
          "model_module": "@jupyter-widgets/controls",
          "model_name": "IntSliderModel",
          "state": {
            "_view_name": "IntSliderView",
            "style": "IPY_MODEL_f7ca8ab1c9be40f39bdc2ad4be0da01e",
            "_dom_classes": [],
            "description": "n",
            "step": 1,
            "_model_name": "IntSliderModel",
            "orientation": "horizontal",
            "max": 30,
            "_view_module": "@jupyter-widgets/controls",
            "_model_module_version": "1.5.0",
            "value": 5,
            "_view_count": null,
            "disabled": false,
            "_view_module_version": "1.5.0",
            "min": 1,
            "continuous_update": true,
            "readout_format": "d",
            "description_tooltip": null,
            "readout": true,
            "_model_module": "@jupyter-widgets/controls",
            "layout": "IPY_MODEL_19c9f3d5d8a1470dba6836fe6a571eda"
          }
        },
        "7f2d99f85c2d4f41a5222c0aaa3c5947": {
          "model_module": "@jupyter-widgets/output",
          "model_name": "OutputModel",
          "state": {
            "_view_name": "OutputView",
            "msg_id": "",
            "_dom_classes": [],
            "_model_name": "OutputModel",
            "outputs": [
              {
                "output_type": "stream",
                "metadata": {
                  "tags": []
                },
                "text": "el valor de la integral mediante el metodo de cuadratura del rectangulo es: 0.44000000000000006\n",
                "stream": "stdout"
              },
              {
                "output_type": "display_data",
                "metadata": {
                  "tags": [],
                  "needs_background": "light"
                },
                "image/png": "iVBORw0KGgoAAAANSUhEUgAAAdAAAAEWCAYAAADW7MapAAAABHNCSVQICAgIfAhkiAAAAAlwSFlzAAALEgAACxIB0t1+/AAAADh0RVh0U29mdHdhcmUAbWF0cGxvdGxpYiB2ZXJzaW9uMy4yLjIsIGh0dHA6Ly9tYXRwbG90bGliLm9yZy+WH4yJAAAgAElEQVR4nO3dd5gUZbbH8e8BQRAwIIgoKAb0gu4qigHdXQfFKyZwjZhREMOquyoq5pwjXjFgToCoLKLiioSRVcQVdA3oopgQyVEGJJ/7x1uzNm3PTE/PTFd3z+/zPPNMV9fbVeetdKreSubuiIiISOXUiTsAERGRfKQEKiIikgElUBERkQwogYqIiGRACVRERCQDSqAiIiIZyJsEamZ/NLOpWR7nNmZWYmZ1szCuYjPrncHv2piZm9kGGfz2ZDMbVdnfxaEq9cwGMysysxlxx5EOM3vazG6upmF9b2ZdMvhdzk+v6pxOcanMdiVav3as6ZhySVXrnHYCjWbEIjPbMNORVYW7/9Pdd87yOKe7e2N3X5vN8WaLu7/g7v+bTlkz62lm79Z0TFKxTJOWZFemO8WFLNd3hCsrrQRqZm2APwIOdMt0ZIUy0aT6ZeMoX6S6ZGNblqvbSwvypvWyJqU7EU4DJgJPA6cn9oiaOR4xs7fNbKmZvWNm2yb0dzP7i5l9DXwdfXeWmU0zs4VmNsLMtoq+f9jMXkn47R1mNiaaYes1+UR74Zea2admtszMnjCzFmb2ZhTHaDPbLKH8S2Y228yWmNl4M9sloV9DM7vHzH6I+r8bfbfe3pKZbRXFuzCK/6yEYVxvZkPN7Nlo/FPMrGNZE9TMDjaz/0TjexCwpP5nmtmX0VH/W4nTtDxmdkb0u6Vm9q2ZnV1O2fWOKqO6nmNmX5vZYjMbEE37dsAjQCcLTdqLo/IbmtndZjbdzOZEy0HDhOFdZmazzGymmfVObC6JlpuHzWykmS0DOpvZ4Wb2sZn9bGY/mtn16dQ5Gl5rMxtmZvPMbEE0TTGzOmZ2dTRv50bzZ5OoX+n8PT2qw3wzu6qccZRb3wriczM7L5q2S83sJjPbwcwmRPUdamb1E8ofYWb/jubDBDP7ffT9c8A2wGvRvLgs+r5btMwttnDk0y5hWB3M7KNovC8CDZJiS7k+llGPU6NpuSB5WkXTup+ZfRP1H2pmTdOcPqW/W2pmX5jZn8spW9fMrkwoPzma/785urGEo8Boeo+NYptvZi+Y2abpTCeLtj9mdrmZzQaeMrPNzOz1aJlbFH1uFZW/hXDQ8WA0nx5MI76eZvaemd1nZguA6yuKOcW0qantSrGZ3WJm7wHLge3N7H8sbPcXmtlUMzs+oXzKbSowPiqyOJoundKYL9+bWV8L2/olZvaimSXOm/K2M+u1Alg5LWlmtomF7cO8KO6rraIdBXev8A+YBpwH7AmsBlok9HsaWAr8CdgQ6A+8m9DfgbeBpkBD4EBgPrBHVP7/gPFR2Y2Ar4CehIVvPtAq6lcEzEgY7veEpN4C2BqYC3wEdCAs+GOB6xLKnwk0icZ5P/DvhH4DgOJoOHWB/aJybaL4N4jKjQceioa/OzAPODDqdz2wAjgsGsZtwMQypmezaJodC9QDLgLWAL2j/t2jad4O2AC4GphQxrCSYzwc2IGw4hxAWNj3KOO3PVPMq9eBTQkb6XlA11Rlo+/uA0ZE87YJ8BpwW9SvKzAb2CWar89Hw98xYblZAuxP2JFrEM3j30XdvwfmAEelqmdSHHWBT6J4GkXD+kPCfJ8GbA80BoYBzyUN8zHCsrkbsBJoV8b0Kq++RSQsnyl+68CrwMbRNFkJjIni2gT4Ajg9KtuBsDzvE9XtdMLyvmHCst8lYdg7AcuAgwnL02VRnetHfz8QlrF6hGVuNXBz9Nsy18cUdWgPlPDrun4vYbntEvX/K2GdbBX1fxQYXMaw1ptewHHAVtG8PyGqT8syfnsp8BmwM2E53w3YPNUyQlivS9erHaNptCHQnLA+3x/1q2g6FUV1vSP6fcNonMcQlu8mwEvA8FTjLmsZToqvZzSOCwjrfcPyYq7u7QoJ62eKYRcD0wnL7gaEZfZH4IyouwNhOWpfmW1qRfMlYXn/V7R8NAW+BM5JczuTPA968tttXmnZZwnraJMozq+AXuXmxvJ6RgP9Q7QgNYu6/wNclND/aWBIQndjYC3QOiHAAxP6PwHcmVR+NdAm6t4HWEhYmE8sZ4X7Hjg5ofsV4OGE7gtIWJiT6rRpFNcmhBX2F2C3FOX+O7OB1lG9miT0vw14Ovp8PTA6aWPzSxnjP42E5ErYCMzg1wX9zcQZF8W4HNi2vBjLGNdw4K9l9Eu1MP0hoXso0K+MskbYyO2Q8F0n4Lvo85NEySVhJUlOoM9WsOzdD9xXUT2j8c4ro98Y4LyE7p2j5W2DhGG2Suj/L6BHiuFUVN/1ls8Uv3dg/4TuycDlCd338OvG/GHgpqTfTwUOSFj2ExPoNcDQpOXlpyimPwEzAUvoP4FfE0O562NSDNey/rreCFjFrwn0S+CghP4tS6d1imFVNL3+DXQvo9/UVP1SLSMkbUCTyh8FfBx9rmg6FUV1bVBOzLsDi8oad0XxEdax6RWsE/+NOUW/Km1XqDiB3pjQfQLwz6QyjwLXkeY2Nd06Epb3UxK67wQeiT5XtJ1Jngc9SZFACUl+FdEOQNTvbKC4vPmRThPu6cAod58fdQ8iqRmXsCcCgLuXEBLgVqn6R9//kFR+AWFPBXf/APiWMPOHVhDbnITPv6Tobgz/bfK5PWry+ZkwQyDssTUjHLF8U8G4tgIWuvvShO9+KI07Mjvh83KggaU+j7EV608zZ/1ptC3Q30Jz3GLC9LSkcaVkZoea2cSoWWUx4Yi4WUW/K6cOjcso15ywxzc5Ic5/RN9DUh2TPqf8zsz2MbNxURPKEuCcNGNvDfzg7mtS9FtveYs+b0BouSiVTp0rqm860lpeCfP/ktLxRONqzfrrVKLkdWodYdpuHfX7KVrGSv1Qzm/XWx9TjCdxuV0WlS21LfD3hJi/JOx0tqACZnaa/dpkvRjYlbLnfWsqXl9TjaOFmQ0xs5+i7cDzCeOoaDoBzHP3FQnD28jMHo2a+34mHDltalU7n5+8TpQXc7Ia266kiG1bYJ+kZfRkYEvS36YCadexrHU0ne1MOpoRjtqTtxXlTptyE2jUZn08cICF84ezCc0Cu5nZbglFWyf8pjHhMHtmQv/EhXImYeKXlm9EaAr5Ker+C+FQfiahKao6nERovuhCOOpsUzp6QrPDCkKzZ3lmAk3NrEnCd9uUxl1Js1h/mlliN2EhONvdN034a+juE8obqIUrpF8B7iY0s28KjCTpPEiGPKl7PmGjv0tCjJu4e+mCPYvQlFeqNb+VPMxBhCbS1u6+CeG8azqx/whsU8bOynrLG2GerWH95JWOiupbnX4Ebkma/xu5++Cof/J0S16nSpennwjzYevou1LblPPb9dbHJMnL7UZR2cS4D02Ku4G7l7uOROfhHgPOBzaPltvPKXve/0jq9XVZ9H+jhO+2TPh8K2Ha/c7dNwZOSRhHRdMJfjvdLyG0aOwTDe9PpVUqo3xF8aX6TXkxJ6uR7UoZsf0IvJM0rMbufi7lb1OT61fZOiaraDuzjPKnd6n5hNaS5G1FuctuRUegRxH2INsTmid2J7Sf/5PQXFDqMDP7g4WLIG4iNCOUtScwGDjDzHaPNvi3Ah+4+/dmthNwM2ECngpcZma7VxBjOpoQzjktIEzMW0t7RHvrTwL3WrhIqG50Ynu923Wi+kwAbjOzBhYu6uhF2FuqrDeAXczs6GijfyHrz9hHgCssutApOrl9XBrDrU/Y+ZgHrDGzQ4G0blNJwxygVTSPS6fbY8B9ZrZFFOfWZnZIVH4oYT63iza016QxjiaEo/wVZrY3YccnHf8irEi3m1mjaP7sH/UbDFxkZttFO3e3Ai+WcbRapjTqW50eA86JjsgtqtPhCTtvcwjnTksNBQ43s4PMrB5hw76SsLy+T9hhuNDM6pnZ0cDeCb8tc31MEdfLwBEJ6/qNrL8NeQS4JUqImFlzM+ueRn0bETag86LfnUE4Ai3L48BNZtY2mj6/N7PN3X0eYYN3SrQen8n6G/EmhHO4S8xsa8K51FIVTadUmhB2qhZbuFjquqT+682nNOIraxxlxZysprYrqbwO7GThorJ60d9eZtaugm3qPGAd6y+/laljsoq2M/8GjrbQWrAjYZv9Gx5uVRxKWH6bRMvwxVSwfa8ogZ4OPOXhfsjZpX/Ag8DJCXv8gwgLz0LChUanlDVAdx8dVfIVwkZvB6BHNKzngTvc/RN3/xq4EnguOZll4FnC4fhPhIs1Jib170u4KOHDqA53kHranEg4ep0J/J1wkdLoygYTNYcfB9xOSOptgfcS+v89imFI1KTxOXBoGsNdSlhphgKLCAloRGXjK8NYYAow28xKm/MvJ1yUMDGKczRhjxx3fxN4ABhXWib6zcpyxnEecKOZLSWcb6uoCZ9oXGuBIwnnMqYTzvucEPV+EniO0Lz2HWHP+IJ0hptCmfWtTu4+CTiLsJ4tisbZM6HIbcDVFprO+rr7VMI693+EPekjgSPdfZW7rwKOjn6/kDBdhiWMK+X6WEZcU4C/ENb3WVFsiQ9D6E9Y3kZF83Ai4ZqGiur7BeEc8PuEpPM7EtaHFO4lLBujgJ8J53FLr4Y+i7ABXkC4sCTx6OoGwsVSSwjJJnE6lDudynB/NN75hLr+I6l/f+BYC1e8PpBGfKmUGXOymtqulDGupYSd8x6E7eFsfr3ACsrYprr7cuAW4L1o+d23MnVMEUdF25n7COc25wDPAC+UM7gLCEes3wLvEpbzJ8sbv63f5F95ZvY04WKAq6s0ICloFm6r+JxwJWmljv5ERNKR7e2MboaVGmNmf7Zw7+RmhD3Q15Q8RaQ6xbmdUQKVmnQ24X7Gbwjn0s+NNxwRKUCxbWeq3IQrIiJSG+kIVEREJAM5+bDibGvWrJm3adMmo98uW7aMRo0aVW9AMVFdck+h1ANUl1xVlbpMnjx5vrtX5mEiBUUJFGjTpg2TJk3K6LfFxcUUFRVVb0AxUV1yT6HUA1SXXFWVuphZ8tOaahU14YqIiGRACVRERCQDSqAiIiIZUAIVERHJgBKoiIhIBpRARUREMpBXCdTMnjSzuWb2eRn9zcweMLNpZvapme2R7RhFRKR2yKsECjwNdC2n/6GEV/i0BfoAD2chJhGRvDR9+vS4Q8hreZVA3X084d1yZekOPOvBRGBTM2uZnehERPLH1KlTadu2LSNGVNcrg2ufQnsS0dbAjwndM6LvZiUXNLM+hKNUWrRoQXFxcUYjLCkpyfi3uUZ1yT2FUg8osLosnkPxsHviDiNj7s7F1z1C/Xp16dChQ8HMl2wrtASaNncfCAwE6Nixo2f6KCs90is3FUpdCqUeUGB1GXYPRSv6xh1Gxp4ZD/+eAo/2gtatWxfMfMm2vGrCTcNPQOuE7lbRdyIiAixYCn0HwX5toXdR3NHkt0JLoCOA06KrcfcFlrj7b5pvRURqq8sGw+Ll8MiZUKfQMkCW5VUTrpkNBoqAZmY2A7gOqAfg7o8AI4HDgGnAcuCMeCIVEck947+EJ9+By4+E320TdzT5L68SqLufWEF/B/6SpXBERPLGytVw9pPQpjlc++e4oykMeZVARUQkM3e9Dv+ZCSMvhY02jDuawqAWcBGRAjdtNtz8Khy3Dxy6e9zRFA4lUBGRAuYO5z4FG24A958adzSFRU24IiIFbPAEGP05PHg6bLVZ3NEUFh2BiogUqEXL4KLnYe8d4JwucUdTeHQEKiJSoPoNgQUl8NblUFeHS9VOk1REpAC9NxUGjoW/dYXd28QdTWFSAhURKTCr1oR7PltvDtcfE3c0hUtNuCIiBeb2ETBlBrx2CTRuEHc0hUtHoCIiBWTKDLh5OJzYCY7YI+5oCpsSqIhIgVi7Dno/Bhs3hP6nxR1N4VMTrohIgXhwFEycBs+fB803jjuawqcjUBGRAvD9PLhyKBy6G5y0X9zR1A5KoCIiec4dzn4C6lh4z6dZ3BHVDmrCFRHJc8/+E0Z9Fh7Xt02zuKOpPXQEKiKSx+YsCY/r238nOFeP68sqJVARkTx2wTOwbCU8fhbU0RY9qzS5RUTy1KuT4KUP4No/w/9sFXc0tY8SqIhIHlq8DM57Gn6/DVx2RNzR1E66iEhEJA9dNhhmL4ZXL4Z62pLHQkegIiJ5pvgLeGwcXHwYdNw+7mhqLyVQEZE8UrICej0GO7SAG/SmlVjpwF9EJI/0GwLfzoV3roaNNow7mtpNR6AiInli3BQY8Db8tSv8qV3c0YgSqIhIHihZAWc+Bju2gFuPjzsaATXhiojkhcsGww/z4Z/XqOk2V+gIVEQkx435HB4eDRd1hf13jjsaKaUEKiKSw35eDmcOhJ1aws1qus0pasIVEclhlw6GGQvh3eugYf24o5FEOgIVEclRoz6FgWPhksOgU9u4o5FkSqAiIjloyXLo/Xh4SPyNx8YdjaSiJlwRkRzU9wX4aSFMuB4aqOk2J+XdEaiZdTWzqWY2zcz6pei/jZmNM7OPzexTMzssjjhFRDL1j0/g8WK49AjYZ8e4o5Gy5FUCNbO6wADgUKA9cKKZtU8qdjUw1N07AD2Ah7IbpYhI5pYsh7Meh/Zbw/VHxx2NlCevEiiwNzDN3b9191XAEKB7UhkHNo4+bwLMzGJ8IiJVcsEzMGsxPH22mm5znbl73DGkzcyOBbq6e++o+1RgH3c/P6FMS2AUsBnQCOji7pNTDKsP0AegRYsWew4ZMiSjmEpKSmjcuHFGv801qkvuKZR6QIHVZfEcGq+bUe3DLZ7wCTfc8xynH38wPU84pNqHn0pJ/Z0zni+dO3ee7O4dqzmkvFGIFxGdCDzt7veYWSfgOTPb1d3XJRZy94HAQICOHTt6UVFRRiMrLi4m09/mGtUl9xRKPaDA6jLsHopW9K3WYc5cBMc8CnvvAI8d/jb1VrxdrcMvS3HTcQUzX7It35pwfwJaJ3S3ir5L1AsYCuDu7wMNgGZZiU5EJAPu4WlDv6yC586FeoV4aFOA8i2Bfgi0NbPtzKw+4SKhEUllpgMHAZhZO0ICnZfVKEVEKuGht+GtT+Gek8Mj+yQ/5FUCdfc1wPnAW8CXhKttp5jZjWbWLSp2CXCWmX0CDAZ6ej6d6BWRWuU/M8Pj+g7dDc45KO5opDLyrqHA3UcCI5O+uzbh8xfA/tmOS0SkslavgVMfho3qwxNngVncEUll5F0CFREpFDcNh0nfwit/g5abxR2NVFZeNeGKiBSKiV/DLcPh9D/C0XvFHY1kQglURCTLSlaEptvWm8MDp8UdjWRKTbgiIll2yQvwzVwovgo23ijuaCRTOgIVEcmi1z8K7/i89HD4U7u4o5GqUAIVEcmSuUug12Ow2zZ6x2chUBOuiEgWrFsHpz8CP/8CY66EDevFHZFUlRKoiEgW9H8L/vEpDOgJu7ausLjkATXhiojUsI++g8sHQ/c94dwucUcj1UUJVESkBpWsgBMHwBYb62lDhUZNuCIiNejCZ+Hr2TD2Sti8SdzRSHXSEaiISA0Z8j489Q5c2Q2K2scdjVQ3JVARkRrw3Vw4+wno1BauOzruaKQmKIGKiFSz1WvgpAHh86C/6AXZhUqzVUSkmt0wDCZOgyHnQ5vmcUcjNUVHoCIi1WjcFLh1BJx5AJzQKe5opCYpgYqIVJP5S+GUh6HtlnrLSm2gJlwRkWrgDr0GhiT6el9o1CDuiKSmKYGKiFSD+96EER/BfadAhzZxRyPZoCZcEZEqev9ruHwI/Lkj/LVr3NFItiiBiohUwfylcPwD0LopPNlHj+qrTdSEKyKSoXXr4LSHYe7PMOF62LRR3BFJNimBiohk6M7X4c1PwivK9twu7mgk29SEKyKSgfFfwtUvwQn76hVltZUSqIhIJS1aspQeD8L2W8DAXjrvWVupCVdEpBLWrl3Lrf0Hs3AZvHkZbLxR3BFJXJRARUQq4dZbb2XSJ18xsBfstm3c0UiclEBFJDsWToZBneOOokrGToHrboOD/7QHvTt/FHc4EjOdAxURScOsReEVZTu3hIv6HKPznqIEKiJSkdVroMeD8PMv8NKF0LDhhnGHJDlACVREpAKXDYbx/4HHesOureOORnKFEqiISDkGvQf3/yM84/bk/eOORnJJ3iVQM+tqZlPNbJqZ9SujzPFm9oWZTTGzQdmOUUQKw6fToffj8Med4a4T445Gck1eXYVrZnWBAcDBwAzgQzMb4e5fJJRpC1wB7O/ui8xsi3iiFZF8trAE/nwfbNYIhl4I9fJqaynZUONHoGZ2sJk9Zma7R919qjC4vYFp7v6tu68ChgDdk8qcBQxw90UA7j63CuMTkVpo7To4eQD8uABe/itsuWncEUkuykYT7pnApcApZnYgsHsVhrU18GNC94zou0Q7ATuZ2XtmNtHM9HY+EamUG4bBPz6FB06DTm3jjkZyVTYaJZa6+2Kgr5ndDuxVw+PbAGgLFAGtgPFm9rsohv+KjoT7ALRo0YLi4uKMRlZSUpLxb3ON6pJ7CqUeACV1WlHc4O64w6jQex9O4aa/P0XXA/di58OPpzjFDZ/5Upd0FNIylm3ZSKBvlH5w935mdkEVhvUTkHgReavou0QzgA/cfTXwnZl9RUioHyYWcveBwECAjh07elFRUUYBFRcXk+lvc43qknsKpR4AxcPuoWhF37jDKNdXs+DO/uHVZMNO/ZCGKz9MWa64wd05X5d0FTcdVzDLWLbVeBOuu79a+tnM+gMPVmFwHwJtzWw7M6sP9ABGJJUZTjj6xMyaEZp0v63COEWkFihZES4aqlcXXvkrNKwfd0SS67J9G8tSYISZNQIws0PM7L10f+zua4DzgbeAL4Gh7j7FzG40s25RsbeABWb2BTAOuNTdF1RrLUSkoLjDmQPhPzNhyAWwbfO4I5J8kNULs939ajM7CSg2s1VACZDyXs5yhjESGJn03bUJnx24OPoTEanQHa/BSx/AHT2gy65xRyP5IqsJ1MwOItxmsgxoCZzp7lOzGYOISKIRk+HKoXDCvnDpEXFHI/kk2024VwHXuHsRcCzwYnRri4hI1n02HU5+KFw09NTZ6A0rUinZbsI9MOHzZ2Z2KPAKsF824xARmfczdLsXmjSA4RfpoiGpvFgfTuXus6JmXRGRrFm1Bo7tD7MWw/hrYOumcUck+Sj2pzu6+y9xxyAitYc7XPBMeD3ZC+fB3jvEHZHkq6y/jaX0nKfOfYpIHAa8DQPHwhXd4CS9nkyqII7Xmd2d9F9EJCtGfw5/ew667QE3Hxd3NJLv4nwfqK53E5Gs+Xo2HNcf2m0Fz58HdfLubciSa7QIiUjBW7wMjrwb6taBEZdAk4ZxRySFIPaLiEREatKatXDig/DNXBh9BWy3RdwRSaFQAhWRguUOFz4b3u05sBcc0C7uiKSQxNGEWxL9XxrDuEWkFrl3JDw8Gi47As7Sdf9SzbKeQN39T4n/RURqwiv/gr6D4Lh94LYT4o5GCpEuIhKRgjPxazjlIejUFp45R1fcSs3QYiUiBeWbOeEZt1s3hVcv1jNupebEkkDNrJGZ1Y1j3CJSuBaWwGF3wdp1MPJSaL5x3BFJIctKAjWzOmZ2kpm9YWZzgf8As8zsCzO7y8x2zEYcIlK4Vq6Go+6F7+eFI8+dWsYdkRS6bB2BjgN2AK4AtnT31u6+BfAHYCJwh5mdkqVYRKTAuMOZA+GfU8M5zz/sHHdEUhtk6z7QLu6+OvlLd19IeB/oK2ZWL0uxiEiBufZlGDQBbj0eenSKOxqpLbJyBFqaPM2sv1nqd76nSrAiIhV5shhuHg69i6Bft7ijkdok2xcRLQVGmFkjADM7xMzey3IMIlIgXv8I+jwB//s7eOgMSL17LlIzsvooP3e/2sxOAorNbBXhqUT9shmDiBSGCV/B8f8HHdrAy3+FenowqWRZVhc5MzsIOAtYBrQEznT3qdmMQUTy3+c/wuF3Qaum4XYVvV1F4pDtJtyrgGvcvQg4FnjRzPSEShFJ2w/z4JA7wgMSRvXTvZ4Sn2w34R6Y8PkzMzuUcBXuftmMQ0Ty0/ylIXkuXwnjr4E2zeOOSGqzbD1Ioawrb2cBB5VXRkQEoGQFHHYn/DAfXusLv9sm7oiktstWE+5YM7vAzNZb5M2sPtDJzJ4BTs9SLCKSZ1atgWPuh4++hxcv0IMSJDdkqwn3a2At8HczawksBhoAdYFRwP3u/nGWYhGRPLJuHfR8BEZ9Bk+cBd32jDsikSBbCXQvd+9jZr2BbYDmwC/uvjhL4xeRPOQOFz0Pg98P7/Q8syjuiER+la0m3DFm9j7QAjgN2Ar4JUvjFpE8dctweOAt+FtXuPzIuKMRWV9WjkDdva+Z7UB4qPx2QDdgl+hhCp+7u94XLyLrue9NuOZlOPUPcM/JesqQ5J6s3cbi7t+YWRd3/6r0OzNrDOyarRhEJD88Mhoufh6O3Rue7AN1YnlzsUj5sn0f6FdJ3SWE15mJiADwzHg49yk4fHd44S+wQd24IxJJLe/268ysq5lNNbNpZlbmc3TN7BgzczPrmM34RCRzQyeG93p22TU837a+nm8rOSyvEqiZ1QUGAIcC7YETzax9inJNgL8CH2Q3QhHJ1GsfwckPwX47wfCLoEH9uCMSKV9eJVBgb2Cau3/r7quAIUD3FOVuAu4AVmQzOBHJzNufwbH9ocO28EZfaNQg7ohEKmbuHncMaTOzY4Gu7t476j4V2Mfdz08oswdwlbsfY2bFQF93n5RiWH2APgAtWrTYc8iQIRnFVFJSQuPGjTP6ba5RXXJPodQDoGTxHBqvm/Gb7z+Z8g2X3/w4W7dsxn03nMvGTTaKIbrKKanTKmVd8lFJ/Z0zXsY6d+482d1r7WmygjrDYGZ1gHuBnhWVdfeBwECAjh07elFRUUbjLC4uJtPf5hrVJfcUSj0AiofdQ9GKvut998E0uPo22K4ZvHP5LLaod21etBsVN7j7N3XJV8VNxxXMMpZt+daE+xPQOqG7VfRdqSaE22KKzex7YF9ghC4kEsk9H6s+xXcAABC9SURBVH0HXe+AFpvAmCthi03ijkikcvItgX4ItDWz7aIH0fcARpT2dPcl7t7M3du4exvCLTLdUjXhikh8Jn0LB90KGzeEMVfAVpvFHZFI5eVVAnX3NcD5wFvAl8BQd59iZjeaWbd4oxORdHwwDbrcBps1gneugW31Tk/JU3l3DtTdRwIjk767toyyRdmISUTSM+Gr0Gy7xSYw9krYplncEYlkLq+OQEUkf3325XcccgdsuSkUX6XkKflPCVREatw777zDZTc/xlabQfHV0GrzuCMSqbq8a8IVqVUWToZBneOOokrGTYEj7oEWzbeguN9cWuqCISkQOgIVkRoz+nM4/G7Yrjnce8O5Sp5SUJRARaRGvPUpHHk37NgiXDDUdNMmcYckUq2UQEWk2g2fBN3vhZ1bwtir9JAEKUxKoCJSrZ5+B465H3bfJiTPZjrwlAKlBCoi1eb+N+GMgXDgLjD6SmhaGM/BF0lJV+GKSJW5w7Uvw83D4ei9YNBfYMN6cUclUrOUQEWkStatgwufhQFvQ68ieORM2KBu3FGJ1DwlUBHJ2Oo10PNRGDQB+h4Od54IZnFHJZIdSqAikpHlK+H4B+CNf8NtJ8DlRyp5Su2iBCoilbZkebjH892vQpPt2QfFHZFI9imBikilzFwEh98FU2bA4L/ACZ3ijkgkHkqgIpK2z3+Ew+6CRcvgtb5wyO/jjkgkPkqgIpKWMZ/D0fdD4wbwz2tg9zZxRyQSLz1IQUQq9Mx46HonbLM5TLxByVMElEBFpBzucOOwcKtKUTt49zporXd5igBqwhWRMqxeA32egKfHw+l/hIG9ob62GCL/pdVBRH5jyXI4tn94n+f1R8O1R+seT5FkSqAisp4fF4TbVL6cCU/1gZ4HxB2RSG5SAhWR/5rwVbjSdvlKePMy6LJr3BGJ5C5dRCQiADxZDJ1vCbepTLxByVOkIjoCFanl1qyFS16AB94KSfPFC/QeT5F0KIGK1GILlsIJ/wdjpsDfusJdJ+lVZCLpUgIVqaWmzIBu98CMhbpYSCQTSqAitdCrk+CUh8P5zneuhn3bxh2RSP7RRUQitYg73DIcjroP2m0Fk25S8hTJlI5ARWqJRcug5yMw4iM4Zf/wZKGG9eOOSiR/KYGK1AKTv4Pj+sOPC+H+U+HCQ/RkIZGqUgIVKWDu8PBouOh5aLFJeA2ZmmxFqocSqEiBWvpLeBj8kPfh0N3guXNh8yZxRyVSOPLuIiIz62pmU81smpn1S9H/YjP7wsw+NbMxZrZtHHGKxOmz6bDXNTB0Itx6PLzeV8lTpLrlVQI1s7rAAOBQoD1wopm1Tyr2MdDR3X8PvAzcmd0oReL1zHjY5zpY8guMuRKu6A518mpNF8kP+bZa7Q1Mc/dv3X0VMATonljA3ce5+/KocyLQKssxisRi2QroNTC8/HrfHeHjW6AoefdSRKqNuXvcMaTNzI4Furp776j7VGAfdz+/jPIPArPd/eYU/foAfQBatGix55AhQzKKqaSkhMaNC+PBoapL7ilZPIfG62ZUWO7Lr6dza/9B/DR7AScffSA9TziEunVza/+4pE6rtOqSDwqqLvV3znhd6dy582R371jNIeWNgr2IyMxOAToCKR9Q5u4DgYEAHTt29KKioozGU1xcTKa/zTWqS+4pHnYPRSv6ltl/zVq4fQRcPwy22gzGXglF7cfA6jGwOouBpqG4wd3l1iWfFFRdmo4riHUlDvmWQH8CWid0t4q+W4+ZdQGuAg5w95VZik0kq76dC6c+BBO+hhM7wUNnwKaN4o5KpPbItwT6IdDWzLYjJM4ewEmJBcysA/Aooal3bvZDFKlZ7uFCoQuehbp14IXz4KT9445KpPbJqwTq7mvM7HzgLaAu8KS7TzGzG4FJ7j4CuAtoDLxk4VEr0929W2xBi1SjBUvh7CfglQ/hgHbwzNmwbfO4oxKpnfIqgQK4+0hgZNJ31yZ87pL1oESy4K1P4YxHYf5SuKMHXHJ4OAIVkXjkXQIVqW0WlsAlL8DT48MbVN64FDq0iTsqEVECFclh77z/KT0eC0edV3SDa/8MDfQGFZGcoAQqkoNmzZrF+eefz7Bhw+jQBt68TEedIrlGCVQK08LJMKhz3FFUmntoqr34efhlNfQ55TAePHgk9bSmiuQcrZYiOeK7ueHtKaM/hz/uDI/1hlnbH0i9FSMr/rGIZJ0SqEjMVq2BB96C616BOhYeiHD2geEB8LPiDk5EyqQEKhKjUZ/Chc/C1FlwRIeQPFtvHndUIpIOJVCRGHw/L5zn/Psk2LFFeF/n4R3ijkpEKkMJVCSLflkFd74Gt78WmmhvPR4uPgw2rBd3ZCJSWUqgIlngDsMnwcUvhKPPE/aFu05Sc61IPlMCFalhn02HvoNg1GewaysYd5VedC1SCJRARWrI9/Pg2pfh+fdgk4bwwGlwbhfYoG7ckYlIdVACFalm836GW16Fh0eH21IuPRz6dYPN9K5OkYKiBCpSTZb+AveOhLtHwvKVcOYBcN3R0ErnOUUKkhKoSBWtWgOPjoGbhoejz6P3gluOh//ZKu7IRKQmKYGKZGjFKnjmn+GWlO/nQVE7uP0S2GfHuCMTkWxQAhWppJIVMHAs3P0GzFoMe20PD58Bh/wezOKOTkSyRQlUJE2LlsGDo6D/P2BBCXRuD8+eCwftosQpUhspgYpUYM4SuO9NeOhtWLoCDt8drjoKOrWNOzIRiZMSqEgZvpgBD74NT70DK9fAcXvDFd1g9zZxRyYiuUAJVCTBmrXw2kchcY6dAvU3gJP3h35Hwk4t445ORHKJEqgI4faTx8fBw2PgxwXhGbW3Hg+9O0PzjeOOTkRykRKo1GqTvg0XBg2ZCCtXw4G7QP9T4cg99Mg9ESmfEqjUOnOWwKAJ8Ny78PH30GhD6HUAnHcw7NIq7uhEJF8ogUqt8MsqGDEZnn0X3voU1q6DPbcLD3g/7Y+wyUZxRygi+UYJVArWunXw7tSQNF/6AH7+BVo1DQ93P/UP0F5HmyJSBUqgUlDWrl3Le++9x0NPj+CMieERe40bwDF7hSPNonZQp07cUYpIIVAClby3fPlyRo0axauvvsprr73GggULqLdBXQ7eFW4+Do7aExo1iDtKESk0SqDyq4WTYVDnuKNIy9wl8PrHMHwyvP0ZrFgNm24ER3SA7nvCRnvfwGF2ddxhikgBUwKVvLCwBN75EsZ9Ef4+nxG+32ZzOKszHNUR/rgz1IuW6OIGDWBFfPGKSOFTApWctGQ5jP/Prwnzk+ngDg3rw/47wYn7wWG7wW7b6kHuIhIPJVCJ3fKVIUF+9B189D1M/g4++xHWOWxYD/ZrCzccE95+svcO4fF6IiJx06ZIsmrBUvhyZkiSpcnyy59CsgRo1iTcn9l9z5Aw990RGtSPNWQRkZTyLoGaWVegP1AXeNzdb0/qvyHwLLAnsAA4wd2/z3actZV7eK7stDkJf7N//bxo2a9lt9wU9mwDR+8V/u+xXbhPU02yIpIP8iqBmlldYABwMDAD+NDMRrj7FwnFegGL3H1HM+sB3AGckP1o85M7rF4LK1aFV3itXP3r/xWrYeGycAXsvKUw9+eQLOf+/Ovn2UugJOHinToG2zaDHVtAj07h/84tYY820HKz2KopIlJleZVAgb2Bae7+LYCZDQG6A4kJtDtwffT5ZeBBMzN392wGmm+6du3K2LFjWL06/d/UrRPeVNK8CWyxMXTcHlpsAts3hx23DMmyTXOdsxSRwmT5lFfM7Figq7v3jrpPBfZx9/MTynwelZkRdX8TlZmfNKw+QJ+oc2dgaoZhNQPmV1gqP6guuadQ6gGqS66qSl22dffm1RlMPqm1xwbuPhAYWNXhmNkkd+9YDSHFTnXJPYVSD1BdclUh1SXb8u2poD8BrRO6W0XfpSxjZhsAmxAuJhIREak2+ZZAPwTamtl2ZlYf6AGMSCozAjg9+nwsMFbnP0VEpLrlVROuu68xs/OBtwi3sTzp7lPM7EZgkruPAJ4AnjOzacBCQpKtSVVuBs4hqkvuKZR6gOqSqwqpLlmVVxcRiYiI5Ip8a8IVERHJCUqgIiIiGVACrSQza2pmb5vZ19H/3zxPx8x2N7P3zWyKmX1qZjn1JCQz62pmU81smpn1S9F/QzN7Mer/gZm1yX6UFUujHheb2RfRPBhjZtvGEWc6KqpLQrljzMzNLGdvO0inLmZ2fDRvppjZoGzHmK40lrFtzGycmX0cLWeHxRFnRczsSTObG90nn6q/mdkDUT0/NbM9sh1jXnJ3/VXiD7gT6Bd97gfckaLMTkDb6PNWwCxg07hjj+KpC3wDbA/UBz4B2ieVOQ94JPrcA3gx7rgzrEdnYKPo87m5WI906xKVawKMByYCHeOOuwrzpS3wMbBZ1L1F3HFXoS4DgXOjz+2B7+OOu4y6/AnYA/i8jP6HAW8CBuwLfBB3zPnwpyPQyusOPBN9fgY4KrmAu3/l7l9Hn2cCc4FceVrHfx+H6O6rgNLHISZKrOPLwEFmOfeI9wrr4e7j3H151DmRcN9wLkpnngDcRHi2cy6/KjydupwFDHD3RQDuPjfLMaYrnbo4sHH0eRNgZhbjS5u7jyfclVCW7sCzHkwENjWzltmJLn8pgVZeC3efFX2eDbQor7CZ7U3Ye/2mpgNL09bAjwndM6LvUpZx9zXAEmDzrESXvnTqkagXYQ87F1VYl6hJrbW7v5HNwDKQznzZCdjJzN4zs4nRG5ZyUTp1uR44xcxmACOBC7ITWrWr7Pok5Nl9oNliZqOBLVP0uiqxw93dzMq8Dyjag3sOON3d11VvlJIuMzsF6AgcEHcsmTCzOsC9QM+YQ6kuGxCacYsIrQLjzex37r441qgycyLwtLvfY2adCPeg76r1vXZQAk3B3buU1c/M5phZS3efFSXIlM1PZrYx8AZwVdQkkisq8zjEGTn8OMR06oGZdSHs+Bzg7iuzFFtlVVSXJsCuQHHUkr4lMMLMurn7pKxFmZ505ssMwjm21cB3ZvYVIaF+mJ0Q05ZOXXoBXQHc/X0za0B4OHuuNkuXJa31SdanJtzKS3xU4OnAq8kFoscM/p1wTuHlLMaWjkJ5HGKF9TCzDsCjQLccPs8GFdTF3Ze4ezN3b+PubQjnc3MxeUJ6y9dwwtEnZtaM0KT7bTaDTFM6dZkOHARgZu2ABsC8rEZZPUYAp0VX4+4LLEk4VSVlifsqpnz7I5wLHAN8DYwGmkbfdwQejz6fAqwG/p3wt3vcsSfU4TDgK8J52aui724kbJQhbAReAqYB/wK2jzvmDOsxGpiTMA9GxB1zpnVJKltMjl6Fm+Z8MUKT9BfAZ0CPuGOuQl3aA+8RrtD9N/C/ccdcRj0GE+4GWE1oAegFnAOckzBPBkT1/CyXl69c+tOj/ERERDKgJlwREZEMKIGKiIhkQAlUREQkA0qgIiIiGVACFRERyYASqIiISAaUQEVERDKgBCqSg8xsr+i9jA3MrFH03sxd445LRH6lBymI5Cgzu5nwVKiGwAx3vy3mkEQkgRKoSI6Knr/6IeH9n/u5+9qYQxKRBGrCFcldmwONCW9jaRBzLCKSREegIjnKzEYAQ4DtgJbufn7MIYlIAr0PVCQHmdlpwGp3H2RmdYEJZnagu4+NOzYRCXQEKiIikgGdAxUREcmAEqiIiEgGlEBFREQyoAQqIiKSASVQERGRDCiBioiIZEAJVEREJAP/D7xI6KEb7PcTAAAAAElFTkSuQmCC\n",
                "text/plain": "<Figure size 432x288 with 1 Axes>"
              }
            ],
            "_view_module": "@jupyter-widgets/output",
            "_model_module_version": "1.0.0",
            "_view_count": null,
            "_view_module_version": "1.0.0",
            "layout": "IPY_MODEL_51c74129070744b6bd5ebf55708214d6",
            "_model_module": "@jupyter-widgets/output"
          }
        },
        "f7ca8ab1c9be40f39bdc2ad4be0da01e": {
          "model_module": "@jupyter-widgets/controls",
          "model_name": "SliderStyleModel",
          "state": {
            "_view_name": "StyleView",
            "handle_color": null,
            "_model_name": "SliderStyleModel",
            "description_width": "",
            "_view_module": "@jupyter-widgets/base",
            "_model_module_version": "1.5.0",
            "_view_count": null,
            "_view_module_version": "1.2.0",
            "_model_module": "@jupyter-widgets/controls"
          }
        },
        "19c9f3d5d8a1470dba6836fe6a571eda": {
          "model_module": "@jupyter-widgets/base",
          "model_name": "LayoutModel",
          "state": {
            "_view_name": "LayoutView",
            "grid_template_rows": null,
            "right": null,
            "justify_content": null,
            "_view_module": "@jupyter-widgets/base",
            "overflow": null,
            "_model_module_version": "1.2.0",
            "_view_count": null,
            "flex_flow": null,
            "width": null,
            "min_width": null,
            "border": null,
            "align_items": null,
            "bottom": null,
            "_model_module": "@jupyter-widgets/base",
            "top": null,
            "grid_column": null,
            "overflow_y": null,
            "overflow_x": null,
            "grid_auto_flow": null,
            "grid_area": null,
            "grid_template_columns": null,
            "flex": null,
            "_model_name": "LayoutModel",
            "justify_items": null,
            "grid_row": null,
            "max_height": null,
            "align_content": null,
            "visibility": null,
            "align_self": null,
            "height": null,
            "min_height": null,
            "padding": null,
            "grid_auto_rows": null,
            "grid_gap": null,
            "max_width": null,
            "order": null,
            "_view_module_version": "1.2.0",
            "grid_template_areas": null,
            "object_position": null,
            "object_fit": null,
            "grid_auto_columns": null,
            "margin": null,
            "display": null,
            "left": null
          }
        },
        "51c74129070744b6bd5ebf55708214d6": {
          "model_module": "@jupyter-widgets/base",
          "model_name": "LayoutModel",
          "state": {
            "_view_name": "LayoutView",
            "grid_template_rows": null,
            "right": null,
            "justify_content": null,
            "_view_module": "@jupyter-widgets/base",
            "overflow": null,
            "_model_module_version": "1.2.0",
            "_view_count": null,
            "flex_flow": null,
            "width": null,
            "min_width": null,
            "border": null,
            "align_items": null,
            "bottom": null,
            "_model_module": "@jupyter-widgets/base",
            "top": null,
            "grid_column": null,
            "overflow_y": null,
            "overflow_x": null,
            "grid_auto_flow": null,
            "grid_area": null,
            "grid_template_columns": null,
            "flex": null,
            "_model_name": "LayoutModel",
            "justify_items": null,
            "grid_row": null,
            "max_height": null,
            "align_content": null,
            "visibility": null,
            "align_self": null,
            "height": null,
            "min_height": null,
            "padding": null,
            "grid_auto_rows": null,
            "grid_gap": null,
            "max_width": null,
            "order": null,
            "_view_module_version": "1.2.0",
            "grid_template_areas": null,
            "object_position": null,
            "object_fit": null,
            "grid_auto_columns": null,
            "margin": null,
            "display": null,
            "left": null
          }
        },
        "2234ba894bd147e58725a0deae8257e4": {
          "model_module": "@jupyter-widgets/controls",
          "model_name": "VBoxModel",
          "state": {
            "_view_name": "VBoxView",
            "_dom_classes": [
              "widget-interact"
            ],
            "_model_name": "VBoxModel",
            "_view_module": "@jupyter-widgets/controls",
            "_model_module_version": "1.5.0",
            "_view_count": null,
            "_view_module_version": "1.5.0",
            "box_style": "",
            "layout": "IPY_MODEL_0cef37b6436e45aea0db5c6615b5c57d",
            "_model_module": "@jupyter-widgets/controls",
            "children": [
              "IPY_MODEL_787b21bfa327453ba418a65ed61e45e7",
              "IPY_MODEL_72a283411faa4b8289224da1745b8402"
            ]
          }
        },
        "0cef37b6436e45aea0db5c6615b5c57d": {
          "model_module": "@jupyter-widgets/base",
          "model_name": "LayoutModel",
          "state": {
            "_view_name": "LayoutView",
            "grid_template_rows": null,
            "right": null,
            "justify_content": null,
            "_view_module": "@jupyter-widgets/base",
            "overflow": null,
            "_model_module_version": "1.2.0",
            "_view_count": null,
            "flex_flow": null,
            "width": null,
            "min_width": null,
            "border": null,
            "align_items": null,
            "bottom": null,
            "_model_module": "@jupyter-widgets/base",
            "top": null,
            "grid_column": null,
            "overflow_y": null,
            "overflow_x": null,
            "grid_auto_flow": null,
            "grid_area": null,
            "grid_template_columns": null,
            "flex": null,
            "_model_name": "LayoutModel",
            "justify_items": null,
            "grid_row": null,
            "max_height": null,
            "align_content": null,
            "visibility": null,
            "align_self": null,
            "height": null,
            "min_height": null,
            "padding": null,
            "grid_auto_rows": null,
            "grid_gap": null,
            "max_width": null,
            "order": null,
            "_view_module_version": "1.2.0",
            "grid_template_areas": null,
            "object_position": null,
            "object_fit": null,
            "grid_auto_columns": null,
            "margin": null,
            "display": null,
            "left": null
          }
        },
        "787b21bfa327453ba418a65ed61e45e7": {
          "model_module": "@jupyter-widgets/controls",
          "model_name": "IntSliderModel",
          "state": {
            "_view_name": "IntSliderView",
            "style": "IPY_MODEL_915fdd346cb148c4822acbafba780c06",
            "_dom_classes": [],
            "description": "n",
            "step": 1,
            "_model_name": "IntSliderModel",
            "orientation": "horizontal",
            "max": 30,
            "_view_module": "@jupyter-widgets/controls",
            "_model_module_version": "1.5.0",
            "value": 5,
            "_view_count": null,
            "disabled": false,
            "_view_module_version": "1.5.0",
            "min": 1,
            "continuous_update": true,
            "readout_format": "d",
            "description_tooltip": null,
            "readout": true,
            "_model_module": "@jupyter-widgets/controls",
            "layout": "IPY_MODEL_fdc73b93ac6640cd9df4d407ea344d46"
          }
        },
        "72a283411faa4b8289224da1745b8402": {
          "model_module": "@jupyter-widgets/output",
          "model_name": "OutputModel",
          "state": {
            "_view_name": "OutputView",
            "msg_id": "",
            "_dom_classes": [],
            "_model_name": "OutputModel",
            "outputs": [
              {
                "output_type": "stream",
                "metadata": {
                  "tags": []
                },
                "text": "el valor de la integral mediante el metodo de cuadratura del punto medio es: 0.33000000000000007\n",
                "stream": "stdout"
              },
              {
                "output_type": "display_data",
                "metadata": {
                  "tags": [],
                  "needs_background": "light"
                },
                "image/png": "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\n",
                "text/plain": "<Figure size 432x288 with 1 Axes>"
              }
            ],
            "_view_module": "@jupyter-widgets/output",
            "_model_module_version": "1.0.0",
            "_view_count": null,
            "_view_module_version": "1.0.0",
            "layout": "IPY_MODEL_e274d8cf49a9451ca821c4d9ceecbe6c",
            "_model_module": "@jupyter-widgets/output"
          }
        },
        "915fdd346cb148c4822acbafba780c06": {
          "model_module": "@jupyter-widgets/controls",
          "model_name": "SliderStyleModel",
          "state": {
            "_view_name": "StyleView",
            "handle_color": null,
            "_model_name": "SliderStyleModel",
            "description_width": "",
            "_view_module": "@jupyter-widgets/base",
            "_model_module_version": "1.5.0",
            "_view_count": null,
            "_view_module_version": "1.2.0",
            "_model_module": "@jupyter-widgets/controls"
          }
        },
        "fdc73b93ac6640cd9df4d407ea344d46": {
          "model_module": "@jupyter-widgets/base",
          "model_name": "LayoutModel",
          "state": {
            "_view_name": "LayoutView",
            "grid_template_rows": null,
            "right": null,
            "justify_content": null,
            "_view_module": "@jupyter-widgets/base",
            "overflow": null,
            "_model_module_version": "1.2.0",
            "_view_count": null,
            "flex_flow": null,
            "width": null,
            "min_width": null,
            "border": null,
            "align_items": null,
            "bottom": null,
            "_model_module": "@jupyter-widgets/base",
            "top": null,
            "grid_column": null,
            "overflow_y": null,
            "overflow_x": null,
            "grid_auto_flow": null,
            "grid_area": null,
            "grid_template_columns": null,
            "flex": null,
            "_model_name": "LayoutModel",
            "justify_items": null,
            "grid_row": null,
            "max_height": null,
            "align_content": null,
            "visibility": null,
            "align_self": null,
            "height": null,
            "min_height": null,
            "padding": null,
            "grid_auto_rows": null,
            "grid_gap": null,
            "max_width": null,
            "order": null,
            "_view_module_version": "1.2.0",
            "grid_template_areas": null,
            "object_position": null,
            "object_fit": null,
            "grid_auto_columns": null,
            "margin": null,
            "display": null,
            "left": null
          }
        },
        "e274d8cf49a9451ca821c4d9ceecbe6c": {
          "model_module": "@jupyter-widgets/base",
          "model_name": "LayoutModel",
          "state": {
            "_view_name": "LayoutView",
            "grid_template_rows": null,
            "right": null,
            "justify_content": null,
            "_view_module": "@jupyter-widgets/base",
            "overflow": null,
            "_model_module_version": "1.2.0",
            "_view_count": null,
            "flex_flow": null,
            "width": null,
            "min_width": null,
            "border": null,
            "align_items": null,
            "bottom": null,
            "_model_module": "@jupyter-widgets/base",
            "top": null,
            "grid_column": null,
            "overflow_y": null,
            "overflow_x": null,
            "grid_auto_flow": null,
            "grid_area": null,
            "grid_template_columns": null,
            "flex": null,
            "_model_name": "LayoutModel",
            "justify_items": null,
            "grid_row": null,
            "max_height": null,
            "align_content": null,
            "visibility": null,
            "align_self": null,
            "height": null,
            "min_height": null,
            "padding": null,
            "grid_auto_rows": null,
            "grid_gap": null,
            "max_width": null,
            "order": null,
            "_view_module_version": "1.2.0",
            "grid_template_areas": null,
            "object_position": null,
            "object_fit": null,
            "grid_auto_columns": null,
            "margin": null,
            "display": null,
            "left": null
          }
        },
        "664fc4856efc40978ca8854e25489fcc": {
          "model_module": "@jupyter-widgets/controls",
          "model_name": "VBoxModel",
          "state": {
            "_view_name": "VBoxView",
            "_dom_classes": [
              "widget-interact"
            ],
            "_model_name": "VBoxModel",
            "_view_module": "@jupyter-widgets/controls",
            "_model_module_version": "1.5.0",
            "_view_count": null,
            "_view_module_version": "1.5.0",
            "box_style": "",
            "layout": "IPY_MODEL_9c4c6c1f65db4c8d93173ab6c5331ad4",
            "_model_module": "@jupyter-widgets/controls",
            "children": [
              "IPY_MODEL_245a38f082aa445bbd1fcb100c0c99e6",
              "IPY_MODEL_40f325f9582d48d1947ea36017bb203e"
            ]
          }
        },
        "9c4c6c1f65db4c8d93173ab6c5331ad4": {
          "model_module": "@jupyter-widgets/base",
          "model_name": "LayoutModel",
          "state": {
            "_view_name": "LayoutView",
            "grid_template_rows": null,
            "right": null,
            "justify_content": null,
            "_view_module": "@jupyter-widgets/base",
            "overflow": null,
            "_model_module_version": "1.2.0",
            "_view_count": null,
            "flex_flow": null,
            "width": null,
            "min_width": null,
            "border": null,
            "align_items": null,
            "bottom": null,
            "_model_module": "@jupyter-widgets/base",
            "top": null,
            "grid_column": null,
            "overflow_y": null,
            "overflow_x": null,
            "grid_auto_flow": null,
            "grid_area": null,
            "grid_template_columns": null,
            "flex": null,
            "_model_name": "LayoutModel",
            "justify_items": null,
            "grid_row": null,
            "max_height": null,
            "align_content": null,
            "visibility": null,
            "align_self": null,
            "height": null,
            "min_height": null,
            "padding": null,
            "grid_auto_rows": null,
            "grid_gap": null,
            "max_width": null,
            "order": null,
            "_view_module_version": "1.2.0",
            "grid_template_areas": null,
            "object_position": null,
            "object_fit": null,
            "grid_auto_columns": null,
            "margin": null,
            "display": null,
            "left": null
          }
        },
        "245a38f082aa445bbd1fcb100c0c99e6": {
          "model_module": "@jupyter-widgets/controls",
          "model_name": "IntSliderModel",
          "state": {
            "_view_name": "IntSliderView",
            "style": "IPY_MODEL_d0694d768b374205854ef0269278eec5",
            "_dom_classes": [],
            "description": "n",
            "step": 1,
            "_model_name": "IntSliderModel",
            "orientation": "horizontal",
            "max": 30,
            "_view_module": "@jupyter-widgets/controls",
            "_model_module_version": "1.5.0",
            "value": 30,
            "_view_count": null,
            "disabled": false,
            "_view_module_version": "1.5.0",
            "min": 1,
            "continuous_update": true,
            "readout_format": "d",
            "description_tooltip": null,
            "readout": true,
            "_model_module": "@jupyter-widgets/controls",
            "layout": "IPY_MODEL_4f75ba6da9914e0daa6c22db378b3280"
          }
        },
        "40f325f9582d48d1947ea36017bb203e": {
          "model_module": "@jupyter-widgets/output",
          "model_name": "OutputModel",
          "state": {
            "_view_name": "OutputView",
            "msg_id": "",
            "_dom_classes": [],
            "_model_name": "OutputModel",
            "outputs": [
              {
                "output_type": "stream",
                "metadata": {
                  "tags": []
                },
                "text": "el valor de la integral mediante el metodo de cuadratura del  Trapecio Compuesto es: 0.33351851851851855\n",
                "stream": "stdout"
              },
              {
                "output_type": "display_data",
                "metadata": {
                  "tags": [],
                  "needs_background": "light"
                },
                "image/png": "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\n",
                "text/plain": "<Figure size 432x288 with 1 Axes>"
              }
            ],
            "_view_module": "@jupyter-widgets/output",
            "_model_module_version": "1.0.0",
            "_view_count": null,
            "_view_module_version": "1.0.0",
            "layout": "IPY_MODEL_485a9f8e6ee147369025a2173c4208c3",
            "_model_module": "@jupyter-widgets/output"
          }
        },
        "d0694d768b374205854ef0269278eec5": {
          "model_module": "@jupyter-widgets/controls",
          "model_name": "SliderStyleModel",
          "state": {
            "_view_name": "StyleView",
            "handle_color": null,
            "_model_name": "SliderStyleModel",
            "description_width": "",
            "_view_module": "@jupyter-widgets/base",
            "_model_module_version": "1.5.0",
            "_view_count": null,
            "_view_module_version": "1.2.0",
            "_model_module": "@jupyter-widgets/controls"
          }
        },
        "4f75ba6da9914e0daa6c22db378b3280": {
          "model_module": "@jupyter-widgets/base",
          "model_name": "LayoutModel",
          "state": {
            "_view_name": "LayoutView",
            "grid_template_rows": null,
            "right": null,
            "justify_content": null,
            "_view_module": "@jupyter-widgets/base",
            "overflow": null,
            "_model_module_version": "1.2.0",
            "_view_count": null,
            "flex_flow": null,
            "width": null,
            "min_width": null,
            "border": null,
            "align_items": null,
            "bottom": null,
            "_model_module": "@jupyter-widgets/base",
            "top": null,
            "grid_column": null,
            "overflow_y": null,
            "overflow_x": null,
            "grid_auto_flow": null,
            "grid_area": null,
            "grid_template_columns": null,
            "flex": null,
            "_model_name": "LayoutModel",
            "justify_items": null,
            "grid_row": null,
            "max_height": null,
            "align_content": null,
            "visibility": null,
            "align_self": null,
            "height": null,
            "min_height": null,
            "padding": null,
            "grid_auto_rows": null,
            "grid_gap": null,
            "max_width": null,
            "order": null,
            "_view_module_version": "1.2.0",
            "grid_template_areas": null,
            "object_position": null,
            "object_fit": null,
            "grid_auto_columns": null,
            "margin": null,
            "display": null,
            "left": null
          }
        },
        "485a9f8e6ee147369025a2173c4208c3": {
          "model_module": "@jupyter-widgets/base",
          "model_name": "LayoutModel",
          "state": {
            "_view_name": "LayoutView",
            "grid_template_rows": null,
            "right": null,
            "justify_content": null,
            "_view_module": "@jupyter-widgets/base",
            "overflow": null,
            "_model_module_version": "1.2.0",
            "_view_count": null,
            "flex_flow": null,
            "width": null,
            "min_width": null,
            "border": null,
            "align_items": null,
            "bottom": null,
            "_model_module": "@jupyter-widgets/base",
            "top": null,
            "grid_column": null,
            "overflow_y": null,
            "overflow_x": null,
            "grid_auto_flow": null,
            "grid_area": null,
            "grid_template_columns": null,
            "flex": null,
            "_model_name": "LayoutModel",
            "justify_items": null,
            "grid_row": null,
            "max_height": null,
            "align_content": null,
            "visibility": null,
            "align_self": null,
            "height": null,
            "min_height": null,
            "padding": null,
            "grid_auto_rows": null,
            "grid_gap": null,
            "max_width": null,
            "order": null,
            "_view_module_version": "1.2.0",
            "grid_template_areas": null,
            "object_position": null,
            "object_fit": null,
            "grid_auto_columns": null,
            "margin": null,
            "display": null,
            "left": null
          }
        },
        "70b38f9dda22411aa04084a01aaea782": {
          "model_module": "@jupyter-widgets/controls",
          "model_name": "VBoxModel",
          "state": {
            "_view_name": "VBoxView",
            "_dom_classes": [
              "widget-interact"
            ],
            "_model_name": "VBoxModel",
            "_view_module": "@jupyter-widgets/controls",
            "_model_module_version": "1.5.0",
            "_view_count": null,
            "_view_module_version": "1.5.0",
            "box_style": "",
            "layout": "IPY_MODEL_fb45ec6ea3b047dba9d3ed7e568a925c",
            "_model_module": "@jupyter-widgets/controls",
            "children": [
              "IPY_MODEL_88d536153b6a4c1696f9c67af3ec90ef",
              "IPY_MODEL_bbc751bc2ea94315b8fc911450f1cf5f"
            ]
          }
        },
        "fb45ec6ea3b047dba9d3ed7e568a925c": {
          "model_module": "@jupyter-widgets/base",
          "model_name": "LayoutModel",
          "state": {
            "_view_name": "LayoutView",
            "grid_template_rows": null,
            "right": null,
            "justify_content": null,
            "_view_module": "@jupyter-widgets/base",
            "overflow": null,
            "_model_module_version": "1.2.0",
            "_view_count": null,
            "flex_flow": null,
            "width": null,
            "min_width": null,
            "border": null,
            "align_items": null,
            "bottom": null,
            "_model_module": "@jupyter-widgets/base",
            "top": null,
            "grid_column": null,
            "overflow_y": null,
            "overflow_x": null,
            "grid_auto_flow": null,
            "grid_area": null,
            "grid_template_columns": null,
            "flex": null,
            "_model_name": "LayoutModel",
            "justify_items": null,
            "grid_row": null,
            "max_height": null,
            "align_content": null,
            "visibility": null,
            "align_self": null,
            "height": null,
            "min_height": null,
            "padding": null,
            "grid_auto_rows": null,
            "grid_gap": null,
            "max_width": null,
            "order": null,
            "_view_module_version": "1.2.0",
            "grid_template_areas": null,
            "object_position": null,
            "object_fit": null,
            "grid_auto_columns": null,
            "margin": null,
            "display": null,
            "left": null
          }
        },
        "88d536153b6a4c1696f9c67af3ec90ef": {
          "model_module": "@jupyter-widgets/controls",
          "model_name": "IntSliderModel",
          "state": {
            "_view_name": "IntSliderView",
            "style": "IPY_MODEL_25b627567cf14cb0a19aefd641c68096",
            "_dom_classes": [],
            "description": "n",
            "step": 1,
            "_model_name": "IntSliderModel",
            "orientation": "horizontal",
            "max": 30,
            "_view_module": "@jupyter-widgets/controls",
            "_model_module_version": "1.5.0",
            "value": 4,
            "_view_count": null,
            "disabled": false,
            "_view_module_version": "1.5.0",
            "min": 4,
            "continuous_update": true,
            "readout_format": "d",
            "description_tooltip": null,
            "readout": true,
            "_model_module": "@jupyter-widgets/controls",
            "layout": "IPY_MODEL_fca8be1584d7429880d1d9dec4b0f09b"
          }
        },
        "bbc751bc2ea94315b8fc911450f1cf5f": {
          "model_module": "@jupyter-widgets/output",
          "model_name": "OutputModel",
          "state": {
            "_view_name": "OutputView",
            "msg_id": "",
            "_dom_classes": [],
            "_model_name": "OutputModel",
            "outputs": [
              {
                "output_type": "display_data",
                "metadata": {
                  "tags": [],
                  "needs_background": "light"
                },
                "image/png": "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\n",
                "text/plain": "<Figure size 432x288 with 1 Axes>"
              }
            ],
            "_view_module": "@jupyter-widgets/output",
            "_model_module_version": "1.0.0",
            "_view_count": null,
            "_view_module_version": "1.0.0",
            "layout": "IPY_MODEL_066a7fc7885e4a02a7e9c93d29a747ad",
            "_model_module": "@jupyter-widgets/output"
          }
        },
        "25b627567cf14cb0a19aefd641c68096": {
          "model_module": "@jupyter-widgets/controls",
          "model_name": "SliderStyleModel",
          "state": {
            "_view_name": "StyleView",
            "handle_color": null,
            "_model_name": "SliderStyleModel",
            "description_width": "",
            "_view_module": "@jupyter-widgets/base",
            "_model_module_version": "1.5.0",
            "_view_count": null,
            "_view_module_version": "1.2.0",
            "_model_module": "@jupyter-widgets/controls"
          }
        },
        "fca8be1584d7429880d1d9dec4b0f09b": {
          "model_module": "@jupyter-widgets/base",
          "model_name": "LayoutModel",
          "state": {
            "_view_name": "LayoutView",
            "grid_template_rows": null,
            "right": null,
            "justify_content": null,
            "_view_module": "@jupyter-widgets/base",
            "overflow": null,
            "_model_module_version": "1.2.0",
            "_view_count": null,
            "flex_flow": null,
            "width": null,
            "min_width": null,
            "border": null,
            "align_items": null,
            "bottom": null,
            "_model_module": "@jupyter-widgets/base",
            "top": null,
            "grid_column": null,
            "overflow_y": null,
            "overflow_x": null,
            "grid_auto_flow": null,
            "grid_area": null,
            "grid_template_columns": null,
            "flex": null,
            "_model_name": "LayoutModel",
            "justify_items": null,
            "grid_row": null,
            "max_height": null,
            "align_content": null,
            "visibility": null,
            "align_self": null,
            "height": null,
            "min_height": null,
            "padding": null,
            "grid_auto_rows": null,
            "grid_gap": null,
            "max_width": null,
            "order": null,
            "_view_module_version": "1.2.0",
            "grid_template_areas": null,
            "object_position": null,
            "object_fit": null,
            "grid_auto_columns": null,
            "margin": null,
            "display": null,
            "left": null
          }
        },
        "066a7fc7885e4a02a7e9c93d29a747ad": {
          "model_module": "@jupyter-widgets/base",
          "model_name": "LayoutModel",
          "state": {
            "_view_name": "LayoutView",
            "grid_template_rows": null,
            "right": null,
            "justify_content": null,
            "_view_module": "@jupyter-widgets/base",
            "overflow": null,
            "_model_module_version": "1.2.0",
            "_view_count": null,
            "flex_flow": null,
            "width": null,
            "min_width": null,
            "border": null,
            "align_items": null,
            "bottom": null,
            "_model_module": "@jupyter-widgets/base",
            "top": null,
            "grid_column": null,
            "overflow_y": null,
            "overflow_x": null,
            "grid_auto_flow": null,
            "grid_area": null,
            "grid_template_columns": null,
            "flex": null,
            "_model_name": "LayoutModel",
            "justify_items": null,
            "grid_row": null,
            "max_height": null,
            "align_content": null,
            "visibility": null,
            "align_self": null,
            "height": null,
            "min_height": null,
            "padding": null,
            "grid_auto_rows": null,
            "grid_gap": null,
            "max_width": null,
            "order": null,
            "_view_module_version": "1.2.0",
            "grid_template_areas": null,
            "object_position": null,
            "object_fit": null,
            "grid_auto_columns": null,
            "margin": null,
            "display": null,
            "left": null
          }
        }
      }
    }
  },
  "cells": [
    {
      "cell_type": "markdown",
      "metadata": {
        "id": "view-in-github",
        "colab_type": "text"
      },
      "source": [
        "<a href=\"https://colab.research.google.com/github/jugernaut/Numerico2021/blob/master/07_CuadraturaNumerica/01_IntegracionNumerica.ipynb\" target=\"_parent\"><img src=\"https://colab.research.google.com/assets/colab-badge.svg\" alt=\"Open In Colab\"/></a>"
      ]
    },
    {
      "cell_type": "markdown",
      "metadata": {
        "id": "ScSKHDcow79x"
      },
      "source": [
        "<font color=\"Teal\" face=\"Comic Sans MS,arial\">\n",
        "  <h1 align=\"center\"><i>Integral Numérica</i></h1>\n",
        "  </font>\n",
        "  <font color=\"Black\" face=\"Comic Sans MS,arial\">\n",
        "  <h5 align=\"center\"><i>Profesor: M.en.C. Miguel Angel Pérez León.</i></h5>\n",
        "    <h5 align=\"center\"><i>Ayudante: Jesús Iván Coss Calderón.</i></h5>\n",
        "  <h5 align=\"center\"><i>Materia: Análisis Numérico.</i></h5>\n",
        "  </font>"
      ]
    },
    {
      "cell_type": "markdown",
      "metadata": {
        "id": "cbG3g1S0w79y"
      },
      "source": [
        "# Introducción\n",
        "\n",
        "Muy frecuentemente es necesario evaluar la integral definida de una función $f\\left(x\\right)$ en un intervalo $\\left[a,b\\right]$. El objetivo de esta sección es encontrar métodos para aproximar la integral\n",
        "\n",
        "$$\\int_{a}^{b}f\\left(x\\right)dx$$\n",
        "\n",
        "Si se conoce a priori la **antiderivada** $F\\left(x\\right)$ entonces es evidente que podemos encontrar el valor exacto de la integral, aplicando el siguiente teorema\n"
      ]
    },
    {
      "cell_type": "markdown",
      "metadata": {
        "id": "LxClLbNDH-rL"
      },
      "source": [
        "## Teorema Fundamental de Cálculo\n",
        "\n",
        "Sea $f\\left(x\\right)$ integrable en el intervalo $\\left[a,b\\right]$ y $F'\\left(x\\right)=f\\left(x\\right)$ entonces,$\\int_{a}^{b}f\\left(x\\right)dx=F\\left(a\\right)-F\\left(b\\right)$\n",
        "\n",
        "\n",
        "Sin embargo como en otras partes del curso, a veces encontrar a $F$ es muy complicado, de tal manera que la mejor opción es encontrar una aproximación del valor exacto de.\n",
        "\n",
        "$$\\int_{a}^{b}f\\left(x\\right)dx$$\n",
        "\n",
        "La forma básica para encontrar una aproximación de $\\int_{a}^{b}f\\left(x\\right)dx$, se conoce como **cuadratura numérica** y emplea una suma del tipo.\n",
        "\n",
        "$$\\sum_{i=0}^{n}a_{i}f\\left(x_{i}\\right)$$\n",
        "\n",
        "Existen diferentes aproximaciones de la integral de $f\\left(x\\right)$ mediante cuadratura numérica, en esta sección revisaremos algunas de las mas comunes."
      ]
    },
    {
      "cell_type": "markdown",
      "metadata": {
        "id": "QNpXtFzFw79z"
      },
      "source": [
        "# Cuadratura Numérica\n",
        "\n",
        "Los métodos de integración numérica se basan en los polinomios de Lagrange visto en secciones previas. La idea básica es que seleccionamos un conjunto de nodos distintos $x_{0},\\ldots,x_{n}$ del intervalo $ \\left[a,b\\right]$. Después se integra el polinomio de Lagrange\n",
        "\n",
        "$$P_{n}\\left(x\\right)=\\sum_{i=0}^{n}f\\left(x_{i}\\right)L_{i}\\left(x\\right)$$\n",
        "\n",
        "Y también se integra el termino de error de truncamiento en $\\left[a,b\\right]$\n",
        "\n",
        "$$\\prod_{i=0}^{n}\\left(x-x_{i}\\right)\\frac{f^{\\left(n+1\\right)}\\left(\\xi\\left(x\\right)\\right)}{\\left(n+1\\right)!}dx$$\n",
        "\n",
        "De tal manera que obtenemos\n",
        "\n",
        "$$ \\int_{a}^{b}f\\left(x\\right)dx=\\int_{a}^{b}\\sum_{i=0}^{n}f\\left(x_{i}\\right)L_{i}\\left(x\\right)dx+\\int_{a}^{b}\\prod_{i=0}^{n}\\left(x-x_{i}\\right)\\frac{f^{\\left(n+1\\right)}\\left(\\xi\\left(x\\right)\\right)}{\\left(n+1\\right)!}dx\\\\=\\sum_{i=0}^{n}a_{i}f\\left(x_{i}\\right)+\\frac{1}{\\left(n+1\\right)!}\\int_{a}^{b}\\prod_{i=0}^{n}\\left(x-x_{i}\\right)f^{\\left(n+1\\right)}\\left(\\xi\\left(x\\right)\\right)dx $$\n",
        "\n",
        "Donde $\\xi\\left(x\\right)$ se encuentra en $\\left[a,b\\right]$ para cada $x$ y\n",
        "\n",
        "$$a_{i}=\\int_{a}^{b}L_{i}\\left(x\\right)dx,\\quad para\\,cada\\,i=0,1,\\ldots,n$$\n",
        "\n",
        "Por lo tanto, la formula de la cuadratura es\n",
        "\n",
        "$$\\int_{a}^{b}f\\left(x\\right)dx=\\sum_{i=0}^{n}a_{i}f\\left(x_{i}\\right) \\tag{1}$$\n",
        "\n",
        "Con un error dado por\n",
        "\n",
        "$$E\\left(f\\right)=\\frac{1}{\\left(n+1\\right)!}\\int_{a}^{b}\\prod_{i=0}^{n}\\left(x-x_{i}\\right)f^{\\left(n+1\\right)}\\left(\\xi\\left(x\\right)\\right)dx$$\n",
        "\n",
        "De la misma manera que en otros temas vistos en el curso, la aproximación sera mas exacta si subdividimos el intervalo $\\left[a,b\\right]$ en tantos subintervalos como sea necesario, es decir\n",
        "\n",
        "Sea\n",
        "\n",
        "$$\\left[a,b\\right]=\\left[a,x_{1}\\right]\\cup\\left[x_{1},x_{2}\\right]\\cup\\cdots\\cup\\left[x_{n-2},x_{n-1}\\right]\\cup\\left[x_{n-1},b\\right]$$\n",
        "\n",
        "Donde\n",
        "\n",
        "$$x_{k}=a+\\frac{b-a}{n}k,\\quad n=0,1,2,\\ldots,n,\\quad x_{0}=a,\\,x_{n}=b$$\n",
        "\n",
        "\n",
        "Tendremos\n",
        "\n",
        "$$\\int_{a}^{b}f\\left(x\\right)dx=\\int_{a}^{x_{1}}f\\left(x\\right)dx+\\cdots+\\int_{x_{k}}^{x_{k+1}}f\\left(x\\right)dx+\\cdots+\\int_{x_{n-1}}^{b}f\\left(x\\right)dx \\tag{2} $$\n",
        "\n",
        "Observación, todos los nodos son igualmente espaciados.\n",
        "\n"
      ]
    },
    {
      "cell_type": "markdown",
      "metadata": {
        "id": "xRjpaWQHTd9k"
      },
      "source": [
        "### Cuadratura del rectángulo\r\n",
        "\r\n",
        "La forma de cuadratura mas simple es la que emplea rectángulos de base $\\left(b-a\\right)$ y altura $f\\left(a\\right)$\r\n",
        "\r\n",
        "$$\\int_{a}^{b}f\\left(x\\right)dx=\\left(b-a\\right)f\\left(a\\right)+E\\left(f\\right) \\tag{3}$$\r\n",
        "\r\n",
        "Combinando $(1)$ y $(3)$, se obtiene la forma general de la cuadratura mediante rectángulos\r\n",
        "\r\n",
        "$$\\int_{a}^{b}f\\left(x\\right)dx=\\frac{b-a}{n}\\sum_{i=0}^{n-1}f\\left(x_{i}\\right)+E\\left(f\\right)$$\r\n",
        "\r\n"
      ]
    },
    {
      "cell_type": "code",
      "metadata": {
        "id": "xoCX7k-_w790",
        "colab": {
          "base_uri": "https://localhost:8080/",
          "height": 361,
          "referenced_widgets": [
            "163e33799e5849d99322afd30cbbbffc",
            "6b4d5a77697c4c288382a483102b9a54",
            "25109e4486bf4b75abec485eaab62582",
            "7f2d99f85c2d4f41a5222c0aaa3c5947",
            "f7ca8ab1c9be40f39bdc2ad4be0da01e",
            "19c9f3d5d8a1470dba6836fe6a571eda",
            "51c74129070744b6bd5ebf55708214d6"
          ]
        },
        "outputId": "30c51abc-f8ac-4237-f752-6c7801231241"
      },
      "source": [
        "# import de las bibliotecas necesarias\n",
        "import numpy as np\n",
        "from IPython.html.widgets import interact\n",
        "import ipywidgets as widgets\n",
        "import matplotlib.pyplot as plt\n",
        "\n",
        "# funcion que define la cuadratura mediante rectangulos\n",
        "# cantidad de puntos que usaran en la cuadratura\n",
        "def Rectangulo(n): \n",
        "    # a punto inicial del intervalo  \n",
        "    a=0\n",
        "    # b punto final del intervalo\n",
        "    b=1\n",
        "    # f funcion a integrar **\n",
        "    #def f(x):\n",
        "        #return x*x\n",
        "    # f funcion a integrar\n",
        "    f = lambda x: x*x\n",
        "    \n",
        "    # para grficar f(x)\n",
        "    xp=np.linspace(a,b,30)\n",
        "    fp=f(xp)\n",
        "    plt.plot(xp,fp,color='black')\n",
        "    \n",
        "    # discretizacion para la cuadratura\n",
        "    x=np.linspace(a,b,n+1)\n",
        "    fx=[ f(x[i]) for i in range(len(x))]\n",
        "    plt.bar(x,fx,width=(-(b-a)/n),color='orange', align='edge')\n",
        "    plt.title(\"Aproximacion de la integral con el metodo de la cuadratura del rectangulo\")\n",
        "    plt.xlabel(\"x\")\n",
        "    plt.ylabel(r\"$f \\left(x\\right) = x^{2}$\")\n",
        "    plt.grid()\n",
        "\n",
        "    # aproximacion mediante la cuadratura del rectangulo\n",
        "    cuadratura=0.0\n",
        "    for i in range (len(x)):\n",
        "        cuadratura+=f(x[i])\n",
        "    # valor aproximado    \n",
        "    integral=((b-a)/n)*cuadratura\n",
        "\n",
        "    print(\"el valor de la integral mediante el metodo de cuadratura del rectangulo es: {}\".format(integral)) \n",
        "\n",
        "interact(Rectangulo,n=widgets.IntSlider(min=1,max=30,step=1,value=1))"
      ],
      "execution_count": null,
      "outputs": [
        {
          "output_type": "display_data",
          "data": {
            "application/vnd.jupyter.widget-view+json": {
              "model_id": "163e33799e5849d99322afd30cbbbffc",
              "version_minor": 0,
              "version_major": 2
            },
            "text/plain": [
              "interactive(children=(IntSlider(value=1, description='n', max=30, min=1), Output()), _dom_classes=('widget-int…"
            ]
          },
          "metadata": {
            "tags": []
          }
        },
        {
          "output_type": "execute_result",
          "data": {
            "text/plain": [
              "<function __main__.Rectangulo>"
            ]
          },
          "metadata": {
            "tags": []
          },
          "execution_count": 4
        }
      ]
    },
    {
      "cell_type": "markdown",
      "metadata": {
        "id": "NM8gZ8Dqw794"
      },
      "source": [
        "### Cuadratura del punto medio\n",
        "\n",
        "Una aproximación de la integral $\\int_{a}^{b}f\\left(x\\right)dx$ consiste en aproximar el área bajo la curva $y=f\\left(x\\right)$ por un rectángulo de base $b-a$ y altura $f\\left(\\frac{a+b}{2}\\right)$, entonces\n",
        "\n",
        "$$\\int_{a}^{b}f\\left(x\\right)dx=\\left(b-a\\right)f\\left(\\frac{a+b}{2}\\right)+E\\left(f\\right) \\tag{4} $$\n",
        "\n",
        "Donde $E\\left(f\\right)$, si $f$ tiene primera y segunda derivada continuas en $\\left[a,b\\right]$, se expresa así\n",
        "\n",
        "$$E\\left(f\\right)=\\frac{\\left(b-a\\right)^{2}}{24}f''\\left(\\xi\\right)\\quad\\xi\\in\\left[a,b\\right]$$\n",
        "\n",
        "Combinando $(1)$ y $(4)$, se obtiene la forma general de la cuadratura del punto medio\n",
        "\n",
        "$$\\int_{a}^{b}f\\left(x\\right)dx=\\frac{b-a}{n}\\sum_{i=0}^{n-1}f\\left(\\frac{x_{i}+x_{i+1}}{2}\\right)+E\\left(f\\right)$$\n",
        "\n"
      ]
    },
    {
      "cell_type": "code",
      "metadata": {
        "id": "OZOU5EaVw796",
        "colab": {
          "base_uri": "https://localhost:8080/",
          "height": 361,
          "referenced_widgets": [
            "2234ba894bd147e58725a0deae8257e4",
            "0cef37b6436e45aea0db5c6615b5c57d",
            "787b21bfa327453ba418a65ed61e45e7",
            "72a283411faa4b8289224da1745b8402",
            "915fdd346cb148c4822acbafba780c06",
            "fdc73b93ac6640cd9df4d407ea344d46",
            "e274d8cf49a9451ca821c4d9ceecbe6c"
          ]
        },
        "outputId": "d7b0ee64-8abb-460f-faa1-1fd53f1eb200"
      },
      "source": [
        "def PuntoMedio(n):\n",
        "    # a punto inicial del intervalo  \n",
        "    a=0\n",
        "    # b punto final del intervalo\n",
        "    b=1\n",
        "    # f funcion a integrar **\n",
        "    #def f(x):\n",
        "        #return x*x\n",
        "    # f funcion a integrar\n",
        "    f = lambda x: x*x\n",
        "    \n",
        "    # para grficar f(x)\n",
        "    xp=np.linspace(a,b,30)\n",
        "    fp=f(xp)\n",
        "    plt.plot(xp,fp,color='black')\n",
        "    \n",
        "    # discretizacion para la cuadratura\n",
        "    x=np.linspace(a,b,n+1)\n",
        "    am = a+(float(a)/2)\n",
        "    bm = b+(float(b)/2)\n",
        "    fx=[ f(x[i]) for i in range(len(x))]\n",
        "    plt.bar(x,fx,width=((bm-am)/n),color='orange')\n",
        "    plt.title(\"Aproximacion de la integral con el metodo de la cuadratura del punto medio\")\n",
        "    plt.xlabel(\"x\")\n",
        "    plt.ylabel(r\"$f \\left(x\\right) = x^{2}$\")\n",
        "    plt.grid()\n",
        "\n",
        "    # aproximacion mediante la cuadratura del punto medio\n",
        "    cuadratura=0.0\n",
        "    for i in range (len(x)-1):\n",
        "        cuadratura+=f( (x[i]+x[i+1])/2 )\n",
        "    # valor aproximado     \n",
        "    integral=((b-a)/n)*cuadratura\n",
        "    \n",
        "    print(\"el valor de la integral mediante el metodo de cuadratura del punto medio es: {}\".format(integral)) \n",
        "\n",
        "interact(PuntoMedio,n=widgets.IntSlider(min=1,max=30,step=1,value=1))"
      ],
      "execution_count": null,
      "outputs": [
        {
          "output_type": "display_data",
          "data": {
            "application/vnd.jupyter.widget-view+json": {
              "model_id": "2234ba894bd147e58725a0deae8257e4",
              "version_minor": 0,
              "version_major": 2
            },
            "text/plain": [
              "interactive(children=(IntSlider(value=1, description='n', max=30, min=1), Output()), _dom_classes=('widget-int…"
            ]
          },
          "metadata": {
            "tags": []
          }
        },
        {
          "output_type": "execute_result",
          "data": {
            "text/plain": [
              "<function __main__.PuntoMedio>"
            ]
          },
          "metadata": {
            "tags": []
          },
          "execution_count": 7
        }
      ]
    },
    {
      "cell_type": "markdown",
      "metadata": {
        "id": "nE9yuzw9w79_"
      },
      "source": [
        "### 2.3.  Cuadratura del trapecio.\n",
        "\n",
        "Para derivar la regla del trapecio para aproximar $\\int_{a}^{b}f\\left(x\\right)dx$, tomemos $x_{0}=a,\\,x_{1}=b,\\,h=b-a$ y calculando el polinomio lineal de Lagrange\n",
        "\n",
        "$$P\\left(x\\right)=\\left(\\frac{x-x_{1}}{x_{0}-x_{1}}\\right)f(x_{0})+\\left(\\frac{x-x_{0}}{x_{1}-x_{0}}\\right)f(x_{1})$$\n",
        "\n",
        "Al integrar este polinomio se tiene\n",
        "\n",
        "$$\\int_{a}^{b}f\\left(x\\right)dx=\\int_{x_{0}}^{x_{1}}\\left[\\left(\\frac{x-x_{1}}{x_{0}-x_{1}}\\right)f(x_{0})+\\left(\\frac{x-x_{0}}{x_{1}-x_{0}}\\right)f(x_{1})\\right]dx\\\\+\\frac{1}{2}\\int_{x_{0}}^{x_{1}}f''\\left(\\xi\\left(x\\right)\\right)\\left(x-x_{0}\\right)\\left(x-x_{1}\\right)dx$$\n",
        "\n",
        "Donde la integral del error es $-\\frac{h^{3}}{6}f''\\left(\\xi\\right)$, lo que nos lleva a la forma general de la cuadratura del trapecio\n",
        "\n",
        "$$\\int_{a}^{b}f\\left(x\\right)dx=\\left[\\frac{x-x_{1}}{2\\left(x_{0}-x_{1}\\right)}f(x_{0})+\\frac{x-x_{0}}{2\\left(x_{1}-x_{0}\\right)}f(x_{1})\\right]_{x_{0}}^{x_{1}}-\\frac{h^{3}}{12}f''\\left(\\xi\\right)\\\\=\\frac{\\left(x_{1}-x_{0}\\right)}{2}\\left[f\\left(x_{0}\\right)+f\\left(x_{1}\\right)\\right]-\\frac{h^{3}}{12}f''\\left(\\xi\\right) $$\n",
        "\n",
        "Tomando en cuenta que $h=x_{1}-x_{0}$, obtenemos la forma general de la cuadratura del trapecio\n",
        "\n",
        "$$\\int_{a}^{b}f\\left(x\\right)dx=\\frac{h}{2}\\left[f\\left(x_{0}\\right)+f\\left(x_{1}\\right)\\right]-\\frac{h^{3}}{12}f''\\left(\\xi\\right)$$\n",
        "\n"
      ]
    },
    {
      "cell_type": "markdown",
      "metadata": {
        "id": "RzIphI3qT1fk"
      },
      "source": [
        "#### codigo en python"
      ]
    },
    {
      "cell_type": "code",
      "metadata": {
        "id": "sFvxeX94w79_",
        "colab": {
          "base_uri": "https://localhost:8080/"
        },
        "outputId": "b02bdbdc-b02d-48b9-f041-5ed137fab9b7"
      },
      "source": [
        "def Trapecio():\n",
        "    # a punto inicial del intervalo \n",
        "    # b punto final del intervalo \n",
        "    # f funcion a integrar\n",
        "    a=0\n",
        "    b=1\n",
        "    def f(x):\n",
        "        return x*x\n",
        "    \n",
        "    integral=((b-a)/2)*(f(a)+f(b))\n",
        "    print(\"el valor de la integral mediante el metodo de cuadratura del Trapecio: {}\".format(integral))\n",
        "\n",
        "Trapecio()"
      ],
      "execution_count": null,
      "outputs": [
        {
          "output_type": "stream",
          "text": [
            "el valor de la integral mediante el metodo de cuadratura del Trapecio: 0.5\n"
          ],
          "name": "stdout"
        }
      ]
    },
    {
      "cell_type": "markdown",
      "metadata": {
        "id": "f1IO7V-qw7-D"
      },
      "source": [
        "### 2.3.  Cuadratura del trapecio compuesto.\n",
        "\n",
        "Sean los nodos $a=x_{0}<x_{1}<\\cdots<x_{n}=b$ con $h_{i}=x_{i+1}-x_{i}$ y lo que se busca es aproximar el valor de $\\int_{a}^{b}f\\left(x\\right)dx$. Ademas aprovechamos el hecho de que \n",
        "\n",
        "$$\\int_{a}^{b}f\\left(x\\right)dx\t=\t\\int_{a}^{c}f\\left(x\\right)dx+\\int_{c}^{b}f\\left(x\\right)dx$$\n",
        "\n",
        "Integrando sobre los subintervalos $\\left[x_{i},x_{i+1}\\right]$, para $i=0,\\ldots,n-1$ y aplicando la regla del trapecio simple, se obtiene\n",
        "\n",
        "$$\\int_{a}^{b}f\\left(x\\right)dx=\\sum_{i=0}^{n-1}\\int_{x_{i}}^{x_{i+1}}f\\left(x\\right)=\\sum_{i=0}^{n-1}\\frac{h_{i}}{2}\\left[f\\left(x_{i}\\right)+f\\left(x_{i+1}\\right)\\right]-\\sum_{i=0}^{n-1}\\frac{h_{i}^{3}}{12}f''\\left(\\xi_{i}\\right),\\quad\\xi_{i}\\in\\left(x_{i+1},x_{i}\\right) $$\n",
        "\n",
        "Si consideramos $h=h_{i}$ para $i=0,\\ldots,n-1$ y $f''\\left(x\\right)$ continua, entonces obtenemos el error total\n",
        "\n",
        "$$E_{T}=-\\frac{h^{3}}{12}\\sum_{i=0}^{n-1}f''\\left(\\xi_{i}\\right)=-\\frac{h^{3}}{12}nf''\\left(\\xi\\right)=-\\frac{h^{2}}{12}nhf''\\left(\\xi\\right)$$\n",
        "\n",
        "Donde $\\xi\\in\\left(x_{0},x_{n}\\right)$ y $h=\\frac{x_{n}-x_{0}}{n}$ entonces $E_{T}=-\\frac{h^{2}}{12}\\left(x_{n}-x_{0}\\right)f''\\left(\\xi\\right)$, es decir\n",
        "\n",
        "$$ \\int_{a}^{b}f\\left(x\\right)dx=\\frac{h}{2}\\left[f\\left(x_{0}\\right)+2f\\left(x_{1}\\right)+\\cdots+2f\\left(x_{n-1}\\right)+f\\left(x_{n}\\right)\\right]-\\frac{h^{2}}{12}\\left(x_{n}-x_{0}\\right)f''\\left(\\xi\\right)$$\n",
        "\n",
        "Así que\n",
        "\n",
        "$$\\int_{a}^{b}f\\left(x\\right)dx=\\frac{h}{2}\\left[f\\left(a\\right)+2\\sum_{i=1}^{n-1}f\\left(x_{i}\\right)+f\\left(b\\right)\\right]-\\frac{b-a}{12}h^{2}f''\\left(\\xi\\right)$$\n",
        "\n",
        "Es la forma general de la cuadratura del trapecio compuesto.\n",
        "\n"
      ]
    },
    {
      "cell_type": "markdown",
      "metadata": {
        "id": "IH39JtCyT_Ur"
      },
      "source": [
        "#### codigo en python"
      ]
    },
    {
      "cell_type": "code",
      "metadata": {
        "id": "LWgI2-zkw7-E",
        "colab": {
          "base_uri": "https://localhost:8080/",
          "height": 361,
          "referenced_widgets": [
            "664fc4856efc40978ca8854e25489fcc",
            "9c4c6c1f65db4c8d93173ab6c5331ad4",
            "245a38f082aa445bbd1fcb100c0c99e6",
            "40f325f9582d48d1947ea36017bb203e",
            "d0694d768b374205854ef0269278eec5",
            "4f75ba6da9914e0daa6c22db378b3280",
            "485a9f8e6ee147369025a2173c4208c3"
          ]
        },
        "outputId": "15bcda30-719c-4a2a-951b-3e8b9591f39d"
      },
      "source": [
        "def TrapComp(n):\n",
        "    # a punto inicial del intervalo \n",
        "    # b punto final del intervalo \n",
        "    # f funcion a integrar\n",
        "    # n los puntos que se usaran para integrar \n",
        "    a=0\n",
        "    b=1\n",
        "    def f(x):\n",
        "        return x*x\n",
        "    \n",
        "    xp=np.linspace(a,b,30)\n",
        "    fp=f(xp)\n",
        "    \n",
        "    x=np.linspace(a,b,n+1) # se crea la particion\n",
        "    fx=[ f(x[i]) for i in range(len (x))]\n",
        "    plt.bar(x,fx,width=((b-a)/n),color='orange')\n",
        "    plt.plot(xp,fp,color='black')\n",
        "    plt.title(\"Aproximacion de la integral con el metodo del Trapecio compuesto\")\n",
        "    plt.xlabel(\"x\")\n",
        "    plt.ylabel(r\"$f \\left(x\\right) = x^{2}$\")\n",
        "    plt.grid()\n",
        "\n",
        "    cuadratura=0.0\n",
        "    for i in range (1,len(x)-1):\n",
        "        cuadratura+=f( x[i])\n",
        "\n",
        "    integral=((b-a)/(2*n))*(2*cuadratura+f(a)+f(b))\n",
        "    \n",
        "    print(\"el valor de la integral mediante el metodo de cuadratura del  Trapecio Compuesto es: {}\".format(integral)) \n",
        "\n",
        "interact(TrapComp,n=widgets.IntSlider(min=1,max=30,step=1,value=1))"
      ],
      "execution_count": null,
      "outputs": [
        {
          "output_type": "display_data",
          "data": {
            "application/vnd.jupyter.widget-view+json": {
              "model_id": "664fc4856efc40978ca8854e25489fcc",
              "version_minor": 0,
              "version_major": 2
            },
            "text/plain": [
              "interactive(children=(IntSlider(value=1, description='n', max=30, min=1), Output()), _dom_classes=('widget-int…"
            ]
          },
          "metadata": {
            "tags": []
          }
        },
        {
          "output_type": "execute_result",
          "data": {
            "text/plain": [
              "<function __main__.TrapComp>"
            ]
          },
          "metadata": {
            "tags": []
          },
          "execution_count": 70
        }
      ]
    },
    {
      "cell_type": "markdown",
      "metadata": {
        "id": "sjL0EQ79w7-J"
      },
      "source": [
        "### 2.4.  Cuadratura de Simpson $\\frac{1}{3}$\n",
        "\n",
        "Se obtiene al integrar en $\\left[a,b\\right]$ el segundo polinomio de Lagrange con los nodos $x_{0}=a,\\,x_{1}=a+h\\,y\\,x_{2}=b$ donde $h=\\frac{b-a}{2}$\n",
        "\n",
        "$$\\int_{a}^{b}f\\left(x\\right)dx=\\int_{x_{0}}^{x_{2}}\\left[\\frac{\\left(x-x_{1}\\right)\\left(x-x_{2}\\right)}{\\left(x_{0}-x_{1}\\right)\\left(x_{0}-x_{2}\\right)}f(x_{0})+\\frac{\\left(x-x_{0}\\right)\\left(x-x_{2}\\right)}{\\left(x_{1}-x_{0}\\right)\\left(x_{1}-x_{2}\\right)}f(x_{1})\\right]\\\\+\\int_{x_{0}}^{x_{2}}\\left[\\frac{\\left(x-x_{0}\\right)\\left(x-x_{1}\\right)}{\\left(x_{2}-x_{0}\\right)\\left(x_{2}-x_{1}\\right)}f(x_{2})\\right]\\\\+\\frac{1}{6}\\int_{x_{0}}^{x_{2}}f'''\\left(\\xi\\left(x\\right)\\right)\\left(x-x_{0}\\right)\\left(x-x_{1}\\right)\\left(x-x_{2}\\right)dx $$\n",
        "\n",
        "Sin embargo, al deducir la regla de Simpson de esta manera, unicamente se obtiene un término de error $O\\left(h^{4}\\right)$ que contiene a $f^{\\left(3\\right)}$. Pero si construimos la regla de otra forma, podemos deducir un termino de orden superior que incluya a $f^{\\left(4\\right)}$\n",
        "\n",
        "Supongamos que $f$ se expande mediante el tercer polinomio de Taylor alrededor de $x_{1}$. Entonces, para cada $x$ en $\\left[x_{0},x_{2}\\right]$, existe un número $\\xi\\left(x\\right)\\in\\left(x_{0},x_{2}\\right)$ con\n",
        "\n",
        "$$f\\left(x\\right)=f\\left(x_{1}\\right)+f'\\left(x_{1}\\right)\\left(x-x_{1}\\right)+\\frac{f''\\left(x_{1}\\right)\\left(x-x_{1}\\right)^{2}}{2!}\\\\+\\frac{f'''\\left(x_{1}\\right)\\left(x-x_{1}\\right)^{3}}{3!}+\\frac{f^{\\left(4\\right)}\\left(\\xi\\left(x\\right)\\right)\\left(x-x_{1}\\right)^{4}}{4!}$$\n",
        "\n",
        "Si $h=\\left(x-x_{1}\\right)$ y \n",
        "\n",
        "$$\\int_{x_{0}}^{x_{2}}f\\left(x\\right)dx=\\left[f\\left(x_{1}\\right)h+\\frac{f'\\left(x_{1}\\right)h^{2}}{2!}+\\frac{f''\\left(x_{1}\\right)h^{3}}{3!}+\\frac{f^{\\left(3\\right)}\\left(x_{1}\\right)h^{4}}{4!}\\right]_{x_{0}}^{x_{2}}+\\frac{1}{24}\\int_{x_{0}}^{x_{2}}f^{\\left(4\\right)}\\left(\\xi\\left(x\\right)\\right)h^{4}dx \\tag{5}$$\n",
        "\n",
        "Puesto que $\\left(x-x_{1}\\right)^{4}$ nunca es negativo en $\\left[x_{0},x_{2}\\right]$ y por el Teorema del Valor Medio ponderado, entonces\n",
        "\n",
        "$$\\frac{1}{24}\\int_{x_{0}}^{x_{2}}f^{\\left(4\\right)}\\left(\\xi\\left(x\\right)\\right)h^{4}dx=\\frac{f^{\\left(4\\right)}\\left(\\xi_{1}\\right)h^{4}}{24}\\int_{x_{0}}^{x_{2}}h^{4}dx=\\frac{f^{\\left(4\\right)}\\left(\\xi_{1}\\right)}{120}h^{5}\\mid_{x_{0}}^{x2}$$\n",
        "\n",
        "Para algún número $\\xi_{1}\\in\\left(x_{0},x_{2}\\right)$. Pero por otro lado $h=x_{2}-x_{1}=x_{1}-x_{0}$, así que\n",
        "\n",
        "$$\\left(x_{2}-x_{1}\\right)^{2}-\\left(x_{1}-x_{0}\\right)^{2}=\\left(x_{2}-x_{1}\\right)^{4}-\\left(x_{1}-x_{0}\\right)^{4}=0 $$\n",
        "\n",
        "Mientras que\n",
        "\n",
        "$$\\left(x_{2}-x_{1}\\right)^{3}-\\left(x_{1}-x_{0}\\right)^{3}=2h^{3}\\,y\\,\\left(x_{2}-x_{1}\\right)^{5}-\\left(x_{1}-x_{0}\\right)^{5}=2h^{5}$$\n",
        "\n",
        "Así que (5), se puede reescribir así\n",
        "\n",
        "Pero si ahora reemplazamos $f''\\left(x_{1}\\right)$ por su aproximación en diferencias finitas, se tiene\n",
        "\n",
        "$$\\int_{x_{0}}^{x_{2}}f\\left(x\\right)dx=2hf\\left(x_{1}\\right)+\\frac{h^{3}}{3}\\left\\{ \\frac{1}{h^{2}}\\left[f\\left(x_{0}\\right)-2f\\left(x_{1}\\right)+f\\left(x_{2}\\right)\\right]-\\frac{h^{2}}{12}f^{\\left(4\\right)}\\left(\\xi_{2}\\right)\\right\\} \\\\+\\frac{f^{\\left(4\\right)}\\left(\\xi_{1}\\right)h^{5}}{60}\\\\=\\frac{h}{3}\\left[f\\left(x_{0}\\right)+4f\\left(x_{1}\\right)+f\\left(x_{2}\\right)\\right]-\\frac{h^{5}}{12}\\left[\\frac{1}{3}f^{\\left(4\\right)}\\left(\\xi_{2}\\right)-\\frac{1}{5}f^{\\left(4\\right)}\\left(\\xi_{1}\\right)\\right] $$\n",
        "\n",
        "Así tenemos que\n",
        "\n",
        "$$\\int_{x_{0}}^{x_{2}}f\\left(x\\right)dx=\\frac{h}{3}\\left[f\\left(x_{0}\\right)+4f\\left(x_{1}\\right)+f\\left(x_{2}\\right)\\right]-\\frac{h^{5}}{90}f^{\\left(4\\right)}\\left(\\xi_{1}\\right)$$\n",
        "\n",
        "Es la forma general de la regla de Simpson $\\frac{1}{3}$\n",
        "\n",
        "$\\color{green}{Ejemplo}$. La regla del trapecio para una función f en el intervalo $\\left[0,2\\right]$ es \n",
        "\n",
        "$$\\int_{0}^{2}f\\left(x\\right)dx\\approx f\\left(0\\right)+f\\left(2\\right)$$\n",
        "\n",
        "y la regla de Simpson para $f$ en $\\left[0,2\\right]$ es\n",
        "\n",
        "$$\\int_{0}^{2}f\\left(x\\right)dx\\approx\\frac{1}{3}\\left[f\\left(0\\right)+4f\\left(1\\right)+f\\left(2\\right)\\right] $$\n",
        "\n",
        "Calcular las correspondientes aproximaciones para\n",
        "\n",
        "$$x^{2},x^{4},\\frac{1}{\\left(x+1\\right)},\\,\\sqrt{1+x^{2}},\\,sen\\,x,\\,e^{x}$$\n",
        "\n",
        "Notar como en todos los casos, la regla de Simpson, proporciona una mejor aproximación.\n",
        "\n",
        "| $f\\left(x\\right)$        | $x^{2}$ |  $x^{4}$ | $\\frac{1}{x+1}$|$\\sqrt{1+x^{2}}$ |sin x |$e^{x}$ |\n",
        "| :-:  | :-: | :-: |  :-: | :-:  |   :-: |   :-: | \n",
        "| Valores exactos  | 2.667 |6.400 |1.099 |2.958 |1.416 |6.389 |\n",
        "| Trapecio | 4.00\t|16.00\t|1.333|\t3.326|\t0.909|\t8.389|\n",
        "| Simpson\t|2.667|\t6.667|\t1.111|\t2.964|\t1.425|\t6.421|\n",
        "\n"
      ]
    },
    {
      "cell_type": "markdown",
      "metadata": {
        "id": "7C9JCjtkUGcO"
      },
      "source": [
        "#### codigo en python"
      ]
    },
    {
      "cell_type": "code",
      "metadata": {
        "id": "VPf_wwHmw7-K",
        "outputId": "298b1787-fe94-4360-81fe-a2e366ffcb7a"
      },
      "source": [
        "def Simpson1_3():\n",
        "    # x0 punto inicial del intervalo \n",
        "    # x2 punto final del intervalo \n",
        "    # f funcion a integrar\n",
        "    x0=0\n",
        "    x2=1\n",
        "    h=(x2-x0)/2\n",
        "    x1=x0+h\n",
        "    def f(x):\n",
        "        return x*x\n",
        "        \n",
        "    integral=(h/3)*(f(x0)+4*f(x1)+f(x2))\n",
        "    \n",
        "    print(\"el valor de la integral mediante el metodo de cuadratura del  Trapecio Compuesto es: {}\".format(integral)) \n",
        "\n",
        "Simpson1_3()"
      ],
      "execution_count": null,
      "outputs": [
        {
          "output_type": "stream",
          "text": [
            "el valor de la integral mediante el metodo de cuadratura del  Trapecio Compuesto es: 0.3333333333333333\n"
          ],
          "name": "stdout"
        }
      ]
    },
    {
      "cell_type": "markdown",
      "metadata": {
        "id": "nWIDZP_Yw7-P"
      },
      "source": [
        "### 2.5.  Cuadratura de Simpson $\\frac{3}{8}$\n",
        "\n",
        "Esta regla se obtiene al integra el tercer polinomio de Lagrange en $\\left[a,b\\right]$ tomando los nodos $x_{0}=a,\\,x_{1}=a+h,\\,x_{2}=a+2h,\\,y\\,x_{3}=b$ donde $h=\\frac{b-a}{3}$\n",
        "\n",
        "es decir\n",
        "\n",
        "$$\\int_{a}^{b}f\\left(x\\right)dx\\approx\\int_{a}^{b}P_{3}\\left(x\\right)dx=\\frac{3h}{8} \\left[f\\left(x_{0}\\right)+3f\\left(x_{1}\\right)+3f\\left(x_{2}\\right)+f\\left(x_{3}\\right)\\right]$$\n",
        "\n",
        "Es importante notar que esta regla es una suma ponderada de los valores de $f\\left(x\\right)$ en los dos puntos finales $x_{0}=a$ y $x_{3}=b$, y los dos puntos $x_{1},x_{2}$ divide el intervalo en tres partes iguales.\n",
        "\n"
      ]
    },
    {
      "cell_type": "markdown",
      "metadata": {
        "id": "pgA_9TBMUJWe"
      },
      "source": [
        "#### codigo en python"
      ]
    },
    {
      "cell_type": "code",
      "metadata": {
        "id": "bbLbHny9w7-Q",
        "outputId": "520d7c21-e6b7-49d2-878c-9e3ff7765e1f"
      },
      "source": [
        "def Simpson3_8():\n",
        "    # x0 punto inicial del intervalo \n",
        "    # x3 punto final del intervalo \n",
        "    # f funcion a integrar\n",
        "    x0=0\n",
        "    x3=1\n",
        "    h=(x3-x0)/3\n",
        "    x1=x0+h\n",
        "    x2=x0+2*h\n",
        "    def f(x):\n",
        "        return x*x\n",
        "        \n",
        "    integral=(3/8)*h*(f(x0)+3*f(x1)+3*f(x2)+f(x3))\n",
        "    \n",
        "    print(\"el valor de la integral mediante el metodo de cuadratura del  Trapecio Compuesto es: {}\".format(integral)) \n",
        "\n",
        "Simpson3_8()"
      ],
      "execution_count": null,
      "outputs": [
        {
          "output_type": "stream",
          "text": [
            "el valor de la integral mediante el metodo de cuadratura del  Trapecio Compuesto es: 0.3333333333333333\n"
          ],
          "name": "stdout"
        }
      ]
    },
    {
      "cell_type": "markdown",
      "metadata": {
        "id": "N6J_kbU0w7-U"
      },
      "source": [
        "# 3.Cuadratura Gaussiana\n",
        "\n",
        "### Introducción.\n",
        "\n",
        "Las reglas vista en la sección anterior, también son conocidas como reglas de Newton-Cotes, se dedujeron integrando los polinomios de interpolación. El termino de error en el polinomio de interpolación de grado n contiene la $\\left(n+1\\right)-esima$ derivada.\n",
        "\n",
        "En todas las formulas de Newton-Cotes se emplean valores de la función equidistantes. Este procedimiento es adecuado cuando las reglas son combinadas para crear nuevas reglas compuestas, como las vistas con anterioridad.\n",
        "\n",
        "Sin embargo la restricción que pide a los nodo ser equidistantes, puede afectar considerablemente la exactitud de la aproximación.\n",
        "\n",
        "La cuadratura Gaussiana optimiza la forma de seleccionar los puntos a ser evaluados y no los toma en forma igualmente espaciada como se había visto en las reglas de Newton-Cotes.\n",
        "\n",
        "Se escogen los nodos $x_{1},x_{2},\\ldots,x_{n}$ en el intervalo $\\left[a,b\\right]$ y los coeficientes $c_{1},c_{2},\\ldots c_{n}$ para reducir en lo posible el error esperado que se obtiene al efectuar la aproximación\n",
        "\n",
        "$$ \\int_{a}^{b}f\\left(x\\right)dx\\approx\\sum_{i=1}^{n}c_{i}f\\left(x_{i}\\right)$$\n",
        "\n",
        "Los coeficientes (pesos) $c_{1},c_{2},\\ldots c_{n}$ son arbitrarios y los nodos (puntos de Gauss) $x_{1},x_{2},\\ldots,x_{n}$ están restringidos a pertenecer al intervalo $\\left[a,b\\right]$.\n",
        "\n",
        "Esto nos da $2n$ parámetros de donde elegir. Considerando la clase de polinomios de grado máximo $2n-1$ también contiene $2n$ parámetros, si es que los coeficientes de un polinomio se consideran parámetros.\n",
        "\n",
        "Esta clase de polinomios es la más amplia para la cual es razonable esperar que la regla devuelva un resultado exacto.\n",
        "\n",
        "Se mostrará cómo seleccionar los coeficientes y los nodos cuando $n=2$ y cuando el intervalo de integración es $\\left[-1,1\\right]$\n",
        "\n",
        "Después se explicara el caso mas general de una elección arbitraria de puntos y pesos, indicando como modificar el método cuando se integra en un intervalo arbitrario.\n",
        "\n"
      ]
    },
    {
      "cell_type": "markdown",
      "metadata": {
        "id": "4UBd93v1SZyt"
      },
      "source": [
        "## 3.1.Cuadratura Gaussiana con n=2 puntos.\r\n",
        "\r\n",
        "Supongamos que se requiere determinar $c_{1},c_{2},x_{1},x_{2}$ de modo que la regla de integración\r\n",
        "\r\n",
        "$$\\int_{-1}^{1}f\\left(x\\right)dx\\approx c_{1}f\\left(x_{1}\\right)+c_{2}f\\left(x_{2}\\right)$$\r\n",
        "\r\n",
        "proporcione el resultado exacto siempre que $f\\left(x\\right)$ sea un polinomio de grado $2\\left(2\\right)-1=3$ o menor, es decir que sea un polinomio de la forma\r\n",
        "\r\n",
        "$$ f\\left(x\\right)=a_{0}+a_{1}x+a_{2}x^{2}+a_{3}x^{3} $$\r\n",
        "\r\n",
        "\r\n",
        "Dado que\r\n",
        "\r\n",
        "$$\\int f\\left(x\\right)dx=a_{0}\\int1dx+a_{1}\\int xdx+a_{2}\\int x^{2}dx+a_{3}\\int x^{3}d $$\r\n",
        "\r\n",
        "esto equivale a demostrar que la regla produce resultados exactos cuando $f\\left(x\\right)$ es $1,x,x^{2},x^{3}$\r\n",
        "\r\n",
        "Necesitamos $c_{1},c_{2},x_{1},x_{2}$ de manera tal que\r\n",
        "\r\n",
        "$$\\begin{array}{cc}\r\n",
        "{\\color{blue}{(a)}}\\,c_{1}*1+c_{2}*1=\\int_{-1}^{1}1dx=2\\quad & {\\color{blue}{(b)}}\\,c_{1}x_{1}+c_{2}x_{2}=\\int_{-1}^{1}xdx=0\\\\\r\n",
        "{\\color{blue}{(c)}}\\,c_{1}x_{1}^{2}+c_{2}x_{2}^{2}=\\int_{-1}^{1}x^{2}dx=\\frac{2}{3} & {\\color{blue}{(d)}}\\,c_{1}x_{1}^{3}+c_{2}x_{2}^{3}=\\int_{-1}^{1}x^{3}dx=0\r\n",
        "\\end{array}$$\r\n",
        "\r\n",
        "Las 4 incógnitas se puede determinar comenzando con (b)\r\n",
        "\r\n",
        "$$c_{2}=-\\frac{c_{1}x_{1}}{x_{2}} \\tag{6}$$\r\n",
        "\r\n",
        "Ahora substituyendo en (d) se tiene\r\n",
        "\r\n",
        "$$c_{1}x_{1}^{3}-c_{1}x_{1}x_{2}^{2}=0\\,\\Rightarrow\\,x_{1}^{2}=x_{2}^{2}$$\r\n",
        "\r\n",
        "Pero $x_{1}\\neq x_{2}$ por lo tanto se tiene que\r\n",
        "\r\n",
        "$$x_{1}=-x_{2} \\tag{7}$$\r\n",
        "\r\n",
        "Ahora substituyendo x_{1} en (6), tenemos que $c_{1}=c_{2}$ y usando (a)\r\n",
        "\r\n",
        "$$ c_{1}=c_{2}=1 \\tag{8}$$\r\n",
        "\r\n",
        "Si se substituye (7) y (8) en (c) se tiene\r\n",
        "\r\n",
        "$$x_{1}^{2}+x_{2}^{2}=\\frac{2}{3}\\,\\Rightarrow\\,x_{1}=\\frac{1}{\\sqrt{3}}$$\r\n",
        "\r\n",
        "Así tenemos que\r\n",
        "\r\n",
        "$$ c_{1}=1,\\quad c_{2}=1,\\quad x_{1}=\\frac{1}{\\sqrt{3}}\\;y\\;x_{2}=\\frac{-1}{\\sqrt{3}}$$\r\n",
        "\r\n",
        "Así que la regla para 2 puntos es\r\n",
        "\r\n",
        "$$\\int_{-1}^{1}f\\left(x\\right)dx\\approx f\\left(\\frac{1}{\\sqrt{3}}\\right)+f\\left(\\frac{-1}{\\sqrt{3}}\\right) $$ \r\n",
        "\r\n",
        "\r\n",
        "\r\n",
        "| n  puntos      | Coeficientes $C_{i}$ |  Puntos Gauss $x_{i}$ | \r\n",
        "| :-:  | :-: | :-: |  \r\n",
        "| 2  | $c_{1}=c_{2}=1$ | $x_{1}=0.578\\\\x_{2}=-0.578$ |\r\n",
        "| 3 | $c_{1}=0.556\\\\c_{2}=0.889\\\\c_{3}=0.556$ | $x_{1}=0.774\\\\x_{2}=0\\\\x_{3}=-0.774$ |\r\n",
        "\r\n"
      ]
    },
    {
      "cell_type": "markdown",
      "metadata": {
        "id": "Lp9t6jRDSd6A"
      },
      "source": [
        "## 3.2.Cuadratura Gaussiana general.\r\n",
        "\r\n",
        "Una integral $\\int_{a}^{b}f\\left(x\\right)dx$ en un intervalo arbitrario $\\left[a,b\\right]$ se puede transformar en otra integral $\\int_{-1}^{1}f\\left(t\\right)dt$ en $\\left[-1,1\\right]$ usando el cambio de variable\r\n",
        "\r\n",
        "$$t=\\frac{2x-a-b}{b-a}\\Leftrightarrow x=\\frac{1}{2}\\left[\\left(b-a\\right)t+a+b\\right] $$\r\n",
        "\r\n",
        "Donde el diferencial de $x$ es $dx=\\frac{1}{2}\\left(b-a\\right)dt$. Esto nos permite aplicar la cuadratura Gaussiana a cualquier intervalo $\\left[a,b\\right]$, ya que\r\n",
        "\r\n",
        "$$ \\int_{a}^{b}f\\left(x\\right)dx=\\int_{-1}^{1}f\\left(\\frac{\\left(b-a\\right)t+\\left(b+a\\right)}{2}\\right)\\frac{\\left(b-a\\right)}{2}dt $$\r\n",
        "\r\n"
      ]
    },
    {
      "cell_type": "markdown",
      "metadata": {
        "id": "QUnDN8cOSgz1"
      },
      "source": [
        "## $\\color{green}{Ejemplo}$.\r\n",
        "\r\n",
        "Evalúe $\\int_{0}^{3}e^{-x^{2}}dx$. Usando $n=3$ puntos. Encuentre el error, empleando el valor analítico.\r\n",
        "\r\n",
        "El valor de la integral resolviendo de manera analíticamente es 0.886207.\r\n",
        "\r\n"
      ]
    },
    {
      "cell_type": "markdown",
      "metadata": {
        "id": "iM3D9eUJTL3X"
      },
      "source": [
        "### codigo en python"
      ]
    },
    {
      "cell_type": "code",
      "metadata": {
        "id": "TRtZ_9obw7-V",
        "outputId": "0ebb6964-5586-4d95-b4e5-4b7967e32371"
      },
      "source": [
        "def CuaGauss():\n",
        "    # a punto inicial del intervalo \n",
        "    # b punto final del intervalo \n",
        "    # f funcion a integrar\n",
        "    a=0\n",
        "    b=1 \n",
        "    r=np.array([0.774,0.0,-0.774])\n",
        "    c=np.array([0.556,0.889,0.556])\n",
        "    def f(x):\n",
        "        return x*x\n",
        "    \n",
        "    cuadratura=0.0\n",
        "    jacobiano=(b-a)/2\n",
        "    for i in range(len(r)):\n",
        "        changeVar=0.0;changeVar=(( (b-a)*r[i])+b+a)/2\n",
        "        cuadratura+=c[i]*f(changeVar)\n",
        "        \n",
        "    integral=jacobiano*cuadratura\n",
        "    \n",
        "    print(\"el resultad de la integral con una cuadratura de 3 puntos es :{}\".format(integral))\n",
        "    \n",
        "CuaGauss()"
      ],
      "execution_count": null,
      "outputs": [
        {
          "output_type": "stream",
          "text": [
            "el resultad de la integral con una cuadratura de 3 puntos es :0.33339656400000006\n"
          ],
          "name": "stdout"
        }
      ]
    },
    {
      "cell_type": "code",
      "metadata": {
        "id": "lIYmADhoyS1o",
        "colab": {
          "base_uri": "https://localhost:8080/",
          "height": 331,
          "referenced_widgets": [
            "70b38f9dda22411aa04084a01aaea782",
            "fb45ec6ea3b047dba9d3ed7e568a925c",
            "88d536153b6a4c1696f9c67af3ec90ef",
            "bbc751bc2ea94315b8fc911450f1cf5f",
            "25b627567cf14cb0a19aefd641c68096",
            "fca8be1584d7429880d1d9dec4b0f09b",
            "066a7fc7885e4a02a7e9c93d29a747ad"
          ]
        },
        "outputId": "ef5a7242-ff4f-42b9-a3d7-1b5b8ebacdec"
      },
      "source": [
        "def grafica(n):\n",
        "  f = lambda x : 1/(1 + x**2)\n",
        "  a = 0; b = 5; N = n\n",
        "\n",
        "  # x and y values for the trapezoid rule\n",
        "  x = np.linspace(a,b,N+1)\n",
        "  y = f(x)\n",
        "\n",
        "  # X and Y values for plotting y=f(x)\n",
        "  X = np.linspace(a,b,100)\n",
        "  Y = f(X)\n",
        "  plt.plot(X,Y)\n",
        "\n",
        "  for i in range(N):\n",
        "      xs = [x[i],x[i],x[i+1],x[i+1]]\n",
        "      ys = [0,f(x[i]),f(x[i+1]),0]\n",
        "      plt.fill(xs,ys,'b',edgecolor='b',alpha=0.2)\n",
        "\n",
        "  plt.title('Trapezoid Rule, N = {}'.format(N))\n",
        "  plt.show()\n",
        "\n",
        "interact(grafica,n=widgets.IntSlider(min=4,max=30,step=1,value=2))"
      ],
      "execution_count": null,
      "outputs": [
        {
          "output_type": "display_data",
          "data": {
            "application/vnd.jupyter.widget-view+json": {
              "model_id": "70b38f9dda22411aa04084a01aaea782",
              "version_minor": 0,
              "version_major": 2
            },
            "text/plain": [
              "interactive(children=(IntSlider(value=4, description='n', max=30, min=4), Output()), _dom_classes=('widget-int…"
            ]
          },
          "metadata": {
            "tags": []
          }
        },
        {
          "output_type": "execute_result",
          "data": {
            "text/plain": [
              "<function __main__.grafica>"
            ]
          },
          "metadata": {
            "tags": []
          },
          "execution_count": 4
        }
      ]
    },
    {
      "cell_type": "markdown",
      "metadata": {
        "id": "Jz-VcnxDw7-a"
      },
      "source": [
        "# 4.Referencias.\n",
        "\n",
        "1. Yuri N. Skiba: Introducción a los métodos numéricos, Dirección General de Publicaciones U.N.A.M.\n",
        "\n",
        "2. Ward Cheney, David Kincaid: Métodos Numéricos y Computación, Cenage Learning.\n",
        "\n",
        "3. Richard L. Burden, J. Douglas Faires:\\newblock Análisis Numérico, Math Learning.\n",
        "\n",
        "4. Riswan Butt: Numerical Analysys Using Matlab, Jones and Bartlett.\n",
        "\n",
        "5. Quarteroni, A, Sacco R.: Numerical mathematics, Springer. 2007."
      ]
    }
  ]
}