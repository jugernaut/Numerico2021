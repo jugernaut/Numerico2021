{
  "nbformat": 4,
  "nbformat_minor": 0,
  "metadata": {
    "kernelspec": {
      "display_name": "Python 3.7 (tensorflow)",
      "language": "python",
      "name": "tensorflow"
    },
    "language_info": {
      "codemirror_mode": {
        "name": "ipython",
        "version": 3
      },
      "file_extension": ".py",
      "mimetype": "text/x-python",
      "name": "python",
      "nbconvert_exporter": "python",
      "pygments_lexer": "ipython3",
      "version": "3.7.7"
    },
    "colab": {
      "name": "Integracion_numerica.ipynb",
      "provenance": [],
      "toc_visible": true,
      "include_colab_link": true
    },
    "widgets": {
      "application/vnd.jupyter.widget-state+json": {
        "1c2c4bf8a4be4eb6a34889c551ff912c": {
          "model_module": "@jupyter-widgets/controls",
          "model_name": "VBoxModel",
          "state": {
            "_view_name": "VBoxView",
            "_dom_classes": [
              "widget-interact"
            ],
            "_model_name": "VBoxModel",
            "_view_module": "@jupyter-widgets/controls",
            "_model_module_version": "1.5.0",
            "_view_count": null,
            "_view_module_version": "1.5.0",
            "box_style": "",
            "layout": "IPY_MODEL_9bde7ee8e1914d479721cf1c90f8f9ad",
            "_model_module": "@jupyter-widgets/controls",
            "children": [
              "IPY_MODEL_9194ef4d098047cc98b57cefdc25b677",
              "IPY_MODEL_4dd3f26cb7754390ae7736c69955e23f"
            ]
          },
          "model_module_version": "1.5.0"
        },
        "9bde7ee8e1914d479721cf1c90f8f9ad": {
          "model_module": "@jupyter-widgets/base",
          "model_name": "LayoutModel",
          "state": {
            "_view_name": "LayoutView",
            "grid_template_rows": null,
            "right": null,
            "justify_content": null,
            "_view_module": "@jupyter-widgets/base",
            "overflow": null,
            "_model_module_version": "1.2.0",
            "_view_count": null,
            "flex_flow": null,
            "width": null,
            "min_width": null,
            "border": null,
            "align_items": null,
            "bottom": null,
            "_model_module": "@jupyter-widgets/base",
            "top": null,
            "grid_column": null,
            "overflow_y": null,
            "overflow_x": null,
            "grid_auto_flow": null,
            "grid_area": null,
            "grid_template_columns": null,
            "flex": null,
            "_model_name": "LayoutModel",
            "justify_items": null,
            "grid_row": null,
            "max_height": null,
            "align_content": null,
            "visibility": null,
            "align_self": null,
            "height": null,
            "min_height": null,
            "padding": null,
            "grid_auto_rows": null,
            "grid_gap": null,
            "max_width": null,
            "order": null,
            "_view_module_version": "1.2.0",
            "grid_template_areas": null,
            "object_position": null,
            "object_fit": null,
            "grid_auto_columns": null,
            "margin": null,
            "display": null,
            "left": null
          },
          "model_module_version": "1.2.0"
        },
        "9194ef4d098047cc98b57cefdc25b677": {
          "model_module": "@jupyter-widgets/controls",
          "model_name": "IntSliderModel",
          "state": {
            "_view_name": "IntSliderView",
            "style": "IPY_MODEL_d08b0d2633e74787bd3457181e63aa04",
            "_dom_classes": [],
            "description": "n",
            "step": 1,
            "_model_name": "IntSliderModel",
            "orientation": "horizontal",
            "max": 30,
            "_view_module": "@jupyter-widgets/controls",
            "_model_module_version": "1.5.0",
            "value": 1,
            "_view_count": null,
            "disabled": false,
            "_view_module_version": "1.5.0",
            "min": 1,
            "continuous_update": true,
            "readout_format": "d",
            "description_tooltip": null,
            "readout": true,
            "_model_module": "@jupyter-widgets/controls",
            "layout": "IPY_MODEL_d13ece26fca549e292ee1d58704f2ad4"
          },
          "model_module_version": "1.5.0"
        },
        "4dd3f26cb7754390ae7736c69955e23f": {
          "model_module": "@jupyter-widgets/output",
          "model_name": "OutputModel",
          "state": {
            "_view_name": "OutputView",
            "msg_id": "",
            "_dom_classes": [],
            "_model_name": "OutputModel",
            "outputs": [
              {
                "output_type": "stream",
                "metadata": {
                  "tags": []
                },
                "text": "el valor de la integral mediante el metodo de cuadratura del punto medio es: 0.25\n",
                "stream": "stdout"
              },
              {
                "output_type": "display_data",
                "metadata": {
                  "tags": [],
                  "needs_background": "light"
                },
                "image/png": "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\n",
                "text/plain": "<Figure size 432x288 with 1 Axes>"
              }
            ],
            "_view_module": "@jupyter-widgets/output",
            "_model_module_version": "1.0.0",
            "_view_count": null,
            "_view_module_version": "1.0.0",
            "layout": "IPY_MODEL_c90d547ce83549e0b86d70fbf241e1bd",
            "_model_module": "@jupyter-widgets/output"
          },
          "model_module_version": "1.0.0"
        },
        "d08b0d2633e74787bd3457181e63aa04": {
          "model_module": "@jupyter-widgets/controls",
          "model_name": "SliderStyleModel",
          "state": {
            "_view_name": "StyleView",
            "handle_color": null,
            "_model_name": "SliderStyleModel",
            "description_width": "",
            "_view_module": "@jupyter-widgets/base",
            "_model_module_version": "1.5.0",
            "_view_count": null,
            "_view_module_version": "1.2.0",
            "_model_module": "@jupyter-widgets/controls"
          },
          "model_module_version": "1.5.0"
        },
        "d13ece26fca549e292ee1d58704f2ad4": {
          "model_module": "@jupyter-widgets/base",
          "model_name": "LayoutModel",
          "state": {
            "_view_name": "LayoutView",
            "grid_template_rows": null,
            "right": null,
            "justify_content": null,
            "_view_module": "@jupyter-widgets/base",
            "overflow": null,
            "_model_module_version": "1.2.0",
            "_view_count": null,
            "flex_flow": null,
            "width": null,
            "min_width": null,
            "border": null,
            "align_items": null,
            "bottom": null,
            "_model_module": "@jupyter-widgets/base",
            "top": null,
            "grid_column": null,
            "overflow_y": null,
            "overflow_x": null,
            "grid_auto_flow": null,
            "grid_area": null,
            "grid_template_columns": null,
            "flex": null,
            "_model_name": "LayoutModel",
            "justify_items": null,
            "grid_row": null,
            "max_height": null,
            "align_content": null,
            "visibility": null,
            "align_self": null,
            "height": null,
            "min_height": null,
            "padding": null,
            "grid_auto_rows": null,
            "grid_gap": null,
            "max_width": null,
            "order": null,
            "_view_module_version": "1.2.0",
            "grid_template_areas": null,
            "object_position": null,
            "object_fit": null,
            "grid_auto_columns": null,
            "margin": null,
            "display": null,
            "left": null
          },
          "model_module_version": "1.2.0"
        },
        "c90d547ce83549e0b86d70fbf241e1bd": {
          "model_module": "@jupyter-widgets/base",
          "model_name": "LayoutModel",
          "state": {
            "_view_name": "LayoutView",
            "grid_template_rows": null,
            "right": null,
            "justify_content": null,
            "_view_module": "@jupyter-widgets/base",
            "overflow": null,
            "_model_module_version": "1.2.0",
            "_view_count": null,
            "flex_flow": null,
            "width": null,
            "min_width": null,
            "border": null,
            "align_items": null,
            "bottom": null,
            "_model_module": "@jupyter-widgets/base",
            "top": null,
            "grid_column": null,
            "overflow_y": null,
            "overflow_x": null,
            "grid_auto_flow": null,
            "grid_area": null,
            "grid_template_columns": null,
            "flex": null,
            "_model_name": "LayoutModel",
            "justify_items": null,
            "grid_row": null,
            "max_height": null,
            "align_content": null,
            "visibility": null,
            "align_self": null,
            "height": null,
            "min_height": null,
            "padding": null,
            "grid_auto_rows": null,
            "grid_gap": null,
            "max_width": null,
            "order": null,
            "_view_module_version": "1.2.0",
            "grid_template_areas": null,
            "object_position": null,
            "object_fit": null,
            "grid_auto_columns": null,
            "margin": null,
            "display": null,
            "left": null
          },
          "model_module_version": "1.2.0"
        },
        "0151c732f8554772bc554126837da480": {
          "model_module": "@jupyter-widgets/controls",
          "model_name": "VBoxModel",
          "state": {
            "_view_name": "VBoxView",
            "_dom_classes": [
              "widget-interact"
            ],
            "_model_name": "VBoxModel",
            "_view_module": "@jupyter-widgets/controls",
            "_model_module_version": "1.5.0",
            "_view_count": null,
            "_view_module_version": "1.5.0",
            "box_style": "",
            "layout": "IPY_MODEL_52a4d5f40f01449eb40a71b743c4b5d4",
            "_model_module": "@jupyter-widgets/controls",
            "children": [
              "IPY_MODEL_603ac161805c4d30998f832929dabd59",
              "IPY_MODEL_766e590a67154cfa87bb5bc2f28ae382"
            ]
          },
          "model_module_version": "1.5.0"
        },
        "52a4d5f40f01449eb40a71b743c4b5d4": {
          "model_module": "@jupyter-widgets/base",
          "model_name": "LayoutModel",
          "state": {
            "_view_name": "LayoutView",
            "grid_template_rows": null,
            "right": null,
            "justify_content": null,
            "_view_module": "@jupyter-widgets/base",
            "overflow": null,
            "_model_module_version": "1.2.0",
            "_view_count": null,
            "flex_flow": null,
            "width": null,
            "min_width": null,
            "border": null,
            "align_items": null,
            "bottom": null,
            "_model_module": "@jupyter-widgets/base",
            "top": null,
            "grid_column": null,
            "overflow_y": null,
            "overflow_x": null,
            "grid_auto_flow": null,
            "grid_area": null,
            "grid_template_columns": null,
            "flex": null,
            "_model_name": "LayoutModel",
            "justify_items": null,
            "grid_row": null,
            "max_height": null,
            "align_content": null,
            "visibility": null,
            "align_self": null,
            "height": null,
            "min_height": null,
            "padding": null,
            "grid_auto_rows": null,
            "grid_gap": null,
            "max_width": null,
            "order": null,
            "_view_module_version": "1.2.0",
            "grid_template_areas": null,
            "object_position": null,
            "object_fit": null,
            "grid_auto_columns": null,
            "margin": null,
            "display": null,
            "left": null
          },
          "model_module_version": "1.2.0"
        },
        "603ac161805c4d30998f832929dabd59": {
          "model_module": "@jupyter-widgets/controls",
          "model_name": "IntSliderModel",
          "state": {
            "_view_name": "IntSliderView",
            "style": "IPY_MODEL_5885e8c931e24a73a844642d21af6e72",
            "_dom_classes": [],
            "description": "n",
            "step": 1,
            "_model_name": "IntSliderModel",
            "orientation": "horizontal",
            "max": 30,
            "_view_module": "@jupyter-widgets/controls",
            "_model_module_version": "1.5.0",
            "value": 4,
            "_view_count": null,
            "disabled": false,
            "_view_module_version": "1.5.0",
            "min": 1,
            "continuous_update": true,
            "readout_format": "d",
            "description_tooltip": null,
            "readout": true,
            "_model_module": "@jupyter-widgets/controls",
            "layout": "IPY_MODEL_ecfd140c1ea84f4c91232e9402bae2f2"
          },
          "model_module_version": "1.5.0"
        },
        "766e590a67154cfa87bb5bc2f28ae382": {
          "model_module": "@jupyter-widgets/output",
          "model_name": "OutputModel",
          "state": {
            "_view_name": "OutputView",
            "msg_id": "",
            "_dom_classes": [],
            "_model_name": "OutputModel",
            "outputs": [
              {
                "output_type": "stream",
                "metadata": {
                  "tags": []
                },
                "text": "el valor de la integral mediante el metodo de cuadratura del  Trapecio Compuesto es: 0.34375\n",
                "stream": "stdout"
              },
              {
                "output_type": "display_data",
                "metadata": {
                  "tags": [],
                  "needs_background": "light"
                },
                "image/png": "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\n",
                "text/plain": "<Figure size 432x288 with 1 Axes>"
              }
            ],
            "_view_module": "@jupyter-widgets/output",
            "_model_module_version": "1.0.0",
            "_view_count": null,
            "_view_module_version": "1.0.0",
            "layout": "IPY_MODEL_18cae629914c4ab19ec99d783c7d5a93",
            "_model_module": "@jupyter-widgets/output"
          },
          "model_module_version": "1.0.0"
        },
        "5885e8c931e24a73a844642d21af6e72": {
          "model_module": "@jupyter-widgets/controls",
          "model_name": "SliderStyleModel",
          "state": {
            "_view_name": "StyleView",
            "handle_color": null,
            "_model_name": "SliderStyleModel",
            "description_width": "",
            "_view_module": "@jupyter-widgets/base",
            "_model_module_version": "1.5.0",
            "_view_count": null,
            "_view_module_version": "1.2.0",
            "_model_module": "@jupyter-widgets/controls"
          },
          "model_module_version": "1.5.0"
        },
        "ecfd140c1ea84f4c91232e9402bae2f2": {
          "model_module": "@jupyter-widgets/base",
          "model_name": "LayoutModel",
          "state": {
            "_view_name": "LayoutView",
            "grid_template_rows": null,
            "right": null,
            "justify_content": null,
            "_view_module": "@jupyter-widgets/base",
            "overflow": null,
            "_model_module_version": "1.2.0",
            "_view_count": null,
            "flex_flow": null,
            "width": null,
            "min_width": null,
            "border": null,
            "align_items": null,
            "bottom": null,
            "_model_module": "@jupyter-widgets/base",
            "top": null,
            "grid_column": null,
            "overflow_y": null,
            "overflow_x": null,
            "grid_auto_flow": null,
            "grid_area": null,
            "grid_template_columns": null,
            "flex": null,
            "_model_name": "LayoutModel",
            "justify_items": null,
            "grid_row": null,
            "max_height": null,
            "align_content": null,
            "visibility": null,
            "align_self": null,
            "height": null,
            "min_height": null,
            "padding": null,
            "grid_auto_rows": null,
            "grid_gap": null,
            "max_width": null,
            "order": null,
            "_view_module_version": "1.2.0",
            "grid_template_areas": null,
            "object_position": null,
            "object_fit": null,
            "grid_auto_columns": null,
            "margin": null,
            "display": null,
            "left": null
          },
          "model_module_version": "1.2.0"
        },
        "18cae629914c4ab19ec99d783c7d5a93": {
          "model_module": "@jupyter-widgets/base",
          "model_name": "LayoutModel",
          "state": {
            "_view_name": "LayoutView",
            "grid_template_rows": null,
            "right": null,
            "justify_content": null,
            "_view_module": "@jupyter-widgets/base",
            "overflow": null,
            "_model_module_version": "1.2.0",
            "_view_count": null,
            "flex_flow": null,
            "width": null,
            "min_width": null,
            "border": null,
            "align_items": null,
            "bottom": null,
            "_model_module": "@jupyter-widgets/base",
            "top": null,
            "grid_column": null,
            "overflow_y": null,
            "overflow_x": null,
            "grid_auto_flow": null,
            "grid_area": null,
            "grid_template_columns": null,
            "flex": null,
            "_model_name": "LayoutModel",
            "justify_items": null,
            "grid_row": null,
            "max_height": null,
            "align_content": null,
            "visibility": null,
            "align_self": null,
            "height": null,
            "min_height": null,
            "padding": null,
            "grid_auto_rows": null,
            "grid_gap": null,
            "max_width": null,
            "order": null,
            "_view_module_version": "1.2.0",
            "grid_template_areas": null,
            "object_position": null,
            "object_fit": null,
            "grid_auto_columns": null,
            "margin": null,
            "display": null,
            "left": null
          },
          "model_module_version": "1.2.0"
        },
        "cc37264a08594cd5836a88df23e4ddf0": {
          "model_module": "@jupyter-widgets/controls",
          "model_name": "VBoxModel",
          "model_module_version": "1.5.0",
          "state": {
            "_dom_classes": [
              "widget-interact"
            ],
            "_model_module": "@jupyter-widgets/controls",
            "_model_module_version": "1.5.0",
            "_model_name": "VBoxModel",
            "_view_count": null,
            "_view_module": "@jupyter-widgets/controls",
            "_view_module_version": "1.5.0",
            "_view_name": "VBoxView",
            "box_style": "",
            "children": [
              "IPY_MODEL_26a3cc7284304a59a95554bf69414d61",
              "IPY_MODEL_964a4a212c3a49cbbc971e599a20ed3b"
            ],
            "layout": "IPY_MODEL_60dde56c06214709a38f5f0dc7d50d1d"
          }
        },
        "26a3cc7284304a59a95554bf69414d61": {
          "model_module": "@jupyter-widgets/controls",
          "model_name": "IntSliderModel",
          "model_module_version": "1.5.0",
          "state": {
            "_dom_classes": [],
            "_model_module": "@jupyter-widgets/controls",
            "_model_module_version": "1.5.0",
            "_model_name": "IntSliderModel",
            "_view_count": null,
            "_view_module": "@jupyter-widgets/controls",
            "_view_module_version": "1.5.0",
            "_view_name": "IntSliderView",
            "continuous_update": true,
            "description": "n",
            "description_tooltip": null,
            "disabled": false,
            "layout": "IPY_MODEL_ac1213b1f2e1443b925b52d15cc14179",
            "max": 30,
            "min": 1,
            "orientation": "horizontal",
            "readout": true,
            "readout_format": "d",
            "step": 1,
            "style": "IPY_MODEL_585836e66f034fb890f0c1c1e0e5443c",
            "value": 12
          }
        },
        "964a4a212c3a49cbbc971e599a20ed3b": {
          "model_module": "@jupyter-widgets/output",
          "model_name": "OutputModel",
          "model_module_version": "1.0.0",
          "state": {
            "_dom_classes": [],
            "_model_module": "@jupyter-widgets/output",
            "_model_module_version": "1.0.0",
            "_model_name": "OutputModel",
            "_view_count": null,
            "_view_module": "@jupyter-widgets/output",
            "_view_module_version": "1.0.0",
            "_view_name": "OutputView",
            "layout": "IPY_MODEL_62ee645d051842d88e3493d82babbbe7",
            "msg_id": "",
            "outputs": [
              {
                "output_type": "stream",
                "name": "stdout",
                "text": [
                  "el valor de la integral mediante el metodo de cuadratura del rectangulo es: 0.37615740740740733\n"
                ]
              }
            ]
          }
        },
        "60dde56c06214709a38f5f0dc7d50d1d": {
          "model_module": "@jupyter-widgets/base",
          "model_name": "LayoutModel",
          "model_module_version": "1.2.0",
          "state": {
            "_model_module": "@jupyter-widgets/base",
            "_model_module_version": "1.2.0",
            "_model_name": "LayoutModel",
            "_view_count": null,
            "_view_module": "@jupyter-widgets/base",
            "_view_module_version": "1.2.0",
            "_view_name": "LayoutView",
            "align_content": null,
            "align_items": null,
            "align_self": null,
            "border": null,
            "bottom": null,
            "display": null,
            "flex": null,
            "flex_flow": null,
            "grid_area": null,
            "grid_auto_columns": null,
            "grid_auto_flow": null,
            "grid_auto_rows": null,
            "grid_column": null,
            "grid_gap": null,
            "grid_row": null,
            "grid_template_areas": null,
            "grid_template_columns": null,
            "grid_template_rows": null,
            "height": null,
            "justify_content": null,
            "justify_items": null,
            "left": null,
            "margin": null,
            "max_height": null,
            "max_width": null,
            "min_height": null,
            "min_width": null,
            "object_fit": null,
            "object_position": null,
            "order": null,
            "overflow": null,
            "overflow_x": null,
            "overflow_y": null,
            "padding": null,
            "right": null,
            "top": null,
            "visibility": null,
            "width": null
          }
        },
        "ac1213b1f2e1443b925b52d15cc14179": {
          "model_module": "@jupyter-widgets/base",
          "model_name": "LayoutModel",
          "model_module_version": "1.2.0",
          "state": {
            "_model_module": "@jupyter-widgets/base",
            "_model_module_version": "1.2.0",
            "_model_name": "LayoutModel",
            "_view_count": null,
            "_view_module": "@jupyter-widgets/base",
            "_view_module_version": "1.2.0",
            "_view_name": "LayoutView",
            "align_content": null,
            "align_items": null,
            "align_self": null,
            "border": null,
            "bottom": null,
            "display": null,
            "flex": null,
            "flex_flow": null,
            "grid_area": null,
            "grid_auto_columns": null,
            "grid_auto_flow": null,
            "grid_auto_rows": null,
            "grid_column": null,
            "grid_gap": null,
            "grid_row": null,
            "grid_template_areas": null,
            "grid_template_columns": null,
            "grid_template_rows": null,
            "height": null,
            "justify_content": null,
            "justify_items": null,
            "left": null,
            "margin": null,
            "max_height": null,
            "max_width": null,
            "min_height": null,
            "min_width": null,
            "object_fit": null,
            "object_position": null,
            "order": null,
            "overflow": null,
            "overflow_x": null,
            "overflow_y": null,
            "padding": null,
            "right": null,
            "top": null,
            "visibility": null,
            "width": null
          }
        },
        "585836e66f034fb890f0c1c1e0e5443c": {
          "model_module": "@jupyter-widgets/controls",
          "model_name": "SliderStyleModel",
          "model_module_version": "1.5.0",
          "state": {
            "_model_module": "@jupyter-widgets/controls",
            "_model_module_version": "1.5.0",
            "_model_name": "SliderStyleModel",
            "_view_count": null,
            "_view_module": "@jupyter-widgets/base",
            "_view_module_version": "1.2.0",
            "_view_name": "StyleView",
            "description_width": "",
            "handle_color": null
          }
        },
        "62ee645d051842d88e3493d82babbbe7": {
          "model_module": "@jupyter-widgets/base",
          "model_name": "LayoutModel",
          "model_module_version": "1.2.0",
          "state": {
            "_model_module": "@jupyter-widgets/base",
            "_model_module_version": "1.2.0",
            "_model_name": "LayoutModel",
            "_view_count": null,
            "_view_module": "@jupyter-widgets/base",
            "_view_module_version": "1.2.0",
            "_view_name": "LayoutView",
            "align_content": null,
            "align_items": null,
            "align_self": null,
            "border": null,
            "bottom": null,
            "display": null,
            "flex": null,
            "flex_flow": null,
            "grid_area": null,
            "grid_auto_columns": null,
            "grid_auto_flow": null,
            "grid_auto_rows": null,
            "grid_column": null,
            "grid_gap": null,
            "grid_row": null,
            "grid_template_areas": null,
            "grid_template_columns": null,
            "grid_template_rows": null,
            "height": null,
            "justify_content": null,
            "justify_items": null,
            "left": null,
            "margin": null,
            "max_height": null,
            "max_width": null,
            "min_height": null,
            "min_width": null,
            "object_fit": null,
            "object_position": null,
            "order": null,
            "overflow": null,
            "overflow_x": null,
            "overflow_y": null,
            "padding": null,
            "right": null,
            "top": null,
            "visibility": null,
            "width": null
          }
        }
      }
    }
  },
  "cells": [
    {
      "cell_type": "markdown",
      "metadata": {
        "id": "view-in-github",
        "colab_type": "text"
      },
      "source": [
        "<a href=\"https://colab.research.google.com/github/jugernaut/Numerico2021/blob/master/07_CuadraturaNumerica/01_IntegracionNumerica.ipynb\" target=\"_parent\"><img src=\"https://colab.research.google.com/assets/colab-badge.svg\" alt=\"Open In Colab\"/></a>"
      ]
    },
    {
      "cell_type": "markdown",
      "metadata": {
        "id": "ScSKHDcow79x"
      },
      "source": [
        "<font color=\"Teal\" face=\"Comic Sans MS,arial\">\n",
        "  <h1 align=\"center\"><i>Integral Numérica</i></h1>\n",
        "  </font>\n",
        "  <font color=\"Black\" face=\"Comic Sans MS,arial\">\n",
        "  <h5 align=\"center\"><i>Profesor: M.en.C. Miguel Angel Pérez León.</i></h5>\n",
        "    <h5 align=\"center\"><i>Ayudante: Jesús Iván Coss Calderón.</i></h5>\n",
        "  <h5 align=\"center\"><i>Materia: Análisis Numérico.</i></h5>\n",
        "  </font>"
      ]
    },
    {
      "cell_type": "markdown",
      "metadata": {
        "id": "cbG3g1S0w79y"
      },
      "source": [
        "# Introducción\n",
        "\n",
        "Muy frecuentemente es necesario evaluar la integral definida de una función $f\\left(x\\right)$ en un intervalo $\\left[a,b\\right]$. El objetivo de esta sección es encontrar métodos para aproximar la integral\n",
        "\n",
        "$$\\int_{a}^{b}f\\left(x\\right)dx$$\n",
        "\n",
        "Si se conoce a priori la **antiderivada** $F\\left(x\\right)$ entonces es evidente que podemos encontrar el valor exacto de la integral, aplicando el siguiente teorema\n"
      ]
    },
    {
      "cell_type": "markdown",
      "metadata": {
        "id": "LxClLbNDH-rL"
      },
      "source": [
        "## Teorema Fundamental de Cálculo\n",
        "\n",
        "Sea $f\\left(x\\right)$ integrable en el intervalo $\\left[a,b\\right]$ y $F'\\left(x\\right)=f\\left(x\\right)$ entonces,$\\int_{a}^{b}f\\left(x\\right)dx=F\\left(a\\right)-F\\left(b\\right)$\n",
        "\n",
        "\n",
        "Sin embargo como en otras partes del curso, a veces encontrar a $F$ es muy complicado, de tal manera que la mejor opción es encontrar una aproximación del valor exacto de.\n",
        "\n",
        "$$\\int_{a}^{b}f\\left(x\\right)dx$$\n",
        "\n",
        "La forma básica para encontrar una aproximación de $\\int_{a}^{b}f\\left(x\\right)dx$, se conoce como **cuadratura numérica** y emplea una suma del tipo.\n",
        "\n",
        "$$\\sum_{i=0}^{n}a_{i}f\\left(x_{i}\\right)$$\n",
        "\n",
        "Existen diferentes aproximaciones de la integral de $f\\left(x\\right)$ mediante cuadratura numérica, en esta sección revisaremos algunas de las mas comunes."
      ]
    },
    {
      "cell_type": "markdown",
      "metadata": {
        "id": "QNpXtFzFw79z"
      },
      "source": [
        "# Cuadratura Numérica\n",
        "\n",
        "Los métodos de integración numérica se basan en los polinomios de Lagrange visto en secciones previas. La idea básica es que seleccionamos un conjunto de nodos distintos $x_{0},\\ldots,x_{n}$ del intervalo $ \\left[a,b\\right]$. Después se integra el polinomio de Lagrange\n",
        "\n",
        "$$P_{n}\\left(x\\right)=\\sum_{i=0}^{n}f\\left(x_{i}\\right)L_{i}\\left(x\\right)$$\n",
        "\n",
        "Y también se integra el termino de error de truncamiento en $\\left[a,b\\right]$\n",
        "\n",
        "$$\\prod_{i=0}^{n}\\left(x-x_{i}\\right)\\frac{f^{\\left(n+1\\right)}\\left(\\xi\\left(x\\right)\\right)}{\\left(n+1\\right)!}dx$$\n",
        "\n",
        "De tal manera que obtenemos\n",
        "\n",
        "$$ \\int_{a}^{b}f\\left(x\\right)dx=\\int_{a}^{b}\\sum_{i=0}^{n}f\\left(x_{i}\\right)L_{i}\\left(x\\right)dx+\\int_{a}^{b}\\prod_{i=0}^{n}\\left(x-x_{i}\\right)\\frac{f^{\\left(n+1\\right)}\\left(\\xi\\left(x\\right)\\right)}{\\left(n+1\\right)!}dx\\\\=\\sum_{i=0}^{n}a_{i}f\\left(x_{i}\\right)+\\frac{1}{\\left(n+1\\right)!}\\int_{a}^{b}\\prod_{i=0}^{n}\\left(x-x_{i}\\right)f^{\\left(n+1\\right)}\\left(\\xi\\left(x\\right)\\right)dx $$\n",
        "\n",
        "Donde $\\xi\\left(x\\right)$ se encuentra en $\\left[a,b\\right]$ para cada $x$ y\n",
        "\n",
        "$$a_{i}=\\int_{a}^{b}L_{i}\\left(x\\right)dx,\\quad para\\,cada\\,i=0,1,\\ldots,n$$\n",
        "\n",
        "Por lo tanto, la formula de la cuadratura es\n",
        "\n",
        "$$\\int_{a}^{b}f\\left(x\\right)dx=\\sum_{i=0}^{n}a_{i}f\\left(x_{i}\\right) \\tag{1}$$\n",
        "\n",
        "Con un error dado por\n",
        "\n",
        "$$E\\left(f\\right)=\\frac{1}{\\left(n+1\\right)!}\\int_{a}^{b}\\prod_{i=0}^{n}\\left(x-x_{i}\\right)f^{\\left(n+1\\right)}\\left(\\xi\\left(x\\right)\\right)dx$$\n",
        "\n",
        "De la misma manera que en otros temas vistos en el curso, la aproximación sera mas exacta si subdividimos el intervalo $\\left[a,b\\right]$ en tantos subintervalos como sea necesario, es decir\n",
        "\n",
        "Sea\n",
        "\n",
        "$$\\left[a,b\\right]=\\left[a,x_{1}\\right]\\cup\\left[x_{1},x_{2}\\right]\\cup\\cdots\\cup\\left[x_{n-2},x_{n-1}\\right]\\cup\\left[x_{n-1},b\\right]$$\n",
        "\n",
        "Donde\n",
        "\n",
        "$$x_{k}=a+\\frac{b-a}{n}k,\\quad n=0,1,2,\\ldots,n,\\quad x_{0}=a,\\,x_{n}=b$$\n",
        "\n",
        "\n",
        "Tendremos\n",
        "\n",
        "$$\\int_{a}^{b}f\\left(x\\right)dx=\\int_{a}^{x_{1}}f\\left(x\\right)dx+\\cdots+\\int_{x_{k}}^{x_{k+1}}f\\left(x\\right)dx+\\cdots+\\int_{x_{n-1}}^{b}f\\left(x\\right)dx \\tag{2} $$\n",
        "\n",
        "Observación, todos los nodos son igualmente espaciados.\n",
        "\n"
      ]
    },
    {
      "cell_type": "markdown",
      "metadata": {
        "id": "xRjpaWQHTd9k"
      },
      "source": [
        "### Cuadratura del rectángulo\n",
        "\n",
        "La forma de cuadratura mas simple es la que emplea rectángulos de base $\\left(b-a\\right)$ y altura $f\\left(a\\right)$\n",
        "\n",
        "$$\\int_{a}^{b}f\\left(x\\right)dx=\\left(b-a\\right)f\\left(a\\right)+E\\left(f\\right) \\tag{3}$$\n",
        "\n",
        "Combinando $(1)$ y $(3)$, se obtiene la forma general de la cuadratura mediante rectángulos\n",
        "\n",
        "$$\\int_{a}^{b}f\\left(x\\right)dx=\\frac{b-a}{n}\\sum_{i=0}^{n-1}f\\left(x_{i}\\right)+E\\left(f\\right)$$\n",
        "\n"
      ]
    },
    {
      "cell_type": "code",
      "metadata": {
        "id": "xoCX7k-_w790",
        "colab": {
          "base_uri": "https://localhost:8080/",
          "height": 1000,
          "referenced_widgets": [
            "cc37264a08594cd5836a88df23e4ddf0",
            "26a3cc7284304a59a95554bf69414d61",
            "964a4a212c3a49cbbc971e599a20ed3b",
            "60dde56c06214709a38f5f0dc7d50d1d",
            "ac1213b1f2e1443b925b52d15cc14179",
            "585836e66f034fb890f0c1c1e0e5443c",
            "62ee645d051842d88e3493d82babbbe7"
          ]
        },
        "outputId": "2645b1a1-d927-4e4d-b486-2baa3d1f6d6b"
      },
      "source": [
        "# import de las bibliotecas necesarias\n",
        "import numpy as np\n",
        "from IPython.html.widgets import interact\n",
        "import ipywidgets as widgets\n",
        "import matplotlib.pyplot as plt\n",
        "\n",
        "# funcion que define la cuadratura mediante rectangulos\n",
        "# cantidad de puntos que usaran en la cuadratura\n",
        "def Rectangulo(n): \n",
        "    # a punto inicial del intervalo  \n",
        "    a=0\n",
        "    # b punto final del intervalo\n",
        "    b=1\n",
        "    # f funcion a integrar **\n",
        "    #def f(x):\n",
        "        #return x*x\n",
        "    # f funcion a integrar\n",
        "    f = lambda x: x*x\n",
        "    # circunferencia\n",
        "    #f = lambda x: np.sqrt(1-x*x)\n",
        "    \n",
        "    # para grficar f(x)\n",
        "    xp=np.linspace(a,b,30)\n",
        "    fp=f(xp)\n",
        "    plt.plot(xp,fp,color='black')\n",
        "    \n",
        "    # discretizacion para la cuadratura\n",
        "    x=np.linspace(a,b,n+1)\n",
        "    fx=[ f(x[i]) for i in range(len(x))]\n",
        "    plt.bar(x,fx,width=(-(b-a)/n),color='orange', align='edge')\n",
        "    plt.title(\"Aproximacion de la integral con el metodo de la cuadratura del rectangulo\")\n",
        "    plt.xlabel(\"x\")\n",
        "    plt.ylabel(r\"$f \\left(x\\right) = x^{2}$\")\n",
        "    plt.grid()\n",
        "\n",
        "    # aproximacion mediante la cuadratura del rectangulo\n",
        "    cuadratura=0.0\n",
        "    for i in range (len(x)):\n",
        "        cuadratura+=f(x[i])\n",
        "    # valor aproximado    \n",
        "    integral=((b-a)/n)*cuadratura\n",
        "\n",
        "    print(\"el valor de la integral mediante el metodo de cuadratura del rectangulo es: {}\".format(integral)) \n",
        "\n",
        "interact(Rectangulo,n=widgets.IntSlider(min=1,max=30,step=1,value=1))"
      ],
      "execution_count": 2,
      "outputs": [
        {
          "output_type": "display_data",
          "data": {
            "text/plain": [
              "interactive(children=(IntSlider(value=1, description='n', max=30, min=1), Output()), _dom_classes=('widget-int…"
            ],
            "application/vnd.jupyter.widget-view+json": {
              "version_major": 2,
              "version_minor": 0,
              "model_id": "cc37264a08594cd5836a88df23e4ddf0"
            }
          },
          "metadata": {}
        },
        {
          "output_type": "execute_result",
          "data": {
            "text/plain": [
              "<function __main__.Rectangulo(n)>"
            ]
          },
          "metadata": {},
          "execution_count": 2
        },
        {
          "output_type": "display_data",
          "data": {
            "text/plain": [
              "<Figure size 640x480 with 1 Axes>"
            ],
            "image/png": "[encoded data removed]"
          },
          "metadata": {}
        },
        {
          "output_type": "display_data",
          "data": {
            "text/plain": [
              "<Figure size 640x480 with 1 Axes>"
            ],
            "image/png": "[encoded data removed]"
          },
          "metadata": {}
        },
        {
          "output_type": "display_data",
          "data": {
            "text/plain": [
              "<Figure size 640x480 with 1 Axes>"
            ],
            "image/png": "[encoded data removed]"
          },
          "metadata": {}
        },
        {
          "output_type": "display_data",
          "data": {
            "text/plain": [
              "<Figure size 640x480 with 1 Axes>"
            ],
            "image/png": "[encoded data removed]"
          },
          "metadata": {}
        },
        {
          "output_type": "display_data",
          "data": {
            "text/plain": [
              "<Figure size 640x480 with 1 Axes>"
            ],
            "image/png": "[encoded data removed]"
          },
          "metadata": {}
        },
        {
          "output_type": "display_data",
          "data": {
            "text/plain": [
              "<Figure size 640x480 with 1 Axes>"
            ],
            "image/png": "[encoded data removed]"
          },
          "metadata": {}
        }
      ]
    },
    {
      "cell_type": "markdown",
      "metadata": {
        "id": "NM8gZ8Dqw794"
      },
      "source": [
        "### Cuadratura del punto medio\n",
        "\n",
        "Una aproximación de la integral $\\int_{a}^{b}f\\left(x\\right)dx$ consiste en aproximar el área bajo la curva $y=f\\left(x\\right)$ por un rectángulo de base $b-a$ y altura $f\\left(\\frac{a+b}{2}\\right)$, entonces\n",
        "\n",
        "$$\\int_{a}^{b}f\\left(x\\right)dx=\\left(b-a\\right)f\\left(\\frac{a+b}{2}\\right)+E\\left(f\\right) \\tag{4} $$\n",
        "\n",
        "Donde $E\\left(f\\right)$, si $f$ tiene primera y segunda derivada continuas en $\\left[a,b\\right]$, se expresa así\n",
        "\n",
        "$$E\\left(f\\right)=\\frac{\\left(b-a\\right)^{2}}{24}f''\\left(\\xi\\right)\\quad\\xi\\in\\left[a,b\\right]$$\n",
        "\n",
        "Combinando $(1)$ y $(4)$, se obtiene la forma general de la cuadratura del punto medio\n",
        "\n",
        "$$\\int_{a}^{b}f\\left(x\\right)dx=\\frac{b-a}{n}\\sum_{i=0}^{n-1}f\\left(\\frac{x_{i}+x_{i+1}}{2}\\right)+E\\left(f\\right)$$\n",
        "\n"
      ]
    },
    {
      "cell_type": "code",
      "metadata": {
        "id": "OZOU5EaVw796",
        "colab": {
          "base_uri": "https://localhost:8080/",
          "height": 361,
          "referenced_widgets": [
            "1c2c4bf8a4be4eb6a34889c551ff912c",
            "9bde7ee8e1914d479721cf1c90f8f9ad",
            "9194ef4d098047cc98b57cefdc25b677",
            "4dd3f26cb7754390ae7736c69955e23f",
            "d08b0d2633e74787bd3457181e63aa04",
            "d13ece26fca549e292ee1d58704f2ad4",
            "c90d547ce83549e0b86d70fbf241e1bd"
          ]
        },
        "outputId": "36b8b7b2-f0c5-40c1-c86c-888ca8f0d10c"
      },
      "source": [
        "def PuntoMedio(n):\n",
        "    # a punto inicial del intervalo  \n",
        "    a=0\n",
        "    # b punto final del intervalo\n",
        "    b=1\n",
        "    # f funcion a integrar **\n",
        "    #def f(x):\n",
        "        #return x*x\n",
        "    # f funcion a integrar\n",
        "    f = lambda x: x*x\n",
        "    \n",
        "    # para grficar f(x)\n",
        "    xp=np.linspace(a,b,30)\n",
        "    fp=f(xp)\n",
        "    plt.plot(xp,fp,color='black')\n",
        "    \n",
        "    # discretizacion para la cuadratura\n",
        "    x=np.linspace(a,b,n+1)\n",
        "    am = a+(float(a)/2)\n",
        "    bm = b+(float(b)/2)\n",
        "    fx=[ f(x[i]) for i in range(len(x))]\n",
        "    plt.bar(x,fx,width=((bm-am)/n),color='orange')\n",
        "    plt.title(\"Aproximacion de la integral con el metodo de la cuadratura del punto medio\")\n",
        "    plt.xlabel(\"x\")\n",
        "    plt.ylabel(r\"$f \\left(x\\right) = x^{2}$\")\n",
        "    plt.grid()\n",
        "\n",
        "    # aproximacion mediante la cuadratura del punto medio\n",
        "    cuadratura=0.0\n",
        "    for i in range (len(x)-1):\n",
        "        cuadratura+=f( (x[i]+x[i+1])/2 )\n",
        "    # valor aproximado     \n",
        "    integral=((b-a)/n)*cuadratura\n",
        "    \n",
        "    print(\"el valor de la integral mediante el metodo de cuadratura del punto medio es: {}\".format(integral)) \n",
        "\n",
        "interact(PuntoMedio,n=widgets.IntSlider(min=1,max=30,step=1,value=1))"
      ],
      "execution_count": null,
      "outputs": [
        {
          "output_type": "display_data",
          "data": {
            "application/vnd.jupyter.widget-view+json": {
              "model_id": "1c2c4bf8a4be4eb6a34889c551ff912c",
              "version_minor": 0,
              "version_major": 2
            },
            "text/plain": [
              "interactive(children=(IntSlider(value=1, description='n', max=30, min=1), Output()), _dom_classes=('widget-int…"
            ]
          },
          "metadata": {
            "tags": []
          }
        },
        {
          "output_type": "execute_result",
          "data": {
            "text/plain": [
              "<function __main__.PuntoMedio>"
            ]
          },
          "metadata": {
            "tags": []
          },
          "execution_count": 3
        }
      ]
    },
    {
      "cell_type": "markdown",
      "metadata": {
        "id": "nE9yuzw9w79_"
      },
      "source": [
        "### Cuadratura del trapecio\n",
        "\n",
        "Para derivar la regla del trapecio para aproximar $\\int_{a}^{b}f\\left(x\\right)dx$, tomemos $x_{0}=a,\\,x_{1}=b,\\,h=b-a$ y calculando el polinomio lineal de Lagrange\n",
        "\n",
        "$$P\\left(x\\right)=\\left(\\frac{x-x_{1}}{x_{0}-x_{1}}\\right)f(x_{0})+\\left(\\frac{x-x_{0}}{x_{1}-x_{0}}\\right)f(x_{1})$$\n",
        "\n",
        "Al integrar este polinomio se tiene\n",
        "\n",
        "$$\\int_{a}^{b}f\\left(x\\right)dx=\\int_{x_{0}}^{x_{1}}\\left[\\left(\\frac{x-x_{1}}{x_{0}-x_{1}}\\right)f(x_{0})+\\left(\\frac{x-x_{0}}{x_{1}-x_{0}}\\right)f(x_{1})\\right]dx\\\\+\\frac{1}{2}\\int_{x_{0}}^{x_{1}}f''\\left(\\xi\\left(x\\right)\\right)\\left(x-x_{0}\\right)\\left(x-x_{1}\\right)dx$$\n",
        "\n",
        "Donde la integral del error es $-\\frac{h^{3}}{6}f''\\left(\\xi\\right)$, lo que nos lleva a la forma general de la cuadratura del trapecio\n",
        "\n",
        "$$\\int_{a}^{b}f\\left(x\\right)dx=\\left[\\frac{x-x_{1}}{2\\left(x_{0}-x_{1}\\right)}f(x_{0})+\\frac{x-x_{0}}{2\\left(x_{1}-x_{0}\\right)}f(x_{1})\\right]_{x_{0}}^{x_{1}}-\\frac{h^{3}}{12}f''\\left(\\xi\\right)\\\\=\\frac{\\left(x_{1}-x_{0}\\right)}{2}\\left[f\\left(x_{0}\\right)+f\\left(x_{1}\\right)\\right]-\\frac{h^{3}}{12}f''\\left(\\xi\\right) $$\n",
        "\n",
        "Tomando en cuenta que $h=x_{1}-x_{0}$, obtenemos la forma general de la cuadratura del trapecio\n",
        "\n",
        "$$\\int_{a}^{b}f\\left(x\\right)dx=\\frac{h}{2}\\left[f\\left(x_{0}\\right)+f\\left(x_{1}\\right)\\right]-\\frac{h^{3}}{12}f''\\left(\\xi\\right)$$\n",
        "\n"
      ]
    },
    {
      "cell_type": "code",
      "metadata": {
        "id": "sFvxeX94w79_",
        "colab": {
          "base_uri": "https://localhost:8080/"
        },
        "outputId": "4c22468c-3850-4552-b817-a51c43b27c53"
      },
      "source": [
        "def Trapecio():\n",
        "    # a punto inicial del intervalo \n",
        "    # b punto final del intervalo \n",
        "    # f funcion a integrar\n",
        "    a=0\n",
        "    b=1\n",
        "    def f(x):\n",
        "        return x*x\n",
        "    \n",
        "    integral=((b-a)/2)*(f(a)+f(b))\n",
        "    print(\"el valor de la integral mediante el metodo de cuadratura del Trapecio: {}\".format(integral))\n",
        "\n",
        "Trapecio()"
      ],
      "execution_count": null,
      "outputs": [
        {
          "output_type": "stream",
          "text": [
            "el valor de la integral mediante el metodo de cuadratura del Trapecio: 0.5\n"
          ],
          "name": "stdout"
        }
      ]
    },
    {
      "cell_type": "markdown",
      "metadata": {
        "id": "f1IO7V-qw7-D"
      },
      "source": [
        "### Cuadratura del trapecio compuesto\n",
        "\n",
        "Sean los nodos $a=x_{0}<x_{1}<\\cdots<x_{n}=b$ con $h_{i}=x_{i+1}-x_{i}$ y lo que se busca es aproximar el valor de $\\int_{a}^{b}f\\left(x\\right)dx$. Ademas aprovechamos el hecho de que \n",
        "\n",
        "$$\\int_{a}^{b}f\\left(x\\right)dx\t=\t\\int_{a}^{c}f\\left(x\\right)dx+\\int_{c}^{b}f\\left(x\\right)dx$$\n",
        "\n",
        "Integrando sobre los subintervalos $\\left[x_{i},x_{i+1}\\right]$, para $i=0,\\ldots,n-1$ y aplicando la regla del trapecio simple, se obtiene\n",
        "\n",
        "$$\\int_{a}^{b}f\\left(x\\right)dx=\\sum_{i=0}^{n-1}\\int_{x_{i}}^{x_{i+1}}f\\left(x\\right)=\\sum_{i=0}^{n-1}\\frac{h_{i}}{2}\\left[f\\left(x_{i}\\right)+f\\left(x_{i+1}\\right)\\right]-\\sum_{i=0}^{n-1}\\frac{h_{i}^{3}}{12}f''\\left(\\xi_{i}\\right),\\quad\\xi_{i}\\in\\left(x_{i+1},x_{i}\\right) $$\n",
        "\n",
        "Si consideramos $h=h_{i}$ para $i=0,\\ldots,n-1$ y $f''\\left(x\\right)$ continua, entonces obtenemos el error total\n",
        "\n",
        "$$E_{T}=-\\frac{h^{3}}{12}\\sum_{i=0}^{n-1}f''\\left(\\xi_{i}\\right)=-\\frac{h^{3}}{12}nf''\\left(\\xi\\right)=-\\frac{h^{2}}{12}nhf''\\left(\\xi\\right)$$\n",
        "\n",
        "Donde $\\xi\\in\\left(x_{0},x_{n}\\right)$ y $h=\\frac{x_{n}-x_{0}}{n}$ entonces $E_{T}=-\\frac{h^{2}}{12}\\left(x_{n}-x_{0}\\right)f''\\left(\\xi\\right)$, es decir\n",
        "\n",
        "$$ \\int_{a}^{b}f\\left(x\\right)dx=\\frac{h}{2}\\left[f\\left(x_{0}\\right)+2f\\left(x_{1}\\right)+\\cdots+2f\\left(x_{n-1}\\right)+f\\left(x_{n}\\right)\\right]-\\frac{h^{2}}{12}\\left(x_{n}-x_{0}\\right)f''\\left(\\xi\\right)$$\n",
        "\n",
        "Así que\n",
        "\n",
        "$$\\int_{a}^{b}f\\left(x\\right)dx=\\frac{h}{2}\\left[f\\left(a\\right)+2\\sum_{i=1}^{n-1}f\\left(x_{i}\\right)+f\\left(b\\right)\\right]-\\frac{b-a}{12}h^{2}f''\\left(\\xi\\right)$$\n",
        "\n",
        "Es la forma general de la cuadratura del trapecio compuesto.\n",
        "\n"
      ]
    },
    {
      "cell_type": "code",
      "metadata": {
        "id": "LWgI2-zkw7-E",
        "colab": {
          "base_uri": "https://localhost:8080/",
          "height": 361,
          "referenced_widgets": [
            "0151c732f8554772bc554126837da480",
            "52a4d5f40f01449eb40a71b743c4b5d4",
            "603ac161805c4d30998f832929dabd59",
            "766e590a67154cfa87bb5bc2f28ae382",
            "5885e8c931e24a73a844642d21af6e72",
            "ecfd140c1ea84f4c91232e9402bae2f2",
            "18cae629914c4ab19ec99d783c7d5a93"
          ]
        },
        "outputId": "9b4e0880-08d0-410c-e7f9-364dac3d9715"
      },
      "source": [
        "def TrapecioCompuesto(n): \n",
        "    # n los puntos que se usaran para integrar \n",
        "    # a punto inicial del intervalo\n",
        "    a=0\n",
        "    # b punto final del intervalo \n",
        "    b=1\n",
        "    # f funcion a integrar\n",
        "    f = lambda x:x*x\n",
        "    # grafica de f(x)\n",
        "    xp=np.linspace(a,b,30)\n",
        "    fp=f(xp)\n",
        "    plt.plot(xp,fp,color='black')\n",
        "    # se grafican los trapecios\n",
        "    x=np.linspace(a,b,n+1)\n",
        "    for i in range(n):\n",
        "      xs = [x[i],x[i],x[i+1],x[i+1]]\n",
        "      ys = [0,f(x[i]),f(x[i+1]),0]\n",
        "      plt.fill(xs,ys,alpha=0.7,edgecolor='b')\n",
        "    # datos de la grafica\n",
        "    plt.title(\"Aproximacion de la integral con el metodo del Trapecio compuesto\")\n",
        "    plt.xlabel(\"x\")\n",
        "    plt.ylabel(r\"$f \\left(x\\right) = x^{2}$\")\n",
        "    plt.grid()\n",
        "    # formula del trapecio compuesto\n",
        "    cuadratura=0.0\n",
        "    for i in range (1,len(x)-1):\n",
        "        cuadratura+=f( x[i])\n",
        "\n",
        "    integral=((b-a)/(2*n))*(2*cuadratura+f(a)+f(b))\n",
        "    \n",
        "    print(\"el valor de la integral mediante el metodo de cuadratura del  Trapecio Compuesto es: {}\".format(integral)) \n",
        "\n",
        "interact(TrapecioCompuesto,n=widgets.IntSlider(min=1,max=30,step=1,value=1))"
      ],
      "execution_count": null,
      "outputs": [
        {
          "output_type": "display_data",
          "data": {
            "application/vnd.jupyter.widget-view+json": {
              "model_id": "0151c732f8554772bc554126837da480",
              "version_minor": 0,
              "version_major": 2
            },
            "text/plain": [
              "interactive(children=(IntSlider(value=1, description='n', max=30, min=1), Output()), _dom_classes=('widget-int…"
            ]
          },
          "metadata": {
            "tags": []
          }
        },
        {
          "output_type": "execute_result",
          "data": {
            "text/plain": [
              "<function __main__.TrapecioCompuesto>"
            ]
          },
          "metadata": {
            "tags": []
          },
          "execution_count": 52
        }
      ]
    },
    {
      "cell_type": "markdown",
      "metadata": {
        "id": "sjL0EQ79w7-J"
      },
      "source": [
        "### Cuadratura de Simpson $\\frac{1}{3}$\n",
        "\n",
        "Se obtiene al integrar en $\\left[a,b\\right]$ el segundo polinomio de Lagrange con los nodos $x_{0}=a,\\,x_{1}=a+h$ y $x_{2}=b$ donde $h=\\frac{b-a}{2}$\n",
        "\n",
        "$$\\int_{a}^{b}f\\left(x\\right)dx=\\int_{x_{0}}^{x_{2}}\\left[\\frac{\\left(x-x_{1}\\right)\\left(x-x_{2}\\right)}{\\left(x_{0}-x_{1}\\right)\\left(x_{0}-x_{2}\\right)}f(x_{0})+\\frac{\\left(x-x_{0}\\right)\\left(x-x_{2}\\right)}{\\left(x_{1}-x_{0}\\right)\\left(x_{1}-x_{2}\\right)}f(x_{1})\\right]\\\\+\\int_{x_{0}}^{x_{2}}\\left[\\frac{\\left(x-x_{0}\\right)\\left(x-x_{1}\\right)}{\\left(x_{2}-x_{0}\\right)\\left(x_{2}-x_{1}\\right)}f(x_{2})\\right]\\\\+\\frac{1}{6}\\int_{x_{0}}^{x_{2}}f'''\\left(\\xi\\left(x\\right)\\right)\\left(x-x_{0}\\right)\\left(x-x_{1}\\right)\\left(x-x_{2}\\right)dx $$\n",
        "\n",
        "Sin embargo, al deducir la regla de Simpson de esta manera, unicamente se obtiene un término de error $O\\left(h^{4}\\right)$ que contiene a $f^{\\left(3\\right)}$. Pero si construimos la regla de otra forma, podemos deducir un termino de orden superior que incluya a $f^{\\left(4\\right)}$\n",
        "\n",
        "Supongamos que $f$ se expande mediante el tercer polinomio de Taylor alrededor de $x_{1}$. Entonces, para cada $x$ en $\\left[x_{0},x_{2}\\right]$, existe un número $\\xi\\left(x\\right)\\in\\left(x_{0},x_{2}\\right)$ tal que\n",
        "\n",
        "$$f\\left(x\\right)=f\\left(x_{1}\\right)+f'\\left(x_{1}\\right)\\left(x-x_{1}\\right)+\\frac{f''\\left(x_{1}\\right)\\left(x-x_{1}\\right)^{2}}{2!}\\\\+\\frac{f'''\\left(x_{1}\\right)\\left(x-x_{1}\\right)^{3}}{3!}+\\frac{f^{\\left(4\\right)}\\left(\\xi\\left(x\\right)\\right)\\left(x-x_{1}\\right)^{4}}{4!}$$\n",
        "\n",
        "Si $h=\\left(x-x_{1}\\right)$ entonces\n",
        "\n",
        "$$\\int_{x_{0}}^{x_{2}}f\\left(x\\right)dx=\\left[f\\left(x_{1}\\right)h+\\frac{f'\\left(x_{1}\\right)h^{2}}{2!}+\\frac{f''\\left(x_{1}\\right)h^{3}}{3!}+\\frac{f^{\\left(3\\right)}\\left(x_{1}\\right)h^{4}}{4!}\\right]_{x_{0}}^{x_{2}}+\\frac{1}{24}\\int_{x_{0}}^{x_{2}}f^{\\left(4\\right)}\\left(\\xi\\left(x\\right)\\right)h^{4}dx \\tag{5}$$\n",
        "\n",
        "Puesto que $\\left(x-x_{1}\\right)^{4}$ nunca es negativo en $\\left[x_{0},x_{2}\\right]$ y por el Teorema del Valor Medio ponderado, entonces\n",
        "\n",
        "$$\\frac{1}{24}\\int_{x_{0}}^{x_{2}}f^{\\left(4\\right)}\\left(\\xi\\left(x\\right)\\right)h^{4}dx=\\frac{f^{\\left(4\\right)}\\left(\\xi_{1}\\right)}{24}\\int_{x_{0}}^{x_{2}}h^{4}dx=\\frac{f^{\\left(4\\right)}\\left(\\xi_{1}\\right)}{120}h^{5}\\mid_{x_{0}}^{x2}$$\n",
        "\n",
        "Para algún número $\\xi_{1}\\in\\left(x_{0},x_{2}\\right)$. Pero por otro lado $h=x_{2}-x_{1}=x_{1}-x_{0}$, así que\n",
        "\n",
        "$$\\left(x_{2}-x_{1}\\right)^{2}-\\left(x_{1}-x_{0}\\right)^{2}=\\left(x_{2}-x_{1}\\right)^{4}-\\left(x_{1}-x_{0}\\right)^{4}=0 $$\n",
        "\n",
        "Mientras que\n",
        "\n",
        "$$\\left(x_{2}-x_{1}\\right)^{3}-\\left(x_{1}-x_{0}\\right)^{3}=2h^{3} \\quad y \\quad \\left(x_{2}-x_{1}\\right)^{5}-\\left(x_{1}-x_{0}\\right)^{5}=2h^{5}$$\n",
        "\n",
        "Así que (5), se puede reescribir así\n",
        "\n",
        "$$\\int_{x_{0}}^{x_{2}}f\\left(x\\right)dx=2hf\\left(x_{1}\\right)+\\frac{h^{3}f''\\left(x_{1}\\right)}{3}+\\frac{f^{\\left(4\\right)}\\left(\\xi_{1}\\right)h^{5}}{60}$$\n",
        "\n",
        "Pero si ahora reemplazamos $f''\\left(x_{1}\\right)$ por su aproximación en diferencias finitas, se tiene\n",
        "\n",
        "$$\\int_{x_{0}}^{x_{2}}f\\left(x\\right)dx=2hf\\left(x_{1}\\right)+\\frac{h^{3}}{3}\\left\\{ \\frac{1}{h^{2}}\\left[f\\left(x_{0}\\right)-2f\\left(x_{1}\\right)+f\\left(x_{2}\\right)\\right]-\\frac{h^{2}}{12}f^{\\left(4\\right)}\\left(\\xi_{2}\\right)\\right\\} \\\\+\\frac{f^{\\left(4\\right)}\\left(\\xi_{1}\\right)h^{5}}{60}\\\\=\\frac{h}{3}\\left[f\\left(x_{0}\\right)+4f\\left(x_{1}\\right)+f\\left(x_{2}\\right)\\right]-\\frac{h^{5}}{12}\\left[\\frac{1}{3}f^{\\left(4\\right)}\\left(\\xi_{2}\\right)-\\frac{1}{5}f^{\\left(4\\right)}\\left(\\xi_{1}\\right)\\right] $$\n",
        "\n",
        "Así tenemos que\n",
        "\n",
        "$$\\int_{x_{0}}^{x_{2}}f\\left(x\\right)dx=\\frac{h}{3}\\left[f\\left(x_{0}\\right)+4f\\left(x_{1}\\right)+f\\left(x_{2}\\right)\\right]-\\frac{h^{5}}{90}f^{\\left(4\\right)}\\left(\\xi_{1}\\right)$$\n",
        "\n",
        "Es la forma general de la regla de Simpson $\\frac{1}{3}$\n"
      ]
    },
    {
      "cell_type": "markdown",
      "metadata": {
        "id": "UroVPZEG8k8o"
      },
      "source": [
        "#### Ejemplo \n",
        "\n",
        "La regla del trapecio para una función $f$ en el intervalo $\\left[0,2\\right]$ es \n",
        "\n",
        "$$\\int_{0}^{2}f\\left(x\\right)dx\\approx f\\left(0\\right)+f\\left(2\\right)$$\n",
        "\n",
        "y la regla de Simpson para $f$ en $\\left[0,2\\right]$ es\n",
        "\n",
        "$$\\int_{0}^{2}f\\left(x\\right)dx\\approx\\frac{1}{3}\\left[f\\left(0\\right)+4f\\left(1\\right)+f\\left(2\\right)\\right] $$\n",
        "\n",
        "Calcular las correspondientes aproximaciones para\n",
        "\n",
        "$$x^{2},x^{4},\\frac{1}{\\left(x+1\\right)},\\,\\sqrt{1+x^{2}},\\,sen\\,x,\\,e^{x}$$\n",
        "\n",
        "Notar como en todos los casos, la regla de Simpson, proporciona una mejor aproximación.\n",
        "\n",
        "| $f\\left(x\\right)$        | $x^{2}$ |  $x^{4}$ | $\\frac{1}{x+1}$|$\\sqrt{1+x^{2}}$ |sen x |$e^{x}$ |\n",
        "| :-:  | :-: | :-: |  :-: | :-:  |   :-: |   :-: | \n",
        "| Valores exactos  | 2.667 |6.400 |1.099 |2.958 |1.416 |6.389 |\n",
        "| Trapecio | 4.00\t|16.00\t|1.333|\t3.326|\t0.909|\t8.389|\n",
        "| Simpson\t|2.667|\t6.667|\t1.111|\t2.964|\t1.425|\t6.421|"
      ]
    },
    {
      "cell_type": "code",
      "metadata": {
        "id": "VPf_wwHmw7-K",
        "cellView": "form",
        "colab": {
          "base_uri": "https://localhost:8080/"
        },
        "outputId": "259d420c-f8f1-42f4-e08c-b75148a76bdc"
      },
      "source": [
        "#@title\n",
        "def Simpson1_3():\n",
        "    # x0 punto inicial del intervalo \n",
        "    # x2 punto final del intervalo \n",
        "    # f funcion a integrar\n",
        "    x0=0\n",
        "    x2=1\n",
        "    h=(x2-x0)/2\n",
        "    x1=x0+h\n",
        "\n",
        "    def f(x):\n",
        "        return x*x\n",
        "        \n",
        "    integral=(h/3)*(f(x0)+4*f(x1)+f(x2))\n",
        "    \n",
        "    print(\"el valor de la integral mediante el metodo de cuadratura del  Simpson 1/3: {}\".format(integral)) \n",
        "\n",
        "Simpson1_3()"
      ],
      "execution_count": null,
      "outputs": [
        {
          "output_type": "stream",
          "text": [
            "el valor de la integral mediante el metodo de cuadratura del  Trapecio Compuesto es: 0.3333333333333333\n"
          ],
          "name": "stdout"
        }
      ]
    },
    {
      "cell_type": "code",
      "metadata": {
        "id": "ZgHMfA9-_rDj",
        "colab": {
          "base_uri": "https://localhost:8080/"
        },
        "outputId": "041b5854-0a55-4d3f-a6eb-69a11ff12b66"
      },
      "source": [
        "import numpy as np\n",
        "\n",
        "def Simpson1_3():\n",
        "    # x0 punto inicial del intervalo \n",
        "    # x2 punto final del intervalo \n",
        "    # f funcion a integrar\n",
        "    x0=0\n",
        "    x2=2\n",
        "    h=(x2-x0)/2\n",
        "    x1=x0+h\n",
        "\n",
        "    f1 = lambda x: x*x\n",
        "    f2 = lambda x: x**(4)\n",
        "    f3 = lambda x: 1/(x+1)\n",
        "    f4 = lambda x: np.sqrt(1+x*x)\n",
        "    f5 = lambda x: np.sin(x)\n",
        "    f6 = lambda x: np.exp(x)\n",
        "        \n",
        "    integral1=(h/3)*(f1(x0)+4*f1(x1)+f1(x2))\n",
        "    integral2=(h/3)*(f2(x0)+4*f2(x1)+f2(x2))\n",
        "    integral3=(h/3)*(f3(x0)+4*f3(x1)+f3(x2))\n",
        "    integral4=(h/3)*(f4(x0)+4*f4(x1)+f4(x2))\n",
        "    integral5=(h/3)*(f5(x0)+4*f5(x1)+f5(x2))\n",
        "    integral6=(h/3)*(f6(x0)+4*f6(x1)+f6(x2))\n",
        "    \n",
        "    print(\"el valor de la integral mediante el metodo de cuadratura del  Trapecio Compuesto es: {}\".format(integral1)) \n",
        "    print(\"el valor de la integral mediante el metodo de cuadratura del  Trapecio Compuesto es: {}\".format(integral2))\n",
        "    print(\"el valor de la integral mediante el metodo de cuadratura del  Trapecio Compuesto es: {}\".format(integral3))\n",
        "    print(\"el valor de la integral mediante el metodo de cuadratura del  Trapecio Compuesto es: {}\".format(integral4))\n",
        "    print(\"el valor de la integral mediante el metodo de cuadratura del  Trapecio Compuesto es: {}\".format(integral5))\n",
        "    print(\"el valor de la integral mediante el metodo de cuadratura del  Trapecio Compuesto es: {}\".format(integral6)) \n",
        "\n",
        "\n",
        "Simpson1_3()"
      ],
      "execution_count": null,
      "outputs": [
        {
          "output_type": "stream",
          "text": [
            "el valor de la integral mediante el metodo de cuadratura del  Trapecio Compuesto es: 2.6666666666666665\n",
            "el valor de la integral mediante el metodo de cuadratura del  Trapecio Compuesto es: 6.666666666666666\n",
            "el valor de la integral mediante el metodo de cuadratura del  Trapecio Compuesto es: 1.1111111111111112\n",
            "el valor de la integral mediante el metodo de cuadratura del  Trapecio Compuesto es: 2.9643074089973895\n",
            "el valor de la integral mediante el metodo de cuadratura del  Trapecio Compuesto es: 1.4250604553524227\n",
            "el valor de la integral mediante el metodo de cuadratura del  Trapecio Compuesto es: 6.42072780425561\n"
          ],
          "name": "stdout"
        }
      ]
    },
    {
      "cell_type": "markdown",
      "metadata": {
        "id": "nWIDZP_Yw7-P"
      },
      "source": [
        "### Cuadratura de Simpson $\\frac{3}{8}$\n",
        "\n",
        "Esta regla se obtiene al integra el tercer polinomio de Lagrange en $\\left[a,b\\right]$ tomando los nodos $x_{0}=a,\\,x_{1}=a+h,\\,x_{2}=a+2h$ y $x_{3}=b$ donde $h=\\frac{b-a}{3}$ es decir\n",
        "\n",
        "$$\\int_{a}^{b}f\\left(x\\right)dx\\approx\\int_{a}^{b}P_{3}\\left(x\\right)dx=\\frac{3h}{8} \\left[f\\left(x_{0}\\right)+3f\\left(x_{1}\\right)+3f\\left(x_{2}\\right)+f\\left(x_{3}\\right)\\right]$$\n",
        "\n",
        "Es importante notar que esta regla es una suma ponderada de los valores de $f\\left(x\\right)$ en los dos puntos finales $x_{0}=a$ y $x_{3}=b$, y los dos puntos $x_{1},x_{2}$ divide el intervalo en tres partes iguales.\n",
        "\n"
      ]
    },
    {
      "cell_type": "code",
      "metadata": {
        "id": "bbLbHny9w7-Q",
        "outputId": "520d7c21-e6b7-49d2-878c-9e3ff7765e1f"
      },
      "source": [
        "def Simpson3_8():\n",
        "    # x0 punto inicial del intervalo \n",
        "    # x3 punto final del intervalo \n",
        "    # f funcion a integrar\n",
        "    x0=0\n",
        "    x3=1\n",
        "    h=(x3-x0)/3\n",
        "    x1=x0+h\n",
        "    x2=x0+2*h\n",
        "    def f(x):\n",
        "        return x*x\n",
        "        \n",
        "    integral=(3/8)*h*(f(x0)+3*f(x1)+3*f(x2)+f(x3))\n",
        "    \n",
        "    print(\"el valor de la integral mediante el metodo de cuadratura del  Trapecio Compuesto es: {}\".format(integral)) \n",
        "\n",
        "Simpson3_8()"
      ],
      "execution_count": null,
      "outputs": [
        {
          "output_type": "stream",
          "text": [
            "el valor de la integral mediante el metodo de cuadratura del  Trapecio Compuesto es: 0.3333333333333333\n"
          ],
          "name": "stdout"
        }
      ]
    },
    {
      "cell_type": "markdown",
      "metadata": {
        "id": "N6J_kbU0w7-U"
      },
      "source": [
        "# Cuadratura Gaussiana\n",
        "\n",
        "Las reglas vista en la sección anterior, también son conocidas como reglas de Newton-Cotes, se dedujeron integrando los polinomios de interpolación.\n",
        "\n",
        "El termino de error en el polinomio de interpolación de grado n contiene la $\\left(n+1\\right)-esima$ derivada.\n",
        "\n",
        "En todas las formulas de Newton-Cotes se emplean valores de la función equidistantes. Este procedimiento es adecuado cuando las reglas son combinadas para crear nuevas reglas compuestas, como las vistas con anterioridad.\n",
        "\n",
        "Sin embargo la restricción que pide a los nodo ser equidistantes, puede afectar considerablemente la exactitud de la aproximación.\n",
        "\n",
        "La cuadratura Gaussiana optimiza la forma de seleccionar los puntos a ser evaluados y no los toma en forma igualmente espaciada como se había visto en las reglas de Newton-Cotes.\n",
        "\n",
        "Se escogen los nodos $x_{1},x_{2},\\ldots,x_{n}$ en el intervalo $\\left[a,b\\right]$ y los coeficientes $c_{1},c_{2},\\ldots c_{n}$ para reducir en lo posible el error esperado que se obtiene al efectuar la aproximación\n",
        "\n",
        "$$ \\int_{a}^{b}f\\left(x\\right)dx\\approx\\sum_{i=1}^{n}c_{i}f\\left(x_{i}\\right)$$\n",
        "\n",
        "Los coeficientes (pesos) $c_{1},c_{2},\\ldots c_{n}$ son arbitrarios y los nodos (puntos de Gauss) $x_{1},x_{2},\\ldots,x_{n}$ están restringidos a pertenecer al intervalo $\\left[a,b\\right]$.\n",
        "\n",
        "Esto nos da $2n$ parámetros de donde elegir. Considerando la clase de polinomios de grado máximo $2n-1$ también contiene $2n$ parámetros, si es que los coeficientes de un polinomio se consideran parámetros.\n",
        "\n",
        "Esta clase de polinomios es la más amplia para la cual es razonable esperar que la regla devuelva un resultado exacto.\n",
        "\n",
        "Se mostrará cómo seleccionar los coeficientes y los nodos cuando $n=2$ y cuando el intervalo de integración es $\\left[-1,1\\right]$\n",
        "\n",
        "Después se explicara el caso mas general de una elección arbitraria de puntos y pesos, indicando como modificar el método cuando se integra en un intervalo arbitrario.\n",
        "\n"
      ]
    },
    {
      "cell_type": "markdown",
      "metadata": {
        "id": "4UBd93v1SZyt"
      },
      "source": [
        "## Cuadratura Gaussiana con $n=2$ puntos\n",
        "\n",
        "Supongamos que se requiere determinar $c_{1},c_{2},x_{1},x_{2}$ de modo que la regla de integración\n",
        "\n",
        "$$\\int_{-1}^{1}f\\left(x\\right)dx\\approx c_{1}f\\left(x_{1}\\right)+c_{2}f\\left(x_{2}\\right)$$\n",
        "\n",
        "proporcione el resultado exacto siempre que $f\\left(x\\right)$ sea un polinomio de grado $2\\left(2\\right)-1=3$ o menor, es decir que sea un polinomio de la forma\n",
        "\n",
        "$$ f\\left(x\\right)=a_{0}+a_{1}x+a_{2}x^{2}+a_{3}x^{3} $$\n",
        "\n",
        "Dado que\n",
        "\n",
        "$$\\int f\\left(x\\right)dx=a_{0}\\int1dx+a_{1}\\int xdx+a_{2}\\int x^{2}dx+a_{3}\\int x^{3}d $$\n",
        "\n",
        "esto equivale a demostrar que la regla produce resultados exactos cuando $f\\left(x\\right)$ es $1,x,x^{2},x^{3}$\n",
        "\n",
        "Necesitamos $c_{1},c_{2},x_{1},x_{2}$ de manera tal que\n",
        "\n",
        "$$\\begin{array}{cc}\n",
        "{\\color{blue}{(a)}}\\,c_{1}*1+c_{2}*1=\\int_{-1}^{1}1dx=2\\quad & {\\color{blue}{(b)}}\\,c_{1}x_{1}+c_{2}x_{2}=\\int_{-1}^{1}xdx=0\\\\\n",
        "{\\color{blue}{(c)}}\\,c_{1}x_{1}^{2}+c_{2}x_{2}^{2}=\\int_{-1}^{1}x^{2}dx=\\frac{2}{3} & {\\color{blue}{(d)}}\\,c_{1}x_{1}^{3}+c_{2}x_{2}^{3}=\\int_{-1}^{1}x^{3}dx=0\n",
        "\\end{array}$$\n",
        "\n",
        "Las 4 incógnitas se puede determinar comenzando con $(b)$\n",
        "\n",
        "$$c_{2}=-\\frac{c_{1}x_{1}}{x_{2}} \\tag{6}$$\n",
        "\n",
        "Ahora substituyendo en $(d)$ se tiene\n",
        "\n",
        "$$c_{1}x_{1}^{3}-c_{1}x_{1}x_{2}^{2}=0\\,\\Rightarrow\\,x_{1}^{2}=x_{2}^{2}$$\n",
        "\n",
        "Pero $x_{1}\\neq x_{2}$ por lo tanto se tiene que\n",
        "\n",
        "$$x_{1}=-x_{2} \\tag{7}$$\n",
        "\n",
        "Ahora substituyendo $x_{1}$ en $(6)$, tenemos que $c_{1}=c_{2}$ y usando $(a)$\n",
        "\n",
        "$$ c_{1}=c_{2}=1 \\tag{8}$$\n",
        "\n",
        "Si se substituye $(7)$ y $(8)$ en $(c)$ se tiene\n",
        "\n",
        "$$x_{1}^{2}+x_{2}^{2}=\\frac{2}{3}\\,\\Rightarrow\\,x_{1}^{2}+x_{1}^{2}=\\frac{2}{3}\\,\\Rightarrow\\,2x_{1}^{2}=\\frac{2}{3}\\,\\Rightarrow\\,x_{1}^{2}=\\frac{1}{3}$$\n",
        "\n",
        "$$ \\therefore x_{1}=\\frac{1}{\\sqrt{3}}$$\n",
        "\n",
        "Así tenemos que\n",
        "\n",
        "$$ c_{1}=1,\\quad c_{2}=1,\\quad x_{1}=\\frac{1}{\\sqrt{3}}\\quad y \\quad x_{2}=\\frac{-1}{\\sqrt{3}}$$\n",
        "\n",
        "Así que la regla para 2 puntos es\n",
        "\n",
        "$$\\int_{-1}^{1}f\\left(x\\right)dx\\approx f\\left(\\frac{1}{\\sqrt{3}}\\right)+f\\left(\\frac{-1}{\\sqrt{3}}\\right) $$ \n",
        "\n",
        "\n",
        "\n",
        "|   n  puntos    | Coeficientes (pesos)  $C_{i}$  |   Puntos (integración) Gauss $x_{i}$ | \n",
        "|  :-:   |  :-:  |  :-:  |  \n",
        "| 2  | $c_{1}=c_{2}=1$      | $x_{1}=0.578\\\\x_{2}=-0.578$ |\n",
        "| 3  | $c_{1}=0.556\\\\c_{2}=0.889\\\\c_{3}=0.556$ | $x_{1}=0.774\\\\x_{2}=0\\\\x_{3}=-0.774$ |\n",
        "\n"
      ]
    },
    {
      "cell_type": "markdown",
      "metadata": {
        "id": "Lp9t6jRDSd6A"
      },
      "source": [
        "## Cuadratura Gaussiana general\n",
        "\n",
        "Una integral $\\int_{a}^{b}f\\left(x\\right)dx$ en un intervalo arbitrario $\\left[a,b\\right]$ se puede transformar en otra integral $\\int_{-1}^{1}f\\left(t\\right)dt$ en $\\left[-1,1\\right]$ usando el cambio de variable\n",
        "\n",
        "$$t=\\frac{2x-a-b}{b-a}\\Leftrightarrow x=\\frac{1}{2}\\left[\\left(b-a\\right)t+a+b\\right] $$\n",
        "\n",
        "Donde el diferencial de $x$ es $dx=\\frac{1}{2}\\left(b-a\\right)dt$. Esto nos permite aplicar la cuadratura Gaussiana a cualquier intervalo $\\left[a,b\\right]$, ya que\n",
        "\n",
        "$$ \\int_{a}^{b}f\\left(x\\right)dx=\\int_{-1}^{1}f\\left(\\frac{\\left(b-a\\right)t+\\left(b+a\\right)}{2}\\right)\\frac{\\left(b-a\\right)}{2}dt $$\n",
        "\n"
      ]
    },
    {
      "cell_type": "markdown",
      "metadata": {
        "id": "QUnDN8cOSgz1"
      },
      "source": [
        "### Ejemplo\n",
        "\n",
        "Evalúe $\\int_{0}^{3}e^{-x^{2}}dx$. Usando $n=3$ puntos. Encuentre el error, empleando el valor analítico.\n",
        "\n",
        "El valor de la integral resolviendo de manera analíticamente es 0.886207.\n",
        "\n"
      ]
    },
    {
      "cell_type": "code",
      "metadata": {
        "id": "TRtZ_9obw7-V",
        "colab": {
          "base_uri": "https://localhost:8080/"
        },
        "outputId": "6e185eaf-7a81-42f2-e363-562d1ecec931"
      },
      "source": [
        "def CuaGauss():\n",
        "    # a punto inicial del intervalo\n",
        "    a = 0  \n",
        "    #a=0\n",
        "    # b punto final del intervalo\n",
        "    b = 3\n",
        "    #b=1 \n",
        "    # puntos de Gauss\n",
        "    x=np.array([0.774,0.0,-0.774])\n",
        "    # pesos de Gauss\n",
        "    c=np.array([0.556,0.889,0.556])\n",
        "    # f funcion a integrar\n",
        "    #f = lambda x:x*x\n",
        "    f = lambda x: np.exp(-(x)**2)\n",
        "    # acumulador\n",
        "    cuadratura=0.0\n",
        "    # constante de \n",
        "    dx=(b-a)/2\n",
        "    # por cada punto de integracion\n",
        "    for i in range(len(x)):\n",
        "        # nuevo punto de integracion\n",
        "        changeVar=0.0\n",
        "        changeVar=(((b-a)*x[i])+b+a)/2\n",
        "        # se acumula la evualuacion de f en nuevo punto\n",
        "        cuadratura+=c[i]*f(changeVar)\n",
        "        \n",
        "    integral=cuadratura*dx\n",
        "    \n",
        "    print(\"el resultad de la integral con una cuadratura de 3 puntos es :{}\".format(integral))\n",
        "    \n",
        "CuaGauss()"
      ],
      "execution_count": null,
      "outputs": [
        {
          "output_type": "stream",
          "text": [
            "el resultad de la integral con una cuadratura de 3 puntos es :0.8847093533668051\n"
          ],
          "name": "stdout"
        }
      ]
    },
    {
      "cell_type": "markdown",
      "metadata": {
        "id": "Jz-VcnxDw7-a"
      },
      "source": [
        "# Referencias\n",
        "\n",
        "*   Riswan Butt, Numerical Analysys Using Matlab, Jones and Bartlett.\n",
        "*   Ward Cheney, David Kincaid, Métodos Numéricos y Computación, Cenage Learning.\n",
        "*   Richard L. Burden, J. Douglas Faires, Análisis Numérico, Math Learning.\n",
        "*   Yuri N. Skiba, Introducción a los Métodos Numéricos.\n",
        "*   Quarteroni, A, Sacco R.: Numerical mathematics, Springer. 2007.\n",
        "\n"
      ]
    }
  ]
}