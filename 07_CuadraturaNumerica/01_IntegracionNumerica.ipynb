{
  "nbformat": 4,
  "nbformat_minor": 0,
  "metadata": {
    "kernelspec": {
      "display_name": "Python 3.7 (tensorflow)",
      "language": "python",
      "name": "tensorflow"
    },
    "language_info": {
      "codemirror_mode": {
        "name": "ipython",
        "version": 3
      },
      "file_extension": ".py",
      "mimetype": "text/x-python",
      "name": "python",
      "nbconvert_exporter": "python",
      "pygments_lexer": "ipython3",
      "version": "3.7.7"
    },
    "colab": {
      "name": "Integracion_numerica.ipynb",
      "provenance": [],
      "toc_visible": true,
      "include_colab_link": true
    },
    "widgets": {
      "application/vnd.jupyter.widget-state+json": {
        "c9e89f6387b44e0fa34c359417b07677": {
          "model_module": "@jupyter-widgets/controls",
          "model_name": "VBoxModel",
          "state": {
            "_view_name": "VBoxView",
            "_dom_classes": [
              "widget-interact"
            ],
            "_model_name": "VBoxModel",
            "_view_module": "@jupyter-widgets/controls",
            "_model_module_version": "1.5.0",
            "_view_count": null,
            "_view_module_version": "1.5.0",
            "box_style": "",
            "layout": "IPY_MODEL_9a397de5cb6d478e8b1c5ec18fc9fbda",
            "_model_module": "@jupyter-widgets/controls",
            "children": [
              "IPY_MODEL_97315d5d4d31439a99fbb91d96101674",
              "IPY_MODEL_cf1b916c1b724ffeace89cf8e9e68912"
            ]
          }
        },
        "9a397de5cb6d478e8b1c5ec18fc9fbda": {
          "model_module": "@jupyter-widgets/base",
          "model_name": "LayoutModel",
          "state": {
            "_view_name": "LayoutView",
            "grid_template_rows": null,
            "right": null,
            "justify_content": null,
            "_view_module": "@jupyter-widgets/base",
            "overflow": null,
            "_model_module_version": "1.2.0",
            "_view_count": null,
            "flex_flow": null,
            "width": null,
            "min_width": null,
            "border": null,
            "align_items": null,
            "bottom": null,
            "_model_module": "@jupyter-widgets/base",
            "top": null,
            "grid_column": null,
            "overflow_y": null,
            "overflow_x": null,
            "grid_auto_flow": null,
            "grid_area": null,
            "grid_template_columns": null,
            "flex": null,
            "_model_name": "LayoutModel",
            "justify_items": null,
            "grid_row": null,
            "max_height": null,
            "align_content": null,
            "visibility": null,
            "align_self": null,
            "height": null,
            "min_height": null,
            "padding": null,
            "grid_auto_rows": null,
            "grid_gap": null,
            "max_width": null,
            "order": null,
            "_view_module_version": "1.2.0",
            "grid_template_areas": null,
            "object_position": null,
            "object_fit": null,
            "grid_auto_columns": null,
            "margin": null,
            "display": null,
            "left": null
          }
        },
        "97315d5d4d31439a99fbb91d96101674": {
          "model_module": "@jupyter-widgets/controls",
          "model_name": "IntSliderModel",
          "state": {
            "_view_name": "IntSliderView",
            "style": "IPY_MODEL_e1f90af8fe534b83953f2081cbf7b27f",
            "_dom_classes": [],
            "description": "n",
            "step": 1,
            "_model_name": "IntSliderModel",
            "orientation": "horizontal",
            "max": 30,
            "_view_module": "@jupyter-widgets/controls",
            "_model_module_version": "1.5.0",
            "value": 30,
            "_view_count": null,
            "disabled": false,
            "_view_module_version": "1.5.0",
            "min": 1,
            "continuous_update": true,
            "readout_format": "d",
            "description_tooltip": null,
            "readout": true,
            "_model_module": "@jupyter-widgets/controls",
            "layout": "IPY_MODEL_47d25561cbe642ae888b52129913fc17"
          }
        },
        "cf1b916c1b724ffeace89cf8e9e68912": {
          "model_module": "@jupyter-widgets/output",
          "model_name": "OutputModel",
          "state": {
            "_view_name": "OutputView",
            "msg_id": "",
            "_dom_classes": [],
            "_model_name": "OutputModel",
            "outputs": [
              {
                "output_type": "stream",
                "metadata": {
                  "tags": []
                },
                "text": "el valor de la integral mediante el metodo de cuadratura del rectangulo es: 0.3501851851851852\n",
                "stream": "stdout"
              },
              {
                "output_type": "display_data",
                "metadata": {
                  "tags": [],
                  "needs_background": "light"
                },
                "image/png": "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\n",
                "text/plain": "<Figure size 432x288 with 1 Axes>"
              }
            ],
            "_view_module": "@jupyter-widgets/output",
            "_model_module_version": "1.0.0",
            "_view_count": null,
            "_view_module_version": "1.0.0",
            "layout": "IPY_MODEL_f4bc937958ea41d8a0bef0b668409385",
            "_model_module": "@jupyter-widgets/output"
          }
        },
        "e1f90af8fe534b83953f2081cbf7b27f": {
          "model_module": "@jupyter-widgets/controls",
          "model_name": "SliderStyleModel",
          "state": {
            "_view_name": "StyleView",
            "handle_color": null,
            "_model_name": "SliderStyleModel",
            "description_width": "",
            "_view_module": "@jupyter-widgets/base",
            "_model_module_version": "1.5.0",
            "_view_count": null,
            "_view_module_version": "1.2.0",
            "_model_module": "@jupyter-widgets/controls"
          }
        },
        "47d25561cbe642ae888b52129913fc17": {
          "model_module": "@jupyter-widgets/base",
          "model_name": "LayoutModel",
          "state": {
            "_view_name": "LayoutView",
            "grid_template_rows": null,
            "right": null,
            "justify_content": null,
            "_view_module": "@jupyter-widgets/base",
            "overflow": null,
            "_model_module_version": "1.2.0",
            "_view_count": null,
            "flex_flow": null,
            "width": null,
            "min_width": null,
            "border": null,
            "align_items": null,
            "bottom": null,
            "_model_module": "@jupyter-widgets/base",
            "top": null,
            "grid_column": null,
            "overflow_y": null,
            "overflow_x": null,
            "grid_auto_flow": null,
            "grid_area": null,
            "grid_template_columns": null,
            "flex": null,
            "_model_name": "LayoutModel",
            "justify_items": null,
            "grid_row": null,
            "max_height": null,
            "align_content": null,
            "visibility": null,
            "align_self": null,
            "height": null,
            "min_height": null,
            "padding": null,
            "grid_auto_rows": null,
            "grid_gap": null,
            "max_width": null,
            "order": null,
            "_view_module_version": "1.2.0",
            "grid_template_areas": null,
            "object_position": null,
            "object_fit": null,
            "grid_auto_columns": null,
            "margin": null,
            "display": null,
            "left": null
          }
        },
        "f4bc937958ea41d8a0bef0b668409385": {
          "model_module": "@jupyter-widgets/base",
          "model_name": "LayoutModel",
          "state": {
            "_view_name": "LayoutView",
            "grid_template_rows": null,
            "right": null,
            "justify_content": null,
            "_view_module": "@jupyter-widgets/base",
            "overflow": null,
            "_model_module_version": "1.2.0",
            "_view_count": null,
            "flex_flow": null,
            "width": null,
            "min_width": null,
            "border": null,
            "align_items": null,
            "bottom": null,
            "_model_module": "@jupyter-widgets/base",
            "top": null,
            "grid_column": null,
            "overflow_y": null,
            "overflow_x": null,
            "grid_auto_flow": null,
            "grid_area": null,
            "grid_template_columns": null,
            "flex": null,
            "_model_name": "LayoutModel",
            "justify_items": null,
            "grid_row": null,
            "max_height": null,
            "align_content": null,
            "visibility": null,
            "align_self": null,
            "height": null,
            "min_height": null,
            "padding": null,
            "grid_auto_rows": null,
            "grid_gap": null,
            "max_width": null,
            "order": null,
            "_view_module_version": "1.2.0",
            "grid_template_areas": null,
            "object_position": null,
            "object_fit": null,
            "grid_auto_columns": null,
            "margin": null,
            "display": null,
            "left": null
          }
        },
        "52161e3efbdc45bd81bf16d67b2bb44a": {
          "model_module": "@jupyter-widgets/controls",
          "model_name": "VBoxModel",
          "state": {
            "_view_name": "VBoxView",
            "_dom_classes": [
              "widget-interact"
            ],
            "_model_name": "VBoxModel",
            "_view_module": "@jupyter-widgets/controls",
            "_model_module_version": "1.5.0",
            "_view_count": null,
            "_view_module_version": "1.5.0",
            "box_style": "",
            "layout": "IPY_MODEL_57b3e28689fd4092ad1558ce4557b63d",
            "_model_module": "@jupyter-widgets/controls",
            "children": [
              "IPY_MODEL_317e7d12ba32491b890394e2c82d1ecd",
              "IPY_MODEL_b1cf210f65034785a2c86a1a5ce7040f"
            ]
          }
        },
        "57b3e28689fd4092ad1558ce4557b63d": {
          "model_module": "@jupyter-widgets/base",
          "model_name": "LayoutModel",
          "state": {
            "_view_name": "LayoutView",
            "grid_template_rows": null,
            "right": null,
            "justify_content": null,
            "_view_module": "@jupyter-widgets/base",
            "overflow": null,
            "_model_module_version": "1.2.0",
            "_view_count": null,
            "flex_flow": null,
            "width": null,
            "min_width": null,
            "border": null,
            "align_items": null,
            "bottom": null,
            "_model_module": "@jupyter-widgets/base",
            "top": null,
            "grid_column": null,
            "overflow_y": null,
            "overflow_x": null,
            "grid_auto_flow": null,
            "grid_area": null,
            "grid_template_columns": null,
            "flex": null,
            "_model_name": "LayoutModel",
            "justify_items": null,
            "grid_row": null,
            "max_height": null,
            "align_content": null,
            "visibility": null,
            "align_self": null,
            "height": null,
            "min_height": null,
            "padding": null,
            "grid_auto_rows": null,
            "grid_gap": null,
            "max_width": null,
            "order": null,
            "_view_module_version": "1.2.0",
            "grid_template_areas": null,
            "object_position": null,
            "object_fit": null,
            "grid_auto_columns": null,
            "margin": null,
            "display": null,
            "left": null
          }
        },
        "317e7d12ba32491b890394e2c82d1ecd": {
          "model_module": "@jupyter-widgets/controls",
          "model_name": "IntSliderModel",
          "state": {
            "_view_name": "IntSliderView",
            "style": "IPY_MODEL_3d185c42b0b04d5ab1803666d70ce594",
            "_dom_classes": [],
            "description": "n",
            "step": 1,
            "_model_name": "IntSliderModel",
            "orientation": "horizontal",
            "max": 30,
            "_view_module": "@jupyter-widgets/controls",
            "_model_module_version": "1.5.0",
            "value": 30,
            "_view_count": null,
            "disabled": false,
            "_view_module_version": "1.5.0",
            "min": 1,
            "continuous_update": true,
            "readout_format": "d",
            "description_tooltip": null,
            "readout": true,
            "_model_module": "@jupyter-widgets/controls",
            "layout": "IPY_MODEL_36f748cecb7a411e8225426a2c83ef5f"
          }
        },
        "b1cf210f65034785a2c86a1a5ce7040f": {
          "model_module": "@jupyter-widgets/output",
          "model_name": "OutputModel",
          "state": {
            "_view_name": "OutputView",
            "msg_id": "",
            "_dom_classes": [],
            "_model_name": "OutputModel",
            "outputs": [
              {
                "output_type": "stream",
                "metadata": {
                  "tags": []
                },
                "text": "el valor de la integral mediante el metodo de cuadratura del punto medio es: 0.3332407407407408\n",
                "stream": "stdout"
              },
              {
                "output_type": "display_data",
                "metadata": {
                  "tags": [],
                  "needs_background": "light"
                },
                "image/png": "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\n",
                "text/plain": "<Figure size 432x288 with 1 Axes>"
              }
            ],
            "_view_module": "@jupyter-widgets/output",
            "_model_module_version": "1.0.0",
            "_view_count": null,
            "_view_module_version": "1.0.0",
            "layout": "IPY_MODEL_63ac53ae1849424ba5ac2dcc7ceb3a30",
            "_model_module": "@jupyter-widgets/output"
          }
        },
        "3d185c42b0b04d5ab1803666d70ce594": {
          "model_module": "@jupyter-widgets/controls",
          "model_name": "SliderStyleModel",
          "state": {
            "_view_name": "StyleView",
            "handle_color": null,
            "_model_name": "SliderStyleModel",
            "description_width": "",
            "_view_module": "@jupyter-widgets/base",
            "_model_module_version": "1.5.0",
            "_view_count": null,
            "_view_module_version": "1.2.0",
            "_model_module": "@jupyter-widgets/controls"
          }
        },
        "36f748cecb7a411e8225426a2c83ef5f": {
          "model_module": "@jupyter-widgets/base",
          "model_name": "LayoutModel",
          "state": {
            "_view_name": "LayoutView",
            "grid_template_rows": null,
            "right": null,
            "justify_content": null,
            "_view_module": "@jupyter-widgets/base",
            "overflow": null,
            "_model_module_version": "1.2.0",
            "_view_count": null,
            "flex_flow": null,
            "width": null,
            "min_width": null,
            "border": null,
            "align_items": null,
            "bottom": null,
            "_model_module": "@jupyter-widgets/base",
            "top": null,
            "grid_column": null,
            "overflow_y": null,
            "overflow_x": null,
            "grid_auto_flow": null,
            "grid_area": null,
            "grid_template_columns": null,
            "flex": null,
            "_model_name": "LayoutModel",
            "justify_items": null,
            "grid_row": null,
            "max_height": null,
            "align_content": null,
            "visibility": null,
            "align_self": null,
            "height": null,
            "min_height": null,
            "padding": null,
            "grid_auto_rows": null,
            "grid_gap": null,
            "max_width": null,
            "order": null,
            "_view_module_version": "1.2.0",
            "grid_template_areas": null,
            "object_position": null,
            "object_fit": null,
            "grid_auto_columns": null,
            "margin": null,
            "display": null,
            "left": null
          }
        },
        "63ac53ae1849424ba5ac2dcc7ceb3a30": {
          "model_module": "@jupyter-widgets/base",
          "model_name": "LayoutModel",
          "state": {
            "_view_name": "LayoutView",
            "grid_template_rows": null,
            "right": null,
            "justify_content": null,
            "_view_module": "@jupyter-widgets/base",
            "overflow": null,
            "_model_module_version": "1.2.0",
            "_view_count": null,
            "flex_flow": null,
            "width": null,
            "min_width": null,
            "border": null,
            "align_items": null,
            "bottom": null,
            "_model_module": "@jupyter-widgets/base",
            "top": null,
            "grid_column": null,
            "overflow_y": null,
            "overflow_x": null,
            "grid_auto_flow": null,
            "grid_area": null,
            "grid_template_columns": null,
            "flex": null,
            "_model_name": "LayoutModel",
            "justify_items": null,
            "grid_row": null,
            "max_height": null,
            "align_content": null,
            "visibility": null,
            "align_self": null,
            "height": null,
            "min_height": null,
            "padding": null,
            "grid_auto_rows": null,
            "grid_gap": null,
            "max_width": null,
            "order": null,
            "_view_module_version": "1.2.0",
            "grid_template_areas": null,
            "object_position": null,
            "object_fit": null,
            "grid_auto_columns": null,
            "margin": null,
            "display": null,
            "left": null
          }
        },
        "664fc4856efc40978ca8854e25489fcc": {
          "model_module": "@jupyter-widgets/controls",
          "model_name": "VBoxModel",
          "state": {
            "_view_name": "VBoxView",
            "_dom_classes": [
              "widget-interact"
            ],
            "_model_name": "VBoxModel",
            "_view_module": "@jupyter-widgets/controls",
            "_model_module_version": "1.5.0",
            "_view_count": null,
            "_view_module_version": "1.5.0",
            "box_style": "",
            "layout": "IPY_MODEL_9c4c6c1f65db4c8d93173ab6c5331ad4",
            "_model_module": "@jupyter-widgets/controls",
            "children": [
              "IPY_MODEL_245a38f082aa445bbd1fcb100c0c99e6",
              "IPY_MODEL_40f325f9582d48d1947ea36017bb203e"
            ]
          }
        },
        "9c4c6c1f65db4c8d93173ab6c5331ad4": {
          "model_module": "@jupyter-widgets/base",
          "model_name": "LayoutModel",
          "state": {
            "_view_name": "LayoutView",
            "grid_template_rows": null,
            "right": null,
            "justify_content": null,
            "_view_module": "@jupyter-widgets/base",
            "overflow": null,
            "_model_module_version": "1.2.0",
            "_view_count": null,
            "flex_flow": null,
            "width": null,
            "min_width": null,
            "border": null,
            "align_items": null,
            "bottom": null,
            "_model_module": "@jupyter-widgets/base",
            "top": null,
            "grid_column": null,
            "overflow_y": null,
            "overflow_x": null,
            "grid_auto_flow": null,
            "grid_area": null,
            "grid_template_columns": null,
            "flex": null,
            "_model_name": "LayoutModel",
            "justify_items": null,
            "grid_row": null,
            "max_height": null,
            "align_content": null,
            "visibility": null,
            "align_self": null,
            "height": null,
            "min_height": null,
            "padding": null,
            "grid_auto_rows": null,
            "grid_gap": null,
            "max_width": null,
            "order": null,
            "_view_module_version": "1.2.0",
            "grid_template_areas": null,
            "object_position": null,
            "object_fit": null,
            "grid_auto_columns": null,
            "margin": null,
            "display": null,
            "left": null
          }
        },
        "245a38f082aa445bbd1fcb100c0c99e6": {
          "model_module": "@jupyter-widgets/controls",
          "model_name": "IntSliderModel",
          "state": {
            "_view_name": "IntSliderView",
            "style": "IPY_MODEL_d0694d768b374205854ef0269278eec5",
            "_dom_classes": [],
            "description": "n",
            "step": 1,
            "_model_name": "IntSliderModel",
            "orientation": "horizontal",
            "max": 30,
            "_view_module": "@jupyter-widgets/controls",
            "_model_module_version": "1.5.0",
            "value": 30,
            "_view_count": null,
            "disabled": false,
            "_view_module_version": "1.5.0",
            "min": 1,
            "continuous_update": true,
            "readout_format": "d",
            "description_tooltip": null,
            "readout": true,
            "_model_module": "@jupyter-widgets/controls",
            "layout": "IPY_MODEL_4f75ba6da9914e0daa6c22db378b3280"
          }
        },
        "40f325f9582d48d1947ea36017bb203e": {
          "model_module": "@jupyter-widgets/output",
          "model_name": "OutputModel",
          "state": {
            "_view_name": "OutputView",
            "msg_id": "",
            "_dom_classes": [],
            "_model_name": "OutputModel",
            "outputs": [
              {
                "output_type": "stream",
                "metadata": {
                  "tags": []
                },
                "text": "el valor de la integral mediante el metodo de cuadratura del  Trapecio Compuesto es: 0.33351851851851855\n",
                "stream": "stdout"
              },
              {
                "output_type": "display_data",
                "metadata": {
                  "tags": [],
                  "needs_background": "light"
                },
                "image/png": "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\n",
                "text/plain": "<Figure size 432x288 with 1 Axes>"
              }
            ],
            "_view_module": "@jupyter-widgets/output",
            "_model_module_version": "1.0.0",
            "_view_count": null,
            "_view_module_version": "1.0.0",
            "layout": "IPY_MODEL_485a9f8e6ee147369025a2173c4208c3",
            "_model_module": "@jupyter-widgets/output"
          }
        },
        "d0694d768b374205854ef0269278eec5": {
          "model_module": "@jupyter-widgets/controls",
          "model_name": "SliderStyleModel",
          "state": {
            "_view_name": "StyleView",
            "handle_color": null,
            "_model_name": "SliderStyleModel",
            "description_width": "",
            "_view_module": "@jupyter-widgets/base",
            "_model_module_version": "1.5.0",
            "_view_count": null,
            "_view_module_version": "1.2.0",
            "_model_module": "@jupyter-widgets/controls"
          }
        },
        "4f75ba6da9914e0daa6c22db378b3280": {
          "model_module": "@jupyter-widgets/base",
          "model_name": "LayoutModel",
          "state": {
            "_view_name": "LayoutView",
            "grid_template_rows": null,
            "right": null,
            "justify_content": null,
            "_view_module": "@jupyter-widgets/base",
            "overflow": null,
            "_model_module_version": "1.2.0",
            "_view_count": null,
            "flex_flow": null,
            "width": null,
            "min_width": null,
            "border": null,
            "align_items": null,
            "bottom": null,
            "_model_module": "@jupyter-widgets/base",
            "top": null,
            "grid_column": null,
            "overflow_y": null,
            "overflow_x": null,
            "grid_auto_flow": null,
            "grid_area": null,
            "grid_template_columns": null,
            "flex": null,
            "_model_name": "LayoutModel",
            "justify_items": null,
            "grid_row": null,
            "max_height": null,
            "align_content": null,
            "visibility": null,
            "align_self": null,
            "height": null,
            "min_height": null,
            "padding": null,
            "grid_auto_rows": null,
            "grid_gap": null,
            "max_width": null,
            "order": null,
            "_view_module_version": "1.2.0",
            "grid_template_areas": null,
            "object_position": null,
            "object_fit": null,
            "grid_auto_columns": null,
            "margin": null,
            "display": null,
            "left": null
          }
        },
        "485a9f8e6ee147369025a2173c4208c3": {
          "model_module": "@jupyter-widgets/base",
          "model_name": "LayoutModel",
          "state": {
            "_view_name": "LayoutView",
            "grid_template_rows": null,
            "right": null,
            "justify_content": null,
            "_view_module": "@jupyter-widgets/base",
            "overflow": null,
            "_model_module_version": "1.2.0",
            "_view_count": null,
            "flex_flow": null,
            "width": null,
            "min_width": null,
            "border": null,
            "align_items": null,
            "bottom": null,
            "_model_module": "@jupyter-widgets/base",
            "top": null,
            "grid_column": null,
            "overflow_y": null,
            "overflow_x": null,
            "grid_auto_flow": null,
            "grid_area": null,
            "grid_template_columns": null,
            "flex": null,
            "_model_name": "LayoutModel",
            "justify_items": null,
            "grid_row": null,
            "max_height": null,
            "align_content": null,
            "visibility": null,
            "align_self": null,
            "height": null,
            "min_height": null,
            "padding": null,
            "grid_auto_rows": null,
            "grid_gap": null,
            "max_width": null,
            "order": null,
            "_view_module_version": "1.2.0",
            "grid_template_areas": null,
            "object_position": null,
            "object_fit": null,
            "grid_auto_columns": null,
            "margin": null,
            "display": null,
            "left": null
          }
        },
        "70b38f9dda22411aa04084a01aaea782": {
          "model_module": "@jupyter-widgets/controls",
          "model_name": "VBoxModel",
          "state": {
            "_view_name": "VBoxView",
            "_dom_classes": [
              "widget-interact"
            ],
            "_model_name": "VBoxModel",
            "_view_module": "@jupyter-widgets/controls",
            "_model_module_version": "1.5.0",
            "_view_count": null,
            "_view_module_version": "1.5.0",
            "box_style": "",
            "layout": "IPY_MODEL_fb45ec6ea3b047dba9d3ed7e568a925c",
            "_model_module": "@jupyter-widgets/controls",
            "children": [
              "IPY_MODEL_88d536153b6a4c1696f9c67af3ec90ef",
              "IPY_MODEL_bbc751bc2ea94315b8fc911450f1cf5f"
            ]
          }
        },
        "fb45ec6ea3b047dba9d3ed7e568a925c": {
          "model_module": "@jupyter-widgets/base",
          "model_name": "LayoutModel",
          "state": {
            "_view_name": "LayoutView",
            "grid_template_rows": null,
            "right": null,
            "justify_content": null,
            "_view_module": "@jupyter-widgets/base",
            "overflow": null,
            "_model_module_version": "1.2.0",
            "_view_count": null,
            "flex_flow": null,
            "width": null,
            "min_width": null,
            "border": null,
            "align_items": null,
            "bottom": null,
            "_model_module": "@jupyter-widgets/base",
            "top": null,
            "grid_column": null,
            "overflow_y": null,
            "overflow_x": null,
            "grid_auto_flow": null,
            "grid_area": null,
            "grid_template_columns": null,
            "flex": null,
            "_model_name": "LayoutModel",
            "justify_items": null,
            "grid_row": null,
            "max_height": null,
            "align_content": null,
            "visibility": null,
            "align_self": null,
            "height": null,
            "min_height": null,
            "padding": null,
            "grid_auto_rows": null,
            "grid_gap": null,
            "max_width": null,
            "order": null,
            "_view_module_version": "1.2.0",
            "grid_template_areas": null,
            "object_position": null,
            "object_fit": null,
            "grid_auto_columns": null,
            "margin": null,
            "display": null,
            "left": null
          }
        },
        "88d536153b6a4c1696f9c67af3ec90ef": {
          "model_module": "@jupyter-widgets/controls",
          "model_name": "IntSliderModel",
          "state": {
            "_view_name": "IntSliderView",
            "style": "IPY_MODEL_25b627567cf14cb0a19aefd641c68096",
            "_dom_classes": [],
            "description": "n",
            "step": 1,
            "_model_name": "IntSliderModel",
            "orientation": "horizontal",
            "max": 30,
            "_view_module": "@jupyter-widgets/controls",
            "_model_module_version": "1.5.0",
            "value": 4,
            "_view_count": null,
            "disabled": false,
            "_view_module_version": "1.5.0",
            "min": 4,
            "continuous_update": true,
            "readout_format": "d",
            "description_tooltip": null,
            "readout": true,
            "_model_module": "@jupyter-widgets/controls",
            "layout": "IPY_MODEL_fca8be1584d7429880d1d9dec4b0f09b"
          }
        },
        "bbc751bc2ea94315b8fc911450f1cf5f": {
          "model_module": "@jupyter-widgets/output",
          "model_name": "OutputModel",
          "state": {
            "_view_name": "OutputView",
            "msg_id": "",
            "_dom_classes": [],
            "_model_name": "OutputModel",
            "outputs": [
              {
                "output_type": "display_data",
                "metadata": {
                  "tags": [],
                  "needs_background": "light"
                },
                "image/png": "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\n",
                "text/plain": "<Figure size 432x288 with 1 Axes>"
              }
            ],
            "_view_module": "@jupyter-widgets/output",
            "_model_module_version": "1.0.0",
            "_view_count": null,
            "_view_module_version": "1.0.0",
            "layout": "IPY_MODEL_066a7fc7885e4a02a7e9c93d29a747ad",
            "_model_module": "@jupyter-widgets/output"
          }
        },
        "25b627567cf14cb0a19aefd641c68096": {
          "model_module": "@jupyter-widgets/controls",
          "model_name": "SliderStyleModel",
          "state": {
            "_view_name": "StyleView",
            "handle_color": null,
            "_model_name": "SliderStyleModel",
            "description_width": "",
            "_view_module": "@jupyter-widgets/base",
            "_model_module_version": "1.5.0",
            "_view_count": null,
            "_view_module_version": "1.2.0",
            "_model_module": "@jupyter-widgets/controls"
          }
        },
        "fca8be1584d7429880d1d9dec4b0f09b": {
          "model_module": "@jupyter-widgets/base",
          "model_name": "LayoutModel",
          "state": {
            "_view_name": "LayoutView",
            "grid_template_rows": null,
            "right": null,
            "justify_content": null,
            "_view_module": "@jupyter-widgets/base",
            "overflow": null,
            "_model_module_version": "1.2.0",
            "_view_count": null,
            "flex_flow": null,
            "width": null,
            "min_width": null,
            "border": null,
            "align_items": null,
            "bottom": null,
            "_model_module": "@jupyter-widgets/base",
            "top": null,
            "grid_column": null,
            "overflow_y": null,
            "overflow_x": null,
            "grid_auto_flow": null,
            "grid_area": null,
            "grid_template_columns": null,
            "flex": null,
            "_model_name": "LayoutModel",
            "justify_items": null,
            "grid_row": null,
            "max_height": null,
            "align_content": null,
            "visibility": null,
            "align_self": null,
            "height": null,
            "min_height": null,
            "padding": null,
            "grid_auto_rows": null,
            "grid_gap": null,
            "max_width": null,
            "order": null,
            "_view_module_version": "1.2.0",
            "grid_template_areas": null,
            "object_position": null,
            "object_fit": null,
            "grid_auto_columns": null,
            "margin": null,
            "display": null,
            "left": null
          }
        },
        "066a7fc7885e4a02a7e9c93d29a747ad": {
          "model_module": "@jupyter-widgets/base",
          "model_name": "LayoutModel",
          "state": {
            "_view_name": "LayoutView",
            "grid_template_rows": null,
            "right": null,
            "justify_content": null,
            "_view_module": "@jupyter-widgets/base",
            "overflow": null,
            "_model_module_version": "1.2.0",
            "_view_count": null,
            "flex_flow": null,
            "width": null,
            "min_width": null,
            "border": null,
            "align_items": null,
            "bottom": null,
            "_model_module": "@jupyter-widgets/base",
            "top": null,
            "grid_column": null,
            "overflow_y": null,
            "overflow_x": null,
            "grid_auto_flow": null,
            "grid_area": null,
            "grid_template_columns": null,
            "flex": null,
            "_model_name": "LayoutModel",
            "justify_items": null,
            "grid_row": null,
            "max_height": null,
            "align_content": null,
            "visibility": null,
            "align_self": null,
            "height": null,
            "min_height": null,
            "padding": null,
            "grid_auto_rows": null,
            "grid_gap": null,
            "max_width": null,
            "order": null,
            "_view_module_version": "1.2.0",
            "grid_template_areas": null,
            "object_position": null,
            "object_fit": null,
            "grid_auto_columns": null,
            "margin": null,
            "display": null,
            "left": null
          }
        }
      }
    }
  },
  "cells": [
    {
      "cell_type": "markdown",
      "metadata": {
        "id": "view-in-github",
        "colab_type": "text"
      },
      "source": [
        "<a href=\"https://colab.research.google.com/github/jugernaut/Numerico2021/blob/desarrollo/07_CuadraturaNumerica/01_IntegracionNumerica.ipynb\" target=\"_parent\"><img src=\"https://colab.research.google.com/assets/colab-badge.svg\" alt=\"Open In Colab\"/></a>"
      ]
    },
    {
      "cell_type": "markdown",
      "metadata": {
        "id": "ScSKHDcow79x"
      },
      "source": [
        "<font color=\"Teal\" face=\"Comic Sans MS,arial\">\n",
        "  <h1 align=\"center\"><i>Integral Numérica</i></h1>\n",
        "  </font>\n",
        "  <font color=\"Black\" face=\"Comic Sans MS,arial\">\n",
        "  <h5 align=\"center\"><i>Profesor: M.en.C. Miguel Angel Pérez León.</i></h5>\n",
        "    <h5 align=\"center\"><i>Ayudante: Jesús Iván Coss Calderón.</i></h5>\n",
        "  <h5 align=\"center\"><i>Materia: Análisis Numérico.</i></h5>\n",
        "  </font>"
      ]
    },
    {
      "cell_type": "markdown",
      "metadata": {
        "id": "cbG3g1S0w79y"
      },
      "source": [
        "# Introducción\n",
        "\n",
        "Muy frecuentemente es necesario evaluar la integral definida de una función $f\\left(x\\right)$ en un intervalo $\\left[a,b\\right]$. El objetivo de esta sección es encontrar métodos para aproximar la integral\n",
        "\n",
        "$$\\int_{a}^{b}f\\left(x\\right)dx$$\n",
        "\n",
        "Si se conoce a priori la **antiderivada** $F\\left(x\\right)$ entonces es evidente que podemos encontrar el valor exacto de la integral, aplicando el siguiente teorema\n"
      ]
    },
    {
      "cell_type": "markdown",
      "metadata": {
        "id": "LxClLbNDH-rL"
      },
      "source": [
        "## Teorema Fundamental de Cálculo\n",
        "\n",
        "Sea $f\\left(x\\right)$ integrable en el intervalo $\\left[a,b\\right]$ y $F'\\left(x\\right)=f\\left(x\\right)$ entonces,$\\int_{a}^{b}f\\left(x\\right)dx=F\\left(a\\right)-F\\left(b\\right)$\n",
        "\n",
        "\n",
        "Sin embargo como en otras partes del curso, a veces encontrar a $F$ es muy complicado, de tal manera que la mejor opción es encontrar una aproximación del valor exacto de.\n",
        "\n",
        "$$\\int_{a}^{b}f\\left(x\\right)dx$$\n",
        "\n",
        "La forma básica para encontrar una aproximación de $\\int_{a}^{b}f\\left(x\\right)dx$, se conoce como **cuadratura numérica** y emplea una suma del tipo.\n",
        "\n",
        "$$\\sum_{i=0}^{n}a_{i}f\\left(x_{i}\\right)$$\n",
        "\n",
        "Existen diferentes aproximaciones de la integral de $f\\left(x\\right)$ mediante cuadratura numérica, en esta sección revisaremos algunas de las mas comunes."
      ]
    },
    {
      "cell_type": "markdown",
      "metadata": {
        "id": "QNpXtFzFw79z"
      },
      "source": [
        "# Cuadratura Numérica\n",
        "\n",
        "Los métodos de integración numérica se basan en los polinomios de Lagrange visto en secciones previas. La idea básica es que seleccionamos un conjunto de nodos distintos $x_{0},\\ldots,x_{n}$ del intervalo $ \\left[a,b\\right]$. Después se integra el polinomio de Lagrange\n",
        "\n",
        "$$P_{n}\\left(x\\right)=\\sum_{i=0}^{n}f\\left(x_{i}\\right)L_{i}\\left(x\\right)$$\n",
        "\n",
        "Y también se integra el termino de error de truncamiento en $\\left[a,b\\right]$\n",
        "\n",
        "$$\\prod_{i=0}^{n}\\left(x-x_{i}\\right)\\frac{f^{\\left(n+1\\right)}\\left(\\xi\\left(x\\right)\\right)}{\\left(n+1\\right)!}dx$$\n",
        "\n",
        "De tal manera que obtenemos\n",
        "\n",
        "$$ \\int_{a}^{b}f\\left(x\\right)dx=\\int_{a}^{b}\\sum_{i=0}^{n}f\\left(x_{i}\\right)L_{i}\\left(x\\right)dx+\\int_{a}^{b}\\prod_{i=0}^{n}\\left(x-x_{i}\\right)\\frac{f^{\\left(n+1\\right)}\\left(\\xi\\left(x\\right)\\right)}{\\left(n+1\\right)!}dx\\\\=\\sum_{i=0}^{n}a_{i}f\\left(x_{i}\\right)+\\frac{1}{\\left(n+1\\right)!}\\int_{a}^{b}\\prod_{i=0}^{n}\\left(x-x_{i}\\right)f^{\\left(n+1\\right)}\\left(\\xi\\left(x\\right)\\right)dx $$\n",
        "\n",
        "Donde $\\xi\\left(x\\right)$ se encuentra en $\\left[a,b\\right]$ para cada $x$ y\n",
        "\n",
        "$$a_{i}=\\int_{a}^{b}L_{i}\\left(x\\right)dx,\\quad para\\,cada\\,i=0,1,\\ldots,n$$\n",
        "\n",
        "Por lo tanto, la formula de la cuadratura es\n",
        "\n",
        "$$\\int_{a}^{b}f\\left(x\\right)dx=\\sum_{i=0}^{n}a_{i}f\\left(x_{i}\\right) \\tag{1}$$\n",
        "\n",
        "Con un error dado por\n",
        "\n",
        "$$E\\left(f\\right)=\\frac{1}{\\left(n+1\\right)!}\\int_{a}^{b}\\prod_{i=0}^{n}\\left(x-x_{i}\\right)f^{\\left(n+1\\right)}\\left(\\xi\\left(x\\right)\\right)dx$$\n",
        "\n",
        "De la misma manera que en otros temas vistos en el curso, la aproximación sera mas exacta si subdividimos el intervalo $\\left[a,b\\right]$ en tantos subintervalos como sea necesario, es decir\n",
        "\n",
        "Sea\n",
        "\n",
        "$$\\left[a,b\\right]=\\left[a,x_{1}\\right]\\cup\\left[x_{1},x_{2}\\right]\\cup\\cdots\\cup\\left[x_{n-2},x_{n-1}\\right]\\cup\\left[x_{n-1},b\\right]$$\n",
        "\n",
        "Donde\n",
        "\n",
        "$$x_{k}=a+\\frac{b-a}{n}k,\\quad n=0,1,2,\\ldots,n,\\quad x_{0}=a,\\,x_{n}=b$$\n",
        "\n",
        "\n",
        "Tendremos\n",
        "\n",
        "$$\\int_{a}^{b}f\\left(x\\right)dx=\\int_{a}^{x_{1}}f\\left(x\\right)dx+\\cdots+\\int_{x_{k}}^{x_{k+1}}f\\left(x\\right)dx+\\cdots+\\int_{x_{n-1}}^{b}f\\left(x\\right)dx \\tag{2} $$\n",
        "\n",
        "Observación, todos los nodos son igualmente espaciados.\n",
        "\n"
      ]
    },
    {
      "cell_type": "markdown",
      "metadata": {
        "id": "xRjpaWQHTd9k"
      },
      "source": [
        "### Cuadratura del rectángulo\r\n",
        "\r\n",
        "La forma de cuadratura mas simple es la que emplea rectángulos de base $\\left(b-a\\right)$ y altura $f\\left(a\\right)$\r\n",
        "\r\n",
        "$$\\int_{a}^{b}f\\left(x\\right)dx=\\left(b-a\\right)f\\left(a\\right)+E\\left(f\\right) \\tag{3}$$\r\n",
        "\r\n",
        "Combinando $(1)$ y $(3)$, se obtiene la forma general de la cuadratura mediante rectángulos\r\n",
        "\r\n",
        "$$\\int_{a}^{b}f\\left(x\\right)dx=\\frac{b-a}{n}\\sum_{i=0}^{n-1}f\\left(x_{i}\\right)+E\\left(f\\right)$$\r\n",
        "\r\n"
      ]
    },
    {
      "cell_type": "code",
      "metadata": {
        "id": "xoCX7k-_w790",
        "colab": {
          "base_uri": "https://localhost:8080/",
          "height": 361,
          "referenced_widgets": [
            "c9e89f6387b44e0fa34c359417b07677",
            "9a397de5cb6d478e8b1c5ec18fc9fbda",
            "97315d5d4d31439a99fbb91d96101674",
            "cf1b916c1b724ffeace89cf8e9e68912",
            "e1f90af8fe534b83953f2081cbf7b27f",
            "47d25561cbe642ae888b52129913fc17",
            "f4bc937958ea41d8a0bef0b668409385"
          ]
        },
        "outputId": "c5b252e4-dc71-46e3-e31c-5376c949fad5"
      },
      "source": [
        "# import de las bibliotecas necesarias\n",
        "import numpy as np\n",
        "from IPython.html.widgets import interact\n",
        "import ipywidgets as widgets\n",
        "import matplotlib.pyplot as plt\n",
        "\n",
        "# funcion que define la cuadratura mediante rectangulos\n",
        "# cantidad de puntos que usaran en la cuadratura\n",
        "def Rectangulo(n): \n",
        "    # a punto inicial del intervalo  \n",
        "    a=0\n",
        "    # b punto final del intervalo\n",
        "    b=1\n",
        "    # f funcion a integrar **\n",
        "    #def f(x):\n",
        "        #return x*x\n",
        "    # f funcion a integrar\n",
        "    f = lambda x: x*x\n",
        "    \n",
        "    # para grficar f(x)\n",
        "    xp=np.linspace(a,b,30)\n",
        "    fp=f(xp)\n",
        "    plt.plot(xp,fp,color='black')\n",
        "    \n",
        "    # discretizacion para la cuadratura\n",
        "    x=np.linspace(a,b,n+1)\n",
        "    am = a+(float(a)/2)\n",
        "    bm = b+(float(b)/2)\n",
        "    fx=[ f(x[i]) for i in range(len(x))]\n",
        "    plt.bar(x,fx,width=((bm-am)/n),color='orange')\n",
        "    plt.title(\"Aproximacion de la integral con el metodo de la cuadratura del rectangulo\")\n",
        "    plt.xlabel(\"x\")\n",
        "    plt.ylabel(r\"$f \\left(x\\right) = x^{2}$\")\n",
        "    plt.grid()\n",
        "\n",
        "    # aproximacion mediante la cuadratura del rectangulo\n",
        "    cuadratura=0.0\n",
        "    for i in range (len(x)):\n",
        "        cuadratura+=f(x[i])\n",
        "    # valor aproximado    \n",
        "    integral=((b-a)/n)*cuadratura\n",
        "\n",
        "    print(\"el valor de la integral mediante el metodo de cuadratura del rectangulo es: {}\".format(integral)) \n",
        "\n",
        "interact(Rectangulo,n=widgets.IntSlider(min=1,max=30,step=1,value=1))"
      ],
      "execution_count": 66,
      "outputs": [
        {
          "output_type": "display_data",
          "data": {
            "application/vnd.jupyter.widget-view+json": {
              "model_id": "c9e89f6387b44e0fa34c359417b07677",
              "version_minor": 0,
              "version_major": 2
            },
            "text/plain": [
              "interactive(children=(IntSlider(value=1, description='n', max=30, min=1), Output()), _dom_classes=('widget-int…"
            ]
          },
          "metadata": {
            "tags": []
          }
        },
        {
          "output_type": "execute_result",
          "data": {
            "text/plain": [
              "<function __main__.Rectangulo>"
            ]
          },
          "metadata": {
            "tags": []
          },
          "execution_count": 66
        }
      ]
    },
    {
      "cell_type": "markdown",
      "metadata": {
        "id": "NM8gZ8Dqw794"
      },
      "source": [
        "### Cuadratura del punto medio\n",
        "\n",
        "Una aproximación de la integral $\\int_{a}^{b}f\\left(x\\right)dx$ consiste en aproximar el área bajo la curva $y=f\\left(x\\right)$ por un rectángulo de base $b-a$ y altura $f\\left(\\frac{a+b}{2}\\right)$, entonces\n",
        "\n",
        "$$\\int_{a}^{b}f\\left(x\\right)dx=\\left(b-a\\right)f\\left(\\frac{a+b}{2}\\right)+E\\left(f\\right) \\tag{4} $$\n",
        "\n",
        "Donde $E\\left(f\\right)$, si $f$ tiene primera y segunda derivada continuas en $\\left[a,b\\right]$, se expresa así\n",
        "\n",
        "$$E\\left(f\\right)=\\frac{\\left(b-a\\right)^{2}}{24}f''\\left(\\xi\\right)\\quad\\xi\\in\\left[a,b\\right]$$\n",
        "\n",
        "Combinando $(1)$ y $(4)$, se obtiene la forma general de la cuadratura del punto medio\n",
        "\n",
        "$$\\int_{a}^{b}f\\left(x\\right)dx=\\frac{b-a}{n}\\sum_{i=0}^{n-1}f\\left(\\frac{x_{i}+x_{i+1}}{2}\\right)+E\\left(f\\right)$$\n",
        "\n"
      ]
    },
    {
      "cell_type": "code",
      "metadata": {
        "id": "OZOU5EaVw796",
        "colab": {
          "base_uri": "https://localhost:8080/",
          "height": 361,
          "referenced_widgets": [
            "52161e3efbdc45bd81bf16d67b2bb44a",
            "57b3e28689fd4092ad1558ce4557b63d",
            "317e7d12ba32491b890394e2c82d1ecd",
            "b1cf210f65034785a2c86a1a5ce7040f",
            "3d185c42b0b04d5ab1803666d70ce594",
            "36f748cecb7a411e8225426a2c83ef5f",
            "63ac53ae1849424ba5ac2dcc7ceb3a30"
          ]
        },
        "outputId": "c134ca54-9794-4a5c-f5a9-03798e74cab6"
      },
      "source": [
        "def PuntoMedio(n):\n",
        "    # a punto inicial del intervalo  \n",
        "    a=0\n",
        "    # b punto final del intervalo\n",
        "    b=1\n",
        "    # f funcion a integrar **\n",
        "    #def f(x):\n",
        "        #return x*x\n",
        "    # f funcion a integrar\n",
        "    f = lambda x: x*x\n",
        "    \n",
        "    # para grficar f(x)\n",
        "    xp=np.linspace(a,b,30)\n",
        "    fp=f(xp)\n",
        "    plt.plot(xp,fp,color='black')\n",
        "    \n",
        "    # discretizacion para la cuadratura\n",
        "    x=np.linspace(a,b,n+1)\n",
        "    fx=[ f(x[i]) for i in range(len(x))]\n",
        "    plt.bar(x,fx,width=((b-a)/n),color='orange')\n",
        "    plt.title(\"Aproximacion de la integral con el metodo de la cuadratura del punto medio\")\n",
        "    plt.xlabel(\"x\")\n",
        "    plt.ylabel(r\"$f \\left(x\\right) = x^{2}$\")\n",
        "    plt.grid()\n",
        "\n",
        "    # aproximacion mediante la cuadratura del punto medio\n",
        "    cuadratura=0.0\n",
        "    for i in range (len(x)-1):\n",
        "        cuadratura+=f( (x[i]+x[i+1])/2 )\n",
        "    # valor aproximado     \n",
        "    integral=((b-a)/n)*cuadratura\n",
        "    \n",
        "    print(\"el valor de la integral mediante el metodo de cuadratura del punto medio es: {}\".format(integral)) \n",
        "\n",
        "interact(PuntoMedio,n=widgets.IntSlider(min=1,max=30,step=1,value=1))"
      ],
      "execution_count": 32,
      "outputs": [
        {
          "output_type": "display_data",
          "data": {
            "application/vnd.jupyter.widget-view+json": {
              "model_id": "52161e3efbdc45bd81bf16d67b2bb44a",
              "version_minor": 0,
              "version_major": 2
            },
            "text/plain": [
              "interactive(children=(IntSlider(value=1, description='n', max=30, min=1), Output()), _dom_classes=('widget-int…"
            ]
          },
          "metadata": {
            "tags": []
          }
        },
        {
          "output_type": "execute_result",
          "data": {
            "text/plain": [
              "<function __main__.PuntoMedio>"
            ]
          },
          "metadata": {
            "tags": []
          },
          "execution_count": 32
        }
      ]
    },
    {
      "cell_type": "markdown",
      "metadata": {
        "id": "nE9yuzw9w79_"
      },
      "source": [
        "### 2.3.  Cuadratura del trapecio.\n",
        "\n",
        "Para derivar la regla del trapecio para aproximar $\\int_{a}^{b}f\\left(x\\right)dx$, tomemos $x_{0}=a,\\,x_{1}=b,\\,h=b-a$ y calculando el polinomio lineal de Lagrange\n",
        "\n",
        "$$P\\left(x\\right)=\\left(\\frac{x-x_{1}}{x_{0}-x_{1}}\\right)f(x_{0})+\\left(\\frac{x-x_{0}}{x_{1}-x_{0}}\\right)f(x_{1})$$\n",
        "\n",
        "Al integrar este polinomio se tiene\n",
        "\n",
        "$$\\int_{a}^{b}f\\left(x\\right)dx=\\int_{x_{0}}^{x_{1}}\\left[\\left(\\frac{x-x_{1}}{x_{0}-x_{1}}\\right)f(x_{0})+\\left(\\frac{x-x_{0}}{x_{1}-x_{0}}\\right)f(x_{1})\\right]dx\\\\+\\frac{1}{2}\\int_{x_{0}}^{x_{1}}f''\\left(\\xi\\left(x\\right)\\right)\\left(x-x_{0}\\right)\\left(x-x_{1}\\right)dx$$\n",
        "\n",
        "Donde la integral del error es $-\\frac{h^{3}}{6}f''\\left(\\xi\\right)$, lo que nos lleva a la forma general de la cuadratura del trapecio\n",
        "\n",
        "$$\\int_{a}^{b}f\\left(x\\right)dx=\\left[\\frac{x-x_{1}}{2\\left(x_{0}-x_{1}\\right)}f(x_{0})+\\frac{x-x_{0}}{2\\left(x_{1}-x_{0}\\right)}f(x_{1})\\right]_{x_{0}}^{x_{1}}-\\frac{h^{3}}{12}f''\\left(\\xi\\right)\\\\=\\frac{\\left(x_{1}-x_{0}\\right)}{2}\\left[f\\left(x_{0}\\right)+f\\left(x_{1}\\right)\\right]-\\frac{h^{3}}{12}f''\\left(\\xi\\right) $$\n",
        "\n",
        "Tomando en cuenta que $h=x_{1}-x_{0}$, obtenemos la forma general de la cuadratura del trapecio\n",
        "\n",
        "$$\\int_{a}^{b}f\\left(x\\right)dx=\\frac{h}{2}\\left[f\\left(x_{0}\\right)+f\\left(x_{1}\\right)\\right]-\\frac{h^{3}}{12}f''\\left(\\xi\\right)$$\n",
        "\n"
      ]
    },
    {
      "cell_type": "markdown",
      "metadata": {
        "id": "RzIphI3qT1fk"
      },
      "source": [
        "#### codigo en python"
      ]
    },
    {
      "cell_type": "code",
      "metadata": {
        "id": "sFvxeX94w79_",
        "outputId": "b02bdbdc-b02d-48b9-f041-5ed137fab9b7",
        "colab": {
          "base_uri": "https://localhost:8080/"
        }
      },
      "source": [
        "def Trapecio():\n",
        "    # a punto inicial del intervalo \n",
        "    # b punto final del intervalo \n",
        "    # f funcion a integrar\n",
        "    a=0\n",
        "    b=1\n",
        "    def f(x):\n",
        "        return x*x\n",
        "    \n",
        "    integral=((b-a)/2)*(f(a)+f(b))\n",
        "    print(\"el valor de la integral mediante el metodo de cuadratura del Trapecio: {}\".format(integral))\n",
        "\n",
        "Trapecio()"
      ],
      "execution_count": 67,
      "outputs": [
        {
          "output_type": "stream",
          "text": [
            "el valor de la integral mediante el metodo de cuadratura del Trapecio: 0.5\n"
          ],
          "name": "stdout"
        }
      ]
    },
    {
      "cell_type": "markdown",
      "metadata": {
        "id": "f1IO7V-qw7-D"
      },
      "source": [
        "### 2.3.  Cuadratura del trapecio compuesto.\n",
        "\n",
        "Sean los nodos $a=x_{0}<x_{1}<\\cdots<x_{n}=b$ con $h_{i}=x_{i+1}-x_{i}$ y lo que se busca es aproximar el valor de $\\int_{a}^{b}f\\left(x\\right)dx$. Ademas aprovechamos el hecho de que \n",
        "\n",
        "$$\\int_{a}^{b}f\\left(x\\right)dx\t=\t\\int_{a}^{c}f\\left(x\\right)dx+\\int_{c}^{b}f\\left(x\\right)dx$$\n",
        "\n",
        "Integrando sobre los subintervalos $\\left[x_{i},x_{i+1}\\right]$, para $i=0,\\ldots,n-1$ y aplicando la regla del trapecio simple, se obtiene\n",
        "\n",
        "$$\\int_{a}^{b}f\\left(x\\right)dx=\\sum_{i=0}^{n-1}\\int_{x_{i}}^{x_{i+1}}f\\left(x\\right)=\\sum_{i=0}^{n-1}\\frac{h_{i}}{2}\\left[f\\left(x_{i}\\right)+f\\left(x_{i+1}\\right)\\right]-\\sum_{i=0}^{n-1}\\frac{h_{i}^{3}}{12}f''\\left(\\xi_{i}\\right),\\quad\\xi_{i}\\in\\left(x_{i+1},x_{i}\\right) $$\n",
        "\n",
        "Si consideramos $h=h_{i}$ para $i=0,\\ldots,n-1$ y $f''\\left(x\\right)$ continua, entonces obtenemos el error total\n",
        "\n",
        "$$E_{T}=-\\frac{h^{3}}{12}\\sum_{i=0}^{n-1}f''\\left(\\xi_{i}\\right)=-\\frac{h^{3}}{12}nf''\\left(\\xi\\right)=-\\frac{h^{2}}{12}nhf''\\left(\\xi\\right)$$\n",
        "\n",
        "Donde $\\xi\\in\\left(x_{0},x_{n}\\right)$ y $h=\\frac{x_{n}-x_{0}}{n}$ entonces $E_{T}=-\\frac{h^{2}}{12}\\left(x_{n}-x_{0}\\right)f''\\left(\\xi\\right)$, es decir\n",
        "\n",
        "$$ \\int_{a}^{b}f\\left(x\\right)dx=\\frac{h}{2}\\left[f\\left(x_{0}\\right)+2f\\left(x_{1}\\right)+\\cdots+2f\\left(x_{n-1}\\right)+f\\left(x_{n}\\right)\\right]-\\frac{h^{2}}{12}\\left(x_{n}-x_{0}\\right)f''\\left(\\xi\\right)$$\n",
        "\n",
        "Así que\n",
        "\n",
        "$$\\int_{a}^{b}f\\left(x\\right)dx=\\frac{h}{2}\\left[f\\left(a\\right)+2\\sum_{i=1}^{n-1}f\\left(x_{i}\\right)+f\\left(b\\right)\\right]-\\frac{b-a}{12}h^{2}f''\\left(\\xi\\right)$$\n",
        "\n",
        "Es la forma general de la cuadratura del trapecio compuesto.\n",
        "\n"
      ]
    },
    {
      "cell_type": "markdown",
      "metadata": {
        "id": "IH39JtCyT_Ur"
      },
      "source": [
        "#### codigo en python"
      ]
    },
    {
      "cell_type": "code",
      "metadata": {
        "id": "LWgI2-zkw7-E",
        "colab": {
          "base_uri": "https://localhost:8080/",
          "height": 361,
          "referenced_widgets": [
            "664fc4856efc40978ca8854e25489fcc",
            "9c4c6c1f65db4c8d93173ab6c5331ad4",
            "245a38f082aa445bbd1fcb100c0c99e6",
            "40f325f9582d48d1947ea36017bb203e",
            "d0694d768b374205854ef0269278eec5",
            "4f75ba6da9914e0daa6c22db378b3280",
            "485a9f8e6ee147369025a2173c4208c3"
          ]
        },
        "outputId": "15bcda30-719c-4a2a-951b-3e8b9591f39d"
      },
      "source": [
        "def TrapComp(n):\n",
        "    # a punto inicial del intervalo \n",
        "    # b punto final del intervalo \n",
        "    # f funcion a integrar\n",
        "    # n los puntos que se usaran para integrar \n",
        "    a=0\n",
        "    b=1\n",
        "    def f(x):\n",
        "        return x*x\n",
        "    \n",
        "    xp=np.linspace(a,b,30)\n",
        "    fp=f(xp)\n",
        "    \n",
        "    x=np.linspace(a,b,n+1) # se crea la particion\n",
        "    fx=[ f(x[i]) for i in range(len (x))]\n",
        "    plt.bar(x,fx,width=((b-a)/n),color='orange')\n",
        "    plt.plot(xp,fp,color='black')\n",
        "    plt.title(\"Aproximacion de la integral con el metodo del Trapecio compuesto\")\n",
        "    plt.xlabel(\"x\")\n",
        "    plt.ylabel(r\"$f \\left(x\\right) = x^{2}$\")\n",
        "    plt.grid()\n",
        "\n",
        "    cuadratura=0.0\n",
        "    for i in range (1,len(x)-1):\n",
        "        cuadratura+=f( x[i])\n",
        "\n",
        "    integral=((b-a)/(2*n))*(2*cuadratura+f(a)+f(b))\n",
        "    \n",
        "    print(\"el valor de la integral mediante el metodo de cuadratura del  Trapecio Compuesto es: {}\".format(integral)) \n",
        "\n",
        "interact(TrapComp,n=widgets.IntSlider(min=1,max=30,step=1,value=1))"
      ],
      "execution_count": 70,
      "outputs": [
        {
          "output_type": "display_data",
          "data": {
            "application/vnd.jupyter.widget-view+json": {
              "model_id": "664fc4856efc40978ca8854e25489fcc",
              "version_minor": 0,
              "version_major": 2
            },
            "text/plain": [
              "interactive(children=(IntSlider(value=1, description='n', max=30, min=1), Output()), _dom_classes=('widget-int…"
            ]
          },
          "metadata": {
            "tags": []
          }
        },
        {
          "output_type": "execute_result",
          "data": {
            "text/plain": [
              "<function __main__.TrapComp>"
            ]
          },
          "metadata": {
            "tags": []
          },
          "execution_count": 70
        }
      ]
    },
    {
      "cell_type": "markdown",
      "metadata": {
        "id": "sjL0EQ79w7-J"
      },
      "source": [
        "### 2.4.  Cuadratura de Simpson $\\frac{1}{3}$\n",
        "\n",
        "Se obtiene al integrar en $\\left[a,b\\right]$ el segundo polinomio de Lagrange con los nodos $x_{0}=a,\\,x_{1}=a+h\\,y\\,x_{2}=b$ donde $h=\\frac{b-a}{2}$\n",
        "\n",
        "$$\\int_{a}^{b}f\\left(x\\right)dx=\\int_{x_{0}}^{x_{2}}\\left[\\frac{\\left(x-x_{1}\\right)\\left(x-x_{2}\\right)}{\\left(x_{0}-x_{1}\\right)\\left(x_{0}-x_{2}\\right)}f(x_{0})+\\frac{\\left(x-x_{0}\\right)\\left(x-x_{2}\\right)}{\\left(x_{1}-x_{0}\\right)\\left(x_{1}-x_{2}\\right)}f(x_{1})\\right]\\\\+\\int_{x_{0}}^{x_{2}}\\left[\\frac{\\left(x-x_{0}\\right)\\left(x-x_{1}\\right)}{\\left(x_{2}-x_{0}\\right)\\left(x_{2}-x_{1}\\right)}f(x_{2})\\right]\\\\+\\frac{1}{6}\\int_{x_{0}}^{x_{2}}f'''\\left(\\xi\\left(x\\right)\\right)\\left(x-x_{0}\\right)\\left(x-x_{1}\\right)\\left(x-x_{2}\\right)dx $$\n",
        "\n",
        "Sin embargo, al deducir la regla de Simpson de esta manera, unicamente se obtiene un término de error $O\\left(h^{4}\\right)$ que contiene a $f^{\\left(3\\right)}$. Pero si construimos la regla de otra forma, podemos deducir un termino de orden superior que incluya a $f^{\\left(4\\right)}$\n",
        "\n",
        "Supongamos que $f$ se expande mediante el tercer polinomio de Taylor alrededor de $x_{1}$. Entonces, para cada $x$ en $\\left[x_{0},x_{2}\\right]$, existe un número $\\xi\\left(x\\right)\\in\\left(x_{0},x_{2}\\right)$ con\n",
        "\n",
        "$$f\\left(x\\right)=f\\left(x_{1}\\right)+f'\\left(x_{1}\\right)\\left(x-x_{1}\\right)+\\frac{f''\\left(x_{1}\\right)\\left(x-x_{1}\\right)^{2}}{2!}\\\\+\\frac{f'''\\left(x_{1}\\right)\\left(x-x_{1}\\right)^{3}}{3!}+\\frac{f^{\\left(4\\right)}\\left(\\xi\\left(x\\right)\\right)\\left(x-x_{1}\\right)^{4}}{4!}$$\n",
        "\n",
        "Si $h=\\left(x-x_{1}\\right)$ y \n",
        "\n",
        "$$\\int_{x_{0}}^{x_{2}}f\\left(x\\right)dx=\\left[f\\left(x_{1}\\right)h+\\frac{f'\\left(x_{1}\\right)h^{2}}{2!}+\\frac{f''\\left(x_{1}\\right)h^{3}}{3!}+\\frac{f^{\\left(3\\right)}\\left(x_{1}\\right)h^{4}}{4!}\\right]_{x_{0}}^{x_{2}}+\\frac{1}{24}\\int_{x_{0}}^{x_{2}}f^{\\left(4\\right)}\\left(\\xi\\left(x\\right)\\right)h^{4}dx \\tag{5}$$\n",
        "\n",
        "Puesto que $\\left(x-x_{1}\\right)^{4}$ nunca es negativo en $\\left[x_{0},x_{2}\\right]$ y por el Teorema del Valor Medio ponderado, entonces\n",
        "\n",
        "$$\\frac{1}{24}\\int_{x_{0}}^{x_{2}}f^{\\left(4\\right)}\\left(\\xi\\left(x\\right)\\right)h^{4}dx=\\frac{f^{\\left(4\\right)}\\left(\\xi_{1}\\right)h^{4}}{24}\\int_{x_{0}}^{x_{2}}h^{4}dx=\\frac{f^{\\left(4\\right)}\\left(\\xi_{1}\\right)}{120}h^{5}\\mid_{x_{0}}^{x2}$$\n",
        "\n",
        "Para algún número $\\xi_{1}\\in\\left(x_{0},x_{2}\\right)$. Pero por otro lado $h=x_{2}-x_{1}=x_{1}-x_{0}$, así que\n",
        "\n",
        "$$\\left(x_{2}-x_{1}\\right)^{2}-\\left(x_{1}-x_{0}\\right)^{2}=\\left(x_{2}-x_{1}\\right)^{4}-\\left(x_{1}-x_{0}\\right)^{4}=0 $$\n",
        "\n",
        "Mientras que\n",
        "\n",
        "$$\\left(x_{2}-x_{1}\\right)^{3}-\\left(x_{1}-x_{0}\\right)^{3}=2h^{3}\\,y\\,\\left(x_{2}-x_{1}\\right)^{5}-\\left(x_{1}-x_{0}\\right)^{5}=2h^{5}$$\n",
        "\n",
        "Así que (5), se puede reescribir así\n",
        "\n",
        "Pero si ahora reemplazamos $f''\\left(x_{1}\\right)$ por su aproximación en diferencias finitas, se tiene\n",
        "\n",
        "$$\\int_{x_{0}}^{x_{2}}f\\left(x\\right)dx=2hf\\left(x_{1}\\right)+\\frac{h^{3}}{3}\\left\\{ \\frac{1}{h^{2}}\\left[f\\left(x_{0}\\right)-2f\\left(x_{1}\\right)+f\\left(x_{2}\\right)\\right]-\\frac{h^{2}}{12}f^{\\left(4\\right)}\\left(\\xi_{2}\\right)\\right\\} \\\\+\\frac{f^{\\left(4\\right)}\\left(\\xi_{1}\\right)h^{5}}{60}\\\\=\\frac{h}{3}\\left[f\\left(x_{0}\\right)+4f\\left(x_{1}\\right)+f\\left(x_{2}\\right)\\right]-\\frac{h^{5}}{12}\\left[\\frac{1}{3}f^{\\left(4\\right)}\\left(\\xi_{2}\\right)-\\frac{1}{5}f^{\\left(4\\right)}\\left(\\xi_{1}\\right)\\right] $$\n",
        "\n",
        "Así tenemos que\n",
        "\n",
        "$$\\int_{x_{0}}^{x_{2}}f\\left(x\\right)dx=\\frac{h}{3}\\left[f\\left(x_{0}\\right)+4f\\left(x_{1}\\right)+f\\left(x_{2}\\right)\\right]-\\frac{h^{5}}{90}f^{\\left(4\\right)}\\left(\\xi_{1}\\right)$$\n",
        "\n",
        "Es la forma general de la regla de Simpson $\\frac{1}{3}$\n",
        "\n",
        "$\\color{green}{Ejemplo}$. La regla del trapecio para una función f en el intervalo $\\left[0,2\\right]$ es \n",
        "\n",
        "$$\\int_{0}^{2}f\\left(x\\right)dx\\approx f\\left(0\\right)+f\\left(2\\right)$$\n",
        "\n",
        "y la regla de Simpson para $f$ en $\\left[0,2\\right]$ es\n",
        "\n",
        "$$\\int_{0}^{2}f\\left(x\\right)dx\\approx\\frac{1}{3}\\left[f\\left(0\\right)+4f\\left(1\\right)+f\\left(2\\right)\\right] $$\n",
        "\n",
        "Calcular las correspondientes aproximaciones para\n",
        "\n",
        "$$x^{2},x^{4},\\frac{1}{\\left(x+1\\right)},\\,\\sqrt{1+x^{2}},\\,sen\\,x,\\,e^{x}$$\n",
        "\n",
        "Notar como en todos los casos, la regla de Simpson, proporciona una mejor aproximación.\n",
        "\n",
        "| $f\\left(x\\right)$        | $x^{2}$ |  $x^{4}$ | $\\frac{1}{x+1}$|$\\sqrt{1+x^{2}}$ |sin x |$e^{x}$ |\n",
        "| :-:  | :-: | :-: |  :-: | :-:  |   :-: |   :-: | \n",
        "| Valores exactos  | 2.667 |6.400 |1.099 |2.958 |1.416 |6.389 |\n",
        "| Trapecio | 4.00\t|16.00\t|1.333|\t3.326|\t0.909|\t8.389|\n",
        "| Simpson\t|2.667|\t6.667|\t1.111|\t2.964|\t1.425|\t6.421|\n",
        "\n"
      ]
    },
    {
      "cell_type": "markdown",
      "metadata": {
        "id": "7C9JCjtkUGcO"
      },
      "source": [
        "#### codigo en python"
      ]
    },
    {
      "cell_type": "code",
      "metadata": {
        "id": "VPf_wwHmw7-K",
        "outputId": "298b1787-fe94-4360-81fe-a2e366ffcb7a"
      },
      "source": [
        "def Simpson1_3():\n",
        "    # x0 punto inicial del intervalo \n",
        "    # x2 punto final del intervalo \n",
        "    # f funcion a integrar\n",
        "    x0=0\n",
        "    x2=1\n",
        "    h=(x2-x0)/2\n",
        "    x1=x0+h\n",
        "    def f(x):\n",
        "        return x*x\n",
        "        \n",
        "    integral=(h/3)*(f(x0)+4*f(x1)+f(x2))\n",
        "    \n",
        "    print(\"el valor de la integral mediante el metodo de cuadratura del  Trapecio Compuesto es: {}\".format(integral)) \n",
        "\n",
        "Simpson1_3()"
      ],
      "execution_count": null,
      "outputs": [
        {
          "output_type": "stream",
          "text": [
            "el valor de la integral mediante el metodo de cuadratura del  Trapecio Compuesto es: 0.3333333333333333\n"
          ],
          "name": "stdout"
        }
      ]
    },
    {
      "cell_type": "markdown",
      "metadata": {
        "id": "nWIDZP_Yw7-P"
      },
      "source": [
        "### 2.5.  Cuadratura de Simpson $\\frac{3}{8}$\n",
        "\n",
        "Esta regla se obtiene al integra el tercer polinomio de Lagrange en $\\left[a,b\\right]$ tomando los nodos $x_{0}=a,\\,x_{1}=a+h,\\,x_{2}=a+2h,\\,y\\,x_{3}=b$ donde $h=\\frac{b-a}{3}$\n",
        "\n",
        "es decir\n",
        "\n",
        "$$\\int_{a}^{b}f\\left(x\\right)dx\\approx\\int_{a}^{b}P_{3}\\left(x\\right)dx=\\frac{3h}{8} \\left[f\\left(x_{0}\\right)+3f\\left(x_{1}\\right)+3f\\left(x_{2}\\right)+f\\left(x_{3}\\right)\\right]$$\n",
        "\n",
        "Es importante notar que esta regla es una suma ponderada de los valores de $f\\left(x\\right)$ en los dos puntos finales $x_{0}=a$ y $x_{3}=b$, y los dos puntos $x_{1},x_{2}$ divide el intervalo en tres partes iguales.\n",
        "\n"
      ]
    },
    {
      "cell_type": "markdown",
      "metadata": {
        "id": "pgA_9TBMUJWe"
      },
      "source": [
        "#### codigo en python"
      ]
    },
    {
      "cell_type": "code",
      "metadata": {
        "id": "bbLbHny9w7-Q",
        "outputId": "520d7c21-e6b7-49d2-878c-9e3ff7765e1f"
      },
      "source": [
        "def Simpson3_8():\n",
        "    # x0 punto inicial del intervalo \n",
        "    # x3 punto final del intervalo \n",
        "    # f funcion a integrar\n",
        "    x0=0\n",
        "    x3=1\n",
        "    h=(x3-x0)/3\n",
        "    x1=x0+h\n",
        "    x2=x0+2*h\n",
        "    def f(x):\n",
        "        return x*x\n",
        "        \n",
        "    integral=(3/8)*h*(f(x0)+3*f(x1)+3*f(x2)+f(x3))\n",
        "    \n",
        "    print(\"el valor de la integral mediante el metodo de cuadratura del  Trapecio Compuesto es: {}\".format(integral)) \n",
        "\n",
        "Simpson3_8()"
      ],
      "execution_count": null,
      "outputs": [
        {
          "output_type": "stream",
          "text": [
            "el valor de la integral mediante el metodo de cuadratura del  Trapecio Compuesto es: 0.3333333333333333\n"
          ],
          "name": "stdout"
        }
      ]
    },
    {
      "cell_type": "markdown",
      "metadata": {
        "id": "N6J_kbU0w7-U"
      },
      "source": [
        "# 3.Cuadratura Gaussiana\n",
        "\n",
        "### Introducción.\n",
        "\n",
        "Las reglas vista en la sección anterior, también son conocidas como reglas de Newton-Cotes, se dedujeron integrando los polinomios de interpolación. El termino de error en el polinomio de interpolación de grado n contiene la $\\left(n+1\\right)-esima$ derivada.\n",
        "\n",
        "En todas las formulas de Newton-Cotes se emplean valores de la función equidistantes. Este procedimiento es adecuado cuando las reglas son combinadas para crear nuevas reglas compuestas, como las vistas con anterioridad.\n",
        "\n",
        "Sin embargo la restricción que pide a los nodo ser equidistantes, puede afectar considerablemente la exactitud de la aproximación.\n",
        "\n",
        "La cuadratura Gaussiana optimiza la forma de seleccionar los puntos a ser evaluados y no los toma en forma igualmente espaciada como se había visto en las reglas de Newton-Cotes.\n",
        "\n",
        "Se escogen los nodos $x_{1},x_{2},\\ldots,x_{n}$ en el intervalo $\\left[a,b\\right]$ y los coeficientes $c_{1},c_{2},\\ldots c_{n}$ para reducir en lo posible el error esperado que se obtiene al efectuar la aproximación\n",
        "\n",
        "$$ \\int_{a}^{b}f\\left(x\\right)dx\\approx\\sum_{i=1}^{n}c_{i}f\\left(x_{i}\\right)$$\n",
        "\n",
        "Los coeficientes (pesos) $c_{1},c_{2},\\ldots c_{n}$ son arbitrarios y los nodos (puntos de Gauss) $x_{1},x_{2},\\ldots,x_{n}$ están restringidos a pertenecer al intervalo $\\left[a,b\\right]$.\n",
        "\n",
        "Esto nos da $2n$ parámetros de donde elegir. Considerando la clase de polinomios de grado máximo $2n-1$ también contiene $2n$ parámetros, si es que los coeficientes de un polinomio se consideran parámetros.\n",
        "\n",
        "Esta clase de polinomios es la más amplia para la cual es razonable esperar que la regla devuelva un resultado exacto.\n",
        "\n",
        "Se mostrará cómo seleccionar los coeficientes y los nodos cuando $n=2$ y cuando el intervalo de integración es $\\left[-1,1\\right]$\n",
        "\n",
        "Después se explicara el caso mas general de una elección arbitraria de puntos y pesos, indicando como modificar el método cuando se integra en un intervalo arbitrario.\n",
        "\n"
      ]
    },
    {
      "cell_type": "markdown",
      "metadata": {
        "id": "4UBd93v1SZyt"
      },
      "source": [
        "## 3.1.Cuadratura Gaussiana con n=2 puntos.\r\n",
        "\r\n",
        "Supongamos que se requiere determinar $c_{1},c_{2},x_{1},x_{2}$ de modo que la regla de integración\r\n",
        "\r\n",
        "$$\\int_{-1}^{1}f\\left(x\\right)dx\\approx c_{1}f\\left(x_{1}\\right)+c_{2}f\\left(x_{2}\\right)$$\r\n",
        "\r\n",
        "proporcione el resultado exacto siempre que $f\\left(x\\right)$ sea un polinomio de grado $2\\left(2\\right)-1=3$ o menor, es decir que sea un polinomio de la forma\r\n",
        "\r\n",
        "$$ f\\left(x\\right)=a_{0}+a_{1}x+a_{2}x^{2}+a_{3}x^{3} $$\r\n",
        "\r\n",
        "\r\n",
        "Dado que\r\n",
        "\r\n",
        "$$\\int f\\left(x\\right)dx=a_{0}\\int1dx+a_{1}\\int xdx+a_{2}\\int x^{2}dx+a_{3}\\int x^{3}d $$\r\n",
        "\r\n",
        "esto equivale a demostrar que la regla produce resultados exactos cuando $f\\left(x\\right)$ es $1,x,x^{2},x^{3}$\r\n",
        "\r\n",
        "Necesitamos $c_{1},c_{2},x_{1},x_{2}$ de manera tal que\r\n",
        "\r\n",
        "$$\\begin{array}{cc}\r\n",
        "{\\color{blue}{(a)}}\\,c_{1}*1+c_{2}*1=\\int_{-1}^{1}1dx=2\\quad & {\\color{blue}{(b)}}\\,c_{1}x_{1}+c_{2}x_{2}=\\int_{-1}^{1}xdx=0\\\\\r\n",
        "{\\color{blue}{(c)}}\\,c_{1}x_{1}^{2}+c_{2}x_{2}^{2}=\\int_{-1}^{1}x^{2}dx=\\frac{2}{3} & {\\color{blue}{(d)}}\\,c_{1}x_{1}^{3}+c_{2}x_{2}^{3}=\\int_{-1}^{1}x^{3}dx=0\r\n",
        "\\end{array}$$\r\n",
        "\r\n",
        "Las 4 incógnitas se puede determinar comenzando con (b)\r\n",
        "\r\n",
        "$$c_{2}=-\\frac{c_{1}x_{1}}{x_{2}} \\tag{6}$$\r\n",
        "\r\n",
        "Ahora substituyendo en (d) se tiene\r\n",
        "\r\n",
        "$$c_{1}x_{1}^{3}-c_{1}x_{1}x_{2}^{2}=0\\,\\Rightarrow\\,x_{1}^{2}=x_{2}^{2}$$\r\n",
        "\r\n",
        "Pero $x_{1}\\neq x_{2}$ por lo tanto se tiene que\r\n",
        "\r\n",
        "$$x_{1}=-x_{2} \\tag{7}$$\r\n",
        "\r\n",
        "Ahora substituyendo x_{1} en (6), tenemos que $c_{1}=c_{2}$ y usando (a)\r\n",
        "\r\n",
        "$$ c_{1}=c_{2}=1 \\tag{8}$$\r\n",
        "\r\n",
        "Si se substituye (7) y (8) en (c) se tiene\r\n",
        "\r\n",
        "$$x_{1}^{2}+x_{2}^{2}=\\frac{2}{3}\\,\\Rightarrow\\,x_{1}=\\frac{1}{\\sqrt{3}}$$\r\n",
        "\r\n",
        "Así tenemos que\r\n",
        "\r\n",
        "$$ c_{1}=1,\\quad c_{2}=1,\\quad x_{1}=\\frac{1}{\\sqrt{3}}\\;y\\;x_{2}=\\frac{-1}{\\sqrt{3}}$$\r\n",
        "\r\n",
        "Así que la regla para 2 puntos es\r\n",
        "\r\n",
        "$$\\int_{-1}^{1}f\\left(x\\right)dx\\approx f\\left(\\frac{1}{\\sqrt{3}}\\right)+f\\left(\\frac{-1}{\\sqrt{3}}\\right) $$ \r\n",
        "\r\n",
        "\r\n",
        "\r\n",
        "| n  puntos      | Coeficientes $C_{i}$ |  Puntos Gauss $x_{i}$ | \r\n",
        "| :-:  | :-: | :-: |  \r\n",
        "| 2  | $c_{1}=c_{2}=1$ | $x_{1}=0.578\\\\x_{2}=-0.578$ |\r\n",
        "| 3 | $c_{1}=0.556\\\\c_{2}=0.889\\\\c_{3}=0.556$ | $x_{1}=0.774\\\\x_{2}=0\\\\x_{3}=-0.774$ |\r\n",
        "\r\n"
      ]
    },
    {
      "cell_type": "markdown",
      "metadata": {
        "id": "Lp9t6jRDSd6A"
      },
      "source": [
        "## 3.2.Cuadratura Gaussiana general.\r\n",
        "\r\n",
        "Una integral $\\int_{a}^{b}f\\left(x\\right)dx$ en un intervalo arbitrario $\\left[a,b\\right]$ se puede transformar en otra integral $\\int_{-1}^{1}f\\left(t\\right)dt$ en $\\left[-1,1\\right]$ usando el cambio de variable\r\n",
        "\r\n",
        "$$t=\\frac{2x-a-b}{b-a}\\Leftrightarrow x=\\frac{1}{2}\\left[\\left(b-a\\right)t+a+b\\right] $$\r\n",
        "\r\n",
        "Donde el diferencial de $x$ es $dx=\\frac{1}{2}\\left(b-a\\right)dt$. Esto nos permite aplicar la cuadratura Gaussiana a cualquier intervalo $\\left[a,b\\right]$, ya que\r\n",
        "\r\n",
        "$$ \\int_{a}^{b}f\\left(x\\right)dx=\\int_{-1}^{1}f\\left(\\frac{\\left(b-a\\right)t+\\left(b+a\\right)}{2}\\right)\\frac{\\left(b-a\\right)}{2}dt $$\r\n",
        "\r\n"
      ]
    },
    {
      "cell_type": "markdown",
      "metadata": {
        "id": "QUnDN8cOSgz1"
      },
      "source": [
        "## $\\color{green}{Ejemplo}$.\r\n",
        "\r\n",
        "Evalúe $\\int_{0}^{3}e^{-x^{2}}dx$. Usando $n=3$ puntos. Encuentre el error, empleando el valor analítico.\r\n",
        "\r\n",
        "El valor de la integral resolviendo de manera analíticamente es 0.886207.\r\n",
        "\r\n"
      ]
    },
    {
      "cell_type": "markdown",
      "metadata": {
        "id": "iM3D9eUJTL3X"
      },
      "source": [
        "### codigo en python"
      ]
    },
    {
      "cell_type": "code",
      "metadata": {
        "id": "TRtZ_9obw7-V",
        "outputId": "0ebb6964-5586-4d95-b4e5-4b7967e32371"
      },
      "source": [
        "def CuaGauss():\n",
        "    # a punto inicial del intervalo \n",
        "    # b punto final del intervalo \n",
        "    # f funcion a integrar\n",
        "    a=0\n",
        "    b=1 \n",
        "    r=np.array([0.774,0.0,-0.774])\n",
        "    c=np.array([0.556,0.889,0.556])\n",
        "    def f(x):\n",
        "        return x*x\n",
        "    \n",
        "    cuadratura=0.0\n",
        "    jacobiano=(b-a)/2\n",
        "    for i in range(len(r)):\n",
        "        changeVar=0.0;changeVar=(( (b-a)*r[i])+b+a)/2\n",
        "        cuadratura+=c[i]*f(changeVar)\n",
        "        \n",
        "    integral=jacobiano*cuadratura\n",
        "    \n",
        "    print(\"el resultad de la integral con una cuadratura de 3 puntos es :{}\".format(integral))\n",
        "    \n",
        "CuaGauss()"
      ],
      "execution_count": null,
      "outputs": [
        {
          "output_type": "stream",
          "text": [
            "el resultad de la integral con una cuadratura de 3 puntos es :0.33339656400000006\n"
          ],
          "name": "stdout"
        }
      ]
    },
    {
      "cell_type": "code",
      "metadata": {
        "id": "lIYmADhoyS1o",
        "colab": {
          "base_uri": "https://localhost:8080/",
          "height": 331,
          "referenced_widgets": [
            "70b38f9dda22411aa04084a01aaea782",
            "fb45ec6ea3b047dba9d3ed7e568a925c",
            "88d536153b6a4c1696f9c67af3ec90ef",
            "bbc751bc2ea94315b8fc911450f1cf5f",
            "25b627567cf14cb0a19aefd641c68096",
            "fca8be1584d7429880d1d9dec4b0f09b",
            "066a7fc7885e4a02a7e9c93d29a747ad"
          ]
        },
        "outputId": "ef5a7242-ff4f-42b9-a3d7-1b5b8ebacdec"
      },
      "source": [
        "def grafica(n):\n",
        "  f = lambda x : 1/(1 + x**2)\n",
        "  a = 0; b = 5; N = n\n",
        "\n",
        "  # x and y values for the trapezoid rule\n",
        "  x = np.linspace(a,b,N+1)\n",
        "  y = f(x)\n",
        "\n",
        "  # X and Y values for plotting y=f(x)\n",
        "  X = np.linspace(a,b,100)\n",
        "  Y = f(X)\n",
        "  plt.plot(X,Y)\n",
        "\n",
        "  for i in range(N):\n",
        "      xs = [x[i],x[i],x[i+1],x[i+1]]\n",
        "      ys = [0,f(x[i]),f(x[i+1]),0]\n",
        "      plt.fill(xs,ys,'b',edgecolor='b',alpha=0.2)\n",
        "\n",
        "  plt.title('Trapezoid Rule, N = {}'.format(N))\n",
        "  plt.show()\n",
        "\n",
        "interact(grafica,n=widgets.IntSlider(min=4,max=30,step=1,value=2))"
      ],
      "execution_count": null,
      "outputs": [
        {
          "output_type": "display_data",
          "data": {
            "application/vnd.jupyter.widget-view+json": {
              "model_id": "70b38f9dda22411aa04084a01aaea782",
              "version_minor": 0,
              "version_major": 2
            },
            "text/plain": [
              "interactive(children=(IntSlider(value=4, description='n', max=30, min=4), Output()), _dom_classes=('widget-int…"
            ]
          },
          "metadata": {
            "tags": []
          }
        },
        {
          "output_type": "execute_result",
          "data": {
            "text/plain": [
              "<function __main__.grafica>"
            ]
          },
          "metadata": {
            "tags": []
          },
          "execution_count": 4
        }
      ]
    },
    {
      "cell_type": "markdown",
      "metadata": {
        "id": "Jz-VcnxDw7-a"
      },
      "source": [
        "# 4.Referencias.\n",
        "\n",
        "1. Yuri N. Skiba: Introducción a los métodos numéricos, Dirección General de Publicaciones U.N.A.M.\n",
        "\n",
        "2. Ward Cheney, David Kincaid: Métodos Numéricos y Computación, Cenage Learning.\n",
        "\n",
        "3. Richard L. Burden, J. Douglas Faires:\\newblock Análisis Numérico, Math Learning.\n",
        "\n",
        "4. Riswan Butt: Numerical Analysys Using Matlab, Jones and Bartlett.\n",
        "\n",
        "5. Quarteroni, A, Sacco R.: Numerical mathematics, Springer. 2007."
      ]
    }
  ]
}