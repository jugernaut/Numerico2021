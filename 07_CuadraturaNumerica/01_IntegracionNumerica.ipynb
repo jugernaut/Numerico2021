{
  "nbformat": 4,
  "nbformat_minor": 0,
  "metadata": {
    "kernelspec": {
      "display_name": "Python 3.7 (tensorflow)",
      "language": "python",
      "name": "tensorflow"
    },
    "language_info": {
      "codemirror_mode": {
        "name": "ipython",
        "version": 3
      },
      "file_extension": ".py",
      "mimetype": "text/x-python",
      "name": "python",
      "nbconvert_exporter": "python",
      "pygments_lexer": "ipython3",
      "version": "3.7.7"
    },
    "colab": {
      "name": "Integracion_numerica.ipynb",
      "provenance": [],
      "toc_visible": true,
      "include_colab_link": true
    },
    "widgets": {
      "application/vnd.jupyter.widget-state+json": {
        "7870b1cc7e9f4fd682587c9439195984": {
          "model_module": "@jupyter-widgets/controls",
          "model_name": "VBoxModel",
          "state": {
            "_view_name": "VBoxView",
            "_dom_classes": [
              "widget-interact"
            ],
            "_model_name": "VBoxModel",
            "_view_module": "@jupyter-widgets/controls",
            "_model_module_version": "1.5.0",
            "_view_count": null,
            "_view_module_version": "1.5.0",
            "box_style": "",
            "layout": "IPY_MODEL_e61adee62e544e3fabdb6723e2bf86e0",
            "_model_module": "@jupyter-widgets/controls",
            "children": [
              "IPY_MODEL_24815976b59048fc85bbb547a63450e0",
              "IPY_MODEL_51e649cc174d4c118f11469e2e5b0c44"
            ]
          }
        },
        "e61adee62e544e3fabdb6723e2bf86e0": {
          "model_module": "@jupyter-widgets/base",
          "model_name": "LayoutModel",
          "state": {
            "_view_name": "LayoutView",
            "grid_template_rows": null,
            "right": null,
            "justify_content": null,
            "_view_module": "@jupyter-widgets/base",
            "overflow": null,
            "_model_module_version": "1.2.0",
            "_view_count": null,
            "flex_flow": null,
            "width": null,
            "min_width": null,
            "border": null,
            "align_items": null,
            "bottom": null,
            "_model_module": "@jupyter-widgets/base",
            "top": null,
            "grid_column": null,
            "overflow_y": null,
            "overflow_x": null,
            "grid_auto_flow": null,
            "grid_area": null,
            "grid_template_columns": null,
            "flex": null,
            "_model_name": "LayoutModel",
            "justify_items": null,
            "grid_row": null,
            "max_height": null,
            "align_content": null,
            "visibility": null,
            "align_self": null,
            "height": null,
            "min_height": null,
            "padding": null,
            "grid_auto_rows": null,
            "grid_gap": null,
            "max_width": null,
            "order": null,
            "_view_module_version": "1.2.0",
            "grid_template_areas": null,
            "object_position": null,
            "object_fit": null,
            "grid_auto_columns": null,
            "margin": null,
            "display": null,
            "left": null
          }
        },
        "24815976b59048fc85bbb547a63450e0": {
          "model_module": "@jupyter-widgets/controls",
          "model_name": "IntSliderModel",
          "state": {
            "_view_name": "IntSliderView",
            "style": "IPY_MODEL_9b1bfbd7751c4092b0d4ec21e1199327",
            "_dom_classes": [],
            "description": "n",
            "step": 1,
            "_model_name": "IntSliderModel",
            "orientation": "horizontal",
            "max": 30,
            "_view_module": "@jupyter-widgets/controls",
            "_model_module_version": "1.5.0",
            "value": 1,
            "_view_count": null,
            "disabled": false,
            "_view_module_version": "1.5.0",
            "min": 1,
            "continuous_update": true,
            "readout_format": "d",
            "description_tooltip": null,
            "readout": true,
            "_model_module": "@jupyter-widgets/controls",
            "layout": "IPY_MODEL_775528a97c554690b47778448d6259b4"
          }
        },
        "51e649cc174d4c118f11469e2e5b0c44": {
          "model_module": "@jupyter-widgets/output",
          "model_name": "OutputModel",
          "state": {
            "_view_name": "OutputView",
            "msg_id": "",
            "_dom_classes": [],
            "_model_name": "OutputModel",
            "outputs": [
              {
                "output_type": "stream",
                "metadata": {
                  "tags": []
                },
                "text": "el valor de la integral mediante el metodo de cuadratura del rectangulo es: 1.0\n",
                "stream": "stdout"
              },
              {
                "output_type": "display_data",
                "metadata": {
                  "tags": [],
                  "needs_background": "light"
                },
                "image/png": "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\n",
                "text/plain": "<Figure size 432x288 with 1 Axes>"
              }
            ],
            "_view_module": "@jupyter-widgets/output",
            "_model_module_version": "1.0.0",
            "_view_count": null,
            "_view_module_version": "1.0.0",
            "layout": "IPY_MODEL_4c2b840324c5492d8d81b1efe7468e64",
            "_model_module": "@jupyter-widgets/output"
          }
        },
        "9b1bfbd7751c4092b0d4ec21e1199327": {
          "model_module": "@jupyter-widgets/controls",
          "model_name": "SliderStyleModel",
          "state": {
            "_view_name": "StyleView",
            "handle_color": null,
            "_model_name": "SliderStyleModel",
            "description_width": "",
            "_view_module": "@jupyter-widgets/base",
            "_model_module_version": "1.5.0",
            "_view_count": null,
            "_view_module_version": "1.2.0",
            "_model_module": "@jupyter-widgets/controls"
          }
        },
        "775528a97c554690b47778448d6259b4": {
          "model_module": "@jupyter-widgets/base",
          "model_name": "LayoutModel",
          "state": {
            "_view_name": "LayoutView",
            "grid_template_rows": null,
            "right": null,
            "justify_content": null,
            "_view_module": "@jupyter-widgets/base",
            "overflow": null,
            "_model_module_version": "1.2.0",
            "_view_count": null,
            "flex_flow": null,
            "width": null,
            "min_width": null,
            "border": null,
            "align_items": null,
            "bottom": null,
            "_model_module": "@jupyter-widgets/base",
            "top": null,
            "grid_column": null,
            "overflow_y": null,
            "overflow_x": null,
            "grid_auto_flow": null,
            "grid_area": null,
            "grid_template_columns": null,
            "flex": null,
            "_model_name": "LayoutModel",
            "justify_items": null,
            "grid_row": null,
            "max_height": null,
            "align_content": null,
            "visibility": null,
            "align_self": null,
            "height": null,
            "min_height": null,
            "padding": null,
            "grid_auto_rows": null,
            "grid_gap": null,
            "max_width": null,
            "order": null,
            "_view_module_version": "1.2.0",
            "grid_template_areas": null,
            "object_position": null,
            "object_fit": null,
            "grid_auto_columns": null,
            "margin": null,
            "display": null,
            "left": null
          }
        },
        "4c2b840324c5492d8d81b1efe7468e64": {
          "model_module": "@jupyter-widgets/base",
          "model_name": "LayoutModel",
          "state": {
            "_view_name": "LayoutView",
            "grid_template_rows": null,
            "right": null,
            "justify_content": null,
            "_view_module": "@jupyter-widgets/base",
            "overflow": null,
            "_model_module_version": "1.2.0",
            "_view_count": null,
            "flex_flow": null,
            "width": null,
            "min_width": null,
            "border": null,
            "align_items": null,
            "bottom": null,
            "_model_module": "@jupyter-widgets/base",
            "top": null,
            "grid_column": null,
            "overflow_y": null,
            "overflow_x": null,
            "grid_auto_flow": null,
            "grid_area": null,
            "grid_template_columns": null,
            "flex": null,
            "_model_name": "LayoutModel",
            "justify_items": null,
            "grid_row": null,
            "max_height": null,
            "align_content": null,
            "visibility": null,
            "align_self": null,
            "height": null,
            "min_height": null,
            "padding": null,
            "grid_auto_rows": null,
            "grid_gap": null,
            "max_width": null,
            "order": null,
            "_view_module_version": "1.2.0",
            "grid_template_areas": null,
            "object_position": null,
            "object_fit": null,
            "grid_auto_columns": null,
            "margin": null,
            "display": null,
            "left": null
          }
        },
        "1aad2d7989f1436fb168e4277dc41e39": {
          "model_module": "@jupyter-widgets/controls",
          "model_name": "VBoxModel",
          "state": {
            "_view_name": "VBoxView",
            "_dom_classes": [
              "widget-interact"
            ],
            "_model_name": "VBoxModel",
            "_view_module": "@jupyter-widgets/controls",
            "_model_module_version": "1.5.0",
            "_view_count": null,
            "_view_module_version": "1.5.0",
            "box_style": "",
            "layout": "IPY_MODEL_2a4f1980865144e08cb9f7e9e3728785",
            "_model_module": "@jupyter-widgets/controls",
            "children": [
              "IPY_MODEL_a569f1769f3347eb85341697c0657f75",
              "IPY_MODEL_4894dc31c60c431581398a542c1873d4"
            ]
          }
        },
        "2a4f1980865144e08cb9f7e9e3728785": {
          "model_module": "@jupyter-widgets/base",
          "model_name": "LayoutModel",
          "state": {
            "_view_name": "LayoutView",
            "grid_template_rows": null,
            "right": null,
            "justify_content": null,
            "_view_module": "@jupyter-widgets/base",
            "overflow": null,
            "_model_module_version": "1.2.0",
            "_view_count": null,
            "flex_flow": null,
            "width": null,
            "min_width": null,
            "border": null,
            "align_items": null,
            "bottom": null,
            "_model_module": "@jupyter-widgets/base",
            "top": null,
            "grid_column": null,
            "overflow_y": null,
            "overflow_x": null,
            "grid_auto_flow": null,
            "grid_area": null,
            "grid_template_columns": null,
            "flex": null,
            "_model_name": "LayoutModel",
            "justify_items": null,
            "grid_row": null,
            "max_height": null,
            "align_content": null,
            "visibility": null,
            "align_self": null,
            "height": null,
            "min_height": null,
            "padding": null,
            "grid_auto_rows": null,
            "grid_gap": null,
            "max_width": null,
            "order": null,
            "_view_module_version": "1.2.0",
            "grid_template_areas": null,
            "object_position": null,
            "object_fit": null,
            "grid_auto_columns": null,
            "margin": null,
            "display": null,
            "left": null
          }
        },
        "a569f1769f3347eb85341697c0657f75": {
          "model_module": "@jupyter-widgets/controls",
          "model_name": "IntSliderModel",
          "state": {
            "_view_name": "IntSliderView",
            "style": "IPY_MODEL_8d26870d80cd4317b636fb0e69f8d1ec",
            "_dom_classes": [],
            "description": "n",
            "step": 1,
            "_model_name": "IntSliderModel",
            "orientation": "horizontal",
            "max": 30,
            "_view_module": "@jupyter-widgets/controls",
            "_model_module_version": "1.5.0",
            "value": 1,
            "_view_count": null,
            "disabled": false,
            "_view_module_version": "1.5.0",
            "min": 1,
            "continuous_update": true,
            "readout_format": "d",
            "description_tooltip": null,
            "readout": true,
            "_model_module": "@jupyter-widgets/controls",
            "layout": "IPY_MODEL_aef386cef97c4d6e9b8e9966eb8c47c4"
          }
        },
        "4894dc31c60c431581398a542c1873d4": {
          "model_module": "@jupyter-widgets/output",
          "model_name": "OutputModel",
          "state": {
            "_view_name": "OutputView",
            "msg_id": "",
            "_dom_classes": [],
            "_model_name": "OutputModel",
            "outputs": [
              {
                "output_type": "stream",
                "metadata": {
                  "tags": []
                },
                "text": "el valor de la integral mediante el metodo de cuadratura del punto medio es: 0.25\n",
                "stream": "stdout"
              },
              {
                "output_type": "display_data",
                "metadata": {
                  "tags": [],
                  "needs_background": "light"
                },
                "image/png": "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\n",
                "text/plain": "<Figure size 432x288 with 1 Axes>"
              }
            ],
            "_view_module": "@jupyter-widgets/output",
            "_model_module_version": "1.0.0",
            "_view_count": null,
            "_view_module_version": "1.0.0",
            "layout": "IPY_MODEL_a8a254f98d0c42d393b06fd0bab637b3",
            "_model_module": "@jupyter-widgets/output"
          }
        },
        "8d26870d80cd4317b636fb0e69f8d1ec": {
          "model_module": "@jupyter-widgets/controls",
          "model_name": "SliderStyleModel",
          "state": {
            "_view_name": "StyleView",
            "handle_color": null,
            "_model_name": "SliderStyleModel",
            "description_width": "",
            "_view_module": "@jupyter-widgets/base",
            "_model_module_version": "1.5.0",
            "_view_count": null,
            "_view_module_version": "1.2.0",
            "_model_module": "@jupyter-widgets/controls"
          }
        },
        "aef386cef97c4d6e9b8e9966eb8c47c4": {
          "model_module": "@jupyter-widgets/base",
          "model_name": "LayoutModel",
          "state": {
            "_view_name": "LayoutView",
            "grid_template_rows": null,
            "right": null,
            "justify_content": null,
            "_view_module": "@jupyter-widgets/base",
            "overflow": null,
            "_model_module_version": "1.2.0",
            "_view_count": null,
            "flex_flow": null,
            "width": null,
            "min_width": null,
            "border": null,
            "align_items": null,
            "bottom": null,
            "_model_module": "@jupyter-widgets/base",
            "top": null,
            "grid_column": null,
            "overflow_y": null,
            "overflow_x": null,
            "grid_auto_flow": null,
            "grid_area": null,
            "grid_template_columns": null,
            "flex": null,
            "_model_name": "LayoutModel",
            "justify_items": null,
            "grid_row": null,
            "max_height": null,
            "align_content": null,
            "visibility": null,
            "align_self": null,
            "height": null,
            "min_height": null,
            "padding": null,
            "grid_auto_rows": null,
            "grid_gap": null,
            "max_width": null,
            "order": null,
            "_view_module_version": "1.2.0",
            "grid_template_areas": null,
            "object_position": null,
            "object_fit": null,
            "grid_auto_columns": null,
            "margin": null,
            "display": null,
            "left": null
          }
        },
        "a8a254f98d0c42d393b06fd0bab637b3": {
          "model_module": "@jupyter-widgets/base",
          "model_name": "LayoutModel",
          "state": {
            "_view_name": "LayoutView",
            "grid_template_rows": null,
            "right": null,
            "justify_content": null,
            "_view_module": "@jupyter-widgets/base",
            "overflow": null,
            "_model_module_version": "1.2.0",
            "_view_count": null,
            "flex_flow": null,
            "width": null,
            "min_width": null,
            "border": null,
            "align_items": null,
            "bottom": null,
            "_model_module": "@jupyter-widgets/base",
            "top": null,
            "grid_column": null,
            "overflow_y": null,
            "overflow_x": null,
            "grid_auto_flow": null,
            "grid_area": null,
            "grid_template_columns": null,
            "flex": null,
            "_model_name": "LayoutModel",
            "justify_items": null,
            "grid_row": null,
            "max_height": null,
            "align_content": null,
            "visibility": null,
            "align_self": null,
            "height": null,
            "min_height": null,
            "padding": null,
            "grid_auto_rows": null,
            "grid_gap": null,
            "max_width": null,
            "order": null,
            "_view_module_version": "1.2.0",
            "grid_template_areas": null,
            "object_position": null,
            "object_fit": null,
            "grid_auto_columns": null,
            "margin": null,
            "display": null,
            "left": null
          }
        },
        "70b38f9dda22411aa04084a01aaea782": {
          "model_module": "@jupyter-widgets/controls",
          "model_name": "VBoxModel",
          "state": {
            "_view_name": "VBoxView",
            "_dom_classes": [
              "widget-interact"
            ],
            "_model_name": "VBoxModel",
            "_view_module": "@jupyter-widgets/controls",
            "_model_module_version": "1.5.0",
            "_view_count": null,
            "_view_module_version": "1.5.0",
            "box_style": "",
            "layout": "IPY_MODEL_fb45ec6ea3b047dba9d3ed7e568a925c",
            "_model_module": "@jupyter-widgets/controls",
            "children": [
              "IPY_MODEL_88d536153b6a4c1696f9c67af3ec90ef",
              "IPY_MODEL_bbc751bc2ea94315b8fc911450f1cf5f"
            ]
          }
        },
        "fb45ec6ea3b047dba9d3ed7e568a925c": {
          "model_module": "@jupyter-widgets/base",
          "model_name": "LayoutModel",
          "state": {
            "_view_name": "LayoutView",
            "grid_template_rows": null,
            "right": null,
            "justify_content": null,
            "_view_module": "@jupyter-widgets/base",
            "overflow": null,
            "_model_module_version": "1.2.0",
            "_view_count": null,
            "flex_flow": null,
            "width": null,
            "min_width": null,
            "border": null,
            "align_items": null,
            "bottom": null,
            "_model_module": "@jupyter-widgets/base",
            "top": null,
            "grid_column": null,
            "overflow_y": null,
            "overflow_x": null,
            "grid_auto_flow": null,
            "grid_area": null,
            "grid_template_columns": null,
            "flex": null,
            "_model_name": "LayoutModel",
            "justify_items": null,
            "grid_row": null,
            "max_height": null,
            "align_content": null,
            "visibility": null,
            "align_self": null,
            "height": null,
            "min_height": null,
            "padding": null,
            "grid_auto_rows": null,
            "grid_gap": null,
            "max_width": null,
            "order": null,
            "_view_module_version": "1.2.0",
            "grid_template_areas": null,
            "object_position": null,
            "object_fit": null,
            "grid_auto_columns": null,
            "margin": null,
            "display": null,
            "left": null
          }
        },
        "88d536153b6a4c1696f9c67af3ec90ef": {
          "model_module": "@jupyter-widgets/controls",
          "model_name": "IntSliderModel",
          "state": {
            "_view_name": "IntSliderView",
            "style": "IPY_MODEL_25b627567cf14cb0a19aefd641c68096",
            "_dom_classes": [],
            "description": "n",
            "step": 1,
            "_model_name": "IntSliderModel",
            "orientation": "horizontal",
            "max": 30,
            "_view_module": "@jupyter-widgets/controls",
            "_model_module_version": "1.5.0",
            "value": 4,
            "_view_count": null,
            "disabled": false,
            "_view_module_version": "1.5.0",
            "min": 4,
            "continuous_update": true,
            "readout_format": "d",
            "description_tooltip": null,
            "readout": true,
            "_model_module": "@jupyter-widgets/controls",
            "layout": "IPY_MODEL_fca8be1584d7429880d1d9dec4b0f09b"
          }
        },
        "bbc751bc2ea94315b8fc911450f1cf5f": {
          "model_module": "@jupyter-widgets/output",
          "model_name": "OutputModel",
          "state": {
            "_view_name": "OutputView",
            "msg_id": "",
            "_dom_classes": [],
            "_model_name": "OutputModel",
            "outputs": [
              {
                "output_type": "display_data",
                "metadata": {
                  "tags": [],
                  "needs_background": "light"
                },
                "image/png": "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\n",
                "text/plain": "<Figure size 432x288 with 1 Axes>"
              }
            ],
            "_view_module": "@jupyter-widgets/output",
            "_model_module_version": "1.0.0",
            "_view_count": null,
            "_view_module_version": "1.0.0",
            "layout": "IPY_MODEL_066a7fc7885e4a02a7e9c93d29a747ad",
            "_model_module": "@jupyter-widgets/output"
          }
        },
        "25b627567cf14cb0a19aefd641c68096": {
          "model_module": "@jupyter-widgets/controls",
          "model_name": "SliderStyleModel",
          "state": {
            "_view_name": "StyleView",
            "handle_color": null,
            "_model_name": "SliderStyleModel",
            "description_width": "",
            "_view_module": "@jupyter-widgets/base",
            "_model_module_version": "1.5.0",
            "_view_count": null,
            "_view_module_version": "1.2.0",
            "_model_module": "@jupyter-widgets/controls"
          }
        },
        "fca8be1584d7429880d1d9dec4b0f09b": {
          "model_module": "@jupyter-widgets/base",
          "model_name": "LayoutModel",
          "state": {
            "_view_name": "LayoutView",
            "grid_template_rows": null,
            "right": null,
            "justify_content": null,
            "_view_module": "@jupyter-widgets/base",
            "overflow": null,
            "_model_module_version": "1.2.0",
            "_view_count": null,
            "flex_flow": null,
            "width": null,
            "min_width": null,
            "border": null,
            "align_items": null,
            "bottom": null,
            "_model_module": "@jupyter-widgets/base",
            "top": null,
            "grid_column": null,
            "overflow_y": null,
            "overflow_x": null,
            "grid_auto_flow": null,
            "grid_area": null,
            "grid_template_columns": null,
            "flex": null,
            "_model_name": "LayoutModel",
            "justify_items": null,
            "grid_row": null,
            "max_height": null,
            "align_content": null,
            "visibility": null,
            "align_self": null,
            "height": null,
            "min_height": null,
            "padding": null,
            "grid_auto_rows": null,
            "grid_gap": null,
            "max_width": null,
            "order": null,
            "_view_module_version": "1.2.0",
            "grid_template_areas": null,
            "object_position": null,
            "object_fit": null,
            "grid_auto_columns": null,
            "margin": null,
            "display": null,
            "left": null
          }
        },
        "066a7fc7885e4a02a7e9c93d29a747ad": {
          "model_module": "@jupyter-widgets/base",
          "model_name": "LayoutModel",
          "state": {
            "_view_name": "LayoutView",
            "grid_template_rows": null,
            "right": null,
            "justify_content": null,
            "_view_module": "@jupyter-widgets/base",
            "overflow": null,
            "_model_module_version": "1.2.0",
            "_view_count": null,
            "flex_flow": null,
            "width": null,
            "min_width": null,
            "border": null,
            "align_items": null,
            "bottom": null,
            "_model_module": "@jupyter-widgets/base",
            "top": null,
            "grid_column": null,
            "overflow_y": null,
            "overflow_x": null,
            "grid_auto_flow": null,
            "grid_area": null,
            "grid_template_columns": null,
            "flex": null,
            "_model_name": "LayoutModel",
            "justify_items": null,
            "grid_row": null,
            "max_height": null,
            "align_content": null,
            "visibility": null,
            "align_self": null,
            "height": null,
            "min_height": null,
            "padding": null,
            "grid_auto_rows": null,
            "grid_gap": null,
            "max_width": null,
            "order": null,
            "_view_module_version": "1.2.0",
            "grid_template_areas": null,
            "object_position": null,
            "object_fit": null,
            "grid_auto_columns": null,
            "margin": null,
            "display": null,
            "left": null
          }
        }
      }
    }
  },
  "cells": [
    {
      "cell_type": "markdown",
      "metadata": {
        "id": "view-in-github",
        "colab_type": "text"
      },
      "source": [
        "<a href=\"https://colab.research.google.com/github/jugernaut/Numerico2021/blob/master/07_CuadraturaNumerica/01_IntegracionNumerica.ipynb\" target=\"_parent\"><img src=\"https://colab.research.google.com/assets/colab-badge.svg\" alt=\"Open In Colab\"/></a>"
      ]
    },
    {
      "cell_type": "markdown",
      "metadata": {
        "id": "ScSKHDcow79x"
      },
      "source": [
        "<font color=\"Teal\" face=\"Comic Sans MS,arial\">\n",
        "  <h1 align=\"center\"><i>Integral Numérica</i></h1>\n",
        "  </font>\n",
        "  <font color=\"Black\" face=\"Comic Sans MS,arial\">\n",
        "  <h5 align=\"center\"><i>Profesor: M.en.C. Miguel Angel Pérez León.</i></h5>\n",
        "    <h5 align=\"center\"><i>Ayudante: Jesús Iván Coss Calderón.</i></h5>\n",
        "  <h5 align=\"center\"><i>Materia: Análisis Numérico.</i></h5>\n",
        "  </font>"
      ]
    },
    {
      "cell_type": "markdown",
      "metadata": {
        "id": "cbG3g1S0w79y"
      },
      "source": [
        "# Introducción\n",
        "\n",
        "Muy frecuentemente es necesario evaluar la integral definida de una función $f\\left(x\\right)$ en un intervalo $\\left[a,b\\right]$. El objetivo de esta sección es encontrar métodos para aproximar la integral\n",
        "\n",
        "$$\\int_{a}^{b}f\\left(x\\right)dx$$\n",
        "\n",
        "Si se conoce a priori la **antiderivada** $F\\left(x\\right)$ entonces es evidente que podemos encontrar el valor exacto de la integral, aplicando el siguiente teorema\n"
      ]
    },
    {
      "cell_type": "markdown",
      "metadata": {
        "id": "LxClLbNDH-rL"
      },
      "source": [
        "## Teorema Fundamental de Cálculo\n",
        "\n",
        "Sea $f\\left(x\\right)$ integrable en el intervalo $\\left[a,b\\right]$ y $F'\\left(x\\right)=f\\left(x\\right)$ entonces,$\\int_{a}^{b}f\\left(x\\right)dx=F\\left(a\\right)-F\\left(b\\right)$\n",
        "\n",
        "\n",
        "Sin embargo como en otras partes del curso, a veces encontrar a $F$ es muy complicado, de tal manera que la mejor opción es encontrar una aproximación del valor exacto de.\n",
        "\n",
        "$$\\int_{a}^{b}f\\left(x\\right)dx$$\n",
        "\n",
        "La forma básica para encontrar una aproximación de $\\int_{a}^{b}f\\left(x\\right)dx$, se conoce como **cuadratura numérica** y emplea una suma del tipo.\n",
        "\n",
        "$$\\sum_{i=0}^{n}a_{i}f\\left(x_{i}\\right)$$\n",
        "\n",
        "Existen diferentes aproximaciones de la integral de $f\\left(x\\right)$ mediante cuadratura numérica, en esta sección revisaremos algunas de las mas comunes."
      ]
    },
    {
      "cell_type": "markdown",
      "metadata": {
        "id": "QNpXtFzFw79z"
      },
      "source": [
        "# Cuadratura Numérica\n",
        "\n",
        "Los métodos de integración numérica se basan en los polinomios de Lagrange visto en secciones previas. La idea básica es que seleccionamos un conjunto de nodos distintos $x_{0},\\ldots,x_{n}$ del intervalo $ \\left[a,b\\right]$. Después se integra el polinomio de Lagrange\n",
        "\n",
        "$$P_{n}\\left(x\\right)=\\sum_{i=0}^{n}f\\left(x_{i}\\right)L_{i}\\left(x\\right)$$\n",
        "\n",
        "Y también se integra el termino de error de truncamiento en $\\left[a,b\\right]$\n",
        "\n",
        "$$\\prod_{i=0}^{n}\\left(x-x_{i}\\right)\\frac{f^{\\left(n+1\\right)}\\left(\\xi\\left(x\\right)\\right)}{\\left(n+1\\right)!}dx$$\n",
        "\n",
        "De tal manera que obtenemos\n",
        "\n",
        "$$ \\int_{a}^{b}f\\left(x\\right)dx=\\int_{a}^{b}\\sum_{i=0}^{n}f\\left(x_{i}\\right)L_{i}\\left(x\\right)dx+\\int_{a}^{b}\\prod_{i=0}^{n}\\left(x-x_{i}\\right)\\frac{f^{\\left(n+1\\right)}\\left(\\xi\\left(x\\right)\\right)}{\\left(n+1\\right)!}dx\\\\=\\sum_{i=0}^{n}a_{i}f\\left(x_{i}\\right)+\\frac{1}{\\left(n+1\\right)!}\\int_{a}^{b}\\prod_{i=0}^{n}\\left(x-x_{i}\\right)f^{\\left(n+1\\right)}\\left(\\xi\\left(x\\right)\\right)dx $$\n",
        "\n",
        "Donde $\\xi\\left(x\\right)$ se encuentra en $\\left[a,b\\right]$ para cada $x$ y\n",
        "\n",
        "$$a_{i}=\\int_{a}^{b}L_{i}\\left(x\\right)dx,\\quad para\\,cada\\,i=0,1,\\ldots,n$$\n",
        "\n",
        "Por lo tanto, la formula de la cuadratura es\n",
        "\n",
        "$$\\int_{a}^{b}f\\left(x\\right)dx=\\sum_{i=0}^{n}a_{i}f\\left(x_{i}\\right) \\tag{1}$$\n",
        "\n",
        "Con un error dado por\n",
        "\n",
        "$$E\\left(f\\right)=\\frac{1}{\\left(n+1\\right)!}\\int_{a}^{b}\\prod_{i=0}^{n}\\left(x-x_{i}\\right)f^{\\left(n+1\\right)}\\left(\\xi\\left(x\\right)\\right)dx$$\n",
        "\n",
        "De la misma manera que en otros temas vistos en el curso, la aproximación sera mas exacta si subdividimos el intervalo $\\left[a,b\\right]$ en tantos subintervalos como sea necesario, es decir\n",
        "\n",
        "Sea\n",
        "\n",
        "$$\\left[a,b\\right]=\\left[a,x_{1}\\right]\\cup\\left[x_{1},x_{2}\\right]\\cup\\cdots\\cup\\left[x_{n-2},x_{n-1}\\right]\\cup\\left[x_{n-1},b\\right]$$\n",
        "\n",
        "Donde\n",
        "\n",
        "$$x_{k}=a+\\frac{b-a}{n}k,\\quad n=0,1,2,\\ldots,n,\\quad x_{0}=a,\\,x_{n}=b$$\n",
        "\n",
        "\n",
        "Tendremos\n",
        "\n",
        "$$\\int_{a}^{b}f\\left(x\\right)dx=\\int_{a}^{x_{1}}f\\left(x\\right)dx+\\cdots+\\int_{x_{k}}^{x_{k+1}}f\\left(x\\right)dx+\\cdots+\\int_{x_{n-1}}^{b}f\\left(x\\right)dx \\tag{2} $$\n",
        "\n",
        "Observación, todos los nodos son igualmente espaciados.\n",
        "\n"
      ]
    },
    {
      "cell_type": "markdown",
      "metadata": {
        "id": "xRjpaWQHTd9k"
      },
      "source": [
        "### Cuadratura del rectángulo\r\n",
        "\r\n",
        "La forma de cuadratura mas simple es la que emplea rectángulos de base $\\left(b-a\\right)$ y altura $f\\left(a\\right)$\r\n",
        "\r\n",
        "$$\\int_{a}^{b}f\\left(x\\right)dx=\\left(b-a\\right)f\\left(a\\right)+E\\left(f\\right) \\tag{3}$$\r\n",
        "\r\n",
        "Combinando $(1)$ y $(3)$, se obtiene la forma general de la cuadratura mediante rectángulos\r\n",
        "\r\n",
        "$$\\int_{a}^{b}f\\left(x\\right)dx=\\frac{b-a}{n}\\sum_{i=0}^{n-1}f\\left(x_{i}\\right)+E\\left(f\\right)$$\r\n",
        "\r\n"
      ]
    },
    {
      "cell_type": "code",
      "metadata": {
        "id": "xoCX7k-_w790",
        "colab": {
          "base_uri": "https://localhost:8080/",
          "height": 361,
          "referenced_widgets": [
            "7870b1cc7e9f4fd682587c9439195984",
            "e61adee62e544e3fabdb6723e2bf86e0",
            "24815976b59048fc85bbb547a63450e0",
            "51e649cc174d4c118f11469e2e5b0c44",
            "9b1bfbd7751c4092b0d4ec21e1199327",
            "775528a97c554690b47778448d6259b4",
            "4c2b840324c5492d8d81b1efe7468e64"
          ]
        },
        "outputId": "53649ea9-5b8e-4e5d-c112-5f53bceadde5"
      },
      "source": [
        "# import de las bibliotecas necesarias\n",
        "import numpy as np\n",
        "from IPython.html.widgets import interact\n",
        "import ipywidgets as widgets\n",
        "import matplotlib.pyplot as plt\n",
        "\n",
        "# funcion que define la cuadratura mediante rectangulos\n",
        "# cantidad de puntos que usaran en la cuadratura\n",
        "def Rectangulo(n): \n",
        "    # a punto inicial del intervalo  \n",
        "    a=0\n",
        "    # b punto final del intervalo\n",
        "    b=1\n",
        "    # f funcion a integrar **\n",
        "    #def f(x):\n",
        "        #return x*x\n",
        "    # f funcion a integrar\n",
        "    f = lambda x: x*x\n",
        "    \n",
        "    # para grficar f(x)\n",
        "    xp=np.linspace(a,b,30)\n",
        "    fp=f(xp)\n",
        "    plt.plot(xp,fp,color='black')\n",
        "    \n",
        "    # discretizacion para la cuadratura\n",
        "    x=np.linspace(a,b,n+1)\n",
        "    fx=[ f(x[i]) for i in range(len(x))]\n",
        "    plt.bar(x,fx,width=(-(b-a)/n),color='orange', align='edge')\n",
        "    plt.title(\"Aproximacion de la integral con el metodo de la cuadratura del rectangulo\")\n",
        "    plt.xlabel(\"x\")\n",
        "    plt.ylabel(r\"$f \\left(x\\right) = x^{2}$\")\n",
        "    plt.grid()\n",
        "\n",
        "    # aproximacion mediante la cuadratura del rectangulo\n",
        "    cuadratura=0.0\n",
        "    for i in range (len(x)):\n",
        "        cuadratura+=f(x[i])\n",
        "    # valor aproximado    \n",
        "    integral=((b-a)/n)*cuadratura\n",
        "\n",
        "    print(\"el valor de la integral mediante el metodo de cuadratura del rectangulo es: {}\".format(integral)) \n",
        "\n",
        "interact(Rectangulo,n=widgets.IntSlider(min=1,max=30,step=1,value=1))"
      ],
      "execution_count": null,
      "outputs": [
        {
          "output_type": "display_data",
          "data": {
            "application/vnd.jupyter.widget-view+json": {
              "model_id": "7870b1cc7e9f4fd682587c9439195984",
              "version_minor": 0,
              "version_major": 2
            },
            "text/plain": [
              "interactive(children=(IntSlider(value=1, description='n', max=30, min=1), Output()), _dom_classes=('widget-int…"
            ]
          },
          "metadata": {
            "tags": []
          }
        },
        {
          "output_type": "execute_result",
          "data": {
            "text/plain": [
              "<function __main__.Rectangulo>"
            ]
          },
          "metadata": {
            "tags": []
          },
          "execution_count": 8
        }
      ]
    },
    {
      "cell_type": "markdown",
      "metadata": {
        "id": "NM8gZ8Dqw794"
      },
      "source": [
        "### Cuadratura del punto medio\n",
        "\n",
        "Una aproximación de la integral $\\int_{a}^{b}f\\left(x\\right)dx$ consiste en aproximar el área bajo la curva $y=f\\left(x\\right)$ por un rectángulo de base $b-a$ y altura $f\\left(\\frac{a+b}{2}\\right)$, entonces\n",
        "\n",
        "$$\\int_{a}^{b}f\\left(x\\right)dx=\\left(b-a\\right)f\\left(\\frac{a+b}{2}\\right)+E\\left(f\\right) \\tag{4} $$\n",
        "\n",
        "Donde $E\\left(f\\right)$, si $f$ tiene primera y segunda derivada continuas en $\\left[a,b\\right]$, se expresa así\n",
        "\n",
        "$$E\\left(f\\right)=\\frac{\\left(b-a\\right)^{2}}{24}f''\\left(\\xi\\right)\\quad\\xi\\in\\left[a,b\\right]$$\n",
        "\n",
        "Combinando $(1)$ y $(4)$, se obtiene la forma general de la cuadratura del punto medio\n",
        "\n",
        "$$\\int_{a}^{b}f\\left(x\\right)dx=\\frac{b-a}{n}\\sum_{i=0}^{n-1}f\\left(\\frac{x_{i}+x_{i+1}}{2}\\right)+E\\left(f\\right)$$\n",
        "\n"
      ]
    },
    {
      "cell_type": "code",
      "metadata": {
        "id": "OZOU5EaVw796",
        "colab": {
          "base_uri": "https://localhost:8080/",
          "height": 361,
          "referenced_widgets": [
            "1aad2d7989f1436fb168e4277dc41e39",
            "2a4f1980865144e08cb9f7e9e3728785",
            "a569f1769f3347eb85341697c0657f75",
            "4894dc31c60c431581398a542c1873d4",
            "8d26870d80cd4317b636fb0e69f8d1ec",
            "aef386cef97c4d6e9b8e9966eb8c47c4",
            "a8a254f98d0c42d393b06fd0bab637b3"
          ]
        },
        "outputId": "b2d901f8-05ea-4cfd-8fe9-7f7b003876a5"
      },
      "source": [
        "def PuntoMedio(n):\n",
        "    # a punto inicial del intervalo  \n",
        "    a=0\n",
        "    # b punto final del intervalo\n",
        "    b=1\n",
        "    # f funcion a integrar **\n",
        "    #def f(x):\n",
        "        #return x*x\n",
        "    # f funcion a integrar\n",
        "    f = lambda x: x*x\n",
        "    \n",
        "    # para grficar f(x)\n",
        "    xp=np.linspace(a,b,30)\n",
        "    fp=f(xp)\n",
        "    plt.plot(xp,fp,color='black')\n",
        "    \n",
        "    # discretizacion para la cuadratura\n",
        "    x=np.linspace(a,b,n+1)\n",
        "    am = a+(float(a)/2)\n",
        "    bm = b+(float(b)/2)\n",
        "    fx=[ f(x[i]) for i in range(len(x))]\n",
        "    plt.bar(x,fx,width=((bm-am)/n),color='orange')\n",
        "    plt.title(\"Aproximacion de la integral con el metodo de la cuadratura del punto medio\")\n",
        "    plt.xlabel(\"x\")\n",
        "    plt.ylabel(r\"$f \\left(x\\right) = x^{2}$\")\n",
        "    plt.grid()\n",
        "\n",
        "    # aproximacion mediante la cuadratura del punto medio\n",
        "    cuadratura=0.0\n",
        "    for i in range (len(x)-1):\n",
        "        cuadratura+=f( (x[i]+x[i+1])/2 )\n",
        "    # valor aproximado     \n",
        "    integral=((b-a)/n)*cuadratura\n",
        "    \n",
        "    print(\"el valor de la integral mediante el metodo de cuadratura del punto medio es: {}\".format(integral)) \n",
        "\n",
        "interact(PuntoMedio,n=widgets.IntSlider(min=1,max=30,step=1,value=1))"
      ],
      "execution_count": null,
      "outputs": [
        {
          "output_type": "display_data",
          "data": {
            "application/vnd.jupyter.widget-view+json": {
              "model_id": "1aad2d7989f1436fb168e4277dc41e39",
              "version_minor": 0,
              "version_major": 2
            },
            "text/plain": [
              "interactive(children=(IntSlider(value=1, description='n', max=30, min=1), Output()), _dom_classes=('widget-int…"
            ]
          },
          "metadata": {
            "tags": []
          }
        },
        {
          "output_type": "execute_result",
          "data": {
            "text/plain": [
              "<function __main__.PuntoMedio>"
            ]
          },
          "metadata": {
            "tags": []
          },
          "execution_count": 12
        }
      ]
    },
    {
      "cell_type": "markdown",
      "metadata": {
        "id": "nE9yuzw9w79_"
      },
      "source": [
        "### Cuadratura del trapecio\n",
        "\n",
        "Para derivar la regla del trapecio para aproximar $\\int_{a}^{b}f\\left(x\\right)dx$, tomemos $x_{0}=a,\\,x_{1}=b,\\,h=b-a$ y calculando el polinomio lineal de Lagrange\n",
        "\n",
        "$$P\\left(x\\right)=\\left(\\frac{x-x_{1}}{x_{0}-x_{1}}\\right)f(x_{0})+\\left(\\frac{x-x_{0}}{x_{1}-x_{0}}\\right)f(x_{1})$$\n",
        "\n",
        "Al integrar este polinomio se tiene\n",
        "\n",
        "$$\\int_{a}^{b}f\\left(x\\right)dx=\\int_{x_{0}}^{x_{1}}\\left[\\left(\\frac{x-x_{1}}{x_{0}-x_{1}}\\right)f(x_{0})+\\left(\\frac{x-x_{0}}{x_{1}-x_{0}}\\right)f(x_{1})\\right]dx\\\\+\\frac{1}{2}\\int_{x_{0}}^{x_{1}}f''\\left(\\xi\\left(x\\right)\\right)\\left(x-x_{0}\\right)\\left(x-x_{1}\\right)dx$$\n",
        "\n",
        "Donde la integral del error es $-\\frac{h^{3}}{6}f''\\left(\\xi\\right)$, lo que nos lleva a la forma general de la cuadratura del trapecio\n",
        "\n",
        "$$\\int_{a}^{b}f\\left(x\\right)dx=\\left[\\frac{x-x_{1}}{2\\left(x_{0}-x_{1}\\right)}f(x_{0})+\\frac{x-x_{0}}{2\\left(x_{1}-x_{0}\\right)}f(x_{1})\\right]_{x_{0}}^{x_{1}}-\\frac{h^{3}}{12}f''\\left(\\xi\\right)\\\\=\\frac{\\left(x_{1}-x_{0}\\right)}{2}\\left[f\\left(x_{0}\\right)+f\\left(x_{1}\\right)\\right]-\\frac{h^{3}}{12}f''\\left(\\xi\\right) $$\n",
        "\n",
        "Tomando en cuenta que $h=x_{1}-x_{0}$, obtenemos la forma general de la cuadratura del trapecio\n",
        "\n",
        "$$\\int_{a}^{b}f\\left(x\\right)dx=\\frac{h}{2}\\left[f\\left(x_{0}\\right)+f\\left(x_{1}\\right)\\right]-\\frac{h^{3}}{12}f''\\left(\\xi\\right)$$\n",
        "\n"
      ]
    },
    {
      "cell_type": "markdown",
      "metadata": {
        "id": "RzIphI3qT1fk"
      },
      "source": [
        "#### codigo en python"
      ]
    },
    {
      "cell_type": "code",
      "metadata": {
        "id": "sFvxeX94w79_",
        "colab": {
          "base_uri": "https://localhost:8080/"
        },
        "outputId": "7b976a57-66f2-443e-bd40-178ba60b3e44"
      },
      "source": [
        "def Trapecio():\n",
        "    # a punto inicial del intervalo \n",
        "    # b punto final del intervalo \n",
        "    # f funcion a integrar\n",
        "    a=0\n",
        "    b=1\n",
        "    def f(x):\n",
        "        return x*x\n",
        "    \n",
        "    integral=((b-a)/2)*(f(a)+f(b))\n",
        "    print(\"el valor de la integral mediante el metodo de cuadratura del Trapecio: {}\".format(integral))\n",
        "\n",
        "Trapecio()"
      ],
      "execution_count": 1,
      "outputs": [
        {
          "output_type": "stream",
          "text": [
            "el valor de la integral mediante el metodo de cuadratura del Trapecio: 0.5\n"
          ],
          "name": "stdout"
        }
      ]
    },
    {
      "cell_type": "markdown",
      "metadata": {
        "id": "f1IO7V-qw7-D"
      },
      "source": [
        "### Cuadratura del trapecio compuesto\n",
        "\n",
        "Sean los nodos $a=x_{0}<x_{1}<\\cdots<x_{n}=b$ con $h_{i}=x_{i+1}-x_{i}$ y lo que se busca es aproximar el valor de $\\int_{a}^{b}f\\left(x\\right)dx$. Ademas aprovechamos el hecho de que \n",
        "\n",
        "$$\\int_{a}^{b}f\\left(x\\right)dx\t=\t\\int_{a}^{c}f\\left(x\\right)dx+\\int_{c}^{b}f\\left(x\\right)dx$$\n",
        "\n",
        "Integrando sobre los subintervalos $\\left[x_{i},x_{i+1}\\right]$, para $i=0,\\ldots,n-1$ y aplicando la regla del trapecio simple, se obtiene\n",
        "\n",
        "$$\\int_{a}^{b}f\\left(x\\right)dx=\\sum_{i=0}^{n-1}\\int_{x_{i}}^{x_{i+1}}f\\left(x\\right)=\\sum_{i=0}^{n-1}\\frac{h_{i}}{2}\\left[f\\left(x_{i}\\right)+f\\left(x_{i+1}\\right)\\right]-\\sum_{i=0}^{n-1}\\frac{h_{i}^{3}}{12}f''\\left(\\xi_{i}\\right),\\quad\\xi_{i}\\in\\left(x_{i+1},x_{i}\\right) $$\n",
        "\n",
        "Si consideramos $h=h_{i}$ para $i=0,\\ldots,n-1$ y $f''\\left(x\\right)$ continua, entonces obtenemos el error total\n",
        "\n",
        "$$E_{T}=-\\frac{h^{3}}{12}\\sum_{i=0}^{n-1}f''\\left(\\xi_{i}\\right)=-\\frac{h^{3}}{12}nf''\\left(\\xi\\right)=-\\frac{h^{2}}{12}nhf''\\left(\\xi\\right)$$\n",
        "\n",
        "Donde $\\xi\\in\\left(x_{0},x_{n}\\right)$ y $h=\\frac{x_{n}-x_{0}}{n}$ entonces $E_{T}=-\\frac{h^{2}}{12}\\left(x_{n}-x_{0}\\right)f''\\left(\\xi\\right)$, es decir\n",
        "\n",
        "$$ \\int_{a}^{b}f\\left(x\\right)dx=\\frac{h}{2}\\left[f\\left(x_{0}\\right)+2f\\left(x_{1}\\right)+\\cdots+2f\\left(x_{n-1}\\right)+f\\left(x_{n}\\right)\\right]-\\frac{h^{2}}{12}\\left(x_{n}-x_{0}\\right)f''\\left(\\xi\\right)$$\n",
        "\n",
        "Así que\n",
        "\n",
        "$$\\int_{a}^{b}f\\left(x\\right)dx=\\frac{h}{2}\\left[f\\left(a\\right)+2\\sum_{i=1}^{n-1}f\\left(x_{i}\\right)+f\\left(b\\right)\\right]-\\frac{b-a}{12}h^{2}f''\\left(\\xi\\right)$$\n",
        "\n",
        "Es la forma general de la cuadratura del trapecio compuesto.\n",
        "\n"
      ]
    },
    {
      "cell_type": "markdown",
      "metadata": {
        "id": "IH39JtCyT_Ur"
      },
      "source": [
        "#### codigo en python"
      ]
    },
    {
      "cell_type": "code",
      "metadata": {
        "id": "LWgI2-zkw7-E",
        "colab": {
          "base_uri": "https://localhost:8080/",
          "height": 196
        },
        "outputId": "28af0777-50aa-43f1-811f-cd6d918c6900"
      },
      "source": [
        "def TrapComp(n):\n",
        "    # a punto inicial del intervalo \n",
        "    # b punto final del intervalo \n",
        "    # f funcion a integrar\n",
        "    # n los puntos que se usaran para integrar \n",
        "    a=0\n",
        "    b=1\n",
        "    def f(x):\n",
        "        return x*x\n",
        "    \n",
        "    xp=np.linspace(a,b,30)\n",
        "    fp=f(xp)\n",
        "    \n",
        "    x=np.linspace(a,b,n+1) # se crea la particion\n",
        "    fx=[ f(x[i]) for i in range(len (x))]\n",
        "    plt.bar(x,fx,width=((b-a)/n),color='orange')\n",
        "    plt.plot(xp,fp,color='black')\n",
        "    plt.title(\"Aproximacion de la integral con el metodo del Trapecio compuesto\")\n",
        "    plt.xlabel(\"x\")\n",
        "    plt.ylabel(r\"$f \\left(x\\right) = x^{2}$\")\n",
        "    plt.grid()\n",
        "\n",
        "    cuadratura=0.0\n",
        "    for i in range (1,len(x)-1):\n",
        "        cuadratura+=f( x[i])\n",
        "\n",
        "    integral=((b-a)/(2*n))*(2*cuadratura+f(a)+f(b))\n",
        "    \n",
        "    print(\"el valor de la integral mediante el metodo de cuadratura del  Trapecio Compuesto es: {}\".format(integral)) \n",
        "\n",
        "interact(TrapComp,n=widgets.IntSlider(min=1,max=30,step=1,value=1))"
      ],
      "execution_count": 2,
      "outputs": [
        {
          "output_type": "error",
          "ename": "NameError",
          "evalue": "ignored",
          "traceback": [
            "\u001b[0;31m---------------------------------------------------------------------------\u001b[0m",
            "\u001b[0;31mNameError\u001b[0m                                 Traceback (most recent call last)",
            "\u001b[0;32m<ipython-input-2-7afb52db023b>\u001b[0m in \u001b[0;36m<module>\u001b[0;34m()\u001b[0m\n\u001b[1;32m     29\u001b[0m     \u001b[0mprint\u001b[0m\u001b[0;34m(\u001b[0m\u001b[0;34m\"el valor de la integral mediante el metodo de cuadratura del  Trapecio Compuesto es: {}\"\u001b[0m\u001b[0;34m.\u001b[0m\u001b[0mformat\u001b[0m\u001b[0;34m(\u001b[0m\u001b[0mintegral\u001b[0m\u001b[0;34m)\u001b[0m\u001b[0;34m)\u001b[0m\u001b[0;34m\u001b[0m\u001b[0;34m\u001b[0m\u001b[0m\n\u001b[1;32m     30\u001b[0m \u001b[0;34m\u001b[0m\u001b[0m\n\u001b[0;32m---> 31\u001b[0;31m \u001b[0minteract\u001b[0m\u001b[0;34m(\u001b[0m\u001b[0mTrapComp\u001b[0m\u001b[0;34m,\u001b[0m\u001b[0mn\u001b[0m\u001b[0;34m=\u001b[0m\u001b[0mwidgets\u001b[0m\u001b[0;34m.\u001b[0m\u001b[0mIntSlider\u001b[0m\u001b[0;34m(\u001b[0m\u001b[0mmin\u001b[0m\u001b[0;34m=\u001b[0m\u001b[0;36m1\u001b[0m\u001b[0;34m,\u001b[0m\u001b[0mmax\u001b[0m\u001b[0;34m=\u001b[0m\u001b[0;36m30\u001b[0m\u001b[0;34m,\u001b[0m\u001b[0mstep\u001b[0m\u001b[0;34m=\u001b[0m\u001b[0;36m1\u001b[0m\u001b[0;34m,\u001b[0m\u001b[0mvalue\u001b[0m\u001b[0;34m=\u001b[0m\u001b[0;36m1\u001b[0m\u001b[0;34m)\u001b[0m\u001b[0;34m)\u001b[0m\u001b[0;34m\u001b[0m\u001b[0;34m\u001b[0m\u001b[0m\n\u001b[0m",
            "\u001b[0;31mNameError\u001b[0m: name 'interact' is not defined"
          ]
        }
      ]
    },
    {
      "cell_type": "markdown",
      "metadata": {
        "id": "sjL0EQ79w7-J"
      },
      "source": [
        "### Cuadratura de Simpson $\\frac{1}{3}$\n",
        "\n",
        "Se obtiene al integrar en $\\left[a,b\\right]$ el segundo polinomio de Lagrange con los nodos $x_{0}=a,\\,x_{1}=a+h\\,y\\,x_{2}=b$ donde $h=\\frac{b-a}{2}$\n",
        "\n",
        "$$\\int_{a}^{b}f\\left(x\\right)dx=\\int_{x_{0}}^{x_{2}}\\left[\\frac{\\left(x-x_{1}\\right)\\left(x-x_{2}\\right)}{\\left(x_{0}-x_{1}\\right)\\left(x_{0}-x_{2}\\right)}f(x_{0})+\\frac{\\left(x-x_{0}\\right)\\left(x-x_{2}\\right)}{\\left(x_{1}-x_{0}\\right)\\left(x_{1}-x_{2}\\right)}f(x_{1})\\right]\\\\+\\int_{x_{0}}^{x_{2}}\\left[\\frac{\\left(x-x_{0}\\right)\\left(x-x_{1}\\right)}{\\left(x_{2}-x_{0}\\right)\\left(x_{2}-x_{1}\\right)}f(x_{2})\\right]\\\\+\\frac{1}{6}\\int_{x_{0}}^{x_{2}}f'''\\left(\\xi\\left(x\\right)\\right)\\left(x-x_{0}\\right)\\left(x-x_{1}\\right)\\left(x-x_{2}\\right)dx $$\n",
        "\n",
        "Sin embargo, al deducir la regla de Simpson de esta manera, unicamente se obtiene un término de error $O\\left(h^{4}\\right)$ que contiene a $f^{\\left(3\\right)}$. Pero si construimos la regla de otra forma, podemos deducir un termino de orden superior que incluya a $f^{\\left(4\\right)}$\n",
        "\n",
        "Supongamos que $f$ se expande mediante el tercer polinomio de Taylor alrededor de $x_{1}$. Entonces, para cada $x$ en $\\left[x_{0},x_{2}\\right]$, existe un número $\\xi\\left(x\\right)\\in\\left(x_{0},x_{2}\\right)$ con\n",
        "\n",
        "$$f\\left(x\\right)=f\\left(x_{1}\\right)+f'\\left(x_{1}\\right)\\left(x-x_{1}\\right)+\\frac{f''\\left(x_{1}\\right)\\left(x-x_{1}\\right)^{2}}{2!}\\\\+\\frac{f'''\\left(x_{1}\\right)\\left(x-x_{1}\\right)^{3}}{3!}+\\frac{f^{\\left(4\\right)}\\left(\\xi\\left(x\\right)\\right)\\left(x-x_{1}\\right)^{4}}{4!}$$\n",
        "\n",
        "Si $h=\\left(x-x_{1}\\right)$ y \n",
        "\n",
        "$$\\int_{x_{0}}^{x_{2}}f\\left(x\\right)dx=\\left[f\\left(x_{1}\\right)h+\\frac{f'\\left(x_{1}\\right)h^{2}}{2!}+\\frac{f''\\left(x_{1}\\right)h^{3}}{3!}+\\frac{f^{\\left(3\\right)}\\left(x_{1}\\right)h^{4}}{4!}\\right]_{x_{0}}^{x_{2}}+\\frac{1}{24}\\int_{x_{0}}^{x_{2}}f^{\\left(4\\right)}\\left(\\xi\\left(x\\right)\\right)h^{4}dx \\tag{5}$$\n",
        "\n",
        "Puesto que $\\left(x-x_{1}\\right)^{4}$ nunca es negativo en $\\left[x_{0},x_{2}\\right]$ y por el Teorema del Valor Medio ponderado, entonces\n",
        "\n",
        "$$\\frac{1}{24}\\int_{x_{0}}^{x_{2}}f^{\\left(4\\right)}\\left(\\xi\\left(x\\right)\\right)h^{4}dx=\\frac{f^{\\left(4\\right)}\\left(\\xi_{1}\\right)h^{4}}{24}\\int_{x_{0}}^{x_{2}}h^{4}dx=\\frac{f^{\\left(4\\right)}\\left(\\xi_{1}\\right)}{120}h^{5}\\mid_{x_{0}}^{x2}$$\n",
        "\n",
        "Para algún número $\\xi_{1}\\in\\left(x_{0},x_{2}\\right)$. Pero por otro lado $h=x_{2}-x_{1}=x_{1}-x_{0}$, así que\n",
        "\n",
        "$$\\left(x_{2}-x_{1}\\right)^{2}-\\left(x_{1}-x_{0}\\right)^{2}=\\left(x_{2}-x_{1}\\right)^{4}-\\left(x_{1}-x_{0}\\right)^{4}=0 $$\n",
        "\n",
        "Mientras que\n",
        "\n",
        "$$\\left(x_{2}-x_{1}\\right)^{3}-\\left(x_{1}-x_{0}\\right)^{3}=2h^{3}\\,y\\,\\left(x_{2}-x_{1}\\right)^{5}-\\left(x_{1}-x_{0}\\right)^{5}=2h^{5}$$\n",
        "\n",
        "Así que (5), se puede reescribir así\n",
        "\n",
        "Pero si ahora reemplazamos $f''\\left(x_{1}\\right)$ por su aproximación en diferencias finitas, se tiene\n",
        "\n",
        "$$\\int_{x_{0}}^{x_{2}}f\\left(x\\right)dx=2hf\\left(x_{1}\\right)+\\frac{h^{3}}{3}\\left\\{ \\frac{1}{h^{2}}\\left[f\\left(x_{0}\\right)-2f\\left(x_{1}\\right)+f\\left(x_{2}\\right)\\right]-\\frac{h^{2}}{12}f^{\\left(4\\right)}\\left(\\xi_{2}\\right)\\right\\} \\\\+\\frac{f^{\\left(4\\right)}\\left(\\xi_{1}\\right)h^{5}}{60}\\\\=\\frac{h}{3}\\left[f\\left(x_{0}\\right)+4f\\left(x_{1}\\right)+f\\left(x_{2}\\right)\\right]-\\frac{h^{5}}{12}\\left[\\frac{1}{3}f^{\\left(4\\right)}\\left(\\xi_{2}\\right)-\\frac{1}{5}f^{\\left(4\\right)}\\left(\\xi_{1}\\right)\\right] $$\n",
        "\n",
        "Así tenemos que\n",
        "\n",
        "$$\\int_{x_{0}}^{x_{2}}f\\left(x\\right)dx=\\frac{h}{3}\\left[f\\left(x_{0}\\right)+4f\\left(x_{1}\\right)+f\\left(x_{2}\\right)\\right]-\\frac{h^{5}}{90}f^{\\left(4\\right)}\\left(\\xi_{1}\\right)$$\n",
        "\n",
        "Es la forma general de la regla de Simpson $\\frac{1}{3}$\n",
        "\n",
        "$\\color{green}{Ejemplo}$. La regla del trapecio para una función f en el intervalo $\\left[0,2\\right]$ es \n",
        "\n",
        "$$\\int_{0}^{2}f\\left(x\\right)dx\\approx f\\left(0\\right)+f\\left(2\\right)$$\n",
        "\n",
        "y la regla de Simpson para $f$ en $\\left[0,2\\right]$ es\n",
        "\n",
        "$$\\int_{0}^{2}f\\left(x\\right)dx\\approx\\frac{1}{3}\\left[f\\left(0\\right)+4f\\left(1\\right)+f\\left(2\\right)\\right] $$\n",
        "\n",
        "Calcular las correspondientes aproximaciones para\n",
        "\n",
        "$$x^{2},x^{4},\\frac{1}{\\left(x+1\\right)},\\,\\sqrt{1+x^{2}},\\,sen\\,x,\\,e^{x}$$\n",
        "\n",
        "Notar como en todos los casos, la regla de Simpson, proporciona una mejor aproximación.\n",
        "\n",
        "| $f\\left(x\\right)$        | $x^{2}$ |  $x^{4}$ | $\\frac{1}{x+1}$|$\\sqrt{1+x^{2}}$ |sin x |$e^{x}$ |\n",
        "| :-:  | :-: | :-: |  :-: | :-:  |   :-: |   :-: | \n",
        "| Valores exactos  | 2.667 |6.400 |1.099 |2.958 |1.416 |6.389 |\n",
        "| Trapecio | 4.00\t|16.00\t|1.333|\t3.326|\t0.909|\t8.389|\n",
        "| Simpson\t|2.667|\t6.667|\t1.111|\t2.964|\t1.425|\t6.421|\n",
        "\n"
      ]
    },
    {
      "cell_type": "markdown",
      "metadata": {
        "id": "7C9JCjtkUGcO"
      },
      "source": [
        "#### codigo en python"
      ]
    },
    {
      "cell_type": "code",
      "metadata": {
        "id": "VPf_wwHmw7-K",
        "outputId": "298b1787-fe94-4360-81fe-a2e366ffcb7a"
      },
      "source": [
        "def Simpson1_3():\n",
        "    # x0 punto inicial del intervalo \n",
        "    # x2 punto final del intervalo \n",
        "    # f funcion a integrar\n",
        "    x0=0\n",
        "    x2=1\n",
        "    h=(x2-x0)/2\n",
        "    x1=x0+h\n",
        "    def f(x):\n",
        "        return x*x\n",
        "        \n",
        "    integral=(h/3)*(f(x0)+4*f(x1)+f(x2))\n",
        "    \n",
        "    print(\"el valor de la integral mediante el metodo de cuadratura del  Trapecio Compuesto es: {}\".format(integral)) \n",
        "\n",
        "Simpson1_3()"
      ],
      "execution_count": null,
      "outputs": [
        {
          "output_type": "stream",
          "text": [
            "el valor de la integral mediante el metodo de cuadratura del  Trapecio Compuesto es: 0.3333333333333333\n"
          ],
          "name": "stdout"
        }
      ]
    },
    {
      "cell_type": "markdown",
      "metadata": {
        "id": "nWIDZP_Yw7-P"
      },
      "source": [
        "### Cuadratura de Simpson $\\frac{3}{8}$\n",
        "\n",
        "Esta regla se obtiene al integra el tercer polinomio de Lagrange en $\\left[a,b\\right]$ tomando los nodos $x_{0}=a,\\,x_{1}=a+h,\\,x_{2}=a+2h,\\,y\\,x_{3}=b$ donde $h=\\frac{b-a}{3}$\n",
        "\n",
        "es decir\n",
        "\n",
        "$$\\int_{a}^{b}f\\left(x\\right)dx\\approx\\int_{a}^{b}P_{3}\\left(x\\right)dx=\\frac{3h}{8} \\left[f\\left(x_{0}\\right)+3f\\left(x_{1}\\right)+3f\\left(x_{2}\\right)+f\\left(x_{3}\\right)\\right]$$\n",
        "\n",
        "Es importante notar que esta regla es una suma ponderada de los valores de $f\\left(x\\right)$ en los dos puntos finales $x_{0}=a$ y $x_{3}=b$, y los dos puntos $x_{1},x_{2}$ divide el intervalo en tres partes iguales.\n",
        "\n"
      ]
    },
    {
      "cell_type": "markdown",
      "metadata": {
        "id": "pgA_9TBMUJWe"
      },
      "source": [
        "#### codigo en python"
      ]
    },
    {
      "cell_type": "code",
      "metadata": {
        "id": "bbLbHny9w7-Q",
        "outputId": "520d7c21-e6b7-49d2-878c-9e3ff7765e1f"
      },
      "source": [
        "def Simpson3_8():\n",
        "    # x0 punto inicial del intervalo \n",
        "    # x3 punto final del intervalo \n",
        "    # f funcion a integrar\n",
        "    x0=0\n",
        "    x3=1\n",
        "    h=(x3-x0)/3\n",
        "    x1=x0+h\n",
        "    x2=x0+2*h\n",
        "    def f(x):\n",
        "        return x*x\n",
        "        \n",
        "    integral=(3/8)*h*(f(x0)+3*f(x1)+3*f(x2)+f(x3))\n",
        "    \n",
        "    print(\"el valor de la integral mediante el metodo de cuadratura del  Trapecio Compuesto es: {}\".format(integral)) \n",
        "\n",
        "Simpson3_8()"
      ],
      "execution_count": null,
      "outputs": [
        {
          "output_type": "stream",
          "text": [
            "el valor de la integral mediante el metodo de cuadratura del  Trapecio Compuesto es: 0.3333333333333333\n"
          ],
          "name": "stdout"
        }
      ]
    },
    {
      "cell_type": "markdown",
      "metadata": {
        "id": "N6J_kbU0w7-U"
      },
      "source": [
        "# Cuadratura Gaussiana\n",
        "\n",
        "### Introducción.\n",
        "\n",
        "Las reglas vista en la sección anterior, también son conocidas como reglas de Newton-Cotes, se dedujeron integrando los polinomios de interpolación. El termino de error en el polinomio de interpolación de grado n contiene la $\\left(n+1\\right)-esima$ derivada.\n",
        "\n",
        "En todas las formulas de Newton-Cotes se emplean valores de la función equidistantes. Este procedimiento es adecuado cuando las reglas son combinadas para crear nuevas reglas compuestas, como las vistas con anterioridad.\n",
        "\n",
        "Sin embargo la restricción que pide a los nodo ser equidistantes, puede afectar considerablemente la exactitud de la aproximación.\n",
        "\n",
        "La cuadratura Gaussiana optimiza la forma de seleccionar los puntos a ser evaluados y no los toma en forma igualmente espaciada como se había visto en las reglas de Newton-Cotes.\n",
        "\n",
        "Se escogen los nodos $x_{1},x_{2},\\ldots,x_{n}$ en el intervalo $\\left[a,b\\right]$ y los coeficientes $c_{1},c_{2},\\ldots c_{n}$ para reducir en lo posible el error esperado que se obtiene al efectuar la aproximación\n",
        "\n",
        "$$ \\int_{a}^{b}f\\left(x\\right)dx\\approx\\sum_{i=1}^{n}c_{i}f\\left(x_{i}\\right)$$\n",
        "\n",
        "Los coeficientes (pesos) $c_{1},c_{2},\\ldots c_{n}$ son arbitrarios y los nodos (puntos de Gauss) $x_{1},x_{2},\\ldots,x_{n}$ están restringidos a pertenecer al intervalo $\\left[a,b\\right]$.\n",
        "\n",
        "Esto nos da $2n$ parámetros de donde elegir. Considerando la clase de polinomios de grado máximo $2n-1$ también contiene $2n$ parámetros, si es que los coeficientes de un polinomio se consideran parámetros.\n",
        "\n",
        "Esta clase de polinomios es la más amplia para la cual es razonable esperar que la regla devuelva un resultado exacto.\n",
        "\n",
        "Se mostrará cómo seleccionar los coeficientes y los nodos cuando $n=2$ y cuando el intervalo de integración es $\\left[-1,1\\right]$\n",
        "\n",
        "Después se explicara el caso mas general de una elección arbitraria de puntos y pesos, indicando como modificar el método cuando se integra en un intervalo arbitrario.\n",
        "\n"
      ]
    },
    {
      "cell_type": "markdown",
      "metadata": {
        "id": "4UBd93v1SZyt"
      },
      "source": [
        "## Cuadratura Gaussiana con $n=2$ puntos\r\n",
        "\r\n",
        "Supongamos que se requiere determinar $c_{1},c_{2},x_{1},x_{2}$ de modo que la regla de integración\r\n",
        "\r\n",
        "$$\\int_{-1}^{1}f\\left(x\\right)dx\\approx c_{1}f\\left(x_{1}\\right)+c_{2}f\\left(x_{2}\\right)$$\r\n",
        "\r\n",
        "proporcione el resultado exacto siempre que $f\\left(x\\right)$ sea un polinomio de grado $2\\left(2\\right)-1=3$ o menor, es decir que sea un polinomio de la forma\r\n",
        "\r\n",
        "$$ f\\left(x\\right)=a_{0}+a_{1}x+a_{2}x^{2}+a_{3}x^{3} $$\r\n",
        "\r\n",
        "Dado que\r\n",
        "\r\n",
        "$$\\int f\\left(x\\right)dx=a_{0}\\int1dx+a_{1}\\int xdx+a_{2}\\int x^{2}dx+a_{3}\\int x^{3}d $$\r\n",
        "\r\n",
        "esto equivale a demostrar que la regla produce resultados exactos cuando $f\\left(x\\right)$ es $1,x,x^{2},x^{3}$\r\n",
        "\r\n",
        "Necesitamos $c_{1},c_{2},x_{1},x_{2}$ de manera tal que\r\n",
        "\r\n",
        "$$\\begin{array}{cc}\r\n",
        "{\\color{blue}{(a)}}\\,c_{1}*1+c_{2}*1=\\int_{-1}^{1}1dx=2\\quad & {\\color{blue}{(b)}}\\,c_{1}x_{1}+c_{2}x_{2}=\\int_{-1}^{1}xdx=0\\\\\r\n",
        "{\\color{blue}{(c)}}\\,c_{1}x_{1}^{2}+c_{2}x_{2}^{2}=\\int_{-1}^{1}x^{2}dx=\\frac{2}{3} & {\\color{blue}{(d)}}\\,c_{1}x_{1}^{3}+c_{2}x_{2}^{3}=\\int_{-1}^{1}x^{3}dx=0\r\n",
        "\\end{array}$$\r\n",
        "\r\n",
        "Las 4 incógnitas se puede determinar comenzando con $(b)$\r\n",
        "\r\n",
        "$$c_{2}=-\\frac{c_{1}x_{1}}{x_{2}} \\tag{6}$$\r\n",
        "\r\n",
        "Ahora substituyendo en $(d)$ se tiene\r\n",
        "\r\n",
        "$$c_{1}x_{1}^{3}-c_{1}x_{1}x_{2}^{2}=0\\,\\Rightarrow\\,x_{1}^{2}=x_{2}^{2}$$\r\n",
        "\r\n",
        "Pero $x_{1}\\neq x_{2}$ por lo tanto se tiene que\r\n",
        "\r\n",
        "$$x_{1}=-x_{2} \\tag{7}$$\r\n",
        "\r\n",
        "Ahora substituyendo $x_{1}$ en $(6)$, tenemos que $c_{1}=c_{2}$ y usando $(a)$\r\n",
        "\r\n",
        "$$ c_{1}=c_{2}=1 \\tag{8}$$\r\n",
        "\r\n",
        "Si se substituye $(7)$ y $(8)$ en $(c)$ se tiene\r\n",
        "\r\n",
        "$$x_{1}^{2}+x_{2}^{2}=\\frac{2}{3}\\,\\Rightarrow\\,x_{1}=\\frac{1}{\\sqrt{3}}$$\r\n",
        "\r\n",
        "Así tenemos que\r\n",
        "\r\n",
        "$$ c_{1}=1,\\quad c_{2}=1,\\quad x_{1}=\\frac{1}{\\sqrt{3}}\\;y\\;x_{2}=\\frac{-1}{\\sqrt{3}}$$\r\n",
        "\r\n",
        "Así que la regla para 2 puntos es\r\n",
        "\r\n",
        "$$\\int_{-1}^{1}f\\left(x\\right)dx\\approx f\\left(\\frac{1}{\\sqrt{3}}\\right)+f\\left(\\frac{-1}{\\sqrt{3}}\\right) $$ \r\n",
        "\r\n",
        "\r\n",
        "\r\n",
        "| n  puntos      | Coeficientes $C_{i}$ |  Puntos Gauss $x_{i}$ | \r\n",
        "| :-:  | :-: | :-: |  \r\n",
        "| 2  | $c_{1}=c_{2}=1$ | $x_{1}=0.578\\\\x_{2}=-0.578$ |\r\n",
        "| 3 | $c_{1}=0.556\\\\c_{2}=0.889\\\\c_{3}=0.556$ | $x_{1}=0.774\\\\x_{2}=0\\\\x_{3}=-0.774$ |\r\n",
        "\r\n"
      ]
    },
    {
      "cell_type": "markdown",
      "metadata": {
        "id": "Lp9t6jRDSd6A"
      },
      "source": [
        "## Cuadratura Gaussiana general\r\n",
        "\r\n",
        "Una integral $\\int_{a}^{b}f\\left(x\\right)dx$ en un intervalo arbitrario $\\left[a,b\\right]$ se puede transformar en otra integral $\\int_{-1}^{1}f\\left(t\\right)dt$ en $\\left[-1,1\\right]$ usando el cambio de variable\r\n",
        "\r\n",
        "$$t=\\frac{2x-a-b}{b-a}\\Leftrightarrow x=\\frac{1}{2}\\left[\\left(b-a\\right)t+a+b\\right] $$\r\n",
        "\r\n",
        "Donde el diferencial de $x$ es $dx=\\frac{1}{2}\\left(b-a\\right)dt$. Esto nos permite aplicar la cuadratura Gaussiana a cualquier intervalo $\\left[a,b\\right]$, ya que\r\n",
        "\r\n",
        "$$ \\int_{a}^{b}f\\left(x\\right)dx=\\int_{-1}^{1}f\\left(\\frac{\\left(b-a\\right)t+\\left(b+a\\right)}{2}\\right)\\frac{\\left(b-a\\right)}{2}dt $$\r\n",
        "\r\n"
      ]
    },
    {
      "cell_type": "markdown",
      "metadata": {
        "id": "QUnDN8cOSgz1"
      },
      "source": [
        "## Ejemplo\r\n",
        "\r\n",
        "Evalúe $\\int_{0}^{3}e^{-x^{2}}dx$. Usando $n=3$ puntos. Encuentre el error, empleando el valor analítico.\r\n",
        "\r\n",
        "El valor de la integral resolviendo de manera analíticamente es 0.886207.\r\n",
        "\r\n"
      ]
    },
    {
      "cell_type": "markdown",
      "metadata": {
        "id": "iM3D9eUJTL3X"
      },
      "source": [
        "### codigo en python"
      ]
    },
    {
      "cell_type": "code",
      "metadata": {
        "id": "TRtZ_9obw7-V",
        "outputId": "60915de7-d6f5-4411-8a4f-275600bbc7a2",
        "colab": {
          "base_uri": "https://localhost:8080/",
          "height": 314
        }
      },
      "source": [
        "def CuaGauss():\n",
        "    # a punto inicial del intervalo \n",
        "    # b punto final del intervalo \n",
        "    # f funcion a integrar\n",
        "    a=0\n",
        "    b=1 \n",
        "    r=np.array([0.774,0.0,-0.774])\n",
        "    c=np.array([0.556,0.889,0.556])\n",
        "    def f(x):\n",
        "        return x*x\n",
        "    \n",
        "    cuadratura=0.0\n",
        "    jacobiano=(b-a)/2\n",
        "    for i in range(len(r)):\n",
        "        changeVar=0.0;changeVar=(( (b-a)*r[i])+b+a)/2\n",
        "        cuadratura+=c[i]*f(changeVar)\n",
        "        \n",
        "    integral=jacobiano*cuadratura\n",
        "    \n",
        "    print(\"el resultad de la integral con una cuadratura de 3 puntos es :{}\".format(integral))\n",
        "    \n",
        "CuaGauss()"
      ],
      "execution_count": 3,
      "outputs": [
        {
          "output_type": "error",
          "ename": "NameError",
          "evalue": "ignored",
          "traceback": [
            "\u001b[0;31m---------------------------------------------------------------------------\u001b[0m",
            "\u001b[0;31mNameError\u001b[0m                                 Traceback (most recent call last)",
            "\u001b[0;32m<ipython-input-3-5487d89e2b94>\u001b[0m in \u001b[0;36m<module>\u001b[0;34m()\u001b[0m\n\u001b[1;32m     20\u001b[0m     \u001b[0mprint\u001b[0m\u001b[0;34m(\u001b[0m\u001b[0;34m\"el resultad de la integral con una cuadratura de 3 puntos es :{}\"\u001b[0m\u001b[0;34m.\u001b[0m\u001b[0mformat\u001b[0m\u001b[0;34m(\u001b[0m\u001b[0mintegral\u001b[0m\u001b[0;34m)\u001b[0m\u001b[0;34m)\u001b[0m\u001b[0;34m\u001b[0m\u001b[0;34m\u001b[0m\u001b[0m\n\u001b[1;32m     21\u001b[0m \u001b[0;34m\u001b[0m\u001b[0m\n\u001b[0;32m---> 22\u001b[0;31m \u001b[0mCuaGauss\u001b[0m\u001b[0;34m(\u001b[0m\u001b[0;34m)\u001b[0m\u001b[0;34m\u001b[0m\u001b[0;34m\u001b[0m\u001b[0m\n\u001b[0m",
            "\u001b[0;32m<ipython-input-3-5487d89e2b94>\u001b[0m in \u001b[0;36mCuaGauss\u001b[0;34m()\u001b[0m\n\u001b[1;32m      5\u001b[0m     \u001b[0ma\u001b[0m\u001b[0;34m=\u001b[0m\u001b[0;36m0\u001b[0m\u001b[0;34m\u001b[0m\u001b[0;34m\u001b[0m\u001b[0m\n\u001b[1;32m      6\u001b[0m     \u001b[0mb\u001b[0m\u001b[0;34m=\u001b[0m\u001b[0;36m1\u001b[0m\u001b[0;34m\u001b[0m\u001b[0;34m\u001b[0m\u001b[0m\n\u001b[0;32m----> 7\u001b[0;31m     \u001b[0mr\u001b[0m\u001b[0;34m=\u001b[0m\u001b[0mnp\u001b[0m\u001b[0;34m.\u001b[0m\u001b[0marray\u001b[0m\u001b[0;34m(\u001b[0m\u001b[0;34m[\u001b[0m\u001b[0;36m0.774\u001b[0m\u001b[0;34m,\u001b[0m\u001b[0;36m0.0\u001b[0m\u001b[0;34m,\u001b[0m\u001b[0;34m-\u001b[0m\u001b[0;36m0.774\u001b[0m\u001b[0;34m]\u001b[0m\u001b[0;34m)\u001b[0m\u001b[0;34m\u001b[0m\u001b[0;34m\u001b[0m\u001b[0m\n\u001b[0m\u001b[1;32m      8\u001b[0m     \u001b[0mc\u001b[0m\u001b[0;34m=\u001b[0m\u001b[0mnp\u001b[0m\u001b[0;34m.\u001b[0m\u001b[0marray\u001b[0m\u001b[0;34m(\u001b[0m\u001b[0;34m[\u001b[0m\u001b[0;36m0.556\u001b[0m\u001b[0;34m,\u001b[0m\u001b[0;36m0.889\u001b[0m\u001b[0;34m,\u001b[0m\u001b[0;36m0.556\u001b[0m\u001b[0;34m]\u001b[0m\u001b[0;34m)\u001b[0m\u001b[0;34m\u001b[0m\u001b[0;34m\u001b[0m\u001b[0m\n\u001b[1;32m      9\u001b[0m     \u001b[0;32mdef\u001b[0m \u001b[0mf\u001b[0m\u001b[0;34m(\u001b[0m\u001b[0mx\u001b[0m\u001b[0;34m)\u001b[0m\u001b[0;34m:\u001b[0m\u001b[0;34m\u001b[0m\u001b[0;34m\u001b[0m\u001b[0m\n",
            "\u001b[0;31mNameError\u001b[0m: name 'np' is not defined"
          ]
        }
      ]
    },
    {
      "cell_type": "code",
      "metadata": {
        "id": "lIYmADhoyS1o",
        "colab": {
          "base_uri": "https://localhost:8080/",
          "height": 331,
          "referenced_widgets": [
            "70b38f9dda22411aa04084a01aaea782",
            "fb45ec6ea3b047dba9d3ed7e568a925c",
            "88d536153b6a4c1696f9c67af3ec90ef",
            "bbc751bc2ea94315b8fc911450f1cf5f",
            "25b627567cf14cb0a19aefd641c68096",
            "fca8be1584d7429880d1d9dec4b0f09b",
            "066a7fc7885e4a02a7e9c93d29a747ad"
          ]
        },
        "outputId": "ef5a7242-ff4f-42b9-a3d7-1b5b8ebacdec"
      },
      "source": [
        "def grafica(n):\n",
        "  f = lambda x : 1/(1 + x**2)\n",
        "  a = 0; b = 5; N = n\n",
        "\n",
        "  # x and y values for the trapezoid rule\n",
        "  x = np.linspace(a,b,N+1)\n",
        "  y = f(x)\n",
        "\n",
        "  # X and Y values for plotting y=f(x)\n",
        "  X = np.linspace(a,b,100)\n",
        "  Y = f(X)\n",
        "  plt.plot(X,Y)\n",
        "\n",
        "  for i in range(N):\n",
        "      xs = [x[i],x[i],x[i+1],x[i+1]]\n",
        "      ys = [0,f(x[i]),f(x[i+1]),0]\n",
        "      plt.fill(xs,ys,'b',edgecolor='b',alpha=0.2)\n",
        "\n",
        "  plt.title('Trapezoid Rule, N = {}'.format(N))\n",
        "\n",
        "interact(grafica,n=widgets.IntSlider(min=4,max=30,step=1,value=2))"
      ],
      "execution_count": null,
      "outputs": [
        {
          "output_type": "display_data",
          "data": {
            "application/vnd.jupyter.widget-view+json": {
              "model_id": "70b38f9dda22411aa04084a01aaea782",
              "version_minor": 0,
              "version_major": 2
            },
            "text/plain": [
              "interactive(children=(IntSlider(value=4, description='n', max=30, min=4), Output()), _dom_classes=('widget-int…"
            ]
          },
          "metadata": {
            "tags": []
          }
        },
        {
          "output_type": "execute_result",
          "data": {
            "text/plain": [
              "<function __main__.grafica>"
            ]
          },
          "metadata": {
            "tags": []
          },
          "execution_count": 4
        }
      ]
    },
    {
      "cell_type": "markdown",
      "metadata": {
        "id": "Jz-VcnxDw7-a"
      },
      "source": [
        "# Referencias\n",
        "\n",
        "*   Riswan Butt, Numerical Analysys Using Matlab, Jones and Bartlett.\n",
        "*   Ward Cheney, David Kincaid, Métodos Numéricos y Computación, Cenage Learning.\n",
        "*   Richard L. Burden, J. Douglas Faires, Análisis Numérico, Math Learning.\n",
        "*   Yuri N. Skiba, Introducción a los Métodos Numéricos.\n",
        "*   Quarteroni, A, Sacco R.: Numerical mathematics, Springer. 2007.\n",
        "\n"
      ]
    }
  ]
}