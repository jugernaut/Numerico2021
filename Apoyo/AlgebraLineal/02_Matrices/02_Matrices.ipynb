{
  "nbformat": 4,
  "nbformat_minor": 0,
  "metadata": {
    "colab": {
      "name": "Matrices.ipynb",
      "provenance": [],
      "include_colab_link": true
    },
    "kernelspec": {
      "name": "python3",
      "display_name": "Python 3"
    }
  },
  "cells": [
    {
      "cell_type": "markdown",
      "metadata": {
        "id": "view-in-github",
        "colab_type": "text"
      },
      "source": [
        "<a href=\"https://colab.research.google.com/github/jugernaut/Numerico2021/blob/master/Apoyo/AlgebraLineal/02_Matrices/02_Matrices.ipynb\" target=\"_parent\"><img src=\"https://colab.research.google.com/assets/colab-badge.svg\" alt=\"Open In Colab\"/></a>"
      ]
    },
    {
      "cell_type": "markdown",
      "metadata": {
        "id": "4G-nYJ-QGLiB",
        "colab_type": "text"
      },
      "source": [
        "# Matrices\n",
        "## Proyecto PAPIME PE101019\n",
        "\n",
        "*   Autor: \n",
        "    - Ocampo Nava Maria Fernanda\n",
        "*   Rev: Mar sep 15 13:49:53 CDT 2020"
      ]
    },
    {
      "cell_type": "markdown",
      "metadata": {
        "id": "nRu5apTuV44j",
        "colab_type": "text"
      },
      "source": [
        "¿Sabias que el uso de las matrices es algo que se puede incorporar a la vida cotidiana?, es algo de gran utilidad y que además puede hacer que el resolver un problema sea mas sencillo.\n",
        "En el siguiente material se hablará sobre la aplicación y se abordaran algunos temas referentes a matrices.\n",
        "##  **Problema inicial**\n",
        "- Obtenido del libro Álgebra Lineal octava edición de Bernard Kolman.\n",
        "\n",
        "#### **Cálculo de la calificación promedio de un curso**\n",
        " \n",
        "Suponga que un profesor utiliza cuatro notas para determinar la calificación promedio que obtiene un estudiante en un curso, dichas notas son: cuestionarios, dos exámenes de una hora y un examen final. \n",
        "\n",
        "Cada una de estas notas tiene una ponderación de 10%, 30%, 30% y 30%, respectivamente, si las calificaciones de un estudiante son: 78, 84, 62 y 85, en cada rubro respectivo.\n",
        " \n",
        "  ¿Como podemos calcular el promedio del curso haciendo uso de matrices?\n",
        "\n",
        "\n",
        "\n",
        "##  **Introducción**\n",
        " \n",
        "En la vida diaria el concepto de matrices es de gran relevancia, ya que las matrices se usan como contenedores para almacenar datos relacionados, en la vida cotidiana se puede utilizar en todo lo relacionado a solución de ecuaciones por ejemplo en economía se utilizan para hacer análisis de producción, distribución y organización de las empresas, en teoría de juegos, biología y hasta en psicología, en ingeniería robotica se pueden usar para cálcular el movimiento de un brazo mecánico, otra aplicación es el reconocimiento facial. \n",
        "\n",
        "###Definición de matriz\n",
        "\n",
        "Una matriz  $A_{n\\times m}$, de tamaño $n × m$ es un arreglo rectangular de $n \\times  m$ números reales (o complejos) ordenados en n filas (renglones) horizontales y m columnas (verticales).\n",
        "\n",
        "Otra manera de pensarla es como un conjunto ordenado en una estructura de filas y columnas, los elementos de este conjunto pueden ser objetos matemáticos de diferentes tipos, sin embargo, trabajaremos exclusivamente con matrices formadas por números reales (aunque puede ser cualquier elemento de un espacio vectorial).\n",
        "\n",
        "Cada uno de los números  que conforman la matriz se denomina elemento y se denotan por $(a_{ij})$ donde i representa el número de fila y j el número de la columna en que se encuentra el elemento de la matriz $A$. El número de filas y columnas de una matriz respresenta la  dimensión de una matriz, por ejemplo una matriz A de $n$ filas y $m$ columnas podemos denotarla como $A_{n\\times m}$, (los últimos indices son $(m-1, n-1)$ ya que los indices inician en cero, es decir: \n",
        "\n",
        " \\begin{equation} A_{n\\times m} =\n",
        "\\begin{pmatrix}\n",
        "a_{00} & a_{01} & \\cdots & a_{0m-1}\\\\\n",
        "a_{10} & a_{11} & \\cdots & a_{1m-1}\\\\\n",
        "\\vdots & \\vdots & \\ddots & \\vdots\\\\\n",
        "a_{n-10} & a_{n-11} & \\cdots & a_{n-1m-1}\n",
        "\\end{pmatrix}\n",
        "\\end{equation}\n",
        "\n",
        "\n",
        "A continuación se presentará un ejemplo en el que identificaremos la dimensión de la matriz, asi como sus elementos.\n",
        "\n",
        "* Ejemplo:"
      ]
    },
    {
      "cell_type": "code",
      "metadata": {
        "id": "cVGx2-ceV44k",
        "colab_type": "code",
        "colab": {
          "base_uri": "https://localhost:8080/",
          "height": 50
        },
        "outputId": "aa9f8bc6-b96d-4177-c81c-ec0e1fd99a14"
      },
      "source": [
        "#En este ejemplo se hará una matriz de números aleatorios del (0,20) en donde nos pedirá el número de columnas\n",
        "#y el número de renglones que queremos.\n",
        "import random  \n",
        "import numpy as np\n",
        "#pedimos el número de columnas y número de filas que queremos que tenga la matriz\n",
        "m = int(input('Dame el número de columnas m para la matriz: '))\n",
        "n = int(input('Dame el número de filas n  para la matriz: '))\n",
        "\n",
        "#creamos nuestra matriz de nxm\n",
        "A=  np.zeros((n,m))\n",
        "for i in range(n):\n",
        "    for j in range(m):\n",
        "    #damos el intervalo en el que pueden tomar valores cada elemento de la matriz.\n",
        "        A[i][j] = random.randint(0,20) "
      ],
      "execution_count": null,
      "outputs": [
        {
          "output_type": "stream",
          "text": [
            "Dame el número de columnas m para la matriz: 2\n",
            "Dame el número de filas n  para la matriz: 2\n"
          ],
          "name": "stdout"
        }
      ]
    },
    {
      "cell_type": "code",
      "metadata": {
        "id": "weJGHpcEV44r",
        "colab_type": "code",
        "colab": {
          "base_uri": "https://localhost:8080/",
          "height": 51
        },
        "outputId": "d59abb9d-4791-46b5-e0bf-3db5e19e4756"
      },
      "source": [
        "print(A)"
      ],
      "execution_count": null,
      "outputs": [
        {
          "output_type": "stream",
          "text": [
            "[[15.  1. 20.]\n",
            " [ 0.  3. 19.]]\n"
          ],
          "name": "stdout"
        }
      ]
    },
    {
      "cell_type": "markdown",
      "metadata": {
        "id": "TfKsfeocV44w",
        "colab_type": "text"
      },
      "source": [
        "En la matriz anterior que denotamos A, podemos observar que es una matriz de dimensión $n \\times m$, en el siguiente ejemplo definiremos la matriz con valores fijos para su mejor análizis.\n"
      ]
    },
    {
      "cell_type": "code",
      "metadata": {
        "id": "Vf-p6S1XV44w",
        "colab_type": "code",
        "colab": {
          "base_uri": "https://localhost:8080/",
          "height": 67
        },
        "outputId": "7fd2a51a-7863-4fdf-b09d-fca086c414b0"
      },
      "source": [
        "#La matriz que daremos será la que se muestra \n",
        "import numpy as np\n",
        "print(\"Matriz A de dimensión 2x3, :\")\n",
        "\n",
        "A= np.array([[11,10,18],[17,18,1]])\n",
        "\n",
        "print(A)\n"
      ],
      "execution_count": null,
      "outputs": [
        {
          "output_type": "stream",
          "text": [
            "Matriz A de dimensión 2x3, :\n",
            "[[11 10 18]\n",
            " [17 18  1]]\n"
          ],
          "name": "stdout"
        }
      ]
    },
    {
      "cell_type": "markdown",
      "metadata": {
        "id": "2ZP2jFo2V442",
        "colab_type": "text"
      },
      "source": [
        "Es decir:\n",
        "\n",
        " \\begin{equation} A_{2\\times 3},=\n",
        "\\begin{pmatrix}\n",
        "11 & 10 & 18 \\\\\n",
        "17 & 18 & 1 \n",
        "\\end{pmatrix}\n",
        "\\end{equation}"
      ]
    },
    {
      "cell_type": "code",
      "metadata": {
        "id": "blKUGCMwV442",
        "colab_type": "code",
        "colab": {
          "base_uri": "https://localhost:8080/",
          "height": 50
        },
        "outputId": "647496ca-91c1-48f4-ce77-49907a62ccd2"
      },
      "source": [
        "#obtendremos el elemento b11\n",
        "a00= A[0][0]\n",
        "print(\"El elemento a00 es:\")\n",
        "print(a00)"
      ],
      "execution_count": null,
      "outputs": [
        {
          "output_type": "stream",
          "text": [
            "El elemento a00 es:\n",
            "11\n"
          ],
          "name": "stdout"
        }
      ]
    },
    {
      "cell_type": "code",
      "metadata": {
        "id": "Q5mxJschV447",
        "colab_type": "code",
        "colab": {
          "base_uri": "https://localhost:8080/",
          "height": 51
        },
        "outputId": "e12bec6e-275f-4e39-9391-2f7e0c7f3408"
      },
      "source": [
        "#obtenemos el elemento b3,4\n",
        "a22= A[1][1]\n",
        "print(\"El elemento a22 es:\")\n",
        "print(a22)"
      ],
      "execution_count": null,
      "outputs": [
        {
          "output_type": "stream",
          "text": [
            "El elemento a22 es:\n",
            "18\n"
          ],
          "name": "stdout"
        }
      ]
    },
    {
      "cell_type": "markdown",
      "metadata": {
        "id": "0lVbI9P3V45B",
        "colab_type": "text"
      },
      "source": [
        "Dicho de otra manera, tenemos que:\n",
        "* $a_{00}$= 11\n",
        "* $a_{11}$= 18"
      ]
    },
    {
      "cell_type": "markdown",
      "metadata": {
        "id": "aCUi_DAcV45C",
        "colab_type": "text"
      },
      "source": [
        "##  **Tipos de matrices**\n",
        "\n",
        "Exiten diversos tipos de matrices los cuáles dependen del tipo de elementos que la conforme así como también depende de la dimensión de la matriz, cabe mencionar que todas se pueden crear en jupyter con la paqueteria numpy.\n",
        "\n",
        "Algunas de las matrices que se conocen son las que se mencionan a continuación:\n",
        "\n",
        "***Matrices dependiendo el tipo de elementos***\n",
        "\n",
        "* **Matriz nula o matriz cero**: es aquella cuyos elementos son todos cero.\n",
        "* **Matriz identidad**: es aquella que cumple la propiedad de ser el elemento neutro del producto de matrices, es de $n \\times n$ y tiene como elementos el 1 en la diagonal (los elementos que forman parte de la diagonal son  $a_{00}$, $a_{11}$, $a_{22}$,...,$a_{n-1n-1}$) y cero en aquellos elementos que no pertenecen a la diagonal.\n",
        "* **Matriz diagonal**:  Una matriz se denomina diagonal si todos los elementos que no se encuentran sobre la diagonal son cero.\n",
        "* **Matriz triangular superior**:  todas sus componentes abajo de la diagonal son cero y los que estan en la diagonal y por encima de esta son casi o todos distintos de cero.\n",
        "* **Matriz real**: todos sus elementos pertenecen a los números reales\n",
        "* **Matriz compleja**: todos sus elementos pertenecen a los números complejos.\n",
        "\n",
        "\n",
        "***Matrices dependiendo el orden:***\n",
        "* **Matriz cuadrada**: es aquella que cumple la condición de que $n=m$, en este caso se denota $A_{n}$\n",
        "* **Matriz rectangular**: aquella que cumple la condición de que $n \\neq m$ que fue el caso inical.\n",
        "\n",
        "La igualdad de matrices se presenta cuando para dos matrices $A,B$ se cumple siempre que $a_{ij}$=$b_{ij}$ para todo $(i,j)$.\n"
      ]
    },
    {
      "cell_type": "markdown",
      "metadata": {
        "id": "4WzuRF44V45C",
        "colab_type": "text"
      },
      "source": [
        "## Operaciones con matrices\n"
      ]
    },
    {
      "cell_type": "markdown",
      "metadata": {
        "id": "iA_PZxE6V45D",
        "colab_type": "text"
      },
      "source": [
        "- **Suma  y Resta de matrices** \n",
        "\n",
        "Para llevar a cabo estas operaciones es importante verificar que las matrices con las que se trabajará tengan el mismo orden, también es importante saber que se obtendrá como resultado una matriz con exactamente ese orden al realizar las operaciones.\n",
        "\n",
        "La suma o resta se lleva a cabo elemento por elemento, por ejemplo, sean A y B dos matrices que deseamos sumar, entonces se obtendrá una nueva matriz C cuyos elementos serán: $c_{ij}$=$a_{ij}+b_{ij}$, para hacer la resta solo le aplica la operación correspondiente.\n",
        "\n",
        "De manera gráfica, podemos verlo de la siguiente manera para la suma:\n",
        "\n",
        "\\begin{equation} A_{n\\times m} = \n",
        "\\begin{pmatrix}\n",
        "a_{00} & a_{01} & \\cdots & a_{0m-1}\\\\\n",
        "a_{10} & a_{11} & \\cdots & a_{1m-1}\\\\\n",
        "\\vdots & \\vdots & \\ddots & \\vdots\\\\\n",
        "a_{n-10} & a_{n-11} & \\cdots & a_{n-1m-1}\n",
        "\\end{pmatrix}\n",
        "\\end{equation}\n",
        "\n",
        "\n",
        "\\begin{equation} B_{n\\times m} = \n",
        "\\begin{pmatrix}\n",
        "b_{00} & b_{01} & \\cdots & b_{0m-1}\\\\\n",
        "b_{10} & b_{11} & \\cdots & b_{1m-1}\\\\\n",
        "\\vdots & \\vdots & \\ddots & \\vdots\\\\\n",
        "b_{n-10} & b_{n-11} & \\cdots & b_{n-1m-1}\n",
        "\\end{pmatrix}\n",
        "\\end{equation}\n",
        "\n",
        "\n",
        " \\begin{equation} C=A+B =\n",
        "\\begin{pmatrix}\n",
        "a_{00}+b_{00} & a_{01}+b_{01} & \\cdots & a_{0m-1}+b_{0m-1}\\\\\n",
        "a_{10}+b_{10} & a_{11}+b_{11} & \\cdots & a_{1m-1}+ b_{1m-1}\\\\\n",
        "\\vdots & \\vdots & \\ddots & \\vdots\\\\\n",
        "a_{n-10}+b_{n-10} & a_{n-11}+b_{n-11} & \\cdots & a_{n-1m-1}+b_{n-1m-1}\n",
        "\\end{pmatrix}\n",
        "\\end{equation}\n",
        "\n"
      ]
    },
    {
      "cell_type": "code",
      "metadata": {
        "id": "Wif_Js3EV45F",
        "colab_type": "code",
        "colab": {},
        "outputId": "eac8277f-e677-48cb-f094-f03d271c711a"
      },
      "source": [
        "#ejemplo de suma de matrices \n",
        "print(\"Recuerde que las matrices a sumar deben tener el mismo número de filas entre ellas y el mismo número de renglones\")\n",
        "#pedimos que nos de el número de filas y columnas que tienen las matrices\n",
        "filas = int(input (\"Indique el número de filas: \"))\n",
        "columnas = int(input (\"Indique el número de columnas: \"))\n",
        "#creamos las matrices en las que se guardarán los valores que el usuario proporcione y los de la suma\n",
        "matriz1 = np.zeros((filas,columnas))\n",
        "matriz2 = np.zeros((filas,columnas))\n",
        "#le pedimos que ingrese la primer matriz elemento por elemento y vamos llenando\n",
        "print ('Ingrese la primer matriz')\n",
        "for i in range(filas):\n",
        "\t\tfor j in range(columnas):\n",
        "\t\t\tmatriz1[i][j] = float(input('Elemento (%d,%d): ' % (i, j)))\n",
        "print( \"su primer matriz es:\")\n",
        "print(matriz1)\n",
        "#le pedimos que ingrese la segunda matriz elemento por elemento y vamos llenando           \n",
        "print ('Ingrese la segunda matriz')\n",
        "for i in range(filas):\n",
        "\tfor j in range(columnas):\n",
        "\t\t\tmatriz2[i][j] = float(input('Elemento (%d,%d): ' % (i, j)))\n",
        "print(\"su segunda matriz es:\")\n",
        "print( matriz2)\n",
        "#realizamos la suma de las matrices que nos proporciono y la imprimimos \n",
        "matriz3= matriz1+matriz2\n",
        "print ('La suma de las matrices es:')\n",
        "print (matriz3)"
      ],
      "execution_count": null,
      "outputs": [
        {
          "output_type": "stream",
          "text": [
            "Recuerde que las matrices a sumar deben tener el mismo número de filas entre ellas y el mismo número de renglones\n",
            "Indique el número de filas: 2\n",
            "Indique el número de columnas: 2\n",
            "Ingrese la primer matriz\n",
            "Elemento (0,0): 2\n",
            "Elemento (0,1): 2\n",
            "Elemento (1,0): 2\n",
            "Elemento (1,1): 2\n",
            "su primer matriz es:\n",
            "[[2. 2.]\n",
            " [2. 2.]]\n",
            "Ingrese la segunda matriz\n",
            "Elemento (0,0): 2\n",
            "Elemento (0,1): 2\n",
            "Elemento (1,0): 2\n",
            "Elemento (1,1): 2\n",
            "su segunda matriz es:\n",
            "[[2. 2.]\n",
            " [2. 2.]]\n",
            "La suma de las matrices es:\n",
            "[[4. 4.]\n",
            " [4. 4.]]\n"
          ],
          "name": "stdout"
        }
      ]
    },
    {
      "cell_type": "markdown",
      "metadata": {
        "id": "RskpqZXVV45L",
        "colab_type": "text"
      },
      "source": [
        "De lo anterior se puede observar como el elemento (0,0) de nuestra nueva matriz es la suma del elemento (0,0) de las dos matrices que introdujimos inicialmente.\n",
        "\n",
        "Cabe destacar que en esta operación con matrices se mantiene la asociatividad, conmutatividad, el elemento neutro que seria la matriz cuyas entradas son todas cero y por último el elemento opuesto el cuál si tenemos la matriz A, el elemento opuesto  sería -A  que es una matriz cuyos elementos son los opuestos a A."
      ]
    },
    {
      "cell_type": "markdown",
      "metadata": {
        "id": "IUfKmmmLV45L",
        "colab_type": "text"
      },
      "source": [
        "- **Escalar por una matriz**\n",
        "\n",
        "En este caso lo que se hace es multiplicar un número escalar por la matriz, es decir $\\tau$*$A_{n\\times m}$ y el resultado será una matriz del mismo orden pero con cada uno de sus elementos múltiplicado por el escalar,es decir: \n",
        "\n",
        "\n",
        "  \\begin{equation} \\tau*A_{n\\times m}=\n",
        "\\begin{pmatrix}\n",
        "\\tau*a_{11} & \\tau*a_{12} & \\cdots & \\tau*a_{1m}\\\\\n",
        "\\tau*a_{21} & \\tau*a_{12} & \\cdots & \\tau*a_{2m}\\\\\n",
        "\\vdots & \\vdots & \\ddots & \\vdots\\\\\n",
        "\\tau*a_{n1} & \\tau*a_{n2} & \\cdots & \\tau*a_{nm}\n",
        "\\end{pmatrix}\n",
        "\\end{equation}\n",
        "\n",
        "Cabe mencionar que esta operación es distributiva respecto a la suma de escalares y a la suma de matrices, además es conmutativa y asociativa respecto al producto punto de escalares.\n",
        "A continuación se muestra un ejemplo de esta operación.\n"
      ]
    },
    {
      "cell_type": "code",
      "metadata": {
        "id": "kNuLzBz3V45L",
        "colab_type": "code",
        "colab": {},
        "outputId": "30c47307-0cc3-41d2-dcfe-120191eb3e3d"
      },
      "source": [
        "#pedimos que nos de el número de filas y columnas que tienen las matrices\n",
        "import numpy as np\n",
        "filas = int(input (\"Indique el número de filas: \"))\n",
        "columnas = int(input (\"Indique el número de columnas: \"))\n",
        "#creamos las matrices en las que se guardarán los valores que el usuario proporcione y los de la suma\n",
        "matriz1 = np.zeros((filas,columnas))\n",
        "#le pedimos que ingrese la primer matriz elemento por elemento y vamos llenando\n",
        "print ('Ingrese la  matriz')\n",
        "for i in range(filas):\n",
        "        for j in range(columnas):\n",
        "            matriz1[i][j] = float(input('Elemento (%d,%d): ' % (i, j)))\n",
        "print( \"su matriz es:\")\n",
        "print(matriz1)\n",
        "#le pedimos que ingrese el escalar por el que se multiplicara           \n",
        "l= int(input('Dame el número por el que multiplicarás la matriz'))\n",
        "#realizamos la multiplicación de la matricez que nos proporciono por el escalar y la imprimimos \n",
        "matriz2= matriz1*l\n",
        "print ('La matriz multiplicada por el escalar es:')\n",
        "print (matriz2)"
      ],
      "execution_count": null,
      "outputs": [
        {
          "output_type": "stream",
          "text": [
            "Indique el número de filas: 2\n",
            "Indique el número de columnas: 2\n",
            "Ingrese la  matriz\n",
            "Elemento (0,0): 2\n",
            "Elemento (0,1): 2\n",
            "Elemento (1,0): 2\n",
            "Elemento (1,1): 2\n",
            "su matriz es:\n",
            "[[2. 2.]\n",
            " [2. 2.]]\n",
            "Dame el número por el que multiplicarás la matriz2\n",
            "La matriz multiplicada por el escalar es:\n",
            "[[4. 4.]\n",
            " [4. 4.]]\n"
          ],
          "name": "stdout"
        }
      ]
    },
    {
      "cell_type": "markdown",
      "metadata": {
        "id": "YrTRZefQV45Q",
        "colab_type": "text"
      },
      "source": [
        "- **Producto de un vector por una matriz **\n",
        "\n",
        "Si tenemos una matriz $A_{n\\times m}$ y queremos obtener el producto de esta matriz con un vector, lo primero que se debe verificar es que el número de columnas de la matriz coincida con el número de filas del vector, el resultado de esto nos dara una nueva matriz $C_{n\\times 1}$.\n",
        "\n",
        "Los elementos que conformarán esta nueva matriz serán el resultado de sumar los productos de los elementos de la fila i por el vector, es decir:\n",
        "\n",
        "Sea la matriz:\n",
        "  \\begin{equation}  A_{nxm} =\n",
        "\\begin{pmatrix}\n",
        "a_{11} & a_{12} & \\cdots & a_{1m}\\\\\n",
        "a_{21} & a_{12} & \\cdots & a_{2m}\\\\\n",
        "\\vdots & \\vdots & \\ddots & \\vdots\\\\\n",
        "a_{n1} & a_{n2} & \\cdots & a_{nm}\n",
        "\\end{pmatrix}\n",
        "\\end{equation}\n",
        "\n",
        "Definiremos el vector:\n",
        "\n",
        "  \\begin{equation}  V_{mx1} =\n",
        "\\begin{pmatrix}\n",
        "v_{11} \\\\\n",
        "v_{21} \\\\\n",
        "\\vdots \\\\\n",
        "v_{m1} \n",
        "\\end{pmatrix}\n",
        "\\end{equation}.\n",
        "\n",
        "\n",
        "Entonces el producto de estos será la nueva matriz $C_{nx1}$ cuyas entradas serán:\n",
        "\n",
        " \n",
        "\n",
        "\\begin{equation}\n",
        "  C_{i1} = \\sum_{k} (a_{ik}*v_{k,1})\n",
        "\\end{equation}"
      ]
    },
    {
      "cell_type": "code",
      "metadata": {
        "id": "9vgfGg4vV45Q",
        "colab_type": "code",
        "colab": {},
        "outputId": "e5494b9f-287d-4565-8b35-c179c1a177de"
      },
      "source": [
        "import numpy as np\n",
        "#primero pedimos que se nos den la matriz\n",
        "filas1 = int(input (\"Indique el número de filas de la matriz: \"))\n",
        "columnas1 = int(input (\"Indique el número de columnas de la matriz: \"))\n",
        "columnas2 = 1\n",
        "\n",
        "#creamos la matriz en la que se guardarán los valores que el usuario proporcione\n",
        "A = np.zeros((filas1,columnas1))    \n",
        "B = np.zeros((columnas1,columnas2))   \n",
        " #llenamos la matriz con los datos del usuario\n",
        "print (\"Ingrese la primer matriz\")\n",
        "\n",
        "for i in range(filas1):\n",
        "        for j in range(columnas1):\n",
        "            A[i][j] = float(input('Elemento (%d,%d): ' % (i, j)))\n",
        "print( \"su matriz es:\")\n",
        "print(A)\n",
        "#llenamos el vector\n",
        "print (\"Ingrese el vector\")\n",
        "for i in range(columnas1):\n",
        "        for j in range(columnas2):\n",
        "            B[i][j] = float(input('Elemento (%d,%d): ' % (i, j)))\n",
        "print( \"su vector es:\")\n",
        "print(B)\n",
        "\n",
        "\n",
        "C = A.dot(B)\n",
        "print(\"El producto de la matriz con el vector es:\")\n",
        "    \n",
        "print (C)\n"
      ],
      "execution_count": null,
      "outputs": [
        {
          "output_type": "stream",
          "text": [
            "Indique el número de filas de la matriz: 2\n",
            "Indique el número de columnas de la matriz: 2\n",
            "Ingrese la primer matriz\n",
            "Elemento (0,0): 2\n",
            "Elemento (0,1): 2\n",
            "Elemento (1,0): 2\n",
            "Elemento (1,1): 2\n",
            "su matriz es:\n",
            "[[2. 2.]\n",
            " [2. 2.]]\n",
            "Ingrese el vector\n",
            "Elemento (0,0): 2\n",
            "Elemento (1,0): 2\n",
            "su vector es:\n",
            "[[2.]\n",
            " [2.]]\n",
            "El producto de la matriz con el vector es:\n",
            "[[8.]\n",
            " [8.]]\n"
          ],
          "name": "stdout"
        }
      ]
    },
    {
      "cell_type": "markdown",
      "metadata": {
        "id": "Eqmsfu1-V45V",
        "colab_type": "text"
      },
      "source": [
        "- **Producto de Matrices**\n",
        "\n",
        "Si tenemos una matriz $A_{n\\times m}$ y queremos obtener el producto de esta matriz con una $B_{m\\times l}$, lo primero que se debe verificar es que el número de columnas de la matriz A coincida con el número de filas de la matriz B, el resultado de esto nos dara una nueva matriz $C_{n\\times l}$.\n",
        "\n",
        "Los elementos que conformarán esta nueva matriz serán el resultado de sumar los productos de los elementos de la fila i por la columna j, es decir:\n",
        "\n",
        "\\begin{equation}\n",
        "  C_{ij} = \\sum_{k} (a_{ik}*b_{k,j})\n",
        "\\end{equation}\n",
        "\n",
        "por ejemplo si tenemos las siguientes matrices:\n",
        "\n",
        "\n",
        "\\begin{equation} A_{2x3}=\n",
        "\\begin{pmatrix}\n",
        "2 & 3 & 1 \\\\\n",
        "0 & -1 & -2 \n",
        "\\end{pmatrix}\n",
        "\\end{equation}\n",
        "\n",
        "\n",
        "\\begin{equation} B_{3x2}=\n",
        "\\begin{pmatrix}\n",
        " 1 & 0 \\\\\n",
        "-1 & 2  \\\\\n",
        "-2 & 3\n",
        "\\end{pmatrix}\n",
        "\\end{equation}\n",
        "\n",
        "\n",
        "\\begin{equation} C_{2x2}=\n",
        "\\begin{pmatrix}\n",
        " (2*1)+(-1*3)+(-2*1)   & (0*2)+(2*3) +(3*1) \\\\\n",
        " (1*0)+(-1*-1)+(-2*-2) & (0*0)+(2*-1)+(3*-2)\n",
        "\\end{pmatrix}\n",
        "\\end{equation}\n",
        "\n",
        "\n",
        "\n",
        "\\begin{equation} =\n",
        "\\begin{pmatrix}\n",
        " -3 & 9 \\\\\n",
        "  5 & -8\n",
        " \\end{pmatrix}\n",
        " \\end{equation}\n",
        " \n",
        " \n",
        " Esta operación cumple con la asociatividad, es distributiva respecto a la suma de matrices, no siempre es conmutativo, y no se cumple necesariamente que si A*B=A*C  no necesariamente se cumple que B=C."
      ]
    },
    {
      "cell_type": "code",
      "metadata": {
        "id": "OfTHqrvEV45V",
        "colab_type": "code",
        "colab": {},
        "outputId": "11551752-dba1-4b10-9005-b5eceb5615e2"
      },
      "source": [
        "import numpy as np\n",
        "#primero pedimos que se nos den las matrices \n",
        "print(\"recuerde que el numero de columnas de la segunda matriz debe ser igual al número de columnas de la primer matriz\")\n",
        "filas1 = int(input (\"Indique el número de filas de la primer matriz: \"))\n",
        "columnas1 = int(input (\"Indique el número de columnas de la primer matriz: \"))\n",
        "columnas2 = int(input (\"Indique el número de columnas de la segunda matriz: \"))\n",
        "\n",
        "#creamos las matrices en las que se guardarán los valores que el usuario proporcione y los de la suma\n",
        "A = np.zeros((filas1,columnas1))    \n",
        "B = np.zeros((columnas1,columnas2))   \n",
        " #llenamos la matriz 1 con los datos del usuario\n",
        "print (\"Ingrese la primer matriz\")\n",
        "\n",
        "for i in range(filas1):\n",
        "        for j in range(columnas1):\n",
        "            A[i][j] = float(input('Elemento (%d,%d): ' % (i, j)))\n",
        "print( \"su matriz 1 es:\")\n",
        "print(A)\n",
        "#llenamos la matriz 2\n",
        "print (\"Ingrese la segunda matriz\")\n",
        "for i in range(columnas1):\n",
        "        for j in range(columnas2):\n",
        "            B[i][j] = float(input('Elemento (%d,%d): ' % (i, j)))\n",
        "print( \"su matriz 2 es:\")\n",
        "print(B)\n",
        "\n",
        "\n",
        "C = A.dot(B)\n",
        "print(\"El producto de las matrices es:\")\n",
        "    \n",
        "print (C)\n"
      ],
      "execution_count": null,
      "outputs": [
        {
          "output_type": "stream",
          "text": [
            "recuerde que el numero de columnas de la segunda matriz debe ser igual al número de columnas de la primer matriz\n",
            "Indique el número de filas de la primer matriz: 2\n",
            "Indique el número de columnas de la segunda matriz: 2\n",
            "Indique el número de columnas de la segunda matriz: 2\n",
            "Ingrese la primer matriz\n",
            "Elemento (0,0): 2\n",
            "Elemento (0,1): 2\n",
            "Elemento (1,0): 2\n",
            "Elemento (1,1): 2\n",
            "su matriz 1 es:\n",
            "[[2. 2.]\n",
            " [2. 2.]]\n",
            "Ingrese la segunda matriz\n",
            "Elemento (0,0): 3\n",
            "Elemento (0,1): 3\n",
            "Elemento (1,0): 3\n",
            "Elemento (1,1): 3\n",
            "su matriz 2 es:\n",
            "[[3. 3.]\n",
            " [3. 3.]]\n",
            "El producto de las matrices es:\n",
            "[[12. 12.]\n",
            " [12. 12.]]\n"
          ],
          "name": "stdout"
        }
      ]
    },
    {
      "cell_type": "markdown",
      "metadata": {
        "id": "aHUwZxLKV45a",
        "colab_type": "text"
      },
      "source": [
        "- **Matriz Inversa **\n",
        "\n",
        "Una matriz cuadrada $A_{n\\times n}$ tiene inversa denotada como $A^{-1}$ si se cuemple que:\n",
        "\n",
        "$$A*A^{-1}=A^{-1}A=I$$\n",
        "\n",
        "De donde I es la matriz identidad de tamaño n la cuál tiene unos en su diagonal y ceros en todas las demas entradas.\n",
        "\n",
        "Las matrices que tienen inversa son llamadas matrices invertibles o regulares.\n",
        "\n",
        "La matriz inversa debe cumplir:\n",
        " * Es única \n",
        " * $(A^{-1})^{-1}$ = A\n",
        " * $(A*B)^{-1}$ = $B^{-1}$*$A^{-1}$\n",
        " * ($\\alpha*A^{-1}$)=$\\frac{1}{\\alpha}$*$A^{-1}$   con $\\alpha$ distinto de 0"
      ]
    },
    {
      "cell_type": "code",
      "metadata": {
        "id": "xbt_sDn1V45b",
        "colab_type": "code",
        "colab": {
          "base_uri": "https://localhost:8080/",
          "height": 233
        },
        "outputId": "63153d73-1168-444d-d664-c41a0bd99c35"
      },
      "source": [
        "import numpy as np\n",
        "filas1 = int(input (\"Indique el número de filas y columnas de la matriz: \"))\n",
        "\n",
        "A = np.zeros((filas1,filas1))      \n",
        " #llenamos la matriz 1 con los datos del usuario\n",
        "print (\"Ingrese la primer matriz\")\n",
        "\n",
        "for i in range(filas1):\n",
        "        for j in range(filas1):\n",
        "            A[i][j] = float(input('Elemento (%d,%d): ' % (i, j)))\n",
        "print( \"su matriz es:\")\n",
        "print(A)\n",
        "#Calculamos la matriz inversa\n",
        "B= np.linalg.inv(A)\n",
        "\n",
        "print(\" La matriz Inversa es: \")\n",
        "print(B)"
      ],
      "execution_count": null,
      "outputs": [
        {
          "output_type": "stream",
          "text": [
            "Indique el número de filas y columnas de la matriz: 2\n",
            "Ingrese la primer matriz\n",
            "Elemento (0,0): 3\n",
            "Elemento (0,1): 3\n",
            "Elemento (1,0): 4\n",
            "Elemento (1,1): 5\n",
            "su matriz es:\n",
            "[[3. 3.]\n",
            " [4. 5.]]\n",
            " La matriz Inversa es: \n",
            "[[ 1.66666667 -1.        ]\n",
            " [-1.33333333  1.        ]]\n"
          ],
          "name": "stdout"
        }
      ]
    },
    {
      "cell_type": "markdown",
      "metadata": {
        "id": "qErtK8YXV45f",
        "colab_type": "text"
      },
      "source": [
        "\n",
        "## Aplicaciones\n",
        "\n",
        "\n",
        "- Obtenido del libro Álgebra Lineal octava edición de Bernard Kolman.\n",
        "\n",
        "\n",
        "Un fabricante de cierto producto realiza tres modelos, A, B y C. Algunas\n",
        "partes  de cada uno se elaboran en la fábrica $F_1$, ubicada en de Taiwán, y después se terminan en la fábrica $F_2$ de Estados Unidos. El costo total de cada producto consta\n",
        "de los costos de manufactura y de embarque. En consecuencia, los costos (en dólares) de\n",
        "cada fábrica pueden describirse mediante las matrices $F_1$ y $F_2$ de 3 × 2:\n",
        "\n",
        "\\begin{equation}\n",
        "F_1=\n",
        "\\begin{pmatrix}\n",
        " manufactura &  embarque  \\\\  \n",
        "\\hline \n",
        "32& 40 & mod.A \\\\\n",
        "50& 80 & mod.B \\\\\n",
        "70& 20 & mod.C \\\\\n",
        "\\end{pmatrix}\n",
        "\\end{equation}\n",
        "\n",
        "\n",
        "Para el caso de Estados Unidos se tiene:\n",
        "\n",
        "\n",
        "\\begin{equation}\n",
        "F_2=\n",
        "\\begin{pmatrix}\n",
        " manufactura &  embarque  \\\\  \n",
        "\\hline \n",
        "40& 60 & mod.A \\\\\n",
        "50& 50 & mod.B \\\\\n",
        "130& 20 & mod.C \\\\\n",
        "\\end{pmatrix}\n",
        "\\end{equation}\n",
        "\n",
        "\n",
        "  El costo total de un producto dependiendo el modelo estaría dado por $F_1$ + $F_2$, que es: \n",
        "\n",
        "  \\begin{equation}\n",
        "F_1+F_2=\n",
        "\\begin{pmatrix}\n",
        " manufactura &  embarque  \\\\  \n",
        "\\hline \n",
        "80& 120 & mod.A \\\\\n",
        "100& 130 & mod.B \\\\\n",
        "200& 40 & mod.C \\\\\n",
        "\\end{pmatrix}\n",
        "\\end{equation}\n",
        "\n",
        "De lo anterior se observa que para el modelo B, los costos totales son 100  por manufactura y 130 por embarque.\n",
        "\n",
        "\n",
        "\n",
        "\n"
      ]
    },
    {
      "cell_type": "markdown",
      "metadata": {
        "id": "6AqXtTFxye6c",
        "colab_type": "text"
      },
      "source": [
        "**Aplicación a ecología**\n",
        "\n",
        "Una siembra se rocía con pesticidas para eliminar insectos dañinos; sin embargo, las plantas absorben parte de las sustancias. Luego, los animales herbívoros de la zona comen las plantas contaminadas y absorben los pesticidas. Para determinar la cantidad de pesticida absorbida por uno de esos animales, procedemos de la manera siguiente. Suponga que tenemos tres pesticidas y cuatro plantas. \n",
        "\n",
        "Sea $a_{ij}$ la cantidad de pesticida i (en miligramos) absorbida por la planta j. Esta información puede representarse mediante la matriz\n",
        "\n",
        "\n",
        "\\begin{equation}\n",
        "A=\n",
        "\\begin{pmatrix}\n",
        "planta 1 & planta 2 & planta 3 & planta 4 \\\\  \n",
        "\\hline \n",
        "2& 3& 4& 3& pesticida 1 \\\\\n",
        "3& 2& 2& 5& pesticida 2 \\\\\n",
        "4& 1& 6& 4& pesticida 3 \\\\\n",
        "\\end{pmatrix}\n",
        "\\end{equation}\n",
        "\n",
        "\n",
        "Imagine ahora, que tenemos tres animales herbívoros, y sea $b_{ij}$ la cantidad de plantas del tipo i que uno de ellos, de tipo j, come mensualmente. La información puede representarse mediante la matriz.\n",
        "\n",
        "\\begin{equation}\n",
        "B=\n",
        "\\begin{pmatrix}\n",
        "Herbívoro 1 & Herbívoro 2 & Herbívoro 3  \\\\  \n",
        "\\hline \n",
        "20& 12& 8& planta 1 \\\\\n",
        "28& 15& 15& planta 2 \\\\\n",
        "30& 12& 10& planta 3 \\\\\n",
        "40& 16& 20& planta 4\n",
        "\\end{pmatrix}\n",
        "\\end{equation}\n",
        "\n",
        "\n",
        "Entonces al obtener la matriz A*B, que es la siguiente: \n",
        "\n",
        "\n",
        "\n",
        "\n"
      ]
    },
    {
      "cell_type": "markdown",
      "metadata": {
        "id": "jEyzGpSrQdTS",
        "colab_type": "text"
      },
      "source": [
        ""
      ]
    },
    {
      "cell_type": "code",
      "metadata": {
        "id": "nLk9SzErmnag",
        "colab_type": "code",
        "colab": {
          "base_uri": "https://localhost:8080/",
          "height": 84
        },
        "outputId": "e1851fa8-03ed-4c52-a82d-d55bf6d150ec"
      },
      "source": [
        "#La matriz que daremos será la que se muestra \n",
        "import numpy as np\n",
        "print(\"Matriz A*B:\")\n",
        "\n",
        "A= np.array([[2,3,4,3],[3,2,2,5],[4,1,6,4]])\n",
        "B= np.array([[20,12,8],[28,15,15],[30,12,10], [40,16,20]])\n",
        "C=A.dot(B)\n",
        "print(C)"
      ],
      "execution_count": null,
      "outputs": [
        {
          "output_type": "stream",
          "text": [
            "Matriz A*B:\n",
            "[[364 165 161]\n",
            " [376 170 174]\n",
            " [448 199 187]]\n"
          ],
          "name": "stdout"
        }
      ]
    },
    {
      "cell_type": "markdown",
      "metadata": {
        "id": "4zhAokbzniJL",
        "colab_type": "text"
      },
      "source": [
        "De donde se obtiene por ejemplo que se requieren 174 mg de pesticida 2 absorbidos por el herbívoro 3, que es la entrada (2,3) de la matriz A*B \n",
        "Ahora bien, si tuviéramos p animales carnívoros (como el hombre) que se comen a los\n",
        "herbívoros, podríamos repetir el análisis para determinar cuánto pesticida absorbe cada\n",
        "uno. ■"
      ]
    },
    {
      "cell_type": "markdown",
      "metadata": {
        "id": "vxPRg8Mf4Ojl",
        "colab_type": "text"
      },
      "source": [
        "##**Solución al problema inicial**\n",
        "\n",
        "Suponga que un profesor utiliza cuatro notas para determinar la calificación promedio que obtiene un estudiante en un curso: cuestionarios, dos exámenes de una hora y un examen final. Cada una de estas notas tiene una ponderación de 10%, 30%, 30% y 30%, respectivamente. \n",
        " \n",
        " Si las calificaciones de un estudiante son, en cada rubro, 78, 84, 62 y 85,\n",
        " \n",
        "  ¿Como podemos calcular el promedio del curso haciendo uso de matrices?\n",
        "\n",
        "  Lo anterior se resuelve con una multiplicacion de matrices, ya que si en una matriz colocamos las ponderaciones y en otra la calificación correspondiente sera facíl obtener el promedio, es decir:\n",
        "\n",
        "Sea P la matriz de ponderaciones y C la de calificaciones, entonces estas se verán de la siguente manera:\n",
        "\n",
        "\n",
        "\\begin{equation} P =\n",
        "\\begin{pmatrix}\n",
        ".10  \\\\\n",
        ".30   \\\\\n",
        ".30    \\\\\n",
        ".30    \\\\\n",
        "\\end{pmatrix}\n",
        "\\end{equation}\n",
        "\n",
        "\\begin{equation} C =\n",
        "\\begin{pmatrix}\n",
        "78 & 84 & 62 & 85\n",
        "\\end{pmatrix}\n",
        "\\end{equation}\n",
        "\n",
        "De donde se obtendrá que C*P= (78*.10)+ (84*.30)+(62*.30)+(85*.30)= 7.8+ 25.2+ 18.6 + 25.5 = 77.1\n",
        "\n",
        "Entoces de lo anterior podemos ver que el resultado es 77.1 de promedio."
      ]
    },
    {
      "cell_type": "markdown",
      "metadata": {
        "id": "7aWnCFyPq8Nj",
        "colab_type": "text"
      },
      "source": [
        "## Referencias\n",
        "\n",
        "* Kolman, B., & Hill, D. R. (2006). Álgebra Lineal. México: Pearson.\n",
        "\n",
        "* S., S. I., & Godoy, J. J. (2012). Álgebra Lineal. México: McGrawll -Hill Companies.\n",
        "\n",
        "\n",
        "\n",
        "\n",
        "\n",
        "\n"
      ]
    }
  ]
}