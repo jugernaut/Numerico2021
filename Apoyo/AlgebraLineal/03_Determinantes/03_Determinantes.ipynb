{
  "nbformat": 4,
  "nbformat_minor": 0,
  "metadata": {
    "colab": {
      "name": "Determinantes.ipynb",
      "provenance": [],
      "include_colab_link": true
    },
    "kernelspec": {
      "name": "python3",
      "display_name": "Python 3"
    }
  },
  "cells": [
    {
      "cell_type": "markdown",
      "metadata": {
        "id": "view-in-github",
        "colab_type": "text"
      },
      "source": [
        "<a href=\"https://colab.research.google.com/github/jugernaut/Numerico2021/blob/master/Apoyo/AlgebraLineal/03_Determinantes/03_Determinantes.ipynb\" target=\"_parent\"><img src=\"https://colab.research.google.com/assets/colab-badge.svg\" alt=\"Open In Colab\"/></a>"
      ]
    },
    {
      "cell_type": "markdown",
      "metadata": {
        "id": "PXwwyE67obC2",
        "colab_type": "text"
      },
      "source": [
        "# Determinantes \n",
        "## Proyecto PAPIME PE101019\n",
        "\n",
        "*   Autor: \n",
        "    - Ocampo Nava Maria Fernanda\n",
        "*   Rev: Mar sep 16 13:49:53 CDT 2020\n",
        "### Problema inicial\n",
        "\n",
        "Calcular el área de un triángulo cuyos vértices son: A(2, 0), B(3,4) y C(-2,5)\n",
        "\n",
        "### **Introducción**\n",
        "\n",
        "Definición de determinante:\n",
        "\n",
        "Sea A = [aij] una matriz de n × n. Definimos el determinante de A (que se escribe det(A) o |A|) como\n",
        "\n",
        "\\begin{equation}\n",
        " det(A) = |A| = \\sum ((±) a_{1_j1} a_{2_j2} ··· a_{n_jn})\n",
        "\\end{equation}\n",
        "\n",
        "\n",
        "donde la suma varía sobre todas las permutaciones $j_{1}$, $j_{2}$, ..., $j_{n}$ del conjunto S = {1,2, . . . , n}. El signo se toma como + o como – si la permutación $j_{1}$, $j_{2}$, ..., $j_{n}$ es par o impar, respectivamente.\n",
        "\n",
        "La función determinante de una matriz es una herramienta que nos permite clasificar los sistemas de ecuaciones lineales según sus soluciones.\n",
        "La definicón de determinante no es sencilla, sin embargo existen reglas que ayudan a obtenerlo dependeiendo la dimensión de la matriz, es importante saber que esto solo funciona con matrices cuadradas.\n",
        "\n",
        "Algo que tambien es importante mencionar es que los determinantes son de gran utilidad por ejemplo para:\n",
        "\n",
        "- **CÁLCULO DE ÁREAS DE FIGURAS EN EL PLANO**\n",
        "\n",
        "El cálculo de áreas de polígonos en el plano, de los que se conocen o bien las coordenadas de los vértices o bien las de ciertos vectores, puede efectuarse mediante el cálculo de determinantes. \n",
        "\n",
        "- **OBTENCIÓN DE LA ECUACIÓN IMPLÍCITA DE UN PLANO**\n",
        "\n",
        "La obtención de la ecuación implícita de un plano, puede efectuarse mediante el desarrollo de un determinante nulo, cuyas entradas están en función de las coordenadas de tres puntos no alineados de dicho plano.\n",
        "\n",
        "\n",
        "Si tenemos una matriz de la siguiente forma:\n",
        "\n",
        "\n",
        "\\begin{equation} A_{1\\times 1} =\n",
        "\\begin{pmatrix}\n",
        " a_{11} \n",
        "\\end{pmatrix}\n",
        "\\end{equation}\n",
        "\n",
        "entonces det(A)= $ a_{11} $\n",
        "\n",
        "para una matriz de 2x2, es decir:\n",
        "\n",
        "\\begin{equation} A_{2\\times 2} =\n",
        "\\begin{pmatrix}\n",
        "a_{11} & a_{12} \\\\\n",
        "a_{21} & a_{22} \n",
        "\\end{pmatrix}\n",
        "\\end{equation}\n",
        "\n",
        "entonces det(A)= $ a_{11} $ x $ a_{22} $ - $ a_{12} $ x $ a_{21} $"
      ]
    },
    {
      "cell_type": "markdown",
      "metadata": {
        "id": "u6UWbzAaodEw",
        "colab_type": "text"
      },
      "source": [
        "El cálculo de los determinantes se vuelve mas complejo conforme la dimensión de la matriz aumenta.\n",
        "A continuación se muestra como otener el determinante con numpy."
      ]
    },
    {
      "cell_type": "code",
      "metadata": {
        "id": "ULGrQZtf8p0_",
        "colab_type": "code",
        "colab": {
          "base_uri": "https://localhost:8080/",
          "height": 238
        },
        "outputId": "0ec1f9d9-164f-4aa0-9925-c7e1020064fe"
      },
      "source": [
        "import numpy as np\n",
        "print(\"Ingrese la matriz a la que se le sacará el determinante\")\n",
        "#pedimos que nos de el número de filas y columnas que tiene la matriz\n",
        "print(\"Recuerde que debe ingresar una matriz cuadrada\")\n",
        "filas = int(input (\"Indique el número de filas: \"))\n",
        "\n",
        "#creamos la matriz en las que se guardarán los valores que el usuario proporcione \n",
        "matriz1 = np.zeros((filas,filas))\n",
        "#le pedimos que ingrese la matriz elemento por elemento y vamos llenando\n",
        "print ('Ingrese la matriz')\n",
        "for i in range(filas):\n",
        "\t\tfor j in range(filas):\n",
        "\t\t\tmatriz1[i][j] = np.array( float(input('Elemento (%d,%d): ' % (i, j))))\n",
        "print(\"su matriz es:\")\n",
        "print(matriz1)\n",
        "#sacamos el determinante\n",
        "print(\"El determinante de su matriz es:\")\n",
        "z= np.linalg.det(matriz1)\n",
        "print(z)"
      ],
      "execution_count": null,
      "outputs": [
        {
          "output_type": "stream",
          "text": [
            "Ingrese la matriz a la que se le sacará el determinante\n",
            "Recuerde que debe ingresar una matriz cuadrada\n",
            "Indique el número de filas: 2\n",
            "Ingrese la matriz\n",
            "Elemento (0,0): 11\n",
            "Elemento (0,1): 21\n",
            "Elemento (1,0): 34\n",
            "Elemento (1,1): 2\n",
            "su matriz es:\n",
            "[[11. 21.]\n",
            " [34.  2.]]\n",
            "El determinante de su matriz es:\n",
            "-691.9999999999998\n"
          ],
          "name": "stdout"
        }
      ]
    },
    {
      "cell_type": "markdown",
      "metadata": {
        "id": "xYIjLIRBVmk7",
        "colab_type": "text"
      },
      "source": [
        "## Propiedades de los determinantes\n",
        "\n",
        "* El determinante de una matriz triangular es igual al producto de sus componentes en la diagonal.\n",
        "Es decir que sea A una matriz como la que se muestra a continuacion:\n",
        "\n",
        "\\begin{equation} A_{n\\times n} =\n",
        "\\begin{pmatrix}\n",
        "a_{11} & 0 & \\cdots & 0\\\\\n",
        "a_{21} & a_{22} & \\cdots & 0\\\\\n",
        "\\vdots & \\vdots & \\ddots & \\vdots\\\\\n",
        "a_{n1} & a_{n2} & \\cdots & a_{nn}\n",
        "\\end{pmatrix}\n",
        "\\end{equation}\n",
        "\n",
        "Entonces det(A)= $a_{11}$*$a_{22}$*$a_{33}$*....*$a_{nn}$\n",
        "\n"
      ]
    },
    {
      "cell_type": "code",
      "metadata": {
        "id": "dWKrxIHwablP",
        "colab_type": "code",
        "colab": {
          "base_uri": "https://localhost:8080/",
          "height": 119
        },
        "outputId": "3b112f09-e07f-4828-da8c-240a9859f36a"
      },
      "source": [
        "#Matriz diagonal \n",
        "import numpy as np\n",
        "print(\"Matriz diagonal A de dimensión 3x3, :\")\n",
        "\n",
        "A= np.array([[11,2,3],[0,1,4],[0,0,2]])\n",
        "print(A)\n",
        "\n",
        "#sacamos el determinante\n",
        "print(\"El determinante de su matriz es:\")\n",
        "d= np.linalg.det(A)\n",
        "print(d)"
      ],
      "execution_count": null,
      "outputs": [
        {
          "output_type": "stream",
          "text": [
            "Matriz A de dimensión 3x3, :\n",
            "[[11  2  3]\n",
            " [ 0  1  4]\n",
            " [ 0  0  2]]\n",
            "El determinante de su matriz es:\n",
            "22.000000000000004\n"
          ],
          "name": "stdout"
        }
      ]
    },
    {
      "cell_type": "markdown",
      "metadata": {
        "id": "o2mh1-BtdpMG",
        "colab_type": "text"
      },
      "source": [
        "Si una matriz B se obtiene intercambiando dos filas o intercambiando dos columnas de una matriz A entonces det(B) = −det(A)"
      ]
    },
    {
      "cell_type": "code",
      "metadata": {
        "id": "KfO7F7aueROm",
        "colab_type": "code",
        "colab": {
          "base_uri": "https://localhost:8080/",
          "height": 221
        },
        "outputId": "90cc47b3-a60e-47f7-f8ad-bcba0d327919"
      },
      "source": [
        " \n",
        "import numpy as np\n",
        "print(\"Matriz A de dimensión 2x2, :\")\n",
        "\n",
        "A= np.array([[11,2,3],[0,1,4],[6,4,2]])\n",
        "print(A)\n",
        "\n",
        "#sacamos el determinante de A\n",
        "print(\"El determinante de su matriz A es:\")\n",
        "d= np.linalg.det(A)\n",
        "print(d)\n",
        "print(\"Matriz B de dimensión 2x2, :\")\n",
        "B= np.array([[2,11,3],[1,0,4],[4,6,2]])\n",
        "print(B)\n",
        "\n",
        "#sacamos el determinante de B\n",
        "print(\"El determinante de su matriz B es:\")\n",
        "l= np.linalg.det(B)\n",
        "print(l)\n"
      ],
      "execution_count": null,
      "outputs": [
        {
          "output_type": "stream",
          "text": [
            "Matriz A de dimensión 2x2, :\n",
            "[[11  2  3]\n",
            " [ 0  1  4]\n",
            " [ 6  4  2]]\n",
            "El determinante de su matriz A es:\n",
            "-124.00000000000003\n",
            "Matriz B de dimensión 2x2, :\n",
            "[[ 2 11  3]\n",
            " [ 1  0  4]\n",
            " [ 4  6  2]]\n",
            "El determinante de su matriz B es:\n",
            "123.99999999999991\n"
          ],
          "name": "stdout"
        }
      ]
    },
    {
      "cell_type": "markdown",
      "metadata": {
        "id": "E2Uyf0gYoIK7",
        "colab_type": "text"
      },
      "source": [
        "Si A y B son matrices diagonales de nxn, entonces det AB=det A det B. \n",
        "\n",
        "Si A y B son matrices triangulares inferiores, entonces AB=det A det B. "
      ]
    },
    {
      "cell_type": "code",
      "metadata": {
        "id": "3y4O6h_-o2bH",
        "colab_type": "code",
        "colab": {
          "base_uri": "https://localhost:8080/",
          "height": 476
        },
        "outputId": "df7da644-fd0b-46dc-c4af-6167fff6387d"
      },
      "source": [
        "import numpy as np\n",
        "#primero pedimos que se nos den las matrices \n",
        "print(\"recuerde que deben ser matrices cuadradas y diagonales\")\n",
        "filas1 = int(input (\"Indique el número de filas y columnas de la matriz: \"))\n",
        "\n",
        "\n",
        "#creamos las matrices en las que se guardarán los valores que el usuario proporcione y los de la suma\n",
        "A = np.zeros((filas1,filas1))    \n",
        "B = np.zeros((filas1,filas1))   \n",
        " #llenamos la matriz 1 con los datos del usuario\n",
        "print (\"Ingrese la primer matriz\")\n",
        "\n",
        "for i in range(filas1):\n",
        "        for j in range(filas1):\n",
        "            A[i][j] = float(input('Elemento (%d,%d): ' % (i, j)))\n",
        "print( \"su matriz 1 es:\")\n",
        "print(A)\n",
        "#llenamos la matriz 2\n",
        "print (\"Ingrese la segunda matriz\")\n",
        "for i in range(filas1):\n",
        "        for j in range(filas1):\n",
        "            B[i][j] = float(input('Elemento (%d,%d): ' % (i, j)))\n",
        "print( \"su matriz 2 es:\")\n",
        "print(B)\n",
        "\n",
        "\n",
        "C = A.dot(B)\n",
        "print(\"El producto de las matrices es:\")\n",
        "    \n",
        "print (C)\n",
        "\n",
        "print(\"El determinante de su matriz A es:\")\n",
        "m= np.linalg.det(A)\n",
        "print(m)\n",
        "\n",
        "print(\"El determinante de su matriz B es:\")\n",
        "n= np.linalg.det(B)\n",
        "print(n)\n",
        "\n",
        "print(\"El determinante de su matriz A*B es:\")\n",
        "l= np.linalg.det(C)\n",
        "print(l)\n"
      ],
      "execution_count": null,
      "outputs": [
        {
          "output_type": "stream",
          "text": [
            "recuerde que deben ser matrices cuadradas y diagonales\n",
            "Indique el número de filas y columnas de la matriz: 2\n",
            "Ingrese la primer matriz\n",
            "Elemento (0,0): 2\n",
            "Elemento (0,1): 3\n",
            "Elemento (1,0): 0\n",
            "Elemento (1,1): 3\n",
            "su matriz 1 es:\n",
            "[[2. 3.]\n",
            " [0. 3.]]\n",
            "Ingrese la segunda matriz\n",
            "Elemento (0,0): 3\n",
            "Elemento (0,1): 4\n",
            "Elemento (1,0): 0\n",
            "Elemento (1,1): 3\n",
            "su matriz 2 es:\n",
            "[[3. 4.]\n",
            " [0. 3.]]\n",
            "El producto de las matrices es:\n",
            "[[ 6. 17.]\n",
            " [ 0.  9.]]\n",
            "El determinante de su matriz A es:\n",
            "6.0\n",
            "El determinante de su matriz B es:\n",
            "9.000000000000002\n",
            "El determinante de su matriz A*B es:\n",
            "54.00000000000001\n"
          ],
          "name": "stdout"
        }
      ]
    },
    {
      "cell_type": "markdown",
      "metadata": {
        "id": "SmK11jwsqwGI",
        "colab_type": "text"
      },
      "source": [
        "No se cumple en general que el det (A + B)=det A + det B"
      ]
    },
    {
      "cell_type": "code",
      "metadata": {
        "id": "6F1tMr4BrdHc",
        "colab_type": "code",
        "colab": {
          "base_uri": "https://localhost:8080/",
          "height": 204
        },
        "outputId": "ecf89577-1d68-4407-ac59-4a719b6e9d00"
      },
      "source": [
        "\n",
        "import numpy as np\n",
        "\n",
        "A= np.array([[11,2],[0,1]])\n",
        "print(A)\n",
        "\n",
        "#sacamos el determinante\n",
        "print(\"El determinante de su matriz es:\")\n",
        "d= np.linalg.det(A)\n",
        "print(d)\n",
        "\n",
        "S= np.array([[23,12],[11,3]])\n",
        "print(S)\n",
        "\n",
        "#sacamos el determinante\n",
        "print(\"El determinante de su matriz es:\")\n",
        "m= np.linalg.det(S)\n",
        "print(m)\n",
        "\n",
        "print(\"La suma de las matrices es:\")\n",
        "T=A+S\n",
        "\n",
        "print(\"El determinante de su matriz suma es:\")\n",
        "o= np.linalg.det(T)\n",
        "print(o)"
      ],
      "execution_count": null,
      "outputs": [
        {
          "output_type": "stream",
          "text": [
            "[[11  2]\n",
            " [ 0  1]]\n",
            "El determinante de su matriz es:\n",
            "11.000000000000002\n",
            "[[23 12]\n",
            " [11  3]]\n",
            "El determinante de su matriz es:\n",
            "-62.99999999999999\n",
            "La suma de las matrices es:\n",
            "El determinante de su matriz suma es:\n",
            "-17.999999999999996\n"
          ],
          "name": "stdout"
        }
      ]
    },
    {
      "cell_type": "markdown",
      "metadata": {
        "id": "6R1EMSFKtpoU",
        "colab_type": "text"
      },
      "source": [
        "Si dos filas (columnas) de A son iguales, entonces det(A) = 0"
      ]
    },
    {
      "cell_type": "code",
      "metadata": {
        "id": "mtUNg_3UuCf6",
        "colab_type": "code",
        "colab": {
          "base_uri": "https://localhost:8080/",
          "height": 85
        },
        "outputId": "d8b0cc1d-2696-4946-e46d-145a1554b276"
      },
      "source": [
        "S= np.array([[23,12],[23,12]])\n",
        "print(S)\n",
        "\n",
        "#sacamos el determinante\n",
        "print(\"El determinante de su matriz es:\")\n",
        "m= np.linalg.det(S)\n",
        "print(m)"
      ],
      "execution_count": null,
      "outputs": [
        {
          "output_type": "stream",
          "text": [
            "[[23 12]\n",
            " [23 12]]\n",
            "El determinante de su matriz es:\n",
            "0.0\n"
          ],
          "name": "stdout"
        }
      ]
    },
    {
      "cell_type": "markdown",
      "metadata": {
        "id": "i9e4iz6luYaf",
        "colab_type": "text"
      },
      "source": [
        "El determinante de una matriz con un escalar es el escalar por el determinante de la matriz, es decir:\n",
        "\n",
        "Si C= $\\tau$*$A_{n\\times n}$ ,  \n",
        "entonces det(C)= $\\tau$ * det($A_{n\\times n}$)\n",
        "\n",
        "Estas son solo algunas de las propiedades que los determinantes poseen.\n",
        "\n",
        "\n",
        "\n",
        "## **Cálculo de determinantes por el método de desarrollo por menores.**\n",
        "\n",
        "Para el cálculo de determinantes por este método se toma como referencia una fila o una columna y se va eliminando sus elementos (de acuerdo a su posición) y formando los determinantes de un orden inferior a la matriz original; el cual queda multiplicado por este elemento y su signo de posición. Es decir cada elemento de la fila o la columna seleccionada se multiplica por su determinante menor y el signo de posición. \n",
        "\n",
        "Los signos de posición se obtienen siempre comenzando con positivo y alternando luego. \n",
        "\n",
        "Por ejemplo para una matriz 3x3 los signos serían :\n",
        "\n",
        "\n",
        "\\begin{equation} A_{3\\times 3} = \n",
        "\\begin{pmatrix}\n",
        "+ & - & +  \\\\\n",
        "- & + & - \\\\\n",
        "+ & - & +\n",
        "\\end{pmatrix}\n",
        "\\end{equation}\n",
        "\n",
        "Para una matriz de 4x4 se tiene:\n",
        "\n",
        "\\begin{equation} A_{4\\times 4} = \n",
        "\\begin{pmatrix}\n",
        "+ & - & + & - \\\\\n",
        "- & + & - & + \\\\\n",
        "+ & - & + & - \\\\\n",
        "- & + & - & + \n",
        "\\end{pmatrix}\n",
        "\\end{equation}\n",
        "\n",
        "Para una matriz de 5x5 se tiene:\n",
        "\n",
        "\\begin{equation} A_{5\\times 5} = \n",
        "\\begin{pmatrix}\n",
        "+ & - & + & - & +\\\\\n",
        "- & + & - & + & - \\\\\n",
        "+ & - & + & - & + \\\\\n",
        "- & + & - & + & - \\\\\n",
        "+ & - & + & - & +\n",
        "\\end{pmatrix}\n",
        "\\end{equation}\n",
        "\n",
        "y asi sucesivamente se lleva a cabo el procedimiento antes descrito, por ejemplo calcularemos el determinante de una matriz de 3x3.\n",
        "\n",
        "\\begin{equation} A_{3\\times 3} = \n",
        "\\begin{pmatrix}\n",
        "a_{11} & a_{12} & a_{13} \\\\\n",
        "a_{21}& a_{22} & a_{23}\\\\\n",
        "a_{31}& a_{32}& a_{33}\n",
        "\\end{pmatrix}\n",
        "\\end{equation}\n",
        "\n",
        "Entonces como primer paso tomamos el primer elemento y lo multiplicamos por el determinante de la matriz que se obtiene al eliminar la primera fila y la primer columna, es decir:\n",
        "\n",
        "- primer elemento del determinante :\n",
        "\n",
        "\\begin{equation}\n",
        "a_{11}*\\begin{vmatrix}\n",
        "a_{22} & a_{23}\\\\\n",
        "a_{32} & a_{33}\n",
        "\\end{vmatrix}= + a_{11}*[(a_{22}*a_{33})-(a_{23}*a_{32})]=a\n",
        "\\end{equation}\n",
        "\n",
        "- segundo elemento del determinante :\n",
        "para este se toma el segundo elemento de la matriz y se multiplica por el determinante de la matriz que resta al quitar el primer renglón y la segunda columna.\n",
        "\n",
        "\n",
        "\\begin{equation}\n",
        "-a_{12}*\\begin{vmatrix}\n",
        "a_{21} & a_{23}\\\\\n",
        "a_{31} & a_{33}\n",
        "\\end{vmatrix}= - a_{12}*[(a_{21}*a_{33})-(a_{23}*a_{31})]=b\n",
        "\\end{equation}\n",
        "\n",
        "- tercer elemento del determinante :\n",
        "para este se toma el tercer elemento de la matriz y se multiplica por el determinante de la matriz que resta al quitar el primer renglón y la tercer columna.\n",
        "\n",
        "\\begin{equation}\n",
        "+a_{13}*\\begin{vmatrix}\n",
        "a_{21} & a_{22}\\\\\n",
        "a_{31} & a_{32}\n",
        "\\end{vmatrix}= a_{13}*[(a_{21}*a_{32})-(a_{22}*a_{31})]=c\n",
        "\\end{equation}\n",
        "\n",
        "\n",
        "Todo lo anterior tomando en cuenta los signos de los elemntos según la posición del elemnto y el signo qe le corresponde por lo que se explico al inicio del método. \n",
        "Por último se obtiene que:\n",
        "\n",
        "\n",
        "\\begin{equation} det(A) = \n",
        "\\begin{pmatrix}\n",
        "a_{11} & a_{12} & a_{13} \\\\\n",
        "a_{21}& a_{22} & a_{23}\\\\\n",
        "a_{31}& a_{32}& a_{33}\n",
        "\\end{pmatrix} = \\pm a \\pm b \\pm c\n",
        "\\end{equation}\n",
        "\n",
        "De manera similar se hace lo anterior con matrices de orden maor hasta que se logre disminuir a un orden en el que sea mas fácil calcular el determinante."
      ]
    },
    {
      "cell_type": "markdown",
      "metadata": {
        "id": "LCs2APyMyoQu",
        "colab_type": "text"
      },
      "source": [
        "\n",
        "## Referencias\n",
        "\n",
        "* Kolman, B., & Hill, D. R. (2006). Álgebra Lineal. México: Pearson.\n",
        "\n",
        "* S., S. I., & Godoy, J. J. (2012). Álgebra Lineal. México: McGrawll -Hill Companies.\n"
      ]
    }
  ]
}