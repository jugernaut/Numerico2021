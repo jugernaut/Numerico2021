{
  "nbformat": 4,
  "nbformat_minor": 0,
  "metadata": {
    "colab": {
      "name": "04_EigenvaloresyEigenvectores.ipynb",
      "provenance": [],
      "include_colab_link": true
    },
    "kernelspec": {
      "name": "python3",
      "display_name": "Python 3"
    }
  },
  "cells": [
    {
      "cell_type": "markdown",
      "metadata": {
        "id": "view-in-github",
        "colab_type": "text"
      },
      "source": [
        "<a href=\"https://colab.research.google.com/github/jugernaut/Numerico2021/blob/master/Apoyo/AlgebraLineal/04_EigenvaloresyEigenvectores/04_EigenvaloresyEigenvectores.ipynb\" target=\"_parent\"><img src=\"https://colab.research.google.com/assets/colab-badge.svg\" alt=\"Open In Colab\"/></a>"
      ]
    },
    {
      "cell_type": "markdown",
      "metadata": {
        "id": "4vnMnRwYnOLM",
        "colab_type": "text"
      },
      "source": [
        "# Eigenvalores y Eigenvectores\n",
        "## Proyecto PAPIME PE101019\n",
        "\n",
        "*   Autor: \n",
        "  - Jaime Jesús Ortega Ibarra\n",
        "*   Rev: martes sep 17 00:31:43 CDT 2020"
      ]
    },
    {
      "cell_type": "markdown",
      "metadata": {
        "id": "5Nxdv0Qyjikl",
        "colab_type": "text"
      },
      "source": [
        "## Introducción\n",
        "Los Eigenvalores y Eigenvectores son conceptos sumamente empleados en diferentes áreas de las matemáticas aplicadas e ingenierías. La raíz $eigen$ proviene del alemán y significa $propio$, por lo cual podemos definir como Valores propios o valores característicos de una transformación lineal o de una matriz, mientras los eigenvectores pueden ser definidos como vectores propios o vectores característicos de una transformación lineal o de una matriz.\n",
        "\n",
        "### Definición\n",
        "\n",
        "Sea $V$ un espacio vectorial sobre un campo $K$ y sea $T$ una transformación lineal\n",
        "\n",
        "$$T:V \\rightarrow V$$\n",
        "\n",
        "un vector $\\vec{v_{0}}$ $\\ne$ 0 del espacio vectorial $V$ se denomina un eigenvector de T si existe un escalar $\\lambda$ $\\in$ $K$ tal que\n",
        "\n",
        "$$T(\\vec v_{0})= \\lambda \\vec v_{0},$$\n",
        "\n",
        "en este caso $\\lambda \\in K$ se denomina el eigenvalor de la transformación $T$ asociado al eigenvector $\\vec v_{0}$\n",
        "\n",
        "De manera semejante podemos definir los eigenvectores y eigenvalores de una matriz M.\n",
        "\n",
        "Sea $M \\in K_{nxn}$ para algún número natural n, un elemento $\\vec{x} \\in K_{n}$ se denomina un eigenvector de $M$ si existe un escalar $\\lambda \\in K$ tal que\n",
        "\n",
        "$$M \\vec{x} = \\lambda \\vec{x}$$\n",
        "\n",
        "en este caso $\\lambda \\in K$ se denomna eigenvalor de la matriz $M$ asociado al eigenvector $\\vec{x}$.\n",
        " \n"
      ]
    },
    {
      "cell_type": "markdown",
      "metadata": {
        "id": "8ReO5boK_pf_",
        "colab_type": "text"
      },
      "source": [
        "### Ejemplo:\n",
        "Dada una matriz:\n",
        "\\begin{equation}\n",
        "A = \\begin{bmatrix} -1, 3 \\\\ 2, 4 \\end{bmatrix}\n",
        "\\end{equation}\n",
        "Obtener sus Eigenvalores.\n",
        "\n",
        "Se debe obtener la determinante de la matriz, restandole a la diagonal el parámetro $\\lambda$, es decir:\n",
        "\\begin{equation}\n",
        "detA = \\begin{bmatrix} -1 - \\lambda,  3 \\\\ 2, 4 - \\lambda \\end{bmatrix} = (-1 - \\lambda) (4 - \\lambda) - 6 = 0\n",
        "\\end{equation}\n",
        "Desarrollando el producto de binomios\n",
        "\\begin{equation}\n",
        "4 + \\lambda - 4 \\lambda + \\lambda ^2 -6 \n",
        "\\end{equation}\n",
        "\\begin{equation}\n",
        "= \\lambda ^2 - 3 \\lambda -10 = 0\n",
        "\\end{equation}\n",
        "Lo cual factorizando, nos da lo siguiente\n",
        "\\begin{equation}\n",
        "= (\\lambda +2) (\\lambda -5)\n",
        "\\end{equation}\n",
        "$\\therefore$ Nuestros eigenvalores son:\n",
        "\\begin{equation}\n",
        "\\lambda_{1} = -2 \n",
        "\\end{equation}\n",
        "\\begin{equation}\n",
        "\\lambda_{2} = 5\n",
        "\\end{equation}"
      ]
    },
    {
      "cell_type": "markdown",
      "metadata": {
        "id": "pyp34vPwhdwB",
        "colab_type": "text"
      },
      "source": [
        "Dentro del lenguaje de programación $Python$ podemos obtener Valores y Vectores propios, mediante la función linalg de $Numpy$, es decir, podemos obtener un vector que incluye los valores propios de una matriz, además de una matriz con los vectores propios."
      ]
    },
    {
      "cell_type": "code",
      "metadata": {
        "id": "x_ioFYQyhar_",
        "colab_type": "code",
        "colab": {
          "base_uri": "https://localhost:8080/",
          "height": 53
        },
        "outputId": "69dacbc8-b7f4-415f-cd38-37e3bd55422b"
      },
      "source": [
        "from numpy import linalg\n",
        "import numpy as np\n",
        "Matriz = np.array([[1,3,2],[4,1,2],[3,-1,3]])\n",
        "eigenvalores, eigenvectores = linalg.eig(Matriz)\n",
        "print(f'Nuestro vector con eigenvalores es: \\n{eigenvalores}')"
      ],
      "execution_count": null,
      "outputs": [
        {
          "output_type": "stream",
          "text": [
            "Nuestro vector con eigenvalores es: \n",
            "[-2.57358059  5.74856519  1.82501539]\n"
          ],
          "name": "stdout"
        }
      ]
    },
    {
      "cell_type": "markdown",
      "metadata": {
        "id": "3iWcs8JIo8AS",
        "colab_type": "text"
      },
      "source": [
        "### Ejemplo:\n",
        "\\\n",
        "Sea $A$ es una matriz cuadrada. Un eigenvalor de dicha matriz $A$ es un número $r$ que cuando se resta de cada una de las entradas diagonales de $A$, se convierte $A$ en una matriz singular. Restar un escalar $r$ de cada entrada diagonal de $A$ es lo mismo que restar $r$ veces la matriz identidad $I$ de $A$.\n",
        "\n",
        "Por lo tanto, $r$ es un valor propio de $A$ si y solo si $A-rI$ es una matriz singular.\n",
        "\n",
        "\n",
        "\n",
        "Matriz $A$\n",
        "\n",
        "\\begin{equation}\n",
        "A = \\begin{matrix} 5, 1, 1 \\\\ 1, 5, 1 \\\\ 1, 1, 5 \\end{matrix}\n",
        "\\end{equation}\n",
        "\n",
        "Al restar $4$ de cada entrada diagonal se transforma $A$ en la matriz singular\n",
        "\n",
        "\\begin{equation}\n",
        "A = \\begin{matrix} 1, 1, 1 \\\\ 1, 1, 1 \\\\ 1, 1, 1 \\end{matrix}\n",
        "\\end{equation}\n",
        "\n",
        "Por lo tanto, $4$ es un valor propio de $A$."
      ]
    },
    {
      "cell_type": "markdown",
      "metadata": {
        "id": "2J8ecnZgqoM2",
        "colab_type": "text"
      },
      "source": [
        "Dado el ejemplo anterior, de igual manera mediante $Numpy$ podemos obtener los valores propios de la Matriz anteriormente ancreada."
      ]
    },
    {
      "cell_type": "code",
      "metadata": {
        "id": "O04q54cphhi1",
        "colab_type": "code",
        "colab": {
          "base_uri": "https://localhost:8080/",
          "height": 107
        },
        "outputId": "068d5dac-315b-4061-e060-2cc3e5f57274"
      },
      "source": [
        "print(f'\\nNuestra matriz con los eigenvectores es: \\n{eigenvectores}')"
      ],
      "execution_count": null,
      "outputs": [
        {
          "output_type": "stream",
          "text": [
            "\n",
            "Nuestra matriz con los eigenvectores es: \n",
            "[[ 0.70643716 -0.60432967 -0.45736161]\n",
            " [-0.52518953 -0.68232213 -0.57693279]\n",
            " [-0.47447076 -0.41136622  0.676734  ]]\n"
          ],
          "name": "stdout"
        }
      ]
    },
    {
      "cell_type": "markdown",
      "metadata": {
        "id": "7GCVOGuDlxwg",
        "colab_type": "text"
      },
      "source": [
        "Para mayor información, se recomienda al lector consultar los siguientes sitios:\n",
        "- https://www.cimat.mx/~joaquin/mn11/clase11.pdf\n",
        "- https://sites.google.com/site/metalmetnumericos/home/unidad-3/3-7-obtencion-de-eigenvalores-y-eigenvectores\n",
        "- https://numpy.org/doc/stable/reference/generated/numpy.linalg.eig.html"
      ]
    }
  ]
}