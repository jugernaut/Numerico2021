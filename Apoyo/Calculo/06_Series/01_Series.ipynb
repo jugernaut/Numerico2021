{
  "nbformat": 4,
  "nbformat_minor": 0,
  "metadata": {
    "colab": {
      "name": "05_Sucesiones_y_Series.ipynb",
      "provenance": [],
      "collapsed_sections": []
    },
    "kernelspec": {
      "display_name": "Python 3",
      "language": "python",
      "name": "python3"
    },
    "language_info": {
      "codemirror_mode": {
        "name": "ipython",
        "version": 3
      },
      "file_extension": ".py",
      "mimetype": "text/x-python",
      "name": "python",
      "nbconvert_exporter": "python",
      "pygments_lexer": "ipython3",
      "version": "3.7.6"
    }
  },
  "cells": [
    {
      "cell_type": "markdown",
      "metadata": {
        "colab_type": "text",
        "id": "MfrLEZ67VFAW"
      },
      "source": [
        "# Series\n",
        "## Proyecto PAPIME PE101019\n",
        "\n",
        "*   Autores: \n",
        "    - Ingrid Pamela Ruiz Puga\n",
        "    - Luis M. de la Cruz Salas\n",
        "*   Rev: sáb sep 12 08:30:56 CDT 2020"
      ]
    },
    {
      "cell_type": "code",
      "metadata": {
        "id": "-scqNcep1ysA",
        "colab_type": "code",
        "colab": {}
      },
      "source": [
        "import os, sys\n",
        "sys.path.insert(0, os.path.abspath('../../Utils'))\n",
        "\n",
        "from sympy import Symbol, limit, oo\n",
        "import numpy as np\n",
        "import matplotlib.pyplot as plt\n",
        "import gutils as vis\n",
        "%matplotlib inline"
      ],
      "execution_count": null,
      "outputs": []
    },
    {
      "cell_type": "markdown",
      "metadata": {
        "id": "9LYS696p1ysF",
        "colab_type": "text"
      },
      "source": [
        "Una serie matemática es la expresión de la **suma del número infinito de términos de una sucesión**.\n",
        "\n",
        "La suma hasta un término específico cualquiera se llama suma parcial. \n",
        "\n",
        "Si las sumas parciales de una serie infinita se aproximan cada vez más a un numero $k$, de modo que tal que si la serie continúa, la suma puede acercarse a $k$ tanto como se desee; a esto se le conoce como el límite de las sumas parciales o el límite de la serie infinita (suma al infinito, forma abreviada para designar a su límite pues realizar la suma infinita es imposible).\n",
        "\n",
        "### Definición de serie\n",
        "Sea $a_n$ una sucesión de números reales. Para cada $n \\in N$, definimos $$S_n := \\sum a_n$$ como la serie $S_n$  compuesta por la suma de todos los elementos en la sucesión $a_n$.\n",
        "\n",
        "### Convergencia de series\n",
        "Diremos que una serie converge cuando una vez sumados el mayor número de elementos posibles el resultado se acerca cada vez más a un número $S$. Formalmente escribimos:\n",
        "\n",
        "Una serie $S_n$ es convergente si $\\exists S $ tal que \n",
        "$$\\lim_{n \\to \\infty} S_n = S $$ \n",
        "Por lo tanto $S$ es el valor suma de la serie $S_n$ y se escribe de la siguiente manera\n",
        "\n",
        "$$\\sum_{n=1}^{\\infty}a_n= S$$</p>\n",
        "\n",
        "### Condición para convergencia de una serie\n",
        "**Proposición:** Para que una serie $S_n$ sea convergente es necesario que la sucesión sea convergente, es decir:\n",
        "$\\lim_{n \\to \\infty} a_n = 0 $.\n",
        "\n",
        "### Convergencia absoluta\n",
        "Una serie $\\sum a_n$ es absolutamente convergente si la serie  $\\sum |a_n| $ es convergente.\n"
      ]
    },
    {
      "cell_type": "markdown",
      "metadata": {
        "id": "CKc-SFvQ1ysH",
        "colab_type": "text"
      },
      "source": [
        "### Ejemplo 1.\n",
        "La serie $\\displaystyle \\sum_{n=1}^{\\infty}\\frac{\\sin( n) }{n^2}$ es absolutamente convergente."
      ]
    },
    {
      "cell_type": "code",
      "metadata": {
        "id": "Pkw9XYBS1ysI",
        "colab_type": "code",
        "colab": {},
        "outputId": "326efe6d-4fcf-4720-d56a-f6218dd0df7a"
      },
      "source": [
        "def s1(N):\n",
        "    suma = 0\n",
        "    for n in range(1,N):\n",
        "        suma += np.fabs(np.sin(n) / n**2)\n",
        "    return suma\n",
        "\n",
        "inter = np.arange(1,101,1)\n",
        "valor = [s1(S) for S in inter]\n",
        "\n",
        "par = [{'title':'S = {}'.format(valor[-1]), \n",
        "        'xlabel':'$n$',\n",
        "        'ylabel':'$S$'}\n",
        "      ]\n",
        "\n",
        "graf = vis.planoCartesiano(par=par)\n",
        "graf.scatter(x = inter, y= valor)\n",
        "graf.show()"
      ],
      "execution_count": null,
      "outputs": [
        {
          "output_type": "display_data",
          "data": {
            "image/png": "[encoded data removed]",
            "text/plain": [
              "<Figure size 720x360 with 1 Axes>"
            ]
          },
          "metadata": {
            "tags": [],
            "needs_background": "light"
          }
        }
      ]
    },
    {
      "cell_type": "markdown",
      "metadata": {
        "colab_type": "text",
        "id": "iaF_P6UJllZ1"
      },
      "source": [
        "### Convergencia condicional\n",
        "Una serie  $\\sum a_n$ es **condicionalmente convergente** si y sólo si la serie converge pero no absolutamente.\n",
        "\n",
        "### Convergencia de series infinitas\n",
        "Una serie infinita puede converger en su límite de tres formas:\n",
        "\n",
        "1.   Las sumas parciales se acercan al límite pero no lo alcanzan en realidad, es decir, nunca lo sobrepasan.\n",
        "2.   Las sumas parciales alcanzan el límite.\n",
        "3.   Las sumas parciales sobrepasan al límite antes de converger.\n",
        "\n",
        "### Divergencia\n",
        "En este caso diremos que una serie **diverge** cuando el límite de la serie no existe o es infinito, es decir: \n",
        "$$\\lim_{x \\to \\infty} S_n = \\infty $$ \n",
        "\n",
        "Si una serie no tiene límite entonces toma el nombre de **oscilante**.\n",
        "\n",
        "Al igual que algunas propiedades de las sucesiones, las series son *distributivas*, *aditivas* y *lineales*."
      ]
    },
    {
      "cell_type": "markdown",
      "metadata": {
        "id": "GOV3LdF21ysN",
        "colab_type": "text"
      },
      "source": [
        "### Ejemplo 2. Serie geométrica.\n",
        "Una **Serie geométrica** : Es aquella cuyos términos forman una progresión geométrica, es decir, cada término de la serie es igual al anterior multiplicado por una constante. La fórmula es la siguiente:\n",
        "\n",
        "$$\\sum_{k=0}^{n} a r^k= a \\cdot \\frac{1-r^{n+1}}{1-r}$$\n",
        "\n",
        "Una serie geométrica mostrada **diverge** si $r$ es mayor o igual a $1$. Por otro lado, si $|r| < 1$, entonces dicha serie converge a $\\displaystyle \\frac{a}{1-r}$.\n",
        "\n",
        "Por ejemplo: $\\displaystyle \\sum_{k=0}^{292} 3  \\frac{1}{6} ^k$\n",
        "\n",
        "La serie converge a: $\\displaystyle \\frac{a}{1-r}= \\frac{3}{1-\\frac{1}{6}}=3.6$\n",
        "\n",
        "Veamos:"
      ]
    },
    {
      "cell_type": "code",
      "metadata": {
        "colab_type": "code",
        "id": "TyEWcppw627s",
        "colab": {
          "base_uri": "https://localhost:8080/",
          "height": 35
        },
        "outputId": "d956dcb5-c20b-423e-de56-857d6c9f81b1"
      },
      "source": [
        "def seriegeometrica(inicio,final):\n",
        "    suma = 0\n",
        "    for k in range(inicio, final + 1):\n",
        "        suma += 3*((1/6)**k)\n",
        "    return suma\n",
        "\n",
        "seriegeometrica(0,292)"
      ],
      "execution_count": null,
      "outputs": [
        {
          "output_type": "execute_result",
          "data": {
            "text/plain": [
              "3.600000000000001"
            ]
          },
          "metadata": {
            "tags": []
          },
          "execution_count": 3
        }
      ]
    },
    {
      "cell_type": "markdown",
      "metadata": {
        "colab_type": "text",
        "id": "0sicpvYTAdQN"
      },
      "source": [
        "### Ejemplo 3. Serie Telescópica.\n",
        "\n",
        "Una **Serie telescópica** es aquella tal que cada término se expresa como una diferencia de la forma $a_n = b_n - b_{n+1}$ y se expresa como sigue:\n",
        "\n",
        "$$\\sum_{n=0}^{N} b_n - b_{n+1}= b_0 - b_{N+1}$$\n",
        "\n",
        "Por ejemplo: $\\displaystyle \\sum_{k=1}^{8} \\left( \\frac{1}{k}-\\frac{1}{k+1}\\right)$\n",
        "\n",
        "Al realizar las sumas parciales de la serie anterior es posible observar que el resultado de las sumas parciales anteriores es igual a $\\frac{1}{1} - \\frac{1}{9}$ = 0.888...."
      ]
    },
    {
      "cell_type": "code",
      "metadata": {
        "colab_type": "code",
        "id": "JNb0hHEoLjcC",
        "colab": {
          "base_uri": "https://localhost:8080/",
          "height": 35
        },
        "outputId": "ceb3f087-4b58-4153-c84e-3426031688f7"
      },
      "source": [
        "def serietelescopica(inicio,final):\n",
        "    control = 0\n",
        "    for x in range(inicio, final+1):\n",
        "        control += (1/x)-(1/(x+1))\n",
        "    return control\n",
        "\n",
        "serietelescopica(1,8)\n"
      ],
      "execution_count": null,
      "outputs": [
        {
          "output_type": "execute_result",
          "data": {
            "text/plain": [
              "0.8888888888888888"
            ]
          },
          "metadata": {
            "tags": []
          },
          "execution_count": 4
        }
      ]
    },
    {
      "cell_type": "markdown",
      "metadata": {
        "colab_type": "text",
        "id": "ScUa-khnI_vc"
      },
      "source": [
        "Dado que la serie del ejemplo 3 es una serie telescópica, usando la fórmula obtenemos que \n",
        "\n",
        "$$\\sum_{k=1}^{N} \\left( \\frac{1}{k}-\\frac{1}{k+1}\\right) = 1 - \\frac{1}{N+1},$$\n",
        "\n",
        "y más aún, convergería a $1$ para $N$ muy grande. Esto último se puede comprobar calculando el límite cuando $N$ tiende a $\\infty$ de la última expresión.\n",
        "\n",
        " Primero observaremos la gráfica de la serie para posteriormente calcular el límite."
      ]
    },
    {
      "cell_type": "code",
      "metadata": {
        "colab_type": "code",
        "id": "91j3Y_FjkInr",
        "colab": {
          "base_uri": "https://localhost:8080/",
          "height": 369
        },
        "outputId": "8842983e-5e5c-4fda-e44c-ebfc0f183781"
      },
      "source": [
        "def serietelescopicacompleta(inicio,final):\n",
        "    lista = []\n",
        "    r = 0\n",
        "    for x in range(inicio, final+1):\n",
        "        r += (1/x)-(1/(x+1))\n",
        "        lista.append(r)\n",
        "    return lista\n",
        "\n",
        "x4 = np.arange(1, 9, 1) \n",
        "y4 = serietelescopicacompleta(1,8)\n",
        "par = [{'title':'Serie telescópica', \n",
        "        'xlabel':'$n$',\n",
        "        'ylabel':'$S$',\n",
        "       'ylim':(0,1)}\n",
        "      ]\n",
        "\n",
        "graf = vis.planoCartesiano(par=par)\n",
        "graf.plot(x=[1,8],y=[serietelescopica(1,8),serietelescopica(1,8)], \n",
        "          par={'c':'green','linestyle':'--','lw':2,'label':r'Función constante = 0.88...'})\n",
        "graf.scatter(x=x4, y=y4,\n",
        "             par={'label':r'Serie: $\\sum_{k=1}^{N} \\left( \\frac{1}{k}-\\frac{1}{k+1}\\right)$','lw':1,'color':'red', 'zorder':5})\n",
        "graf.legend(par={'loc':'lower right'})\n",
        "graf.show()"
      ],
      "execution_count": null,
      "outputs": [
        {
          "output_type": "display_data",
          "data": {
            "image/png": "[encoded data removed]",
            "text/plain": [
              "<Figure size 720x360 with 1 Axes>"
            ]
          },
          "metadata": {
            "tags": [],
            "needs_background": "light"
          }
        }
      ]
    },
    {
      "cell_type": "markdown",
      "metadata": {
        "colab_type": "text",
        "id": "U_BaaL_FyAal"
      },
      "source": [
        "En este ejemplo se tiene :\n",
        "$$\\sum_{n=1}^{N} \\frac{1}{n} - \\frac{1}{n+1}=  1 - \\frac{1}{N+1}$$\n",
        "\n",
        "Si calculamos el límite cuando $N$ tiende a $\\infty$ obtenemos que:\n",
        "\n",
        "$$\\displaystyle \\lim_{N \\to \\infty} \\sum_{n=1}^{N} \\frac{1}{n} - \\frac{1}{n+1}= \\lim_{N \\to \\infty}  1 - \\frac{1}{N+1} = 1$$\n",
        "\n",
        "Esto se puede verificar como sigue:"
      ]
    },
    {
      "cell_type": "code",
      "metadata": {
        "cellView": "both",
        "colab_type": "code",
        "id": "o_5ragPUIdFv",
        "colab": {
          "base_uri": "https://localhost:8080/",
          "height": 35
        },
        "outputId": "ad56c733-8636-41a4-8e80-be2973acaddc"
      },
      "source": [
        "x = Symbol('x') \n",
        "y=1-(1/(x+1)) \n",
        "limit(y, x, oo)"
      ],
      "execution_count": null,
      "outputs": [
        {
          "output_type": "execute_result",
          "data": {
            "text/latex": "$\\displaystyle 1$",
            "text/plain": [
              "1"
            ]
          },
          "metadata": {
            "tags": []
          },
          "execution_count": 6
        }
      ]
    },
    {
      "cell_type": "markdown",
      "metadata": {
        "colab_type": "text",
        "id": "n_2EpuODmrJy"
      },
      "source": [
        "### Serie de términos positivos.\n",
        "Es aquella donde cada $a_n  \\geqslant 0$ $\\forall n$  por lo que es una serie siempre creciente.\n",
        "\n",
        "En muchas ocasiones resulta difícil determinar la suma de una serie, por esa razón nos conformamos con saber su carácter, es decir si converge o no.\n",
        "\n",
        "### Criterio de la integral \n",
        "**Proposición:** Sea $\\sum_{n=1}^{\\infty}a_n $ una serie de términos positivos y $f(n)=a_n$ para $n \\geqslant 1 $ una función decreciente entonces:\n",
        "\n",
        "\n",
        "\n",
        "* Si  $\\int_{1}^{ \\infty} f(x) \\cdot dx$ converge, entonces $\\sum_{n=1}^{\\infty}a_n $ converge.\n",
        "* Si  $\\int_{1}^{ \\infty} f(x) \\cdot dx$ diverge, entonces $\\sum_{n=1}^{\\infty}a_n $ diverge.\n",
        "\n",
        "### Teorema Serie P\n",
        "Se dice que  $\\displaystyle \\sum_{n=1}^{a}a_n $ es una **serie P** si tiene la forma $\\displaystyle \\sum_{n=1}^{a} \\frac{1}{n^p} $ donde $p \\in {\\mathbb{R}}$\n",
        "\n",
        "**Proposición:** La serie P converge si \n",
        "$ p> 1$ y diverge si $p \\leq 1$."
      ]
    },
    {
      "cell_type": "markdown",
      "metadata": {
        "id": "gDyqaCBh1ysh",
        "colab_type": "text"
      },
      "source": [
        "### Ejemplo 4. \n",
        "La serie armónica $\\sum_{n=1}^{\\infty} \\frac{1}{n} $ diverge.\n",
        "\n",
        "Primero observemos graficamente la sucesión:"
      ]
    },
    {
      "cell_type": "code",
      "metadata": {
        "colab_type": "code",
        "id": "9ub2hDQt0GCo",
        "colab": {
          "base_uri": "https://localhost:8080/",
          "height": 385
        },
        "outputId": "28bbd3ae-c026-4519-f221-1c119c4de08d"
      },
      "source": [
        "f = lambda t: 1/t\n",
        "\n",
        "t = np.linspace(0.5, 6, num=100)\n",
        "t1 = np.array([1, 2, 3, 4, 5 ])\n",
        "\n",
        "y2 = f(t)\n",
        "y3= f(t1)\n",
        "\n",
        "par = [{'title':r'Sucesión $y=\\frac{1}{n}$', \n",
        "        'xlabel':'$n$',\n",
        "        'ylabel':'$y$',\n",
        "       'ylim':(0,1)}\n",
        "      ]\n",
        "\n",
        "graf = vis.planoCartesiano(par=par)\n",
        "graf.plot(x=t, y=y2, par={'c':'red','linestyle':'-', 'lw':2,'label':'Función constante 0'})\n",
        "graf.bar(x=t1, y=y3)\n",
        "graf.annotate(par={'s':'1', 'xy':(1, 1), 'xytext':(-20,20), 'fontsize':20,\n",
        "            'textcoords':'offset points', 'ha':'center', 'va':'bottom',\n",
        "            'bbox':{'boxstyle':'round','pad':0.2, 'fc':'yellow', 'alpha':0.85},\n",
        "            'arrowprops':{'arrowstyle':'->', 'connectionstyle':'arc3,rad=0.5', \n",
        "                           'color':'black'}})\n",
        "graf.annotate(par={'s':r'$\\frac{1}{2}$', 'xy':(2, 0.5), 'xytext':(-20,20), 'fontsize':20,\n",
        "            'textcoords':'offset points', 'ha':'center', 'va':'bottom',\n",
        "            'bbox':{'boxstyle':'round','pad':0.2, 'fc':'yellow', 'alpha':0.85},\n",
        "            'arrowprops':{'arrowstyle':'->', 'connectionstyle':'arc3,rad=0.5', \n",
        "                           'color':'black'}})\n",
        "graf.annotate(par={'s':r'$\\frac{1}{3}$', 'xy':(3, 0.33), 'xytext':(-20,20), 'fontsize':20,\n",
        "            'textcoords':'offset points', 'ha':'center', 'va':'bottom',\n",
        "            'bbox':{'boxstyle':'round','pad':0.2, 'fc':'yellow', 'alpha':0.85},\n",
        "            'arrowprops':{'arrowstyle':'->', 'connectionstyle':'arc3,rad=0.5', \n",
        "                           'color':'black'}})\n",
        "graf.annotate(par={'s':r'$\\frac{1}{4}$', 'xy':(4, 0.25), 'xytext':(-20,20), 'fontsize':20,\n",
        "            'textcoords':'offset points', 'ha':'center', 'va':'bottom',\n",
        "            'bbox':{'boxstyle':'round','pad':0.2, 'fc':'yellow', 'alpha':0.85},\n",
        "            'arrowprops':{'arrowstyle':'->', 'connectionstyle':'arc3,rad=0.5', \n",
        "                           'color':'black'}})\n",
        "graf.annotate(par={'s':r'$\\frac{1}{5}$', 'xy':(5, 0.2), 'xytext':(-20,20), 'fontsize':20,\n",
        "            'textcoords':'offset points', 'ha':'center', 'va':'bottom',\n",
        "            'bbox':{'boxstyle':'round','pad':0.2, 'fc':'yellow', 'alpha':0.85},\n",
        "            'arrowprops':{'arrowstyle':'->', 'connectionstyle':'arc3,rad=0.5', \n",
        "                           'color':'black'}})\n",
        "graf.show()"
      ],
      "execution_count": null,
      "outputs": [
        {
          "output_type": "stream",
          "text": [
            "/home/luiggi/GitSites/Prometeo/Utils/gutils.py:182: MatplotlibDeprecationWarning: The 's' parameter of annotate() has been renamed 'text' since Matplotlib 3.3; support for the old name will be dropped two minor releases later.\n",
            "  return self.__ax[n-1].annotate(**par)\n"
          ],
          "name": "stderr"
        },
        {
          "output_type": "display_data",
          "data": {
            "image/png": "[encoded data removed]",
            "text/plain": [
              "<Figure size 720x360 with 1 Axes>"
            ]
          },
          "metadata": {
            "tags": [],
            "needs_background": "light"
          }
        }
      ]
    },
    {
      "cell_type": "markdown",
      "metadata": {
        "colab_type": "text",
        "id": "3gCgg6NLU3JU"
      },
      "source": [
        "La gráfica de la serie con las sumas parciales es la que sigue:"
      ]
    },
    {
      "cell_type": "code",
      "metadata": {
        "colab_type": "code",
        "id": "2gwsRzAVU2EX",
        "colab": {
          "base_uri": "https://localhost:8080/",
          "height": 369
        },
        "outputId": "9c4b0ed9-a06e-448a-9ee7-e986f2d4fd96"
      },
      "source": [
        "def f(inicio, final):\n",
        "    lista = []\n",
        "    r = 0\n",
        "    for x in range(inicio, final+1):\n",
        "        r += (1/x)\n",
        "        lista.append(r)\n",
        "    return lista\n",
        "\n",
        "x4 = np.arange(1, 21, 1) \n",
        "y4=f(1,20)\n",
        "par = [{'title':r'Serie armonica de $\\frac{1}{n}$', \n",
        "        'xlabel':'$n$',\n",
        "        'ylabel':'$S$',\n",
        "       'ylim':(0,5)}\n",
        "      ]\n",
        "y4\n",
        "graf = vis.planoCartesiano(par=par)\n",
        "graf.plot(x=x4,y=y4, par={'c':'green','linestyle':'--','lw':1})\n",
        "graf.scatter(x=x4, y=y4,par={'label':r'Serie: $\\sum_{n=1}^{\\infty} \\left( \\frac{1}{n}\\right)$','lw':1,'color':'red', 'zorder':0})\n",
        "graf.legend(par={'loc':'lower right'})\n",
        "graf.show()"
      ],
      "execution_count": null,
      "outputs": [
        {
          "output_type": "display_data",
          "data": {
            "image/png": "[encoded data removed]",
            "text/plain": [
              "<Figure size 720x360 with 1 Axes>"
            ]
          },
          "metadata": {
            "tags": [],
            "needs_background": "light"
          }
        }
      ]
    },
    {
      "cell_type": "markdown",
      "metadata": {
        "id": "FZR_dkQp1ysp",
        "colab_type": "text"
      },
      "source": [
        "Es importante notar que aunque la serie crece a distintas velocidades no converge en algún punto. Puede ser sencillo verificar esto utilizando algunos pasos algebraicos donde será claro que se sumará una constante infinitamente a la serie. Intente probar esto.\n",
        "\n"
      ]
    },
    {
      "cell_type": "markdown",
      "metadata": {
        "colab_type": "text",
        "id": "P3zplscY_-Xd"
      },
      "source": [
        "###  Criterio de la razón\n",
        "\n",
        "Sea  $\\sum_{n=1}^{\\infty}a_n $  una serie de términos positivos y sea \n",
        "$\\displaystyle r= \\lim_{n \\to \\infty} \\frac{a_{n+1}}{a_n}$, entonces:\n",
        "\n",
        "*   Si $r<1$ entonces $\\sum_{n=1}^{\\infty}a_n $  converge\n",
        "*   Si $r>1$ entonces $\\sum_{n=1}^{\\infty}a_n $ diverge"
      ]
    },
    {
      "cell_type": "markdown",
      "metadata": {
        "id": "FJpynfLq1ysr",
        "colab_type": "text"
      },
      "source": [
        "### Ejemplo 5.\n",
        "Determinar si la siguiente serie converge o diverge. \n",
        "\n",
        "$$\\sum_{n=1}^{\\infty} \\frac{k^k}{k!} $$ \n",
        "\n",
        "Calculemos $r$:\n",
        "\n",
        "$$\n",
        "\\begin{eqnarray}\n",
        "r = \\lim_{k \\to \\infty} \\frac{a_{n+1}}{a_n}\n",
        "  & = & \\lim_{k \\to \\infty} \\frac{(k+1)^{k+1} / (k+1)!}{k^k / k!} \\\\\n",
        " r & = & \\lim_{k \\to \\infty} \\frac{{k!(k+1)^{k}}{(k+1)}}{{k^k}(k+1){k!}} \\\\\n",
        " r & = & \\lim_{k \\to \\infty} \\left( 1+ \\frac{1}{k}\\right) ^k\n",
        "\\end{eqnarray}\n",
        "$$\n",
        "\n",
        "¿Puede calcular este límite? "
      ]
    },
    {
      "cell_type": "code",
      "metadata": {
        "colab_type": "code",
        "id": "i-wVC0kKS_IR",
        "colab": {
          "base_uri": "https://localhost:8080/",
          "height": 35
        },
        "outputId": "29a8f26f-db99-42fd-e311-8d37c9012fd4"
      },
      "source": [
        "k = Symbol('x') \n",
        "y=(1+(1/k))**k \n",
        "limit(y, k, oo)"
      ],
      "execution_count": null,
      "outputs": [
        {
          "output_type": "execute_result",
          "data": {
            "text/latex": "$\\displaystyle e$",
            "text/plain": [
              "E"
            ]
          },
          "metadata": {
            "tags": []
          },
          "execution_count": 17
        }
      ]
    },
    {
      "cell_type": "markdown",
      "metadata": {
        "id": "Xt7SW-DN1ysw",
        "colab_type": "text"
      },
      "source": [
        "Entonces $r = e >1$ por lo que según el criterio de la razón la serie $a_n$ diverge."
      ]
    },
    {
      "cell_type": "markdown",
      "metadata": {
        "colab_type": "text",
        "id": "0GxGM0DUZGu0"
      },
      "source": [
        "### Serie alternada.\n",
        "Se dice que una serie es **alternada** cuando sus términos son alternativamente positivos y negativos, por ejemplo $s_n$ es alternada si:\n",
        "\n",
        "$$\\sum_{n=1}^{\\infty}(-1)^{n+1}s_n= s_1-s_2+s_3-s_4+...$$\n",
        "\n",
        "### Criterio de Leibniz\n",
        "**Proposición:** Una serie alternada $\\displaystyle \\sum_{n=1}^{\\infty}(-1)^{n+1}s_n$ tal que $s_n>0$ es convergente si cumple las siguientes condiciones:\n",
        "*   $\\displaystyle s_n \t\\geq s_{n+1} \\forall  n $ es decir, si $s_n$ es decreciente.\n",
        "*   $\\displaystyle \\lim_{k \\to +\\infty} s_n = 0$"
      ]
    },
    {
      "cell_type": "markdown",
      "metadata": {
        "id": "2k54s59n1ysx",
        "colab_type": "text"
      },
      "source": [
        "### Ejemplo 6.\n",
        "Determinar si la serie  $\\displaystyle \\sum \\frac{(-1)^n}{\\sqrt{n} }$ es convergente.\n",
        "\n",
        "Se obsreva que la serie es alternada, veámoslo gráficamente:"
      ]
    },
    {
      "cell_type": "code",
      "metadata": {
        "colab_type": "code",
        "id": "Jvqrh0kjqiZY",
        "colab": {
          "base_uri": "https://localhost:8080/",
          "height": 369
        },
        "outputId": "641a2810-f478-4646-a1bf-8ca276f9c35a"
      },
      "source": [
        "f = lambda t: ((-1)**t)/(np.sqrt(t))\n",
        "\n",
        "t = np.linspace(1, 10, num=10)\n",
        "y2 = f(t)\n",
        "\n",
        "par = [{'title':'Serie', \n",
        "        'xlabel':'$n$',\n",
        "        'ylabel':'$S$',\n",
        "       'ylim':(-1,1)}\n",
        "      ]\n",
        "\n",
        "graf = vis.planoCartesiano(par=par)\n",
        "graf.plot(x=t, y=y2,par={'label':r'$\\sum \\frac{(-1)^n}{\\sqrt{n} }$'})\n",
        "graf.legend()\n",
        "graf.show()"
      ],
      "execution_count": null,
      "outputs": [
        {
          "output_type": "display_data",
          "data": {
            "image/png": "[encoded data removed]",
            "text/plain": [
              "<Figure size 720x360 with 1 Axes>"
            ]
          },
          "metadata": {
            "tags": [],
            "needs_background": "light"
          }
        }
      ]
    },
    {
      "cell_type": "markdown",
      "metadata": {
        "id": "9tcCOCra1ys1",
        "colab_type": "text"
      },
      "source": [
        "De la gráfica observamos que la serie es decreciente. Ahora calculemos el límite:"
      ]
    },
    {
      "cell_type": "code",
      "metadata": {
        "colab_type": "code",
        "id": "f25EI5fwtERN",
        "colab": {
          "base_uri": "https://localhost:8080/",
          "height": 35
        },
        "outputId": "c765a171-c902-4ae1-a80b-fc250c1da3c1"
      },
      "source": [
        "x = Symbol('x') \n",
        "y=abs((-1)**x)/(x**(1/2)) \n",
        "limit(y, x, oo)"
      ],
      "execution_count": null,
      "outputs": [
        {
          "output_type": "execute_result",
          "data": {
            "text/latex": "$\\displaystyle 0$",
            "text/plain": [
              "0"
            ]
          },
          "metadata": {
            "tags": []
          },
          "execution_count": 26
        }
      ]
    },
    {
      "cell_type": "markdown",
      "metadata": {
        "colab_type": "text",
        "id": "OIZESH4o0jEs"
      },
      "source": [
        "- Por el criterio de Leibniz esta serie es convergente. \n",
        "- Pero según el criterio de convergencia absoluta tenemos:\n",
        "$$\n",
        "\\sum \\left|\\frac{(-1)^n}{\\sqrt{n}}\\right| = \\sum\\frac{1}{\\sqrt{n}}\n",
        "$$\n",
        "\n",
        "observamos que bajo este criterio la serie es divergente pues utilizando el teorema de la serie P, vemos que\n",
        "$p=\\frac{1}{2} \\leq 1$.\n",
        "\n",
        "De lo anterior se concluye que la serie es condicionalmente convergente."
      ]
    },
    {
      "cell_type": "markdown",
      "metadata": {
        "colab_type": "text",
        "id": "mTvP_bMKtulk"
      },
      "source": [
        "### Ejemplo 7.\n",
        "En un experimento una lámpara que se apaga al cabo de un minuto, luego se prende al cabo de medio minuto, se apaga después de un cuarto de minuto y así sucesivamente en una serie infinita de encendido y apagado. ¿En qué momento convergerá esta serie?\n",
        "\n",
        "La forma que la serie toma es la siguiente:\n",
        "$$1+ \\frac{1}{2}+  \\frac{1}{4} + \\frac{1}{8} + ...$$\n",
        "Por lo que la serie se ve de la siguiente manera:\n",
        "$$\\sum_{n=0}^{\\infty} \\frac{1}{2^n}$$\n",
        "\n",
        "Podemos calcular el límite:"
      ]
    },
    {
      "cell_type": "code",
      "metadata": {
        "colab_type": "code",
        "id": "nsfpiIV2_q4U",
        "colab": {
          "base_uri": "https://localhost:8080/",
          "height": 35
        },
        "outputId": "883a134c-c3e0-408c-bf03-36220861db4b"
      },
      "source": [
        "n = Symbol('x') \n",
        "y = (1/(2**(n)))\n",
        "limit(y, n, oo)"
      ],
      "execution_count": null,
      "outputs": [
        {
          "output_type": "execute_result",
          "data": {
            "text/latex": "$\\displaystyle 0$",
            "text/plain": [
              "0"
            ]
          },
          "metadata": {
            "tags": []
          },
          "execution_count": 28
        }
      ]
    },
    {
      "cell_type": "code",
      "metadata": {
        "colab_type": "code",
        "id": "G673qXLWDIdj",
        "colab": {
          "base_uri": "https://localhost:8080/",
          "height": 369
        },
        "outputId": "4072a0dd-7c5e-4831-ad87-c12662fb673b"
      },
      "source": [
        "f = lambda t: 1/(2**(t))\n",
        "\n",
        "def st(inicio, final):\n",
        "    lista = []\n",
        "    r = 0\n",
        "    for n in range(inicio, final+1):\n",
        "        r += 1/(2**(n))\n",
        "        lista.append(r)\n",
        "    return lista\n",
        "\n",
        "t = np.arange(1, 21, 1) \n",
        "y = f(t)\n",
        "y2 = st(0,19)\n",
        "\n",
        "par = [{'title':r'Lámpara', \n",
        "        'xlabel':'$n$',\n",
        "        'ylabel':'$S$',\n",
        "       'ylim':(-0.1,2.2)}\n",
        "      ]\n",
        "\n",
        "graf = vis.planoCartesiano(par=par)\n",
        "graf.scatter(x=t, y=y,par={'ls':'-','lw':1,'color':'blue', 'zorder':3,'label':r'Sucesión:  $\\frac{1}{2^n}$'})\n",
        "graf.scatter(x=t, y=y2, par={'label':r'Serie:  $\\sum_{n=0}^{\\infty} \\frac{1}{2^n}$','lw':1,'color':'red', 'zorder':0})\n",
        "graf.legend()\n",
        "graf.show()\n",
        "\n"
      ],
      "execution_count": null,
      "outputs": [
        {
          "output_type": "display_data",
          "data": {
            "image/png": "[encoded data removed]",
            "text/plain": [
              "<Figure size 720x360 with 1 Axes>"
            ]
          },
          "metadata": {
            "tags": [],
            "needs_background": "light"
          }
        }
      ]
    },
    {
      "cell_type": "markdown",
      "metadata": {
        "colab_type": "text",
        "id": "CqUWUJ49EUkh"
      },
      "source": [
        "Al realizar la suma de la serie, la lámpara converge en el minuto 2 (puntos rojos).\n",
        "Observamos también que la sucesión es decreciente (puntos azules).\n",
        "\n",
        "Pero la pregunta final será si la lámpara estará prendida o apagada al terminar los dos minutos. La pregunta es interesante pero no es fácil de responder en lo abstracto, pues responder dicha pregunta es análogamente a responder si el último número de $\\pi$ es par o impar. \n",
        "\n",
        "## Referencias\n",
        "\n",
        " \n",
        "*   Banach, S., Cálculo Diferencial e Integral. México: UTEHA, 1991.\n",
        "\n",
        "*   Thompson, Silvanus Phillips, 1851-1916, autor.México : McGraw-Hill Interamericana, 2012.\n",
        "\n",
        "*   Courant, R., John, F., Introducción al Cálculo y al Análisis. México: Editorial Limusa, 1996.\n",
        "\n",
        "* Spivak, M., Cálculo Infinitesimal ($2^{a}$ ed.). México: Reverté, 1998.\n",
        "\n",
        "* Briseño, L., Palmas, Ó., Verdugo, J.,  Una mirada al cálculo a través de las sucesiones ($2^{a}$ ed.). México: Prensas de Ciencias, 2015.\n",
        "\n",
        "\n",
        "\n"
      ]
    },
    {
      "cell_type": "code",
      "metadata": {
        "id": "hv5v-of71ytC",
        "colab_type": "code",
        "colab": {}
      },
      "source": [
        ""
      ],
      "execution_count": null,
      "outputs": []
    }
  ]
}