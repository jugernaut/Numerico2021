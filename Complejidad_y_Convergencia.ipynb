{
  "nbformat": 4,
  "nbformat_minor": 0,
  "metadata": {
    "kernelspec": {
      "display_name": "Python 3.7 (tensorflow)",
      "language": "python",
      "name": "tensorflow"
    },
    "language_info": {
      "codemirror_mode": {
        "name": "ipython",
        "version": 3
      },
      "file_extension": ".py",
      "mimetype": "text/x-python",
      "name": "python",
      "nbconvert_exporter": "python",
      "pygments_lexer": "ipython3",
      "version": "3.7.7"
    },
    "colab": {
      "name": "Complejidad_y_Convergencia.ipynb",
      "provenance": [],
      "include_colab_link": true
    }
  },
  "cells": [
    {
      "cell_type": "markdown",
      "metadata": {
        "id": "view-in-github",
        "colab_type": "text"
      },
      "source": [
        "<a href=\"https://colab.research.google.com/github/jugernaut/Numerico2021/blob/master/Complejidad_y_Convergencia.ipynb\" target=\"_parent\"><img src=\"https://colab.research.google.com/assets/colab-badge.svg\" alt=\"Open In Colab\"/></a>"
      ]
    },
    {
      "cell_type": "markdown",
      "metadata": {
        "id": "ao1k_j_2sMY0",
        "colab_type": "text"
      },
      "source": [
        "# Complejidad y Convergencia \n",
        "Profesor: M.en.C. Miguel Ángel Pérez León.\n",
        "\n",
        "Ayudante: Jesús Iván Coss Calderón.\n",
        "\n",
        "Materia: Análisis Numérico."
      ]
    },
    {
      "cell_type": "markdown",
      "metadata": {
        "id": "gJ73MmHesMY1",
        "colab_type": "text"
      },
      "source": [
        "##  1. Introducción"
      ]
    },
    {
      "cell_type": "markdown",
      "metadata": {
        "id": "gz4zN-o7sMY2",
        "colab_type": "text"
      },
      "source": [
        "Un **algoritmo** es un procedimiento que describe, sin ambiguedad, una serie finita de pasos a realizar en un orden especifico.\n",
        "\n",
        "La finalidad de un algoritmmo es poner en prática algún procedimiento para resolver un problema o **aproximarse a una solución** del problema.\n",
        "\n",
        "**Pseudocódigo** es la forma de representar un algoritmo, sin tener que emplear algún lenguaje de programación en especifico, pero lo suficientemente cercano a este, para que pueda escribirse en un lenguaje de programación con un par de cambios (como el pseudocódigo del algoritmo de Horner).\n",
        "\n",
        "Este pseudocódigo especifica la forma de la entrada por proporcionar y la forma de salida deseada."
      ]
    },
    {
      "cell_type": "markdown",
      "metadata": {
        "id": "EtHhYOvHsMY3",
        "colab_type": "text"
      },
      "source": [
        "### Suma de los N primeros naturales"
      ]
    },
    {
      "cell_type": "markdown",
      "metadata": {
        "id": "5T4wHs0PsMY3",
        "colab_type": "text"
      },
      "source": [
        "No todos los algoritmos numéricos devuelven un resultado\n",
        "satisfactorio, para una entrada elegida.\n",
        "\n",
        "Como consecuencia, en cada algoritmo se incorpora alguna técnica\n",
        "(condición) para saber cuando es que debe detenerse,\n",
        "independientemente del método numérico empleado, esto con la\n",
        "finalidad de **evitar ciclos infinitos**."
      ]
    },
    {
      "cell_type": "markdown",
      "metadata": {
        "id": "Frejj4zDsMY4",
        "colab_type": "text"
      },
      "source": [
        "Escriba el algoritmo para sumas los primeros n numeros naturales"
      ]
    },
    {
      "cell_type": "code",
      "metadata": {
        "id": "so4XKXmSsMY5",
        "colab_type": "code",
        "colab": {},
        "outputId": "8f3765f8-93c4-4346-e804-40380be1c252"
      },
      "source": [
        "n=int(input(\"Ingrese el numero hasta el cual se quiere sumar\\n\"))\n",
        "suma=0\n",
        "for i in range(n):\n",
        "    suma+=i\n",
        "\n",
        "print(\"La suma es: {}\".format(suma))"
      ],
      "execution_count": null,
      "outputs": [
        {
          "output_type": "stream",
          "text": [
            "Ingrese el numero hasta el cual se quiere sumar\n",
            "5\n",
            "La suma es: 10\n"
          ],
          "name": "stdout"
        }
      ]
    },
    {
      "cell_type": "markdown",
      "metadata": {
        "id": "DBRphS9qsMY9",
        "colab_type": "text"
      },
      "source": [
        "Otra forma de algoritmos son los que describen un procedimiento en\n",
        "términos matemáticos, como lo son las **series de Taylor**."
      ]
    },
    {
      "cell_type": "markdown",
      "metadata": {
        "id": "iCC4mkb5sMY-",
        "colab_type": "text"
      },
      "source": [
        "### Serie de Taylor"
      ]
    },
    {
      "cell_type": "markdown",
      "metadata": {
        "id": "EcEefSw6sMY_",
        "colab_type": "text"
      },
      "source": [
        "Es una serie finita de potencias que representa de manera exacta una función $f (x)$ al rededor de un punto $x = c$."
      ]
    },
    {
      "cell_type": "markdown",
      "metadata": {
        "id": "u4c0n2OxsMZA",
        "colab_type": "text"
      },
      "source": [
        "$$ f(x) = f(c) + f^{'}(c)(x-c) + \\frac{f^{''}(c)(x-c)^{2}}{2!} + \\dots + \\frac{f^{n}(c)(x-c)^{n}}{n!} $$"
      ]
    },
    {
      "cell_type": "markdown",
      "metadata": {
        "id": "pg3a1wcrsMZA",
        "colab_type": "text"
      },
      "source": [
        "Si $c = 0$ se trata de la serie de Maclurin."
      ]
    },
    {
      "cell_type": "markdown",
      "metadata": {
        "id": "KOE_AjnrsMZB",
        "colab_type": "text"
      },
      "source": [
        "Esta aproximación de $f (x)$ se conoce como la aproximación de $f (x)$\n",
        "en series de Taylor y dependiendo la derivada sera el grado del\n",
        "polinomio de Taylor. Cabe recalcar, que a mayor grado del polinomio\n",
        "de Taylor sera mayor la exactitud de la aproximación."
      ]
    },
    {
      "cell_type": "markdown",
      "metadata": {
        "id": "bYAf5LYxsMZC",
        "colab_type": "text"
      },
      "source": [
        "### Ejemplo"
      ]
    },
    {
      "cell_type": "markdown",
      "metadata": {
        "id": "FejkWtyxsMZE",
        "colab_type": "text"
      },
      "source": [
        "Obtenga los seis primeros términos de la serie de Taylor para $f(x)= e^{x}$ alrededor del cero."
      ]
    },
    {
      "cell_type": "markdown",
      "metadata": {
        "id": "e8Sv7RlmsMZF",
        "colab_type": "text"
      },
      "source": [
        "**Solución**:\n",
        "    \n",
        "Al obtener las primeras 5 derivadas de la función se tiene \n",
        "\n",
        "$$f(x)= f^{1}(x)=f^{2}(x)=f^{3}(x)=f^{4}(x)=f^{5}(x)= e^{x}$$\n",
        "\n",
        "Posteriormente se evalua en el punto cero ($x=c=0$ )\n",
        "\n",
        "$$f(0)= f^{1}(0)=f^{2}(0)=f^{3}(0)=f^{4}(0)=f^{5}(0)= e^{0}=1$$\n",
        "\n",
        "Lo que da como resultado la siguiente expresión, que representa el\n",
        "polinomio de Taylor de $e^{x}$ al rededor del punto 0.\n",
        "\n",
        "$$ f(x) = 1 + x + \\frac{x^{2}}{2!}+ \\frac{x^{3}}{3!}+ \\frac{x^{4}}{4!}+ \\frac{x^{5}}{5!} + \\dots  $$"
      ]
    },
    {
      "cell_type": "markdown",
      "metadata": {
        "id": "u0bmY0UbsMZG",
        "colab_type": "text"
      },
      "source": [
        "**Solución en python**:"
      ]
    },
    {
      "cell_type": "code",
      "metadata": {
        "id": "eKtMrvK5sMZH",
        "colab_type": "code",
        "colab": {
          "referenced_widgets": [
            "88afcbaf20264190a8f764b0992f3902"
          ]
        },
        "outputId": "abf0a653-e93d-4132-e812-31a09e0c6d1d"
      },
      "source": [
        "import matplotlib.pyplot as plt\n",
        "import numpy as np \n",
        "from scipy.interpolate import approximate_taylor_polynomial\n",
        "from IPython.html.widgets import interact\n",
        "import ipywidgets as widgets\n",
        "\n",
        "#@interact(degree=(0,10))\n",
        "def Taylor(degree):\n",
        "    x = np.linspace(-10.0, 10.0, num=100)\n",
        "    plt.plot(x, np.exp(x), label=\"función exponencial\",color='blue')\n",
        "    aprox_taylor = approximate_taylor_polynomial(np.exp, 0, degree, 1\\\n",
        "                                               ,order=degree+2)\n",
        "    plt.plot(x, aprox_taylor(x), label=\"Aproximación de Taylor de grado \" +str(degree),color='black')\n",
        "    plt.axis([-10, 10, -10, 10])\n",
        "    plt.legend()\n",
        "    plt.xlabel(r\"$x$\")\n",
        "    plt.ylabel(r\"$f(x)$\")\n",
        "    plt.title(\"Aproximación de Taylor \")\n",
        "    plt.grid()\n",
        "\n",
        "interact(Taylor,degree=widgets.IntSlider(min=0,max=10,step=1,value=0))"
      ],
      "execution_count": null,
      "outputs": [
        {
          "output_type": "stream",
          "text": [
            "C:\\Users\\Ivan\\miniconda3\\envs\\tensorflow\\lib\\site-packages\\IPython\\html.py:14: ShimWarning: The `IPython.html` package has been deprecated since IPython 4.0. You should import from `notebook` instead. `IPython.html.widgets` has moved to `ipywidgets`.\n",
            "  \"`IPython.html.widgets` has moved to `ipywidgets`.\", ShimWarning)\n"
          ],
          "name": "stderr"
        },
        {
          "output_type": "display_data",
          "data": {
            "application/vnd.jupyter.widget-view+json": {
              "model_id": "88afcbaf20264190a8f764b0992f3902",
              "version_major": 2,
              "version_minor": 0
            },
            "text/plain": [
              "interactive(children=(IntSlider(value=0, description='degree', max=10), Output()), _dom_classes=('widget-inter…"
            ]
          },
          "metadata": {
            "tags": []
          }
        },
        {
          "output_type": "execute_result",
          "data": {
            "text/plain": [
              "<function __main__.Taylor(degree)>"
            ]
          },
          "metadata": {
            "tags": []
          },
          "execution_count": 3
        }
      ]
    },
    {
      "cell_type": "markdown",
      "metadata": {
        "id": "auIipbwcsMZK",
        "colab_type": "text"
      },
      "source": [
        "De tal manera que la siguiente expresión, se aproxima con 6\n",
        "terminos a $e^{x}$ al rededor del punto 0.\n",
        "\n",
        "$$ f(x) \\approx 1 + x + \\frac{x^{2}}{2!}+ \\frac{x^{3}}{3!}+ \\frac{x^{4}}{4!}+ \\frac{x^{5}}{5!} + \\dots  $$\n",
        "\n",
        "**Ejercicio**:\n",
        "\n",
        "Si se sabe que el valor exacto de $e^{0.5} = 1.6487212707$. Calcula\n",
        "el error relativo porcentual que se comete si se trunca la serie en\n",
        "seis términos. Emplea 6 decimales."
      ]
    },
    {
      "cell_type": "markdown",
      "metadata": {
        "id": "b1PAHIBhsMZL",
        "colab_type": "text"
      },
      "source": [
        "**Solución en python**:"
      ]
    },
    {
      "cell_type": "code",
      "metadata": {
        "id": "m24HWhvpsMZM",
        "colab_type": "code",
        "colab": {}
      },
      "source": [
        "import pandas as pd \n",
        "\n",
        "def ErrorTaylor(x):\n",
        "    ordenes=np.arange(6)\n",
        "    aprox_taylor=np.array([0.0]*6)\n",
        "    func_eval=np.zeros(6)\n",
        "    error=np.zeros_like(aprox_taylor)\n",
        "    for degree in ordenes:\n",
        "        PolTaylor = approximate_taylor_polynomial(np.exp, 0, degree, 1,order=degree+2)\n",
        "        aprox_taylor[degree]=PolTaylor(x)\n",
        "        func_eval[degree]=np.exp(x)\n",
        "        error[degree]=np.abs((aprox_taylor[degree]-func_eval[degree])/func_eval[degree])\n",
        "        \n",
        "    data={\"Termino\":[1,2,3,4,5,6],\"aproximacion\":aprox_taylor,\n",
        "          \"valor real\":func_eval,\"error\":error    \n",
        "    }\n",
        "    tabla=pd.DataFrame(data)\n",
        "    return tabla"
      ],
      "execution_count": null,
      "outputs": []
    },
    {
      "cell_type": "code",
      "metadata": {
        "id": "rIQrztllsMZQ",
        "colab_type": "code",
        "colab": {},
        "outputId": "baeb981d-561f-4121-ade7-db68a83e8fb0"
      },
      "source": [
        "ErrorTaylor(0.5)"
      ],
      "execution_count": null,
      "outputs": [
        {
          "output_type": "execute_result",
          "data": {
            "text/html": [
              "<div>\n",
              "<style scoped>\n",
              "    .dataframe tbody tr th:only-of-type {\n",
              "        vertical-align: middle;\n",
              "    }\n",
              "\n",
              "    .dataframe tbody tr th {\n",
              "        vertical-align: top;\n",
              "    }\n",
              "\n",
              "    .dataframe thead th {\n",
              "        text-align: right;\n",
              "    }\n",
              "</style>\n",
              "<table border=\"1\" class=\"dataframe\">\n",
              "  <thead>\n",
              "    <tr style=\"text-align: right;\">\n",
              "      <th></th>\n",
              "      <th>Termino</th>\n",
              "      <th>aproximacion</th>\n",
              "      <th>valor real</th>\n",
              "      <th>error</th>\n",
              "    </tr>\n",
              "  </thead>\n",
              "  <tbody>\n",
              "    <tr>\n",
              "      <th>0</th>\n",
              "      <td>1</td>\n",
              "      <td>0.944804</td>\n",
              "      <td>1.648721</td>\n",
              "      <td>0.426947</td>\n",
              "    </tr>\n",
              "    <tr>\n",
              "      <th>1</th>\n",
              "      <td>2</td>\n",
              "      <td>1.486893</td>\n",
              "      <td>1.648721</td>\n",
              "      <td>0.098154</td>\n",
              "    </tr>\n",
              "    <tr>\n",
              "      <th>2</th>\n",
              "      <td>3</td>\n",
              "      <td>1.623448</td>\n",
              "      <td>1.648721</td>\n",
              "      <td>0.015329</td>\n",
              "    </tr>\n",
              "    <tr>\n",
              "      <th>3</th>\n",
              "      <td>4</td>\n",
              "      <td>1.645711</td>\n",
              "      <td>1.648721</td>\n",
              "      <td>0.001826</td>\n",
              "    </tr>\n",
              "    <tr>\n",
              "      <th>4</th>\n",
              "      <td>5</td>\n",
              "      <td>1.648429</td>\n",
              "      <td>1.648721</td>\n",
              "      <td>0.000177</td>\n",
              "    </tr>\n",
              "    <tr>\n",
              "      <th>5</th>\n",
              "      <td>6</td>\n",
              "      <td>1.648697</td>\n",
              "      <td>1.648721</td>\n",
              "      <td>0.000015</td>\n",
              "    </tr>\n",
              "  </tbody>\n",
              "</table>\n",
              "</div>"
            ],
            "text/plain": [
              "   Termino  aproximacion  valor real     error\n",
              "0        1      0.944804    1.648721  0.426947\n",
              "1        2      1.486893    1.648721  0.098154\n",
              "2        3      1.623448    1.648721  0.015329\n",
              "3        4      1.645711    1.648721  0.001826\n",
              "4        5      1.648429    1.648721  0.000177\n",
              "5        6      1.648697    1.648721  0.000015"
            ]
          },
          "metadata": {
            "tags": []
          },
          "execution_count": 72
        }
      ]
    },
    {
      "cell_type": "markdown",
      "metadata": {
        "id": "J7F7w4WssMZU",
        "colab_type": "text"
      },
      "source": [
        "##  2. Complejidad."
      ]
    },
    {
      "cell_type": "markdown",
      "metadata": {
        "id": "M4GnymVqsMZV",
        "colab_type": "text"
      },
      "source": [
        "Para poder emplear algoritmos eficientes y que den resultados\n",
        "útiles es necesario emplear algunas herramientas para su análisis.\n",
        "\n",
        "**Definición de Complejidad Computacional**:\n",
        "\n",
        "Es la rama de las ciencias de la computación que estudia de manera teórica, la optimización de los recursos requeridos durante la ejecución de un algoritmo.\n",
        "\n",
        "El análisis se basa en 2 aspectos: el tiempo y el espacio.\n",
        "\n",
        "El tiempo es el periodo transcurrido entre el inicio y la\n",
        "finalización del algoritmo.\n",
        "\n",
        "El espacio es la cantidad de memoria (la medida varia según la\n",
        "máquina) que necesita el algoritmo para su ejecución.\n",
        "\n",
        "**Complejidad Computacional $T(n)$**\n",
        "\n",
        "Es el número de operaciones elementales (*en el caso de análisis\n",
        "numérico las FLOP’s*) en función de la medida n (tamaño de los\n",
        "datos).\n",
        "\n",
        "¿Como se mide?. Una vez que se tiene el algoritmo en forma de\n",
        "pseudocódigo, se puede dar una estimación de cuantas operaciones\n",
        "elementales se realizan en función de la entrada n.\n",
        "\n",
        "Sea cual sea el algoritmo, para llevar a cabo el análisis de la\n",
        "complejidad de dicho algoritmo, normalmente se toma en cuenta dos\n",
        "posibles casos: el peor caso y el caso promedio.\n",
        "\n",
        "**Peor Caso**: se calcula $T(n)$ asumiendo que n es la ”peor” de todas o\n",
        "que de los posibles casos al ejecutar el algoritmo, se cae en el peor de\n",
        "ellos.\n",
        "\n",
        "Caso Promedio: se calcula promediando el tiempo (o espacio)\n",
        "empleado para cada una de las entradas posibles.\n",
        "\n",
        "**Cota superior asintótica**\n",
        "\n",
        "En el análisis de algoritmos una cota superior asintótica es una\n",
        "función que sirve de cota superior de otra función cuando el\n",
        "argumento tiende a infinito.\n",
        "\n",
        "Usualmente se utiliza la notación Landau $O(g(x))$, orden de\n",
        "$g(x)$, o coloquialmente se llama ”Notación O Grande”, para\n",
        "referirse a las funciones acotadas superiormente por la función\n",
        "$g(x)$\n",
        "\n",
        "**Definición de Cota superior asintótica**:\n",
        "\n",
        "$$O(g(x))=\\{ f(x): \\exists x_{0}, c>0 t.q. \\forall \\geq x_{0} \\Rightarrow 0 \\leq | f(x) | \\leq c | g(x) | \\}  $$\n",
        "\n",
        "En el análisis de algoritmos una cota superior asintótica es una función que sirve de cota superior de otra función cuando el argumento tiende a infinito.\n",
        "\n",
        "Usualmente se utiliza la notación Landau $O(g(x))$, orden de $g(x)$, o coloquialmente se llama ”Notación O Grande”, para referirse a las funciones acotadas superiormente por la función $g(x)$\n"
      ]
    },
    {
      "cell_type": "markdown",
      "metadata": {
        "id": "CWAxCFFvsMZW",
        "colab_type": "text"
      },
      "source": [
        "![Asintotica](https://docs.google.com/uc?export=download&id=1XaFRdeBPTpkjAVhCLXvxmByo8Rx4pt8t)"
      ]
    },
    {
      "cell_type": "markdown",
      "metadata": {
        "id": "PBW8PVyGsMZW",
        "colab_type": "text"
      },
      "source": [
        "Como te podrás dar cuenta, la cota superior asintótica nos sirve\n",
        "para definir categorías (orden de complejidad) dentro del\n",
        "desempeño de los mucho algoritmos existentes. Y esto sirve\n",
        "para poder identificar cuales algoritmos son mas eficientes que\n",
        "otros.\n",
        "\n",
        "\n",
        "\n",
        "\n",
        "| orden de Complejidad        | Nombre            | \n",
        "| :-:           |    :-:        | \n",
        "| $O(1) $       | Orden constante | \n",
        "| $O(log n) $   | Orden logarítmico     |\n",
        "| $O(n) $       | Orden lineal      |\n",
        "| $O(n log n) $ | Orden n log n      | \n",
        "| $O( n^{2}) $  | Orden cuadrático      | \n",
        "| $O( n^{a}) $  | Orden polinomial ($a>2$)     | \n",
        "| $O( a^{n}) $  | Orden exponencial ($a>2$)     | \n",
        "| $O( n!)    $  | Orden factorial      | \n",
        "\n",
        "Como te podrás dar cuenta, la cota superior asintótica nos sirve\n",
        "para definir categorías (orden de complejidad) dentro del\n",
        "desempeño de los mucho algoritmos existentes. Y esto sirve\n",
        "para poder identificar cuales algoritmos son mas eficientes que\n",
        "otros.\n"
      ]
    },
    {
      "cell_type": "markdown",
      "metadata": {
        "id": "898ALIjpsMZX",
        "colab_type": "text"
      },
      "source": [
        "![Complejidad](https://docs.google.com/uc?export=download&id=1hF0sx5SPkF1wf6fwhqfr_KNFXxSooXHu)"
      ]
    },
    {
      "cell_type": "markdown",
      "metadata": {
        "id": "DFbSSCXnsMZZ",
        "colab_type": "text"
      },
      "source": [
        "##  3. Estabilidad de algoritmos."
      ]
    },
    {
      "cell_type": "markdown",
      "metadata": {
        "id": "yJuAwl9-sMZa",
        "colab_type": "text"
      },
      "source": [
        "Los algoritmos de interés para el análisis numérico, son aquellos\n",
        "que produzcan resultados precisos.\n",
        "\n",
        "Uno de los criterios que siempre se tratan de imponer sobre un\n",
        "algoritmo, es que los cambios pequeños en los datos iniciales,\n",
        "produzcan otros correspondientes en los resultados finales. Un\n",
        "algoritmo que satisfaga esta propiedad es estable, en caso\n",
        "contrario es **inestable**.\n",
        "\n",
        "Algunos algoritmos solo son estables para ciertas elecciones de\n",
        "datos iniciales; a estos se les llama condicionalmente estables.\n",
        "\n",
        "A lo largo del curso analizaremos algoritmos tanto estables,\n",
        "como inestables y condicionalmente estables.\n"
      ]
    },
    {
      "cell_type": "markdown",
      "metadata": {
        "id": "BrFHF9yVsMZa",
        "colab_type": "text"
      },
      "source": [
        "##  4. Crecimiento del error."
      ]
    },
    {
      "cell_type": "markdown",
      "metadata": {
        "id": "ZHss2SiysMZb",
        "colab_type": "text"
      },
      "source": [
        "Supongamos que se genera un error de magnitud $E_{0} > 0$ en cierta\n",
        "etapa de los cálculos y se denota por $E_{n}$ la magnitud del error\n",
        "después de $n$ operaciones sucesivas. Los 2 casos que surgen con mas\n",
        "frecuencia en la práctica se definen como sigue:\n",
        "\n",
        "**Definición de Crecimiento del error.**\n",
        "\n",
        "Si $E_{n} \\approx C_{n} E_{0} $ es una constante independiente de $n$, entonces se dice que el crecimiento del error es lineal. Si $E_{n} \\approx C^{n} E_{0} $ para alguna $C>1$, entonces el crecimiento del error se denomina exponencial.\n",
        "\n",
        "Normalmente el crecimiento lineal es inevitable y, cuando $C$ y $E_{0}$ son pequeños, por lo general los resultados son aceptables. Por otro lado hay que evitar el crecimiento exponencial del error, ya que el termino $C^{n}$ crece incluso para valores de n relativamente pequeños.\n",
        "\n",
        "En consecuencia un algoritmo con un crecimiento lineal del error es estable, pero no un algoritmo con crecimiento exponencial del error ya que se considera inestable.\n",
        "\n"
      ]
    },
    {
      "cell_type": "markdown",
      "metadata": {
        "id": "c9dxiAsQsMZc",
        "colab_type": "text"
      },
      "source": [
        "![Crecimiento](https://docs.google.com/uc?export=download&id=1ikGd8jMYQaiZkDlFNV5x7oGBr79Rddvw)"
      ]
    },
    {
      "cell_type": "markdown",
      "metadata": {
        "id": "tIRgcBRfsMZc",
        "colab_type": "text"
      },
      "source": [
        "##  5. Rapidez de Convergencia."
      ]
    },
    {
      "cell_type": "markdown",
      "metadata": {
        "id": "nq5xXHl9sMZd",
        "colab_type": "text"
      },
      "source": [
        "Una de las maneras de determinar que tan bueno es un algoritmo en\n",
        "comparación con otro es mediante la rapidez de convergencia, la cual nos\n",
        "indica cual de los 2 algoritmos comparados encontrara una solución de\n",
        "manera mas rápida.\n",
        "\n",
        "**Definición de Convergencia.**\n",
        "\n",
        "En matemáticas, una serie (suma de los términos de una\n",
        "secuencia de números), resulta convergente si la sucesión de\n",
        "sumas parciales tiene un límite en el espacio considerado. De\n",
        "otro modo, constituiría lo que se denomina serie divergente.\n",
        "\n",
        "**Definición de Rapidez de convergencia.**\n",
        "\n",
        "Supongamos que $\\{ \\beta_{n} \\}_{n=1}^{\\infty}$ es una sucesión cuyo valor de convergencia es cero y que $\\{ \\alpha_{n} \\}_{n=1}^{\\infty}$ converge a un número $\\alpha$. Si existe una constante positiva K tal que \n",
        "\n",
        "$$ | \\alpha_{n} -\\alpha | \\leq K | \\beta_{n}  |$$\n",
        "\n",
        "para n suficientemente grande, entonces decimos que $\\{ \\alpha_{n} \\}_{n=1}^{\\infty}$ converge a $\\alpha$ con rapidez de convergencia $ O(\\beta_{n})$.\n",
        "\n",
        "Esta expresión se lee ”O mayúscula de $\\beta_{n}$”. Se indica escribiendo $ \\alpha_{n} = \\alpha + O(\\beta_{n})$.\n",
        "\n",
        "Aunque esta definición permite comparar $\\{ \\alpha_{n} \\}_{n=1}^{\\infty}$ con cualquier sucesión en casi todas las situaciones emplearemos\n",
        "\n",
        "$$\\beta_{n} = \\frac{1}{n^{p}} $$\n",
        "\n",
        "para algún $p > 0$. Por lo general, buscaremos el mayor valor de p tal que $ \\alpha_{n} = \\alpha + O( 1/n^{p})$."
      ]
    },
    {
      "cell_type": "markdown",
      "metadata": {
        "id": "Pd4u-M6UsMZd",
        "colab_type": "text"
      },
      "source": [
        "**Ejemplo**\n",
        "\n",
        "Suponga que para $n \\geq 1$,\n",
        "\n",
        "$$ \\alpha_{n} = \\frac{n+1}{n^{2}} \\hspace{1.5mm}\\text{y} \\hspace{2mm}\\tilde{\\alpha_{n}}=\\frac{n+3}{n^{3}}$$\n",
        "\n",
        "Encontrar cual de las dos sucesiones converge mas rápido a cero.\n",
        "\n",
        "**Solución**.\n",
        "\n",
        "Aunque $\\lim_{n \\to \\infty} \\alpha_{n}=0$   , la sucesión $\\{\\tilde{\\alpha_{n}}\\}_{n=1}^{\\infty}$ converge en este límite mucho más rápido que la suceción  $\\{ \\alpha_{n} \\}_{n=1}^{\\infty}$, usando aritmética de redondeo a cinco cifras, se puede apreciar en la siguiente tabla este comportamiento.\n",
        "\n",
        "| n        | 1            |  2 | 3|4 |5 |6 |7 |\n",
        "| :-:  | :-: | :-: |  :-: | :-:  |   :-: |   :-: |  :-: | \n",
        "| $\\alpha_{n} $  | 2.00000 |0.75000 |0.44444 |0.31250 |0.24000 |0.19444 |0.16237|\n",
        "| $\\tilde{\\alpha_{n}} $ | 4.00000 |0.65500    |0.22222 | 0.10938|0.64000 |0.04166 |0.0915|\n",
        "\n",
        "\n",
        "Si $\\{\\tilde{\\beta_{n}}\\}_{n=1}^{\\infty}=1/n$ \\hspace{1.5mm} y \\hspace{1.5mm} $\\{ \\beta_{n} \\}_{n=1}^{\\infty}=1/n^{2}$ , vemos que \n",
        "\n",
        "$$ | \\alpha_{n} -0 |= \\frac{n+1}{n^{2}} \\leq \\frac{n+n}{n^{2}}= 2 \\frac{1}{n} = 2 \\beta_{n}$$\n",
        "\n",
        "y\n",
        "\n",
        "$$ | \\tilde{\\alpha_{n}} -0 |= \\frac{n+3}{n^{3}} \\leq \\frac{n+3n}{n^{3}}= 4 \\frac{1}{n^{2}} = 4 \\beta_{n}$$\n",
        "\n",
        "de modo que \n",
        "\n",
        "$$ \\alpha_{n} = 0+ O( \\frac{1}{n} ) \\hspace{1.5mm}\\text{y} \\hspace{2mm} \\tilde{\\alpha_{n}}= 0+ O( \\frac{1}{n^{2}} ) $$\n",
        "\n",
        "La rapidez de convergencia de $\\{ \\alpha_{n} \\}_{n=1}^{\\infty}$ a cero es similar a la convergencia de $\\{ 1/n \\}$ a cero, mientras que la rapidez de convergencia de $\\{\\tilde{\\alpha_{n}}\\}_{n=1}^{\\infty}$ a cero es similar a la convergencia de $\\{ 1/n^{2} \\}$, la cual converge más rápido.\n",
        "\n",
        "También se emplea la notación ”O mayúscula” para describir la\n",
        "rapidez de convergencia de funciones.\n"
      ]
    },
    {
      "cell_type": "markdown",
      "metadata": {
        "id": "c3jjc6bvsMZe",
        "colab_type": "text"
      },
      "source": [
        "## Referencias."
      ]
    },
    {
      "cell_type": "markdown",
      "metadata": {
        "id": "187DZqd6sMZf",
        "colab_type": "text"
      },
      "source": [
        "1. Riswan Butt: Numerical Analysis Using Matlab, Jones and Barlett.\n",
        "2. Ward Cheney, David Kincaid: Métodos Numéricos y Computación, Cenage Learning.\n",
        "3. Richard L. Burden, J, Douglas Faires: Análisis Numérico, Math Learning."
      ]
    }
  ]
}