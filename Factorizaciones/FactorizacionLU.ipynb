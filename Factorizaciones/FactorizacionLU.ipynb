{
  "nbformat": 4,
  "nbformat_minor": 0,
  "metadata": {
    "colab": {
      "name": "FactorizacionLU.ipynb",
      "provenance": [],
      "authorship_tag": "ABX9TyOf2IVRSXaaaiTBvMESh1UM",
      "include_colab_link": true
    },
    "kernelspec": {
      "name": "python3",
      "display_name": "Python 3"
    }
  },
  "cells": [
    {
      "cell_type": "markdown",
      "metadata": {
        "id": "view-in-github",
        "colab_type": "text"
      },
      "source": [
        "<a href=\"https://colab.research.google.com/github/jugernaut/Numerico2021/blob/master/Factorizaciones/FactorizacionLU.ipynb\" target=\"_parent\"><img src=\"https://colab.research.google.com/assets/colab-badge.svg\" alt=\"Open In Colab\"/></a>"
      ]
    },
    {
      "cell_type": "markdown",
      "metadata": {
        "id": "tFjBLaoIb4iD",
        "colab_type": "text"
      },
      "source": [
        "##Factorización A=LU\n",
        "### Proyecto PAPIME PE101019\n",
        "- Autor: Miguel Angel Pérez León\n",
        "- Rev: mar jun  24 17:08:27 CDT 2020"
      ]
    },
    {
      "cell_type": "markdown",
      "metadata": {
        "id": "ZnRWjAKpcBu3",
        "colab_type": "text"
      },
      "source": [
        "A lo largo del curso se ha mostrado el por que es importante encontrar la forma de resolver un sistema del tipo $A\\vec{x}=\\vec{b}$.\n",
        "\n",
        "Incluso se ha mencionado en diferentes ocasiones que el calculo de la matriz $A^{-1}$ es demasiado costoso.\n",
        "\n",
        "Es por este motivo que para evadir el calculo de $A^{-1}$ se emplean alternativas como buscar la forma triangular superior de A para después emplear substitución hacia atrás.\n",
        "\n",
        "Sin embargo no siempre se puede garantizar que este algoritmo sea eficiente, por otro lado siempre podemos garantizar que la matriz $A$ puede ser descompuesta (factorizada) en el producto de dos matrices $LU$."
      ]
    },
    {
      "cell_type": "markdown",
      "metadata": {
        "id": "BBB6yAIbd40l",
        "colab_type": "text"
      },
      "source": [
        "##Teorema\n",
        "\n",
        "Sea $A\\in M_{n\\times n}$ una matriz **no singular**, se puede factorizar esta matriz en el producto de 2 matrices (únicas), una triangular inferior y otra triangular superior, es decir.\n",
        "\n",
        "$$A=LU$$\n",
        "\n",
        "En caso de que A sea singular, **la unicidad de L y U no esta garantizada**.\n",
        "\n",
        "Una vez que se tienen las matrices $L$ y $U$ resolver el sistema $A\\vec{x}=\\vec{b}$ se reduce a resolver dos sistemas, uno triangular inferior y posteriormente uno triangular superior.\n",
        "\n",
        "Las letras $L$ y $U$ hacen referencia a que son matrices tinagulares, una inferior $L$ (es decir que todos los valores arriba de la diagonal principal son cero) y otra superior $U$ (es decir que todos los valores debajo de la diagonal principal son cero)."
      ]
    },
    {
      "cell_type": "markdown",
      "metadata": {
        "id": "vV7_67c9fHOz",
        "colab_type": "text"
      },
      "source": [
        "## $A\\vec{x}=LU\\vec{x}$\n",
        "\n",
        "Ya que se tienen ambas matrices $\\left(LU\\right)$ podemos substituirlas en el sistema original, de tal manera que ahora el sistema luce así.\n",
        "\n",
        "$$A\\vec{x}=LU\\vec{x}=\\vec{b}$$\n",
        "\n",
        "Posteriormente podemos replantear la solución del sistema de la siguiente forma.\n",
        "\n",
        "$$LU\\vec{x}=\\vec{b}\\Longrightarrow L^{-1}LU\\vec{x}=L^{-1}\\vec{b}\\Longrightarrow U\\vec{x}=L^{-1}\\vec{b}\\tag{1}$$\n",
        "\n",
        "De manera tal que ahora nos interesa primero encontrar una solución al sistema $L^{-1}\\vec{b}=\\vec{y}$, mismo que podemos reescribir.\n",
        "\n",
        "$$L^{-1}\\vec{b}=\\vec{y}\\Longrightarrow LL^{-1}\\vec{b}=L\\vec{y}\\Longrightarrow\\vec{b}=L\\vec{y}\\Longrightarrow L\\vec{y}=\\vec{b}\\tag{2}$$\n",
        "\n",
        "La ecuación (2) tiene la ventaja de ser un sistema triangular inferior, es por eso que la solución $\\vec{y}$ puede ser calculada fácilmente empleando **substitución hacia adelante**. Y una vez calculada, podemos proceder a resolver el segundo sistema empleando **substitución hacia atras**.\n",
        "\n",
        "$$U\\vec{x}=\\vec{y}\\tag{3}$$"
      ]
    },
    {
      "cell_type": "markdown",
      "metadata": {
        "id": "s7W7DWzNhMDT",
        "colab_type": "text"
      },
      "source": [
        "## Algoritmo para la factorización $LU$\n",
        "\n",
        "La idea detrás del algoritmo consiste en llevar a la matriz A a su forma triangular superior $U$ mediante operaciones elementales y al mismo tiempo almacenar los factores multiplicativos que llevaron a la matriz $U$. Estos son multiplicados por -1 y almacenados en la matriz identidad que inicialmente es igual a $L$.\n",
        "\n",
        "1.   Sean $A,U,L\\in M_{n\\times n}$, inicialmente las matrices $A$ y $U$ son iguales y $L$ es la identidad.\n",
        "2.   Como se busca que $U$ sea una matriz triangular superior necesitamos generar ceros debajo de la diagonal.\n",
        "3.   Supongamos que queremos generar un cero en la entrada $a_{\\left(i,j\\right)}$ $(j<i)$. Necesitamos multiplicar el renglón $r$ $(r<i)$ por un factor $f_{1}$ y sumarlo al renglón $i$.\n",
        "4.   Al mismo tiempo es necesario substituir la entrada $l_{\\left(i,j\\right)}$ por $-f_{1}$. Es decir $l_{\\left(i,j\\right)}=-f_{1}$.\n",
        "5.   Se repite, los pasos 3 y 4, hasta que la matriz $U$ alcanza su forma triangular superior."
      ]
    },
    {
      "cell_type": "markdown",
      "metadata": {
        "id": "_WdUyaQ7jsHi",
        "colab_type": "text"
      },
      "source": [
        "## Ejemplo factorización $LU$\n",
        "\n",
        "Sean \n",
        "\n",
        "$$A=\\left(\\begin{array}{ccc}\n",
        "-4 & -3 & 1\\\\\n",
        "8 & 11 & -1\\\\\n",
        "4 & 18 & 5\n",
        "\\end{array}\\right)=U\\;y\\;L=\\left(\\begin{array}{ccc}\n",
        "1 & 0 & 0\\\\\n",
        "0 & 1 & 0\\\\\n",
        "0 & 0 & 1\n",
        "\\end{array}\\right)\\Longrightarrow A=UL$$\n",
        "\n",
        "Multipliquemos el renglón 1 de $A$ por **2** y lo sumamos al segundo renglón.\n",
        "\n",
        "$$U=\\left(\\begin{array}{ccc}\n",
        "-4 & -3 & 1\\\\\n",
        "0 & 5 & 1\\\\\n",
        "4 & 18 & 5\n",
        "\\end{array}\\right)\\quad L=\\left(\\begin{array}{ccc}\n",
        "1 & 0 & 0\\\\\n",
        "{\\color{blue}{-2}} & 1 & 0\\\\\n",
        "0 & 0 & 1\n",
        "\\end{array}\\right)$$\n",
        "\n",
        "Ahora multiplicamos el renglón 1 por **1** y se suma al tercer renglón.\n",
        "\n",
        "$$U=\\left(\\begin{array}{ccc}\n",
        "-4 & -3 & 1\\\\\n",
        "0 & 5 & 1\\\\\n",
        "0 & 15 & 6\n",
        "\\end{array}\\right)\\quad L=\\left(\\begin{array}{ccc}\n",
        "1 & 0 & 0\\\\\n",
        "-2 & 1 & 0\\\\\n",
        "{\\color{blue}{-1}} & 0 & 1\n",
        "\\end{array}\\right)$$\n",
        "\n",
        "Finalmente se multiplica por **-3** el segundo renglón y se suma al tercero.\n",
        "\n",
        "$$U=\\left(\\begin{array}{ccc}\n",
        "-4 & -3 & 1\\\\\n",
        "0 & 5 & 1\\\\\n",
        "0 & 0 & 3\n",
        "\\end{array}\\right)\\quad L=\\left(\\begin{array}{ccc}\n",
        "1 & 0 & 0\\\\\n",
        "-2 & 1 & 0\\\\\n",
        "-1 & {\\color{blue}3} & 1\n",
        "\\end{array}\\right)$$\n",
        "\n",
        "## Comprobemos el resultado anterior en Python, es decir.\n",
        "\n",
        "$$LU=A$$"
      ]
    },
    {
      "cell_type": "code",
      "metadata": {
        "id": "KkB49LZdiEo7",
        "colab_type": "code",
        "colab": {
          "base_uri": "https://localhost:8080/",
          "height": 71
        },
        "outputId": "1c22080e-4acc-45d0-a761-fd5bb204dfb1"
      },
      "source": [
        "import numpy as np\n",
        "\n",
        "L = np.array([[1,0,0],[-2,1,0],[-1,3,1]])\n",
        "U = np.array([[-4,-3,1],[0,5,1],[0,0,3]])\n",
        "\n",
        "print(np.matmul(L,U))"
      ],
      "execution_count": null,
      "outputs": [
        {
          "output_type": "stream",
          "text": [
            "[[-4 -3  1]\n",
            " [ 8 11 -1]\n",
            " [ 4 18  5]]\n"
          ],
          "name": "stdout"
        }
      ]
    }
  ]
}