{
  "nbformat": 4,
  "nbformat_minor": 0,
  "metadata": {
    "colab": {
      "name": "FactorizacionQR.ipynb",
      "provenance": [],
      "authorship_tag": "ABX9TyMIQlQL9fY2O3nYuR+wZiV0",
      "include_colab_link": true
    },
    "kernelspec": {
      "name": "python3",
      "display_name": "Python 3"
    }
  },
  "cells": [
    {
      "cell_type": "markdown",
      "metadata": {
        "id": "view-in-github",
        "colab_type": "text"
      },
      "source": [
        "<a href=\"https://colab.research.google.com/github/jugernaut/Numerico2021/blob/master/Factorizaciones/FactorizacionQR.ipynb\" target=\"_parent\"><img src=\"https://colab.research.google.com/assets/colab-badge.svg\" alt=\"Open In Colab\"/></a>"
      ]
    },
    {
      "cell_type": "markdown",
      "metadata": {
        "id": "1gGtPTa5yOe7",
        "colab_type": "text"
      },
      "source": [
        "##Factorización A=QR\n",
        "### Proyecto PAPIME PE101019\n",
        "- Autor: Miguel Angel Pérez León\n",
        "- Rev: mar jul  8 17:08:27 CDT 2020"
      ]
    },
    {
      "cell_type": "markdown",
      "metadata": {
        "id": "QOp9MKbLyVdE",
        "colab_type": "text"
      },
      "source": [
        "Como ya se ha visto a lo largo de este curso, es recurrente tratar de resolver un sistema del tipo $A\\vec{x}=\\vec{b}$ y dado que el cálculo de la matriz inversa de $A$ es un proceso costoso, se buscan alternativas.\n",
        "\n",
        "La matriz asociada al **sistema de ecuaciones normales** $\\left(A^{T}A\\right)$, tiene peculiares características (**Simétrica y Positiva Definida**) que la convierte en candidato a diferentes tipos de factorizaciones, en este caso la factorización $QR$.\n",
        "\n",
        "Hecho. Una matriz $A\\in\\mathbb{R}_{n\\times n}$\n",
        "1.   Es simétrica si: $A=A^{T}$\n",
        "2.   Es positiva definida si: Todos sus determinantes superiores izquierdos de $i\\times i\\quad i=1,\\ldots$,n son positivos."
      ]
    },
    {
      "cell_type": "markdown",
      "metadata": {
        "id": "M1O_hnX8zyUc",
        "colab_type": "text"
      },
      "source": [
        "##Teorema\n",
        "\n",
        "Sea $A\\in\\mathbb{R}_{m\\times n} (m\\geq n)$ y rango$\\left(A\\right)=n$ existe una única factorización $QR$ tal que\n",
        "$$A=QR\\quad con\\,r_{ii}>0\\quad i=1,\\ldots,n$$"
      ]
    },
    {
      "cell_type": "markdown",
      "metadata": {
        "id": "iZaK4Lfh0ZKY",
        "colab_type": "text"
      },
      "source": [
        "## Método de Gram-Schmidt para la factorización $A=QR$\n",
        "\n",
        "La idea detrás de la factorización QR es construir una base ortonormal $\\left(q_{1},q_{2},\\ldots,q_{n}\\in R^{m}\\right)$ para el subespacio generado por los vectores columna de $A$.\n",
        "\n",
        "*   Se comienza utilizando el primer vector columna de $A\\quad(a_{1})$. Es decir $q_{1}=\\frac{a_{1}}{\\left\\Vert a_{1}\\right\\Vert _{2}}$.\n",
        "*   A continuación se substrae del vector $a_{2}$ su coeficiente en la dirección de $q_{1}$, es decir $\\left(q_{1}^{T}\\cdot a_{1}\\right)\\cdot q_{1}$. Dando como resultado un vector $q_{2}$, que es ortogonal a $q_{1}$. Finalmente se normaliza el vector $q_{2}$ para volverlo ortonormal.\n",
        "*   El proceso se repite con el resto de los vectores columna de \n",
        "$$A=\\left[a_{1},a_{2},\\ldots,a_{n}\\right]$$\n",
        "\n",
        "En términos matemáticos, el proceso se vería de la siguiente manera."
      ]
    },
    {
      "cell_type": "markdown",
      "metadata": {
        "id": "Mew65LdD1fCm",
        "colab_type": "text"
      },
      "source": [
        "## Algoritmo\n",
        "\n",
        "1.   $q_{1}=\\frac{v_{1}}{\\left\\Vert v_{1}\\right\\Vert _{2}}\\quad con\\quad v_{1}=a_{1}$\n",
        "2.   $q_{2}=\\frac{v_{2}}{\\left\\Vert v_{2}\\right\\Vert _{2}}\\quad con\\quad v_{2}=a_{2}-\\left(q_{1}^{T}\\cdot a_{2}\\right)\\cdot q_{1}$\n",
        "3.   $q_{3}=\\frac{v_{3}}{\\left\\Vert v_{3}\\right\\Vert _{2}}\\quad con\\quad v_{3}=a_{3}-\\left(q_{1}^{T}\\cdot a_{3}\\right)\\cdot q_{1}-\\left(q_{2}^{T}\\cdot a_{3}\\right)\\cdot q_{2}$\n",
        "4.   En general el j-esimo paso, suponiendo conocidos $q_{1},\\ldots,q_{j-1}$, es un vector $q_{j}$ ortonormal a todos los vectores ya conocidos, es decir\n",
        "$$q_{j}\t=\t\\frac{v_{j}}{\\left\\Vert v_{j}\\right\\Vert _{2}}\\quad con\\quad v_{j}=a_{j}-\\left(q_{1}^{T}\\cdot a_{j}\\right)\\cdot q_{1}-\\cdots-\\left(q_{j-1}^{T}\\cdot a_{j}\\right)\\cdot q_{j-1}$$\n",
        "5.   En forma de sumatoria, el vector $v_{j}$ se ve de la siguiente manera\n",
        "$$v_{j}=a_{j}-\\sum_{i=1}^{j-1}\\left(q_{i}^{T}\\cdot a_{j}\\right)\\cdot q_{i}$$\n",
        "\n",
        "\n",
        "\n"
      ]
    },
    {
      "cell_type": "markdown",
      "metadata": {
        "id": "heES_MVJ2q0G",
        "colab_type": "text"
      },
      "source": [
        "## Ejemplo\n",
        "\n",
        "Sea $A=\\left(\\begin{array}{ccc}\n",
        "-1 & -1 & 1\\\\\n",
        "1 & 3 & 3\\\\\n",
        "-1 & -1 & 5\\\\\n",
        "1 & 3 & 7\n",
        "\\end{array}\\right)$ encuentre su factorización $A=QR$\n",
        "\n",
        "$q_{1}=\\frac{v_{1}}{\\left\\Vert v_{1}\\right\\Vert _{2}}\\quad v_{1}=a_{1}=\\left(\\begin{array}{c}\n",
        "-1\\\\\n",
        "1\\\\\n",
        "-1\\\\\n",
        "1\n",
        "\\end{array}\\right)\\quad{\\color{red}r}_{\\color{red}11}=\\left\\Vert v_{1}\\right\\Vert _{2}=2\\Longrightarrow{\\color{red}q_{1}=\\frac{v_{1}}{r_{11}}=\\left(\\begin{array}{c}\n",
        "-\\frac{1}{2}\\\\\n",
        "\\frac{1}{2}\\\\\n",
        "-\\frac{1}{2}\\\\\n",
        "\\frac{1}{2}\n",
        "\\end{array}\\right)}\\quad{\\color{red}r}_{{\\color{red}12}}=q_{1}^{T}a_{2}=4 $"
      ]
    }
  ]
}