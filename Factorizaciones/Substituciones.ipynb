{
  "nbformat": 4,
  "nbformat_minor": 0,
  "metadata": {
    "colab": {
      "name": "Substituciones.ipynb",
      "provenance": [],
      "collapsed_sections": [],
      "authorship_tag": "ABX9TyPlbdC7eiWRGtov6SLNGPKk",
      "include_colab_link": true
    },
    "kernelspec": {
      "name": "python3",
      "display_name": "Python 3"
    }
  },
  "cells": [
    {
      "cell_type": "markdown",
      "metadata": {
        "id": "view-in-github",
        "colab_type": "text"
      },
      "source": [
        "<a href=\"https://colab.research.google.com/github/jugernaut/Numerico2021/blob/master/Factorizaciones/Substituciones.ipynb\" target=\"_parent\"><img src=\"https://colab.research.google.com/assets/colab-badge.svg\" alt=\"Open In Colab\"/></a>"
      ]
    },
    {
      "cell_type": "markdown",
      "metadata": {
        "id": "09GNFtNsMWEu",
        "colab_type": "text"
      },
      "source": [
        "# Substituciones (hacia adelante, hacia atras)\n",
        "\n",
        "Una vez que ya se tiene una matriz triangular (superior o inferior) es muy sencillo resolver un sistema de ecuaciones empleando alguna de estas substituciones.\n",
        "\n",
        "La idea general es que dado un sistema del tipo $A\\vec{x}=\\vec{b}$, la matriz $A\\in M_{n\\times n}$ puede ser factorizada empleando alguno de los metodos previamente mencionados (LU, QR, Cholesky) y una vez que se tenga alguna de estas factorizaciones es posible emplear algun tipo de subtitución para resolver el sistema original."
      ]
    },
    {
      "cell_type": "markdown",
      "metadata": {
        "id": "ydYY5dOGYoU-",
        "colab_type": "text"
      },
      "source": [
        "## Substitución hacia adelante\n",
        "\n",
        "Supongamos que se tiene una matríz triangular inferior, los correspondientes vectores $L\\in\\mathbb{R}_{n\\times n}\\,\\vec{y},\\vec{b}\\in\\mathbb{R}^{n}$ podemos pensar en resolver el sistema. \n",
        "\n",
        "$$L\\vec{y}=\\vec{b}$$\n",
        "\n",
        "Para resolver dicho sistema empleamos el siguiente algoritmo de substitución.\n",
        "\n",
        "$$y_{i}=\\frac{b_{i}-\\displaystyle\\sum_{j=0}^{i-1}l_{ij}y_{j}}{l_{ii}}\\quad i=0,\\ldots,(n-1)$$\n",
        "\n",
        "## Ejemplo\n",
        "\n",
        "$$\\left(\\begin{array}{ccc}\n",
        "1 & 0 & 0\\\\\n",
        "-2 & 1 & 0\\\\\n",
        "-1 & 3 & 1\n",
        "\\end{array}\\right)\\left(\\begin{array}{c}\n",
        "y_{0}\\\\\n",
        "y_{1}\\\\\n",
        "y_{2}\n",
        "\\end{array}\\right)=\\left(\\begin{array}{c}\n",
        "5\\\\\n",
        "6\\\\\n",
        "1\n",
        "\\end{array}\\right)$$\n",
        "\n",
        "Encontrar la primera entada del vector $y$ es trivial\n",
        "\n",
        "$$y_{0}=5$$\n",
        "\n",
        "La siguiente entrada involucra a $y_{0}$ es decir.\n",
        "\n",
        "$$y_{1}=\\frac{6-\\left(\\left(-2\\right)\\left(y_{0}\\right)\\right)}{l_{11}}=\\frac{6-\\left(\\left(-2\\right)\\left(5\\right)\\right)}{1}=16$$\n",
        "\n",
        "Finalmente la ultima entrada de $y$ se se calcula emplenado $y_{1}$ y $y_{0}$.\n",
        "\n",
        "$$y_{2}=\\frac{1-\\left(\\left(-1\\right)\\left(y_{0}\\right)+\\left(3\\right)\\left(y_{1}\\right)\\right)}{l_{22}}=\\frac{1-\\left(\\left(-1\\right)\\left(5\\right)+\\left(3\\right)\\left(16\\right)\\right)}{1}=-42$$\n",
        "\n",
        "Empleando **substitución hacia adelante** se tiene que. \n",
        "\n",
        "$$\\vec{y}=\\left(\\begin{array}{c}\n",
        "5\\\\\n",
        "16\\\\\n",
        "-42\n",
        "\\end{array}\\right)$$"
      ]
    },
    {
      "cell_type": "markdown",
      "metadata": {
        "id": "yEXaRqlETprP",
        "colab_type": "text"
      },
      "source": [
        "## Substitución hacia atras\n",
        "\n",
        "Supongamos que se tiene una matríz triangular superior, los correspondientes vectores $U\\in\\mathbb{R}_{n\\times n}\\,\\vec{x},\\vec{y}\\in\\mathbb{R}^{n}$ podemos pensar en resolver el sistema. \n",
        "\n",
        "$$U\\vec{x}=\\vec{y}$$\n",
        "\n",
        "Para resolver dicho sistema empleamos el siguiente algoritmo de substitución.\n",
        "\n",
        "$$x_{i}=\\frac{y_{i}-\\displaystyle\\sum_{j=i+1}^{1}u_{ij}x_{j}}{u_{ii}}\\quad i=(n-1),\\ldots,0$$\n",
        "\n",
        "## Ejemplo\n",
        "\n",
        "$$\n",
        "\\left(\\begin{array}{ccc}\n",
        "-4 & -3 & 1\\\\\n",
        "0 & 5 & 1\\\\\n",
        "0 & 0 & 3\n",
        "\\end{array}\\right)\\left(\\begin{array}{c}\n",
        "x_{0}\\\\\n",
        "x_{1}\\\\\n",
        "x_{2}\n",
        "\\end{array}\\right)=\\left(\\begin{array}{c}\n",
        "5\\\\\n",
        "16\\\\\n",
        "-42\n",
        "\\end{array}\\right)\n",
        "$$\n",
        "\n",
        "Encontrar la última entada del vector $x$ es trivial\n",
        "\n",
        "$$x_{2}=\\frac{-42}{u_{22}}=\\frac{-42}{3}=-14$$\n",
        "\n",
        "La siguiente entrada involucra a $x_{2}$ es decir.\n",
        "\n",
        "$$x_{1}=\\frac{16-\\left(\\left(1\\right)\\left(x_{2}\\right)\\right)}{u_{11}}=\\frac{16-\\left(\\left(1\\right)\\left(-14\\right)\\right)}{5}=6$$\n",
        "\n",
        "Finalmente la primer entrada de $x$ se se calcula emplenado $x_{2}$ y $x_{1}$.\n",
        "\n",
        "$$x_{0}=\\frac{5-\\left(\\left(1\\right)\\left(x_{2}\\right)+\\left(-3\\right)\\left(x_{1}\\right)\\right)}{u_{00}}=\\frac{5-\\left(\\left(1\\right)\\left(-14\\right)+\\left(-3\\right)\\left(6\\right)\\right)}{-4}=-9.25$$\n",
        "\n",
        "Finalmente, mediante **substitución hacia atras** se tiene que.\n",
        "\n",
        "$$\\vec{x}=\\left(\\begin{array}{c}\n",
        "-9.25\\\\\n",
        "6\\\\\n",
        "-14\n",
        "\\end{array}\\right)$$\n"
      ]
    }
  ]
}