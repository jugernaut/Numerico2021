{
  "nbformat": 4,
  "nbformat_minor": 0,
  "metadata": {
    "kernelspec": {
      "display_name": "Python 3.7 (tensorflow)",
      "language": "python",
      "name": "tensorflow"
    },
    "language_info": {
      "codemirror_mode": {
        "name": "ipython",
        "version": 3
      },
      "file_extension": ".py",
      "mimetype": "text/x-python",
      "name": "python",
      "nbconvert_exporter": "python",
      "pygments_lexer": "ipython3",
      "version": "3.7.7"
    },
    "colab": {
      "name": "Integracion_numerica.ipynb",
      "provenance": []
    },
    "widgets": {
      "application/vnd.jupyter.widget-state+json": {
        "9fa9a2991c144174b3552ac0a07fd4a4": {
          "model_module": "@jupyter-widgets/controls",
          "model_name": "VBoxModel",
          "state": {
            "_view_name": "VBoxView",
            "_dom_classes": [
              "widget-interact"
            ],
            "_model_name": "VBoxModel",
            "_view_module": "@jupyter-widgets/controls",
            "_model_module_version": "1.5.0",
            "_view_count": null,
            "_view_module_version": "1.5.0",
            "box_style": "",
            "layout": "IPY_MODEL_c4505651f5a444ddad781dd2846dfc1a",
            "_model_module": "@jupyter-widgets/controls",
            "children": [
              "IPY_MODEL_4318bd3f23db4063b5f9383b4e8bf2b6",
              "IPY_MODEL_7c3b655d15ba4e68882faa6f8eba960a"
            ]
          }
        },
        "c4505651f5a444ddad781dd2846dfc1a": {
          "model_module": "@jupyter-widgets/base",
          "model_name": "LayoutModel",
          "state": {
            "_view_name": "LayoutView",
            "grid_template_rows": null,
            "right": null,
            "justify_content": null,
            "_view_module": "@jupyter-widgets/base",
            "overflow": null,
            "_model_module_version": "1.2.0",
            "_view_count": null,
            "flex_flow": null,
            "width": null,
            "min_width": null,
            "border": null,
            "align_items": null,
            "bottom": null,
            "_model_module": "@jupyter-widgets/base",
            "top": null,
            "grid_column": null,
            "overflow_y": null,
            "overflow_x": null,
            "grid_auto_flow": null,
            "grid_area": null,
            "grid_template_columns": null,
            "flex": null,
            "_model_name": "LayoutModel",
            "justify_items": null,
            "grid_row": null,
            "max_height": null,
            "align_content": null,
            "visibility": null,
            "align_self": null,
            "height": null,
            "min_height": null,
            "padding": null,
            "grid_auto_rows": null,
            "grid_gap": null,
            "max_width": null,
            "order": null,
            "_view_module_version": "1.2.0",
            "grid_template_areas": null,
            "object_position": null,
            "object_fit": null,
            "grid_auto_columns": null,
            "margin": null,
            "display": null,
            "left": null
          }
        },
        "4318bd3f23db4063b5f9383b4e8bf2b6": {
          "model_module": "@jupyter-widgets/controls",
          "model_name": "IntSliderModel",
          "state": {
            "_view_name": "IntSliderView",
            "style": "IPY_MODEL_233e8e1931b54151b977f29236d01409",
            "_dom_classes": [],
            "description": "n",
            "step": 1,
            "_model_name": "IntSliderModel",
            "orientation": "horizontal",
            "max": 30,
            "_view_module": "@jupyter-widgets/controls",
            "_model_module_version": "1.5.0",
            "value": 25,
            "_view_count": null,
            "disabled": false,
            "_view_module_version": "1.5.0",
            "min": 2,
            "continuous_update": true,
            "readout_format": "d",
            "description_tooltip": null,
            "readout": true,
            "_model_module": "@jupyter-widgets/controls",
            "layout": "IPY_MODEL_8dc96bf868d54e5da78f1f4ac089f91b"
          }
        },
        "7c3b655d15ba4e68882faa6f8eba960a": {
          "model_module": "@jupyter-widgets/output",
          "model_name": "OutputModel",
          "state": {
            "_view_name": "OutputView",
            "msg_id": "",
            "_dom_classes": [],
            "_model_name": "OutputModel",
            "outputs": [
              {
                "output_type": "display_data",
                "metadata": {
                  "tags": [],
                  "needs_background": "light"
                },
                "image/png": "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\n",
                "text/plain": "<Figure size 432x288 with 1 Axes>"
              },
              {
                "output_type": "stream",
                "metadata": {
                  "tags": []
                },
                "text": "el valor de la integral mediante el metodo de cuadratura del rectangulo es: 0.3402777777777778\n",
                "stream": "stdout"
              }
            ],
            "_view_module": "@jupyter-widgets/output",
            "_model_module_version": "1.0.0",
            "_view_count": null,
            "_view_module_version": "1.0.0",
            "layout": "IPY_MODEL_f14236706e2848aa93ccbbef038d495f",
            "_model_module": "@jupyter-widgets/output"
          }
        },
        "233e8e1931b54151b977f29236d01409": {
          "model_module": "@jupyter-widgets/controls",
          "model_name": "SliderStyleModel",
          "state": {
            "_view_name": "StyleView",
            "handle_color": null,
            "_model_name": "SliderStyleModel",
            "description_width": "",
            "_view_module": "@jupyter-widgets/base",
            "_model_module_version": "1.5.0",
            "_view_count": null,
            "_view_module_version": "1.2.0",
            "_model_module": "@jupyter-widgets/controls"
          }
        },
        "8dc96bf868d54e5da78f1f4ac089f91b": {
          "model_module": "@jupyter-widgets/base",
          "model_name": "LayoutModel",
          "state": {
            "_view_name": "LayoutView",
            "grid_template_rows": null,
            "right": null,
            "justify_content": null,
            "_view_module": "@jupyter-widgets/base",
            "overflow": null,
            "_model_module_version": "1.2.0",
            "_view_count": null,
            "flex_flow": null,
            "width": null,
            "min_width": null,
            "border": null,
            "align_items": null,
            "bottom": null,
            "_model_module": "@jupyter-widgets/base",
            "top": null,
            "grid_column": null,
            "overflow_y": null,
            "overflow_x": null,
            "grid_auto_flow": null,
            "grid_area": null,
            "grid_template_columns": null,
            "flex": null,
            "_model_name": "LayoutModel",
            "justify_items": null,
            "grid_row": null,
            "max_height": null,
            "align_content": null,
            "visibility": null,
            "align_self": null,
            "height": null,
            "min_height": null,
            "padding": null,
            "grid_auto_rows": null,
            "grid_gap": null,
            "max_width": null,
            "order": null,
            "_view_module_version": "1.2.0",
            "grid_template_areas": null,
            "object_position": null,
            "object_fit": null,
            "grid_auto_columns": null,
            "margin": null,
            "display": null,
            "left": null
          }
        },
        "f14236706e2848aa93ccbbef038d495f": {
          "model_module": "@jupyter-widgets/base",
          "model_name": "LayoutModel",
          "state": {
            "_view_name": "LayoutView",
            "grid_template_rows": null,
            "right": null,
            "justify_content": null,
            "_view_module": "@jupyter-widgets/base",
            "overflow": null,
            "_model_module_version": "1.2.0",
            "_view_count": null,
            "flex_flow": null,
            "width": null,
            "min_width": null,
            "border": null,
            "align_items": null,
            "bottom": null,
            "_model_module": "@jupyter-widgets/base",
            "top": null,
            "grid_column": null,
            "overflow_y": null,
            "overflow_x": null,
            "grid_auto_flow": null,
            "grid_area": null,
            "grid_template_columns": null,
            "flex": null,
            "_model_name": "LayoutModel",
            "justify_items": null,
            "grid_row": null,
            "max_height": null,
            "align_content": null,
            "visibility": null,
            "align_self": null,
            "height": null,
            "min_height": null,
            "padding": null,
            "grid_auto_rows": null,
            "grid_gap": null,
            "max_width": null,
            "order": null,
            "_view_module_version": "1.2.0",
            "grid_template_areas": null,
            "object_position": null,
            "object_fit": null,
            "grid_auto_columns": null,
            "margin": null,
            "display": null,
            "left": null
          }
        },
        "1ac2c7e82cbb43ce8c2833b03ea4a05a": {
          "model_module": "@jupyter-widgets/controls",
          "model_name": "VBoxModel",
          "state": {
            "_view_name": "VBoxView",
            "_dom_classes": [
              "widget-interact"
            ],
            "_model_name": "VBoxModel",
            "_view_module": "@jupyter-widgets/controls",
            "_model_module_version": "1.5.0",
            "_view_count": null,
            "_view_module_version": "1.5.0",
            "box_style": "",
            "layout": "IPY_MODEL_20b7204590f74f0e872177bba2132c60",
            "_model_module": "@jupyter-widgets/controls",
            "children": [
              "IPY_MODEL_8130a68bf8384675a4a970544eede6af",
              "IPY_MODEL_c39e5175e0db4e958f039d061dbce017"
            ]
          }
        },
        "20b7204590f74f0e872177bba2132c60": {
          "model_module": "@jupyter-widgets/base",
          "model_name": "LayoutModel",
          "state": {
            "_view_name": "LayoutView",
            "grid_template_rows": null,
            "right": null,
            "justify_content": null,
            "_view_module": "@jupyter-widgets/base",
            "overflow": null,
            "_model_module_version": "1.2.0",
            "_view_count": null,
            "flex_flow": null,
            "width": null,
            "min_width": null,
            "border": null,
            "align_items": null,
            "bottom": null,
            "_model_module": "@jupyter-widgets/base",
            "top": null,
            "grid_column": null,
            "overflow_y": null,
            "overflow_x": null,
            "grid_auto_flow": null,
            "grid_area": null,
            "grid_template_columns": null,
            "flex": null,
            "_model_name": "LayoutModel",
            "justify_items": null,
            "grid_row": null,
            "max_height": null,
            "align_content": null,
            "visibility": null,
            "align_self": null,
            "height": null,
            "min_height": null,
            "padding": null,
            "grid_auto_rows": null,
            "grid_gap": null,
            "max_width": null,
            "order": null,
            "_view_module_version": "1.2.0",
            "grid_template_areas": null,
            "object_position": null,
            "object_fit": null,
            "grid_auto_columns": null,
            "margin": null,
            "display": null,
            "left": null
          }
        },
        "8130a68bf8384675a4a970544eede6af": {
          "model_module": "@jupyter-widgets/controls",
          "model_name": "IntSliderModel",
          "state": {
            "_view_name": "IntSliderView",
            "style": "IPY_MODEL_5b6b58c7a6234a5895a3b585835d935a",
            "_dom_classes": [],
            "description": "n",
            "step": 1,
            "_model_name": "IntSliderModel",
            "orientation": "horizontal",
            "max": 30,
            "_view_module": "@jupyter-widgets/controls",
            "_model_module_version": "1.5.0",
            "value": 15,
            "_view_count": null,
            "disabled": false,
            "_view_module_version": "1.5.0",
            "min": 2,
            "continuous_update": true,
            "readout_format": "d",
            "description_tooltip": null,
            "readout": true,
            "_model_module": "@jupyter-widgets/controls",
            "layout": "IPY_MODEL_ed6285a2870445b697603f784377ff33"
          }
        },
        "c39e5175e0db4e958f039d061dbce017": {
          "model_module": "@jupyter-widgets/output",
          "model_name": "OutputModel",
          "state": {
            "_view_name": "OutputView",
            "msg_id": "",
            "_dom_classes": [],
            "_model_name": "OutputModel",
            "outputs": [
              {
                "output_type": "display_data",
                "metadata": {
                  "tags": [],
                  "needs_background": "light"
                },
                "image/png": "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\n",
                "text/plain": "<Figure size 432x288 with 1 Axes>"
              },
              {
                "output_type": "stream",
                "metadata": {
                  "tags": []
                },
                "text": "el valor de la integral mediante el metodo de cuadratura del punto medio es: 0.31071428571428567\n",
                "stream": "stdout"
              }
            ],
            "_view_module": "@jupyter-widgets/output",
            "_model_module_version": "1.0.0",
            "_view_count": null,
            "_view_module_version": "1.0.0",
            "layout": "IPY_MODEL_4bc0a93f3fc14984820894376547eaea",
            "_model_module": "@jupyter-widgets/output"
          }
        },
        "5b6b58c7a6234a5895a3b585835d935a": {
          "model_module": "@jupyter-widgets/controls",
          "model_name": "SliderStyleModel",
          "state": {
            "_view_name": "StyleView",
            "handle_color": null,
            "_model_name": "SliderStyleModel",
            "description_width": "",
            "_view_module": "@jupyter-widgets/base",
            "_model_module_version": "1.5.0",
            "_view_count": null,
            "_view_module_version": "1.2.0",
            "_model_module": "@jupyter-widgets/controls"
          }
        },
        "ed6285a2870445b697603f784377ff33": {
          "model_module": "@jupyter-widgets/base",
          "model_name": "LayoutModel",
          "state": {
            "_view_name": "LayoutView",
            "grid_template_rows": null,
            "right": null,
            "justify_content": null,
            "_view_module": "@jupyter-widgets/base",
            "overflow": null,
            "_model_module_version": "1.2.0",
            "_view_count": null,
            "flex_flow": null,
            "width": null,
            "min_width": null,
            "border": null,
            "align_items": null,
            "bottom": null,
            "_model_module": "@jupyter-widgets/base",
            "top": null,
            "grid_column": null,
            "overflow_y": null,
            "overflow_x": null,
            "grid_auto_flow": null,
            "grid_area": null,
            "grid_template_columns": null,
            "flex": null,
            "_model_name": "LayoutModel",
            "justify_items": null,
            "grid_row": null,
            "max_height": null,
            "align_content": null,
            "visibility": null,
            "align_self": null,
            "height": null,
            "min_height": null,
            "padding": null,
            "grid_auto_rows": null,
            "grid_gap": null,
            "max_width": null,
            "order": null,
            "_view_module_version": "1.2.0",
            "grid_template_areas": null,
            "object_position": null,
            "object_fit": null,
            "grid_auto_columns": null,
            "margin": null,
            "display": null,
            "left": null
          }
        },
        "4bc0a93f3fc14984820894376547eaea": {
          "model_module": "@jupyter-widgets/base",
          "model_name": "LayoutModel",
          "state": {
            "_view_name": "LayoutView",
            "grid_template_rows": null,
            "right": null,
            "justify_content": null,
            "_view_module": "@jupyter-widgets/base",
            "overflow": null,
            "_model_module_version": "1.2.0",
            "_view_count": null,
            "flex_flow": null,
            "width": null,
            "min_width": null,
            "border": null,
            "align_items": null,
            "bottom": null,
            "_model_module": "@jupyter-widgets/base",
            "top": null,
            "grid_column": null,
            "overflow_y": null,
            "overflow_x": null,
            "grid_auto_flow": null,
            "grid_area": null,
            "grid_template_columns": null,
            "flex": null,
            "_model_name": "LayoutModel",
            "justify_items": null,
            "grid_row": null,
            "max_height": null,
            "align_content": null,
            "visibility": null,
            "align_self": null,
            "height": null,
            "min_height": null,
            "padding": null,
            "grid_auto_rows": null,
            "grid_gap": null,
            "max_width": null,
            "order": null,
            "_view_module_version": "1.2.0",
            "grid_template_areas": null,
            "object_position": null,
            "object_fit": null,
            "grid_auto_columns": null,
            "margin": null,
            "display": null,
            "left": null
          }
        },
        "00223a68404f42a489c8fa6363aaa1e8": {
          "model_module": "@jupyter-widgets/controls",
          "model_name": "VBoxModel",
          "state": {
            "_view_name": "VBoxView",
            "_dom_classes": [
              "widget-interact"
            ],
            "_model_name": "VBoxModel",
            "_view_module": "@jupyter-widgets/controls",
            "_model_module_version": "1.5.0",
            "_view_count": null,
            "_view_module_version": "1.5.0",
            "box_style": "",
            "layout": "IPY_MODEL_f371d7bc2c4b4416b2c08cd5a650dec7",
            "_model_module": "@jupyter-widgets/controls",
            "children": [
              "IPY_MODEL_de618fb97bb94c0bac7d3c4cc69f8703",
              "IPY_MODEL_96ddbcf7181846be97ca8b51d72b94e0"
            ]
          }
        },
        "f371d7bc2c4b4416b2c08cd5a650dec7": {
          "model_module": "@jupyter-widgets/base",
          "model_name": "LayoutModel",
          "state": {
            "_view_name": "LayoutView",
            "grid_template_rows": null,
            "right": null,
            "justify_content": null,
            "_view_module": "@jupyter-widgets/base",
            "overflow": null,
            "_model_module_version": "1.2.0",
            "_view_count": null,
            "flex_flow": null,
            "width": null,
            "min_width": null,
            "border": null,
            "align_items": null,
            "bottom": null,
            "_model_module": "@jupyter-widgets/base",
            "top": null,
            "grid_column": null,
            "overflow_y": null,
            "overflow_x": null,
            "grid_auto_flow": null,
            "grid_area": null,
            "grid_template_columns": null,
            "flex": null,
            "_model_name": "LayoutModel",
            "justify_items": null,
            "grid_row": null,
            "max_height": null,
            "align_content": null,
            "visibility": null,
            "align_self": null,
            "height": null,
            "min_height": null,
            "padding": null,
            "grid_auto_rows": null,
            "grid_gap": null,
            "max_width": null,
            "order": null,
            "_view_module_version": "1.2.0",
            "grid_template_areas": null,
            "object_position": null,
            "object_fit": null,
            "grid_auto_columns": null,
            "margin": null,
            "display": null,
            "left": null
          }
        },
        "de618fb97bb94c0bac7d3c4cc69f8703": {
          "model_module": "@jupyter-widgets/controls",
          "model_name": "IntSliderModel",
          "state": {
            "_view_name": "IntSliderView",
            "style": "IPY_MODEL_433a8fde0f4144d28de59bf8f6d59212",
            "_dom_classes": [],
            "description": "n",
            "step": 1,
            "_model_name": "IntSliderModel",
            "orientation": "horizontal",
            "max": 30,
            "_view_module": "@jupyter-widgets/controls",
            "_model_module_version": "1.5.0",
            "value": 19,
            "_view_count": null,
            "disabled": false,
            "_view_module_version": "1.5.0",
            "min": 4,
            "continuous_update": true,
            "readout_format": "d",
            "description_tooltip": null,
            "readout": true,
            "_model_module": "@jupyter-widgets/controls",
            "layout": "IPY_MODEL_2583ec17f3954ce4bdefc6858517c1f0"
          }
        },
        "96ddbcf7181846be97ca8b51d72b94e0": {
          "model_module": "@jupyter-widgets/output",
          "model_name": "OutputModel",
          "state": {
            "_view_name": "OutputView",
            "msg_id": "",
            "_dom_classes": [],
            "_model_name": "OutputModel",
            "outputs": [
              {
                "output_type": "display_data",
                "metadata": {
                  "tags": [],
                  "needs_background": "light"
                },
                "image/png": "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\n",
                "text/plain": "<Figure size 432x288 with 1 Axes>"
              },
              {
                "output_type": "stream",
                "metadata": {
                  "tags": []
                },
                "text": "el valor de la integral mediante el metodo de cuadratura del  Trapecio Compuesto es: 0.3162768031189083\n",
                "stream": "stdout"
              }
            ],
            "_view_module": "@jupyter-widgets/output",
            "_model_module_version": "1.0.0",
            "_view_count": null,
            "_view_module_version": "1.0.0",
            "layout": "IPY_MODEL_364b27b9cf5d4496a3edc25b2d54630b",
            "_model_module": "@jupyter-widgets/output"
          }
        },
        "433a8fde0f4144d28de59bf8f6d59212": {
          "model_module": "@jupyter-widgets/controls",
          "model_name": "SliderStyleModel",
          "state": {
            "_view_name": "StyleView",
            "handle_color": null,
            "_model_name": "SliderStyleModel",
            "description_width": "",
            "_view_module": "@jupyter-widgets/base",
            "_model_module_version": "1.5.0",
            "_view_count": null,
            "_view_module_version": "1.2.0",
            "_model_module": "@jupyter-widgets/controls"
          }
        },
        "2583ec17f3954ce4bdefc6858517c1f0": {
          "model_module": "@jupyter-widgets/base",
          "model_name": "LayoutModel",
          "state": {
            "_view_name": "LayoutView",
            "grid_template_rows": null,
            "right": null,
            "justify_content": null,
            "_view_module": "@jupyter-widgets/base",
            "overflow": null,
            "_model_module_version": "1.2.0",
            "_view_count": null,
            "flex_flow": null,
            "width": null,
            "min_width": null,
            "border": null,
            "align_items": null,
            "bottom": null,
            "_model_module": "@jupyter-widgets/base",
            "top": null,
            "grid_column": null,
            "overflow_y": null,
            "overflow_x": null,
            "grid_auto_flow": null,
            "grid_area": null,
            "grid_template_columns": null,
            "flex": null,
            "_model_name": "LayoutModel",
            "justify_items": null,
            "grid_row": null,
            "max_height": null,
            "align_content": null,
            "visibility": null,
            "align_self": null,
            "height": null,
            "min_height": null,
            "padding": null,
            "grid_auto_rows": null,
            "grid_gap": null,
            "max_width": null,
            "order": null,
            "_view_module_version": "1.2.0",
            "grid_template_areas": null,
            "object_position": null,
            "object_fit": null,
            "grid_auto_columns": null,
            "margin": null,
            "display": null,
            "left": null
          }
        },
        "364b27b9cf5d4496a3edc25b2d54630b": {
          "model_module": "@jupyter-widgets/base",
          "model_name": "LayoutModel",
          "state": {
            "_view_name": "LayoutView",
            "grid_template_rows": null,
            "right": null,
            "justify_content": null,
            "_view_module": "@jupyter-widgets/base",
            "overflow": null,
            "_model_module_version": "1.2.0",
            "_view_count": null,
            "flex_flow": null,
            "width": null,
            "min_width": null,
            "border": null,
            "align_items": null,
            "bottom": null,
            "_model_module": "@jupyter-widgets/base",
            "top": null,
            "grid_column": null,
            "overflow_y": null,
            "overflow_x": null,
            "grid_auto_flow": null,
            "grid_area": null,
            "grid_template_columns": null,
            "flex": null,
            "_model_name": "LayoutModel",
            "justify_items": null,
            "grid_row": null,
            "max_height": null,
            "align_content": null,
            "visibility": null,
            "align_self": null,
            "height": null,
            "min_height": null,
            "padding": null,
            "grid_auto_rows": null,
            "grid_gap": null,
            "max_width": null,
            "order": null,
            "_view_module_version": "1.2.0",
            "grid_template_areas": null,
            "object_position": null,
            "object_fit": null,
            "grid_auto_columns": null,
            "margin": null,
            "display": null,
            "left": null
          }
        },
        "cf2887939e2d4d9c8d8a34d906ae5d97": {
          "model_module": "@jupyter-widgets/controls",
          "model_name": "VBoxModel",
          "state": {
            "_view_name": "VBoxView",
            "_dom_classes": [
              "widget-interact"
            ],
            "_model_name": "VBoxModel",
            "_view_module": "@jupyter-widgets/controls",
            "_model_module_version": "1.5.0",
            "_view_count": null,
            "_view_module_version": "1.5.0",
            "box_style": "",
            "layout": "IPY_MODEL_038fb029c93343b39f661707534438ec",
            "_model_module": "@jupyter-widgets/controls",
            "children": [
              "IPY_MODEL_3c629de38fcf45b2b6626a5f16f71715",
              "IPY_MODEL_55013183549049c092ce8faf296c9ef7"
            ]
          }
        },
        "038fb029c93343b39f661707534438ec": {
          "model_module": "@jupyter-widgets/base",
          "model_name": "LayoutModel",
          "state": {
            "_view_name": "LayoutView",
            "grid_template_rows": null,
            "right": null,
            "justify_content": null,
            "_view_module": "@jupyter-widgets/base",
            "overflow": null,
            "_model_module_version": "1.2.0",
            "_view_count": null,
            "flex_flow": null,
            "width": null,
            "min_width": null,
            "border": null,
            "align_items": null,
            "bottom": null,
            "_model_module": "@jupyter-widgets/base",
            "top": null,
            "grid_column": null,
            "overflow_y": null,
            "overflow_x": null,
            "grid_auto_flow": null,
            "grid_area": null,
            "grid_template_columns": null,
            "flex": null,
            "_model_name": "LayoutModel",
            "justify_items": null,
            "grid_row": null,
            "max_height": null,
            "align_content": null,
            "visibility": null,
            "align_self": null,
            "height": null,
            "min_height": null,
            "padding": null,
            "grid_auto_rows": null,
            "grid_gap": null,
            "max_width": null,
            "order": null,
            "_view_module_version": "1.2.0",
            "grid_template_areas": null,
            "object_position": null,
            "object_fit": null,
            "grid_auto_columns": null,
            "margin": null,
            "display": null,
            "left": null
          }
        },
        "3c629de38fcf45b2b6626a5f16f71715": {
          "model_module": "@jupyter-widgets/controls",
          "model_name": "IntSliderModel",
          "state": {
            "_view_name": "IntSliderView",
            "style": "IPY_MODEL_4b2e90f3be89498ba312930eb3e31b10",
            "_dom_classes": [],
            "description": "n",
            "step": 1,
            "_model_name": "IntSliderModel",
            "orientation": "horizontal",
            "max": 30,
            "_view_module": "@jupyter-widgets/controls",
            "_model_module_version": "1.5.0",
            "value": 24,
            "_view_count": null,
            "disabled": false,
            "_view_module_version": "1.5.0",
            "min": 4,
            "continuous_update": true,
            "readout_format": "d",
            "description_tooltip": null,
            "readout": true,
            "_model_module": "@jupyter-widgets/controls",
            "layout": "IPY_MODEL_93ca8d1b0bcf4406aa7480ef68cf0335"
          }
        },
        "55013183549049c092ce8faf296c9ef7": {
          "model_module": "@jupyter-widgets/output",
          "model_name": "OutputModel",
          "state": {
            "_view_name": "OutputView",
            "msg_id": "",
            "_dom_classes": [],
            "_model_name": "OutputModel",
            "outputs": [
              {
                "output_type": "display_data",
                "metadata": {
                  "tags": [],
                  "needs_background": "light"
                },
                "image/png": "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\n",
                "text/plain": "<Figure size 432x288 with 1 Axes>"
              }
            ],
            "_view_module": "@jupyter-widgets/output",
            "_model_module_version": "1.0.0",
            "_view_count": null,
            "_view_module_version": "1.0.0",
            "layout": "IPY_MODEL_5c1e7209386549aea5f634385b579220",
            "_model_module": "@jupyter-widgets/output"
          }
        },
        "4b2e90f3be89498ba312930eb3e31b10": {
          "model_module": "@jupyter-widgets/controls",
          "model_name": "SliderStyleModel",
          "state": {
            "_view_name": "StyleView",
            "handle_color": null,
            "_model_name": "SliderStyleModel",
            "description_width": "",
            "_view_module": "@jupyter-widgets/base",
            "_model_module_version": "1.5.0",
            "_view_count": null,
            "_view_module_version": "1.2.0",
            "_model_module": "@jupyter-widgets/controls"
          }
        },
        "93ca8d1b0bcf4406aa7480ef68cf0335": {
          "model_module": "@jupyter-widgets/base",
          "model_name": "LayoutModel",
          "state": {
            "_view_name": "LayoutView",
            "grid_template_rows": null,
            "right": null,
            "justify_content": null,
            "_view_module": "@jupyter-widgets/base",
            "overflow": null,
            "_model_module_version": "1.2.0",
            "_view_count": null,
            "flex_flow": null,
            "width": null,
            "min_width": null,
            "border": null,
            "align_items": null,
            "bottom": null,
            "_model_module": "@jupyter-widgets/base",
            "top": null,
            "grid_column": null,
            "overflow_y": null,
            "overflow_x": null,
            "grid_auto_flow": null,
            "grid_area": null,
            "grid_template_columns": null,
            "flex": null,
            "_model_name": "LayoutModel",
            "justify_items": null,
            "grid_row": null,
            "max_height": null,
            "align_content": null,
            "visibility": null,
            "align_self": null,
            "height": null,
            "min_height": null,
            "padding": null,
            "grid_auto_rows": null,
            "grid_gap": null,
            "max_width": null,
            "order": null,
            "_view_module_version": "1.2.0",
            "grid_template_areas": null,
            "object_position": null,
            "object_fit": null,
            "grid_auto_columns": null,
            "margin": null,
            "display": null,
            "left": null
          }
        },
        "5c1e7209386549aea5f634385b579220": {
          "model_module": "@jupyter-widgets/base",
          "model_name": "LayoutModel",
          "state": {
            "_view_name": "LayoutView",
            "grid_template_rows": null,
            "right": null,
            "justify_content": null,
            "_view_module": "@jupyter-widgets/base",
            "overflow": null,
            "_model_module_version": "1.2.0",
            "_view_count": null,
            "flex_flow": null,
            "width": null,
            "min_width": null,
            "border": null,
            "align_items": null,
            "bottom": null,
            "_model_module": "@jupyter-widgets/base",
            "top": null,
            "grid_column": null,
            "overflow_y": null,
            "overflow_x": null,
            "grid_auto_flow": null,
            "grid_area": null,
            "grid_template_columns": null,
            "flex": null,
            "_model_name": "LayoutModel",
            "justify_items": null,
            "grid_row": null,
            "max_height": null,
            "align_content": null,
            "visibility": null,
            "align_self": null,
            "height": null,
            "min_height": null,
            "padding": null,
            "grid_auto_rows": null,
            "grid_gap": null,
            "max_width": null,
            "order": null,
            "_view_module_version": "1.2.0",
            "grid_template_areas": null,
            "object_position": null,
            "object_fit": null,
            "grid_auto_columns": null,
            "margin": null,
            "display": null,
            "left": null
          }
        }
      }
    }
  },
  "cells": [
    {
      "cell_type": "markdown",
      "metadata": {
        "id": "ScSKHDcow79x",
        "colab_type": "text"
      },
      "source": [
        "# Integración numérica.\n",
        "Profesor: M.en.C. Miguel Ángel Pérez León.\n",
        "\n",
        "Ayudante: Jesús Iván Coss Calderón.\n",
        "\n",
        "Materia: Análisis Numérico."
      ]
    },
    {
      "cell_type": "markdown",
      "metadata": {
        "id": "cbG3g1S0w79y",
        "colab_type": "text"
      },
      "source": [
        "## 1. Introducción.\n",
        "\n",
        "Muy frecuentemente es necesario evaluar la integral definida de una función $f\\left(x\\right)$ en un intervalo $\\left[a,b\\right]$. El objetivo de esta sección es encontrar métodos para aproximar la integral\n",
        "\n",
        "$$\\int_{a}^{b}f\\left(x\\right)dx$$\n",
        "\n",
        "Si se conoce a priori la $\\color{blue}{antiderivada}$ $F\\left(x\\right)$ entonces es evidente que podemos encontrar el valor exacto de la integral, aplicando el siguiente teorema\n",
        "\n",
        "\n",
        "$\\color{blue}{Teorema}$.  Teorema Fundamental de Cálculo.\n",
        "\n",
        "Sea $f\\left(x\\right)$ integrable en el intervalo $\\left[a,b\\right]$ y $F'\\left(x\\right)=f\\left(x\\right)$ entonces,$\\int_{a}^{b}f\\left(x\\right)dx=F\\left(a\\right)-F\\left(b\\right)$\n",
        "\n",
        "\n",
        "Sin embargo como en otras partes del curso, a veces encontrar a $F$ es muy complicado, de tal manera que la mejor opción es encontrar una aproximación.\n",
        "\n",
        "$$\\int_{a}^{b}f\\left(x\\right)dx$$\n",
        "\n",
        "La forma básica para encontrar una aproximación de $\\int_{a}^{b}f\\left(x\\right)dx$, se conoce como $\\color{blue}{cuadratura\\hspace{1mm} numérica}$ y emplea una sumatoria del tipo\n",
        "\n",
        "$$\\sum_{i=0}^{n}a_{i}f\\left(x_{i}\\right)$$\n",
        "\n",
        "Existen diferentes aproximaciones de la integral de $f\\left(x\\right)$ mediante cuadratura numérica, en esta sección revisaremos algunas de las mas comunes."
      ]
    },
    {
      "cell_type": "markdown",
      "metadata": {
        "id": "QNpXtFzFw79z",
        "colab_type": "text"
      },
      "source": [
        "## 2. Cuadratura Numérica.\n",
        "\n",
        "Los métodos de integración numérica se basan en los polinomios de Lagrange visto en secciones previas. La idea básica es que seleccionamos un conjunto de nodos distintos $x_{0},\\ldots,x_{n}$ del intervalo $ \\left[a,b\\right]$. Después se integra el polinomio de Lagrange\n",
        "\n",
        "$$P_{n}\\left(x\\right)=\\sum_{i=0}^{n}f\\left(x_{i}\\right)L_{i}\\left(x\\right)$$\n",
        "\n",
        "Y también se integra el termino de error de truncamiento en $\\left[a,b\\right]$\n",
        "\n",
        "$$\\prod_{i=0}^{n}\\left(x-x_{i}\\right)\\frac{f^{\\left(n+1\\right)}\\left(\\xi\\left(x\\right)\\right)}{\\left(n+1\\right)!}dx$$\n",
        "\n",
        "De tal manera que obtenemos\n",
        "\n",
        "$$ \\int_{a}^{b}f\\left(x\\right)dx=\\int_{a}^{b}\\sum_{i=0}^{n}f\\left(x_{i}\\right)L_{i}\\left(x\\right)dx+\\int_{a}^{b}\\prod_{i=0}^{n}\\left(x-x_{i}\\right)\\frac{f^{\\left(n+1\\right)}\\left(\\xi\\left(x\\right)\\right)}{\\left(n+1\\right)!}dx\\\\=\\sum_{i=0}^{n}a_{i}f\\left(x_{i}\\right)+\\frac{1}{\\left(n+1\\right)!}\\int_{a}^{b}\\prod_{i=0}^{n}\\left(x-x_{i}\\right)f^{\\left(n+1\\right)}\\left(\\xi\\left(x\\right)\\right)dx $$\n",
        "\n",
        "Donde $\\xi\\left(x\\right)$ se encuentra en $\\left[a,b\\right]$ para cada $x$ y\n",
        "\n",
        "$$a_{i}=\\int_{a}^{b}L_{i}\\left(x\\right)dx,\\quad para\\,cada\\,i=0,1,\\ldots,n$$\n",
        "\n",
        "Por lo tanto, la formula de la cuadratura es\n",
        "\n",
        "$$\\int_{a}^{b}f\\left(x\\right)dx=\\sum_{i=0}^{n}a_{i}f\\left(x_{i}\\right) \\tag{1}$$\n",
        "\n",
        "Con un error dado por\n",
        "\n",
        "$$E\\left(f\\right)=\\frac{1}{\\left(n+1\\right)!}\\int_{a}^{b}\\prod_{i=0}^{n}\\left(x-x_{i}\\right)f^{\\left(n+1\\right)}\\left(\\xi\\left(x\\right)\\right)dx$$\n",
        "\n",
        "De la misma manera que en otros temas vistos en el curso, la aproximación sera mas exacta si subdividimos el intervalo $\\left[a,b\\right]$ en tantos subintervalos como sea necesario, es decir\n",
        "\n",
        "Sea\n",
        "\n",
        "$$\\left[a,b\\right]=\\left[a,x_{1}\\right]\\cup\\left[x_{1},x_{2}\\right]\\cup\\cdots\\cup\\left[x_{n-2},x_{n-1}\\right]\\cup\\left[x_{n-1},b\\right]$$\n",
        "\n",
        "Donde\n",
        "\n",
        "$$x_{k}=a+\\frac{b-a}{n}k,\\quad n=0,1,2,\\ldots,n,\\quad x_{0}=a,\\,x_{n}=b$$\n",
        "\n",
        "\n",
        "Tendremos\n",
        "\n",
        "$$\\int_{a}^{b}f\\left(x\\right)dx=\\int_{a}^{x_{1}}f\\left(x\\right)dx+\\cdots+\\int_{x_{k}}^{x_{k+1}}f\\left(x\\right)dx+\\cdots+\\int_{x_{n-1}}^{b}f\\left(x\\right)dx \\tag{2} $$\n",
        "\n",
        "Observación, todos los nodos son igualmente espaciados.\n",
        "\n",
        "### 2.1. Cuadratura del rectángulo.\n",
        "\n",
        "La forma de cuadratura mas simple es la que emplea rectángulos de base $\\left(b-a\\right)$ y altura $f\\left(a\\right)$\n",
        "\n",
        "$$\\int_{a}^{b}f\\left(x\\right)dx=\\left(b-a\\right)f\\left(a\\right)+E\\left(f\\right) \\tag{3}$$\n",
        "\n",
        "Combinando 1) y 3), se obtiene la forma general de la cuadratura mediante rectángulos\n",
        "\n",
        "$$\\int_{a}^{b}f\\left(x\\right)dx=\\frac{b-a}{n}\\sum_{i=0}^{n-1}f\\left(x_{i}\\right)+E\\left(f\\right)$$\n",
        "\n",
        "### codigo en python"
      ]
    },
    {
      "cell_type": "code",
      "metadata": {
        "id": "xoCX7k-_w790",
        "colab_type": "code",
        "colab": {
          "base_uri": "https://localhost:8080/",
          "height": 363,
          "referenced_widgets": [
            "9fa9a2991c144174b3552ac0a07fd4a4",
            "c4505651f5a444ddad781dd2846dfc1a",
            "4318bd3f23db4063b5f9383b4e8bf2b6",
            "7c3b655d15ba4e68882faa6f8eba960a",
            "233e8e1931b54151b977f29236d01409",
            "8dc96bf868d54e5da78f1f4ac089f91b",
            "f14236706e2848aa93ccbbef038d495f"
          ]
        },
        "outputId": "3de666d1-b188-4fac-88cb-60e938b3a3b0"
      },
      "source": [
        "import numpy as np\n",
        "from IPython.html.widgets import interact\n",
        "import ipywidgets as \n",
        "import matplotlib.pyplot as plt\n",
        "%matplotlib inline\n",
        "\n",
        "def rectangulos(n):\n",
        "    # a punto inicial del intervalo \n",
        "    # b punto final del intervalo \n",
        "    # f funcion a integrar\n",
        "    # n los puntos que se usaran para integrar \n",
        "    a=0\n",
        "    b=1\n",
        "    \n",
        "    def f(x):\n",
        "        return x*x\n",
        "    \n",
        "    xp=np.linspace(a,b,30)\n",
        "    fp=f(xp)\n",
        "    \n",
        "    x=np.linspace(a,b,n) # se crea la particion\n",
        "    fx=[ f(x[i]) for i in range(len (x))]\n",
        "    plt.bar(x,fx,width=((b-a)/n),color='orange')\n",
        "    plt.plot(xp,fp,color='black')\n",
        "    plt.title(\"Aproximacion de la integral con el metodo de la cuadratura del rectangulo\")\n",
        "    plt.xlabel(\"x\")\n",
        "    plt.ylabel(r\"$f \\left(x\\right) = x^{2}$\")\n",
        "    plt.grid()\n",
        "    plt.show()\n",
        "    cuadratura=0.0\n",
        "    for i in range (len(x)):\n",
        "        cuadratura+=f(x[i])\n",
        "        \n",
        "    integral=((b-a)/n)*cuadratura\n",
        "\n",
        "    print(\"el valor de la integral mediante el metodo de cuadratura del rectangulo es: {}\".format(integral)) \n",
        "\n",
        "interact(rectangulos,n=widgets.IntSlider(min=2,max=30,step=1,value=2))"
      ],
      "execution_count": null,
      "outputs": [
        {
          "output_type": "display_data",
          "data": {
            "application/vnd.jupyter.widget-view+json": {
              "model_id": "9fa9a2991c144174b3552ac0a07fd4a4",
              "version_minor": 0,
              "version_major": 2
            },
            "text/plain": [
              "interactive(children=(IntSlider(value=2, description='n', max=30, min=2), Output()), _dom_classes=('widget-int…"
            ]
          },
          "metadata": {
            "tags": []
          }
        },
        {
          "output_type": "execute_result",
          "data": {
            "text/plain": [
              "<function __main__.rectangulos>"
            ]
          },
          "metadata": {
            "tags": []
          },
          "execution_count": 17
        }
      ]
    },
    {
      "cell_type": "markdown",
      "metadata": {
        "id": "NM8gZ8Dqw794",
        "colab_type": "text"
      },
      "source": [
        "### 2.2.  Cuadratura del punto medio.\n",
        "\n",
        "Una aproximación de la integral $\\int_{a}^{b}f\\left(x\\right)dx$ consiste en aproximar el área bajo la curva $y=f\\left(x\\right)$ por un rectángulo de base $b-a$ y altura $f\\left(\\frac{a+b}{2}\\right)$, entonces\n",
        "\n",
        "$$\\int_{a}^{b}f\\left(x\\right)dx=\\left(b-a\\right)f\\left(\\frac{a+b}{2}\\right)+E\\left(f\\right) \\tag{4} $$\n",
        "\n",
        "Donde $E\\left(f\\right)$, si $f$ tiene primera y segunda derivada continuas en $\\left[a,b\\right]$, se expresa así\n",
        "\n",
        "$$E\\left(f\\right)=\\frac{\\left(b-a\\right)^{2}}{24}f''\\left(\\xi\\right)\\quad\\xi\\in\\left[a,b\\right]$$\n",
        "\n",
        "Combinando 1) y 4), se obtiene la forma general de la cuadratura del punto medio\n",
        "\n",
        "$$\\int_{a}^{b}f\\left(x\\right)dx=\\frac{b-a}{n}\\sum_{i=0}^{n-1}f\\left(\\frac{x_{i}+x_{i+1}}{2}\\right)+E\\left(f\\right)$$\n",
        "\n",
        "### codigo en python"
      ]
    },
    {
      "cell_type": "code",
      "metadata": {
        "id": "OZOU5EaVw796",
        "colab_type": "code",
        "colab": {
          "base_uri": "https://localhost:8080/",
          "height": 363,
          "referenced_widgets": [
            "1ac2c7e82cbb43ce8c2833b03ea4a05a",
            "20b7204590f74f0e872177bba2132c60",
            "8130a68bf8384675a4a970544eede6af",
            "c39e5175e0db4e958f039d061dbce017",
            "5b6b58c7a6234a5895a3b585835d935a",
            "ed6285a2870445b697603f784377ff33",
            "4bc0a93f3fc14984820894376547eaea"
          ]
        },
        "outputId": "a152a65a-0991-40f9-d4c7-574c1d18d814"
      },
      "source": [
        "def PuntoMedio(n):\n",
        "    # a punto inicial del intervalo \n",
        "    # b punto final del intervalo \n",
        "    # f funcion a integrar\n",
        "    # n los puntos que se usaran para integrar \n",
        "    a=0\n",
        "    b=1\n",
        "    def f(x):\n",
        "        return x*x\n",
        "    \n",
        "    xp=np.linspace(a,b,30)\n",
        "    fp=f(xp)\n",
        "    \n",
        "    x=np.linspace(a,b,n) # se crea la particion\n",
        "    fx=[ f(x[i]) for i in range(len (x))]\n",
        "    plt.bar(x,fx,width=((b-a)/n),color='orange')\n",
        "    plt.plot(xp,fp,color='black')\n",
        "    plt.title(\"Aproximacion de la integral con el metodo del Punto medio\")\n",
        "    plt.xlabel(\"x\")\n",
        "    plt.ylabel(r\"$f \\left(x\\right) = x^{2}$\")\n",
        "    plt.grid()\n",
        "    plt.show()\n",
        "    cuadratura=0.0\n",
        "    for i in range (len(x)-1):\n",
        "        cuadratura+=f( (x[i]+x[i+1])/2 )\n",
        "    integral=((b-a)/n)*cuadratura\n",
        "    \n",
        "    print(\"el valor de la integral mediante el metodo de cuadratura del punto medio es: {}\".format(integral)) \n",
        "\n",
        "interact(PuntoMedio,n=widgets.IntSlider(min=2,max=30,step=1,value=2))"
      ],
      "execution_count": null,
      "outputs": [
        {
          "output_type": "display_data",
          "data": {
            "application/vnd.jupyter.widget-view+json": {
              "model_id": "1ac2c7e82cbb43ce8c2833b03ea4a05a",
              "version_minor": 0,
              "version_major": 2
            },
            "text/plain": [
              "interactive(children=(IntSlider(value=2, description='n', max=30, min=2), Output()), _dom_classes=('widget-int…"
            ]
          },
          "metadata": {
            "tags": []
          }
        },
        {
          "output_type": "execute_result",
          "data": {
            "text/plain": [
              "<function __main__.PuntoMedio>"
            ]
          },
          "metadata": {
            "tags": []
          },
          "execution_count": 18
        }
      ]
    },
    {
      "cell_type": "markdown",
      "metadata": {
        "id": "nE9yuzw9w79_",
        "colab_type": "text"
      },
      "source": [
        "### 2.3.  Cuadratura del trapecio.\n",
        "\n",
        "Para derivar la regla del trapecio para aproximar $\\int_{a}^{b}f\\left(x\\right)dx$, tomemos $x_{0}=a,\\,x_{1}=b,\\,h=b-a$ y calculando el polinomio lineal de Lagrange\n",
        "\n",
        "$$P\\left(x\\right)=\\left(\\frac{x-x_{1}}{x_{0}-x_{1}}\\right)f(x_{0})+\\left(\\frac{x-x_{0}}{x_{1}-x_{0}}\\right)f(x_{1})$$\n",
        "\n",
        "Al integrar este polinomio se tiene\n",
        "\n",
        "$$\\int_{a}^{b}f\\left(x\\right)dx=\\int_{x_{0}}^{x_{1}}\\left[\\left(\\frac{x-x_{1}}{x_{0}-x_{1}}\\right)f(x_{0})+\\left(\\frac{x-x_{0}}{x_{1}-x_{0}}\\right)f(x_{1})\\right]dx\\\\+\\frac{1}{2}\\int_{x_{0}}^{x_{1}}f''\\left(\\xi\\left(x\\right)\\right)\\left(x-x_{0}\\right)\\left(x-x_{1}\\right)dx$$\n",
        "\n",
        "Donde la integral del error es $-\\frac{h^{3}}{6}f''\\left(\\xi\\right)$, lo que nos lleva a la forma general de la cuadratura del trapecio\n",
        "\n",
        "$$\\int_{a}^{b}f\\left(x\\right)dx=\\left[\\frac{x-x_{1}}{2\\left(x_{0}-x_{1}\\right)}f(x_{0})+\\frac{x-x_{0}}{2\\left(x_{1}-x_{0}\\right)}f(x_{1})\\right]_{x_{0}}^{x_{1}}-\\frac{h^{3}}{12}f''\\left(\\xi\\right)\\\\=\\frac{\\left(x_{1}-x_{0}\\right)}{2}\\left[f\\left(x_{0}\\right)+f\\left(x_{1}\\right)\\right]-\\frac{h^{3}}{12}f''\\left(\\xi\\right) $$\n",
        "\n",
        "Tomando en cuenta que $h=x_{1}-x_{0}$, obtenemos la forma general de la cuadratura del trapecio\n",
        "\n",
        "$$\\int_{a}^{b}f\\left(x\\right)dx=\\frac{h}{2}\\left[f\\left(x_{0}\\right)+f\\left(x_{1}\\right)\\right]-\\frac{h^{3}}{12}f''\\left(\\xi\\right)$$\n",
        "\n",
        "### codigo en python"
      ]
    },
    {
      "cell_type": "code",
      "metadata": {
        "id": "sFvxeX94w79_",
        "colab_type": "code",
        "colab": {},
        "outputId": "4e9cd493-59ed-46c5-d513-1593395ed839"
      },
      "source": [
        "def Trapecio():\n",
        "    # a punto inicial del intervalo \n",
        "    # b punto final del intervalo \n",
        "    # f funcion a integrar\n",
        "    a=0\n",
        "    b=1\n",
        "    def f(x):\n",
        "        return x*x\n",
        "    \n",
        "    integral=((b-a)/2)*(f(a)+f(b))\n",
        "    print(\"el valor de la integral mediante el metodo de cuadratura del Trapecio: {}\".format(integral))\n",
        "\n",
        "Trapecio()"
      ],
      "execution_count": null,
      "outputs": [
        {
          "output_type": "stream",
          "text": [
            "el valor de la integral mediante el metodo de cuadratura del Trapecio: 0.5\n"
          ],
          "name": "stdout"
        }
      ]
    },
    {
      "cell_type": "markdown",
      "metadata": {
        "id": "f1IO7V-qw7-D",
        "colab_type": "text"
      },
      "source": [
        "### 2.3.  Cuadratura del trapecio compuesto.\n",
        "\n",
        "Sean los nodos $a=x_{0}<x_{1}<\\cdots<x_{n}=b$ con $h_{i}=x_{i+1}-x_{i}$ y lo que se busca es aproximar el valor de $\\int_{a}^{b}f\\left(x\\right)dx$. Ademas aprovechamos el hecho de que \n",
        "\n",
        "$$\\int_{a}^{b}f\\left(x\\right)dx\t=\t\\int_{a}^{c}f\\left(x\\right)dx+\\int_{c}^{b}f\\left(x\\right)dx$$\n",
        "\n",
        "Integrando sobre los subintervalos $\\left[x_{i},x_{i+1}\\right]$, para $i=0,\\ldots,n-1$ y aplicando la regla del trapecio simple, se obtiene\n",
        "\n",
        "$$\\int_{a}^{b}f\\left(x\\right)dx=\\sum_{i=0}^{n-1}\\int_{x_{i}}^{x_{i+1}}f\\left(x\\right)=\\sum_{i=0}^{n-1}\\frac{h_{i}}{2}\\left[f\\left(x_{i}\\right)+f\\left(x_{i+1}\\right)\\right]-\\sum_{i=0}^{n-1}\\frac{h_{i}^{3}}{12}f''\\left(\\xi_{i}\\right),\\quad\\xi_{i}\\in\\left(x_{i+1},x_{i}\\right) $$\n",
        "\n",
        "Si consideramos $h=h_{i}$ para $i=0,\\ldots,n-1$ y $f''\\left(x\\right)$ continua, entonces obtenemos el error total\n",
        "\n",
        "$$E_{T}=-\\frac{h^{3}}{12}\\sum_{i=0}^{n-1}f''\\left(\\xi_{i}\\right)=-\\frac{h^{3}}{12}nf''\\left(\\xi\\right)=-\\frac{h^{2}}{12}nhf''\\left(\\xi\\right)$$\n",
        "\n",
        "Donde $\\xi\\in\\left(x_{0},x_{n}\\right)$ y $h=\\frac{x_{n}-x_{0}}{n}$ entonces $E_{T}=-\\frac{h^{2}}{12}\\left(x_{n}-x_{0}\\right)f''\\left(\\xi\\right)$, es decir\n",
        "\n",
        "$$ \\int_{a}^{b}f\\left(x\\right)dx=\\frac{h}{2}\\left[f\\left(x_{0}\\right)+2f\\left(x_{1}\\right)+\\cdots+2f\\left(x_{n-1}\\right)+f\\left(x_{n}\\right)\\right]-\\frac{h^{2}}{12}\\left(x_{n}-x_{0}\\right)f''\\left(\\xi\\right)$$\n",
        "\n",
        "Así que\n",
        "\n",
        "$$\\int_{a}^{b}f\\left(x\\right)dx=\\frac{h}{2}\\left[f\\left(a\\right)+2\\sum_{i=1}^{n-1}f\\left(x_{i}\\right)+f\\left(b\\right)\\right]-\\frac{b-a}{12}h^{2}f''\\left(\\xi\\right)$$\n",
        "\n",
        "Es la forma general de la cuadratura del trapecio compuesto.\n",
        "\n",
        "### codigo en python"
      ]
    },
    {
      "cell_type": "code",
      "metadata": {
        "id": "LWgI2-zkw7-E",
        "colab_type": "code",
        "colab": {
          "base_uri": "https://localhost:8080/",
          "height": 363,
          "referenced_widgets": [
            "00223a68404f42a489c8fa6363aaa1e8",
            "f371d7bc2c4b4416b2c08cd5a650dec7",
            "de618fb97bb94c0bac7d3c4cc69f8703",
            "96ddbcf7181846be97ca8b51d72b94e0",
            "433a8fde0f4144d28de59bf8f6d59212",
            "2583ec17f3954ce4bdefc6858517c1f0",
            "364b27b9cf5d4496a3edc25b2d54630b"
          ]
        },
        "outputId": "d1854f9f-7a7f-4959-8219-ed8c57648217"
      },
      "source": [
        "def TrapComp(n):\n",
        "    # a punto inicial del intervalo \n",
        "    # b punto final del intervalo \n",
        "    # f funcion a integrar\n",
        "    # n los puntos que se usaran para integrar \n",
        "    a=0\n",
        "    b=1\n",
        "    def f(x):\n",
        "        return x*x\n",
        "    \n",
        "    xp=np.linspace(a,b,30)\n",
        "    fp=f(xp)\n",
        "    \n",
        "    x=np.linspace(a,b,n) # se crea la particion\n",
        "    fx=[ f(x[i]) for i in range(len (x))]\n",
        "    plt.bar(x,fx,width=((b-a)/n),color='orange')\n",
        "    plt.plot(xp,fp,color='black')\n",
        "    plt.title(\"Aproximacion de la integral con el metodo del Trapecio compuesto\")\n",
        "    plt.xlabel(\"x\")\n",
        "    plt.ylabel(r\"$f \\left(x\\right) = x^{2}$\")\n",
        "    plt.grid()\n",
        "    plt.show()\n",
        "    cuadratura=0.0\n",
        "    for i in range (1,len(x)-1):\n",
        "        cuadratura+=f( x[i])\n",
        "\n",
        "    integral=((b-a)/(2*n))*(2*cuadratura+f(a)+f(b))\n",
        "    \n",
        "    print(\"el valor de la integral mediante el metodo de cuadratura del  Trapecio Compuesto es: {}\".format(integral)) \n",
        "\n",
        "interact(TrapComp,n=widgets.IntSlider(min=4,max=30,step=1,value=4))"
      ],
      "execution_count": null,
      "outputs": [
        {
          "output_type": "display_data",
          "data": {
            "application/vnd.jupyter.widget-view+json": {
              "model_id": "00223a68404f42a489c8fa6363aaa1e8",
              "version_minor": 0,
              "version_major": 2
            },
            "text/plain": [
              "interactive(children=(IntSlider(value=4, description='n', max=30, min=4), Output()), _dom_classes=('widget-int…"
            ]
          },
          "metadata": {
            "tags": []
          }
        },
        {
          "output_type": "execute_result",
          "data": {
            "text/plain": [
              "<function __main__.TrapComp>"
            ]
          },
          "metadata": {
            "tags": []
          },
          "execution_count": 19
        }
      ]
    },
    {
      "cell_type": "markdown",
      "metadata": {
        "id": "sjL0EQ79w7-J",
        "colab_type": "text"
      },
      "source": [
        "### 2.4.  Cuadratura de Simpson $\\frac{1}{3}$\n",
        "\n",
        "Se obtiene al integrar en $\\left[a,b\\right]$ el segundo polinomio de Lagrange con los nodos $x_{0}=a,\\,x_{1}=a+h\\,y\\,x_{2}=b$ donde $h=\\frac{b-a}{2}$\n",
        "\n",
        "$$\\int_{a}^{b}f\\left(x\\right)dx=\\int_{x_{0}}^{x_{2}}\\left[\\frac{\\left(x-x_{1}\\right)\\left(x-x_{2}\\right)}{\\left(x_{0}-x_{1}\\right)\\left(x_{0}-x_{2}\\right)}f(x_{0})+\\frac{\\left(x-x_{0}\\right)\\left(x-x_{2}\\right)}{\\left(x_{1}-x_{0}\\right)\\left(x_{1}-x_{2}\\right)}f(x_{1})\\right]\\\\+\\int_{x_{0}}^{x_{2}}\\left[\\frac{\\left(x-x_{0}\\right)\\left(x-x_{1}\\right)}{\\left(x_{2}-x_{0}\\right)\\left(x_{2}-x_{1}\\right)}f(x_{2})\\right]\\\\+\\frac{1}{6}\\int_{x_{0}}^{x_{2}}f'''\\left(\\xi\\left(x\\right)\\right)\\left(x-x_{0}\\right)\\left(x-x_{1}\\right)\\left(x-x_{2}\\right)dx $$\n",
        "\n",
        "Sin embargo, al deducir la regla de Simpson de esta manera, unicamente se obtiene un término de error $O\\left(h^{4}\\right)$ que contiene a $f^{\\left(3\\right)}$. Pero si construimos la regla de otra forma, podemos deducir un termino de orden superior que incluya a $f^{\\left(4\\right)}$\n",
        "\n",
        "Supongamos que $f$ se expande mediante el tercer polinomio de Taylor alrededor de $x_{1}$. Entonces, para cada $x$ en $\\left[x_{0},x_{2}\\right]$, existe un número $\\xi\\left(x\\right)\\in\\left(x_{0},x_{2}\\right)$ con\n",
        "\n",
        "$$f\\left(x\\right)=f\\left(x_{1}\\right)+f'\\left(x_{1}\\right)\\left(x-x_{1}\\right)+\\frac{f''\\left(x_{1}\\right)\\left(x-x_{1}\\right)^{2}}{2!}\\\\+\\frac{f'''\\left(x_{1}\\right)\\left(x-x_{1}\\right)^{3}}{3!}+\\frac{f^{\\left(4\\right)}\\left(\\xi\\left(x\\right)\\right)\\left(x-x_{1}\\right)^{4}}{4!}$$\n",
        "\n",
        "Si $h=\\left(x-x_{1}\\right)$ y \n",
        "\n",
        "$$\\int_{x_{0}}^{x_{2}}f\\left(x\\right)dx=\\left[f\\left(x_{1}\\right)h+\\frac{f'\\left(x_{1}\\right)h^{2}}{2!}+\\frac{f''\\left(x_{1}\\right)h^{3}}{3!}+\\frac{f^{\\left(3\\right)}\\left(x_{1}\\right)h^{4}}{4!}\\right]_{x_{0}}^{x_{2}}+\\frac{1}{24}\\int_{x_{0}}^{x_{2}}f^{\\left(4\\right)}\\left(\\xi\\left(x\\right)\\right)h^{4}dx \\tag{5}$$\n",
        "\n",
        "Puesto que $\\left(x-x_{1}\\right)^{4}$ nunca es negativo en $\\left[x_{0},x_{2}\\right]$ y por el Teorema del Valor Medio ponderado, entonces\n",
        "\n",
        "$$\\frac{1}{24}\\int_{x_{0}}^{x_{2}}f^{\\left(4\\right)}\\left(\\xi\\left(x\\right)\\right)h^{4}dx=\\frac{f^{\\left(4\\right)}\\left(\\xi_{1}\\right)h^{4}}{24}\\int_{x_{0}}^{x_{2}}h^{4}dx=\\frac{f^{\\left(4\\right)}\\left(\\xi_{1}\\right)}{120}h^{5}\\mid_{x_{0}}^{x2}$$\n",
        "\n",
        "Para algún número $\\xi_{1}\\in\\left(x_{0},x_{2}\\right)$. Pero por otro lado $h=x_{2}-x_{1}=x_{1}-x_{0}$, así que\n",
        "\n",
        "$$\\left(x_{2}-x_{1}\\right)^{2}-\\left(x_{1}-x_{0}\\right)^{2}=\\left(x_{2}-x_{1}\\right)^{4}-\\left(x_{1}-x_{0}\\right)^{4}=0 $$\n",
        "\n",
        "Mientras que\n",
        "\n",
        "$$\\left(x_{2}-x_{1}\\right)^{3}-\\left(x_{1}-x_{0}\\right)^{3}=2h^{3}\\,y\\,\\left(x_{2}-x_{1}\\right)^{5}-\\left(x_{1}-x_{0}\\right)^{5}=2h^{5}$$\n",
        "\n",
        "Así que (5), se puede reescribir así\n",
        "\n",
        "Pero si ahora reemplazamos $f''\\left(x_{1}\\right)$ por su aproximación en diferencias finitas, se tiene\n",
        "\n",
        "$$\\int_{x_{0}}^{x_{2}}f\\left(x\\right)dx=2hf\\left(x_{1}\\right)+\\frac{h^{3}}{3}\\left\\{ \\frac{1}{h^{2}}\\left[f\\left(x_{0}\\right)-2f\\left(x_{1}\\right)+f\\left(x_{2}\\right)\\right]-\\frac{h^{2}}{12}f^{\\left(4\\right)}\\left(\\xi_{2}\\right)\\right\\} \\\\+\\frac{f^{\\left(4\\right)}\\left(\\xi_{1}\\right)h^{5}}{60}\\\\=\\frac{h}{3}\\left[f\\left(x_{0}\\right)+4f\\left(x_{1}\\right)+f\\left(x_{2}\\right)\\right]-\\frac{h^{5}}{12}\\left[\\frac{1}{3}f^{\\left(4\\right)}\\left(\\xi_{2}\\right)-\\frac{1}{5}f^{\\left(4\\right)}\\left(\\xi_{1}\\right)\\right] $$\n",
        "\n",
        "Así tenemos que\n",
        "\n",
        "$$\\int_{x_{0}}^{x_{2}}f\\left(x\\right)dx=\\frac{h}{3}\\left[f\\left(x_{0}\\right)+4f\\left(x_{1}\\right)+f\\left(x_{2}\\right)\\right]-\\frac{h^{5}}{90}f^{\\left(4\\right)}\\left(\\xi_{1}\\right)$$\n",
        "\n",
        "Es la forma general de la regla de Simpson $\\frac{1}{3}$\n",
        "\n",
        "$\\color{green}{Ejemplo}$. La regla del trapecio para una función f en el intervalo $\\left[0,2\\right]$ es \n",
        "\n",
        "$$\\int_{0}^{2}f\\left(x\\right)dx\\approx f\\left(0\\right)+f\\left(2\\right)$$\n",
        "\n",
        "y la regla de Simpson para $f$ en $\\left[0,2\\right]$ es\n",
        "\n",
        "$$\\int_{0}^{2}f\\left(x\\right)dx\\approx\\frac{1}{3}\\left[f\\left(0\\right)+4f\\left(1\\right)+f\\left(2\\right)\\right] $$\n",
        "\n",
        "Calcular las correspondientes aproximaciones para\n",
        "\n",
        "$$x^{2},x^{4},\\frac{1}{\\left(x+1\\right)},\\,\\sqrt{1+x^{2}},\\,sen\\,x,\\,e^{x}$$\n",
        "\n",
        "Notar como en todos los casos, la regla de Simpson, proporciona una mejor aproximación.\n",
        "\n",
        "| $f\\left(x\\right)$        | $x^{2}$ |  $x^{4}$ | $\\frac{1}{x+1}$|$\\sqrt{1+x^{2}}$ |sin x |$e^{x}$ |\n",
        "| :-:  | :-: | :-: |  :-: | :-:  |   :-: |   :-: | \n",
        "| Valores exactos  | 2.667 |6.400 |1.099 |2.958 |1.416 |6.389 |\n",
        "| Trapecio | 4.00\t|16.00\t|1.333|\t3.326|\t0.909|\t8.389|\n",
        "| Simpson\t|2.667|\t6.667|\t1.111|\t2.964|\t1.425|\t6.421|\n",
        "\n",
        "### codigo en python"
      ]
    },
    {
      "cell_type": "code",
      "metadata": {
        "id": "VPf_wwHmw7-K",
        "colab_type": "code",
        "colab": {},
        "outputId": "298b1787-fe94-4360-81fe-a2e366ffcb7a"
      },
      "source": [
        "def Simpson1_3():\n",
        "    # x0 punto inicial del intervalo \n",
        "    # x2 punto final del intervalo \n",
        "    # f funcion a integrar\n",
        "    x0=0\n",
        "    x2=1\n",
        "    h=(x2-x0)/2\n",
        "    x1=x0+h\n",
        "    def f(x):\n",
        "        return x*x\n",
        "        \n",
        "    integral=(h/3)*(f(x0)+4*f(x1)+f(x2))\n",
        "    \n",
        "    print(\"el valor de la integral mediante el metodo de cuadratura del  Trapecio Compuesto es: {}\".format(integral)) \n",
        "\n",
        "Simpson1_3()"
      ],
      "execution_count": null,
      "outputs": [
        {
          "output_type": "stream",
          "text": [
            "el valor de la integral mediante el metodo de cuadratura del  Trapecio Compuesto es: 0.3333333333333333\n"
          ],
          "name": "stdout"
        }
      ]
    },
    {
      "cell_type": "markdown",
      "metadata": {
        "id": "nWIDZP_Yw7-P",
        "colab_type": "text"
      },
      "source": [
        "### 2.5.  Cuadratura de Simpson $\\frac{3}{8}$\n",
        "\n",
        "Esta regla se obtiene al integra el tercer polinomio de Lagrange en $\\left[a,b\\right]$ tomando los nodos $x_{0}=a,\\,x_{1}=a+h,\\,x_{2}=a+2h,\\,y\\,x_{3}=b$ donde $h=\\frac{b-a}{3}$\n",
        "\n",
        "es decir\n",
        "\n",
        "$$\\int_{a}^{b}f\\left(x\\right)dx\\approx\\int_{a}^{b}P_{3}\\left(x\\right)dx=\\frac{3h}{8} \\left[f\\left(x_{0}\\right)+3f\\left(x_{1}\\right)+3f\\left(x_{2}\\right)+f\\left(x_{3}\\right)\\right]$$\n",
        "\n",
        "Es importante notar que esta regla es una suma ponderada de los valores de $f\\left(x\\right)$ en los dos puntos finales $x_{0}=a$ y $x_{3}=b$, y los dos puntos $x_{1},x_{2}$ divide el intervalo en tres partes iguales.\n",
        "\n",
        "### codigo en python"
      ]
    },
    {
      "cell_type": "code",
      "metadata": {
        "id": "bbLbHny9w7-Q",
        "colab_type": "code",
        "colab": {},
        "outputId": "520d7c21-e6b7-49d2-878c-9e3ff7765e1f"
      },
      "source": [
        "def Simpson3_8():\n",
        "    # x0 punto inicial del intervalo \n",
        "    # x3 punto final del intervalo \n",
        "    # f funcion a integrar\n",
        "    x0=0\n",
        "    x3=1\n",
        "    h=(x3-x0)/3\n",
        "    x1=x0+h\n",
        "    x2=x0+2*h\n",
        "    def f(x):\n",
        "        return x*x\n",
        "        \n",
        "    integral=(3/8)*h*(f(x0)+3*f(x1)+3*f(x2)+f(x3))\n",
        "    \n",
        "    print(\"el valor de la integral mediante el metodo de cuadratura del  Trapecio Compuesto es: {}\".format(integral)) \n",
        "\n",
        "Simpson3_8()"
      ],
      "execution_count": null,
      "outputs": [
        {
          "output_type": "stream",
          "text": [
            "el valor de la integral mediante el metodo de cuadratura del  Trapecio Compuesto es: 0.3333333333333333\n"
          ],
          "name": "stdout"
        }
      ]
    },
    {
      "cell_type": "markdown",
      "metadata": {
        "id": "N6J_kbU0w7-U",
        "colab_type": "text"
      },
      "source": [
        "## 3. Cuadratura Gaussiana\n",
        "\n",
        "### Introducción.\n",
        "\n",
        "Las reglas vista en la sección anterior, también son conocidas como reglas de Newton-Cotes, se dedujeron integrando los polinomios de interpolación. El termino de error en el polinomio de interpolación de grado n contiene la $\\left(n+1\\right)-esima$ derivada.\n",
        "\n",
        "En todas las formulas de Newton-Cotes se emplean valores de la función equidistantes. Este procedimiento es adecuado cuando las reglas son combinadas para crear nuevas reglas compuestas, como las vistas con anterioridad.\n",
        "\n",
        "Sin embargo la restricción que pide a los nodo ser equidistantes, puede afectar considerablemente la exactitud de la aproximación.\n",
        "\n",
        "La cuadratura Gaussiana optimiza la forma de seleccionar los puntos a ser evaluados y no los toma en forma igualmente espaciada como se había visto en las reglas de Newton-Cotes.\n",
        "\n",
        "Se escogen los nodos $x_{1},x_{2},\\ldots,x_{n}$ en el intervalo $\\left[a,b\\right]$ y los coeficientes $c_{1},c_{2},\\ldots c_{n}$ para reducir en lo posible el error esperado que se obtiene al efectuar la aproximación\n",
        "\n",
        "$$ \\int_{a}^{b}f\\left(x\\right)dx\\approx\\sum_{i=1}^{n}c_{i}f\\left(x_{i}\\right)$$\n",
        "\n",
        "Los coeficientes (pesos) $c_{1},c_{2},\\ldots c_{n}$ son arbitrarios y los nodos (puntos de Gauss) $x_{1},x_{2},\\ldots,x_{n}$ están restringidos a pertenecer al intervalo $\\left[a,b\\right]$.\n",
        "\n",
        "Esto nos da $2n$ parámetros de donde elegir. Considerando la clase de polinomios de grado máximo $2n-1$ también contiene $2n$ parámetros, si es que los coeficientes de un polinomio se consideran parámetros.\n",
        "\n",
        "Esta clase de polinomios es la más amplia para la cual es razonable esperar que la regla devuelva un resultado exacto.\n",
        "\n",
        "Se mostrará cómo seleccionar los coeficientes y los nodos cuando $n=2$ y cuando el intervalo de integración es $\\left[-1,1\\right]$\n",
        "\n",
        "Después se explicara el caso mas general de una elección arbitraria de puntos y pesos, indicando como modificar el método cuando se integra en un intervalo arbitrario.\n",
        "\n",
        "### Cuadratura Gaussiana con n=2 puntos.\n",
        "\n",
        "Supongamos que se requiere determinar $c_{1},c_{2},x_{1},x_{2}$ de modo que la regla de integración\n",
        "\n",
        "$$\\int_{-1}^{1}f\\left(x\\right)dx\\approx c_{1}f\\left(x_{1}\\right)+c_{2}f\\left(x_{2}\\right)$$\n",
        "\n",
        "proporcione el resultado exacto siempre que $f\\left(x\\right)$ sea un polinomio de grado $2\\left(2\\right)-1=3$ o menor, es decir que sea un polinomio de la forma\n",
        "\n",
        "$$ f\\left(x\\right)=a_{0}+a_{1}x+a_{2}x^{2}+a_{3}x^{3} $$\n",
        "\n",
        "\n",
        "Dado que\n",
        "\n",
        "$$\\int f\\left(x\\right)dx=a_{0}\\int1dx+a_{1}\\int xdx+a_{2}\\int x^{2}dx+a_{3}\\int x^{3}d $$\n",
        "\n",
        "esto equivale a demostrar que la regla produce resultados exactos cuando $f\\left(x\\right)$ es $1,x,x^{2},x^{3}$\n",
        "\n",
        "Necesitamos $c_{1},c_{2},x_{1},x_{2}$ de manera tal que\n",
        "\n",
        "$$\\begin{array}{cc}\n",
        "{\\color{blue}{(a)}}\\,c_{1}*1+c_{2}*1=\\int_{-1}^{1}1dx=2\\quad & {\\color{blue}{(b)}}\\,c_{1}x_{1}+c_{2}x_{2}=\\int_{-1}^{1}xdx=0\\\\\n",
        "{\\color{blue}{(c)}}\\,c_{1}x_{1}^{2}+c_{2}x_{2}^{2}=\\int_{-1}^{1}x^{2}dx=\\frac{2}{3} & {\\color{blue}{(d)}}\\,c_{1}x_{1}^{3}+c_{2}x_{2}^{3}=\\int_{-1}^{1}x^{3}dx=0\n",
        "\\end{array}$$\n",
        "\n",
        "Las 4 incógnitas se puede determinar comenzando con (b)\n",
        "\n",
        "$$c_{2}=-\\frac{c_{1}x_{1}}{x_{2}} \\tag{6}$$\n",
        "\n",
        "Ahora substituyendo en (d) se tiene\n",
        "\n",
        "$$c_{1}x_{1}^{3}-c_{1}x_{1}x_{2}^{2}=0\\,\\Rightarrow\\,x_{1}^{2}=x_{2}^{2}$$\n",
        "\n",
        "Pero $x_{1}\\neq x_{2}$ por lo tanto se tiene que\n",
        "\n",
        "$$x_{1}=-x_{2} \\tag{7}$$\n",
        "\n",
        "Ahora substituyendo x_{1} en (6), tenemos que $c_{1}=c_{2}$ y usando (a)\n",
        "\n",
        "$$ c_{1}=c_{2}=1 \\tag{8}$$\n",
        "\n",
        "Si se substituye (7) y (8) en (c) se tiene\n",
        "\n",
        "$$x_{1}^{2}+x_{2}^{2}=\\frac{2}{3}\\,\\Rightarrow\\,x_{1}=\\frac{1}{\\sqrt{3}}$$\n",
        "\n",
        "Así tenemos que\n",
        "\n",
        "$$ c_{1}=1,\\quad c_{2}=1,\\quad x_{1}=\\frac{1}{\\sqrt{3}}\\;y\\;x_{2}=\\frac{-1}{\\sqrt{3}}$$\n",
        "\n",
        "Así que la regla para 2 puntos es\n",
        "\n",
        "$$\\int_{-1}^{1}f\\left(x\\right)dx\\approx f\\left(\\frac{1}{\\sqrt{3}}\\right)+f\\left(\\frac{-1}{\\sqrt{3}}\\right) $$ \n",
        "\n",
        "\n",
        "\n",
        "| n  puntos      | Coeficientes $C_{i}$ |  Puntos Gauss $x_{i}$ | \n",
        "| :-:  | :-: | :-: |  \n",
        "| 2  | $c_{1}=c_{2}=1$ | $x_{1}=0.578\\\\x_{2}=-0.578$ |\n",
        "| 3 | $c_{1}=0.556\\\\c_{2}=0.889\\\\c_{3}=0.556$ | $x_{1}=0.774\\\\x_{2}=0\\\\x_{3}=-0.774$ |\n",
        "\n",
        "### Cuadratura Gaussiana general.\n",
        "\n",
        "Una integral $\\int_{a}^{b}f\\left(x\\right)dx$ en un intervalo arbitrario $\\left[a,b\\right]$ se puede transformar en otra integral $\\int_{-1}^{1}f\\left(t\\right)dt$ en $\\left[-1,1\\right]$ usando el cambio de variable\n",
        "\n",
        "$$t=\\frac{2x-a-b}{b-a}\\Leftrightarrow x=\\frac{1}{2}\\left[\\left(b-a\\right)t+a+b\\right] $$\n",
        "\n",
        "Donde el diferencial de $x$ es $dx=\\frac{1}{2}\\left(b-a\\right)dt$. Esto nos permite aplicar la cuadratura Gaussiana a cualquier intervalo $\\left[a,b\\right]$, ya que\n",
        "\n",
        "$$ \\int_{a}^{b}f\\left(x\\right)dx=\\int_{-1}^{1}f\\left(\\frac{\\left(b-a\\right)t+\\left(b+a\\right)}{2}\\right)\\frac{\\left(b-a\\right)}{2}dt $$\n",
        "\n",
        "### Ejemplo\n",
        "\n",
        "Evalúe $\\int_{0}^{3}e^{-x^{2}}dx$. Usando $n=3$ puntos. Encuentre el error, empleando el valor analítico.\n",
        "\n",
        "El valor de la integral resolviendo de manera analíticamente es 0.886207.\n",
        "\n",
        "### codigo en python"
      ]
    },
    {
      "cell_type": "code",
      "metadata": {
        "id": "TRtZ_9obw7-V",
        "colab_type": "code",
        "colab": {},
        "outputId": "0ebb6964-5586-4d95-b4e5-4b7967e32371"
      },
      "source": [
        "def CuaGauss():\n",
        "    # a punto inicial del intervalo \n",
        "    # b punto final del intervalo \n",
        "    # f funcion a integrar\n",
        "    a=0\n",
        "    b=1 \n",
        "    r=np.array([0.774,0.0,-0.774])\n",
        "    c=np.array([0.556,0.889,0.556])\n",
        "    def f(x):\n",
        "        return x*x\n",
        "    \n",
        "    cuadratura=0.0\n",
        "    jacobiano=(b-a)/2\n",
        "    for i in range(len(r)):\n",
        "        changeVar=0.0;changeVar=(( (b-a)*r[i])+b+a)/2\n",
        "        cuadratura+=c[i]*f(changeVar)\n",
        "        \n",
        "    integral=jacobiano*cuadratura\n",
        "    \n",
        "    print(\"el resultad de la integral con una cuadratura de 3 puntos es :{}\".format(integral))\n",
        "    \n",
        "CuaGauss()"
      ],
      "execution_count": null,
      "outputs": [
        {
          "output_type": "stream",
          "text": [
            "el resultad de la integral con una cuadratura de 3 puntos es :0.33339656400000006\n"
          ],
          "name": "stdout"
        }
      ]
    },
    {
      "cell_type": "code",
      "metadata": {
        "id": "lIYmADhoyS1o",
        "colab_type": "code",
        "colab": {
          "base_uri": "https://localhost:8080/",
          "height": 331,
          "referenced_widgets": [
            "cf2887939e2d4d9c8d8a34d906ae5d97",
            "038fb029c93343b39f661707534438ec",
            "3c629de38fcf45b2b6626a5f16f71715",
            "55013183549049c092ce8faf296c9ef7",
            "4b2e90f3be89498ba312930eb3e31b10",
            "93ca8d1b0bcf4406aa7480ef68cf0335",
            "5c1e7209386549aea5f634385b579220"
          ]
        },
        "outputId": "c797efc6-253b-40bb-8ba1-3c2e5690ea94"
      },
      "source": [
        "def grafica(n):\n",
        "  f = lambda x : 1/(1 + x**2)\n",
        "  a = 0; b = 5; N = n\n",
        "\n",
        "  # x and y values for the trapezoid rule\n",
        "  x = np.linspace(a,b,N+1)\n",
        "  y = f(x)\n",
        "\n",
        "  # X and Y values for plotting y=f(x)\n",
        "  X = np.linspace(a,b,100)\n",
        "  Y = f(X)\n",
        "  plt.plot(X,Y)\n",
        "\n",
        "  for i in range(N):\n",
        "      xs = [x[i],x[i],x[i+1],x[i+1]]\n",
        "      ys = [0,f(x[i]),f(x[i+1]),0]\n",
        "      plt.fill(xs,ys,'b',edgecolor='b',alpha=0.2)\n",
        "\n",
        "  plt.title('Trapezoid Rule, N = {}'.format(N))\n",
        "  plt.show()\n",
        "\n",
        "interact(grafica,n=widgets.IntSlider(min=4,max=30,step=1,value=2))"
      ],
      "execution_count": null,
      "outputs": [
        {
          "output_type": "display_data",
          "data": {
            "application/vnd.jupyter.widget-view+json": {
              "model_id": "cf2887939e2d4d9c8d8a34d906ae5d97",
              "version_minor": 0,
              "version_major": 2
            },
            "text/plain": [
              "interactive(children=(IntSlider(value=4, description='n', max=30, min=4), Output()), _dom_classes=('widget-int…"
            ]
          },
          "metadata": {
            "tags": []
          }
        },
        {
          "output_type": "execute_result",
          "data": {
            "text/plain": [
              "<function __main__.grafica>"
            ]
          },
          "metadata": {
            "tags": []
          },
          "execution_count": 20
        }
      ]
    },
    {
      "cell_type": "markdown",
      "metadata": {
        "id": "Jz-VcnxDw7-a",
        "colab_type": "text"
      },
      "source": [
        "## Referencias.\n",
        "\n",
        "1. Yuri N. Skiba: Introducción a los métodos numéricos, Dirección General de Publicaciones U.N.A.M.\n",
        "\n",
        "2. Ward Cheney, David Kincaid: Métodos Numéricos y Computación, Cenage Learning.\n",
        "\n",
        "3. Richard L. Burden, J. Douglas Faires:\\newblock Análisis Numérico, Math Learning.\n",
        "\n",
        "4. Riswan Butt: Numerical Analysys Using Matlab, Jones and Bartlett.\n",
        "\n",
        "5. Quarteroni, A, Sacco R.: Numerical mathematics, Springer. 2007."
      ]
    }
  ]
}