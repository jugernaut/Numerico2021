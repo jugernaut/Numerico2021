{
 "cells": [
  {
   "cell_type": "markdown",
   "metadata": {},
   "source": [
    "# Integración numérica.\n",
    "Profesor: M.en.C. Miguel Ángel Pérez León.\n",
    "\n",
    "Ayudante: Jesús Iván Coss Calderón.\n",
    "\n",
    "Materia: Análisis Numérico."
   ]
  },
  {
   "cell_type": "markdown",
   "metadata": {},
   "source": [
    "## 1. Introducción.\n",
    "\n",
    "Muy frecuentemente es necesario evaluar la integral definida de una función $f\\left(x\\right)$ en un intervalo $\\left[a,b\\right]$. El objetivo de esta sección es encontrar métodos para aproximar la integral\n",
    "\n",
    "$$\\int_{a}^{b}f\\left(x\\right)dx$$\n",
    "\n",
    "Si se conoce a priori la $\\color{blue}{antiderivada}$ $F\\left(x\\right)$ entonces es evidente que podemos encontrar el valor exacto de la integral, aplicando el siguiente teorema\n",
    "\n",
    "\n",
    "$\\color{blue}{Teorema}$.  Teorema Fundamental de Cálculo.\n",
    "\n",
    "Sea $f\\left(x\\right)$ integrable en el intervalo $\\left[a,b\\right]$ y $F'\\left(x\\right)=f\\left(x\\right)$ entonces,$\\int_{a}^{b}f\\left(x\\right)dx=F\\left(a\\right)-F\\left(b\\right)$\n",
    "\n",
    "\n",
    "Sin embargo como en otras partes del curso, a veces encontrar a F es muy complicado, de tal manera que la mejor opción es encontrar una aproximación.\n",
    "\n",
    "$$\\int_{a}^{b}f\\left(x\\right)dx$$\n",
    "\n",
    "La forma básica para encontrar una aproximación de $$\\int_{a}^{b}f\\left(x\\right)dx$$, se conoce como $\\color{blue}{cuadratura\\hspace{1mm} numérica}$ y emplea una sumatoria del tipo\n",
    "\n",
    "$$\\sum_{i=0}^{n}a_{i}f\\left(x_{i}\\right)$$\n",
    "\n",
    "Existen diferentes aproximaciones de la integral de $f\\left(x\\right)$ mediante cuadratura numérica, en esta sección revisaremos algunas de las mas comunes."
   ]
  },
  {
   "cell_type": "markdown",
   "metadata": {},
   "source": [
    "## 2. Cuadratura Numérica.\n",
    "\n",
    "Los métodos de integración numérica se basan en los polinomios de Lagrange visto en secciones previas. La idea básica es que seleccionamos un conjunto de nodos distintos $x_{0},\\ldots,x_{n}$ del intervalo $ \\left[a,b\\right]$. Después se integra el polinomio de Lagrange\n",
    "\n",
    "$$P_{n}\\left(x\\right)=\\sum_{i=0}^{n}f\\left(x_{i}\\right)L_{i}\\left(x\\right)$$\n",
    "\n",
    "Y también se integra el termino de error de truncamiento en $\\left[a,b\\right]$\n",
    "\n",
    "$$\\prod_{i=0}^{n}\\left(x-x_{i}\\right)\\frac{f^{\\left(n+1\\right)}\\left(\\xi\\left(x\\right)\\right)}{\\left(n+1\\right)!}dx$$\n",
    "\n",
    "De tal manera que obtenemos\n",
    "\n",
    "$$ \\int_{a}^{b}f\\left(x\\right)dx=\\int_{a}^{b}\\sum_{i=0}^{n}f\\left(x_{i}\\right)L_{i}\\left(x\\right)dx+\\int_{a}^{b}\\prod_{i=0}^{n}\\left(x-x_{i}\\right)\\frac{f^{\\left(n+1\\right)}\\left(\\xi\\left(x\\right)\\right)}{\\left(n+1\\right)!}dx\\\\=\\sum_{i=0}^{n}a_{i}f\\left(x_{i}\\right)+\\frac{1}{\\left(n+1\\right)!}\\int_{a}^{b}\\prod_{i=0}^{n}\\left(x-x_{i}\\right)f^{\\left(n+1\\right)}\\left(\\xi\\left(x\\right)\\right)dx $$\n",
    "\n",
    "Donde $\\xi\\left(x\\right)$ se encuentra en $\\left[a,b\\right]$ para cada $x$ y\n",
    "\n",
    "$$a_{i}=\\int_{a}^{b}L_{i}\\left(x\\right)dx,\\quad para\\,cada\\,i=0,1,\\ldots,n$$\n",
    "\n",
    "Por lo tanto, la formula de la cuadratura es\n",
    "\n",
    "$$\\int_{a}^{b}f\\left(x\\right)dx=\\sum_{i=0}^{n}a_{i}f\\left(x_{i}\\right) \\tag{1}$$\n",
    "\n",
    "Con un error dado por\n",
    "\n",
    "$$E\\left(f\\right)=\\frac{1}{\\left(n+1\\right)!}\\int_{a}^{b}\\prod_{i=0}^{n}\\left(x-x_{i}\\right)f^{\\left(n+1\\right)}\\left(\\xi\\left(x\\right)\\right)dx$$\n",
    "\n",
    "De la misma manera que en otros temas vistos en el curso, la aproximación sera mas exacta si subdividimos el intervalo $\\left[a,b\\right]$ en tantos subintervalos como sea necesario, es decir\n",
    "\n",
    "Sea\n",
    "\n",
    "$$\\left[a,b\\right]=\\left[a,x_{1}\\right]\\cup\\left[x_{1},x_{2}\\right]\\cup\\cdots\\cup\\left[x_{n-2},x_{n-1}\\right]\\cup\\left[x_{n-1},b\\right]$$\n",
    "\n",
    "Donde\n",
    "\n",
    "$$x_{k}=a+\\frac{b-a}{n}k,\\quad n=0,1,2,\\ldots,n,\\quad x_{0}=a,\\,x_{n}=b$$\n",
    "\n",
    "\n",
    "Tendremos\n",
    "\n",
    "$$\\int_{a}^{b}f\\left(x\\right)dx=\\int_{a}^{x_{1}}f\\left(x\\right)dx+\\cdots+\\int_{x_{k}}^{x_{k+1}}f\\left(x\\right)dx+\\cdots+\\int_{x_{n-1}}^{b}f\\left(x\\right)dx \\tag{2} $$\n",
    "\n",
    "Observación, todos los nodos son igualmente espaciados.\n",
    "\n",
    "### 2.1. Cuadratura del rectángulo.\n",
    "\n",
    "La forma de cuadratura mas simple es la que emplea rectángulos de base $\\left(b-a\\right)$ y altura $f\\left(a\\right)$\n",
    "\n",
    "$$\\int_{a}^{b}f\\left(x\\right)dx=\\left(b-a\\right)f\\left(a\\right)+E\\left(f\\right) \\tag{3}$$\n",
    "\n",
    "Combinando 1) y 3), se obtiene la forma general de la cuadratura mediante rectángulos\n",
    "\n",
    "$$\\int_{a}^{b}f\\left(x\\right)dx=\\frac{b-a}{n}\\sum_{i=0}^{n-1}f\\left(x_{i}\\right)+E\\left(f\\right)$$\n",
    "\n",
    "### codigo en python"
   ]
  },
  {
   "cell_type": "code",
   "execution_count": 4,
   "metadata": {},
   "outputs": [
    {
     "data": {
      "application/vnd.jupyter.widget-view+json": {
       "model_id": "bc5805c9e781478aa55a3281a0e4177b",
       "version_major": 2,
       "version_minor": 0
      },
      "text/plain": [
       "interactive(children=(IntSlider(value=2, description='n', max=30, min=2), Output()), _dom_classes=('widget-int…"
      ]
     },
     "metadata": {},
     "output_type": "display_data"
    },
    {
     "data": {
      "text/plain": [
       "<function __main__.rectangulos(n)>"
      ]
     },
     "execution_count": 4,
     "metadata": {},
     "output_type": "execute_result"
    }
   ],
   "source": [
    "import numpy as np\n",
    "from IPython.html.widgets import interact\n",
    "import ipywidgets as widgets\n",
    "\n",
    "def rectangulos(n):\n",
    "    # a punto inicial del intervalo \n",
    "    # b punto final del intervalo \n",
    "    # f funcion a integrar\n",
    "    # n los puntos que se usaran para integrar \n",
    "    a=0\n",
    "    b=1\n",
    "    x=np.linspace(a,b,n) # se crea la particion\n",
    "    cuadratura=0.0\n",
    "    for i in range (len(x)):\n",
    "        cuadratura+=x[i]*x[i]\n",
    "        \n",
    "    integral=((b-a)/n)*cuadratura\n",
    "\n",
    "    print(\"el valor de la integral mediante el metodo de cuadratura del rectangulo es: {}\".format(integral)) \n",
    "\n",
    "interact(rectangulos,n=widgets.IntSlider(min=2,max=30,step=1,value=2))"
   ]
  },
  {
   "cell_type": "markdown",
   "metadata": {},
   "source": [
    "### 2.2.  Cuadratura del punto medio.\n",
    "\n",
    "Una aproximación de la integral $\\int_{a}^{b}f\\left(x\\right)dx$ consiste en aproximar el área bajo la curva $y=f\\left(x\\right)$ por un rectángulo de base $b-a$ y altura $f\\left(\\frac{a+b}{2}\\right)$, entonces\n",
    "\n",
    "$$\\int_{a}^{b}f\\left(x\\right)dx=\\left(b-a\\right)f\\left(\\frac{a+b}{2}\\right)+E\\left(f\\right) \\tag{4} $$\n",
    "\n",
    "Donde $E\\left(f\\right)$, si $f$ tiene primera y segunda derivada continuas en $\\left[a,b\\right]$, se expresa así\n",
    "\n",
    "$$E\\left(f\\right)=\\frac{\\left(b-a\\right)^{2}}{24}f''\\left(\\xi\\right)\\quad\\xi\\in\\left[a,b\\right]$$\n",
    "\n",
    "Combinando 1) y 4), se obtiene la forma general de la cuadratura del punto medio\n",
    "\n",
    "$$\\int_{a}^{b}f\\left(x\\right)dx=\\frac{b-a}{n}\\sum_{i=0}^{n-1}f\\left(\\frac{x_{i}+x_{i+1}}{2}\\right)+E\\left(f\\right)$$\n",
    "\n",
    "### codigo en python"
   ]
  },
  {
   "cell_type": "code",
   "execution_count": 7,
   "metadata": {},
   "outputs": [
    {
     "data": {
      "application/vnd.jupyter.widget-view+json": {
       "model_id": "04f2b250af6d4f08a55d1378947047d4",
       "version_major": 2,
       "version_minor": 0
      },
      "text/plain": [
       "interactive(children=(IntSlider(value=2, description='n', max=30, min=2), Output()), _dom_classes=('widget-int…"
      ]
     },
     "metadata": {},
     "output_type": "display_data"
    },
    {
     "data": {
      "text/plain": [
       "<function __main__.PuntoMedio(n)>"
      ]
     },
     "execution_count": 7,
     "metadata": {},
     "output_type": "execute_result"
    }
   ],
   "source": [
    "def PuntoMedio(n):\n",
    "    # a punto inicial del intervalo \n",
    "    # b punto final del intervalo \n",
    "    # f funcion a integrar\n",
    "    # n los puntos que se usaran para integrar \n",
    "    a=0\n",
    "    b=1\n",
    "    def f(x):\n",
    "        return x*x\n",
    "    \n",
    "    x=np.linspace(a,b,n) # se crea la particion\n",
    "    cuadratura=0.0\n",
    "    for i in range (len(x)-1):\n",
    "        cuadratura+=f( (x[i]+x[i+1])/2 )\n",
    "    integral=((b-a)/n)*cuadratura\n",
    "    \n",
    "    print(\"el valor de la integral mediante el metodo de cuadratura del punto medio es: {}\".format(integral)) \n",
    "\n",
    "interact(PuntoMedio,n=widgets.IntSlider(min=2,max=30,step=1,value=2))"
   ]
  },
  {
   "cell_type": "markdown",
   "metadata": {},
   "source": [
    "### 2.3.  Cuadratura del trapecio.\n",
    "\n",
    "Para derivar la regla del trapecio para aproximar $\\int_{a}^{b}f\\left(x\\right)dx$, tomemos $x_{0}=a,\\,x_{1}=b,\\,h=b-a$ y calculando el polinomio lineal de Lagrange\n",
    "\n",
    "$$P\\left(x\\right)=\\left(\\frac{x-x_{1}}{x_{0}-x_{1}}\\right)f(x_{0})+\\left(\\frac{x-x_{0}}{x_{1}-x_{0}}\\right)f(x_{1})$$\n",
    "\n",
    "Al integrar este polinomio se tiene\n",
    "\n",
    "$$\\int_{a}^{b}f\\left(x\\right)dx=\\int_{x_{0}}^{x_{1}}\\left[\\left(\\frac{x-x_{1}}{x_{0}-x_{1}}\\right)f(x_{0})+\\left(\\frac{x-x_{0}}{x_{1}-x_{0}}\\right)f(x_{1})\\right]dx\\\\+\\frac{1}{2}\\int_{x_{0}}^{x_{1}}f''\\left(\\xi\\left(x\\right)\\right)\\left(x-x_{0}\\right)\\left(x-x_{1}\\right)dx$$\n",
    "\n",
    "Donde la integral del error es $-\\frac{h^{3}}{6}f''\\left(\\xi\\right)$, lo que nos lleva a la forma general de la cuadratura del trapecio\n",
    "\n",
    "$$\\int_{a}^{b}f\\left(x\\right)dx=\\left[\\frac{x-x_{1}}{2\\left(x_{0}-x_{1}\\right)}f(x_{0})+\\frac{x-x_{0}}{2\\left(x_{1}-x_{0}\\right)}f(x_{1})\\right]_{x_{0}}^{x_{1}}-\\frac{h^{3}}{12}f''\\left(\\xi\\right)\\\\=\\frac{\\left(x_{1}-x_{0}\\right)}{2}\\left[f\\left(x_{0}\\right)+f\\left(x_{1}\\right)\\right]-\\frac{h^{3}}{12}f''\\left(\\xi\\right) $$\n",
    "\n",
    "Tomando en cuenta que $h=x_{1}-x_{0}$, obtenemos la forma general de la cuadratura del trapecio\n",
    "\n",
    "$$\\int_{a}^{b}f\\left(x\\right)dx=\\frac{h}{2}\\left[f\\left(x_{0}\\right)+f\\left(x_{1}\\right)\\right]-\\frac{h^{3}}{12}f''\\left(\\xi\\right)$$\n",
    "\n",
    "### codigo en python"
   ]
  },
  {
   "cell_type": "code",
   "execution_count": 10,
   "metadata": {},
   "outputs": [
    {
     "name": "stdout",
     "output_type": "stream",
     "text": [
      "el valor de la integral mediante el metodo de cuadratura del Trapecio: 0.5\n"
     ]
    }
   ],
   "source": [
    "def Trapecio():\n",
    "    # a punto inicial del intervalo \n",
    "    # b punto final del intervalo \n",
    "    # f funcion a integrar\n",
    "    a=0\n",
    "    b=1\n",
    "    def f(x):\n",
    "        return x*x\n",
    "    \n",
    "    integral=((b-a)/2)*(f(a)+f(b))\n",
    "    print(\"el valor de la integral mediante el metodo de cuadratura del Trapecio: {}\".format(integral))\n",
    "\n",
    "Trapecio()"
   ]
  },
  {
   "cell_type": "markdown",
   "metadata": {},
   "source": [
    "### 2.3.  Cuadratura del trapecio compuesto.\n",
    "\n",
    "Sean los nodos $a=x_{0}<x_{1}<\\cdots<x_{n}=b$ con $h_{i}=x_{i+1}-x_{i}$ y lo que se busca es aproximar el valor de $\\int_{a}^{b}f\\left(x\\right)dx$. Ademas aprovechamos el hecho de que \n",
    "\n",
    "$$\\int_{a}^{b}f\\left(x\\right)dx\t=\t\\int_{a}^{c}f\\left(x\\right)dx+\\int_{c}^{b}f\\left(x\\right)dx$$\n",
    "\n",
    "Integrando sobre los subintervalos $\\left[x_{i},x_{i+1}\\right]$, para $i=0,\\ldots,n-1$ y aplicando la regla del trapecio simple, se obtiene\n",
    "\n",
    "$$\\int_{a}^{b}f\\left(x\\right)dx=\\sum_{i=0}^{n-1}\\int_{x_{i}}^{x_{i+1}}f\\left(x\\right)=\\sum_{i=0}^{n-1}\\frac{h_{i}}{2}\\left[f\\left(x_{i}\\right)+f\\left(x_{i+1}\\right)\\right]-\\sum_{i=0}^{n-1}\\frac{h_{i}^{3}}{12}f''\\left(\\xi_{i}\\right),\\quad\\xi_{i}\\in\\left(x_{i+1},x_{i}\\right) $$\n",
    "\n",
    "Si consideramos $h=h_{i}$ para $i=0,\\ldots,n-1$ y $f''\\left(x\\right)$ continua, entonces obtenemos el error total\n",
    "\n",
    "$$E_{T}=-\\frac{h^{3}}{12}\\sum_{i=0}^{n-1}f''\\left(\\xi_{i}\\right)=-\\frac{h^{3}}{12}nf''\\left(\\xi\\right)=-\\frac{h^{2}}{12}nhf''\\left(\\xi\\right)$$\n",
    "\n",
    "Donde $\\xi\\in\\left(x_{0},x_{n}\\right)$ y $h=\\frac{x_{n}-x_{0}}{n}$ entonces $E_{T}=-\\frac{h^{2}}{12}\\left(x_{n}-x_{0}\\right)f''\\left(\\xi\\right)$, es decir\n",
    "\n",
    "$$ \\int_{a}^{b}f\\left(x\\right)dx=\\frac{h}{2}\\left[f\\left(x_{0}\\right)+2f\\left(x_{1}\\right)+\\cdots+2f\\left(x_{n-1}\\right)+f\\left(x_{n}\\right)\\right]-\\frac{h^{2}}{12}\\left(x_{n}-x_{0}\\right)f''\\left(\\xi\\right)$$\n",
    "\n",
    "Así que\n",
    "\n",
    "$$\\int_{a}^{b}f\\left(x\\right)dx=\\frac{h}{2}\\left[f\\left(a\\right)+2\\sum_{i=1}^{n-1}f\\left(x_{i}\\right)+f\\left(b\\right)\\right]-\\frac{b-a}{12}h^{2}f''\\left(\\xi\\right)$$\n",
    "\n",
    "Es la forma general de la cuadratura del trapecio compuesto.\n",
    "\n",
    "### codigo en python"
   ]
  },
  {
   "cell_type": "code",
   "execution_count": 16,
   "metadata": {},
   "outputs": [
    {
     "data": {
      "application/vnd.jupyter.widget-view+json": {
       "model_id": "0549ba5b42f34910857d6ac84bd3bf6f",
       "version_major": 2,
       "version_minor": 0
      },
      "text/plain": [
       "interactive(children=(IntSlider(value=4, description='n', max=30, min=4), Output()), _dom_classes=('widget-int…"
      ]
     },
     "metadata": {},
     "output_type": "display_data"
    },
    {
     "data": {
      "text/plain": [
       "<function __main__.TrapComp(n)>"
      ]
     },
     "execution_count": 16,
     "metadata": {},
     "output_type": "execute_result"
    }
   ],
   "source": [
    "def TrapComp(n):\n",
    "    # a punto inicial del intervalo \n",
    "    # b punto final del intervalo \n",
    "    # f funcion a integrar\n",
    "    # n los puntos que se usaran para integrar \n",
    "    a=0\n",
    "    b=1\n",
    "    def f(x):\n",
    "        return x*x\n",
    "    \n",
    "    x=np.linspace(a,b,n) # se crea la particion\n",
    "    cuadratura=0.0\n",
    "    for i in range (1,len(x)-1):\n",
    "        cuadratura+=f( x[i])\n",
    "\n",
    "    integral=((b-a)/(2*n))*(2*cuadratura+f(a)+f(b))\n",
    "    \n",
    "    print(\"el valor de la integral mediante el metodo de cuadratura del  Trapecio Compuesto es: {}\".format(integral)) \n",
    "\n",
    "interact(TrapComp,n=widgets.IntSlider(min=4,max=30,step=1,value=4))"
   ]
  },
  {
   "cell_type": "markdown",
   "metadata": {},
   "source": [
    "### 2.4.  Cuadratura de Simpson $\\frac{1}{3}$\n",
    "\n",
    "Se obtiene al integrar en $\\left[a,b\\right]$ el segundo polinomio de Lagrange con los nodos $x_{0}=a,\\,x_{1}=a+h\\,y\\,x_{2}=b$ donde $h=\\frac{b-a}{2}$\n",
    "\n",
    "$$\\int_{a}^{b}f\\left(x\\right)dx=\\int_{x_{0}}^{x_{2}}\\left[\\frac{\\left(x-x_{1}\\right)\\left(x-x_{2}\\right)}{\\left(x_{0}-x_{1}\\right)\\left(x_{0}-x_{2}\\right)}f(x_{0})+\\frac{\\left(x-x_{0}\\right)\\left(x-x_{2}\\right)}{\\left(x_{1}-x_{0}\\right)\\left(x_{1}-x_{2}\\right)}f(x_{1})\\right]\\\\+\\int_{x_{0}}^{x_{2}}\\left[\\frac{\\left(x-x_{0}\\right)\\left(x-x_{1}\\right)}{\\left(x_{2}-x_{0}\\right)\\left(x_{2}-x_{1}\\right)}f(x_{2})\\right]\\\\+\\frac{1}{6}\\int_{x_{0}}^{x_{2}}f'''\\left(\\xi\\left(x\\right)\\right)\\left(x-x_{0}\\right)\\left(x-x_{1}\\right)\\left(x-x_{2}\\right)dx $$\n",
    "\n",
    "Sin embargo, al deducir la regla de Simpson de esta manera, unicamente se obtiene un término de error $O\\left(h^{4}\\right)$ que contiene a $f^{\\left(3\\right)}$. Pero si construimos la regla de otra forma, podemos deducir un termino de orden superior que incluya a $f^{\\left(4\\right)}$\n",
    "\n",
    "Supongamos que $f$ se expande mediante el tercer polinomio de Taylor alrededor de $x_{1}$. Entonces, para cada $x$ en $\\left[x_{0},x_{2}\\right]$, existe un número $\\xi\\left(x\\right)\\in\\left(x_{0},x_{2}\\right)$ con\n",
    "\n",
    "$$f\\left(x\\right)=f\\left(x_{1}\\right)+f'\\left(x_{1}\\right)\\left(x-x_{1}\\right)+\\frac{f''\\left(x_{1}\\right)\\left(x-x_{1}\\right)^{2}}{2!}\\\\+\\frac{f'''\\left(x_{1}\\right)\\left(x-x_{1}\\right)^{3}}{3!}+\\frac{f^{\\left(4\\right)}\\left(\\xi\\left(x\\right)\\right)\\left(x-x_{1}\\right)^{4}}{4!}$$\n",
    "\n",
    "Si $h=\\left(x-x_{1}\\right)$ y \n",
    "\n",
    "$$\\int_{x_{0}}^{x_{2}}f\\left(x\\right)dx=\\left[f\\left(x_{1}\\right)h+\\frac{f'\\left(x_{1}\\right)h^{2}}{2!}+\\frac{f''\\left(x_{1}\\right)h^{3}}{3!}+\\frac{f^{\\left(3\\right)}\\left(x_{1}\\right)h^{4}}{4!}\\right]_{x_{0}}^{x_{2}}+\\frac{1}{24}\\int_{x_{0}}^{x_{2}}f^{\\left(4\\right)}\\left(\\xi\\left(x\\right)\\right)h^{4}dx \\tag{5}$$\n",
    "\n",
    "Puesto que $\\left(x-x_{1}\\right)^{4}$ nunca es negativo en $\\left[x_{0},x_{2}\\right]$ y por el Teorema del Valor Medio ponderado, entonces\n",
    "\n",
    "$$\\frac{1}{24}\\int_{x_{0}}^{x_{2}}f^{\\left(4\\right)}\\left(\\xi\\left(x\\right)\\right)h^{4}dx=\\frac{f^{\\left(4\\right)}\\left(\\xi_{1}\\right)h^{4}}{24}\\int_{x_{0}}^{x_{2}}h^{4}dx=\\frac{f^{\\left(4\\right)}\\left(\\xi_{1}\\right)}{120}h^{5}\\mid_{x_{0}}^{x2}$$\n",
    "\n",
    "Para algún número $\\xi_{1}\\in\\left(x_{0},x_{2}\\right)$. Pero por otro lado $h=x_{2}-x_{1}=x_{1}-x_{0}$, así que\n",
    "\n",
    "$$\\left(x_{2}-x_{1}\\right)^{2}-\\left(x_{1}-x_{0}\\right)^{2}=\\left(x_{2}-x_{1}\\right)^{4}-\\left(x_{1}-x_{0}\\right)^{4}=0 $$\n",
    "\n",
    "Mientras que\n",
    "\n",
    "$$\\left(x_{2}-x_{1}\\right)^{3}-\\left(x_{1}-x_{0}\\right)^{3}=2h^{3}\\,y\\,\\left(x_{2}-x_{1}\\right)^{5}-\\left(x_{1}-x_{0}\\right)^{5}=2h^{5}$$\n",
    "\n",
    "Así que (5), se puede reescribir así\n",
    "\n",
    "Pero si ahora reemplazamos $f''\\left(x_{1}\\right)$ por su aproximación en diferencias finitas, se tiene\n",
    "\n",
    "$$\\int_{x_{0}}^{x_{2}}f\\left(x\\right)dx=2hf\\left(x_{1}\\right)+\\frac{h^{3}}{3}\\left\\{ \\frac{1}{h^{2}}\\left[f\\left(x_{0}\\right)-2f\\left(x_{1}\\right)+f\\left(x_{2}\\right)\\right]-\\frac{h^{2}}{12}f^{\\left(4\\right)}\\left(\\xi_{2}\\right)\\right\\} \\\\+\\frac{f^{\\left(4\\right)}\\left(\\xi_{1}\\right)h^{5}}{60}\\\\=\\frac{h}{3}\\left[f\\left(x_{0}\\right)+4f\\left(x_{1}\\right)+f\\left(x_{2}\\right)\\right]-\\frac{h^{5}}{12}\\left[\\frac{1}{3}f^{\\left(4\\right)}\\left(\\xi_{2}\\right)-\\frac{1}{5}f^{\\left(4\\right)}\\left(\\xi_{1}\\right)\\right] $$\n",
    "\n",
    "Así tenemos que\n",
    "\n",
    "$$\\int_{x_{0}}^{x_{2}}f\\left(x\\right)dx=\\frac{h}{3}\\left[f\\left(x_{0}\\right)+4f\\left(x_{1}\\right)+f\\left(x_{2}\\right)\\right]-\\frac{h^{5}}{90}f^{\\left(4\\right)}\\left(\\xi_{1}\\right)$$\n",
    "\n",
    "Es la forma general de la regla de Simpson $\\frac{1}{3}$\n",
    "\n",
    "$\\color{green}{Ejemplo}$. La regla del trapecio para una función f en el intervalo $\\left[0,2\\right]$ es \n",
    "\n",
    "$$\\int_{0}^{2}f\\left(x\\right)dx\\approx f\\left(0\\right)+f\\left(2\\right)$$\n",
    "\n",
    "y la regla de Simpson para $f$ en $\\left[0,2\\right]$ es\n",
    "\n",
    "$$\\int_{0}^{2}f\\left(x\\right)dx\\approx\\frac{1}{3}\\left[f\\left(0\\right)+4f\\left(1\\right)+f\\left(2\\right)\\right] $$\n",
    "\n",
    "Calcular las correspondientes aproximaciones para\n",
    "\n",
    "$$x^{2},x^{4},\\frac{1}{\\left(x+1\\right)},\\,\\sqrt{1+x^{2}},\\,sen\\,x,\\,e^{x}$$\n",
    "\n",
    "Notar como en todos los casos, la regla de Simpson, proporciona una mejor aproximación.\n",
    "\n",
    "| $f\\left(x\\right)$        | $x^{2}$ |  $x^{4}$ | $\\frac{1}{x+1}$|$\\sqrt{1+x^{2}}$ |sin x |$e^{x}$ |\n",
    "| :-:  | :-: | :-: |  :-: | :-:  |   :-: |   :-: | \n",
    "| Valores exactos  | 2.667 |6.400 |1.099 |2.958 |1.416 |6.389 |\n",
    "| Trapecio | 4.00\t|16.00\t|1.333|\t3.326|\t0.909|\t8.389|\n",
    "| Simpson\t|2.667|\t6.667|\t1.111|\t2.964|\t1.425|\t6.421|\n",
    "\n",
    "### codigo en python"
   ]
  },
  {
   "cell_type": "code",
   "execution_count": 18,
   "metadata": {},
   "outputs": [
    {
     "name": "stdout",
     "output_type": "stream",
     "text": [
      "el valor de la integral mediante el metodo de cuadratura del  Trapecio Compuesto es: 0.3333333333333333\n"
     ]
    }
   ],
   "source": [
    "def Simpson1_3():\n",
    "    # x0 punto inicial del intervalo \n",
    "    # x2 punto final del intervalo \n",
    "    # f funcion a integrar\n",
    "    x0=0\n",
    "    x2=1\n",
    "    h=(x2-x0)/2\n",
    "    x1=x0+h\n",
    "    def f(x):\n",
    "        return x*x\n",
    "        \n",
    "    integral=(h/3)*(f(x0)+4*f(x1)+f(x2))\n",
    "    \n",
    "    print(\"el valor de la integral mediante el metodo de cuadratura del  Trapecio Compuesto es: {}\".format(integral)) \n",
    "\n",
    "Simpson1_3()"
   ]
  },
  {
   "cell_type": "markdown",
   "metadata": {},
   "source": [
    "### 2.5.  Cuadratura de Simpson $\\frac{3}{8}$\n",
    "\n",
    "Esta regla se obtiene al integra el tercer polinomio de Lagrange en $\\left[a,b\\right]$ tomando los nodos $x_{0}=a,\\,x_{1}=a+h,\\,x_{2}=a+2h,\\,y\\,x_{3}=b$ donde $h=\\frac{b-a}{3}$\n",
    "\n",
    "es decir\n",
    "\n",
    "$$\\int_{a}^{b}f\\left(x\\right)dx\\approx\\int_{a}^{b}P_{3}\\left(x\\right)dx=\\frac{3h}{8} \\left[f\\left(x_{0}\\right)+3f\\left(x_{1}\\right)+3f\\left(x_{2}\\right)+f\\left(x_{3}\\right)\\right]$$\n",
    "\n",
    "Es importante notar que esta regla es una suma ponderada de los valores de $f\\left(x\\right)$ en los dos puntos finales $x_{0}=a$ y $x_{3}=b$, y los dos puntos $x_{1},x_{2}$ divide el intervalo en tres partes iguales.\n",
    "\n",
    "### codigo en python"
   ]
  },
  {
   "cell_type": "code",
   "execution_count": 21,
   "metadata": {},
   "outputs": [
    {
     "name": "stdout",
     "output_type": "stream",
     "text": [
      "el valor de la integral mediante el metodo de cuadratura del  Trapecio Compuesto es: 0.3333333333333333\n"
     ]
    }
   ],
   "source": [
    "def Simpson3_8():\n",
    "    # x0 punto inicial del intervalo \n",
    "    # x3 punto final del intervalo \n",
    "    # f funcion a integrar\n",
    "    x0=0\n",
    "    x3=1\n",
    "    h=(x3-x0)/3\n",
    "    x1=x0+h\n",
    "    x2=x0+2*h\n",
    "    def f(x):\n",
    "        return x*x\n",
    "        \n",
    "    integral=(3/8)*h*(f(x0)+3*f(x1)+3*f(x2)+f(x3))\n",
    "    \n",
    "    print(\"el valor de la integral mediante el metodo de cuadratura del  Trapecio Compuesto es: {}\".format(integral)) \n",
    "\n",
    "Simpson3_8()"
   ]
  },
  {
   "cell_type": "markdown",
   "metadata": {},
   "source": [
    "## 3. Cuadratura Gaussiana\n",
    "\n",
    "### Introducción.\n",
    "\n",
    "Las reglas vista en la sección anterior, también son conocidas como reglas de Newton-Cotes, se dedujeron integrando los polinomios de interpolación. El termino de error en el polinomio de interpolación de grado n contiene la $\\left(n+1\\right)-esima$ derivada.\n",
    "\n",
    "En todas las formulas de Newton-Cotes se emplean valores de la función equidistantes. Este procedimiento es adecuado cuando las reglas son combinadas para crear nuevas reglas compuestas, como las vistas con anterioridad.\n",
    "\n",
    "Sin embargo la restricción que pide a los nodo ser equidistantes, puede afectar considerablemente la exactitud de la aproximación.\n",
    "\n",
    "La cuadratura Gaussiana optimiza la forma de seleccionar los puntos a ser evaluados y no los toma en forma igualmente espaciada como se había visto en las reglas de Newton-Cotes.\n",
    "\n",
    "Se escogen los nodos $x_{1},x_{2},\\ldots,x_{n}$ en el intervalo $\\left[a,b\\right]$ y los coeficientes $c_{1},c_{2},\\ldots c_{n}$ para reducir en lo posible el error esperado que se obtiene al efectuar la aproximación\n",
    "\n",
    "$$ \\int_{a}^{b}f\\left(x\\right)dx\\approx\\sum_{i=1}^{n}c_{i}f\\left(x_{i}\\right)$$\n",
    "\n",
    "Los coeficientes (pesos) $c_{1},c_{2},\\ldots c_{n}$ son arbitrarios y los nodos (puntos de Gauss) $x_{1},x_{2},\\ldots,x_{n}$ están restringidos a pertenecer al intervalo $\\left[a,b\\right]$.\n",
    "\n",
    "Esto nos da $2n$ parámetros de donde elegir. Considerando la clase de polinomios de grado máximo $2n-1$ también contiene $2n$ parámetros, si es que los coeficientes de un polinomio se consideran parámetros.\n",
    "\n",
    "Esta clase de polinomios es la más amplia para la cual es razonable esperar que la regla devuelva un resultado exacto.\n",
    "\n",
    "Se mostrará cómo seleccionar los coeficientes y los nodos cuando $n=2$ y cuando el intervalo de integración es $\\left[-1,1\\right]$\n",
    "\n",
    "Después se explicara el caso mas general de una elección arbitraria de puntos y pesos, indicando como modificar el método cuando se integra en un intervalo arbitrario.\n",
    "\n",
    "### Cuadratura Gaussiana con n=2 puntos.\n",
    "\n",
    "Supongamos que se requiere determinar $c_{1},c_{2},x_{1},x_{2}$ de modo que la regla de integración\n",
    "\n",
    "$$\\int_{-1}^{1}f\\left(x\\right)dx\\approx c_{1}f\\left(x_{1}\\right)+c_{2}f\\left(x_{2}\\right)$$\n",
    "\n",
    "proporcione el resultado exacto siempre que $f\\left(x\\right)$ sea un polinomio de grado $2\\left(2\\right)-1=3$ o menor, es decir que sea un polinomio de la forma\n",
    "\n",
    "$$ f\\left(x\\right)=a_{0}+a_{1}x+a_{2}x^{2}+a_{3}x^{3} $$\n",
    "\n",
    "\n",
    "Dado que\n",
    "\n",
    "$$\\int f\\left(x\\right)dx=a_{0}\\int1dx+a_{1}\\int xdx+a_{2}\\int x^{2}dx+a_{3}\\int x^{3}d $$\n",
    "\n",
    "esto equivale a demostrar que la regla produce resultados exactos cuando $f\\left(x\\right)$ es $1,x,x^{2},x^{3}$\n",
    "\n",
    "Necesitamos $c_{1},c_{2},x_{1},x_{2}$ de manera tal que\n",
    "\n",
    "$$\\begin{array}{cc}\n",
    "{\\color{blue}{(a)}}\\,c_{1}*1+c_{2}*1=\\int_{-1}^{1}1dx=2\\quad & {\\color{blue}{(b)}}\\,c_{1}x_{1}+c_{2}x_{2}=\\int_{-1}^{1}xdx=0\\\\\n",
    "{\\color{blue}{(c)}}\\,c_{1}x_{1}^{2}+c_{2}x_{2}^{2}=\\int_{-1}^{1}x^{2}dx=\\frac{2}{3} & {\\color{blue}{(d)}}\\,c_{1}x_{1}^{3}+c_{2}x_{2}^{3}=\\int_{-1}^{1}x^{3}dx=0\n",
    "\\end{array}$$\n",
    "\n",
    "Las 4 incógnitas se puede determinar comenzando con (b)\n",
    "\n",
    "$$c_{2}=-\\frac{c_{1}x_{1}}{x_{2}} \\tag{6}$$\n",
    "\n",
    "Ahora substituyendo en (d) se tiene\n",
    "\n",
    "$$c_{1}x_{1}^{3}-c_{1}x_{1}x_{2}^{2}=0\\,\\Rightarrow\\,x_{1}^{2}=x_{2}^{2}$$\n",
    "\n",
    "Pero $x_{1}\\neq x_{2}$ por lo tanto se tiene que\n",
    "\n",
    "$$x_{1}=-x_{2} \\tag{7}$$\n",
    "\n",
    "Ahora substituyendo x_{1} en (6), tenemos que $c_{1}=c_{2}$ y usando (a)\n",
    "\n",
    "$$ c_{1}=c_{2}=1 \\tag{8}$$\n",
    "\n",
    "Si se substituye (7) y (8) en (c) se tiene\n",
    "\n",
    "$$x_{1}^{2}+x_{2}^{2}=\\frac{2}{3}\\,\\Rightarrow\\,x_{1}=\\frac{1}{\\sqrt{3}}$$\n",
    "\n",
    "Así tenemos que\n",
    "\n",
    "$$ c_{1}=1,\\quad c_{2}=1,\\quad x_{1}=\\frac{1}{\\sqrt{3}}\\;y\\;x_{2}=\\frac{-1}{\\sqrt{3}}$$\n",
    "\n",
    "Así que la regla para 2 puntos es\n",
    "\n",
    "$$\\int_{-1}^{1}f\\left(x\\right)dx\\approx f\\left(\\frac{1}{\\sqrt{3}}\\right)+f\\left(\\frac{-1}{\\sqrt{3}}\\right) $$ \n",
    "\n",
    "\n",
    "\n",
    "| n  puntos      | Coeficientes $C_{i}$ |  Puntos Gauss $x_{i}$ | \n",
    "| :-:  | :-: | :-: |  \n",
    "| 2  | $c_{1}=c_{2}=1$ | $x_{1}=0.578\\\\x_{2}=-0.578$ |\n",
    "| 3 | $c_{1}=0.556\\\\c_{2}=0.889\\\\c_{3}=0.556$ | $x_{1}=0.774\\\\x_{2}=0\\\\x_{3}=-0.774$ |\n",
    "\n",
    "### Cuadratura Gaussiana general.\n",
    "\n",
    "Una integral $\\int_{a}^{b}f\\left(x\\right)dx$ en un intervalo arbitrario $\\left[a,b\\right]$ se puede transformar en otra integral $\\int_{-1}^{1}f\\left(t\\right)dt$ en $\\left[-1,1\\right]$ usando el cambio de variable\n",
    "\n",
    "$$t=\\frac{2x-a-b}{b-a}\\Leftrightarrow x=\\frac{1}{2}\\left[\\left(b-a\\right)t+a+b\\right] $$\n",
    "\n",
    "Donde el diferencial de $x$ es $dx=\\frac{1}{2}\\left(b-a\\right)dt$. Esto nos permite aplicar la cuadratura Gaussiana a cualquier intervalo $\\left[a,b\\right]$, ya que\n",
    "\n",
    "$$ \\int_{a}^{b}f\\left(x\\right)dx=\\int_{-1}^{1}f\\left(\\frac{\\left(b-a\\right)t+\\left(b+a\\right)}{2}\\right)\\frac{\\left(b-a\\right)}{2}dt $$\n",
    "\n",
    "### Ejemplo\n",
    "\n",
    "Evalúe $\\int_{0}^{3}e^{-x^{2}}dx$. Usando $n=3$ puntos. Encuentre el error, empleando el valor analítico.\n",
    "\n",
    "El valor de la integral resolviendo de manera analíticamente es 0.886207.\n",
    "\n",
    "### codigo en python"
   ]
  },
  {
   "cell_type": "code",
   "execution_count": 23,
   "metadata": {},
   "outputs": [
    {
     "name": "stdout",
     "output_type": "stream",
     "text": [
      "el resultad de la integral con una cuadratura de 3 puntos es :0.33339656400000006\n"
     ]
    }
   ],
   "source": [
    "def CuaGauss():\n",
    "    # a punto inicial del intervalo \n",
    "    # b punto final del intervalo \n",
    "    # f funcion a integrar\n",
    "    a=0\n",
    "    b=1 \n",
    "    r=np.array([0.774,0.0,-0.774])\n",
    "    c=np.array([0.556,0.889,0.556])\n",
    "    def f(x):\n",
    "        return x*x\n",
    "    \n",
    "    cuadratura=0.0\n",
    "    jacobiano=(b-a)/2\n",
    "    for i in range(len(r)):\n",
    "        changeVar=0.0;changeVar=(( (b-a)*r[i])+b+a)/2\n",
    "        cuadratura+=c[i]*f(changeVar)\n",
    "        \n",
    "    integral=jacobiano*cuadratura\n",
    "    \n",
    "    print(\"el resultad de la integral con una cuadratura de 3 puntos es :{}\".format(integral))\n",
    "    \n",
    "CuaGauss()"
   ]
  },
  {
   "cell_type": "markdown",
   "metadata": {},
   "source": [
    "## Referencias.\n",
    "\n",
    "1. Yuri N. Skiba: Introducción a los métodos numéricos, Dirección General de Publicaciones U.N.A.M.\n",
    "\n",
    "2. Ward Cheney, David Kincaid: Métodos Numéricos y Computación, Cenage Learning.\n",
    "\n",
    "3. Richard L. Burden, J. Douglas Faires:\\newblock Análisis Numérico, Math Learning.\n",
    "\n",
    "4. Riswan Butt: Numerical Analysys Using Matlab, Jones and Bartlett.\n",
    "\n",
    "5. Quarteroni, A, Sacco R.: Numerical mathematics, Springer. 2007."
   ]
  },
  {
   "cell_type": "code",
   "execution_count": null,
   "metadata": {},
   "outputs": [],
   "source": []
  }
 ],
 "metadata": {
  "kernelspec": {
   "display_name": "Python 3.7 (tensorflow)",
   "language": "python",
   "name": "tensorflow"
  },
  "language_info": {
   "codemirror_mode": {
    "name": "ipython",
    "version": 3
   },
   "file_extension": ".py",
   "mimetype": "text/x-python",
   "name": "python",
   "nbconvert_exporter": "python",
   "pygments_lexer": "ipython3",
   "version": "3.7.7"
  }
 },
 "nbformat": 4,
 "nbformat_minor": 4
}
