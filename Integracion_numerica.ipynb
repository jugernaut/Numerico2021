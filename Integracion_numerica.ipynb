{
  "nbformat": 4,
  "nbformat_minor": 0,
  "metadata": {
    "kernelspec": {
      "display_name": "Python 3.7 (tensorflow)",
      "language": "python",
      "name": "tensorflow"
    },
    "language_info": {
      "codemirror_mode": {
        "name": "ipython",
        "version": 3
      },
      "file_extension": ".py",
      "mimetype": "text/x-python",
      "name": "python",
      "nbconvert_exporter": "python",
      "pygments_lexer": "ipython3",
      "version": "3.7.7"
    },
    "colab": {
      "name": "Integracion_numerica.ipynb",
      "provenance": []
    },
    "widgets": {
      "application/vnd.jupyter.widget-state+json": {
        "42f631a4769f4a5386c4d4535b9f5942": {
          "model_module": "@jupyter-widgets/controls",
          "model_name": "VBoxModel",
          "state": {
            "_view_name": "VBoxView",
            "_dom_classes": [
              "widget-interact"
            ],
            "_model_name": "VBoxModel",
            "_view_module": "@jupyter-widgets/controls",
            "_model_module_version": "1.5.0",
            "_view_count": null,
            "_view_module_version": "1.5.0",
            "box_style": "",
            "layout": "IPY_MODEL_3e321dabf4f243d4aa0ddfe67438f450",
            "_model_module": "@jupyter-widgets/controls",
            "children": [
              "IPY_MODEL_af9a012a091c4b2ca3164c9a584c981e",
              "IPY_MODEL_4b3e95bbe803489bb0845bee8cd096c8"
            ]
          }
        },
        "3e321dabf4f243d4aa0ddfe67438f450": {
          "model_module": "@jupyter-widgets/base",
          "model_name": "LayoutModel",
          "state": {
            "_view_name": "LayoutView",
            "grid_template_rows": null,
            "right": null,
            "justify_content": null,
            "_view_module": "@jupyter-widgets/base",
            "overflow": null,
            "_model_module_version": "1.2.0",
            "_view_count": null,
            "flex_flow": null,
            "width": null,
            "min_width": null,
            "border": null,
            "align_items": null,
            "bottom": null,
            "_model_module": "@jupyter-widgets/base",
            "top": null,
            "grid_column": null,
            "overflow_y": null,
            "overflow_x": null,
            "grid_auto_flow": null,
            "grid_area": null,
            "grid_template_columns": null,
            "flex": null,
            "_model_name": "LayoutModel",
            "justify_items": null,
            "grid_row": null,
            "max_height": null,
            "align_content": null,
            "visibility": null,
            "align_self": null,
            "height": null,
            "min_height": null,
            "padding": null,
            "grid_auto_rows": null,
            "grid_gap": null,
            "max_width": null,
            "order": null,
            "_view_module_version": "1.2.0",
            "grid_template_areas": null,
            "object_position": null,
            "object_fit": null,
            "grid_auto_columns": null,
            "margin": null,
            "display": null,
            "left": null
          }
        },
        "af9a012a091c4b2ca3164c9a584c981e": {
          "model_module": "@jupyter-widgets/controls",
          "model_name": "IntSliderModel",
          "state": {
            "_view_name": "IntSliderView",
            "style": "IPY_MODEL_1e24f28c09c84a26860dbf08cbb19ad3",
            "_dom_classes": [],
            "description": "n",
            "step": 1,
            "_model_name": "IntSliderModel",
            "orientation": "horizontal",
            "max": 30,
            "_view_module": "@jupyter-widgets/controls",
            "_model_module_version": "1.5.0",
            "value": 2,
            "_view_count": null,
            "disabled": false,
            "_view_module_version": "1.5.0",
            "min": 2,
            "continuous_update": true,
            "readout_format": "d",
            "description_tooltip": null,
            "readout": true,
            "_model_module": "@jupyter-widgets/controls",
            "layout": "IPY_MODEL_6637ae4f4c1e493b971be7ef6d1f1924"
          }
        },
        "4b3e95bbe803489bb0845bee8cd096c8": {
          "model_module": "@jupyter-widgets/output",
          "model_name": "OutputModel",
          "state": {
            "_view_name": "OutputView",
            "msg_id": "",
            "_dom_classes": [],
            "_model_name": "OutputModel",
            "outputs": [
              {
                "output_type": "stream",
                "metadata": {
                  "tags": []
                },
                "text": "el valor de la integral mediante el metodo de cuadratura del rectangulo es: 0.5\n",
                "stream": "stdout"
              }
            ],
            "_view_module": "@jupyter-widgets/output",
            "_model_module_version": "1.0.0",
            "_view_count": null,
            "_view_module_version": "1.0.0",
            "layout": "IPY_MODEL_641a5657afe94cf08cb8a3fca2a9f215",
            "_model_module": "@jupyter-widgets/output"
          }
        },
        "1e24f28c09c84a26860dbf08cbb19ad3": {
          "model_module": "@jupyter-widgets/controls",
          "model_name": "SliderStyleModel",
          "state": {
            "_view_name": "StyleView",
            "handle_color": null,
            "_model_name": "SliderStyleModel",
            "description_width": "",
            "_view_module": "@jupyter-widgets/base",
            "_model_module_version": "1.5.0",
            "_view_count": null,
            "_view_module_version": "1.2.0",
            "_model_module": "@jupyter-widgets/controls"
          }
        },
        "6637ae4f4c1e493b971be7ef6d1f1924": {
          "model_module": "@jupyter-widgets/base",
          "model_name": "LayoutModel",
          "state": {
            "_view_name": "LayoutView",
            "grid_template_rows": null,
            "right": null,
            "justify_content": null,
            "_view_module": "@jupyter-widgets/base",
            "overflow": null,
            "_model_module_version": "1.2.0",
            "_view_count": null,
            "flex_flow": null,
            "width": null,
            "min_width": null,
            "border": null,
            "align_items": null,
            "bottom": null,
            "_model_module": "@jupyter-widgets/base",
            "top": null,
            "grid_column": null,
            "overflow_y": null,
            "overflow_x": null,
            "grid_auto_flow": null,
            "grid_area": null,
            "grid_template_columns": null,
            "flex": null,
            "_model_name": "LayoutModel",
            "justify_items": null,
            "grid_row": null,
            "max_height": null,
            "align_content": null,
            "visibility": null,
            "align_self": null,
            "height": null,
            "min_height": null,
            "padding": null,
            "grid_auto_rows": null,
            "grid_gap": null,
            "max_width": null,
            "order": null,
            "_view_module_version": "1.2.0",
            "grid_template_areas": null,
            "object_position": null,
            "object_fit": null,
            "grid_auto_columns": null,
            "margin": null,
            "display": null,
            "left": null
          }
        },
        "641a5657afe94cf08cb8a3fca2a9f215": {
          "model_module": "@jupyter-widgets/base",
          "model_name": "LayoutModel",
          "state": {
            "_view_name": "LayoutView",
            "grid_template_rows": null,
            "right": null,
            "justify_content": null,
            "_view_module": "@jupyter-widgets/base",
            "overflow": null,
            "_model_module_version": "1.2.0",
            "_view_count": null,
            "flex_flow": null,
            "width": null,
            "min_width": null,
            "border": null,
            "align_items": null,
            "bottom": null,
            "_model_module": "@jupyter-widgets/base",
            "top": null,
            "grid_column": null,
            "overflow_y": null,
            "overflow_x": null,
            "grid_auto_flow": null,
            "grid_area": null,
            "grid_template_columns": null,
            "flex": null,
            "_model_name": "LayoutModel",
            "justify_items": null,
            "grid_row": null,
            "max_height": null,
            "align_content": null,
            "visibility": null,
            "align_self": null,
            "height": null,
            "min_height": null,
            "padding": null,
            "grid_auto_rows": null,
            "grid_gap": null,
            "max_width": null,
            "order": null,
            "_view_module_version": "1.2.0",
            "grid_template_areas": null,
            "object_position": null,
            "object_fit": null,
            "grid_auto_columns": null,
            "margin": null,
            "display": null,
            "left": null
          }
        },
        "36fc0547cdde4d2e8cc27a863a8e3cc4": {
          "model_module": "@jupyter-widgets/controls",
          "model_name": "VBoxModel",
          "state": {
            "_view_name": "VBoxView",
            "_dom_classes": [
              "widget-interact"
            ],
            "_model_name": "VBoxModel",
            "_view_module": "@jupyter-widgets/controls",
            "_model_module_version": "1.5.0",
            "_view_count": null,
            "_view_module_version": "1.5.0",
            "box_style": "",
            "layout": "IPY_MODEL_199f2c9109104c8c895598bf8605c5ec",
            "_model_module": "@jupyter-widgets/controls",
            "children": [
              "IPY_MODEL_81ee16aa87fd4675b8274444d81adc8a",
              "IPY_MODEL_6b460f6a376c46828b22b2d0185fb156"
            ]
          }
        },
        "199f2c9109104c8c895598bf8605c5ec": {
          "model_module": "@jupyter-widgets/base",
          "model_name": "LayoutModel",
          "state": {
            "_view_name": "LayoutView",
            "grid_template_rows": null,
            "right": null,
            "justify_content": null,
            "_view_module": "@jupyter-widgets/base",
            "overflow": null,
            "_model_module_version": "1.2.0",
            "_view_count": null,
            "flex_flow": null,
            "width": null,
            "min_width": null,
            "border": null,
            "align_items": null,
            "bottom": null,
            "_model_module": "@jupyter-widgets/base",
            "top": null,
            "grid_column": null,
            "overflow_y": null,
            "overflow_x": null,
            "grid_auto_flow": null,
            "grid_area": null,
            "grid_template_columns": null,
            "flex": null,
            "_model_name": "LayoutModel",
            "justify_items": null,
            "grid_row": null,
            "max_height": null,
            "align_content": null,
            "visibility": null,
            "align_self": null,
            "height": null,
            "min_height": null,
            "padding": null,
            "grid_auto_rows": null,
            "grid_gap": null,
            "max_width": null,
            "order": null,
            "_view_module_version": "1.2.0",
            "grid_template_areas": null,
            "object_position": null,
            "object_fit": null,
            "grid_auto_columns": null,
            "margin": null,
            "display": null,
            "left": null
          }
        },
        "81ee16aa87fd4675b8274444d81adc8a": {
          "model_module": "@jupyter-widgets/controls",
          "model_name": "IntSliderModel",
          "state": {
            "_view_name": "IntSliderView",
            "style": "IPY_MODEL_37cbff1fa6d04143b1f269ac2965391d",
            "_dom_classes": [],
            "description": "n",
            "step": 1,
            "_model_name": "IntSliderModel",
            "orientation": "horizontal",
            "max": 30,
            "_view_module": "@jupyter-widgets/controls",
            "_model_module_version": "1.5.0",
            "value": 25,
            "_view_count": null,
            "disabled": false,
            "_view_module_version": "1.5.0",
            "min": 2,
            "continuous_update": true,
            "readout_format": "d",
            "description_tooltip": null,
            "readout": true,
            "_model_module": "@jupyter-widgets/controls",
            "layout": "IPY_MODEL_c05a9db1a43c4de1b65aa3a462149704"
          }
        },
        "6b460f6a376c46828b22b2d0185fb156": {
          "model_module": "@jupyter-widgets/output",
          "model_name": "OutputModel",
          "state": {
            "_view_name": "OutputView",
            "msg_id": "",
            "_dom_classes": [],
            "_model_name": "OutputModel",
            "outputs": [
              {
                "output_type": "display_data",
                "metadata": {
                  "tags": [],
                  "needs_background": "light"
                },
                "image/png": "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\n",
                "text/plain": "<Figure size 432x288 with 1 Axes>"
              }
            ],
            "_view_module": "@jupyter-widgets/output",
            "_model_module_version": "1.0.0",
            "_view_count": null,
            "_view_module_version": "1.0.0",
            "layout": "IPY_MODEL_5a1f97251124492d8c63a748bd22eec1",
            "_model_module": "@jupyter-widgets/output"
          }
        },
        "37cbff1fa6d04143b1f269ac2965391d": {
          "model_module": "@jupyter-widgets/controls",
          "model_name": "SliderStyleModel",
          "state": {
            "_view_name": "StyleView",
            "handle_color": null,
            "_model_name": "SliderStyleModel",
            "description_width": "",
            "_view_module": "@jupyter-widgets/base",
            "_model_module_version": "1.5.0",
            "_view_count": null,
            "_view_module_version": "1.2.0",
            "_model_module": "@jupyter-widgets/controls"
          }
        },
        "c05a9db1a43c4de1b65aa3a462149704": {
          "model_module": "@jupyter-widgets/base",
          "model_name": "LayoutModel",
          "state": {
            "_view_name": "LayoutView",
            "grid_template_rows": null,
            "right": null,
            "justify_content": null,
            "_view_module": "@jupyter-widgets/base",
            "overflow": null,
            "_model_module_version": "1.2.0",
            "_view_count": null,
            "flex_flow": null,
            "width": null,
            "min_width": null,
            "border": null,
            "align_items": null,
            "bottom": null,
            "_model_module": "@jupyter-widgets/base",
            "top": null,
            "grid_column": null,
            "overflow_y": null,
            "overflow_x": null,
            "grid_auto_flow": null,
            "grid_area": null,
            "grid_template_columns": null,
            "flex": null,
            "_model_name": "LayoutModel",
            "justify_items": null,
            "grid_row": null,
            "max_height": null,
            "align_content": null,
            "visibility": null,
            "align_self": null,
            "height": null,
            "min_height": null,
            "padding": null,
            "grid_auto_rows": null,
            "grid_gap": null,
            "max_width": null,
            "order": null,
            "_view_module_version": "1.2.0",
            "grid_template_areas": null,
            "object_position": null,
            "object_fit": null,
            "grid_auto_columns": null,
            "margin": null,
            "display": null,
            "left": null
          }
        },
        "5a1f97251124492d8c63a748bd22eec1": {
          "model_module": "@jupyter-widgets/base",
          "model_name": "LayoutModel",
          "state": {
            "_view_name": "LayoutView",
            "grid_template_rows": null,
            "right": null,
            "justify_content": null,
            "_view_module": "@jupyter-widgets/base",
            "overflow": null,
            "_model_module_version": "1.2.0",
            "_view_count": null,
            "flex_flow": null,
            "width": null,
            "min_width": null,
            "border": null,
            "align_items": null,
            "bottom": null,
            "_model_module": "@jupyter-widgets/base",
            "top": null,
            "grid_column": null,
            "overflow_y": null,
            "overflow_x": null,
            "grid_auto_flow": null,
            "grid_area": null,
            "grid_template_columns": null,
            "flex": null,
            "_model_name": "LayoutModel",
            "justify_items": null,
            "grid_row": null,
            "max_height": null,
            "align_content": null,
            "visibility": null,
            "align_self": null,
            "height": null,
            "min_height": null,
            "padding": null,
            "grid_auto_rows": null,
            "grid_gap": null,
            "max_width": null,
            "order": null,
            "_view_module_version": "1.2.0",
            "grid_template_areas": null,
            "object_position": null,
            "object_fit": null,
            "grid_auto_columns": null,
            "margin": null,
            "display": null,
            "left": null
          }
        }
      }
    }
  },
  "cells": [
    {
      "cell_type": "markdown",
      "metadata": {
        "id": "nJ7lyblPov_C",
        "colab_type": "text"
      },
      "source": [
        "# Integración numérica.\n",
        "Profesor: M.en.C. Miguel Ángel Pérez León.\n",
        "\n",
        "Ayudante: Jesús Iván Coss Calderón.\n",
        "\n",
        "Materia: Análisis Numérico."
      ]
    },
    {
      "cell_type": "markdown",
      "metadata": {
        "id": "B0OE6Hbzov_D",
        "colab_type": "text"
      },
      "source": [
        "## 1. Introducción.\n",
        "\n",
        "Muy frecuentemente es necesario evaluar la integral definida de una función $f\\left(x\\right)$ en un intervalo $\\left[a,b\\right]$. El objetivo de esta sección es encontrar métodos para aproximar la integral\n",
        "\n",
        "$$\\int_{a}^{b}f\\left(x\\right)dx$$\n",
        "\n",
        "Si se conoce a priori la $\\color{blue}{antiderivada}$ $F\\left(x\\right)$ entonces es evidente que podemos encontrar el valor exacto de la integral, aplicando el siguiente teorema\n",
        "\n",
        "\n",
        "$\\color{blue}{Teorema}$.  Teorema Fundamental de Cálculo.\n",
        "\n",
        "Sea $f\\left(x\\right)$ integrable en el intervalo $\\left[a,b\\right]$ y $F'\\left(x\\right)=f\\left(x\\right)$ entonces,$\\int_{a}^{b}f\\left(x\\right)dx=F\\left(a\\right)-F\\left(b\\right)$\n",
        "\n",
        "\n",
        "Sin embargo como en otras partes del curso, a veces encontrar a F es muy complicado, de tal manera que la mejor opción es encontrar una aproximación.\n",
        "\n",
        "$$\\int_{a}^{b}f\\left(x\\right)dx$$\n",
        "\n",
        "La forma básica para encontrar una aproximación de $$\\int_{a}^{b}f\\left(x\\right)dx$$, se conoce como $\\color{blue}{cuadratura\\hspace{1mm} numérica}$ y emplea una sumatoria del tipo\n",
        "\n",
        "$$\\sum_{i=0}^{n}a_{i}f\\left(x_{i}\\right)$$\n",
        "\n",
        "Existen diferentes aproximaciones de la integral de $f\\left(x\\right)$ mediante cuadratura numérica, en esta sección revisaremos algunas de las mas comunes."
      ]
    },
    {
      "cell_type": "markdown",
      "metadata": {
        "id": "tLQ0_4hMov_E",
        "colab_type": "text"
      },
      "source": [
        "## 2. Cuadratura Numérica.\n",
        "\n",
        "Los métodos de integración numérica se basan en los polinomios de Lagrange visto en secciones previas. La idea básica es que seleccionamos un conjunto de nodos distintos $x_{0},\\ldots,x_{n}$ del intervalo $ \\left[a,b\\right]$. Después se integra el polinomio de Lagrange\n",
        "\n",
        "$$P_{n}\\left(x\\right)=\\sum_{i=0}^{n}f\\left(x_{i}\\right)L_{i}\\left(x\\right)$$\n",
        "\n",
        "Y también se integra el termino de error de truncamiento en $\\left[a,b\\right]$\n",
        "\n",
        "$$\\prod_{i=0}^{n}\\left(x-x_{i}\\right)\\frac{f^{\\left(n+1\\right)}\\left(\\xi\\left(x\\right)\\right)}{\\left(n+1\\right)!}dx$$\n",
        "\n",
        "De tal manera que obtenemos\n",
        "\n",
        "$$ \\int_{a}^{b}f\\left(x\\right)dx=\\int_{a}^{b}\\sum_{i=0}^{n}f\\left(x_{i}\\right)L_{i}\\left(x\\right)dx+\\int_{a}^{b}\\prod_{i=0}^{n}\\left(x-x_{i}\\right)\\frac{f^{\\left(n+1\\right)}\\left(\\xi\\left(x\\right)\\right)}{\\left(n+1\\right)!}dx\\\\=\\sum_{i=0}^{n}a_{i}f\\left(x_{i}\\right)+\\frac{1}{\\left(n+1\\right)!}\\int_{a}^{b}\\prod_{i=0}^{n}\\left(x-x_{i}\\right)f^{\\left(n+1\\right)}\\left(\\xi\\left(x\\right)\\right)dx $$\n",
        "\n",
        "Donde $\\xi\\left(x\\right)$ se encuentra en $\\left[a,b\\right]$ para cada $x$ y\n",
        "\n",
        "$$a_{i}=\\int_{a}^{b}L_{i}\\left(x\\right)dx,\\quad para\\,cada\\,i=0,1,\\ldots,n$$\n",
        "\n",
        "Por lo tanto, la formula de la cuadratura es\n",
        "\n",
        "$$\\int_{a}^{b}f\\left(x\\right)dx=\\sum_{i=0}^{n}a_{i}f\\left(x_{i}\\right) \\tag{1}$$\n",
        "\n",
        "Con un error dado por\n",
        "\n",
        "$$E\\left(f\\right)=\\frac{1}{\\left(n+1\\right)!}\\int_{a}^{b}\\prod_{i=0}^{n}\\left(x-x_{i}\\right)f^{\\left(n+1\\right)}\\left(\\xi\\left(x\\right)\\right)dx$$\n",
        "\n",
        "De la misma manera que en otros temas vistos en el curso, la aproximación sera mas exacta si subdividimos el intervalo $\\left[a,b\\right]$ en tantos subintervalos como sea necesario, es decir\n",
        "\n",
        "Sea\n",
        "\n",
        "$$\\left[a,b\\right]=\\left[a,x_{1}\\right]\\cup\\left[x_{1},x_{2}\\right]\\cup\\cdots\\cup\\left[x_{n-2},x_{n-1}\\right]\\cup\\left[x_{n-1},b\\right]$$\n",
        "\n",
        "Donde\n",
        "\n",
        "$$x_{k}=a+\\frac{b-a}{n}k,\\quad n=0,1,2,\\ldots,n,\\quad x_{0}=a,\\,x_{n}=b$$\n",
        "\n",
        "\n",
        "Tendremos\n",
        "\n",
        "$$\\int_{a}^{b}f\\left(x\\right)dx=\\int_{a}^{x_{1}}f\\left(x\\right)dx+\\cdots+\\int_{x_{k}}^{x_{k+1}}f\\left(x\\right)dx+\\cdots+\\int_{x_{n-1}}^{b}f\\left(x\\right)dx \\tag{2} $$\n",
        "\n",
        "Observación, todos los nodos son igualmente espaciados.\n",
        "\n",
        "### 2.1. Cuadratura del rectángulo.\n",
        "\n",
        "La forma de cuadratura mas simple es la que emplea rectángulos de base $\\left(b-a\\right)$ y altura $f\\left(a\\right)$\n",
        "\n",
        "$$\\int_{a}^{b}f\\left(x\\right)dx=\\left(b-a\\right)f\\left(a\\right)+E\\left(f\\right) \\tag{3}$$\n",
        "\n",
        "Combinando 1) y 3), se obtiene la forma general de la cuadratura mediante rectángulos\n",
        "\n",
        "$$\\int_{a}^{b}f\\left(x\\right)dx=\\frac{b-a}{n}\\sum_{i=0}^{n-1}f\\left(x_{i}\\right)+E\\left(f\\right)$$\n",
        "\n",
        "### codigo en python"
      ]
    },
    {
      "cell_type": "code",
      "metadata": {
        "id": "1mWS0quAov_F",
        "colab_type": "code",
        "colab": {
          "base_uri": "https://localhost:8080/",
          "height": 85,
          "referenced_widgets": [
            "42f631a4769f4a5386c4d4535b9f5942",
            "3e321dabf4f243d4aa0ddfe67438f450",
            "af9a012a091c4b2ca3164c9a584c981e",
            "4b3e95bbe803489bb0845bee8cd096c8",
            "1e24f28c09c84a26860dbf08cbb19ad3",
            "6637ae4f4c1e493b971be7ef6d1f1924",
            "641a5657afe94cf08cb8a3fca2a9f215"
          ]
        },
        "outputId": "1c9fd18a-e343-4551-cba2-7101dddc5563"
      },
      "source": [
        "import numpy as np\n",
        "from IPython.html.widgets import interact\n",
        "import ipywidgets as widgets\n",
        "import matplotlib.pyplot as plt\n",
        "%matplotlib inline\n",
        "\n",
        "def rectangulos(n):\n",
        "    # a punto inicial del intervalo \n",
        "    # b punto final del intervalo \n",
        "    # f funcion a integrar\n",
        "    # n los puntos que se usaran para integrar \n",
        "    a=0\n",
        "    b=1\n",
        "    x=np.linspace(a,b,n) # se crea la particion\n",
        "    cuadratura=0.0\n",
        "    for i in range (len(x)):\n",
        "        cuadratura+=x[i]*x[i]\n",
        "        \n",
        "    integral=((b-a)/n)*cuadratura\n",
        "\n",
        "    print(\"el valor de la integral mediante el metodo de cuadratura del rectangulo es: {}\".format(integral)) \n",
        "\n",
        "interact(rectangulos,n=widgets.IntSlider(min=2,max=30,step=1,value=2))"
      ],
      "execution_count": 9,
      "outputs": [
        {
          "output_type": "display_data",
          "data": {
            "application/vnd.jupyter.widget-view+json": {
              "model_id": "42f631a4769f4a5386c4d4535b9f5942",
              "version_minor": 0,
              "version_major": 2
            },
            "text/plain": [
              "interactive(children=(IntSlider(value=2, description='n', max=30, min=2), Output()), _dom_classes=('widget-int…"
            ]
          },
          "metadata": {
            "tags": []
          }
        },
        {
          "output_type": "execute_result",
          "data": {
            "text/plain": [
              "<function __main__.rectangulos>"
            ]
          },
          "metadata": {
            "tags": []
          },
          "execution_count": 9
        }
      ]
    },
    {
      "cell_type": "markdown",
      "metadata": {
        "id": "r22TpsdXov_K",
        "colab_type": "text"
      },
      "source": [
        "### 2.2.  Cuadratura del punto medio.\n",
        "\n",
        "Una aproximación de la integral $\\int_{a}^{b}f\\left(x\\right)dx$ consiste en aproximar el área bajo la curva $y=f\\left(x\\right)$ por un rectángulo de base $b-a$ y altura $f\\left(\\frac{a+b}{2}\\right)$, entonces\n",
        "\n",
        "$$\\int_{a}^{b}f\\left(x\\right)dx=\\left(b-a\\right)f\\left(\\frac{a+b}{2}\\right)+E\\left(f\\right) \\tag{4} $$\n",
        "\n",
        "Donde $E\\left(f\\right)$, si $f$ tiene primera y segunda derivada continuas en $\\left[a,b\\right]$, se expresa así\n",
        "\n",
        "$$E\\left(f\\right)=\\frac{\\left(b-a\\right)^{2}}{24}f''\\left(\\xi\\right)\\quad\\xi\\in\\left[a,b\\right]$$\n",
        "\n",
        "Combinando 1) y 4), se obtiene la forma general de la cuadratura del punto medio\n",
        "\n",
        "$$\\int_{a}^{b}f\\left(x\\right)dx=\\frac{b-a}{n}\\sum_{i=0}^{n-1}f\\left(\\frac{x_{i}+x_{i+1}}{2}\\right)+E\\left(f\\right)$$\n",
        "\n",
        "### codigo en python"
      ]
    },
    {
      "cell_type": "code",
      "metadata": {
        "id": "xxXPlDInov_L",
        "colab_type": "code",
        "colab": {
          "referenced_widgets": [
            "04f2b250af6d4f08a55d1378947047d4"
          ]
        },
        "outputId": "4449265a-289a-4fe4-dc7d-692083377cd5"
      },
      "source": [
        "def PuntoMedio(n):\n",
        "    # a punto inicial del intervalo \n",
        "    # b punto final del intervalo \n",
        "    # f funcion a integrar\n",
        "    # n los puntos que se usaran para integrar \n",
        "    a=0\n",
        "    b=1\n",
        "    def f(x):\n",
        "        return x*x\n",
        "    \n",
        "    x=np.linspace(a,b,n) # se crea la particion\n",
        "    cuadratura=0.0\n",
        "    for i in range (len(x)-1):\n",
        "        cuadratura+=f( (x[i]+x[i+1])/2 )\n",
        "    integral=((b-a)/n)*cuadratura\n",
        "    \n",
        "    print(\"el valor de la integral mediante el metodo de cuadratura del punto medio es: {}\".format(integral)) \n",
        "\n",
        "interact(PuntoMedio,n=widgets.IntSlider(min=2,max=30,step=1,value=2))"
      ],
      "execution_count": null,
      "outputs": [
        {
          "output_type": "display_data",
          "data": {
            "application/vnd.jupyter.widget-view+json": {
              "model_id": "04f2b250af6d4f08a55d1378947047d4",
              "version_major": 2,
              "version_minor": 0
            },
            "text/plain": [
              "interactive(children=(IntSlider(value=2, description='n', max=30, min=2), Output()), _dom_classes=('widget-int…"
            ]
          },
          "metadata": {
            "tags": []
          }
        },
        {
          "output_type": "execute_result",
          "data": {
            "text/plain": [
              "<function __main__.PuntoMedio(n)>"
            ]
          },
          "metadata": {
            "tags": []
          },
          "execution_count": 7
        }
      ]
    },
    {
      "cell_type": "markdown",
      "metadata": {
        "id": "pPbmaxKAov_P",
        "colab_type": "text"
      },
      "source": [
        "### 2.3.  Cuadratura del trapecio.\n",
        "\n",
        "Para derivar la regla del trapecio para aproximar $\\int_{a}^{b}f\\left(x\\right)dx$, tomemos $x_{0}=a,\\,x_{1}=b,\\,h=b-a$ y calculando el polinomio lineal de Lagrange\n",
        "\n",
        "$$P\\left(x\\right)=\\left(\\frac{x-x_{1}}{x_{0}-x_{1}}\\right)f(x_{0})+\\left(\\frac{x-x_{0}}{x_{1}-x_{0}}\\right)f(x_{1})$$\n",
        "\n",
        "Al integrar este polinomio se tiene\n",
        "\n",
        "$$\\int_{a}^{b}f\\left(x\\right)dx=\\int_{x_{0}}^{x_{1}}\\left[\\left(\\frac{x-x_{1}}{x_{0}-x_{1}}\\right)f(x_{0})+\\left(\\frac{x-x_{0}}{x_{1}-x_{0}}\\right)f(x_{1})\\right]dx\\\\+\\frac{1}{2}\\int_{x_{0}}^{x_{1}}f''\\left(\\xi\\left(x\\right)\\right)\\left(x-x_{0}\\right)\\left(x-x_{1}\\right)dx$$\n",
        "\n",
        "Donde la integral del error es $-\\frac{h^{3}}{6}f''\\left(\\xi\\right)$, lo que nos lleva a la forma general de la cuadratura del trapecio\n",
        "\n",
        "$$\\int_{a}^{b}f\\left(x\\right)dx=\\left[\\frac{x-x_{1}}{2\\left(x_{0}-x_{1}\\right)}f(x_{0})+\\frac{x-x_{0}}{2\\left(x_{1}-x_{0}\\right)}f(x_{1})\\right]_{x_{0}}^{x_{1}}-\\frac{h^{3}}{12}f''\\left(\\xi\\right)\\\\=\\frac{\\left(x_{1}-x_{0}\\right)}{2}\\left[f\\left(x_{0}\\right)+f\\left(x_{1}\\right)\\right]-\\frac{h^{3}}{12}f''\\left(\\xi\\right) $$\n",
        "\n",
        "Tomando en cuenta que $h=x_{1}-x_{0}$, obtenemos la forma general de la cuadratura del trapecio\n",
        "\n",
        "$$\\int_{a}^{b}f\\left(x\\right)dx=\\frac{h}{2}\\left[f\\left(x_{0}\\right)+f\\left(x_{1}\\right)\\right]-\\frac{h^{3}}{12}f''\\left(\\xi\\right)$$\n",
        "\n",
        "### codigo en python"
      ]
    },
    {
      "cell_type": "code",
      "metadata": {
        "id": "-pQYuANeov_Q",
        "colab_type": "code",
        "colab": {},
        "outputId": "03705590-1b6e-47c1-f2b6-c0ad7f90ab6e"
      },
      "source": [
        "def Trapecio():\n",
        "    # a punto inicial del intervalo \n",
        "    # b punto final del intervalo \n",
        "    # f funcion a integrar\n",
        "    a=0\n",
        "    b=1\n",
        "    def f(x):\n",
        "        return x*x\n",
        "    \n",
        "    integral=((b-a)/2)*(f(a)+f(b))\n",
        "    print(\"el valor de la integral mediante el metodo de cuadratura del Trapecio: {}\".format(integral))\n",
        "\n",
        "Trapecio()"
      ],
      "execution_count": null,
      "outputs": [
        {
          "output_type": "stream",
          "text": [
            "el valor de la integral mediante el metodo de cuadratura del Trapecio: 0.5\n"
          ],
          "name": "stdout"
        }
      ]
    },
    {
      "cell_type": "markdown",
      "metadata": {
        "id": "9fY78MZuov_V",
        "colab_type": "text"
      },
      "source": [
        "### 2.3.  Cuadratura del trapecio compuesto.\n",
        "\n",
        "Sean los nodos $a=x_{0}<x_{1}<\\cdots<x_{n}=b$ con $h_{i}=x_{i+1}-x_{i}$ y lo que se busca es aproximar el valor de $\\int_{a}^{b}f\\left(x\\right)dx$. Ademas aprovechamos el hecho de que \n",
        "\n",
        "$$\\int_{a}^{b}f\\left(x\\right)dx\t=\t\\int_{a}^{c}f\\left(x\\right)dx+\\int_{c}^{b}f\\left(x\\right)dx$$\n",
        "\n",
        "Integrando sobre los subintervalos $\\left[x_{i},x_{i+1}\\right]$, para $i=0,\\ldots,n-1$ y aplicando la regla del trapecio simple, se obtiene\n",
        "\n",
        "$$\\int_{a}^{b}f\\left(x\\right)dx=\\sum_{i=0}^{n-1}\\int_{x_{i}}^{x_{i+1}}f\\left(x\\right)=\\sum_{i=0}^{n-1}\\frac{h_{i}}{2}\\left[f\\left(x_{i}\\right)+f\\left(x_{i+1}\\right)\\right]-\\sum_{i=0}^{n-1}\\frac{h_{i}^{3}}{12}f''\\left(\\xi_{i}\\right),\\quad\\xi_{i}\\in\\left(x_{i+1},x_{i}\\right) $$\n",
        "\n",
        "Si consideramos $h=h_{i}$ para $i=0,\\ldots,n-1$ y $f''\\left(x\\right)$ continua, entonces obtenemos el error total\n",
        "\n",
        "$$E_{T}=-\\frac{h^{3}}{12}\\sum_{i=0}^{n-1}f''\\left(\\xi_{i}\\right)=-\\frac{h^{3}}{12}nf''\\left(\\xi\\right)=-\\frac{h^{2}}{12}nhf''\\left(\\xi\\right)$$\n",
        "\n",
        "Donde $\\xi\\in\\left(x_{0},x_{n}\\right)$ y $h=\\frac{x_{n}-x_{0}}{n}$ entonces $E_{T}=-\\frac{h^{2}}{12}\\left(x_{n}-x_{0}\\right)f''\\left(\\xi\\right)$, es decir\n",
        "\n",
        "$$ \\int_{a}^{b}f\\left(x\\right)dx=\\frac{h}{2}\\left[f\\left(x_{0}\\right)+2f\\left(x_{1}\\right)+\\cdots+2f\\left(x_{n-1}\\right)+f\\left(x_{n}\\right)\\right]-\\frac{h^{2}}{12}\\left(x_{n}-x_{0}\\right)f''\\left(\\xi\\right)$$\n",
        "\n",
        "Así que\n",
        "\n",
        "$$\\int_{a}^{b}f\\left(x\\right)dx=\\frac{h}{2}\\left[f\\left(a\\right)+2\\sum_{i=1}^{n-1}f\\left(x_{i}\\right)+f\\left(b\\right)\\right]-\\frac{b-a}{12}h^{2}f''\\left(\\xi\\right)$$\n",
        "\n",
        "Es la forma general de la cuadratura del trapecio compuesto.\n",
        "\n",
        "### codigo en python"
      ]
    },
    {
      "cell_type": "code",
      "metadata": {
        "id": "HmNZk__Zov_V",
        "colab_type": "code",
        "colab": {
          "referenced_widgets": [
            "0549ba5b42f34910857d6ac84bd3bf6f"
          ]
        },
        "outputId": "7255658a-8fc6-47b4-9b5c-95c06814a283"
      },
      "source": [
        "def TrapComp(n):\n",
        "    # a punto inicial del intervalo \n",
        "    # b punto final del intervalo \n",
        "    # f funcion a integrar\n",
        "    # n los puntos que se usaran para integrar \n",
        "    a=0\n",
        "    b=1\n",
        "    def f(x):\n",
        "        return x*x\n",
        "    \n",
        "    x=np.linspace(a,b,n) # se crea la particion\n",
        "    cuadratura=0.0\n",
        "    for i in range (1,len(x)-1):\n",
        "        cuadratura+=f( x[i])\n",
        "\n",
        "    integral=((b-a)/(2*n))*(2*cuadratura+f(a)+f(b))\n",
        "    \n",
        "    print(\"el valor de la integral mediante el metodo de cuadratura del  Trapecio Compuesto es: {}\".format(integral)) \n",
        "\n",
        "interact(TrapComp,n=widgets.IntSlider(min=4,max=30,step=1,value=4))"
      ],
      "execution_count": null,
      "outputs": [
        {
          "output_type": "display_data",
          "data": {
            "application/vnd.jupyter.widget-view+json": {
              "model_id": "0549ba5b42f34910857d6ac84bd3bf6f",
              "version_major": 2,
              "version_minor": 0
            },
            "text/plain": [
              "interactive(children=(IntSlider(value=4, description='n', max=30, min=4), Output()), _dom_classes=('widget-int…"
            ]
          },
          "metadata": {
            "tags": []
          }
        },
        {
          "output_type": "execute_result",
          "data": {
            "text/plain": [
              "<function __main__.TrapComp(n)>"
            ]
          },
          "metadata": {
            "tags": []
          },
          "execution_count": 16
        }
      ]
    },
    {
      "cell_type": "markdown",
      "metadata": {
        "id": "zenxzny1ov_b",
        "colab_type": "text"
      },
      "source": [
        "### 2.4.  Cuadratura de Simpson $\\frac{1}{3}$\n",
        "\n",
        "Se obtiene al integrar en $\\left[a,b\\right]$ el segundo polinomio de Lagrange con los nodos $x_{0}=a,\\,x_{1}=a+h\\,y\\,x_{2}=b$ donde $h=\\frac{b-a}{2}$\n",
        "\n",
        "$$\\int_{a}^{b}f\\left(x\\right)dx=\\int_{x_{0}}^{x_{2}}\\left[\\frac{\\left(x-x_{1}\\right)\\left(x-x_{2}\\right)}{\\left(x_{0}-x_{1}\\right)\\left(x_{0}-x_{2}\\right)}f(x_{0})+\\frac{\\left(x-x_{0}\\right)\\left(x-x_{2}\\right)}{\\left(x_{1}-x_{0}\\right)\\left(x_{1}-x_{2}\\right)}f(x_{1})\\right]\\\\+\\int_{x_{0}}^{x_{2}}\\left[\\frac{\\left(x-x_{0}\\right)\\left(x-x_{1}\\right)}{\\left(x_{2}-x_{0}\\right)\\left(x_{2}-x_{1}\\right)}f(x_{2})\\right]\\\\+\\frac{1}{6}\\int_{x_{0}}^{x_{2}}f'''\\left(\\xi\\left(x\\right)\\right)\\left(x-x_{0}\\right)\\left(x-x_{1}\\right)\\left(x-x_{2}\\right)dx $$\n",
        "\n",
        "Sin embargo, al deducir la regla de Simpson de esta manera, unicamente se obtiene un término de error $O\\left(h^{4}\\right)$ que contiene a $f^{\\left(3\\right)}$. Pero si construimos la regla de otra forma, podemos deducir un termino de orden superior que incluya a $f^{\\left(4\\right)}$\n",
        "\n",
        "Supongamos que $f$ se expande mediante el tercer polinomio de Taylor alrededor de $x_{1}$. Entonces, para cada $x$ en $\\left[x_{0},x_{2}\\right]$, existe un número $\\xi\\left(x\\right)\\in\\left(x_{0},x_{2}\\right)$ con\n",
        "\n",
        "$$f\\left(x\\right)=f\\left(x_{1}\\right)+f'\\left(x_{1}\\right)\\left(x-x_{1}\\right)+\\frac{f''\\left(x_{1}\\right)\\left(x-x_{1}\\right)^{2}}{2!}\\\\+\\frac{f'''\\left(x_{1}\\right)\\left(x-x_{1}\\right)^{3}}{3!}+\\frac{f^{\\left(4\\right)}\\left(\\xi\\left(x\\right)\\right)\\left(x-x_{1}\\right)^{4}}{4!}$$\n",
        "\n",
        "Si $h=\\left(x-x_{1}\\right)$ y \n",
        "\n",
        "$$\\int_{x_{0}}^{x_{2}}f\\left(x\\right)dx=\\left[f\\left(x_{1}\\right)h+\\frac{f'\\left(x_{1}\\right)h^{2}}{2!}+\\frac{f''\\left(x_{1}\\right)h^{3}}{3!}+\\frac{f^{\\left(3\\right)}\\left(x_{1}\\right)h^{4}}{4!}\\right]_{x_{0}}^{x_{2}}+\\frac{1}{24}\\int_{x_{0}}^{x_{2}}f^{\\left(4\\right)}\\left(\\xi\\left(x\\right)\\right)h^{4}dx \\tag{5}$$\n",
        "\n",
        "Puesto que $\\left(x-x_{1}\\right)^{4}$ nunca es negativo en $\\left[x_{0},x_{2}\\right]$ y por el Teorema del Valor Medio ponderado, entonces\n",
        "\n",
        "$$\\frac{1}{24}\\int_{x_{0}}^{x_{2}}f^{\\left(4\\right)}\\left(\\xi\\left(x\\right)\\right)h^{4}dx=\\frac{f^{\\left(4\\right)}\\left(\\xi_{1}\\right)h^{4}}{24}\\int_{x_{0}}^{x_{2}}h^{4}dx=\\frac{f^{\\left(4\\right)}\\left(\\xi_{1}\\right)}{120}h^{5}\\mid_{x_{0}}^{x2}$$\n",
        "\n",
        "Para algún número $\\xi_{1}\\in\\left(x_{0},x_{2}\\right)$. Pero por otro lado $h=x_{2}-x_{1}=x_{1}-x_{0}$, así que\n",
        "\n",
        "$$\\left(x_{2}-x_{1}\\right)^{2}-\\left(x_{1}-x_{0}\\right)^{2}=\\left(x_{2}-x_{1}\\right)^{4}-\\left(x_{1}-x_{0}\\right)^{4}=0 $$\n",
        "\n",
        "Mientras que\n",
        "\n",
        "$$\\left(x_{2}-x_{1}\\right)^{3}-\\left(x_{1}-x_{0}\\right)^{3}=2h^{3}\\,y\\,\\left(x_{2}-x_{1}\\right)^{5}-\\left(x_{1}-x_{0}\\right)^{5}=2h^{5}$$\n",
        "\n",
        "Así que (5), se puede reescribir así\n",
        "\n",
        "Pero si ahora reemplazamos $f''\\left(x_{1}\\right)$ por su aproximación en diferencias finitas, se tiene\n",
        "\n",
        "$$\\int_{x_{0}}^{x_{2}}f\\left(x\\right)dx=2hf\\left(x_{1}\\right)+\\frac{h^{3}}{3}\\left\\{ \\frac{1}{h^{2}}\\left[f\\left(x_{0}\\right)-2f\\left(x_{1}\\right)+f\\left(x_{2}\\right)\\right]-\\frac{h^{2}}{12}f^{\\left(4\\right)}\\left(\\xi_{2}\\right)\\right\\} \\\\+\\frac{f^{\\left(4\\right)}\\left(\\xi_{1}\\right)h^{5}}{60}\\\\=\\frac{h}{3}\\left[f\\left(x_{0}\\right)+4f\\left(x_{1}\\right)+f\\left(x_{2}\\right)\\right]-\\frac{h^{5}}{12}\\left[\\frac{1}{3}f^{\\left(4\\right)}\\left(\\xi_{2}\\right)-\\frac{1}{5}f^{\\left(4\\right)}\\left(\\xi_{1}\\right)\\right] $$\n",
        "\n",
        "Así tenemos que\n",
        "\n",
        "$$\\int_{x_{0}}^{x_{2}}f\\left(x\\right)dx=\\frac{h}{3}\\left[f\\left(x_{0}\\right)+4f\\left(x_{1}\\right)+f\\left(x_{2}\\right)\\right]-\\frac{h^{5}}{90}f^{\\left(4\\right)}\\left(\\xi_{1}\\right)$$\n",
        "\n",
        "Es la forma general de la regla de Simpson $\\frac{1}{3}$\n",
        "\n",
        "$\\color{green}{Ejemplo}$. La regla del trapecio para una función f en el intervalo $\\left[0,2\\right]$ es \n",
        "\n",
        "$$\\int_{0}^{2}f\\left(x\\right)dx\\approx f\\left(0\\right)+f\\left(2\\right)$$\n",
        "\n",
        "y la regla de Simpson para $f$ en $\\left[0,2\\right]$ es\n",
        "\n",
        "$$\\int_{0}^{2}f\\left(x\\right)dx\\approx\\frac{1}{3}\\left[f\\left(0\\right)+4f\\left(1\\right)+f\\left(2\\right)\\right] $$\n",
        "\n",
        "Calcular las correspondientes aproximaciones para\n",
        "\n",
        "$$x^{2},x^{4},\\frac{1}{\\left(x+1\\right)},\\,\\sqrt{1+x^{2}},\\,sen\\,x,\\,e^{x}$$\n",
        "\n",
        "Notar como en todos los casos, la regla de Simpson, proporciona una mejor aproximación.\n",
        "\n",
        "| $f\\left(x\\right)$        | $x^{2}$ |  $x^{4}$ | $\\frac{1}{x+1}$|$\\sqrt{1+x^{2}}$ |sin x |$e^{x}$ |\n",
        "| :-:  | :-: | :-: |  :-: | :-:  |   :-: |   :-: | \n",
        "| Valores exactos  | 2.667 |6.400 |1.099 |2.958 |1.416 |6.389 |\n",
        "| Trapecio | 4.00\t|16.00\t|1.333|\t3.326|\t0.909|\t8.389|\n",
        "| Simpson\t|2.667|\t6.667|\t1.111|\t2.964|\t1.425|\t6.421|\n",
        "\n",
        "### codigo en python"
      ]
    },
    {
      "cell_type": "code",
      "metadata": {
        "id": "T_je6b53ov_c",
        "colab_type": "code",
        "colab": {},
        "outputId": "ccb2ab73-7e05-4b4b-d0f6-d68a8aebd5ed"
      },
      "source": [
        "def Simpson1_3():\n",
        "    # x0 punto inicial del intervalo \n",
        "    # x2 punto final del intervalo \n",
        "    # f funcion a integrar\n",
        "    x0=0\n",
        "    x2=1\n",
        "    h=(x2-x0)/2\n",
        "    x1=x0+h\n",
        "    def f(x):\n",
        "        return x*x\n",
        "        \n",
        "    integral=(h/3)*(f(x0)+4*f(x1)+f(x2))\n",
        "    \n",
        "    print(\"el valor de la integral mediante el metodo de cuadratura del  Trapecio Compuesto es: {}\".format(integral)) \n",
        "\n",
        "Simpson1_3()"
      ],
      "execution_count": null,
      "outputs": [
        {
          "output_type": "stream",
          "text": [
            "el valor de la integral mediante el metodo de cuadratura del  Trapecio Compuesto es: 0.3333333333333333\n"
          ],
          "name": "stdout"
        }
      ]
    },
    {
      "cell_type": "markdown",
      "metadata": {
        "id": "61QkyCDMov_h",
        "colab_type": "text"
      },
      "source": [
        "### 2.5.  Cuadratura de Simpson $\\frac{3}{8}$\n",
        "\n",
        "Esta regla se obtiene al integra el tercer polinomio de Lagrange en $\\left[a,b\\right]$ tomando los nodos $x_{0}=a,\\,x_{1}=a+h,\\,x_{2}=a+2h,\\,y\\,x_{3}=b$ donde $h=\\frac{b-a}{3}$\n",
        "\n",
        "es decir\n",
        "\n",
        "$$\\int_{a}^{b}f\\left(x\\right)dx\\approx\\int_{a}^{b}P_{3}\\left(x\\right)dx=\\frac{3h}{8} \\left[f\\left(x_{0}\\right)+3f\\left(x_{1}\\right)+3f\\left(x_{2}\\right)+f\\left(x_{3}\\right)\\right]$$\n",
        "\n",
        "Es importante notar que esta regla es una suma ponderada de los valores de $f\\left(x\\right)$ en los dos puntos finales $x_{0}=a$ y $x_{3}=b$, y los dos puntos $x_{1},x_{2}$ divide el intervalo en tres partes iguales.\n",
        "\n",
        "### codigo en python"
      ]
    },
    {
      "cell_type": "code",
      "metadata": {
        "id": "O2q-9ex3ov_i",
        "colab_type": "code",
        "colab": {},
        "outputId": "ceb3c70b-f7c4-4032-9f19-18f7235d57f2"
      },
      "source": [
        "def Simpson3_8():\n",
        "    # x0 punto inicial del intervalo \n",
        "    # x3 punto final del intervalo \n",
        "    # f funcion a integrar\n",
        "    x0=0\n",
        "    x3=1\n",
        "    h=(x3-x0)/3\n",
        "    x1=x0+h\n",
        "    x2=x0+2*h\n",
        "    def f(x):\n",
        "        return x*x\n",
        "        \n",
        "    integral=(3/8)*h*(f(x0)+3*f(x1)+3*f(x2)+f(x3))\n",
        "    \n",
        "    print(\"el valor de la integral mediante el metodo de cuadratura del  Trapecio Compuesto es: {}\".format(integral)) \n",
        "\n",
        "Simpson3_8()"
      ],
      "execution_count": null,
      "outputs": [
        {
          "output_type": "stream",
          "text": [
            "el valor de la integral mediante el metodo de cuadratura del  Trapecio Compuesto es: 0.3333333333333333\n"
          ],
          "name": "stdout"
        }
      ]
    },
    {
      "cell_type": "markdown",
      "metadata": {
        "id": "JZvKnWNoov_m",
        "colab_type": "text"
      },
      "source": [
        "## 3. Cuadratura Gaussiana\n",
        "\n",
        "### Introducción.\n",
        "\n",
        "Las reglas vista en la sección anterior, también son conocidas como reglas de Newton-Cotes, se dedujeron integrando los polinomios de interpolación. El termino de error en el polinomio de interpolación de grado n contiene la $\\left(n+1\\right)-esima$ derivada.\n",
        "\n",
        "En todas las formulas de Newton-Cotes se emplean valores de la función equidistantes. Este procedimiento es adecuado cuando las reglas son combinadas para crear nuevas reglas compuestas, como las vistas con anterioridad.\n",
        "\n",
        "Sin embargo la restricción que pide a los nodo ser equidistantes, puede afectar considerablemente la exactitud de la aproximación.\n",
        "\n",
        "La cuadratura Gaussiana optimiza la forma de seleccionar los puntos a ser evaluados y no los toma en forma igualmente espaciada como se había visto en las reglas de Newton-Cotes.\n",
        "\n",
        "Se escogen los nodos $x_{1},x_{2},\\ldots,x_{n}$ en el intervalo $\\left[a,b\\right]$ y los coeficientes $c_{1},c_{2},\\ldots c_{n}$ para reducir en lo posible el error esperado que se obtiene al efectuar la aproximación\n",
        "\n",
        "$$ \\int_{a}^{b}f\\left(x\\right)dx\\approx\\sum_{i=1}^{n}c_{i}f\\left(x_{i}\\right)$$\n",
        "\n",
        "Los coeficientes (pesos) $c_{1},c_{2},\\ldots c_{n}$ son arbitrarios y los nodos (puntos de Gauss) $x_{1},x_{2},\\ldots,x_{n}$ están restringidos a pertenecer al intervalo $\\left[a,b\\right]$.\n",
        "\n",
        "Esto nos da $2n$ parámetros de donde elegir. Considerando la clase de polinomios de grado máximo $2n-1$ también contiene $2n$ parámetros, si es que los coeficientes de un polinomio se consideran parámetros.\n",
        "\n",
        "Esta clase de polinomios es la más amplia para la cual es razonable esperar que la regla devuelva un resultado exacto.\n",
        "\n",
        "Se mostrará cómo seleccionar los coeficientes y los nodos cuando $n=2$ y cuando el intervalo de integración es $\\left[-1,1\\right]$\n",
        "\n",
        "Después se explicara el caso mas general de una elección arbitraria de puntos y pesos, indicando como modificar el método cuando se integra en un intervalo arbitrario.\n",
        "\n",
        "### Cuadratura Gaussiana con n=2 puntos.\n",
        "\n",
        "Supongamos que se requiere determinar $c_{1},c_{2},x_{1},x_{2}$ de modo que la regla de integración\n",
        "\n",
        "$$\\int_{-1}^{1}f\\left(x\\right)dx\\approx c_{1}f\\left(x_{1}\\right)+c_{2}f\\left(x_{2}\\right)$$\n",
        "\n",
        "proporcione el resultado exacto siempre que $f\\left(x\\right)$ sea un polinomio de grado $2\\left(2\\right)-1=3$ o menor, es decir que sea un polinomio de la forma\n",
        "\n",
        "$$ f\\left(x\\right)=a_{0}+a_{1}x+a_{2}x^{2}+a_{3}x^{3} $$\n",
        "\n",
        "\n",
        "Dado que\n",
        "\n",
        "$$\\int f\\left(x\\right)dx=a_{0}\\int1dx+a_{1}\\int xdx+a_{2}\\int x^{2}dx+a_{3}\\int x^{3}d $$\n",
        "\n",
        "esto equivale a demostrar que la regla produce resultados exactos cuando $f\\left(x\\right)$ es $1,x,x^{2},x^{3}$\n",
        "\n",
        "Necesitamos $c_{1},c_{2},x_{1},x_{2}$ de manera tal que\n",
        "\n",
        "$$\\begin{array}{cc}\n",
        "{\\color{blue}{(a)}}\\,c_{1}*1+c_{2}*1=\\int_{-1}^{1}1dx=2\\quad & {\\color{blue}{(b)}}\\,c_{1}x_{1}+c_{2}x_{2}=\\int_{-1}^{1}xdx=0\\\\\n",
        "{\\color{blue}{(c)}}\\,c_{1}x_{1}^{2}+c_{2}x_{2}^{2}=\\int_{-1}^{1}x^{2}dx=\\frac{2}{3} & {\\color{blue}{(d)}}\\,c_{1}x_{1}^{3}+c_{2}x_{2}^{3}=\\int_{-1}^{1}x^{3}dx=0\n",
        "\\end{array}$$\n",
        "\n",
        "Las 4 incógnitas se puede determinar comenzando con (b)\n",
        "\n",
        "$$c_{2}=-\\frac{c_{1}x_{1}}{x_{2}} \\tag{6}$$\n",
        "\n",
        "Ahora substituyendo en (d) se tiene\n",
        "\n",
        "$$c_{1}x_{1}^{3}-c_{1}x_{1}x_{2}^{2}=0\\,\\Rightarrow\\,x_{1}^{2}=x_{2}^{2}$$\n",
        "\n",
        "Pero $x_{1}\\neq x_{2}$ por lo tanto se tiene que\n",
        "\n",
        "$$x_{1}=-x_{2} \\tag{7}$$\n",
        "\n",
        "Ahora substituyendo x_{1} en (6), tenemos que $c_{1}=c_{2}$ y usando (a)\n",
        "\n",
        "$$ c_{1}=c_{2}=1 \\tag{8}$$\n",
        "\n",
        "Si se substituye (7) y (8) en (c) se tiene\n",
        "\n",
        "$$x_{1}^{2}+x_{2}^{2}=\\frac{2}{3}\\,\\Rightarrow\\,x_{1}=\\frac{1}{\\sqrt{3}}$$\n",
        "\n",
        "Así tenemos que\n",
        "\n",
        "$$ c_{1}=1,\\quad c_{2}=1,\\quad x_{1}=\\frac{1}{\\sqrt{3}}\\;y\\;x_{2}=\\frac{-1}{\\sqrt{3}}$$\n",
        "\n",
        "Así que la regla para 2 puntos es\n",
        "\n",
        "$$\\int_{-1}^{1}f\\left(x\\right)dx\\approx f\\left(\\frac{1}{\\sqrt{3}}\\right)+f\\left(\\frac{-1}{\\sqrt{3}}\\right) $$ \n",
        "\n",
        "\n",
        "\n",
        "| n  puntos      | Coeficientes $C_{i}$ |  Puntos Gauss $x_{i}$ | \n",
        "| :-:  | :-: | :-: |  \n",
        "| 2  | $c_{1}=c_{2}=1$ | $x_{1}=0.578\\\\x_{2}=-0.578$ |\n",
        "| 3 | $c_{1}=0.556\\\\c_{2}=0.889\\\\c_{3}=0.556$ | $x_{1}=0.774\\\\x_{2}=0\\\\x_{3}=-0.774$ |\n",
        "\n",
        "### Cuadratura Gaussiana general.\n",
        "\n",
        "Una integral $\\int_{a}^{b}f\\left(x\\right)dx$ en un intervalo arbitrario $\\left[a,b\\right]$ se puede transformar en otra integral $\\int_{-1}^{1}f\\left(t\\right)dt$ en $\\left[-1,1\\right]$ usando el cambio de variable\n",
        "\n",
        "$$t=\\frac{2x-a-b}{b-a}\\Leftrightarrow x=\\frac{1}{2}\\left[\\left(b-a\\right)t+a+b\\right] $$\n",
        "\n",
        "Donde el diferencial de $x$ es $dx=\\frac{1}{2}\\left(b-a\\right)dt$. Esto nos permite aplicar la cuadratura Gaussiana a cualquier intervalo $\\left[a,b\\right]$, ya que\n",
        "\n",
        "$$ \\int_{a}^{b}f\\left(x\\right)dx=\\int_{-1}^{1}f\\left(\\frac{\\left(b-a\\right)t+\\left(b+a\\right)}{2}\\right)\\frac{\\left(b-a\\right)}{2}dt $$\n",
        "\n",
        "### Ejemplo\n",
        "\n",
        "Evalúe $\\int_{0}^{3}e^{-x^{2}}dx$. Usando $n=3$ puntos. Encuentre el error, empleando el valor analítico.\n",
        "\n",
        "El valor de la integral resolviendo de manera analíticamente es 0.886207.\n",
        "\n",
        "### codigo en python"
      ]
    },
    {
      "cell_type": "code",
      "metadata": {
        "id": "3rbQwOOOov_m",
        "colab_type": "code",
        "colab": {},
        "outputId": "018d4ce3-a323-4314-ac03-ff9628589307"
      },
      "source": [
        "def CuaGauss():\n",
        "    # a punto inicial del intervalo \n",
        "    # b punto final del intervalo \n",
        "    # f funcion a integrar\n",
        "    a=0\n",
        "    b=1 \n",
        "    r=np.array([0.774,0.0,-0.774])\n",
        "    c=np.array([0.556,0.889,0.556])\n",
        "    def f(x):\n",
        "        return x*x\n",
        "    \n",
        "    cuadratura=0.0\n",
        "    jacobiano=(b-a)/2\n",
        "    for i in range(len(r)):\n",
        "        changeVar=0.0;changeVar=(( (b-a)*r[i])+b+a)/2\n",
        "        cuadratura+=c[i]*f(changeVar)\n",
        "        \n",
        "    integral=jacobiano*cuadratura\n",
        "    \n",
        "    print(\"el resultad de la integral con una cuadratura de 3 puntos es :{}\".format(integral))\n",
        "    \n",
        "CuaGauss()"
      ],
      "execution_count": null,
      "outputs": [
        {
          "output_type": "stream",
          "text": [
            "el resultad de la integral con una cuadratura de 3 puntos es :0.33339656400000006\n"
          ],
          "name": "stdout"
        }
      ]
    },
    {
      "cell_type": "code",
      "metadata": {
        "id": "5SKq5W6Zo-Kb",
        "colab_type": "code",
        "colab": {
          "base_uri": "https://localhost:8080/",
          "height": 331,
          "referenced_widgets": [
            "36fc0547cdde4d2e8cc27a863a8e3cc4",
            "199f2c9109104c8c895598bf8605c5ec",
            "81ee16aa87fd4675b8274444d81adc8a",
            "6b460f6a376c46828b22b2d0185fb156",
            "37cbff1fa6d04143b1f269ac2965391d",
            "c05a9db1a43c4de1b65aa3a462149704",
            "5a1f97251124492d8c63a748bd22eec1"
          ]
        },
        "outputId": "644f9c5a-4b99-4278-a5e7-378cf60068ec"
      },
      "source": [
        "def grafica(n):\n",
        "  f = lambda x : 1/(1 + x)\n",
        "  a = 0; b = 5; N = n\n",
        "\n",
        "  # x and y values for the trapezoid rule\n",
        "  x = np.linspace(a,b,N+1)\n",
        "  y = f(x)\n",
        "\n",
        "  # X and Y values for plotting y=f(x)\n",
        "  X = np.linspace(a,b,100)\n",
        "  Y = f(X)\n",
        "  plt.plot(X,Y)\n",
        "\n",
        "  for i in range(N):\n",
        "      xs = [x[i],x[i],x[i+1],x[i+1]]\n",
        "      ys = [0,f(x[i]),f(x[i+1]),0]\n",
        "      plt.fill(xs,ys,'b',edgecolor='b',alpha=0.2)\n",
        "\n",
        "  plt.title('Trapezoid Rule, N = {}'.format(N))\n",
        "  plt.show()\n",
        "\n",
        "interact(grafica,n=widgets.IntSlider(min=2,max=30,step=1,value=2))"
      ],
      "execution_count": 16,
      "outputs": [
        {
          "output_type": "display_data",
          "data": {
            "application/vnd.jupyter.widget-view+json": {
              "model_id": "36fc0547cdde4d2e8cc27a863a8e3cc4",
              "version_minor": 0,
              "version_major": 2
            },
            "text/plain": [
              "interactive(children=(IntSlider(value=2, description='n', max=30, min=2), Output()), _dom_classes=('widget-int…"
            ]
          },
          "metadata": {
            "tags": []
          }
        },
        {
          "output_type": "execute_result",
          "data": {
            "text/plain": [
              "<function __main__.grafica>"
            ]
          },
          "metadata": {
            "tags": []
          },
          "execution_count": 16
        }
      ]
    },
    {
      "cell_type": "markdown",
      "metadata": {
        "id": "eUtRhfEMov_r",
        "colab_type": "text"
      },
      "source": [
        "## Referencias.\n",
        "\n",
        "1. Yuri N. Skiba: Introducción a los métodos numéricos, Dirección General de Publicaciones U.N.A.M.\n",
        "\n",
        "2. Ward Cheney, David Kincaid: Métodos Numéricos y Computación, Cenage Learning.\n",
        "\n",
        "3. Richard L. Burden, J. Douglas Faires:\\newblock Análisis Numérico, Math Learning.\n",
        "\n",
        "4. Riswan Butt: Numerical Analysys Using Matlab, Jones and Bartlett.\n",
        "\n",
        "5. Quarteroni, A, Sacco R.: Numerical mathematics, Springer. 2007."
      ]
    },
    {
      "cell_type": "code",
      "metadata": {
        "id": "0y2LuXx2ov_t",
        "colab_type": "code",
        "colab": {}
      },
      "source": [
        ""
      ],
      "execution_count": null,
      "outputs": []
    }
  ]
}