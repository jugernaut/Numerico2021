{
  "nbformat": 4,
  "nbformat_minor": 0,
  "metadata": {
    "kernelspec": {
      "display_name": "Python 3.7 (tensorflow)",
      "language": "python",
      "name": "tensorflow"
    },
    "language_info": {
      "codemirror_mode": {
        "name": "ipython",
        "version": 3
      },
      "file_extension": ".py",
      "mimetype": "text/x-python",
      "name": "python",
      "nbconvert_exporter": "python",
      "pygments_lexer": "ipython3",
      "version": "3.7.7"
    },
    "colab": {
      "name": "Monte_Carlo.ipynb",
      "provenance": []
    }
  },
  "cells": [
    {
      "cell_type": "markdown",
      "metadata": {
        "id": "Gde4FA2b-KeX",
        "colab_type": "text"
      },
      "source": [
        "# Monte Carlo\n",
        "Profesor: M.en.C. Miguel Ángel Pérez León.\n",
        "\n",
        "Ayudante: Jesús Iván Coss Calderón.\n",
        "\n",
        "Materia: Análisis Numérico.\n"
      ]
    },
    {
      "cell_type": "markdown",
      "metadata": {
        "id": "AqJZuAbB-KeZ",
        "colab_type": "text"
      },
      "source": [
        "## 1.Introducción.\n",
        "\n",
        "Son un conjunto de métodos y técnicas para analizar fenómenos por medio de algoritmos computacionales que dependen fundamentalmente de números aleatorios.\n",
        "\n",
        "Estos métodos son relativamente nuevos y fueron empleados para el desarrollo de la bomba atómica, en la segunda guerra mundial. Particularmente en este tema fueron empleados para la simulación de problemas probabilísticos de hidrodinámica concernientes a la difusión de neutrones en el material de fisión.\n",
        "\n",
        "Los pioneros en el desarrollo de estos métodos son John von Neumann y Stanislaw Ulam. Ambos trabajando para el proyecto Manhattan emplearon una versión temprana de los métodos de Monte Carlo para realizar simulaciones concernientes al choque de partículas que se lleva a cabo al momento de una reacción nuclear.\n",
        "\n",
        "Los métodos de Monte Carlo proporcionan aproximaciones a una gran variedad de problemas matemáticos en los cuales llegar a una solución analítica es muy costoso. Son aplicables a cualquier tipo de problema, ya sea estocástico o determinista.\n",
        "\n",
        "A diferencia de los métodos numéricos que se basan en evaluaciones de N-puntos en un espacio M-dimensional para producir una solución aproximada, los métodos de Monte Carlo tiene un error absoluto con respecto a la aproximación, que decrece conforme N aumenta. Para ser mas exactos decrece a razón de \n",
        "\n",
        "$$\\frac{1}{\\sqrt{N}}$$\n",
        "\n",
        "En teoría todo método de Monte Carlo converge a la solución exacta, en la práctica se consigue una precisión modesta.\n"
      ]
    },
    {
      "cell_type": "markdown",
      "metadata": {
        "id": "BHFG33_0-Keb",
        "colab_type": "text"
      },
      "source": [
        "## 2. Generación de números aleatorios.\n",
        "\n",
        "Es complicado definir el termino aleatorio, pero de manera informal podemos expresarlo así.\n",
        "\n",
        "La sucesión $S=x_{1},x_{2},\\ldots\\,\\in\\left(0,1\\right)$ se puede decir aleatoria si:\n",
        "\n",
        "1)Los números parecen estar distribuidos al azar en todo el intervalo $\\left(0,1\\right)$.\n",
        "\n",
        "2)Parece no haber un patrón en la sucesión S.\n",
        "\n",
        "\n",
        "Una definición precisa de aleatoriedad es muy difícil de establecer y en algunos artículos, se relaciona directamente la aleatoriedad con la complejidad computacional $(Chaitlin [1975])$.\n",
        "\n",
        "Así que lo mejor, a manera de introducción es aceptar la idea intuitiva de aleatoriedad.\n",
        "\n",
        "\n",
        "**Algoritmos y generadores de aleatorios**.\n",
        "\n",
        "La mayoría de los lenguajes de programación cuentan con generadores de números aleatorios dentro de sus bibliotecas. Incluso algunos generadores aceptan como parámetros, la semilla (valor inicial para genera números aleatorios) o el tipo de distribución.\n",
        "\n",
        "Para los algoritmos empleados dentro de los métodos de Monte Carlo es fundamental emplear una rutina para generar una sucesión números aleatorios uniformemente distribuida en algún rango determinado.\n",
        "\n",
        "Lo números generados por una computadora no pueden ser verdaderamente aleatorios, por que la forma en la que se producen es totalmente determinista. Sin embargo las sucesiones generadas por rutinas de computadora, pasan ciertas pruebas de aleatoriedad. Es por esto que algunos autores prefieren darle el adjetivo de pseudoaleatorias a estas sucesiones. \n",
        "\n",
        "A continuación se muestra el pseudocódigo de una pequeña rutina que se emplea para generar números aleatorios.\n"
      ]
    },
    {
      "cell_type": "markdown",
      "metadata": {
        "id": "HTMe21Z9-Ked",
        "colab_type": "text"
      },
      "source": [
        "![AlgoritmoMonteCalor](https://docs.google.com/uc?export=download&id=1RxAqEGlfyWozwJkTotC9hP9_Oi1ehqeM)\n",
        "\n",
        "> Bloc con sangría\n",
        "\n"
      ]
    },
    {
      "cell_type": "markdown",
      "metadata": {
        "id": "w0zl8srO-Kef",
        "colab_type": "text"
      },
      "source": [
        "## 3. Aproximación de $\\pi$.\n",
        "\n",
        "El ejemplo más conocido para mostrar como funcionan los métodos de Monte Carlo, es el de la aproximación del valor de $\\pi$.\n",
        "\n",
        "Existen diferentes versiones de como fue ideada esta aproximación pero normalmente se encuentra en la literatura como aproximación de $\\pi$ mediante lanzamiento de dardos o aproximación de $\\pi$ empleando gotas de lluvia.\n",
        "\n",
        "La idea básica de esta aproximación es generar pares de números aleatorios dentro de un dominio y calcular la probabilidad de que estos números aleatorios pertenezcan a un subconjunto del dominio, es decir.\n",
        "\n",
        "Consideremos la circunferencia unitaria, circunscrita dentro de un cuadrado de lado 2.\n",
        "\n",
        "Ahora supongamos que alguien comienza a lanzar dardos que caen dentro del cuadrado y ademas están distribuidos de manera uniforme.\n",
        "\n",
        "El marco teórico de los métodos de Monte Carlo indica que podemos aproximar el valor de $\\pi$ a partir de calcular la probabilidad de que los dardos lanzados caigan dentro de la circunferencia unitaria circunscrita dentro del cuadrado de lado 2. \n",
        "\n",
        "De manera tal que $P_{dardos}$ sera la probabilidad de que los dardos caigan dentro de la circunferencia y para calcular esta probabilidad basta con realizar el siguiente calculo. \n",
        "\n",
        "$$P_{dardos}=\\frac{Area\\,Circunferencia}{Area\\,Cauadrado}$$\n",
        "\n",
        "Recordando un poco de cálculo.\n",
        "\n",
        "$$\\frac{Area\\,Circunferencia}{Area\\,Cauadrado}=\\frac{\\int_{-1}^{1}dx\\int_{-\\sqrt{1-x^{2}}}^{\\sqrt{1-x^{2}}}dy}{\\int_{-1}^{1}dx\\int_{-1}^{1}dy}=\\frac{2\\int_{-1}^{1}\\sqrt{1-x^{2}}dx}{2*2}$$\n",
        "\n",
        "De lo que podemos concluir que\n",
        "\n",
        "$$P_{dardos}=\\frac{Area\\,Circunferencia}{Area\\,Cauadrado}=\\frac{\\pi}{4}$$\n",
        "\n",
        "Es decir que\n",
        "\n",
        "$$ \\pi=4*P_{dardos}$$\n",
        "\n",
        "Finalmente solo resta dividir entre el numero de lanzamientos que se hayan realizado para obtener una aproximación del valor de $\\pi$.\n",
        "\n",
        "$$\\pi\\approx\\frac{4*P_{dardos}}{N}$$\n",
        "\n",
        "\n",
        "Donde N es la cantidad de lanzamientos de dardos que se hayan realizado y con lo mencionado previamente, a mayor numero de lanzamientos (experimentos, muestras, etc.) la aproximación encontrada sera mas cercana al valor real.\n",
        "\n",
        "\n"
      ]
    },
    {
      "cell_type": "code",
      "metadata": {
        "id": "1WngXwxmDCeY",
        "colab_type": "code",
        "colab": {}
      },
      "source": [
        ""
      ],
      "execution_count": null,
      "outputs": []
    },
    {
      "cell_type": "markdown",
      "metadata": {
        "id": "6R6YAtobDK9G",
        "colab_type": "text"
      },
      "source": [
        "![AlgoritmoMonteCalor](https://docs.google.com/uc?export=download&id=13ZVCwAKmv6v8MPsWkVe8zh7DA-CRV53J)"
      ]
    },
    {
      "cell_type": "markdown",
      "metadata": {
        "id": "FJyGWvjyDJyu",
        "colab_type": "text"
      },
      "source": [
        ""
      ]
    },
    {
      "cell_type": "markdown",
      "metadata": {
        "id": "tsH1pSaq-Kes",
        "colab_type": "text"
      },
      "source": [
        "## 4. Teorema fundamental de Monte Carlo.\n",
        "\n",
        "Consideremos la variable aleatoria $G_{N}$, promedio de una función $g\\left(X_{i}\\right)$ es decir \n",
        "\n",
        "$$G_{N}=\\frac{1}{N}\\sum_{i=1}^{N}g\\left(X_{i}\\right) \\dots (1)$$\n",
        "\n",
        "Cuya esperanza y varianza son respectivamente\n",
        "\n",
        "$$E\\left[G_{N}\\right]=E\\left[g\\left(X\\right)\\right],\\quad var\\left(G_{N}\\right)=\\frac{var\\left(g\\left(X\\right)\\right)}{N} \\dots (2)$$\n",
        "\n",
        "Al promedio $G_{N}$ se le llama estimador de $E\\left[g\\left(X\\right)\\right]$, pues su esperanza vale\n",
        "\n",
        "$$E\\left[G_{N}\\right]=E\\left[g\\left(X\\right)\\right]=\\int_{-\\infty}^{\\infty}g\\left(x\\right)f\\left(x\\right)dx \\dots (3)$$\n",
        "\n",
        "Donde $X_{i}\\sim f$. Es decir que podemos evaluar la integral anterior generando un conjunto de N variables aleatorias $X_{i}$ según $f\\left(x\\right)$ y evaluando $g\\left(x\\right)$ para cada una de ellas. \n",
        "\n",
        "El estimador (1) (la media aritmética de los g\\left(x\\right) generados) nos da el valor de la integral (3). \n",
        "\n",
        "Ademas podemos ver que la varianza del estimador disminuye al crecer N. De hecho, aplicando la desigualdad de Chebyshev a la variable aleatoria $G_{N}$ con $\\sigma^{2}=var\\left(G_{N}\\right),\\,x^{2}=\\frac{\\sigma^{2}}{\\delta}\\,y\\,\\delta>0$,\n",
        "\n",
        "$$P\\left(\\left|G_{N}-E\\left[G_{N}\\right]\\right|\\geq\\left[\\frac{var\\left(G_{N}\\right)}{\\delta}\\right]^{\\frac{1}{2}}\\right)\\leq\\delta \\dots (4)$$\n",
        "\n",
        "Lo que significa que generando una muestra suficientemente grande $\\left(N\\gg\\frac{1}{\\delta}\\right)$ la probabilidad de que el estimador se aleje del valor esperado $g\\left(X\\right)$ es tan pequeña como se desee.\n"
      ]
    },
    {
      "cell_type": "markdown",
      "metadata": {
        "id": "dCWjleFG-Keu",
        "colab_type": "text"
      },
      "source": [
        "## 5. Integración Numérica.  \n",
        "\n",
        "**Cálculo de áreas y volúmenes**\n",
        "\n",
        "Una de las principales aplicaciones de los métodos de Monte Carlo es la aproximación de una integral definida. Si seleccionamos de los primeros $n$ elementos $x_{1},x_{2},\\ldots,x_{n}$ de una sucesión aleatoria en el intervalo $\\left(0,1\\right)$, entonces,\n",
        "\n",
        "$$\\int_{0}^{1}f\\left(x\\right)dx\\approx\\frac{1}{n}\\sum_{i=1}^{n}f\\left(x_{i}\\right)$$\n",
        "\n",
        "Es decir, que la integral definida se aproxima mediante el promedio de los $n$ números $f\\left(x_{1}\\right),f\\left(x_{2}\\right),\\ldots,f\\left(x_{n}\\right)$. Y como ya se menciono previamente, al hacerlo de esta forma, el error de aproximación es de orden $\\frac{1}{\\sqrt{n}}$, lo cual podría parecer pobre y sin posibilidad de competir con los métodos numéricos tradicionales.\n",
        "\n",
        "La ventaja de la metodología de Monte Carlo radica en su simplicidad y el que su base es tomar una muestra representativa del comportamiento de un fenómeno $\\left(f\\left(x\\right)\\right)$ para poder determinar propiedades del mismo.\n",
        "\n",
        "\n",
        "Pero al evaluar integrales múltiples, este método cobra gran importancia, por ejemplo\n",
        "\n",
        "$$\\int_{0}^{1}\\int_{0}^{1}\\int_{0}^{1}f\\left(x,y,z\\right)dxdydz\\approx\\frac{1}{n}\\sum_{i=1}^{n}f\\left(x_{i},y_{i},z_{i}\\right)$$\n",
        "\n",
        "Donde $\\left(x_{i},y_{i},z_{i}\\right)$ es una sucesión aleatoria de n puntos en el cubo unitario $0\\leq x\\leq1,\\,0\\leq y\\leq1\\,y\\,0\\leq z\\leq1$ \n",
        "\n",
        "Si el intervalo (en una integral unidimensional) no es de longitud 1, pero por ejemplo es el caso general $\\left(a,b\\right)$, entonces el promedio de $f$ en $n$ puntos aleatorios en $\\left(a,b\\right)$ no es simplemente una aproximación a la integral, en realidad es\n",
        "\n",
        "$$\\frac{1}{b-a}\\int_{a}^{b}f\\left(x\\right)dx$$\n",
        "\n",
        "Que concuerda con la intención de que la función $f\\left(x\\right)=1$ tiene un promedio de 1.\n",
        "\n",
        "Y sucede lo mismo al evaluar integrales múltiples, es decir que el promedio de f se obtiene integrando y dividiendo entre el área. el volumen o una medida de esa región.\n",
        "\n",
        "De manera general podemos enunciar el método de Monte Carlo para aproximar integrales de la siguiente forma\n",
        "\n",
        "$$\\int_{A}f\\approx\\left(medida\\,de\\,A\\right)\\times\\left(promedio\\,de\\,f\\,en\\,n\\,puntos\\,aleatorios\\,en\\,A\\right)$$\n",
        "\n",
        "En este caso estamos usando el hecho de que el promedio de una función en un conjunto es igual a la integral de la función en el conjunto, dividido entre la media del conjunto.\n",
        "\n",
        "$$\\int_{0}^{5}f\\left(x\\right)dx\\approx\\frac{5}{n}\\sum_{i=1}^{n}f\\left(x_{i}\\times\\left(5-0\\right)+0\\right)$$\n",
        "\n",
        "$$\\int_{2}^{5}\\int_{1}^{6}f\\left(x,y\\right)dxdy\\approx\\frac{15}{n}\\sum_{i=1}^{n}f\\left(x_{i}\\times\\left(5-2\\right)+2,y_{i}\\times\\left(6-1\\right)+1\\right)$$\n"
      ]
    },
    {
      "cell_type": "markdown",
      "metadata": {
        "id": "s9m8frPu-Kev",
        "colab_type": "text"
      },
      "source": [
        "## 6. Resumen.\n",
        "\n",
        "En general la forma en la que trabajan los métodos de Monte Carlo es sencilla de entender y fácil de aplicar.\n",
        "\n",
        "La única consideración que piden estos métodos es que los puntos sean aleatorios y distribuidos de manera uniforme.\n",
        "\n",
        "En general muchos de los modelos matemáticos contienen integrales simples o múltiples, así como sistemas de ecuaciones\n",
        "o aproximaciones a raíces, de tal manera que los métodos de Monte Carlo son una alterativa bastante útil para encontrar una aproximación a la solución de estos modelos."
      ]
    },
    {
      "cell_type": "markdown",
      "metadata": {
        "id": "5E2qCnO8-Kew",
        "colab_type": "text"
      },
      "source": [
        "## 7. Simulación.\n",
        "\n",
        "Consideremos un fenómeno físico en el cuál un elemento aleatorio se encuentra presente y la idea de una simulación es intentar dar una imitación de este fenómeno mediante el uso de una computadora.\n",
        "\n",
        "Se pueden sacar muchas conclusiones estadísticas si este fenómeno se repite muchas veces\n",
        "\n",
        "Las aplicaciones que se le pueden dar a las simulaciones, incluyen la simulación de servidores, clientes, filas de espera que pueden darse en empresas tales como bancos o un sin fin de situaciones.\n",
        "\n",
        "En esta ultima sección veremos una simulación muy simple pero muy ilustrativa de como se puede modelar el lanzamiento de una moneda justa y una moneda cargada.\n",
        "\n"
      ]
    },
    {
      "cell_type": "markdown",
      "metadata": {
        "id": "Mi2famUv-Kex",
        "colab_type": "text"
      },
      "source": [
        "## 8. Referencias.\n",
        "\n",
        "Yuri N. Skiba: Introducción a los métodos numéricos, Dirección General de Publicaciones U.N.A.M.\n",
        "\n",
        "Ward Cheney, David Kincaid: Métodos Numéricos y Computación, Cenage Learning.\n",
        "\n",
        "Richard L. Burden, J. Douglas Faires: Análisis Numérico, Math Learning.\n",
        "\n",
        "Riswan Butt: Numerical Analysys Using Matlab, Jones and Bartlett.\n",
        "\n",
        "Quarteroni, A, Sacco R.: Numerical mathematics, Springer. 2007."
      ]
    },
    {
      "cell_type": "code",
      "metadata": {
        "id": "PUXhsQZl-Kez",
        "colab_type": "code",
        "colab": {}
      },
      "source": [
        ""
      ],
      "execution_count": null,
      "outputs": []
    }
  ]
}