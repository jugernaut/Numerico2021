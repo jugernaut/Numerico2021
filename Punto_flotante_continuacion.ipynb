{
  "nbformat": 4,
  "nbformat_minor": 0,
  "metadata": {
    "kernelspec": {
      "display_name": "Python 3.7 (tensorflow)",
      "language": "python",
      "name": "tensorflow"
    },
    "language_info": {
      "codemirror_mode": {
        "name": "ipython",
        "version": 3
      },
      "file_extension": ".py",
      "mimetype": "text/x-python",
      "name": "python",
      "nbconvert_exporter": "python",
      "pygments_lexer": "ipython3",
      "version": "3.7.7"
    },
    "colab": {
      "name": "Punto_flotante_continuacion.ipynb",
      "provenance": [],
      "include_colab_link": true
    }
  },
  "cells": [
    {
      "cell_type": "markdown",
      "metadata": {
        "id": "view-in-github",
        "colab_type": "text"
      },
      "source": [
        "<a href=\"https://colab.research.google.com/github/jugernaut/Numerico2021/blob/master/Punto_flotante_continuacion.ipynb\" target=\"_parent\"><img src=\"https://colab.research.google.com/assets/colab-badge.svg\" alt=\"Open In Colab\"/></a>"
      ]
    },
    {
      "cell_type": "markdown",
      "metadata": {
        "id": "zrtJZrIzJL14",
        "colab_type": "text"
      },
      "source": [
        "<font color=\"Teal\" face=\"Comic Sans MS,arial\">\n",
        "  <h1 align=\"center\"><i>Punto Flotante Continuación.</i></h1>\n",
        "  </font>\n",
        "  <font color=\"Black\" face=\"Comic Sans MS,arial\">\n",
        "  <h5 align=\"center\"><i>Profesor: M.en.C. Miguel Angel Pérez León.</i></h5>\n",
        "    <h5 align=\"center\"><i>Ayudante: Jesús Iván Coss Calderón.</i></h5>\n",
        "  <h5 align=\"center\"><i>Materia: Análisis Numérico.</i></h5>\n",
        "  </font>"
      ]
    },
    {
      "cell_type": "markdown",
      "metadata": {
        "id": "iZfz-f6hJL15",
        "colab_type": "text"
      },
      "source": [
        "## 1.Introducción.\n",
        "\n",
        "### Estructura de punto flotante.\n",
        "\n",
        "* En todo dispositivo de calculo, ya sea una computadora o una calculadora, la cantidad de dígitos (bits) para representar la mantisa es finito, digamos p.\n",
        "\n",
        "* Y el exponente puede variar solo dentro de un rango finito $L =< e =< U$, (con $L < 0$ y $U > 0$).\n",
        "\n",
        "* Esto implica que solo un conjunto finito de números reales puede ser representado, los cuales tiene la forma.\n",
        "\n",
        " <font color=\"Teal\" face=\"Comic Sans MS,arial\">\n",
        "  <h3 align=\"Left\"><i>Formalización.</i></h3>\n",
        "  </font>\n",
        "\n",
        "$$(-1)^{s}\\,0.d_{1}d_{2}.....d_{p}\\times\\beta^{e}$$\n",
        "\n",
        "Con $d_{1}\\neq0$ ya que son valores normalizados.\n"
      ]
    },
    {
      "cell_type": "markdown",
      "metadata": {
        "id": "366tqJBiJL16",
        "colab_type": "text"
      },
      "source": [
        "## 2. Formalización\n",
        "\n",
        "### Formalización Matemática.\n",
        "\n",
        "Tales números se conocen como números de punto flotante (o números de máquina) con p dígitos (o de precisión p) en la base $\\beta$ y en el rango $[L, U]$. Denotaremos dicho conjunto como:\n",
        "\n",
        "\n",
        " <font color=\"Teal\" face=\"Comic Sans MS,arial\">\n",
        "  <h3 align=\"Left\"><i>Números de punto flotante (ó números de máquina).</i></h3>\n",
        "  </font>\n",
        "  \n",
        "$$\\mathcal{F}(\\beta,\\,p,\\,L,\\,U)$$\n",
        "\n",
        "De tal manera que un sistema de punto flotante es un conjunto finito y discreto.\n",
        "\n",
        "### Cardinalidad.\n",
        "\n",
        "La cardinalidad de dicho conjunto $\\mathcal{F}$ esta dada por:\n",
        "\n",
        "<font color=\"Teal\" face=\"Comic Sans MS,arial\">\n",
        "  <h3 align=\"Left\"><i>Cardinalidad de $\\mathcal{F}$.</i></h3>\n",
        "  </font>\n",
        "  \n",
        "$$\\#\\mathcal{F}=2(\\beta-1)\\beta^{p-1}(U-L+1)$$\n",
        "\n",
        "Y esto se debe a que:\n",
        "\n",
        "* Existen 2 posibilidades para el signo.\n",
        "\n",
        "\n",
        "* $\\beta$-1 posibles elecciones para el primer dígito de la mantisa.\n",
        "\n",
        "\n",
        "* $\\beta$ elecciones para los dígitos restantes de la mantisa (p-1 dígitos).\n",
        "\n",
        "\n",
        "* Y un total de $U-L+1$ posibles valores para el exponente.\n",
        "\n",
        "\n",
        "### Marco Cotas (inferior y superior).\n",
        "\n",
        "Por otra parte es claro que si $\\exists\\,x|x\\in\\mathcal{F}$ entonces también $-x\\in\\mathcal{F}$.\n",
        "\n",
        "Más aun existen, tanto cota inferior, como cota superior para el sistema.\n",
        "\n",
        "Tales cotas están dadas por.\n",
        "\n",
        "\n",
        "<font color=\"Teal\" face=\"Comic Sans MS,arial\">\n",
        "  <h3 align=\"Left\"><i>Cotas de $\\mathcal{F}$.</i></h3>\n",
        "  </font>\n",
        "\n",
        "$$x_{min}=\\beta^{L-1}\\leq\\left|x\\right|\\leq\\beta^{U}(1-\\beta^{-p})=x_{max}$$\n",
        "\n",
        "\n",
        "* $\\color{blue}{x_{min}}$ es el valor de menor magnitud (cota inferior) que se puede representar en $\\mathcal{F}$.\n",
        "\n",
        "\n",
        "* $\\color{blue}{x_{max}}$ es el valor de mayor magnitud (cota superior) que se puede representar en $\\mathcal{F}$.\n",
        "\n",
        "\n",
        "### Regiones excluidas de $\\mathcal{F}$.\n",
        "\n",
        "De tal manera que una vez que se tiene un sistema de punto flotante en este hay 5 regiones excluidas. \n",
        "\n",
        "\n",
        "* Los valores negativos, menores que $-x_{max}$, región denominada desbordamiento (overflow) negativo.\n",
        "\n",
        "\n",
        "* Los valores negativos, menores que $-x_{min}$ , región denominada desbordamiento a cero (underflow) negativo.\n",
        "\n",
        "\n",
        "* El cero.\n",
        "\n",
        "\n",
        "* Los valores positivos, menores que $x_{min}$ , región denominada desbordamiento a cero (underflow) positivo.\n",
        "\n",
        "\n",
        "* Los valores positivos, menores que $x_{max}$, región denominada desbordamiento (overflow) positivo.\n",
        "\n",
        "\n",
        "![underflow](https://docs.google.com/uc?export=download&id=1ui-pIkU0_pg1aK1aFz1tPUcgSieOgMRE)\n",
        "\n",
        "\n",
        "### Consecuencias de la notación normalizada. \n",
        "\n",
        "Debido a la notación normalizada, el cero no puede ser representado como un número de punto flotante y por lo tanto esta excluido del conjunto. El cero es un elemento muy importante en cualquier cálculo.\n",
        "\n",
        "Además debido a lo finito del sistema existen valores reales que no pueden ser representados.\n",
        "\n",
        "Así que es necesario asignar algunas de las representaciones existentes, tanto al cero, como a:\n",
        "\n",
        "\n",
        "* Valores que no pueden ser representados de manera exacta $(0.1_{10}=0.000110011..._{2})$ por el sistema.\n",
        "\n",
        "\n",
        "* Valores tanto en el underflow positivo y negativo.\n",
        "\n",
        "\n",
        "* Valores tanto en el overflow positivo y negativo.\n",
        "\n"
      ]
    },
    {
      "cell_type": "markdown",
      "metadata": {
        "id": "TrGdlCGKJL17",
        "colab_type": "text"
      },
      "source": [
        "## 3. Epsilon de la máquina\n",
        "\n",
        "Es importante notar que en un sistema de punto flotante, los números no se encuentran distribuidos uniformemente sobre la rectal real, si no que están más próximos cerca del origen y más separados a medida que nos alejamos de el.\n",
        "\n",
        "De manera más precisa, en un intervalo fijo de la forma $[\\beta^{e},\\beta^{e+1}]$ los números de máquina presentes están igualmente espaciados con una separación igual a $\\beta^{e+1-p}$.\n",
        "\n",
        "Conforme e se incrementa, el espaciamiento entre los números de máquina también crece. Una medida de este espaciamiento esta dado por el llamado **épsilon de la máquina**.\n",
        "\n",
        "<font color=\"Teal\" face=\"Comic Sans MS,arial\">\n",
        "  <h3 align=\"Left\"><i>Definición.</i></h3>\n",
        "  </font>\n",
        "\n",
        "Epsilon de la máquina:\n",
        "\n",
        "$$ \\epsilon_{M}=\\beta^{1-p}$$\n",
        "\n",
        "Este valor representa la **distancia entre 1 y el número de máquina flotante siguiente más próximo.**\n",
        "\n",
        "Esto es, $\\epsilon_{M}$ es el número de máquina más pequeño para el cual $1+\\epsilon_{M}>1.$\n"
      ]
    },
    {
      "cell_type": "markdown",
      "metadata": {
        "id": "7SNoEw4SJL18",
        "colab_type": "text"
      },
      "source": [
        "## 4.  Ejercicios.\n",
        "\n",
        "<font color=\"Teal\" face=\"Comic Sans MS,arial\">\n",
        "  <h3 align=\"Left\"><i>Definición.</i></h3>\n",
        "  </font>\n",
        "  \n",
        "* Liste todos los números de máquina que se pueden expresar en el sistema de punto flotante $\\mathcal{F}(2,3,-1,1)$.\n",
        "\n",
        "\n",
        "* Liste todos los números de máquina que se pueden expresar en el sistema de punto flotante $\\mathcal{F}(2,3,-1,1)$, pero ahora considere que los valores a representar deben estar normalizados.\n",
        "\n",
        "\n",
        "## Respuestas.\n",
        "\n",
        "![respuestas](https://docs.google.com/uc?export=download&id=1of2PAJt0PvVH_UO7hJPytk1gm9GoA-Og)"
      ]
    },
    {
      "cell_type": "markdown",
      "metadata": {
        "id": "usIJTeHdJL19",
        "colab_type": "text"
      },
      "source": [
        "## Referencias.\n",
        "\n",
        "1. Riswan Butt: Numerical Analysys Using Matlab, Jones and Bartlett.\n",
        "\n",
        "2. Ward Cheney, David Kincaid: Métodos Numéricos y Computación, Cenage Learning."
      ]
    },
    {
      "cell_type": "code",
      "metadata": {
        "id": "iFYmr2aZJL1-",
        "colab_type": "code",
        "colab": {}
      },
      "source": [
        ""
      ],
      "execution_count": null,
      "outputs": []
    }
  ]
}