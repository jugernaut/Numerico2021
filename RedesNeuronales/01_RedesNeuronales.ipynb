{
  "nbformat": 4,
  "nbformat_minor": 0,
  "metadata": {
    "colab": {
      "name": "01_RedesNeuronales.ipynb",
      "provenance": [],
      "toc_visible": true,
      "authorship_tag": "ABX9TyO6gdWXEaz0tpBM43mvsKgv",
      "include_colab_link": true
    },
    "kernelspec": {
      "name": "python3",
      "display_name": "Python 3"
    },
    "widgets": {
      "application/vnd.jupyter.widget-state+json": {
        "c59eaea409204aa5a82b792c4619d82c": {
          "model_module": "@jupyter-widgets/controls",
          "model_name": "VBoxModel",
          "state": {
            "_view_name": "VBoxView",
            "_dom_classes": [
              "widget-interact"
            ],
            "_model_name": "VBoxModel",
            "_view_module": "@jupyter-widgets/controls",
            "_model_module_version": "1.5.0",
            "_view_count": null,
            "_view_module_version": "1.5.0",
            "box_style": "",
            "layout": "IPY_MODEL_5872b2655dda4a24b76d39c78d67f80c",
            "_model_module": "@jupyter-widgets/controls",
            "children": [
              "IPY_MODEL_3f30ab37cc8344fa842ba1b817a0652e",
              "IPY_MODEL_c775c43dabff4e28b2b6f783be3097d3",
              "IPY_MODEL_74bd5369751c4578bda398d3e22a0d98",
              "IPY_MODEL_1b534294a7a74ebf899d2376d0705a45"
            ]
          }
        },
        "5872b2655dda4a24b76d39c78d67f80c": {
          "model_module": "@jupyter-widgets/base",
          "model_name": "LayoutModel",
          "state": {
            "_view_name": "LayoutView",
            "grid_template_rows": null,
            "right": null,
            "justify_content": null,
            "_view_module": "@jupyter-widgets/base",
            "overflow": null,
            "_model_module_version": "1.2.0",
            "_view_count": null,
            "flex_flow": null,
            "width": null,
            "min_width": null,
            "border": null,
            "align_items": null,
            "bottom": null,
            "_model_module": "@jupyter-widgets/base",
            "top": null,
            "grid_column": null,
            "overflow_y": null,
            "overflow_x": null,
            "grid_auto_flow": null,
            "grid_area": null,
            "grid_template_columns": null,
            "flex": null,
            "_model_name": "LayoutModel",
            "justify_items": null,
            "grid_row": null,
            "max_height": null,
            "align_content": null,
            "visibility": null,
            "align_self": null,
            "height": null,
            "min_height": null,
            "padding": null,
            "grid_auto_rows": null,
            "grid_gap": null,
            "max_width": null,
            "order": null,
            "_view_module_version": "1.2.0",
            "grid_template_areas": null,
            "object_position": null,
            "object_fit": null,
            "grid_auto_columns": null,
            "margin": null,
            "display": null,
            "left": null
          }
        },
        "3f30ab37cc8344fa842ba1b817a0652e": {
          "model_module": "@jupyter-widgets/controls",
          "model_name": "IntSliderModel",
          "state": {
            "_view_name": "IntSliderView",
            "style": "IPY_MODEL_51509f1c01e3498dbd54bb9c314c18a8",
            "_dom_classes": [],
            "description": "x1",
            "step": 1,
            "_model_name": "IntSliderModel",
            "orientation": "horizontal",
            "max": 3,
            "_view_module": "@jupyter-widgets/controls",
            "_model_module_version": "1.5.0",
            "value": 1,
            "_view_count": null,
            "disabled": false,
            "_view_module_version": "1.5.0",
            "min": -1,
            "continuous_update": true,
            "readout_format": "d",
            "description_tooltip": null,
            "readout": true,
            "_model_module": "@jupyter-widgets/controls",
            "layout": "IPY_MODEL_9c684dbe0d22400993a31a6ee79b9d9e"
          }
        },
        "c775c43dabff4e28b2b6f783be3097d3": {
          "model_module": "@jupyter-widgets/controls",
          "model_name": "IntSliderModel",
          "state": {
            "_view_name": "IntSliderView",
            "style": "IPY_MODEL_d7b9204815cb45bcbec71b26c85b94a1",
            "_dom_classes": [],
            "description": "x2",
            "step": 1,
            "_model_name": "IntSliderModel",
            "orientation": "horizontal",
            "max": 3,
            "_view_module": "@jupyter-widgets/controls",
            "_model_module_version": "1.5.0",
            "value": 2,
            "_view_count": null,
            "disabled": false,
            "_view_module_version": "1.5.0",
            "min": -1,
            "continuous_update": true,
            "readout_format": "d",
            "description_tooltip": null,
            "readout": true,
            "_model_module": "@jupyter-widgets/controls",
            "layout": "IPY_MODEL_a77de1797bc845c7bdfd173d7949be6f"
          }
        },
        "74bd5369751c4578bda398d3e22a0d98": {
          "model_module": "@jupyter-widgets/controls",
          "model_name": "IntSliderModel",
          "state": {
            "_view_name": "IntSliderView",
            "style": "IPY_MODEL_2691024fc7604389ac0b01d0a1ebba53",
            "_dom_classes": [],
            "description": "x3",
            "step": 1,
            "_model_name": "IntSliderModel",
            "orientation": "horizontal",
            "max": 3,
            "_view_module": "@jupyter-widgets/controls",
            "_model_module_version": "1.5.0",
            "value": 1,
            "_view_count": null,
            "disabled": false,
            "_view_module_version": "1.5.0",
            "min": -1,
            "continuous_update": true,
            "readout_format": "d",
            "description_tooltip": null,
            "readout": true,
            "_model_module": "@jupyter-widgets/controls",
            "layout": "IPY_MODEL_ea9fffb433104da99558593ed451464e"
          }
        },
        "1b534294a7a74ebf899d2376d0705a45": {
          "model_module": "@jupyter-widgets/output",
          "model_name": "OutputModel",
          "state": {
            "_view_name": "OutputView",
            "msg_id": "",
            "_dom_classes": [],
            "_model_name": "OutputModel",
            "outputs": [
              {
                "output_type": "stream",
                "metadata": {
                  "tags": []
                },
                "text": "4\n",
                "stream": "stdout"
              }
            ],
            "_view_module": "@jupyter-widgets/output",
            "_model_module_version": "1.0.0",
            "_view_count": null,
            "_view_module_version": "1.0.0",
            "layout": "IPY_MODEL_68cfe762561f4eefa4f8ebb1fe3f3bc7",
            "_model_module": "@jupyter-widgets/output"
          }
        },
        "51509f1c01e3498dbd54bb9c314c18a8": {
          "model_module": "@jupyter-widgets/controls",
          "model_name": "SliderStyleModel",
          "state": {
            "_view_name": "StyleView",
            "handle_color": null,
            "_model_name": "SliderStyleModel",
            "description_width": "",
            "_view_module": "@jupyter-widgets/base",
            "_model_module_version": "1.5.0",
            "_view_count": null,
            "_view_module_version": "1.2.0",
            "_model_module": "@jupyter-widgets/controls"
          }
        },
        "9c684dbe0d22400993a31a6ee79b9d9e": {
          "model_module": "@jupyter-widgets/base",
          "model_name": "LayoutModel",
          "state": {
            "_view_name": "LayoutView",
            "grid_template_rows": null,
            "right": null,
            "justify_content": null,
            "_view_module": "@jupyter-widgets/base",
            "overflow": null,
            "_model_module_version": "1.2.0",
            "_view_count": null,
            "flex_flow": null,
            "width": null,
            "min_width": null,
            "border": null,
            "align_items": null,
            "bottom": null,
            "_model_module": "@jupyter-widgets/base",
            "top": null,
            "grid_column": null,
            "overflow_y": null,
            "overflow_x": null,
            "grid_auto_flow": null,
            "grid_area": null,
            "grid_template_columns": null,
            "flex": null,
            "_model_name": "LayoutModel",
            "justify_items": null,
            "grid_row": null,
            "max_height": null,
            "align_content": null,
            "visibility": null,
            "align_self": null,
            "height": null,
            "min_height": null,
            "padding": null,
            "grid_auto_rows": null,
            "grid_gap": null,
            "max_width": null,
            "order": null,
            "_view_module_version": "1.2.0",
            "grid_template_areas": null,
            "object_position": null,
            "object_fit": null,
            "grid_auto_columns": null,
            "margin": null,
            "display": null,
            "left": null
          }
        },
        "d7b9204815cb45bcbec71b26c85b94a1": {
          "model_module": "@jupyter-widgets/controls",
          "model_name": "SliderStyleModel",
          "state": {
            "_view_name": "StyleView",
            "handle_color": null,
            "_model_name": "SliderStyleModel",
            "description_width": "",
            "_view_module": "@jupyter-widgets/base",
            "_model_module_version": "1.5.0",
            "_view_count": null,
            "_view_module_version": "1.2.0",
            "_model_module": "@jupyter-widgets/controls"
          }
        },
        "a77de1797bc845c7bdfd173d7949be6f": {
          "model_module": "@jupyter-widgets/base",
          "model_name": "LayoutModel",
          "state": {
            "_view_name": "LayoutView",
            "grid_template_rows": null,
            "right": null,
            "justify_content": null,
            "_view_module": "@jupyter-widgets/base",
            "overflow": null,
            "_model_module_version": "1.2.0",
            "_view_count": null,
            "flex_flow": null,
            "width": null,
            "min_width": null,
            "border": null,
            "align_items": null,
            "bottom": null,
            "_model_module": "@jupyter-widgets/base",
            "top": null,
            "grid_column": null,
            "overflow_y": null,
            "overflow_x": null,
            "grid_auto_flow": null,
            "grid_area": null,
            "grid_template_columns": null,
            "flex": null,
            "_model_name": "LayoutModel",
            "justify_items": null,
            "grid_row": null,
            "max_height": null,
            "align_content": null,
            "visibility": null,
            "align_self": null,
            "height": null,
            "min_height": null,
            "padding": null,
            "grid_auto_rows": null,
            "grid_gap": null,
            "max_width": null,
            "order": null,
            "_view_module_version": "1.2.0",
            "grid_template_areas": null,
            "object_position": null,
            "object_fit": null,
            "grid_auto_columns": null,
            "margin": null,
            "display": null,
            "left": null
          }
        },
        "2691024fc7604389ac0b01d0a1ebba53": {
          "model_module": "@jupyter-widgets/controls",
          "model_name": "SliderStyleModel",
          "state": {
            "_view_name": "StyleView",
            "handle_color": null,
            "_model_name": "SliderStyleModel",
            "description_width": "",
            "_view_module": "@jupyter-widgets/base",
            "_model_module_version": "1.5.0",
            "_view_count": null,
            "_view_module_version": "1.2.0",
            "_model_module": "@jupyter-widgets/controls"
          }
        },
        "ea9fffb433104da99558593ed451464e": {
          "model_module": "@jupyter-widgets/base",
          "model_name": "LayoutModel",
          "state": {
            "_view_name": "LayoutView",
            "grid_template_rows": null,
            "right": null,
            "justify_content": null,
            "_view_module": "@jupyter-widgets/base",
            "overflow": null,
            "_model_module_version": "1.2.0",
            "_view_count": null,
            "flex_flow": null,
            "width": null,
            "min_width": null,
            "border": null,
            "align_items": null,
            "bottom": null,
            "_model_module": "@jupyter-widgets/base",
            "top": null,
            "grid_column": null,
            "overflow_y": null,
            "overflow_x": null,
            "grid_auto_flow": null,
            "grid_area": null,
            "grid_template_columns": null,
            "flex": null,
            "_model_name": "LayoutModel",
            "justify_items": null,
            "grid_row": null,
            "max_height": null,
            "align_content": null,
            "visibility": null,
            "align_self": null,
            "height": null,
            "min_height": null,
            "padding": null,
            "grid_auto_rows": null,
            "grid_gap": null,
            "max_width": null,
            "order": null,
            "_view_module_version": "1.2.0",
            "grid_template_areas": null,
            "object_position": null,
            "object_fit": null,
            "grid_auto_columns": null,
            "margin": null,
            "display": null,
            "left": null
          }
        },
        "68cfe762561f4eefa4f8ebb1fe3f3bc7": {
          "model_module": "@jupyter-widgets/base",
          "model_name": "LayoutModel",
          "state": {
            "_view_name": "LayoutView",
            "grid_template_rows": null,
            "right": null,
            "justify_content": null,
            "_view_module": "@jupyter-widgets/base",
            "overflow": null,
            "_model_module_version": "1.2.0",
            "_view_count": null,
            "flex_flow": null,
            "width": null,
            "min_width": null,
            "border": null,
            "align_items": null,
            "bottom": null,
            "_model_module": "@jupyter-widgets/base",
            "top": null,
            "grid_column": null,
            "overflow_y": null,
            "overflow_x": null,
            "grid_auto_flow": null,
            "grid_area": null,
            "grid_template_columns": null,
            "flex": null,
            "_model_name": "LayoutModel",
            "justify_items": null,
            "grid_row": null,
            "max_height": null,
            "align_content": null,
            "visibility": null,
            "align_self": null,
            "height": null,
            "min_height": null,
            "padding": null,
            "grid_auto_rows": null,
            "grid_gap": null,
            "max_width": null,
            "order": null,
            "_view_module_version": "1.2.0",
            "grid_template_areas": null,
            "object_position": null,
            "object_fit": null,
            "grid_auto_columns": null,
            "margin": null,
            "display": null,
            "left": null
          }
        },
        "cd0c08f6425b4166944afbe79f4ddc51": {
          "model_module": "@jupyter-widgets/controls",
          "model_name": "VBoxModel",
          "state": {
            "_view_name": "VBoxView",
            "_dom_classes": [
              "widget-interact"
            ],
            "_model_name": "VBoxModel",
            "_view_module": "@jupyter-widgets/controls",
            "_model_module_version": "1.5.0",
            "_view_count": null,
            "_view_module_version": "1.5.0",
            "box_style": "",
            "layout": "IPY_MODEL_dd12441d6f1a4245a971b501c3f81219",
            "_model_module": "@jupyter-widgets/controls",
            "children": [
              "IPY_MODEL_02245f92a5f84d2c80f35e8b94380624",
              "IPY_MODEL_38f113129ffa4dd39f82c45bc58a8915",
              "IPY_MODEL_74017843b35d41d59cf435bb391d085d",
              "IPY_MODEL_423b29b9e31a44018e883cf1e624f02d"
            ]
          }
        },
        "dd12441d6f1a4245a971b501c3f81219": {
          "model_module": "@jupyter-widgets/base",
          "model_name": "LayoutModel",
          "state": {
            "_view_name": "LayoutView",
            "grid_template_rows": null,
            "right": null,
            "justify_content": null,
            "_view_module": "@jupyter-widgets/base",
            "overflow": null,
            "_model_module_version": "1.2.0",
            "_view_count": null,
            "flex_flow": null,
            "width": null,
            "min_width": null,
            "border": null,
            "align_items": null,
            "bottom": null,
            "_model_module": "@jupyter-widgets/base",
            "top": null,
            "grid_column": null,
            "overflow_y": null,
            "overflow_x": null,
            "grid_auto_flow": null,
            "grid_area": null,
            "grid_template_columns": null,
            "flex": null,
            "_model_name": "LayoutModel",
            "justify_items": null,
            "grid_row": null,
            "max_height": null,
            "align_content": null,
            "visibility": null,
            "align_self": null,
            "height": null,
            "min_height": null,
            "padding": null,
            "grid_auto_rows": null,
            "grid_gap": null,
            "max_width": null,
            "order": null,
            "_view_module_version": "1.2.0",
            "grid_template_areas": null,
            "object_position": null,
            "object_fit": null,
            "grid_auto_columns": null,
            "margin": null,
            "display": null,
            "left": null
          }
        },
        "02245f92a5f84d2c80f35e8b94380624": {
          "model_module": "@jupyter-widgets/controls",
          "model_name": "IntSliderModel",
          "state": {
            "_view_name": "IntSliderView",
            "style": "IPY_MODEL_85f70991f7964f29866574a88464e5b7",
            "_dom_classes": [],
            "description": "x1",
            "step": 1,
            "_model_name": "IntSliderModel",
            "orientation": "horizontal",
            "max": 3,
            "_view_module": "@jupyter-widgets/controls",
            "_model_module_version": "1.5.0",
            "value": 3,
            "_view_count": null,
            "disabled": false,
            "_view_module_version": "1.5.0",
            "min": -1,
            "continuous_update": true,
            "readout_format": "d",
            "description_tooltip": null,
            "readout": true,
            "_model_module": "@jupyter-widgets/controls",
            "layout": "IPY_MODEL_dc908eeeb0ca430186777226b5a6522d"
          }
        },
        "38f113129ffa4dd39f82c45bc58a8915": {
          "model_module": "@jupyter-widgets/controls",
          "model_name": "IntSliderModel",
          "state": {
            "_view_name": "IntSliderView",
            "style": "IPY_MODEL_107934e9c3234143b99a41e33ffeac90",
            "_dom_classes": [],
            "description": "x2",
            "step": 1,
            "_model_name": "IntSliderModel",
            "orientation": "horizontal",
            "max": 3,
            "_view_module": "@jupyter-widgets/controls",
            "_model_module_version": "1.5.0",
            "value": -1,
            "_view_count": null,
            "disabled": false,
            "_view_module_version": "1.5.0",
            "min": -1,
            "continuous_update": true,
            "readout_format": "d",
            "description_tooltip": null,
            "readout": true,
            "_model_module": "@jupyter-widgets/controls",
            "layout": "IPY_MODEL_cc6f1f1086ae479a8f62ac02e047996a"
          }
        },
        "74017843b35d41d59cf435bb391d085d": {
          "model_module": "@jupyter-widgets/controls",
          "model_name": "IntSliderModel",
          "state": {
            "_view_name": "IntSliderView",
            "style": "IPY_MODEL_c0db14b7d52a45f3bf50a3248b29e8b5",
            "_dom_classes": [],
            "description": "x3",
            "step": 1,
            "_model_name": "IntSliderModel",
            "orientation": "horizontal",
            "max": 3,
            "_view_module": "@jupyter-widgets/controls",
            "_model_module_version": "1.5.0",
            "value": -1,
            "_view_count": null,
            "disabled": false,
            "_view_module_version": "1.5.0",
            "min": -1,
            "continuous_update": true,
            "readout_format": "d",
            "description_tooltip": null,
            "readout": true,
            "_model_module": "@jupyter-widgets/controls",
            "layout": "IPY_MODEL_4bbefca1d0d0417282437efbd9e26442"
          }
        },
        "423b29b9e31a44018e883cf1e624f02d": {
          "model_module": "@jupyter-widgets/output",
          "model_name": "OutputModel",
          "state": {
            "_view_name": "OutputView",
            "msg_id": "",
            "_dom_classes": [],
            "_model_name": "OutputModel",
            "outputs": [
              {
                "output_type": "stream",
                "metadata": {
                  "tags": []
                },
                "text": "2.08\n",
                "stream": "stdout"
              }
            ],
            "_view_module": "@jupyter-widgets/output",
            "_model_module_version": "1.0.0",
            "_view_count": null,
            "_view_module_version": "1.0.0",
            "layout": "IPY_MODEL_e91d61bf96684829a4f0c67f16d521f9",
            "_model_module": "@jupyter-widgets/output"
          }
        },
        "85f70991f7964f29866574a88464e5b7": {
          "model_module": "@jupyter-widgets/controls",
          "model_name": "SliderStyleModel",
          "state": {
            "_view_name": "StyleView",
            "handle_color": null,
            "_model_name": "SliderStyleModel",
            "description_width": "",
            "_view_module": "@jupyter-widgets/base",
            "_model_module_version": "1.5.0",
            "_view_count": null,
            "_view_module_version": "1.2.0",
            "_model_module": "@jupyter-widgets/controls"
          }
        },
        "dc908eeeb0ca430186777226b5a6522d": {
          "model_module": "@jupyter-widgets/base",
          "model_name": "LayoutModel",
          "state": {
            "_view_name": "LayoutView",
            "grid_template_rows": null,
            "right": null,
            "justify_content": null,
            "_view_module": "@jupyter-widgets/base",
            "overflow": null,
            "_model_module_version": "1.2.0",
            "_view_count": null,
            "flex_flow": null,
            "width": null,
            "min_width": null,
            "border": null,
            "align_items": null,
            "bottom": null,
            "_model_module": "@jupyter-widgets/base",
            "top": null,
            "grid_column": null,
            "overflow_y": null,
            "overflow_x": null,
            "grid_auto_flow": null,
            "grid_area": null,
            "grid_template_columns": null,
            "flex": null,
            "_model_name": "LayoutModel",
            "justify_items": null,
            "grid_row": null,
            "max_height": null,
            "align_content": null,
            "visibility": null,
            "align_self": null,
            "height": null,
            "min_height": null,
            "padding": null,
            "grid_auto_rows": null,
            "grid_gap": null,
            "max_width": null,
            "order": null,
            "_view_module_version": "1.2.0",
            "grid_template_areas": null,
            "object_position": null,
            "object_fit": null,
            "grid_auto_columns": null,
            "margin": null,
            "display": null,
            "left": null
          }
        },
        "107934e9c3234143b99a41e33ffeac90": {
          "model_module": "@jupyter-widgets/controls",
          "model_name": "SliderStyleModel",
          "state": {
            "_view_name": "StyleView",
            "handle_color": null,
            "_model_name": "SliderStyleModel",
            "description_width": "",
            "_view_module": "@jupyter-widgets/base",
            "_model_module_version": "1.5.0",
            "_view_count": null,
            "_view_module_version": "1.2.0",
            "_model_module": "@jupyter-widgets/controls"
          }
        },
        "cc6f1f1086ae479a8f62ac02e047996a": {
          "model_module": "@jupyter-widgets/base",
          "model_name": "LayoutModel",
          "state": {
            "_view_name": "LayoutView",
            "grid_template_rows": null,
            "right": null,
            "justify_content": null,
            "_view_module": "@jupyter-widgets/base",
            "overflow": null,
            "_model_module_version": "1.2.0",
            "_view_count": null,
            "flex_flow": null,
            "width": null,
            "min_width": null,
            "border": null,
            "align_items": null,
            "bottom": null,
            "_model_module": "@jupyter-widgets/base",
            "top": null,
            "grid_column": null,
            "overflow_y": null,
            "overflow_x": null,
            "grid_auto_flow": null,
            "grid_area": null,
            "grid_template_columns": null,
            "flex": null,
            "_model_name": "LayoutModel",
            "justify_items": null,
            "grid_row": null,
            "max_height": null,
            "align_content": null,
            "visibility": null,
            "align_self": null,
            "height": null,
            "min_height": null,
            "padding": null,
            "grid_auto_rows": null,
            "grid_gap": null,
            "max_width": null,
            "order": null,
            "_view_module_version": "1.2.0",
            "grid_template_areas": null,
            "object_position": null,
            "object_fit": null,
            "grid_auto_columns": null,
            "margin": null,
            "display": null,
            "left": null
          }
        },
        "c0db14b7d52a45f3bf50a3248b29e8b5": {
          "model_module": "@jupyter-widgets/controls",
          "model_name": "SliderStyleModel",
          "state": {
            "_view_name": "StyleView",
            "handle_color": null,
            "_model_name": "SliderStyleModel",
            "description_width": "",
            "_view_module": "@jupyter-widgets/base",
            "_model_module_version": "1.5.0",
            "_view_count": null,
            "_view_module_version": "1.2.0",
            "_model_module": "@jupyter-widgets/controls"
          }
        },
        "4bbefca1d0d0417282437efbd9e26442": {
          "model_module": "@jupyter-widgets/base",
          "model_name": "LayoutModel",
          "state": {
            "_view_name": "LayoutView",
            "grid_template_rows": null,
            "right": null,
            "justify_content": null,
            "_view_module": "@jupyter-widgets/base",
            "overflow": null,
            "_model_module_version": "1.2.0",
            "_view_count": null,
            "flex_flow": null,
            "width": null,
            "min_width": null,
            "border": null,
            "align_items": null,
            "bottom": null,
            "_model_module": "@jupyter-widgets/base",
            "top": null,
            "grid_column": null,
            "overflow_y": null,
            "overflow_x": null,
            "grid_auto_flow": null,
            "grid_area": null,
            "grid_template_columns": null,
            "flex": null,
            "_model_name": "LayoutModel",
            "justify_items": null,
            "grid_row": null,
            "max_height": null,
            "align_content": null,
            "visibility": null,
            "align_self": null,
            "height": null,
            "min_height": null,
            "padding": null,
            "grid_auto_rows": null,
            "grid_gap": null,
            "max_width": null,
            "order": null,
            "_view_module_version": "1.2.0",
            "grid_template_areas": null,
            "object_position": null,
            "object_fit": null,
            "grid_auto_columns": null,
            "margin": null,
            "display": null,
            "left": null
          }
        },
        "e91d61bf96684829a4f0c67f16d521f9": {
          "model_module": "@jupyter-widgets/base",
          "model_name": "LayoutModel",
          "state": {
            "_view_name": "LayoutView",
            "grid_template_rows": null,
            "right": null,
            "justify_content": null,
            "_view_module": "@jupyter-widgets/base",
            "overflow": null,
            "_model_module_version": "1.2.0",
            "_view_count": null,
            "flex_flow": null,
            "width": null,
            "min_width": null,
            "border": null,
            "align_items": null,
            "bottom": null,
            "_model_module": "@jupyter-widgets/base",
            "top": null,
            "grid_column": null,
            "overflow_y": null,
            "overflow_x": null,
            "grid_auto_flow": null,
            "grid_area": null,
            "grid_template_columns": null,
            "flex": null,
            "_model_name": "LayoutModel",
            "justify_items": null,
            "grid_row": null,
            "max_height": null,
            "align_content": null,
            "visibility": null,
            "align_self": null,
            "height": null,
            "min_height": null,
            "padding": null,
            "grid_auto_rows": null,
            "grid_gap": null,
            "max_width": null,
            "order": null,
            "_view_module_version": "1.2.0",
            "grid_template_areas": null,
            "object_position": null,
            "object_fit": null,
            "grid_auto_columns": null,
            "margin": null,
            "display": null,
            "left": null
          }
        }
      }
    }
  },
  "cells": [
    {
      "cell_type": "markdown",
      "metadata": {
        "id": "view-in-github",
        "colab_type": "text"
      },
      "source": [
        "<a href=\"https://colab.research.google.com/github/jugernaut/Numerico2021/blob/desarrollo/RedesNeuronales/01_RedesNeuronales.ipynb\" target=\"_parent\"><img src=\"https://colab.research.google.com/assets/colab-badge.svg\" alt=\"Open In Colab\"/></a>"
      ]
    },
    {
      "cell_type": "markdown",
      "metadata": {
        "id": "wXSdMY-R3hny"
      },
      "source": [
        "<font color=\"Teal\" face=\"Comic Sans MS,arial\">\n",
        "  <h1 align=\"center\"><i>Redes Neuronales Arficiales</i></h1>\n",
        "  </font>\n",
        "  <font color=\"Black\" face=\"Comic Sans MS,arial\">\n",
        "  <h5 align=\"center\"><i>Profesor: M.en.C. Miguel Ángel Pérez León."
      ]
    },
    {
      "cell_type": "markdown",
      "metadata": {
        "id": "UdSUVg0fNCxN"
      },
      "source": [
        "# Introducción\n",
        "\n",
        "El cerebro humano tiene mas de 8080 billones de células, que se conocen como **neuronas**, estas se comunican unas con otras mediante pequeños impulsos eléctricos.\n",
        "\n",
        "No todas las neuronas se comunican entre si, se organizan en estructuras que se enfocan en tareas especificas. Estas estructuras son conocidas como **redes neuronales** biológicas."
      ]
    },
    {
      "cell_type": "markdown",
      "metadata": {
        "id": "IhcAIUHQlTzx"
      },
      "source": [
        "## El cerebro humano\n",
        "\n",
        "El cerebro humano es mucho muy complejo, al grado de que hoy en día no se conoce por completo su funcionamiento.\n",
        "\n",
        "Sin embargo una de las características mas importantes del mismo y que forman parte esencial de lo que veremos más adelante, es que, el cerebro humano **aprende de la experiencia**.\n",
        "\n",
        "<center>\n",
        "<img src=\"https://github.com/jugernaut/Numerico2021/blob/desarrollo/Figuras/redesNeuronales/raton.png?raw=1\" width=\"700\">\n",
        "</center>\n"
      ]
    },
    {
      "cell_type": "code",
      "metadata": {
        "colab": {
          "base_uri": "https://localhost:8080/",
          "height": 307
        },
        "id": "bZgWlIES-U7n",
        "outputId": "64b4c522-9d66-4a0b-b184-5d19027c0f2a"
      },
      "source": [
        "import matplotlib.pyplot as plt\n",
        "import numpy as np\n",
        "%matplotlib inline\n",
        "\n",
        "t = np.linspace(0, 7, 100)    # Codominio de la función, de 0 a 7 con 100 puntos\n",
        "# t=tiemo, S=intensidad del recuerdo\n",
        "R = lambda t, S: np.exp(-t/S) # Definición de la función del olvido\n",
        "\n",
        "# Definimos algunos parámetros para la gráfica\n",
        "plt.title('Función del olvido $R(t) = e^{-t/S}$')\n",
        "\n",
        "# Realizamos tres gráficas para S=0.1, S=0.5 y S=0.9] de la curva del olvido\n",
        "for S in [0.1, 0.5, 0.9]:\n",
        "    plt.plot(t, R(t, S),label=\"S = \"+str(S))\n",
        "\n",
        "# Mostramos la leyenda de las gráficas\n",
        "plt.xlabel('Dias', fontsize=18)\n",
        "plt.ylabel('Recuerdo', fontsize=16)\n",
        "plt.grid()\n",
        "plt.legend()\n",
        "plt.show()"
      ],
      "execution_count": null,
      "outputs": [
        {
          "output_type": "display_data",
          "data": {
            "image/png": "[encoded data removed]",
            "text/plain": [
              "<Figure size 432x288 with 1 Axes>"
            ]
          },
          "metadata": {
            "tags": [],
            "needs_background": "light"
          }
        }
      ]
    },
    {
      "cell_type": "markdown",
      "metadata": {
        "id": "2K6SXEU7pyiD"
      },
      "source": [
        "## Neurona\n",
        "\n",
        "Igual que sucede con el cerebro humano, **la neurona artificial es la unidad de toda red neuronal artificial** (R.N.A.) y se comportan de manera muy similar a sus análogas biológicas.\n",
        "\n",
        "Una neurona artificial responde a las señales que recibe, y envía información a otras neuronas dentro de la red.\n",
        "\n",
        "En este jupyter vamos a analizar el funcionamiento particular de una neurona, sin embargo el verdadero poder de las neuronas radica en organizarse y formar redes neuronales."
      ]
    },
    {
      "cell_type": "markdown",
      "metadata": {
        "id": "Or2MGaOupukJ"
      },
      "source": [
        "## Sinapsis\n",
        "\n",
        "Dentro de una red neuronal biológica la sinapsis es la forma en la cual se establecen **vías de comunicación** ente las neuronas dentro de una red neuronal.\n",
        "\n",
        "En una red neuronal artificial, es necesario simular estas vías de comunicación y este proceso se lleva a cabo mediante expresiones matemáticas que finalmente se traducen en **algoritmos computacionales**.\n"
      ]
    },
    {
      "cell_type": "markdown",
      "metadata": {
        "id": "PGXXKz7FqFbE"
      },
      "source": [
        "## Red Neuronal\n",
        "\n",
        "Cada vez que aprendes un nuevo juego, un nuevo baile o alguna nueva habilidad matemática, algunas neuronas fortalecen sus conexiones entre si y debilitan algunas otras conexiones.\n",
        "\n",
        "Es decir que la estructura de **la red neuronal evoluciona** a medida en que se aprenden nuevas habilidades.\n",
        "\n",
        "<center>\n",
        "<img src=\"https://github.com/jugernaut/Numerico2021/blob/desarrollo/Figuras/redesNeuronales/barton.jpg?raw=1\" width=\"450\">\n",
        "</center>"
      ]
    },
    {
      "cell_type": "markdown",
      "metadata": {
        "id": "0DIZxqEsv6aQ"
      },
      "source": [
        "## Red Neuronal Artificial\n",
        "\n",
        "Como ya te puedes imaginar, una red neuronal artificial consiste en un conjunto de neuronas artificiales que interactúan entre si para **lograr un objetivo**.\n",
        "\n",
        "El concepto de red neuronal artificial data de mediados del siglo pasado e incluso llego a estancarse en una época conocida como **la era de hielo de las redes neuronales artificiales**.\n",
        "\n",
        "Sin embargo con la mejora en los algoritmos empleados en las redes neuronales artificiales y las mejoras en el hardware que implementan dichas redes, hoy en día se les dan usos tan variados que van desde, **clasificación automatizada**, modelos predictivos, medicina, y en general automatización de procesos.\n",
        "\n",
        "<center>\n",
        "<img src=\"https://github.com/jugernaut/Numerico2021/blob/desarrollo/Figuras/redesNeuronales/ia.png?raw=1\" width=\"450\">\n",
        "</center>"
      ]
    },
    {
      "cell_type": "markdown",
      "metadata": {
        "id": "pv34b5WB2PKL"
      },
      "source": [
        "#  Neurona Artificial\n",
        "\n",
        "La manera mas sencilla en que nos podemos imaginar una neurona artificial, es como una función matemática $f$ que recibe un conjunto de datos de entrada $(x_1, x_2, \\dots ,x_n)$, que podemos interpretar como señales y devuelve una señal de salida.\n",
        "\n",
        "Es decir que $f$ toma estas señales y devuelve una señal de salida $f(x_1, x_2, \\dots ,x_n) = y$.\n",
        "\n",
        "Hay muchas formas de imaginarse como es una neurona artificial, pero por simplicidad y para fines prácticos nos conviene imaginarla como una función matemática.\n",
        "\n",
        "<center>\n",
        "<img src=\"https://github.com/jugernaut/Numerico2021/blob/desarrollo/Figuras/redesNeuronales/Neurona1.png?raw=1\" width=\"450\">\n",
        "</center>"
      ]
    },
    {
      "cell_type": "markdown",
      "metadata": {
        "id": "i_9Fue_POL2I"
      },
      "source": [
        "## Ejemplo\n",
        "\n",
        "Imaginemos que tenemos 2 datos que nos interesan ser procesados por nuestra neurona, estos datos pueden ser tan distintos como el valor de una empresa en la bolsa de valores, la probabilidad de que llueva, o cualquier dato que sea relevante para el caso en cuestión. \n"
      ]
    },
    {
      "cell_type": "code",
      "metadata": {
        "id": "uVCn6cCWyiDZ",
        "colab": {
          "base_uri": "https://localhost:8080/",
          "height": 146,
          "referenced_widgets": [
            "c59eaea409204aa5a82b792c4619d82c",
            "5872b2655dda4a24b76d39c78d67f80c",
            "3f30ab37cc8344fa842ba1b817a0652e",
            "c775c43dabff4e28b2b6f783be3097d3",
            "74bd5369751c4578bda398d3e22a0d98",
            "1b534294a7a74ebf899d2376d0705a45",
            "51509f1c01e3498dbd54bb9c314c18a8",
            "9c684dbe0d22400993a31a6ee79b9d9e",
            "d7b9204815cb45bcbec71b26c85b94a1",
            "a77de1797bc845c7bdfd173d7949be6f",
            "2691024fc7604389ac0b01d0a1ebba53",
            "ea9fffb433104da99558593ed451464e",
            "68cfe762561f4eefa4f8ebb1fe3f3bc7"
          ]
        },
        "outputId": "353fb917-70e3-4d58-a538-82d96b16bf29"
      },
      "source": [
        "# se importan las bibliotecas necesarias\n",
        "from IPython.html.widgets import interact\n",
        "import ipywidgets as widgets\n",
        "\n",
        "# neurona básica que solo recibe 3 parametros y los suma\n",
        "def neurona(x1, x2, x3):\n",
        "    # se imprime la suma de las 3 señales de entrada\n",
        "    print(x1+x2+x3) \n",
        "\n",
        "# interactivo \n",
        "interact(neurona, x1=widgets.IntSlider(min=-1,max=3,step=1,value=0), \n",
        "         x2=widgets.IntSlider(min=-1,max=3,step=1,value=0),x3=widgets.IntSlider(min=-1,max=3,step=1,value=0))"
      ],
      "execution_count": null,
      "outputs": [
        {
          "output_type": "display_data",
          "data": {
            "application/vnd.jupyter.widget-view+json": {
              "model_id": "c59eaea409204aa5a82b792c4619d82c",
              "version_minor": 0,
              "version_major": 2
            },
            "text/plain": [
              "interactive(children=(IntSlider(value=0, description='x1', max=3, min=-1), IntSlider(value=0, description='x2'…"
            ]
          },
          "metadata": {
            "tags": []
          }
        },
        {
          "output_type": "execute_result",
          "data": {
            "text/plain": [
              "<function __main__.neurona>"
            ]
          },
          "metadata": {
            "tags": []
          },
          "execution_count": 22
        }
      ]
    },
    {
      "cell_type": "markdown",
      "metadata": {
        "id": "o-Y0ImDdOhj3"
      },
      "source": [
        "# Pesos (Weight) y Sesgo (Bias)\n",
        "\n",
        "Los pesos son un elemento importante dentro de toda red neuronal artificial, ya que indican que tan fuerte o débil debe ser la conexión entre la neurona y las señales de entrada.\n",
        "\n",
        "Imaginemos que se quiere usar una neurona artificial para determinar si es buena idea invertir en una empresa dedicada al desarrollo de microprocesadores.\n",
        "\n",
        "Las entradas que recibiría nuestra neurona seguirían siendo las 3 variables antes mencionadas $(x_1, x_2, x_3)$, pero en este caso estos valores representan:\n",
        "\n",
        "*   $x_1:$ valor del oro en la bolsa de valores.\n",
        "*   $x_2:$ cotización en la ultima semana de dicha empresa.\n",
        "*   $x_3:$ probabilidad de lluvia.\n",
        "\n",
        "**Pesos**: ahora nos interesa modelar que el valor del oro tiene una mayor relevancia en la fabricación de un microporocesador que la probabilidad de lluvia y de la misma manera la cotización de la empresa en la última semana. Por lo que los pesos para cada señal de entrada serían:\n",
        "\n",
        "*   $w_1:$ relevancia del valor del oro.\n",
        "*   $w_2:$ relevancia de la cotización de la empresa.\n",
        "*   $w_3:$ relevancia de probabilidad de lluvia.\n",
        "\n",
        "**Sesgo (Bias)**: el sesgo es un valor (normalmente llamado $b$) que ayuda a modificar la suma ponderada de las señales de entrada. De tal manera que este sesgo permite modificar la salida de la función de activación. \n",
        "\n",
        "\n"
      ]
    },
    {
      "cell_type": "code",
      "metadata": {
        "id": "rydpZ9rAPUVi",
        "colab": {
          "base_uri": "https://localhost:8080/",
          "height": 146,
          "referenced_widgets": [
            "cd0c08f6425b4166944afbe79f4ddc51",
            "dd12441d6f1a4245a971b501c3f81219",
            "02245f92a5f84d2c80f35e8b94380624",
            "38f113129ffa4dd39f82c45bc58a8915",
            "74017843b35d41d59cf435bb391d085d",
            "423b29b9e31a44018e883cf1e624f02d",
            "85f70991f7964f29866574a88464e5b7",
            "dc908eeeb0ca430186777226b5a6522d",
            "107934e9c3234143b99a41e33ffeac90",
            "cc6f1f1086ae479a8f62ac02e047996a",
            "c0db14b7d52a45f3bf50a3248b29e8b5",
            "4bbefca1d0d0417282437efbd9e26442",
            "e91d61bf96684829a4f0c67f16d521f9"
          ]
        },
        "outputId": "6b27c225-d6b8-4e5b-bc04-d17ab20a11c9"
      },
      "source": [
        "'''\n",
        "  x1: valor del oro\n",
        "  x2: cotizacion de la empresa\n",
        "  x3: probabilidad de lluvia\n",
        "'''\n",
        "def neurona(x1, x2, x3):\n",
        "    # se imprime la suma de las 3 señales de entrada\n",
        "    print(x1*0.9+x2*0.6+x3*.02) \n",
        "\n",
        "# interactivo \n",
        "interact(neurona, x1=widgets.IntSlider(min=-1,max=3,step=1,value=0), \n",
        "         x2=widgets.IntSlider(min=-1,max=3,step=1,value=0),x3=widgets.IntSlider(min=-1,max=3,step=1,value=0))"
      ],
      "execution_count": 13,
      "outputs": [
        {
          "output_type": "display_data",
          "data": {
            "application/vnd.jupyter.widget-view+json": {
              "model_id": "cd0c08f6425b4166944afbe79f4ddc51",
              "version_minor": 0,
              "version_major": 2
            },
            "text/plain": [
              "interactive(children=(IntSlider(value=0, description='x1', max=3, min=-1), IntSlider(value=0, description='x2'…"
            ]
          },
          "metadata": {
            "tags": []
          }
        },
        {
          "output_type": "execute_result",
          "data": {
            "text/plain": [
              "<function __main__.neurona>"
            ]
          },
          "metadata": {
            "tags": []
          },
          "execution_count": 13
        }
      ]
    },
    {
      "cell_type": "markdown",
      "metadata": {
        "id": "2F4nh1heOnZU"
      },
      "source": [
        "# Función de Activación\n",
        "\n",
        "Diremos que una neurona se activa cuando transmite y establece una conexión con el resto de las neuronas, en otro caso la neurona permanece desactivada y por lo tanto no transmite señales al resto de las neuronas.\n",
        "\n",
        "La función de activación es el equivalente biológico a la forma en la cuál una neurona **determina si se activa o permanece desactivada**.\n",
        "\n",
        "A continuación veremos algunos ejemplos de funciones de activación."
      ]
    },
    {
      "cell_type": "code",
      "metadata": {
        "id": "401mBZpW5qmw",
        "outputId": "1e0c855c-3f47-477e-fb28-f3cabb8253bf",
        "colab": {
          "base_uri": "https://localhost:8080/",
          "height": 303
        }
      },
      "source": [
        "x = np.linspace(-10, 10, 100)    # Codominio de la función, de 0 a 7 con 100 puntos\n",
        "\n",
        "# sigmoide\n",
        "sigmoide = lambda x: 1/(1 + np.exp(-x)) # Definición de la función del olvido\n",
        "tangente = lambda x: (np.exp(x)-np.exp(-x))/(np.exp(x)+np.exp(-x))\n",
        "\n",
        "# Definimos algunos parámetros para la gráfica\n",
        "plt.title('Sigmoide')\n",
        "\n",
        "plt.plot(x, sigmoide(x),label=\"Sigmoide\")\n",
        "plt.plot(x, tangente(x),label=\"Tangente\")\n",
        "\n",
        "# Mostramos la leyenda de las gráficas\n",
        "plt.xlabel('valores', fontsize=18)\n",
        "plt.ylabel('activacion', fontsize=16)\n",
        "plt.grid()\n",
        "plt.legend()\n",
        "plt.show()"
      ],
      "execution_count": 17,
      "outputs": [
        {
          "output_type": "display_data",
          "data": {
            "image/png": "[encoded data removed]",
            "text/plain": [
              "<Figure size 432x288 with 1 Axes>"
            ]
          },
          "metadata": {
            "tags": [],
            "needs_background": "light"
          }
        }
      ]
    },
    {
      "cell_type": "markdown",
      "metadata": {
        "id": "WvAgphBSRqvy"
      },
      "source": [
        "### Tipos de funciones de activación\n",
        "\n",
        "Si tomamos $S\\left(x_{i}\\right)=z_{i}$ para $\\,0\\leq i\\leq n$ sobre $\\left[x_{i},x_{i+1}\\right]$, tenemos que $S_{i}^{''}\\left(x\\right)$ es una interpolación lineal y considerando que por construcción $S_{i}^{''}\\left(x_{i+1}\\right)=z_{i+1}$. Podemos escribir a $S_{i}^{''}$ así\n",
        "\n",
        "$$S_{i}^{''}\\left(x\\right)=\\frac{x-x_{i+1}}{x_{i}-x_{i+1}}z_{i}+\\frac{x-x_{i}}{x_{i+1}-x_{i}}z_{i+1}$$\n",
        "\n",
        "Si integramos $S_{i}^{''}\\left(x\\right)$ dos veces, obtenemos\n",
        "\n",
        "$$S_{i}\\left(x\\right)=\\frac{z_{i}}{6h_{i}}\\left(x_{i+1}-x\\right)^{3}+\\frac{z_{i+1}}{6h_{i}}\\left(x-x_{i}\\right)^{3}+cx+d \\tag{5}$$\n",
        "\n",
        "Donde $h_{i}=x_{i+1}-x_{i}$ y $c, d$ son las constantes de integración. Ahora podemos emplear las condiciones de interpolación y continuidad para obtener las siguientes ecuaciones\n",
        "\n",
        "$$interpol.\\ y \\ cont.=\\begin{cases}\n",
        "h_{i}^{3}\\frac{z_{i}}{6h_{i}}+cx_{i}+d=f\\left(x_{i}\\right)=y_{i} & c=\\frac{y_{i+1}-y_{i}}{h_{i}}-\\frac{\\left(z_{i+1}-z_{i}\\right)}{6}h_{i}\\\\\n",
        "h_{i}^{3}\\frac{z_{i}}{6h_{i}}+cx_{i+1}+d=f\\left(x_{i+1}\\right)=y_{i+1} & d=\\frac{y_{i}x_{i+1}-y_{i+1}x_{i}}{h_{i}}+\\frac{x_{i}z_{i+1}-x_{i+1}z_{i}}{6}h_{i}\n",
        "\\end{cases}$$\n",
        "\n",
        "Remplazando en la ecuación $(5)$, tenemos \n",
        "\n",
        "$$S_{i}\\left(x\\right)=\\frac{z_{i}}{6h_{i}}\\left(x_{i+1}-x\\right)^{3}+\\frac{z_{i+1}}{6h_{i}}\\left(x-x_{i}\\right)^{3}+\\left(\\frac{\\left(y_{i+1}-y_{i}\\right)}{hi}-\\frac{\\left(z_{i+1}-z_{i}\\right)}{6}h_{i}\\right)x\\frac{y_{i}x_{i+1}-y_{i+1}x_{i}}{h_{i}}+\\frac{x_{i}z_{i+1}-x_{i+1}z_{i}}{6}h_{i} \\tag{6}$$\n",
        "\n",
        "La ecuación $(6)$ también es conocida como, la **forma general del Spline Cúbico**\n",
        "\n",
        "$$S_{i}\\left(x\\right)=\\frac{z_{i}}{6h_{i}}\\left(x_{i+1}-x\\right)^{3}+\\frac{z_{i+1}}{6h_{i}}\\left(x-x_{i}\\right)^{3}+\\left(\\frac{y_{i}}{h_{i}}-\\frac{z_{i}h_{i}}{6}\\right)\\left(x_{i+1}-x\\right)+\\left(\\frac{y_{i+1}}{h_{i}}-\\frac{z_{i+1}h_{i}}{6}\\right)\\left(x-x_{i}\\right)$$\n",
        "\n",
        "Para encontrar $z_{i}$ y $z_{i+1}$ empleamos la primer condición de suavidad, por lo que al derivar y reemplazar en $(6)$ obtenemos \n",
        "\n",
        "$$S_{i}^{'}\\left(x_{i}\\right)=-\\frac{1}{3}h_{i}z_{i}-\\frac{1}{6}h_{i}z_{i+1}+d_{i}$$ \n",
        "y\n",
        "\n",
        "$$S_{i-1}^{'}\\left(x_{i}\\right)=\\frac{1}{6}h_{i-1}z_{i-1}+\\frac{1}{3}h_{i-1}z_{i}+d_{i-1}$$\n",
        "\n",
        "con \n",
        "\n",
        "$$d_{i}=\\frac{y_{i+1}-y_{i}}{h_{i}}\\quad y\\quad d_{i-1}=\\frac{y_{i}-y_{i-1}}{h_{i-1}}$$\n",
        "\n",
        "Finalmente, dado que $S_{i-1}^{'}\\left(x_{i}\\right)=S_{i}^{'}\\left(x_{i}\\right)$ tenemos la siguiente ecuación para $i=1,\\ldots,n-1$\n",
        "\n",
        "$$h_{i-1}z_{i-1}+2\\left(h_{i-1}+h_{i}\\right)z_{i}+h_{i}z_{i+1}=6\\left(d_{i}-d_{i-1}\\right) \\tag{7}$$\n",
        "\n",
        "La ecuación $(7)$ se deriva de $(6)$ y es con esta ecuación que se genera un sistema de ecuaciones mediante el cual podemos encontrar los coeficientes de los Splines.\n",
        "\n",
        "Para el caso del Spline Cúbico natural $z_{0}=z_{n}=0$ la ecuación $(6)$ nos conduce a un sistema de ecuaciones, simétrico, tridiagonal, diagonal dominante, de la forma siguiente\n",
        "\n",
        "$$\\left(\\begin{array}{cccccc}\n",
        "u_{1} & h_{1} & 0 & 0 & \\cdots & 0\\\\\n",
        "h_{1} & u_{2} & h_{2} & 0 & \\cdots & 0\\\\\n",
        "0 & h_{2} & u_{3} & h_{3} & \\ddots & 0\\\\\n",
        "\\vdots & \\vdots & \\ddots & \\ddots & \\ddots & \\vdots\\\\\n",
        "0 & 0 & \\cdots & h_{n-3} & u_{n-2} & h_{n-2}\\\\\n",
        "0 & 0 & \\cdots & 0 & h_{n-2} & u_{n-1}\n",
        "\\end{array}\\right)\\left(\\begin{array}{c}\n",
        "z_{1}\\\\\n",
        "z_{2}\\\\\n",
        "\\vdots\\\\\n",
        "z_{n-2}\\\\\n",
        "z_{n-1}\n",
        "\\end{array}\\right)=\\left(\\begin{array}{c}\n",
        "v_{1}\\\\\n",
        "v_{2}\\\\\n",
        "\\vdots\\\\\n",
        "v_{n-2}\\\\\n",
        "v_{n-1}\n",
        "\\end{array}\\right) \\tag{8}$$\n",
        "\n",
        "Donde\n",
        "\n",
        "$$\\begin{cases}\n",
        "h_{i} & =x_{i+1}-x_{i}\\\\\n",
        "u_{i} & =2\\left(h_{i}+h_{i-1}\\right)\\\\\n",
        "d_{i} & =\\frac{y_{i+1}-y_{i}}{h_{i}},\\,y_{i}=f\\left(x_{i}\\right)\\\\\n",
        "v_{i} & =6\\left(d_{i}-d_{i-1}\\right)\n",
        "\\end{cases}$$"
      ]
    },
    {
      "cell_type": "markdown",
      "metadata": {
        "id": "o7nz9izaSGDl"
      },
      "source": [
        "#### Ejemplo\n",
        "\n",
        "Sea el siguiente conjunto de datos.\n",
        "\n",
        "| X | 8 |11| 15 |18|22| \n",
        "| :-:  | :-: | :-: |  :-: | :-: | :-: | \n",
        "| Y  | 5 | 9|10|8 |7|\n",
        "\n",
        "1. Determine el spline cúbico natural que ajusta los datos.\n",
        "\n",
        "2. Use el spline calculado en $(1)$ para encontrar el valor interpolado en $x=12.7$.\n",
        "\n",
        "**Solución**: \n",
        "\n",
        "Tenemos que $n=5$, y son 4 splines $\\left(i=0,\\ldots,3\\right)$. La ecuación cúbica en el i-ésimo spline es \n",
        "\n",
        "$$S_{i}\\left(x\\right)=\\frac{z_{i}}{6h_{i}}\\left(x_{i+1}-x\\right)^{3}+\\frac{z_{i+1}}{6h_{i}}\\left(x-x_{i}\\right)^{3}+\\left(\\frac{y_{i}}{h_{i}}-\\frac{z_{i}h_{i}}{6}\\right)\\left(x_{i+1}-x\\right)+\\left(\\frac{y_{i+1}}{h_{i}}-\\frac{z_{i+1}h_{i}}{6}\\right)\\left(x-x_{i}\\right)$$\n",
        "\n",
        "Para $x_{i}\\leq x\\leq x_{i+1}$, con $i=0,\\ldots,n$ donde $h_{i}=x_{i+1}-x_{i}$ que es la distancia del i-ésimo intervalo. Para encontrar los coeficientes intermedios $z_{i}$ se emplea la ecuación $(7)$\n",
        "\n",
        "$$h_{i-1}z_{i-1}+2\\left(h_{i-1}+h_{i}\\right)z_{i}+h_{i}z_{i+1}=6\\left(d_{i}-d_{i-1}\\right)$$\n",
        "\n",
        "Como se pidió el spline cúbico natural, entonces $z_{0}=z_{4}=0$ y los valores de $h_{i}$ son\n",
        "\n",
        "$$\\begin{array}{cc}\n",
        "h_{0}=x_{1}-x_{0}=11-8=3 & h_{1}=x_{2}-x_{1}=15-11=4\\\\\n",
        "h_{2}=x_{3}-x_{2}=18-15=3 & h_{3}=x_{4}-x_{3}=22-18=4\n",
        "\\end{array}$$\n",
        "\n",
        "Substituyendo estos valores en (8), para $i=1,2,3$ se obtiene el siguiente sistema de ecuaciones\n",
        "\n",
        "$$\\begin{array}{c}\n",
        "14z_{1}+3z_{2}+0=-6.5\\\\\n",
        "3z_{1}+14z_{2}+4z_{3}=-5.5\\\\\n",
        "0+4z_{2}+14z_{3}=2.5\n",
        "\\end{array}$$\n",
        "\n",
        "Resolviendo el sistema de ecuaciones con alguno de los métodos conocidos, se encuentran los coeficientes del spline \n",
        "\n",
        "$$z_{1}=-0.3796,\\,z_{2}=-0.3947,\\,z_{3}=0.2913$$\n",
        "\n",
        "una vez encontrados dichos coeficientes, se substituyen en $S_{1}\\left(x\\right)$, ya que ese el intervalo que se requiere evaluar.\n",
        "\n",
        "Finalmente para responder b) se evaluá $x=12.7$ en $S_{1}\\left(x\\right)$ y se obtiene $S_{1}\\left(12.7\\right)=10.181$"
      ]
    },
    {
      "cell_type": "code",
      "metadata": {
        "id": "R6Em3BObpooU",
        "colab": {
          "base_uri": "https://localhost:8080/",
          "height": 295
        },
        "outputId": "561c87df-097b-405f-cbca-507ac697e916"
      },
      "source": [
        "# forma general del spline\n",
        "def Si(zuno, zmas, xuno, xmas, yuno, ymas, x):\n",
        "    spline = (((zuno/(6.0*(xmas-xuno)))*(xmas-x)**(3))+((zmas/(6.0*(xmas-xuno))*(x-xuno)**(3)))+\n",
        "              (((yuno/(xmas-xuno))-(zuno*(xmas-xuno)/6.0))*(xmas-x))+\n",
        "              (((ymas/(xmas-xuno))-(zmas*(xmas-xuno)/6.0))*(x-xuno)))\n",
        "    return spline\n",
        "\n",
        "# calculamos las z's\n",
        "def splineCubic(x,y):\n",
        "    # valores necesarios para el sistema\n",
        "    h = [x[i+1]-x[i] for i in range(len(x)-1)]\n",
        "    u = [(2*(h[i]+h[i-1])) for i in range(1,len(h))]\n",
        "    d = [((y[i+1]-y[i])/h[i]) for i in range(len(y)-1)]\n",
        "    v = [(6.)*(d[i]-d[i-1]) for i in range(1,len(d))]\n",
        "    \n",
        "    # se construye el sistema de ecuaciones de la ecuacion 8\n",
        "    # matriz de ceros para el sistema\n",
        "    mat = np.zeros((3,3))\n",
        "    n = len(mat)\n",
        "    \n",
        "    # es necesario llenar la matriz\n",
        "    # primer renglon solo tiene 2 componentes\n",
        "    mat[0] = [u[0],h[0],0.]\n",
        "    for i in range(1,n-1):\n",
        "            mat[i] = [h[i-1], u[i], h[i]]\n",
        "    # ultimo renglon solo tiene 2 componentes\n",
        "    mat[n-1] = [0., h[n-2],u[n-1]]\n",
        "    \n",
        "    # spline cubico natural z0=zn=0\n",
        "    z = np.linalg.solve(mat, v)  \n",
        "    z = [0., z[0], z[1], z[2], 0.]\n",
        "    \n",
        "    return z\n",
        "\n",
        "# se grafica el spline\n",
        "def graficaSpline(x,y):\n",
        "\n",
        "    # dominios de los Si's\n",
        "    x0 = np.linspace(x[0], x[1], 100)\n",
        "    x1 = np.linspace(x[1], x[2], 100)\n",
        "    x2 = np.linspace(x[2], x[3], 100)\n",
        "    x3 = np.linspace(x[3], x[4], 100)\n",
        "    \n",
        "    # valores de z\n",
        "    z = splineCubic(x, y)\n",
        "    \n",
        "    #se generan los valores a garficar\n",
        "    S0 = Si(z[0], z[1], x[0], x[1], y[0], y[1], x0)\n",
        "    S1 = Si(z[1], z[2], x[1], x[2], y[1], y[2], x1)\n",
        "    S2 = Si(z[2], z[3], x[2], x[3], y[2], y[3], x2)\n",
        "    S3 = Si(z[3], z[4], x[3], x[4], y[3], y[4], x3)\n",
        "\n",
        "    # valor de la evaluacion\n",
        "    fx = Si(z[1], z[2], x[1], x[2], y[1], y[2], 12.7)\n",
        "    \n",
        "    # splines\n",
        "    plt.plot(x0, S0)\n",
        "    plt.plot(x1, S1, label='S1')\n",
        "    plt.plot(x2, S2)\n",
        "    plt.plot(x3, S3)\n",
        "    # punto a evaluar\n",
        "    plt.scatter(x=12.7, y=fx, label='$f(12.7)=10.18$', color='red')\n",
        "    \n",
        "    plt.grid()\n",
        "    plt.xlabel('$x$')\n",
        "    plt.ylabel('$y$')\n",
        "    plt.title('Spline Cubico Natural')\n",
        "    plt.legend()\n",
        "    plt.show()\n",
        "\n",
        "if __name__ == '__main__':\n",
        "    # datos\n",
        "    x = [8.,    11.,    15.,    18.,    22.]\n",
        "    y = [5., 9., 10., 8., 7.]\n",
        "    \n",
        "    graficaSpline(x, y)"
      ],
      "execution_count": null,
      "outputs": [
        {
          "output_type": "display_data",
          "data": {
            "image/png": "[encoded data removed]",
            "text/plain": [
              "<Figure size 432x288 with 1 Axes>"
            ]
          },
          "metadata": {
            "tags": [],
            "needs_background": "light"
          }
        }
      ]
    },
    {
      "cell_type": "markdown",
      "metadata": {
        "id": "oniRCJqcpkPf"
      },
      "source": [
        "<img src=\"https://github.com/jugernaut/Numerico2021/blob/desarrollo/Figuras/interpolacion/pato.PNG?raw=1\" width=\"450\">\n",
        "\n",
        "<img src=\"https://github.com/jugernaut/Numerico2021/blob/desarrollo/Figuras/interpolacion/polinomio.PNG?raw=1\" width=\"450\">\n",
        "\n",
        "<img src=\"https://github.com/jugernaut/Numerico2021/blob/desarrollo/Figuras/interpolacion/cubico.PNG?raw=1\" width=\"450\">"
      ]
    },
    {
      "cell_type": "markdown",
      "metadata": {
        "id": "_AQHpP046Z6_"
      },
      "source": [
        "#  Referencias\n",
        "\n",
        "*   [Prometeo](https://github.com/jugernaut/Prometeo)\n",
        "*   [Perceptron](https://medium.com/@thomascountz/19-line-line-by-line-python-perceptron-b6f113b161f3)\n",
        "*   [Brilliant](https://brilliant.org/practice/intelligent-computers-menace/?chapter=introduction-to-neural-networks)\n",
        "*   [Red neuronal desde cero](https://futurelab.mx/redes%20neuronales/inteligencia%20artificial/2019/06/25/intro-a-redes-neuronales-pt-1/)\n",
        "*   [Libro Web](http://neuralnetworksanddeeplearning.com/index.html)\n",
        "*   [Aprendizaje profundo](https://www.deeplearningbook.org/)\n",
        "*   [Lista de videos](https://www.youtube.com/playlist?list=PLo8YL3HL50lUHQS80oE_ypxFi0Y3uCVal)\n",
        "*   [Algebra Lineal](https://www.youtube.com/playlist?list=PLIb_io8a5NB2DddFf-PwvZDCOUNT1GZoA)\n"
      ]
    }
  ]
}