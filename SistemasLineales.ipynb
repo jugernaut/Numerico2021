{
  "nbformat": 4,
  "nbformat_minor": 0,
  "metadata": {
    "colab": {
      "name": "SistemasLineales.ipynb",
      "provenance": [],
      "authorship_tag": "ABX9TyMSJHqFx3J+UW0E7w74hs9x",
      "include_colab_link": true
    },
    "kernelspec": {
      "name": "python3",
      "display_name": "Python 3"
    }
  },
  "cells": [
    {
      "cell_type": "markdown",
      "metadata": {
        "id": "view-in-github",
        "colab_type": "text"
      },
      "source": [
        "<a href=\"https://colab.research.google.com/github/jugernaut/Numerico2021/blob/master/SistemasLineales.ipynb\" target=\"_parent\"><img src=\"https://colab.research.google.com/assets/colab-badge.svg\" alt=\"Open In Colab\"/></a>"
      ]
    },
    {
      "cell_type": "markdown",
      "metadata": {
        "id": "OVY9B_hHqvM5",
        "colab_type": "text"
      },
      "source": [
        "# Sistemas Lineales\n",
        "### Proyecto PAPIME PE101019\n",
        "- Autor: Miguel Angel Pérez León\n",
        "- Rev: mar jun  24 17:08:27 CDT 2020"
      ]
    },
    {
      "cell_type": "markdown",
      "metadata": {
        "id": "ztpOrbOw9qJy",
        "colab_type": "text"
      },
      "source": [
        "Múltiples problemas de las ciencias exactas implican la resolución de sistemas de N ecuaciones lineales con N incógnitas.\n",
        "\n",
        "En el caso general, un sistema de N ecuaciones lineales con N incógnitas $x_{i}$ se puede presentar en la forma.\n",
        "\n",
        "$$\\begin{cases}\n",
        "f_{1}(x_{1},x_{2},\\ldots,x_{n}) & =0\\\\\n",
        "f_{2}(x_{1},x_{2},\\ldots,x_{n}) & =0\\\\\n",
        " & \\,\\vdots\\\\\n",
        "f_{n}(x_{1},x_{2},\\ldots,x_{n}) & =0\n",
        "\\end{cases}$$\n",
        "\n",
        "Usando notación vectorial, podemos reescribir el sistema en una forma más elegante:\n",
        "\n",
        "$$F(X)=0$$\n",
        "\n",
        "Definiendo vectores columna como\n",
        "\n",
        "$$F\t=\t\\left[f_{1},f_{2},\\ldots,f_{N}\\right]^{T}$$\n",
        "$$X\t=\t\\left[x_{1,}x_{2},\\ldots,x_{N}\\right]^{T}$$\n",
        "\n",
        "Y considerando que cada una de las $f_{i}$ son ecuaciones lineales."
      ]
    },
    {
      "cell_type": "markdown",
      "metadata": {
        "id": "2aIQP1uA_eJ7",
        "colab_type": "text"
      },
      "source": [
        "## Representación Matricial\n",
        "\n",
        "Otra forma en la cual podemos representar este sistema de N ecuaciones con N incognitas es mediante la representación matricial.\n",
        "\n",
        "$$A\\vec{x}=\\vec{b}$$\n",
        "\n",
        "Con $A\\in M_{n\\times n}$ y $\\vec{x}, \\vec{b} \\in \\mathbb{R}^{n}$, es decir.\n",
        "\n",
        "$$\\left(\\begin{array}{ccccccc}\n",
        "a_{11} & a_{12} & \\cdots & \\cdots & \\cdots & \\cdots & a_{1n}\\\\\n",
        "a_{21} & a_{22} & \\cdots & \\cdots & \\cdots & \\cdots & a_{2n}\\\\\n",
        "\\vdots & \\ddots & \\ddots & \\ddots & \\ddots & \\ddots & \\vdots\\\\\n",
        "\\vdots & \\ddots & \\ddots & \\ddots & \\ddots & \\ddots & \\vdots\\\\\n",
        "\\vdots & \\ddots & \\ddots & \\ddots & \\ddots & \\ddots & \\vdots\\\\\n",
        "a_{n1} & \\cdots & \\cdots & \\cdots & \\cdots & \\cdots & a_{nn}\n",
        "\\end{array}\\right)\\left(\\begin{array}{c}\n",
        "x_{1}\\\\\n",
        "x_{2}\\\\\n",
        "\\vdots\\\\\n",
        "\\vdots\\\\\n",
        "\\vdots\\\\\n",
        "x_{n}\n",
        "\\end{array}\\right)=\\left(\\begin{array}{c}\n",
        "0\\\\\n",
        "0\\\\\n",
        "\\vdots\\\\\n",
        "\\vdots\\\\\n",
        "\\vdots\\\\\n",
        "0\n",
        "\\end{array}\\right)$$\n",
        "\n",
        "Recordando un poco temas de álgebra lineal podemos concluir que este sistema tendra solución única, siempre y cuando el determinante de la matriz $A$, sea diferente de cero, ya que en otro caso el sistema $A\\vec{x}=\\vec{b}$ no tiene solución. El hecho de que el determinante de una matriz sea diferente de cero esta directamente relacionado con la dimensión del espacio generado por los vectores columna de la matriz $A$ y también con respecto a las combinaciones lineales que estos generan, por lo que se recomienda enfáticamente revisar las referencias a estos temas para una mejor comprensión del tema."
      ]
    },
    {
      "cell_type": "markdown",
      "metadata": {
        "id": "f4g3RfuJQaQ4",
        "colab_type": "text"
      },
      "source": [
        "# Interpretación\n",
        "\n",
        "Al intentar resolver un sistema lineal de ecuaciones, nos podemos topar con las siguientes opciones:\n",
        "\n",
        "*   Sistema incompatible (carece de solución).\n",
        "*   Sistema compatible y determinado (solución única).\n",
        "*   Sistema compatible e indeterminado (infinitas soluciones).\n",
        "\n",
        "Supongamos que tenemos un sistema lineal de 2 ecuaciones con 2 incognitas, es decir que tenemos las ecuaciones de dos rectas:\n",
        "\n",
        "$$\n",
        "\\begin{matrix}\n",
        "a_{00} x_0 + a_{01} x_1 = b_0 \\\\\n",
        "a_{10} x_0 + a_{11} x_1 = b_1\n",
        "\\end{matrix}\n",
        "$$\n",
        "\n",
        "que en forma matricial se escriben como:\n",
        "\n",
        "$$\\left(\\begin{array}{cc}\n",
        "a_{00} & a_{01}\\\\\n",
        "a_{10} & a_{11}\n",
        "\\end{array}\\right)\\left(\\begin{array}{c}\n",
        "x_{0}\\\\\n",
        "x_{1}\n",
        "\\end{array}\\right)=\\left(\\begin{array}{c}\n",
        "b_{0}\\\\\n",
        "b_{1}\n",
        "\\end{array}\\right)$$\n",
        "\n",
        "La solución (en caso de existir) representa el **punto en el cual estas dos rectas se intersectan**. Por el contrario, en caso de que no exista solución eso significa que **ambas rectas son paralelas**, por lo que no existe intersección. Finalmente en caso de que ambas rectas no sean linealmente independientes, podemos decir que **existe una infinidad de soluciones** al sistema.\n",
        "\n",
        "# Ejemplo\n",
        "\n",
        "Sea el sistema lineal\n",
        "\n",
        "$$\n",
        "\\begin{matrix}\n",
        "3 x_0 + 2 x_1 = 2 \\\\\n",
        "2 x_0 + 6 x_1 = -8\n",
        "\\end{matrix}\n",
        "$$\n",
        "\n",
        "O en su representación matricial $A\\vec{x}=\\vec{b}$\n",
        "\n",
        "$$\\left(\\begin{array}{cc}\n",
        "3 & 2\\\\\n",
        "2 & 6\n",
        "\\end{array}\\right)\\left(\\begin{array}{c}\n",
        "x_{0}\\\\\n",
        "x_{1}\n",
        "\\end{array}\\right)=\\left(\\begin{array}{c}\n",
        "2\\\\\n",
        "-8\n",
        "\\end{array}\\right)$$\n",
        "\n",
        "Las ecuaciones de las rectas se pueden escribir como:\n",
        "\n",
        "$$\n",
        "\\begin{array}{ccc}\n",
        "\\dfrac{3}{2}x_0 + x_1 = \\dfrac{2}{2} \\\\\n",
        "\\dfrac{2}{6}x_0 + x_1 = -\\dfrac{8}{6}\n",
        "\\end{array} \\Longrightarrow\n",
        "\\begin{array}{ccc}\n",
        "y_0 = m_0 x + b_0 \\\\\n",
        "y_1 = m_1 x + b_1\n",
        "\\end{array} \\text{ donde }\n",
        "\\begin{array}{ccc}\n",
        "m_0 = -\\dfrac{3}{2} b_0 = 1 \\\\\n",
        "m_1 = -\\dfrac{2}{6} b_1 = -\\dfrac{8}{6}\n",
        "\\end{array}\n",
        "$$"
      ]
    },
    {
      "cell_type": "code",
      "metadata": {
        "id": "wwG1EIa_Unfo",
        "colab_type": "code",
        "colab": {
          "base_uri": "https://localhost:8080/",
          "height": 315
        },
        "outputId": "6e987e2c-6158-4280-860f-7666fecfef99"
      },
      "source": [
        "import numpy as np\n",
        "import matplotlib.pyplot as plt\n",
        "%matplotlib inline\n",
        "\n",
        "# definicion de las pendientes y ordenada al origen\n",
        "m0 = -3/2\n",
        "b0 = 1\n",
        "m1 = -2/6\n",
        "b1 = -8/6\n",
        "# dominio en el cual se genera la grafica\n",
        "x = np.linspace(0,3,10)\n",
        "# definicion de las rectas\n",
        "y0 = m0 * x + b0\n",
        "y1 = m1 * x + b1 \n",
        "# se grafican ambas rectas\n",
        "plt.plot(x,y0,label = '$3x_0+2x_1=2$')\n",
        "plt.plot(x,y1,label = '$2x_0+6x_1=-8$')\n",
        "plt.ylim(-3,0)\n",
        "plt.xlabel('$x_0$')\n",
        "plt.ylabel('$x_1$')\n",
        "plt.title('Cruce de rectas')\n",
        "plt.grid()\n",
        "plt.legend()"
      ],
      "execution_count": null,
      "outputs": [
        {
          "output_type": "execute_result",
          "data": {
            "text/plain": [
              "<matplotlib.legend.Legend at 0x7f7e6e3f77f0>"
            ]
          },
          "metadata": {
            "tags": []
          },
          "execution_count": 3
        },
        {
          "output_type": "display_data",
          "data": {
            "image/png": "[encoded data removed]",
            "text/plain": [
              "<Figure size 432x288 with 1 Axes>"
            ]
          },
          "metadata": {
            "tags": [],
            "needs_background": "light"
          }
        }
      ]
    },
    {
      "cell_type": "markdown",
      "metadata": {
        "id": "ytUMXA5AVpVM",
        "colab_type": "text"
      },
      "source": [
        "Al resolver el sistema de ecuaciones obtenemos el punto en cual ambas rectas se intersectan"
      ]
    },
    {
      "cell_type": "code",
      "metadata": {
        "id": "g3nMJhUgVvxz",
        "colab_type": "code",
        "colab": {
          "base_uri": "https://localhost:8080/",
          "height": 423
        },
        "outputId": "05e70d03-1f88-42d3-a18b-f39fe00b09df"
      },
      "source": [
        "# definicion del sistema de ecuaciones\n",
        "A = np.matrix([[3, 2],[2,6]] )\n",
        "b = np.array([2,-8])\n",
        "print(\"Matriz A : \\n\",A)\n",
        "print(\"Vector b : \\n\", b)\n",
        "# solucion del sistema empleando numpy\n",
        "sol = np.linalg.solve(A,b)\n",
        "print(\"Solución del sistema: \", sol)\n",
        "# grafica de ambas rectas y solución del sistema\n",
        "plt.plot(x,y0,label = '$3x_0+2x_1=2$')\n",
        "plt.plot(x,y1,label = '$2x_0+6x_1=-8$')\n",
        "plt.plot(sol[0],sol[1],'ro')\n",
        "plt.ylim(-3,0)\n",
        "plt.xlabel('$x_0$')\n",
        "plt.ylabel('$x_1$')\n",
        "plt.title('Cruce de rectas')\n",
        "plt.grid()\n",
        "plt.legend()"
      ],
      "execution_count": null,
      "outputs": [
        {
          "output_type": "stream",
          "text": [
            "Matriz A : \n",
            " [[3 2]\n",
            " [2 6]]\n",
            "Vector b : \n",
            " [ 2 -8]\n",
            "Solución del sistema:  [ 2. -2.]\n"
          ],
          "name": "stdout"
        },
        {
          "output_type": "execute_result",
          "data": {
            "text/plain": [
              "<matplotlib.legend.Legend at 0x7f7e6de03a58>"
            ]
          },
          "metadata": {
            "tags": []
          },
          "execution_count": 2
        },
        {
          "output_type": "display_data",
          "data": {
            "image/png": "[encoded data removed]",
            "text/plain": [
              "<Figure size 432x288 with 1 Axes>"
            ]
          },
          "metadata": {
            "tags": [],
            "needs_background": "light"
          }
        }
      ]
    },
    {
      "cell_type": "markdown",
      "metadata": {
        "id": "9Qtq1j4CXWyP",
        "colab_type": "text"
      },
      "source": [
        "# Interpretación general\n",
        "\n",
        "Ya se vio que la solución de un sistema de 2 ecuaciones lineales con 2 incognitas representa **el punto en $\\mathbb{R}^{2}$ donde ambas rectas se intersectan**, por otro lado, la solución de unsistema de 3 ecuaciones lineales con 3 incognitas representa **el punto en $\\mathbb{R}^{3}$** donde se genera de la intersección de los 3 planos. De manera general podemos decir que la solución de un sistema de n-ecuaciones lineales con n-incognitas representa el vector $\\vec{x} \\in \\mathbb{R}^{n}$ donde se da la intersección de los subespacios generados por los vectores columna de la matriz $A\\in M_{n\\times n}$."
      ]
    },
    {
      "cell_type": "markdown",
      "metadata": {
        "id": "Y7RZBtgJx0LV",
        "colab_type": "text"
      },
      "source": [
        "## Inversa de la matriz A\n",
        "\n",
        "En caso de que el sistema $A\\vec{x}=\\vec{b}$ tenga solución es decir que el determinante de la matriz A sea diferente de cero, un camino para resolver este sistema es mediante la inversa de A, es decir.\n",
        "\n",
        "$$A\\vec{x}=\\vec{b}$$\n",
        "\n",
        "Por lo tanto veamos esto con un ejemplo sencillo, supongamos que tenemos el sistema de ecuaciones lineales\n",
        "\n",
        "$$3w+9y-10z=24$$\n",
        "$$w-y+4z=-4$$\n",
        "$$10w-2y+8z=20$$\n",
        "\n",
        "Este sistema se puede resolver de muchas forma, sin embargo vamos a usar python para mostrar el resultado."
      ]
    },
    {
      "cell_type": "code",
      "metadata": {
        "id": "ckrHrPOP0Boh",
        "colab_type": "code",
        "colab": {
          "base_uri": "https://localhost:8080/",
          "height": 233
        },
        "outputId": "4808de49-901e-46c6-b2f1-27248140a444"
      },
      "source": [
        "import numpy as np\n",
        "\n",
        "#Se define los valores de la matriz A\n",
        "A = np.matrix([[3,9,-10],[1,-6,4],[10,-2,8]])\n",
        "print(A)\n",
        "\n",
        "#Se definen los valores del vector b\n",
        "b = np.matrix([[24],[-4],[20]])\n",
        "print(b)\n",
        "\n",
        "#Se resuelve el sistema mediante numpy\n",
        "x = np.linalg.solve(A, b)\n",
        "print(x)\n",
        "\n",
        "#Comprobamos el resultado\n",
        "print(np.dot(A, x))"
      ],
      "execution_count": null,
      "outputs": [
        {
          "output_type": "stream",
          "text": [
            "[[  3   9 -10]\n",
            " [  1  -6   4]\n",
            " [ 10  -2   8]]\n",
            "[[24]\n",
            " [-4]\n",
            " [20]]\n",
            "[[ 2.99029126]\n",
            " [ 0.40776699]\n",
            " [-1.13592233]]\n",
            "[[24.]\n",
            " [-4.]\n",
            " [20.]]\n"
          ],
          "name": "stdout"
        }
      ]
    },
    {
      "cell_type": "markdown",
      "metadata": {
        "id": "Nju-undbyc7z",
        "colab_type": "text"
      },
      "source": [
        "## Inconveniente del cálculo de la inversa de una matriz\n",
        "\n",
        "Generalmente el cálculo de la inversa de una matriz involucra el cálculo del determinante de la misma, lo cual en terminos computacionales (y en cálculos en general) resulta muy costoso, de hecho se puede mostrar que el costo del cálculo de la inversa de una matriz es de orden exponencial, lo que significa que es demasiado costoso realizar este cálculo.\n",
        "\n",
        "Es por este motvio que existen alternativas al cálculo de la matriz inversa, para resolver un sistema lineal de ecuaciones del tipo $A\\vec{x}=\\vec{b}$ tales como:\n",
        "\n",
        "*   Factorización LU.\n",
        "*   Factorización QR.\n",
        "*   Cholesky."
      ]
    }
  ]
}