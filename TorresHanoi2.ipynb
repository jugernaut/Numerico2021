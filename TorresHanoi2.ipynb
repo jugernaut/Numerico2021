{
  "nbformat": 4,
  "nbformat_minor": 0,
  "metadata": {
    "colab": {
      "name": "TorresHanoi2.ipynb",
      "provenance": [],
      "authorship_tag": "ABX9TyNn7aMdA7LVjg3dqUCYa/S6",
      "include_colab_link": true
    },
    "kernelspec": {
      "name": "python3",
      "display_name": "Python 3"
    }
  },
  "cells": [
    {
      "cell_type": "markdown",
      "metadata": {
        "id": "view-in-github",
        "colab_type": "text"
      },
      "source": [
        "<a href=\"https://colab.research.google.com/github/jugernaut/Numerico2021/blob/master/TorresHanoi2.ipynb\" target=\"_parent\"><img src=\"https://colab.research.google.com/assets/colab-badge.svg\" alt=\"Open In Colab\"/></a>"
      ]
    },
    {
      "cell_type": "markdown",
      "metadata": {
        "id": "oDiIM4pIaWOe",
        "colab_type": "text"
      },
      "source": [
        "# Torres de Hanoi\n",
        "\n",
        "El algoritmo para resolver las torres de Hanoi es un ejemplo ampliamente conocido en el contexto computacional.\n",
        "\n",
        "Es por este motivo que en este documento se parte del hecho que el lector conoce tanto el planteamiento, como el algoritmo iterativo y recursivo.\n",
        "\n",
        "Dado estos antecedentes procedemos a definir la función de recurrencia, para poder identificar a que orden de complejidad pertenece este algoritmo recursivo."
      ]
    },
    {
      "cell_type": "markdown",
      "metadata": {
        "id": "DBFJ7LfrarLa",
        "colab_type": "text"
      },
      "source": [
        "## Algoritmo básico.\n",
        "\n",
        "Para el caso cuando solo se tiene un disco, basta con pasar el disco en cuestión a la pila final. Lo que toma un solo movimiento.\n",
        "\n",
        "Para el caso de 2 discos, basta con mover el disco 1 (disco de diámetro mas pequeño, D1), a la pila auxiliar y D2 a la pila final. Finalmente D1 a la pila final (sobre D2). Con lo que ya se logro el objetivo y todos los discos están en la pila final. Esto tomo 3 movimientos.\n",
        "\n",
        "Cuando se tiene 3 discos, caemos en el caso de mover 2 discos a la pila auxiliar, mover un disco a la pila final y por ultimo mover 2 discos de la pila auxiliar a la pila final. Es decir 7 movimientos.\n",
        "\n",
        "## Algoritmo recursivo"
      ]
    },
    {
      "cell_type": "code",
      "metadata": {
        "id": "HHVBXkHadoVq",
        "colab_type": "code",
        "colab": {
          "base_uri": "https://localhost:8080/",
          "height": 538
        },
        "outputId": "520fba1f-5a63-4ee0-c3a6-1259c585889c"
      },
      "source": [
        "# Algoritmo recursivo que resuelve el problema de las torres de Hanoi\n",
        "def torre_Hanoi(discos, torre_Inicial, torre_Auxiliar, torre_Final):\n",
        "  if(discos <=  1):\n",
        "    print('Disco ' , str(discos) , \" de \" , torre_Inicial , \" a \" , torre_Final)\n",
        "  else:\n",
        "    torre_Hanoi(discos-1, torre_Inicial, torre_Final, torre_Auxiliar)\n",
        "    print ('Disco ' , str(discos) , \" de \" , torre_Inicial , \" a \" , torre_Final)\n",
        "    torre_Hanoi(discos-1, torre_Auxiliar, torre_Inicial, torre_Final)\n",
        "\n",
        "discos = 5\n",
        "torre_Hanoi(discos, 'torre Inicial', 'torre Auxiliar', 'torre Final')"
      ],
      "execution_count": null,
      "outputs": [
        {
          "output_type": "stream",
          "text": [
            "Disco  1  de  torre Inicial  a  torre Final\n",
            "Disco  2  de  torre Inicial  a  torre Auxiliar\n",
            "Disco  1  de  torre Final  a  torre Auxiliar\n",
            "Disco  3  de  torre Inicial  a  torre Final\n",
            "Disco  1  de  torre Auxiliar  a  torre Inicial\n",
            "Disco  2  de  torre Auxiliar  a  torre Final\n",
            "Disco  1  de  torre Inicial  a  torre Final\n",
            "Disco  4  de  torre Inicial  a  torre Auxiliar\n",
            "Disco  1  de  torre Final  a  torre Auxiliar\n",
            "Disco  2  de  torre Final  a  torre Inicial\n",
            "Disco  1  de  torre Auxiliar  a  torre Inicial\n",
            "Disco  3  de  torre Final  a  torre Auxiliar\n",
            "Disco  1  de  torre Inicial  a  torre Final\n",
            "Disco  2  de  torre Inicial  a  torre Auxiliar\n",
            "Disco  1  de  torre Final  a  torre Auxiliar\n",
            "Disco  5  de  torre Inicial  a  torre Final\n",
            "Disco  1  de  torre Auxiliar  a  torre Inicial\n",
            "Disco  2  de  torre Auxiliar  a  torre Final\n",
            "Disco  1  de  torre Inicial  a  torre Final\n",
            "Disco  3  de  torre Auxiliar  a  torre Inicial\n",
            "Disco  1  de  torre Final  a  torre Auxiliar\n",
            "Disco  2  de  torre Final  a  torre Inicial\n",
            "Disco  1  de  torre Auxiliar  a  torre Inicial\n",
            "Disco  4  de  torre Auxiliar  a  torre Final\n",
            "Disco  1  de  torre Inicial  a  torre Final\n",
            "Disco  2  de  torre Inicial  a  torre Auxiliar\n",
            "Disco  1  de  torre Final  a  torre Auxiliar\n",
            "Disco  3  de  torre Inicial  a  torre Final\n",
            "Disco  1  de  torre Auxiliar  a  torre Inicial\n",
            "Disco  2  de  torre Auxiliar  a  torre Final\n",
            "Disco  1  de  torre Inicial  a  torre Final\n"
          ],
          "name": "stdout"
        }
      ]
    },
    {
      "cell_type": "markdown",
      "metadata": {
        "id": "XspmW-zTXMoT",
        "colab_type": "text"
      },
      "source": [
        "# Análisis\n",
        "\n",
        "Dada la descripción básica (y el código del algoritmo) podemos concluir que para $n-discos$ tomara **$T(n-1)$ movimientos**, mas **un movimiento**, más **$T(n-1)$ movimientos**.\n",
        "\n",
        "Lo cual nos lleva a definir la función de recurrencia de la siguiente forma.\n",
        "\n",
        "Función de recurrencia para el algoritmo de las torres de Hanoi:\n",
        "\n",
        "$$T(n)=\\begin{cases}\n",
        "1 & n=1\\\\\n",
        "2T(n-1)+1 & n\\geq2\n",
        "\\end{cases}$$\n",
        "\n",
        "Con lo que podemos concluir que..."
      ]
    },
    {
      "cell_type": "markdown",
      "metadata": {
        "id": "XkAP9DWqYoDR",
        "colab_type": "text"
      },
      "source": [
        "## Demostración del orden de complejidad al que pertenece este algoritmo\n",
        "\n",
        "Sea $T(n)$ el número de movimientos que le toma al algoritmo anterior cumplir con su objetivo y dada la función de recurrencia P.D. $T(n)=2^{n}-1$.\n",
        "\n",
        "$$\\begin{eqnarray*}\n",
        "T(n)\t& = &\t2T(n-1)+1 \\\\\n",
        "\t& = &\t2(2T(n-2)+1)+1.....Funci\\acute{o}n\\,de\\,recurrencia \\\\\n",
        "\t& = &\t2^{2}T(n-2)+2+1.......Algebra\\,elemental \\\\\n",
        "\t& = &\t2^{2}(2T(n-3)+1)+2+1 \\\\\n",
        "k-veces & \\vdots & \\\\\n",
        "\t& = &\t2^{k}T(n-k)+2^{k-1}+\\cdots+2+1 \\\\\n",
        "k=n-1\t\t& \\vdots & \\\\\n",
        "\t& = &\t2^{n-1}T(n-(n-1))+2^{n-1-1}+\\cdots+2+1 \\\\\n",
        "\t& = &\t2^{n-1}T(1)+2^{n-2}+\\cdots+2+1........T(1)=1 \\\\\n",
        "\t& = &\t2^{n-1}+2^{n-2}+\\cdots+2+1......(sumatoria) \\\\\n",
        "\t& = &\t2^{n}-1......\\square \\\\\n",
        "\\end{eqnarray*}$$"
      ]
    },
    {
      "cell_type": "markdown",
      "metadata": {
        "id": "ZUHmNPcNf79c",
        "colab_type": "text"
      },
      "source": [
        "# Cota superior asintótica\n",
        "\n",
        "La cota superior asintótica (O grande) es una forma de clasificar a los algoritmos de acuerdo a su comportamiento y desempeño.\n",
        "\n",
        "Se usa en todas las ramas de las ciencias de computación ya que con base en esta medida (y algunas otras) podemos identificar que tan bueno o malo es nuestro algoritmo comparado con otros.\n",
        "\n",
        "## Definición.\n",
        "Cota superior asintótica: sea $g\\left(x\\right)$ una función continua y $f\\left(x\\right)$ la función que describe el comportamiento de nuestro algoritmo, diremos que $f$ pertenece al orden $g$ si.\n",
        "\n",
        "$$O\\left(g\\left(x\\right)\\right)=\\left\\{ f\\left(x\\right):\\exists\\,x_{0},c>0\\mid\\forall x\\geq x_{0}>0\\colon0\\leq\\left|f\\left(x\\right)\\right|\\leq c\\left|g\\left(x\\right)\\right|\\right\\}$$ \n",
        "\n",
        "\n",
        "## Orden de complejidad computacional\n",
        "\n",
        "Dada la demostración anterior podemos concluir que el orden complejidad al que pertenece este algoritmo es exponencial.\n",
        "\n",
        "Es decir $T(n)\\in O(2^{n})$ con respecto al tiempo, el número de movimientos u operaciones que le toma a este algoritmo devolver un resultado.\n",
        "\n",
        "## ¿Para que me sirve conocer a que orden de complejidad al que pertenece un algoritmo?\n",
        "\n",
        "Ya que conocemos la cota superior asintótica, es decir el orden de complejidad al que pertenece este algoritmo podemos resolver las dudas planteadas inicialmente. Por ejemplo, ¿tiene sentido intentar resolver este problema para **25 discos**?. Supongamos que tenemos una computadora que realiza **un movimiento de disco por segundo** (en realidad las computadoras actuales realizan millones de operaciones por segundo) entonces ya que conocemos la cota podemos asumir que para 25 discos. \n",
        "\n",
        "$$\\begin{array}{ccc}\n",
        "T\\left(n\\right)=T\\left(25\\right)=2^{25}-1 & = & 3.3554431\\times10{{}^7}\\qquad segundos\\\\\n",
        "3.3554431\\times10{{}^7}\\qquad segundos & = & 9.320675278\\times10{{}^3}\\qquad horas\\\\\n",
        "9.320675278\\times10{{}^3}\\qquad horas & = & 3.883614699\\times10{{}^2}\\qquad d\\acute{\\imath}as\\\\\n",
        "3.883614699\\times10{{}^2}\\qquad d\\acute{\\imath}as & = & 1\\qquad a\\tilde{n}o!!!\n",
        "\\end{array}$$\n",
        "\n",
        "Pero.....¿Qué se puede decir con respecto a la cota superior asintótica respecto a la memoria?.\n",
        "\n",
        "¿La versión recursiva e iterativa de este algoritmo pertenecen a los mismos ordenes de complejidad tanto en **tiempo (operaciones)**, como en **espacio (memoria)**?."
      ]
    },
    {
      "cell_type": "markdown",
      "metadata": {
        "id": "znYoAx6chSMj",
        "colab_type": "text"
      },
      "source": [
        "# Referencias  \n",
        "\n",
        "*   Thomas H. Cormen, Introduction to Algorithms.\n",
        "*   Libro Web, Introduccion a Python.\n",
        "*   Daniel T. Joyce, Object-Oriented Data Structures.\n",
        "*   John C. Mitchell, Concepts in programing Languages."
      ]
    }
  ]
}